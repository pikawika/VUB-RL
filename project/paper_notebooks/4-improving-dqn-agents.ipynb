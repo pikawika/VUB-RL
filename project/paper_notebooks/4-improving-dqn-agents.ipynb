{
 "cells": [
  {
   "cell_type": "markdown",
   "id": "337221df",
   "metadata": {},
   "source": [
    "# Improving DQN agents in connect four\n",
    "\n",
    "In the previous notebook, `3-learning-connect-four-dqn-agents-tianshou.ipynb`, we trained two DQN agents.\n",
    "We noticed the strategy of both agents just consisted of placing coins in a column in the hopes that the other would not do that.\n",
    "In fact, this was the same behaviour as the DQN vs random agent.\n",
    "\n",
    "In this notebook we aim to optimize this behaviour.\n"
   ]
  },
  {
   "cell_type": "markdown",
   "id": "b5341c6d",
   "metadata": {},
   "source": [
    "<hr><hr>\n",
    "\n",
    "## Table of Contents\n",
    "\n",
    "- Contact information\n",
    "- Checking requirements\n",
    "  - Correct Anaconda environment\n",
    "  - Correct module access\n",
    "  - Correct CUDA access\n",
    "- Training two DQN agents on connect four Gym\n",
    "  - Create the Gym environment\n",
    "  - Building the environment\n",
    "  - Implementing the DQN policy\n",
    "  - Building agents\n",
    "  - Function for letting agents learn\n",
    "  - Function for watching learned agent\n",
    "  - Doing the experiment\n",
    "- Discussion"
   ]
  },
  {
   "cell_type": "markdown",
   "id": "292165d3",
   "metadata": {},
   "source": [
    "<hr><hr>\n",
    "\n",
    "## Contact information\n",
    "\n",
    "| Name             | Student ID | VUB mail                                                  | Personal mail                                               |\n",
    "| ---------------- | ---------- | --------------------------------------------------------- | ----------------------------------------------------------- |\n",
    "| Lennert Bontinck | 0568702    | [lennert.bontinck@vub.be](mailto:lennert.bontinck@vub.be) | [info@lennertbontinck.com](mailto:info@lennertbontinck.com) |\n",
    "\n"
   ]
  },
  {
   "cell_type": "markdown",
   "id": "7a405d24",
   "metadata": {},
   "source": [
    "<hr><hr>\n",
    "\n",
    "## Checking requirements\n",
    "\n",
    "### Correct Anaconda environment\n",
    "\n",
    "The `rl-project` anaconda environment should be active to ensure proper support. Installation instructions are available on [the GitHub repository of the RL course project and homeworks](https://github.com/pikawika/vub-rl)."
   ]
  },
  {
   "cell_type": "code",
   "execution_count": 2,
   "id": "334d5fd4",
   "metadata": {},
   "outputs": [
    {
     "name": "stdout",
     "output_type": "stream",
     "text": [
      "Active environment: rl-project\n",
      "Correct environment: True\n",
      "\n",
      "Python version: 3.8.10\n",
      "Correct Python version: True\n"
     ]
    }
   ],
   "source": [
    "####################################################\n",
    "# CHECKING FOR RIGHT ANACONDA ENVIRONMENT\n",
    "####################################################\n",
    "\n",
    "import os\n",
    "from platform import python_version\n",
    "\n",
    "print(f\"Active environment: {os.environ['CONDA_DEFAULT_ENV']}\")\n",
    "print(f\"Correct environment: {os.environ['CONDA_DEFAULT_ENV'] == 'rl-project'}\")\n",
    "print(f\"\\nPython version: {python_version()}\")\n",
    "print(f\"Correct Python version: {python_version() == '3.8.10'}\")"
   ]
  },
  {
   "cell_type": "markdown",
   "id": "22166668",
   "metadata": {},
   "source": [
    "<hr>\n",
    "\n",
    "### Correct module access\n",
    "\n",
    "The following code block will load in all required modules and show if the versions match those that are recommended."
   ]
  },
  {
   "cell_type": "code",
   "execution_count": 4,
   "id": "ab632204",
   "metadata": {},
   "outputs": [
    {
     "name": "stdout",
     "output_type": "stream",
     "text": [
      "Matplotlib version (3.5.1 recommended): 3.5.1\n",
      "Pygame version (2.1.2 recommended): 2.1.2\n",
      "Gym version (0.21.0 recommended): 0.21.0\n",
      "Tianshou version (0.4.8 recommended): 0.4.8\n",
      "Torch version (1.12.0 recommended): 1.12.0.dev20220520+cu116\n"
     ]
    }
   ],
   "source": [
    "####################################################\n",
    "# LOADING MODULES\n",
    "####################################################\n",
    "\n",
    "# Allow reloading of libraries\n",
    "import importlib\n",
    "\n",
    "# Plotting\n",
    "import matplotlib; print(f\"Matplotlib version (3.5.1 recommended): {matplotlib.__version__}\")\n",
    "import matplotlib.pyplot as plt\n",
    "\n",
    "# Argparser\n",
    "import argparse\n",
    "\n",
    "# More data types\n",
    "import typing\n",
    "import numpy as np\n",
    "\n",
    "# Pygame\n",
    "import pygame; print(f\"Pygame version (2.1.2 recommended): {pygame.__version__}\")\n",
    "\n",
    "# Gym environment\n",
    "import gym; print(f\"Gym version (0.21.0 recommended): {gym.__version__}\")\n",
    "\n",
    "# Tianshou for RL algorithms\n",
    "import tianshou as ts; print(f\"Tianshou version (0.4.8 recommended): {ts.__version__}\")\n",
    "\n",
    "# Torch is a popular DL framework\n",
    "import torch; print(f\"Torch version (1.12.0 recommended): {torch.__version__}\")\n",
    "\n",
    "# PPrint is a pretty print for variables\n",
    "from pprint import pprint\n",
    "\n",
    "# Our custom connect four gym environment\n",
    "import sys\n",
    "sys.path.append('../')\n",
    "import gym_connect4_pygame.envs.ConnectFourPygameEnvV2 as cfgym\n",
    "importlib.invalidate_caches()\n",
    "importlib.reload(cfgym)\n",
    "\n",
    "# Time for allowing \"freezes\" in execution\n",
    "import time;\n",
    "\n",
    "# Allow for copying objects in a non reference manner\n",
    "import copy\n",
    "\n",
    "# Used for updating notebook display\n",
    "from IPython.display import clear_output"
   ]
  },
  {
   "cell_type": "markdown",
   "id": "f2617a21",
   "metadata": {},
   "source": [
    "<hr>\n",
    "\n",
    "### Correct CUDA access\n",
    "\n",
    "The installation instructions specify how to install PyTorch with CUDA 11.6.\n",
    "The following code block tests if this was done successfully."
   ]
  },
  {
   "cell_type": "code",
   "execution_count": 4,
   "id": "da9f5ed0",
   "metadata": {},
   "outputs": [
    {
     "name": "stdout",
     "output_type": "stream",
     "text": [
      "CUDA is available: True\n",
      "\n",
      "Amount of connected devices supporting CUDA: 1\n",
      "\n",
      "Current CUDA device: 0\n",
      "Cuda device 0 name: NVIDIA GeForce GTX 970\n"
     ]
    }
   ],
   "source": [
    "####################################################\n",
    "# CUDA VALIDATION\n",
    "####################################################\n",
    "\n",
    "# Check cuda available\n",
    "print(f\"CUDA is available: {torch.cuda.is_available()}\")\n",
    "\n",
    "# Show cuda devices\n",
    "print(f\"\\nAmount of connected devices supporting CUDA: {torch.cuda.device_count()}\")\n",
    "\n",
    "# Show current cuda device\n",
    "print(f\"\\nCurrent CUDA device: {torch.cuda.current_device()}\")\n",
    "\n",
    "# Show cuda device name\n",
    "print(f\"Cuda device 0 name: {torch.cuda.get_device_name(0)}\")"
   ]
  },
  {
   "cell_type": "markdown",
   "id": "826657c4",
   "metadata": {},
   "source": [
    "<hr><hr>\n",
    "\n",
    "## Training two DQN agents on connect four Gym\n",
    "\n",
    "Our connect four gym setup requires two agents, one for each player.\n",
    "To reduce complexity, agents will always play as the same player, e.g. always as player 1.\n",
    "It is important to note that connect four is a *solved game*.\n",
    "According to [The Washington Post](https://www.washingtonpost.com/news/wonk/wp/2015/05/08/how-to-win-any-popular-game-according-to-data-scientists/):\n",
    "\n",
    "> Connect Four is what mathematicians call a \"solved game,\" meaning you can play it perfectly every time, no matter what your opponent does. You will need to get the first move, but as long as you do so, you can always win within 41 moves.\n",
    "\n",
    "<hr>\n",
    "\n",
    "### Create the Gym environment\n",
    "\n",
    "Our environment used differs from the last notebook, namely, we give a reward just for playing a move in the hope this would prolong games and thus make the agents combat the other agents moves."
   ]
  },
  {
   "cell_type": "code",
   "execution_count": 5,
   "id": "93a65ac2",
   "metadata": {},
   "outputs": [
    {
     "name": "stdout",
     "output_type": "stream",
     "text": [
      "Observation space: Dict(action_mask:Box([0 0 0 0 0 0 0], [1 1 1 1 1 1 1], (7,), int8), observation:Box([[0 0 0 0 0 0 0]\n",
      " [0 0 0 0 0 0 0]\n",
      " [0 0 0 0 0 0 0]\n",
      " [0 0 0 0 0 0 0]\n",
      " [0 0 0 0 0 0 0]\n",
      " [0 0 0 0 0 0 0]], [[2 2 2 2 2 2 2]\n",
      " [2 2 2 2 2 2 2]\n",
      " [2 2 2 2 2 2 2]\n",
      " [2 2 2 2 2 2 2]\n",
      " [2 2 2 2 2 2 2]\n",
      " [2 2 2 2 2 2 2]], (6, 7), int8))\n",
      "\n",
      "Action space: Discrete(7)\n",
      "\n",
      " Initial player id:\n",
      "player_1\n",
      "\n",
      " Initial observation:\n",
      "[[0. 0. 0. 0. 0. 0. 0.]\n",
      " [0. 0. 0. 0. 0. 0. 0.]\n",
      " [0. 0. 0. 0. 0. 0. 0.]\n",
      " [0. 0. 0. 0. 0. 0. 0.]\n",
      " [0. 0. 0. 0. 0. 0. 0.]\n",
      " [0. 0. 0. 0. 0. 0. 0.]]\n",
      "\n",
      " Initial mask:\n",
      "[True, True, True, True, True, True, True]\n"
     ]
    }
   ],
   "source": [
    "####################################################\n",
    "# SETTING UP THE GYM ENVIRONMENT\n",
    "####################################################\n",
    "\n",
    "# Create an instance of the environment to be used\n",
    "# V2 is used as this contains edits for Tianshou\n",
    "# We use the Tianshou PettingZooEnv wrapper for multiagent support\n",
    "# We now reward the agent 1 point for making a move, trying to boost his choice for prolonging games (e.g. countering the other agent)\n",
    "# To make this work, we also need to punish invalid moves harder as to give invalid moves still a net negative\n",
    "env = ts.env.PettingZooEnv(cfgym.env(reward_move= 1,\n",
    "                                     reward_invalid= -3))\n",
    "\n",
    "# Get information about the environment\n",
    "print(f\"Observation space: {env.observation_space}\")\n",
    "print(f\"\\nAction space: {env.action_space}\")\n",
    "\n",
    "# Reset the environment to start from a clean state, returns the initial observation\n",
    "observation = env.reset()\n",
    "\n",
    "print(\"\\n Initial player id:\")\n",
    "print(observation[\"agent_id\"])\n",
    "\n",
    "print(\"\\n Initial observation:\")\n",
    "print(observation[\"obs\"])\n",
    "\n",
    "print(\"\\n Initial mask:\")\n",
    "print(observation[\"mask\"])\n",
    "\n",
    "# Clean unused variables\n",
    "del observation\n",
    "del env"
   ]
  },
  {
   "cell_type": "markdown",
   "id": "bb9a7d4f",
   "metadata": {},
   "source": [
    "<hr>\n",
    "\n",
    "### Building the environment\n",
    "\n",
    "We build a simple function to get the environment the agent will play in.\n",
    "We now reward simply making a move with +1."
   ]
  },
  {
   "cell_type": "code",
   "execution_count": 6,
   "id": "c2b47a58",
   "metadata": {},
   "outputs": [],
   "source": [
    "####################################################\n",
    "# CONNECT FOUR V2 ENVIRONMENT\n",
    "####################################################\n",
    "\n",
    "def get_env():\n",
    "    \"\"\"\n",
    "    Returns the connect four gym environment V2 altered for Tianshou and Petting Zoo compatibility.\n",
    "    Already wrapped with a ts.env.PettingZooEnv wrapper.\n",
    "    \"\"\"\n",
    "    return ts.env.PettingZooEnv(cfgym.env(reward_move= 1))"
   ]
  },
  {
   "cell_type": "markdown",
   "id": "0bc7e7da",
   "metadata": {},
   "source": [
    "<hr>\n",
    "\n",
    "### Implementing the DQN policy\n",
    "\n",
    "The DQN policy for the agent is configured and set up below.\n",
    "This is identical to the previous notebook."
   ]
  },
  {
   "cell_type": "code",
   "execution_count": 7,
   "id": "539b56ff",
   "metadata": {},
   "outputs": [],
   "source": [
    "####################################################\n",
    "# DQN POLICY\n",
    "####################################################\n",
    "\n",
    "def cf_dqn_policy(state_shape: tuple,\n",
    "                  action_shape: tuple,\n",
    "                  optim: typing.Optional[torch.optim.Optimizer] = None,\n",
    "                  learning_rate: float =  0.0001,\n",
    "                  gamma: float = 0.9, # Smaller gamma favours \"faster\" win\n",
    "                  n_step: int = 3, # Number of steps to look ahead\n",
    "                  target_update_freq: int = 320,\n",
    "                  hidden_sizes: list = [128, 128, 128, 128]):\n",
    "    # Use cuda device if possible\n",
    "    device = 'cuda' if torch.cuda.is_available() else 'cpu'\n",
    "    \n",
    "    # Network to be used for DQN\n",
    "    ## Set to use the CUDA device if possible\n",
    "    net = ts.utils.net.common.Net(state_shape= state_shape,\n",
    "                                  action_shape= action_shape,\n",
    "                                  hidden_sizes= hidden_sizes,\n",
    "                                  device= device).to(device)\n",
    "    \n",
    "    # Default optimizer is an adam optimizer with the argparser learning rate\n",
    "    if optim is None:\n",
    "        optim = torch.optim.Adam(net.parameters(), lr= learning_rate)\n",
    "        \n",
    "    # Our agent DQN policy\n",
    "    return ts.policy.DQNPolicy(model= net,\n",
    "                               optim= optim,\n",
    "                               discount_factor= gamma,\n",
    "                               estimation_step= n_step,\n",
    "                               target_update_freq= target_update_freq)"
   ]
  },
  {
   "cell_type": "markdown",
   "id": "dd411318",
   "metadata": {},
   "source": [
    "<hr>\n",
    "\n",
    "### Building agents\n",
    "\n",
    "Identical to the previous notebook."
   ]
  },
  {
   "cell_type": "code",
   "execution_count": 8,
   "id": "f7ae27d2",
   "metadata": {},
   "outputs": [],
   "source": [
    "####################################################\n",
    "# AGENT CREATION\n",
    "####################################################\n",
    "\n",
    "def get_agents(agent_player1: typing.Optional[ts.policy.BasePolicy] = None,\n",
    "               agent_player2: typing.Optional[ts.policy.BasePolicy] = None,\n",
    "               optim: typing.Optional[torch.optim.Optimizer] = None,\n",
    "               resume_path_player_1: str = '', # Path to file to resume agent training from\n",
    "               resume_path_player_2: str = '', \n",
    "               ) -> typing.Tuple[ts.policy.BasePolicy, torch.optim.Optimizer, list]:\n",
    "    \"\"\"\n",
    "    Gets a multi agent policy manager, optimizer and player ids for the connect four V2 gym environment.\n",
    "    Per default this returns \n",
    "        - Multi agent manager for 2 agents using DQN\n",
    "        - Adam optimizer\n",
    "        - ['player_1', 'player_2'] from the connect four environment\n",
    "    \"\"\"\n",
    "    \n",
    "    # Get the environment to play in (Connect four gym V2)\n",
    "    env = get_env()\n",
    "    \n",
    "    # Get the observation space from the environment, depending on typo of space (ternary operator)\n",
    "    observation_space = env.observation_space['observation'] if isinstance(env.observation_space, gym.spaces.Dict) else env.observation_space\n",
    "    \n",
    "    # Set the arguments\n",
    "    state_shape = observation_space.shape or observation_space.n\n",
    "    action_shape = env.action_space.shape or env.action_space.n\n",
    "    \n",
    "    # Configure agent player 1 to be a DQN if no policy is passed.\n",
    "    if agent_player1 is None:\n",
    "        # Our agent1 uses a DQN policy\n",
    "        agent_player1 = cf_dqn_policy(state_shape= state_shape,\n",
    "                                      action_shape= action_shape,\n",
    "                                      optim= optim)\n",
    "        \n",
    "        # If we resume our agent we need to load the previous config\n",
    "        if resume_path_player_1:\n",
    "            agent_player1.load_state_dict(torch.load(resume_path_player_1))\n",
    "    \n",
    "    # Configure agent player 2 to be a DQN if no policy is passed.\n",
    "    if agent_player2 is None:\n",
    "        # Our agent1 uses a DQN policy\n",
    "        agent_player2 = cf_dqn_policy(state_shape= state_shape,\n",
    "                                      action_shape= action_shape,\n",
    "                                      optim= optim)\n",
    "        \n",
    "        # If we resume our agent we need to load the previous config\n",
    "        if resume_path_player_2:\n",
    "            agent_player2.load_state_dict(torch.load(resume_path_player_2))\n",
    "\n",
    "    # Both our agents are DQN agents by default\n",
    "    agents = [agent_player1, agent_player2]\n",
    "        \n",
    "    # Our policy depends on the order of the agents\n",
    "    policy = ts.policy.MultiAgentPolicyManager(agents, env)\n",
    "    \n",
    "    # Return our policy, optimizer and the available agents in the environment\n",
    "    # Per default: \n",
    "    #   - Multi agent manager for 2 agents using DQN\n",
    "    #   - Adam optimizer\n",
    "    #   - ['player_1', 'player_2'] from the connect four environment\n",
    "    \n",
    "    return policy, optim, env.agents"
   ]
  },
  {
   "cell_type": "markdown",
   "id": "95a8f3a6",
   "metadata": {},
   "source": [
    "<hr>\n",
    "\n",
    "### Function for letting agents learn\n",
    "\n",
    "Identical to the previous notebook."
   ]
  },
  {
   "cell_type": "code",
   "execution_count": 9,
   "id": "9a32c218",
   "metadata": {},
   "outputs": [],
   "source": [
    "####################################################\n",
    "# AGENT TRAINING\n",
    "####################################################\n",
    "\n",
    "def train_agent(filename: str = \"dqn_vs_dqn\",\n",
    "                agent_player1: typing.Optional[ts.policy.BasePolicy] = None,\n",
    "                agent_player2: typing.Optional[ts.policy.BasePolicy] = None,\n",
    "                optim: typing.Optional[torch.optim.Optimizer] = None,\n",
    "                training_env_num: int = 10,\n",
    "                testing_env_num: int = 10,\n",
    "                buffer_size: int = 2^14, # 16 384\n",
    "                batch_size: int = 64,\n",
    "                epochs: int = 50,\n",
    "                step_per_epoch: int = 1024,\n",
    "                step_per_collect: int = 10,\n",
    "                update_per_step: float = 0.1,\n",
    "                testing_eps: float = 0.05,\n",
    "                training_eps: float = 0.1,\n",
    "                ) -> typing.Tuple[dict, ts.policy.BasePolicy]:\n",
    "    \"\"\"\n",
    "    Trains two agents in the connect four V2 environment and saves their best model and logs.\n",
    "    Returns:\n",
    "        - result from offpolicy_trainer\n",
    "        - final version of agent 1\n",
    "        - final version of agent 2\n",
    "    \"\"\"\n",
    "\n",
    "    # ======== notebook specific =========\n",
    "    notebook_version = '4' # Used for foldering logs and models\n",
    "\n",
    "    # ======== environment setup =========\n",
    "    train_envs = ts.env.DummyVectorEnv([get_env for _ in range(training_env_num)])\n",
    "    test_envs = ts.env.DummyVectorEnv([get_env for _ in range(testing_env_num)])\n",
    "    \n",
    "    # set the seed for reproducibility\n",
    "    np.random.seed(1998)\n",
    "    torch.manual_seed(1998)\n",
    "    train_envs.seed(1998)\n",
    "    test_envs.seed(1998)\n",
    "\n",
    "    # ======== agent setup =========\n",
    "    # Gets our agents from the previously made function\n",
    "    # Per default: \n",
    "    #   - Multi agent manager for 2 agents using DQN\n",
    "    #   - Adam optimizer\n",
    "    #   - ['player_1', 'player_2'] from the connect four environment\n",
    "    policy, optim, agents = get_agents(agent_player1=agent_player1,\n",
    "                                       agent_player2=agent_player2,\n",
    "                                       optim=optim)\n",
    "\n",
    "    # ======== collector setup =========\n",
    "    # Make a collector for the training environments\n",
    "    train_collector = ts.data.Collector(policy= policy,\n",
    "                                        env= train_envs,\n",
    "                                        buffer= ts.data.VectorReplayBuffer(buffer_size, len(train_envs)),\n",
    "                                        exploration_noise= True)\n",
    "    \n",
    "    # Make a collector for the testing environments\n",
    "    test_collector = ts.data.Collector(policy= policy,\n",
    "                                       env= test_envs,\n",
    "                                       exploration_noise= True)\n",
    "    \n",
    "    # Uncomment below if you want to set epsilon in epsilon policy\n",
    "    # policy.set_eps(1)\n",
    "    \n",
    "    # Collect data fot the training evnironments\n",
    "    train_collector.collect(n_step= batch_size * training_env_num)\n",
    "    \n",
    "    # ======== ensure folders exist =========\n",
    "    if not os.path.exists(os.path.join('./logs', 'paper_notebooks', notebook_version, filename)):\n",
    "        os.makedirs(os.path.join('./logs', 'paper_notebooks', notebook_version, filename))\n",
    "    if not os.path.exists(os.path.join('./saved_variables', 'paper_notebooks', notebook_version, filename)):\n",
    "        os.makedirs(os.path.join('./saved_variables', 'paper_notebooks', notebook_version, filename))\n",
    "\n",
    "    # ======== tensorboard logging setup =========\n",
    "    # Allows to save the training progress to tensorboard compatable logs\n",
    "    log_path = os.path.join('./logs', 'paper_notebooks', notebook_version, filename)\n",
    "    writer = torch.utils.tensorboard.SummaryWriter(log_path)\n",
    "    logger = ts.utils.TensorboardLogger(writer)\n",
    "\n",
    "    # ======== callback functions used during training =========\n",
    "    # We want to save our best policy\n",
    "    def save_best_fn(policy):\n",
    "        \"\"\"\n",
    "        Callback to save the best model\n",
    "        \"\"\"\n",
    "        # Save best agent 1\n",
    "        model_save_path = os.path.join('./saved_variables', 'paper_notebooks', notebook_version, filename, 'best_policy_agent1.pth')\n",
    "        torch.save(policy.policies[agents[0]].state_dict(), model_save_path)\n",
    "        \n",
    "        # Save best agent 2\n",
    "        model_save_path = os.path.join('./saved_variables', 'paper_notebooks', notebook_version, filename, 'best_policy_agent2.pth')\n",
    "        torch.save(policy.policies[agents[1]].state_dict(), model_save_path)\n",
    "        \n",
    "        # Save agent2\n",
    "\n",
    "    def stop_fn(mean_rewards):\n",
    "        \"\"\"\n",
    "        Callback to stop training when we've reached the win rate\n",
    "        \"\"\"\n",
    "        return mean_rewards >= 7 # (win = 10, 70% win without invalid moves = mean of 7)\n",
    "\n",
    "    def train_fn(epoch, env_step):\n",
    "        \"\"\"\n",
    "        Callback before training\n",
    "        \"\"\"        \n",
    "        # Before training we want to configure the epsilon for the agents\n",
    "        # In general more exploratory than the test case\n",
    "        policy.policies[agents[0]].set_eps(training_eps)\n",
    "        policy.policies[agents[1]].set_eps(training_eps)\n",
    "\n",
    "    def test_fn(epoch, env_step):\n",
    "        \"\"\"\n",
    "        Callback beore testing\n",
    "        \"\"\"        \n",
    "        # Before testing we want to configure the epsilon for the agents\n",
    "        # In general more greedy than the train case but not\n",
    "        #   to avoid getting stuck on invalid moves\n",
    "        policy.policies[agents[0]].set_eps(testing_eps)\n",
    "        policy.policies[agents[1]].set_eps(testing_eps)\n",
    "\n",
    "    def reward_metric(rews):\n",
    "        \"\"\"\n",
    "        Callback for reward collection\n",
    "        \"\"\"\n",
    "        # We are interested in having a high total total reward,\n",
    "        #   as this would mean equally good agents.\n",
    "        return rews[:, 0] + rews[:, 1]\n",
    "\n",
    "    # trainer\n",
    "    result = ts.trainer.offpolicy_trainer(policy= policy,\n",
    "                                          train_collector= train_collector,\n",
    "                                          test_collector= test_collector,\n",
    "                                          max_epoch= epochs,\n",
    "                                          step_per_epoch= step_per_epoch,\n",
    "                                          step_per_collect= step_per_collect,\n",
    "                                          episode_per_test= testing_env_num,\n",
    "                                          batch_size= batch_size,\n",
    "                                          train_fn= train_fn,\n",
    "                                          test_fn= test_fn,\n",
    "                                          # Stop function to stop before specified amount of epochs\n",
    "                                          #stop_fn= stop_fn\n",
    "                                          save_best_fn= save_best_fn,\n",
    "                                          update_per_step= update_per_step,\n",
    "                                          logger= logger,\n",
    "                                          test_in_train= False,\n",
    "                                          reward_metric= reward_metric)\n",
    "    \n",
    "    # Save final agent 1\n",
    "    model_save_path = os.path.join('./saved_variables', 'paper_notebooks', notebook_version, filename, 'final_policy_agent1.pth')\n",
    "    torch.save(policy.policies[agents[0]].state_dict(), model_save_path)\n",
    "\n",
    "    # Save final agent 2\n",
    "    model_save_path = os.path.join('./saved_variables', 'paper_notebooks', notebook_version, filename, 'final_policy_agent2.pth')\n",
    "    torch.save(policy.policies[agents[1]].state_dict(), model_save_path)\n",
    "\n",
    "    return result, policy.policies[agents[0]], policy.policies[agents[1]]"
   ]
  },
  {
   "cell_type": "markdown",
   "id": "f161cc0f",
   "metadata": {},
   "source": [
    "<hr>\n",
    "\n",
    "### Function for watching learned agent\n",
    "\n",
    "Identical to the previous notebook."
   ]
  },
  {
   "cell_type": "code",
   "execution_count": 10,
   "id": "b526e5f0",
   "metadata": {},
   "outputs": [],
   "source": [
    "####################################################\n",
    "# WATCHING THE LEARNED POLICY IN ACTION\n",
    "####################################################\n",
    "\n",
    "def watch(numer_of_games:int = 3,\n",
    "          agent_player1: typing.Optional[ts.policy.BasePolicy] = None,\n",
    "          agent_player2: typing.Optional[ts.policy.BasePolicy] = None,\n",
    "          test_epsilon: float = 0.05, # For the watching we act completely greedy but low random for not getting stuck on invalid move\n",
    "          render_speed: float = 0.15, # Amount of seconds to update frame/ do a step\n",
    "          ) -> None:\n",
    "    \n",
    "    # Get the connect four V2 environment (must be a list)\n",
    "    env= ts.env.DummyVectorEnv([get_env])\n",
    "    \n",
    "    # Get the agents from the trained agents\n",
    "    policy, optim, agents = get_agents(agent_player1= agent_player1,\n",
    "                                       agent_player2= agent_player2)\n",
    "    \n",
    "    # Evaluate the policy\n",
    "    policy.eval()\n",
    "    \n",
    "    # Set the testing policy epsilon for our agents\n",
    "    policy.policies[agents[0]].set_eps(test_epsilon)\n",
    "    policy.policies[agents[1]].set_eps(test_epsilon)\n",
    "    \n",
    "    # Collect the test data\n",
    "    collector = ts.data.Collector(policy= policy,\n",
    "                                  env= env,\n",
    "                                  exploration_noise= True)\n",
    "    \n",
    "    # Render games in human mode to see how it plays\n",
    "    result = collector.collect(n_episode= numer_of_games, render= render_speed)\n",
    "    \n",
    "    # Close the environment aftering collecting the results\n",
    "    # This closes the pygame window after completion\n",
    "    env.close()\n",
    "    \n",
    "    # Get the rewards and length from the test trials\n",
    "    rewards, length = result[\"rews\"], result[\"lens\"]\n",
    "    \n",
    "    # Print the final reward for the first agent\n",
    "    print(f\"Average steps of game:  {length.mean()}\")\n",
    "    print(f\"Final mean reward agent 1: {rewards[:, 0].mean()}, std: {rewards[:, 0].std()}\")\n",
    "    print(f\"Final mean reward agent 2: {rewards[:, 1].mean()}, std: {rewards[:, 1].std()}\")"
   ]
  },
  {
   "cell_type": "markdown",
   "id": "c31784e9",
   "metadata": {},
   "source": [
    "<hr>\n",
    "\n",
    "### Doing the experiment\n",
    "\n",
    "We now do the experiment with using our previously created functions.\n",
    "We update some parameter settings to find if we can improve our DQN agents."
   ]
  },
  {
   "cell_type": "code",
   "execution_count": 11,
   "id": "93fe8961",
   "metadata": {
    "scrolled": true
   },
   "outputs": [
    {
     "name": "stderr",
     "output_type": "stream",
     "text": [
      "Epoch #1: 1030it [00:02, 348.17it/s, env_step=1030, len=7, n/ep=1, n/st=10, player_1/loss=95.820, player_2/loss=89.570, rew=54.00]\n"
     ]
    },
    {
     "name": "stdout",
     "output_type": "stream",
     "text": [
      "Epoch #1: test_reward: 66.200000 ± 19.338045, best_reward: 66.200000 ± 19.338045 in #1\n"
     ]
    },
    {
     "name": "stderr",
     "output_type": "stream",
     "text": [
      "Epoch #2: 1030it [00:02, 457.86it/s, env_step=2060, len=9, n/ep=1, n/st=10, player_1/loss=166.586, player_2/loss=281.772, rew=88.00]  \n"
     ]
    },
    {
     "name": "stdout",
     "output_type": "stream",
     "text": [
      "Epoch #2: test_reward: 95.000000 ± 68.171842, best_reward: 95.000000 ± 68.171842 in #2\n"
     ]
    },
    {
     "name": "stderr",
     "output_type": "stream",
     "text": [
      "Epoch #3: 1030it [00:02, 445.95it/s, env_step=3090, len=8, n/ep=2, n/st=10, player_1/loss=57.578, player_2/loss=1195.140, rew=79.00]\n"
     ]
    },
    {
     "name": "stdout",
     "output_type": "stream",
     "text": [
      "Epoch #3: test_reward: -5711.400000 ± 17437.443787, best_reward: 95.000000 ± 68.171842 in #2\n"
     ]
    },
    {
     "name": "stderr",
     "output_type": "stream",
     "text": [
      "Epoch #4: 1030it [00:02, 426.91it/s, env_step=4120, len=8, n/ep=0, n/st=10, player_1/loss=93.654, player_2/loss=52.165, rew=70.00]\n"
     ]
    },
    {
     "name": "stdout",
     "output_type": "stream",
     "text": [
      "Epoch #4: test_reward: 64.200000 ± 15.580757, best_reward: 95.000000 ± 68.171842 in #2\n"
     ]
    },
    {
     "name": "stderr",
     "output_type": "stream",
     "text": [
      "Epoch #5: 1030it [00:02, 426.69it/s, env_step=5150, len=7, n/ep=3, n/st=10, player_1/loss=89.072, player_2/loss=41.639, rew=54.00]\n"
     ]
    },
    {
     "name": "stdout",
     "output_type": "stream",
     "text": [
      "Epoch #5: test_reward: 64.000000 ± 30.000000, best_reward: 95.000000 ± 68.171842 in #2\n"
     ]
    },
    {
     "name": "stderr",
     "output_type": "stream",
     "text": [
      "Epoch #6: 1030it [00:02, 421.73it/s, env_step=6180, len=7, n/ep=1, n/st=10, player_1/loss=136.956, player_2/loss=37.332, rew=54.00]\n"
     ]
    },
    {
     "name": "stdout",
     "output_type": "stream",
     "text": [
      "Epoch #6: test_reward: 57.400000 ± 10.200000, best_reward: 95.000000 ± 68.171842 in #2\n"
     ]
    },
    {
     "name": "stderr",
     "output_type": "stream",
     "text": [
      "Epoch #7: 1030it [00:02, 423.47it/s, env_step=7210, len=7, n/ep=3, n/st=10, player_1/loss=49.639, player_2/loss=90.950, rew=59.33]\n"
     ]
    },
    {
     "name": "stdout",
     "output_type": "stream",
     "text": [
      "Epoch #7: test_reward: 57.400000 ± 10.200000, best_reward: 95.000000 ± 68.171842 in #2\n"
     ]
    },
    {
     "name": "stderr",
     "output_type": "stream",
     "text": [
      "Epoch #8: 1030it [00:02, 426.75it/s, env_step=8240, len=7, n/ep=2, n/st=10, player_1/loss=98.831, player_2/loss=241.478, rew=62.00]\n"
     ]
    },
    {
     "name": "stdout",
     "output_type": "stream",
     "text": [
      "Epoch #8: test_reward: 97.000000 ± 40.509258, best_reward: 97.000000 ± 40.509258 in #8\n"
     ]
    },
    {
     "name": "stderr",
     "output_type": "stream",
     "text": [
      "Epoch #9: 1030it [00:02, 450.01it/s, env_step=9270, len=8, n/ep=1, n/st=10, player_1/loss=85.324, player_2/loss=143.610, rew=70.00]\n"
     ]
    },
    {
     "name": "stdout",
     "output_type": "stream",
     "text": [
      "Epoch #9: test_reward: 54.000000 ± 0.000000, best_reward: 97.000000 ± 40.509258 in #8\n"
     ]
    },
    {
     "name": "stderr",
     "output_type": "stream",
     "text": [
      "Epoch #10: 1030it [00:02, 444.76it/s, env_step=10300, len=7, n/ep=1, n/st=10, player_1/loss=101.009, player_2/loss=111.052, rew=54.00]\n"
     ]
    },
    {
     "name": "stdout",
     "output_type": "stream",
     "text": [
      "Epoch #10: test_reward: 54.000000 ± 0.000000, best_reward: 97.000000 ± 40.509258 in #8\n"
     ]
    },
    {
     "name": "stderr",
     "output_type": "stream",
     "text": [
      "Epoch #11: 1030it [00:02, 421.46it/s, env_step=11330, len=39, n/ep=0, n/st=10, player_1/loss=51.164, player_2/loss=55.861, rew=326.00]\n"
     ]
    },
    {
     "name": "stdout",
     "output_type": "stream",
     "text": [
      "Epoch #11: test_reward: 57.400000 ± 10.200000, best_reward: 97.000000 ± 40.509258 in #8\n"
     ]
    },
    {
     "name": "stderr",
     "output_type": "stream",
     "text": [
      "Epoch #12: 1030it [00:02, 459.59it/s, env_step=12360, len=11, n/ep=1, n/st=10, player_1/loss=24.284, player_2/loss=63.296, rew=130.00]\n"
     ]
    },
    {
     "name": "stdout",
     "output_type": "stream",
     "text": [
      "Epoch #12: test_reward: 54.000000 ± 0.000000, best_reward: 97.000000 ± 40.509258 in #8\n"
     ]
    },
    {
     "name": "stderr",
     "output_type": "stream",
     "text": [
      "Epoch #13: 1030it [00:02, 468.10it/s, env_step=13390, len=7, n/ep=1, n/st=10, player_1/loss=63.166, player_2/loss=97.825, rew=54.00]\n"
     ]
    },
    {
     "name": "stdout",
     "output_type": "stream",
     "text": [
      "Epoch #13: test_reward: -2351.400000 ± 6798.975852, best_reward: 97.000000 ± 40.509258 in #8\n"
     ]
    },
    {
     "name": "stderr",
     "output_type": "stream",
     "text": [
      "Epoch #14: 1030it [00:02, 459.43it/s, env_step=14420, len=11, n/ep=0, n/st=10, player_1/loss=38.668, player_2/loss=139.002, rew=146.00]\n"
     ]
    },
    {
     "name": "stdout",
     "output_type": "stream",
     "text": [
      "Epoch #14: test_reward: 60.800000 ± 13.600000, best_reward: 97.000000 ± 40.509258 in #8\n"
     ]
    },
    {
     "name": "stderr",
     "output_type": "stream",
     "text": [
      "Epoch #15: 1030it [00:02, 464.32it/s, env_step=15450, len=23, n/ep=1, n/st=10, player_1/loss=123.995, player_2/loss=96.199, rew=430.00]\n"
     ]
    },
    {
     "name": "stdout",
     "output_type": "stream",
     "text": [
      "Epoch #15: test_reward: 89.000000 ± 19.621417, best_reward: 97.000000 ± 40.509258 in #8\n"
     ]
    },
    {
     "name": "stderr",
     "output_type": "stream",
     "text": [
      "Epoch #16: 1030it [00:02, 466.02it/s, env_step=16480, len=9, n/ep=2, n/st=10, player_1/loss=69.164, player_2/loss=112.730, rew=92.00]\n"
     ]
    },
    {
     "name": "stdout",
     "output_type": "stream",
     "text": [
      "Epoch #16: test_reward: 55.600000 ± 4.800000, best_reward: 97.000000 ± 40.509258 in #8\n"
     ]
    },
    {
     "name": "stderr",
     "output_type": "stream",
     "text": [
      "Epoch #17: 1030it [00:02, 437.95it/s, env_step=17510, len=9, n/ep=0, n/st=10, player_1/loss=46.147, player_2/loss=77.656, rew=88.00]\n"
     ]
    },
    {
     "name": "stdout",
     "output_type": "stream",
     "text": [
      "Epoch #17: test_reward: 67.400000 ± 30.594771, best_reward: 97.000000 ± 40.509258 in #8\n"
     ]
    },
    {
     "name": "stderr",
     "output_type": "stream",
     "text": [
      "Epoch #18: 1030it [00:02, 444.89it/s, env_step=18540, len=27, n/ep=0, n/st=10, player_1/loss=68.682, player_2/loss=84.094, rew=376.00]\n"
     ]
    },
    {
     "name": "stdout",
     "output_type": "stream",
     "text": [
      "Epoch #18: test_reward: -1563.200000 ± 4895.002938, best_reward: 97.000000 ± 40.509258 in #8\n"
     ]
    },
    {
     "name": "stderr",
     "output_type": "stream",
     "text": [
      "Epoch #19: 1030it [00:02, 445.44it/s, env_step=19570, len=10, n/ep=2, n/st=10, player_1/loss=52.512, player_2/loss=121.978, rew=108.00]\n"
     ]
    },
    {
     "name": "stdout",
     "output_type": "stream",
     "text": [
      "Epoch #19: test_reward: 64.800000 ± 21.600000, best_reward: 97.000000 ± 40.509258 in #8\n"
     ]
    },
    {
     "name": "stderr",
     "output_type": "stream",
     "text": [
      "Epoch #20: 1030it [00:02, 470.81it/s, env_step=20600, len=9, n/ep=0, n/st=10, player_1/loss=50.597, player_2/loss=88.237, rew=104.00]\n"
     ]
    },
    {
     "name": "stdout",
     "output_type": "stream",
     "text": [
      "Epoch #20: test_reward: -25535.300000 ± 19230.683223, best_reward: 97.000000 ± 40.509258 in #8\n"
     ]
    },
    {
     "name": "stderr",
     "output_type": "stream",
     "text": [
      "Epoch #21: 1030it [00:02, 473.69it/s, env_step=21630, len=7, n/ep=1, n/st=10, player_1/loss=334.471, player_2/loss=63.195, rew=54.00]\n"
     ]
    },
    {
     "name": "stdout",
     "output_type": "stream",
     "text": [
      "Epoch #21: test_reward: 64.400000 ± 18.017769, best_reward: 97.000000 ± 40.509258 in #8\n"
     ]
    },
    {
     "name": "stderr",
     "output_type": "stream",
     "text": [
      "Epoch #22: 1030it [00:02, 464.34it/s, env_step=22660, len=7, n/ep=3, n/st=10, player_1/loss=55.116, player_2/loss=98.893, rew=59.33]\n"
     ]
    },
    {
     "name": "stdout",
     "output_type": "stream",
     "text": [
      "Epoch #22: test_reward: -2315.400000 ± 7118.869464, best_reward: 97.000000 ± 40.509258 in #8\n"
     ]
    },
    {
     "name": "stderr",
     "output_type": "stream",
     "text": [
      "Epoch #23: 1030it [00:02, 450.94it/s, env_step=23690, len=9, n/ep=2, n/st=10, player_1/loss=52.824, player_2/loss=92.576, rew=89.00]\n"
     ]
    },
    {
     "name": "stdout",
     "output_type": "stream",
     "text": [
      "Epoch #23: test_reward: 71.600000 ± 23.457195, best_reward: 97.000000 ± 40.509258 in #8\n"
     ]
    },
    {
     "name": "stderr",
     "output_type": "stream",
     "text": [
      "Epoch #24: 1030it [00:02, 450.02it/s, env_step=24720, len=7, n/ep=0, n/st=10, player_1/loss=65.873, player_2/loss=94.470, rew=54.00]\n"
     ]
    },
    {
     "name": "stdout",
     "output_type": "stream",
     "text": [
      "Epoch #24: test_reward: -3538.700000 ± 10778.100000, best_reward: 97.000000 ± 40.509258 in #8\n"
     ]
    },
    {
     "name": "stderr",
     "output_type": "stream",
     "text": [
      "Epoch #25: 1030it [00:02, 449.23it/s, env_step=25750, len=10, n/ep=1, n/st=10, player_1/loss=93.157, player_2/loss=61.423, rew=108.00]\n"
     ]
    },
    {
     "name": "stdout",
     "output_type": "stream",
     "text": [
      "Epoch #25: test_reward: 64.800000 ± 21.600000, best_reward: 97.000000 ± 40.509258 in #8\n"
     ]
    },
    {
     "name": "stderr",
     "output_type": "stream",
     "text": [
      "Epoch #26: 1030it [00:02, 430.64it/s, env_step=26780, len=7, n/ep=2, n/st=10, player_1/loss=47.846, player_2/loss=144.573, rew=62.00]\n"
     ]
    },
    {
     "name": "stdout",
     "output_type": "stream",
     "text": [
      "Epoch #26: test_reward: -3479.600000 ± 10600.800000, best_reward: 97.000000 ± 40.509258 in #8\n"
     ]
    },
    {
     "name": "stderr",
     "output_type": "stream",
     "text": [
      "Epoch #27: 1030it [00:02, 422.01it/s, env_step=27810, len=9, n/ep=1, n/st=10, player_1/loss=41.008, player_2/loss=65.538, rew=88.00]\n"
     ]
    },
    {
     "name": "stdout",
     "output_type": "stream",
     "text": [
      "Epoch #27: test_reward: 66.400000 ± 21.331667, best_reward: 97.000000 ± 40.509258 in #8\n"
     ]
    },
    {
     "name": "stderr",
     "output_type": "stream",
     "text": [
      "Epoch #28: 1030it [00:02, 405.26it/s, env_step=28840, len=7, n/ep=0, n/st=10, player_1/loss=68.872, player_2/loss=90.017, rew=65.33]\n"
     ]
    },
    {
     "name": "stdout",
     "output_type": "stream",
     "text": [
      "Epoch #28: test_reward: 69.000000 ± 30.268796, best_reward: 97.000000 ± 40.509258 in #8\n"
     ]
    },
    {
     "name": "stderr",
     "output_type": "stream",
     "text": [
      "Epoch #29: 1030it [00:02, 418.97it/s, env_step=29870, len=7, n/ep=1, n/st=10, player_1/loss=46.770, player_2/loss=101.275, rew=54.00]\n"
     ]
    },
    {
     "name": "stdout",
     "output_type": "stream",
     "text": [
      "Epoch #29: test_reward: 57.400000 ± 10.200000, best_reward: 97.000000 ± 40.509258 in #8\n"
     ]
    },
    {
     "name": "stderr",
     "output_type": "stream",
     "text": [
      "Epoch #30: 1030it [00:02, 439.94it/s, env_step=30900, len=9, n/ep=0, n/st=10, player_1/loss=71.962, player_2/loss=138.806, rew=104.00]\n"
     ]
    },
    {
     "name": "stdout",
     "output_type": "stream",
     "text": [
      "Epoch #30: test_reward: 59.400000 ± 16.200000, best_reward: 97.000000 ± 40.509258 in #8\n"
     ]
    },
    {
     "name": "stderr",
     "output_type": "stream",
     "text": [
      "Epoch #31: 1030it [00:01, 544.10it/s, env_step=31930, len=7, n/ep=0, n/st=10, player_1/loss=44.830, player_2/loss=100.342, rew=54.00]\n"
     ]
    },
    {
     "name": "stdout",
     "output_type": "stream",
     "text": [
      "Epoch #31: test_reward: -38905.600000 ± 49694.548414, best_reward: 97.000000 ± 40.509258 in #8\n"
     ]
    },
    {
     "name": "stderr",
     "output_type": "stream",
     "text": [
      "Epoch #32: 1030it [00:01, 540.15it/s, env_step=32960, len=10, n/ep=0, n/st=10, player_1/loss=74.826, player_2/loss=104.194, rew=108.00]\n"
     ]
    },
    {
     "name": "stdout",
     "output_type": "stream",
     "text": [
      "Epoch #32: test_reward: -32116.100000 ± 32309.248609, best_reward: 97.000000 ± 40.509258 in #8\n"
     ]
    },
    {
     "name": "stderr",
     "output_type": "stream",
     "text": [
      "Epoch #33: 1030it [00:01, 530.60it/s, env_step=33990, len=8, n/ep=0, n/st=10, player_1/loss=103.179, player_2/loss=119.114, rew=71.00]\n"
     ]
    },
    {
     "name": "stdout",
     "output_type": "stream",
     "text": [
      "Epoch #33: test_reward: -8.800000 ± 236.834457, best_reward: 97.000000 ± 40.509258 in #8\n"
     ]
    },
    {
     "name": "stderr",
     "output_type": "stream",
     "text": [
      "Epoch #34: 1030it [00:02, 492.88it/s, env_step=35020, len=11, n/ep=2, n/st=10, player_1/loss=59.242, player_2/loss=106.377, rew=144.00]\n"
     ]
    },
    {
     "name": "stdout",
     "output_type": "stream",
     "text": [
      "Epoch #34: test_reward: 87.700000 ± 74.310228, best_reward: 97.000000 ± 40.509258 in #8\n"
     ]
    },
    {
     "name": "stderr",
     "output_type": "stream",
     "text": [
      "Epoch #35: 1030it [00:01, 555.57it/s, env_step=36050, len=16, n/ep=1, n/st=10, player_1/loss=37.680, player_2/loss=99.279, rew=240.00]\n"
     ]
    },
    {
     "name": "stdout",
     "output_type": "stream",
     "text": [
      "Epoch #35: test_reward: -26804.100000 ± 19915.156206, best_reward: 97.000000 ± 40.509258 in #8\n"
     ]
    },
    {
     "name": "stderr",
     "output_type": "stream",
     "text": [
      "Epoch #36: 1030it [00:01, 547.32it/s, env_step=37080, len=23, n/ep=0, n/st=10, player_1/loss=59.990, player_2/loss=100.565, rew=370.00]\n"
     ]
    },
    {
     "name": "stdout",
     "output_type": "stream",
     "text": [
      "Epoch #36: test_reward: 66.300000 ± 36.900000, best_reward: 97.000000 ± 40.509258 in #8\n"
     ]
    },
    {
     "name": "stderr",
     "output_type": "stream",
     "text": [
      "Epoch #37: 1030it [00:01, 557.21it/s, env_step=38110, len=9, n/ep=0, n/st=10, player_1/loss=117.332, player_2/loss=110.795, rew=98.00]\n"
     ]
    },
    {
     "name": "stdout",
     "output_type": "stream",
     "text": [
      "Epoch #37: test_reward: 67.800000 ± 23.038229, best_reward: 97.000000 ± 40.509258 in #8\n"
     ]
    },
    {
     "name": "stderr",
     "output_type": "stream",
     "text": [
      "Epoch #38: 1030it [00:01, 556.10it/s, env_step=39140, len=58, n/ep=0, n/st=10, player_1/loss=97.425, player_2/loss=79.091, rew=638.00]\n"
     ]
    },
    {
     "name": "stdout",
     "output_type": "stream",
     "text": [
      "Epoch #38: test_reward: 65.800000 ± 15.269578, best_reward: 97.000000 ± 40.509258 in #8\n"
     ]
    },
    {
     "name": "stderr",
     "output_type": "stream",
     "text": [
      "Epoch #39: 1030it [00:01, 532.54it/s, env_step=40170, len=8, n/ep=0, n/st=10, player_1/loss=90.168, player_2/loss=87.386, rew=70.00]\n"
     ]
    },
    {
     "name": "stdout",
     "output_type": "stream",
     "text": [
      "Epoch #39: test_reward: 62.400000 ± 13.646978, best_reward: 97.000000 ± 40.509258 in #8\n"
     ]
    },
    {
     "name": "stderr",
     "output_type": "stream",
     "text": [
      "Epoch #40: 1030it [00:02, 507.15it/s, env_step=41200, len=9, n/ep=1, n/st=10, player_1/loss=107.139, player_2/loss=92.479, rew=88.00]\n"
     ]
    },
    {
     "name": "stdout",
     "output_type": "stream",
     "text": [
      "Epoch #40: test_reward: 59.000000 ± 10.779610, best_reward: 97.000000 ± 40.509258 in #8\n"
     ]
    },
    {
     "name": "stderr",
     "output_type": "stream",
     "text": [
      "Epoch #41: 1030it [00:01, 574.45it/s, env_step=42230, len=10, n/ep=0, n/st=10, player_1/loss=47.840, player_2/loss=96.381, rew=108.00]\n"
     ]
    },
    {
     "name": "stdout",
     "output_type": "stream",
     "text": [
      "Epoch #41: test_reward: 64.400000 ± 18.017769, best_reward: 97.000000 ± 40.509258 in #8\n"
     ]
    },
    {
     "name": "stderr",
     "output_type": "stream",
     "text": [
      "Epoch #42: 1030it [00:01, 565.93it/s, env_step=43260, len=7, n/ep=1, n/st=10, player_1/loss=73.348, player_2/loss=97.379, rew=54.00]\n"
     ]
    },
    {
     "name": "stdout",
     "output_type": "stream",
     "text": [
      "Epoch #42: test_reward: -5218.300000 ± 15822.234052, best_reward: 97.000000 ± 40.509258 in #8\n"
     ]
    },
    {
     "name": "stderr",
     "output_type": "stream",
     "text": [
      "Epoch #43: 1030it [00:01, 595.25it/s, env_step=44290, len=28, n/ep=0, n/st=10, player_1/loss=62.967, player_2/loss=101.552, rew=573.00]\n"
     ]
    },
    {
     "name": "stdout",
     "output_type": "stream",
     "text": [
      "Epoch #43: test_reward: 57.400000 ± 10.200000, best_reward: 97.000000 ± 40.509258 in #8\n"
     ]
    },
    {
     "name": "stderr",
     "output_type": "stream",
     "text": [
      "Epoch #44: 1030it [00:01, 578.05it/s, env_step=45320, len=9, n/ep=0, n/st=10, player_1/loss=49.260, player_2/loss=93.566, rew=88.00]\n"
     ]
    },
    {
     "name": "stdout",
     "output_type": "stream",
     "text": [
      "Epoch #44: test_reward: -14406.500000 ± 12374.050091, best_reward: 97.000000 ± 40.509258 in #8\n"
     ]
    },
    {
     "name": "stderr",
     "output_type": "stream",
     "text": [
      "Epoch #45: 1030it [00:01, 584.13it/s, env_step=46350, len=49, n/ep=1, n/st=10, player_1/loss=103.127, player_2/loss=63.594, rew=252.00]\n"
     ]
    },
    {
     "name": "stdout",
     "output_type": "stream",
     "text": [
      "Epoch #45: test_reward: 69.400000 ± 32.472142, best_reward: 97.000000 ± 40.509258 in #8\n"
     ]
    },
    {
     "name": "stderr",
     "output_type": "stream",
     "text": [
      "Epoch #46: 1030it [00:01, 559.03it/s, env_step=47380, len=10, n/ep=2, n/st=10, player_1/loss=40.474, player_2/loss=74.830, rew=108.00]\n"
     ]
    },
    {
     "name": "stdout",
     "output_type": "stream",
     "text": [
      "Epoch #46: test_reward: 60.800000 ± 13.600000, best_reward: 97.000000 ± 40.509258 in #8\n"
     ]
    },
    {
     "name": "stderr",
     "output_type": "stream",
     "text": [
      "Epoch #47: 1030it [00:01, 545.05it/s, env_step=48410, len=11, n/ep=1, n/st=10, player_1/loss=41.654, player_2/loss=65.926, rew=130.00]\n"
     ]
    },
    {
     "name": "stdout",
     "output_type": "stream",
     "text": [
      "Epoch #47: test_reward: 107.200000 ± 23.412817, best_reward: 107.200000 ± 23.412817 in #47\n"
     ]
    },
    {
     "name": "stderr",
     "output_type": "stream",
     "text": [
      "Epoch #48: 1030it [00:02, 499.50it/s, env_step=49440, len=8, n/ep=1, n/st=10, player_1/loss=62.954, player_2/loss=69.303, rew=70.00]\n"
     ]
    },
    {
     "name": "stdout",
     "output_type": "stream",
     "text": [
      "Epoch #48: test_reward: 67.800000 ± 18.919831, best_reward: 107.200000 ± 23.412817 in #47\n"
     ]
    },
    {
     "name": "stderr",
     "output_type": "stream",
     "text": [
      "Epoch #49: 1030it [00:02, 440.85it/s, env_step=50470, len=7, n/ep=0, n/st=10, player_1/loss=53.851, player_2/loss=77.152, rew=59.33]\n"
     ]
    },
    {
     "name": "stdout",
     "output_type": "stream",
     "text": [
      "Epoch #49: test_reward: 54.000000 ± 0.000000, best_reward: 107.200000 ± 23.412817 in #47\n"
     ]
    },
    {
     "name": "stderr",
     "output_type": "stream",
     "text": [
      "Epoch #50: 1030it [00:02, 436.24it/s, env_step=51500, len=7, n/ep=0, n/st=10, player_1/loss=58.250, player_2/loss=83.500, rew=54.00]\n"
     ]
    },
    {
     "name": "stdout",
     "output_type": "stream",
     "text": [
      "Epoch #50: test_reward: 57.400000 ± 10.200000, best_reward: 107.200000 ± 23.412817 in #47\n"
     ]
    },
    {
     "name": "stderr",
     "output_type": "stream",
     "text": [
      "Epoch #51: 1030it [00:02, 432.57it/s, env_step=52530, len=10, n/ep=1, n/st=10, player_1/loss=60.596, player_2/loss=84.418, rew=108.00]\n"
     ]
    },
    {
     "name": "stdout",
     "output_type": "stream",
     "text": [
      "Epoch #51: test_reward: -4600.800000 ± 12327.678482, best_reward: 107.200000 ± 23.412817 in #47\n"
     ]
    },
    {
     "name": "stderr",
     "output_type": "stream",
     "text": [
      "Epoch #52: 1030it [00:02, 487.07it/s, env_step=53560, len=7, n/ep=0, n/st=10, player_1/loss=51.624, player_2/loss=94.198, rew=54.00]\n"
     ]
    },
    {
     "name": "stdout",
     "output_type": "stream",
     "text": [
      "Epoch #52: test_reward: 78.400000 ± 34.834466, best_reward: 107.200000 ± 23.412817 in #47\n"
     ]
    },
    {
     "name": "stderr",
     "output_type": "stream",
     "text": [
      "Epoch #53: 1030it [00:02, 509.17it/s, env_step=54590, len=9, n/ep=0, n/st=10, player_1/loss=54.807, player_2/loss=84.934, rew=89.00]\n"
     ]
    },
    {
     "name": "stdout",
     "output_type": "stream",
     "text": [
      "Epoch #53: test_reward: -2588.400000 ± 7971.924124, best_reward: 107.200000 ± 23.412817 in #47\n"
     ]
    },
    {
     "name": "stderr",
     "output_type": "stream",
     "text": [
      "Epoch #54: 1030it [00:01, 546.77it/s, env_step=55620, len=8, n/ep=0, n/st=10, player_1/loss=66.712, player_2/loss=80.748, rew=70.00]\n"
     ]
    },
    {
     "name": "stdout",
     "output_type": "stream",
     "text": [
      "Epoch #54: test_reward: -47321.400000 ± 47410.738166, best_reward: 107.200000 ± 23.412817 in #47\n"
     ]
    },
    {
     "name": "stderr",
     "output_type": "stream",
     "text": [
      "Epoch #55: 1030it [00:01, 556.88it/s, env_step=56650, len=41, n/ep=0, n/st=10, player_1/loss=64.668, player_2/loss=88.156, rew=577.00]\n"
     ]
    },
    {
     "name": "stdout",
     "output_type": "stream",
     "text": [
      "Epoch #55: test_reward: -22137.800000 ± 18644.778110, best_reward: 107.200000 ± 23.412817 in #47\n"
     ]
    },
    {
     "name": "stderr",
     "output_type": "stream",
     "text": [
      "Epoch #56: 1030it [00:01, 545.25it/s, env_step=57680, len=28, n/ep=0, n/st=10, player_1/loss=104.700, player_2/loss=78.152, rew=357.00]\n"
     ]
    },
    {
     "name": "stdout",
     "output_type": "stream",
     "text": [
      "Epoch #56: test_reward: -47874.400000 ± 61367.380384, best_reward: 107.200000 ± 23.412817 in #47\n"
     ]
    },
    {
     "name": "stderr",
     "output_type": "stream",
     "text": [
      "Epoch #57: 1030it [00:01, 557.06it/s, env_step=58710, len=44, n/ep=0, n/st=10, player_1/loss=76.654, player_2/loss=105.152, rew=542.00]\n"
     ]
    },
    {
     "name": "stdout",
     "output_type": "stream",
     "text": [
      "Epoch #57: test_reward: -9223.900000 ± 6246.746392, best_reward: 107.200000 ± 23.412817 in #47\n"
     ]
    },
    {
     "name": "stderr",
     "output_type": "stream",
     "text": [
      "Epoch #58: 1030it [00:01, 553.83it/s, env_step=59740, len=9, n/ep=1, n/st=10, player_1/loss=38.844, player_2/loss=104.267, rew=88.00]\n"
     ]
    },
    {
     "name": "stdout",
     "output_type": "stream",
     "text": [
      "Epoch #58: test_reward: 57.400000 ± 10.200000, best_reward: 107.200000 ± 23.412817 in #47\n"
     ]
    },
    {
     "name": "stderr",
     "output_type": "stream",
     "text": [
      "Epoch #59: 1030it [00:01, 554.02it/s, env_step=60770, len=7, n/ep=1, n/st=10, player_1/loss=24.376, player_2/loss=59.080, rew=54.00]\n"
     ]
    },
    {
     "name": "stdout",
     "output_type": "stream",
     "text": [
      "Epoch #59: test_reward: 70.800000 ± 15.904716, best_reward: 107.200000 ± 23.412817 in #47\n"
     ]
    },
    {
     "name": "stderr",
     "output_type": "stream",
     "text": [
      "Epoch #60: 1030it [00:01, 552.61it/s, env_step=61800, len=7, n/ep=0, n/st=10, player_1/loss=30.090, player_2/loss=56.126, rew=54.00]\n"
     ]
    },
    {
     "name": "stdout",
     "output_type": "stream",
     "text": [
      "Epoch #60: test_reward: 60.800000 ± 13.600000, best_reward: 107.200000 ± 23.412817 in #47\n"
     ]
    },
    {
     "name": "stderr",
     "output_type": "stream",
     "text": [
      "Epoch #61: 1030it [00:01, 552.84it/s, env_step=62830, len=7, n/ep=3, n/st=10, player_1/loss=49.359, player_2/loss=90.071, rew=59.33]\n"
     ]
    },
    {
     "name": "stdout",
     "output_type": "stream",
     "text": [
      "Epoch #61: test_reward: -1767.500000 ± 5475.842716, best_reward: 107.200000 ± 23.412817 in #47\n"
     ]
    },
    {
     "name": "stderr",
     "output_type": "stream",
     "text": [
      "Epoch #62: 1030it [00:01, 553.09it/s, env_step=63860, len=8, n/ep=0, n/st=10, player_1/loss=92.679, player_2/loss=67.464, rew=70.00]\n"
     ]
    },
    {
     "name": "stdout",
     "output_type": "stream",
     "text": [
      "Epoch #62: test_reward: 60.800000 ± 13.600000, best_reward: 107.200000 ± 23.412817 in #47\n"
     ]
    },
    {
     "name": "stderr",
     "output_type": "stream",
     "text": [
      "Epoch #63: 1030it [00:01, 548.38it/s, env_step=64890, len=9, n/ep=2, n/st=10, player_1/loss=79.515, player_2/loss=104.622, rew=89.00]\n"
     ]
    },
    {
     "name": "stdout",
     "output_type": "stream",
     "text": [
      "Epoch #63: test_reward: 80.000000 ± 67.628396, best_reward: 107.200000 ± 23.412817 in #47\n"
     ]
    },
    {
     "name": "stderr",
     "output_type": "stream",
     "text": [
      "Epoch #64: 1030it [00:01, 559.56it/s, env_step=65920, len=12, n/ep=1, n/st=10, player_1/loss=354.933, player_2/loss=137.403, rew=154.00]\n"
     ]
    },
    {
     "name": "stdout",
     "output_type": "stream",
     "text": [
      "Epoch #64: test_reward: 59.000000 ± 10.779610, best_reward: 107.200000 ± 23.412817 in #47\n"
     ]
    },
    {
     "name": "stderr",
     "output_type": "stream",
     "text": [
      "Epoch #65: 1030it [00:01, 557.22it/s, env_step=66950, len=9, n/ep=2, n/st=10, player_1/loss=312.970, player_2/loss=90.675, rew=89.00]\n"
     ]
    },
    {
     "name": "stdout",
     "output_type": "stream",
     "text": [
      "Epoch #65: test_reward: 61.000000 ± 16.376813, best_reward: 107.200000 ± 23.412817 in #47\n"
     ]
    },
    {
     "name": "stderr",
     "output_type": "stream",
     "text": [
      "Epoch #66: 1030it [00:01, 548.03it/s, env_step=67980, len=9, n/ep=0, n/st=10, player_1/loss=55.675, player_2/loss=76.076, rew=88.00]\n"
     ]
    },
    {
     "name": "stdout",
     "output_type": "stream",
     "text": [
      "Epoch #66: test_reward: -33524.100000 ± 43108.202371, best_reward: 107.200000 ± 23.412817 in #47\n"
     ]
    },
    {
     "name": "stderr",
     "output_type": "stream",
     "text": [
      "Epoch #67: 1030it [00:01, 537.88it/s, env_step=69010, len=67, n/ep=0, n/st=10, player_1/loss=85.204, player_2/loss=87.755, rew=246.00]\n"
     ]
    },
    {
     "name": "stdout",
     "output_type": "stream",
     "text": [
      "Epoch #67: test_reward: -25160.500000 ± 23690.070849, best_reward: 107.200000 ± 23.412817 in #47\n"
     ]
    },
    {
     "name": "stderr",
     "output_type": "stream",
     "text": [
      "Epoch #68: 1030it [00:01, 559.77it/s, env_step=70040, len=7, n/ep=1, n/st=10, player_1/loss=54.792, player_2/loss=96.807, rew=54.00]\n"
     ]
    },
    {
     "name": "stdout",
     "output_type": "stream",
     "text": [
      "Epoch #68: test_reward: 59.000000 ± 10.779610, best_reward: 107.200000 ± 23.412817 in #47\n"
     ]
    },
    {
     "name": "stderr",
     "output_type": "stream",
     "text": [
      "Epoch #69: 1030it [00:02, 503.87it/s, env_step=71070, len=7, n/ep=1, n/st=10, player_1/loss=77.027, player_2/loss=99.682, rew=54.00]\n"
     ]
    },
    {
     "name": "stdout",
     "output_type": "stream",
     "text": [
      "Epoch #69: test_reward: 66.200000 ± 19.338045, best_reward: 107.200000 ± 23.412817 in #47\n"
     ]
    },
    {
     "name": "stderr",
     "output_type": "stream",
     "text": [
      "Epoch #70: 1030it [00:02, 511.55it/s, env_step=72100, len=9, n/ep=2, n/st=10, player_1/loss=115.526, player_2/loss=106.806, rew=89.00]\n"
     ]
    },
    {
     "name": "stdout",
     "output_type": "stream",
     "text": [
      "Epoch #70: test_reward: 59.000000 ± 10.779610, best_reward: 107.200000 ± 23.412817 in #47\n"
     ]
    },
    {
     "name": "stderr",
     "output_type": "stream",
     "text": [
      "Epoch #71: 1030it [00:02, 498.15it/s, env_step=73130, len=8, n/ep=1, n/st=10, player_1/loss=97.843, player_2/loss=78.325, rew=70.00]\n"
     ]
    },
    {
     "name": "stdout",
     "output_type": "stream",
     "text": [
      "Epoch #71: test_reward: 57.200000 ± 6.400000, best_reward: 107.200000 ± 23.412817 in #47\n"
     ]
    },
    {
     "name": "stderr",
     "output_type": "stream",
     "text": [
      "Epoch #72: 1030it [00:01, 519.09it/s, env_step=74160, len=7, n/ep=1, n/st=10, player_1/loss=91.816, player_2/loss=102.094, rew=54.00]\n"
     ]
    },
    {
     "name": "stdout",
     "output_type": "stream",
     "text": [
      "Epoch #72: test_reward: 64.000000 ± 13.505554, best_reward: 107.200000 ± 23.412817 in #47\n"
     ]
    },
    {
     "name": "stderr",
     "output_type": "stream",
     "text": [
      "Epoch #73: 1030it [00:01, 529.89it/s, env_step=75190, len=10, n/ep=0, n/st=10, player_1/loss=68.180, player_2/loss=90.971, rew=108.00]\n"
     ]
    },
    {
     "name": "stdout",
     "output_type": "stream",
     "text": [
      "Epoch #73: test_reward: 55.600000 ± 4.800000, best_reward: 107.200000 ± 23.412817 in #47\n"
     ]
    },
    {
     "name": "stderr",
     "output_type": "stream",
     "text": [
      "Epoch #74: 1030it [00:02, 501.44it/s, env_step=76220, len=7, n/ep=1, n/st=10, player_1/loss=135.552, player_2/loss=83.605, rew=54.00]\n"
     ]
    },
    {
     "name": "stdout",
     "output_type": "stream",
     "text": [
      "Epoch #74: test_reward: 62.400000 ± 13.646978, best_reward: 107.200000 ± 23.412817 in #47\n"
     ]
    },
    {
     "name": "stderr",
     "output_type": "stream",
     "text": [
      "Epoch #75: 1030it [00:02, 506.15it/s, env_step=77250, len=63, n/ep=0, n/st=10, player_1/loss=90.815, player_2/loss=73.783, rew=1621.00]\n"
     ]
    },
    {
     "name": "stdout",
     "output_type": "stream",
     "text": [
      "Epoch #75: test_reward: 57.400000 ± 10.200000, best_reward: 107.200000 ± 23.412817 in #47\n"
     ]
    },
    {
     "name": "stderr",
     "output_type": "stream",
     "text": [
      "Epoch #76: 1030it [00:02, 509.14it/s, env_step=78280, len=8, n/ep=0, n/st=10, player_1/loss=96.416, player_2/loss=87.771, rew=71.00]\n"
     ]
    },
    {
     "name": "stdout",
     "output_type": "stream",
     "text": [
      "Epoch #76: test_reward: 62.400000 ± 13.646978, best_reward: 107.200000 ± 23.412817 in #47\n"
     ]
    },
    {
     "name": "stderr",
     "output_type": "stream",
     "text": [
      "Epoch #77: 1030it [00:02, 498.05it/s, env_step=79310, len=10, n/ep=2, n/st=10, player_1/loss=90.168, player_2/loss=70.952, rew=112.00]\n"
     ]
    },
    {
     "name": "stdout",
     "output_type": "stream",
     "text": [
      "Epoch #77: test_reward: -516.200000 ± 1744.666260, best_reward: 107.200000 ± 23.412817 in #47\n"
     ]
    },
    {
     "name": "stderr",
     "output_type": "stream",
     "text": [
      "Epoch #78: 1030it [00:02, 461.55it/s, env_step=80340, len=12, n/ep=2, n/st=10, player_1/loss=75.290, player_2/loss=61.546, rew=169.00]\n"
     ]
    },
    {
     "name": "stdout",
     "output_type": "stream",
     "text": [
      "Epoch #78: test_reward: 69.800000 ± 21.788988, best_reward: 107.200000 ± 23.412817 in #47\n"
     ]
    },
    {
     "name": "stderr",
     "output_type": "stream",
     "text": [
      "Epoch #79: 1030it [00:01, 523.72it/s, env_step=81370, len=49, n/ep=0, n/st=10, player_1/loss=70.047, player_2/loss=59.428, rew=408.00]\n"
     ]
    },
    {
     "name": "stdout",
     "output_type": "stream",
     "text": [
      "Epoch #79: test_reward: 75.700000 ± 65.100000, best_reward: 107.200000 ± 23.412817 in #47\n"
     ]
    },
    {
     "name": "stderr",
     "output_type": "stream",
     "text": [
      "Epoch #80: 1030it [00:01, 530.57it/s, env_step=82400, len=92, n/ep=0, n/st=10, player_1/loss=105.960, player_2/loss=74.103, rew=1285.00]\n"
     ]
    },
    {
     "name": "stdout",
     "output_type": "stream",
     "text": [
      "Epoch #80: test_reward: 61.600000 ± 22.800000, best_reward: 107.200000 ± 23.412817 in #47\n"
     ]
    },
    {
     "name": "stderr",
     "output_type": "stream",
     "text": [
      "Epoch #81: 1030it [00:01, 536.45it/s, env_step=83430, len=8, n/ep=0, n/st=10, player_1/loss=84.021, player_2/loss=175.360, rew=70.00]\n"
     ]
    },
    {
     "name": "stdout",
     "output_type": "stream",
     "text": [
      "Epoch #81: test_reward: 213.800000 ± 181.063967, best_reward: 213.800000 ± 181.063967 in #81\n"
     ]
    },
    {
     "name": "stderr",
     "output_type": "stream",
     "text": [
      "Epoch #82: 1030it [00:01, 564.87it/s, env_step=84460, len=35, n/ep=2, n/st=10, player_1/loss=99.947, player_2/loss=96.434, rew=297.50]\n"
     ]
    },
    {
     "name": "stdout",
     "output_type": "stream",
     "text": [
      "Epoch #82: test_reward: 60.800000 ± 13.600000, best_reward: 213.800000 ± 181.063967 in #81\n"
     ]
    },
    {
     "name": "stderr",
     "output_type": "stream",
     "text": [
      "Epoch #83: 1030it [00:01, 553.54it/s, env_step=85490, len=7, n/ep=1, n/st=10, player_1/loss=63.256, player_2/loss=67.921, rew=54.00]\n"
     ]
    },
    {
     "name": "stdout",
     "output_type": "stream",
     "text": [
      "Epoch #83: test_reward: 59.400000 ± 16.200000, best_reward: 213.800000 ± 181.063967 in #81\n"
     ]
    },
    {
     "name": "stderr",
     "output_type": "stream",
     "text": [
      "Epoch #84: 1030it [00:01, 533.63it/s, env_step=86520, len=9, n/ep=2, n/st=10, player_1/loss=77.464, player_2/loss=72.908, rew=92.00]\n"
     ]
    },
    {
     "name": "stdout",
     "output_type": "stream",
     "text": [
      "Epoch #84: test_reward: -6099.700000 ± 14476.762276, best_reward: 213.800000 ± 181.063967 in #81\n"
     ]
    },
    {
     "name": "stderr",
     "output_type": "stream",
     "text": [
      "Epoch #85: 1030it [00:01, 545.43it/s, env_step=87550, len=10, n/ep=1, n/st=10, player_1/loss=94.404, player_2/loss=109.444, rew=108.00]\n"
     ]
    },
    {
     "name": "stdout",
     "output_type": "stream",
     "text": [
      "Epoch #85: test_reward: 89.300000 ± 95.108412, best_reward: 213.800000 ± 181.063967 in #81\n"
     ]
    },
    {
     "name": "stderr",
     "output_type": "stream",
     "text": [
      "Epoch #86: 1030it [00:02, 512.83it/s, env_step=88580, len=12, n/ep=1, n/st=10, player_1/loss=66.473, player_2/loss=62.182, rew=154.00]\n"
     ]
    },
    {
     "name": "stdout",
     "output_type": "stream",
     "text": [
      "Epoch #86: test_reward: 75.200000 ± 24.741867, best_reward: 213.800000 ± 181.063967 in #81\n"
     ]
    },
    {
     "name": "stderr",
     "output_type": "stream",
     "text": [
      "Epoch #87: 1030it [00:01, 517.12it/s, env_step=89610, len=16, n/ep=0, n/st=10, player_1/loss=85.310, player_2/loss=63.523, rew=263.00]\n"
     ]
    },
    {
     "name": "stdout",
     "output_type": "stream",
     "text": [
      "Epoch #87: test_reward: 59.400000 ± 16.200000, best_reward: 213.800000 ± 181.063967 in #81\n"
     ]
    },
    {
     "name": "stderr",
     "output_type": "stream",
     "text": [
      "Epoch #88: 1030it [00:01, 515.15it/s, env_step=90640, len=7, n/ep=0, n/st=10, player_1/loss=62.562, player_2/loss=71.830, rew=54.00]\n"
     ]
    },
    {
     "name": "stdout",
     "output_type": "stream",
     "text": [
      "Epoch #88: test_reward: 101.100000 ± 33.300000, best_reward: 213.800000 ± 181.063967 in #81\n"
     ]
    },
    {
     "name": "stderr",
     "output_type": "stream",
     "text": [
      "Epoch #89: 1030it [00:02, 453.63it/s, env_step=91670, len=8, n/ep=1, n/st=10, player_1/loss=81.008, player_2/loss=66.954, rew=70.00]\n"
     ]
    },
    {
     "name": "stdout",
     "output_type": "stream",
     "text": [
      "Epoch #89: test_reward: -6708.500000 ± 20298.835864, best_reward: 213.800000 ± 181.063967 in #81\n"
     ]
    },
    {
     "name": "stderr",
     "output_type": "stream",
     "text": [
      "Epoch #90: 1030it [00:01, 540.60it/s, env_step=92700, len=7, n/ep=3, n/st=10, player_1/loss=99.024, player_2/loss=96.118, rew=54.00]\n"
     ]
    },
    {
     "name": "stdout",
     "output_type": "stream",
     "text": [
      "Epoch #90: test_reward: 69.000000 ± 14.092551, best_reward: 213.800000 ± 181.063967 in #81\n"
     ]
    },
    {
     "name": "stderr",
     "output_type": "stream",
     "text": [
      "Epoch #91: 1030it [00:01, 538.75it/s, env_step=93730, len=7, n/ep=0, n/st=10, player_1/loss=151.368, player_2/loss=103.714, rew=54.00]\n"
     ]
    },
    {
     "name": "stdout",
     "output_type": "stream",
     "text": [
      "Epoch #91: test_reward: 62.400000 ± 13.646978, best_reward: 213.800000 ± 181.063967 in #81\n"
     ]
    },
    {
     "name": "stderr",
     "output_type": "stream",
     "text": [
      "Epoch #92: 1030it [00:02, 376.61it/s, env_step=94760, len=7, n/ep=0, n/st=10, player_1/loss=119.301, player_2/loss=53.351, rew=54.00]\n"
     ]
    },
    {
     "name": "stdout",
     "output_type": "stream",
     "text": [
      "Epoch #92: test_reward: 54.000000 ± 0.000000, best_reward: 213.800000 ± 181.063967 in #81\n"
     ]
    },
    {
     "name": "stderr",
     "output_type": "stream",
     "text": [
      "Epoch #93: 1030it [00:01, 521.75it/s, env_step=95790, len=12, n/ep=0, n/st=10, player_1/loss=83.364, player_2/loss=62.558, rew=154.00]\n"
     ]
    },
    {
     "name": "stdout",
     "output_type": "stream",
     "text": [
      "Epoch #93: test_reward: -768.200000 ± 2466.600000, best_reward: 213.800000 ± 181.063967 in #81\n"
     ]
    },
    {
     "name": "stderr",
     "output_type": "stream",
     "text": [
      "Epoch #94: 1030it [00:01, 540.01it/s, env_step=96820, len=35, n/ep=0, n/st=10, player_1/loss=112.347, player_2/loss=95.131, rew=380.67]\n"
     ]
    },
    {
     "name": "stdout",
     "output_type": "stream",
     "text": [
      "Epoch #94: test_reward: 29.600000 ± 85.138945, best_reward: 213.800000 ± 181.063967 in #81\n"
     ]
    },
    {
     "name": "stderr",
     "output_type": "stream",
     "text": [
      "Epoch #95: 1030it [00:01, 561.25it/s, env_step=97850, len=8, n/ep=0, n/st=10, player_1/loss=58.150, player_2/loss=60.103, rew=71.00]\n"
     ]
    },
    {
     "name": "stdout",
     "output_type": "stream",
     "text": [
      "Epoch #95: test_reward: 82.800000 ± 44.291760, best_reward: 213.800000 ± 181.063967 in #81\n"
     ]
    },
    {
     "name": "stderr",
     "output_type": "stream",
     "text": [
      "Epoch #96: 1030it [00:01, 531.44it/s, env_step=98880, len=134, n/ep=1, n/st=10, player_1/loss=74.155, player_2/loss=164.016, rew=-845.00]\n"
     ]
    },
    {
     "name": "stdout",
     "output_type": "stream",
     "text": [
      "Epoch #96: test_reward: 54.000000 ± 0.000000, best_reward: 213.800000 ± 181.063967 in #81\n"
     ]
    },
    {
     "name": "stderr",
     "output_type": "stream",
     "text": [
      "Epoch #97: 1030it [00:01, 568.42it/s, env_step=99910, len=7, n/ep=3, n/st=10, player_1/loss=117.290, player_2/loss=79.093, rew=65.33]\n"
     ]
    },
    {
     "name": "stdout",
     "output_type": "stream",
     "text": [
      "Epoch #97: test_reward: 60.800000 ± 13.600000, best_reward: 213.800000 ± 181.063967 in #81\n"
     ]
    },
    {
     "name": "stderr",
     "output_type": "stream",
     "text": [
      "Epoch #98: 1030it [00:01, 562.40it/s, env_step=100940, len=33, n/ep=0, n/st=10, player_1/loss=65.342, player_2/loss=66.078, rew=319.00]\n"
     ]
    },
    {
     "name": "stdout",
     "output_type": "stream",
     "text": [
      "Epoch #98: test_reward: -4230.500000 ± 7171.042926, best_reward: 213.800000 ± 181.063967 in #81\n"
     ]
    },
    {
     "name": "stderr",
     "output_type": "stream",
     "text": [
      "Epoch #99: 1030it [00:01, 565.43it/s, env_step=101970, len=9, n/ep=0, n/st=10, player_1/loss=70.853, player_2/loss=83.324, rew=104.00]\n"
     ]
    },
    {
     "name": "stdout",
     "output_type": "stream",
     "text": [
      "Epoch #99: test_reward: 57.400000 ± 10.200000, best_reward: 213.800000 ± 181.063967 in #81\n"
     ]
    },
    {
     "name": "stderr",
     "output_type": "stream",
     "text": [
      "Epoch #100: 1030it [00:01, 568.23it/s, env_step=103000, len=10, n/ep=3, n/st=10, player_1/loss=52.154, player_2/loss=70.610, rew=108.67]\n"
     ]
    },
    {
     "name": "stdout",
     "output_type": "stream",
     "text": [
      "Epoch #100: test_reward: -897.900000 ± 2878.397903, best_reward: 213.800000 ± 181.063967 in #81\n"
     ]
    },
    {
     "name": "stderr",
     "output_type": "stream",
     "text": [
      "Epoch #101: 1030it [00:01, 569.92it/s, env_step=104030, len=9, n/ep=0, n/st=10, player_1/loss=62.588, player_2/loss=64.123, rew=98.00]\n"
     ]
    },
    {
     "name": "stdout",
     "output_type": "stream",
     "text": [
      "Epoch #101: test_reward: 85.900000 ± 95.700000, best_reward: 213.800000 ± 181.063967 in #81\n"
     ]
    },
    {
     "name": "stderr",
     "output_type": "stream",
     "text": [
      "Epoch #102: 1030it [00:01, 572.54it/s, env_step=105060, len=18, n/ep=0, n/st=10, player_1/loss=30.057, player_2/loss=58.318, rew=295.00]\n"
     ]
    },
    {
     "name": "stdout",
     "output_type": "stream",
     "text": [
      "Epoch #102: test_reward: -19180.000000 ± 17857.875753, best_reward: 213.800000 ± 181.063967 in #81\n"
     ]
    },
    {
     "name": "stderr",
     "output_type": "stream",
     "text": [
      "Epoch #103: 1030it [00:01, 570.63it/s, env_step=106090, len=7, n/ep=0, n/st=10, player_1/loss=86.774, player_2/loss=90.041, rew=54.00]\n"
     ]
    },
    {
     "name": "stdout",
     "output_type": "stream",
     "text": [
      "Epoch #103: test_reward: 57.200000 ± 6.400000, best_reward: 213.800000 ± 181.063967 in #81\n"
     ]
    },
    {
     "name": "stderr",
     "output_type": "stream",
     "text": [
      "Epoch #104: 1030it [00:01, 569.79it/s, env_step=107120, len=33, n/ep=0, n/st=10, player_1/loss=55.923, player_2/loss=94.403, rew=535.00]\n"
     ]
    },
    {
     "name": "stdout",
     "output_type": "stream",
     "text": [
      "Epoch #104: test_reward: -20384.500000 ± 19956.063837, best_reward: 213.800000 ± 181.063967 in #81\n"
     ]
    },
    {
     "name": "stderr",
     "output_type": "stream",
     "text": [
      "Epoch #105: 1030it [00:01, 582.86it/s, env_step=108150, len=8, n/ep=1, n/st=10, player_1/loss=90.037, player_2/loss=118.630, rew=70.00]\n"
     ]
    },
    {
     "name": "stdout",
     "output_type": "stream",
     "text": [
      "Epoch #105: test_reward: -4695.600000 ± 14283.477610, best_reward: 213.800000 ± 181.063967 in #81\n"
     ]
    },
    {
     "name": "stderr",
     "output_type": "stream",
     "text": [
      "Epoch #106: 1030it [00:01, 567.37it/s, env_step=109180, len=8, n/ep=2, n/st=10, player_1/loss=42.814, player_2/loss=58.500, rew=70.00]\n"
     ]
    },
    {
     "name": "stdout",
     "output_type": "stream",
     "text": [
      "Epoch #106: test_reward: -952.400000 ± 2017.017957, best_reward: 213.800000 ± 181.063967 in #81\n"
     ]
    },
    {
     "name": "stderr",
     "output_type": "stream",
     "text": [
      "Epoch #107: 1030it [00:01, 575.59it/s, env_step=110210, len=7, n/ep=0, n/st=10, player_1/loss=66.478, player_2/loss=122.973, rew=54.00]\n"
     ]
    },
    {
     "name": "stdout",
     "output_type": "stream",
     "text": [
      "Epoch #107: test_reward: 54.000000 ± 0.000000, best_reward: 213.800000 ± 181.063967 in #81\n"
     ]
    },
    {
     "name": "stderr",
     "output_type": "stream",
     "text": [
      "Epoch #108: 1030it [00:01, 561.03it/s, env_step=111240, len=7, n/ep=0, n/st=10, player_1/loss=47.756, player_2/loss=92.428, rew=54.00]\n"
     ]
    },
    {
     "name": "stdout",
     "output_type": "stream",
     "text": [
      "Epoch #108: test_reward: -35442.300000 ± 46742.638272, best_reward: 213.800000 ± 181.063967 in #81\n"
     ]
    },
    {
     "name": "stderr",
     "output_type": "stream",
     "text": [
      "Epoch #109: 1030it [00:01, 567.67it/s, env_step=112270, len=8, n/ep=1, n/st=10, player_1/loss=54.805, player_2/loss=107.064, rew=70.00]\n"
     ]
    },
    {
     "name": "stdout",
     "output_type": "stream",
     "text": [
      "Epoch #109: test_reward: 68.200000 ± 22.297085, best_reward: 213.800000 ± 181.063967 in #81\n"
     ]
    },
    {
     "name": "stderr",
     "output_type": "stream",
     "text": [
      "Epoch #110: 1030it [00:01, 563.09it/s, env_step=113300, len=11, n/ep=1, n/st=10, player_1/loss=59.725, player_2/loss=59.628, rew=130.00]\n"
     ]
    },
    {
     "name": "stdout",
     "output_type": "stream",
     "text": [
      "Epoch #110: test_reward: -34.400000 ± 265.200000, best_reward: 213.800000 ± 181.063967 in #81\n"
     ]
    },
    {
     "name": "stderr",
     "output_type": "stream",
     "text": [
      "Epoch #111: 1030it [00:01, 574.90it/s, env_step=114330, len=7, n/ep=0, n/st=10, player_1/loss=48.861, player_2/loss=55.484, rew=54.00]\n"
     ]
    },
    {
     "name": "stdout",
     "output_type": "stream",
     "text": [
      "Epoch #111: test_reward: -1164.200000 ± 3665.947348, best_reward: 213.800000 ± 181.063967 in #81\n"
     ]
    },
    {
     "name": "stderr",
     "output_type": "stream",
     "text": [
      "Epoch #112: 1030it [00:01, 560.94it/s, env_step=115360, len=13, n/ep=0, n/st=10, player_1/loss=44.772, player_2/loss=49.833, rew=184.00]\n"
     ]
    },
    {
     "name": "stdout",
     "output_type": "stream",
     "text": [
      "Epoch #112: test_reward: 62.400000 ± 13.646978, best_reward: 213.800000 ± 181.063967 in #81\n"
     ]
    },
    {
     "name": "stderr",
     "output_type": "stream",
     "text": [
      "Epoch #113: 1030it [00:01, 559.14it/s, env_step=116390, len=36, n/ep=1, n/st=10, player_1/loss=71.063, player_2/loss=67.979, rew=340.00]\n"
     ]
    },
    {
     "name": "stdout",
     "output_type": "stream",
     "text": [
      "Epoch #113: test_reward: 57.400000 ± 10.200000, best_reward: 213.800000 ± 181.063967 in #81\n"
     ]
    },
    {
     "name": "stderr",
     "output_type": "stream",
     "text": [
      "Epoch #114: 1030it [00:01, 555.37it/s, env_step=117420, len=9, n/ep=2, n/st=10, player_1/loss=44.065, player_2/loss=63.044, rew=104.00]\n"
     ]
    },
    {
     "name": "stdout",
     "output_type": "stream",
     "text": [
      "Epoch #114: test_reward: 59.400000 ± 16.200000, best_reward: 213.800000 ± 181.063967 in #81\n"
     ]
    },
    {
     "name": "stderr",
     "output_type": "stream",
     "text": [
      "Epoch #115: 1030it [00:02, 511.35it/s, env_step=118450, len=7, n/ep=1, n/st=10, player_1/loss=34.509, player_2/loss=37.284, rew=54.00]\n"
     ]
    },
    {
     "name": "stdout",
     "output_type": "stream",
     "text": [
      "Epoch #115: test_reward: 73.200000 ± 21.710827, best_reward: 213.800000 ± 181.063967 in #81\n"
     ]
    },
    {
     "name": "stderr",
     "output_type": "stream",
     "text": [
      "Epoch #116: 1030it [00:02, 499.23it/s, env_step=119480, len=9, n/ep=0, n/st=10, player_1/loss=54.842, player_2/loss=53.704, rew=92.00]\n"
     ]
    },
    {
     "name": "stdout",
     "output_type": "stream",
     "text": [
      "Epoch #116: test_reward: -1999.100000 ± 6159.300000, best_reward: 213.800000 ± 181.063967 in #81\n"
     ]
    },
    {
     "name": "stderr",
     "output_type": "stream",
     "text": [
      "Epoch #117: 1030it [00:02, 501.62it/s, env_step=120510, len=9, n/ep=0, n/st=10, player_1/loss=48.849, player_2/loss=57.390, rew=88.00]\n"
     ]
    },
    {
     "name": "stdout",
     "output_type": "stream",
     "text": [
      "Epoch #117: test_reward: 70.000000 ± 24.049948, best_reward: 213.800000 ± 181.063967 in #81\n"
     ]
    },
    {
     "name": "stderr",
     "output_type": "stream",
     "text": [
      "Epoch #118: 1030it [00:02, 474.14it/s, env_step=121540, len=10, n/ep=0, n/st=10, player_1/loss=99.927, player_2/loss=71.600, rew=112.00]\n"
     ]
    },
    {
     "name": "stdout",
     "output_type": "stream",
     "text": [
      "Epoch #118: test_reward: -33536.600000 ± 38644.564524, best_reward: 213.800000 ± 181.063967 in #81\n"
     ]
    },
    {
     "name": "stderr",
     "output_type": "stream",
     "text": [
      "Epoch #119: 1030it [00:02, 441.95it/s, env_step=122570, len=9, n/ep=0, n/st=10, player_1/loss=49.586, player_2/loss=58.076, rew=88.00]\n"
     ]
    },
    {
     "name": "stdout",
     "output_type": "stream",
     "text": [
      "Epoch #119: test_reward: -11559.900000 ± 9995.257750, best_reward: 213.800000 ± 181.063967 in #81\n"
     ]
    },
    {
     "name": "stderr",
     "output_type": "stream",
     "text": [
      "Epoch #120: 1030it [00:02, 423.40it/s, env_step=123600, len=7, n/ep=2, n/st=10, player_1/loss=67.533, player_2/loss=76.736, rew=54.00]\n"
     ]
    },
    {
     "name": "stdout",
     "output_type": "stream",
     "text": [
      "Epoch #120: test_reward: 65.800000 ± 15.269578, best_reward: 213.800000 ± 181.063967 in #81\n"
     ]
    },
    {
     "name": "stderr",
     "output_type": "stream",
     "text": [
      "Epoch #121: 1030it [00:02, 423.82it/s, env_step=124630, len=10, n/ep=1, n/st=10, player_1/loss=55.935, player_2/loss=99.651, rew=108.00]\n"
     ]
    },
    {
     "name": "stdout",
     "output_type": "stream",
     "text": [
      "Epoch #121: test_reward: 87.700000 ± 95.885400, best_reward: 213.800000 ± 181.063967 in #81\n"
     ]
    },
    {
     "name": "stderr",
     "output_type": "stream",
     "text": [
      "Epoch #122: 1030it [00:02, 412.57it/s, env_step=125660, len=9, n/ep=1, n/st=10, player_1/loss=38.502, player_2/loss=45.300, rew=88.00]\n"
     ]
    },
    {
     "name": "stdout",
     "output_type": "stream",
     "text": [
      "Epoch #122: test_reward: 54.000000 ± 0.000000, best_reward: 213.800000 ± 181.063967 in #81\n"
     ]
    },
    {
     "name": "stderr",
     "output_type": "stream",
     "text": [
      "Epoch #123: 1030it [00:02, 424.97it/s, env_step=126690, len=10, n/ep=0, n/st=10, player_1/loss=80.125, player_2/loss=72.963, rew=119.00]\n"
     ]
    },
    {
     "name": "stdout",
     "output_type": "stream",
     "text": [
      "Epoch #123: test_reward: 70.800000 ± 30.805194, best_reward: 213.800000 ± 181.063967 in #81\n"
     ]
    },
    {
     "name": "stderr",
     "output_type": "stream",
     "text": [
      "Epoch #124: 1030it [00:02, 426.77it/s, env_step=127720, len=7, n/ep=3, n/st=10, player_1/loss=110.915, player_2/loss=113.775, rew=59.33]\n"
     ]
    },
    {
     "name": "stdout",
     "output_type": "stream",
     "text": [
      "Epoch #124: test_reward: 62.400000 ± 13.646978, best_reward: 213.800000 ± 181.063967 in #81\n"
     ]
    },
    {
     "name": "stderr",
     "output_type": "stream",
     "text": [
      "Epoch #125: 1030it [00:02, 418.93it/s, env_step=128750, len=7, n/ep=0, n/st=10, player_1/loss=37.109, player_2/loss=51.128, rew=54.00]\n"
     ]
    },
    {
     "name": "stdout",
     "output_type": "stream",
     "text": [
      "Epoch #125: test_reward: -394.500000 ± 1379.583796, best_reward: 213.800000 ± 181.063967 in #81\n"
     ]
    },
    {
     "name": "stderr",
     "output_type": "stream",
     "text": [
      "Epoch #126: 1030it [00:02, 422.94it/s, env_step=129780, len=7, n/ep=0, n/st=10, player_1/loss=76.622, player_2/loss=80.820, rew=54.00]\n"
     ]
    },
    {
     "name": "stdout",
     "output_type": "stream",
     "text": [
      "Epoch #126: test_reward: -18737.900000 ± 13159.551166, best_reward: 213.800000 ± 181.063967 in #81\n"
     ]
    },
    {
     "name": "stderr",
     "output_type": "stream",
     "text": [
      "Epoch #127: 1030it [00:02, 419.80it/s, env_step=130810, len=8, n/ep=0, n/st=10, player_1/loss=75.603, player_2/loss=66.781, rew=81.00]\n"
     ]
    },
    {
     "name": "stdout",
     "output_type": "stream",
     "text": [
      "Epoch #127: test_reward: 54.000000 ± 0.000000, best_reward: 213.800000 ± 181.063967 in #81\n"
     ]
    },
    {
     "name": "stderr",
     "output_type": "stream",
     "text": [
      "Epoch #128: 1030it [00:02, 421.56it/s, env_step=131840, len=7, n/ep=1, n/st=10, player_1/loss=68.198, player_2/loss=56.790, rew=54.00]\n"
     ]
    },
    {
     "name": "stdout",
     "output_type": "stream",
     "text": [
      "Epoch #128: test_reward: -70.200000 ± 413.698876, best_reward: 213.800000 ± 181.063967 in #81\n"
     ]
    },
    {
     "name": "stderr",
     "output_type": "stream",
     "text": [
      "Epoch #129: 1030it [00:02, 434.08it/s, env_step=132870, len=7, n/ep=1, n/st=10, player_1/loss=60.428, player_2/loss=75.065, rew=54.00]\n"
     ]
    },
    {
     "name": "stdout",
     "output_type": "stream",
     "text": [
      "Epoch #129: test_reward: 55.600000 ± 4.800000, best_reward: 213.800000 ± 181.063967 in #81\n"
     ]
    },
    {
     "name": "stderr",
     "output_type": "stream",
     "text": [
      "Epoch #130: 1030it [00:02, 417.62it/s, env_step=133900, len=7, n/ep=1, n/st=10, player_1/loss=89.401, player_2/loss=89.588, rew=54.00]\n"
     ]
    },
    {
     "name": "stdout",
     "output_type": "stream",
     "text": [
      "Epoch #130: test_reward: -17.500000 ± 226.060722, best_reward: 213.800000 ± 181.063967 in #81\n"
     ]
    },
    {
     "name": "stderr",
     "output_type": "stream",
     "text": [
      "Epoch #131: 1030it [00:02, 421.28it/s, env_step=134930, len=11, n/ep=1, n/st=10, player_1/loss=124.812, player_2/loss=145.617, rew=130.00]\n"
     ]
    },
    {
     "name": "stdout",
     "output_type": "stream",
     "text": [
      "Epoch #131: test_reward: -12827.800000 ± 12794.832971, best_reward: 213.800000 ± 181.063967 in #81\n"
     ]
    },
    {
     "name": "stderr",
     "output_type": "stream",
     "text": [
      "Epoch #132: 1030it [00:02, 421.42it/s, env_step=135960, len=9, n/ep=2, n/st=10, player_1/loss=130.464, player_2/loss=60.023, rew=92.00]\n"
     ]
    },
    {
     "name": "stdout",
     "output_type": "stream",
     "text": [
      "Epoch #132: test_reward: -10107.900000 ± 20841.396443, best_reward: 213.800000 ± 181.063967 in #81\n"
     ]
    },
    {
     "name": "stderr",
     "output_type": "stream",
     "text": [
      "Epoch #133: 1030it [00:02, 418.71it/s, env_step=136990, len=11, n/ep=1, n/st=10, player_1/loss=52.916, player_2/loss=57.667, rew=130.00]\n"
     ]
    },
    {
     "name": "stdout",
     "output_type": "stream",
     "text": [
      "Epoch #133: test_reward: 69.000000 ± 30.268796, best_reward: 213.800000 ± 181.063967 in #81\n"
     ]
    },
    {
     "name": "stderr",
     "output_type": "stream",
     "text": [
      "Epoch #134: 1030it [00:02, 427.27it/s, env_step=138020, len=8, n/ep=4, n/st=10, player_1/loss=88.163, player_2/loss=120.683, rew=70.50]\n"
     ]
    },
    {
     "name": "stdout",
     "output_type": "stream",
     "text": [
      "Epoch #134: test_reward: 60.800000 ± 13.600000, best_reward: 213.800000 ± 181.063967 in #81\n"
     ]
    },
    {
     "name": "stderr",
     "output_type": "stream",
     "text": [
      "Epoch #135: 1030it [00:02, 423.84it/s, env_step=139050, len=8, n/ep=1, n/st=10, player_1/loss=31.032, player_2/loss=51.176, rew=70.00]\n"
     ]
    },
    {
     "name": "stdout",
     "output_type": "stream",
     "text": [
      "Epoch #135: test_reward: 61.000000 ± 16.376813, best_reward: 213.800000 ± 181.063967 in #81\n"
     ]
    },
    {
     "name": "stderr",
     "output_type": "stream",
     "text": [
      "Epoch #136: 1030it [00:02, 422.72it/s, env_step=140080, len=7, n/ep=2, n/st=10, player_1/loss=36.283, player_2/loss=47.727, rew=62.00]\n"
     ]
    },
    {
     "name": "stdout",
     "output_type": "stream",
     "text": [
      "Epoch #136: test_reward: 72.600000 ± 31.572773, best_reward: 213.800000 ± 181.063967 in #81\n"
     ]
    },
    {
     "name": "stderr",
     "output_type": "stream",
     "text": [
      "Epoch #137: 1030it [00:02, 418.72it/s, env_step=141110, len=9, n/ep=1, n/st=10, player_1/loss=38.174, player_2/loss=67.894, rew=88.00]\n"
     ]
    },
    {
     "name": "stdout",
     "output_type": "stream",
     "text": [
      "Epoch #137: test_reward: 64.400000 ± 18.017769, best_reward: 213.800000 ± 181.063967 in #81\n"
     ]
    },
    {
     "name": "stderr",
     "output_type": "stream",
     "text": [
      "Epoch #138: 1030it [00:02, 431.77it/s, env_step=142140, len=98, n/ep=0, n/st=10, player_1/loss=122.912, player_2/loss=124.674, rew=1249.00]\n"
     ]
    },
    {
     "name": "stdout",
     "output_type": "stream",
     "text": [
      "Epoch #138: test_reward: -33578.400000 ± 44321.528550, best_reward: 213.800000 ± 181.063967 in #81\n"
     ]
    },
    {
     "name": "stderr",
     "output_type": "stream",
     "text": [
      "Epoch #139: 1030it [00:02, 434.49it/s, env_step=143170, len=24, n/ep=0, n/st=10, player_1/loss=128.189, player_2/loss=425.487, rew=220.00]\n"
     ]
    },
    {
     "name": "stdout",
     "output_type": "stream",
     "text": [
      "Epoch #139: test_reward: -354.100000 ± 1235.674913, best_reward: 213.800000 ± 181.063967 in #81\n"
     ]
    },
    {
     "name": "stderr",
     "output_type": "stream",
     "text": [
      "Epoch #140: 1030it [00:02, 421.70it/s, env_step=144200, len=9, n/ep=1, n/st=10, player_1/loss=112.964, player_2/loss=178.367, rew=88.00]\n"
     ]
    },
    {
     "name": "stdout",
     "output_type": "stream",
     "text": [
      "Epoch #140: test_reward: 62.400000 ± 13.646978, best_reward: 213.800000 ± 181.063967 in #81\n"
     ]
    },
    {
     "name": "stderr",
     "output_type": "stream",
     "text": [
      "Epoch #141: 1030it [00:02, 424.56it/s, env_step=145230, len=11, n/ep=1, n/st=10, player_1/loss=76.744, player_2/loss=80.846, rew=130.00]\n"
     ]
    },
    {
     "name": "stdout",
     "output_type": "stream",
     "text": [
      "Epoch #141: test_reward: 66.200000 ± 19.338045, best_reward: 213.800000 ± 181.063967 in #81\n"
     ]
    },
    {
     "name": "stderr",
     "output_type": "stream",
     "text": [
      "Epoch #142: 1030it [00:02, 424.09it/s, env_step=146260, len=10, n/ep=0, n/st=10, player_1/loss=164.115, player_2/loss=105.894, rew=108.00]\n"
     ]
    },
    {
     "name": "stdout",
     "output_type": "stream",
     "text": [
      "Epoch #142: test_reward: 55.600000 ± 4.800000, best_reward: 213.800000 ± 181.063967 in #81\n"
     ]
    },
    {
     "name": "stderr",
     "output_type": "stream",
     "text": [
      "Epoch #143: 1030it [00:02, 419.03it/s, env_step=147290, len=11, n/ep=1, n/st=10, player_1/loss=50.057, player_2/loss=137.237, rew=130.00]\n"
     ]
    },
    {
     "name": "stdout",
     "output_type": "stream",
     "text": [
      "Epoch #143: test_reward: 59.000000 ± 10.779610, best_reward: 213.800000 ± 181.063967 in #81\n"
     ]
    },
    {
     "name": "stderr",
     "output_type": "stream",
     "text": [
      "Epoch #144: 1030it [00:02, 450.79it/s, env_step=148320, len=11, n/ep=2, n/st=10, player_1/loss=77.113, player_2/loss=119.293, rew=131.00]\n"
     ]
    },
    {
     "name": "stdout",
     "output_type": "stream",
     "text": [
      "Epoch #144: test_reward: 54.000000 ± 0.000000, best_reward: 213.800000 ± 181.063967 in #81\n"
     ]
    },
    {
     "name": "stderr",
     "output_type": "stream",
     "text": [
      "Epoch #145: 1030it [00:01, 544.83it/s, env_step=149350, len=16, n/ep=0, n/st=10, player_1/loss=60.780, player_2/loss=67.347, rew=270.00]\n"
     ]
    },
    {
     "name": "stdout",
     "output_type": "stream",
     "text": [
      "Epoch #145: test_reward: 127.300000 ± 179.417976, best_reward: 213.800000 ± 181.063967 in #81\n"
     ]
    },
    {
     "name": "stderr",
     "output_type": "stream",
     "text": [
      "Epoch #146: 1030it [00:01, 556.03it/s, env_step=150380, len=53, n/ep=1, n/st=10, player_1/loss=57.115, player_2/loss=55.274, rew=706.00]\n"
     ]
    },
    {
     "name": "stdout",
     "output_type": "stream",
     "text": [
      "Epoch #146: test_reward: -23941.600000 ± 23301.765329, best_reward: 213.800000 ± 181.063967 in #81\n"
     ]
    },
    {
     "name": "stderr",
     "output_type": "stream",
     "text": [
      "Epoch #147: 1030it [00:02, 514.09it/s, env_step=151410, len=7, n/ep=1, n/st=10, player_1/loss=79.183, player_2/loss=83.120, rew=54.00]\n"
     ]
    },
    {
     "name": "stdout",
     "output_type": "stream",
     "text": [
      "Epoch #147: test_reward: 66.400000 ± 22.374986, best_reward: 213.800000 ± 181.063967 in #81\n"
     ]
    },
    {
     "name": "stderr",
     "output_type": "stream",
     "text": [
      "Epoch #148: 1030it [00:02, 501.90it/s, env_step=152440, len=8, n/ep=0, n/st=10, player_1/loss=82.772, player_2/loss=241.555, rew=71.00]\n"
     ]
    },
    {
     "name": "stdout",
     "output_type": "stream",
     "text": [
      "Epoch #148: test_reward: 57.400000 ± 10.200000, best_reward: 213.800000 ± 181.063967 in #81\n"
     ]
    },
    {
     "name": "stderr",
     "output_type": "stream",
     "text": [
      "Epoch #149: 1030it [00:02, 483.68it/s, env_step=153470, len=60, n/ep=0, n/st=10, player_1/loss=56.386, player_2/loss=46.959, rew=967.00]\n"
     ]
    },
    {
     "name": "stdout",
     "output_type": "stream",
     "text": [
      "Epoch #149: test_reward: 57.200000 ± 6.400000, best_reward: 213.800000 ± 181.063967 in #81\n"
     ]
    },
    {
     "name": "stderr",
     "output_type": "stream",
     "text": [
      "Epoch #150: 1030it [00:02, 466.54it/s, env_step=154500, len=140, n/ep=1, n/st=10, player_1/loss=78.690, player_2/loss=80.115, rew=499.00]\n"
     ]
    },
    {
     "name": "stdout",
     "output_type": "stream",
     "text": [
      "Epoch #150: test_reward: -5197.100000 ± 15775.303753, best_reward: 213.800000 ± 181.063967 in #81\n"
     ]
    },
    {
     "name": "stderr",
     "output_type": "stream",
     "text": [
      "Epoch #151: 1030it [00:02, 439.30it/s, env_step=155530, len=9, n/ep=0, n/st=10, player_1/loss=94.515, player_2/loss=77.481, rew=88.00]\n"
     ]
    },
    {
     "name": "stdout",
     "output_type": "stream",
     "text": [
      "Epoch #151: test_reward: 11.500000 ± 177.140199, best_reward: 213.800000 ± 181.063967 in #81\n"
     ]
    },
    {
     "name": "stderr",
     "output_type": "stream",
     "text": [
      "Epoch #152: 1030it [00:02, 438.63it/s, env_step=156560, len=9, n/ep=2, n/st=10, player_1/loss=85.212, player_2/loss=71.162, rew=89.00]\n"
     ]
    },
    {
     "name": "stdout",
     "output_type": "stream",
     "text": [
      "Epoch #152: test_reward: -1640.900000 ± 5102.725398, best_reward: 213.800000 ± 181.063967 in #81\n"
     ]
    },
    {
     "name": "stderr",
     "output_type": "stream",
     "text": [
      "Epoch #153: 1030it [00:02, 437.11it/s, env_step=157590, len=46, n/ep=0, n/st=10, player_1/loss=49.445, player_2/loss=73.349, rew=132.00]\n"
     ]
    },
    {
     "name": "stdout",
     "output_type": "stream",
     "text": [
      "Epoch #153: test_reward: 59.000000 ± 10.779610, best_reward: 213.800000 ± 181.063967 in #81\n"
     ]
    },
    {
     "name": "stderr",
     "output_type": "stream",
     "text": [
      "Epoch #154: 1030it [00:02, 434.48it/s, env_step=158620, len=8, n/ep=0, n/st=10, player_1/loss=63.465, player_2/loss=94.692, rew=70.00]\n"
     ]
    },
    {
     "name": "stdout",
     "output_type": "stream",
     "text": [
      "Epoch #154: test_reward: 62.400000 ± 13.646978, best_reward: 213.800000 ± 181.063967 in #81\n"
     ]
    },
    {
     "name": "stderr",
     "output_type": "stream",
     "text": [
      "Epoch #155: 1030it [00:02, 437.33it/s, env_step=159650, len=7, n/ep=1, n/st=10, player_1/loss=90.698, player_2/loss=101.039, rew=54.00]\n"
     ]
    },
    {
     "name": "stdout",
     "output_type": "stream",
     "text": [
      "Epoch #155: test_reward: -10517.900000 ± 24085.277098, best_reward: 213.800000 ± 181.063967 in #81\n"
     ]
    },
    {
     "name": "stderr",
     "output_type": "stream",
     "text": [
      "Epoch #156: 1030it [00:02, 440.24it/s, env_step=160680, len=9, n/ep=1, n/st=10, player_1/loss=80.870, player_2/loss=135.091, rew=88.00]\n"
     ]
    },
    {
     "name": "stdout",
     "output_type": "stream",
     "text": [
      "Epoch #156: test_reward: 54.000000 ± 0.000000, best_reward: 213.800000 ± 181.063967 in #81\n"
     ]
    },
    {
     "name": "stderr",
     "output_type": "stream",
     "text": [
      "Epoch #157: 1030it [00:02, 431.79it/s, env_step=161710, len=78, n/ep=1, n/st=10, player_1/loss=59.836, player_2/loss=100.574, rew=1681.00]\n"
     ]
    },
    {
     "name": "stdout",
     "output_type": "stream",
     "text": [
      "Epoch #157: test_reward: -33616.800000 ± 38336.320298, best_reward: 213.800000 ± 181.063967 in #81\n"
     ]
    },
    {
     "name": "stderr",
     "output_type": "stream",
     "text": [
      "Epoch #158: 1030it [00:02, 432.57it/s, env_step=162740, len=13, n/ep=0, n/st=10, player_1/loss=71.676, player_2/loss=241.295, rew=180.00]\n"
     ]
    },
    {
     "name": "stdout",
     "output_type": "stream",
     "text": [
      "Epoch #158: test_reward: 55.600000 ± 4.800000, best_reward: 213.800000 ± 181.063967 in #81\n"
     ]
    },
    {
     "name": "stderr",
     "output_type": "stream",
     "text": [
      "Epoch #159: 1030it [00:02, 431.20it/s, env_step=163770, len=11, n/ep=1, n/st=10, player_1/loss=56.129, player_2/loss=210.654, rew=130.00]\n"
     ]
    },
    {
     "name": "stdout",
     "output_type": "stream",
     "text": [
      "Epoch #159: test_reward: 57.400000 ± 10.200000, best_reward: 213.800000 ± 181.063967 in #81\n"
     ]
    },
    {
     "name": "stderr",
     "output_type": "stream",
     "text": [
      "Epoch #160: 1030it [00:02, 428.14it/s, env_step=164800, len=11, n/ep=2, n/st=10, player_1/loss=54.165, player_2/loss=75.219, rew=134.00]\n"
     ]
    },
    {
     "name": "stdout",
     "output_type": "stream",
     "text": [
      "Epoch #160: test_reward: 54.000000 ± 0.000000, best_reward: 213.800000 ± 181.063967 in #81\n"
     ]
    },
    {
     "name": "stderr",
     "output_type": "stream",
     "text": [
      "Epoch #161: 1030it [00:02, 422.88it/s, env_step=165830, len=11, n/ep=3, n/st=10, player_1/loss=62.316, player_2/loss=72.480, rew=138.00]\n"
     ]
    },
    {
     "name": "stdout",
     "output_type": "stream",
     "text": [
      "Epoch #161: test_reward: 59.000000 ± 10.779610, best_reward: 213.800000 ± 181.063967 in #81\n"
     ]
    },
    {
     "name": "stderr",
     "output_type": "stream",
     "text": [
      "Epoch #162: 1030it [00:01, 563.42it/s, env_step=166860, len=57, n/ep=0, n/st=10, player_1/loss=66.651, player_2/loss=74.618, rew=652.00]\n"
     ]
    },
    {
     "name": "stdout",
     "output_type": "stream",
     "text": [
      "Epoch #162: test_reward: 71.500000 ± 52.500000, best_reward: 213.800000 ± 181.063967 in #81\n"
     ]
    },
    {
     "name": "stderr",
     "output_type": "stream",
     "text": [
      "Epoch #163: 1030it [00:01, 564.07it/s, env_step=167890, len=10, n/ep=0, n/st=10, player_1/loss=74.112, player_2/loss=112.674, rew=119.00]\n"
     ]
    },
    {
     "name": "stdout",
     "output_type": "stream",
     "text": [
      "Epoch #163: test_reward: -1642.600000 ± 5101.143405, best_reward: 213.800000 ± 181.063967 in #81\n"
     ]
    },
    {
     "name": "stderr",
     "output_type": "stream",
     "text": [
      "Epoch #164: 1030it [00:01, 567.63it/s, env_step=168920, len=28, n/ep=0, n/st=10, player_1/loss=79.651, player_2/loss=92.885, rew=321.00]\n"
     ]
    },
    {
     "name": "stdout",
     "output_type": "stream",
     "text": [
      "Epoch #164: test_reward: -30965.100000 ± 28581.218233, best_reward: 213.800000 ± 181.063967 in #81\n"
     ]
    },
    {
     "name": "stderr",
     "output_type": "stream",
     "text": [
      "Epoch #165: 1030it [00:01, 565.41it/s, env_step=169950, len=7, n/ep=0, n/st=10, player_1/loss=91.761, player_2/loss=83.369, rew=54.00]\n"
     ]
    },
    {
     "name": "stdout",
     "output_type": "stream",
     "text": [
      "Epoch #165: test_reward: 68.400000 ± 24.524274, best_reward: 213.800000 ± 181.063967 in #81\n"
     ]
    },
    {
     "name": "stderr",
     "output_type": "stream",
     "text": [
      "Epoch #166: 1030it [00:01, 571.88it/s, env_step=170980, len=8, n/ep=2, n/st=10, player_1/loss=96.260, player_2/loss=79.782, rew=81.00]\n"
     ]
    },
    {
     "name": "stdout",
     "output_type": "stream",
     "text": [
      "Epoch #166: test_reward: 81.200000 ± 70.994084, best_reward: 213.800000 ± 181.063967 in #81\n"
     ]
    },
    {
     "name": "stderr",
     "output_type": "stream",
     "text": [
      "Epoch #167: 1030it [00:01, 561.15it/s, env_step=172010, len=11, n/ep=5, n/st=10, player_1/loss=99.419, player_2/loss=86.283, rew=165.60]\n"
     ]
    },
    {
     "name": "stdout",
     "output_type": "stream",
     "text": [
      "Epoch #167: test_reward: 81.200000 ± 70.994084, best_reward: 213.800000 ± 181.063967 in #81\n"
     ]
    },
    {
     "name": "stderr",
     "output_type": "stream",
     "text": [
      "Epoch #168: 1030it [00:01, 569.69it/s, env_step=173040, len=10, n/ep=0, n/st=10, player_1/loss=69.215, player_2/loss=67.366, rew=108.00]\n"
     ]
    },
    {
     "name": "stdout",
     "output_type": "stream",
     "text": [
      "Epoch #168: test_reward: 57.400000 ± 10.200000, best_reward: 213.800000 ± 181.063967 in #81\n"
     ]
    },
    {
     "name": "stderr",
     "output_type": "stream",
     "text": [
      "Epoch #169: 1030it [00:01, 555.62it/s, env_step=174070, len=7, n/ep=0, n/st=10, player_1/loss=98.790, player_2/loss=130.632, rew=54.00]\n"
     ]
    },
    {
     "name": "stdout",
     "output_type": "stream",
     "text": [
      "Epoch #169: test_reward: 64.200000 ± 16.259151, best_reward: 213.800000 ± 181.063967 in #81\n"
     ]
    },
    {
     "name": "stderr",
     "output_type": "stream",
     "text": [
      "Epoch #170: 1030it [00:01, 518.12it/s, env_step=175100, len=8, n/ep=1, n/st=10, player_1/loss=95.880, player_2/loss=59.125, rew=70.00]\n"
     ]
    },
    {
     "name": "stdout",
     "output_type": "stream",
     "text": [
      "Epoch #170: test_reward: 66.000000 ± 17.731328, best_reward: 213.800000 ± 181.063967 in #81\n"
     ]
    },
    {
     "name": "stderr",
     "output_type": "stream",
     "text": [
      "Epoch #171: 1030it [00:01, 515.88it/s, env_step=176130, len=10, n/ep=0, n/st=10, player_1/loss=75.568, player_2/loss=75.336, rew=109.00]\n"
     ]
    },
    {
     "name": "stdout",
     "output_type": "stream",
     "text": [
      "Epoch #171: test_reward: 57.700000 ± 21.540891, best_reward: 213.800000 ± 181.063967 in #81\n"
     ]
    },
    {
     "name": "stderr",
     "output_type": "stream",
     "text": [
      "Epoch #172: 1030it [00:01, 565.29it/s, env_step=177160, len=20, n/ep=0, n/st=10, player_1/loss=67.066, player_2/loss=86.146, rew=247.00]\n"
     ]
    },
    {
     "name": "stdout",
     "output_type": "stream",
     "text": [
      "Epoch #172: test_reward: -29143.500000 ± 19465.979966, best_reward: 213.800000 ± 181.063967 in #81\n"
     ]
    },
    {
     "name": "stderr",
     "output_type": "stream",
     "text": [
      "Epoch #173: 1030it [00:01, 553.24it/s, env_step=178190, len=8, n/ep=3, n/st=10, player_1/loss=69.123, player_2/loss=85.885, rew=82.00]\n"
     ]
    },
    {
     "name": "stdout",
     "output_type": "stream",
     "text": [
      "Epoch #173: test_reward: -72.200000 ± 402.260065, best_reward: 213.800000 ± 181.063967 in #81\n"
     ]
    },
    {
     "name": "stderr",
     "output_type": "stream",
     "text": [
      "Epoch #174: 1030it [00:01, 515.03it/s, env_step=179220, len=25, n/ep=1, n/st=10, player_1/loss=141.962, player_2/loss=147.356, rew=384.00]\n"
     ]
    },
    {
     "name": "stdout",
     "output_type": "stream",
     "text": [
      "Epoch #174: test_reward: 59.000000 ± 10.779610, best_reward: 213.800000 ± 181.063967 in #81\n"
     ]
    },
    {
     "name": "stderr",
     "output_type": "stream",
     "text": [
      "Epoch #175: 1030it [00:02, 506.64it/s, env_step=180250, len=140, n/ep=0, n/st=10, player_1/loss=187.393, player_2/loss=146.306, rew=1111.00]\n"
     ]
    },
    {
     "name": "stdout",
     "output_type": "stream",
     "text": [
      "Epoch #175: test_reward: -12763.500000 ± 16986.724353, best_reward: 213.800000 ± 181.063967 in #81\n"
     ]
    },
    {
     "name": "stderr",
     "output_type": "stream",
     "text": [
      "Epoch #176: 1030it [00:02, 493.56it/s, env_step=181280, len=7, n/ep=2, n/st=10, player_1/loss=56.450, player_2/loss=134.859, rew=62.00]\n"
     ]
    },
    {
     "name": "stdout",
     "output_type": "stream",
     "text": [
      "Epoch #176: test_reward: 60.600000 ± 11.101351, best_reward: 213.800000 ± 181.063967 in #81\n"
     ]
    },
    {
     "name": "stderr",
     "output_type": "stream",
     "text": [
      "Epoch #177: 1030it [00:02, 464.59it/s, env_step=182310, len=11, n/ep=1, n/st=10, player_1/loss=64.671, player_2/loss=59.549, rew=130.00]\n"
     ]
    },
    {
     "name": "stdout",
     "output_type": "stream",
     "text": [
      "Epoch #177: test_reward: 54.000000 ± 0.000000, best_reward: 213.800000 ± 181.063967 in #81\n"
     ]
    },
    {
     "name": "stderr",
     "output_type": "stream",
     "text": [
      "Epoch #178: 1030it [00:02, 446.18it/s, env_step=183340, len=7, n/ep=1, n/st=10, player_1/loss=83.111, player_2/loss=129.417, rew=54.00]\n"
     ]
    },
    {
     "name": "stdout",
     "output_type": "stream",
     "text": [
      "Epoch #178: test_reward: 60.600000 ± 11.101351, best_reward: 213.800000 ± 181.063967 in #81\n"
     ]
    },
    {
     "name": "stderr",
     "output_type": "stream",
     "text": [
      "Epoch #179: 1030it [00:02, 442.88it/s, env_step=184370, len=122, n/ep=0, n/st=10, player_1/loss=143.991, player_2/loss=144.683, rew=-269.00]\n"
     ]
    },
    {
     "name": "stdout",
     "output_type": "stream",
     "text": [
      "Epoch #179: test_reward: -3591.300000 ± 10935.900000, best_reward: 213.800000 ± 181.063967 in #81\n"
     ]
    },
    {
     "name": "stderr",
     "output_type": "stream",
     "text": [
      "Epoch #180: 1030it [00:02, 400.39it/s, env_step=185400, len=7, n/ep=2, n/st=10, player_1/loss=95.515, player_2/loss=102.412, rew=62.00]\n"
     ]
    },
    {
     "name": "stdout",
     "output_type": "stream",
     "text": [
      "Epoch #180: test_reward: 72.000000 ± 26.199237, best_reward: 213.800000 ± 181.063967 in #81\n"
     ]
    },
    {
     "name": "stderr",
     "output_type": "stream",
     "text": [
      "Epoch #181: 1030it [00:02, 475.95it/s, env_step=186430, len=11, n/ep=1, n/st=10, player_1/loss=98.269, player_2/loss=108.467, rew=130.00]\n"
     ]
    },
    {
     "name": "stdout",
     "output_type": "stream",
     "text": [
      "Epoch #181: test_reward: 57.400000 ± 10.200000, best_reward: 213.800000 ± 181.063967 in #81\n"
     ]
    },
    {
     "name": "stderr",
     "output_type": "stream",
     "text": [
      "Epoch #182: 1030it [00:02, 501.26it/s, env_step=187460, len=7, n/ep=0, n/st=10, player_1/loss=57.884, player_2/loss=74.369, rew=64.67]\n"
     ]
    },
    {
     "name": "stdout",
     "output_type": "stream",
     "text": [
      "Epoch #182: test_reward: -29679.700000 ± 42275.363081, best_reward: 213.800000 ± 181.063967 in #81\n"
     ]
    },
    {
     "name": "stderr",
     "output_type": "stream",
     "text": [
      "Epoch #183: 1030it [00:02, 507.07it/s, env_step=188490, len=7, n/ep=1, n/st=10, player_1/loss=61.371, player_2/loss=60.727, rew=54.00]\n"
     ]
    },
    {
     "name": "stdout",
     "output_type": "stream",
     "text": [
      "Epoch #183: test_reward: 60.800000 ± 13.600000, best_reward: 213.800000 ± 181.063967 in #81\n"
     ]
    },
    {
     "name": "stderr",
     "output_type": "stream",
     "text": [
      "Epoch #184: 1030it [00:02, 511.09it/s, env_step=189520, len=11, n/ep=0, n/st=10, player_1/loss=82.254, player_2/loss=95.392, rew=130.00]\n"
     ]
    },
    {
     "name": "stdout",
     "output_type": "stream",
     "text": [
      "Epoch #184: test_reward: 69.200000 ± 16.029972, best_reward: 213.800000 ± 181.063967 in #81\n"
     ]
    },
    {
     "name": "stderr",
     "output_type": "stream",
     "text": [
      "Epoch #185: 1030it [00:01, 517.26it/s, env_step=190550, len=7, n/ep=2, n/st=10, player_1/loss=49.896, player_2/loss=115.655, rew=54.00]\n"
     ]
    },
    {
     "name": "stdout",
     "output_type": "stream",
     "text": [
      "Epoch #185: test_reward: 47.400000 ± 31.113341, best_reward: 213.800000 ± 181.063967 in #81\n"
     ]
    },
    {
     "name": "stderr",
     "output_type": "stream",
     "text": [
      "Epoch #186: 1030it [00:01, 517.34it/s, env_step=191580, len=8, n/ep=0, n/st=10, player_1/loss=54.655, player_2/loss=80.666, rew=70.00]\n"
     ]
    },
    {
     "name": "stdout",
     "output_type": "stream",
     "text": [
      "Epoch #186: test_reward: -17357.900000 ± 14000.566163, best_reward: 213.800000 ± 181.063967 in #81\n"
     ]
    },
    {
     "name": "stderr",
     "output_type": "stream",
     "text": [
      "Epoch #187: 1030it [00:01, 516.01it/s, env_step=192610, len=58, n/ep=0, n/st=10, player_1/loss=106.719, player_2/loss=123.361, rew=435.00]\n"
     ]
    },
    {
     "name": "stdout",
     "output_type": "stream",
     "text": [
      "Epoch #187: test_reward: -13288.100000 ± 18842.761552, best_reward: 213.800000 ± 181.063967 in #81\n"
     ]
    },
    {
     "name": "stderr",
     "output_type": "stream",
     "text": [
      "Epoch #188: 1030it [00:02, 495.30it/s, env_step=193640, len=7, n/ep=3, n/st=10, player_1/loss=110.678, player_2/loss=124.946, rew=54.00]\n"
     ]
    },
    {
     "name": "stdout",
     "output_type": "stream",
     "text": [
      "Epoch #188: test_reward: 54.000000 ± 0.000000, best_reward: 213.800000 ± 181.063967 in #81\n"
     ]
    },
    {
     "name": "stderr",
     "output_type": "stream",
     "text": [
      "Epoch #189: 1030it [00:02, 504.73it/s, env_step=194670, len=9, n/ep=0, n/st=10, player_1/loss=87.091, player_2/loss=66.150, rew=88.00]\n"
     ]
    },
    {
     "name": "stdout",
     "output_type": "stream",
     "text": [
      "Epoch #189: test_reward: 57.400000 ± 10.200000, best_reward: 213.800000 ± 181.063967 in #81\n"
     ]
    },
    {
     "name": "stderr",
     "output_type": "stream",
     "text": [
      "Epoch #190: 1030it [00:02, 502.69it/s, env_step=195700, len=8, n/ep=3, n/st=10, player_1/loss=36.635, player_2/loss=53.783, rew=87.33]\n"
     ]
    },
    {
     "name": "stdout",
     "output_type": "stream",
     "text": [
      "Epoch #190: test_reward: 54.000000 ± 0.000000, best_reward: 213.800000 ± 181.063967 in #81\n"
     ]
    },
    {
     "name": "stderr",
     "output_type": "stream",
     "text": [
      "Epoch #191: 1030it [00:01, 526.12it/s, env_step=196730, len=11, n/ep=6, n/st=10, player_1/loss=57.701, player_2/loss=68.827, rew=143.67]\n"
     ]
    },
    {
     "name": "stdout",
     "output_type": "stream",
     "text": [
      "Epoch #191: test_reward: -3570.500000 ± 10878.834379, best_reward: 213.800000 ± 181.063967 in #81\n"
     ]
    },
    {
     "name": "stderr",
     "output_type": "stream",
     "text": [
      "Epoch #192: 1030it [00:01, 563.24it/s, env_step=197760, len=38, n/ep=0, n/st=10, player_1/loss=41.162, player_2/loss=80.044, rew=577.00]\n"
     ]
    },
    {
     "name": "stdout",
     "output_type": "stream",
     "text": [
      "Epoch #192: test_reward: -30914.300000 ± 29268.200505, best_reward: 213.800000 ± 181.063967 in #81\n"
     ]
    },
    {
     "name": "stderr",
     "output_type": "stream",
     "text": [
      "Epoch #193: 1030it [00:01, 562.34it/s, env_step=198790, len=7, n/ep=1, n/st=10, player_1/loss=204.006, player_2/loss=98.909, rew=54.00]\n"
     ]
    },
    {
     "name": "stdout",
     "output_type": "stream",
     "text": [
      "Epoch #193: test_reward: -20900.600000 ± 20807.245061, best_reward: 213.800000 ± 181.063967 in #81\n"
     ]
    },
    {
     "name": "stderr",
     "output_type": "stream",
     "text": [
      "Epoch #194: 1030it [00:01, 544.98it/s, env_step=199820, len=60, n/ep=0, n/st=10, player_1/loss=104.476, player_2/loss=102.449, rew=451.00]\n"
     ]
    },
    {
     "name": "stdout",
     "output_type": "stream",
     "text": [
      "Epoch #194: test_reward: -1074.000000 ± 2309.656598, best_reward: 213.800000 ± 181.063967 in #81\n"
     ]
    },
    {
     "name": "stderr",
     "output_type": "stream",
     "text": [
      "Epoch #195: 1030it [00:01, 533.04it/s, env_step=200850, len=7, n/ep=0, n/st=10, player_1/loss=92.097, player_2/loss=126.808, rew=54.00]\n"
     ]
    },
    {
     "name": "stdout",
     "output_type": "stream",
     "text": [
      "Epoch #195: test_reward: -1074.800000 ± 3422.466269, best_reward: 213.800000 ± 181.063967 in #81\n"
     ]
    },
    {
     "name": "stderr",
     "output_type": "stream",
     "text": [
      "Epoch #196: 1030it [00:01, 555.68it/s, env_step=201880, len=11, n/ep=1, n/st=10, player_1/loss=56.497, player_2/loss=64.663, rew=130.00]\n"
     ]
    },
    {
     "name": "stdout",
     "output_type": "stream",
     "text": [
      "Epoch #196: test_reward: 62.800000 ± 18.159295, best_reward: 213.800000 ± 181.063967 in #81\n"
     ]
    },
    {
     "name": "stderr",
     "output_type": "stream",
     "text": [
      "Epoch #197: 1030it [00:01, 549.22it/s, env_step=202910, len=7, n/ep=1, n/st=10, player_1/loss=55.769, player_2/loss=80.357, rew=54.00]\n"
     ]
    },
    {
     "name": "stdout",
     "output_type": "stream",
     "text": [
      "Epoch #197: test_reward: 57.400000 ± 10.200000, best_reward: 213.800000 ± 181.063967 in #81\n"
     ]
    },
    {
     "name": "stderr",
     "output_type": "stream",
     "text": [
      "Epoch #198: 1030it [00:02, 448.38it/s, env_step=203940, len=7, n/ep=0, n/st=10, player_1/loss=57.060, player_2/loss=74.705, rew=54.00]\n"
     ]
    },
    {
     "name": "stdout",
     "output_type": "stream",
     "text": [
      "Epoch #198: test_reward: 85.000000 ± 16.522712, best_reward: 213.800000 ± 181.063967 in #81\n"
     ]
    },
    {
     "name": "stderr",
     "output_type": "stream",
     "text": [
      "Epoch #199: 1030it [00:01, 546.50it/s, env_step=204970, len=10, n/ep=1, n/st=10, player_1/loss=32.452, player_2/loss=79.715, rew=108.00]\n"
     ]
    },
    {
     "name": "stdout",
     "output_type": "stream",
     "text": [
      "Epoch #199: test_reward: 62.400000 ± 13.646978, best_reward: 213.800000 ± 181.063967 in #81\n"
     ]
    },
    {
     "name": "stderr",
     "output_type": "stream",
     "text": [
      "Epoch #200: 1030it [00:01, 561.86it/s, env_step=206000, len=10, n/ep=0, n/st=10, player_1/loss=86.964, player_2/loss=108.718, rew=108.00]\n"
     ]
    },
    {
     "name": "stdout",
     "output_type": "stream",
     "text": [
      "Epoch #200: test_reward: -1200.600000 ± 3821.854110, best_reward: 213.800000 ± 181.063967 in #81\n"
     ]
    },
    {
     "name": "stderr",
     "output_type": "stream",
     "text": [
      "Epoch #201: 1030it [00:01, 555.61it/s, env_step=207030, len=7, n/ep=1, n/st=10, player_1/loss=52.273, player_2/loss=57.478, rew=54.00]\n"
     ]
    },
    {
     "name": "stdout",
     "output_type": "stream",
     "text": [
      "Epoch #201: test_reward: 57.400000 ± 10.200000, best_reward: 213.800000 ± 181.063967 in #81\n"
     ]
    },
    {
     "name": "stderr",
     "output_type": "stream",
     "text": [
      "Epoch #202: 1030it [00:01, 518.94it/s, env_step=208060, len=11, n/ep=1, n/st=10, player_1/loss=113.002, player_2/loss=67.210, rew=130.00]\n"
     ]
    },
    {
     "name": "stdout",
     "output_type": "stream",
     "text": [
      "Epoch #202: test_reward: -5381.700000 ± 16317.767887, best_reward: 213.800000 ± 181.063967 in #81\n"
     ]
    },
    {
     "name": "stderr",
     "output_type": "stream",
     "text": [
      "Epoch #203: 1030it [00:01, 559.85it/s, env_step=209090, len=9, n/ep=2, n/st=10, player_1/loss=86.408, player_2/loss=120.101, rew=104.00]\n"
     ]
    },
    {
     "name": "stdout",
     "output_type": "stream",
     "text": [
      "Epoch #203: test_reward: 57.400000 ± 10.200000, best_reward: 213.800000 ± 181.063967 in #81\n"
     ]
    },
    {
     "name": "stderr",
     "output_type": "stream",
     "text": [
      "Epoch #204: 1030it [00:02, 504.14it/s, env_step=210120, len=25, n/ep=1, n/st=10, player_1/loss=91.786, player_2/loss=103.707, rew=480.00]\n"
     ]
    },
    {
     "name": "stdout",
     "output_type": "stream",
     "text": [
      "Epoch #204: test_reward: 57.400000 ± 10.200000, best_reward: 213.800000 ± 181.063967 in #81\n"
     ]
    },
    {
     "name": "stderr",
     "output_type": "stream",
     "text": [
      "Epoch #205: 1030it [00:01, 561.79it/s, env_step=211150, len=14, n/ep=0, n/st=10, player_1/loss=107.525, player_2/loss=129.437, rew=208.00]\n"
     ]
    },
    {
     "name": "stdout",
     "output_type": "stream",
     "text": [
      "Epoch #205: test_reward: -14749.000000 ± 23541.067448, best_reward: 213.800000 ± 181.063967 in #81\n"
     ]
    },
    {
     "name": "stderr",
     "output_type": "stream",
     "text": [
      "Epoch #206: 1030it [00:01, 560.29it/s, env_step=212180, len=7, n/ep=0, n/st=10, player_1/loss=74.222, player_2/loss=145.223, rew=54.00]\n"
     ]
    },
    {
     "name": "stdout",
     "output_type": "stream",
     "text": [
      "Epoch #206: test_reward: -21890.600000 ± 14198.776428, best_reward: 213.800000 ± 181.063967 in #81\n"
     ]
    },
    {
     "name": "stderr",
     "output_type": "stream",
     "text": [
      "Epoch #207: 1030it [00:01, 558.83it/s, env_step=213210, len=7, n/ep=1, n/st=10, player_1/loss=105.550, player_2/loss=91.646, rew=54.00]\n"
     ]
    },
    {
     "name": "stdout",
     "output_type": "stream",
     "text": [
      "Epoch #207: test_reward: -18.400000 ± 328.765935, best_reward: 213.800000 ± 181.063967 in #81\n"
     ]
    },
    {
     "name": "stderr",
     "output_type": "stream",
     "text": [
      "Epoch #208: 1030it [00:01, 551.80it/s, env_step=214240, len=7, n/ep=0, n/st=10, player_1/loss=76.820, player_2/loss=71.597, rew=65.33]\n"
     ]
    },
    {
     "name": "stdout",
     "output_type": "stream",
     "text": [
      "Epoch #208: test_reward: 54.000000 ± 0.000000, best_reward: 213.800000 ± 181.063967 in #81\n"
     ]
    },
    {
     "name": "stderr",
     "output_type": "stream",
     "text": [
      "Epoch #209: 1030it [00:01, 563.23it/s, env_step=215270, len=68, n/ep=0, n/st=10, player_1/loss=80.524, player_2/loss=77.539, rew=271.00]\n"
     ]
    },
    {
     "name": "stdout",
     "output_type": "stream",
     "text": [
      "Epoch #209: test_reward: -51832.000000 ± 77895.021872, best_reward: 213.800000 ± 181.063967 in #81\n"
     ]
    },
    {
     "name": "stderr",
     "output_type": "stream",
     "text": [
      "Epoch #210: 1030it [00:01, 560.50it/s, env_step=216300, len=7, n/ep=1, n/st=10, player_1/loss=139.836, player_2/loss=185.206, rew=54.00]\n"
     ]
    },
    {
     "name": "stdout",
     "output_type": "stream",
     "text": [
      "Epoch #210: test_reward: 67.800000 ± 18.919831, best_reward: 213.800000 ± 181.063967 in #81\n"
     ]
    },
    {
     "name": "stderr",
     "output_type": "stream",
     "text": [
      "Epoch #211: 1030it [00:01, 564.03it/s, env_step=217330, len=9, n/ep=0, n/st=10, player_1/loss=182.701, player_2/loss=198.090, rew=88.00]\n"
     ]
    },
    {
     "name": "stdout",
     "output_type": "stream",
     "text": [
      "Epoch #211: test_reward: -151.800000 ± 651.577440, best_reward: 213.800000 ± 181.063967 in #81\n"
     ]
    },
    {
     "name": "stderr",
     "output_type": "stream",
     "text": [
      "Epoch #212: 1030it [00:01, 549.11it/s, env_step=218360, len=8, n/ep=0, n/st=10, player_1/loss=170.461, player_2/loss=92.931, rew=70.00]\n"
     ]
    },
    {
     "name": "stdout",
     "output_type": "stream",
     "text": [
      "Epoch #212: test_reward: 86.800000 ± 16.497273, best_reward: 213.800000 ± 181.063967 in #81\n"
     ]
    },
    {
     "name": "stderr",
     "output_type": "stream",
     "text": [
      "Epoch #213: 1030it [00:01, 541.03it/s, env_step=219390, len=10, n/ep=1, n/st=10, player_1/loss=110.826, player_2/loss=68.146, rew=108.00]\n"
     ]
    },
    {
     "name": "stdout",
     "output_type": "stream",
     "text": [
      "Epoch #213: test_reward: 123.700000 ± 162.885266, best_reward: 213.800000 ± 181.063967 in #81\n"
     ]
    },
    {
     "name": "stderr",
     "output_type": "stream",
     "text": [
      "Epoch #214: 1030it [00:01, 556.77it/s, env_step=220420, len=7, n/ep=0, n/st=10, player_1/loss=56.880, player_2/loss=69.770, rew=54.00]\n"
     ]
    },
    {
     "name": "stdout",
     "output_type": "stream",
     "text": [
      "Epoch #214: test_reward: 64.200000 ± 15.580757, best_reward: 213.800000 ± 181.063967 in #81\n"
     ]
    },
    {
     "name": "stderr",
     "output_type": "stream",
     "text": [
      "Epoch #215: 1030it [00:01, 557.62it/s, env_step=221450, len=10, n/ep=1, n/st=10, player_1/loss=131.593, player_2/loss=102.024, rew=108.00]\n"
     ]
    },
    {
     "name": "stdout",
     "output_type": "stream",
     "text": [
      "Epoch #215: test_reward: 55.600000 ± 4.800000, best_reward: 213.800000 ± 181.063967 in #81\n"
     ]
    },
    {
     "name": "stderr",
     "output_type": "stream",
     "text": [
      "Epoch #216: 1030it [00:01, 558.36it/s, env_step=222480, len=8, n/ep=1, n/st=10, player_1/loss=110.431, player_2/loss=81.365, rew=70.00]\n"
     ]
    },
    {
     "name": "stdout",
     "output_type": "stream",
     "text": [
      "Epoch #216: test_reward: 69.400000 ± 46.200000, best_reward: 213.800000 ± 181.063967 in #81\n"
     ]
    },
    {
     "name": "stderr",
     "output_type": "stream",
     "text": [
      "Epoch #217: 1030it [00:01, 555.57it/s, env_step=223510, len=7, n/ep=2, n/st=10, player_1/loss=95.530, player_2/loss=59.759, rew=54.00]\n"
     ]
    },
    {
     "name": "stdout",
     "output_type": "stream",
     "text": [
      "Epoch #217: test_reward: 54.000000 ± 0.000000, best_reward: 213.800000 ± 181.063967 in #81\n"
     ]
    },
    {
     "name": "stderr",
     "output_type": "stream",
     "text": [
      "Epoch #218: 1030it [00:01, 565.18it/s, env_step=224540, len=41, n/ep=0, n/st=10, player_1/loss=63.979, player_2/loss=55.109, rew=547.00]\n"
     ]
    },
    {
     "name": "stdout",
     "output_type": "stream",
     "text": [
      "Epoch #218: test_reward: -13176.000000 ± 9630.635493, best_reward: 213.800000 ± 181.063967 in #81\n"
     ]
    },
    {
     "name": "stderr",
     "output_type": "stream",
     "text": [
      "Epoch #219: 1030it [00:01, 529.01it/s, env_step=225570, len=126, n/ep=2, n/st=10, player_1/loss=161.947, player_2/loss=141.784, rew=987.50]\n"
     ]
    },
    {
     "name": "stdout",
     "output_type": "stream",
     "text": [
      "Epoch #219: test_reward: -3.700000 ± 184.711694, best_reward: 213.800000 ± 181.063967 in #81\n"
     ]
    },
    {
     "name": "stderr",
     "output_type": "stream",
     "text": [
      "Epoch #220: 1030it [00:02, 492.11it/s, env_step=226600, len=80, n/ep=1, n/st=10, player_1/loss=188.998, player_2/loss=54.087, rew=-188.00]\n"
     ]
    },
    {
     "name": "stdout",
     "output_type": "stream",
     "text": [
      "Epoch #220: test_reward: 111.400000 ± 172.200000, best_reward: 213.800000 ± 181.063967 in #81\n"
     ]
    },
    {
     "name": "stderr",
     "output_type": "stream",
     "text": [
      "Epoch #221: 1030it [00:01, 580.74it/s, env_step=227630, len=65, n/ep=0, n/st=10, player_1/loss=325.964, player_2/loss=229.387, rew=832.00]\n"
     ]
    },
    {
     "name": "stdout",
     "output_type": "stream",
     "text": [
      "Epoch #221: test_reward: -40644.900000 ± 57443.525975, best_reward: 213.800000 ± 181.063967 in #81\n"
     ]
    },
    {
     "name": "stderr",
     "output_type": "stream",
     "text": [
      "Epoch #222: 1030it [00:01, 582.24it/s, env_step=228660, len=7, n/ep=0, n/st=10, player_1/loss=394.458, player_2/loss=274.065, rew=54.00]\n"
     ]
    },
    {
     "name": "stdout",
     "output_type": "stream",
     "text": [
      "Epoch #222: test_reward: -3383.300000 ± 10311.900000, best_reward: 213.800000 ± 181.063967 in #81\n"
     ]
    },
    {
     "name": "stderr",
     "output_type": "stream",
     "text": [
      "Epoch #223: 1030it [00:01, 585.70it/s, env_step=229690, len=13, n/ep=0, n/st=10, player_1/loss=303.172, player_2/loss=210.337, rew=180.00]\n"
     ]
    },
    {
     "name": "stdout",
     "output_type": "stream",
     "text": [
      "Epoch #223: test_reward: -7435.800000 ± 15008.310850, best_reward: 213.800000 ± 181.063967 in #81\n"
     ]
    },
    {
     "name": "stderr",
     "output_type": "stream",
     "text": [
      "Epoch #224: 1030it [00:01, 575.44it/s, env_step=230720, len=7, n/ep=1, n/st=10, player_1/loss=149.628, player_2/loss=146.702, rew=54.00]\n"
     ]
    },
    {
     "name": "stdout",
     "output_type": "stream",
     "text": [
      "Epoch #224: test_reward: -2302.200000 ± 7091.279346, best_reward: 213.800000 ± 181.063967 in #81\n"
     ]
    },
    {
     "name": "stderr",
     "output_type": "stream",
     "text": [
      "Epoch #225: 1030it [00:01, 585.48it/s, env_step=231750, len=11, n/ep=0, n/st=10, player_1/loss=72.603, player_2/loss=80.897, rew=130.00]\n"
     ]
    },
    {
     "name": "stdout",
     "output_type": "stream",
     "text": [
      "Epoch #225: test_reward: 61.000000 ± 16.376813, best_reward: 213.800000 ± 181.063967 in #81\n"
     ]
    },
    {
     "name": "stderr",
     "output_type": "stream",
     "text": [
      "Epoch #226: 1030it [00:01, 587.85it/s, env_step=232780, len=10, n/ep=2, n/st=10, player_1/loss=121.396, player_2/loss=76.882, rew=112.00]\n"
     ]
    },
    {
     "name": "stdout",
     "output_type": "stream",
     "text": [
      "Epoch #226: test_reward: -3830.400000 ± 11675.874367, best_reward: 213.800000 ± 181.063967 in #81\n"
     ]
    },
    {
     "name": "stderr",
     "output_type": "stream",
     "text": [
      "Epoch #227: 1030it [00:01, 576.48it/s, env_step=233810, len=7, n/ep=3, n/st=10, player_1/loss=37.119, player_2/loss=83.633, rew=54.00]\n"
     ]
    },
    {
     "name": "stdout",
     "output_type": "stream",
     "text": [
      "Epoch #227: test_reward: 57.400000 ± 10.200000, best_reward: 213.800000 ± 181.063967 in #81\n"
     ]
    },
    {
     "name": "stderr",
     "output_type": "stream",
     "text": [
      "Epoch #228: 1030it [00:01, 595.61it/s, env_step=234840, len=36, n/ep=1, n/st=10, player_1/loss=111.972, player_2/loss=172.296, rew=310.00]\n"
     ]
    },
    {
     "name": "stdout",
     "output_type": "stream",
     "text": [
      "Epoch #228: test_reward: 54.000000 ± 0.000000, best_reward: 213.800000 ± 181.063967 in #81\n"
     ]
    },
    {
     "name": "stderr",
     "output_type": "stream",
     "text": [
      "Epoch #229: 1030it [00:01, 584.24it/s, env_step=235870, len=9, n/ep=3, n/st=10, player_1/loss=77.013, player_2/loss=105.782, rew=90.67]\n"
     ]
    },
    {
     "name": "stdout",
     "output_type": "stream",
     "text": [
      "Epoch #229: test_reward: 55.600000 ± 4.800000, best_reward: 213.800000 ± 181.063967 in #81\n"
     ]
    },
    {
     "name": "stderr",
     "output_type": "stream",
     "text": [
      "Epoch #230: 1030it [00:01, 581.81it/s, env_step=236900, len=7, n/ep=1, n/st=10, player_1/loss=51.475, player_2/loss=56.957, rew=54.00]\n"
     ]
    },
    {
     "name": "stdout",
     "output_type": "stream",
     "text": [
      "Epoch #230: test_reward: -1192.600000 ± 3745.136371, best_reward: 213.800000 ± 181.063967 in #81\n"
     ]
    },
    {
     "name": "stderr",
     "output_type": "stream",
     "text": [
      "Epoch #231: 1030it [00:01, 578.95it/s, env_step=237930, len=8, n/ep=1, n/st=10, player_1/loss=274.336, player_2/loss=100.649, rew=70.00]\n"
     ]
    },
    {
     "name": "stdout",
     "output_type": "stream",
     "text": [
      "Epoch #231: test_reward: 66.400000 ± 21.331667, best_reward: 213.800000 ± 181.063967 in #81\n"
     ]
    },
    {
     "name": "stderr",
     "output_type": "stream",
     "text": [
      "Epoch #232: 1030it [00:01, 560.03it/s, env_step=238960, len=7, n/ep=1, n/st=10, player_1/loss=208.585, player_2/loss=95.509, rew=54.00]\n"
     ]
    },
    {
     "name": "stdout",
     "output_type": "stream",
     "text": [
      "Epoch #232: test_reward: 69.600000 ± 19.875613, best_reward: 213.800000 ± 181.063967 in #81\n"
     ]
    },
    {
     "name": "stderr",
     "output_type": "stream",
     "text": [
      "Epoch #233: 1030it [00:01, 526.43it/s, env_step=239990, len=7, n/ep=1, n/st=10, player_1/loss=74.132, player_2/loss=89.537, rew=54.00]\n"
     ]
    },
    {
     "name": "stdout",
     "output_type": "stream",
     "text": [
      "Epoch #233: test_reward: 71.800000 ± 24.648732, best_reward: 213.800000 ± 181.063967 in #81\n"
     ]
    },
    {
     "name": "stderr",
     "output_type": "stream",
     "text": [
      "Epoch #234: 1030it [00:02, 511.94it/s, env_step=241020, len=10, n/ep=0, n/st=10, player_1/loss=49.657, player_2/loss=103.070, rew=131.00]\n"
     ]
    },
    {
     "name": "stdout",
     "output_type": "stream",
     "text": [
      "Epoch #234: test_reward: 60.800000 ± 13.600000, best_reward: 213.800000 ± 181.063967 in #81\n"
     ]
    },
    {
     "name": "stderr",
     "output_type": "stream",
     "text": [
      "Epoch #235: 1030it [00:02, 512.59it/s, env_step=242050, len=14, n/ep=0, n/st=10, player_1/loss=52.720, player_2/loss=86.569, rew=208.00]\n"
     ]
    },
    {
     "name": "stdout",
     "output_type": "stream",
     "text": [
      "Epoch #235: test_reward: 88.000000 ± 0.000000, best_reward: 213.800000 ± 181.063967 in #81\n"
     ]
    },
    {
     "name": "stderr",
     "output_type": "stream",
     "text": [
      "Epoch #236: 1030it [00:01, 516.37it/s, env_step=243080, len=7, n/ep=0, n/st=10, player_1/loss=51.719, player_2/loss=68.661, rew=54.00]\n"
     ]
    },
    {
     "name": "stdout",
     "output_type": "stream",
     "text": [
      "Epoch #236: test_reward: -56.900000 ± 375.493395, best_reward: 213.800000 ± 181.063967 in #81\n"
     ]
    },
    {
     "name": "stderr",
     "output_type": "stream",
     "text": [
      "Epoch #237: 1030it [00:01, 541.87it/s, env_step=244110, len=12, n/ep=0, n/st=10, player_1/loss=131.134, player_2/loss=93.013, rew=154.00]\n"
     ]
    },
    {
     "name": "stdout",
     "output_type": "stream",
     "text": [
      "Epoch #237: test_reward: -43538.300000 ± 37155.895769, best_reward: 213.800000 ± 181.063967 in #81\n"
     ]
    },
    {
     "name": "stderr",
     "output_type": "stream",
     "text": [
      "Epoch #238: 1030it [00:01, 535.87it/s, env_step=245140, len=9, n/ep=1, n/st=10, player_1/loss=84.227, player_2/loss=151.304, rew=88.00]\n"
     ]
    },
    {
     "name": "stdout",
     "output_type": "stream",
     "text": [
      "Epoch #238: test_reward: 59.000000 ± 10.779610, best_reward: 213.800000 ± 181.063967 in #81\n"
     ]
    },
    {
     "name": "stderr",
     "output_type": "stream",
     "text": [
      "Epoch #239: 1030it [00:02, 488.93it/s, env_step=246170, len=8, n/ep=0, n/st=10, player_1/loss=82.982, player_2/loss=67.129, rew=70.00]\n"
     ]
    },
    {
     "name": "stdout",
     "output_type": "stream",
     "text": [
      "Epoch #239: test_reward: 74.800000 ± 20.807691, best_reward: 213.800000 ± 181.063967 in #81\n"
     ]
    },
    {
     "name": "stderr",
     "output_type": "stream",
     "text": [
      "Epoch #240: 1030it [00:02, 508.09it/s, env_step=247200, len=7, n/ep=0, n/st=10, player_1/loss=43.114, player_2/loss=75.383, rew=54.00]\n"
     ]
    },
    {
     "name": "stdout",
     "output_type": "stream",
     "text": [
      "Epoch #240: test_reward: 61.000000 ± 16.376813, best_reward: 213.800000 ± 181.063967 in #81\n"
     ]
    },
    {
     "name": "stderr",
     "output_type": "stream",
     "text": [
      "Epoch #241: 1030it [00:01, 516.41it/s, env_step=248230, len=11, n/ep=1, n/st=10, player_1/loss=65.203, player_2/loss=65.553, rew=130.00]\n"
     ]
    },
    {
     "name": "stdout",
     "output_type": "stream",
     "text": [
      "Epoch #241: test_reward: 57.400000 ± 10.200000, best_reward: 213.800000 ± 181.063967 in #81\n"
     ]
    },
    {
     "name": "stderr",
     "output_type": "stream",
     "text": [
      "Epoch #242: 1030it [00:02, 454.92it/s, env_step=249260, len=30, n/ep=0, n/st=10, player_1/loss=94.475, player_2/loss=63.860, rew=335.67]\n"
     ]
    },
    {
     "name": "stdout",
     "output_type": "stream",
     "text": [
      "Epoch #242: test_reward: 62.600000 ± 16.396341, best_reward: 213.800000 ± 181.063967 in #81\n"
     ]
    },
    {
     "name": "stderr",
     "output_type": "stream",
     "text": [
      "Epoch #243: 1030it [00:02, 487.52it/s, env_step=250290, len=7, n/ep=1, n/st=10, player_1/loss=78.424, player_2/loss=91.224, rew=54.00]\n"
     ]
    },
    {
     "name": "stdout",
     "output_type": "stream",
     "text": [
      "Epoch #243: test_reward: -227.200000 ± 848.946736, best_reward: 213.800000 ± 181.063967 in #81\n"
     ]
    },
    {
     "name": "stderr",
     "output_type": "stream",
     "text": [
      "Epoch #244: 1030it [00:01, 529.36it/s, env_step=251320, len=9, n/ep=0, n/st=10, player_1/loss=51.630, player_2/loss=83.138, rew=88.00]\n"
     ]
    },
    {
     "name": "stdout",
     "output_type": "stream",
     "text": [
      "Epoch #244: test_reward: 65.000000 ± 23.920702, best_reward: 213.800000 ± 181.063967 in #81\n"
     ]
    },
    {
     "name": "stderr",
     "output_type": "stream",
     "text": [
      "Epoch #245: 1030it [00:01, 538.63it/s, env_step=252350, len=9, n/ep=0, n/st=10, player_1/loss=89.288, player_2/loss=79.621, rew=88.00]\n"
     ]
    },
    {
     "name": "stdout",
     "output_type": "stream",
     "text": [
      "Epoch #245: test_reward: -462.300000 ± 1571.623877, best_reward: 213.800000 ± 181.063967 in #81\n"
     ]
    },
    {
     "name": "stderr",
     "output_type": "stream",
     "text": [
      "Epoch #246: 1030it [00:01, 535.34it/s, env_step=253380, len=10, n/ep=0, n/st=10, player_1/loss=32.071, player_2/loss=73.033, rew=108.00]\n"
     ]
    },
    {
     "name": "stdout",
     "output_type": "stream",
     "text": [
      "Epoch #246: test_reward: 106.700000 ± 106.015140, best_reward: 213.800000 ± 181.063967 in #81\n"
     ]
    },
    {
     "name": "stderr",
     "output_type": "stream",
     "text": [
      "Epoch #247: 1030it [00:02, 506.98it/s, env_step=254410, len=8, n/ep=0, n/st=10, player_1/loss=87.913, player_2/loss=81.882, rew=70.00]\n"
     ]
    },
    {
     "name": "stdout",
     "output_type": "stream",
     "text": [
      "Epoch #247: test_reward: -21040.000000 ± 16243.274011, best_reward: 213.800000 ± 181.063967 in #81\n"
     ]
    },
    {
     "name": "stderr",
     "output_type": "stream",
     "text": [
      "Epoch #248: 1030it [00:02, 494.59it/s, env_step=255440, len=8, n/ep=2, n/st=10, player_1/loss=117.756, player_2/loss=180.316, rew=71.00]\n"
     ]
    },
    {
     "name": "stdout",
     "output_type": "stream",
     "text": [
      "Epoch #248: test_reward: 62.400000 ± 13.646978, best_reward: 213.800000 ± 181.063967 in #81\n"
     ]
    },
    {
     "name": "stderr",
     "output_type": "stream",
     "text": [
      "Epoch #249: 1030it [00:02, 456.61it/s, env_step=256470, len=8, n/ep=1, n/st=10, player_1/loss=62.438, player_2/loss=47.157, rew=70.00]\n"
     ]
    },
    {
     "name": "stdout",
     "output_type": "stream",
     "text": [
      "Epoch #249: test_reward: -168.500000 ± 685.689033, best_reward: 213.800000 ± 181.063967 in #81\n"
     ]
    },
    {
     "name": "stderr",
     "output_type": "stream",
     "text": [
      "Epoch #250: 1030it [00:02, 441.68it/s, env_step=257500, len=13, n/ep=2, n/st=10, player_1/loss=31.972, player_2/loss=61.756, rew=196.00]\n"
     ]
    },
    {
     "name": "stdout",
     "output_type": "stream",
     "text": [
      "Epoch #250: test_reward: 82.600000 ± 49.727658, best_reward: 213.800000 ± 181.063967 in #81\n"
     ]
    },
    {
     "name": "stderr",
     "output_type": "stream",
     "text": [
      "Epoch #251: 1030it [00:02, 433.26it/s, env_step=258530, len=8, n/ep=0, n/st=10, player_1/loss=37.346, player_2/loss=61.759, rew=82.67]\n"
     ]
    },
    {
     "name": "stdout",
     "output_type": "stream",
     "text": [
      "Epoch #251: test_reward: 76.000000 ± 45.642086, best_reward: 213.800000 ± 181.063967 in #81\n"
     ]
    },
    {
     "name": "stderr",
     "output_type": "stream",
     "text": [
      "Epoch #252: 1030it [00:02, 427.25it/s, env_step=259560, len=8, n/ep=2, n/st=10, player_1/loss=81.933, player_2/loss=74.428, rew=71.00]\n"
     ]
    },
    {
     "name": "stdout",
     "output_type": "stream",
     "text": [
      "Epoch #252: test_reward: 64.200000 ± 15.580757, best_reward: 213.800000 ± 181.063967 in #81\n"
     ]
    },
    {
     "name": "stderr",
     "output_type": "stream",
     "text": [
      "Epoch #253: 1030it [00:02, 412.96it/s, env_step=260590, len=9, n/ep=0, n/st=10, player_1/loss=49.270, player_2/loss=61.850, rew=88.00]\n"
     ]
    },
    {
     "name": "stdout",
     "output_type": "stream",
     "text": [
      "Epoch #253: test_reward: 100.600000 ± 19.246818, best_reward: 213.800000 ± 181.063967 in #81\n"
     ]
    },
    {
     "name": "stderr",
     "output_type": "stream",
     "text": [
      "Epoch #254: 1030it [00:02, 417.34it/s, env_step=261620, len=52, n/ep=3, n/st=10, player_1/loss=115.217, player_2/loss=170.975, rew=418.00]\n"
     ]
    },
    {
     "name": "stdout",
     "output_type": "stream",
     "text": [
      "Epoch #254: test_reward: 71.200000 ± 19.187496, best_reward: 213.800000 ± 181.063967 in #81\n"
     ]
    },
    {
     "name": "stderr",
     "output_type": "stream",
     "text": [
      "Epoch #255: 1030it [00:02, 437.04it/s, env_step=262650, len=7, n/ep=1, n/st=10, player_1/loss=52.199, player_2/loss=96.680, rew=54.00]\n"
     ]
    },
    {
     "name": "stdout",
     "output_type": "stream",
     "text": [
      "Epoch #255: test_reward: 62.800000 ± 18.159295, best_reward: 213.800000 ± 181.063967 in #81\n"
     ]
    },
    {
     "name": "stderr",
     "output_type": "stream",
     "text": [
      "Epoch #256: 1030it [00:02, 411.56it/s, env_step=263680, len=43, n/ep=0, n/st=10, player_1/loss=101.484, player_2/loss=109.994, rew=732.00]\n"
     ]
    },
    {
     "name": "stdout",
     "output_type": "stream",
     "text": [
      "Epoch #256: test_reward: 63.200000 ± 22.771913, best_reward: 213.800000 ± 181.063967 in #81\n"
     ]
    },
    {
     "name": "stderr",
     "output_type": "stream",
     "text": [
      "Epoch #257: 1030it [00:02, 417.82it/s, env_step=264710, len=7, n/ep=1, n/st=10, player_1/loss=76.581, player_2/loss=110.815, rew=54.00]\n"
     ]
    },
    {
     "name": "stdout",
     "output_type": "stream",
     "text": [
      "Epoch #257: test_reward: 60.800000 ± 13.600000, best_reward: 213.800000 ± 181.063967 in #81\n"
     ]
    },
    {
     "name": "stderr",
     "output_type": "stream",
     "text": [
      "Epoch #258: 1030it [00:02, 435.35it/s, env_step=265740, len=26, n/ep=0, n/st=10, player_1/loss=61.945, player_2/loss=87.280, rew=382.00]\n"
     ]
    },
    {
     "name": "stdout",
     "output_type": "stream",
     "text": [
      "Epoch #258: test_reward: -30550.500000 ± 25319.391293, best_reward: 213.800000 ± 181.063967 in #81\n"
     ]
    },
    {
     "name": "stderr",
     "output_type": "stream",
     "text": [
      "Epoch #259: 1030it [00:02, 445.47it/s, env_step=266770, len=46, n/ep=1, n/st=10, player_1/loss=97.585, player_2/loss=216.516, rew=489.00]\n"
     ]
    },
    {
     "name": "stdout",
     "output_type": "stream",
     "text": [
      "Epoch #259: test_reward: -34883.200000 ± 45778.191578, best_reward: 213.800000 ± 181.063967 in #81\n"
     ]
    },
    {
     "name": "stderr",
     "output_type": "stream",
     "text": [
      "Epoch #260: 1030it [00:02, 458.82it/s, env_step=267800, len=11, n/ep=1, n/st=10, player_1/loss=126.894, player_2/loss=144.596, rew=130.00]\n"
     ]
    },
    {
     "name": "stdout",
     "output_type": "stream",
     "text": [
      "Epoch #260: test_reward: 55.600000 ± 4.800000, best_reward: 213.800000 ± 181.063967 in #81\n"
     ]
    },
    {
     "name": "stderr",
     "output_type": "stream",
     "text": [
      "Epoch #261: 1030it [00:02, 429.82it/s, env_step=268830, len=34, n/ep=0, n/st=10, player_1/loss=100.716, player_2/loss=103.314, rew=698.00]\n"
     ]
    },
    {
     "name": "stdout",
     "output_type": "stream",
     "text": [
      "Epoch #261: test_reward: 54.000000 ± 0.000000, best_reward: 213.800000 ± 181.063967 in #81\n"
     ]
    },
    {
     "name": "stderr",
     "output_type": "stream",
     "text": [
      "Epoch #262: 1030it [00:02, 414.98it/s, env_step=269860, len=26, n/ep=1, n/st=10, player_1/loss=92.455, player_2/loss=95.545, rew=382.00]\n"
     ]
    },
    {
     "name": "stdout",
     "output_type": "stream",
     "text": [
      "Epoch #262: test_reward: -5.300000 ± 212.444840, best_reward: 213.800000 ± 181.063967 in #81\n"
     ]
    },
    {
     "name": "stderr",
     "output_type": "stream",
     "text": [
      "Epoch #263: 1030it [00:02, 474.50it/s, env_step=270890, len=7, n/ep=1, n/st=10, player_1/loss=71.533, player_2/loss=153.638, rew=54.00]  \n"
     ]
    },
    {
     "name": "stdout",
     "output_type": "stream",
     "text": [
      "Epoch #263: test_reward: -13457.100000 ± 40555.968884, best_reward: 213.800000 ± 181.063967 in #81\n"
     ]
    },
    {
     "name": "stderr",
     "output_type": "stream",
     "text": [
      "Epoch #264: 1030it [00:02, 482.43it/s, env_step=271920, len=7, n/ep=0, n/st=10, player_1/loss=62.395, player_2/loss=85.433, rew=54.00]\n"
     ]
    },
    {
     "name": "stdout",
     "output_type": "stream",
     "text": [
      "Epoch #264: test_reward: 64.800000 ± 21.600000, best_reward: 213.800000 ± 181.063967 in #81\n"
     ]
    },
    {
     "name": "stderr",
     "output_type": "stream",
     "text": [
      "Epoch #265: 1030it [00:01, 561.58it/s, env_step=272950, len=41, n/ep=0, n/st=10, player_1/loss=85.015, player_2/loss=129.941, rew=961.00]\n"
     ]
    },
    {
     "name": "stdout",
     "output_type": "stream",
     "text": [
      "Epoch #265: test_reward: -1619.900000 ± 4990.201608, best_reward: 213.800000 ± 181.063967 in #81\n"
     ]
    },
    {
     "name": "stderr",
     "output_type": "stream",
     "text": [
      "Epoch #266: 1030it [00:01, 548.63it/s, env_step=273980, len=7, n/ep=0, n/st=10, player_1/loss=73.087, player_2/loss=86.246, rew=54.00]\n"
     ]
    },
    {
     "name": "stdout",
     "output_type": "stream",
     "text": [
      "Epoch #266: test_reward: 64.400000 ± 18.017769, best_reward: 213.800000 ± 181.063967 in #81\n"
     ]
    },
    {
     "name": "stderr",
     "output_type": "stream",
     "text": [
      "Epoch #267: 1030it [00:02, 506.03it/s, env_step=275010, len=11, n/ep=0, n/st=10, player_1/loss=77.531, player_2/loss=102.420, rew=130.00]\n"
     ]
    },
    {
     "name": "stdout",
     "output_type": "stream",
     "text": [
      "Epoch #267: test_reward: -48059.700000 ± 37957.208140, best_reward: 213.800000 ± 181.063967 in #81\n"
     ]
    },
    {
     "name": "stderr",
     "output_type": "stream",
     "text": [
      "Epoch #268: 1030it [00:02, 511.76it/s, env_step=276040, len=7, n/ep=1, n/st=10, player_1/loss=72.940, player_2/loss=89.281, rew=54.00]\n"
     ]
    },
    {
     "name": "stdout",
     "output_type": "stream",
     "text": [
      "Epoch #268: test_reward: -66.000000 ± 258.779056, best_reward: 213.800000 ± 181.063967 in #81\n"
     ]
    },
    {
     "name": "stderr",
     "output_type": "stream",
     "text": [
      "Epoch #269: 1030it [00:01, 531.95it/s, env_step=277070, len=10, n/ep=2, n/st=10, player_1/loss=94.515, player_2/loss=98.091, rew=109.00]\n"
     ]
    },
    {
     "name": "stdout",
     "output_type": "stream",
     "text": [
      "Epoch #269: test_reward: -5303.100000 ± 16111.977758, best_reward: 213.800000 ± 181.063967 in #81\n"
     ]
    },
    {
     "name": "stderr",
     "output_type": "stream",
     "text": [
      "Epoch #270: 1030it [00:02, 411.11it/s, env_step=278100, len=7, n/ep=0, n/st=10, player_1/loss=214.046, player_2/loss=110.426, rew=54.00]\n"
     ]
    },
    {
     "name": "stdout",
     "output_type": "stream",
     "text": [
      "Epoch #270: test_reward: -8486.200000 ± 25631.935338, best_reward: 213.800000 ± 181.063967 in #81\n"
     ]
    },
    {
     "name": "stderr",
     "output_type": "stream",
     "text": [
      "Epoch #271: 1030it [00:02, 442.73it/s, env_step=279130, len=23, n/ep=2, n/st=10, player_1/loss=92.544, player_2/loss=76.044, rew=337.50]\n"
     ]
    },
    {
     "name": "stdout",
     "output_type": "stream",
     "text": [
      "Epoch #271: test_reward: -891.600000 ± 2859.498110, best_reward: 213.800000 ± 181.063967 in #81\n"
     ]
    },
    {
     "name": "stderr",
     "output_type": "stream",
     "text": [
      "Epoch #272: 1030it [00:02, 484.05it/s, env_step=280160, len=14, n/ep=1, n/st=10, player_1/loss=85.006, player_2/loss=132.711, rew=208.00]\n"
     ]
    },
    {
     "name": "stdout",
     "output_type": "stream",
     "text": [
      "Epoch #272: test_reward: 60.800000 ± 13.600000, best_reward: 213.800000 ± 181.063967 in #81\n"
     ]
    },
    {
     "name": "stderr",
     "output_type": "stream",
     "text": [
      "Epoch #273: 1030it [00:01, 519.03it/s, env_step=281190, len=14, n/ep=2, n/st=10, player_1/loss=77.871, player_2/loss=98.699, rew=166.50]\n"
     ]
    },
    {
     "name": "stdout",
     "output_type": "stream",
     "text": [
      "Epoch #273: test_reward: -17220.300000 ± 38940.773832, best_reward: 213.800000 ± 181.063967 in #81\n"
     ]
    },
    {
     "name": "stderr",
     "output_type": "stream",
     "text": [
      "Epoch #274: 1030it [00:01, 559.82it/s, env_step=282220, len=29, n/ep=0, n/st=10, player_1/loss=125.030, player_2/loss=74.242, rew=171.00]\n"
     ]
    },
    {
     "name": "stdout",
     "output_type": "stream",
     "text": [
      "Epoch #274: test_reward: 87.400000 ± 44.721807, best_reward: 213.800000 ± 181.063967 in #81\n"
     ]
    },
    {
     "name": "stderr",
     "output_type": "stream",
     "text": [
      "Epoch #275: 1030it [00:01, 557.25it/s, env_step=283250, len=9, n/ep=0, n/st=10, player_1/loss=118.658, player_2/loss=169.980, rew=89.00]\n"
     ]
    },
    {
     "name": "stdout",
     "output_type": "stream",
     "text": [
      "Epoch #275: test_reward: -345.000000 ± 1219.740382, best_reward: 213.800000 ± 181.063967 in #81\n"
     ]
    },
    {
     "name": "stderr",
     "output_type": "stream",
     "text": [
      "Epoch #276: 1030it [00:01, 560.91it/s, env_step=284280, len=36, n/ep=0, n/st=10, player_1/loss=101.417, player_2/loss=114.851, rew=452.50]\n"
     ]
    },
    {
     "name": "stdout",
     "output_type": "stream",
     "text": [
      "Epoch #276: test_reward: -11287.900000 ± 34133.041846, best_reward: 213.800000 ± 181.063967 in #81\n"
     ]
    },
    {
     "name": "stderr",
     "output_type": "stream",
     "text": [
      "Epoch #277: 1030it [00:01, 547.25it/s, env_step=285310, len=10, n/ep=0, n/st=10, player_1/loss=64.365, player_2/loss=102.178, rew=131.00]\n"
     ]
    },
    {
     "name": "stdout",
     "output_type": "stream",
     "text": [
      "Epoch #277: test_reward: 67.400000 ± 15.493224, best_reward: 213.800000 ± 181.063967 in #81\n"
     ]
    },
    {
     "name": "stderr",
     "output_type": "stream",
     "text": [
      "Epoch #278: 1030it [00:01, 552.75it/s, env_step=286340, len=11, n/ep=3, n/st=10, player_1/loss=86.693, player_2/loss=90.621, rew=130.00]\n"
     ]
    },
    {
     "name": "stdout",
     "output_type": "stream",
     "text": [
      "Epoch #278: test_reward: -1363.700000 ± 4264.445381, best_reward: 213.800000 ± 181.063967 in #81\n"
     ]
    },
    {
     "name": "stderr",
     "output_type": "stream",
     "text": [
      "Epoch #279: 1030it [00:01, 534.74it/s, env_step=287370, len=34, n/ep=0, n/st=10, player_1/loss=97.967, player_2/loss=95.534, rew=462.00]\n"
     ]
    },
    {
     "name": "stdout",
     "output_type": "stream",
     "text": [
      "Epoch #279: test_reward: -27784.500000 ± 18970.460670, best_reward: 213.800000 ± 181.063967 in #81\n"
     ]
    },
    {
     "name": "stderr",
     "output_type": "stream",
     "text": [
      "Epoch #280: 1030it [00:01, 533.90it/s, env_step=288400, len=9, n/ep=1, n/st=10, player_1/loss=54.287, player_2/loss=90.704, rew=88.00]\n"
     ]
    },
    {
     "name": "stdout",
     "output_type": "stream",
     "text": [
      "Epoch #280: test_reward: 57.200000 ± 6.400000, best_reward: 213.800000 ± 181.063967 in #81\n"
     ]
    },
    {
     "name": "stderr",
     "output_type": "stream",
     "text": [
      "Epoch #281: 1030it [00:02, 514.31it/s, env_step=289430, len=7, n/ep=0, n/st=10, player_1/loss=98.756, player_2/loss=82.142, rew=54.00]\n"
     ]
    },
    {
     "name": "stdout",
     "output_type": "stream",
     "text": [
      "Epoch #281: test_reward: -23240.500000 ± 16529.374533, best_reward: 213.800000 ± 181.063967 in #81\n"
     ]
    },
    {
     "name": "stderr",
     "output_type": "stream",
     "text": [
      "Epoch #282: 1030it [00:01, 542.26it/s, env_step=290460, len=7, n/ep=1, n/st=10, player_1/loss=68.829, player_2/loss=75.405, rew=54.00]\n"
     ]
    },
    {
     "name": "stdout",
     "output_type": "stream",
     "text": [
      "Epoch #282: test_reward: 68.400000 ± 24.524274, best_reward: 213.800000 ± 181.063967 in #81\n"
     ]
    },
    {
     "name": "stderr",
     "output_type": "stream",
     "text": [
      "Epoch #283: 1030it [00:01, 537.79it/s, env_step=291490, len=7, n/ep=1, n/st=10, player_1/loss=114.327, player_2/loss=108.977, rew=54.00]\n"
     ]
    },
    {
     "name": "stdout",
     "output_type": "stream",
     "text": [
      "Epoch #283: test_reward: 82.200000 ± 26.479426, best_reward: 213.800000 ± 181.063967 in #81\n"
     ]
    },
    {
     "name": "stderr",
     "output_type": "stream",
     "text": [
      "Epoch #284: 1030it [00:01, 541.25it/s, env_step=292520, len=10, n/ep=1, n/st=10, player_1/loss=96.736, player_2/loss=129.403, rew=108.00]\n"
     ]
    },
    {
     "name": "stdout",
     "output_type": "stream",
     "text": [
      "Epoch #284: test_reward: 1.400000 ± 169.436832, best_reward: 213.800000 ± 181.063967 in #81\n"
     ]
    },
    {
     "name": "stderr",
     "output_type": "stream",
     "text": [
      "Epoch #285: 1030it [00:01, 532.09it/s, env_step=293550, len=7, n/ep=1, n/st=10, player_1/loss=35.808, player_2/loss=125.771, rew=54.00]\n"
     ]
    },
    {
     "name": "stdout",
     "output_type": "stream",
     "text": [
      "Epoch #285: test_reward: 61.000000 ± 16.376813, best_reward: 213.800000 ± 181.063967 in #81\n"
     ]
    },
    {
     "name": "stderr",
     "output_type": "stream",
     "text": [
      "Epoch #286: 1030it [00:01, 536.39it/s, env_step=294580, len=7, n/ep=0, n/st=10, player_1/loss=45.955, player_2/loss=100.298, rew=54.00]\n"
     ]
    },
    {
     "name": "stdout",
     "output_type": "stream",
     "text": [
      "Epoch #286: test_reward: -2141.900000 ± 6617.057601, best_reward: 213.800000 ± 181.063967 in #81\n"
     ]
    },
    {
     "name": "stderr",
     "output_type": "stream",
     "text": [
      "Epoch #287: 1030it [00:01, 540.01it/s, env_step=295610, len=9, n/ep=2, n/st=10, player_1/loss=48.386, player_2/loss=107.916, rew=104.00]\n"
     ]
    },
    {
     "name": "stdout",
     "output_type": "stream",
     "text": [
      "Epoch #287: test_reward: 232.700000 ± 184.207519, best_reward: 232.700000 ± 184.207519 in #287\n"
     ]
    },
    {
     "name": "stderr",
     "output_type": "stream",
     "text": [
      "Epoch #288: 1030it [00:02, 495.16it/s, env_step=296640, len=20, n/ep=1, n/st=10, player_1/loss=41.401, player_2/loss=74.971, rew=319.00]\n"
     ]
    },
    {
     "name": "stdout",
     "output_type": "stream",
     "text": [
      "Epoch #288: test_reward: -4467.200000 ± 13574.937118, best_reward: 232.700000 ± 184.207519 in #287\n"
     ]
    },
    {
     "name": "stderr",
     "output_type": "stream",
     "text": [
      "Epoch #289: 1030it [00:02, 485.45it/s, env_step=297670, len=11, n/ep=0, n/st=10, player_1/loss=68.071, player_2/loss=94.095, rew=130.00]\n"
     ]
    },
    {
     "name": "stdout",
     "output_type": "stream",
     "text": [
      "Epoch #289: test_reward: 81.700000 ± 51.400486, best_reward: 232.700000 ± 184.207519 in #287\n"
     ]
    },
    {
     "name": "stderr",
     "output_type": "stream",
     "text": [
      "Epoch #290: 1030it [00:02, 419.94it/s, env_step=298700, len=11, n/ep=0, n/st=10, player_1/loss=74.960, player_2/loss=103.956, rew=130.00]\n"
     ]
    },
    {
     "name": "stdout",
     "output_type": "stream",
     "text": [
      "Epoch #290: test_reward: 60.800000 ± 13.600000, best_reward: 232.700000 ± 184.207519 in #287\n"
     ]
    },
    {
     "name": "stderr",
     "output_type": "stream",
     "text": [
      "Epoch #291: 1030it [00:01, 524.22it/s, env_step=299730, len=7, n/ep=1, n/st=10, player_1/loss=99.525, player_2/loss=91.183, rew=54.00]\n"
     ]
    },
    {
     "name": "stdout",
     "output_type": "stream",
     "text": [
      "Epoch #291: test_reward: 57.400000 ± 10.200000, best_reward: 232.700000 ± 184.207519 in #287\n"
     ]
    },
    {
     "name": "stderr",
     "output_type": "stream",
     "text": [
      "Epoch #292: 1030it [00:02, 504.37it/s, env_step=300760, len=7, n/ep=1, n/st=10, player_1/loss=80.632, player_2/loss=129.179, rew=54.00]\n"
     ]
    },
    {
     "name": "stdout",
     "output_type": "stream",
     "text": [
      "Epoch #292: test_reward: -102.200000 ± 473.957340, best_reward: 232.700000 ± 184.207519 in #287\n"
     ]
    },
    {
     "name": "stderr",
     "output_type": "stream",
     "text": [
      "Epoch #293: 1030it [00:01, 527.87it/s, env_step=301790, len=14, n/ep=0, n/st=10, player_1/loss=113.099, player_2/loss=113.632, rew=166.00]\n"
     ]
    },
    {
     "name": "stdout",
     "output_type": "stream",
     "text": [
      "Epoch #293: test_reward: -21346.900000 ± 21638.630204, best_reward: 232.700000 ± 184.207519 in #287\n"
     ]
    },
    {
     "name": "stderr",
     "output_type": "stream",
     "text": [
      "Epoch #294: 1030it [00:01, 537.95it/s, env_step=302820, len=7, n/ep=1, n/st=10, player_1/loss=116.461, player_2/loss=171.186, rew=54.00]\n"
     ]
    },
    {
     "name": "stdout",
     "output_type": "stream",
     "text": [
      "Epoch #294: test_reward: 60.800000 ± 13.600000, best_reward: 232.700000 ± 184.207519 in #287\n"
     ]
    },
    {
     "name": "stderr",
     "output_type": "stream",
     "text": [
      "Epoch #295: 1030it [00:01, 543.35it/s, env_step=303850, len=9, n/ep=0, n/st=10, player_1/loss=66.741, player_2/loss=158.239, rew=88.00]\n"
     ]
    },
    {
     "name": "stdout",
     "output_type": "stream",
     "text": [
      "Epoch #295: test_reward: -6242.100000 ± 18888.300000, best_reward: 232.700000 ± 184.207519 in #287\n"
     ]
    },
    {
     "name": "stderr",
     "output_type": "stream",
     "text": [
      "Epoch #296: 1030it [00:01, 558.42it/s, env_step=304880, len=10, n/ep=0, n/st=10, player_1/loss=73.370, player_2/loss=98.463, rew=109.00]\n"
     ]
    },
    {
     "name": "stdout",
     "output_type": "stream",
     "text": [
      "Epoch #296: test_reward: 84.600000 ± 10.200000, best_reward: 232.700000 ± 184.207519 in #287\n"
     ]
    },
    {
     "name": "stderr",
     "output_type": "stream",
     "text": [
      "Epoch #297: 1030it [00:01, 555.23it/s, env_step=305910, len=10, n/ep=0, n/st=10, player_1/loss=70.530, player_2/loss=150.471, rew=108.00]\n"
     ]
    },
    {
     "name": "stdout",
     "output_type": "stream",
     "text": [
      "Epoch #297: test_reward: 85.900000 ± 95.700000, best_reward: 232.700000 ± 184.207519 in #287\n"
     ]
    },
    {
     "name": "stderr",
     "output_type": "stream",
     "text": [
      "Epoch #298: 1030it [00:01, 558.64it/s, env_step=306940, len=9, n/ep=0, n/st=10, player_1/loss=65.293, player_2/loss=73.778, rew=88.00]\n"
     ]
    },
    {
     "name": "stdout",
     "output_type": "stream",
     "text": [
      "Epoch #298: test_reward: 87.600000 ± 52.595057, best_reward: 232.700000 ± 184.207519 in #287\n"
     ]
    },
    {
     "name": "stderr",
     "output_type": "stream",
     "text": [
      "Epoch #299: 1030it [00:01, 555.98it/s, env_step=307970, len=7, n/ep=0, n/st=10, player_1/loss=65.034, player_2/loss=85.238, rew=54.00]\n"
     ]
    },
    {
     "name": "stdout",
     "output_type": "stream",
     "text": [
      "Epoch #299: test_reward: 57.400000 ± 10.200000, best_reward: 232.700000 ± 184.207519 in #287\n"
     ]
    },
    {
     "name": "stderr",
     "output_type": "stream",
     "text": [
      "Epoch #300: 1030it [00:01, 548.82it/s, env_step=309000, len=126, n/ep=1, n/st=10, player_1/loss=70.988, player_2/loss=127.280, rew=1573.00]\n"
     ]
    },
    {
     "name": "stdout",
     "output_type": "stream",
     "text": [
      "Epoch #300: test_reward: 60.000000 ± 14.198591, best_reward: 232.700000 ± 184.207519 in #287\n"
     ]
    },
    {
     "name": "stderr",
     "output_type": "stream",
     "text": [
      "Epoch #301: 1030it [00:01, 558.42it/s, env_step=310030, len=12, n/ep=0, n/st=10, player_1/loss=58.504, player_2/loss=114.050, rew=154.00]\n"
     ]
    },
    {
     "name": "stdout",
     "output_type": "stream",
     "text": [
      "Epoch #301: test_reward: -20661.300000 ± 16569.519209, best_reward: 232.700000 ± 184.207519 in #287\n"
     ]
    },
    {
     "name": "stderr",
     "output_type": "stream",
     "text": [
      "Epoch #302: 1030it [00:01, 541.15it/s, env_step=311060, len=30, n/ep=0, n/st=10, player_1/loss=75.160, player_2/loss=163.572, rew=199.00]\n"
     ]
    },
    {
     "name": "stdout",
     "output_type": "stream",
     "text": [
      "Epoch #302: test_reward: -328.700000 ± 1210.190568, best_reward: 232.700000 ± 184.207519 in #287\n"
     ]
    },
    {
     "name": "stderr",
     "output_type": "stream",
     "text": [
      "Epoch #303: 1030it [00:01, 557.45it/s, env_step=312090, len=35, n/ep=0, n/st=10, player_1/loss=63.326, player_2/loss=98.685, rew=589.00]\n"
     ]
    },
    {
     "name": "stdout",
     "output_type": "stream",
     "text": [
      "Epoch #303: test_reward: -45949.100000 ± 63184.052506, best_reward: 232.700000 ± 184.207519 in #287\n"
     ]
    },
    {
     "name": "stderr",
     "output_type": "stream",
     "text": [
      "Epoch #304: 1030it [00:01, 554.35it/s, env_step=313120, len=8, n/ep=2, n/st=10, player_1/loss=115.611, player_2/loss=178.546, rew=71.00]\n"
     ]
    },
    {
     "name": "stdout",
     "output_type": "stream",
     "text": [
      "Epoch #304: test_reward: -1035.900000 ± 3310.420652, best_reward: 232.700000 ± 184.207519 in #287\n"
     ]
    },
    {
     "name": "stderr",
     "output_type": "stream",
     "text": [
      "Epoch #305: 1030it [00:01, 532.48it/s, env_step=314150, len=7, n/ep=1, n/st=10, player_1/loss=185.449, player_2/loss=131.514, rew=54.00]  \n"
     ]
    },
    {
     "name": "stdout",
     "output_type": "stream",
     "text": [
      "Epoch #305: test_reward: 65.000000 ± 23.920702, best_reward: 232.700000 ± 184.207519 in #287\n"
     ]
    },
    {
     "name": "stderr",
     "output_type": "stream",
     "text": [
      "Epoch #306: 1030it [00:01, 551.87it/s, env_step=315180, len=8, n/ep=0, n/st=10, player_1/loss=138.657, player_2/loss=91.902, rew=70.00]\n"
     ]
    },
    {
     "name": "stdout",
     "output_type": "stream",
     "text": [
      "Epoch #306: test_reward: -12003.500000 ± 8721.018395, best_reward: 232.700000 ± 184.207519 in #287\n"
     ]
    },
    {
     "name": "stderr",
     "output_type": "stream",
     "text": [
      "Epoch #307: 1030it [00:01, 562.71it/s, env_step=316210, len=7, n/ep=0, n/st=10, player_1/loss=76.798, player_2/loss=60.349, rew=54.00]\n"
     ]
    },
    {
     "name": "stdout",
     "output_type": "stream",
     "text": [
      "Epoch #307: test_reward: -21597.000000 ± 13633.440813, best_reward: 232.700000 ± 184.207519 in #287\n"
     ]
    },
    {
     "name": "stderr",
     "output_type": "stream",
     "text": [
      "Epoch #308: 1030it [00:01, 527.86it/s, env_step=317240, len=9, n/ep=1, n/st=10, player_1/loss=194.099, player_2/loss=154.091, rew=88.00]\n"
     ]
    },
    {
     "name": "stdout",
     "output_type": "stream",
     "text": [
      "Epoch #308: test_reward: 75.600000 ± 26.454489, best_reward: 232.700000 ± 184.207519 in #287\n"
     ]
    },
    {
     "name": "stderr",
     "output_type": "stream",
     "text": [
      "Epoch #309: 1030it [00:02, 492.36it/s, env_step=318270, len=9, n/ep=0, n/st=10, player_1/loss=70.173, player_2/loss=76.765, rew=92.00]\n"
     ]
    },
    {
     "name": "stdout",
     "output_type": "stream",
     "text": [
      "Epoch #309: test_reward: 64.200000 ± 15.580757, best_reward: 232.700000 ± 184.207519 in #287\n"
     ]
    },
    {
     "name": "stderr",
     "output_type": "stream",
     "text": [
      "Epoch #310: 1030it [00:02, 507.64it/s, env_step=319300, len=7, n/ep=1, n/st=10, player_1/loss=69.602, player_2/loss=65.078, rew=54.00]\n"
     ]
    },
    {
     "name": "stdout",
     "output_type": "stream",
     "text": [
      "Epoch #310: test_reward: -19.100000 ± 313.272549, best_reward: 232.700000 ± 184.207519 in #287\n"
     ]
    },
    {
     "name": "stderr",
     "output_type": "stream",
     "text": [
      "Epoch #311: 1030it [00:02, 501.99it/s, env_step=320330, len=7, n/ep=2, n/st=10, player_1/loss=38.683, player_2/loss=76.949, rew=54.00]\n"
     ]
    },
    {
     "name": "stdout",
     "output_type": "stream",
     "text": [
      "Epoch #311: test_reward: 71.000000 ± 17.000000, best_reward: 232.700000 ± 184.207519 in #287\n"
     ]
    },
    {
     "name": "stderr",
     "output_type": "stream",
     "text": [
      "Epoch #312: 1030it [00:02, 424.07it/s, env_step=321360, len=9, n/ep=0, n/st=10, player_1/loss=44.817, player_2/loss=76.979, rew=100.50]\n"
     ]
    },
    {
     "name": "stdout",
     "output_type": "stream",
     "text": [
      "Epoch #312: test_reward: -400.700000 ± 1364.100000, best_reward: 232.700000 ± 184.207519 in #287\n"
     ]
    },
    {
     "name": "stderr",
     "output_type": "stream",
     "text": [
      "Epoch #313: 1030it [00:02, 404.20it/s, env_step=322390, len=43, n/ep=1, n/st=10, player_1/loss=52.056, player_2/loss=80.064, rew=441.00]\n"
     ]
    },
    {
     "name": "stdout",
     "output_type": "stream",
     "text": [
      "Epoch #313: test_reward: 51.800000 ± 39.155587, best_reward: 232.700000 ± 184.207519 in #287\n"
     ]
    },
    {
     "name": "stderr",
     "output_type": "stream",
     "text": [
      "Epoch #314: 1030it [00:02, 402.99it/s, env_step=323420, len=9, n/ep=0, n/st=10, player_1/loss=43.153, player_2/loss=62.644, rew=88.00]\n"
     ]
    },
    {
     "name": "stdout",
     "output_type": "stream",
     "text": [
      "Epoch #314: test_reward: -9663.200000 ± 12106.733398, best_reward: 232.700000 ± 184.207519 in #287\n"
     ]
    },
    {
     "name": "stderr",
     "output_type": "stream",
     "text": [
      "Epoch #315: 1030it [00:02, 514.44it/s, env_step=324450, len=10, n/ep=0, n/st=10, player_1/loss=82.606, player_2/loss=72.856, rew=108.00]\n"
     ]
    },
    {
     "name": "stdout",
     "output_type": "stream",
     "text": [
      "Epoch #315: test_reward: 57.400000 ± 10.200000, best_reward: 232.700000 ± 184.207519 in #287\n"
     ]
    },
    {
     "name": "stderr",
     "output_type": "stream",
     "text": [
      "Epoch #316: 1030it [00:02, 460.24it/s, env_step=325480, len=9, n/ep=0, n/st=10, player_1/loss=66.371, player_2/loss=83.773, rew=107.33]\n"
     ]
    },
    {
     "name": "stdout",
     "output_type": "stream",
     "text": [
      "Epoch #316: test_reward: -2108.500000 ± 3857.070605, best_reward: 232.700000 ± 184.207519 in #287\n"
     ]
    },
    {
     "name": "stderr",
     "output_type": "stream",
     "text": [
      "Epoch #317: 1030it [00:02, 491.90it/s, env_step=326510, len=12, n/ep=3, n/st=10, player_1/loss=77.849, player_2/loss=75.102, rew=178.00]\n"
     ]
    },
    {
     "name": "stdout",
     "output_type": "stream",
     "text": [
      "Epoch #317: test_reward: 57.400000 ± 10.200000, best_reward: 232.700000 ± 184.207519 in #287\n"
     ]
    },
    {
     "name": "stderr",
     "output_type": "stream",
     "text": [
      "Epoch #318: 1030it [00:02, 502.09it/s, env_step=327540, len=11, n/ep=1, n/st=10, player_1/loss=63.955, player_2/loss=100.643, rew=130.00]\n"
     ]
    },
    {
     "name": "stdout",
     "output_type": "stream",
     "text": [
      "Epoch #318: test_reward: -3012.500000 ± 8437.408835, best_reward: 232.700000 ± 184.207519 in #287\n"
     ]
    },
    {
     "name": "stderr",
     "output_type": "stream",
     "text": [
      "Epoch #319: 1030it [00:01, 556.55it/s, env_step=328570, len=8, n/ep=1, n/st=10, player_1/loss=79.350, player_2/loss=88.418, rew=70.00]\n"
     ]
    },
    {
     "name": "stdout",
     "output_type": "stream",
     "text": [
      "Epoch #319: test_reward: 68.400000 ± 24.524274, best_reward: 232.700000 ± 184.207519 in #287\n"
     ]
    },
    {
     "name": "stderr",
     "output_type": "stream",
     "text": [
      "Epoch #320: 1030it [00:01, 551.80it/s, env_step=329600, len=10, n/ep=2, n/st=10, player_1/loss=98.032, player_2/loss=95.400, rew=117.00]\n"
     ]
    },
    {
     "name": "stdout",
     "output_type": "stream",
     "text": [
      "Epoch #320: test_reward: 57.400000 ± 10.200000, best_reward: 232.700000 ± 184.207519 in #287\n"
     ]
    },
    {
     "name": "stderr",
     "output_type": "stream",
     "text": [
      "Epoch #321: 1030it [00:01, 530.35it/s, env_step=330630, len=9, n/ep=1, n/st=10, player_1/loss=130.209, player_2/loss=91.236, rew=88.00]\n"
     ]
    },
    {
     "name": "stdout",
     "output_type": "stream",
     "text": [
      "Epoch #321: test_reward: 62.800000 ± 18.159295, best_reward: 232.700000 ± 184.207519 in #287\n"
     ]
    },
    {
     "name": "stderr",
     "output_type": "stream",
     "text": [
      "Epoch #322: 1030it [00:01, 561.92it/s, env_step=331660, len=94, n/ep=1, n/st=10, player_1/loss=168.770, player_2/loss=95.450, rew=252.00]\n"
     ]
    },
    {
     "name": "stdout",
     "output_type": "stream",
     "text": [
      "Epoch #322: test_reward: -17889.900000 ± 14988.421074, best_reward: 232.700000 ± 184.207519 in #287\n"
     ]
    },
    {
     "name": "stderr",
     "output_type": "stream",
     "text": [
      "Epoch #323: 1030it [00:01, 552.85it/s, env_step=332690, len=7, n/ep=1, n/st=10, player_1/loss=214.877, player_2/loss=136.681, rew=54.00]\n"
     ]
    },
    {
     "name": "stdout",
     "output_type": "stream",
     "text": [
      "Epoch #323: test_reward: 57.200000 ± 6.400000, best_reward: 232.700000 ± 184.207519 in #287\n"
     ]
    },
    {
     "name": "stderr",
     "output_type": "stream",
     "text": [
      "Epoch #324: 1030it [00:01, 519.95it/s, env_step=333720, len=61, n/ep=0, n/st=10, player_1/loss=149.980, player_2/loss=97.804, rew=243.00]\n"
     ]
    },
    {
     "name": "stdout",
     "output_type": "stream",
     "text": [
      "Epoch #324: test_reward: -7378.000000 ± 5844.517927, best_reward: 232.700000 ± 184.207519 in #287\n"
     ]
    },
    {
     "name": "stderr",
     "output_type": "stream",
     "text": [
      "Epoch #325: 1030it [00:01, 517.77it/s, env_step=334750, len=9, n/ep=0, n/st=10, player_1/loss=259.191, player_2/loss=168.507, rew=88.00]\n"
     ]
    },
    {
     "name": "stdout",
     "output_type": "stream",
     "text": [
      "Epoch #325: test_reward: -645.100000 ± 2120.009078, best_reward: 232.700000 ± 184.207519 in #287\n"
     ]
    },
    {
     "name": "stderr",
     "output_type": "stream",
     "text": [
      "Epoch #326: 1030it [00:02, 484.50it/s, env_step=335780, len=8, n/ep=0, n/st=10, player_1/loss=150.156, player_2/loss=126.230, rew=71.00]\n"
     ]
    },
    {
     "name": "stdout",
     "output_type": "stream",
     "text": [
      "Epoch #326: test_reward: 59.000000 ± 10.779610, best_reward: 232.700000 ± 184.207519 in #287\n"
     ]
    },
    {
     "name": "stderr",
     "output_type": "stream",
     "text": [
      "Epoch #327: 1030it [00:01, 529.04it/s, env_step=336810, len=7, n/ep=1, n/st=10, player_1/loss=43.621, player_2/loss=102.295, rew=54.00]\n"
     ]
    },
    {
     "name": "stdout",
     "output_type": "stream",
     "text": [
      "Epoch #327: test_reward: 60.800000 ± 13.600000, best_reward: 232.700000 ± 184.207519 in #287\n"
     ]
    },
    {
     "name": "stderr",
     "output_type": "stream",
     "text": [
      "Epoch #328: 1030it [00:01, 551.62it/s, env_step=337840, len=59, n/ep=0, n/st=10, player_1/loss=68.272, player_2/loss=106.406, rew=808.00]\n"
     ]
    },
    {
     "name": "stdout",
     "output_type": "stream",
     "text": [
      "Epoch #328: test_reward: -19568.500000 ± 16851.352487, best_reward: 232.700000 ± 184.207519 in #287\n"
     ]
    },
    {
     "name": "stderr",
     "output_type": "stream",
     "text": [
      "Epoch #329: 1030it [00:01, 559.86it/s, env_step=338870, len=31, n/ep=0, n/st=10, player_2/loss=98.431, rew=639.00]     \n"
     ]
    },
    {
     "name": "stdout",
     "output_type": "stream",
     "text": [
      "Epoch #329: test_reward: 105.400000 ± 79.101454, best_reward: 232.700000 ± 184.207519 in #287\n"
     ]
    },
    {
     "name": "stderr",
     "output_type": "stream",
     "text": [
      "Epoch #330: 1030it [00:01, 515.95it/s, env_step=339900, len=8, n/ep=0, n/st=10, player_1/loss=119.821, player_2/loss=160.036, rew=81.00]\n"
     ]
    },
    {
     "name": "stdout",
     "output_type": "stream",
     "text": [
      "Epoch #330: test_reward: 66.200000 ± 19.338045, best_reward: 232.700000 ± 184.207519 in #287\n"
     ]
    },
    {
     "name": "stderr",
     "output_type": "stream",
     "text": [
      "Epoch #331: 1030it [00:02, 501.30it/s, env_step=340930, len=54, n/ep=1, n/st=10, player_1/loss=46.110, player_2/loss=84.399, rew=838.00]\n"
     ]
    },
    {
     "name": "stdout",
     "output_type": "stream",
     "text": [
      "Epoch #331: test_reward: -23740.300000 ± 36181.114643, best_reward: 232.700000 ± 184.207519 in #287\n"
     ]
    },
    {
     "name": "stderr",
     "output_type": "stream",
     "text": [
      "Epoch #332: 1030it [00:02, 491.41it/s, env_step=341960, len=79, n/ep=0, n/st=10, player_1/loss=168.411, player_2/loss=202.702, rew=1314.00]\n"
     ]
    },
    {
     "name": "stdout",
     "output_type": "stream",
     "text": [
      "Epoch #332: test_reward: 67.600000 ± 16.656530, best_reward: 232.700000 ± 184.207519 in #287\n"
     ]
    },
    {
     "name": "stderr",
     "output_type": "stream",
     "text": [
      "Epoch #333: 1030it [00:02, 472.45it/s, env_step=342990, len=25, n/ep=3, n/st=10, player_1/loss=86.759, player_2/loss=134.194, rew=228.67]\n"
     ]
    },
    {
     "name": "stdout",
     "output_type": "stream",
     "text": [
      "Epoch #333: test_reward: 64.200000 ± 15.580757, best_reward: 232.700000 ± 184.207519 in #287\n"
     ]
    },
    {
     "name": "stderr",
     "output_type": "stream",
     "text": [
      "Epoch #334: 1030it [00:02, 447.97it/s, env_step=344020, len=9, n/ep=0, n/st=10, player_1/loss=65.503, player_2/loss=129.143, rew=88.00]\n"
     ]
    },
    {
     "name": "stdout",
     "output_type": "stream",
     "text": [
      "Epoch #334: test_reward: 66.600000 ± 37.800000, best_reward: 232.700000 ± 184.207519 in #287\n"
     ]
    },
    {
     "name": "stderr",
     "output_type": "stream",
     "text": [
      "Epoch #335: 1030it [00:02, 406.96it/s, env_step=345050, len=9, n/ep=1, n/st=10, player_1/loss=57.812, player_2/loss=80.309, rew=88.00]\n"
     ]
    },
    {
     "name": "stdout",
     "output_type": "stream",
     "text": [
      "Epoch #335: test_reward: -2957.500000 ± 9099.243631, best_reward: 232.700000 ± 184.207519 in #287\n"
     ]
    },
    {
     "name": "stderr",
     "output_type": "stream",
     "text": [
      "Epoch #336: 1030it [00:02, 437.14it/s, env_step=346080, len=84, n/ep=0, n/st=10, player_1/loss=107.751, player_2/loss=182.853, rew=-137.00]\n"
     ]
    },
    {
     "name": "stdout",
     "output_type": "stream",
     "text": [
      "Epoch #336: test_reward: -40140.200000 ± 28384.239203, best_reward: 232.700000 ± 184.207519 in #287\n"
     ]
    },
    {
     "name": "stderr",
     "output_type": "stream",
     "text": [
      "Epoch #337: 1030it [00:02, 396.95it/s, env_step=347110, len=10, n/ep=2, n/st=10, player_1/loss=104.353, player_2/loss=127.122, rew=121.00]\n"
     ]
    },
    {
     "name": "stdout",
     "output_type": "stream",
     "text": [
      "Epoch #337: test_reward: 84.600000 ± 75.535687, best_reward: 232.700000 ± 184.207519 in #287\n"
     ]
    },
    {
     "name": "stderr",
     "output_type": "stream",
     "text": [
      "Epoch #338: 1030it [00:02, 439.53it/s, env_step=348140, len=63, n/ep=0, n/st=10, player_1/loss=87.396, player_2/loss=143.635, rew=1288.00]\n"
     ]
    },
    {
     "name": "stdout",
     "output_type": "stream",
     "text": [
      "Epoch #338: test_reward: 61.600000 ± 22.800000, best_reward: 232.700000 ± 184.207519 in #287\n"
     ]
    },
    {
     "name": "stderr",
     "output_type": "stream",
     "text": [
      "Epoch #339: 1030it [00:02, 434.45it/s, env_step=349170, len=8, n/ep=1, n/st=10, player_1/loss=96.895, player_2/loss=118.648, rew=70.00]\n"
     ]
    },
    {
     "name": "stdout",
     "output_type": "stream",
     "text": [
      "Epoch #339: test_reward: 69.400000 ± 32.472142, best_reward: 232.700000 ± 184.207519 in #287\n"
     ]
    },
    {
     "name": "stderr",
     "output_type": "stream",
     "text": [
      "Epoch #340: 1030it [00:02, 424.24it/s, env_step=350200, len=30, n/ep=0, n/st=10, player_1/loss=91.264, player_2/loss=104.541, rew=550.00]\n"
     ]
    },
    {
     "name": "stdout",
     "output_type": "stream",
     "text": [
      "Epoch #340: test_reward: 65.000000 ± 23.920702, best_reward: 232.700000 ± 184.207519 in #287\n"
     ]
    },
    {
     "name": "stderr",
     "output_type": "stream",
     "text": [
      "Epoch #341: 1030it [00:02, 445.88it/s, env_step=351230, len=7, n/ep=0, n/st=10, player_1/loss=167.157, player_2/loss=180.279, rew=54.00]\n"
     ]
    },
    {
     "name": "stdout",
     "output_type": "stream",
     "text": [
      "Epoch #341: test_reward: -2455.200000 ± 7527.600000, best_reward: 232.700000 ± 184.207519 in #287\n"
     ]
    },
    {
     "name": "stderr",
     "output_type": "stream",
     "text": [
      "Epoch #342: 1030it [00:02, 465.45it/s, env_step=352260, len=17, n/ep=0, n/st=10, player_1/loss=112.299, player_2/loss=124.373, rew=199.00]\n"
     ]
    },
    {
     "name": "stdout",
     "output_type": "stream",
     "text": [
      "Epoch #342: test_reward: -18312.500000 ± 20014.767524, best_reward: 232.700000 ± 184.207519 in #287\n"
     ]
    },
    {
     "name": "stderr",
     "output_type": "stream",
     "text": [
      "Epoch #343: 1030it [00:02, 499.70it/s, env_step=353290, len=130, n/ep=0, n/st=10, player_1/loss=218.480, player_2/loss=164.624, rew=-546.00]\n"
     ]
    },
    {
     "name": "stdout",
     "output_type": "stream",
     "text": [
      "Epoch #343: test_reward: 100.600000 ± 19.246818, best_reward: 232.700000 ± 184.207519 in #287\n"
     ]
    },
    {
     "name": "stderr",
     "output_type": "stream",
     "text": [
      "Epoch #344: 1030it [00:02, 485.93it/s, env_step=354320, len=10, n/ep=1, n/st=10, player_1/loss=119.911, player_2/loss=149.855, rew=108.00]\n"
     ]
    },
    {
     "name": "stdout",
     "output_type": "stream",
     "text": [
      "Epoch #344: test_reward: 59.400000 ± 16.200000, best_reward: 232.700000 ± 184.207519 in #287\n"
     ]
    },
    {
     "name": "stderr",
     "output_type": "stream",
     "text": [
      "Epoch #345: 1030it [00:02, 507.04it/s, env_step=355350, len=85, n/ep=0, n/st=10, player_1/loss=194.771, player_2/loss=136.680, rew=1301.50]\n"
     ]
    },
    {
     "name": "stdout",
     "output_type": "stream",
     "text": [
      "Epoch #345: test_reward: -16889.600000 ± 33928.913275, best_reward: 232.700000 ± 184.207519 in #287\n"
     ]
    },
    {
     "name": "stderr",
     "output_type": "stream",
     "text": [
      "Epoch #346: 1030it [00:02, 504.27it/s, env_step=356380, len=7, n/ep=0, n/st=10, player_1/loss=123.532, player_2/loss=135.062, rew=54.00]\n"
     ]
    },
    {
     "name": "stdout",
     "output_type": "stream",
     "text": [
      "Epoch #346: test_reward: 69.600000 ± 19.875613, best_reward: 232.700000 ± 184.207519 in #287\n"
     ]
    },
    {
     "name": "stderr",
     "output_type": "stream",
     "text": [
      "Epoch #347: 1030it [00:02, 502.51it/s, env_step=357410, len=15, n/ep=1, n/st=10, player_1/loss=101.791, player_2/loss=99.008, rew=238.00]\n"
     ]
    },
    {
     "name": "stdout",
     "output_type": "stream",
     "text": [
      "Epoch #347: test_reward: 55.800000 ± 32.390739, best_reward: 232.700000 ± 184.207519 in #287\n"
     ]
    },
    {
     "name": "stderr",
     "output_type": "stream",
     "text": [
      "Epoch #348: 1030it [00:02, 470.86it/s, env_step=358440, len=9, n/ep=0, n/st=10, player_1/loss=68.744, player_2/loss=63.124, rew=88.00]\n"
     ]
    },
    {
     "name": "stdout",
     "output_type": "stream",
     "text": [
      "Epoch #348: test_reward: -13267.900000 ± 16977.745112, best_reward: 232.700000 ± 184.207519 in #287\n"
     ]
    },
    {
     "name": "stderr",
     "output_type": "stream",
     "text": [
      "Epoch #349: 1030it [00:01, 517.22it/s, env_step=359470, len=11, n/ep=0, n/st=10, player_1/loss=64.921, player_2/loss=87.851, rew=130.00]\n"
     ]
    },
    {
     "name": "stdout",
     "output_type": "stream",
     "text": [
      "Epoch #349: test_reward: 64.200000 ± 15.580757, best_reward: 232.700000 ± 184.207519 in #287\n"
     ]
    },
    {
     "name": "stderr",
     "output_type": "stream",
     "text": [
      "Epoch #350: 1030it [00:02, 485.94it/s, env_step=360500, len=9, n/ep=1, n/st=10, player_1/loss=95.095, player_2/loss=210.931, rew=88.00]\n"
     ]
    },
    {
     "name": "stdout",
     "output_type": "stream",
     "text": [
      "Epoch #350: test_reward: 95.400000 ± 25.939160, best_reward: 232.700000 ± 184.207519 in #287\n"
     ]
    },
    {
     "name": "stderr",
     "output_type": "stream",
     "text": [
      "Epoch #351: 1030it [00:02, 468.27it/s, env_step=361530, len=9, n/ep=0, n/st=10, player_1/loss=73.271, player_2/loss=124.319, rew=88.00]\n"
     ]
    },
    {
     "name": "stdout",
     "output_type": "stream",
     "text": [
      "Epoch #351: test_reward: 62.800000 ± 18.159295, best_reward: 232.700000 ± 184.207519 in #287\n"
     ]
    },
    {
     "name": "stderr",
     "output_type": "stream",
     "text": [
      "Epoch #352: 1030it [00:01, 531.15it/s, env_step=362560, len=10, n/ep=1, n/st=10, player_1/loss=93.900, player_2/loss=116.460, rew=108.00]\n"
     ]
    },
    {
     "name": "stdout",
     "output_type": "stream",
     "text": [
      "Epoch #352: test_reward: 77.800000 ± 15.580757, best_reward: 232.700000 ± 184.207519 in #287\n"
     ]
    },
    {
     "name": "stderr",
     "output_type": "stream",
     "text": [
      "Epoch #353: 1030it [00:02, 475.55it/s, env_step=363590, len=11, n/ep=2, n/st=10, player_1/loss=101.695, player_2/loss=132.301, rew=134.00]\n"
     ]
    },
    {
     "name": "stdout",
     "output_type": "stream",
     "text": [
      "Epoch #353: test_reward: 57.400000 ± 10.200000, best_reward: 232.700000 ± 184.207519 in #287\n"
     ]
    },
    {
     "name": "stderr",
     "output_type": "stream",
     "text": [
      "Epoch #354: 1030it [00:02, 405.60it/s, env_step=364620, len=9, n/ep=1, n/st=10, player_1/loss=63.733, player_2/loss=131.668, rew=88.00]\n"
     ]
    },
    {
     "name": "stdout",
     "output_type": "stream",
     "text": [
      "Epoch #354: test_reward: 85.400000 ± 20.020989, best_reward: 232.700000 ± 184.207519 in #287\n"
     ]
    },
    {
     "name": "stderr",
     "output_type": "stream",
     "text": [
      "Epoch #355: 1030it [00:02, 388.52it/s, env_step=365650, len=7, n/ep=1, n/st=10, player_1/loss=121.111, player_2/loss=137.006, rew=54.00]\n"
     ]
    },
    {
     "name": "stdout",
     "output_type": "stream",
     "text": [
      "Epoch #355: test_reward: -937.100000 ± 3007.338440, best_reward: 232.700000 ± 184.207519 in #287\n"
     ]
    },
    {
     "name": "stderr",
     "output_type": "stream",
     "text": [
      "Epoch #356: 1030it [00:02, 459.09it/s, env_step=366680, len=7, n/ep=0, n/st=10, player_1/loss=88.987, player_2/loss=122.157, rew=54.00]\n"
     ]
    },
    {
     "name": "stdout",
     "output_type": "stream",
     "text": [
      "Epoch #356: test_reward: -48291.000000 ± 78382.706852, best_reward: 232.700000 ± 184.207519 in #287\n"
     ]
    },
    {
     "name": "stderr",
     "output_type": "stream",
     "text": [
      "Epoch #357: 1030it [00:02, 500.78it/s, env_step=367710, len=45, n/ep=0, n/st=10, player_1/loss=117.832, player_2/loss=157.362, rew=253.00]\n"
     ]
    },
    {
     "name": "stdout",
     "output_type": "stream",
     "text": [
      "Epoch #357: test_reward: -40309.500000 ± 49558.416250, best_reward: 232.700000 ± 184.207519 in #287\n"
     ]
    },
    {
     "name": "stderr",
     "output_type": "stream",
     "text": [
      "Epoch #358: 1030it [00:02, 471.09it/s, env_step=368740, len=8, n/ep=0, n/st=10, player_1/loss=165.330, player_2/loss=259.725, rew=71.00]\n"
     ]
    },
    {
     "name": "stdout",
     "output_type": "stream",
     "text": [
      "Epoch #358: test_reward: -31695.800000 ± 39439.640431, best_reward: 232.700000 ± 184.207519 in #287\n"
     ]
    },
    {
     "name": "stderr",
     "output_type": "stream",
     "text": [
      "Epoch #359: 1030it [00:01, 561.78it/s, env_step=369770, len=8, n/ep=3, n/st=10, player_1/loss=74.742, player_2/loss=121.412, rew=72.00]\n"
     ]
    },
    {
     "name": "stdout",
     "output_type": "stream",
     "text": [
      "Epoch #359: test_reward: 54.000000 ± 0.000000, best_reward: 232.700000 ± 184.207519 in #287\n"
     ]
    },
    {
     "name": "stderr",
     "output_type": "stream",
     "text": [
      "Epoch #360: 1030it [00:01, 536.24it/s, env_step=370800, len=24, n/ep=0, n/st=10, player_1/loss=85.916, player_2/loss=119.088, rew=371.00]\n"
     ]
    },
    {
     "name": "stdout",
     "output_type": "stream",
     "text": [
      "Epoch #360: test_reward: -21859.900000 ± 21168.357775, best_reward: 232.700000 ± 184.207519 in #287\n"
     ]
    },
    {
     "name": "stderr",
     "output_type": "stream",
     "text": [
      "Epoch #361: 1030it [00:01, 515.65it/s, env_step=371830, len=7, n/ep=0, n/st=10, player_1/loss=105.888, player_2/loss=182.373, rew=54.00]\n"
     ]
    },
    {
     "name": "stdout",
     "output_type": "stream",
     "text": [
      "Epoch #361: test_reward: 29.800000 ± 72.600000, best_reward: 232.700000 ± 184.207519 in #287\n"
     ]
    },
    {
     "name": "stderr",
     "output_type": "stream",
     "text": [
      "Epoch #362: 1030it [00:02, 499.63it/s, env_step=372860, len=10, n/ep=2, n/st=10, player_1/loss=64.251, player_2/loss=108.364, rew=109.00]\n"
     ]
    },
    {
     "name": "stdout",
     "output_type": "stream",
     "text": [
      "Epoch #362: test_reward: 71.800000 ± 24.648732, best_reward: 232.700000 ± 184.207519 in #287\n"
     ]
    },
    {
     "name": "stderr",
     "output_type": "stream",
     "text": [
      "Epoch #363: 1030it [00:01, 541.42it/s, env_step=373890, len=12, n/ep=1, n/st=10, player_1/loss=84.583, player_2/loss=125.575, rew=154.00]\n"
     ]
    },
    {
     "name": "stdout",
     "output_type": "stream",
     "text": [
      "Epoch #363: test_reward: 57.400000 ± 10.200000, best_reward: 232.700000 ± 184.207519 in #287\n"
     ]
    },
    {
     "name": "stderr",
     "output_type": "stream",
     "text": [
      "Epoch #364: 1030it [00:01, 522.67it/s, env_step=374920, len=38, n/ep=0, n/st=10, player_1/loss=83.177, player_2/loss=93.254, rew=481.00]\n"
     ]
    },
    {
     "name": "stdout",
     "output_type": "stream",
     "text": [
      "Epoch #364: test_reward: 140.000000 ± 20.000000, best_reward: 232.700000 ± 184.207519 in #287\n"
     ]
    },
    {
     "name": "stderr",
     "output_type": "stream",
     "text": [
      "Epoch #365: 1030it [00:02, 507.42it/s, env_step=375950, len=9, n/ep=0, n/st=10, player_1/loss=101.092, player_2/loss=228.123, rew=88.00]\n"
     ]
    },
    {
     "name": "stdout",
     "output_type": "stream",
     "text": [
      "Epoch #365: test_reward: -6824.200000 ± 20457.115519, best_reward: 232.700000 ± 184.207519 in #287\n"
     ]
    },
    {
     "name": "stderr",
     "output_type": "stream",
     "text": [
      "Epoch #366: 1030it [00:01, 542.91it/s, env_step=376980, len=8, n/ep=0, n/st=10, player_1/loss=87.942, player_2/loss=228.698, rew=71.00]\n"
     ]
    },
    {
     "name": "stdout",
     "output_type": "stream",
     "text": [
      "Epoch #366: test_reward: -19163.700000 ± 38401.976850, best_reward: 232.700000 ± 184.207519 in #287\n"
     ]
    },
    {
     "name": "stderr",
     "output_type": "stream",
     "text": [
      "Epoch #367: 1030it [00:02, 501.31it/s, env_step=378010, len=12, n/ep=0, n/st=10, player_1/loss=101.742, player_2/loss=279.204, rew=179.00]\n"
     ]
    },
    {
     "name": "stdout",
     "output_type": "stream",
     "text": [
      "Epoch #367: test_reward: 57.400000 ± 10.200000, best_reward: 232.700000 ± 184.207519 in #287\n"
     ]
    },
    {
     "name": "stderr",
     "output_type": "stream",
     "text": [
      "Epoch #368: 1030it [00:02, 456.43it/s, env_step=379040, len=8, n/ep=0, n/st=10, player_1/loss=72.008, player_2/loss=117.919, rew=70.00]\n"
     ]
    },
    {
     "name": "stdout",
     "output_type": "stream",
     "text": [
      "Epoch #368: test_reward: -30707.600000 ± 29237.040107, best_reward: 232.700000 ± 184.207519 in #287\n"
     ]
    },
    {
     "name": "stderr",
     "output_type": "stream",
     "text": [
      "Epoch #369: 1030it [00:02, 506.46it/s, env_step=380070, len=7, n/ep=2, n/st=10, player_1/loss=78.843, player_2/loss=133.333, rew=54.00]\n"
     ]
    },
    {
     "name": "stdout",
     "output_type": "stream",
     "text": [
      "Epoch #369: test_reward: -2364.500000 ± 7289.515858, best_reward: 232.700000 ± 184.207519 in #287\n"
     ]
    },
    {
     "name": "stderr",
     "output_type": "stream",
     "text": [
      "Epoch #370: 1030it [00:02, 500.31it/s, env_step=381100, len=7, n/ep=1, n/st=10, player_1/loss=115.932, player_2/loss=104.120, rew=54.00]\n"
     ]
    },
    {
     "name": "stdout",
     "output_type": "stream",
     "text": [
      "Epoch #370: test_reward: 57.400000 ± 10.200000, best_reward: 232.700000 ± 184.207519 in #287\n"
     ]
    },
    {
     "name": "stderr",
     "output_type": "stream",
     "text": [
      "Epoch #371: 1030it [00:01, 532.78it/s, env_step=382130, len=9, n/ep=0, n/st=10, player_1/loss=233.097, player_2/loss=133.988, rew=104.00]\n"
     ]
    },
    {
     "name": "stdout",
     "output_type": "stream",
     "text": [
      "Epoch #371: test_reward: -8743.900000 ± 26405.035279, best_reward: 232.700000 ± 184.207519 in #287\n"
     ]
    },
    {
     "name": "stderr",
     "output_type": "stream",
     "text": [
      "Epoch #372: 1030it [00:02, 370.28it/s, env_step=383160, len=8, n/ep=1, n/st=10, player_1/loss=195.009, player_2/loss=127.254, rew=70.00]\n"
     ]
    },
    {
     "name": "stdout",
     "output_type": "stream",
     "text": [
      "Epoch #372: test_reward: 62.400000 ± 13.646978, best_reward: 232.700000 ± 184.207519 in #287\n"
     ]
    },
    {
     "name": "stderr",
     "output_type": "stream",
     "text": [
      "Epoch #373: 1030it [00:02, 429.14it/s, env_step=384190, len=11, n/ep=1, n/st=10, player_1/loss=245.541, player_2/loss=126.166, rew=130.00]\n"
     ]
    },
    {
     "name": "stdout",
     "output_type": "stream",
     "text": [
      "Epoch #373: test_reward: -1958.600000 ± 6049.141827, best_reward: 232.700000 ± 184.207519 in #287\n"
     ]
    },
    {
     "name": "stderr",
     "output_type": "stream",
     "text": [
      "Epoch #374: 1030it [00:02, 382.13it/s, env_step=385220, len=79, n/ep=1, n/st=10, player_1/loss=77.884, player_2/loss=180.813, rew=762.00]\n"
     ]
    },
    {
     "name": "stdout",
     "output_type": "stream",
     "text": [
      "Epoch #374: test_reward: 68.400000 ± 24.524274, best_reward: 232.700000 ± 184.207519 in #287\n"
     ]
    },
    {
     "name": "stderr",
     "output_type": "stream",
     "text": [
      "Epoch #375: 1030it [00:02, 414.62it/s, env_step=386250, len=14, n/ep=0, n/st=10, player_1/loss=99.453, player_2/loss=98.017, rew=208.00]\n"
     ]
    },
    {
     "name": "stdout",
     "output_type": "stream",
     "text": [
      "Epoch #375: test_reward: 67.600000 ± 16.656530, best_reward: 232.700000 ± 184.207519 in #287\n"
     ]
    },
    {
     "name": "stderr",
     "output_type": "stream",
     "text": [
      "Epoch #376: 1030it [00:02, 441.67it/s, env_step=387280, len=8, n/ep=0, n/st=10, player_1/loss=72.831, player_2/loss=124.541, rew=81.00]\n"
     ]
    },
    {
     "name": "stdout",
     "output_type": "stream",
     "text": [
      "Epoch #376: test_reward: 64.200000 ± 15.580757, best_reward: 232.700000 ± 184.207519 in #287\n"
     ]
    },
    {
     "name": "stderr",
     "output_type": "stream",
     "text": [
      "Epoch #377: 1030it [00:02, 492.75it/s, env_step=388310, len=50, n/ep=1, n/st=10, player_1/loss=82.652, player_2/loss=112.484, rew=508.00]\n"
     ]
    },
    {
     "name": "stdout",
     "output_type": "stream",
     "text": [
      "Epoch #377: test_reward: 64.200000 ± 15.580757, best_reward: 232.700000 ± 184.207519 in #287\n"
     ]
    },
    {
     "name": "stderr",
     "output_type": "stream",
     "text": [
      "Epoch #378: 1030it [00:02, 513.26it/s, env_step=389340, len=9, n/ep=0, n/st=10, player_1/loss=48.420, player_2/loss=75.359, rew=90.67]\n"
     ]
    },
    {
     "name": "stdout",
     "output_type": "stream",
     "text": [
      "Epoch #378: test_reward: -23658.800000 ± 25675.117031, best_reward: 232.700000 ± 184.207519 in #287\n"
     ]
    },
    {
     "name": "stderr",
     "output_type": "stream",
     "text": [
      "Epoch #379: 1030it [00:02, 454.34it/s, env_step=390370, len=87, n/ep=0, n/st=10, player_1/loss=89.817, player_2/loss=128.551, rew=586.00]\n"
     ]
    },
    {
     "name": "stdout",
     "output_type": "stream",
     "text": [
      "Epoch #379: test_reward: -5088.800000 ± 11428.721624, best_reward: 232.700000 ± 184.207519 in #287\n"
     ]
    },
    {
     "name": "stderr",
     "output_type": "stream",
     "text": [
      "Epoch #380: 1030it [00:01, 543.33it/s, env_step=391400, len=33, n/ep=0, n/st=10, player_1/loss=114.882, player_2/loss=383.687, rew=664.00]\n"
     ]
    },
    {
     "name": "stdout",
     "output_type": "stream",
     "text": [
      "Epoch #380: test_reward: 57.400000 ± 10.200000, best_reward: 232.700000 ± 184.207519 in #287\n"
     ]
    },
    {
     "name": "stderr",
     "output_type": "stream",
     "text": [
      "Epoch #381: 1030it [00:02, 483.83it/s, env_step=392430, len=8, n/ep=0, n/st=10, player_1/loss=57.860, player_2/loss=133.353, rew=77.33]\n"
     ]
    },
    {
     "name": "stdout",
     "output_type": "stream",
     "text": [
      "Epoch #381: test_reward: -1308.500000 ± 4484.980518, best_reward: 232.700000 ± 184.207519 in #287\n"
     ]
    },
    {
     "name": "stderr",
     "output_type": "stream",
     "text": [
      "Epoch #382: 1030it [00:02, 514.82it/s, env_step=393460, len=7, n/ep=0, n/st=10, player_1/loss=69.192, player_2/loss=146.090, rew=54.00]\n"
     ]
    },
    {
     "name": "stdout",
     "output_type": "stream",
     "text": [
      "Epoch #382: test_reward: -22374.500000 ± 28485.181661, best_reward: 232.700000 ± 184.207519 in #287\n"
     ]
    },
    {
     "name": "stderr",
     "output_type": "stream",
     "text": [
      "Epoch #383: 1030it [00:02, 480.34it/s, env_step=394490, len=18, n/ep=1, n/st=10, player_1/loss=87.521, player_2/loss=100.485, rew=322.00]\n"
     ]
    },
    {
     "name": "stdout",
     "output_type": "stream",
     "text": [
      "Epoch #383: test_reward: -58609.700000 ± 56752.673070, best_reward: 232.700000 ± 184.207519 in #287\n"
     ]
    },
    {
     "name": "stderr",
     "output_type": "stream",
     "text": [
      "Epoch #384: 1030it [00:02, 436.73it/s, env_step=395520, len=11, n/ep=0, n/st=10, player_1/loss=104.476, player_2/loss=105.614, rew=130.00]\n"
     ]
    },
    {
     "name": "stdout",
     "output_type": "stream",
     "text": [
      "Epoch #384: test_reward: -1784.200000 ± 5525.942631, best_reward: 232.700000 ± 184.207519 in #287\n"
     ]
    },
    {
     "name": "stderr",
     "output_type": "stream",
     "text": [
      "Epoch #385: 1030it [00:02, 431.76it/s, env_step=396550, len=10, n/ep=0, n/st=10, player_1/loss=88.744, player_2/loss=220.654, rew=109.00]\n"
     ]
    },
    {
     "name": "stdout",
     "output_type": "stream",
     "text": [
      "Epoch #385: test_reward: -6063.100000 ± 9510.432540, best_reward: 232.700000 ± 184.207519 in #287\n"
     ]
    },
    {
     "name": "stderr",
     "output_type": "stream",
     "text": [
      "Epoch #386: 1030it [00:02, 477.58it/s, env_step=397580, len=52, n/ep=0, n/st=10, player_1/loss=78.314, player_2/loss=102.538, rew=154.50]\n"
     ]
    },
    {
     "name": "stdout",
     "output_type": "stream",
     "text": [
      "Epoch #386: test_reward: 54.000000 ± 0.000000, best_reward: 232.700000 ± 184.207519 in #287\n"
     ]
    },
    {
     "name": "stderr",
     "output_type": "stream",
     "text": [
      "Epoch #387: 1030it [00:02, 494.30it/s, env_step=398610, len=65, n/ep=0, n/st=10, player_1/loss=118.524, player_2/loss=151.626, rew=649.00]\n"
     ]
    },
    {
     "name": "stdout",
     "output_type": "stream",
     "text": [
      "Epoch #387: test_reward: -780.300000 ± 2539.676674, best_reward: 232.700000 ± 184.207519 in #287\n"
     ]
    },
    {
     "name": "stderr",
     "output_type": "stream",
     "text": [
      "Epoch #388: 1030it [00:01, 548.21it/s, env_step=399640, len=34, n/ep=0, n/st=10, player_1/loss=78.386, player_2/loss=301.851, rew=531.00]\n"
     ]
    },
    {
     "name": "stdout",
     "output_type": "stream",
     "text": [
      "Epoch #388: test_reward: 60.800000 ± 13.600000, best_reward: 232.700000 ± 184.207519 in #287\n"
     ]
    },
    {
     "name": "stderr",
     "output_type": "stream",
     "text": [
      "Epoch #389: 1030it [00:02, 471.30it/s, env_step=400670, len=55, n/ep=0, n/st=10, player_1/loss=192.379, player_2/loss=277.165, rew=1374.00]\n"
     ]
    },
    {
     "name": "stdout",
     "output_type": "stream",
     "text": [
      "Epoch #389: test_reward: -19951.700000 ± 41997.919372, best_reward: 232.700000 ± 184.207519 in #287\n"
     ]
    },
    {
     "name": "stderr",
     "output_type": "stream",
     "text": [
      "Epoch #390: 1030it [00:02, 480.31it/s, env_step=401700, len=8, n/ep=2, n/st=10, player_1/loss=152.124, player_2/loss=439.248, rew=71.00]\n"
     ]
    },
    {
     "name": "stdout",
     "output_type": "stream",
     "text": [
      "Epoch #390: test_reward: 64.200000 ± 15.580757, best_reward: 232.700000 ± 184.207519 in #287\n"
     ]
    },
    {
     "name": "stderr",
     "output_type": "stream",
     "text": [
      "Epoch #391: 1030it [00:01, 530.80it/s, env_step=402730, len=11, n/ep=0, n/st=10, player_1/loss=62.450, player_2/loss=303.761, rew=130.00]\n"
     ]
    },
    {
     "name": "stdout",
     "output_type": "stream",
     "text": [
      "Epoch #391: test_reward: -29200.300000 ± 19812.764976, best_reward: 232.700000 ± 184.207519 in #287\n"
     ]
    },
    {
     "name": "stderr",
     "output_type": "stream",
     "text": [
      "Epoch #392: 1030it [00:02, 509.49it/s, env_step=403760, len=7, n/ep=0, n/st=10, player_1/loss=87.505, player_2/loss=659.310, rew=54.00]\n"
     ]
    },
    {
     "name": "stdout",
     "output_type": "stream",
     "text": [
      "Epoch #392: test_reward: 64.200000 ± 15.580757, best_reward: 232.700000 ± 184.207519 in #287\n"
     ]
    },
    {
     "name": "stderr",
     "output_type": "stream",
     "text": [
      "Epoch #393: 1030it [00:02, 470.07it/s, env_step=404790, len=13, n/ep=1, n/st=10, player_1/loss=58.858, player_2/loss=454.640, rew=174.00]\n"
     ]
    },
    {
     "name": "stdout",
     "output_type": "stream",
     "text": [
      "Epoch #393: test_reward: 122.500000 ± 108.099260, best_reward: 232.700000 ± 184.207519 in #287\n"
     ]
    },
    {
     "name": "stderr",
     "output_type": "stream",
     "text": [
      "Epoch #394: 1030it [00:01, 562.36it/s, env_step=405820, len=7, n/ep=1, n/st=10, player_1/loss=122.171, player_2/loss=104.412, rew=54.00]\n"
     ]
    },
    {
     "name": "stdout",
     "output_type": "stream",
     "text": [
      "Epoch #394: test_reward: -645.800000 ± 2128.808765, best_reward: 232.700000 ± 184.207519 in #287\n"
     ]
    },
    {
     "name": "stderr",
     "output_type": "stream",
     "text": [
      "Epoch #395: 1030it [00:01, 515.70it/s, env_step=406850, len=7, n/ep=0, n/st=10, player_1/loss=54.737, player_2/loss=165.717, rew=54.00]\n"
     ]
    },
    {
     "name": "stdout",
     "output_type": "stream",
     "text": [
      "Epoch #395: test_reward: 55.000000 ± 31.815091, best_reward: 232.700000 ± 184.207519 in #287\n"
     ]
    },
    {
     "name": "stderr",
     "output_type": "stream",
     "text": [
      "Epoch #396: 1030it [00:02, 500.37it/s, env_step=407880, len=33, n/ep=0, n/st=10, player_2/loss=121.070, rew=568.00]    \n"
     ]
    },
    {
     "name": "stdout",
     "output_type": "stream",
     "text": [
      "Epoch #396: test_reward: -35344.400000 ± 34604.612511, best_reward: 232.700000 ± 184.207519 in #287\n"
     ]
    },
    {
     "name": "stderr",
     "output_type": "stream",
     "text": [
      "Epoch #397: 1030it [00:02, 513.58it/s, env_step=408910, len=14, n/ep=1, n/st=10, player_1/loss=106.848, player_2/loss=483.512, rew=208.00]\n"
     ]
    },
    {
     "name": "stdout",
     "output_type": "stream",
     "text": [
      "Epoch #397: test_reward: -7796.400000 ± 8594.737846, best_reward: 232.700000 ± 184.207519 in #287\n"
     ]
    },
    {
     "name": "stderr",
     "output_type": "stream",
     "text": [
      "Epoch #398: 1030it [00:01, 583.83it/s, env_step=409940, len=7, n/ep=2, n/st=10, player_1/loss=122.284, player_2/loss=420.623, rew=54.00]\n"
     ]
    },
    {
     "name": "stdout",
     "output_type": "stream",
     "text": [
      "Epoch #398: test_reward: 54.000000 ± 0.000000, best_reward: 232.700000 ± 184.207519 in #287\n"
     ]
    },
    {
     "name": "stderr",
     "output_type": "stream",
     "text": [
      "Epoch #399: 1030it [00:01, 583.85it/s, env_step=410970, len=7, n/ep=0, n/st=10, player_1/loss=79.792, player_2/loss=130.624, rew=54.00]\n"
     ]
    },
    {
     "name": "stdout",
     "output_type": "stream",
     "text": [
      "Epoch #399: test_reward: 57.400000 ± 10.200000, best_reward: 232.700000 ± 184.207519 in #287\n"
     ]
    },
    {
     "name": "stderr",
     "output_type": "stream",
     "text": [
      "Epoch #400: 1030it [00:01, 568.39it/s, env_step=412000, len=7, n/ep=0, n/st=10, player_1/loss=46.947, player_2/loss=96.753, rew=54.00]\n"
     ]
    },
    {
     "name": "stdout",
     "output_type": "stream",
     "text": [
      "Epoch #400: test_reward: -61948.600000 ± 75831.479506, best_reward: 232.700000 ± 184.207519 in #287\n"
     ]
    },
    {
     "name": "stderr",
     "output_type": "stream",
     "text": [
      "Epoch #401: 1030it [00:01, 562.41it/s, env_step=413030, len=9, n/ep=1, n/st=10, player_1/loss=122.836, player_2/loss=375.406, rew=88.00]\n"
     ]
    },
    {
     "name": "stdout",
     "output_type": "stream",
     "text": [
      "Epoch #401: test_reward: -13469.200000 ± 17127.674803, best_reward: 232.700000 ± 184.207519 in #287\n"
     ]
    },
    {
     "name": "stderr",
     "output_type": "stream",
     "text": [
      "Epoch #402: 1030it [00:01, 571.15it/s, env_step=414060, len=7, n/ep=0, n/st=10, player_1/loss=102.116, player_2/loss=159.231, rew=54.00]\n"
     ]
    },
    {
     "name": "stdout",
     "output_type": "stream",
     "text": [
      "Epoch #402: test_reward: -20768.500000 ± 18741.013581, best_reward: 232.700000 ± 184.207519 in #287\n"
     ]
    },
    {
     "name": "stderr",
     "output_type": "stream",
     "text": [
      "Epoch #403: 1030it [00:01, 569.10it/s, env_step=415090, len=9, n/ep=1, n/st=10, player_1/loss=111.188, player_2/loss=355.142, rew=88.00]\n"
     ]
    },
    {
     "name": "stdout",
     "output_type": "stream",
     "text": [
      "Epoch #403: test_reward: 64.200000 ± 15.580757, best_reward: 232.700000 ± 184.207519 in #287\n"
     ]
    },
    {
     "name": "stderr",
     "output_type": "stream",
     "text": [
      "Epoch #404: 1030it [00:01, 556.70it/s, env_step=416120, len=7, n/ep=0, n/st=10, player_1/loss=73.214, player_2/loss=80.732, rew=65.33]\n"
     ]
    },
    {
     "name": "stdout",
     "output_type": "stream",
     "text": [
      "Epoch #404: test_reward: -1721.700000 ± 3551.827981, best_reward: 232.700000 ± 184.207519 in #287\n"
     ]
    },
    {
     "name": "stderr",
     "output_type": "stream",
     "text": [
      "Epoch #405: 1030it [00:01, 543.91it/s, env_step=417150, len=13, n/ep=1, n/st=10, player_1/loss=87.667, player_2/loss=215.859, rew=180.00]\n"
     ]
    },
    {
     "name": "stdout",
     "output_type": "stream",
     "text": [
      "Epoch #405: test_reward: 64.400000 ± 18.017769, best_reward: 232.700000 ± 184.207519 in #287\n"
     ]
    },
    {
     "name": "stderr",
     "output_type": "stream",
     "text": [
      "Epoch #406: 1030it [00:01, 568.55it/s, env_step=418180, len=36, n/ep=0, n/st=10, player_1/loss=97.083, player_2/loss=202.000, rew=371.00]\n"
     ]
    },
    {
     "name": "stdout",
     "output_type": "stream",
     "text": [
      "Epoch #406: test_reward: -367.600000 ± 1290.332298, best_reward: 232.700000 ± 184.207519 in #287\n"
     ]
    },
    {
     "name": "stderr",
     "output_type": "stream",
     "text": [
      "Epoch #407: 1030it [00:01, 584.88it/s, env_step=419210, len=21, n/ep=0, n/st=10, player_1/loss=77.665, player_2/loss=165.695, rew=367.00]\n"
     ]
    },
    {
     "name": "stdout",
     "output_type": "stream",
     "text": [
      "Epoch #407: test_reward: -37847.700000 ± 30300.701867, best_reward: 232.700000 ± 184.207519 in #287\n"
     ]
    },
    {
     "name": "stderr",
     "output_type": "stream",
     "text": [
      "Epoch #408: 1030it [00:01, 543.18it/s, env_step=420240, len=13, n/ep=0, n/st=10, player_1/loss=78.771, player_2/loss=141.683, rew=180.00]\n"
     ]
    },
    {
     "name": "stdout",
     "output_type": "stream",
     "text": [
      "Epoch #408: test_reward: 71.800000 ± 24.648732, best_reward: 232.700000 ± 184.207519 in #287\n"
     ]
    },
    {
     "name": "stderr",
     "output_type": "stream",
     "text": [
      "Epoch #409: 1030it [00:01, 551.97it/s, env_step=421270, len=7, n/ep=1, n/st=10, player_1/loss=71.965, player_2/loss=123.789, rew=54.00]\n"
     ]
    },
    {
     "name": "stdout",
     "output_type": "stream",
     "text": [
      "Epoch #409: test_reward: 64.200000 ± 15.580757, best_reward: 232.700000 ± 184.207519 in #287\n"
     ]
    },
    {
     "name": "stderr",
     "output_type": "stream",
     "text": [
      "Epoch #410: 1030it [00:01, 571.70it/s, env_step=422300, len=27, n/ep=2, n/st=10, player_1/loss=70.579, player_2/loss=82.526, rew=600.50]\n"
     ]
    },
    {
     "name": "stdout",
     "output_type": "stream",
     "text": [
      "Epoch #410: test_reward: 131.800000 ± 47.828443, best_reward: 232.700000 ± 184.207519 in #287\n"
     ]
    },
    {
     "name": "stderr",
     "output_type": "stream",
     "text": [
      "Epoch #411: 1030it [00:01, 559.71it/s, env_step=423330, len=7, n/ep=1, n/st=10, player_1/loss=118.211, player_2/loss=181.107, rew=54.00]\n"
     ]
    },
    {
     "name": "stdout",
     "output_type": "stream",
     "text": [
      "Epoch #411: test_reward: 57.400000 ± 10.200000, best_reward: 232.700000 ± 184.207519 in #287\n"
     ]
    },
    {
     "name": "stderr",
     "output_type": "stream",
     "text": [
      "Epoch #412: 1030it [00:02, 494.65it/s, env_step=424360, len=24, n/ep=0, n/st=10, player_1/loss=90.658, player_2/loss=162.025, rew=334.00]\n"
     ]
    },
    {
     "name": "stdout",
     "output_type": "stream",
     "text": [
      "Epoch #412: test_reward: 66.600000 ± 37.800000, best_reward: 232.700000 ± 184.207519 in #287\n"
     ]
    },
    {
     "name": "stderr",
     "output_type": "stream",
     "text": [
      "Epoch #413: 1030it [00:02, 491.50it/s, env_step=425390, len=7, n/ep=0, n/st=10, player_1/loss=89.285, player_2/loss=89.056, rew=54.00]\n"
     ]
    },
    {
     "name": "stdout",
     "output_type": "stream",
     "text": [
      "Epoch #413: test_reward: 57.400000 ± 10.200000, best_reward: 232.700000 ± 184.207519 in #287\n"
     ]
    },
    {
     "name": "stderr",
     "output_type": "stream",
     "text": [
      "Epoch #414: 1030it [00:02, 470.68it/s, env_step=426420, len=14, n/ep=0, n/st=10, player_1/loss=96.788, player_2/loss=115.384, rew=208.00]\n"
     ]
    },
    {
     "name": "stdout",
     "output_type": "stream",
     "text": [
      "Epoch #414: test_reward: -37604.900000 ± 38468.784910, best_reward: 232.700000 ± 184.207519 in #287\n"
     ]
    },
    {
     "name": "stderr",
     "output_type": "stream",
     "text": [
      "Epoch #415: 1030it [00:02, 497.59it/s, env_step=427450, len=10, n/ep=0, n/st=10, player_1/loss=90.242, player_2/loss=329.967, rew=108.00]\n"
     ]
    },
    {
     "name": "stdout",
     "output_type": "stream",
     "text": [
      "Epoch #415: test_reward: -885.300000 ± 2817.900000, best_reward: 232.700000 ± 184.207519 in #287\n"
     ]
    },
    {
     "name": "stderr",
     "output_type": "stream",
     "text": [
      "Epoch #416: 1030it [00:02, 492.89it/s, env_step=428480, len=51, n/ep=1, n/st=10, player_1/loss=85.499, player_2/loss=107.318, rew=412.00]\n"
     ]
    },
    {
     "name": "stdout",
     "output_type": "stream",
     "text": [
      "Epoch #416: test_reward: -606.300000 ± 2021.655067, best_reward: 232.700000 ± 184.207519 in #287\n"
     ]
    },
    {
     "name": "stderr",
     "output_type": "stream",
     "text": [
      "Epoch #417: 1030it [00:02, 447.78it/s, env_step=429510, len=9, n/ep=1, n/st=10, player_1/loss=111.323, player_2/loss=101.830, rew=88.00]\n"
     ]
    },
    {
     "name": "stdout",
     "output_type": "stream",
     "text": [
      "Epoch #417: test_reward: 60.800000 ± 13.600000, best_reward: 232.700000 ± 184.207519 in #287\n"
     ]
    },
    {
     "name": "stderr",
     "output_type": "stream",
     "text": [
      "Epoch #418: 1030it [00:01, 531.87it/s, env_step=430540, len=21, n/ep=0, n/st=10, player_1/loss=69.235, player_2/loss=112.241, rew=355.00]\n"
     ]
    },
    {
     "name": "stdout",
     "output_type": "stream",
     "text": [
      "Epoch #418: test_reward: -19162.800000 ± 25356.267753, best_reward: 232.700000 ± 184.207519 in #287\n"
     ]
    },
    {
     "name": "stderr",
     "output_type": "stream",
     "text": [
      "Epoch #419: 1030it [00:01, 516.23it/s, env_step=431570, len=10, n/ep=2, n/st=10, player_1/loss=110.883, player_2/loss=141.959, rew=109.00]\n"
     ]
    },
    {
     "name": "stdout",
     "output_type": "stream",
     "text": [
      "Epoch #419: test_reward: 67.800000 ± 18.919831, best_reward: 232.700000 ± 184.207519 in #287\n"
     ]
    },
    {
     "name": "stderr",
     "output_type": "stream",
     "text": [
      "Epoch #420: 1030it [00:02, 487.28it/s, env_step=432600, len=7, n/ep=1, n/st=10, player_1/loss=73.715, player_2/loss=106.391, rew=54.00]\n"
     ]
    },
    {
     "name": "stdout",
     "output_type": "stream",
     "text": [
      "Epoch #420: test_reward: 131.200000 ± 25.755776, best_reward: 232.700000 ± 184.207519 in #287\n"
     ]
    },
    {
     "name": "stderr",
     "output_type": "stream",
     "text": [
      "Epoch #421: 1030it [00:01, 520.11it/s, env_step=433630, len=93, n/ep=0, n/st=10, player_1/loss=81.299, player_2/loss=164.644, rew=478.00]\n"
     ]
    },
    {
     "name": "stdout",
     "output_type": "stream",
     "text": [
      "Epoch #421: test_reward: 131.400000 ± 126.677701, best_reward: 232.700000 ± 184.207519 in #287\n"
     ]
    },
    {
     "name": "stderr",
     "output_type": "stream",
     "text": [
      "Epoch #422: 1030it [00:02, 472.00it/s, env_step=434660, len=69, n/ep=1, n/st=10, player_1/loss=126.291, player_2/loss=144.291, rew=1447.00]\n"
     ]
    },
    {
     "name": "stdout",
     "output_type": "stream",
     "text": [
      "Epoch #422: test_reward: 99.500000 ± 91.002472, best_reward: 232.700000 ± 184.207519 in #287\n"
     ]
    },
    {
     "name": "stderr",
     "output_type": "stream",
     "text": [
      "Epoch #423: 1030it [00:02, 467.17it/s, env_step=435690, len=7, n/ep=0, n/st=10, player_1/loss=74.059, player_2/loss=248.961, rew=54.00]\n"
     ]
    },
    {
     "name": "stdout",
     "output_type": "stream",
     "text": [
      "Epoch #423: test_reward: -12230.200000 ± 36863.934727, best_reward: 232.700000 ± 184.207519 in #287\n"
     ]
    },
    {
     "name": "stderr",
     "output_type": "stream",
     "text": [
      "Epoch #424: 1030it [00:01, 550.76it/s, env_step=436720, len=8, n/ep=0, n/st=10, player_1/loss=103.769, player_2/loss=120.533, rew=71.00]\n"
     ]
    },
    {
     "name": "stdout",
     "output_type": "stream",
     "text": [
      "Epoch #424: test_reward: -3832.800000 ± 11711.105027, best_reward: 232.700000 ± 184.207519 in #287\n"
     ]
    },
    {
     "name": "stderr",
     "output_type": "stream",
     "text": [
      "Epoch #425: 1030it [00:01, 567.31it/s, env_step=437750, len=7, n/ep=4, n/st=10, player_1/loss=84.004, player_2/loss=134.762, rew=66.50]\n"
     ]
    },
    {
     "name": "stdout",
     "output_type": "stream",
     "text": [
      "Epoch #425: test_reward: 62.800000 ± 18.159295, best_reward: 232.700000 ± 184.207519 in #287\n"
     ]
    },
    {
     "name": "stderr",
     "output_type": "stream",
     "text": [
      "Epoch #426: 1030it [00:01, 538.80it/s, env_step=438780, len=8, n/ep=0, n/st=10, player_1/loss=117.161, player_2/loss=131.497, rew=70.00]\n"
     ]
    },
    {
     "name": "stdout",
     "output_type": "stream",
     "text": [
      "Epoch #426: test_reward: 59.000000 ± 10.779610, best_reward: 232.700000 ± 184.207519 in #287\n"
     ]
    },
    {
     "name": "stderr",
     "output_type": "stream",
     "text": [
      "Epoch #427: 1030it [00:02, 507.15it/s, env_step=439810, len=10, n/ep=3, n/st=10, player_1/loss=90.143, player_2/loss=161.202, rew=126.67]\n"
     ]
    },
    {
     "name": "stdout",
     "output_type": "stream",
     "text": [
      "Epoch #427: test_reward: 98.600000 ± 78.215344, best_reward: 232.700000 ± 184.207519 in #287\n"
     ]
    },
    {
     "name": "stderr",
     "output_type": "stream",
     "text": [
      "Epoch #428: 1030it [00:02, 504.54it/s, env_step=440840, len=9, n/ep=1, n/st=10, player_1/loss=229.617, player_2/loss=196.579, rew=88.00]\n"
     ]
    },
    {
     "name": "stdout",
     "output_type": "stream",
     "text": [
      "Epoch #428: test_reward: 60.800000 ± 13.600000, best_reward: 232.700000 ± 184.207519 in #287\n"
     ]
    },
    {
     "name": "stderr",
     "output_type": "stream",
     "text": [
      "Epoch #429: 1030it [00:01, 544.10it/s, env_step=441870, len=7, n/ep=2, n/st=10, player_1/loss=175.703, player_2/loss=250.590, rew=54.00]\n"
     ]
    },
    {
     "name": "stdout",
     "output_type": "stream",
     "text": [
      "Epoch #429: test_reward: -508.800000 ± 1725.228611, best_reward: 232.700000 ± 184.207519 in #287\n"
     ]
    },
    {
     "name": "stderr",
     "output_type": "stream",
     "text": [
      "Epoch #430: 1030it [00:01, 535.16it/s, env_step=442900, len=7, n/ep=0, n/st=10, player_1/loss=270.874, player_2/loss=241.356, rew=54.00]\n"
     ]
    },
    {
     "name": "stdout",
     "output_type": "stream",
     "text": [
      "Epoch #430: test_reward: 57.400000 ± 10.200000, best_reward: 232.700000 ± 184.207519 in #287\n"
     ]
    },
    {
     "name": "stderr",
     "output_type": "stream",
     "text": [
      "Epoch #431: 1030it [00:01, 522.44it/s, env_step=443930, len=12, n/ep=0, n/st=10, player_1/loss=455.784, player_2/loss=209.856, rew=155.00]\n"
     ]
    },
    {
     "name": "stdout",
     "output_type": "stream",
     "text": [
      "Epoch #431: test_reward: -18873.800000 ± 19746.202500, best_reward: 232.700000 ± 184.207519 in #287\n"
     ]
    },
    {
     "name": "stderr",
     "output_type": "stream",
     "text": [
      "Epoch #432: 1030it [00:01, 543.87it/s, env_step=444960, len=10, n/ep=0, n/st=10, player_1/loss=371.449, player_2/loss=514.805, rew=108.00]\n"
     ]
    },
    {
     "name": "stdout",
     "output_type": "stream",
     "text": [
      "Epoch #432: test_reward: 71.000000 ± 17.000000, best_reward: 232.700000 ± 184.207519 in #287\n"
     ]
    },
    {
     "name": "stderr",
     "output_type": "stream",
     "text": [
      "Epoch #433: 1030it [00:01, 541.65it/s, env_step=445990, len=34, n/ep=1, n/st=10, player_1/loss=67.230, player_2/loss=115.796, rew=504.00]\n"
     ]
    },
    {
     "name": "stdout",
     "output_type": "stream",
     "text": [
      "Epoch #433: test_reward: -2126.600000 ± 5175.195208, best_reward: 232.700000 ± 184.207519 in #287\n"
     ]
    },
    {
     "name": "stderr",
     "output_type": "stream",
     "text": [
      "Epoch #434: 1030it [00:01, 554.49it/s, env_step=447020, len=9, n/ep=1, n/st=10, player_1/loss=111.633, player_2/loss=90.390, rew=88.00]\n"
     ]
    },
    {
     "name": "stdout",
     "output_type": "stream",
     "text": [
      "Epoch #434: test_reward: -4556.600000 ± 13926.944957, best_reward: 232.700000 ± 184.207519 in #287\n"
     ]
    },
    {
     "name": "stderr",
     "output_type": "stream",
     "text": [
      "Epoch #435: 1030it [00:02, 512.36it/s, env_step=448050, len=7, n/ep=1, n/st=10, player_1/loss=295.087, player_2/loss=157.930, rew=54.00]\n"
     ]
    },
    {
     "name": "stdout",
     "output_type": "stream",
     "text": [
      "Epoch #435: test_reward: -474.800000 ± 1586.400000, best_reward: 232.700000 ± 184.207519 in #287\n"
     ]
    },
    {
     "name": "stderr",
     "output_type": "stream",
     "text": [
      "Epoch #436: 1030it [00:02, 465.67it/s, env_step=449080, len=10, n/ep=0, n/st=10, player_1/loss=76.440, player_2/loss=112.240, rew=108.00]\n"
     ]
    },
    {
     "name": "stdout",
     "output_type": "stream",
     "text": [
      "Epoch #436: test_reward: 160.500000 ± 119.372736, best_reward: 232.700000 ± 184.207519 in #287\n"
     ]
    },
    {
     "name": "stderr",
     "output_type": "stream",
     "text": [
      "Epoch #437: 1030it [00:01, 523.61it/s, env_step=450110, len=10, n/ep=1, n/st=10, player_1/loss=58.237, player_2/loss=96.434, rew=108.00]\n"
     ]
    },
    {
     "name": "stdout",
     "output_type": "stream",
     "text": [
      "Epoch #437: test_reward: 68.400000 ± 24.524274, best_reward: 232.700000 ± 184.207519 in #287\n"
     ]
    },
    {
     "name": "stderr",
     "output_type": "stream",
     "text": [
      "Epoch #438: 1030it [00:02, 463.42it/s, env_step=451140, len=8, n/ep=2, n/st=10, player_1/loss=149.940, player_2/loss=184.940, rew=71.00]\n"
     ]
    },
    {
     "name": "stdout",
     "output_type": "stream",
     "text": [
      "Epoch #438: test_reward: 57.400000 ± 10.200000, best_reward: 232.700000 ± 184.207519 in #287\n"
     ]
    },
    {
     "name": "stderr",
     "output_type": "stream",
     "text": [
      "Epoch #439: 1030it [00:01, 549.10it/s, env_step=452170, len=12, n/ep=3, n/st=10, player_1/loss=84.228, player_2/loss=145.782, rew=158.67]\n"
     ]
    },
    {
     "name": "stdout",
     "output_type": "stream",
     "text": [
      "Epoch #439: test_reward: 68.400000 ± 24.524274, best_reward: 232.700000 ± 184.207519 in #287\n"
     ]
    },
    {
     "name": "stderr",
     "output_type": "stream",
     "text": [
      "Epoch #440: 1030it [00:01, 553.28it/s, env_step=453200, len=11, n/ep=0, n/st=10, player_1/loss=82.794, player_2/loss=116.563, rew=130.00]\n"
     ]
    },
    {
     "name": "stdout",
     "output_type": "stream",
     "text": [
      "Epoch #440: test_reward: -1358.900000 ± 4498.204852, best_reward: 232.700000 ± 184.207519 in #287\n"
     ]
    },
    {
     "name": "stderr",
     "output_type": "stream",
     "text": [
      "Epoch #441: 1030it [00:01, 518.49it/s, env_step=454230, len=72, n/ep=0, n/st=10, player_1/loss=114.483, player_2/loss=116.024, rew=751.00]\n"
     ]
    },
    {
     "name": "stdout",
     "output_type": "stream",
     "text": [
      "Epoch #441: test_reward: -35893.400000 ± 42316.958589, best_reward: 232.700000 ± 184.207519 in #287\n"
     ]
    },
    {
     "name": "stderr",
     "output_type": "stream",
     "text": [
      "Epoch #442: 1030it [00:01, 539.24it/s, env_step=455260, len=7, n/ep=1, n/st=10, player_1/loss=113.021, player_2/loss=189.050, rew=54.00]\n"
     ]
    },
    {
     "name": "stdout",
     "output_type": "stream",
     "text": [
      "Epoch #442: test_reward: 70.000000 ± 24.049948, best_reward: 232.700000 ± 184.207519 in #287\n"
     ]
    },
    {
     "name": "stderr",
     "output_type": "stream",
     "text": [
      "Epoch #443: 1030it [00:02, 487.65it/s, env_step=456290, len=9, n/ep=0, n/st=10, player_1/loss=79.199, player_2/loss=114.538, rew=98.00]\n"
     ]
    },
    {
     "name": "stdout",
     "output_type": "stream",
     "text": [
      "Epoch #443: test_reward: -3364.300000 ± 9147.955051, best_reward: 232.700000 ± 184.207519 in #287\n"
     ]
    },
    {
     "name": "stderr",
     "output_type": "stream",
     "text": [
      "Epoch #444: 1030it [00:01, 516.71it/s, env_step=457320, len=24, n/ep=0, n/st=10, player_1/loss=49.779, player_2/loss=115.548, rew=521.00]\n"
     ]
    },
    {
     "name": "stdout",
     "output_type": "stream",
     "text": [
      "Epoch #444: test_reward: 89.600000 ± 24.113067, best_reward: 232.700000 ± 184.207519 in #287\n"
     ]
    },
    {
     "name": "stderr",
     "output_type": "stream",
     "text": [
      "Epoch #445: 1030it [00:02, 448.87it/s, env_step=458350, len=10, n/ep=0, n/st=10, player_1/loss=59.637, player_2/loss=121.881, rew=108.00]\n"
     ]
    },
    {
     "name": "stdout",
     "output_type": "stream",
     "text": [
      "Epoch #445: test_reward: -807.100000 ± 2616.803181, best_reward: 232.700000 ± 184.207519 in #287\n"
     ]
    },
    {
     "name": "stderr",
     "output_type": "stream",
     "text": [
      "Epoch #446: 1030it [00:02, 495.74it/s, env_step=459380, len=16, n/ep=1, n/st=10, player_1/loss=71.660, player_2/loss=142.110, rew=249.00]\n"
     ]
    },
    {
     "name": "stdout",
     "output_type": "stream",
     "text": [
      "Epoch #446: test_reward: -22148.400000 ± 24692.147372, best_reward: 232.700000 ± 184.207519 in #287\n"
     ]
    },
    {
     "name": "stderr",
     "output_type": "stream",
     "text": [
      "Epoch #447: 1030it [00:01, 528.27it/s, env_step=460410, len=16, n/ep=0, n/st=10, player_1/loss=95.204, player_2/loss=119.102, rew=279.33]\n"
     ]
    },
    {
     "name": "stdout",
     "output_type": "stream",
     "text": [
      "Epoch #447: test_reward: -2234.200000 ± 6875.940805, best_reward: 232.700000 ± 184.207519 in #287\n"
     ]
    },
    {
     "name": "stderr",
     "output_type": "stream",
     "text": [
      "Epoch #448: 1030it [00:02, 501.74it/s, env_step=461440, len=55, n/ep=0, n/st=10, player_1/loss=71.492, player_2/loss=106.389, rew=927.50]\n"
     ]
    },
    {
     "name": "stdout",
     "output_type": "stream",
     "text": [
      "Epoch #448: test_reward: -26744.800000 ± 41326.170744, best_reward: 232.700000 ± 184.207519 in #287\n"
     ]
    },
    {
     "name": "stderr",
     "output_type": "stream",
     "text": [
      "Epoch #449: 1030it [00:02, 501.73it/s, env_step=462470, len=9, n/ep=3, n/st=10, player_1/loss=399.498, player_2/loss=386.840, rew=104.67]\n"
     ]
    },
    {
     "name": "stdout",
     "output_type": "stream",
     "text": [
      "Epoch #449: test_reward: -4781.100000 ± 9939.886925, best_reward: 232.700000 ± 184.207519 in #287\n"
     ]
    },
    {
     "name": "stderr",
     "output_type": "stream",
     "text": [
      "Epoch #450: 1030it [00:01, 548.93it/s, env_step=463500, len=8, n/ep=0, n/st=10, player_1/loss=180.423, player_2/loss=127.987, rew=70.00]\n"
     ]
    },
    {
     "name": "stdout",
     "output_type": "stream",
     "text": [
      "Epoch #450: test_reward: -1567.000000 ± 3365.948811, best_reward: 232.700000 ± 184.207519 in #287\n"
     ]
    },
    {
     "name": "stderr",
     "output_type": "stream",
     "text": [
      "Epoch #451: 1030it [00:02, 494.18it/s, env_step=464530, len=9, n/ep=0, n/st=10, player_1/loss=110.134, player_2/loss=151.037, rew=90.67]\n"
     ]
    },
    {
     "name": "stdout",
     "output_type": "stream",
     "text": [
      "Epoch #451: test_reward: -1697.200000 ± 5264.943092, best_reward: 232.700000 ± 184.207519 in #287\n"
     ]
    },
    {
     "name": "stderr",
     "output_type": "stream",
     "text": [
      "Epoch #452: 1030it [00:01, 521.21it/s, env_step=465560, len=7, n/ep=2, n/st=10, player_1/loss=94.625, player_2/loss=130.388, rew=54.00]\n"
     ]
    },
    {
     "name": "stdout",
     "output_type": "stream",
     "text": [
      "Epoch #452: test_reward: -273.000000 ± 1003.756245, best_reward: 232.700000 ± 184.207519 in #287\n"
     ]
    },
    {
     "name": "stderr",
     "output_type": "stream",
     "text": [
      "Epoch #453: 1030it [00:01, 555.71it/s, env_step=466590, len=20, n/ep=0, n/st=10, player_1/loss=108.260, player_2/loss=93.353, rew=271.00]\n"
     ]
    },
    {
     "name": "stdout",
     "output_type": "stream",
     "text": [
      "Epoch #453: test_reward: -2986.200000 ± 7289.355840, best_reward: 232.700000 ± 184.207519 in #287\n"
     ]
    },
    {
     "name": "stderr",
     "output_type": "stream",
     "text": [
      "Epoch #454: 1030it [00:01, 540.72it/s, env_step=467620, len=9, n/ep=0, n/st=10, player_1/loss=65.878, player_2/loss=90.748, rew=90.67]\n"
     ]
    },
    {
     "name": "stdout",
     "output_type": "stream",
     "text": [
      "Epoch #454: test_reward: -7550.200000 ± 22841.940363, best_reward: 232.700000 ± 184.207519 in #287\n"
     ]
    },
    {
     "name": "stderr",
     "output_type": "stream",
     "text": [
      "Epoch #455: 1030it [00:01, 540.51it/s, env_step=468650, len=34, n/ep=0, n/st=10, player_1/loss=75.131, player_2/loss=75.238, rew=384.00]\n"
     ]
    },
    {
     "name": "stdout",
     "output_type": "stream",
     "text": [
      "Epoch #455: test_reward: -8700.700000 ± 26309.438215, best_reward: 232.700000 ± 184.207519 in #287\n"
     ]
    },
    {
     "name": "stderr",
     "output_type": "stream",
     "text": [
      "Epoch #456: 1030it [00:02, 465.54it/s, env_step=469680, len=62, n/ep=1, n/st=10, player_1/loss=116.127, player_2/loss=148.205, rew=643.00]\n"
     ]
    },
    {
     "name": "stdout",
     "output_type": "stream",
     "text": [
      "Epoch #456: test_reward: -8290.700000 ± 10796.550403, best_reward: 232.700000 ± 184.207519 in #287\n"
     ]
    },
    {
     "name": "stderr",
     "output_type": "stream",
     "text": [
      "Epoch #457: 1030it [00:01, 529.17it/s, env_step=470710, len=29, n/ep=0, n/st=10, player_1/loss=110.679, player_2/loss=94.523, rew=397.00]\n"
     ]
    },
    {
     "name": "stdout",
     "output_type": "stream",
     "text": [
      "Epoch #457: test_reward: -14825.300000 ± 21839.888301, best_reward: 232.700000 ± 184.207519 in #287\n"
     ]
    },
    {
     "name": "stderr",
     "output_type": "stream",
     "text": [
      "Epoch #458: 1030it [00:02, 491.24it/s, env_step=471740, len=9, n/ep=3, n/st=10, player_1/loss=130.081, player_2/loss=218.514, rew=107.33]\n"
     ]
    },
    {
     "name": "stdout",
     "output_type": "stream",
     "text": [
      "Epoch #458: test_reward: 57.400000 ± 10.200000, best_reward: 232.700000 ± 184.207519 in #287\n"
     ]
    },
    {
     "name": "stderr",
     "output_type": "stream",
     "text": [
      "Epoch #459: 1030it [00:02, 438.44it/s, env_step=472770, len=7, n/ep=0, n/st=10, player_1/loss=122.974, player_2/loss=155.080, rew=54.00]\n"
     ]
    },
    {
     "name": "stdout",
     "output_type": "stream",
     "text": [
      "Epoch #459: test_reward: -12570.000000 ± 18567.902967, best_reward: 232.700000 ± 184.207519 in #287\n"
     ]
    },
    {
     "name": "stderr",
     "output_type": "stream",
     "text": [
      "Epoch #460: 1030it [00:02, 503.53it/s, env_step=473800, len=13, n/ep=0, n/st=10, player_1/loss=93.673, player_2/loss=278.823, rew=180.00]\n"
     ]
    },
    {
     "name": "stdout",
     "output_type": "stream",
     "text": [
      "Epoch #460: test_reward: 132.500000 ± 60.964334, best_reward: 232.700000 ± 184.207519 in #287\n"
     ]
    },
    {
     "name": "stderr",
     "output_type": "stream",
     "text": [
      "Epoch #461: 1030it [00:02, 422.51it/s, env_step=474830, len=7, n/ep=1, n/st=10, player_1/loss=65.489, player_2/loss=158.977, rew=54.00]\n"
     ]
    },
    {
     "name": "stdout",
     "output_type": "stream",
     "text": [
      "Epoch #461: test_reward: 65.000000 ± 23.920702, best_reward: 232.700000 ± 184.207519 in #287\n"
     ]
    },
    {
     "name": "stderr",
     "output_type": "stream",
     "text": [
      "Epoch #462: 1030it [00:02, 477.24it/s, env_step=475860, len=57, n/ep=1, n/st=10, player_1/loss=69.241, player_2/loss=76.122, rew=649.00]\n"
     ]
    },
    {
     "name": "stdout",
     "output_type": "stream",
     "text": [
      "Epoch #462: test_reward: -4943.300000 ± 14991.900000, best_reward: 232.700000 ± 184.207519 in #287\n"
     ]
    },
    {
     "name": "stderr",
     "output_type": "stream",
     "text": [
      "Epoch #463: 1030it [00:02, 435.00it/s, env_step=476890, len=33, n/ep=0, n/st=10, player_1/loss=64.371, player_2/loss=225.942, rew=395.50]\n"
     ]
    },
    {
     "name": "stdout",
     "output_type": "stream",
     "text": [
      "Epoch #463: test_reward: 57.400000 ± 10.200000, best_reward: 232.700000 ± 184.207519 in #287\n"
     ]
    },
    {
     "name": "stderr",
     "output_type": "stream",
     "text": [
      "Epoch #464: 1030it [00:02, 454.09it/s, env_step=477920, len=14, n/ep=0, n/st=10, player_1/loss=144.079, player_2/loss=177.926, rew=208.00]\n"
     ]
    },
    {
     "name": "stdout",
     "output_type": "stream",
     "text": [
      "Epoch #464: test_reward: -17162.300000 ± 18983.234171, best_reward: 232.700000 ± 184.207519 in #287\n"
     ]
    },
    {
     "name": "stderr",
     "output_type": "stream",
     "text": [
      "Epoch #465: 1030it [00:01, 521.57it/s, env_step=478950, len=7, n/ep=1, n/st=10, player_1/loss=86.430, player_2/loss=80.169, rew=54.00]\n"
     ]
    },
    {
     "name": "stdout",
     "output_type": "stream",
     "text": [
      "Epoch #465: test_reward: -8712.900000 ± 20304.766773, best_reward: 232.700000 ± 184.207519 in #287\n"
     ]
    },
    {
     "name": "stderr",
     "output_type": "stream",
     "text": [
      "Epoch #466: 1030it [00:01, 529.95it/s, env_step=479980, len=55, n/ep=0, n/st=10, player_1/loss=136.122, player_2/loss=81.925, rew=924.00]\n"
     ]
    },
    {
     "name": "stdout",
     "output_type": "stream",
     "text": [
      "Epoch #466: test_reward: -25231.800000 ± 55815.217735, best_reward: 232.700000 ± 184.207519 in #287\n"
     ]
    },
    {
     "name": "stderr",
     "output_type": "stream",
     "text": [
      "Epoch #467: 1030it [00:01, 519.47it/s, env_step=481010, len=13, n/ep=0, n/st=10, player_1/loss=248.852, player_2/loss=132.827, rew=216.00]\n"
     ]
    },
    {
     "name": "stdout",
     "output_type": "stream",
     "text": [
      "Epoch #467: test_reward: -26866.400000 ± 35252.125352, best_reward: 232.700000 ± 184.207519 in #287\n"
     ]
    },
    {
     "name": "stderr",
     "output_type": "stream",
     "text": [
      "Epoch #468: 1030it [00:01, 572.60it/s, env_step=482040, len=13, n/ep=2, n/st=10, player_1/loss=192.341, player_2/loss=92.886, rew=214.00]\n"
     ]
    },
    {
     "name": "stdout",
     "output_type": "stream",
     "text": [
      "Epoch #468: test_reward: 64.200000 ± 15.580757, best_reward: 232.700000 ± 184.207519 in #287\n"
     ]
    },
    {
     "name": "stderr",
     "output_type": "stream",
     "text": [
      "Epoch #469: 1030it [00:02, 509.18it/s, env_step=483070, len=62, n/ep=1, n/st=10, player_1/loss=83.678, player_2/loss=161.316, rew=1006.00]\n"
     ]
    },
    {
     "name": "stdout",
     "output_type": "stream",
     "text": [
      "Epoch #469: test_reward: -683.200000 ± 2373.535119, best_reward: 232.700000 ± 184.207519 in #287\n"
     ]
    },
    {
     "name": "stderr",
     "output_type": "stream",
     "text": [
      "Epoch #470: 1030it [00:01, 562.87it/s, env_step=484100, len=24, n/ep=0, n/st=10, player_1/loss=130.721, player_2/loss=92.501, rew=286.00]\n"
     ]
    },
    {
     "name": "stdout",
     "output_type": "stream",
     "text": [
      "Epoch #470: test_reward: -66746.300000 ± 92920.902052, best_reward: 232.700000 ± 184.207519 in #287\n"
     ]
    },
    {
     "name": "stderr",
     "output_type": "stream",
     "text": [
      "Epoch #471: 1030it [00:01, 588.61it/s, env_step=485130, len=53, n/ep=0, n/st=10, player_1/loss=91.647, player_2/loss=138.872, rew=676.00]\n"
     ]
    },
    {
     "name": "stdout",
     "output_type": "stream",
     "text": [
      "Epoch #471: test_reward: -2975.300000 ± 7351.189836, best_reward: 232.700000 ± 184.207519 in #287\n"
     ]
    },
    {
     "name": "stderr",
     "output_type": "stream",
     "text": [
      "Epoch #472: 1030it [00:01, 560.40it/s, env_step=486160, len=12, n/ep=1, n/st=10, player_1/loss=149.059, player_2/loss=139.981, rew=154.00]\n"
     ]
    },
    {
     "name": "stdout",
     "output_type": "stream",
     "text": [
      "Epoch #472: test_reward: 79.400000 ± 29.271829, best_reward: 232.700000 ± 184.207519 in #287\n"
     ]
    },
    {
     "name": "stderr",
     "output_type": "stream",
     "text": [
      "Epoch #473: 1030it [00:02, 494.24it/s, env_step=487190, len=77, n/ep=1, n/st=10, player_1/loss=110.550, player_2/loss=137.226, rew=1138.00]\n"
     ]
    },
    {
     "name": "stdout",
     "output_type": "stream",
     "text": [
      "Epoch #473: test_reward: -2971.700000 ± 9111.112688, best_reward: 232.700000 ± 184.207519 in #287\n"
     ]
    },
    {
     "name": "stderr",
     "output_type": "stream",
     "text": [
      "Epoch #474: 1030it [00:01, 531.75it/s, env_step=488220, len=7, n/ep=0, n/st=10, player_1/loss=114.464, player_2/loss=110.153, rew=54.00]\n"
     ]
    },
    {
     "name": "stdout",
     "output_type": "stream",
     "text": [
      "Epoch #474: test_reward: 64.200000 ± 15.580757, best_reward: 232.700000 ± 184.207519 in #287\n"
     ]
    },
    {
     "name": "stderr",
     "output_type": "stream",
     "text": [
      "Epoch #475: 1030it [00:01, 570.45it/s, env_step=489250, len=10, n/ep=0, n/st=10, player_1/loss=185.321, player_2/loss=66.907, rew=109.00]\n"
     ]
    },
    {
     "name": "stdout",
     "output_type": "stream",
     "text": [
      "Epoch #475: test_reward: 61.600000 ± 22.800000, best_reward: 232.700000 ± 184.207519 in #287\n"
     ]
    },
    {
     "name": "stderr",
     "output_type": "stream",
     "text": [
      "Epoch #476: 1030it [00:01, 572.15it/s, env_step=490280, len=18, n/ep=0, n/st=10, player_1/loss=112.241, player_2/loss=78.944, rew=247.00]\n"
     ]
    },
    {
     "name": "stdout",
     "output_type": "stream",
     "text": [
      "Epoch #476: test_reward: -8977.900000 ± 15264.371651, best_reward: 232.700000 ± 184.207519 in #287\n"
     ]
    },
    {
     "name": "stderr",
     "output_type": "stream",
     "text": [
      "Epoch #477: 1030it [00:01, 552.80it/s, env_step=491310, len=9, n/ep=0, n/st=10, player_1/loss=152.917, player_2/loss=114.999, rew=88.00]\n"
     ]
    },
    {
     "name": "stdout",
     "output_type": "stream",
     "text": [
      "Epoch #477: test_reward: 167.600000 ± 203.075946, best_reward: 232.700000 ± 184.207519 in #287\n"
     ]
    },
    {
     "name": "stderr",
     "output_type": "stream",
     "text": [
      "Epoch #478: 1030it [00:01, 570.09it/s, env_step=492340, len=34, n/ep=0, n/st=10, player_1/loss=53.930, player_2/loss=74.318, rew=684.00]\n"
     ]
    },
    {
     "name": "stdout",
     "output_type": "stream",
     "text": [
      "Epoch #478: test_reward: 122.100000 ± 51.591569, best_reward: 232.700000 ± 184.207519 in #287\n"
     ]
    },
    {
     "name": "stderr",
     "output_type": "stream",
     "text": [
      "Epoch #479: 1030it [00:01, 565.30it/s, env_step=493370, len=7, n/ep=1, n/st=10, player_1/loss=182.475, player_2/loss=150.842, rew=54.00]\n"
     ]
    },
    {
     "name": "stdout",
     "output_type": "stream",
     "text": [
      "Epoch #479: test_reward: 94.300000 ± 98.216139, best_reward: 232.700000 ± 184.207519 in #287\n"
     ]
    },
    {
     "name": "stderr",
     "output_type": "stream",
     "text": [
      "Epoch #480: 1030it [00:01, 529.47it/s, env_step=494400, len=12, n/ep=1, n/st=10, player_1/loss=242.962, player_2/loss=232.251, rew=154.00]\n"
     ]
    },
    {
     "name": "stdout",
     "output_type": "stream",
     "text": [
      "Epoch #480: test_reward: 62.800000 ± 18.159295, best_reward: 232.700000 ± 184.207519 in #287\n"
     ]
    },
    {
     "name": "stderr",
     "output_type": "stream",
     "text": [
      "Epoch #481: 1030it [00:01, 557.71it/s, env_step=495430, len=43, n/ep=0, n/st=10, player_1/loss=104.900, player_2/loss=153.595, rew=858.00]\n"
     ]
    },
    {
     "name": "stdout",
     "output_type": "stream",
     "text": [
      "Epoch #481: test_reward: -4209.800000 ± 12819.406958, best_reward: 232.700000 ± 184.207519 in #287\n"
     ]
    },
    {
     "name": "stderr",
     "output_type": "stream",
     "text": [
      "Epoch #482: 1030it [00:01, 529.66it/s, env_step=496460, len=19, n/ep=0, n/st=10, player_1/loss=162.454, player_2/loss=192.432, rew=318.00]\n"
     ]
    },
    {
     "name": "stdout",
     "output_type": "stream",
     "text": [
      "Epoch #482: test_reward: -17022.700000 ± 8616.508272, best_reward: 232.700000 ± 184.207519 in #287\n"
     ]
    },
    {
     "name": "stderr",
     "output_type": "stream",
     "text": [
      "Epoch #483: 1030it [00:01, 544.31it/s, env_step=497490, len=26, n/ep=0, n/st=10, player_1/loss=88.479, player_2/loss=192.829, rew=454.00]\n"
     ]
    },
    {
     "name": "stdout",
     "output_type": "stream",
     "text": [
      "Epoch #483: test_reward: -31771.800000 ± 23229.214497, best_reward: 232.700000 ± 184.207519 in #287\n"
     ]
    },
    {
     "name": "stderr",
     "output_type": "stream",
     "text": [
      "Epoch #484: 1030it [00:02, 508.07it/s, env_step=498520, len=7, n/ep=2, n/st=10, player_1/loss=89.124, player_2/loss=236.261, rew=54.00]\n"
     ]
    },
    {
     "name": "stdout",
     "output_type": "stream",
     "text": [
      "Epoch #484: test_reward: -13816.600000 ± 41634.468826, best_reward: 232.700000 ± 184.207519 in #287\n"
     ]
    },
    {
     "name": "stderr",
     "output_type": "stream",
     "text": [
      "Epoch #485: 1030it [00:01, 529.56it/s, env_step=499550, len=26, n/ep=0, n/st=10, player_1/loss=86.417, player_2/loss=132.434, rew=430.00]\n"
     ]
    },
    {
     "name": "stdout",
     "output_type": "stream",
     "text": [
      "Epoch #485: test_reward: 54.000000 ± 0.000000, best_reward: 232.700000 ± 184.207519 in #287\n"
     ]
    },
    {
     "name": "stderr",
     "output_type": "stream",
     "text": [
      "Epoch #486: 1030it [00:01, 520.05it/s, env_step=500580, len=9, n/ep=1, n/st=10, player_1/loss=155.683, player_2/loss=161.694, rew=88.00]\n"
     ]
    },
    {
     "name": "stdout",
     "output_type": "stream",
     "text": [
      "Epoch #486: test_reward: 60.800000 ± 13.600000, best_reward: 232.700000 ± 184.207519 in #287\n"
     ]
    },
    {
     "name": "stderr",
     "output_type": "stream",
     "text": [
      "Epoch #487: 1030it [00:02, 506.11it/s, env_step=501610, len=7, n/ep=0, n/st=10, player_1/loss=119.239, player_2/loss=153.075, rew=54.00]\n"
     ]
    },
    {
     "name": "stdout",
     "output_type": "stream",
     "text": [
      "Epoch #487: test_reward: -35485.900000 ± 28726.176005, best_reward: 232.700000 ± 184.207519 in #287\n"
     ]
    },
    {
     "name": "stderr",
     "output_type": "stream",
     "text": [
      "Epoch #488: 1030it [00:02, 481.32it/s, env_step=502640, len=8, n/ep=2, n/st=10, player_1/loss=130.430, player_2/loss=290.128, rew=71.00]\n"
     ]
    },
    {
     "name": "stdout",
     "output_type": "stream",
     "text": [
      "Epoch #488: test_reward: 65.000000 ± 23.920702, best_reward: 232.700000 ± 184.207519 in #287\n"
     ]
    },
    {
     "name": "stderr",
     "output_type": "stream",
     "text": [
      "Epoch #489: 1030it [00:02, 498.86it/s, env_step=503670, len=9, n/ep=0, n/st=10, player_1/loss=82.393, player_2/loss=156.144, rew=88.00]\n"
     ]
    },
    {
     "name": "stdout",
     "output_type": "stream",
     "text": [
      "Epoch #489: test_reward: -2635.000000 ± 8253.998074, best_reward: 232.700000 ± 184.207519 in #287\n"
     ]
    },
    {
     "name": "stderr",
     "output_type": "stream",
     "text": [
      "Epoch #490: 1030it [00:02, 480.09it/s, env_step=504700, len=7, n/ep=4, n/st=10, player_1/loss=74.178, player_2/loss=167.418, rew=54.00]\n"
     ]
    },
    {
     "name": "stdout",
     "output_type": "stream",
     "text": [
      "Epoch #490: test_reward: 146.300000 ± 265.760061, best_reward: 232.700000 ± 184.207519 in #287\n"
     ]
    },
    {
     "name": "stderr",
     "output_type": "stream",
     "text": [
      "Epoch #491: 1030it [00:02, 481.93it/s, env_step=505730, len=9, n/ep=1, n/st=10, player_1/loss=81.181, player_2/loss=156.644, rew=88.00]\n"
     ]
    },
    {
     "name": "stdout",
     "output_type": "stream",
     "text": [
      "Epoch #491: test_reward: -1858.800000 ± 5761.082273, best_reward: 232.700000 ± 184.207519 in #287\n"
     ]
    },
    {
     "name": "stderr",
     "output_type": "stream",
     "text": [
      "Epoch #492: 1030it [00:01, 543.24it/s, env_step=506760, len=37, n/ep=0, n/st=10, player_1/loss=79.720, player_2/loss=95.891, rew=624.00]\n"
     ]
    },
    {
     "name": "stdout",
     "output_type": "stream",
     "text": [
      "Epoch #492: test_reward: -8924.700000 ± 26849.758025, best_reward: 232.700000 ± 184.207519 in #287\n"
     ]
    },
    {
     "name": "stderr",
     "output_type": "stream",
     "text": [
      "Epoch #493: 1030it [00:01, 563.93it/s, env_step=507790, len=7, n/ep=1, n/st=10, player_1/loss=74.493, player_2/loss=111.447, rew=54.00]\n"
     ]
    },
    {
     "name": "stdout",
     "output_type": "stream",
     "text": [
      "Epoch #493: test_reward: 68.400000 ± 24.524274, best_reward: 232.700000 ± 184.207519 in #287\n"
     ]
    },
    {
     "name": "stderr",
     "output_type": "stream",
     "text": [
      "Epoch #494: 1030it [00:01, 558.06it/s, env_step=508820, len=9, n/ep=0, n/st=10, player_1/loss=111.851, player_2/loss=92.540, rew=90.67]\n"
     ]
    },
    {
     "name": "stdout",
     "output_type": "stream",
     "text": [
      "Epoch #494: test_reward: -2895.900000 ± 8883.713013, best_reward: 232.700000 ± 184.207519 in #287\n"
     ]
    },
    {
     "name": "stderr",
     "output_type": "stream",
     "text": [
      "Epoch #495: 1030it [00:01, 565.83it/s, env_step=509850, len=43, n/ep=1, n/st=10, player_1/loss=100.809, player_2/loss=96.691, rew=654.00]\n"
     ]
    },
    {
     "name": "stdout",
     "output_type": "stream",
     "text": [
      "Epoch #495: test_reward: 88.000000 ± 0.000000, best_reward: 232.700000 ± 184.207519 in #287\n"
     ]
    },
    {
     "name": "stderr",
     "output_type": "stream",
     "text": [
      "Epoch #496: 1030it [00:01, 560.41it/s, env_step=510880, len=9, n/ep=0, n/st=10, player_1/loss=63.935, player_2/loss=115.832, rew=88.00]\n"
     ]
    },
    {
     "name": "stdout",
     "output_type": "stream",
     "text": [
      "Epoch #496: test_reward: -18589.300000 ± 40990.696496, best_reward: 232.700000 ± 184.207519 in #287\n"
     ]
    },
    {
     "name": "stderr",
     "output_type": "stream",
     "text": [
      "Epoch #497: 1030it [00:01, 554.84it/s, env_step=511910, len=9, n/ep=0, n/st=10, player_1/loss=84.791, player_2/loss=128.051, rew=88.00]\n"
     ]
    },
    {
     "name": "stdout",
     "output_type": "stream",
     "text": [
      "Epoch #497: test_reward: -7573.500000 ± 14679.168275, best_reward: 232.700000 ± 184.207519 in #287\n"
     ]
    },
    {
     "name": "stderr",
     "output_type": "stream",
     "text": [
      "Epoch #498: 1030it [00:01, 586.35it/s, env_step=512940, len=8, n/ep=0, n/st=10, player_1/loss=64.499, player_2/loss=109.176, rew=71.00]\n"
     ]
    },
    {
     "name": "stdout",
     "output_type": "stream",
     "text": [
      "Epoch #498: test_reward: -1772.000000 ± 5537.385015, best_reward: 232.700000 ± 184.207519 in #287\n"
     ]
    },
    {
     "name": "stderr",
     "output_type": "stream",
     "text": [
      "Epoch #499: 1030it [00:01, 574.36it/s, env_step=513970, len=10, n/ep=2, n/st=10, player_1/loss=56.885, player_2/loss=110.166, rew=108.00]\n"
     ]
    },
    {
     "name": "stdout",
     "output_type": "stream",
     "text": [
      "Epoch #499: test_reward: 112.400000 ± 31.417193, best_reward: 232.700000 ± 184.207519 in #287\n"
     ]
    },
    {
     "name": "stderr",
     "output_type": "stream",
     "text": [
      "Epoch #500: 1030it [00:01, 580.43it/s, env_step=515000, len=11, n/ep=0, n/st=10, player_1/loss=62.612, player_2/loss=129.607, rew=130.00]\n"
     ]
    },
    {
     "name": "stdout",
     "output_type": "stream",
     "text": [
      "Epoch #500: test_reward: -6919.000000 ± 15637.671489, best_reward: 232.700000 ± 184.207519 in #287\n"
     ]
    },
    {
     "name": "stderr",
     "output_type": "stream",
     "text": [
      "Epoch #501: 1030it [00:01, 582.93it/s, env_step=516030, len=23, n/ep=0, n/st=10, player_1/loss=87.697, player_2/loss=134.455, rew=331.00]\n"
     ]
    },
    {
     "name": "stdout",
     "output_type": "stream",
     "text": [
      "Epoch #501: test_reward: -14275.400000 ± 16903.691917, best_reward: 232.700000 ± 184.207519 in #287\n"
     ]
    },
    {
     "name": "stderr",
     "output_type": "stream",
     "text": [
      "Epoch #502: 1030it [00:01, 528.50it/s, env_step=517060, len=50, n/ep=0, n/st=10, player_1/loss=150.804, player_2/loss=190.141, rew=847.00]\n"
     ]
    },
    {
     "name": "stdout",
     "output_type": "stream",
     "text": [
      "Epoch #502: test_reward: -29043.200000 ± 27337.531669, best_reward: 232.700000 ± 184.207519 in #287\n"
     ]
    },
    {
     "name": "stderr",
     "output_type": "stream",
     "text": [
      "Epoch #503: 1030it [00:01, 544.94it/s, env_step=518090, len=7, n/ep=0, n/st=10, player_1/loss=263.844, player_2/loss=179.021, rew=54.00]\n"
     ]
    },
    {
     "name": "stdout",
     "output_type": "stream",
     "text": [
      "Epoch #503: test_reward: 54.000000 ± 0.000000, best_reward: 232.700000 ± 184.207519 in #287\n"
     ]
    },
    {
     "name": "stderr",
     "output_type": "stream",
     "text": [
      "Epoch #504: 1030it [00:02, 492.12it/s, env_step=519120, len=9, n/ep=0, n/st=10, player_1/loss=76.595, player_2/loss=132.979, rew=88.00]\n"
     ]
    },
    {
     "name": "stdout",
     "output_type": "stream",
     "text": [
      "Epoch #504: test_reward: -1473.700000 ± 3923.258035, best_reward: 232.700000 ± 184.207519 in #287\n"
     ]
    },
    {
     "name": "stderr",
     "output_type": "stream",
     "text": [
      "Epoch #505: 1030it [00:02, 514.43it/s, env_step=520150, len=24, n/ep=1, n/st=10, player_1/loss=152.912, player_2/loss=153.222, rew=529.00]\n"
     ]
    },
    {
     "name": "stdout",
     "output_type": "stream",
     "text": [
      "Epoch #505: test_reward: -14595.600000 ± 24834.997460, best_reward: 232.700000 ± 184.207519 in #287\n"
     ]
    },
    {
     "name": "stderr",
     "output_type": "stream",
     "text": [
      "Epoch #506: 1030it [00:01, 539.17it/s, env_step=521180, len=7, n/ep=0, n/st=10, player_1/loss=123.134, player_2/loss=138.090, rew=54.00]\n"
     ]
    },
    {
     "name": "stdout",
     "output_type": "stream",
     "text": [
      "Epoch #506: test_reward: -4757.800000 ± 14464.744435, best_reward: 232.700000 ± 184.207519 in #287\n"
     ]
    },
    {
     "name": "stderr",
     "output_type": "stream",
     "text": [
      "Epoch #507: 1030it [00:01, 538.03it/s, env_step=522210, len=11, n/ep=0, n/st=10, player_1/loss=132.043, player_2/loss=169.649, rew=130.00]\n"
     ]
    },
    {
     "name": "stdout",
     "output_type": "stream",
     "text": [
      "Epoch #507: test_reward: -1489.500000 ± 4664.524783, best_reward: 232.700000 ± 184.207519 in #287\n"
     ]
    },
    {
     "name": "stderr",
     "output_type": "stream",
     "text": [
      "Epoch #508: 1030it [00:01, 542.42it/s, env_step=523240, len=7, n/ep=1, n/st=10, player_1/loss=219.896, player_2/loss=266.283, rew=54.00]  \n"
     ]
    },
    {
     "name": "stdout",
     "output_type": "stream",
     "text": [
      "Epoch #508: test_reward: 62.800000 ± 18.159295, best_reward: 232.700000 ± 184.207519 in #287\n"
     ]
    },
    {
     "name": "stderr",
     "output_type": "stream",
     "text": [
      "Epoch #509: 1030it [00:02, 477.56it/s, env_step=524270, len=8, n/ep=2, n/st=10, player_1/loss=132.129, player_2/loss=144.721, rew=71.00]\n"
     ]
    },
    {
     "name": "stdout",
     "output_type": "stream",
     "text": [
      "Epoch #509: test_reward: -3903.200000 ± 11871.600000, best_reward: 232.700000 ± 184.207519 in #287\n"
     ]
    },
    {
     "name": "stderr",
     "output_type": "stream",
     "text": [
      "Epoch #510: 1030it [00:02, 415.96it/s, env_step=525300, len=35, n/ep=0, n/st=10, player_1/loss=103.766, player_2/loss=102.495, rew=328.00]\n"
     ]
    },
    {
     "name": "stdout",
     "output_type": "stream",
     "text": [
      "Epoch #510: test_reward: 67.600000 ± 16.656530, best_reward: 232.700000 ± 184.207519 in #287\n"
     ]
    },
    {
     "name": "stderr",
     "output_type": "stream",
     "text": [
      "Epoch #511: 1030it [00:07, 145.82it/s, env_step=526330, len=31, n/ep=0, n/st=10, player_1/loss=92.241, player_2/loss=113.870, rew=399.50]\n"
     ]
    },
    {
     "name": "stdout",
     "output_type": "stream",
     "text": [
      "Epoch #511: test_reward: -75029.500000 ± 136509.901337, best_reward: 232.700000 ± 184.207519 in #287\n"
     ]
    },
    {
     "name": "stderr",
     "output_type": "stream",
     "text": [
      "Epoch #512: 1030it [00:02, 448.49it/s, env_step=527360, len=9, n/ep=3, n/st=10, player_1/loss=103.634, player_2/loss=163.008, rew=95.33]\n"
     ]
    },
    {
     "name": "stdout",
     "output_type": "stream",
     "text": [
      "Epoch #512: test_reward: 73.000000 ± 20.361729, best_reward: 232.700000 ± 184.207519 in #287\n"
     ]
    },
    {
     "name": "stderr",
     "output_type": "stream",
     "text": [
      "Epoch #513: 1030it [00:02, 481.32it/s, env_step=528390, len=26, n/ep=0, n/st=10, player_1/loss=164.131, player_2/loss=157.031, rew=595.00]\n"
     ]
    },
    {
     "name": "stdout",
     "output_type": "stream",
     "text": [
      "Epoch #513: test_reward: -20177.100000 ± 17112.730790, best_reward: 232.700000 ± 184.207519 in #287\n"
     ]
    },
    {
     "name": "stderr",
     "output_type": "stream",
     "text": [
      "Epoch #514: 1030it [00:02, 354.02it/s, env_step=529420, len=10, n/ep=1, n/st=10, player_1/loss=131.718, player_2/loss=137.570, rew=108.00]\n"
     ]
    },
    {
     "name": "stdout",
     "output_type": "stream",
     "text": [
      "Epoch #514: test_reward: 68.200000 ± 22.297085, best_reward: 232.700000 ± 184.207519 in #287\n"
     ]
    },
    {
     "name": "stderr",
     "output_type": "stream",
     "text": [
      "Epoch #515: 1030it [00:02, 464.95it/s, env_step=530450, len=7, n/ep=0, n/st=10, player_1/loss=91.555, player_2/loss=113.569, rew=54.00]\n"
     ]
    },
    {
     "name": "stdout",
     "output_type": "stream",
     "text": [
      "Epoch #515: test_reward: -5538.400000 ± 17425.035576, best_reward: 232.700000 ± 184.207519 in #287\n"
     ]
    },
    {
     "name": "stderr",
     "output_type": "stream",
     "text": [
      "Epoch #516: 1030it [00:02, 389.69it/s, env_step=531480, len=9, n/ep=0, n/st=10, player_1/loss=104.310, player_2/loss=161.532, rew=88.00]\n"
     ]
    },
    {
     "name": "stdout",
     "output_type": "stream",
     "text": [
      "Epoch #516: test_reward: 60.800000 ± 13.600000, best_reward: 232.700000 ± 184.207519 in #287\n"
     ]
    },
    {
     "name": "stderr",
     "output_type": "stream",
     "text": [
      "Epoch #517: 1030it [00:01, 549.40it/s, env_step=532510, len=13, n/ep=0, n/st=10, player_1/loss=129.091, player_2/loss=175.303, rew=180.00]\n"
     ]
    },
    {
     "name": "stdout",
     "output_type": "stream",
     "text": [
      "Epoch #517: test_reward: -212.900000 ± 916.785520, best_reward: 232.700000 ± 184.207519 in #287\n"
     ]
    },
    {
     "name": "stderr",
     "output_type": "stream",
     "text": [
      "Epoch #518: 1030it [00:01, 540.63it/s, env_step=533540, len=8, n/ep=0, n/st=10, player_1/loss=73.094, player_2/loss=149.046, rew=71.00]\n"
     ]
    },
    {
     "name": "stdout",
     "output_type": "stream",
     "text": [
      "Epoch #518: test_reward: 84.200000 ± 79.912202, best_reward: 232.700000 ± 184.207519 in #287\n"
     ]
    },
    {
     "name": "stderr",
     "output_type": "stream",
     "text": [
      "Epoch #519: 1030it [00:01, 554.77it/s, env_step=534570, len=100, n/ep=1, n/st=10, player_1/loss=98.622, player_2/loss=71.935, rew=612.00]\n"
     ]
    },
    {
     "name": "stdout",
     "output_type": "stream",
     "text": [
      "Epoch #519: test_reward: 106.600000 ± 39.110612, best_reward: 232.700000 ± 184.207519 in #287\n"
     ]
    },
    {
     "name": "stderr",
     "output_type": "stream",
     "text": [
      "Epoch #520: 1030it [00:01, 547.88it/s, env_step=535600, len=96, n/ep=0, n/st=10, player_1/loss=135.388, player_2/loss=112.598, rew=-47.00]\n"
     ]
    },
    {
     "name": "stdout",
     "output_type": "stream",
     "text": [
      "Epoch #520: test_reward: -3977.200000 ± 6496.886205, best_reward: 232.700000 ± 184.207519 in #287\n"
     ]
    },
    {
     "name": "stderr",
     "output_type": "stream",
     "text": [
      "Epoch #521: 1030it [00:01, 559.21it/s, env_step=536630, len=8, n/ep=2, n/st=10, player_1/loss=131.125, player_2/loss=124.204, rew=71.00]\n"
     ]
    },
    {
     "name": "stdout",
     "output_type": "stream",
     "text": [
      "Epoch #521: test_reward: -500.500000 ± 1356.933841, best_reward: 232.700000 ± 184.207519 in #287\n"
     ]
    },
    {
     "name": "stderr",
     "output_type": "stream",
     "text": [
      "Epoch #522: 1030it [00:01, 553.52it/s, env_step=537660, len=7, n/ep=1, n/st=10, player_1/loss=80.116, player_2/loss=139.155, rew=54.00]\n"
     ]
    },
    {
     "name": "stdout",
     "output_type": "stream",
     "text": [
      "Epoch #522: test_reward: 54.000000 ± 0.000000, best_reward: 232.700000 ± 184.207519 in #287\n"
     ]
    },
    {
     "name": "stderr",
     "output_type": "stream",
     "text": [
      "Epoch #523: 1030it [00:01, 555.57it/s, env_step=538690, len=7, n/ep=0, n/st=10, player_1/loss=72.914, player_2/loss=137.354, rew=54.00]\n"
     ]
    },
    {
     "name": "stdout",
     "output_type": "stream",
     "text": [
      "Epoch #523: test_reward: 59.400000 ± 16.200000, best_reward: 232.700000 ± 184.207519 in #287\n"
     ]
    },
    {
     "name": "stderr",
     "output_type": "stream",
     "text": [
      "Epoch #524: 1030it [00:01, 560.83it/s, env_step=539720, len=14, n/ep=1, n/st=10, player_1/loss=122.177, player_2/loss=490.417, rew=208.00]\n"
     ]
    },
    {
     "name": "stdout",
     "output_type": "stream",
     "text": [
      "Epoch #524: test_reward: 59.000000 ± 10.779610, best_reward: 232.700000 ± 184.207519 in #287\n"
     ]
    },
    {
     "name": "stderr",
     "output_type": "stream",
     "text": [
      "Epoch #525: 1030it [00:01, 547.96it/s, env_step=540750, len=10, n/ep=2, n/st=10, player_1/loss=73.232, player_2/loss=318.376, rew=109.00]\n"
     ]
    },
    {
     "name": "stdout",
     "output_type": "stream",
     "text": [
      "Epoch #525: test_reward: 64.800000 ± 21.600000, best_reward: 232.700000 ± 184.207519 in #287\n"
     ]
    },
    {
     "name": "stderr",
     "output_type": "stream",
     "text": [
      "Epoch #526: 1030it [00:02, 512.97it/s, env_step=541780, len=8, n/ep=0, n/st=10, player_1/loss=44.158, player_2/loss=90.845, rew=81.00]\n"
     ]
    },
    {
     "name": "stdout",
     "output_type": "stream",
     "text": [
      "Epoch #526: test_reward: 223.400000 ± 346.604155, best_reward: 232.700000 ± 184.207519 in #287\n"
     ]
    },
    {
     "name": "stderr",
     "output_type": "stream",
     "text": [
      "Epoch #527: 1030it [00:01, 558.81it/s, env_step=542810, len=10, n/ep=2, n/st=10, player_1/loss=82.317, player_2/loss=128.629, rew=108.00]\n"
     ]
    },
    {
     "name": "stdout",
     "output_type": "stream",
     "text": [
      "Epoch #527: test_reward: 86.300000 ± 75.434806, best_reward: 232.700000 ± 184.207519 in #287\n"
     ]
    },
    {
     "name": "stderr",
     "output_type": "stream",
     "text": [
      "Epoch #528: 1030it [00:01, 559.56it/s, env_step=543840, len=7, n/ep=1, n/st=10, player_1/loss=85.228, player_2/loss=119.036, rew=54.00]\n"
     ]
    },
    {
     "name": "stdout",
     "output_type": "stream",
     "text": [
      "Epoch #528: test_reward: -42687.000000 ± 39117.179032, best_reward: 232.700000 ± 184.207519 in #287\n"
     ]
    },
    {
     "name": "stderr",
     "output_type": "stream",
     "text": [
      "Epoch #529: 1030it [00:01, 545.78it/s, env_step=544870, len=7, n/ep=0, n/st=10, player_1/loss=85.213, player_2/loss=129.009, rew=54.00]\n"
     ]
    },
    {
     "name": "stdout",
     "output_type": "stream",
     "text": [
      "Epoch #529: test_reward: 159.800000 ± 60.335396, best_reward: 232.700000 ± 184.207519 in #287\n"
     ]
    },
    {
     "name": "stderr",
     "output_type": "stream",
     "text": [
      "Epoch #530: 1030it [00:01, 567.31it/s, env_step=545900, len=29, n/ep=0, n/st=10, player_1/loss=53.518, player_2/loss=80.729, rew=580.00]\n"
     ]
    },
    {
     "name": "stdout",
     "output_type": "stream",
     "text": [
      "Epoch #530: test_reward: 57.400000 ± 10.200000, best_reward: 232.700000 ± 184.207519 in #287\n"
     ]
    },
    {
     "name": "stderr",
     "output_type": "stream",
     "text": [
      "Epoch #531: 1030it [00:01, 560.68it/s, env_step=546930, len=12, n/ep=0, n/st=10, player_1/loss=112.713, player_2/loss=111.697, rew=197.00]\n"
     ]
    },
    {
     "name": "stdout",
     "output_type": "stream",
     "text": [
      "Epoch #531: test_reward: 42.100000 ± 48.113304, best_reward: 232.700000 ± 184.207519 in #287\n"
     ]
    },
    {
     "name": "stderr",
     "output_type": "stream",
     "text": [
      "Epoch #532: 1030it [00:01, 564.16it/s, env_step=547960, len=10, n/ep=0, n/st=10, player_1/loss=64.369, player_2/loss=190.957, rew=108.00]\n"
     ]
    },
    {
     "name": "stdout",
     "output_type": "stream",
     "text": [
      "Epoch #532: test_reward: 78.200000 ± 62.099597, best_reward: 232.700000 ± 184.207519 in #287\n"
     ]
    },
    {
     "name": "stderr",
     "output_type": "stream",
     "text": [
      "Epoch #533: 1030it [00:01, 543.89it/s, env_step=548990, len=7, n/ep=0, n/st=10, player_1/loss=80.642, player_2/loss=147.015, rew=54.00]\n"
     ]
    },
    {
     "name": "stdout",
     "output_type": "stream",
     "text": [
      "Epoch #533: test_reward: 59.400000 ± 16.200000, best_reward: 232.700000 ± 184.207519 in #287\n"
     ]
    },
    {
     "name": "stderr",
     "output_type": "stream",
     "text": [
      "Epoch #534: 1030it [00:02, 477.29it/s, env_step=550020, len=9, n/ep=1, n/st=10, player_1/loss=69.050, player_2/loss=173.658, rew=88.00]\n"
     ]
    },
    {
     "name": "stdout",
     "output_type": "stream",
     "text": [
      "Epoch #534: test_reward: 69.400000 ± 18.353201, best_reward: 232.700000 ± 184.207519 in #287\n"
     ]
    },
    {
     "name": "stderr",
     "output_type": "stream",
     "text": [
      "Epoch #535: 1030it [00:02, 430.09it/s, env_step=551050, len=9, n/ep=0, n/st=10, player_1/loss=41.757, player_2/loss=237.438, rew=88.00]\n"
     ]
    },
    {
     "name": "stdout",
     "output_type": "stream",
     "text": [
      "Epoch #535: test_reward: -37833.900000 ± 23252.922154, best_reward: 232.700000 ± 184.207519 in #287\n"
     ]
    },
    {
     "name": "stderr",
     "output_type": "stream",
     "text": [
      "Epoch #536: 1030it [00:02, 479.05it/s, env_step=552080, len=7, n/ep=0, n/st=10, player_1/loss=76.737, player_2/loss=169.948, rew=54.00]\n"
     ]
    },
    {
     "name": "stdout",
     "output_type": "stream",
     "text": [
      "Epoch #536: test_reward: 70.600000 ± 29.853643, best_reward: 232.700000 ± 184.207519 in #287\n"
     ]
    },
    {
     "name": "stderr",
     "output_type": "stream",
     "text": [
      "Epoch #537: 1030it [00:02, 473.89it/s, env_step=553110, len=10, n/ep=1, n/st=10, player_1/loss=66.784, player_2/loss=187.345, rew=108.00]\n"
     ]
    },
    {
     "name": "stdout",
     "output_type": "stream",
     "text": [
      "Epoch #537: test_reward: -171.700000 ± 785.789291, best_reward: 232.700000 ± 184.207519 in #287\n"
     ]
    },
    {
     "name": "stderr",
     "output_type": "stream",
     "text": [
      "Epoch #538: 1030it [00:02, 478.99it/s, env_step=554140, len=7, n/ep=0, n/st=10, player_1/loss=143.162, player_2/loss=269.768, rew=65.33]\n"
     ]
    },
    {
     "name": "stdout",
     "output_type": "stream",
     "text": [
      "Epoch #538: test_reward: 57.400000 ± 10.200000, best_reward: 232.700000 ± 184.207519 in #287\n"
     ]
    },
    {
     "name": "stderr",
     "output_type": "stream",
     "text": [
      "Epoch #539: 1030it [00:02, 467.68it/s, env_step=555170, len=7, n/ep=0, n/st=10, player_1/loss=104.703, player_2/loss=116.882, rew=54.00]\n"
     ]
    },
    {
     "name": "stdout",
     "output_type": "stream",
     "text": [
      "Epoch #539: test_reward: -2470.100000 ± 4752.157898, best_reward: 232.700000 ± 184.207519 in #287\n"
     ]
    },
    {
     "name": "stderr",
     "output_type": "stream",
     "text": [
      "Epoch #540: 1030it [00:02, 381.60it/s, env_step=556200, len=19, n/ep=0, n/st=10, player_1/loss=80.663, player_2/loss=214.501, rew=378.00]\n"
     ]
    },
    {
     "name": "stdout",
     "output_type": "stream",
     "text": [
      "Epoch #540: test_reward: 119.600000 ± 38.270615, best_reward: 232.700000 ± 184.207519 in #287\n"
     ]
    },
    {
     "name": "stderr",
     "output_type": "stream",
     "text": [
      "Epoch #541: 1030it [00:02, 494.37it/s, env_step=557230, len=23, n/ep=0, n/st=10, player_1/loss=52.755, player_2/loss=101.791, rew=442.00]\n"
     ]
    },
    {
     "name": "stdout",
     "output_type": "stream",
     "text": [
      "Epoch #541: test_reward: -2952.600000 ± 7950.067185, best_reward: 232.700000 ± 184.207519 in #287\n"
     ]
    },
    {
     "name": "stderr",
     "output_type": "stream",
     "text": [
      "Epoch #542: 1030it [00:02, 450.79it/s, env_step=558260, len=11, n/ep=2, n/st=10, player_1/loss=68.671, player_2/loss=136.638, rew=146.00]\n"
     ]
    },
    {
     "name": "stdout",
     "output_type": "stream",
     "text": [
      "Epoch #542: test_reward: 57.400000 ± 10.200000, best_reward: 232.700000 ± 184.207519 in #287\n"
     ]
    },
    {
     "name": "stderr",
     "output_type": "stream",
     "text": [
      "Epoch #543: 1030it [00:01, 549.23it/s, env_step=559290, len=7, n/ep=2, n/st=10, player_1/loss=65.900, player_2/loss=95.814, rew=54.00]\n"
     ]
    },
    {
     "name": "stdout",
     "output_type": "stream",
     "text": [
      "Epoch #543: test_reward: 54.000000 ± 0.000000, best_reward: 232.700000 ± 184.207519 in #287\n"
     ]
    },
    {
     "name": "stderr",
     "output_type": "stream",
     "text": [
      "Epoch #544: 1030it [00:01, 524.72it/s, env_step=560320, len=48, n/ep=0, n/st=10, player_1/loss=51.397, player_2/loss=123.952, rew=1132.00]\n"
     ]
    },
    {
     "name": "stdout",
     "output_type": "stream",
     "text": [
      "Epoch #544: test_reward: 118.100000 ± 110.016771, best_reward: 232.700000 ± 184.207519 in #287\n"
     ]
    },
    {
     "name": "stderr",
     "output_type": "stream",
     "text": [
      "Epoch #545: 1030it [00:01, 587.75it/s, env_step=561350, len=7, n/ep=0, n/st=10, player_1/loss=82.741, player_2/loss=224.011, rew=54.00]\n"
     ]
    },
    {
     "name": "stdout",
     "output_type": "stream",
     "text": [
      "Epoch #545: test_reward: 92.200000 ± 12.600000, best_reward: 232.700000 ± 184.207519 in #287\n"
     ]
    },
    {
     "name": "stderr",
     "output_type": "stream",
     "text": [
      "Epoch #546: 1030it [00:01, 581.86it/s, env_step=562380, len=23, n/ep=0, n/st=10, player_1/loss=79.334, player_2/loss=164.764, rew=415.00]\n"
     ]
    },
    {
     "name": "stdout",
     "output_type": "stream",
     "text": [
      "Epoch #546: test_reward: -2711.700000 ± 5703.512463, best_reward: 232.700000 ± 184.207519 in #287\n"
     ]
    },
    {
     "name": "stderr",
     "output_type": "stream",
     "text": [
      "Epoch #547: 1030it [00:01, 552.81it/s, env_step=563410, len=7, n/ep=1, n/st=10, player_1/loss=150.295, player_2/loss=186.051, rew=54.00]\n"
     ]
    },
    {
     "name": "stdout",
     "output_type": "stream",
     "text": [
      "Epoch #547: test_reward: -21869.600000 ± 32852.423558, best_reward: 232.700000 ± 184.207519 in #287\n"
     ]
    },
    {
     "name": "stderr",
     "output_type": "stream",
     "text": [
      "Epoch #548: 1030it [00:02, 508.30it/s, env_step=564440, len=15, n/ep=2, n/st=10, player_1/loss=104.654, player_2/loss=127.822, rew=254.00]\n"
     ]
    },
    {
     "name": "stdout",
     "output_type": "stream",
     "text": [
      "Epoch #548: test_reward: -4378.000000 ± 13307.337194, best_reward: 232.700000 ± 184.207519 in #287\n"
     ]
    },
    {
     "name": "stderr",
     "output_type": "stream",
     "text": [
      "Epoch #549: 1030it [00:02, 482.66it/s, env_step=565470, len=9, n/ep=0, n/st=10, player_1/loss=99.628, player_2/loss=115.104, rew=88.00] \n"
     ]
    },
    {
     "name": "stdout",
     "output_type": "stream",
     "text": [
      "Epoch #549: test_reward: -39085.300000 ± 25095.438179, best_reward: 232.700000 ± 184.207519 in #287\n"
     ]
    },
    {
     "name": "stderr",
     "output_type": "stream",
     "text": [
      "Epoch #550: 1030it [00:02, 501.78it/s, env_step=566500, len=7, n/ep=3, n/st=10, player_1/loss=175.685, player_2/loss=220.158, rew=54.00]\n"
     ]
    },
    {
     "name": "stdout",
     "output_type": "stream",
     "text": [
      "Epoch #550: test_reward: 54.000000 ± 0.000000, best_reward: 232.700000 ± 184.207519 in #287\n"
     ]
    },
    {
     "name": "stderr",
     "output_type": "stream",
     "text": [
      "Epoch #551: 1030it [00:01, 547.80it/s, env_step=567530, len=11, n/ep=0, n/st=10, player_1/loss=161.721, player_2/loss=175.273, rew=148.67]\n"
     ]
    },
    {
     "name": "stdout",
     "output_type": "stream",
     "text": [
      "Epoch #551: test_reward: 57.400000 ± 10.200000, best_reward: 232.700000 ± 184.207519 in #287\n"
     ]
    },
    {
     "name": "stderr",
     "output_type": "stream",
     "text": [
      "Epoch #552: 1030it [00:02, 499.47it/s, env_step=568560, len=9, n/ep=0, n/st=10, player_1/loss=114.946, player_2/loss=94.515, rew=88.00]\n"
     ]
    },
    {
     "name": "stdout",
     "output_type": "stream",
     "text": [
      "Epoch #552: test_reward: -1813.400000 ± 3709.843910, best_reward: 232.700000 ± 184.207519 in #287\n"
     ]
    },
    {
     "name": "stderr",
     "output_type": "stream",
     "text": [
      "Epoch #553: 1030it [00:01, 548.13it/s, env_step=569590, len=16, n/ep=0, n/st=10, player_1/loss=80.448, player_2/loss=99.139, rew=270.00]\n"
     ]
    },
    {
     "name": "stdout",
     "output_type": "stream",
     "text": [
      "Epoch #553: test_reward: -1494.600000 ± 4679.824702, best_reward: 232.700000 ± 184.207519 in #287\n"
     ]
    },
    {
     "name": "stderr",
     "output_type": "stream",
     "text": [
      "Epoch #554: 1030it [00:01, 558.57it/s, env_step=570620, len=7, n/ep=0, n/st=10, player_1/loss=71.324, player_2/loss=132.739, rew=54.00]\n"
     ]
    },
    {
     "name": "stdout",
     "output_type": "stream",
     "text": [
      "Epoch #554: test_reward: -20055.000000 ± 25655.363276, best_reward: 232.700000 ± 184.207519 in #287\n"
     ]
    },
    {
     "name": "stderr",
     "output_type": "stream",
     "text": [
      "Epoch #555: 1030it [00:01, 584.00it/s, env_step=571650, len=9, n/ep=0, n/st=10, player_1/loss=142.481, player_2/loss=159.248, rew=88.00]\n"
     ]
    },
    {
     "name": "stdout",
     "output_type": "stream",
     "text": [
      "Epoch #555: test_reward: 60.800000 ± 13.600000, best_reward: 232.700000 ± 184.207519 in #287\n"
     ]
    },
    {
     "name": "stderr",
     "output_type": "stream",
     "text": [
      "Epoch #556: 1030it [00:02, 479.00it/s, env_step=572680, len=8, n/ep=4, n/st=10, player_1/loss=86.203, player_2/loss=119.465, rew=85.50]\n"
     ]
    },
    {
     "name": "stdout",
     "output_type": "stream",
     "text": [
      "Epoch #556: test_reward: 60.800000 ± 13.600000, best_reward: 232.700000 ± 184.207519 in #287\n"
     ]
    },
    {
     "name": "stderr",
     "output_type": "stream",
     "text": [
      "Epoch #557: 1030it [00:02, 471.87it/s, env_step=573710, len=25, n/ep=1, n/st=10, player_1/loss=148.334, player_2/loss=102.620, rew=273.00]\n"
     ]
    },
    {
     "name": "stdout",
     "output_type": "stream",
     "text": [
      "Epoch #557: test_reward: 61.600000 ± 22.800000, best_reward: 232.700000 ± 184.207519 in #287\n"
     ]
    },
    {
     "name": "stderr",
     "output_type": "stream",
     "text": [
      "Epoch #558: 1030it [00:01, 540.49it/s, env_step=574740, len=23, n/ep=0, n/st=10, player_1/loss=186.626, player_2/loss=145.387, rew=490.00]\n"
     ]
    },
    {
     "name": "stdout",
     "output_type": "stream",
     "text": [
      "Epoch #558: test_reward: -664.500000 ± 2155.500000, best_reward: 232.700000 ± 184.207519 in #287\n"
     ]
    },
    {
     "name": "stderr",
     "output_type": "stream",
     "text": [
      "Epoch #559: 1030it [00:02, 508.89it/s, env_step=575770, len=51, n/ep=1, n/st=10, player_1/loss=127.649, player_2/loss=180.559, rew=1093.00]\n"
     ]
    },
    {
     "name": "stdout",
     "output_type": "stream",
     "text": [
      "Epoch #559: test_reward: 82.100000 ± 14.300000, best_reward: 232.700000 ± 184.207519 in #287\n"
     ]
    },
    {
     "name": "stderr",
     "output_type": "stream",
     "text": [
      "Epoch #560: 1030it [00:01, 523.49it/s, env_step=576800, len=8, n/ep=0, n/st=10, player_1/loss=166.891, player_2/loss=159.843, rew=81.00]\n"
     ]
    },
    {
     "name": "stdout",
     "output_type": "stream",
     "text": [
      "Epoch #560: test_reward: -12873.600000 ± 29134.341246, best_reward: 232.700000 ± 184.207519 in #287\n"
     ]
    },
    {
     "name": "stderr",
     "output_type": "stream",
     "text": [
      "Epoch #561: 1030it [00:01, 522.24it/s, env_step=577830, len=228, n/ep=1, n/st=10, player_1/loss=640.995, player_2/loss=160.033, rew=-4375.00]\n"
     ]
    },
    {
     "name": "stdout",
     "output_type": "stream",
     "text": [
      "Epoch #561: test_reward: -10586.800000 ± 17486.156752, best_reward: 232.700000 ± 184.207519 in #287\n"
     ]
    },
    {
     "name": "stderr",
     "output_type": "stream",
     "text": [
      "Epoch #562: 1030it [00:02, 433.53it/s, env_step=578860, len=9, n/ep=0, n/st=10, player_1/loss=200.073, player_2/loss=99.876, rew=89.00]\n"
     ]
    },
    {
     "name": "stdout",
     "output_type": "stream",
     "text": [
      "Epoch #562: test_reward: 93.400000 ± 24.609754, best_reward: 232.700000 ± 184.207519 in #287\n"
     ]
    },
    {
     "name": "stderr",
     "output_type": "stream",
     "text": [
      "Epoch #563: 1030it [00:02, 427.98it/s, env_step=579890, len=110, n/ep=1, n/st=10, player_1/loss=129.449, player_2/loss=179.183, rew=262.00]\n"
     ]
    },
    {
     "name": "stdout",
     "output_type": "stream",
     "text": [
      "Epoch #563: test_reward: 61.600000 ± 22.800000, best_reward: 232.700000 ± 184.207519 in #287\n"
     ]
    },
    {
     "name": "stderr",
     "output_type": "stream",
     "text": [
      "Epoch #564: 1030it [00:02, 437.54it/s, env_step=580920, len=7, n/ep=2, n/st=10, player_1/loss=138.218, player_2/loss=177.619, rew=54.00]\n"
     ]
    },
    {
     "name": "stdout",
     "output_type": "stream",
     "text": [
      "Epoch #564: test_reward: 57.400000 ± 10.200000, best_reward: 232.700000 ± 184.207519 in #287\n"
     ]
    },
    {
     "name": "stderr",
     "output_type": "stream",
     "text": [
      "Epoch #565: 1030it [00:02, 454.56it/s, env_step=581950, len=7, n/ep=0, n/st=10, player_1/loss=163.505, player_2/loss=135.579, rew=54.00]\n"
     ]
    },
    {
     "name": "stdout",
     "output_type": "stream",
     "text": [
      "Epoch #565: test_reward: 77.800000 ± 15.580757, best_reward: 232.700000 ± 184.207519 in #287\n"
     ]
    },
    {
     "name": "stderr",
     "output_type": "stream",
     "text": [
      "Epoch #566: 1030it [00:02, 457.08it/s, env_step=582980, len=7, n/ep=3, n/st=10, player_1/loss=139.564, player_2/loss=117.084, rew=54.00]\n"
     ]
    },
    {
     "name": "stdout",
     "output_type": "stream",
     "text": [
      "Epoch #566: test_reward: 175.400000 ± 23.495531, best_reward: 232.700000 ± 184.207519 in #287\n"
     ]
    },
    {
     "name": "stderr",
     "output_type": "stream",
     "text": [
      "Epoch #567: 1030it [00:02, 450.64it/s, env_step=584010, len=9, n/ep=1, n/st=10, player_1/loss=89.793, player_2/loss=170.585, rew=88.00]\n"
     ]
    },
    {
     "name": "stdout",
     "output_type": "stream",
     "text": [
      "Epoch #567: test_reward: -522.800000 ± 1764.465517, best_reward: 232.700000 ± 184.207519 in #287\n"
     ]
    },
    {
     "name": "stderr",
     "output_type": "stream",
     "text": [
      "Epoch #568: 1030it [00:02, 419.96it/s, env_step=585040, len=9, n/ep=0, n/st=10, player_1/loss=113.863, player_2/loss=118.744, rew=92.00]\n"
     ]
    },
    {
     "name": "stdout",
     "output_type": "stream",
     "text": [
      "Epoch #568: test_reward: 64.200000 ± 15.580757, best_reward: 232.700000 ± 184.207519 in #287\n"
     ]
    },
    {
     "name": "stderr",
     "output_type": "stream",
     "text": [
      "Epoch #569: 1030it [00:02, 448.07it/s, env_step=586070, len=7, n/ep=0, n/st=10, player_1/loss=149.135, player_2/loss=124.154, rew=54.00]\n"
     ]
    },
    {
     "name": "stdout",
     "output_type": "stream",
     "text": [
      "Epoch #569: test_reward: -8036.200000 ± 13126.756437, best_reward: 232.700000 ± 184.207519 in #287\n"
     ]
    },
    {
     "name": "stderr",
     "output_type": "stream",
     "text": [
      "Epoch #570: 1030it [00:02, 427.49it/s, env_step=587100, len=26, n/ep=0, n/st=10, player_1/loss=105.758, player_2/loss=127.021, rew=577.00]\n"
     ]
    },
    {
     "name": "stdout",
     "output_type": "stream",
     "text": [
      "Epoch #570: test_reward: -35966.800000 ± 35073.427910, best_reward: 232.700000 ± 184.207519 in #287\n"
     ]
    },
    {
     "name": "stderr",
     "output_type": "stream",
     "text": [
      "Epoch #571: 1030it [00:02, 430.06it/s, env_step=588130, len=9, n/ep=1, n/st=10, player_1/loss=128.442, player_2/loss=137.111, rew=88.00]\n"
     ]
    },
    {
     "name": "stdout",
     "output_type": "stream",
     "text": [
      "Epoch #571: test_reward: -2888.300000 ± 6591.693380, best_reward: 232.700000 ± 184.207519 in #287\n"
     ]
    },
    {
     "name": "stderr",
     "output_type": "stream",
     "text": [
      "Epoch #572: 1030it [00:02, 427.17it/s, env_step=589160, len=7, n/ep=1, n/st=10, player_1/loss=79.952, player_2/loss=100.781, rew=54.00]\n"
     ]
    },
    {
     "name": "stdout",
     "output_type": "stream",
     "text": [
      "Epoch #572: test_reward: 54.000000 ± 0.000000, best_reward: 232.700000 ± 184.207519 in #287\n"
     ]
    },
    {
     "name": "stderr",
     "output_type": "stream",
     "text": [
      "Epoch #573: 1030it [00:02, 432.62it/s, env_step=590190, len=42, n/ep=1, n/st=10, player_1/loss=84.558, player_2/loss=112.847, rew=589.00]\n"
     ]
    },
    {
     "name": "stdout",
     "output_type": "stream",
     "text": [
      "Epoch #573: test_reward: -2620.700000 ± 4692.467966, best_reward: 232.700000 ± 184.207519 in #287\n"
     ]
    },
    {
     "name": "stderr",
     "output_type": "stream",
     "text": [
      "Epoch #574: 1030it [00:02, 503.88it/s, env_step=591220, len=10, n/ep=0, n/st=10, player_1/loss=86.373, player_2/loss=126.185, rew=109.00]\n"
     ]
    },
    {
     "name": "stdout",
     "output_type": "stream",
     "text": [
      "Epoch #574: test_reward: 64.200000 ± 15.580757, best_reward: 232.700000 ± 184.207519 in #287\n"
     ]
    },
    {
     "name": "stderr",
     "output_type": "stream",
     "text": [
      "Epoch #575: 1030it [00:01, 518.21it/s, env_step=592250, len=12, n/ep=2, n/st=10, player_1/loss=122.214, player_2/loss=135.295, rew=158.00]\n"
     ]
    },
    {
     "name": "stdout",
     "output_type": "stream",
     "text": [
      "Epoch #575: test_reward: -969.800000 ± 3294.743140, best_reward: 232.700000 ± 184.207519 in #287\n"
     ]
    },
    {
     "name": "stderr",
     "output_type": "stream",
     "text": [
      "Epoch #576: 1030it [00:01, 530.77it/s, env_step=593280, len=9, n/ep=1, n/st=10, player_1/loss=116.368, player_2/loss=130.217, rew=88.00]\n"
     ]
    },
    {
     "name": "stdout",
     "output_type": "stream",
     "text": [
      "Epoch #576: test_reward: 60.800000 ± 13.600000, best_reward: 232.700000 ± 184.207519 in #287\n"
     ]
    },
    {
     "name": "stderr",
     "output_type": "stream",
     "text": [
      "Epoch #577: 1030it [00:02, 486.20it/s, env_step=594310, len=7, n/ep=0, n/st=10, player_1/loss=77.343, player_2/loss=138.949, rew=54.00]\n"
     ]
    },
    {
     "name": "stdout",
     "output_type": "stream",
     "text": [
      "Epoch #577: test_reward: -7268.300000 ± 13996.564486, best_reward: 232.700000 ± 184.207519 in #287\n"
     ]
    },
    {
     "name": "stderr",
     "output_type": "stream",
     "text": [
      "Epoch #578: 1030it [00:01, 548.43it/s, env_step=595340, len=9, n/ep=0, n/st=10, player_1/loss=120.341, player_2/loss=91.857, rew=88.00]\n"
     ]
    },
    {
     "name": "stdout",
     "output_type": "stream",
     "text": [
      "Epoch #578: test_reward: 124.000000 ± 68.239285, best_reward: 232.700000 ± 184.207519 in #287\n"
     ]
    },
    {
     "name": "stderr",
     "output_type": "stream",
     "text": [
      "Epoch #579: 1030it [00:01, 547.43it/s, env_step=596370, len=14, n/ep=2, n/st=10, player_1/loss=147.887, player_2/loss=270.694, rew=183.50]\n"
     ]
    },
    {
     "name": "stdout",
     "output_type": "stream",
     "text": [
      "Epoch #579: test_reward: 57.400000 ± 10.200000, best_reward: 232.700000 ± 184.207519 in #287\n"
     ]
    },
    {
     "name": "stderr",
     "output_type": "stream",
     "text": [
      "Epoch #580: 1030it [00:01, 537.66it/s, env_step=597400, len=94, n/ep=0, n/st=10, player_1/loss=108.761, player_2/loss=135.371, rew=1440.00]\n"
     ]
    },
    {
     "name": "stdout",
     "output_type": "stream",
     "text": [
      "Epoch #580: test_reward: -34665.700000 ± 42000.344656, best_reward: 232.700000 ± 184.207519 in #287\n"
     ]
    },
    {
     "name": "stderr",
     "output_type": "stream",
     "text": [
      "Epoch #581: 1030it [00:01, 522.08it/s, env_step=598430, len=9, n/ep=0, n/st=10, player_1/loss=152.909, player_2/loss=141.628, rew=88.00]\n"
     ]
    },
    {
     "name": "stdout",
     "output_type": "stream",
     "text": [
      "Epoch #581: test_reward: -3278.300000 ± 8419.027498, best_reward: 232.700000 ± 184.207519 in #287\n"
     ]
    },
    {
     "name": "stderr",
     "output_type": "stream",
     "text": [
      "Epoch #582: 1030it [00:02, 502.89it/s, env_step=599460, len=7, n/ep=0, n/st=10, player_1/loss=228.470, player_2/loss=171.455, rew=54.00]\n"
     ]
    },
    {
     "name": "stdout",
     "output_type": "stream",
     "text": [
      "Epoch #582: test_reward: -7627.800000 ± 20768.405460, best_reward: 232.700000 ± 184.207519 in #287\n"
     ]
    },
    {
     "name": "stderr",
     "output_type": "stream",
     "text": [
      "Epoch #583: 1030it [00:02, 468.04it/s, env_step=600490, len=9, n/ep=0, n/st=10, player_1/loss=100.147, player_2/loss=139.070, rew=88.00]\n"
     ]
    },
    {
     "name": "stdout",
     "output_type": "stream",
     "text": [
      "Epoch #583: test_reward: -2167.700000 ± 6676.441029, best_reward: 232.700000 ± 184.207519 in #287\n"
     ]
    },
    {
     "name": "stderr",
     "output_type": "stream",
     "text": [
      "Epoch #584: 1030it [00:02, 450.51it/s, env_step=601520, len=7, n/ep=0, n/st=10, player_1/loss=133.498, player_2/loss=150.816, rew=54.00]\n"
     ]
    },
    {
     "name": "stdout",
     "output_type": "stream",
     "text": [
      "Epoch #584: test_reward: 60.800000 ± 13.600000, best_reward: 232.700000 ± 184.207519 in #287\n"
     ]
    },
    {
     "name": "stderr",
     "output_type": "stream",
     "text": [
      "Epoch #585: 1030it [00:01, 532.82it/s, env_step=602550, len=14, n/ep=0, n/st=10, player_1/loss=73.754, player_2/loss=111.468, rew=208.00]\n"
     ]
    },
    {
     "name": "stdout",
     "output_type": "stream",
     "text": [
      "Epoch #585: test_reward: -17738.200000 ± 21369.153169, best_reward: 232.700000 ± 184.207519 in #287\n"
     ]
    },
    {
     "name": "stderr",
     "output_type": "stream",
     "text": [
      "Epoch #586: 1030it [00:01, 531.51it/s, env_step=603580, len=23, n/ep=3, n/st=10, player_1/loss=112.891, player_2/loss=102.078, rew=107.00]\n"
     ]
    },
    {
     "name": "stdout",
     "output_type": "stream",
     "text": [
      "Epoch #586: test_reward: 236.000000 ± 68.439755, best_reward: 236.000000 ± 68.439755 in #586\n"
     ]
    },
    {
     "name": "stderr",
     "output_type": "stream",
     "text": [
      "Epoch #587: 1030it [00:01, 519.49it/s, env_step=604610, len=90, n/ep=1, n/st=10, player_1/loss=79.863, player_2/loss=112.335, rew=1735.00]\n"
     ]
    },
    {
     "name": "stdout",
     "output_type": "stream",
     "text": [
      "Epoch #587: test_reward: -30068.000000 ± 27390.293273, best_reward: 236.000000 ± 68.439755 in #586\n"
     ]
    },
    {
     "name": "stderr",
     "output_type": "stream",
     "text": [
      "Epoch #588: 1030it [00:01, 567.34it/s, env_step=605640, len=7, n/ep=0, n/st=10, player_1/loss=71.318, player_2/loss=134.303, rew=54.00]\n"
     ]
    },
    {
     "name": "stdout",
     "output_type": "stream",
     "text": [
      "Epoch #588: test_reward: -8204.700000 ± 19822.466819, best_reward: 236.000000 ± 68.439755 in #586\n"
     ]
    },
    {
     "name": "stderr",
     "output_type": "stream",
     "text": [
      "Epoch #589: 1030it [00:01, 572.69it/s, env_step=606670, len=50, n/ep=0, n/st=10, player_1/loss=81.695, player_2/loss=142.281, rew=-9.33]\n"
     ]
    },
    {
     "name": "stdout",
     "output_type": "stream",
     "text": [
      "Epoch #589: test_reward: 80.600000 ± 69.213005, best_reward: 236.000000 ± 68.439755 in #586\n"
     ]
    },
    {
     "name": "stderr",
     "output_type": "stream",
     "text": [
      "Epoch #590: 1030it [00:01, 566.07it/s, env_step=607700, len=38, n/ep=2, n/st=10, player_1/loss=77.675, player_2/loss=120.442, rew=829.00]\n"
     ]
    },
    {
     "name": "stdout",
     "output_type": "stream",
     "text": [
      "Epoch #590: test_reward: -22952.500000 ± 29697.918901, best_reward: 236.000000 ± 68.439755 in #586\n"
     ]
    },
    {
     "name": "stderr",
     "output_type": "stream",
     "text": [
      "Epoch #591: 1030it [00:01, 555.00it/s, env_step=608730, len=39, n/ep=0, n/st=10, player_1/loss=104.809, player_2/loss=92.683, rew=649.00]\n"
     ]
    },
    {
     "name": "stdout",
     "output_type": "stream",
     "text": [
      "Epoch #591: test_reward: 152.000000 ± 61.201307, best_reward: 236.000000 ± 68.439755 in #586\n"
     ]
    },
    {
     "name": "stderr",
     "output_type": "stream",
     "text": [
      "Epoch #592: 1030it [00:01, 572.63it/s, env_step=609760, len=65, n/ep=0, n/st=10, player_1/loss=94.118, player_2/loss=127.017, rew=1093.00]\n"
     ]
    },
    {
     "name": "stdout",
     "output_type": "stream",
     "text": [
      "Epoch #592: test_reward: -46.800000 ± 507.252955, best_reward: 236.000000 ± 68.439755 in #586\n"
     ]
    },
    {
     "name": "stderr",
     "output_type": "stream",
     "text": [
      "Epoch #593: 1030it [00:01, 565.21it/s, env_step=610790, len=7, n/ep=1, n/st=10, player_1/loss=94.093, player_2/loss=105.374, rew=54.00]\n"
     ]
    },
    {
     "name": "stdout",
     "output_type": "stream",
     "text": [
      "Epoch #593: test_reward: 125.000000 ± 113.677614, best_reward: 236.000000 ± 68.439755 in #586\n"
     ]
    },
    {
     "name": "stderr",
     "output_type": "stream",
     "text": [
      "Epoch #594: 1030it [00:02, 509.90it/s, env_step=611820, len=9, n/ep=0, n/st=10, player_1/loss=76.940, player_2/loss=137.246, rew=88.00]\n"
     ]
    },
    {
     "name": "stdout",
     "output_type": "stream",
     "text": [
      "Epoch #594: test_reward: 60.800000 ± 13.600000, best_reward: 236.000000 ± 68.439755 in #586\n"
     ]
    },
    {
     "name": "stderr",
     "output_type": "stream",
     "text": [
      "Epoch #595: 1030it [00:01, 525.54it/s, env_step=612850, len=9, n/ep=2, n/st=10, player_1/loss=128.617, player_2/loss=179.920, rew=98.00]\n"
     ]
    },
    {
     "name": "stdout",
     "output_type": "stream",
     "text": [
      "Epoch #595: test_reward: 60.800000 ± 13.600000, best_reward: 236.000000 ± 68.439755 in #586\n"
     ]
    },
    {
     "name": "stderr",
     "output_type": "stream",
     "text": [
      "Epoch #596: 1030it [00:01, 552.00it/s, env_step=613880, len=7, n/ep=1, n/st=10, player_1/loss=125.720, player_2/loss=176.643, rew=54.00]\n"
     ]
    },
    {
     "name": "stdout",
     "output_type": "stream",
     "text": [
      "Epoch #596: test_reward: 62.800000 ± 18.159295, best_reward: 236.000000 ± 68.439755 in #586\n"
     ]
    },
    {
     "name": "stderr",
     "output_type": "stream",
     "text": [
      "Epoch #597: 1030it [00:01, 564.51it/s, env_step=614910, len=14, n/ep=1, n/st=10, player_1/loss=69.038, player_2/loss=120.343, rew=208.00]\n"
     ]
    },
    {
     "name": "stdout",
     "output_type": "stream",
     "text": [
      "Epoch #597: test_reward: 64.200000 ± 15.580757, best_reward: 236.000000 ± 68.439755 in #586\n"
     ]
    },
    {
     "name": "stderr",
     "output_type": "stream",
     "text": [
      "Epoch #598: 1030it [00:01, 543.46it/s, env_step=615940, len=7, n/ep=0, n/st=10, player_1/loss=197.206, player_2/loss=112.135, rew=59.33]\n"
     ]
    },
    {
     "name": "stdout",
     "output_type": "stream",
     "text": [
      "Epoch #598: test_reward: 80.500000 ± 79.500000, best_reward: 236.000000 ± 68.439755 in #586\n"
     ]
    },
    {
     "name": "stderr",
     "output_type": "stream",
     "text": [
      "Epoch #599: 1030it [00:02, 507.77it/s, env_step=616970, len=7, n/ep=1, n/st=10, player_1/loss=101.772, player_2/loss=101.485, rew=54.00]\n"
     ]
    },
    {
     "name": "stdout",
     "output_type": "stream",
     "text": [
      "Epoch #599: test_reward: 64.200000 ± 15.580757, best_reward: 236.000000 ± 68.439755 in #586\n"
     ]
    },
    {
     "name": "stderr",
     "output_type": "stream",
     "text": [
      "Epoch #600: 1030it [00:01, 527.14it/s, env_step=618000, len=36, n/ep=0, n/st=10, player_1/loss=79.221, player_2/loss=92.242, rew=247.00]\n"
     ]
    },
    {
     "name": "stdout",
     "output_type": "stream",
     "text": [
      "Epoch #600: test_reward: -1431.300000 ± 4478.586742, best_reward: 236.000000 ± 68.439755 in #586\n"
     ]
    },
    {
     "name": "stderr",
     "output_type": "stream",
     "text": [
      "Epoch #601: 1030it [00:01, 528.99it/s, env_step=619030, len=9, n/ep=0, n/st=10, player_1/loss=177.213, player_2/loss=143.398, rew=88.00]\n"
     ]
    },
    {
     "name": "stdout",
     "output_type": "stream",
     "text": [
      "Epoch #601: test_reward: 69.300000 ± 25.377352, best_reward: 236.000000 ± 68.439755 in #586\n"
     ]
    },
    {
     "name": "stderr",
     "output_type": "stream",
     "text": [
      "Epoch #602: 1030it [00:02, 503.49it/s, env_step=620060, len=7, n/ep=0, n/st=10, player_1/loss=81.572, player_2/loss=168.476, rew=54.00]\n"
     ]
    },
    {
     "name": "stdout",
     "output_type": "stream",
     "text": [
      "Epoch #602: test_reward: -1203.600000 ± 3123.228945, best_reward: 236.000000 ± 68.439755 in #586\n"
     ]
    },
    {
     "name": "stderr",
     "output_type": "stream",
     "text": [
      "Epoch #603: 1030it [00:02, 509.46it/s, env_step=621090, len=14, n/ep=0, n/st=10, player_1/loss=75.926, player_2/loss=133.765, rew=208.00]\n"
     ]
    },
    {
     "name": "stdout",
     "output_type": "stream",
     "text": [
      "Epoch #603: test_reward: 107.300000 ± 284.535428, best_reward: 236.000000 ± 68.439755 in #586\n"
     ]
    },
    {
     "name": "stderr",
     "output_type": "stream",
     "text": [
      "Epoch #604: 1030it [00:02, 505.87it/s, env_step=622120, len=61, n/ep=0, n/st=10, player_1/loss=79.368, player_2/loss=174.026, rew=607.00]\n"
     ]
    },
    {
     "name": "stdout",
     "output_type": "stream",
     "text": [
      "Epoch #604: test_reward: -1.100000 ± 604.256973, best_reward: 236.000000 ± 68.439755 in #586\n"
     ]
    },
    {
     "name": "stderr",
     "output_type": "stream",
     "text": [
      "Epoch #605: 1030it [00:01, 545.96it/s, env_step=623150, len=14, n/ep=0, n/st=10, player_1/loss=86.887, player_2/loss=132.706, rew=208.00]\n"
     ]
    },
    {
     "name": "stdout",
     "output_type": "stream",
     "text": [
      "Epoch #605: test_reward: 126.400000 ± 133.290060, best_reward: 236.000000 ± 68.439755 in #586\n"
     ]
    },
    {
     "name": "stderr",
     "output_type": "stream",
     "text": [
      "Epoch #606: 1030it [00:02, 479.84it/s, env_step=624180, len=114, n/ep=1, n/st=10, player_1/loss=134.104, player_2/loss=197.142, rew=1360.00]\n"
     ]
    },
    {
     "name": "stdout",
     "output_type": "stream",
     "text": [
      "Epoch #606: test_reward: -5113.500000 ± 15170.069276, best_reward: 236.000000 ± 68.439755 in #586\n"
     ]
    },
    {
     "name": "stderr",
     "output_type": "stream",
     "text": [
      "Epoch #607: 1030it [00:02, 464.97it/s, env_step=625210, len=11, n/ep=1, n/st=10, player_1/loss=101.599, player_2/loss=199.923, rew=130.00]\n"
     ]
    },
    {
     "name": "stdout",
     "output_type": "stream",
     "text": [
      "Epoch #607: test_reward: 57.400000 ± 10.200000, best_reward: 236.000000 ± 68.439755 in #586\n"
     ]
    },
    {
     "name": "stderr",
     "output_type": "stream",
     "text": [
      "Epoch #608: 1030it [00:02, 458.04it/s, env_step=626240, len=11, n/ep=0, n/st=10, player_1/loss=147.540, player_2/loss=176.082, rew=146.00]\n"
     ]
    },
    {
     "name": "stdout",
     "output_type": "stream",
     "text": [
      "Epoch #608: test_reward: -2026.700000 ± 6276.118419, best_reward: 236.000000 ± 68.439755 in #586\n"
     ]
    },
    {
     "name": "stderr",
     "output_type": "stream",
     "text": [
      "Epoch #609: 1030it [00:02, 497.80it/s, env_step=627270, len=55, n/ep=1, n/st=10, player_1/loss=101.234, player_2/loss=75.799, rew=741.00]\n"
     ]
    },
    {
     "name": "stdout",
     "output_type": "stream",
     "text": [
      "Epoch #609: test_reward: -49872.400000 ± 71461.209244, best_reward: 236.000000 ± 68.439755 in #586\n"
     ]
    },
    {
     "name": "stderr",
     "output_type": "stream",
     "text": [
      "Epoch #610: 1030it [00:02, 485.05it/s, env_step=628300, len=7, n/ep=0, n/st=10, player_1/loss=111.393, player_2/loss=240.197, rew=54.00]\n"
     ]
    },
    {
     "name": "stdout",
     "output_type": "stream",
     "text": [
      "Epoch #610: test_reward: -14805.600000 ± 30560.312836, best_reward: 236.000000 ± 68.439755 in #586\n"
     ]
    },
    {
     "name": "stderr",
     "output_type": "stream",
     "text": [
      "Epoch #611: 1030it [00:02, 494.08it/s, env_step=629330, len=9, n/ep=0, n/st=10, player_1/loss=71.168, player_2/loss=130.218, rew=92.00]\n"
     ]
    },
    {
     "name": "stdout",
     "output_type": "stream",
     "text": [
      "Epoch #611: test_reward: -215.400000 ± 830.974873, best_reward: 236.000000 ± 68.439755 in #586\n"
     ]
    },
    {
     "name": "stderr",
     "output_type": "stream",
     "text": [
      "Epoch #612: 1030it [00:02, 467.48it/s, env_step=630360, len=7, n/ep=1, n/st=10, player_1/loss=114.551, player_2/loss=101.794, rew=54.00]\n"
     ]
    },
    {
     "name": "stdout",
     "output_type": "stream",
     "text": [
      "Epoch #612: test_reward: -3083.200000 ± 9422.938786, best_reward: 236.000000 ± 68.439755 in #586\n"
     ]
    },
    {
     "name": "stderr",
     "output_type": "stream",
     "text": [
      "Epoch #613: 1030it [00:02, 460.40it/s, env_step=631390, len=7, n/ep=0, n/st=10, player_1/loss=69.789, player_2/loss=225.208, rew=54.00]\n"
     ]
    },
    {
     "name": "stdout",
     "output_type": "stream",
     "text": [
      "Epoch #613: test_reward: 60.800000 ± 13.600000, best_reward: 236.000000 ± 68.439755 in #586\n"
     ]
    },
    {
     "name": "stderr",
     "output_type": "stream",
     "text": [
      "Epoch #614: 1030it [00:02, 461.63it/s, env_step=632420, len=43, n/ep=1, n/st=10, player_1/loss=82.325, player_2/loss=141.112, rew=423.00]\n"
     ]
    },
    {
     "name": "stdout",
     "output_type": "stream",
     "text": [
      "Epoch #614: test_reward: 57.400000 ± 10.200000, best_reward: 236.000000 ± 68.439755 in #586\n"
     ]
    },
    {
     "name": "stderr",
     "output_type": "stream",
     "text": [
      "Epoch #615: 1030it [00:02, 480.88it/s, env_step=633450, len=9, n/ep=2, n/st=10, player_1/loss=78.248, player_2/loss=122.424, rew=92.00]\n"
     ]
    },
    {
     "name": "stdout",
     "output_type": "stream",
     "text": [
      "Epoch #615: test_reward: -204.000000 ± 796.779518, best_reward: 236.000000 ± 68.439755 in #586\n"
     ]
    },
    {
     "name": "stderr",
     "output_type": "stream",
     "text": [
      "Epoch #616: 1030it [00:02, 480.37it/s, env_step=634480, len=13, n/ep=0, n/st=10, player_1/loss=64.320, player_2/loss=97.168, rew=180.00]\n"
     ]
    },
    {
     "name": "stdout",
     "output_type": "stream",
     "text": [
      "Epoch #616: test_reward: -2153.300000 ± 6621.900000, best_reward: 236.000000 ± 68.439755 in #586\n"
     ]
    },
    {
     "name": "stderr",
     "output_type": "stream",
     "text": [
      "Epoch #617: 1030it [00:02, 495.64it/s, env_step=635510, len=9, n/ep=0, n/st=10, player_1/loss=64.154, player_2/loss=180.099, rew=88.00]\n"
     ]
    },
    {
     "name": "stdout",
     "output_type": "stream",
     "text": [
      "Epoch #617: test_reward: 71.000000 ± 17.000000, best_reward: 236.000000 ± 68.439755 in #586\n"
     ]
    },
    {
     "name": "stderr",
     "output_type": "stream",
     "text": [
      "Epoch #618: 1030it [00:01, 551.61it/s, env_step=636540, len=7, n/ep=0, n/st=10, player_1/loss=53.833, player_2/loss=152.098, rew=54.00]\n"
     ]
    },
    {
     "name": "stdout",
     "output_type": "stream",
     "text": [
      "Epoch #618: test_reward: 54.000000 ± 0.000000, best_reward: 236.000000 ± 68.439755 in #586\n"
     ]
    },
    {
     "name": "stderr",
     "output_type": "stream",
     "text": [
      "Epoch #619: 1030it [00:02, 449.64it/s, env_step=637570, len=32, n/ep=1, n/st=10, player_1/loss=65.374, player_2/loss=202.442, rew=229.00]\n"
     ]
    },
    {
     "name": "stdout",
     "output_type": "stream",
     "text": [
      "Epoch #619: test_reward: -18147.200000 ± 31606.259629, best_reward: 236.000000 ± 68.439755 in #586\n"
     ]
    },
    {
     "name": "stderr",
     "output_type": "stream",
     "text": [
      "Epoch #620: 1030it [00:02, 509.77it/s, env_step=638600, len=7, n/ep=1, n/st=10, player_1/loss=88.754, player_2/loss=139.097, rew=54.00]\n"
     ]
    },
    {
     "name": "stdout",
     "output_type": "stream",
     "text": [
      "Epoch #620: test_reward: -15590.100000 ± 46954.968582, best_reward: 236.000000 ± 68.439755 in #586\n"
     ]
    },
    {
     "name": "stderr",
     "output_type": "stream",
     "text": [
      "Epoch #621: 1030it [00:01, 549.73it/s, env_step=639630, len=11, n/ep=1, n/st=10, player_1/loss=94.026, player_2/loss=103.489, rew=130.00]\n"
     ]
    },
    {
     "name": "stdout",
     "output_type": "stream",
     "text": [
      "Epoch #621: test_reward: 207.200000 ± 107.678039, best_reward: 236.000000 ± 68.439755 in #586\n"
     ]
    },
    {
     "name": "stderr",
     "output_type": "stream",
     "text": [
      "Epoch #622: 1030it [00:01, 525.31it/s, env_step=640660, len=7, n/ep=0, n/st=10, player_1/loss=76.455, player_2/loss=105.721, rew=54.00]\n"
     ]
    },
    {
     "name": "stdout",
     "output_type": "stream",
     "text": [
      "Epoch #622: test_reward: 64.200000 ± 15.580757, best_reward: 236.000000 ± 68.439755 in #586\n"
     ]
    },
    {
     "name": "stderr",
     "output_type": "stream",
     "text": [
      "Epoch #623: 1030it [00:01, 543.39it/s, env_step=641690, len=9, n/ep=2, n/st=10, player_1/loss=77.824, player_2/loss=155.090, rew=92.00]\n"
     ]
    },
    {
     "name": "stdout",
     "output_type": "stream",
     "text": [
      "Epoch #623: test_reward: -8697.100000 ± 15687.794526, best_reward: 236.000000 ± 68.439755 in #586\n"
     ]
    },
    {
     "name": "stderr",
     "output_type": "stream",
     "text": [
      "Epoch #624: 1030it [00:01, 522.67it/s, env_step=642720, len=10, n/ep=0, n/st=10, player_1/loss=138.708, player_2/loss=89.321, rew=108.00]\n"
     ]
    },
    {
     "name": "stdout",
     "output_type": "stream",
     "text": [
      "Epoch #624: test_reward: -31163.200000 ± 25892.560966, best_reward: 236.000000 ± 68.439755 in #586\n"
     ]
    },
    {
     "name": "stderr",
     "output_type": "stream",
     "text": [
      "Epoch #625: 1030it [00:01, 530.67it/s, env_step=643750, len=11, n/ep=3, n/st=10, player_1/loss=150.790, player_2/loss=120.625, rew=127.67]\n"
     ]
    },
    {
     "name": "stdout",
     "output_type": "stream",
     "text": [
      "Epoch #625: test_reward: 60.800000 ± 13.600000, best_reward: 236.000000 ± 68.439755 in #586\n"
     ]
    },
    {
     "name": "stderr",
     "output_type": "stream",
     "text": [
      "Epoch #626: 1030it [00:02, 499.23it/s, env_step=644780, len=9, n/ep=1, n/st=10, player_1/loss=84.310, player_2/loss=134.407, rew=88.00]\n"
     ]
    },
    {
     "name": "stdout",
     "output_type": "stream",
     "text": [
      "Epoch #626: test_reward: 63.200000 ± 22.771913, best_reward: 236.000000 ± 68.439755 in #586\n"
     ]
    },
    {
     "name": "stderr",
     "output_type": "stream",
     "text": [
      "Epoch #627: 1030it [00:01, 520.82it/s, env_step=645810, len=8, n/ep=3, n/st=10, player_1/loss=88.077, player_2/loss=197.482, rew=82.00] \n"
     ]
    },
    {
     "name": "stdout",
     "output_type": "stream",
     "text": [
      "Epoch #627: test_reward: 64.200000 ± 15.580757, best_reward: 236.000000 ± 68.439755 in #586\n"
     ]
    },
    {
     "name": "stderr",
     "output_type": "stream",
     "text": [
      "Epoch #628: 1030it [00:01, 578.35it/s, env_step=646840, len=84, n/ep=0, n/st=10, player_1/loss=76.555, player_2/loss=121.215, rew=913.00]\n"
     ]
    },
    {
     "name": "stdout",
     "output_type": "stream",
     "text": [
      "Epoch #628: test_reward: -17445.700000 ± 22727.855425, best_reward: 236.000000 ± 68.439755 in #586\n"
     ]
    },
    {
     "name": "stderr",
     "output_type": "stream",
     "text": [
      "Epoch #629: 1030it [00:01, 516.83it/s, env_step=647870, len=80, n/ep=1, n/st=10, player_1/loss=225.122, player_2/loss=263.309, rew=748.00]\n"
     ]
    },
    {
     "name": "stdout",
     "output_type": "stream",
     "text": [
      "Epoch #629: test_reward: -20415.000000 ± 25113.650045, best_reward: 236.000000 ± 68.439755 in #586\n"
     ]
    },
    {
     "name": "stderr",
     "output_type": "stream",
     "text": [
      "Epoch #630: 1030it [00:01, 518.57it/s, env_step=648900, len=24, n/ep=0, n/st=10, player_1/loss=312.151, player_2/loss=255.843, rew=251.50]\n"
     ]
    },
    {
     "name": "stdout",
     "output_type": "stream",
     "text": [
      "Epoch #630: test_reward: -17692.900000 ± 20607.718212, best_reward: 236.000000 ± 68.439755 in #586\n"
     ]
    },
    {
     "name": "stderr",
     "output_type": "stream",
     "text": [
      "Epoch #631: 1030it [00:01, 535.73it/s, env_step=649930, len=54, n/ep=0, n/st=10, player_1/loss=109.122, player_2/loss=112.873, rew=742.00]\n"
     ]
    },
    {
     "name": "stdout",
     "output_type": "stream",
     "text": [
      "Epoch #631: test_reward: -16488.100000 ± 19734.313509, best_reward: 236.000000 ± 68.439755 in #586\n"
     ]
    },
    {
     "name": "stderr",
     "output_type": "stream",
     "text": [
      "Epoch #632: 1030it [00:02, 459.24it/s, env_step=650960, len=9, n/ep=0, n/st=10, player_1/loss=91.584, player_2/loss=121.292, rew=88.00]\n"
     ]
    },
    {
     "name": "stdout",
     "output_type": "stream",
     "text": [
      "Epoch #632: test_reward: -32172.800000 ± 41455.739026, best_reward: 236.000000 ± 68.439755 in #586\n"
     ]
    },
    {
     "name": "stderr",
     "output_type": "stream",
     "text": [
      "Epoch #633: 1030it [00:02, 486.92it/s, env_step=651990, len=7, n/ep=0, n/st=10, player_1/loss=104.770, player_2/loss=189.676, rew=54.00]\n"
     ]
    },
    {
     "name": "stdout",
     "output_type": "stream",
     "text": [
      "Epoch #633: test_reward: -14409.500000 ± 19515.026714, best_reward: 236.000000 ± 68.439755 in #586\n"
     ]
    },
    {
     "name": "stderr",
     "output_type": "stream",
     "text": [
      "Epoch #634: 1030it [00:02, 493.47it/s, env_step=653020, len=7, n/ep=1, n/st=10, player_1/loss=89.592, player_2/loss=209.054, rew=54.00]\n"
     ]
    },
    {
     "name": "stdout",
     "output_type": "stream",
     "text": [
      "Epoch #634: test_reward: -3027.800000 ± 9290.747158, best_reward: 236.000000 ± 68.439755 in #586\n"
     ]
    },
    {
     "name": "stderr",
     "output_type": "stream",
     "text": [
      "Epoch #635: 1030it [00:01, 519.43it/s, env_step=654050, len=10, n/ep=2, n/st=10, player_1/loss=85.880, player_2/loss=296.387, rew=109.00]\n"
     ]
    },
    {
     "name": "stdout",
     "output_type": "stream",
     "text": [
      "Epoch #635: test_reward: 60.800000 ± 13.600000, best_reward: 236.000000 ± 68.439755 in #586\n"
     ]
    },
    {
     "name": "stderr",
     "output_type": "stream",
     "text": [
      "Epoch #636: 1030it [00:01, 573.61it/s, env_step=655080, len=76, n/ep=0, n/st=10, player_1/loss=91.584, player_2/loss=196.840, rew=837.00]\n"
     ]
    },
    {
     "name": "stdout",
     "output_type": "stream",
     "text": [
      "Epoch #636: test_reward: -11482.300000 ± 13033.792695, best_reward: 236.000000 ± 68.439755 in #586\n"
     ]
    },
    {
     "name": "stderr",
     "output_type": "stream",
     "text": [
      "Epoch #637: 1030it [00:01, 567.11it/s, env_step=656110, len=47, n/ep=0, n/st=10, player_1/loss=128.652, player_2/loss=189.715, rew=514.00]\n"
     ]
    },
    {
     "name": "stdout",
     "output_type": "stream",
     "text": [
      "Epoch #637: test_reward: -12507.300000 ± 12724.755723, best_reward: 236.000000 ± 68.439755 in #586\n"
     ]
    },
    {
     "name": "stderr",
     "output_type": "stream",
     "text": [
      "Epoch #638: 1030it [00:02, 481.57it/s, env_step=657140, len=7, n/ep=0, n/st=10, player_1/loss=129.727, player_2/loss=129.510, rew=54.00]\n"
     ]
    },
    {
     "name": "stdout",
     "output_type": "stream",
     "text": [
      "Epoch #638: test_reward: 64.200000 ± 15.580757, best_reward: 236.000000 ± 68.439755 in #586\n"
     ]
    },
    {
     "name": "stderr",
     "output_type": "stream",
     "text": [
      "Epoch #639: 1030it [00:01, 548.19it/s, env_step=658170, len=64, n/ep=0, n/st=10, player_1/loss=87.717, player_2/loss=139.976, rew=831.00]\n"
     ]
    },
    {
     "name": "stdout",
     "output_type": "stream",
     "text": [
      "Epoch #639: test_reward: 86.600000 ± 75.926543, best_reward: 236.000000 ± 68.439755 in #586\n"
     ]
    },
    {
     "name": "stderr",
     "output_type": "stream",
     "text": [
      "Epoch #640: 1030it [00:02, 490.95it/s, env_step=659200, len=13, n/ep=2, n/st=10, player_1/loss=145.093, player_2/loss=155.258, rew=180.00]  \n"
     ]
    },
    {
     "name": "stdout",
     "output_type": "stream",
     "text": [
      "Epoch #640: test_reward: 67.600000 ± 16.656530, best_reward: 236.000000 ± 68.439755 in #586\n"
     ]
    },
    {
     "name": "stderr",
     "output_type": "stream",
     "text": [
      "Epoch #641: 1030it [00:01, 534.90it/s, env_step=660230, len=7, n/ep=0, n/st=10, player_1/loss=147.201, player_2/loss=160.836, rew=54.00]\n"
     ]
    },
    {
     "name": "stdout",
     "output_type": "stream",
     "text": [
      "Epoch #641: test_reward: -8259.000000 ± 18475.828458, best_reward: 236.000000 ± 68.439755 in #586\n"
     ]
    },
    {
     "name": "stderr",
     "output_type": "stream",
     "text": [
      "Epoch #642: 1030it [00:01, 521.96it/s, env_step=661260, len=9, n/ep=1, n/st=10, player_1/loss=135.030, player_2/loss=98.658, rew=88.00]\n"
     ]
    },
    {
     "name": "stdout",
     "output_type": "stream",
     "text": [
      "Epoch #642: test_reward: -3196.600000 ± 7650.434931, best_reward: 236.000000 ± 68.439755 in #586\n"
     ]
    },
    {
     "name": "stderr",
     "output_type": "stream",
     "text": [
      "Epoch #643: 1030it [00:02, 514.13it/s, env_step=662290, len=46, n/ep=1, n/st=10, player_1/loss=44.763, player_2/loss=118.060, rew=1002.00]\n"
     ]
    },
    {
     "name": "stdout",
     "output_type": "stream",
     "text": [
      "Epoch #643: test_reward: 141.800000 ± 45.320635, best_reward: 236.000000 ± 68.439755 in #586\n"
     ]
    },
    {
     "name": "stderr",
     "output_type": "stream",
     "text": [
      "Epoch #644: 1030it [00:02, 494.17it/s, env_step=663320, len=45, n/ep=0, n/st=10, player_1/loss=62.027, player_2/loss=193.435, rew=553.00]\n"
     ]
    },
    {
     "name": "stdout",
     "output_type": "stream",
     "text": [
      "Epoch #644: test_reward: -887.600000 ± 2824.800000, best_reward: 236.000000 ± 68.439755 in #586\n"
     ]
    },
    {
     "name": "stderr",
     "output_type": "stream",
     "text": [
      "Epoch #645: 1030it [00:02, 485.81it/s, env_step=664350, len=47, n/ep=3, n/st=10, player_1/loss=98.614, player_2/loss=225.743, rew=712.67]\n"
     ]
    },
    {
     "name": "stdout",
     "output_type": "stream",
     "text": [
      "Epoch #645: test_reward: 64.200000 ± 15.580757, best_reward: 236.000000 ± 68.439755 in #586\n"
     ]
    },
    {
     "name": "stderr",
     "output_type": "stream",
     "text": [
      "Epoch #646: 1030it [00:02, 429.77it/s, env_step=665380, len=54, n/ep=0, n/st=10, player_1/loss=107.393, player_2/loss=227.973, rew=769.00]\n"
     ]
    },
    {
     "name": "stdout",
     "output_type": "stream",
     "text": [
      "Epoch #646: test_reward: -2872.300000 ± 8790.239178, best_reward: 236.000000 ± 68.439755 in #586\n"
     ]
    },
    {
     "name": "stderr",
     "output_type": "stream",
     "text": [
      "Epoch #647: 1030it [00:02, 425.46it/s, env_step=666410, len=9, n/ep=1, n/st=10, player_1/loss=68.414, player_2/loss=170.152, rew=88.00]\n"
     ]
    },
    {
     "name": "stdout",
     "output_type": "stream",
     "text": [
      "Epoch #647: test_reward: 103.100000 ± 92.429919, best_reward: 236.000000 ± 68.439755 in #586\n"
     ]
    },
    {
     "name": "stderr",
     "output_type": "stream",
     "text": [
      "Epoch #648: 1030it [00:02, 356.24it/s, env_step=667440, len=13, n/ep=1, n/st=10, player_1/loss=136.471, player_2/loss=124.669, rew=180.00]\n"
     ]
    },
    {
     "name": "stdout",
     "output_type": "stream",
     "text": [
      "Epoch #648: test_reward: -741.500000 ± 1758.809668, best_reward: 236.000000 ± 68.439755 in #586\n"
     ]
    },
    {
     "name": "stderr",
     "output_type": "stream",
     "text": [
      "Epoch #649: 1030it [00:02, 404.36it/s, env_step=668470, len=15, n/ep=1, n/st=10, player_1/loss=67.570, player_2/loss=141.597, rew=238.00]\n"
     ]
    },
    {
     "name": "stdout",
     "output_type": "stream",
     "text": [
      "Epoch #649: test_reward: 57.400000 ± 10.200000, best_reward: 236.000000 ± 68.439755 in #586\n"
     ]
    },
    {
     "name": "stderr",
     "output_type": "stream",
     "text": [
      "Epoch #650: 1030it [00:02, 391.23it/s, env_step=669500, len=7, n/ep=1, n/st=10, player_1/loss=83.089, player_2/loss=106.447, rew=54.00]\n"
     ]
    },
    {
     "name": "stdout",
     "output_type": "stream",
     "text": [
      "Epoch #650: test_reward: 54.000000 ± 0.000000, best_reward: 236.000000 ± 68.439755 in #586\n"
     ]
    },
    {
     "name": "stderr",
     "output_type": "stream",
     "text": [
      "Epoch #651: 1030it [00:02, 402.41it/s, env_step=670530, len=9, n/ep=1, n/st=10, player_1/loss=86.783, player_2/loss=116.184, rew=88.00]\n"
     ]
    },
    {
     "name": "stdout",
     "output_type": "stream",
     "text": [
      "Epoch #651: test_reward: 64.000000 ± 30.000000, best_reward: 236.000000 ± 68.439755 in #586\n"
     ]
    },
    {
     "name": "stderr",
     "output_type": "stream",
     "text": [
      "Epoch #652: 1030it [00:02, 410.19it/s, env_step=671560, len=8, n/ep=0, n/st=10, player_1/loss=163.474, player_2/loss=107.538, rew=70.00]\n"
     ]
    },
    {
     "name": "stdout",
     "output_type": "stream",
     "text": [
      "Epoch #652: test_reward: 65.000000 ± 23.920702, best_reward: 236.000000 ± 68.439755 in #586\n"
     ]
    },
    {
     "name": "stderr",
     "output_type": "stream",
     "text": [
      "Epoch #653: 1030it [00:02, 407.63it/s, env_step=672590, len=30, n/ep=0, n/st=10, player_1/loss=95.851, player_2/loss=374.322, rew=429.50]\n"
     ]
    },
    {
     "name": "stdout",
     "output_type": "stream",
     "text": [
      "Epoch #653: test_reward: 60.800000 ± 13.600000, best_reward: 236.000000 ± 68.439755 in #586\n"
     ]
    },
    {
     "name": "stderr",
     "output_type": "stream",
     "text": [
      "Epoch #654: 1030it [00:02, 410.83it/s, env_step=673620, len=71, n/ep=0, n/st=10, player_1/loss=66.565, player_2/loss=183.556, rew=1357.00]\n"
     ]
    },
    {
     "name": "stdout",
     "output_type": "stream",
     "text": [
      "Epoch #654: test_reward: 100.600000 ± 19.246818, best_reward: 236.000000 ± 68.439755 in #586\n"
     ]
    },
    {
     "name": "stderr",
     "output_type": "stream",
     "text": [
      "Epoch #655: 1030it [00:02, 414.04it/s, env_step=674650, len=23, n/ep=0, n/st=10, player_1/loss=62.256, player_2/loss=133.066, rew=352.00]\n"
     ]
    },
    {
     "name": "stdout",
     "output_type": "stream",
     "text": [
      "Epoch #655: test_reward: -13985.400000 ± 10722.481142, best_reward: 236.000000 ± 68.439755 in #586\n"
     ]
    },
    {
     "name": "stderr",
     "output_type": "stream",
     "text": [
      "Epoch #656: 1030it [00:02, 393.99it/s, env_step=675680, len=7, n/ep=1, n/st=10, player_1/loss=105.557, player_2/loss=214.882, rew=54.00]\n"
     ]
    },
    {
     "name": "stdout",
     "output_type": "stream",
     "text": [
      "Epoch #656: test_reward: 54.000000 ± 0.000000, best_reward: 236.000000 ± 68.439755 in #586\n"
     ]
    },
    {
     "name": "stderr",
     "output_type": "stream",
     "text": [
      "Epoch #657: 1030it [00:02, 392.91it/s, env_step=676710, len=8, n/ep=2, n/st=10, player_1/loss=94.818, player_2/loss=150.699, rew=71.00]  \n"
     ]
    },
    {
     "name": "stdout",
     "output_type": "stream",
     "text": [
      "Epoch #657: test_reward: -285.100000 ± 1040.053119, best_reward: 236.000000 ± 68.439755 in #586\n"
     ]
    },
    {
     "name": "stderr",
     "output_type": "stream",
     "text": [
      "Epoch #658: 1030it [00:02, 404.06it/s, env_step=677740, len=8, n/ep=0, n/st=10, player_1/loss=90.245, player_2/loss=159.323, rew=70.00]\n"
     ]
    },
    {
     "name": "stdout",
     "output_type": "stream",
     "text": [
      "Epoch #658: test_reward: -1196.000000 ± 3568.762895, best_reward: 236.000000 ± 68.439755 in #586\n"
     ]
    },
    {
     "name": "stderr",
     "output_type": "stream",
     "text": [
      "Epoch #659: 1030it [00:02, 392.15it/s, env_step=678770, len=11, n/ep=0, n/st=10, player_1/loss=59.642, player_2/loss=87.644, rew=145.00]\n"
     ]
    },
    {
     "name": "stdout",
     "output_type": "stream",
     "text": [
      "Epoch #659: test_reward: 106.800000 ± 36.179552, best_reward: 236.000000 ± 68.439755 in #586\n"
     ]
    },
    {
     "name": "stderr",
     "output_type": "stream",
     "text": [
      "Epoch #660: 1030it [00:02, 395.85it/s, env_step=679800, len=12, n/ep=0, n/st=10, player_1/loss=103.353, player_2/loss=144.693, rew=154.00]\n"
     ]
    },
    {
     "name": "stdout",
     "output_type": "stream",
     "text": [
      "Epoch #660: test_reward: -237.100000 ± 1366.552923, best_reward: 236.000000 ± 68.439755 in #586\n"
     ]
    },
    {
     "name": "stderr",
     "output_type": "stream",
     "text": [
      "Epoch #661: 1030it [00:02, 399.25it/s, env_step=680830, len=107, n/ep=0, n/st=10, player_1/loss=126.042, player_2/loss=205.330, rew=412.00]\n"
     ]
    },
    {
     "name": "stdout",
     "output_type": "stream",
     "text": [
      "Epoch #661: test_reward: -849.300000 ± 2154.948169, best_reward: 236.000000 ± 68.439755 in #586\n"
     ]
    },
    {
     "name": "stderr",
     "output_type": "stream",
     "text": [
      "Epoch #662: 1030it [00:02, 396.02it/s, env_step=681860, len=7, n/ep=1, n/st=10, player_1/loss=106.106, player_2/loss=207.886, rew=54.00]\n"
     ]
    },
    {
     "name": "stdout",
     "output_type": "stream",
     "text": [
      "Epoch #662: test_reward: 89.400000 ± 84.602837, best_reward: 236.000000 ± 68.439755 in #586\n"
     ]
    },
    {
     "name": "stderr",
     "output_type": "stream",
     "text": [
      "Epoch #663: 1030it [00:02, 415.76it/s, env_step=682890, len=57, n/ep=1, n/st=10, player_1/loss=156.106, player_2/loss=127.177, rew=1066.00]\n"
     ]
    },
    {
     "name": "stdout",
     "output_type": "stream",
     "text": [
      "Epoch #663: test_reward: -27949.800000 ± 64664.026606, best_reward: 236.000000 ± 68.439755 in #586\n"
     ]
    },
    {
     "name": "stderr",
     "output_type": "stream",
     "text": [
      "Epoch #664: 1030it [00:02, 420.69it/s, env_step=683920, len=9, n/ep=0, n/st=10, player_1/loss=201.699, player_2/loss=209.787, rew=88.00]\n"
     ]
    },
    {
     "name": "stdout",
     "output_type": "stream",
     "text": [
      "Epoch #664: test_reward: 54.000000 ± 0.000000, best_reward: 236.000000 ± 68.439755 in #586\n"
     ]
    },
    {
     "name": "stderr",
     "output_type": "stream",
     "text": [
      "Epoch #665: 1030it [00:02, 392.55it/s, env_step=684950, len=7, n/ep=1, n/st=10, player_1/loss=62.733, player_2/loss=209.780, rew=54.00]\n"
     ]
    },
    {
     "name": "stdout",
     "output_type": "stream",
     "text": [
      "Epoch #665: test_reward: 167.600000 ± 24.311314, best_reward: 236.000000 ± 68.439755 in #586\n"
     ]
    },
    {
     "name": "stderr",
     "output_type": "stream",
     "text": [
      "Epoch #666: 1030it [00:02, 403.28it/s, env_step=685980, len=7, n/ep=3, n/st=10, player_1/loss=61.990, player_2/loss=122.563, rew=65.33]\n"
     ]
    },
    {
     "name": "stdout",
     "output_type": "stream",
     "text": [
      "Epoch #666: test_reward: 155.800000 ± 78.645788, best_reward: 236.000000 ± 68.439755 in #586\n"
     ]
    },
    {
     "name": "stderr",
     "output_type": "stream",
     "text": [
      "Epoch #667: 1030it [00:02, 412.05it/s, env_step=687010, len=9, n/ep=1, n/st=10, player_1/loss=80.678, player_2/loss=114.804, rew=88.00]\n"
     ]
    },
    {
     "name": "stdout",
     "output_type": "stream",
     "text": [
      "Epoch #667: test_reward: -7616.500000 ± 5073.533823, best_reward: 236.000000 ± 68.439755 in #586\n"
     ]
    },
    {
     "name": "stderr",
     "output_type": "stream",
     "text": [
      "Epoch #668: 1030it [00:02, 433.67it/s, env_step=688040, len=13, n/ep=1, n/st=10, player_1/loss=185.534, player_2/loss=170.602, rew=180.00]\n"
     ]
    },
    {
     "name": "stdout",
     "output_type": "stream",
     "text": [
      "Epoch #668: test_reward: -4760.200000 ± 9146.519511, best_reward: 236.000000 ± 68.439755 in #586\n"
     ]
    },
    {
     "name": "stderr",
     "output_type": "stream",
     "text": [
      "Epoch #669: 1030it [00:02, 398.02it/s, env_step=689070, len=17, n/ep=0, n/st=10, player_1/loss=109.720, player_2/loss=163.429, rew=295.00]\n"
     ]
    },
    {
     "name": "stdout",
     "output_type": "stream",
     "text": [
      "Epoch #669: test_reward: 122.100000 ± 46.243810, best_reward: 236.000000 ± 68.439755 in #586\n"
     ]
    },
    {
     "name": "stderr",
     "output_type": "stream",
     "text": [
      "Epoch #670: 1030it [00:02, 432.75it/s, env_step=690100, len=106, n/ep=0, n/st=10, player_1/loss=83.601, player_2/loss=189.455, rew=1329.00]\n"
     ]
    },
    {
     "name": "stdout",
     "output_type": "stream",
     "text": [
      "Epoch #670: test_reward: 138.400000 ± 170.394366, best_reward: 236.000000 ± 68.439755 in #586\n"
     ]
    },
    {
     "name": "stderr",
     "output_type": "stream",
     "text": [
      "Epoch #671: 1030it [00:01, 575.57it/s, env_step=691130, len=120, n/ep=1, n/st=10, player_1/loss=90.303, player_2/loss=186.045, rew=10.00]\n"
     ]
    },
    {
     "name": "stdout",
     "output_type": "stream",
     "text": [
      "Epoch #671: test_reward: -2195.400000 ± 6210.914541, best_reward: 236.000000 ± 68.439755 in #586\n"
     ]
    },
    {
     "name": "stderr",
     "output_type": "stream",
     "text": [
      "Epoch #672: 1030it [00:01, 573.47it/s, env_step=692160, len=12, n/ep=0, n/st=10, player_1/loss=117.374, player_2/loss=227.825, rew=154.00]\n"
     ]
    },
    {
     "name": "stdout",
     "output_type": "stream",
     "text": [
      "Epoch #672: test_reward: -3063.000000 ± 8014.388274, best_reward: 236.000000 ± 68.439755 in #586\n"
     ]
    },
    {
     "name": "stderr",
     "output_type": "stream",
     "text": [
      "Epoch #673: 1030it [00:02, 479.49it/s, env_step=693190, len=9, n/ep=1, n/st=10, player_1/loss=53.570, player_2/loss=122.311, rew=88.00]\n"
     ]
    },
    {
     "name": "stdout",
     "output_type": "stream",
     "text": [
      "Epoch #673: test_reward: -44.400000 ± 902.832343, best_reward: 236.000000 ± 68.439755 in #586\n"
     ]
    },
    {
     "name": "stderr",
     "output_type": "stream",
     "text": [
      "Epoch #674: 1030it [00:01, 548.40it/s, env_step=694220, len=15, n/ep=0, n/st=10, player_1/loss=73.239, player_2/loss=98.579, rew=238.00]\n"
     ]
    },
    {
     "name": "stdout",
     "output_type": "stream",
     "text": [
      "Epoch #674: test_reward: 132.600000 ± 36.442283, best_reward: 236.000000 ± 68.439755 in #586\n"
     ]
    },
    {
     "name": "stderr",
     "output_type": "stream",
     "text": [
      "Epoch #675: 1030it [00:01, 551.68it/s, env_step=695250, len=12, n/ep=1, n/st=10, player_1/loss=72.485, player_2/loss=131.651, rew=154.00]\n"
     ]
    },
    {
     "name": "stdout",
     "output_type": "stream",
     "text": [
      "Epoch #675: test_reward: 143.800000 ± 64.196262, best_reward: 236.000000 ± 68.439755 in #586\n"
     ]
    },
    {
     "name": "stderr",
     "output_type": "stream",
     "text": [
      "Epoch #676: 1030it [00:01, 567.36it/s, env_step=696280, len=35, n/ep=1, n/st=10, player_1/loss=84.435, player_2/loss=155.477, rew=190.00]\n"
     ]
    },
    {
     "name": "stdout",
     "output_type": "stream",
     "text": [
      "Epoch #676: test_reward: 60.800000 ± 13.600000, best_reward: 236.000000 ± 68.439755 in #586\n"
     ]
    },
    {
     "name": "stderr",
     "output_type": "stream",
     "text": [
      "Epoch #677: 1030it [00:01, 555.06it/s, env_step=697310, len=15, n/ep=1, n/st=10, player_1/loss=90.535, player_2/loss=183.780, rew=238.00]\n"
     ]
    },
    {
     "name": "stdout",
     "output_type": "stream",
     "text": [
      "Epoch #677: test_reward: 54.000000 ± 0.000000, best_reward: 236.000000 ± 68.439755 in #586\n"
     ]
    },
    {
     "name": "stderr",
     "output_type": "stream",
     "text": [
      "Epoch #678: 1030it [00:01, 548.22it/s, env_step=698340, len=11, n/ep=0, n/st=10, player_1/loss=110.590, player_2/loss=127.397, rew=130.00]\n"
     ]
    },
    {
     "name": "stdout",
     "output_type": "stream",
     "text": [
      "Epoch #678: test_reward: 151.600000 ± 70.986196, best_reward: 236.000000 ± 68.439755 in #586\n"
     ]
    },
    {
     "name": "stderr",
     "output_type": "stream",
     "text": [
      "Epoch #679: 1030it [00:01, 563.36it/s, env_step=699370, len=9, n/ep=0, n/st=10, player_1/loss=74.142, player_2/loss=113.105, rew=88.00]\n"
     ]
    },
    {
     "name": "stdout",
     "output_type": "stream",
     "text": [
      "Epoch #679: test_reward: 216.700000 ± 488.100000, best_reward: 236.000000 ± 68.439755 in #586\n"
     ]
    },
    {
     "name": "stderr",
     "output_type": "stream",
     "text": [
      "Epoch #680: 1030it [00:01, 565.82it/s, env_step=700400, len=34, n/ep=0, n/st=10, player_1/loss=84.205, player_2/loss=161.499, rew=585.00]\n"
     ]
    },
    {
     "name": "stdout",
     "output_type": "stream",
     "text": [
      "Epoch #680: test_reward: -1437.300000 ± 2622.755652, best_reward: 236.000000 ± 68.439755 in #586\n"
     ]
    },
    {
     "name": "stderr",
     "output_type": "stream",
     "text": [
      "Epoch #681: 1030it [00:01, 567.03it/s, env_step=701430, len=9, n/ep=0, n/st=10, player_1/loss=126.870, player_2/loss=172.894, rew=88.00]\n"
     ]
    },
    {
     "name": "stdout",
     "output_type": "stream",
     "text": [
      "Epoch #681: test_reward: 64.200000 ± 15.580757, best_reward: 236.000000 ± 68.439755 in #586\n"
     ]
    },
    {
     "name": "stderr",
     "output_type": "stream",
     "text": [
      "Epoch #682: 1030it [00:01, 569.81it/s, env_step=702460, len=7, n/ep=1, n/st=10, player_1/loss=173.516, player_2/loss=97.279, rew=54.00]\n"
     ]
    },
    {
     "name": "stdout",
     "output_type": "stream",
     "text": [
      "Epoch #682: test_reward: 60.800000 ± 13.600000, best_reward: 236.000000 ± 68.439755 in #586\n"
     ]
    },
    {
     "name": "stderr",
     "output_type": "stream",
     "text": [
      "Epoch #683: 1030it [00:01, 572.37it/s, env_step=703490, len=11, n/ep=2, n/st=10, player_1/loss=104.202, player_2/loss=208.606, rew=146.00]\n"
     ]
    },
    {
     "name": "stdout",
     "output_type": "stream",
     "text": [
      "Epoch #683: test_reward: 54.000000 ± 0.000000, best_reward: 236.000000 ± 68.439755 in #586\n"
     ]
    },
    {
     "name": "stderr",
     "output_type": "stream",
     "text": [
      "Epoch #684: 1030it [00:01, 583.52it/s, env_step=704520, len=9, n/ep=1, n/st=10, player_1/loss=66.243, player_2/loss=173.027, rew=88.00]\n"
     ]
    },
    {
     "name": "stdout",
     "output_type": "stream",
     "text": [
      "Epoch #684: test_reward: -8304.300000 ± 15531.406492, best_reward: 236.000000 ± 68.439755 in #586\n"
     ]
    },
    {
     "name": "stderr",
     "output_type": "stream",
     "text": [
      "Epoch #685: 1030it [00:01, 573.53it/s, env_step=705550, len=9, n/ep=0, n/st=10, player_1/loss=108.492, player_2/loss=154.751, rew=88.00]\n"
     ]
    },
    {
     "name": "stdout",
     "output_type": "stream",
     "text": [
      "Epoch #685: test_reward: 54.000000 ± 0.000000, best_reward: 236.000000 ± 68.439755 in #586\n"
     ]
    },
    {
     "name": "stderr",
     "output_type": "stream",
     "text": [
      "Epoch #686: 1030it [00:01, 580.66it/s, env_step=706580, len=7, n/ep=3, n/st=10, player_1/loss=58.120, player_2/loss=137.605, rew=54.00]\n"
     ]
    },
    {
     "name": "stdout",
     "output_type": "stream",
     "text": [
      "Epoch #686: test_reward: -451.200000 ± 1590.246321, best_reward: 236.000000 ± 68.439755 in #586\n"
     ]
    },
    {
     "name": "stderr",
     "output_type": "stream",
     "text": [
      "Epoch #687: 1030it [00:01, 587.52it/s, env_step=707610, len=19, n/ep=1, n/st=10, player_1/loss=74.767, player_2/loss=113.980, rew=252.00]\n"
     ]
    },
    {
     "name": "stdout",
     "output_type": "stream",
     "text": [
      "Epoch #687: test_reward: -4839.600000 ± 8257.380568, best_reward: 236.000000 ± 68.439755 in #586\n"
     ]
    },
    {
     "name": "stderr",
     "output_type": "stream",
     "text": [
      "Epoch #688: 1030it [00:01, 585.56it/s, env_step=708640, len=12, n/ep=0, n/st=10, player_1/loss=164.234, player_2/loss=149.229, rew=154.67]\n"
     ]
    },
    {
     "name": "stdout",
     "output_type": "stream",
     "text": [
      "Epoch #688: test_reward: 85.600000 ± 23.268863, best_reward: 236.000000 ± 68.439755 in #586\n"
     ]
    },
    {
     "name": "stderr",
     "output_type": "stream",
     "text": [
      "Epoch #689: 1030it [00:01, 576.37it/s, env_step=709670, len=13, n/ep=0, n/st=10, player_1/loss=56.417, player_2/loss=130.028, rew=180.00]\n"
     ]
    },
    {
     "name": "stdout",
     "output_type": "stream",
     "text": [
      "Epoch #689: test_reward: -95.100000 ± 814.511197, best_reward: 236.000000 ± 68.439755 in #586\n"
     ]
    },
    {
     "name": "stderr",
     "output_type": "stream",
     "text": [
      "Epoch #690: 1030it [00:01, 577.02it/s, env_step=710700, len=11, n/ep=0, n/st=10, player_1/loss=53.779, player_2/loss=168.694, rew=130.00]\n"
     ]
    },
    {
     "name": "stdout",
     "output_type": "stream",
     "text": [
      "Epoch #690: test_reward: 91.500000 ± 90.828685, best_reward: 236.000000 ± 68.439755 in #586\n"
     ]
    },
    {
     "name": "stderr",
     "output_type": "stream",
     "text": [
      "Epoch #691: 1030it [00:01, 563.53it/s, env_step=711730, len=43, n/ep=0, n/st=10, player_1/loss=63.939, player_2/loss=137.670, rew=921.00]\n"
     ]
    },
    {
     "name": "stdout",
     "output_type": "stream",
     "text": [
      "Epoch #691: test_reward: 148.800000 ± 34.689480, best_reward: 236.000000 ± 68.439755 in #586\n"
     ]
    },
    {
     "name": "stderr",
     "output_type": "stream",
     "text": [
      "Epoch #692: 1030it [00:01, 521.91it/s, env_step=712760, len=14, n/ep=0, n/st=10, player_1/loss=87.430, player_2/loss=137.458, rew=209.00]\n"
     ]
    },
    {
     "name": "stdout",
     "output_type": "stream",
     "text": [
      "Epoch #692: test_reward: -13281.200000 ± 16808.533451, best_reward: 236.000000 ± 68.439755 in #586\n"
     ]
    },
    {
     "name": "stderr",
     "output_type": "stream",
     "text": [
      "Epoch #693: 1030it [00:02, 493.28it/s, env_step=713790, len=9, n/ep=1, n/st=10, player_1/loss=75.790, player_2/loss=190.859, rew=88.00]\n"
     ]
    },
    {
     "name": "stdout",
     "output_type": "stream",
     "text": [
      "Epoch #693: test_reward: 185.800000 ± 17.400000, best_reward: 236.000000 ± 68.439755 in #586\n"
     ]
    },
    {
     "name": "stderr",
     "output_type": "stream",
     "text": [
      "Epoch #694: 1030it [00:02, 483.83it/s, env_step=714820, len=8, n/ep=1, n/st=10, player_1/loss=97.717, player_2/loss=175.165, rew=70.00]\n"
     ]
    },
    {
     "name": "stdout",
     "output_type": "stream",
     "text": [
      "Epoch #694: test_reward: 76.400000 ± 33.272211, best_reward: 236.000000 ± 68.439755 in #586\n"
     ]
    },
    {
     "name": "stderr",
     "output_type": "stream",
     "text": [
      "Epoch #695: 1030it [00:02, 484.59it/s, env_step=715850, len=71, n/ep=1, n/st=10, player_1/loss=107.809, player_2/loss=214.818, rew=367.00]\n"
     ]
    },
    {
     "name": "stdout",
     "output_type": "stream",
     "text": [
      "Epoch #695: test_reward: 60.800000 ± 13.600000, best_reward: 236.000000 ± 68.439755 in #586\n"
     ]
    },
    {
     "name": "stderr",
     "output_type": "stream",
     "text": [
      "Epoch #696: 1030it [00:02, 447.74it/s, env_step=716880, len=17, n/ep=0, n/st=10, player_1/loss=86.373, player_2/loss=275.448, rew=304.00]\n"
     ]
    },
    {
     "name": "stdout",
     "output_type": "stream",
     "text": [
      "Epoch #696: test_reward: 189.400000 ± 30.725234, best_reward: 236.000000 ± 68.439755 in #586\n"
     ]
    },
    {
     "name": "stderr",
     "output_type": "stream",
     "text": [
      "Epoch #697: 1030it [00:02, 494.89it/s, env_step=717910, len=43, n/ep=1, n/st=10, player_1/loss=79.470, player_2/loss=115.217, rew=657.00]\n"
     ]
    },
    {
     "name": "stdout",
     "output_type": "stream",
     "text": [
      "Epoch #697: test_reward: 57.400000 ± 10.200000, best_reward: 236.000000 ± 68.439755 in #586\n"
     ]
    },
    {
     "name": "stderr",
     "output_type": "stream",
     "text": [
      "Epoch #698: 1030it [00:01, 553.07it/s, env_step=718940, len=15, n/ep=0, n/st=10, player_1/loss=140.057, player_2/loss=225.220, rew=238.00]\n"
     ]
    },
    {
     "name": "stdout",
     "output_type": "stream",
     "text": [
      "Epoch #698: test_reward: 222.300000 ± 161.442281, best_reward: 236.000000 ± 68.439755 in #586\n"
     ]
    },
    {
     "name": "stderr",
     "output_type": "stream",
     "text": [
      "Epoch #699: 1030it [00:01, 531.38it/s, env_step=719970, len=7, n/ep=0, n/st=10, player_1/loss=91.696, player_2/loss=181.810, rew=54.00]\n"
     ]
    },
    {
     "name": "stdout",
     "output_type": "stream",
     "text": [
      "Epoch #699: test_reward: 64.200000 ± 15.580757, best_reward: 236.000000 ± 68.439755 in #586\n"
     ]
    },
    {
     "name": "stderr",
     "output_type": "stream",
     "text": [
      "Epoch #700: 1030it [00:02, 454.29it/s, env_step=721000, len=24, n/ep=0, n/st=10, player_1/loss=190.155, player_2/loss=155.754, rew=345.50]\n"
     ]
    },
    {
     "name": "stdout",
     "output_type": "stream",
     "text": [
      "Epoch #700: test_reward: -12686.100000 ± 17626.270170, best_reward: 236.000000 ± 68.439755 in #586\n"
     ]
    },
    {
     "name": "stderr",
     "output_type": "stream",
     "text": [
      "Epoch #701: 1030it [00:02, 451.42it/s, env_step=722030, len=9, n/ep=2, n/st=10, player_1/loss=299.870, player_2/loss=255.259, rew=88.00]\n"
     ]
    },
    {
     "name": "stdout",
     "output_type": "stream",
     "text": [
      "Epoch #701: test_reward: -20.400000 ± 246.232086, best_reward: 236.000000 ± 68.439755 in #586\n"
     ]
    },
    {
     "name": "stderr",
     "output_type": "stream",
     "text": [
      "Epoch #702: 1030it [00:02, 468.97it/s, env_step=723060, len=9, n/ep=0, n/st=10, player_1/loss=178.572, player_2/loss=306.291, rew=92.00]\n"
     ]
    },
    {
     "name": "stdout",
     "output_type": "stream",
     "text": [
      "Epoch #702: test_reward: 57.400000 ± 10.200000, best_reward: 236.000000 ± 68.439755 in #586\n"
     ]
    },
    {
     "name": "stderr",
     "output_type": "stream",
     "text": [
      "Epoch #703: 1030it [00:02, 456.03it/s, env_step=724090, len=8, n/ep=2, n/st=10, player_1/loss=182.980, player_2/loss=196.928, rew=71.00]\n"
     ]
    },
    {
     "name": "stdout",
     "output_type": "stream",
     "text": [
      "Epoch #703: test_reward: 64.200000 ± 15.580757, best_reward: 236.000000 ± 68.439755 in #586\n"
     ]
    },
    {
     "name": "stderr",
     "output_type": "stream",
     "text": [
      "Epoch #704: 1030it [00:02, 446.13it/s, env_step=725120, len=69, n/ep=1, n/st=10, player_1/loss=115.153, player_2/loss=230.918, rew=898.00]\n"
     ]
    },
    {
     "name": "stdout",
     "output_type": "stream",
     "text": [
      "Epoch #704: test_reward: 67.600000 ± 16.656530, best_reward: 236.000000 ± 68.439755 in #586\n"
     ]
    },
    {
     "name": "stderr",
     "output_type": "stream",
     "text": [
      "Epoch #705: 1030it [00:02, 456.25it/s, env_step=726150, len=18, n/ep=1, n/st=10, player_1/loss=85.664, player_2/loss=211.954, rew=319.00]\n"
     ]
    },
    {
     "name": "stdout",
     "output_type": "stream",
     "text": [
      "Epoch #705: test_reward: -1861.600000 ± 4378.164346, best_reward: 236.000000 ± 68.439755 in #586\n"
     ]
    },
    {
     "name": "stderr",
     "output_type": "stream",
     "text": [
      "Epoch #706: 1030it [00:02, 471.93it/s, env_step=727180, len=15, n/ep=3, n/st=10, player_1/loss=76.136, player_2/loss=206.062, rew=216.67]\n"
     ]
    },
    {
     "name": "stdout",
     "output_type": "stream",
     "text": [
      "Epoch #706: test_reward: -495.700000 ± 1702.849967, best_reward: 236.000000 ± 68.439755 in #586\n"
     ]
    },
    {
     "name": "stderr",
     "output_type": "stream",
     "text": [
      "Epoch #707: 1030it [00:02, 488.31it/s, env_step=728210, len=12, n/ep=0, n/st=10, player_1/loss=34.964, player_2/loss=141.424, rew=154.00]\n"
     ]
    },
    {
     "name": "stdout",
     "output_type": "stream",
     "text": [
      "Epoch #707: test_reward: 142.600000 ± 47.983747, best_reward: 236.000000 ± 68.439755 in #586\n"
     ]
    },
    {
     "name": "stderr",
     "output_type": "stream",
     "text": [
      "Epoch #708: 1030it [00:02, 489.78it/s, env_step=729240, len=82, n/ep=1, n/st=10, player_1/loss=93.610, player_2/loss=120.401, rew=693.00]\n"
     ]
    },
    {
     "name": "stdout",
     "output_type": "stream",
     "text": [
      "Epoch #708: test_reward: -641.500000 ± 2564.137565, best_reward: 236.000000 ± 68.439755 in #586\n"
     ]
    },
    {
     "name": "stderr",
     "output_type": "stream",
     "text": [
      "Epoch #709: 1030it [00:02, 381.05it/s, env_step=730270, len=9, n/ep=1, n/st=10, player_1/loss=87.890, player_2/loss=128.055, rew=88.00]\n"
     ]
    },
    {
     "name": "stdout",
     "output_type": "stream",
     "text": [
      "Epoch #709: test_reward: 77.200000 ± 8.818163, best_reward: 236.000000 ± 68.439755 in #586\n"
     ]
    },
    {
     "name": "stderr",
     "output_type": "stream",
     "text": [
      "Epoch #710: 1030it [00:02, 481.75it/s, env_step=731300, len=30, n/ep=0, n/st=10, player_1/loss=118.163, player_2/loss=207.943, rew=511.00]\n"
     ]
    },
    {
     "name": "stdout",
     "output_type": "stream",
     "text": [
      "Epoch #710: test_reward: -12901.000000 ± 10684.494157, best_reward: 236.000000 ± 68.439755 in #586\n"
     ]
    },
    {
     "name": "stderr",
     "output_type": "stream",
     "text": [
      "Epoch #711: 1030it [00:01, 538.72it/s, env_step=732330, len=16, n/ep=1, n/st=10, player_1/loss=124.330, player_2/loss=168.997, rew=270.00]\n"
     ]
    },
    {
     "name": "stdout",
     "output_type": "stream",
     "text": [
      "Epoch #711: test_reward: 90.800000 ± 18.594623, best_reward: 236.000000 ± 68.439755 in #586\n"
     ]
    },
    {
     "name": "stderr",
     "output_type": "stream",
     "text": [
      "Epoch #712: 1030it [00:01, 530.19it/s, env_step=733360, len=7, n/ep=0, n/st=10, player_1/loss=36.439, player_2/loss=139.468, rew=54.00]\n"
     ]
    },
    {
     "name": "stdout",
     "output_type": "stream",
     "text": [
      "Epoch #712: test_reward: 235.400000 ± 134.637439, best_reward: 236.000000 ± 68.439755 in #586\n"
     ]
    },
    {
     "name": "stderr",
     "output_type": "stream",
     "text": [
      "Epoch #713: 1030it [00:02, 480.78it/s, env_step=734390, len=7, n/ep=0, n/st=10, player_1/loss=81.871, player_2/loss=115.184, rew=54.00]\n"
     ]
    },
    {
     "name": "stdout",
     "output_type": "stream",
     "text": [
      "Epoch #713: test_reward: -1405.500000 ± 5129.265079, best_reward: 236.000000 ± 68.439755 in #586\n"
     ]
    },
    {
     "name": "stderr",
     "output_type": "stream",
     "text": [
      "Epoch #714: 1030it [00:01, 517.10it/s, env_step=735420, len=10, n/ep=2, n/st=10, player_1/loss=92.734, player_2/loss=160.723, rew=109.00]\n"
     ]
    },
    {
     "name": "stdout",
     "output_type": "stream",
     "text": [
      "Epoch #714: test_reward: 100.600000 ± 19.246818, best_reward: 236.000000 ± 68.439755 in #586\n"
     ]
    },
    {
     "name": "stderr",
     "output_type": "stream",
     "text": [
      "Epoch #715: 1030it [00:02, 505.82it/s, env_step=736450, len=7, n/ep=1, n/st=10, player_1/loss=52.845, player_2/loss=122.045, rew=54.00]\n"
     ]
    },
    {
     "name": "stdout",
     "output_type": "stream",
     "text": [
      "Epoch #715: test_reward: 179.600000 ± 82.125757, best_reward: 236.000000 ± 68.439755 in #586\n"
     ]
    },
    {
     "name": "stderr",
     "output_type": "stream",
     "text": [
      "Epoch #716: 1030it [00:01, 518.68it/s, env_step=737480, len=9, n/ep=0, n/st=10, player_1/loss=116.136, player_2/loss=163.352, rew=88.00]\n"
     ]
    },
    {
     "name": "stdout",
     "output_type": "stream",
     "text": [
      "Epoch #716: test_reward: 69.400000 ± 19.494615, best_reward: 236.000000 ± 68.439755 in #586\n"
     ]
    },
    {
     "name": "stderr",
     "output_type": "stream",
     "text": [
      "Epoch #717: 1030it [00:01, 539.96it/s, env_step=738510, len=22, n/ep=2, n/st=10, player_1/loss=91.264, player_2/loss=130.658, rew=376.50]\n"
     ]
    },
    {
     "name": "stdout",
     "output_type": "stream",
     "text": [
      "Epoch #717: test_reward: 59.000000 ± 10.779610, best_reward: 236.000000 ± 68.439755 in #586\n"
     ]
    },
    {
     "name": "stderr",
     "output_type": "stream",
     "text": [
      "Epoch #718: 1030it [00:02, 502.40it/s, env_step=739540, len=7, n/ep=1, n/st=10, player_1/loss=112.607, player_2/loss=195.071, rew=54.00]  \n"
     ]
    },
    {
     "name": "stdout",
     "output_type": "stream",
     "text": [
      "Epoch #718: test_reward: 60.800000 ± 13.600000, best_reward: 236.000000 ± 68.439755 in #586\n"
     ]
    },
    {
     "name": "stderr",
     "output_type": "stream",
     "text": [
      "Epoch #719: 1030it [00:01, 540.40it/s, env_step=740570, len=14, n/ep=1, n/st=10, player_1/loss=73.390, player_2/loss=121.064, rew=208.00]\n"
     ]
    },
    {
     "name": "stdout",
     "output_type": "stream",
     "text": [
      "Epoch #719: test_reward: 96.500000 ± 38.296867, best_reward: 236.000000 ± 68.439755 in #586\n"
     ]
    },
    {
     "name": "stderr",
     "output_type": "stream",
     "text": [
      "Epoch #720: 1030it [00:01, 546.63it/s, env_step=741600, len=11, n/ep=2, n/st=10, player_1/loss=71.920, player_2/loss=163.016, rew=142.00]\n"
     ]
    },
    {
     "name": "stdout",
     "output_type": "stream",
     "text": [
      "Epoch #720: test_reward: -383.300000 ± 1323.272160, best_reward: 236.000000 ± 68.439755 in #586\n"
     ]
    },
    {
     "name": "stderr",
     "output_type": "stream",
     "text": [
      "Epoch #721: 1030it [00:02, 441.29it/s, env_step=742630, len=9, n/ep=1, n/st=10, player_1/loss=85.270, player_2/loss=174.970, rew=88.00]\n"
     ]
    },
    {
     "name": "stdout",
     "output_type": "stream",
     "text": [
      "Epoch #721: test_reward: -1824.700000 ± 5954.629964, best_reward: 236.000000 ± 68.439755 in #586\n"
     ]
    },
    {
     "name": "stderr",
     "output_type": "stream",
     "text": [
      "Epoch #722: 1030it [00:02, 508.00it/s, env_step=743660, len=9, n/ep=0, n/st=10, player_1/loss=126.436, player_2/loss=150.273, rew=88.00]\n"
     ]
    },
    {
     "name": "stdout",
     "output_type": "stream",
     "text": [
      "Epoch #722: test_reward: -5741.400000 ± 6558.827505, best_reward: 236.000000 ± 68.439755 in #586\n"
     ]
    },
    {
     "name": "stderr",
     "output_type": "stream",
     "text": [
      "Epoch #723: 1030it [00:02, 508.71it/s, env_step=744690, len=9, n/ep=0, n/st=10, player_1/loss=92.383, player_2/loss=184.832, rew=88.00]\n"
     ]
    },
    {
     "name": "stdout",
     "output_type": "stream",
     "text": [
      "Epoch #723: test_reward: -1283.400000 ± 4729.913978, best_reward: 236.000000 ± 68.439755 in #586\n"
     ]
    },
    {
     "name": "stderr",
     "output_type": "stream",
     "text": [
      "Epoch #724: 1030it [00:02, 510.82it/s, env_step=745720, len=9, n/ep=0, n/st=10, player_1/loss=109.187, player_2/loss=141.181, rew=88.00]\n"
     ]
    },
    {
     "name": "stdout",
     "output_type": "stream",
     "text": [
      "Epoch #724: test_reward: 64.200000 ± 15.580757, best_reward: 236.000000 ± 68.439755 in #586\n"
     ]
    },
    {
     "name": "stderr",
     "output_type": "stream",
     "text": [
      "Epoch #725: 1030it [00:02, 474.90it/s, env_step=746750, len=7, n/ep=1, n/st=10, player_1/loss=90.048, player_2/loss=159.653, rew=54.00]\n"
     ]
    },
    {
     "name": "stdout",
     "output_type": "stream",
     "text": [
      "Epoch #725: test_reward: -1897.200000 ± 3622.170117, best_reward: 236.000000 ± 68.439755 in #586\n"
     ]
    },
    {
     "name": "stderr",
     "output_type": "stream",
     "text": [
      "Epoch #726: 1030it [00:02, 460.00it/s, env_step=747780, len=11, n/ep=0, n/st=10, player_1/loss=92.995, player_2/loss=226.134, rew=130.00]\n"
     ]
    },
    {
     "name": "stdout",
     "output_type": "stream",
     "text": [
      "Epoch #726: test_reward: -60788.600000 ± 125721.650807, best_reward: 236.000000 ± 68.439755 in #586\n"
     ]
    },
    {
     "name": "stderr",
     "output_type": "stream",
     "text": [
      "Epoch #727: 1030it [00:02, 463.28it/s, env_step=748810, len=65, n/ep=1, n/st=10, player_1/loss=94.758, player_2/loss=243.279, rew=640.00]\n"
     ]
    },
    {
     "name": "stdout",
     "output_type": "stream",
     "text": [
      "Epoch #727: test_reward: 361.200000 ± 403.586868, best_reward: 361.200000 ± 403.586868 in #727\n"
     ]
    },
    {
     "name": "stderr",
     "output_type": "stream",
     "text": [
      "Epoch #728: 1030it [00:02, 492.88it/s, env_step=749840, len=19, n/ep=2, n/st=10, player_1/loss=282.170, player_2/loss=240.673, rew=378.00]\n"
     ]
    },
    {
     "name": "stdout",
     "output_type": "stream",
     "text": [
      "Epoch #728: test_reward: 197.000000 ± 213.718039, best_reward: 361.200000 ± 403.586868 in #727\n"
     ]
    },
    {
     "name": "stderr",
     "output_type": "stream",
     "text": [
      "Epoch #729: 1030it [00:01, 536.92it/s, env_step=750870, len=14, n/ep=1, n/st=10, player_1/loss=122.416, player_2/loss=226.199, rew=208.00]\n"
     ]
    },
    {
     "name": "stdout",
     "output_type": "stream",
     "text": [
      "Epoch #729: test_reward: 160.600000 ± 55.993214, best_reward: 361.200000 ± 403.586868 in #727\n"
     ]
    },
    {
     "name": "stderr",
     "output_type": "stream",
     "text": [
      "Epoch #730: 1030it [00:02, 497.21it/s, env_step=751900, len=9, n/ep=1, n/st=10, player_1/loss=139.632, player_2/loss=126.608, rew=88.00]\n"
     ]
    },
    {
     "name": "stdout",
     "output_type": "stream",
     "text": [
      "Epoch #730: test_reward: -288.000000 ± 1048.752402, best_reward: 361.200000 ± 403.586868 in #727\n"
     ]
    },
    {
     "name": "stderr",
     "output_type": "stream",
     "text": [
      "Epoch #731: 1030it [00:01, 517.30it/s, env_step=752930, len=7, n/ep=0, n/st=10, player_1/loss=113.794, player_2/loss=175.889, rew=54.00]\n"
     ]
    },
    {
     "name": "stdout",
     "output_type": "stream",
     "text": [
      "Epoch #731: test_reward: 64.200000 ± 15.580757, best_reward: 361.200000 ± 403.586868 in #727\n"
     ]
    },
    {
     "name": "stderr",
     "output_type": "stream",
     "text": [
      "Epoch #732: 1030it [00:01, 515.42it/s, env_step=753960, len=16, n/ep=0, n/st=10, player_1/loss=104.623, player_2/loss=203.624, rew=270.00]\n"
     ]
    },
    {
     "name": "stdout",
     "output_type": "stream",
     "text": [
      "Epoch #732: test_reward: 96.800000 ± 216.316805, best_reward: 361.200000 ± 403.586868 in #727\n"
     ]
    },
    {
     "name": "stderr",
     "output_type": "stream",
     "text": [
      "Epoch #733: 1030it [00:01, 545.67it/s, env_step=754990, len=15, n/ep=0, n/st=10, player_1/loss=92.888, player_2/loss=161.834, rew=238.00]\n"
     ]
    },
    {
     "name": "stdout",
     "output_type": "stream",
     "text": [
      "Epoch #733: test_reward: 141.500000 ± 161.767271, best_reward: 361.200000 ± 403.586868 in #727\n"
     ]
    },
    {
     "name": "stderr",
     "output_type": "stream",
     "text": [
      "Epoch #734: 1030it [00:01, 517.76it/s, env_step=756020, len=52, n/ep=0, n/st=10, player_1/loss=144.127, player_2/loss=157.252, rew=126.50]\n"
     ]
    },
    {
     "name": "stdout",
     "output_type": "stream",
     "text": [
      "Epoch #734: test_reward: 154.200000 ± 37.952075, best_reward: 361.200000 ± 403.586868 in #727\n"
     ]
    },
    {
     "name": "stderr",
     "output_type": "stream",
     "text": [
      "Epoch #735: 1030it [00:01, 566.10it/s, env_step=757050, len=47, n/ep=0, n/st=10, player_1/loss=107.650, player_2/loss=163.308, rew=487.00]\n"
     ]
    },
    {
     "name": "stdout",
     "output_type": "stream",
     "text": [
      "Epoch #735: test_reward: 140.400000 ± 50.878679, best_reward: 361.200000 ± 403.586868 in #727\n"
     ]
    },
    {
     "name": "stderr",
     "output_type": "stream",
     "text": [
      "Epoch #736: 1030it [00:02, 514.51it/s, env_step=758080, len=146, n/ep=1, n/st=10, player_1/loss=183.000, player_2/loss=282.555, rew=-1592.00]\n"
     ]
    },
    {
     "name": "stdout",
     "output_type": "stream",
     "text": [
      "Epoch #736: test_reward: -298.100000 ± 1186.415648, best_reward: 361.200000 ± 403.586868 in #727\n"
     ]
    },
    {
     "name": "stderr",
     "output_type": "stream",
     "text": [
      "Epoch #737: 1030it [00:01, 560.75it/s, env_step=759110, len=9, n/ep=2, n/st=10, player_1/loss=103.554, player_2/loss=154.852, rew=88.00]\n"
     ]
    },
    {
     "name": "stdout",
     "output_type": "stream",
     "text": [
      "Epoch #737: test_reward: -617.100000 ± 2047.356464, best_reward: 361.200000 ± 403.586868 in #727\n"
     ]
    },
    {
     "name": "stderr",
     "output_type": "stream",
     "text": [
      "Epoch #738: 1030it [00:01, 559.90it/s, env_step=760140, len=54, n/ep=0, n/st=10, player_1/loss=80.871, player_2/loss=164.314, rew=416.00]\n"
     ]
    },
    {
     "name": "stdout",
     "output_type": "stream",
     "text": [
      "Epoch #738: test_reward: -7415.300000 ± 7992.417945, best_reward: 361.200000 ± 403.586868 in #727\n"
     ]
    },
    {
     "name": "stderr",
     "output_type": "stream",
     "text": [
      "Epoch #739: 1030it [00:01, 538.81it/s, env_step=761170, len=7, n/ep=1, n/st=10, player_1/loss=159.584, player_2/loss=123.808, rew=54.00]\n"
     ]
    },
    {
     "name": "stdout",
     "output_type": "stream",
     "text": [
      "Epoch #739: test_reward: -198.300000 ± 518.009662, best_reward: 361.200000 ± 403.586868 in #727\n"
     ]
    },
    {
     "name": "stderr",
     "output_type": "stream",
     "text": [
      "Epoch #740: 1030it [00:01, 538.68it/s, env_step=762200, len=7, n/ep=0, n/st=10, player_1/loss=166.094, player_2/loss=153.531, rew=54.00]\n"
     ]
    },
    {
     "name": "stdout",
     "output_type": "stream",
     "text": [
      "Epoch #740: test_reward: -15317.800000 ± 20557.608668, best_reward: 361.200000 ± 403.586868 in #727\n"
     ]
    },
    {
     "name": "stderr",
     "output_type": "stream",
     "text": [
      "Epoch #741: 1030it [00:01, 532.98it/s, env_step=763230, len=26, n/ep=0, n/st=10, player_1/loss=79.911, player_2/loss=238.842, rew=313.00]\n"
     ]
    },
    {
     "name": "stdout",
     "output_type": "stream",
     "text": [
      "Epoch #741: test_reward: -7146.500000 ± 11285.159611, best_reward: 361.200000 ± 403.586868 in #727\n"
     ]
    },
    {
     "name": "stderr",
     "output_type": "stream",
     "text": [
      "Epoch #742: 1030it [00:02, 462.23it/s, env_step=764260, len=9, n/ep=1, n/st=10, player_1/loss=173.167, player_2/loss=287.406, rew=88.00]\n"
     ]
    },
    {
     "name": "stdout",
     "output_type": "stream",
     "text": [
      "Epoch #742: test_reward: 260.800000 ± 155.233888, best_reward: 361.200000 ± 403.586868 in #727\n"
     ]
    },
    {
     "name": "stderr",
     "output_type": "stream",
     "text": [
      "Epoch #743: 1030it [00:02, 442.44it/s, env_step=765290, len=11, n/ep=0, n/st=10, player_1/loss=162.817, player_2/loss=122.590, rew=130.00]\n"
     ]
    },
    {
     "name": "stdout",
     "output_type": "stream",
     "text": [
      "Epoch #743: test_reward: 65.000000 ± 23.920702, best_reward: 361.200000 ± 403.586868 in #727\n"
     ]
    },
    {
     "name": "stderr",
     "output_type": "stream",
     "text": [
      "Epoch #744: 1030it [00:02, 425.24it/s, env_step=766320, len=20, n/ep=0, n/st=10, player_1/loss=75.605, player_2/loss=128.870, rew=364.00]\n"
     ]
    },
    {
     "name": "stdout",
     "output_type": "stream",
     "text": [
      "Epoch #744: test_reward: 253.400000 ± 127.298233, best_reward: 361.200000 ± 403.586868 in #727\n"
     ]
    },
    {
     "name": "stderr",
     "output_type": "stream",
     "text": [
      "Epoch #745: 1030it [00:02, 496.91it/s, env_step=767350, len=10, n/ep=0, n/st=10, player_1/loss=146.719, player_2/loss=117.896, rew=117.00]\n"
     ]
    },
    {
     "name": "stdout",
     "output_type": "stream",
     "text": [
      "Epoch #745: test_reward: 134.800000 ± 40.081916, best_reward: 361.200000 ± 403.586868 in #727\n"
     ]
    },
    {
     "name": "stderr",
     "output_type": "stream",
     "text": [
      "Epoch #746: 1030it [00:02, 511.64it/s, env_step=768380, len=15, n/ep=1, n/st=10, player_1/loss=50.392, player_2/loss=137.890, rew=238.00]\n"
     ]
    },
    {
     "name": "stdout",
     "output_type": "stream",
     "text": [
      "Epoch #746: test_reward: 278.800000 ± 49.219508, best_reward: 361.200000 ± 403.586868 in #727\n"
     ]
    },
    {
     "name": "stderr",
     "output_type": "stream",
     "text": [
      "Epoch #747: 1030it [00:02, 514.37it/s, env_step=769410, len=29, n/ep=0, n/st=10, player_1/loss=71.975, player_2/loss=137.953, rew=210.00]\n"
     ]
    },
    {
     "name": "stdout",
     "output_type": "stream",
     "text": [
      "Epoch #747: test_reward: 61.600000 ± 22.800000, best_reward: 361.200000 ± 403.586868 in #727\n"
     ]
    },
    {
     "name": "stderr",
     "output_type": "stream",
     "text": [
      "Epoch #748: 1030it [00:02, 468.74it/s, env_step=770440, len=10, n/ep=0, n/st=10, player_1/loss=127.155, player_2/loss=111.572, rew=108.00]\n"
     ]
    },
    {
     "name": "stdout",
     "output_type": "stream",
     "text": [
      "Epoch #748: test_reward: -14429.400000 ± 20188.474659, best_reward: 361.200000 ± 403.586868 in #727\n"
     ]
    },
    {
     "name": "stderr",
     "output_type": "stream",
     "text": [
      "Epoch #749: 1030it [00:01, 518.03it/s, env_step=771470, len=14, n/ep=0, n/st=10, player_1/loss=108.914, player_2/loss=132.310, rew=212.00]\n"
     ]
    },
    {
     "name": "stdout",
     "output_type": "stream",
     "text": [
      "Epoch #749: test_reward: 43.000000 ± 68.703712, best_reward: 361.200000 ± 403.586868 in #727\n"
     ]
    },
    {
     "name": "stderr",
     "output_type": "stream",
     "text": [
      "Epoch #750: 1030it [00:02, 448.50it/s, env_step=772500, len=18, n/ep=3, n/st=10, player_1/loss=109.845, player_2/loss=125.612, rew=363.33]\n"
     ]
    },
    {
     "name": "stdout",
     "output_type": "stream",
     "text": [
      "Epoch #750: test_reward: -233.100000 ± 884.068374, best_reward: 361.200000 ± 403.586868 in #727\n"
     ]
    },
    {
     "name": "stderr",
     "output_type": "stream",
     "text": [
      "Epoch #751: 1030it [00:02, 497.99it/s, env_step=773530, len=11, n/ep=1, n/st=10, player_1/loss=111.763, player_2/loss=127.506, rew=130.00]\n"
     ]
    },
    {
     "name": "stdout",
     "output_type": "stream",
     "text": [
      "Epoch #751: test_reward: 121.600000 ± 16.800000, best_reward: 361.200000 ± 403.586868 in #727\n"
     ]
    },
    {
     "name": "stderr",
     "output_type": "stream",
     "text": [
      "Epoch #752: 1030it [00:01, 545.24it/s, env_step=774560, len=11, n/ep=0, n/st=10, player_1/loss=79.754, player_2/loss=97.313, rew=130.00]\n"
     ]
    },
    {
     "name": "stdout",
     "output_type": "stream",
     "text": [
      "Epoch #752: test_reward: -5150.300000 ± 11862.062098, best_reward: 361.200000 ± 403.586868 in #727\n"
     ]
    },
    {
     "name": "stderr",
     "output_type": "stream",
     "text": [
      "Epoch #753: 1030it [00:01, 535.24it/s, env_step=775590, len=7, n/ep=0, n/st=10, player_1/loss=86.675, player_2/loss=138.771, rew=54.00]\n"
     ]
    },
    {
     "name": "stdout",
     "output_type": "stream",
     "text": [
      "Epoch #753: test_reward: 82.000000 ± 22.072607, best_reward: 361.200000 ± 403.586868 in #727\n"
     ]
    },
    {
     "name": "stderr",
     "output_type": "stream",
     "text": [
      "Epoch #754: 1030it [00:01, 544.80it/s, env_step=776620, len=15, n/ep=1, n/st=10, player_1/loss=70.577, player_2/loss=90.974, rew=238.00]\n"
     ]
    },
    {
     "name": "stdout",
     "output_type": "stream",
     "text": [
      "Epoch #754: test_reward: 46.100000 ± 258.681445, best_reward: 361.200000 ± 403.586868 in #727\n"
     ]
    },
    {
     "name": "stderr",
     "output_type": "stream",
     "text": [
      "Epoch #755: 1030it [00:02, 458.44it/s, env_step=777650, len=37, n/ep=2, n/st=10, player_1/loss=75.980, player_2/loss=121.003, rew=631.50]\n"
     ]
    },
    {
     "name": "stdout",
     "output_type": "stream",
     "text": [
      "Epoch #755: test_reward: 551.100000 ± 570.461471, best_reward: 551.100000 ± 570.461471 in #755\n"
     ]
    },
    {
     "name": "stderr",
     "output_type": "stream",
     "text": [
      "Epoch #756: 1030it [00:02, 505.46it/s, env_step=778680, len=60, n/ep=1, n/st=10, player_1/loss=72.431, player_2/loss=104.090, rew=1150.00]\n"
     ]
    },
    {
     "name": "stdout",
     "output_type": "stream",
     "text": [
      "Epoch #756: test_reward: -17186.200000 ± 15159.850288, best_reward: 551.100000 ± 570.461471 in #755\n"
     ]
    },
    {
     "name": "stderr",
     "output_type": "stream",
     "text": [
      "Epoch #757: 1030it [00:02, 495.63it/s, env_step=779710, len=33, n/ep=0, n/st=10, player_1/loss=100.860, player_2/loss=144.926, rew=805.00]\n"
     ]
    },
    {
     "name": "stdout",
     "output_type": "stream",
     "text": [
      "Epoch #757: test_reward: -32705.100000 ± 32953.385806, best_reward: 551.100000 ± 570.461471 in #755\n"
     ]
    },
    {
     "name": "stderr",
     "output_type": "stream",
     "text": [
      "Epoch #758: 1030it [00:02, 479.37it/s, env_step=780740, len=64, n/ep=1, n/st=10, player_1/loss=113.339, player_2/loss=154.860, rew=1107.00]\n"
     ]
    },
    {
     "name": "stdout",
     "output_type": "stream",
     "text": [
      "Epoch #758: test_reward: -3460.200000 ± 7077.831558, best_reward: 551.100000 ± 570.461471 in #755\n"
     ]
    },
    {
     "name": "stderr",
     "output_type": "stream",
     "text": [
      "Epoch #759: 1030it [00:01, 528.83it/s, env_step=781770, len=7, n/ep=0, n/st=10, player_1/loss=94.119, player_2/loss=148.260, rew=54.00]\n"
     ]
    },
    {
     "name": "stdout",
     "output_type": "stream",
     "text": [
      "Epoch #759: test_reward: 65.000000 ± 23.920702, best_reward: 551.100000 ± 570.461471 in #755\n"
     ]
    },
    {
     "name": "stderr",
     "output_type": "stream",
     "text": [
      "Epoch #760: 1030it [00:01, 542.42it/s, env_step=782800, len=14, n/ep=0, n/st=10, player_1/loss=117.497, player_2/loss=175.496, rew=208.00]\n"
     ]
    },
    {
     "name": "stdout",
     "output_type": "stream",
     "text": [
      "Epoch #760: test_reward: 572.300000 ± 451.483566, best_reward: 572.300000 ± 451.483566 in #760\n"
     ]
    },
    {
     "name": "stderr",
     "output_type": "stream",
     "text": [
      "Epoch #761: 1030it [00:01, 555.74it/s, env_step=783830, len=33, n/ep=0, n/st=10, player_1/loss=214.679, player_2/loss=219.266, rew=676.00]\n"
     ]
    },
    {
     "name": "stdout",
     "output_type": "stream",
     "text": [
      "Epoch #761: test_reward: 165.200000 ± 49.503131, best_reward: 572.300000 ± 451.483566 in #760\n"
     ]
    },
    {
     "name": "stderr",
     "output_type": "stream",
     "text": [
      "Epoch #762: 1030it [00:02, 513.18it/s, env_step=784860, len=15, n/ep=0, n/st=10, player_1/loss=116.393, player_2/loss=190.316, rew=242.00]\n"
     ]
    },
    {
     "name": "stdout",
     "output_type": "stream",
     "text": [
      "Epoch #762: test_reward: -34056.200000 ± 37009.152070, best_reward: 572.300000 ± 451.483566 in #760\n"
     ]
    },
    {
     "name": "stderr",
     "output_type": "stream",
     "text": [
      "Epoch #763: 1030it [00:02, 500.75it/s, env_step=785890, len=75, n/ep=0, n/st=10, player_1/loss=148.717, player_2/loss=337.622, rew=2326.00]\n"
     ]
    },
    {
     "name": "stdout",
     "output_type": "stream",
     "text": [
      "Epoch #763: test_reward: -8671.800000 ± 9140.478640, best_reward: 572.300000 ± 451.483566 in #760\n"
     ]
    },
    {
     "name": "stderr",
     "output_type": "stream",
     "text": [
      "Epoch #764: 1030it [00:02, 460.48it/s, env_step=786920, len=10, n/ep=2, n/st=10, player_1/loss=145.221, player_2/loss=168.694, rew=131.00]\n"
     ]
    },
    {
     "name": "stdout",
     "output_type": "stream",
     "text": [
      "Epoch #764: test_reward: 90.000000 ± 75.147854, best_reward: 572.300000 ± 451.483566 in #760\n"
     ]
    },
    {
     "name": "stderr",
     "output_type": "stream",
     "text": [
      "Epoch #765: 1030it [00:01, 525.22it/s, env_step=787950, len=15, n/ep=0, n/st=10, player_1/loss=159.209, player_2/loss=231.835, rew=238.00]\n"
     ]
    },
    {
     "name": "stdout",
     "output_type": "stream",
     "text": [
      "Epoch #765: test_reward: 73.400000 ± 37.979468, best_reward: 572.300000 ± 451.483566 in #760\n"
     ]
    },
    {
     "name": "stderr",
     "output_type": "stream",
     "text": [
      "Epoch #766: 1030it [00:02, 501.50it/s, env_step=788980, len=14, n/ep=1, n/st=10, player_1/loss=101.956, player_2/loss=186.589, rew=208.00]\n"
     ]
    },
    {
     "name": "stdout",
     "output_type": "stream",
     "text": [
      "Epoch #766: test_reward: 166.600000 ± 51.969607, best_reward: 572.300000 ± 451.483566 in #760\n"
     ]
    },
    {
     "name": "stderr",
     "output_type": "stream",
     "text": [
      "Epoch #767: 1030it [00:02, 498.37it/s, env_step=790010, len=9, n/ep=0, n/st=10, player_1/loss=90.288, player_2/loss=148.053, rew=88.00]\n"
     ]
    },
    {
     "name": "stdout",
     "output_type": "stream",
     "text": [
      "Epoch #767: test_reward: 178.600000 ± 98.374997, best_reward: 572.300000 ± 451.483566 in #760\n"
     ]
    },
    {
     "name": "stderr",
     "output_type": "stream",
     "text": [
      "Epoch #768: 1030it [00:01, 521.07it/s, env_step=791040, len=11, n/ep=1, n/st=10, player_1/loss=95.330, player_2/loss=155.434, rew=130.00]\n"
     ]
    },
    {
     "name": "stdout",
     "output_type": "stream",
     "text": [
      "Epoch #768: test_reward: -13.800000 ± 1054.976095, best_reward: 572.300000 ± 451.483566 in #760\n"
     ]
    },
    {
     "name": "stderr",
     "output_type": "stream",
     "text": [
      "Epoch #769: 1030it [00:01, 561.84it/s, env_step=792070, len=104, n/ep=0, n/st=10, player_1/loss=167.087, player_2/loss=157.828, rew=1300.00]\n"
     ]
    },
    {
     "name": "stdout",
     "output_type": "stream",
     "text": [
      "Epoch #769: test_reward: 64.200000 ± 15.580757, best_reward: 572.300000 ± 451.483566 in #760\n"
     ]
    },
    {
     "name": "stderr",
     "output_type": "stream",
     "text": [
      "Epoch #770: 1030it [00:01, 523.21it/s, env_step=793100, len=35, n/ep=1, n/st=10, player_1/loss=124.006, player_2/loss=160.685, rew=508.00]\n"
     ]
    },
    {
     "name": "stdout",
     "output_type": "stream",
     "text": [
      "Epoch #770: test_reward: 60.800000 ± 13.600000, best_reward: 572.300000 ± 451.483566 in #760\n"
     ]
    },
    {
     "name": "stderr",
     "output_type": "stream",
     "text": [
      "Epoch #771: 1030it [00:01, 558.24it/s, env_step=794130, len=17, n/ep=0, n/st=10, player_1/loss=139.067, player_2/loss=187.870, rew=274.00]\n"
     ]
    },
    {
     "name": "stdout",
     "output_type": "stream",
     "text": [
      "Epoch #771: test_reward: -708.200000 ± 2536.855132, best_reward: 572.300000 ± 451.483566 in #760\n"
     ]
    },
    {
     "name": "stderr",
     "output_type": "stream",
     "text": [
      "Epoch #772: 1030it [00:01, 558.18it/s, env_step=795160, len=9, n/ep=0, n/st=10, player_1/loss=147.748, player_2/loss=148.791, rew=88.00]\n"
     ]
    },
    {
     "name": "stdout",
     "output_type": "stream",
     "text": [
      "Epoch #772: test_reward: 197.600000 ± 30.249628, best_reward: 572.300000 ± 451.483566 in #760\n"
     ]
    },
    {
     "name": "stderr",
     "output_type": "stream",
     "text": [
      "Epoch #773: 1030it [00:01, 558.40it/s, env_step=796190, len=7, n/ep=1, n/st=10, player_1/loss=119.727, player_2/loss=183.723, rew=54.00]\n"
     ]
    },
    {
     "name": "stdout",
     "output_type": "stream",
     "text": [
      "Epoch #773: test_reward: -402.400000 ± 1017.378415, best_reward: 572.300000 ± 451.483566 in #760\n"
     ]
    },
    {
     "name": "stderr",
     "output_type": "stream",
     "text": [
      "Epoch #774: 1030it [00:01, 522.79it/s, env_step=797220, len=11, n/ep=0, n/st=10, player_1/loss=132.930, player_2/loss=109.816, rew=130.00]\n"
     ]
    },
    {
     "name": "stdout",
     "output_type": "stream",
     "text": [
      "Epoch #774: test_reward: -6914.500000 ± 7999.787550, best_reward: 572.300000 ± 451.483566 in #760\n"
     ]
    },
    {
     "name": "stderr",
     "output_type": "stream",
     "text": [
      "Epoch #775: 1030it [00:01, 546.14it/s, env_step=798250, len=8, n/ep=0, n/st=10, player_1/loss=184.547, player_2/loss=212.408, rew=71.00]\n"
     ]
    },
    {
     "name": "stdout",
     "output_type": "stream",
     "text": [
      "Epoch #775: test_reward: 243.600000 ± 48.930972, best_reward: 572.300000 ± 451.483566 in #760\n"
     ]
    },
    {
     "name": "stderr",
     "output_type": "stream",
     "text": [
      "Epoch #776: 1030it [00:01, 526.98it/s, env_step=799280, len=9, n/ep=1, n/st=10, player_1/loss=85.783, player_2/loss=131.107, rew=88.00]\n"
     ]
    },
    {
     "name": "stdout",
     "output_type": "stream",
     "text": [
      "Epoch #776: test_reward: 173.000000 ± 104.480620, best_reward: 572.300000 ± 451.483566 in #760\n"
     ]
    },
    {
     "name": "stderr",
     "output_type": "stream",
     "text": [
      "Epoch #777: 1030it [00:01, 556.75it/s, env_step=800310, len=22, n/ep=0, n/st=10, player_1/loss=103.568, player_2/loss=160.559, rew=443.50]\n"
     ]
    },
    {
     "name": "stdout",
     "output_type": "stream",
     "text": [
      "Epoch #777: test_reward: -17770.800000 ± 14424.273096, best_reward: 572.300000 ± 451.483566 in #760\n"
     ]
    },
    {
     "name": "stderr",
     "output_type": "stream",
     "text": [
      "Epoch #778: 1030it [00:01, 537.08it/s, env_step=801340, len=11, n/ep=0, n/st=10, player_1/loss=84.588, player_2/loss=147.066, rew=130.00]\n"
     ]
    },
    {
     "name": "stdout",
     "output_type": "stream",
     "text": [
      "Epoch #778: test_reward: -40943.000000 ± 83893.481016, best_reward: 572.300000 ± 451.483566 in #760\n"
     ]
    },
    {
     "name": "stderr",
     "output_type": "stream",
     "text": [
      "Epoch #779: 1030it [00:01, 552.03it/s, env_step=802370, len=49, n/ep=0, n/st=10, player_1/loss=127.658, player_2/loss=451.817, rew=822.00]\n"
     ]
    },
    {
     "name": "stdout",
     "output_type": "stream",
     "text": [
      "Epoch #779: test_reward: -5335.900000 ± 7893.140395, best_reward: 572.300000 ± 451.483566 in #760\n"
     ]
    },
    {
     "name": "stderr",
     "output_type": "stream",
     "text": [
      "Epoch #780: 1030it [00:01, 564.02it/s, env_step=803400, len=11, n/ep=2, n/st=10, player_1/loss=187.287, player_2/loss=302.115, rew=131.00]\n"
     ]
    },
    {
     "name": "stdout",
     "output_type": "stream",
     "text": [
      "Epoch #780: test_reward: 92.200000 ± 12.600000, best_reward: 572.300000 ± 451.483566 in #760\n"
     ]
    },
    {
     "name": "stderr",
     "output_type": "stream",
     "text": [
      "Epoch #781: 1030it [00:01, 560.67it/s, env_step=804430, len=16, n/ep=0, n/st=10, player_1/loss=111.755, player_2/loss=202.669, rew=254.50]\n"
     ]
    },
    {
     "name": "stdout",
     "output_type": "stream",
     "text": [
      "Epoch #781: test_reward: -3536.000000 ± 6871.912398, best_reward: 572.300000 ± 451.483566 in #760\n"
     ]
    },
    {
     "name": "stderr",
     "output_type": "stream",
     "text": [
      "Epoch #782: 1030it [00:01, 575.14it/s, env_step=805460, len=46, n/ep=0, n/st=10, player_1/loss=72.476, player_2/loss=171.225, rew=624.00]\n"
     ]
    },
    {
     "name": "stdout",
     "output_type": "stream",
     "text": [
      "Epoch #782: test_reward: 60.800000 ± 13.600000, best_reward: 572.300000 ± 451.483566 in #760\n"
     ]
    },
    {
     "name": "stderr",
     "output_type": "stream",
     "text": [
      "Epoch #783: 1030it [00:01, 574.46it/s, env_step=806490, len=18, n/ep=0, n/st=10, player_1/loss=130.612, player_2/loss=298.193, rew=340.00]\n"
     ]
    },
    {
     "name": "stdout",
     "output_type": "stream",
     "text": [
      "Epoch #783: test_reward: -9780.900000 ± 18835.615527, best_reward: 572.300000 ± 451.483566 in #760\n"
     ]
    },
    {
     "name": "stderr",
     "output_type": "stream",
     "text": [
      "Epoch #784: 1030it [00:01, 525.03it/s, env_step=807520, len=45, n/ep=1, n/st=10, player_1/loss=99.280, player_2/loss=166.752, rew=1015.00]\n"
     ]
    },
    {
     "name": "stdout",
     "output_type": "stream",
     "text": [
      "Epoch #784: test_reward: -7124.000000 ± 20784.371706, best_reward: 572.300000 ± 451.483566 in #760\n"
     ]
    },
    {
     "name": "stderr",
     "output_type": "stream",
     "text": [
      "Epoch #785: 1030it [00:01, 516.14it/s, env_step=808550, len=9, n/ep=0, n/st=10, player_1/loss=127.463, player_2/loss=144.858, rew=88.00]\n"
     ]
    },
    {
     "name": "stdout",
     "output_type": "stream",
     "text": [
      "Epoch #785: test_reward: -600.200000 ± 1841.195199, best_reward: 572.300000 ± 451.483566 in #760\n"
     ]
    },
    {
     "name": "stderr",
     "output_type": "stream",
     "text": [
      "Epoch #786: 1030it [00:02, 436.19it/s, env_step=809580, len=9, n/ep=1, n/st=10, player_1/loss=103.124, player_2/loss=208.826, rew=88.00]\n"
     ]
    },
    {
     "name": "stdout",
     "output_type": "stream",
     "text": [
      "Epoch #786: test_reward: -5905.000000 ± 9232.552182, best_reward: 572.300000 ± 451.483566 in #760\n"
     ]
    },
    {
     "name": "stderr",
     "output_type": "stream",
     "text": [
      "Epoch #787: 1030it [00:02, 495.67it/s, env_step=810610, len=11, n/ep=1, n/st=10, player_1/loss=84.860, player_2/loss=153.785, rew=130.00]\n"
     ]
    },
    {
     "name": "stdout",
     "output_type": "stream",
     "text": [
      "Epoch #787: test_reward: 217.000000 ± 52.369839, best_reward: 572.300000 ± 451.483566 in #760\n"
     ]
    },
    {
     "name": "stderr",
     "output_type": "stream",
     "text": [
      "Epoch #788: 1030it [00:02, 469.05it/s, env_step=811640, len=69, n/ep=1, n/st=10, player_1/loss=144.109, player_2/loss=158.403, rew=1483.00]\n"
     ]
    },
    {
     "name": "stdout",
     "output_type": "stream",
     "text": [
      "Epoch #788: test_reward: 170.000000 ± 20.000000, best_reward: 572.300000 ± 451.483566 in #760\n"
     ]
    },
    {
     "name": "stderr",
     "output_type": "stream",
     "text": [
      "Epoch #789: 1030it [00:02, 401.82it/s, env_step=812670, len=13, n/ep=0, n/st=10, player_1/loss=123.368, player_2/loss=141.072, rew=180.00]\n"
     ]
    },
    {
     "name": "stdout",
     "output_type": "stream",
     "text": [
      "Epoch #789: test_reward: 91.200000 ± 187.390928, best_reward: 572.300000 ± 451.483566 in #760\n"
     ]
    },
    {
     "name": "stderr",
     "output_type": "stream",
     "text": [
      "Epoch #790: 1030it [00:02, 470.92it/s, env_step=813700, len=12, n/ep=0, n/st=10, player_1/loss=145.011, player_2/loss=146.550, rew=154.00]\n"
     ]
    },
    {
     "name": "stdout",
     "output_type": "stream",
     "text": [
      "Epoch #790: test_reward: 152.600000 ± 46.087308, best_reward: 572.300000 ± 451.483566 in #760\n"
     ]
    },
    {
     "name": "stderr",
     "output_type": "stream",
     "text": [
      "Epoch #791: 1030it [00:02, 505.09it/s, env_step=814730, len=9, n/ep=0, n/st=10, player_1/loss=133.831, player_2/loss=133.949, rew=88.00]\n"
     ]
    },
    {
     "name": "stdout",
     "output_type": "stream",
     "text": [
      "Epoch #791: test_reward: 135.000000 ± 15.000000, best_reward: 572.300000 ± 451.483566 in #760\n"
     ]
    },
    {
     "name": "stderr",
     "output_type": "stream",
     "text": [
      "Epoch #792: 1030it [00:02, 480.10it/s, env_step=815760, len=14, n/ep=0, n/st=10, player_1/loss=114.404, player_2/loss=147.221, rew=208.00]\n"
     ]
    },
    {
     "name": "stdout",
     "output_type": "stream",
     "text": [
      "Epoch #792: test_reward: 140.000000 ± 20.000000, best_reward: 572.300000 ± 451.483566 in #760\n"
     ]
    },
    {
     "name": "stderr",
     "output_type": "stream",
     "text": [
      "Epoch #793: 1030it [00:02, 411.83it/s, env_step=816790, len=9, n/ep=1, n/st=10, player_1/loss=141.602, player_2/loss=103.832, rew=88.00]\n"
     ]
    },
    {
     "name": "stdout",
     "output_type": "stream",
     "text": [
      "Epoch #793: test_reward: 137.400000 ± 15.900943, best_reward: 572.300000 ± 451.483566 in #760\n"
     ]
    },
    {
     "name": "stderr",
     "output_type": "stream",
     "text": [
      "Epoch #794: 1030it [00:02, 470.58it/s, env_step=817820, len=9, n/ep=0, n/st=10, player_1/loss=158.364, player_2/loss=144.475, rew=88.00]\n"
     ]
    },
    {
     "name": "stdout",
     "output_type": "stream",
     "text": [
      "Epoch #794: test_reward: 68.200000 ± 22.297085, best_reward: 572.300000 ± 451.483566 in #760\n"
     ]
    },
    {
     "name": "stderr",
     "output_type": "stream",
     "text": [
      "Epoch #795: 1030it [00:02, 475.26it/s, env_step=818850, len=11, n/ep=0, n/st=10, player_1/loss=182.958, player_2/loss=196.261, rew=132.67]\n"
     ]
    },
    {
     "name": "stdout",
     "output_type": "stream",
     "text": [
      "Epoch #795: test_reward: 98.800000 ± 22.256684, best_reward: 572.300000 ± 451.483566 in #760\n"
     ]
    },
    {
     "name": "stderr",
     "output_type": "stream",
     "text": [
      "Epoch #796: 1030it [00:01, 539.10it/s, env_step=819880, len=9, n/ep=0, n/st=10, player_1/loss=159.513, player_2/loss=176.840, rew=92.00]\n"
     ]
    },
    {
     "name": "stdout",
     "output_type": "stream",
     "text": [
      "Epoch #796: test_reward: 97.500000 ± 75.552962, best_reward: 572.300000 ± 451.483566 in #760\n"
     ]
    },
    {
     "name": "stderr",
     "output_type": "stream",
     "text": [
      "Epoch #797: 1030it [00:01, 531.66it/s, env_step=820910, len=9, n/ep=1, n/st=10, player_1/loss=150.623, player_2/loss=122.774, rew=88.00]\n"
     ]
    },
    {
     "name": "stdout",
     "output_type": "stream",
     "text": [
      "Epoch #797: test_reward: 66.300000 ± 19.555306, best_reward: 572.300000 ± 451.483566 in #760\n"
     ]
    },
    {
     "name": "stderr",
     "output_type": "stream",
     "text": [
      "Epoch #798: 1030it [00:01, 519.92it/s, env_step=821940, len=12, n/ep=0, n/st=10, player_1/loss=146.247, player_2/loss=173.117, rew=154.00]\n"
     ]
    },
    {
     "name": "stdout",
     "output_type": "stream",
     "text": [
      "Epoch #798: test_reward: -3143.200000 ± 5729.777497, best_reward: 572.300000 ± 451.483566 in #760\n"
     ]
    },
    {
     "name": "stderr",
     "output_type": "stream",
     "text": [
      "Epoch #799: 1030it [00:01, 545.03it/s, env_step=822970, len=125, n/ep=1, n/st=10, player_1/loss=172.859, player_2/loss=202.544, rew=274.00]\n"
     ]
    },
    {
     "name": "stdout",
     "output_type": "stream",
     "text": [
      "Epoch #799: test_reward: 130.900000 ± 156.161743, best_reward: 572.300000 ± 451.483566 in #760\n"
     ]
    },
    {
     "name": "stderr",
     "output_type": "stream",
     "text": [
      "Epoch #800: 1030it [00:01, 537.95it/s, env_step=824000, len=15, n/ep=1, n/st=10, player_1/loss=112.302, player_2/loss=208.699, rew=238.00]\n"
     ]
    },
    {
     "name": "stdout",
     "output_type": "stream",
     "text": [
      "Epoch #800: test_reward: 189.100000 ± 121.644112, best_reward: 572.300000 ± 451.483566 in #760\n"
     ]
    },
    {
     "name": "stderr",
     "output_type": "stream",
     "text": [
      "Epoch #801: 1030it [00:02, 513.43it/s, env_step=825030, len=12, n/ep=3, n/st=10, player_1/loss=77.416, player_2/loss=120.698, rew=163.33]\n"
     ]
    },
    {
     "name": "stdout",
     "output_type": "stream",
     "text": [
      "Epoch #801: test_reward: -536.100000 ± 2036.591881, best_reward: 572.300000 ± 451.483566 in #760\n"
     ]
    },
    {
     "name": "stderr",
     "output_type": "stream",
     "text": [
      "Epoch #802: 1030it [00:01, 533.39it/s, env_step=826060, len=9, n/ep=1, n/st=10, player_1/loss=90.026, player_2/loss=107.925, rew=88.00]\n"
     ]
    },
    {
     "name": "stdout",
     "output_type": "stream",
     "text": [
      "Epoch #802: test_reward: 128.000000 ± 12.263768, best_reward: 572.300000 ± 451.483566 in #760\n"
     ]
    },
    {
     "name": "stderr",
     "output_type": "stream",
     "text": [
      "Epoch #803: 1030it [00:01, 537.07it/s, env_step=827090, len=40, n/ep=2, n/st=10, player_1/loss=143.569, player_2/loss=116.383, rew=427.00]\n"
     ]
    },
    {
     "name": "stdout",
     "output_type": "stream",
     "text": [
      "Epoch #803: test_reward: 130.000000 ± 0.000000, best_reward: 572.300000 ± 451.483566 in #760\n"
     ]
    },
    {
     "name": "stderr",
     "output_type": "stream",
     "text": [
      "Epoch #804: 1030it [00:01, 536.07it/s, env_step=828120, len=13, n/ep=0, n/st=10, player_1/loss=105.731, player_2/loss=147.629, rew=180.00]\n"
     ]
    },
    {
     "name": "stdout",
     "output_type": "stream",
     "text": [
      "Epoch #804: test_reward: 86.500000 ± 234.974573, best_reward: 572.300000 ± 451.483566 in #760\n"
     ]
    },
    {
     "name": "stderr",
     "output_type": "stream",
     "text": [
      "Epoch #805: 1030it [00:01, 521.14it/s, env_step=829150, len=9, n/ep=0, n/st=10, player_1/loss=91.821, player_2/loss=112.906, rew=88.00]\n"
     ]
    },
    {
     "name": "stdout",
     "output_type": "stream",
     "text": [
      "Epoch #805: test_reward: -10041.700000 ± 10361.032410, best_reward: 572.300000 ± 451.483566 in #760\n"
     ]
    },
    {
     "name": "stderr",
     "output_type": "stream",
     "text": [
      "Epoch #806: 1030it [00:01, 524.33it/s, env_step=830180, len=11, n/ep=0, n/st=10, player_1/loss=118.549, player_2/loss=243.168, rew=130.00]\n"
     ]
    },
    {
     "name": "stdout",
     "output_type": "stream",
     "text": [
      "Epoch #806: test_reward: 262.600000 ± 131.866751, best_reward: 572.300000 ± 451.483566 in #760\n"
     ]
    },
    {
     "name": "stderr",
     "output_type": "stream",
     "text": [
      "Epoch #807: 1030it [00:01, 529.76it/s, env_step=831210, len=11, n/ep=0, n/st=10, player_1/loss=259.272, player_2/loss=238.952, rew=130.00]\n"
     ]
    },
    {
     "name": "stdout",
     "output_type": "stream",
     "text": [
      "Epoch #807: test_reward: 181.400000 ± 143.415620, best_reward: 572.300000 ± 451.483566 in #760\n"
     ]
    },
    {
     "name": "stderr",
     "output_type": "stream",
     "text": [
      "Epoch #808: 1030it [00:02, 492.37it/s, env_step=832240, len=33, n/ep=0, n/st=10, player_1/loss=116.504, player_2/loss=152.607, rew=910.00]\n"
     ]
    },
    {
     "name": "stdout",
     "output_type": "stream",
     "text": [
      "Epoch #808: test_reward: -1543.500000 ± 5790.914578, best_reward: 572.300000 ± 451.483566 in #760\n"
     ]
    },
    {
     "name": "stderr",
     "output_type": "stream",
     "text": [
      "Epoch #809: 1030it [00:02, 476.22it/s, env_step=833270, len=14, n/ep=3, n/st=10, player_1/loss=115.756, player_2/loss=203.364, rew=237.33]\n"
     ]
    },
    {
     "name": "stdout",
     "output_type": "stream",
     "text": [
      "Epoch #809: test_reward: 193.400000 ± 42.680675, best_reward: 572.300000 ± 451.483566 in #760\n"
     ]
    },
    {
     "name": "stderr",
     "output_type": "stream",
     "text": [
      "Epoch #810: 1030it [00:02, 473.76it/s, env_step=834300, len=15, n/ep=0, n/st=10, player_1/loss=182.738, player_2/loss=157.133, rew=238.00]\n"
     ]
    },
    {
     "name": "stdout",
     "output_type": "stream",
     "text": [
      "Epoch #810: test_reward: -3836.200000 ± 7036.467790, best_reward: 572.300000 ± 451.483566 in #760\n"
     ]
    },
    {
     "name": "stderr",
     "output_type": "stream",
     "text": [
      "Epoch #811: 1030it [00:02, 500.96it/s, env_step=835330, len=95, n/ep=1, n/st=10, player_1/loss=195.338, player_2/loss=171.981, rew=1141.00]\n"
     ]
    },
    {
     "name": "stdout",
     "output_type": "stream",
     "text": [
      "Epoch #811: test_reward: -4503.600000 ± 7059.541900, best_reward: 572.300000 ± 451.483566 in #760\n"
     ]
    },
    {
     "name": "stderr",
     "output_type": "stream",
     "text": [
      "Epoch #812: 1030it [00:02, 452.45it/s, env_step=836360, len=22, n/ep=1, n/st=10, player_1/loss=159.294, player_2/loss=132.510, rew=477.00]\n"
     ]
    },
    {
     "name": "stdout",
     "output_type": "stream",
     "text": [
      "Epoch #812: test_reward: -2801.600000 ± 8794.800000, best_reward: 572.300000 ± 451.483566 in #760\n"
     ]
    },
    {
     "name": "stderr",
     "output_type": "stream",
     "text": [
      "Epoch #813: 1030it [00:02, 411.28it/s, env_step=837390, len=13, n/ep=2, n/st=10, player_1/loss=72.538, player_2/loss=116.283, rew=180.00]\n"
     ]
    },
    {
     "name": "stdout",
     "output_type": "stream",
     "text": [
      "Epoch #813: test_reward: 179.000000 ± 35.205113, best_reward: 572.300000 ± 451.483566 in #760\n"
     ]
    },
    {
     "name": "stderr",
     "output_type": "stream",
     "text": [
      "Epoch #814: 1030it [00:02, 412.57it/s, env_step=838420, len=17, n/ep=0, n/st=10, player_1/loss=59.475, player_2/loss=257.866, rew=304.00]\n"
     ]
    },
    {
     "name": "stdout",
     "output_type": "stream",
     "text": [
      "Epoch #814: test_reward: 191.400000 ± 55.107531, best_reward: 572.300000 ± 451.483566 in #760\n"
     ]
    },
    {
     "name": "stderr",
     "output_type": "stream",
     "text": [
      "Epoch #815: 1030it [00:02, 443.83it/s, env_step=839450, len=57, n/ep=0, n/st=10, player_1/loss=100.500, player_2/loss=112.724, rew=1342.00]\n"
     ]
    },
    {
     "name": "stdout",
     "output_type": "stream",
     "text": [
      "Epoch #815: test_reward: 154.800000 ± 22.417850, best_reward: 572.300000 ± 451.483566 in #760\n"
     ]
    },
    {
     "name": "stderr",
     "output_type": "stream",
     "text": [
      "Epoch #816: 1030it [00:02, 434.96it/s, env_step=840480, len=14, n/ep=0, n/st=10, player_1/loss=141.021, player_2/loss=151.277, rew=217.00]\n"
     ]
    },
    {
     "name": "stdout",
     "output_type": "stream",
     "text": [
      "Epoch #816: test_reward: -2892.500000 ± 7468.339283, best_reward: 572.300000 ± 451.483566 in #760\n"
     ]
    },
    {
     "name": "stderr",
     "output_type": "stream",
     "text": [
      "Epoch #817: 1030it [00:02, 419.86it/s, env_step=841510, len=13, n/ep=1, n/st=10, player_1/loss=141.346, player_2/loss=127.630, rew=180.00]\n"
     ]
    },
    {
     "name": "stdout",
     "output_type": "stream",
     "text": [
      "Epoch #817: test_reward: 64.000000 ± 979.749356, best_reward: 572.300000 ± 451.483566 in #760\n"
     ]
    },
    {
     "name": "stderr",
     "output_type": "stream",
     "text": [
      "Epoch #818: 1030it [00:02, 476.16it/s, env_step=842540, len=9, n/ep=0, n/st=10, player_1/loss=145.408, player_2/loss=133.998, rew=92.00]\n"
     ]
    },
    {
     "name": "stdout",
     "output_type": "stream",
     "text": [
      "Epoch #818: test_reward: -6822.700000 ± 8255.623102, best_reward: 572.300000 ± 451.483566 in #760\n"
     ]
    },
    {
     "name": "stderr",
     "output_type": "stream",
     "text": [
      "Epoch #819: 1030it [00:02, 384.44it/s, env_step=843570, len=13, n/ep=2, n/st=10, player_1/loss=167.175, player_2/loss=163.007, rew=200.00]\n"
     ]
    },
    {
     "name": "stdout",
     "output_type": "stream",
     "text": [
      "Epoch #819: test_reward: 64.200000 ± 15.580757, best_reward: 572.300000 ± 451.483566 in #760\n"
     ]
    },
    {
     "name": "stderr",
     "output_type": "stream",
     "text": [
      "Epoch #820: 1030it [00:02, 420.06it/s, env_step=844600, len=12, n/ep=0, n/st=10, player_1/loss=103.004, player_2/loss=121.288, rew=155.00]\n"
     ]
    },
    {
     "name": "stdout",
     "output_type": "stream",
     "text": [
      "Epoch #820: test_reward: -27022.800000 ± 31664.692662, best_reward: 572.300000 ± 451.483566 in #760\n"
     ]
    },
    {
     "name": "stderr",
     "output_type": "stream",
     "text": [
      "Epoch #821: 1030it [00:02, 448.06it/s, env_step=845630, len=16, n/ep=0, n/st=10, player_1/loss=113.838, player_2/loss=117.636, rew=249.00]\n"
     ]
    },
    {
     "name": "stdout",
     "output_type": "stream",
     "text": [
      "Epoch #821: test_reward: -5377.600000 ± 9930.811842, best_reward: 572.300000 ± 451.483566 in #760\n"
     ]
    },
    {
     "name": "stderr",
     "output_type": "stream",
     "text": [
      "Epoch #822: 1030it [00:02, 478.70it/s, env_step=846660, len=9, n/ep=1, n/st=10, player_1/loss=150.735, player_2/loss=354.826, rew=88.00]\n"
     ]
    },
    {
     "name": "stdout",
     "output_type": "stream",
     "text": [
      "Epoch #822: test_reward: -68.400000 ± 1378.897690, best_reward: 572.300000 ± 451.483566 in #760\n"
     ]
    },
    {
     "name": "stderr",
     "output_type": "stream",
     "text": [
      "Epoch #823: 1030it [00:02, 483.54it/s, env_step=847690, len=15, n/ep=0, n/st=10, player_1/loss=77.659, player_2/loss=179.612, rew=238.00]\n"
     ]
    },
    {
     "name": "stdout",
     "output_type": "stream",
     "text": [
      "Epoch #823: test_reward: -1695.600000 ± 5493.486893, best_reward: 572.300000 ± 451.483566 in #760\n"
     ]
    },
    {
     "name": "stderr",
     "output_type": "stream",
     "text": [
      "Epoch #824: 1030it [00:02, 468.30it/s, env_step=848720, len=7, n/ep=0, n/st=10, player_1/loss=106.605, player_2/loss=98.771, rew=54.00]\n"
     ]
    },
    {
     "name": "stdout",
     "output_type": "stream",
     "text": [
      "Epoch #824: test_reward: 257.900000 ± 228.644899, best_reward: 572.300000 ± 451.483566 in #760\n"
     ]
    },
    {
     "name": "stderr",
     "output_type": "stream",
     "text": [
      "Epoch #825: 1030it [00:02, 448.44it/s, env_step=849750, len=10, n/ep=3, n/st=10, player_1/loss=124.194, player_2/loss=144.595, rew=123.33]\n"
     ]
    },
    {
     "name": "stdout",
     "output_type": "stream",
     "text": [
      "Epoch #825: test_reward: 113.400000 ± 76.357318, best_reward: 572.300000 ± 451.483566 in #760\n"
     ]
    },
    {
     "name": "stderr",
     "output_type": "stream",
     "text": [
      "Epoch #826: 1030it [00:02, 482.23it/s, env_step=850780, len=14, n/ep=2, n/st=10, player_1/loss=121.750, player_2/loss=107.013, rew=217.00]\n"
     ]
    },
    {
     "name": "stdout",
     "output_type": "stream",
     "text": [
      "Epoch #826: test_reward: -1327.400000 ± 4840.268674, best_reward: 572.300000 ± 451.483566 in #760\n"
     ]
    },
    {
     "name": "stderr",
     "output_type": "stream",
     "text": [
      "Epoch #827: 1030it [00:02, 469.20it/s, env_step=851810, len=14, n/ep=0, n/st=10, player_1/loss=143.208, player_2/loss=131.519, rew=223.00]\n"
     ]
    },
    {
     "name": "stdout",
     "output_type": "stream",
     "text": [
      "Epoch #827: test_reward: 190.200000 ± 38.517009, best_reward: 572.300000 ± 451.483566 in #760\n"
     ]
    },
    {
     "name": "stderr",
     "output_type": "stream",
     "text": [
      "Epoch #828: 1030it [00:02, 457.62it/s, env_step=852840, len=21, n/ep=0, n/st=10, player_1/loss=106.467, player_2/loss=136.077, rew=444.50]\n"
     ]
    },
    {
     "name": "stdout",
     "output_type": "stream",
     "text": [
      "Epoch #828: test_reward: 105.600000 ± 29.823481, best_reward: 572.300000 ± 451.483566 in #760\n"
     ]
    },
    {
     "name": "stderr",
     "output_type": "stream",
     "text": [
      "Epoch #829: 1030it [00:02, 445.45it/s, env_step=853870, len=14, n/ep=1, n/st=10, player_1/loss=147.141, player_2/loss=168.165, rew=208.00]\n"
     ]
    },
    {
     "name": "stdout",
     "output_type": "stream",
     "text": [
      "Epoch #829: test_reward: -3239.700000 ± 9305.973480, best_reward: 572.300000 ± 451.483566 in #760\n"
     ]
    },
    {
     "name": "stderr",
     "output_type": "stream",
     "text": [
      "Epoch #830: 1030it [00:02, 435.66it/s, env_step=854900, len=11, n/ep=0, n/st=10, player_1/loss=136.939, player_2/loss=154.724, rew=130.00]\n"
     ]
    },
    {
     "name": "stdout",
     "output_type": "stream",
     "text": [
      "Epoch #830: test_reward: -7049.400000 ± 17801.890839, best_reward: 572.300000 ± 451.483566 in #760\n"
     ]
    },
    {
     "name": "stderr",
     "output_type": "stream",
     "text": [
      "Epoch #831: 1030it [00:02, 475.90it/s, env_step=855930, len=26, n/ep=0, n/st=10, player_1/loss=106.108, player_2/loss=116.281, rew=334.67]\n"
     ]
    },
    {
     "name": "stdout",
     "output_type": "stream",
     "text": [
      "Epoch #831: test_reward: 239.800000 ± 71.282256, best_reward: 572.300000 ± 451.483566 in #760\n"
     ]
    },
    {
     "name": "stderr",
     "output_type": "stream",
     "text": [
      "Epoch #832: 1030it [00:02, 463.44it/s, env_step=856960, len=8, n/ep=0, n/st=10, player_1/loss=99.141, player_2/loss=147.386, rew=70.00]\n"
     ]
    },
    {
     "name": "stdout",
     "output_type": "stream",
     "text": [
      "Epoch #832: test_reward: -4783.000000 ± 11791.850864, best_reward: 572.300000 ± 451.483566 in #760\n"
     ]
    },
    {
     "name": "stderr",
     "output_type": "stream",
     "text": [
      "Epoch #833: 1030it [00:02, 436.50it/s, env_step=857990, len=111, n/ep=0, n/st=10, player_1/loss=162.409, player_2/loss=167.509, rew=625.00]\n"
     ]
    },
    {
     "name": "stdout",
     "output_type": "stream",
     "text": [
      "Epoch #833: test_reward: -13487.500000 ± 16299.670857, best_reward: 572.300000 ± 451.483566 in #760\n"
     ]
    },
    {
     "name": "stderr",
     "output_type": "stream",
     "text": [
      "Epoch #834: 1030it [00:02, 411.37it/s, env_step=859020, len=10, n/ep=0, n/st=10, player_1/loss=156.194, player_2/loss=249.708, rew=125.00]\n"
     ]
    },
    {
     "name": "stdout",
     "output_type": "stream",
     "text": [
      "Epoch #834: test_reward: 184.400000 ± 34.232149, best_reward: 572.300000 ± 451.483566 in #760\n"
     ]
    },
    {
     "name": "stderr",
     "output_type": "stream",
     "text": [
      "Epoch #835: 1030it [00:02, 387.04it/s, env_step=860050, len=13, n/ep=0, n/st=10, player_1/loss=135.402, player_2/loss=133.466, rew=180.00]\n"
     ]
    },
    {
     "name": "stdout",
     "output_type": "stream",
     "text": [
      "Epoch #835: test_reward: 193.000000 ± 39.972491, best_reward: 572.300000 ± 451.483566 in #760\n"
     ]
    },
    {
     "name": "stderr",
     "output_type": "stream",
     "text": [
      "Epoch #836: 1030it [00:02, 471.44it/s, env_step=861080, len=11, n/ep=1, n/st=10, player_1/loss=104.339, player_2/loss=123.019, rew=130.00]\n"
     ]
    },
    {
     "name": "stdout",
     "output_type": "stream",
     "text": [
      "Epoch #836: test_reward: 130.000000 ± 0.000000, best_reward: 572.300000 ± 451.483566 in #760\n"
     ]
    },
    {
     "name": "stderr",
     "output_type": "stream",
     "text": [
      "Epoch #837: 1030it [00:02, 511.73it/s, env_step=862110, len=13, n/ep=2, n/st=10, player_1/loss=145.733, player_2/loss=137.343, rew=180.00]\n"
     ]
    },
    {
     "name": "stdout",
     "output_type": "stream",
     "text": [
      "Epoch #837: test_reward: -988.000000 ± 3014.267838, best_reward: 572.300000 ± 451.483566 in #760\n"
     ]
    },
    {
     "name": "stderr",
     "output_type": "stream",
     "text": [
      "Epoch #838: 1030it [00:01, 522.10it/s, env_step=863140, len=12, n/ep=0, n/st=10, player_1/loss=117.849, player_2/loss=112.050, rew=154.00]\n"
     ]
    },
    {
     "name": "stdout",
     "output_type": "stream",
     "text": [
      "Epoch #838: test_reward: -3187.500000 ± 6185.687953, best_reward: 572.300000 ± 451.483566 in #760\n"
     ]
    },
    {
     "name": "stderr",
     "output_type": "stream",
     "text": [
      "Epoch #839: 1030it [00:01, 515.81it/s, env_step=864170, len=41, n/ep=0, n/st=10, player_1/loss=127.510, player_2/loss=103.981, rew=508.00]\n"
     ]
    },
    {
     "name": "stdout",
     "output_type": "stream",
     "text": [
      "Epoch #839: test_reward: 84.200000 ± 312.271292, best_reward: 572.300000 ± 451.483566 in #760\n"
     ]
    },
    {
     "name": "stderr",
     "output_type": "stream",
     "text": [
      "Epoch #840: 1030it [00:01, 516.80it/s, env_step=865200, len=14, n/ep=2, n/st=10, player_1/loss=142.638, player_2/loss=152.282, rew=223.00]\n"
     ]
    },
    {
     "name": "stdout",
     "output_type": "stream",
     "text": [
      "Epoch #840: test_reward: 120.800000 ± 29.314843, best_reward: 572.300000 ± 451.483566 in #760\n"
     ]
    },
    {
     "name": "stderr",
     "output_type": "stream",
     "text": [
      "Epoch #841: 1030it [00:02, 501.18it/s, env_step=866230, len=15, n/ep=1, n/st=10, player_1/loss=136.183, player_2/loss=134.369, rew=238.00]\n"
     ]
    },
    {
     "name": "stdout",
     "output_type": "stream",
     "text": [
      "Epoch #841: test_reward: -6792.200000 ± 11758.180385, best_reward: 572.300000 ± 451.483566 in #760\n"
     ]
    },
    {
     "name": "stderr",
     "output_type": "stream",
     "text": [
      "Epoch #842: 1030it [00:01, 522.14it/s, env_step=867260, len=22, n/ep=0, n/st=10, player_1/loss=140.097, player_2/loss=128.599, rew=483.00]\n"
     ]
    },
    {
     "name": "stdout",
     "output_type": "stream",
     "text": [
      "Epoch #842: test_reward: -713.700000 ± 2303.254222, best_reward: 572.300000 ± 451.483566 in #760\n"
     ]
    },
    {
     "name": "stderr",
     "output_type": "stream",
     "text": [
      "Epoch #843: 1030it [00:01, 520.80it/s, env_step=868290, len=14, n/ep=0, n/st=10, player_1/loss=135.707, player_2/loss=153.313, rew=208.00]\n"
     ]
    },
    {
     "name": "stdout",
     "output_type": "stream",
     "text": [
      "Epoch #843: test_reward: -12796.900000 ± 14678.612131, best_reward: 572.300000 ± 451.483566 in #760\n"
     ]
    },
    {
     "name": "stderr",
     "output_type": "stream",
     "text": [
      "Epoch #844: 1030it [00:01, 521.37it/s, env_step=869320, len=7, n/ep=0, n/st=10, player_1/loss=137.700, player_2/loss=128.110, rew=54.00]\n"
     ]
    },
    {
     "name": "stdout",
     "output_type": "stream",
     "text": [
      "Epoch #844: test_reward: 226.500000 ± 187.921925, best_reward: 572.300000 ± 451.483566 in #760\n"
     ]
    },
    {
     "name": "stderr",
     "output_type": "stream",
     "text": [
      "Epoch #845: 1030it [00:01, 522.40it/s, env_step=870350, len=50, n/ep=0, n/st=10, player_1/loss=136.447, player_2/loss=155.907, rew=826.00]\n"
     ]
    },
    {
     "name": "stdout",
     "output_type": "stream",
     "text": [
      "Epoch #845: test_reward: -733.900000 ± 1583.044184, best_reward: 572.300000 ± 451.483566 in #760\n"
     ]
    },
    {
     "name": "stderr",
     "output_type": "stream",
     "text": [
      "Epoch #846: 1030it [00:01, 517.08it/s, env_step=871380, len=16, n/ep=1, n/st=10, player_1/loss=155.301, player_2/loss=145.694, rew=270.00]\n"
     ]
    },
    {
     "name": "stdout",
     "output_type": "stream",
     "text": [
      "Epoch #846: test_reward: 169.200000 ± 36.212705, best_reward: 572.300000 ± 451.483566 in #760\n"
     ]
    },
    {
     "name": "stderr",
     "output_type": "stream",
     "text": [
      "Epoch #847: 1030it [00:02, 465.56it/s, env_step=872410, len=109, n/ep=0, n/st=10, player_1/loss=162.068, player_2/loss=124.909, rew=1767.00]\n"
     ]
    },
    {
     "name": "stdout",
     "output_type": "stream",
     "text": [
      "Epoch #847: test_reward: -9379.200000 ± 8840.726653, best_reward: 572.300000 ± 451.483566 in #760\n"
     ]
    },
    {
     "name": "stderr",
     "output_type": "stream",
     "text": [
      "Epoch #848: 1030it [00:02, 457.50it/s, env_step=873440, len=7, n/ep=1, n/st=10, player_1/loss=134.349, player_2/loss=241.397, rew=54.00]\n"
     ]
    },
    {
     "name": "stdout",
     "output_type": "stream",
     "text": [
      "Epoch #848: test_reward: 214.700000 ± 288.285293, best_reward: 572.300000 ± 451.483566 in #760\n"
     ]
    },
    {
     "name": "stderr",
     "output_type": "stream",
     "text": [
      "Epoch #849: 1030it [00:02, 462.55it/s, env_step=874470, len=41, n/ep=0, n/st=10, player_1/loss=272.025, player_2/loss=139.290, rew=943.00]\n"
     ]
    },
    {
     "name": "stdout",
     "output_type": "stream",
     "text": [
      "Epoch #849: test_reward: -13785.700000 ± 15091.454543, best_reward: 572.300000 ± 451.483566 in #760\n"
     ]
    },
    {
     "name": "stderr",
     "output_type": "stream",
     "text": [
      "Epoch #850: 1030it [00:02, 455.86it/s, env_step=875500, len=11, n/ep=0, n/st=10, player_1/loss=129.658, player_2/loss=192.459, rew=130.00]\n"
     ]
    },
    {
     "name": "stdout",
     "output_type": "stream",
     "text": [
      "Epoch #850: test_reward: -2612.500000 ± 8296.904787, best_reward: 572.300000 ± 451.483566 in #760\n"
     ]
    },
    {
     "name": "stderr",
     "output_type": "stream",
     "text": [
      "Epoch #851: 1030it [00:02, 459.35it/s, env_step=876530, len=25, n/ep=0, n/st=10, player_1/loss=126.876, player_2/loss=220.776, rew=537.00]\n"
     ]
    },
    {
     "name": "stdout",
     "output_type": "stream",
     "text": [
      "Epoch #851: test_reward: -5662.900000 ± 12143.063077, best_reward: 572.300000 ± 451.483566 in #760\n"
     ]
    },
    {
     "name": "stderr",
     "output_type": "stream",
     "text": [
      "Epoch #852: 1030it [00:02, 502.77it/s, env_step=877560, len=82, n/ep=0, n/st=10, player_1/loss=121.693, player_2/loss=195.341, rew=945.00]\n"
     ]
    },
    {
     "name": "stdout",
     "output_type": "stream",
     "text": [
      "Epoch #852: test_reward: -26475.000000 ± 33954.881063, best_reward: 572.300000 ± 451.483566 in #760\n"
     ]
    },
    {
     "name": "stderr",
     "output_type": "stream",
     "text": [
      "Epoch #853: 1030it [00:02, 509.59it/s, env_step=878590, len=30, n/ep=2, n/st=10, player_1/loss=219.059, player_2/loss=192.790, rew=456.50] \n"
     ]
    },
    {
     "name": "stdout",
     "output_type": "stream",
     "text": [
      "Epoch #853: test_reward: -8898.000000 ± 11694.375930, best_reward: 572.300000 ± 451.483566 in #760\n"
     ]
    },
    {
     "name": "stderr",
     "output_type": "stream",
     "text": [
      "Epoch #854: 1030it [00:02, 482.47it/s, env_step=879620, len=13, n/ep=0, n/st=10, player_1/loss=195.313, player_2/loss=277.839, rew=180.00]\n"
     ]
    },
    {
     "name": "stdout",
     "output_type": "stream",
     "text": [
      "Epoch #854: test_reward: 130.000000 ± 0.000000, best_reward: 572.300000 ± 451.483566 in #760\n"
     ]
    },
    {
     "name": "stderr",
     "output_type": "stream",
     "text": [
      "Epoch #855: 1030it [00:02, 448.38it/s, env_step=880650, len=9, n/ep=0, n/st=10, player_1/loss=147.882, player_2/loss=221.980, rew=88.00]\n"
     ]
    },
    {
     "name": "stdout",
     "output_type": "stream",
     "text": [
      "Epoch #855: test_reward: -53804.900000 ± 84142.845226, best_reward: 572.300000 ± 451.483566 in #760\n"
     ]
    },
    {
     "name": "stderr",
     "output_type": "stream",
     "text": [
      "Epoch #856: 1030it [00:02, 426.84it/s, env_step=881680, len=11, n/ep=1, n/st=10, player_1/loss=184.595, player_2/loss=212.638, rew=130.00]\n"
     ]
    },
    {
     "name": "stdout",
     "output_type": "stream",
     "text": [
      "Epoch #856: test_reward: 98.800000 ± 21.094075, best_reward: 572.300000 ± 451.483566 in #760\n"
     ]
    },
    {
     "name": "stderr",
     "output_type": "stream",
     "text": [
      "Epoch #857: 1030it [00:02, 419.45it/s, env_step=882710, len=30, n/ep=0, n/st=10, player_1/loss=162.927, player_2/loss=214.850, rew=526.00]\n"
     ]
    },
    {
     "name": "stdout",
     "output_type": "stream",
     "text": [
      "Epoch #857: test_reward: -9329.400000 ± 11687.655549, best_reward: 572.300000 ± 451.483566 in #760\n"
     ]
    },
    {
     "name": "stderr",
     "output_type": "stream",
     "text": [
      "Epoch #858: 1030it [00:03, 301.36it/s, env_step=883740, len=10, n/ep=0, n/st=10, player_1/loss=178.100, player_2/loss=198.102, rew=109.00]\n"
     ]
    },
    {
     "name": "stdout",
     "output_type": "stream",
     "text": [
      "Epoch #858: test_reward: -17076.100000 ± 18705.520086, best_reward: 572.300000 ± 451.483566 in #760\n"
     ]
    },
    {
     "name": "stderr",
     "output_type": "stream",
     "text": [
      "Epoch #859: 1030it [00:02, 408.45it/s, env_step=884770, len=15, n/ep=1, n/st=10, player_1/loss=219.399, player_2/loss=249.248, rew=238.00]\n"
     ]
    },
    {
     "name": "stdout",
     "output_type": "stream",
     "text": [
      "Epoch #859: test_reward: 122.600000 ± 129.783820, best_reward: 572.300000 ± 451.483566 in #760\n"
     ]
    },
    {
     "name": "stderr",
     "output_type": "stream",
     "text": [
      "Epoch #860: 1030it [00:02, 407.72it/s, env_step=885800, len=84, n/ep=0, n/st=10, player_1/loss=208.347, player_2/loss=186.059, rew=331.00]\n"
     ]
    },
    {
     "name": "stdout",
     "output_type": "stream",
     "text": [
      "Epoch #860: test_reward: -1969.500000 ± 2115.078403, best_reward: 572.300000 ± 451.483566 in #760\n"
     ]
    },
    {
     "name": "stderr",
     "output_type": "stream",
     "text": [
      "Epoch #861: 1030it [00:02, 501.04it/s, env_step=886830, len=11, n/ep=1, n/st=10, player_1/loss=140.859, player_2/loss=233.618, rew=130.00]\n"
     ]
    },
    {
     "name": "stdout",
     "output_type": "stream",
     "text": [
      "Epoch #861: test_reward: 256.900000 ± 372.240366, best_reward: 572.300000 ± 451.483566 in #760\n"
     ]
    },
    {
     "name": "stderr",
     "output_type": "stream",
     "text": [
      "Epoch #862: 1030it [00:02, 478.31it/s, env_step=887860, len=16, n/ep=2, n/st=10, player_1/loss=136.546, player_2/loss=246.020, rew=287.00]\n"
     ]
    },
    {
     "name": "stdout",
     "output_type": "stream",
     "text": [
      "Epoch #862: test_reward: 250.100000 ± 133.572040, best_reward: 572.300000 ± 451.483566 in #760\n"
     ]
    },
    {
     "name": "stderr",
     "output_type": "stream",
     "text": [
      "Epoch #863: 1030it [00:02, 505.19it/s, env_step=888890, len=14, n/ep=2, n/st=10, player_1/loss=109.562, player_2/loss=212.805, rew=209.00]\n"
     ]
    },
    {
     "name": "stdout",
     "output_type": "stream",
     "text": [
      "Epoch #863: test_reward: 150.800000 ± 35.124920, best_reward: 572.300000 ± 451.483566 in #760\n"
     ]
    },
    {
     "name": "stderr",
     "output_type": "stream",
     "text": [
      "Epoch #864: 1030it [00:01, 539.86it/s, env_step=889920, len=48, n/ep=0, n/st=10, player_1/loss=113.616, player_2/loss=208.999, rew=1330.00]\n"
     ]
    },
    {
     "name": "stdout",
     "output_type": "stream",
     "text": [
      "Epoch #864: test_reward: -2971.900000 ± 4621.405683, best_reward: 572.300000 ± 451.483566 in #760\n"
     ]
    },
    {
     "name": "stderr",
     "output_type": "stream",
     "text": [
      "Epoch #865: 1030it [00:02, 487.24it/s, env_step=890950, len=71, n/ep=1, n/st=10, player_1/loss=92.197, player_2/loss=141.849, rew=1177.00]\n"
     ]
    },
    {
     "name": "stdout",
     "output_type": "stream",
     "text": [
      "Epoch #865: test_reward: 225.000000 ± 69.260378, best_reward: 572.300000 ± 451.483566 in #760\n"
     ]
    },
    {
     "name": "stderr",
     "output_type": "stream",
     "text": [
      "Epoch #866: 1030it [00:01, 542.47it/s, env_step=891980, len=11, n/ep=1, n/st=10, player_1/loss=116.761, player_2/loss=204.617, rew=130.00]\n"
     ]
    },
    {
     "name": "stdout",
     "output_type": "stream",
     "text": [
      "Epoch #866: test_reward: 153.400000 ± 77.697104, best_reward: 572.300000 ± 451.483566 in #760\n"
     ]
    },
    {
     "name": "stderr",
     "output_type": "stream",
     "text": [
      "Epoch #867: 1030it [00:01, 560.46it/s, env_step=893010, len=87, n/ep=1, n/st=10, player_1/loss=129.834, player_2/loss=172.231, rew=1768.00]\n"
     ]
    },
    {
     "name": "stdout",
     "output_type": "stream",
     "text": [
      "Epoch #867: test_reward: 248.400000 ± 83.879914, best_reward: 572.300000 ± 451.483566 in #760\n"
     ]
    },
    {
     "name": "stderr",
     "output_type": "stream",
     "text": [
      "Epoch #868: 1030it [00:01, 518.53it/s, env_step=894040, len=14, n/ep=0, n/st=10, player_1/loss=140.238, player_2/loss=143.051, rew=208.00]\n"
     ]
    },
    {
     "name": "stdout",
     "output_type": "stream",
     "text": [
      "Epoch #868: test_reward: 355.900000 ± 241.699173, best_reward: 572.300000 ± 451.483566 in #760\n"
     ]
    },
    {
     "name": "stderr",
     "output_type": "stream",
     "text": [
      "Epoch #869: 1030it [00:01, 516.52it/s, env_step=895070, len=39, n/ep=0, n/st=10, player_1/loss=149.419, player_2/loss=116.623, rew=1045.00]\n"
     ]
    },
    {
     "name": "stdout",
     "output_type": "stream",
     "text": [
      "Epoch #869: test_reward: -9237.300000 ± 11203.288500, best_reward: 572.300000 ± 451.483566 in #760\n"
     ]
    },
    {
     "name": "stderr",
     "output_type": "stream",
     "text": [
      "Epoch #870: 1030it [00:01, 529.78it/s, env_step=896100, len=17, n/ep=0, n/st=10, player_1/loss=97.490, player_2/loss=157.813, rew=298.00]\n"
     ]
    },
    {
     "name": "stdout",
     "output_type": "stream",
     "text": [
      "Epoch #870: test_reward: -723.300000 ± 1978.003744, best_reward: 572.300000 ± 451.483566 in #760\n"
     ]
    },
    {
     "name": "stderr",
     "output_type": "stream",
     "text": [
      "Epoch #871: 1030it [00:01, 535.65it/s, env_step=897130, len=16, n/ep=0, n/st=10, player_1/loss=124.321, player_2/loss=208.719, rew=270.00]\n"
     ]
    },
    {
     "name": "stdout",
     "output_type": "stream",
     "text": [
      "Epoch #871: test_reward: -393.400000 ± 1772.806769, best_reward: 572.300000 ± 451.483566 in #760\n"
     ]
    },
    {
     "name": "stderr",
     "output_type": "stream",
     "text": [
      "Epoch #872: 1030it [00:01, 529.08it/s, env_step=898160, len=49, n/ep=0, n/st=10, player_1/loss=278.425, player_2/loss=198.962, rew=1104.00]\n"
     ]
    },
    {
     "name": "stdout",
     "output_type": "stream",
     "text": [
      "Epoch #872: test_reward: -14379.700000 ± 18700.076963, best_reward: 572.300000 ± 451.483566 in #760\n"
     ]
    },
    {
     "name": "stderr",
     "output_type": "stream",
     "text": [
      "Epoch #873: 1030it [00:01, 546.29it/s, env_step=899190, len=15, n/ep=1, n/st=10, player_1/loss=145.727, player_2/loss=206.941, rew=238.00]\n"
     ]
    },
    {
     "name": "stdout",
     "output_type": "stream",
     "text": [
      "Epoch #873: test_reward: 244.200000 ± 73.780485, best_reward: 572.300000 ± 451.483566 in #760\n"
     ]
    },
    {
     "name": "stderr",
     "output_type": "stream",
     "text": [
      "Epoch #874: 1030it [00:02, 471.68it/s, env_step=900220, len=12, n/ep=0, n/st=10, player_1/loss=116.589, player_2/loss=179.796, rew=154.00]\n"
     ]
    },
    {
     "name": "stdout",
     "output_type": "stream",
     "text": [
      "Epoch #874: test_reward: 279.200000 ± 52.696869, best_reward: 572.300000 ± 451.483566 in #760\n"
     ]
    },
    {
     "name": "stderr",
     "output_type": "stream",
     "text": [
      "Epoch #875: 1030it [00:02, 482.79it/s, env_step=901250, len=17, n/ep=1, n/st=10, player_1/loss=139.834, player_2/loss=189.815, rew=283.00]\n"
     ]
    },
    {
     "name": "stdout",
     "output_type": "stream",
     "text": [
      "Epoch #875: test_reward: -632.100000 ± 2336.407004, best_reward: 572.300000 ± 451.483566 in #760\n"
     ]
    },
    {
     "name": "stderr",
     "output_type": "stream",
     "text": [
      "Epoch #876: 1030it [00:02, 482.78it/s, env_step=902280, len=13, n/ep=0, n/st=10, player_1/loss=166.664, player_2/loss=139.493, rew=180.00]\n"
     ]
    },
    {
     "name": "stdout",
     "output_type": "stream",
     "text": [
      "Epoch #876: test_reward: 200.200000 ± 26.068372, best_reward: 572.300000 ± 451.483566 in #760\n"
     ]
    },
    {
     "name": "stderr",
     "output_type": "stream",
     "text": [
      "Epoch #877: 1030it [00:02, 460.60it/s, env_step=903310, len=24, n/ep=0, n/st=10, player_1/loss=147.898, player_2/loss=149.612, rew=433.00]\n"
     ]
    },
    {
     "name": "stdout",
     "output_type": "stream",
     "text": [
      "Epoch #877: test_reward: -18061.400000 ± 31742.783577, best_reward: 572.300000 ± 451.483566 in #760\n"
     ]
    },
    {
     "name": "stderr",
     "output_type": "stream",
     "text": [
      "Epoch #878: 1030it [00:02, 438.67it/s, env_step=904340, len=11, n/ep=0, n/st=10, player_1/loss=289.906, player_2/loss=208.989, rew=130.00]\n"
     ]
    },
    {
     "name": "stdout",
     "output_type": "stream",
     "text": [
      "Epoch #878: test_reward: -25061.100000 ± 22201.169620, best_reward: 572.300000 ± 451.483566 in #760\n"
     ]
    },
    {
     "name": "stderr",
     "output_type": "stream",
     "text": [
      "Epoch #879: 1030it [00:02, 430.23it/s, env_step=905370, len=23, n/ep=0, n/st=10, player_1/loss=244.451, player_2/loss=213.632, rew=229.00]\n"
     ]
    },
    {
     "name": "stdout",
     "output_type": "stream",
     "text": [
      "Epoch #879: test_reward: 135.000000 ± 15.000000, best_reward: 572.300000 ± 451.483566 in #760\n"
     ]
    },
    {
     "name": "stderr",
     "output_type": "stream",
     "text": [
      "Epoch #880: 1030it [00:02, 414.47it/s, env_step=906400, len=31, n/ep=0, n/st=10, player_1/loss=179.614, player_2/loss=185.100, rew=774.00]\n"
     ]
    },
    {
     "name": "stdout",
     "output_type": "stream",
     "text": [
      "Epoch #880: test_reward: -14085.200000 ± 23999.848545, best_reward: 572.300000 ± 451.483566 in #760\n"
     ]
    },
    {
     "name": "stderr",
     "output_type": "stream",
     "text": [
      "Epoch #881: 1030it [00:02, 405.43it/s, env_step=907430, len=13, n/ep=0, n/st=10, player_1/loss=104.180, player_2/loss=246.604, rew=180.00]\n"
     ]
    },
    {
     "name": "stdout",
     "output_type": "stream",
     "text": [
      "Epoch #881: test_reward: -1345.300000 ± 4266.867142, best_reward: 572.300000 ± 451.483566 in #760\n"
     ]
    },
    {
     "name": "stderr",
     "output_type": "stream",
     "text": [
      "Epoch #882: 1030it [00:02, 412.22it/s, env_step=908460, len=8, n/ep=0, n/st=10, player_1/loss=135.621, player_2/loss=226.414, rew=70.00]\n"
     ]
    },
    {
     "name": "stdout",
     "output_type": "stream",
     "text": [
      "Epoch #882: test_reward: -640.300000 ± 2125.786539, best_reward: 572.300000 ± 451.483566 in #760\n"
     ]
    },
    {
     "name": "stderr",
     "output_type": "stream",
     "text": [
      "Epoch #883: 1030it [00:02, 363.23it/s, env_step=909490, len=15, n/ep=2, n/st=10, player_1/loss=100.669, player_2/loss=229.529, rew=266.00]\n"
     ]
    },
    {
     "name": "stdout",
     "output_type": "stream",
     "text": [
      "Epoch #883: test_reward: 232.000000 ± 52.030760, best_reward: 572.300000 ± 451.483566 in #760\n"
     ]
    },
    {
     "name": "stderr",
     "output_type": "stream",
     "text": [
      "Epoch #884: 1030it [00:02, 428.97it/s, env_step=910520, len=20, n/ep=0, n/st=10, player_1/loss=78.496, player_2/loss=167.111, rew=418.00]\n"
     ]
    },
    {
     "name": "stdout",
     "output_type": "stream",
     "text": [
      "Epoch #884: test_reward: 92.400000 ± 434.378453, best_reward: 572.300000 ± 451.483566 in #760\n"
     ]
    },
    {
     "name": "stderr",
     "output_type": "stream",
     "text": [
      "Epoch #885: 1030it [00:02, 427.54it/s, env_step=911550, len=20, n/ep=0, n/st=10, player_1/loss=102.112, player_2/loss=179.957, rew=418.00]\n"
     ]
    },
    {
     "name": "stdout",
     "output_type": "stream",
     "text": [
      "Epoch #885: test_reward: -4962.900000 ± 6046.945451, best_reward: 572.300000 ± 451.483566 in #760\n"
     ]
    },
    {
     "name": "stderr",
     "output_type": "stream",
     "text": [
      "Epoch #886: 1030it [00:02, 436.60it/s, env_step=912580, len=29, n/ep=0, n/st=10, player_1/loss=131.933, player_2/loss=181.042, rew=442.00]\n"
     ]
    },
    {
     "name": "stdout",
     "output_type": "stream",
     "text": [
      "Epoch #886: test_reward: 89.800000 ± 27.326910, best_reward: 572.300000 ± 451.483566 in #760\n"
     ]
    },
    {
     "name": "stderr",
     "output_type": "stream",
     "text": [
      "Epoch #887: 1030it [00:02, 451.87it/s, env_step=913610, len=15, n/ep=0, n/st=10, player_1/loss=120.967, player_2/loss=164.188, rew=238.00]\n"
     ]
    },
    {
     "name": "stdout",
     "output_type": "stream",
     "text": [
      "Epoch #887: test_reward: -2997.400000 ± 9431.553045, best_reward: 572.300000 ± 451.483566 in #760\n"
     ]
    },
    {
     "name": "stderr",
     "output_type": "stream",
     "text": [
      "Epoch #888: 1030it [00:02, 494.71it/s, env_step=914640, len=14, n/ep=2, n/st=10, player_1/loss=116.915, player_2/loss=249.949, rew=223.00]\n"
     ]
    },
    {
     "name": "stdout",
     "output_type": "stream",
     "text": [
      "Epoch #888: test_reward: 185.000000 ± 42.409905, best_reward: 572.300000 ± 451.483566 in #760\n"
     ]
    },
    {
     "name": "stderr",
     "output_type": "stream",
     "text": [
      "Epoch #889: 1030it [00:02, 436.11it/s, env_step=915670, len=15, n/ep=0, n/st=10, player_1/loss=105.718, player_2/loss=171.609, rew=238.00]\n"
     ]
    },
    {
     "name": "stdout",
     "output_type": "stream",
     "text": [
      "Epoch #889: test_reward: 140.000000 ± 20.000000, best_reward: 572.300000 ± 451.483566 in #760\n"
     ]
    },
    {
     "name": "stderr",
     "output_type": "stream",
     "text": [
      "Epoch #890: 1030it [00:02, 435.90it/s, env_step=916700, len=16, n/ep=0, n/st=10, player_1/loss=117.559, player_2/loss=167.040, rew=271.00]\n"
     ]
    },
    {
     "name": "stdout",
     "output_type": "stream",
     "text": [
      "Epoch #890: test_reward: 146.800000 ± 44.454021, best_reward: 572.300000 ± 451.483566 in #760\n"
     ]
    },
    {
     "name": "stderr",
     "output_type": "stream",
     "text": [
      "Epoch #891: 1030it [00:02, 449.21it/s, env_step=917730, len=35, n/ep=0, n/st=10, player_1/loss=105.905, player_2/loss=140.205, rew=928.00]\n"
     ]
    },
    {
     "name": "stdout",
     "output_type": "stream",
     "text": [
      "Epoch #891: test_reward: -39840.900000 ± 64691.888894, best_reward: 572.300000 ± 451.483566 in #760\n"
     ]
    },
    {
     "name": "stderr",
     "output_type": "stream",
     "text": [
      "Epoch #892: 1030it [00:02, 507.94it/s, env_step=918760, len=14, n/ep=1, n/st=10, player_1/loss=172.675, player_2/loss=200.815, rew=208.00]\n"
     ]
    },
    {
     "name": "stdout",
     "output_type": "stream",
     "text": [
      "Epoch #892: test_reward: 52.500000 ± 291.309887, best_reward: 572.300000 ± 451.483566 in #760\n"
     ]
    },
    {
     "name": "stderr",
     "output_type": "stream",
     "text": [
      "Epoch #893: 1030it [00:02, 456.12it/s, env_step=919790, len=18, n/ep=0, n/st=10, player_1/loss=129.552, player_2/loss=174.301, rew=340.00]\n"
     ]
    },
    {
     "name": "stdout",
     "output_type": "stream",
     "text": [
      "Epoch #893: test_reward: 205.800000 ± 55.666507, best_reward: 572.300000 ± 451.483566 in #760\n"
     ]
    },
    {
     "name": "stderr",
     "output_type": "stream",
     "text": [
      "Epoch #894: 1030it [00:02, 463.20it/s, env_step=920820, len=18, n/ep=1, n/st=10, player_1/loss=150.358, player_2/loss=159.582, rew=340.00]\n"
     ]
    },
    {
     "name": "stdout",
     "output_type": "stream",
     "text": [
      "Epoch #894: test_reward: 190.200000 ± 145.212809, best_reward: 572.300000 ± 451.483566 in #760\n"
     ]
    },
    {
     "name": "stderr",
     "output_type": "stream",
     "text": [
      "Epoch #895: 1030it [00:02, 484.51it/s, env_step=921850, len=91, n/ep=0, n/st=10, player_1/loss=292.263, player_2/loss=191.533, rew=369.00]\n"
     ]
    },
    {
     "name": "stdout",
     "output_type": "stream",
     "text": [
      "Epoch #895: test_reward: 147.000000 ± 41.562002, best_reward: 572.300000 ± 451.483566 in #760\n"
     ]
    },
    {
     "name": "stderr",
     "output_type": "stream",
     "text": [
      "Epoch #896: 1030it [00:02, 439.16it/s, env_step=922880, len=13, n/ep=0, n/st=10, player_1/loss=172.415, player_2/loss=207.715, rew=180.00]\n"
     ]
    },
    {
     "name": "stdout",
     "output_type": "stream",
     "text": [
      "Epoch #896: test_reward: -3720.600000 ± 10954.324308, best_reward: 572.300000 ± 451.483566 in #760\n"
     ]
    },
    {
     "name": "stderr",
     "output_type": "stream",
     "text": [
      "Epoch #897: 1030it [00:02, 501.10it/s, env_step=923910, len=15, n/ep=0, n/st=10, player_1/loss=113.076, player_2/loss=174.313, rew=254.00]\n"
     ]
    },
    {
     "name": "stdout",
     "output_type": "stream",
     "text": [
      "Epoch #897: test_reward: -3114.000000 ± 8518.605555, best_reward: 572.300000 ± 451.483566 in #760\n"
     ]
    },
    {
     "name": "stderr",
     "output_type": "stream",
     "text": [
      "Epoch #898: 1030it [00:02, 485.25it/s, env_step=924940, len=12, n/ep=0, n/st=10, player_1/loss=158.223, player_2/loss=178.905, rew=154.00]\n"
     ]
    },
    {
     "name": "stdout",
     "output_type": "stream",
     "text": [
      "Epoch #898: test_reward: 112.900000 ± 264.479281, best_reward: 572.300000 ± 451.483566 in #760\n"
     ]
    },
    {
     "name": "stderr",
     "output_type": "stream",
     "text": [
      "Epoch #899: 1030it [00:02, 405.68it/s, env_step=925970, len=11, n/ep=0, n/st=10, player_1/loss=143.284, player_2/loss=193.968, rew=130.00]\n"
     ]
    },
    {
     "name": "stdout",
     "output_type": "stream",
     "text": [
      "Epoch #899: test_reward: -24715.200000 ± 24122.059086, best_reward: 572.300000 ± 451.483566 in #760\n"
     ]
    },
    {
     "name": "stderr",
     "output_type": "stream",
     "text": [
      "Epoch #900: 1030it [00:02, 460.13it/s, env_step=927000, len=16, n/ep=0, n/st=10, player_1/loss=198.651, player_2/loss=273.292, rew=270.00]\n"
     ]
    },
    {
     "name": "stdout",
     "output_type": "stream",
     "text": [
      "Epoch #900: test_reward: -222.000000 ± 688.378530, best_reward: 572.300000 ± 451.483566 in #760\n"
     ]
    },
    {
     "name": "stderr",
     "output_type": "stream",
     "text": [
      "Epoch #901: 1030it [00:02, 481.75it/s, env_step=928030, len=62, n/ep=0, n/st=10, player_1/loss=308.215, player_2/loss=132.654, rew=307.50]\n"
     ]
    },
    {
     "name": "stdout",
     "output_type": "stream",
     "text": [
      "Epoch #901: test_reward: -11734.000000 ± 15016.195370, best_reward: 572.300000 ± 451.483566 in #760\n"
     ]
    },
    {
     "name": "stderr",
     "output_type": "stream",
     "text": [
      "Epoch #902: 1030it [00:02, 401.06it/s, env_step=929060, len=11, n/ep=0, n/st=10, player_1/loss=207.231, player_2/loss=157.688, rew=130.00]\n"
     ]
    },
    {
     "name": "stdout",
     "output_type": "stream",
     "text": [
      "Epoch #902: test_reward: 289.600000 ± 495.764501, best_reward: 572.300000 ± 451.483566 in #760\n"
     ]
    },
    {
     "name": "stderr",
     "output_type": "stream",
     "text": [
      "Epoch #903: 1030it [00:02, 431.68it/s, env_step=930090, len=11, n/ep=0, n/st=10, player_1/loss=163.188, player_2/loss=199.835, rew=130.00]\n"
     ]
    },
    {
     "name": "stdout",
     "output_type": "stream",
     "text": [
      "Epoch #903: test_reward: 141.400000 ± 34.200000, best_reward: 572.300000 ± 451.483566 in #760\n"
     ]
    },
    {
     "name": "stderr",
     "output_type": "stream",
     "text": [
      "Epoch #904: 1030it [00:02, 457.15it/s, env_step=931120, len=15, n/ep=0, n/st=10, player_1/loss=130.110, player_2/loss=226.887, rew=238.00]\n"
     ]
    },
    {
     "name": "stdout",
     "output_type": "stream",
     "text": [
      "Epoch #904: test_reward: 184.600000 ± 48.949362, best_reward: 572.300000 ± 451.483566 in #760\n"
     ]
    },
    {
     "name": "stderr",
     "output_type": "stream",
     "text": [
      "Epoch #905: 1030it [00:02, 465.50it/s, env_step=932150, len=32, n/ep=1, n/st=10, player_1/loss=111.013, player_2/loss=159.717, rew=751.00]\n"
     ]
    },
    {
     "name": "stdout",
     "output_type": "stream",
     "text": [
      "Epoch #905: test_reward: -1977.800000 ± 4772.154457, best_reward: 572.300000 ± 451.483566 in #760\n"
     ]
    },
    {
     "name": "stderr",
     "output_type": "stream",
     "text": [
      "Epoch #906: 1030it [00:02, 436.50it/s, env_step=933180, len=10, n/ep=0, n/st=10, player_1/loss=111.467, player_2/loss=101.785, rew=108.00]\n"
     ]
    },
    {
     "name": "stdout",
     "output_type": "stream",
     "text": [
      "Epoch #906: test_reward: 188.200000 ± 48.028741, best_reward: 572.300000 ± 451.483566 in #760\n"
     ]
    },
    {
     "name": "stderr",
     "output_type": "stream",
     "text": [
      "Epoch #907: 1030it [00:02, 472.88it/s, env_step=934210, len=16, n/ep=0, n/st=10, player_1/loss=71.936, player_2/loss=96.897, rew=271.00]\n"
     ]
    },
    {
     "name": "stdout",
     "output_type": "stream",
     "text": [
      "Epoch #907: test_reward: 225.400000 ± 82.185400, best_reward: 572.300000 ± 451.483566 in #760\n"
     ]
    },
    {
     "name": "stderr",
     "output_type": "stream",
     "text": [
      "Epoch #908: 1030it [00:02, 502.55it/s, env_step=935240, len=11, n/ep=0, n/st=10, player_1/loss=116.860, player_2/loss=145.823, rew=130.00]\n"
     ]
    },
    {
     "name": "stdout",
     "output_type": "stream",
     "text": [
      "Epoch #908: test_reward: 327.400000 ± 53.673457, best_reward: 572.300000 ± 451.483566 in #760\n"
     ]
    },
    {
     "name": "stderr",
     "output_type": "stream",
     "text": [
      "Epoch #909: 1030it [00:02, 491.30it/s, env_step=936270, len=16, n/ep=0, n/st=10, player_1/loss=89.472, player_2/loss=145.565, rew=270.00]\n"
     ]
    },
    {
     "name": "stdout",
     "output_type": "stream",
     "text": [
      "Epoch #909: test_reward: -368.900000 ± 2372.117554, best_reward: 572.300000 ± 451.483566 in #760\n"
     ]
    },
    {
     "name": "stderr",
     "output_type": "stream",
     "text": [
      "Epoch #910: 1030it [00:02, 469.21it/s, env_step=937300, len=15, n/ep=1, n/st=10, player_1/loss=94.086, player_2/loss=109.200, rew=238.00]\n"
     ]
    },
    {
     "name": "stdout",
     "output_type": "stream",
     "text": [
      "Epoch #910: test_reward: 308.000000 ± 72.839550, best_reward: 572.300000 ± 451.483566 in #760\n"
     ]
    },
    {
     "name": "stderr",
     "output_type": "stream",
     "text": [
      "Epoch #911: 1030it [00:02, 476.65it/s, env_step=938330, len=77, n/ep=0, n/st=10, player_1/loss=145.669, player_2/loss=161.519, rew=2272.00]\n"
     ]
    },
    {
     "name": "stdout",
     "output_type": "stream",
     "text": [
      "Epoch #911: test_reward: 193.600000 ± 46.774352, best_reward: 572.300000 ± 451.483566 in #760\n"
     ]
    },
    {
     "name": "stderr",
     "output_type": "stream",
     "text": [
      "Epoch #912: 1030it [00:02, 482.46it/s, env_step=939360, len=18, n/ep=2, n/st=10, player_1/loss=128.210, player_2/loss=110.709, rew=341.00]\n"
     ]
    },
    {
     "name": "stdout",
     "output_type": "stream",
     "text": [
      "Epoch #912: test_reward: 213.400000 ± 99.791984, best_reward: 572.300000 ± 451.483566 in #760\n"
     ]
    },
    {
     "name": "stderr",
     "output_type": "stream",
     "text": [
      "Epoch #913: 1030it [00:02, 502.41it/s, env_step=940390, len=17, n/ep=0, n/st=10, player_1/loss=155.480, player_2/loss=167.685, rew=304.00]\n"
     ]
    },
    {
     "name": "stdout",
     "output_type": "stream",
     "text": [
      "Epoch #913: test_reward: -667.700000 ± 2318.303951, best_reward: 572.300000 ± 451.483566 in #760\n"
     ]
    },
    {
     "name": "stderr",
     "output_type": "stream",
     "text": [
      "Epoch #914: 1030it [00:02, 490.51it/s, env_step=941420, len=17, n/ep=0, n/st=10, player_1/loss=138.938, player_2/loss=189.819, rew=304.00]\n"
     ]
    },
    {
     "name": "stdout",
     "output_type": "stream",
     "text": [
      "Epoch #914: test_reward: 273.400000 ± 108.911156, best_reward: 572.300000 ± 451.483566 in #760\n"
     ]
    },
    {
     "name": "stderr",
     "output_type": "stream",
     "text": [
      "Epoch #915: 1030it [00:02, 503.81it/s, env_step=942450, len=24, n/ep=0, n/st=10, player_1/loss=150.818, player_2/loss=190.570, rew=439.00]\n"
     ]
    },
    {
     "name": "stdout",
     "output_type": "stream",
     "text": [
      "Epoch #915: test_reward: -4089.500000 ± 5402.523619, best_reward: 572.300000 ± 451.483566 in #760\n"
     ]
    },
    {
     "name": "stderr",
     "output_type": "stream",
     "text": [
      "Epoch #916: 1030it [00:02, 476.19it/s, env_step=943480, len=23, n/ep=1, n/st=10, player_1/loss=157.230, player_2/loss=132.101, rew=391.00]\n"
     ]
    },
    {
     "name": "stdout",
     "output_type": "stream",
     "text": [
      "Epoch #916: test_reward: 378.800000 ± 305.635338, best_reward: 572.300000 ± 451.483566 in #760\n"
     ]
    },
    {
     "name": "stderr",
     "output_type": "stream",
     "text": [
      "Epoch #917: 1030it [00:02, 479.55it/s, env_step=944510, len=37, n/ep=0, n/st=10, player_1/loss=189.747, player_2/loss=234.256, rew=939.00]\n"
     ]
    },
    {
     "name": "stdout",
     "output_type": "stream",
     "text": [
      "Epoch #917: test_reward: -12315.200000 ± 6567.533537, best_reward: 572.300000 ± 451.483566 in #760\n"
     ]
    },
    {
     "name": "stderr",
     "output_type": "stream",
     "text": [
      "Epoch #918: 1030it [00:02, 432.04it/s, env_step=945540, len=15, n/ep=0, n/st=10, player_1/loss=133.792, player_2/loss=343.203, rew=238.00]\n"
     ]
    },
    {
     "name": "stdout",
     "output_type": "stream",
     "text": [
      "Epoch #918: test_reward: -5949.900000 ± 17398.082518, best_reward: 572.300000 ± 451.483566 in #760\n"
     ]
    },
    {
     "name": "stderr",
     "output_type": "stream",
     "text": [
      "Epoch #919: 1030it [00:02, 491.82it/s, env_step=946570, len=16, n/ep=1, n/st=10, player_1/loss=179.055, player_2/loss=218.768, rew=270.00]\n"
     ]
    },
    {
     "name": "stdout",
     "output_type": "stream",
     "text": [
      "Epoch #919: test_reward: -11027.600000 ± 33754.526571, best_reward: 572.300000 ± 451.483566 in #760\n"
     ]
    },
    {
     "name": "stderr",
     "output_type": "stream",
     "text": [
      "Epoch #920: 1030it [00:02, 420.12it/s, env_step=947600, len=11, n/ep=1, n/st=10, player_1/loss=108.944, player_2/loss=167.782, rew=130.00]\n"
     ]
    },
    {
     "name": "stdout",
     "output_type": "stream",
     "text": [
      "Epoch #920: test_reward: -2144.800000 ± 6418.743254, best_reward: 572.300000 ± 451.483566 in #760\n"
     ]
    },
    {
     "name": "stderr",
     "output_type": "stream",
     "text": [
      "Epoch #921: 1030it [00:02, 397.15it/s, env_step=948630, len=38, n/ep=3, n/st=10, player_1/loss=129.866, player_2/loss=134.440, rew=511.00]\n"
     ]
    },
    {
     "name": "stdout",
     "output_type": "stream",
     "text": [
      "Epoch #921: test_reward: 210.400000 ± 46.517094, best_reward: 572.300000 ± 451.483566 in #760\n"
     ]
    },
    {
     "name": "stderr",
     "output_type": "stream",
     "text": [
      "Epoch #922: 1030it [00:02, 417.14it/s, env_step=949660, len=12, n/ep=0, n/st=10, player_1/loss=95.741, player_2/loss=111.819, rew=155.00]\n"
     ]
    },
    {
     "name": "stdout",
     "output_type": "stream",
     "text": [
      "Epoch #922: test_reward: 153.600000 ± 35.040548, best_reward: 572.300000 ± 451.483566 in #760\n"
     ]
    },
    {
     "name": "stderr",
     "output_type": "stream",
     "text": [
      "Epoch #923: 1030it [00:02, 479.89it/s, env_step=950690, len=15, n/ep=1, n/st=10, player_1/loss=156.128, player_2/loss=140.583, rew=238.00]\n"
     ]
    },
    {
     "name": "stdout",
     "output_type": "stream",
     "text": [
      "Epoch #923: test_reward: 215.600000 ± 40.197512, best_reward: 572.300000 ± 451.483566 in #760\n"
     ]
    },
    {
     "name": "stderr",
     "output_type": "stream",
     "text": [
      "Epoch #924: 1030it [00:02, 459.73it/s, env_step=951720, len=14, n/ep=0, n/st=10, player_1/loss=92.264, player_2/loss=142.979, rew=208.00]\n"
     ]
    },
    {
     "name": "stdout",
     "output_type": "stream",
     "text": [
      "Epoch #924: test_reward: 645.900000 ± 615.518391, best_reward: 645.900000 ± 615.518391 in #924\n"
     ]
    },
    {
     "name": "stderr",
     "output_type": "stream",
     "text": [
      "Epoch #925: 1030it [00:02, 450.63it/s, env_step=952750, len=18, n/ep=2, n/st=10, player_1/loss=142.608, player_2/loss=122.990, rew=306.50]\n"
     ]
    },
    {
     "name": "stdout",
     "output_type": "stream",
     "text": [
      "Epoch #925: test_reward: -156.200000 ± 1403.287127, best_reward: 645.900000 ± 615.518391 in #924\n"
     ]
    },
    {
     "name": "stderr",
     "output_type": "stream",
     "text": [
      "Epoch #926: 1030it [00:02, 424.53it/s, env_step=953780, len=15, n/ep=1, n/st=10, player_1/loss=154.777, player_2/loss=139.367, rew=238.00]\n"
     ]
    },
    {
     "name": "stdout",
     "output_type": "stream",
     "text": [
      "Epoch #926: test_reward: 340.100000 ± 266.290987, best_reward: 645.900000 ± 615.518391 in #924\n"
     ]
    },
    {
     "name": "stderr",
     "output_type": "stream",
     "text": [
      "Epoch #927: 1030it [00:01, 551.58it/s, env_step=954810, len=19, n/ep=0, n/st=10, player_1/loss=128.106, player_2/loss=111.166, rew=378.00]\n"
     ]
    },
    {
     "name": "stdout",
     "output_type": "stream",
     "text": [
      "Epoch #927: test_reward: 309.600000 ± 103.327828, best_reward: 645.900000 ± 615.518391 in #924\n"
     ]
    },
    {
     "name": "stderr",
     "output_type": "stream",
     "text": [
      "Epoch #928: 1030it [00:01, 536.90it/s, env_step=955840, len=53, n/ep=0, n/st=10, player_1/loss=136.088, player_2/loss=188.055, rew=1111.00]\n"
     ]
    },
    {
     "name": "stdout",
     "output_type": "stream",
     "text": [
      "Epoch #928: test_reward: -9408.300000 ± 12282.064542, best_reward: 645.900000 ± 615.518391 in #924\n"
     ]
    },
    {
     "name": "stderr",
     "output_type": "stream",
     "text": [
      "Epoch #929: 1030it [00:02, 481.59it/s, env_step=956870, len=26, n/ep=0, n/st=10, player_1/loss=121.235, player_2/loss=183.857, rew=700.00]\n"
     ]
    },
    {
     "name": "stdout",
     "output_type": "stream",
     "text": [
      "Epoch #929: test_reward: 271.000000 ± 67.824774, best_reward: 645.900000 ± 615.518391 in #924\n"
     ]
    },
    {
     "name": "stderr",
     "output_type": "stream",
     "text": [
      "Epoch #930: 1030it [00:02, 511.51it/s, env_step=957900, len=32, n/ep=0, n/st=10, player_1/loss=150.139, player_2/loss=179.178, rew=816.50]\n"
     ]
    },
    {
     "name": "stdout",
     "output_type": "stream",
     "text": [
      "Epoch #930: test_reward: -2953.700000 ± 4115.779611, best_reward: 645.900000 ± 615.518391 in #924\n"
     ]
    },
    {
     "name": "stderr",
     "output_type": "stream",
     "text": [
      "Epoch #931: 1030it [00:02, 507.46it/s, env_step=958930, len=15, n/ep=0, n/st=10, player_1/loss=117.534, player_2/loss=149.301, rew=238.00]\n"
     ]
    },
    {
     "name": "stdout",
     "output_type": "stream",
     "text": [
      "Epoch #931: test_reward: 191.300000 ± 93.819028, best_reward: 645.900000 ± 615.518391 in #924\n"
     ]
    },
    {
     "name": "stderr",
     "output_type": "stream",
     "text": [
      "Epoch #932: 1030it [00:02, 460.61it/s, env_step=959960, len=45, n/ep=1, n/st=10, player_1/loss=135.386, player_2/loss=232.378, rew=796.00]\n"
     ]
    },
    {
     "name": "stdout",
     "output_type": "stream",
     "text": [
      "Epoch #932: test_reward: 428.700000 ± 144.572508, best_reward: 645.900000 ± 615.518391 in #924\n"
     ]
    },
    {
     "name": "stderr",
     "output_type": "stream",
     "text": [
      "Epoch #933: 1030it [00:02, 489.12it/s, env_step=960990, len=10, n/ep=0, n/st=10, player_1/loss=163.578, player_2/loss=150.891, rew=108.00]\n"
     ]
    },
    {
     "name": "stdout",
     "output_type": "stream",
     "text": [
      "Epoch #933: test_reward: 257.100000 ± 641.638754, best_reward: 645.900000 ± 615.518391 in #924\n"
     ]
    },
    {
     "name": "stderr",
     "output_type": "stream",
     "text": [
      "Epoch #934: 1030it [00:02, 469.41it/s, env_step=962020, len=15, n/ep=1, n/st=10, player_1/loss=130.058, player_2/loss=179.124, rew=238.00]\n"
     ]
    },
    {
     "name": "stdout",
     "output_type": "stream",
     "text": [
      "Epoch #934: test_reward: 225.000000 ± 43.838339, best_reward: 645.900000 ± 615.518391 in #924\n"
     ]
    },
    {
     "name": "stderr",
     "output_type": "stream",
     "text": [
      "Epoch #935: 1030it [00:02, 445.75it/s, env_step=963050, len=17, n/ep=0, n/st=10, player_1/loss=85.766, player_2/loss=155.341, rew=299.00]\n"
     ]
    },
    {
     "name": "stdout",
     "output_type": "stream",
     "text": [
      "Epoch #935: test_reward: -8680.100000 ± 14379.171273, best_reward: 645.900000 ± 615.518391 in #924\n"
     ]
    },
    {
     "name": "stderr",
     "output_type": "stream",
     "text": [
      "Epoch #936: 1030it [00:02, 487.73it/s, env_step=964080, len=29, n/ep=0, n/st=10, player_1/loss=99.166, player_2/loss=149.287, rew=763.00]\n"
     ]
    },
    {
     "name": "stdout",
     "output_type": "stream",
     "text": [
      "Epoch #936: test_reward: 115.900000 ± 22.128940, best_reward: 645.900000 ± 615.518391 in #924\n"
     ]
    },
    {
     "name": "stderr",
     "output_type": "stream",
     "text": [
      "Epoch #937: 1030it [00:01, 549.86it/s, env_step=965110, len=127, n/ep=0, n/st=10, player_1/loss=100.274, player_2/loss=314.762, rew=432.00]\n"
     ]
    },
    {
     "name": "stdout",
     "output_type": "stream",
     "text": [
      "Epoch #937: test_reward: -1994.900000 ± 5385.702525, best_reward: 645.900000 ± 615.518391 in #924\n"
     ]
    },
    {
     "name": "stderr",
     "output_type": "stream",
     "text": [
      "Epoch #938: 1030it [00:01, 533.40it/s, env_step=966140, len=47, n/ep=0, n/st=10, player_1/loss=138.307, player_2/loss=240.389, rew=720.50]\n"
     ]
    },
    {
     "name": "stdout",
     "output_type": "stream",
     "text": [
      "Epoch #938: test_reward: 196.900000 ± 68.996304, best_reward: 645.900000 ± 615.518391 in #924\n"
     ]
    },
    {
     "name": "stderr",
     "output_type": "stream",
     "text": [
      "Epoch #939: 1030it [00:01, 525.79it/s, env_step=967170, len=12, n/ep=0, n/st=10, player_1/loss=133.301, player_2/loss=162.506, rew=154.00]\n"
     ]
    },
    {
     "name": "stdout",
     "output_type": "stream",
     "text": [
      "Epoch #939: test_reward: 153.800000 ± 58.127102, best_reward: 645.900000 ± 615.518391 in #924\n"
     ]
    },
    {
     "name": "stderr",
     "output_type": "stream",
     "text": [
      "Epoch #940: 1030it [00:01, 555.06it/s, env_step=968200, len=11, n/ep=1, n/st=10, player_1/loss=123.688, player_2/loss=199.418, rew=130.00]\n"
     ]
    },
    {
     "name": "stdout",
     "output_type": "stream",
     "text": [
      "Epoch #940: test_reward: 475.400000 ± 477.325088, best_reward: 645.900000 ± 615.518391 in #924\n"
     ]
    },
    {
     "name": "stderr",
     "output_type": "stream",
     "text": [
      "Epoch #941: 1030it [00:02, 474.73it/s, env_step=969230, len=23, n/ep=1, n/st=10, player_1/loss=120.935, player_2/loss=169.156, rew=346.00]\n"
     ]
    },
    {
     "name": "stdout",
     "output_type": "stream",
     "text": [
      "Epoch #941: test_reward: -286.700000 ± 1603.654455, best_reward: 645.900000 ± 615.518391 in #924\n"
     ]
    },
    {
     "name": "stderr",
     "output_type": "stream",
     "text": [
      "Epoch #942: 1030it [00:02, 441.80it/s, env_step=970260, len=10, n/ep=0, n/st=10, player_1/loss=132.389, player_2/loss=180.301, rew=108.00]\n"
     ]
    },
    {
     "name": "stdout",
     "output_type": "stream",
     "text": [
      "Epoch #942: test_reward: -5935.800000 ± 8525.311042, best_reward: 645.900000 ± 615.518391 in #924\n"
     ]
    },
    {
     "name": "stderr",
     "output_type": "stream",
     "text": [
      "Epoch #943: 1030it [00:01, 555.70it/s, env_step=971290, len=19, n/ep=0, n/st=10, player_1/loss=130.997, player_2/loss=122.751, rew=378.00]\n"
     ]
    },
    {
     "name": "stdout",
     "output_type": "stream",
     "text": [
      "Epoch #943: test_reward: -15.800000 ± 311.400000, best_reward: 645.900000 ± 615.518391 in #924\n"
     ]
    },
    {
     "name": "stderr",
     "output_type": "stream",
     "text": [
      "Epoch #944: 1030it [00:02, 495.25it/s, env_step=972320, len=13, n/ep=0, n/st=10, player_1/loss=103.402, player_2/loss=117.907, rew=180.00]\n"
     ]
    },
    {
     "name": "stdout",
     "output_type": "stream",
     "text": [
      "Epoch #944: test_reward: 313.400000 ± 54.000370, best_reward: 645.900000 ± 615.518391 in #924\n"
     ]
    },
    {
     "name": "stderr",
     "output_type": "stream",
     "text": [
      "Epoch #945: 1030it [00:01, 536.70it/s, env_step=973350, len=30, n/ep=0, n/st=10, player_1/loss=99.140, player_2/loss=123.171, rew=739.00]\n"
     ]
    },
    {
     "name": "stdout",
     "output_type": "stream",
     "text": [
      "Epoch #945: test_reward: 253.600000 ± 57.102014, best_reward: 645.900000 ± 615.518391 in #924\n"
     ]
    },
    {
     "name": "stderr",
     "output_type": "stream",
     "text": [
      "Epoch #946: 1030it [00:01, 539.12it/s, env_step=974380, len=16, n/ep=0, n/st=10, player_1/loss=108.133, player_2/loss=123.296, rew=279.00]\n"
     ]
    },
    {
     "name": "stdout",
     "output_type": "stream",
     "text": [
      "Epoch #946: test_reward: 349.000000 ± 160.927934, best_reward: 645.900000 ± 615.518391 in #924\n"
     ]
    },
    {
     "name": "stderr",
     "output_type": "stream",
     "text": [
      "Epoch #947: 1030it [00:01, 579.37it/s, env_step=975410, len=7, n/ep=0, n/st=10, player_1/loss=92.811, player_2/loss=119.179, rew=54.00]\n"
     ]
    },
    {
     "name": "stdout",
     "output_type": "stream",
     "text": [
      "Epoch #947: test_reward: -8090.200000 ± 18970.667921, best_reward: 645.900000 ± 615.518391 in #924\n"
     ]
    },
    {
     "name": "stderr",
     "output_type": "stream",
     "text": [
      "Epoch #948: 1030it [00:01, 580.64it/s, env_step=976440, len=15, n/ep=1, n/st=10, player_1/loss=129.136, player_2/loss=149.995, rew=238.00]\n"
     ]
    },
    {
     "name": "stdout",
     "output_type": "stream",
     "text": [
      "Epoch #948: test_reward: 194.800000 ± 29.287540, best_reward: 645.900000 ± 615.518391 in #924\n"
     ]
    },
    {
     "name": "stderr",
     "output_type": "stream",
     "text": [
      "Epoch #949: 1030it [00:01, 572.96it/s, env_step=977470, len=14, n/ep=1, n/st=10, player_1/loss=101.264, player_2/loss=142.798, rew=208.00]\n"
     ]
    },
    {
     "name": "stdout",
     "output_type": "stream",
     "text": [
      "Epoch #949: test_reward: -11111.400000 ± 17263.642473, best_reward: 645.900000 ± 615.518391 in #924\n"
     ]
    },
    {
     "name": "stderr",
     "output_type": "stream",
     "text": [
      "Epoch #950: 1030it [00:01, 542.26it/s, env_step=978500, len=11, n/ep=0, n/st=10, player_1/loss=91.717, player_2/loss=130.390, rew=130.00]\n"
     ]
    },
    {
     "name": "stdout",
     "output_type": "stream",
     "text": [
      "Epoch #950: test_reward: -911.100000 ± 3454.171578, best_reward: 645.900000 ± 615.518391 in #924\n"
     ]
    },
    {
     "name": "stderr",
     "output_type": "stream",
     "text": [
      "Epoch #951: 1030it [00:01, 554.47it/s, env_step=979530, len=13, n/ep=1, n/st=10, player_1/loss=159.210, player_2/loss=104.699, rew=180.00]\n"
     ]
    },
    {
     "name": "stdout",
     "output_type": "stream",
     "text": [
      "Epoch #951: test_reward: 171.600000 ± 40.027990, best_reward: 645.900000 ± 615.518391 in #924\n"
     ]
    },
    {
     "name": "stderr",
     "output_type": "stream",
     "text": [
      "Epoch #952: 1030it [00:01, 550.34it/s, env_step=980560, len=37, n/ep=1, n/st=10, player_1/loss=121.977, player_2/loss=126.354, rew=696.00]\n"
     ]
    },
    {
     "name": "stdout",
     "output_type": "stream",
     "text": [
      "Epoch #952: test_reward: 468.700000 ± 377.855012, best_reward: 645.900000 ± 615.518391 in #924\n"
     ]
    },
    {
     "name": "stderr",
     "output_type": "stream",
     "text": [
      "Epoch #953: 1030it [00:01, 568.27it/s, env_step=981590, len=13, n/ep=0, n/st=10, player_1/loss=154.524, player_2/loss=140.519, rew=194.00]\n"
     ]
    },
    {
     "name": "stdout",
     "output_type": "stream",
     "text": [
      "Epoch #953: test_reward: -5017.200000 ± 9343.132481, best_reward: 645.900000 ± 615.518391 in #924\n"
     ]
    },
    {
     "name": "stderr",
     "output_type": "stream",
     "text": [
      "Epoch #954: 1030it [00:01, 586.53it/s, env_step=982620, len=62, n/ep=0, n/st=10, player_1/loss=135.644, player_2/loss=153.158, rew=1654.00]\n"
     ]
    },
    {
     "name": "stdout",
     "output_type": "stream",
     "text": [
      "Epoch #954: test_reward: -286.900000 ± 1982.117930, best_reward: 645.900000 ± 615.518391 in #924\n"
     ]
    },
    {
     "name": "stderr",
     "output_type": "stream",
     "text": [
      "Epoch #955: 1030it [00:02, 459.35it/s, env_step=983650, len=51, n/ep=0, n/st=10, player_1/loss=132.634, player_2/loss=146.764, rew=1618.00]\n"
     ]
    },
    {
     "name": "stdout",
     "output_type": "stream",
     "text": [
      "Epoch #955: test_reward: 142.000000 ± 52.375567, best_reward: 645.900000 ± 615.518391 in #924\n"
     ]
    },
    {
     "name": "stderr",
     "output_type": "stream",
     "text": [
      "Epoch #956: 1030it [00:02, 503.34it/s, env_step=984680, len=38, n/ep=0, n/st=10, player_1/loss=130.080, player_2/loss=131.911, rew=808.00]\n"
     ]
    },
    {
     "name": "stdout",
     "output_type": "stream",
     "text": [
      "Epoch #956: test_reward: 183.000000 ± 49.349772, best_reward: 645.900000 ± 615.518391 in #924\n"
     ]
    },
    {
     "name": "stderr",
     "output_type": "stream",
     "text": [
      "Epoch #957: 1030it [00:02, 501.26it/s, env_step=985710, len=12, n/ep=1, n/st=10, player_1/loss=131.144, player_2/loss=177.769, rew=154.00]\n"
     ]
    },
    {
     "name": "stdout",
     "output_type": "stream",
     "text": [
      "Epoch #957: test_reward: -3021.800000 ± 9618.960919, best_reward: 645.900000 ± 615.518391 in #924\n"
     ]
    },
    {
     "name": "stderr",
     "output_type": "stream",
     "text": [
      "Epoch #958: 1030it [00:01, 530.21it/s, env_step=986740, len=13, n/ep=0, n/st=10, player_1/loss=136.461, player_2/loss=150.735, rew=180.00]\n"
     ]
    },
    {
     "name": "stdout",
     "output_type": "stream",
     "text": [
      "Epoch #958: test_reward: 274.000000 ± 68.498175, best_reward: 645.900000 ± 615.518391 in #924\n"
     ]
    },
    {
     "name": "stderr",
     "output_type": "stream",
     "text": [
      "Epoch #959: 1030it [00:02, 505.21it/s, env_step=987770, len=14, n/ep=0, n/st=10, player_1/loss=118.363, player_2/loss=130.483, rew=208.00]\n"
     ]
    },
    {
     "name": "stdout",
     "output_type": "stream",
     "text": [
      "Epoch #959: test_reward: 190.200000 ± 39.379690, best_reward: 645.900000 ± 615.518391 in #924\n"
     ]
    },
    {
     "name": "stderr",
     "output_type": "stream",
     "text": [
      "Epoch #960: 1030it [00:02, 480.63it/s, env_step=988800, len=26, n/ep=0, n/st=10, player_1/loss=110.868, player_2/loss=124.949, rew=550.50]\n"
     ]
    },
    {
     "name": "stdout",
     "output_type": "stream",
     "text": [
      "Epoch #960: test_reward: 144.800000 ± 19.903768, best_reward: 645.900000 ± 615.518391 in #924\n"
     ]
    },
    {
     "name": "stderr",
     "output_type": "stream",
     "text": [
      "Epoch #961: 1030it [00:01, 543.24it/s, env_step=989830, len=13, n/ep=1, n/st=10, player_1/loss=141.179, player_2/loss=111.954, rew=180.00]\n"
     ]
    },
    {
     "name": "stdout",
     "output_type": "stream",
     "text": [
      "Epoch #961: test_reward: -1550.900000 ± 5124.225531, best_reward: 645.900000 ± 615.518391 in #924\n"
     ]
    },
    {
     "name": "stderr",
     "output_type": "stream",
     "text": [
      "Epoch #962: 1030it [00:01, 536.45it/s, env_step=990860, len=11, n/ep=0, n/st=10, player_1/loss=124.988, player_2/loss=139.574, rew=130.00]\n"
     ]
    },
    {
     "name": "stdout",
     "output_type": "stream",
     "text": [
      "Epoch #962: test_reward: -2731.900000 ± 7581.501876, best_reward: 645.900000 ± 615.518391 in #924\n"
     ]
    },
    {
     "name": "stderr",
     "output_type": "stream",
     "text": [
      "Epoch #963: 1030it [00:02, 414.44it/s, env_step=991890, len=126, n/ep=0, n/st=10, player_1/loss=165.970, player_2/loss=138.656, rew=181.00]\n"
     ]
    },
    {
     "name": "stdout",
     "output_type": "stream",
     "text": [
      "Epoch #963: test_reward: -7809.300000 ± 14870.960326, best_reward: 645.900000 ± 615.518391 in #924\n"
     ]
    },
    {
     "name": "stderr",
     "output_type": "stream",
     "text": [
      "Epoch #964: 1030it [00:03, 286.68it/s, env_step=992920, len=9, n/ep=1, n/st=10, player_1/loss=308.195, player_2/loss=121.336, rew=88.00]\n"
     ]
    },
    {
     "name": "stdout",
     "output_type": "stream",
     "text": [
      "Epoch #964: test_reward: -852.600000 ± 2909.499483, best_reward: 645.900000 ± 615.518391 in #924\n"
     ]
    },
    {
     "name": "stderr",
     "output_type": "stream",
     "text": [
      "Epoch #965: 1030it [00:02, 370.76it/s, env_step=993950, len=13, n/ep=1, n/st=10, player_1/loss=247.400, player_2/loss=153.139, rew=180.00]\n"
     ]
    },
    {
     "name": "stdout",
     "output_type": "stream",
     "text": [
      "Epoch #965: test_reward: 169.200000 ± 110.595479, best_reward: 645.900000 ± 615.518391 in #924\n"
     ]
    },
    {
     "name": "stderr",
     "output_type": "stream",
     "text": [
      "Epoch #966: 1030it [00:02, 475.04it/s, env_step=994980, len=9, n/ep=0, n/st=10, player_1/loss=253.885, player_2/loss=111.760, rew=88.00]\n"
     ]
    },
    {
     "name": "stdout",
     "output_type": "stream",
     "text": [
      "Epoch #966: test_reward: -4146.500000 ± 8553.041906, best_reward: 645.900000 ± 615.518391 in #924\n"
     ]
    },
    {
     "name": "stderr",
     "output_type": "stream",
     "text": [
      "Epoch #967: 1030it [00:02, 467.48it/s, env_step=996010, len=11, n/ep=0, n/st=10, player_1/loss=284.500, player_2/loss=214.778, rew=130.00]\n"
     ]
    },
    {
     "name": "stdout",
     "output_type": "stream",
     "text": [
      "Epoch #967: test_reward: 157.800000 ± 27.848878, best_reward: 645.900000 ± 615.518391 in #924\n"
     ]
    },
    {
     "name": "stderr",
     "output_type": "stream",
     "text": [
      "Epoch #968: 1030it [00:02, 470.67it/s, env_step=997040, len=18, n/ep=2, n/st=10, player_1/loss=149.141, player_2/loss=169.772, rew=341.00]\n"
     ]
    },
    {
     "name": "stdout",
     "output_type": "stream",
     "text": [
      "Epoch #968: test_reward: 274.800000 ± 81.746927, best_reward: 645.900000 ± 615.518391 in #924\n"
     ]
    },
    {
     "name": "stderr",
     "output_type": "stream",
     "text": [
      "Epoch #969: 1030it [00:02, 472.81it/s, env_step=998070, len=13, n/ep=0, n/st=10, player_1/loss=112.650, player_2/loss=130.067, rew=180.00]\n"
     ]
    },
    {
     "name": "stdout",
     "output_type": "stream",
     "text": [
      "Epoch #969: test_reward: 213.800000 ± 52.141730, best_reward: 645.900000 ± 615.518391 in #924\n"
     ]
    },
    {
     "name": "stderr",
     "output_type": "stream",
     "text": [
      "Epoch #970: 1030it [00:02, 513.79it/s, env_step=999100, len=62, n/ep=0, n/st=10, player_1/loss=112.265, player_2/loss=117.107, rew=1339.00]\n"
     ]
    },
    {
     "name": "stdout",
     "output_type": "stream",
     "text": [
      "Epoch #970: test_reward: 65.000000 ± 23.920702, best_reward: 645.900000 ± 615.518391 in #924\n"
     ]
    },
    {
     "name": "stderr",
     "output_type": "stream",
     "text": [
      "Epoch #971: 1030it [00:02, 513.31it/s, env_step=1000130, len=11, n/ep=0, n/st=10, player_1/loss=179.225, player_2/loss=208.856, rew=130.00]\n"
     ]
    },
    {
     "name": "stdout",
     "output_type": "stream",
     "text": [
      "Epoch #971: test_reward: 141.000000 ± 30.623520, best_reward: 645.900000 ± 615.518391 in #924\n"
     ]
    },
    {
     "name": "stderr",
     "output_type": "stream",
     "text": [
      "Epoch #972: 1030it [00:01, 527.92it/s, env_step=1001160, len=108, n/ep=0, n/st=10, player_1/loss=139.464, player_2/loss=125.637, rew=613.00]\n"
     ]
    },
    {
     "name": "stdout",
     "output_type": "stream",
     "text": [
      "Epoch #972: test_reward: 327.900000 ± 275.358112, best_reward: 645.900000 ± 615.518391 in #924\n"
     ]
    },
    {
     "name": "stderr",
     "output_type": "stream",
     "text": [
      "Epoch #973: 1030it [00:01, 521.94it/s, env_step=1002190, len=18, n/ep=1, n/st=10, player_1/loss=124.675, player_2/loss=161.699, rew=340.00]\n"
     ]
    },
    {
     "name": "stdout",
     "output_type": "stream",
     "text": [
      "Epoch #973: test_reward: 210.100000 ± 217.710105, best_reward: 645.900000 ± 615.518391 in #924\n"
     ]
    },
    {
     "name": "stderr",
     "output_type": "stream",
     "text": [
      "Epoch #974: 1030it [00:01, 524.85it/s, env_step=1003220, len=11, n/ep=0, n/st=10, player_1/loss=139.580, player_2/loss=121.832, rew=130.00]\n"
     ]
    },
    {
     "name": "stdout",
     "output_type": "stream",
     "text": [
      "Epoch #974: test_reward: 279.000000 ± 51.747464, best_reward: 645.900000 ± 615.518391 in #924\n"
     ]
    },
    {
     "name": "stderr",
     "output_type": "stream",
     "text": [
      "Epoch #975: 1030it [00:01, 537.70it/s, env_step=1004250, len=11, n/ep=1, n/st=10, player_1/loss=181.725, player_2/loss=154.461, rew=130.00]\n"
     ]
    },
    {
     "name": "stdout",
     "output_type": "stream",
     "text": [
      "Epoch #975: test_reward: 155.600000 ± 50.373009, best_reward: 645.900000 ± 615.518391 in #924\n"
     ]
    },
    {
     "name": "stderr",
     "output_type": "stream",
     "text": [
      "Epoch #976: 1030it [00:01, 533.45it/s, env_step=1005280, len=13, n/ep=0, n/st=10, player_1/loss=152.141, player_2/loss=169.882, rew=180.00]\n"
     ]
    },
    {
     "name": "stdout",
     "output_type": "stream",
     "text": [
      "Epoch #976: test_reward: 249.800000 ± 47.517997, best_reward: 645.900000 ± 615.518391 in #924\n"
     ]
    },
    {
     "name": "stderr",
     "output_type": "stream",
     "text": [
      "Epoch #977: 1030it [00:01, 548.94it/s, env_step=1006310, len=38, n/ep=1, n/st=10, player_1/loss=176.020, player_2/loss=137.788, rew=922.00]\n"
     ]
    },
    {
     "name": "stdout",
     "output_type": "stream",
     "text": [
      "Epoch #977: test_reward: 133.700000 ± 109.910918, best_reward: 645.900000 ± 615.518391 in #924\n"
     ]
    },
    {
     "name": "stderr",
     "output_type": "stream",
     "text": [
      "Epoch #978: 1030it [00:01, 557.01it/s, env_step=1007340, len=17, n/ep=0, n/st=10, player_1/loss=325.836, player_2/loss=175.005, rew=304.00]\n"
     ]
    },
    {
     "name": "stdout",
     "output_type": "stream",
     "text": [
      "Epoch #978: test_reward: -995.100000 ± 2169.479083, best_reward: 645.900000 ± 615.518391 in #924\n"
     ]
    },
    {
     "name": "stderr",
     "output_type": "stream",
     "text": [
      "Epoch #979: 1030it [00:01, 539.58it/s, env_step=1008370, len=14, n/ep=0, n/st=10, player_1/loss=179.737, player_2/loss=149.464, rew=208.00]\n"
     ]
    },
    {
     "name": "stdout",
     "output_type": "stream",
     "text": [
      "Epoch #979: test_reward: 214.600000 ± 90.615893, best_reward: 645.900000 ± 615.518391 in #924\n"
     ]
    },
    {
     "name": "stderr",
     "output_type": "stream",
     "text": [
      "Epoch #980: 1030it [00:01, 535.92it/s, env_step=1009400, len=13, n/ep=1, n/st=10, player_1/loss=115.703, player_2/loss=128.397, rew=180.00]\n"
     ]
    },
    {
     "name": "stdout",
     "output_type": "stream",
     "text": [
      "Epoch #980: test_reward: 189.800000 ± 36.490547, best_reward: 645.900000 ± 615.518391 in #924\n"
     ]
    },
    {
     "name": "stderr",
     "output_type": "stream",
     "text": [
      "Epoch #981: 1030it [00:01, 539.06it/s, env_step=1010430, len=45, n/ep=2, n/st=10, player_1/loss=193.045, player_2/loss=131.912, rew=1244.00]\n"
     ]
    },
    {
     "name": "stdout",
     "output_type": "stream",
     "text": [
      "Epoch #981: test_reward: 293.200000 ± 60.861811, best_reward: 645.900000 ± 615.518391 in #924\n"
     ]
    },
    {
     "name": "stderr",
     "output_type": "stream",
     "text": [
      "Epoch #982: 1030it [00:01, 551.43it/s, env_step=1011460, len=12, n/ep=2, n/st=10, player_1/loss=129.867, player_2/loss=202.559, rew=169.00]\n"
     ]
    },
    {
     "name": "stdout",
     "output_type": "stream",
     "text": [
      "Epoch #982: test_reward: 496.200000 ± 461.486468, best_reward: 645.900000 ± 615.518391 in #924\n"
     ]
    },
    {
     "name": "stderr",
     "output_type": "stream",
     "text": [
      "Epoch #983: 1030it [00:01, 550.61it/s, env_step=1012490, len=17, n/ep=0, n/st=10, player_1/loss=171.106, player_2/loss=179.376, rew=229.00]\n"
     ]
    },
    {
     "name": "stdout",
     "output_type": "stream",
     "text": [
      "Epoch #983: test_reward: -6294.800000 ± 10107.829636, best_reward: 645.900000 ± 615.518391 in #924\n"
     ]
    },
    {
     "name": "stderr",
     "output_type": "stream",
     "text": [
      "Epoch #984: 1030it [00:01, 552.97it/s, env_step=1013520, len=11, n/ep=0, n/st=10, player_1/loss=210.363, player_2/loss=187.209, rew=130.00]\n"
     ]
    },
    {
     "name": "stdout",
     "output_type": "stream",
     "text": [
      "Epoch #984: test_reward: -2084.000000 ± 3987.300064, best_reward: 645.900000 ± 615.518391 in #924\n"
     ]
    },
    {
     "name": "stderr",
     "output_type": "stream",
     "text": [
      "Epoch #985: 1030it [00:01, 559.18it/s, env_step=1014550, len=17, n/ep=1, n/st=10, player_1/loss=138.484, player_2/loss=147.190, rew=304.00]\n"
     ]
    },
    {
     "name": "stdout",
     "output_type": "stream",
     "text": [
      "Epoch #985: test_reward: -6804.100000 ± 12060.185417, best_reward: 645.900000 ± 615.518391 in #924\n"
     ]
    },
    {
     "name": "stderr",
     "output_type": "stream",
     "text": [
      "Epoch #986: 1030it [00:01, 539.04it/s, env_step=1015580, len=11, n/ep=0, n/st=10, player_1/loss=157.699, player_2/loss=155.583, rew=144.00]\n"
     ]
    },
    {
     "name": "stdout",
     "output_type": "stream",
     "text": [
      "Epoch #986: test_reward: 97.200000 ± 399.422032, best_reward: 645.900000 ± 615.518391 in #924\n"
     ]
    },
    {
     "name": "stderr",
     "output_type": "stream",
     "text": [
      "Epoch #987: 1030it [00:02, 488.71it/s, env_step=1016610, len=12, n/ep=0, n/st=10, player_1/loss=169.827, player_2/loss=177.175, rew=154.00]\n"
     ]
    },
    {
     "name": "stdout",
     "output_type": "stream",
     "text": [
      "Epoch #987: test_reward: 268.000000 ± 38.042082, best_reward: 645.900000 ± 615.518391 in #924\n"
     ]
    },
    {
     "name": "stderr",
     "output_type": "stream",
     "text": [
      "Epoch #988: 1030it [00:01, 519.59it/s, env_step=1017640, len=10, n/ep=0, n/st=10, player_1/loss=133.341, player_2/loss=145.592, rew=108.00]\n"
     ]
    },
    {
     "name": "stdout",
     "output_type": "stream",
     "text": [
      "Epoch #988: test_reward: 26.700000 ± 326.906730, best_reward: 645.900000 ± 615.518391 in #924\n"
     ]
    },
    {
     "name": "stderr",
     "output_type": "stream",
     "text": [
      "Epoch #989: 1030it [00:01, 540.74it/s, env_step=1018670, len=56, n/ep=0, n/st=10, player_1/loss=175.896, player_2/loss=129.796, rew=1070.50]\n"
     ]
    },
    {
     "name": "stdout",
     "output_type": "stream",
     "text": [
      "Epoch #989: test_reward: -3755.600000 ± 6884.854613, best_reward: 645.900000 ± 615.518391 in #924\n"
     ]
    },
    {
     "name": "stderr",
     "output_type": "stream",
     "text": [
      "Epoch #990: 1030it [00:02, 499.20it/s, env_step=1019700, len=11, n/ep=1, n/st=10, player_1/loss=259.616, player_2/loss=256.391, rew=130.00] \n"
     ]
    },
    {
     "name": "stdout",
     "output_type": "stream",
     "text": [
      "Epoch #990: test_reward: 198.000000 ± 35.019994, best_reward: 645.900000 ± 615.518391 in #924\n"
     ]
    },
    {
     "name": "stderr",
     "output_type": "stream",
     "text": [
      "Epoch #991: 1030it [00:02, 498.25it/s, env_step=1020730, len=79, n/ep=1, n/st=10, player_1/loss=210.840, player_2/loss=206.360, rew=1491.00]\n"
     ]
    },
    {
     "name": "stdout",
     "output_type": "stream",
     "text": [
      "Epoch #991: test_reward: -647.600000 ± 2960.109937, best_reward: 645.900000 ± 615.518391 in #924\n"
     ]
    },
    {
     "name": "stderr",
     "output_type": "stream",
     "text": [
      "Epoch #992: 1030it [00:02, 392.00it/s, env_step=1021760, len=102, n/ep=0, n/st=10, player_1/loss=222.405, player_2/loss=234.582, rew=910.00]\n"
     ]
    },
    {
     "name": "stdout",
     "output_type": "stream",
     "text": [
      "Epoch #992: test_reward: -18778.900000 ± 19809.254789, best_reward: 645.900000 ± 615.518391 in #924\n"
     ]
    },
    {
     "name": "stderr",
     "output_type": "stream",
     "text": [
      "Epoch #993: 1030it [00:02, 431.07it/s, env_step=1022790, len=12, n/ep=1, n/st=10, player_1/loss=328.013, player_2/loss=225.833, rew=154.00]\n"
     ]
    },
    {
     "name": "stdout",
     "output_type": "stream",
     "text": [
      "Epoch #993: test_reward: -71.100000 ± 466.076914, best_reward: 645.900000 ± 615.518391 in #924\n"
     ]
    },
    {
     "name": "stderr",
     "output_type": "stream",
     "text": [
      "Epoch #994: 1030it [00:02, 426.26it/s, env_step=1023820, len=30, n/ep=0, n/st=10, player_1/loss=151.281, player_2/loss=204.771, rew=439.00]\n"
     ]
    },
    {
     "name": "stdout",
     "output_type": "stream",
     "text": [
      "Epoch #994: test_reward: 427.100000 ± 415.556362, best_reward: 645.900000 ± 615.518391 in #924\n"
     ]
    },
    {
     "name": "stderr",
     "output_type": "stream",
     "text": [
      "Epoch #995: 1030it [00:02, 477.13it/s, env_step=1024850, len=33, n/ep=0, n/st=10, player_1/loss=209.959, player_2/loss=203.115, rew=784.00]\n"
     ]
    },
    {
     "name": "stdout",
     "output_type": "stream",
     "text": [
      "Epoch #995: test_reward: 387.200000 ± 46.451695, best_reward: 645.900000 ± 615.518391 in #924\n"
     ]
    },
    {
     "name": "stderr",
     "output_type": "stream",
     "text": [
      "Epoch #996: 1030it [00:01, 529.04it/s, env_step=1025880, len=17, n/ep=1, n/st=10, player_1/loss=270.629, player_2/loss=167.527, rew=304.00]\n"
     ]
    },
    {
     "name": "stdout",
     "output_type": "stream",
     "text": [
      "Epoch #996: test_reward: -98.700000 ± 1352.310767, best_reward: 645.900000 ± 615.518391 in #924\n"
     ]
    },
    {
     "name": "stderr",
     "output_type": "stream",
     "text": [
      "Epoch #997: 1030it [00:01, 554.34it/s, env_step=1026910, len=34, n/ep=0, n/st=10, player_1/loss=97.780, player_2/loss=128.180, rew=918.00]\n"
     ]
    },
    {
     "name": "stdout",
     "output_type": "stream",
     "text": [
      "Epoch #997: test_reward: -12685.700000 ± 12331.558766, best_reward: 645.900000 ± 615.518391 in #924\n"
     ]
    },
    {
     "name": "stderr",
     "output_type": "stream",
     "text": [
      "Epoch #998: 1030it [00:01, 528.79it/s, env_step=1027940, len=17, n/ep=0, n/st=10, player_1/loss=139.658, player_2/loss=117.108, rew=304.00]\n"
     ]
    },
    {
     "name": "stdout",
     "output_type": "stream",
     "text": [
      "Epoch #998: test_reward: -37527.500000 ± 31668.684416, best_reward: 645.900000 ± 615.518391 in #924\n"
     ]
    },
    {
     "name": "stderr",
     "output_type": "stream",
     "text": [
      "Epoch #999: 1030it [00:01, 523.56it/s, env_step=1028970, len=31, n/ep=0, n/st=10, player_1/loss=156.571, player_2/loss=148.474, rew=606.00]\n"
     ]
    },
    {
     "name": "stdout",
     "output_type": "stream",
     "text": [
      "Epoch #999: test_reward: -6064.800000 ± 19005.312398, best_reward: 645.900000 ± 615.518391 in #924\n"
     ]
    }
   ],
   "source": [
    "####################################################\n",
    "# EXPERIMENT: TRAINING AGENTS\n",
    "####################################################\n",
    "\n",
    "# Get the environment settings\n",
    "env = get_env()\n",
    "observation_space = env.observation_space['observation'] if isinstance(env.observation_space, gym.spaces.Dict) else env.observation_space\n",
    "state_shape = observation_space.shape or observation_space.n\n",
    "action_shape = env.action_space.shape or env.action_space.n\n",
    "\n",
    "# Configure the agents\n",
    "agent1 = cf_dqn_policy(state_shape= state_shape,\n",
    "                       action_shape= action_shape,\n",
    "                       gamma= 0.95, # Favour shorter solutions if small\n",
    "                       n_step= 6, # Allow to look 6 steps ahead\n",
    "                       hidden_sizes= [50, 50, 50, 50, 50, 50, 50])\n",
    "\n",
    "\n",
    "agent2 = copy.deepcopy(agent1)\n",
    "\n",
    "# Train the agent\n",
    "off_policy_traininer_results, final_agent_player1, final_agent_player2 = train_agent(epochs= 1000,\n",
    "                                                                                     training_eps= 0.2)"
   ]
  },
  {
   "cell_type": "code",
   "execution_count": 11,
   "id": "8c8f3121",
   "metadata": {},
   "outputs": [
    {
     "name": "stdout",
     "output_type": "stream",
     "text": [
      "Average steps of game:  16.333333333333332\n",
      "Final mean reward agent 1: 151.0, std: 15.556349186104045\n",
      "Final mean reward agent 2: 131.0, std: 15.556349186104045\n"
     ]
    }
   ],
   "source": [
    "####################################################\n",
    "# EXPERIMENT: VIEWING THE BEST LEARNED POLICY\n",
    "####################################################\n",
    "\n",
    "# Get the environment settings\n",
    "env = get_env()\n",
    "observation_space = env.observation_space['observation'] if isinstance(env.observation_space, gym.spaces.Dict) else env.observation_space\n",
    "state_shape = observation_space.shape or observation_space.n\n",
    "action_shape = env.action_space.shape or env.action_space.n\n",
    "\n",
    "# Configure the best agent\n",
    "best_agent1 = cf_dqn_policy(state_shape= state_shape,\n",
    "                            action_shape= action_shape)\n",
    "best_agent1.load_state_dict(torch.load(\"./saved_variables/paper_notebooks/4/dqn_vs_dqn/best_policy_agent1.pth\"))\n",
    "\n",
    "\n",
    "best_agent2 = cf_dqn_policy(state_shape= state_shape,\n",
    "                            action_shape= action_shape)\n",
    "best_agent2.load_state_dict(torch.load(\"./saved_variables/paper_notebooks/4/dqn_vs_dqn/best_policy_agent2.pth\"))\n",
    "\n",
    "# Watch the best agent at work\n",
    "watch(numer_of_games= 3,\n",
    "      render_speed= 0.3,\n",
    "      agent_player1= best_agent1,\n",
    "      agent_player2= best_agent2)\n",
    "\n"
   ]
  },
  {
   "cell_type": "code",
   "execution_count": 12,
   "id": "c704acd8",
   "metadata": {},
   "outputs": [
    {
     "name": "stdout",
     "output_type": "stream",
     "text": [
      "Average steps of game:  191.0\n",
      "Final mean reward agent 1: 2479.3333333333335, std: 1022.513352262725\n",
      "Final mean reward agent 2: -14340.333333333334, std: 12753.200548184843\n"
     ]
    }
   ],
   "source": [
    "####################################################\n",
    "# EXPERIMENT: VIEWING THE LAST LEARNED POLICY\n",
    "####################################################\n",
    "\n",
    "# Configure the final agent\n",
    "final_agent_player1 = cf_dqn_policy(state_shape= state_shape,\n",
    "                            action_shape= action_shape)\n",
    "final_agent_player1.load_state_dict(torch.load(\"./saved_variables/paper_notebooks/4/dqn_vs_dqn/final_policy_agent1.pth\"))\n",
    "\n",
    "\n",
    "final_agent_player2 = cf_dqn_policy(state_shape= state_shape,\n",
    "                            action_shape= action_shape)\n",
    "final_agent_player2.load_state_dict(torch.load(\"./saved_variables/paper_notebooks/4/dqn_vs_dqn/final_policy_agent2.pth\"))\n",
    "\n",
    "# Watch the best agent at work\n",
    "watch(numer_of_games= 3,\n",
    "      render_speed= 0.1,\n",
    "      agent_player1= final_agent_player1,\n",
    "      agent_player2= final_agent_player2)\n",
    "\n"
   ]
  },
  {
   "cell_type": "markdown",
   "id": "84478519",
   "metadata": {},
   "source": [
    "<hr><hr>\n",
    "\n",
    "## Discussion\n",
    "\n",
    "The DQN now favours longer games but just optimizes to play long games rather then actually winning games with a strategy that makes no sense from a human perspective. Whilst we could improve this further, we feel our underlying network for the DQN is not ideal for the job and thus the next notebook will first look for a better network."
   ]
  },
  {
   "cell_type": "code",
   "execution_count": null,
   "id": "3d9110be",
   "metadata": {},
   "outputs": [],
   "source": [
    "####################################################\n",
    "# CLEAN VARIABLES\n",
    "####################################################\n",
    "\n",
    "del action_shape\n",
    "del agent1\n",
    "del agent2\n",
    "del best_agent1\n",
    "del best_agent2\n",
    "del env\n",
    "del final_agent_player1\n",
    "del final_agent_player2\n",
    "del observation_space\n",
    "del off_policy_traininer_results\n",
    "del state_shape\n"
   ]
  },
  {
   "cell_type": "code",
   "execution_count": null,
   "id": "a74d3da3",
   "metadata": {},
   "outputs": [],
   "source": []
  }
 ],
 "metadata": {
  "interpreter": {
   "hash": "9b88c88564fefe7444548986d165ad8d7f764d0079ffa923785a3f5a89d52c74"
  },
  "kernelspec": {
   "display_name": "Python 3 (ipykernel)",
   "language": "python",
   "name": "python3"
  },
  "language_info": {
   "codemirror_mode": {
    "name": "ipython",
    "version": 3
   },
   "file_extension": ".py",
   "mimetype": "text/x-python",
   "name": "python",
   "nbconvert_exporter": "python",
   "pygments_lexer": "ipython3",
   "version": "3.8.10"
  }
 },
 "nbformat": 4,
 "nbformat_minor": 5
}
