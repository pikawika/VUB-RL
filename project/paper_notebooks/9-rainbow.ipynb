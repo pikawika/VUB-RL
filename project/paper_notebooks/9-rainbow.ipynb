{
 "cells": [
  {
   "cell_type": "markdown",
   "id": "337221df",
   "metadata": {},
   "source": [
    "# Using the Rainbow algorithm to learn connect four\n",
    "\n",
    "The previous notebooks all used Deep Q-Networks (DQN) to learn to play connect four and no real desired behaviour was obtained.\n",
    "Since rainbow by [Hessel et al](https://doi.org/10.48550/arXiv.1710.02298) is known to outperform DQN in both sample efficiency and overall performance for Atari games, we explore its performance on the connect four game as well. "
   ]
  },
  {
   "cell_type": "markdown",
   "id": "b5341c6d",
   "metadata": {},
   "source": [
    "<hr><hr>\n",
    "\n",
    "## Table of Contents\n",
    "\n",
    "- Contact information\n",
    "- Checking requirements\n",
    "  - Correct Anaconda environment\n",
    "  - Correct module access\n",
    "  - Correct CUDA access\n",
    "- Training two Rainbow agents on connect four Gym\n",
    "  - Building the environment\n",
    "  - Implementing the Rainbow policy\n",
    "  - Building agents\n",
    "  - Function for letting agents learn\n",
    "  - Function for watching learned agent\n",
    "  - Doing the experiment\n",
    "- Discussion"
   ]
  },
  {
   "cell_type": "markdown",
   "id": "292165d3",
   "metadata": {},
   "source": [
    "<hr><hr>\n",
    "\n",
    "## Contact information\n",
    "\n",
    "| Name             | Student ID | VUB mail                                                  | Personal mail                                               |\n",
    "| ---------------- | ---------- | --------------------------------------------------------- | ----------------------------------------------------------- |\n",
    "| Lennert Bontinck | 0568702    | [lennert.bontinck@vub.be](mailto:lennert.bontinck@vub.be) | [info@lennertbontinck.com](mailto:info@lennertbontinck.com) |\n",
    "\n"
   ]
  },
  {
   "cell_type": "markdown",
   "id": "7a405d24",
   "metadata": {},
   "source": [
    "<hr><hr>\n",
    "\n",
    "## Checking requirements\n",
    "\n",
    "### Correct Anaconda environment\n",
    "\n",
    "The `rl-project` anaconda environment should be active to ensure proper support. Installation instructions are available on [the GitHub repository of the RL course project and homeworks](https://github.com/pikawika/vub-rl)."
   ]
  },
  {
   "cell_type": "code",
   "execution_count": 1,
   "id": "334d5fd4",
   "metadata": {},
   "outputs": [
    {
     "name": "stdout",
     "output_type": "stream",
     "text": [
      "Active environment: rl-project\n",
      "Correct environment: True\n",
      "\n",
      "Python version: 3.8.10\n",
      "Correct Python version: True\n"
     ]
    }
   ],
   "source": [
    "####################################################\n",
    "# CHECKING FOR RIGHT ANACONDA ENVIRONMENT\n",
    "####################################################\n",
    "\n",
    "import os\n",
    "from platform import python_version\n",
    "\n",
    "print(f\"Active environment: {os.environ['CONDA_DEFAULT_ENV']}\")\n",
    "print(f\"Correct environment: {os.environ['CONDA_DEFAULT_ENV'] == 'rl-project'}\")\n",
    "print(f\"\\nPython version: {python_version()}\")\n",
    "print(f\"Correct Python version: {python_version() == '3.8.10'}\")"
   ]
  },
  {
   "cell_type": "markdown",
   "id": "22166668",
   "metadata": {},
   "source": [
    "<hr>\n",
    "\n",
    "### Correct module access\n",
    "\n",
    "The following code block will load in all required modules and show if the versions match those that are recommended."
   ]
  },
  {
   "cell_type": "code",
   "execution_count": 3,
   "id": "ab632204",
   "metadata": {},
   "outputs": [
    {
     "name": "stdout",
     "output_type": "stream",
     "text": [
      "Matplotlib version (3.5.1 recommended): 3.5.1\n",
      "Pygame version (2.1.2 recommended): 2.1.2\n",
      "Gym version (0.21.0 recommended): 0.21.0\n",
      "Tianshou version (0.4.8 recommended): 0.4.8\n",
      "Torch version (1.12.0 recommended): 1.12.0.dev20220520+cu116\n"
     ]
    }
   ],
   "source": [
    "####################################################\n",
    "# LOADING MODULES\n",
    "####################################################\n",
    "\n",
    "# Allow reloading of libraries\n",
    "import importlib\n",
    "\n",
    "# Plotting\n",
    "import matplotlib; print(f\"Matplotlib version (3.5.1 recommended): {matplotlib.__version__}\")\n",
    "import matplotlib.pyplot as plt\n",
    "\n",
    "# Argparser\n",
    "import argparse\n",
    "\n",
    "# More data types\n",
    "import typing\n",
    "import numpy as np\n",
    "\n",
    "# Pygame\n",
    "import pygame; print(f\"Pygame version (2.1.2 recommended): {pygame.__version__}\")\n",
    "\n",
    "# Gym environment\n",
    "import gym; print(f\"Gym version (0.21.0 recommended): {gym.__version__}\")\n",
    "\n",
    "# Tianshou for RL algorithms\n",
    "import tianshou as ts; print(f\"Tianshou version (0.4.8 recommended): {ts.__version__}\")\n",
    "\n",
    "# Torch is a popular DL framework\n",
    "import torch; print(f\"Torch version (1.12.0 recommended): {torch.__version__}\")\n",
    "\n",
    "# PPrint is a pretty print for variables\n",
    "from pprint import pprint\n",
    "\n",
    "# Our custom connect four gym environment\n",
    "import sys\n",
    "sys.path.append('../')\n",
    "import gym_connect4_pygame.envs.ConnectFourPygameEnvV2 as cfgym\n",
    "importlib.invalidate_caches()\n",
    "importlib.reload(cfgym)\n",
    "\n",
    "# Time for allowing \"freezes\" in execution\n",
    "import time;\n",
    "\n",
    "# Allow for copying objects in a non reference manner\n",
    "import copy\n",
    "\n",
    "# Used for updating notebook display\n",
    "from IPython.display import clear_output"
   ]
  },
  {
   "cell_type": "markdown",
   "id": "f2617a21",
   "metadata": {},
   "source": [
    "<hr>\n",
    "\n",
    "### Correct CUDA access\n",
    "\n",
    "The installation instructions specify how to install PyTorch with CUDA 11.6.\n",
    "The following code block tests if this was done successfully."
   ]
  },
  {
   "cell_type": "code",
   "execution_count": 4,
   "id": "da9f5ed0",
   "metadata": {},
   "outputs": [
    {
     "name": "stdout",
     "output_type": "stream",
     "text": [
      "CUDA is available: True\n",
      "\n",
      "Amount of connected devices supporting CUDA: 1\n",
      "\n",
      "Current CUDA device: 0\n",
      "Cuda device 0 name: NVIDIA GeForce GTX 970\n"
     ]
    }
   ],
   "source": [
    "####################################################\n",
    "# CUDA VALIDATION\n",
    "####################################################\n",
    "\n",
    "# Check cuda available\n",
    "print(f\"CUDA is available: {torch.cuda.is_available()}\")\n",
    "\n",
    "# Show cuda devices\n",
    "print(f\"\\nAmount of connected devices supporting CUDA: {torch.cuda.device_count()}\")\n",
    "\n",
    "# Show current cuda device\n",
    "print(f\"\\nCurrent CUDA device: {torch.cuda.current_device()}\")\n",
    "\n",
    "# Show cuda device name\n",
    "print(f\"Cuda device 0 name: {torch.cuda.get_device_name(0)}\")"
   ]
  },
  {
   "cell_type": "markdown",
   "id": "826657c4",
   "metadata": {},
   "source": [
    "<hr><hr>\n",
    "\n",
    "## Training two Rainbow agents on connect four Gym\n",
    "\n",
    "Our connect four gym setup requires two agents, one for each player.\n",
    "To reduce complexity, agents will always play as the same player, e.g. always as player 1.\n",
    "It is important to note that connect four is a *solved game*.\n",
    "According to [The Washington Post](https://www.washingtonpost.com/news/wonk/wp/2015/05/08/how-to-win-any-popular-game-according-to-data-scientists/):\n",
    "\n",
    "> Connect Four is what mathematicians call a \"solved game,\" meaning you can play it perfectly every time, no matter what your opponent does. You will need to get the first move, but as long as you do so, you can always win within 41 moves.\n",
    "\n",
    "<hr>\n",
    "\n",
    "### Building the environment\n",
    "\n",
    "This code is taken from previous notebooks.\n",
    "We don't allow invalid moves to make the problem easier for now."
   ]
  },
  {
   "cell_type": "code",
   "execution_count": 5,
   "id": "c2b47a58",
   "metadata": {},
   "outputs": [
    {
     "name": "stdout",
     "output_type": "stream",
     "text": [
      "Observation space: Dict(action_mask:Box([0 0 0 0 0 0 0], [1 1 1 1 1 1 1], (7,), int8), observation:Box([[0 0 0 0 0 0 0]\n",
      " [0 0 0 0 0 0 0]\n",
      " [0 0 0 0 0 0 0]\n",
      " [0 0 0 0 0 0 0]\n",
      " [0 0 0 0 0 0 0]\n",
      " [0 0 0 0 0 0 0]], [[2 2 2 2 2 2 2]\n",
      " [2 2 2 2 2 2 2]\n",
      " [2 2 2 2 2 2 2]\n",
      " [2 2 2 2 2 2 2]\n",
      " [2 2 2 2 2 2 2]\n",
      " [2 2 2 2 2 2 2]], (6, 7), int8))\n",
      "\n",
      "Action space: Discrete(7)\n",
      "\n",
      " Initial player id:\n",
      "player_1\n",
      "\n",
      " Initial observation:\n",
      "[[0. 0. 0. 0. 0. 0. 0.]\n",
      " [0. 0. 0. 0. 0. 0. 0.]\n",
      " [0. 0. 0. 0. 0. 0. 0.]\n",
      " [0. 0. 0. 0. 0. 0. 0.]\n",
      " [0. 0. 0. 0. 0. 0. 0.]\n",
      " [0. 0. 0. 0. 0. 0. 0.]]\n",
      "\n",
      " Initial mask:\n",
      "[True, True, True, True, True, True, True]\n"
     ]
    }
   ],
   "source": [
    "####################################################\n",
    "# CONNECT FOUR V2 ENVIRONMENT\n",
    "####################################################\n",
    "\n",
    "def get_env():\n",
    "    \"\"\"\n",
    "    Returns the connect four gym environment V2 altered for Tianshou and Petting Zoo compatibility.\n",
    "    Already wrapped with a ts.env.PettingZooEnv wrapper.\n",
    "    \"\"\"\n",
    "    return ts.env.PettingZooEnv(cfgym.env(reward_move= 1, # Set to 1 for reward to make moves (incentivise longer games)\n",
    "                                          reward_invalid= -3,\n",
    "                                          reward_draw= 15,\n",
    "                                          reward_win= 25,\n",
    "                                          reward_loss= -25,\n",
    "                                          allow_invalid_move= False))\n",
    "    \n",
    "    \n",
    "# Test the environment\n",
    "env = get_env()\n",
    "print(f\"Observation space: {env.observation_space}\")\n",
    "print(f\"\\nAction space: {env.action_space}\")\n",
    "\n",
    "# Reset the environment to start from a clean state, returns the initial observation\n",
    "observation = env.reset()\n",
    "\n",
    "print(\"\\n Initial player id:\")\n",
    "print(observation[\"agent_id\"])\n",
    "\n",
    "print(\"\\n Initial observation:\")\n",
    "print(observation[\"obs\"])\n",
    "\n",
    "print(\"\\n Initial mask:\")\n",
    "print(observation[\"mask\"])\n",
    "\n",
    "# Clean unused variables\n",
    "del observation\n",
    "del env"
   ]
  },
  {
   "cell_type": "markdown",
   "id": "0bc7e7da",
   "metadata": {},
   "source": [
    "<hr>\n",
    "\n",
    "### Implementing the Rainbow policy\n",
    "\n",
    "The Rainbow policy for the agent is configured and set up below.\n",
    "This is based on the Atari rainbow example by the [Tianshou doc](https://github.com/thu-ml/tianshou/blob/master/examples/atari/atari_rainbow.py).\n",
    "Tianshou uses a DQN as base class for Rainbow, so we will do this to but adopt both classes to better represent our previous DQN models."
   ]
  },
  {
   "cell_type": "code",
   "execution_count": 15,
   "id": "8e2f43c0",
   "metadata": {},
   "outputs": [],
   "source": [
    "####################################################\n",
    "# DQN ARCHITECTURE\n",
    "####################################################\n",
    "\n",
    "class DQNForRainbow(torch.nn.Module):\n",
    "    \"\"\"\n",
    "    Custom DQN to be used as baseclass for the Rainbow algorithm.\n",
    "    \"\"\"\n",
    "\n",
    "    def __init__(\n",
    "        self,\n",
    "        c: int,\n",
    "        h: int,\n",
    "        w: int,\n",
    "        action_shape: typing.Sequence[int],\n",
    "        device: typing.Union[str, int, torch.device] = \"cpu\",\n",
    "        features_only: bool = False,\n",
    "        output_dim: typing.Optional[int] = None,\n",
    "    ) -> None:\n",
    "        super().__init__()\n",
    "        self.device = device\n",
    "        \n",
    "        # Number of input channels\n",
    "        input_channels_cnn = 1\n",
    "        output_channels_cnn = 32\n",
    "        self.output_dim = (h - 3) * (w - 3) * output_channels_cnn\n",
    "        \n",
    "        self.net = torch.nn.Sequential(\n",
    "            torch.nn.Conv2d(in_channels= input_channels_cnn, out_channels= output_channels_cnn, kernel_size= 4, stride= 1), torch.nn.ReLU(inplace=True),\n",
    "            torch.nn.Flatten(0,-1),\n",
    "            torch.nn.Unflatten(0, (1, self.output_dim)),\n",
    "        )\n",
    "        if not features_only:\n",
    "            self.net = torch.nn.Sequential(\n",
    "                self.net, torch.nn.Linear(self.output_dim, 512), torch.nn.ReLU(inplace=True),\n",
    "                torch.nn.Linear(512, np.prod(action_shape))\n",
    "            )\n",
    "            self.output_dim = np.prod(action_shape)\n",
    "        elif output_dim is not None:\n",
    "            self.net = torch.nn.Sequential(\n",
    "                self.net, torch.nn.Linear(self.output_dim, output_dim),\n",
    "                torch.nn.ReLU(inplace=True)\n",
    "            )\n",
    "            self.output_dim = output_dim\n",
    "\n",
    "    def forward(\n",
    "        self,\n",
    "        obs: typing.Union[np.ndarray, torch.Tensor],\n",
    "        state: typing.Optional[typing.Any] = None,\n",
    "        info: typing.Dict[str, typing.Any] = {},\n",
    "    ) -> typing.Tuple[torch.Tensor, typing.Any]:\n",
    "        r\"\"\"Mapping: s -> Q(s, \\*).\"\"\"\n",
    "        if not isinstance(obs, torch.Tensor):\n",
    "            obs = torch.tensor(obs, dtype=torch.float, device=self.device)\n",
    "        \n",
    "        logits = self.net(obs)\n",
    "        return logits, state\n"
   ]
  },
  {
   "cell_type": "code",
   "execution_count": 7,
   "id": "2b137ea2",
   "metadata": {},
   "outputs": [],
   "source": [
    "####################################################\n",
    "# RAINBOW ARCHITECTURE\n",
    "####################################################\n",
    "\n",
    "class Rainbow(DQNForRainbow):\n",
    "    \"\"\"\n",
    "    Implementation of the Rainbow algorithm.\n",
    "    \"\"\"\n",
    "\n",
    "    def __init__(\n",
    "        self,\n",
    "        c: int,\n",
    "        h: int,\n",
    "        w: int,\n",
    "        action_shape: typing.Sequence[int],\n",
    "        num_atoms: int = 51,\n",
    "        noisy_std: float = 0.5,\n",
    "        device: typing.Union[str, int, torch.device] = \"cpu\",\n",
    "        is_dueling: bool = True,\n",
    "        is_noisy: bool = True,\n",
    "    ) -> None:\n",
    "        super().__init__(c, h, w, action_shape, device, features_only=True)\n",
    "        self.action_num = np.prod(action_shape)\n",
    "        self.num_atoms = num_atoms\n",
    "\n",
    "        def linear(x, y):\n",
    "            if is_noisy:\n",
    "                return ts.utils.net.discrete.NoisyLinear(x, y, noisy_std)\n",
    "            else:\n",
    "                return torch.nn.Linear(x, y)\n",
    "\n",
    "        self.Q = torch.nn.Sequential(\n",
    "            linear(self.output_dim, 512), torch.nn.ReLU(inplace=True),\n",
    "            linear(512, self.action_num * self.num_atoms)\n",
    "        )\n",
    "        self._is_dueling = is_dueling\n",
    "        if self._is_dueling:\n",
    "            self.V = torch.nn.Sequential(\n",
    "                linear(self.output_dim, 512), torch.nn.ReLU(inplace=True),\n",
    "                linear(512, self.num_atoms)\n",
    "            )\n",
    "        self.output_dim = self.action_num * self.num_atoms\n",
    "\n",
    "    def forward(\n",
    "        self,\n",
    "        obs: typing.Union[np.ndarray, torch.Tensor],\n",
    "        state: typing.Optional[typing.Any] = None,\n",
    "        info: typing.Dict[str, typing.Any] = {},\n",
    "    ) -> typing.Tuple[torch.Tensor, typing.Any]:\n",
    "        r\"\"\"Mapping: x -> Z(x, \\*).\"\"\"\n",
    "        obs, state = super().forward(obs)\n",
    "        q = self.Q(obs)\n",
    "        q = q.view(-1, self.action_num, self.num_atoms)\n",
    "        if self._is_dueling:\n",
    "            v = self.V(obs)\n",
    "            v = v.view(-1, 1, self.num_atoms)\n",
    "            logits = q - q.mean(dim=1, keepdim=True) + v\n",
    "        else:\n",
    "            logits = q\n",
    "        probs = logits.softmax(dim=2)\n",
    "        return probs, state"
   ]
  },
  {
   "cell_type": "code",
   "execution_count": 8,
   "id": "539b56ff",
   "metadata": {},
   "outputs": [],
   "source": [
    "####################################################\n",
    "# RAINBOW POLICY\n",
    "####################################################\n",
    "\n",
    "def rainbow_policy(state_shape: tuple,\n",
    "                  action_shape: tuple,\n",
    "                  optim: typing.Optional[torch.optim.Optimizer] = None,\n",
    "                  learning_rate: float =  0.0000625,\n",
    "                  gamma: float = 0.9, # Smaller gamma favours \"faster\" win\n",
    "                  n_step: int = 1, # Number of steps to look ahead\n",
    "                  num_atoms: int = 51,\n",
    "                  target_update_freq: int = 500):\n",
    "    \n",
    "    # Use cuda device if possible\n",
    "    device = 'cuda' if torch.cuda.is_available() else 'cpu'\n",
    "    \n",
    "    # Rainbow network to be used by policy\n",
    "    net = Rainbow(c= 1,\n",
    "                  h= state_shape[0],\n",
    "                  w= state_shape[1],\n",
    "                  action_shape= action_shape,                  \n",
    "                  device= device).to(device)\n",
    "    \n",
    "    # Default optimizer is an adam optimizer with the argparser learning rate\n",
    "    if optim is None:\n",
    "        optim = torch.optim.Adam(net.parameters(), lr= learning_rate)\n",
    "        \n",
    "    # Our agent DQN policy\n",
    "    return ts.policy.RainbowPolicy(model= net,\n",
    "                                   optim= optim,\n",
    "                                   discount_factor= gamma,\n",
    "                                   num_atoms= num_atoms,\n",
    "                                   estimation_step= n_step,\n",
    "                                   target_update_freq= target_update_freq).to(device)\n",
    "    \n",
    "    "
   ]
  },
  {
   "cell_type": "markdown",
   "id": "dd411318",
   "metadata": {},
   "source": [
    "<hr>\n",
    "\n",
    "### Building agents\n",
    "\n",
    "Identical to the previous notebook."
   ]
  },
  {
   "cell_type": "code",
   "execution_count": 9,
   "id": "a06d25c3",
   "metadata": {},
   "outputs": [],
   "source": [
    "####################################################\n",
    "# AGENT CREATION\n",
    "####################################################\n",
    "\n",
    "def get_agents(agent_player1: typing.Optional[ts.policy.BasePolicy] = None,\n",
    "               agent_player2: typing.Optional[ts.policy.BasePolicy] = None,\n",
    "               optim: typing.Optional[torch.optim.Optimizer] = None,\n",
    "               resume_path_player_1: str = '', # Path to file to resume agent training from\n",
    "               resume_path_player_2: str = '', \n",
    "               ) -> typing.Tuple[ts.policy.BasePolicy, torch.optim.Optimizer, list]:\n",
    "    \"\"\"\n",
    "    Gets a multi agent policy manager, optimizer and player ids for the connect four V2 gym environment.\n",
    "    Per default this returns \n",
    "        - Multi agent manager for 2 agents using Rainbow\n",
    "        - Adam optimizer\n",
    "        - ['player_1', 'player_2'] from the connect four environment\n",
    "    \"\"\"\n",
    "    \n",
    "    # Get the environment to play in (Connect four gym V2)\n",
    "    env = get_env()\n",
    "    \n",
    "    # Get the observation space from the environment, depending on typo of space (ternary operator)\n",
    "    observation_space = env.observation_space['observation'] if isinstance(env.observation_space, gym.spaces.Dict) else env.observation_space\n",
    "    \n",
    "    # Set the arguments\n",
    "    state_shape = observation_space.shape or observation_space.n\n",
    "    action_shape = env.action_space.shape or env.action_space.n\n",
    "    \n",
    "    # Configure agent player 1 to be a DQN if no policy is passed.\n",
    "    if agent_player1 is None:\n",
    "        # Our agent1 uses a DQN policy\n",
    "        agent_player1 = rainbow_policy(state_shape= state_shape,\n",
    "                                       action_shape= action_shape,\n",
    "                                       optim= optim)\n",
    "        \n",
    "        # If we resume our agent we need to load the previous config\n",
    "        if resume_path_player_1:\n",
    "            agent_player1.load_state_dict(torch.load(resume_path_player_1))\n",
    "    \n",
    "    # Configure agent player 2 to be a DQN if no policy is passed.\n",
    "    if agent_player2 is None:\n",
    "        # Our agent1 uses a DQN policy\n",
    "        agent_player2 = rainbow_policy(state_shape= state_shape,\n",
    "                                       action_shape= action_shape,\n",
    "                                       optim= optim)\n",
    "        \n",
    "        # If we resume our agent we need to load the previous config\n",
    "        if resume_path_player_2:\n",
    "            agent_player2.load_state_dict(torch.load(resume_path_player_2))\n",
    "\n",
    "    # Both our agents are DQN agents by default\n",
    "    agents = [agent_player1, agent_player2]\n",
    "        \n",
    "    # Our policy depends on the order of the agents\n",
    "    policy = ts.policy.MultiAgentPolicyManager(agents, env)\n",
    "    \n",
    "    # Return our policy, optimizer and the available agents in the environment\n",
    "    # Per default: \n",
    "    #   - Multi agent manager for 2 agents using Rainbow\n",
    "    #   - Adam optimizer\n",
    "    #   - ['player_1', 'player_2'] from the connect four environment\n",
    "    \n",
    "    return policy, optim, env.agents"
   ]
  },
  {
   "cell_type": "markdown",
   "id": "95a8f3a6",
   "metadata": {},
   "source": [
    "<hr>\n",
    "\n",
    "### Function for letting agents learn\n",
    "\n",
    "Identical to the previous notebook."
   ]
  },
  {
   "cell_type": "code",
   "execution_count": 10,
   "id": "d364383d",
   "metadata": {},
   "outputs": [],
   "source": [
    "####################################################\n",
    "# AGENT TRAINING\n",
    "####################################################\n",
    "\n",
    "def train_agent(filename: str = \"rainbow_vs_rainbow\",\n",
    "                agent_player1: typing.Optional[ts.policy.BasePolicy] = None,\n",
    "                agent_player2: typing.Optional[ts.policy.BasePolicy] = None,\n",
    "                optim: typing.Optional[torch.optim.Optimizer] = None,\n",
    "                training_env_num: int = 1,\n",
    "                testing_env_num: int = 1,\n",
    "                buffer_size: int = 2^14,\n",
    "                batch_size: int = 1, \n",
    "                epochs: int = 50, #50\n",
    "                step_per_epoch: int = 1024, #1024\n",
    "                step_per_collect: int = 64, # transition before update\n",
    "                update_per_step: float = 0.1,\n",
    "                testing_eps: float = 0.05,\n",
    "                training_eps: float = 0.1,\n",
    "                ) -> typing.Tuple[dict, ts.policy.BasePolicy]:\n",
    "    \"\"\"\n",
    "    Trains two agents in the connect four V2 environment and saves their best model and logs.\n",
    "    Returns:\n",
    "        - result from offpolicy_trainer\n",
    "        - final version of agent 1\n",
    "        - final version of agent 2\n",
    "    \"\"\"\n",
    "\n",
    "    # ======== notebook specific =========\n",
    "    notebook_version = '9' # Used for foldering logs and models\n",
    "\n",
    "    # ======== environment setup =========\n",
    "    train_envs = ts.env.DummyVectorEnv([get_env for _ in range(training_env_num)])\n",
    "    test_envs = ts.env.DummyVectorEnv([get_env for _ in range(testing_env_num)])\n",
    "    \n",
    "    # set the seed for reproducibility\n",
    "    np.random.seed(1998)\n",
    "    torch.manual_seed(1998)\n",
    "    train_envs.seed(1998)\n",
    "    test_envs.seed(1998)\n",
    "\n",
    "    # ======== agent setup =========\n",
    "    # Gets our agents from the previously made function\n",
    "    # Per default: \n",
    "    #   - Multi agent manager for 2 agents using DQN\n",
    "    #   - Adam optimizer\n",
    "    #   - ['player_1', 'player_2'] from the connect four environment\n",
    "    policy, optim, agents = get_agents(agent_player1=agent_player1,\n",
    "                                       agent_player2=agent_player2,\n",
    "                                       optim=optim)\n",
    "\n",
    "    # ======== collector setup =========\n",
    "    # Make a collector for the training environments\n",
    "    train_collector = ts.data.Collector(policy= policy,\n",
    "                                        env= train_envs,\n",
    "                                        buffer= ts.data.VectorReplayBuffer(buffer_size, len(train_envs)),\n",
    "                                        exploration_noise= True)\n",
    "    \n",
    "    # Make a collector for the testing environments\n",
    "    test_collector = ts.data.Collector(policy= policy,\n",
    "                                       env= test_envs,\n",
    "                                       buffer= ts.data.VectorReplayBuffer(buffer_size, len(test_envs)),\n",
    "                                       exploration_noise= True)\n",
    "    \n",
    "    # Uncomment below if you want to set epsilon in epsilon policy\n",
    "    # policy.set_eps(1)\n",
    "    \n",
    "    # Collect data fot the training evnironments\n",
    "    train_collector.collect(n_step= batch_size * training_env_num)\n",
    "    \n",
    "    # ======== ensure folders exist =========\n",
    "    if not os.path.exists(os.path.join('./logs', 'paper_notebooks', notebook_version, filename)):\n",
    "        os.makedirs(os.path.join('./logs', 'paper_notebooks', notebook_version, filename))\n",
    "    if not os.path.exists(os.path.join('./saved_variables', 'paper_notebooks', notebook_version, filename)):\n",
    "        os.makedirs(os.path.join('./saved_variables', 'paper_notebooks', notebook_version, filename))\n",
    "\n",
    "    # ======== tensorboard logging setup =========\n",
    "    # Allows to save the training progress to tensorboard compatable logs\n",
    "    log_path = os.path.join('./logs', 'paper_notebooks', notebook_version, filename)\n",
    "    writer = torch.utils.tensorboard.SummaryWriter(log_path)\n",
    "    logger = ts.utils.TensorboardLogger(writer)\n",
    "\n",
    "    # ======== callback functions used during training =========\n",
    "    # We want to save our best policy\n",
    "    def save_best_fn(policy):\n",
    "        \"\"\"\n",
    "        Callback to save the best model\n",
    "        \"\"\"\n",
    "        # Save best agent 1\n",
    "        model_save_path = os.path.join('./saved_variables', 'paper_notebooks', notebook_version, filename, 'best_policy_agent1.pth')\n",
    "        torch.save(policy.policies[agents[0]].state_dict(), model_save_path)\n",
    "        \n",
    "        # Save best agent 2\n",
    "        model_save_path = os.path.join('./saved_variables', 'paper_notebooks', notebook_version, filename, 'best_policy_agent2.pth')\n",
    "        torch.save(policy.policies[agents[1]].state_dict(), model_save_path)\n",
    "        \n",
    "        # Save agent2\n",
    "\n",
    "    def stop_fn(mean_rewards):\n",
    "        \"\"\"\n",
    "        Callback to stop training when we've reached the win rate\n",
    "        \"\"\"\n",
    "        return mean_rewards >= 7 # (win = 10, 70% win without invalid moves = mean of 7)\n",
    "\n",
    "    def train_fn(epoch, env_step):\n",
    "        \"\"\"\n",
    "        Callback before training\n",
    "        \"\"\"        \n",
    "        # Before training we want to configure the epsilon for the agents\n",
    "        # In general more exploratory than the test case\n",
    "        policy.policies[agents[0]].set_eps(training_eps)\n",
    "        policy.policies[agents[1]].set_eps(training_eps)\n",
    "\n",
    "    def test_fn(epoch, env_step):\n",
    "        \"\"\"\n",
    "        Callback beore testing\n",
    "        \"\"\"        \n",
    "        # Before testing we want to configure the epsilon for the agents\n",
    "        # In general more greedy than the train case but not\n",
    "        #   to avoid getting stuck on invalid moves\n",
    "        policy.policies[agents[0]].set_eps(testing_eps)\n",
    "        policy.policies[agents[1]].set_eps(testing_eps)\n",
    "\n",
    "    def reward_metric(rews):\n",
    "        \"\"\"\n",
    "        Callback for reward collection\n",
    "        \"\"\"\n",
    "        # We are interested in having a high total total reward,\n",
    "        #   as this would mean equally good agents.\n",
    "        return rews[:, 0] + rews[:, 1]\n",
    "\n",
    "    # trainer\n",
    "    result = ts.trainer.offpolicy_trainer(policy= policy,\n",
    "                                          train_collector= train_collector,\n",
    "                                          test_collector= test_collector,\n",
    "                                          max_epoch= epochs,\n",
    "                                          step_per_epoch= step_per_epoch,\n",
    "                                          step_per_collect= step_per_collect,\n",
    "                                          episode_per_test= testing_env_num,\n",
    "                                          batch_size= batch_size,\n",
    "                                          train_fn= train_fn,\n",
    "                                          test_fn= test_fn,\n",
    "                                          # Stop function to stop before specified amount of epochs\n",
    "                                          #stop_fn= stop_fn\n",
    "                                          save_best_fn= save_best_fn,\n",
    "                                          update_per_step= update_per_step,\n",
    "                                          logger= logger,\n",
    "                                          test_in_train= False,\n",
    "                                          reward_metric= reward_metric)\n",
    "    \n",
    "    # Save final agent 1\n",
    "    model_save_path = os.path.join('./saved_variables', 'paper_notebooks', notebook_version, filename, 'final_policy_agent1.pth')\n",
    "    torch.save(policy.policies[agents[0]].state_dict(), model_save_path)\n",
    "\n",
    "    # Save final agent 2\n",
    "    model_save_path = os.path.join('./saved_variables', 'paper_notebooks', notebook_version, filename, 'final_policy_agent2.pth')\n",
    "    torch.save(policy.policies[agents[1]].state_dict(), model_save_path)\n",
    "\n",
    "    return result, policy.policies[agents[0]], policy.policies[agents[1]]"
   ]
  },
  {
   "cell_type": "markdown",
   "id": "f161cc0f",
   "metadata": {},
   "source": [
    "<hr>\n",
    "\n",
    "### Function for watching learned agent\n",
    "\n",
    "Identical to the previous notebook."
   ]
  },
  {
   "cell_type": "code",
   "execution_count": 11,
   "id": "b526e5f0",
   "metadata": {},
   "outputs": [],
   "source": [
    "####################################################\n",
    "# WATCHING THE LEARNED POLICY IN ACTION\n",
    "####################################################\n",
    "\n",
    "def watch(numer_of_games: int = 3,\n",
    "          agent_player1: typing.Optional[ts.policy.BasePolicy] = None,\n",
    "          agent_player2: typing.Optional[ts.policy.BasePolicy] = None,\n",
    "          test_epsilon: float = 0.05, # For the watching we act completely greedy but low random for not getting stuck on invalid move\n",
    "          render_speed: float = 0.15, # Amount of seconds to update frame/ do a step\n",
    "          ) -> None:\n",
    "    \n",
    "    # Get the connect four V2 environment (must be a list)\n",
    "    env= ts.env.DummyVectorEnv([get_env])\n",
    "    \n",
    "    # Get the agents from the trained agents\n",
    "    policy, optim, agents = get_agents(agent_player1= agent_player1,\n",
    "                                       agent_player2= agent_player2)\n",
    "    \n",
    "    # Evaluate the policy\n",
    "    policy.eval()\n",
    "    \n",
    "    # Set the testing policy epsilon for our agents\n",
    "    policy.policies[agents[0]].set_eps(test_epsilon)\n",
    "    policy.policies[agents[1]].set_eps(test_epsilon)\n",
    "    \n",
    "    # Collect the test data\n",
    "    collector = ts.data.Collector(policy= policy,\n",
    "                                  env= env,\n",
    "                                  exploration_noise= True)\n",
    "    \n",
    "    # Render games in human mode to see how it plays\n",
    "    result = collector.collect(n_episode= numer_of_games, render= render_speed)\n",
    "    \n",
    "    # Close the environment aftering collecting the results\n",
    "    # This closes the pygame window after completion\n",
    "    env.close()\n",
    "    \n",
    "    # Get the rewards and length from the test trials\n",
    "    rewards, length = result[\"rews\"], result[\"lens\"]\n",
    "    \n",
    "    # Print the final reward for the first agent\n",
    "    print(f\"Average steps of game:  {length.mean()}\")\n",
    "    print(f\"Final mean reward agent 1: {rewards[:, 0].mean()}, std: {rewards[:, 0].std()}\")\n",
    "    print(f\"Final mean reward agent 2: {rewards[:, 1].mean()}, std: {rewards[:, 1].std()}\")"
   ]
  },
  {
   "cell_type": "markdown",
   "id": "c31784e9",
   "metadata": {},
   "source": [
    "<hr>\n",
    "\n",
    "### Doing the experiment\n",
    "\n",
    "We now do the experiment with using our previously created functions.\n",
    "We update some parameter settings to find if we can improve our DQN agents."
   ]
  },
  {
   "cell_type": "code",
   "execution_count": 12,
   "id": "93fe8961",
   "metadata": {
    "scrolled": true
   },
   "outputs": [
    {
     "name": "stderr",
     "output_type": "stream",
     "text": [
      "Epoch #1: 1025it [00:04, 222.32it/s, env_step=1024, len=8, n/ep=7, n/st=64, player_1/loss=3.897, player_2/loss=3.849, rew=37.00]\n"
     ]
    },
    {
     "name": "stdout",
     "output_type": "stream",
     "text": [
      "Epoch #1: test_reward: 27.000000 ± 0.000000, best_reward: 54.000000 ± 0.000000 in #0\n"
     ]
    },
    {
     "name": "stderr",
     "output_type": "stream",
     "text": [
      "Epoch #2: 1025it [00:04, 236.87it/s, env_step=2048, len=7, n/ep=8, n/st=64, player_1/loss=3.740, rew=34.62]            \n"
     ]
    },
    {
     "name": "stdout",
     "output_type": "stream",
     "text": [
      "Epoch #2: test_reward: 27.000000 ± 0.000000, best_reward: 54.000000 ± 0.000000 in #0\n"
     ]
    },
    {
     "name": "stderr",
     "output_type": "stream",
     "text": [
      "Epoch #3: 1025it [00:04, 244.35it/s, env_step=3072, len=8, n/ep=9, n/st=64, player_1/loss=3.606, player_2/loss=3.717, rew=37.33]\n"
     ]
    },
    {
     "name": "stdout",
     "output_type": "stream",
     "text": [
      "Epoch #3: test_reward: 27.000000 ± 0.000000, best_reward: 54.000000 ± 0.000000 in #0\n"
     ]
    },
    {
     "name": "stderr",
     "output_type": "stream",
     "text": [
      "Epoch #4: 1025it [00:05, 197.11it/s, env_step=4096, len=7, n/ep=8, n/st=64, player_1/loss=3.548, player_2/loss=3.610, rew=33.25]\n"
     ]
    },
    {
     "name": "stdout",
     "output_type": "stream",
     "text": [
      "Epoch #4: test_reward: 27.000000 ± 0.000000, best_reward: 54.000000 ± 0.000000 in #0\n"
     ]
    },
    {
     "name": "stderr",
     "output_type": "stream",
     "text": [
      "Epoch #5: 1025it [00:04, 229.02it/s, env_step=5120, len=8, n/ep=7, n/st=64, player_1/loss=3.405, player_2/loss=3.622, rew=40.86]\n"
     ]
    },
    {
     "name": "stdout",
     "output_type": "stream",
     "text": [
      "Epoch #5: test_reward: 27.000000 ± 0.000000, best_reward: 54.000000 ± 0.000000 in #0\n"
     ]
    },
    {
     "name": "stderr",
     "output_type": "stream",
     "text": [
      "Epoch #6: 1025it [00:04, 244.89it/s, env_step=6144, len=8, n/ep=7, n/st=64, player_1/loss=3.072, player_2/loss=3.654, rew=44.00]\n"
     ]
    },
    {
     "name": "stdout",
     "output_type": "stream",
     "text": [
      "Epoch #6: test_reward: 27.000000 ± 0.000000, best_reward: 54.000000 ± 0.000000 in #0\n"
     ]
    },
    {
     "name": "stderr",
     "output_type": "stream",
     "text": [
      "Epoch #7: 1025it [00:03, 262.03it/s, env_step=7168, len=10, n/ep=7, n/st=64, player_1/loss=3.030, player_2/loss=3.569, rew=56.71]\n"
     ]
    },
    {
     "name": "stdout",
     "output_type": "stream",
     "text": [
      "Epoch #7: test_reward: 44.000000 ± 0.000000, best_reward: 54.000000 ± 0.000000 in #0\n"
     ]
    },
    {
     "name": "stderr",
     "output_type": "stream",
     "text": [
      "Epoch #8: 1025it [00:04, 242.22it/s, env_step=8192, len=8, n/ep=7, n/st=64, player_1/loss=3.234, player_2/loss=3.536, rew=39.14]\n"
     ]
    },
    {
     "name": "stdout",
     "output_type": "stream",
     "text": [
      "Epoch #8: test_reward: 27.000000 ± 0.000000, best_reward: 54.000000 ± 0.000000 in #0\n"
     ]
    },
    {
     "name": "stderr",
     "output_type": "stream",
     "text": [
      "Epoch #9: 1025it [00:03, 271.31it/s, env_step=9216, len=10, n/ep=6, n/st=64, player_1/loss=3.329, player_2/loss=3.414, rew=57.00]\n"
     ]
    },
    {
     "name": "stdout",
     "output_type": "stream",
     "text": [
      "Epoch #9: test_reward: 35.000000 ± 0.000000, best_reward: 54.000000 ± 0.000000 in #0\n"
     ]
    },
    {
     "name": "stderr",
     "output_type": "stream",
     "text": [
      "Epoch #10: 1025it [00:03, 275.52it/s, env_step=10240, len=8, n/ep=8, n/st=64, player_1/loss=3.306, player_2/loss=3.409, rew=43.25]\n"
     ]
    },
    {
     "name": "stdout",
     "output_type": "stream",
     "text": [
      "Epoch #10: test_reward: 27.000000 ± 0.000000, best_reward: 54.000000 ± 0.000000 in #0\n"
     ]
    },
    {
     "name": "stderr",
     "output_type": "stream",
     "text": [
      "Epoch #11: 1025it [00:03, 276.13it/s, env_step=11264, len=7, n/ep=6, n/st=64, player_2/loss=3.347, rew=34.17]          \n"
     ]
    },
    {
     "name": "stdout",
     "output_type": "stream",
     "text": [
      "Epoch #11: test_reward: 27.000000 ± 0.000000, best_reward: 54.000000 ± 0.000000 in #0\n"
     ]
    },
    {
     "name": "stderr",
     "output_type": "stream",
     "text": [
      "Epoch #12: 1025it [00:03, 280.04it/s, env_step=12288, len=8, n/ep=8, n/st=64, player_1/loss=2.950, player_2/loss=3.099, rew=37.62]\n"
     ]
    },
    {
     "name": "stdout",
     "output_type": "stream",
     "text": [
      "Epoch #12: test_reward: 27.000000 ± 0.000000, best_reward: 54.000000 ± 0.000000 in #0\n"
     ]
    },
    {
     "name": "stderr",
     "output_type": "stream",
     "text": [
      "Epoch #13: 1025it [00:03, 284.74it/s, env_step=13312, len=7, n/ep=8, n/st=64, player_1/loss=2.847, player_2/loss=2.897, rew=31.12]\n"
     ]
    },
    {
     "name": "stdout",
     "output_type": "stream",
     "text": [
      "Epoch #13: test_reward: 35.000000 ± 0.000000, best_reward: 54.000000 ± 0.000000 in #0\n"
     ]
    },
    {
     "name": "stderr",
     "output_type": "stream",
     "text": [
      "Epoch #14: 1025it [00:03, 286.57it/s, env_step=14336, len=8, n/ep=7, n/st=64, player_1/loss=2.758, player_2/loss=2.974, rew=44.29]\n"
     ]
    },
    {
     "name": "stdout",
     "output_type": "stream",
     "text": [
      "Epoch #14: test_reward: 27.000000 ± 0.000000, best_reward: 54.000000 ± 0.000000 in #0\n"
     ]
    },
    {
     "name": "stderr",
     "output_type": "stream",
     "text": [
      "Epoch #15: 1025it [00:03, 284.95it/s, env_step=15360, len=8, n/ep=7, n/st=64, player_1/loss=2.831, player_2/loss=2.730, rew=43.71]\n"
     ]
    },
    {
     "name": "stdout",
     "output_type": "stream",
     "text": [
      "Epoch #15: test_reward: 65.000000 ± 0.000000, best_reward: 65.000000 ± 0.000000 in #15\n"
     ]
    },
    {
     "name": "stderr",
     "output_type": "stream",
     "text": [
      "Epoch #16: 1025it [00:03, 284.90it/s, env_step=16384, len=8, n/ep=8, n/st=64, player_1/loss=2.898, player_2/loss=2.802, rew=39.12]\n"
     ]
    },
    {
     "name": "stdout",
     "output_type": "stream",
     "text": [
      "Epoch #16: test_reward: 27.000000 ± 0.000000, best_reward: 65.000000 ± 0.000000 in #15\n"
     ]
    },
    {
     "name": "stderr",
     "output_type": "stream",
     "text": [
      "Epoch #17: 1025it [00:03, 285.76it/s, env_step=17408, len=8, n/ep=7, n/st=64, player_1/loss=2.886, player_2/loss=2.713, rew=42.29]\n"
     ]
    },
    {
     "name": "stdout",
     "output_type": "stream",
     "text": [
      "Epoch #17: test_reward: 27.000000 ± 0.000000, best_reward: 65.000000 ± 0.000000 in #15\n"
     ]
    },
    {
     "name": "stderr",
     "output_type": "stream",
     "text": [
      "Epoch #18: 1025it [00:03, 285.42it/s, env_step=18432, len=9, n/ep=6, n/st=64, player_1/loss=2.821, player_2/loss=2.675, rew=57.00]\n"
     ]
    },
    {
     "name": "stdout",
     "output_type": "stream",
     "text": [
      "Epoch #18: test_reward: 35.000000 ± 0.000000, best_reward: 65.000000 ± 0.000000 in #15\n"
     ]
    },
    {
     "name": "stderr",
     "output_type": "stream",
     "text": [
      "Epoch #19: 1025it [00:03, 284.85it/s, env_step=19456, len=9, n/ep=7, n/st=64, player_1/loss=2.806, player_2/loss=2.692, rew=47.29]\n"
     ]
    },
    {
     "name": "stdout",
     "output_type": "stream",
     "text": [
      "Epoch #19: test_reward: 54.000000 ± 0.000000, best_reward: 65.000000 ± 0.000000 in #15\n"
     ]
    },
    {
     "name": "stderr",
     "output_type": "stream",
     "text": [
      "Epoch #20: 1025it [00:03, 285.82it/s, env_step=20480, len=7, n/ep=8, n/st=64, player_1/loss=2.596, player_2/loss=2.914, rew=32.12]\n"
     ]
    },
    {
     "name": "stdout",
     "output_type": "stream",
     "text": [
      "Epoch #20: test_reward: 35.000000 ± 0.000000, best_reward: 65.000000 ± 0.000000 in #15\n"
     ]
    },
    {
     "name": "stderr",
     "output_type": "stream",
     "text": [
      "Epoch #21: 1025it [00:03, 284.21it/s, env_step=21504, len=8, n/ep=7, n/st=64, player_1/loss=2.262, player_2/loss=2.861, rew=41.57]\n"
     ]
    },
    {
     "name": "stdout",
     "output_type": "stream",
     "text": [
      "Epoch #21: test_reward: 27.000000 ± 0.000000, best_reward: 65.000000 ± 0.000000 in #15\n"
     ]
    },
    {
     "name": "stderr",
     "output_type": "stream",
     "text": [
      "Epoch #22: 1025it [00:03, 286.02it/s, env_step=22528, len=12, n/ep=5, n/st=64, player_1/loss=1.911, player_2/loss=2.741, rew=101.20]\n"
     ]
    },
    {
     "name": "stdout",
     "output_type": "stream",
     "text": [
      "Epoch #22: test_reward: 35.000000 ± 0.000000, best_reward: 65.000000 ± 0.000000 in #15\n"
     ]
    },
    {
     "name": "stderr",
     "output_type": "stream",
     "text": [
      "Epoch #23: 1025it [00:03, 286.46it/s, env_step=23552, len=7, n/ep=9, n/st=64, player_1/loss=1.753, player_2/loss=2.715, rew=32.56]\n"
     ]
    },
    {
     "name": "stdout",
     "output_type": "stream",
     "text": [
      "Epoch #23: test_reward: 35.000000 ± 0.000000, best_reward: 65.000000 ± 0.000000 in #15\n"
     ]
    },
    {
     "name": "stderr",
     "output_type": "stream",
     "text": [
      "Epoch #24: 1025it [00:03, 284.58it/s, env_step=24576, len=9, n/ep=7, n/st=64, player_1/loss=1.791, player_2/loss=2.254, rew=51.00]\n"
     ]
    },
    {
     "name": "stdout",
     "output_type": "stream",
     "text": [
      "Epoch #24: test_reward: 44.000000 ± 0.000000, best_reward: 65.000000 ± 0.000000 in #15\n"
     ]
    },
    {
     "name": "stderr",
     "output_type": "stream",
     "text": [
      "Epoch #25: 1025it [00:03, 283.63it/s, env_step=25600, len=8, n/ep=8, n/st=64, player_1/loss=1.931, player_2/loss=1.931, rew=39.00]\n"
     ]
    },
    {
     "name": "stdout",
     "output_type": "stream",
     "text": [
      "Epoch #25: test_reward: 27.000000 ± 0.000000, best_reward: 65.000000 ± 0.000000 in #15\n"
     ]
    },
    {
     "name": "stderr",
     "output_type": "stream",
     "text": [
      "Epoch #26: 1025it [00:03, 283.34it/s, env_step=26624, len=7, n/ep=8, n/st=64, player_1/loss=2.211, player_2/loss=1.824, rew=33.25]\n"
     ]
    },
    {
     "name": "stdout",
     "output_type": "stream",
     "text": [
      "Epoch #26: test_reward: 44.000000 ± 0.000000, best_reward: 65.000000 ± 0.000000 in #15\n"
     ]
    },
    {
     "name": "stderr",
     "output_type": "stream",
     "text": [
      "Epoch #27: 1025it [00:03, 285.88it/s, env_step=27648, len=8, n/ep=7, n/st=64, player_1/loss=2.182, player_2/loss=1.898, rew=40.86]\n"
     ]
    },
    {
     "name": "stdout",
     "output_type": "stream",
     "text": [
      "Epoch #27: test_reward: 27.000000 ± 0.000000, best_reward: 65.000000 ± 0.000000 in #15\n"
     ]
    },
    {
     "name": "stderr",
     "output_type": "stream",
     "text": [
      "Epoch #28: 1025it [00:03, 286.10it/s, env_step=28672, len=8, n/ep=8, n/st=64, player_1/loss=1.940, player_2/loss=1.975, rew=38.75]\n"
     ]
    },
    {
     "name": "stdout",
     "output_type": "stream",
     "text": [
      "Epoch #28: test_reward: 35.000000 ± 0.000000, best_reward: 65.000000 ± 0.000000 in #15\n"
     ]
    },
    {
     "name": "stderr",
     "output_type": "stream",
     "text": [
      "Epoch #29: 1025it [00:03, 285.17it/s, env_step=29696, len=7, n/ep=8, n/st=64, player_1/loss=2.192, player_2/loss=1.750, rew=33.38]\n"
     ]
    },
    {
     "name": "stdout",
     "output_type": "stream",
     "text": [
      "Epoch #29: test_reward: 27.000000 ± 0.000000, best_reward: 65.000000 ± 0.000000 in #15\n"
     ]
    },
    {
     "name": "stderr",
     "output_type": "stream",
     "text": [
      "Epoch #30: 1025it [00:03, 286.85it/s, env_step=30720, len=8, n/ep=8, n/st=64, player_1/loss=2.010, player_2/loss=1.754, rew=39.12]\n"
     ]
    },
    {
     "name": "stdout",
     "output_type": "stream",
     "text": [
      "Epoch #30: test_reward: 27.000000 ± 0.000000, best_reward: 65.000000 ± 0.000000 in #15\n"
     ]
    },
    {
     "name": "stderr",
     "output_type": "stream",
     "text": [
      "Epoch #31: 1025it [00:03, 287.21it/s, env_step=31744, len=7, n/ep=8, n/st=64, player_1/loss=1.716, player_2/loss=1.971, rew=32.25]\n"
     ]
    },
    {
     "name": "stdout",
     "output_type": "stream",
     "text": [
      "Epoch #31: test_reward: 27.000000 ± 0.000000, best_reward: 65.000000 ± 0.000000 in #15\n"
     ]
    },
    {
     "name": "stderr",
     "output_type": "stream",
     "text": [
      "Epoch #32: 1025it [00:03, 286.72it/s, env_step=32768, len=8, n/ep=8, n/st=64, player_1/loss=1.623, player_2/loss=1.862, rew=35.88]\n"
     ]
    },
    {
     "name": "stdout",
     "output_type": "stream",
     "text": [
      "Epoch #32: test_reward: 44.000000 ± 0.000000, best_reward: 65.000000 ± 0.000000 in #15\n"
     ]
    },
    {
     "name": "stderr",
     "output_type": "stream",
     "text": [
      "Epoch #33: 1025it [00:03, 285.90it/s, env_step=33792, len=8, n/ep=7, n/st=64, player_1/loss=1.515, rew=40.71]          \n"
     ]
    },
    {
     "name": "stdout",
     "output_type": "stream",
     "text": [
      "Epoch #33: test_reward: 35.000000 ± 0.000000, best_reward: 65.000000 ± 0.000000 in #15\n"
     ]
    },
    {
     "name": "stderr",
     "output_type": "stream",
     "text": [
      "Epoch #34: 1025it [00:03, 285.94it/s, env_step=34816, len=8, n/ep=8, n/st=64, player_1/loss=1.514, player_2/loss=1.665, rew=39.50]\n"
     ]
    },
    {
     "name": "stdout",
     "output_type": "stream",
     "text": [
      "Epoch #34: test_reward: 35.000000 ± 0.000000, best_reward: 65.000000 ± 0.000000 in #15\n"
     ]
    },
    {
     "name": "stderr",
     "output_type": "stream",
     "text": [
      "Epoch #35: 1025it [00:03, 286.18it/s, env_step=35840, len=7, n/ep=9, n/st=64, player_1/loss=1.325, player_2/loss=1.340, rew=27.89]\n"
     ]
    },
    {
     "name": "stdout",
     "output_type": "stream",
     "text": [
      "Epoch #35: test_reward: 27.000000 ± 0.000000, best_reward: 65.000000 ± 0.000000 in #15\n"
     ]
    },
    {
     "name": "stderr",
     "output_type": "stream",
     "text": [
      "Epoch #36: 1025it [00:03, 285.33it/s, env_step=36864, len=8, n/ep=7, n/st=64, player_1/loss=1.352, player_2/loss=0.986, rew=44.43]\n"
     ]
    },
    {
     "name": "stdout",
     "output_type": "stream",
     "text": [
      "Epoch #36: test_reward: 54.000000 ± 0.000000, best_reward: 65.000000 ± 0.000000 in #15\n"
     ]
    },
    {
     "name": "stderr",
     "output_type": "stream",
     "text": [
      "Epoch #37: 1025it [00:03, 285.78it/s, env_step=37888, len=9, n/ep=7, n/st=64, player_1/loss=1.594, player_2/loss=1.036, rew=61.57]\n"
     ]
    },
    {
     "name": "stdout",
     "output_type": "stream",
     "text": [
      "Epoch #37: test_reward: 27.000000 ± 0.000000, best_reward: 65.000000 ± 0.000000 in #15\n"
     ]
    },
    {
     "name": "stderr",
     "output_type": "stream",
     "text": [
      "Epoch #38: 1025it [00:03, 287.39it/s, env_step=38912, len=7, n/ep=8, n/st=64, player_1/loss=1.581, player_2/loss=0.972, rew=34.75]\n"
     ]
    },
    {
     "name": "stdout",
     "output_type": "stream",
     "text": [
      "Epoch #38: test_reward: 27.000000 ± 0.000000, best_reward: 65.000000 ± 0.000000 in #15\n"
     ]
    },
    {
     "name": "stderr",
     "output_type": "stream",
     "text": [
      "Epoch #39: 1025it [00:03, 286.59it/s, env_step=39936, len=8, n/ep=8, n/st=64, player_1/loss=1.369, player_2/loss=0.931, rew=42.38]\n"
     ]
    },
    {
     "name": "stdout",
     "output_type": "stream",
     "text": [
      "Epoch #39: test_reward: 65.000000 ± 0.000000, best_reward: 65.000000 ± 0.000000 in #15\n"
     ]
    },
    {
     "name": "stderr",
     "output_type": "stream",
     "text": [
      "Epoch #40: 1025it [00:03, 286.94it/s, env_step=40960, len=8, n/ep=7, n/st=64, player_1/loss=1.177, player_2/loss=0.726, rew=42.43]\n"
     ]
    },
    {
     "name": "stdout",
     "output_type": "stream",
     "text": [
      "Epoch #40: test_reward: 27.000000 ± 0.000000, best_reward: 65.000000 ± 0.000000 in #15\n"
     ]
    },
    {
     "name": "stderr",
     "output_type": "stream",
     "text": [
      "Epoch #41: 1025it [00:03, 286.12it/s, env_step=41984, len=8, n/ep=8, n/st=64, player_1/loss=1.249, player_2/loss=0.953, rew=37.88]\n"
     ]
    },
    {
     "name": "stdout",
     "output_type": "stream",
     "text": [
      "Epoch #41: test_reward: 27.000000 ± 0.000000, best_reward: 65.000000 ± 0.000000 in #15\n"
     ]
    },
    {
     "name": "stderr",
     "output_type": "stream",
     "text": [
      "Epoch #42: 1025it [00:03, 286.82it/s, env_step=43008, len=8, n/ep=8, n/st=64, player_1/loss=1.344, player_2/loss=1.080, rew=40.75]\n"
     ]
    },
    {
     "name": "stdout",
     "output_type": "stream",
     "text": [
      "Epoch #42: test_reward: 27.000000 ± 0.000000, best_reward: 65.000000 ± 0.000000 in #15\n"
     ]
    },
    {
     "name": "stderr",
     "output_type": "stream",
     "text": [
      "Epoch #43: 1025it [00:03, 286.84it/s, env_step=44032, len=8, n/ep=7, n/st=64, player_1/loss=1.217, player_2/loss=1.076, rew=41.86]\n"
     ]
    },
    {
     "name": "stdout",
     "output_type": "stream",
     "text": [
      "Epoch #43: test_reward: 27.000000 ± 0.000000, best_reward: 65.000000 ± 0.000000 in #15\n"
     ]
    },
    {
     "name": "stderr",
     "output_type": "stream",
     "text": [
      "Epoch #44: 1025it [00:03, 287.64it/s, env_step=45056, len=8, n/ep=7, n/st=64, player_1/loss=1.026, player_2/loss=1.112, rew=35.29]\n"
     ]
    },
    {
     "name": "stdout",
     "output_type": "stream",
     "text": [
      "Epoch #44: test_reward: 35.000000 ± 0.000000, best_reward: 65.000000 ± 0.000000 in #15\n"
     ]
    },
    {
     "name": "stderr",
     "output_type": "stream",
     "text": [
      "Epoch #45: 1025it [00:03, 287.31it/s, env_step=46080, len=7, n/ep=8, n/st=64, player_1/loss=0.942, player_2/loss=0.866, rew=33.12]\n"
     ]
    },
    {
     "name": "stdout",
     "output_type": "stream",
     "text": [
      "Epoch #45: test_reward: 35.000000 ± 0.000000, best_reward: 65.000000 ± 0.000000 in #15\n"
     ]
    },
    {
     "name": "stderr",
     "output_type": "stream",
     "text": [
      "Epoch #46: 1025it [00:03, 286.51it/s, env_step=47104, len=10, n/ep=7, n/st=64, player_1/loss=0.964, player_2/loss=0.380, rew=69.86]\n"
     ]
    },
    {
     "name": "stdout",
     "output_type": "stream",
     "text": [
      "Epoch #46: test_reward: 35.000000 ± 0.000000, best_reward: 65.000000 ± 0.000000 in #15\n"
     ]
    },
    {
     "name": "stderr",
     "output_type": "stream",
     "text": [
      "Epoch #47: 1025it [00:03, 285.98it/s, env_step=48128, len=9, n/ep=7, n/st=64, player_1/loss=1.075, player_2/loss=0.217, rew=46.14]\n"
     ]
    },
    {
     "name": "stdout",
     "output_type": "stream",
     "text": [
      "Epoch #47: test_reward: 35.000000 ± 0.000000, best_reward: 65.000000 ± 0.000000 in #15\n"
     ]
    },
    {
     "name": "stderr",
     "output_type": "stream",
     "text": [
      "Epoch #48: 1025it [00:03, 286.15it/s, env_step=49152, len=9, n/ep=7, n/st=64, player_1/loss=1.081, player_2/loss=0.216, rew=55.57]\n"
     ]
    },
    {
     "name": "stdout",
     "output_type": "stream",
     "text": [
      "Epoch #48: test_reward: 35.000000 ± 0.000000, best_reward: 65.000000 ± 0.000000 in #15\n"
     ]
    },
    {
     "name": "stderr",
     "output_type": "stream",
     "text": [
      "Epoch #49: 1025it [00:03, 286.56it/s, env_step=50176, len=10, n/ep=7, n/st=64, player_1/loss=1.035, player_2/loss=0.155, rew=57.00]\n"
     ]
    },
    {
     "name": "stdout",
     "output_type": "stream",
     "text": [
      "Epoch #49: test_reward: 35.000000 ± 0.000000, best_reward: 65.000000 ± 0.000000 in #15\n"
     ]
    },
    {
     "name": "stderr",
     "output_type": "stream",
     "text": [
      "Epoch #50: 1025it [00:03, 286.00it/s, env_step=51200, len=12, n/ep=5, n/st=64, player_1/loss=0.881, player_2/loss=0.159, rew=92.80]\n"
     ]
    },
    {
     "name": "stdout",
     "output_type": "stream",
     "text": [
      "Epoch #50: test_reward: 35.000000 ± 0.000000, best_reward: 65.000000 ± 0.000000 in #15\n"
     ]
    },
    {
     "name": "stderr",
     "output_type": "stream",
     "text": [
      "Epoch #51: 1025it [00:03, 286.34it/s, env_step=52224, len=17, n/ep=3, n/st=64, player_1/loss=0.756, player_2/loss=0.182, rew=188.00]\n"
     ]
    },
    {
     "name": "stdout",
     "output_type": "stream",
     "text": [
      "Epoch #51: test_reward: 35.000000 ± 0.000000, best_reward: 65.000000 ± 0.000000 in #15\n"
     ]
    },
    {
     "name": "stderr",
     "output_type": "stream",
     "text": [
      "Epoch #52: 1025it [00:03, 286.22it/s, env_step=53248, len=11, n/ep=5, n/st=64, player_2/loss=0.203, rew=86.40]         \n"
     ]
    },
    {
     "name": "stdout",
     "output_type": "stream",
     "text": [
      "Epoch #52: test_reward: 65.000000 ± 0.000000, best_reward: 65.000000 ± 0.000000 in #15\n"
     ]
    },
    {
     "name": "stderr",
     "output_type": "stream",
     "text": [
      "Epoch #53: 1025it [00:03, 286.14it/s, env_step=54272, len=12, n/ep=5, n/st=64, player_1/loss=0.502, player_2/loss=0.177, rew=77.80]\n"
     ]
    },
    {
     "name": "stdout",
     "output_type": "stream",
     "text": [
      "Epoch #53: test_reward: 65.000000 ± 0.000000, best_reward: 65.000000 ± 0.000000 in #15\n"
     ]
    },
    {
     "name": "stderr",
     "output_type": "stream",
     "text": [
      "Epoch #54: 1025it [00:03, 287.42it/s, env_step=55296, len=11, n/ep=6, n/st=64, player_1/loss=0.446, player_2/loss=0.228, rew=76.00]\n"
     ]
    },
    {
     "name": "stdout",
     "output_type": "stream",
     "text": [
      "Epoch #54: test_reward: 90.000000 ± 0.000000, best_reward: 90.000000 ± 0.000000 in #54\n"
     ]
    },
    {
     "name": "stderr",
     "output_type": "stream",
     "text": [
      "Epoch #55: 1025it [00:03, 285.21it/s, env_step=56320, len=11, n/ep=6, n/st=64, player_1/loss=0.473, player_2/loss=0.246, rew=75.17]\n"
     ]
    },
    {
     "name": "stdout",
     "output_type": "stream",
     "text": [
      "Epoch #55: test_reward: 35.000000 ± 0.000000, best_reward: 90.000000 ± 0.000000 in #54\n"
     ]
    },
    {
     "name": "stderr",
     "output_type": "stream",
     "text": [
      "Epoch #56: 1025it [00:03, 286.32it/s, env_step=57344, len=10, n/ep=6, n/st=64, player_1/loss=0.428, player_2/loss=0.132, rew=57.00]\n"
     ]
    },
    {
     "name": "stdout",
     "output_type": "stream",
     "text": [
      "Epoch #56: test_reward: 65.000000 ± 0.000000, best_reward: 90.000000 ± 0.000000 in #54\n"
     ]
    },
    {
     "name": "stderr",
     "output_type": "stream",
     "text": [
      "Epoch #57: 1025it [00:03, 285.57it/s, env_step=58368, len=12, n/ep=5, n/st=64, player_1/loss=0.592, player_2/loss=0.076, rew=96.80]\n"
     ]
    },
    {
     "name": "stdout",
     "output_type": "stream",
     "text": [
      "Epoch #57: test_reward: 65.000000 ± 0.000000, best_reward: 90.000000 ± 0.000000 in #54\n"
     ]
    },
    {
     "name": "stderr",
     "output_type": "stream",
     "text": [
      "Epoch #58: 1025it [00:03, 286.10it/s, env_step=59392, len=11, n/ep=5, n/st=64, player_1/loss=0.627, player_2/loss=0.043, rew=68.00]\n"
     ]
    },
    {
     "name": "stdout",
     "output_type": "stream",
     "text": [
      "Epoch #58: test_reward: 65.000000 ± 0.000000, best_reward: 90.000000 ± 0.000000 in #54\n"
     ]
    },
    {
     "name": "stderr",
     "output_type": "stream",
     "text": [
      "Epoch #59: 1025it [00:03, 281.22it/s, env_step=60416, len=12, n/ep=5, n/st=64, player_1/loss=0.414, player_2/loss=0.045, rew=86.00]\n"
     ]
    },
    {
     "name": "stdout",
     "output_type": "stream",
     "text": [
      "Epoch #59: test_reward: 65.000000 ± 0.000000, best_reward: 90.000000 ± 0.000000 in #54\n"
     ]
    },
    {
     "name": "stderr",
     "output_type": "stream",
     "text": [
      "Epoch #60: 1025it [00:03, 272.74it/s, env_step=61440, len=12, n/ep=5, n/st=64, player_1/loss=0.314, player_2/loss=0.036, rew=85.00]\n"
     ]
    },
    {
     "name": "stdout",
     "output_type": "stream",
     "text": [
      "Epoch #60: test_reward: 90.000000 ± 0.000000, best_reward: 90.000000 ± 0.000000 in #54\n"
     ]
    },
    {
     "name": "stderr",
     "output_type": "stream",
     "text": [
      "Epoch #61: 1025it [00:03, 259.48it/s, env_step=62464, len=10, n/ep=6, n/st=64, player_1/loss=0.373, player_2/loss=0.038, rew=64.67]\n"
     ]
    },
    {
     "name": "stdout",
     "output_type": "stream",
     "text": [
      "Epoch #61: test_reward: 65.000000 ± 0.000000, best_reward: 90.000000 ± 0.000000 in #54\n"
     ]
    },
    {
     "name": "stderr",
     "output_type": "stream",
     "text": [
      "Epoch #62: 1025it [00:03, 260.57it/s, env_step=63488, len=12, n/ep=5, n/st=64, player_1/loss=0.434, player_2/loss=0.042, rew=83.60]\n"
     ]
    },
    {
     "name": "stdout",
     "output_type": "stream",
     "text": [
      "Epoch #62: test_reward: 54.000000 ± 0.000000, best_reward: 90.000000 ± 0.000000 in #54\n"
     ]
    },
    {
     "name": "stderr",
     "output_type": "stream",
     "text": [
      "Epoch #63: 1025it [00:03, 272.89it/s, env_step=64512, len=11, n/ep=6, n/st=64, player_1/loss=0.382, player_2/loss=0.049, rew=74.00]\n"
     ]
    },
    {
     "name": "stdout",
     "output_type": "stream",
     "text": [
      "Epoch #63: test_reward: 35.000000 ± 0.000000, best_reward: 90.000000 ± 0.000000 in #54\n"
     ]
    },
    {
     "name": "stderr",
     "output_type": "stream",
     "text": [
      "Epoch #64: 1025it [00:03, 270.90it/s, env_step=65536, len=12, n/ep=5, n/st=64, player_1/loss=0.289, player_2/loss=0.068, rew=85.80]\n"
     ]
    },
    {
     "name": "stdout",
     "output_type": "stream",
     "text": [
      "Epoch #64: test_reward: 65.000000 ± 0.000000, best_reward: 90.000000 ± 0.000000 in #54\n"
     ]
    },
    {
     "name": "stderr",
     "output_type": "stream",
     "text": [
      "Epoch #65: 1025it [00:03, 274.66it/s, env_step=66560, len=11, n/ep=5, n/st=64, player_1/loss=0.354, player_2/loss=0.063, rew=68.00]\n"
     ]
    },
    {
     "name": "stdout",
     "output_type": "stream",
     "text": [
      "Epoch #65: test_reward: 90.000000 ± 0.000000, best_reward: 90.000000 ± 0.000000 in #54\n"
     ]
    },
    {
     "name": "stderr",
     "output_type": "stream",
     "text": [
      "Epoch #66: 1025it [00:03, 277.62it/s, env_step=67584, len=11, n/ep=5, n/st=64, player_1/loss=0.467, player_2/loss=0.071, rew=69.80]\n"
     ]
    },
    {
     "name": "stdout",
     "output_type": "stream",
     "text": [
      "Epoch #66: test_reward: 65.000000 ± 0.000000, best_reward: 90.000000 ± 0.000000 in #54\n"
     ]
    },
    {
     "name": "stderr",
     "output_type": "stream",
     "text": [
      "Epoch #67: 1025it [00:03, 285.40it/s, env_step=68608, len=10, n/ep=6, n/st=64, player_1/loss=0.495, player_2/loss=0.056, rew=61.50]\n"
     ]
    },
    {
     "name": "stdout",
     "output_type": "stream",
     "text": [
      "Epoch #67: test_reward: 90.000000 ± 0.000000, best_reward: 90.000000 ± 0.000000 in #54\n"
     ]
    },
    {
     "name": "stderr",
     "output_type": "stream",
     "text": [
      "Epoch #68: 1025it [00:03, 286.83it/s, env_step=69632, len=13, n/ep=5, n/st=64, player_1/loss=0.388, player_2/loss=0.023, rew=103.00]\n"
     ]
    },
    {
     "name": "stdout",
     "output_type": "stream",
     "text": [
      "Epoch #68: test_reward: 65.000000 ± 0.000000, best_reward: 90.000000 ± 0.000000 in #54\n"
     ]
    },
    {
     "name": "stderr",
     "output_type": "stream",
     "text": [
      "Epoch #69: 1025it [00:03, 287.07it/s, env_step=70656, len=15, n/ep=4, n/st=64, player_1/loss=0.345, player_2/loss=0.011, rew=137.50]\n"
     ]
    },
    {
     "name": "stdout",
     "output_type": "stream",
     "text": [
      "Epoch #69: test_reward: 65.000000 ± 0.000000, best_reward: 90.000000 ± 0.000000 in #54\n"
     ]
    },
    {
     "name": "stderr",
     "output_type": "stream",
     "text": [
      "Epoch #70: 1025it [00:03, 285.85it/s, env_step=71680, len=11, n/ep=5, n/st=64, player_1/loss=0.260, player_2/loss=0.013, rew=70.00]\n"
     ]
    },
    {
     "name": "stdout",
     "output_type": "stream",
     "text": [
      "Epoch #70: test_reward: 90.000000 ± 0.000000, best_reward: 90.000000 ± 0.000000 in #54\n"
     ]
    },
    {
     "name": "stderr",
     "output_type": "stream",
     "text": [
      "Epoch #71: 1025it [00:03, 287.18it/s, env_step=72704, len=10, n/ep=6, n/st=64, player_1/loss=0.207, player_2/loss=0.016, rew=55.00]\n"
     ]
    },
    {
     "name": "stdout",
     "output_type": "stream",
     "text": [
      "Epoch #71: test_reward: 90.000000 ± 0.000000, best_reward: 90.000000 ± 0.000000 in #54\n"
     ]
    },
    {
     "name": "stderr",
     "output_type": "stream",
     "text": [
      "Epoch #72: 1025it [00:03, 286.40it/s, env_step=73728, len=11, n/ep=6, n/st=64, player_1/loss=0.177, player_2/loss=0.014, rew=72.67]\n"
     ]
    },
    {
     "name": "stdout",
     "output_type": "stream",
     "text": [
      "Epoch #72: test_reward: 65.000000 ± 0.000000, best_reward: 90.000000 ± 0.000000 in #54\n"
     ]
    },
    {
     "name": "stderr",
     "output_type": "stream",
     "text": [
      "Epoch #73: 1025it [00:03, 284.78it/s, env_step=74752, len=11, n/ep=5, n/st=64, player_1/loss=0.187, player_2/loss=0.011, rew=74.80]\n"
     ]
    },
    {
     "name": "stdout",
     "output_type": "stream",
     "text": [
      "Epoch #73: test_reward: 65.000000 ± 0.000000, best_reward: 90.000000 ± 0.000000 in #54\n"
     ]
    },
    {
     "name": "stderr",
     "output_type": "stream",
     "text": [
      "Epoch #74: 1025it [00:03, 286.31it/s, env_step=75776, len=11, n/ep=5, n/st=64, player_1/loss=0.201, player_2/loss=0.007, rew=69.20]\n"
     ]
    },
    {
     "name": "stdout",
     "output_type": "stream",
     "text": [
      "Epoch #74: test_reward: 104.000000 ± 0.000000, best_reward: 104.000000 ± 0.000000 in #74\n"
     ]
    },
    {
     "name": "stderr",
     "output_type": "stream",
     "text": [
      "Epoch #75: 1025it [00:03, 285.78it/s, env_step=76800, len=16, n/ep=5, n/st=64, player_1/loss=0.182, player_2/loss=0.010, rew=177.40]\n"
     ]
    },
    {
     "name": "stdout",
     "output_type": "stream",
     "text": [
      "Epoch #75: test_reward: 65.000000 ± 0.000000, best_reward: 104.000000 ± 0.000000 in #74\n"
     ]
    },
    {
     "name": "stderr",
     "output_type": "stream",
     "text": [
      "Epoch #76: 1025it [00:03, 284.81it/s, env_step=77824, len=11, n/ep=5, n/st=64, player_1/loss=0.155, player_2/loss=0.010, rew=69.80]\n"
     ]
    },
    {
     "name": "stdout",
     "output_type": "stream",
     "text": [
      "Epoch #76: test_reward: 90.000000 ± 0.000000, best_reward: 104.000000 ± 0.000000 in #74\n"
     ]
    },
    {
     "name": "stderr",
     "output_type": "stream",
     "text": [
      "Epoch #77: 1025it [00:03, 284.98it/s, env_step=78848, len=15, n/ep=5, n/st=64, player_1/loss=0.192, player_2/loss=0.008, rew=122.20]\n"
     ]
    },
    {
     "name": "stdout",
     "output_type": "stream",
     "text": [
      "Epoch #77: test_reward: 65.000000 ± 0.000000, best_reward: 104.000000 ± 0.000000 in #74\n"
     ]
    },
    {
     "name": "stderr",
     "output_type": "stream",
     "text": [
      "Epoch #78: 1025it [00:03, 286.07it/s, env_step=79872, len=12, n/ep=5, n/st=64, player_1/loss=0.177, player_2/loss=0.008, rew=87.40]\n"
     ]
    },
    {
     "name": "stdout",
     "output_type": "stream",
     "text": [
      "Epoch #78: test_reward: 35.000000 ± 0.000000, best_reward: 104.000000 ± 0.000000 in #74\n"
     ]
    },
    {
     "name": "stderr",
     "output_type": "stream",
     "text": [
      "Epoch #79: 1025it [00:03, 278.35it/s, env_step=80896, len=12, n/ep=5, n/st=64, player_1/loss=0.190, player_2/loss=0.004, rew=85.20]\n"
     ]
    },
    {
     "name": "stdout",
     "output_type": "stream",
     "text": [
      "Epoch #79: test_reward: 65.000000 ± 0.000000, best_reward: 104.000000 ± 0.000000 in #74\n"
     ]
    },
    {
     "name": "stderr",
     "output_type": "stream",
     "text": [
      "Epoch #80: 1025it [00:03, 285.49it/s, env_step=81920, len=15, n/ep=4, n/st=64, player_1/loss=0.145, player_2/loss=0.002, rew=132.00]\n"
     ]
    },
    {
     "name": "stdout",
     "output_type": "stream",
     "text": [
      "Epoch #80: test_reward: 54.000000 ± 0.000000, best_reward: 104.000000 ± 0.000000 in #74\n"
     ]
    },
    {
     "name": "stderr",
     "output_type": "stream",
     "text": [
      "Epoch #81: 1025it [00:03, 285.23it/s, env_step=82944, len=11, n/ep=5, n/st=64, player_1/loss=0.041, player_2/loss=0.003, rew=73.60]\n"
     ]
    },
    {
     "name": "stdout",
     "output_type": "stream",
     "text": [
      "Epoch #81: test_reward: 35.000000 ± 0.000000, best_reward: 104.000000 ± 0.000000 in #74\n"
     ]
    },
    {
     "name": "stderr",
     "output_type": "stream",
     "text": [
      "Epoch #82: 1025it [00:03, 285.65it/s, env_step=83968, len=14, n/ep=5, n/st=64, player_1/loss=0.065, player_2/loss=0.003, rew=109.00]\n"
     ]
    },
    {
     "name": "stdout",
     "output_type": "stream",
     "text": [
      "Epoch #82: test_reward: 54.000000 ± 0.000000, best_reward: 104.000000 ± 0.000000 in #74\n"
     ]
    },
    {
     "name": "stderr",
     "output_type": "stream",
     "text": [
      "Epoch #83: 1025it [00:03, 283.95it/s, env_step=84992, len=13, n/ep=5, n/st=64, player_1/loss=0.089, player_2/loss=0.002, rew=90.80]\n"
     ]
    },
    {
     "name": "stdout",
     "output_type": "stream",
     "text": [
      "Epoch #83: test_reward: 90.000000 ± 0.000000, best_reward: 104.000000 ± 0.000000 in #74\n"
     ]
    },
    {
     "name": "stderr",
     "output_type": "stream",
     "text": [
      "Epoch #84: 1025it [00:03, 285.26it/s, env_step=86016, len=12, n/ep=6, n/st=64, player_1/loss=0.107, player_2/loss=0.002, rew=78.67]\n"
     ]
    },
    {
     "name": "stdout",
     "output_type": "stream",
     "text": [
      "Epoch #84: test_reward: 65.000000 ± 0.000000, best_reward: 104.000000 ± 0.000000 in #74\n"
     ]
    },
    {
     "name": "stderr",
     "output_type": "stream",
     "text": [
      "Epoch #85: 1025it [00:03, 285.63it/s, env_step=87040, len=13, n/ep=4, n/st=64, player_1/loss=0.096, player_2/loss=0.002, rew=97.25]\n"
     ]
    },
    {
     "name": "stdout",
     "output_type": "stream",
     "text": [
      "Epoch #85: test_reward: 90.000000 ± 0.000000, best_reward: 104.000000 ± 0.000000 in #74\n"
     ]
    },
    {
     "name": "stderr",
     "output_type": "stream",
     "text": [
      "Epoch #86: 1025it [00:03, 286.06it/s, env_step=88064, len=15, n/ep=4, n/st=64, player_1/loss=0.042, player_2/loss=0.002, rew=128.25]\n"
     ]
    },
    {
     "name": "stdout",
     "output_type": "stream",
     "text": [
      "Epoch #86: test_reward: 65.000000 ± 0.000000, best_reward: 104.000000 ± 0.000000 in #74\n"
     ]
    },
    {
     "name": "stderr",
     "output_type": "stream",
     "text": [
      "Epoch #87: 1025it [00:03, 285.08it/s, env_step=89088, len=16, n/ep=4, n/st=64, player_1/loss=0.064, player_2/loss=0.002, rew=142.00]\n"
     ]
    },
    {
     "name": "stdout",
     "output_type": "stream",
     "text": [
      "Epoch #87: test_reward: 90.000000 ± 0.000000, best_reward: 104.000000 ± 0.000000 in #74\n"
     ]
    },
    {
     "name": "stderr",
     "output_type": "stream",
     "text": [
      "Epoch #88: 1025it [00:03, 284.47it/s, env_step=90112, len=15, n/ep=5, n/st=64, player_1/loss=0.070, player_2/loss=0.002, rew=148.00]\n"
     ]
    },
    {
     "name": "stdout",
     "output_type": "stream",
     "text": [
      "Epoch #88: test_reward: 209.000000 ± 0.000000, best_reward: 209.000000 ± 0.000000 in #88\n"
     ]
    },
    {
     "name": "stderr",
     "output_type": "stream",
     "text": [
      "Epoch #89: 1025it [00:03, 285.84it/s, env_step=91136, len=23, n/ep=3, n/st=64, player_1/loss=0.047, player_2/loss=0.002, rew=385.00]\n"
     ]
    },
    {
     "name": "stdout",
     "output_type": "stream",
     "text": [
      "Epoch #89: test_reward: 90.000000 ± 0.000000, best_reward: 209.000000 ± 0.000000 in #88\n"
     ]
    },
    {
     "name": "stderr",
     "output_type": "stream",
     "text": [
      "Epoch #90: 1025it [00:03, 283.84it/s, env_step=92160, len=17, n/ep=4, n/st=64, player_1/loss=0.047, player_2/loss=0.002, rew=175.50]\n"
     ]
    },
    {
     "name": "stdout",
     "output_type": "stream",
     "text": [
      "Epoch #90: test_reward: 90.000000 ± 0.000000, best_reward: 209.000000 ± 0.000000 in #88\n"
     ]
    },
    {
     "name": "stderr",
     "output_type": "stream",
     "text": [
      "Epoch #91: 1025it [00:03, 282.97it/s, env_step=93184, len=14, n/ep=5, n/st=64, player_1/loss=0.028, player_2/loss=0.001, rew=104.80]\n"
     ]
    },
    {
     "name": "stdout",
     "output_type": "stream",
     "text": [
      "Epoch #91: test_reward: 135.000000 ± 0.000000, best_reward: 209.000000 ± 0.000000 in #88\n"
     ]
    },
    {
     "name": "stderr",
     "output_type": "stream",
     "text": [
      "Epoch #92: 1025it [00:03, 284.06it/s, env_step=94208, len=21, n/ep=2, n/st=64, player_1/loss=0.024, player_2/loss=0.001, rew=262.00]\n"
     ]
    },
    {
     "name": "stdout",
     "output_type": "stream",
     "text": [
      "Epoch #92: test_reward: 90.000000 ± 0.000000, best_reward: 209.000000 ± 0.000000 in #88\n"
     ]
    },
    {
     "name": "stderr",
     "output_type": "stream",
     "text": [
      "Epoch #93: 1025it [00:03, 284.76it/s, env_step=95232, len=24, n/ep=2, n/st=64, player_1/loss=0.027, rew=317.00]        \n"
     ]
    },
    {
     "name": "stdout",
     "output_type": "stream",
     "text": [
      "Epoch #93: test_reward: 90.000000 ± 0.000000, best_reward: 209.000000 ± 0.000000 in #88\n"
     ]
    },
    {
     "name": "stderr",
     "output_type": "stream",
     "text": [
      "Epoch #94: 1025it [00:03, 285.41it/s, env_step=96256, len=26, n/ep=3, n/st=64, player_1/loss=0.034, player_2/loss=0.001, rew=385.67]\n"
     ]
    },
    {
     "name": "stdout",
     "output_type": "stream",
     "text": [
      "Epoch #94: test_reward: 119.000000 ± 0.000000, best_reward: 209.000000 ± 0.000000 in #88\n"
     ]
    },
    {
     "name": "stderr",
     "output_type": "stream",
     "text": [
      "Epoch #95: 1025it [00:03, 285.34it/s, env_step=97280, len=13, n/ep=5, n/st=64, player_1/loss=0.034, player_2/loss=0.001, rew=102.40]\n"
     ]
    },
    {
     "name": "stdout",
     "output_type": "stream",
     "text": [
      "Epoch #95: test_reward: 209.000000 ± 0.000000, best_reward: 209.000000 ± 0.000000 in #88\n"
     ]
    },
    {
     "name": "stderr",
     "output_type": "stream",
     "text": [
      "Epoch #96: 1025it [00:03, 285.79it/s, env_step=98304, len=15, n/ep=5, n/st=64, player_1/loss=0.034, player_2/loss=0.001, rew=120.00]\n"
     ]
    },
    {
     "name": "stdout",
     "output_type": "stream",
     "text": [
      "Epoch #96: test_reward: 90.000000 ± 0.000000, best_reward: 209.000000 ± 0.000000 in #88\n"
     ]
    },
    {
     "name": "stderr",
     "output_type": "stream",
     "text": [
      "Epoch #97: 1025it [00:03, 285.96it/s, env_step=99328, len=18, n/ep=4, n/st=64, player_1/loss=0.030, rew=200.75]        \n"
     ]
    },
    {
     "name": "stdout",
     "output_type": "stream",
     "text": [
      "Epoch #97: test_reward: 90.000000 ± 0.000000, best_reward: 209.000000 ± 0.000000 in #88\n"
     ]
    },
    {
     "name": "stderr",
     "output_type": "stream",
     "text": [
      "Epoch #98: 1025it [00:03, 285.50it/s, env_step=100352, len=17, n/ep=4, n/st=64, player_1/loss=0.031, player_2/loss=0.001, rew=173.25]\n"
     ]
    },
    {
     "name": "stdout",
     "output_type": "stream",
     "text": [
      "Epoch #98: test_reward: 119.000000 ± 0.000000, best_reward: 209.000000 ± 0.000000 in #88\n"
     ]
    },
    {
     "name": "stderr",
     "output_type": "stream",
     "text": [
      "Epoch #99: 1025it [00:03, 285.27it/s, env_step=101376, len=22, n/ep=3, n/st=64, player_2/loss=0.001, rew=293.67]       \n"
     ]
    },
    {
     "name": "stdout",
     "output_type": "stream",
     "text": [
      "Epoch #99: test_reward: 104.000000 ± 0.000000, best_reward: 209.000000 ± 0.000000 in #88\n"
     ]
    },
    {
     "name": "stderr",
     "output_type": "stream",
     "text": [
      "Epoch #100: 1025it [00:03, 284.51it/s, env_step=102400, len=25, n/ep=3, n/st=64, player_1/loss=0.022, player_2/loss=0.001, rew=327.00]\n"
     ]
    },
    {
     "name": "stdout",
     "output_type": "stream",
     "text": [
      "Epoch #100: test_reward: 740.000000 ± 0.000000, best_reward: 740.000000 ± 0.000000 in #100\n"
     ]
    },
    {
     "name": "stderr",
     "output_type": "stream",
     "text": [
      "Epoch #101: 1025it [00:03, 285.17it/s, env_step=103424, len=25, n/ep=2, n/st=64, player_1/loss=0.012, player_2/loss=0.001, rew=364.50]\n"
     ]
    },
    {
     "name": "stdout",
     "output_type": "stream",
     "text": [
      "Epoch #101: test_reward: 405.000000 ± 0.000000, best_reward: 740.000000 ± 0.000000 in #100\n"
     ]
    },
    {
     "name": "stderr",
     "output_type": "stream",
     "text": [
      "Epoch #102: 1025it [00:03, 285.63it/s, env_step=104448, len=23, n/ep=2, n/st=64, player_1/loss=0.011, player_2/loss=0.000, rew=288.00]\n"
     ]
    },
    {
     "name": "stdout",
     "output_type": "stream",
     "text": [
      "Epoch #102: test_reward: 464.000000 ± 0.000000, best_reward: 740.000000 ± 0.000000 in #100\n"
     ]
    },
    {
     "name": "stderr",
     "output_type": "stream",
     "text": [
      "Epoch #103: 1025it [00:03, 286.08it/s, env_step=105472, len=19, n/ep=4, n/st=64, player_1/loss=0.011, player_2/loss=0.000, rew=224.25]\n"
     ]
    },
    {
     "name": "stdout",
     "output_type": "stream",
     "text": [
      "Epoch #103: test_reward: 90.000000 ± 0.000000, best_reward: 740.000000 ± 0.000000 in #100\n"
     ]
    },
    {
     "name": "stderr",
     "output_type": "stream",
     "text": [
      "Epoch #104: 1025it [00:03, 287.10it/s, env_step=106496, len=21, n/ep=3, n/st=64, player_1/loss=0.009, player_2/loss=0.001, rew=240.33]\n"
     ]
    },
    {
     "name": "stdout",
     "output_type": "stream",
     "text": [
      "Epoch #104: test_reward: 252.000000 ± 0.000000, best_reward: 740.000000 ± 0.000000 in #100\n"
     ]
    },
    {
     "name": "stderr",
     "output_type": "stream",
     "text": [
      "Epoch #105: 1025it [00:03, 285.34it/s, env_step=107520, len=24, n/ep=2, n/st=64, player_1/loss=0.007, player_2/loss=0.001, rew=312.50]\n"
     ]
    },
    {
     "name": "stdout",
     "output_type": "stream",
     "text": [
      "Epoch #105: test_reward: 299.000000 ± 0.000000, best_reward: 740.000000 ± 0.000000 in #100\n"
     ]
    },
    {
     "name": "stderr",
     "output_type": "stream",
     "text": [
      "Epoch #106: 1025it [00:03, 285.81it/s, env_step=108544, len=27, n/ep=2, n/st=64, player_1/loss=0.006, player_2/loss=0.000, rew=394.00]\n"
     ]
    },
    {
     "name": "stdout",
     "output_type": "stream",
     "text": [
      "Epoch #106: test_reward: 405.000000 ± 0.000000, best_reward: 740.000000 ± 0.000000 in #100\n"
     ]
    },
    {
     "name": "stderr",
     "output_type": "stream",
     "text": [
      "Epoch #107: 1025it [00:03, 285.87it/s, env_step=109568, len=16, n/ep=4, n/st=64, player_1/loss=0.003, player_2/loss=0.000, rew=137.25]\n"
     ]
    },
    {
     "name": "stdout",
     "output_type": "stream",
     "text": [
      "Epoch #107: test_reward: 819.000000 ± 0.000000, best_reward: 819.000000 ± 0.000000 in #107\n"
     ]
    },
    {
     "name": "stderr",
     "output_type": "stream",
     "text": [
      "Epoch #108: 1025it [00:03, 286.80it/s, env_step=110592, len=22, n/ep=3, n/st=64, player_1/loss=0.006, player_2/loss=0.000, rew=269.33]\n"
     ]
    },
    {
     "name": "stdout",
     "output_type": "stream",
     "text": [
      "Epoch #108: test_reward: 170.000000 ± 0.000000, best_reward: 819.000000 ± 0.000000 in #107\n"
     ]
    },
    {
     "name": "stderr",
     "output_type": "stream",
     "text": [
      "Epoch #109: 1025it [00:03, 286.74it/s, env_step=111616, len=24, n/ep=3, n/st=64, player_1/loss=0.012, player_2/loss=0.001, rew=329.33]\n"
     ]
    },
    {
     "name": "stdout",
     "output_type": "stream",
     "text": [
      "Epoch #109: test_reward: 189.000000 ± 0.000000, best_reward: 819.000000 ± 0.000000 in #107\n"
     ]
    },
    {
     "name": "stderr",
     "output_type": "stream",
     "text": [
      "Epoch #110: 1025it [00:03, 285.39it/s, env_step=112640, len=19, n/ep=4, n/st=64, player_1/loss=0.009, player_2/loss=0.001, rew=197.25]\n"
     ]
    },
    {
     "name": "stdout",
     "output_type": "stream",
     "text": [
      "Epoch #110: test_reward: 299.000000 ± 0.000000, best_reward: 819.000000 ± 0.000000 in #107\n"
     ]
    },
    {
     "name": "stderr",
     "output_type": "stream",
     "text": [
      "Epoch #111: 1025it [00:03, 286.00it/s, env_step=113664, len=21, n/ep=3, n/st=64, player_1/loss=0.003, player_2/loss=0.000, rew=259.33]\n"
     ]
    },
    {
     "name": "stdout",
     "output_type": "stream",
     "text": [
      "Epoch #111: test_reward: 377.000000 ± 0.000000, best_reward: 819.000000 ± 0.000000 in #107\n"
     ]
    },
    {
     "name": "stderr",
     "output_type": "stream",
     "text": [
      "Epoch #112: 1025it [00:03, 285.30it/s, env_step=114688, len=24, n/ep=3, n/st=64, player_1/loss=0.004, player_2/loss=0.000, rew=314.67]\n"
     ]
    },
    {
     "name": "stdout",
     "output_type": "stream",
     "text": [
      "Epoch #112: test_reward: 209.000000 ± 0.000000, best_reward: 819.000000 ± 0.000000 in #107\n"
     ]
    },
    {
     "name": "stderr",
     "output_type": "stream",
     "text": [
      "Epoch #113: 1025it [00:03, 285.64it/s, env_step=115712, len=27, n/ep=2, n/st=64, player_1/loss=0.003, player_2/loss=0.000, rew=392.00]\n"
     ]
    },
    {
     "name": "stdout",
     "output_type": "stream",
     "text": [
      "Epoch #113: test_reward: 252.000000 ± 0.000000, best_reward: 819.000000 ± 0.000000 in #107\n"
     ]
    },
    {
     "name": "stderr",
     "output_type": "stream",
     "text": [
      "Epoch #114: 1025it [00:03, 287.51it/s, env_step=116736, len=20, n/ep=4, n/st=64, player_1/loss=0.003, player_2/loss=0.000, rew=239.00]\n"
     ]
    },
    {
     "name": "stdout",
     "output_type": "stream",
     "text": [
      "Epoch #114: test_reward: 932.000000 ± 0.000000, best_reward: 932.000000 ± 0.000000 in #114\n"
     ]
    },
    {
     "name": "stderr",
     "output_type": "stream",
     "text": [
      "Epoch #115: 1025it [00:03, 286.10it/s, env_step=117760, len=22, n/ep=3, n/st=64, player_1/loss=0.005, player_2/loss=0.000, rew=270.33]\n"
     ]
    },
    {
     "name": "stdout",
     "output_type": "stream",
     "text": [
      "Epoch #115: test_reward: 324.000000 ± 0.000000, best_reward: 932.000000 ± 0.000000 in #114\n"
     ]
    },
    {
     "name": "stderr",
     "output_type": "stream",
     "text": [
      "Epoch #116: 1025it [00:03, 285.48it/s, env_step=118784, len=20, n/ep=3, n/st=64, player_1/loss=0.005, player_2/loss=0.000, rew=210.00]\n"
     ]
    },
    {
     "name": "stdout",
     "output_type": "stream",
     "text": [
      "Epoch #116: test_reward: 135.000000 ± 0.000000, best_reward: 932.000000 ± 0.000000 in #114\n"
     ]
    },
    {
     "name": "stderr",
     "output_type": "stream",
     "text": [
      "Epoch #117: 1025it [00:03, 287.37it/s, env_step=119808, len=18, n/ep=4, n/st=64, player_1/loss=0.004, player_2/loss=0.000, rew=175.50]\n"
     ]
    },
    {
     "name": "stdout",
     "output_type": "stream",
     "text": [
      "Epoch #117: test_reward: 65.000000 ± 0.000000, best_reward: 932.000000 ± 0.000000 in #114\n"
     ]
    },
    {
     "name": "stderr",
     "output_type": "stream",
     "text": [
      "Epoch #118: 1025it [00:03, 285.94it/s, env_step=120832, len=18, n/ep=4, n/st=64, player_1/loss=0.003, player_2/loss=0.000, rew=171.75]\n"
     ]
    },
    {
     "name": "stdout",
     "output_type": "stream",
     "text": [
      "Epoch #118: test_reward: 819.000000 ± 0.000000, best_reward: 932.000000 ± 0.000000 in #114\n"
     ]
    },
    {
     "name": "stderr",
     "output_type": "stream",
     "text": [
      "Epoch #119: 1025it [00:03, 285.79it/s, env_step=121856, len=25, n/ep=2, n/st=64, player_1/loss=0.003, player_2/loss=0.000, rew=324.00]\n"
     ]
    },
    {
     "name": "stdout",
     "output_type": "stream",
     "text": [
      "Epoch #119: test_reward: 104.000000 ± 0.000000, best_reward: 932.000000 ± 0.000000 in #114\n"
     ]
    },
    {
     "name": "stderr",
     "output_type": "stream",
     "text": [
      "Epoch #120: 1025it [00:03, 284.69it/s, env_step=122880, len=20, n/ep=3, n/st=64, player_1/loss=0.003, player_2/loss=0.000, rew=212.00]\n"
     ]
    },
    {
     "name": "stdout",
     "output_type": "stream",
     "text": [
      "Epoch #120: test_reward: 152.000000 ± 0.000000, best_reward: 932.000000 ± 0.000000 in #114\n"
     ]
    },
    {
     "name": "stderr",
     "output_type": "stream",
     "text": [
      "Epoch #121: 1025it [00:03, 286.49it/s, env_step=123904, len=15, n/ep=4, n/st=64, player_1/loss=0.003, player_2/loss=0.000, rew=123.50]\n"
     ]
    },
    {
     "name": "stdout",
     "output_type": "stream",
     "text": [
      "Epoch #121: test_reward: 275.000000 ± 0.000000, best_reward: 932.000000 ± 0.000000 in #114\n"
     ]
    },
    {
     "name": "stderr",
     "output_type": "stream",
     "text": [
      "Epoch #122: 1025it [00:03, 287.43it/s, env_step=124928, len=18, n/ep=4, n/st=64, player_1/loss=0.004, player_2/loss=0.000, rew=182.50]\n"
     ]
    },
    {
     "name": "stdout",
     "output_type": "stream",
     "text": [
      "Epoch #122: test_reward: 104.000000 ± 0.000000, best_reward: 932.000000 ± 0.000000 in #114\n"
     ]
    },
    {
     "name": "stderr",
     "output_type": "stream",
     "text": [
      "Epoch #123: 1025it [00:03, 285.72it/s, env_step=125952, len=22, n/ep=3, n/st=64, player_1/loss=0.003, player_2/loss=0.000, rew=274.33]\n"
     ]
    },
    {
     "name": "stdout",
     "output_type": "stream",
     "text": [
      "Epoch #123: test_reward: 932.000000 ± 0.000000, best_reward: 932.000000 ± 0.000000 in #114\n"
     ]
    },
    {
     "name": "stderr",
     "output_type": "stream",
     "text": [
      "Epoch #124: 1025it [00:03, 283.12it/s, env_step=126976, len=24, n/ep=3, n/st=64, player_1/loss=0.002, player_2/loss=0.000, rew=320.33]\n"
     ]
    },
    {
     "name": "stdout",
     "output_type": "stream",
     "text": [
      "Epoch #124: test_reward: 299.000000 ± 0.000000, best_reward: 932.000000 ± 0.000000 in #114\n"
     ]
    },
    {
     "name": "stderr",
     "output_type": "stream",
     "text": [
      "Epoch #125: 1025it [00:03, 284.02it/s, env_step=128000, len=17, n/ep=4, n/st=64, player_1/loss=0.002, player_2/loss=0.000, rew=184.00]\n"
     ]
    },
    {
     "name": "stdout",
     "output_type": "stream",
     "text": [
      "Epoch #125: test_reward: 189.000000 ± 0.000000, best_reward: 932.000000 ± 0.000000 in #114\n"
     ]
    },
    {
     "name": "stderr",
     "output_type": "stream",
     "text": [
      "Epoch #126: 1025it [00:03, 285.58it/s, env_step=129024, len=15, n/ep=3, n/st=64, player_1/loss=0.002, player_2/loss=0.000, rew=131.67]\n"
     ]
    },
    {
     "name": "stdout",
     "output_type": "stream",
     "text": [
      "Epoch #126: test_reward: 152.000000 ± 0.000000, best_reward: 932.000000 ± 0.000000 in #114\n"
     ]
    },
    {
     "name": "stderr",
     "output_type": "stream",
     "text": [
      "Epoch #127: 1025it [00:03, 286.75it/s, env_step=130048, len=18, n/ep=4, n/st=64, player_1/loss=0.002, player_2/loss=0.000, rew=181.75]\n"
     ]
    },
    {
     "name": "stdout",
     "output_type": "stream",
     "text": [
      "Epoch #127: test_reward: 189.000000 ± 0.000000, best_reward: 932.000000 ± 0.000000 in #114\n"
     ]
    },
    {
     "name": "stderr",
     "output_type": "stream",
     "text": [
      "Epoch #128: 1025it [00:03, 287.35it/s, env_step=131072, len=19, n/ep=3, n/st=64, player_1/loss=0.002, player_2/loss=0.000, rew=207.67]\n"
     ]
    },
    {
     "name": "stdout",
     "output_type": "stream",
     "text": [
      "Epoch #128: test_reward: 932.000000 ± 0.000000, best_reward: 932.000000 ± 0.000000 in #114\n"
     ]
    },
    {
     "name": "stderr",
     "output_type": "stream",
     "text": [
      "Epoch #129: 1025it [00:03, 286.36it/s, env_step=132096, len=18, n/ep=4, n/st=64, player_1/loss=0.002, player_2/loss=0.000, rew=191.75]\n"
     ]
    },
    {
     "name": "stdout",
     "output_type": "stream",
     "text": [
      "Epoch #129: test_reward: 252.000000 ± 0.000000, best_reward: 932.000000 ± 0.000000 in #114\n"
     ]
    },
    {
     "name": "stderr",
     "output_type": "stream",
     "text": [
      "Epoch #130: 1025it [00:03, 286.61it/s, env_step=133120, len=18, n/ep=4, n/st=64, player_1/loss=0.001, player_2/loss=0.000, rew=189.75]\n"
     ]
    },
    {
     "name": "stdout",
     "output_type": "stream",
     "text": [
      "Epoch #130: test_reward: 377.000000 ± 0.000000, best_reward: 932.000000 ± 0.000000 in #114\n"
     ]
    },
    {
     "name": "stderr",
     "output_type": "stream",
     "text": [
      "Epoch #131: 1025it [00:03, 286.65it/s, env_step=134144, len=21, n/ep=2, n/st=64, player_1/loss=0.001, player_2/loss=0.000, rew=251.00]\n"
     ]
    },
    {
     "name": "stdout",
     "output_type": "stream",
     "text": [
      "Epoch #131: test_reward: 324.000000 ± 0.000000, best_reward: 932.000000 ± 0.000000 in #114\n"
     ]
    },
    {
     "name": "stderr",
     "output_type": "stream",
     "text": [
      "Epoch #132: 1025it [00:03, 276.19it/s, env_step=135168, len=19, n/ep=4, n/st=64, player_1/loss=0.001, player_2/loss=0.000, rew=218.50]\n"
     ]
    },
    {
     "name": "stdout",
     "output_type": "stream",
     "text": [
      "Epoch #132: test_reward: 119.000000 ± 0.000000, best_reward: 932.000000 ± 0.000000 in #114\n"
     ]
    },
    {
     "name": "stderr",
     "output_type": "stream",
     "text": [
      "Epoch #133: 1025it [00:03, 267.96it/s, env_step=136192, len=20, n/ep=3, n/st=64, player_1/loss=0.000, rew=218.00]      \n"
     ]
    },
    {
     "name": "stdout",
     "output_type": "stream",
     "text": [
      "Epoch #133: test_reward: 252.000000 ± 0.000000, best_reward: 932.000000 ± 0.000000 in #114\n"
     ]
    },
    {
     "name": "stderr",
     "output_type": "stream",
     "text": [
      "Epoch #134: 1025it [00:03, 269.03it/s, env_step=137216, len=20, n/ep=3, n/st=64, player_1/loss=0.001, player_2/loss=0.000, rew=231.33]\n"
     ]
    },
    {
     "name": "stdout",
     "output_type": "stream",
     "text": [
      "Epoch #134: test_reward: 90.000000 ± 0.000000, best_reward: 932.000000 ± 0.000000 in #114\n"
     ]
    },
    {
     "name": "stderr",
     "output_type": "stream",
     "text": [
      "Epoch #135: 1025it [00:03, 280.08it/s, env_step=138240, len=42, n/ep=1, n/st=64, player_1/loss=0.001, player_2/loss=0.000, rew=932.00]\n"
     ]
    },
    {
     "name": "stdout",
     "output_type": "stream",
     "text": [
      "Epoch #135: test_reward: 44.000000 ± 0.000000, best_reward: 932.000000 ± 0.000000 in #114\n"
     ]
    },
    {
     "name": "stderr",
     "output_type": "stream",
     "text": [
      "Epoch #136: 1025it [00:03, 286.47it/s, env_step=139264, len=21, n/ep=4, n/st=64, player_1/loss=0.001, player_2/loss=0.000, rew=248.25]\n"
     ]
    },
    {
     "name": "stdout",
     "output_type": "stream",
     "text": [
      "Epoch #136: test_reward: 299.000000 ± 0.000000, best_reward: 932.000000 ± 0.000000 in #114\n"
     ]
    },
    {
     "name": "stderr",
     "output_type": "stream",
     "text": [
      "Epoch #137: 1025it [00:03, 286.45it/s, env_step=140288, len=20, n/ep=3, n/st=64, player_1/loss=0.001, player_2/loss=0.000, rew=219.33]\n"
     ]
    },
    {
     "name": "stdout",
     "output_type": "stream",
     "text": [
      "Epoch #137: test_reward: 405.000000 ± 0.000000, best_reward: 932.000000 ± 0.000000 in #114\n"
     ]
    },
    {
     "name": "stderr",
     "output_type": "stream",
     "text": [
      "Epoch #138: 1025it [00:03, 285.01it/s, env_step=141312, len=18, n/ep=4, n/st=64, player_1/loss=0.000, player_2/loss=0.000, rew=207.00]\n"
     ]
    },
    {
     "name": "stdout",
     "output_type": "stream",
     "text": [
      "Epoch #138: test_reward: 135.000000 ± 0.000000, best_reward: 932.000000 ± 0.000000 in #114\n"
     ]
    },
    {
     "name": "stderr",
     "output_type": "stream",
     "text": [
      "Epoch #139: 1025it [00:03, 282.86it/s, env_step=142336, len=16, n/ep=4, n/st=64, player_1/loss=0.001, player_2/loss=0.000, rew=153.00]\n"
     ]
    },
    {
     "name": "stdout",
     "output_type": "stream",
     "text": [
      "Epoch #139: test_reward: 324.000000 ± 0.000000, best_reward: 932.000000 ± 0.000000 in #114\n"
     ]
    },
    {
     "name": "stderr",
     "output_type": "stream",
     "text": [
      "Epoch #140: 1025it [00:03, 285.06it/s, env_step=143360, len=17, n/ep=3, n/st=64, player_1/loss=0.001, player_2/loss=0.000, rew=160.00]\n"
     ]
    },
    {
     "name": "stdout",
     "output_type": "stream",
     "text": [
      "Epoch #140: test_reward: 90.000000 ± 0.000000, best_reward: 932.000000 ± 0.000000 in #114\n"
     ]
    },
    {
     "name": "stderr",
     "output_type": "stream",
     "text": [
      "Epoch #141: 1025it [00:03, 276.10it/s, env_step=144384, len=16, n/ep=4, n/st=64, player_1/loss=0.000, player_2/loss=0.000, rew=166.25]\n"
     ]
    },
    {
     "name": "stdout",
     "output_type": "stream",
     "text": [
      "Epoch #141: test_reward: 119.000000 ± 0.000000, best_reward: 932.000000 ± 0.000000 in #114\n"
     ]
    },
    {
     "name": "stderr",
     "output_type": "stream",
     "text": [
      "Epoch #142: 1025it [00:03, 286.00it/s, env_step=145408, len=24, n/ep=3, n/st=64, player_1/loss=0.001, player_2/loss=0.000, rew=321.33]\n"
     ]
    },
    {
     "name": "stdout",
     "output_type": "stream",
     "text": [
      "Epoch #142: test_reward: 152.000000 ± 0.000000, best_reward: 932.000000 ± 0.000000 in #114\n"
     ]
    },
    {
     "name": "stderr",
     "output_type": "stream",
     "text": [
      "Epoch #143: 1025it [00:03, 286.66it/s, env_step=146432, len=17, n/ep=3, n/st=64, player_1/loss=0.001, player_2/loss=0.000, rew=174.67]\n"
     ]
    },
    {
     "name": "stdout",
     "output_type": "stream",
     "text": [
      "Epoch #143: test_reward: 170.000000 ± 0.000000, best_reward: 932.000000 ± 0.000000 in #114\n"
     ]
    },
    {
     "name": "stderr",
     "output_type": "stream",
     "text": [
      "Epoch #144: 1025it [00:03, 285.96it/s, env_step=147456, len=22, n/ep=3, n/st=64, player_1/loss=0.000, player_2/loss=0.000, rew=273.33]\n"
     ]
    },
    {
     "name": "stdout",
     "output_type": "stream",
     "text": [
      "Epoch #144: test_reward: 299.000000 ± 0.000000, best_reward: 932.000000 ± 0.000000 in #114\n"
     ]
    },
    {
     "name": "stderr",
     "output_type": "stream",
     "text": [
      "Epoch #145: 1025it [00:03, 287.30it/s, env_step=148480, len=20, n/ep=3, n/st=64, player_1/loss=0.000, player_2/loss=0.000, rew=230.33]\n"
     ]
    },
    {
     "name": "stdout",
     "output_type": "stream",
     "text": [
      "Epoch #145: test_reward: 119.000000 ± 0.000000, best_reward: 932.000000 ± 0.000000 in #114\n"
     ]
    },
    {
     "name": "stderr",
     "output_type": "stream",
     "text": [
      "Epoch #146: 1025it [00:03, 285.29it/s, env_step=149504, len=17, n/ep=4, n/st=64, player_1/loss=0.001, player_2/loss=0.000, rew=185.25]\n"
     ]
    },
    {
     "name": "stdout",
     "output_type": "stream",
     "text": [
      "Epoch #146: test_reward: 209.000000 ± 0.000000, best_reward: 932.000000 ± 0.000000 in #114\n"
     ]
    },
    {
     "name": "stderr",
     "output_type": "stream",
     "text": [
      "Epoch #147: 1025it [00:03, 286.31it/s, env_step=150528, len=15, n/ep=3, n/st=64, player_1/loss=0.000, player_2/loss=0.000, rew=119.00]\n"
     ]
    },
    {
     "name": "stdout",
     "output_type": "stream",
     "text": [
      "Epoch #147: test_reward: 119.000000 ± 0.000000, best_reward: 932.000000 ± 0.000000 in #114\n"
     ]
    },
    {
     "name": "stderr",
     "output_type": "stream",
     "text": [
      "Epoch #148: 1025it [00:03, 286.59it/s, env_step=151552, len=24, n/ep=3, n/st=64, player_1/loss=0.001, player_2/loss=0.000, rew=356.00]\n"
     ]
    },
    {
     "name": "stdout",
     "output_type": "stream",
     "text": [
      "Epoch #148: test_reward: 90.000000 ± 0.000000, best_reward: 932.000000 ± 0.000000 in #114\n"
     ]
    },
    {
     "name": "stderr",
     "output_type": "stream",
     "text": [
      "Epoch #149: 1025it [00:03, 286.79it/s, env_step=152576, len=18, n/ep=3, n/st=64, player_1/loss=0.001, player_2/loss=0.000, rew=195.00]\n"
     ]
    },
    {
     "name": "stdout",
     "output_type": "stream",
     "text": [
      "Epoch #149: test_reward: 377.000000 ± 0.000000, best_reward: 932.000000 ± 0.000000 in #114\n"
     ]
    },
    {
     "name": "stderr",
     "output_type": "stream",
     "text": [
      "Epoch #150: 1025it [00:03, 285.66it/s, env_step=153600, len=24, n/ep=3, n/st=64, player_1/loss=0.001, player_2/loss=0.000, rew=299.33]\n"
     ]
    },
    {
     "name": "stdout",
     "output_type": "stream",
     "text": [
      "Epoch #150: test_reward: 464.000000 ± 0.000000, best_reward: 932.000000 ± 0.000000 in #114\n"
     ]
    },
    {
     "name": "stderr",
     "output_type": "stream",
     "text": [
      "Epoch #151: 1025it [00:03, 287.31it/s, env_step=154624, len=21, n/ep=4, n/st=64, player_1/loss=0.000, player_2/loss=0.000, rew=247.00]\n"
     ]
    },
    {
     "name": "stdout",
     "output_type": "stream",
     "text": [
      "Epoch #151: test_reward: 324.000000 ± 0.000000, best_reward: 932.000000 ± 0.000000 in #114\n"
     ]
    },
    {
     "name": "stderr",
     "output_type": "stream",
     "text": [
      "Epoch #152: 1025it [00:03, 286.12it/s, env_step=155648, len=11, n/ep=5, n/st=64, player_1/loss=0.001, player_2/loss=0.000, rew=70.60]\n"
     ]
    },
    {
     "name": "stdout",
     "output_type": "stream",
     "text": [
      "Epoch #152: test_reward: 119.000000 ± 0.000000, best_reward: 932.000000 ± 0.000000 in #114\n"
     ]
    },
    {
     "name": "stderr",
     "output_type": "stream",
     "text": [
      "Epoch #153: 1025it [00:03, 285.07it/s, env_step=156672, len=11, n/ep=6, n/st=64, player_1/loss=0.001, player_2/loss=0.000, rew=78.67]\n"
     ]
    },
    {
     "name": "stdout",
     "output_type": "stream",
     "text": [
      "Epoch #153: test_reward: 932.000000 ± 0.000000, best_reward: 932.000000 ± 0.000000 in #114\n"
     ]
    },
    {
     "name": "stderr",
     "output_type": "stream",
     "text": [
      "Epoch #154: 1025it [00:03, 285.94it/s, env_step=157696, len=12, n/ep=5, n/st=64, player_1/loss=0.001, player_2/loss=0.000, rew=83.60]\n"
     ]
    },
    {
     "name": "stdout",
     "output_type": "stream",
     "text": [
      "Epoch #154: test_reward: 170.000000 ± 0.000000, best_reward: 932.000000 ± 0.000000 in #114\n"
     ]
    },
    {
     "name": "stderr",
     "output_type": "stream",
     "text": [
      "Epoch #155: 1025it [00:03, 285.86it/s, env_step=158720, len=22, n/ep=3, n/st=64, player_1/loss=0.001, player_2/loss=0.000, rew=278.33]\n"
     ]
    },
    {
     "name": "stdout",
     "output_type": "stream",
     "text": [
      "Epoch #155: test_reward: 90.000000 ± 0.000000, best_reward: 932.000000 ± 0.000000 in #114\n"
     ]
    },
    {
     "name": "stderr",
     "output_type": "stream",
     "text": [
      "Epoch #156: 1025it [00:03, 285.06it/s, env_step=159744, len=20, n/ep=3, n/st=64, player_1/loss=0.000, player_2/loss=0.000, rew=219.33]\n"
     ]
    },
    {
     "name": "stdout",
     "output_type": "stream",
     "text": [
      "Epoch #156: test_reward: 119.000000 ± 0.000000, best_reward: 932.000000 ± 0.000000 in #114\n"
     ]
    },
    {
     "name": "stderr",
     "output_type": "stream",
     "text": [
      "Epoch #157: 1025it [00:03, 284.75it/s, env_step=160768, len=23, n/ep=2, n/st=64, player_1/loss=0.000, player_2/loss=0.000, rew=287.00]\n"
     ]
    },
    {
     "name": "stdout",
     "output_type": "stream",
     "text": [
      "Epoch #157: test_reward: 275.000000 ± 0.000000, best_reward: 932.000000 ± 0.000000 in #114\n"
     ]
    },
    {
     "name": "stderr",
     "output_type": "stream",
     "text": [
      "Epoch #158: 1025it [00:03, 285.32it/s, env_step=161792, len=22, n/ep=3, n/st=64, player_1/loss=0.000, player_2/loss=0.000, rew=279.67]\n"
     ]
    },
    {
     "name": "stdout",
     "output_type": "stream",
     "text": [
      "Epoch #158: test_reward: 527.000000 ± 0.000000, best_reward: 932.000000 ± 0.000000 in #114\n"
     ]
    },
    {
     "name": "stderr",
     "output_type": "stream",
     "text": [
      "Epoch #159: 1025it [00:03, 286.40it/s, env_step=162816, len=14, n/ep=3, n/st=64, player_1/loss=0.000, player_2/loss=0.000, rew=109.33]\n"
     ]
    },
    {
     "name": "stdout",
     "output_type": "stream",
     "text": [
      "Epoch #159: test_reward: 90.000000 ± 0.000000, best_reward: 932.000000 ± 0.000000 in #114\n"
     ]
    },
    {
     "name": "stderr",
     "output_type": "stream",
     "text": [
      "Epoch #160: 1025it [00:03, 286.19it/s, env_step=163840, len=15, n/ep=4, n/st=64, player_1/loss=0.000, player_2/loss=0.000, rew=152.75]\n"
     ]
    },
    {
     "name": "stdout",
     "output_type": "stream",
     "text": [
      "Epoch #160: test_reward: 44.000000 ± 0.000000, best_reward: 932.000000 ± 0.000000 in #114\n"
     ]
    },
    {
     "name": "stderr",
     "output_type": "stream",
     "text": [
      "Epoch #161: 1025it [00:03, 282.39it/s, env_step=164864, len=15, n/ep=5, n/st=64, player_1/loss=0.000, player_2/loss=0.000, rew=149.80]\n"
     ]
    },
    {
     "name": "stdout",
     "output_type": "stream",
     "text": [
      "Epoch #161: test_reward: 170.000000 ± 0.000000, best_reward: 932.000000 ± 0.000000 in #114\n"
     ]
    },
    {
     "name": "stderr",
     "output_type": "stream",
     "text": [
      "Epoch #162: 1025it [00:03, 285.06it/s, env_step=165888, len=16, n/ep=3, n/st=64, player_1/loss=0.000, player_2/loss=0.000, rew=146.33]\n"
     ]
    },
    {
     "name": "stdout",
     "output_type": "stream",
     "text": [
      "Epoch #162: test_reward: 90.000000 ± 0.000000, best_reward: 932.000000 ± 0.000000 in #114\n"
     ]
    },
    {
     "name": "stderr",
     "output_type": "stream",
     "text": [
      "Epoch #163: 1025it [00:03, 286.50it/s, env_step=166912, len=23, n/ep=3, n/st=64, player_1/loss=0.000, player_2/loss=0.000, rew=298.33]\n"
     ]
    },
    {
     "name": "stdout",
     "output_type": "stream",
     "text": [
      "Epoch #163: test_reward: 230.000000 ± 0.000000, best_reward: 932.000000 ± 0.000000 in #114\n"
     ]
    },
    {
     "name": "stderr",
     "output_type": "stream",
     "text": [
      "Epoch #164: 1025it [00:03, 285.82it/s, env_step=167936, len=16, n/ep=5, n/st=64, player_1/loss=0.000, player_2/loss=0.000, rew=169.20]\n"
     ]
    },
    {
     "name": "stdout",
     "output_type": "stream",
     "text": [
      "Epoch #164: test_reward: 119.000000 ± 0.000000, best_reward: 932.000000 ± 0.000000 in #114\n"
     ]
    },
    {
     "name": "stderr",
     "output_type": "stream",
     "text": [
      "Epoch #165: 1025it [00:03, 286.75it/s, env_step=168960, len=13, n/ep=4, n/st=64, player_1/loss=0.000, player_2/loss=0.000, rew=118.25]\n"
     ]
    },
    {
     "name": "stdout",
     "output_type": "stream",
     "text": [
      "Epoch #165: test_reward: 152.000000 ± 0.000000, best_reward: 932.000000 ± 0.000000 in #114\n"
     ]
    },
    {
     "name": "stderr",
     "output_type": "stream",
     "text": [
      "Epoch #166: 1025it [00:03, 286.11it/s, env_step=169984, len=13, n/ep=5, n/st=64, player_1/loss=0.000, player_2/loss=0.000, rew=97.80]\n"
     ]
    },
    {
     "name": "stdout",
     "output_type": "stream",
     "text": [
      "Epoch #166: test_reward: 90.000000 ± 0.000000, best_reward: 932.000000 ± 0.000000 in #114\n"
     ]
    },
    {
     "name": "stderr",
     "output_type": "stream",
     "text": [
      "Epoch #167: 1025it [00:03, 285.36it/s, env_step=171008, len=13, n/ep=4, n/st=64, player_1/loss=0.000, player_2/loss=0.000, rew=96.50]\n"
     ]
    },
    {
     "name": "stdout",
     "output_type": "stream",
     "text": [
      "Epoch #167: test_reward: 90.000000 ± 0.000000, best_reward: 932.000000 ± 0.000000 in #114\n"
     ]
    },
    {
     "name": "stderr",
     "output_type": "stream",
     "text": [
      "Epoch #168: 1025it [00:03, 285.87it/s, env_step=172032, len=27, n/ep=2, n/st=64, player_1/loss=0.000, player_2/loss=0.000, rew=394.00]\n"
     ]
    },
    {
     "name": "stdout",
     "output_type": "stream",
     "text": [
      "Epoch #168: test_reward: 90.000000 ± 0.000000, best_reward: 932.000000 ± 0.000000 in #114\n"
     ]
    },
    {
     "name": "stderr",
     "output_type": "stream",
     "text": [
      "Epoch #169: 1025it [00:03, 286.01it/s, env_step=173056, len=18, n/ep=3, n/st=64, player_1/loss=0.000, player_2/loss=0.000, rew=183.67]\n"
     ]
    },
    {
     "name": "stdout",
     "output_type": "stream",
     "text": [
      "Epoch #169: test_reward: 90.000000 ± 0.000000, best_reward: 932.000000 ± 0.000000 in #114\n"
     ]
    },
    {
     "name": "stderr",
     "output_type": "stream",
     "text": [
      "Epoch #170: 1025it [00:03, 285.79it/s, env_step=174080, len=13, n/ep=4, n/st=64, player_1/loss=0.000, player_2/loss=0.000, rew=94.00]\n"
     ]
    },
    {
     "name": "stdout",
     "output_type": "stream",
     "text": [
      "Epoch #170: test_reward: 527.000000 ± 0.000000, best_reward: 932.000000 ± 0.000000 in #114\n"
     ]
    },
    {
     "name": "stderr",
     "output_type": "stream",
     "text": [
      "Epoch #171: 1025it [00:03, 286.20it/s, env_step=175104, len=27, n/ep=2, n/st=64, player_1/loss=0.000, player_2/loss=0.000, rew=401.50]\n"
     ]
    },
    {
     "name": "stdout",
     "output_type": "stream",
     "text": [
      "Epoch #171: test_reward: 90.000000 ± 0.000000, best_reward: 932.000000 ± 0.000000 in #114\n"
     ]
    },
    {
     "name": "stderr",
     "output_type": "stream",
     "text": [
      "Epoch #172: 1025it [00:03, 283.93it/s, env_step=176128, len=16, n/ep=5, n/st=64, player_1/loss=0.000, player_2/loss=0.000, rew=164.60]\n"
     ]
    },
    {
     "name": "stdout",
     "output_type": "stream",
     "text": [
      "Epoch #172: test_reward: 65.000000 ± 0.000000, best_reward: 932.000000 ± 0.000000 in #114\n"
     ]
    },
    {
     "name": "stderr",
     "output_type": "stream",
     "text": [
      "Epoch #173: 1025it [00:03, 280.99it/s, env_step=177152, len=19, n/ep=3, n/st=64, player_1/loss=0.000, player_2/loss=0.000, rew=233.67]\n"
     ]
    },
    {
     "name": "stdout",
     "output_type": "stream",
     "text": [
      "Epoch #173: test_reward: 119.000000 ± 0.000000, best_reward: 932.000000 ± 0.000000 in #114\n"
     ]
    },
    {
     "name": "stderr",
     "output_type": "stream",
     "text": [
      "Epoch #174: 1025it [00:03, 286.69it/s, env_step=178176, len=13, n/ep=5, n/st=64, player_1/loss=0.000, player_2/loss=0.000, rew=101.40]\n"
     ]
    },
    {
     "name": "stdout",
     "output_type": "stream",
     "text": [
      "Epoch #174: test_reward: 90.000000 ± 0.000000, best_reward: 932.000000 ± 0.000000 in #114\n"
     ]
    },
    {
     "name": "stderr",
     "output_type": "stream",
     "text": [
      "Epoch #175: 1025it [00:03, 284.11it/s, env_step=179200, len=21, n/ep=3, n/st=64, player_1/loss=0.000, player_2/loss=0.000, rew=256.33]\n"
     ]
    },
    {
     "name": "stdout",
     "output_type": "stream",
     "text": [
      "Epoch #175: test_reward: 54.000000 ± 0.000000, best_reward: 932.000000 ± 0.000000 in #114\n"
     ]
    },
    {
     "name": "stderr",
     "output_type": "stream",
     "text": [
      "Epoch #176: 1025it [00:03, 285.78it/s, env_step=180224, len=15, n/ep=4, n/st=64, player_1/loss=0.000, player_2/loss=0.000, rew=123.75]\n"
     ]
    },
    {
     "name": "stdout",
     "output_type": "stream",
     "text": [
      "Epoch #176: test_reward: 90.000000 ± 0.000000, best_reward: 932.000000 ± 0.000000 in #114\n"
     ]
    },
    {
     "name": "stderr",
     "output_type": "stream",
     "text": [
      "Epoch #177: 1025it [00:03, 285.29it/s, env_step=181248, len=19, n/ep=4, n/st=64, player_1/loss=0.000, player_2/loss=0.000, rew=272.25]\n"
     ]
    },
    {
     "name": "stdout",
     "output_type": "stream",
     "text": [
      "Epoch #177: test_reward: 90.000000 ± 0.000000, best_reward: 932.000000 ± 0.000000 in #114\n"
     ]
    },
    {
     "name": "stderr",
     "output_type": "stream",
     "text": [
      "Epoch #178: 1025it [00:03, 286.07it/s, env_step=182272, len=20, n/ep=3, n/st=64, player_1/loss=0.000, player_2/loss=0.000, rew=273.33]\n"
     ]
    },
    {
     "name": "stdout",
     "output_type": "stream",
     "text": [
      "Epoch #178: test_reward: 65.000000 ± 0.000000, best_reward: 932.000000 ± 0.000000 in #114\n"
     ]
    },
    {
     "name": "stderr",
     "output_type": "stream",
     "text": [
      "Epoch #179: 1025it [00:03, 286.21it/s, env_step=183296, len=13, n/ep=5, n/st=64, player_1/loss=0.000, player_2/loss=0.000, rew=106.20]\n"
     ]
    },
    {
     "name": "stdout",
     "output_type": "stream",
     "text": [
      "Epoch #179: test_reward: 44.000000 ± 0.000000, best_reward: 932.000000 ± 0.000000 in #114\n"
     ]
    },
    {
     "name": "stderr",
     "output_type": "stream",
     "text": [
      "Epoch #180: 1025it [00:03, 286.15it/s, env_step=184320, len=17, n/ep=4, n/st=64, player_1/loss=0.000, player_2/loss=0.000, rew=156.75]\n"
     ]
    },
    {
     "name": "stdout",
     "output_type": "stream",
     "text": [
      "Epoch #180: test_reward: 119.000000 ± 0.000000, best_reward: 932.000000 ± 0.000000 in #114\n"
     ]
    },
    {
     "name": "stderr",
     "output_type": "stream",
     "text": [
      "Epoch #181: 1025it [00:03, 286.07it/s, env_step=185344, len=27, n/ep=3, n/st=64, player_1/loss=0.000, player_2/loss=0.000, rew=400.33]\n"
     ]
    },
    {
     "name": "stdout",
     "output_type": "stream",
     "text": [
      "Epoch #181: test_reward: 170.000000 ± 0.000000, best_reward: 932.000000 ± 0.000000 in #114\n"
     ]
    },
    {
     "name": "stderr",
     "output_type": "stream",
     "text": [
      "Epoch #182: 1025it [00:03, 285.71it/s, env_step=186368, len=24, n/ep=2, n/st=64, player_1/loss=0.000, player_2/loss=0.000, rew=312.50]\n"
     ]
    },
    {
     "name": "stdout",
     "output_type": "stream",
     "text": [
      "Epoch #182: test_reward: 230.000000 ± 0.000000, best_reward: 932.000000 ± 0.000000 in #114\n"
     ]
    },
    {
     "name": "stderr",
     "output_type": "stream",
     "text": [
      "Epoch #183: 1025it [00:03, 284.95it/s, env_step=187392, len=12, n/ep=5, n/st=64, player_1/loss=0.000, player_2/loss=0.000, rew=84.80]\n"
     ]
    },
    {
     "name": "stdout",
     "output_type": "stream",
     "text": [
      "Epoch #183: test_reward: 90.000000 ± 0.000000, best_reward: 932.000000 ± 0.000000 in #114\n"
     ]
    },
    {
     "name": "stderr",
     "output_type": "stream",
     "text": [
      "Epoch #184: 1025it [00:03, 285.26it/s, env_step=188416, len=13, n/ep=5, n/st=64, player_1/loss=0.000, player_2/loss=0.000, rew=98.00]\n"
     ]
    },
    {
     "name": "stdout",
     "output_type": "stream",
     "text": [
      "Epoch #184: test_reward: 90.000000 ± 0.000000, best_reward: 932.000000 ± 0.000000 in #114\n"
     ]
    },
    {
     "name": "stderr",
     "output_type": "stream",
     "text": [
      "Epoch #185: 1025it [00:03, 286.41it/s, env_step=189440, len=21, n/ep=4, n/st=64, player_1/loss=0.000, player_2/loss=0.000, rew=326.50]\n"
     ]
    },
    {
     "name": "stdout",
     "output_type": "stream",
     "text": [
      "Epoch #185: test_reward: 170.000000 ± 0.000000, best_reward: 932.000000 ± 0.000000 in #114\n"
     ]
    },
    {
     "name": "stderr",
     "output_type": "stream",
     "text": [
      "Epoch #186: 1025it [00:03, 286.96it/s, env_step=190464, len=14, n/ep=5, n/st=64, player_1/loss=0.000, player_2/loss=0.000, rew=132.20]\n"
     ]
    },
    {
     "name": "stdout",
     "output_type": "stream",
     "text": [
      "Epoch #186: test_reward: 54.000000 ± 0.000000, best_reward: 932.000000 ± 0.000000 in #114\n"
     ]
    },
    {
     "name": "stderr",
     "output_type": "stream",
     "text": [
      "Epoch #187: 1025it [00:03, 285.06it/s, env_step=191488, len=13, n/ep=5, n/st=64, player_1/loss=0.000, player_2/loss=0.000, rew=116.20]\n"
     ]
    },
    {
     "name": "stdout",
     "output_type": "stream",
     "text": [
      "Epoch #187: test_reward: 275.000000 ± 0.000000, best_reward: 932.000000 ± 0.000000 in #114\n"
     ]
    },
    {
     "name": "stderr",
     "output_type": "stream",
     "text": [
      "Epoch #188: 1025it [00:03, 285.36it/s, env_step=192512, len=13, n/ep=5, n/st=64, player_1/loss=0.000, player_2/loss=0.000, rew=105.40]\n"
     ]
    },
    {
     "name": "stdout",
     "output_type": "stream",
     "text": [
      "Epoch #188: test_reward: 90.000000 ± 0.000000, best_reward: 932.000000 ± 0.000000 in #114\n"
     ]
    },
    {
     "name": "stderr",
     "output_type": "stream",
     "text": [
      "Epoch #189: 1025it [00:03, 285.69it/s, env_step=193536, len=13, n/ep=5, n/st=64, player_1/loss=0.000, player_2/loss=0.000, rew=100.20]\n"
     ]
    },
    {
     "name": "stdout",
     "output_type": "stream",
     "text": [
      "Epoch #189: test_reward: 65.000000 ± 0.000000, best_reward: 932.000000 ± 0.000000 in #114\n"
     ]
    },
    {
     "name": "stderr",
     "output_type": "stream",
     "text": [
      "Epoch #190: 1025it [00:03, 282.27it/s, env_step=194560, len=14, n/ep=4, n/st=64, player_1/loss=0.000, player_2/loss=0.000, rew=122.50]\n"
     ]
    },
    {
     "name": "stdout",
     "output_type": "stream",
     "text": [
      "Epoch #190: test_reward: 65.000000 ± 0.000000, best_reward: 932.000000 ± 0.000000 in #114\n"
     ]
    },
    {
     "name": "stderr",
     "output_type": "stream",
     "text": [
      "Epoch #191: 1025it [00:03, 284.76it/s, env_step=195584, len=14, n/ep=5, n/st=64, player_1/loss=0.000, player_2/loss=0.000, rew=135.60]\n"
     ]
    },
    {
     "name": "stdout",
     "output_type": "stream",
     "text": [
      "Epoch #191: test_reward: 90.000000 ± 0.000000, best_reward: 932.000000 ± 0.000000 in #114\n"
     ]
    },
    {
     "name": "stderr",
     "output_type": "stream",
     "text": [
      "Epoch #192: 1025it [00:03, 285.32it/s, env_step=196608, len=11, n/ep=4, n/st=64, player_1/loss=0.000, player_2/loss=0.000, rew=74.50]\n"
     ]
    },
    {
     "name": "stdout",
     "output_type": "stream",
     "text": [
      "Epoch #192: test_reward: 65.000000 ± 0.000000, best_reward: 932.000000 ± 0.000000 in #114\n"
     ]
    },
    {
     "name": "stderr",
     "output_type": "stream",
     "text": [
      "Epoch #193: 1025it [00:03, 286.00it/s, env_step=197632, len=14, n/ep=4, n/st=64, player_1/loss=0.000, player_2/loss=0.000, rew=154.50]\n"
     ]
    },
    {
     "name": "stdout",
     "output_type": "stream",
     "text": [
      "Epoch #193: test_reward: 90.000000 ± 0.000000, best_reward: 932.000000 ± 0.000000 in #114\n"
     ]
    },
    {
     "name": "stderr",
     "output_type": "stream",
     "text": [
      "Epoch #194: 1025it [00:03, 286.01it/s, env_step=198656, len=20, n/ep=3, n/st=64, player_1/loss=0.000, player_2/loss=0.000, rew=237.67]\n"
     ]
    },
    {
     "name": "stdout",
     "output_type": "stream",
     "text": [
      "Epoch #194: test_reward: 65.000000 ± 0.000000, best_reward: 932.000000 ± 0.000000 in #114\n"
     ]
    },
    {
     "name": "stderr",
     "output_type": "stream",
     "text": [
      "Epoch #195: 1025it [00:03, 285.40it/s, env_step=199680, len=19, n/ep=4, n/st=64, player_1/loss=0.000, player_2/loss=0.000, rew=221.00]\n"
     ]
    },
    {
     "name": "stdout",
     "output_type": "stream",
     "text": [
      "Epoch #195: test_reward: 65.000000 ± 0.000000, best_reward: 932.000000 ± 0.000000 in #114\n"
     ]
    },
    {
     "name": "stderr",
     "output_type": "stream",
     "text": [
      "Epoch #196: 1025it [00:03, 285.71it/s, env_step=200704, len=23, n/ep=3, n/st=64, player_1/loss=0.000, player_2/loss=0.000, rew=321.67]\n"
     ]
    },
    {
     "name": "stdout",
     "output_type": "stream",
     "text": [
      "Epoch #196: test_reward: 54.000000 ± 0.000000, best_reward: 932.000000 ± 0.000000 in #114\n"
     ]
    },
    {
     "name": "stderr",
     "output_type": "stream",
     "text": [
      "Epoch #197: 1025it [00:03, 285.17it/s, env_step=201728, len=13, n/ep=4, n/st=64, player_1/loss=0.000, player_2/loss=0.000, rew=108.25]\n"
     ]
    },
    {
     "name": "stdout",
     "output_type": "stream",
     "text": [
      "Epoch #197: test_reward: 65.000000 ± 0.000000, best_reward: 932.000000 ± 0.000000 in #114\n"
     ]
    },
    {
     "name": "stderr",
     "output_type": "stream",
     "text": [
      "Epoch #198: 1025it [00:03, 286.16it/s, env_step=202752, len=14, n/ep=5, n/st=64, player_1/loss=0.000, player_2/loss=0.000, rew=137.80]\n"
     ]
    },
    {
     "name": "stdout",
     "output_type": "stream",
     "text": [
      "Epoch #198: test_reward: 65.000000 ± 0.000000, best_reward: 932.000000 ± 0.000000 in #114\n"
     ]
    },
    {
     "name": "stderr",
     "output_type": "stream",
     "text": [
      "Epoch #199: 1025it [00:03, 286.95it/s, env_step=203776, len=18, n/ep=3, n/st=64, player_1/loss=0.000, player_2/loss=0.000, rew=204.00]\n"
     ]
    },
    {
     "name": "stdout",
     "output_type": "stream",
     "text": [
      "Epoch #199: test_reward: 65.000000 ± 0.000000, best_reward: 932.000000 ± 0.000000 in #114\n"
     ]
    },
    {
     "name": "stderr",
     "output_type": "stream",
     "text": [
      "Epoch #200: 1025it [00:03, 286.65it/s, env_step=204800, len=24, n/ep=3, n/st=64, player_1/loss=0.000, player_2/loss=0.000, rew=307.67]\n"
     ]
    },
    {
     "name": "stdout",
     "output_type": "stream",
     "text": [
      "Epoch #200: test_reward: 170.000000 ± 0.000000, best_reward: 932.000000 ± 0.000000 in #114\n"
     ]
    },
    {
     "name": "stderr",
     "output_type": "stream",
     "text": [
      "Epoch #201: 1025it [00:03, 284.04it/s, env_step=205824, len=13, n/ep=5, n/st=64, player_1/loss=0.000, rew=108.00]      \n"
     ]
    },
    {
     "name": "stdout",
     "output_type": "stream",
     "text": [
      "Epoch #201: test_reward: 65.000000 ± 0.000000, best_reward: 932.000000 ± 0.000000 in #114\n"
     ]
    },
    {
     "name": "stderr",
     "output_type": "stream",
     "text": [
      "Epoch #202: 1025it [00:03, 286.47it/s, env_step=206848, len=17, n/ep=2, n/st=64, player_1/loss=0.000, player_2/loss=0.000, rew=176.50]\n"
     ]
    },
    {
     "name": "stdout",
     "output_type": "stream",
     "text": [
      "Epoch #202: test_reward: 275.000000 ± 0.000000, best_reward: 932.000000 ± 0.000000 in #114\n"
     ]
    },
    {
     "name": "stderr",
     "output_type": "stream",
     "text": [
      "Epoch #203: 1025it [00:03, 287.43it/s, env_step=207872, len=18, n/ep=3, n/st=64, player_1/loss=0.000, player_2/loss=0.000, rew=204.00]\n"
     ]
    },
    {
     "name": "stdout",
     "output_type": "stream",
     "text": [
      "Epoch #203: test_reward: 65.000000 ± 0.000000, best_reward: 932.000000 ± 0.000000 in #114\n"
     ]
    },
    {
     "name": "stderr",
     "output_type": "stream",
     "text": [
      "Epoch #204: 1025it [00:03, 285.85it/s, env_step=208896, len=22, n/ep=3, n/st=64, player_1/loss=0.000, player_2/loss=0.000, rew=269.33]\n"
     ]
    },
    {
     "name": "stdout",
     "output_type": "stream",
     "text": [
      "Epoch #204: test_reward: 170.000000 ± 0.000000, best_reward: 932.000000 ± 0.000000 in #114\n"
     ]
    },
    {
     "name": "stderr",
     "output_type": "stream",
     "text": [
      "Epoch #205: 1025it [00:03, 285.76it/s, env_step=209920, len=15, n/ep=3, n/st=64, player_1/loss=0.000, player_2/loss=0.000, rew=125.33]\n"
     ]
    },
    {
     "name": "stdout",
     "output_type": "stream",
     "text": [
      "Epoch #205: test_reward: 90.000000 ± 0.000000, best_reward: 932.000000 ± 0.000000 in #114\n"
     ]
    },
    {
     "name": "stderr",
     "output_type": "stream",
     "text": [
      "Epoch #206: 1025it [00:03, 285.71it/s, env_step=210944, len=17, n/ep=3, n/st=64, player_1/loss=0.000, player_2/loss=0.000, rew=178.67]\n"
     ]
    },
    {
     "name": "stdout",
     "output_type": "stream",
     "text": [
      "Epoch #206: test_reward: 252.000000 ± 0.000000, best_reward: 932.000000 ± 0.000000 in #114\n"
     ]
    },
    {
     "name": "stderr",
     "output_type": "stream",
     "text": [
      "Epoch #207: 1025it [00:03, 285.84it/s, env_step=211968, len=22, n/ep=3, n/st=64, player_1/loss=0.000, player_2/loss=0.000, rew=252.00]\n"
     ]
    },
    {
     "name": "stdout",
     "output_type": "stream",
     "text": [
      "Epoch #207: test_reward: 170.000000 ± 0.000000, best_reward: 932.000000 ± 0.000000 in #114\n"
     ]
    },
    {
     "name": "stderr",
     "output_type": "stream",
     "text": [
      "Epoch #208: 1025it [00:03, 285.04it/s, env_step=212992, len=20, n/ep=4, n/st=64, player_1/loss=0.000, player_2/loss=0.000, rew=237.50]\n"
     ]
    },
    {
     "name": "stdout",
     "output_type": "stream",
     "text": [
      "Epoch #208: test_reward: 90.000000 ± 0.000000, best_reward: 932.000000 ± 0.000000 in #114\n"
     ]
    },
    {
     "name": "stderr",
     "output_type": "stream",
     "text": [
      "Epoch #209: 1025it [00:03, 285.16it/s, env_step=214016, len=14, n/ep=5, n/st=64, player_1/loss=0.000, player_2/loss=0.000, rew=114.80]\n"
     ]
    },
    {
     "name": "stdout",
     "output_type": "stream",
     "text": [
      "Epoch #209: test_reward: 189.000000 ± 0.000000, best_reward: 932.000000 ± 0.000000 in #114\n"
     ]
    },
    {
     "name": "stderr",
     "output_type": "stream",
     "text": [
      "Epoch #210: 1025it [00:03, 286.81it/s, env_step=215040, len=15, n/ep=4, n/st=64, player_1/loss=0.000, player_2/loss=0.000, rew=142.25]\n"
     ]
    },
    {
     "name": "stdout",
     "output_type": "stream",
     "text": [
      "Epoch #210: test_reward: 275.000000 ± 0.000000, best_reward: 932.000000 ± 0.000000 in #114\n"
     ]
    },
    {
     "name": "stderr",
     "output_type": "stream",
     "text": [
      "Epoch #211: 1025it [00:03, 287.24it/s, env_step=216064, len=19, n/ep=4, n/st=64, player_1/loss=0.000, player_2/loss=0.000, rew=221.00]\n"
     ]
    },
    {
     "name": "stdout",
     "output_type": "stream",
     "text": [
      "Epoch #211: test_reward: 65.000000 ± 0.000000, best_reward: 932.000000 ± 0.000000 in #114\n"
     ]
    },
    {
     "name": "stderr",
     "output_type": "stream",
     "text": [
      "Epoch #212: 1025it [00:03, 283.69it/s, env_step=217088, len=16, n/ep=4, n/st=64, player_1/loss=0.000, player_2/loss=0.000, rew=170.75]\n"
     ]
    },
    {
     "name": "stdout",
     "output_type": "stream",
     "text": [
      "Epoch #212: test_reward: 65.000000 ± 0.000000, best_reward: 932.000000 ± 0.000000 in #114\n"
     ]
    },
    {
     "name": "stderr",
     "output_type": "stream",
     "text": [
      "Epoch #213: 1025it [00:03, 285.98it/s, env_step=218112, len=24, n/ep=3, n/st=64, player_1/loss=0.000, player_2/loss=0.000, rew=303.00]\n"
     ]
    },
    {
     "name": "stdout",
     "output_type": "stream",
     "text": [
      "Epoch #213: test_reward: 65.000000 ± 0.000000, best_reward: 932.000000 ± 0.000000 in #114\n"
     ]
    },
    {
     "name": "stderr",
     "output_type": "stream",
     "text": [
      "Epoch #214: 1025it [00:03, 286.09it/s, env_step=219136, len=15, n/ep=4, n/st=64, player_1/loss=0.000, player_2/loss=0.000, rew=136.25]\n"
     ]
    },
    {
     "name": "stdout",
     "output_type": "stream",
     "text": [
      "Epoch #214: test_reward: 189.000000 ± 0.000000, best_reward: 932.000000 ± 0.000000 in #114\n"
     ]
    },
    {
     "name": "stderr",
     "output_type": "stream",
     "text": [
      "Epoch #215: 1025it [00:03, 284.42it/s, env_step=220160, len=20, n/ep=3, n/st=64, player_2/loss=0.000, rew=233.33]      \n"
     ]
    },
    {
     "name": "stdout",
     "output_type": "stream",
     "text": [
      "Epoch #215: test_reward: 170.000000 ± 0.000000, best_reward: 932.000000 ± 0.000000 in #114\n"
     ]
    },
    {
     "name": "stderr",
     "output_type": "stream",
     "text": [
      "Epoch #216: 1025it [00:03, 285.10it/s, env_step=221184, len=19, n/ep=3, n/st=64, player_1/loss=0.000, player_2/loss=0.000, rew=216.33]\n"
     ]
    },
    {
     "name": "stdout",
     "output_type": "stream",
     "text": [
      "Epoch #216: test_reward: 90.000000 ± 0.000000, best_reward: 932.000000 ± 0.000000 in #114\n"
     ]
    },
    {
     "name": "stderr",
     "output_type": "stream",
     "text": [
      "Epoch #217: 1025it [00:03, 284.21it/s, env_step=222208, len=13, n/ep=4, n/st=64, player_1/loss=0.000, player_2/loss=0.000, rew=108.00]\n"
     ]
    },
    {
     "name": "stdout",
     "output_type": "stream",
     "text": [
      "Epoch #217: test_reward: 90.000000 ± 0.000000, best_reward: 932.000000 ± 0.000000 in #114\n"
     ]
    },
    {
     "name": "stderr",
     "output_type": "stream",
     "text": [
      "Epoch #218: 1025it [00:03, 286.40it/s, env_step=223232, len=20, n/ep=4, n/st=64, player_1/loss=0.000, player_2/loss=0.000, rew=241.00]\n"
     ]
    },
    {
     "name": "stdout",
     "output_type": "stream",
     "text": [
      "Epoch #218: test_reward: 65.000000 ± 0.000000, best_reward: 932.000000 ± 0.000000 in #114\n"
     ]
    },
    {
     "name": "stderr",
     "output_type": "stream",
     "text": [
      "Epoch #219: 1025it [00:03, 284.92it/s, env_step=224256, len=16, n/ep=4, n/st=64, player_1/loss=0.000, player_2/loss=0.000, rew=162.25]\n"
     ]
    },
    {
     "name": "stdout",
     "output_type": "stream",
     "text": [
      "Epoch #219: test_reward: 65.000000 ± 0.000000, best_reward: 932.000000 ± 0.000000 in #114\n"
     ]
    },
    {
     "name": "stderr",
     "output_type": "stream",
     "text": [
      "Epoch #220: 1025it [00:03, 285.58it/s, env_step=225280, len=14, n/ep=4, n/st=64, player_1/loss=0.000, player_2/loss=0.000, rew=118.25]\n"
     ]
    },
    {
     "name": "stdout",
     "output_type": "stream",
     "text": [
      "Epoch #220: test_reward: 90.000000 ± 0.000000, best_reward: 932.000000 ± 0.000000 in #114\n"
     ]
    },
    {
     "name": "stderr",
     "output_type": "stream",
     "text": [
      "Epoch #221: 1025it [00:03, 285.77it/s, env_step=226304, len=20, n/ep=4, n/st=64, player_1/loss=0.000, player_2/loss=0.000, rew=232.00]\n"
     ]
    },
    {
     "name": "stdout",
     "output_type": "stream",
     "text": [
      "Epoch #221: test_reward: 65.000000 ± 0.000000, best_reward: 932.000000 ± 0.000000 in #114\n"
     ]
    },
    {
     "name": "stderr",
     "output_type": "stream",
     "text": [
      "Epoch #222: 1025it [00:03, 287.30it/s, env_step=227328, len=20, n/ep=4, n/st=64, player_1/loss=0.000, player_2/loss=0.000, rew=245.25]\n"
     ]
    },
    {
     "name": "stdout",
     "output_type": "stream",
     "text": [
      "Epoch #222: test_reward: 65.000000 ± 0.000000, best_reward: 932.000000 ± 0.000000 in #114\n"
     ]
    },
    {
     "name": "stderr",
     "output_type": "stream",
     "text": [
      "Epoch #223: 1025it [00:03, 281.89it/s, env_step=228352, len=13, n/ep=5, n/st=64, player_1/loss=0.000, player_2/loss=0.000, rew=107.80]\n"
     ]
    },
    {
     "name": "stdout",
     "output_type": "stream",
     "text": [
      "Epoch #223: test_reward: 527.000000 ± 0.000000, best_reward: 932.000000 ± 0.000000 in #114\n"
     ]
    },
    {
     "name": "stderr",
     "output_type": "stream",
     "text": [
      "Epoch #224: 1025it [00:03, 284.64it/s, env_step=229376, len=23, n/ep=2, n/st=64, player_1/loss=0.000, player_2/loss=0.000, rew=283.00]\n"
     ]
    },
    {
     "name": "stdout",
     "output_type": "stream",
     "text": [
      "Epoch #224: test_reward: 135.000000 ± 0.000000, best_reward: 932.000000 ± 0.000000 in #114\n"
     ]
    },
    {
     "name": "stderr",
     "output_type": "stream",
     "text": [
      "Epoch #225: 1025it [00:03, 286.02it/s, env_step=230400, len=20, n/ep=2, n/st=64, player_1/loss=0.000, player_2/loss=0.000, rew=264.50]\n"
     ]
    },
    {
     "name": "stdout",
     "output_type": "stream",
     "text": [
      "Epoch #225: test_reward: 65.000000 ± 0.000000, best_reward: 932.000000 ± 0.000000 in #114\n"
     ]
    },
    {
     "name": "stderr",
     "output_type": "stream",
     "text": [
      "Epoch #226: 1025it [00:03, 286.00it/s, env_step=231424, len=18, n/ep=4, n/st=64, player_1/loss=0.000, player_2/loss=0.000, rew=202.75]\n"
     ]
    },
    {
     "name": "stdout",
     "output_type": "stream",
     "text": [
      "Epoch #226: test_reward: 65.000000 ± 0.000000, best_reward: 932.000000 ± 0.000000 in #114\n"
     ]
    },
    {
     "name": "stderr",
     "output_type": "stream",
     "text": [
      "Epoch #227: 1025it [00:03, 285.70it/s, env_step=232448, len=24, n/ep=2, n/st=64, player_1/loss=0.000, player_2/loss=0.000, rew=402.50]\n"
     ]
    },
    {
     "name": "stdout",
     "output_type": "stream",
     "text": [
      "Epoch #227: test_reward: 90.000000 ± 0.000000, best_reward: 932.000000 ± 0.000000 in #114\n"
     ]
    },
    {
     "name": "stderr",
     "output_type": "stream",
     "text": [
      "Epoch #228: 1025it [00:03, 285.20it/s, env_step=233472, len=17, n/ep=4, n/st=64, player_1/loss=0.000, player_2/loss=0.000, rew=181.25]\n"
     ]
    },
    {
     "name": "stdout",
     "output_type": "stream",
     "text": [
      "Epoch #228: test_reward: 65.000000 ± 0.000000, best_reward: 932.000000 ± 0.000000 in #114\n"
     ]
    },
    {
     "name": "stderr",
     "output_type": "stream",
     "text": [
      "Epoch #229: 1025it [00:03, 286.43it/s, env_step=234496, len=21, n/ep=3, n/st=64, player_1/loss=0.000, player_2/loss=0.000, rew=264.00]\n"
     ]
    },
    {
     "name": "stdout",
     "output_type": "stream",
     "text": [
      "Epoch #229: test_reward: 65.000000 ± 0.000000, best_reward: 932.000000 ± 0.000000 in #114\n"
     ]
    },
    {
     "name": "stderr",
     "output_type": "stream",
     "text": [
      "Epoch #230: 1025it [00:03, 285.16it/s, env_step=235520, len=14, n/ep=4, n/st=64, player_1/loss=0.000, player_2/loss=0.000, rew=124.50]\n"
     ]
    },
    {
     "name": "stdout",
     "output_type": "stream",
     "text": [
      "Epoch #230: test_reward: 65.000000 ± 0.000000, best_reward: 932.000000 ± 0.000000 in #114\n"
     ]
    },
    {
     "name": "stderr",
     "output_type": "stream",
     "text": [
      "Epoch #231: 1025it [00:03, 285.32it/s, env_step=236544, len=24, n/ep=2, n/st=64, player_1/loss=0.000, player_2/loss=0.000, rew=311.50]\n"
     ]
    },
    {
     "name": "stdout",
     "output_type": "stream",
     "text": [
      "Epoch #231: test_reward: 35.000000 ± 0.000000, best_reward: 932.000000 ± 0.000000 in #114\n"
     ]
    },
    {
     "name": "stderr",
     "output_type": "stream",
     "text": [
      "Epoch #232: 1025it [00:03, 286.21it/s, env_step=237568, len=17, n/ep=4, n/st=64, player_1/loss=0.000, player_2/loss=0.000, rew=193.00]\n"
     ]
    },
    {
     "name": "stdout",
     "output_type": "stream",
     "text": [
      "Epoch #232: test_reward: 65.000000 ± 0.000000, best_reward: 932.000000 ± 0.000000 in #114\n"
     ]
    },
    {
     "name": "stderr",
     "output_type": "stream",
     "text": [
      "Epoch #233: 1025it [00:03, 283.91it/s, env_step=238592, len=28, n/ep=3, n/st=64, player_1/loss=0.000, player_2/loss=0.000, rew=462.33]\n"
     ]
    },
    {
     "name": "stdout",
     "output_type": "stream",
     "text": [
      "Epoch #233: test_reward: 65.000000 ± 0.000000, best_reward: 932.000000 ± 0.000000 in #114\n"
     ]
    },
    {
     "name": "stderr",
     "output_type": "stream",
     "text": [
      "Epoch #234: 1025it [00:03, 286.48it/s, env_step=239616, len=22, n/ep=3, n/st=64, player_1/loss=0.000, player_2/loss=0.000, rew=263.00]\n"
     ]
    },
    {
     "name": "stdout",
     "output_type": "stream",
     "text": [
      "Epoch #234: test_reward: 65.000000 ± 0.000000, best_reward: 932.000000 ± 0.000000 in #114\n"
     ]
    },
    {
     "name": "stderr",
     "output_type": "stream",
     "text": [
      "Epoch #235: 1025it [00:03, 284.97it/s, env_step=240640, len=15, n/ep=4, n/st=64, player_1/loss=0.000, player_2/loss=0.000, rew=127.25]\n"
     ]
    },
    {
     "name": "stdout",
     "output_type": "stream",
     "text": [
      "Epoch #235: test_reward: 230.000000 ± 0.000000, best_reward: 932.000000 ± 0.000000 in #114\n"
     ]
    },
    {
     "name": "stderr",
     "output_type": "stream",
     "text": [
      "Epoch #236: 1025it [00:03, 286.01it/s, env_step=241664, len=12, n/ep=4, n/st=64, player_1/loss=0.000, player_2/loss=0.000, rew=93.00]\n"
     ]
    },
    {
     "name": "stdout",
     "output_type": "stream",
     "text": [
      "Epoch #236: test_reward: 65.000000 ± 0.000000, best_reward: 932.000000 ± 0.000000 in #114\n"
     ]
    },
    {
     "name": "stderr",
     "output_type": "stream",
     "text": [
      "Epoch #237: 1025it [00:03, 285.60it/s, env_step=242688, len=22, n/ep=3, n/st=64, player_1/loss=0.000, player_2/loss=0.000, rew=370.67]\n"
     ]
    },
    {
     "name": "stdout",
     "output_type": "stream",
     "text": [
      "Epoch #237: test_reward: 104.000000 ± 0.000000, best_reward: 932.000000 ± 0.000000 in #114\n"
     ]
    },
    {
     "name": "stderr",
     "output_type": "stream",
     "text": [
      "Epoch #238: 1025it [00:03, 285.17it/s, env_step=243712, len=16, n/ep=3, n/st=64, player_1/loss=0.000, player_2/loss=0.000, rew=154.00]\n"
     ]
    },
    {
     "name": "stdout",
     "output_type": "stream",
     "text": [
      "Epoch #238: test_reward: 65.000000 ± 0.000000, best_reward: 932.000000 ± 0.000000 in #114\n"
     ]
    },
    {
     "name": "stderr",
     "output_type": "stream",
     "text": [
      "Epoch #239: 1025it [00:03, 286.63it/s, env_step=244736, len=21, n/ep=3, n/st=64, player_1/loss=0.000, player_2/loss=0.000, rew=246.00]\n"
     ]
    },
    {
     "name": "stdout",
     "output_type": "stream",
     "text": [
      "Epoch #239: test_reward: 65.000000 ± 0.000000, best_reward: 932.000000 ± 0.000000 in #114\n"
     ]
    },
    {
     "name": "stderr",
     "output_type": "stream",
     "text": [
      "Epoch #240: 1025it [00:03, 286.17it/s, env_step=245760, len=18, n/ep=4, n/st=64, player_1/loss=0.000, player_2/loss=0.000, rew=192.75]\n"
     ]
    },
    {
     "name": "stdout",
     "output_type": "stream",
     "text": [
      "Epoch #240: test_reward: 65.000000 ± 0.000000, best_reward: 932.000000 ± 0.000000 in #114\n"
     ]
    },
    {
     "name": "stderr",
     "output_type": "stream",
     "text": [
      "Epoch #241: 1025it [00:03, 285.28it/s, env_step=246784, len=17, n/ep=4, n/st=64, player_1/loss=0.000, player_2/loss=0.000, rew=171.00]\n"
     ]
    },
    {
     "name": "stdout",
     "output_type": "stream",
     "text": [
      "Epoch #241: test_reward: 65.000000 ± 0.000000, best_reward: 932.000000 ± 0.000000 in #114\n"
     ]
    },
    {
     "name": "stderr",
     "output_type": "stream",
     "text": [
      "Epoch #242: 1025it [00:03, 286.01it/s, env_step=247808, len=22, n/ep=3, n/st=64, player_1/loss=0.000, player_2/loss=0.000, rew=313.00]\n"
     ]
    },
    {
     "name": "stdout",
     "output_type": "stream",
     "text": [
      "Epoch #242: test_reward: 65.000000 ± 0.000000, best_reward: 932.000000 ± 0.000000 in #114\n"
     ]
    },
    {
     "name": "stderr",
     "output_type": "stream",
     "text": [
      "Epoch #243: 1025it [00:03, 285.36it/s, env_step=248832, len=20, n/ep=3, n/st=64, player_1/loss=0.000, player_2/loss=0.000, rew=237.67]\n"
     ]
    },
    {
     "name": "stdout",
     "output_type": "stream",
     "text": [
      "Epoch #243: test_reward: 119.000000 ± 0.000000, best_reward: 932.000000 ± 0.000000 in #114\n"
     ]
    },
    {
     "name": "stderr",
     "output_type": "stream",
     "text": [
      "Epoch #244: 1025it [00:03, 281.39it/s, env_step=249856, len=13, n/ep=4, n/st=64, player_1/loss=0.000, player_2/loss=0.000, rew=106.25]\n"
     ]
    },
    {
     "name": "stdout",
     "output_type": "stream",
     "text": [
      "Epoch #244: test_reward: 65.000000 ± 0.000000, best_reward: 932.000000 ± 0.000000 in #114\n"
     ]
    },
    {
     "name": "stderr",
     "output_type": "stream",
     "text": [
      "Epoch #245: 1025it [00:03, 285.78it/s, env_step=250880, len=16, n/ep=4, n/st=64, player_1/loss=0.000, player_2/loss=0.000, rew=151.75]\n"
     ]
    },
    {
     "name": "stdout",
     "output_type": "stream",
     "text": [
      "Epoch #245: test_reward: 230.000000 ± 0.000000, best_reward: 932.000000 ± 0.000000 in #114\n"
     ]
    },
    {
     "name": "stderr",
     "output_type": "stream",
     "text": [
      "Epoch #246: 1025it [00:03, 285.79it/s, env_step=251904, len=28, n/ep=2, n/st=64, player_1/loss=0.000, player_2/loss=0.000, rew=429.50]\n"
     ]
    },
    {
     "name": "stdout",
     "output_type": "stream",
     "text": [
      "Epoch #246: test_reward: 230.000000 ± 0.000000, best_reward: 932.000000 ± 0.000000 in #114\n"
     ]
    },
    {
     "name": "stderr",
     "output_type": "stream",
     "text": [
      "Epoch #247: 1025it [00:03, 287.34it/s, env_step=252928, len=16, n/ep=3, n/st=64, player_1/loss=0.000, player_2/loss=0.000, rew=169.00]\n"
     ]
    },
    {
     "name": "stdout",
     "output_type": "stream",
     "text": [
      "Epoch #247: test_reward: 932.000000 ± 0.000000, best_reward: 932.000000 ± 0.000000 in #114\n"
     ]
    },
    {
     "name": "stderr",
     "output_type": "stream",
     "text": [
      "Epoch #248: 1025it [00:03, 284.45it/s, env_step=253952, len=23, n/ep=2, n/st=64, player_1/loss=0.000, player_2/loss=0.000, rew=287.00]\n"
     ]
    },
    {
     "name": "stdout",
     "output_type": "stream",
     "text": [
      "Epoch #248: test_reward: 275.000000 ± 0.000000, best_reward: 932.000000 ± 0.000000 in #114\n"
     ]
    },
    {
     "name": "stderr",
     "output_type": "stream",
     "text": [
      "Epoch #249: 1025it [00:03, 285.42it/s, env_step=254976, len=20, n/ep=4, n/st=64, player_1/loss=0.000, player_2/loss=0.000, rew=269.50]\n"
     ]
    },
    {
     "name": "stdout",
     "output_type": "stream",
     "text": [
      "Epoch #249: test_reward: 702.000000 ± 0.000000, best_reward: 932.000000 ± 0.000000 in #114\n"
     ]
    },
    {
     "name": "stderr",
     "output_type": "stream",
     "text": [
      "Epoch #250: 1025it [00:03, 285.83it/s, env_step=256000, len=22, n/ep=2, n/st=64, player_1/loss=0.000, player_2/loss=0.000, rew=264.50]\n"
     ]
    },
    {
     "name": "stdout",
     "output_type": "stream",
     "text": [
      "Epoch #250: test_reward: 90.000000 ± 0.000000, best_reward: 932.000000 ± 0.000000 in #114\n"
     ]
    },
    {
     "name": "stderr",
     "output_type": "stream",
     "text": [
      "Epoch #251: 1025it [00:03, 285.84it/s, env_step=257024, len=20, n/ep=3, n/st=64, player_2/loss=0.000, rew=237.67]      \n"
     ]
    },
    {
     "name": "stdout",
     "output_type": "stream",
     "text": [
      "Epoch #251: test_reward: 44.000000 ± 0.000000, best_reward: 932.000000 ± 0.000000 in #114\n"
     ]
    },
    {
     "name": "stderr",
     "output_type": "stream",
     "text": [
      "Epoch #252: 1025it [00:03, 284.88it/s, env_step=258048, len=22, n/ep=4, n/st=64, player_1/loss=0.000, player_2/loss=0.000, rew=339.00]\n"
     ]
    },
    {
     "name": "stdout",
     "output_type": "stream",
     "text": [
      "Epoch #252: test_reward: 65.000000 ± 0.000000, best_reward: 932.000000 ± 0.000000 in #114\n"
     ]
    },
    {
     "name": "stderr",
     "output_type": "stream",
     "text": [
      "Epoch #253: 1025it [00:03, 286.17it/s, env_step=259072, len=16, n/ep=3, n/st=64, player_1/loss=0.000, player_2/loss=0.000, rew=144.33]\n"
     ]
    },
    {
     "name": "stdout",
     "output_type": "stream",
     "text": [
      "Epoch #253: test_reward: 65.000000 ± 0.000000, best_reward: 932.000000 ± 0.000000 in #114\n"
     ]
    },
    {
     "name": "stderr",
     "output_type": "stream",
     "text": [
      "Epoch #254: 1025it [00:03, 285.56it/s, env_step=260096, len=17, n/ep=3, n/st=64, player_1/loss=0.000, player_2/loss=0.000, rew=162.33]\n"
     ]
    },
    {
     "name": "stdout",
     "output_type": "stream",
     "text": [
      "Epoch #254: test_reward: 65.000000 ± 0.000000, best_reward: 932.000000 ± 0.000000 in #114\n"
     ]
    },
    {
     "name": "stderr",
     "output_type": "stream",
     "text": [
      "Epoch #255: 1025it [00:03, 284.55it/s, env_step=261120, len=27, n/ep=2, n/st=64, player_1/loss=0.000, player_2/loss=0.000, rew=401.00]\n"
     ]
    },
    {
     "name": "stdout",
     "output_type": "stream",
     "text": [
      "Epoch #255: test_reward: 464.000000 ± 0.000000, best_reward: 932.000000 ± 0.000000 in #114\n"
     ]
    },
    {
     "name": "stderr",
     "output_type": "stream",
     "text": [
      "Epoch #256: 1025it [00:03, 283.97it/s, env_step=262144, len=18, n/ep=2, n/st=64, player_1/loss=0.000, player_2/loss=0.000, rew=182.50]\n"
     ]
    },
    {
     "name": "stdout",
     "output_type": "stream",
     "text": [
      "Epoch #256: test_reward: 65.000000 ± 0.000000, best_reward: 932.000000 ± 0.000000 in #114\n"
     ]
    },
    {
     "name": "stderr",
     "output_type": "stream",
     "text": [
      "Epoch #257: 1025it [00:03, 284.94it/s, env_step=263168, len=26, n/ep=2, n/st=64, player_1/loss=0.000, player_2/loss=0.000, rew=378.50]\n"
     ]
    },
    {
     "name": "stdout",
     "output_type": "stream",
     "text": [
      "Epoch #257: test_reward: 209.000000 ± 0.000000, best_reward: 932.000000 ± 0.000000 in #114\n"
     ]
    },
    {
     "name": "stderr",
     "output_type": "stream",
     "text": [
      "Epoch #258: 1025it [00:03, 284.91it/s, env_step=264192, len=22, n/ep=3, n/st=64, player_1/loss=0.000, player_2/loss=0.000, rew=265.00]\n"
     ]
    },
    {
     "name": "stdout",
     "output_type": "stream",
     "text": [
      "Epoch #258: test_reward: 170.000000 ± 0.000000, best_reward: 932.000000 ± 0.000000 in #114\n"
     ]
    },
    {
     "name": "stderr",
     "output_type": "stream",
     "text": [
      "Epoch #259: 1025it [00:03, 285.67it/s, env_step=265216, len=16, n/ep=4, n/st=64, player_1/loss=0.000, player_2/loss=0.000, rew=143.75]\n"
     ]
    },
    {
     "name": "stdout",
     "output_type": "stream",
     "text": [
      "Epoch #259: test_reward: 209.000000 ± 0.000000, best_reward: 932.000000 ± 0.000000 in #114\n"
     ]
    },
    {
     "name": "stderr",
     "output_type": "stream",
     "text": [
      "Epoch #260: 1025it [00:03, 286.32it/s, env_step=266240, len=23, n/ep=3, n/st=64, player_1/loss=0.000, player_2/loss=0.000, rew=303.00]\n"
     ]
    },
    {
     "name": "stdout",
     "output_type": "stream",
     "text": [
      "Epoch #260: test_reward: 65.000000 ± 0.000000, best_reward: 932.000000 ± 0.000000 in #114\n"
     ]
    },
    {
     "name": "stderr",
     "output_type": "stream",
     "text": [
      "Epoch #261: 1025it [00:03, 285.29it/s, env_step=267264, len=25, n/ep=2, n/st=64, player_1/loss=0.000, player_2/loss=0.000, rew=324.50]\n"
     ]
    },
    {
     "name": "stdout",
     "output_type": "stream",
     "text": [
      "Epoch #261: test_reward: 44.000000 ± 0.000000, best_reward: 932.000000 ± 0.000000 in #114\n"
     ]
    },
    {
     "name": "stderr",
     "output_type": "stream",
     "text": [
      "Epoch #262: 1025it [00:03, 286.69it/s, env_step=268288, len=42, n/ep=1, n/st=64, player_1/loss=0.000, player_2/loss=0.000, rew=932.00]\n"
     ]
    },
    {
     "name": "stdout",
     "output_type": "stream",
     "text": [
      "Epoch #262: test_reward: 65.000000 ± 0.000000, best_reward: 932.000000 ± 0.000000 in #114\n"
     ]
    },
    {
     "name": "stderr",
     "output_type": "stream",
     "text": [
      "Epoch #263: 1025it [00:03, 284.43it/s, env_step=269312, len=23, n/ep=3, n/st=64, player_1/loss=0.000, player_2/loss=0.000, rew=284.33]\n"
     ]
    },
    {
     "name": "stdout",
     "output_type": "stream",
     "text": [
      "Epoch #263: test_reward: 90.000000 ± 0.000000, best_reward: 932.000000 ± 0.000000 in #114\n"
     ]
    },
    {
     "name": "stderr",
     "output_type": "stream",
     "text": [
      "Epoch #264: 1025it [00:03, 281.90it/s, env_step=270336, len=38, n/ep=2, n/st=64, player_1/loss=0.000, player_2/loss=0.000, rew=780.50]\n"
     ]
    },
    {
     "name": "stdout",
     "output_type": "stream",
     "text": [
      "Epoch #264: test_reward: 275.000000 ± 0.000000, best_reward: 932.000000 ± 0.000000 in #114\n"
     ]
    },
    {
     "name": "stderr",
     "output_type": "stream",
     "text": [
      "Epoch #265: 1025it [00:03, 285.30it/s, env_step=271360, len=29, n/ep=2, n/st=64, player_1/loss=0.000, player_2/loss=0.000, rew=446.50]\n"
     ]
    },
    {
     "name": "stdout",
     "output_type": "stream",
     "text": [
      "Epoch #265: test_reward: 932.000000 ± 0.000000, best_reward: 932.000000 ± 0.000000 in #114\n"
     ]
    },
    {
     "name": "stderr",
     "output_type": "stream",
     "text": [
      "Epoch #266: 1025it [00:03, 285.26it/s, env_step=272384, len=21, n/ep=3, n/st=64, player_1/loss=0.000, player_2/loss=0.000, rew=241.33]\n"
     ]
    },
    {
     "name": "stdout",
     "output_type": "stream",
     "text": [
      "Epoch #266: test_reward: 209.000000 ± 0.000000, best_reward: 932.000000 ± 0.000000 in #114\n"
     ]
    },
    {
     "name": "stderr",
     "output_type": "stream",
     "text": [
      "Epoch #267: 1025it [00:03, 286.56it/s, env_step=273408, len=20, n/ep=4, n/st=64, player_1/loss=0.000, player_2/loss=0.000, rew=271.00]\n"
     ]
    },
    {
     "name": "stdout",
     "output_type": "stream",
     "text": [
      "Epoch #267: test_reward: 932.000000 ± 0.000000, best_reward: 932.000000 ± 0.000000 in #114\n"
     ]
    },
    {
     "name": "stderr",
     "output_type": "stream",
     "text": [
      "Epoch #268: 1025it [00:03, 284.57it/s, env_step=274432, len=29, n/ep=3, n/st=64, player_1/loss=0.000, player_2/loss=0.000, rew=448.00]\n"
     ]
    },
    {
     "name": "stdout",
     "output_type": "stream",
     "text": [
      "Epoch #268: test_reward: 135.000000 ± 0.000000, best_reward: 932.000000 ± 0.000000 in #114\n"
     ]
    },
    {
     "name": "stderr",
     "output_type": "stream",
     "text": [
      "Epoch #269: 1025it [00:03, 287.24it/s, env_step=275456, len=23, n/ep=3, n/st=64, player_1/loss=0.000, player_2/loss=0.000, rew=341.00]\n"
     ]
    },
    {
     "name": "stdout",
     "output_type": "stream",
     "text": [
      "Epoch #269: test_reward: 230.000000 ± 0.000000, best_reward: 932.000000 ± 0.000000 in #114\n"
     ]
    },
    {
     "name": "stderr",
     "output_type": "stream",
     "text": [
      "Epoch #270: 1025it [00:03, 286.27it/s, env_step=276480, len=23, n/ep=3, n/st=64, player_1/loss=0.000, player_2/loss=0.000, rew=277.33]\n"
     ]
    },
    {
     "name": "stdout",
     "output_type": "stream",
     "text": [
      "Epoch #270: test_reward: 275.000000 ± 0.000000, best_reward: 932.000000 ± 0.000000 in #114\n"
     ]
    },
    {
     "name": "stderr",
     "output_type": "stream",
     "text": [
      "Epoch #271: 1025it [00:03, 284.44it/s, env_step=277504, len=21, n/ep=3, n/st=64, player_1/loss=0.000, player_2/loss=0.000, rew=242.00]\n"
     ]
    },
    {
     "name": "stdout",
     "output_type": "stream",
     "text": [
      "Epoch #271: test_reward: 209.000000 ± 0.000000, best_reward: 932.000000 ± 0.000000 in #114\n"
     ]
    },
    {
     "name": "stderr",
     "output_type": "stream",
     "text": [
      "Epoch #272: 1025it [00:03, 287.12it/s, env_step=278528, len=15, n/ep=4, n/st=64, player_1/loss=0.000, player_2/loss=0.000, rew=141.25]\n"
     ]
    },
    {
     "name": "stdout",
     "output_type": "stream",
     "text": [
      "Epoch #272: test_reward: 594.000000 ± 0.000000, best_reward: 932.000000 ± 0.000000 in #114\n"
     ]
    },
    {
     "name": "stderr",
     "output_type": "stream",
     "text": [
      "Epoch #273: 1025it [00:03, 285.48it/s, env_step=279552, len=19, n/ep=4, n/st=64, player_1/loss=0.000, player_2/loss=0.000, rew=213.00]\n"
     ]
    },
    {
     "name": "stdout",
     "output_type": "stream",
     "text": [
      "Epoch #273: test_reward: 299.000000 ± 0.000000, best_reward: 932.000000 ± 0.000000 in #114\n"
     ]
    },
    {
     "name": "stderr",
     "output_type": "stream",
     "text": [
      "Epoch #274: 1025it [00:03, 286.12it/s, env_step=280576, len=20, n/ep=4, n/st=64, player_1/loss=0.000, player_2/loss=0.000, rew=231.75]\n"
     ]
    },
    {
     "name": "stdout",
     "output_type": "stream",
     "text": [
      "Epoch #274: test_reward: 65.000000 ± 0.000000, best_reward: 932.000000 ± 0.000000 in #114\n"
     ]
    },
    {
     "name": "stderr",
     "output_type": "stream",
     "text": [
      "Epoch #275: 1025it [00:03, 287.45it/s, env_step=281600, len=27, n/ep=3, n/st=64, player_1/loss=0.000, player_2/loss=0.000, rew=462.00]\n"
     ]
    },
    {
     "name": "stdout",
     "output_type": "stream",
     "text": [
      "Epoch #275: test_reward: 77.000000 ± 0.000000, best_reward: 932.000000 ± 0.000000 in #114\n"
     ]
    },
    {
     "name": "stderr",
     "output_type": "stream",
     "text": [
      "Epoch #276: 1025it [00:03, 284.14it/s, env_step=282624, len=24, n/ep=3, n/st=64, player_1/loss=0.000, player_2/loss=0.000, rew=312.67]\n"
     ]
    },
    {
     "name": "stdout",
     "output_type": "stream",
     "text": [
      "Epoch #276: test_reward: 104.000000 ± 0.000000, best_reward: 932.000000 ± 0.000000 in #114\n"
     ]
    },
    {
     "name": "stderr",
     "output_type": "stream",
     "text": [
      "Epoch #277: 1025it [00:03, 286.20it/s, env_step=283648, len=17, n/ep=3, n/st=64, player_1/loss=0.000, player_2/loss=0.000, rew=156.33]\n"
     ]
    },
    {
     "name": "stdout",
     "output_type": "stream",
     "text": [
      "Epoch #277: test_reward: 65.000000 ± 0.000000, best_reward: 932.000000 ± 0.000000 in #114\n"
     ]
    },
    {
     "name": "stderr",
     "output_type": "stream",
     "text": [
      "Epoch #278: 1025it [00:03, 285.36it/s, env_step=284672, len=16, n/ep=4, n/st=64, player_1/loss=0.000, player_2/loss=0.000, rew=150.00]\n"
     ]
    },
    {
     "name": "stdout",
     "output_type": "stream",
     "text": [
      "Epoch #278: test_reward: 209.000000 ± 0.000000, best_reward: 932.000000 ± 0.000000 in #114\n"
     ]
    },
    {
     "name": "stderr",
     "output_type": "stream",
     "text": [
      "Epoch #279: 1025it [00:03, 286.06it/s, env_step=285696, len=32, n/ep=2, n/st=64, player_1/loss=0.000, player_2/loss=0.000, rew=603.50]\n"
     ]
    },
    {
     "name": "stdout",
     "output_type": "stream",
     "text": [
      "Epoch #279: test_reward: 135.000000 ± 0.000000, best_reward: 932.000000 ± 0.000000 in #114\n"
     ]
    },
    {
     "name": "stderr",
     "output_type": "stream",
     "text": [
      "Epoch #280: 1025it [00:03, 285.79it/s, env_step=286720, len=17, n/ep=3, n/st=64, player_1/loss=0.000, player_2/loss=0.000, rew=176.67]\n"
     ]
    },
    {
     "name": "stdout",
     "output_type": "stream",
     "text": [
      "Epoch #280: test_reward: 932.000000 ± 0.000000, best_reward: 932.000000 ± 0.000000 in #114\n"
     ]
    },
    {
     "name": "stderr",
     "output_type": "stream",
     "text": [
      "Epoch #281: 1025it [00:03, 285.51it/s, env_step=287744, len=21, n/ep=3, n/st=64, player_1/loss=0.000, player_2/loss=0.000, rew=255.00]\n"
     ]
    },
    {
     "name": "stdout",
     "output_type": "stream",
     "text": [
      "Epoch #281: test_reward: 65.000000 ± 0.000000, best_reward: 932.000000 ± 0.000000 in #114\n"
     ]
    },
    {
     "name": "stderr",
     "output_type": "stream",
     "text": [
      "Epoch #282: 1025it [00:03, 285.71it/s, env_step=288768, len=23, n/ep=3, n/st=64, player_1/loss=0.000, player_2/loss=0.000, rew=311.33]\n"
     ]
    },
    {
     "name": "stdout",
     "output_type": "stream",
     "text": [
      "Epoch #282: test_reward: 779.000000 ± 0.000000, best_reward: 932.000000 ± 0.000000 in #114\n"
     ]
    },
    {
     "name": "stderr",
     "output_type": "stream",
     "text": [
      "Epoch #283: 1025it [00:03, 285.43it/s, env_step=289792, len=17, n/ep=3, n/st=64, player_1/loss=0.000, player_2/loss=0.000, rew=184.00]\n"
     ]
    },
    {
     "name": "stdout",
     "output_type": "stream",
     "text": [
      "Epoch #283: test_reward: 65.000000 ± 0.000000, best_reward: 932.000000 ± 0.000000 in #114\n"
     ]
    },
    {
     "name": "stderr",
     "output_type": "stream",
     "text": [
      "Epoch #284: 1025it [00:03, 286.39it/s, env_step=290816, len=24, n/ep=3, n/st=64, player_1/loss=0.000, player_2/loss=0.000, rew=324.67]\n"
     ]
    },
    {
     "name": "stdout",
     "output_type": "stream",
     "text": [
      "Epoch #284: test_reward: 932.000000 ± 0.000000, best_reward: 932.000000 ± 0.000000 in #114\n"
     ]
    },
    {
     "name": "stderr",
     "output_type": "stream",
     "text": [
      "Epoch #285: 1025it [00:03, 284.10it/s, env_step=291840, len=32, n/ep=2, n/st=64, player_1/loss=0.000, player_2/loss=0.000, rew=559.00]\n"
     ]
    },
    {
     "name": "stdout",
     "output_type": "stream",
     "text": [
      "Epoch #285: test_reward: 665.000000 ± 0.000000, best_reward: 932.000000 ± 0.000000 in #114\n"
     ]
    },
    {
     "name": "stderr",
     "output_type": "stream",
     "text": [
      "Epoch #286: 1025it [00:03, 284.88it/s, env_step=292864, len=23, n/ep=2, n/st=64, player_1/loss=0.000, player_2/loss=0.000, rew=299.50]\n"
     ]
    },
    {
     "name": "stdout",
     "output_type": "stream",
     "text": [
      "Epoch #286: test_reward: 932.000000 ± 0.000000, best_reward: 932.000000 ± 0.000000 in #114\n"
     ]
    },
    {
     "name": "stderr",
     "output_type": "stream",
     "text": [
      "Epoch #287: 1025it [00:03, 286.90it/s, env_step=293888, len=26, n/ep=2, n/st=64, player_1/loss=0.000, player_2/loss=0.000, rew=350.00]\n"
     ]
    },
    {
     "name": "stdout",
     "output_type": "stream",
     "text": [
      "Epoch #287: test_reward: 152.000000 ± 0.000000, best_reward: 932.000000 ± 0.000000 in #114\n"
     ]
    },
    {
     "name": "stderr",
     "output_type": "stream",
     "text": [
      "Epoch #288: 1025it [00:03, 286.28it/s, env_step=294912, len=24, n/ep=2, n/st=64, player_1/loss=0.000, player_2/loss=0.000, rew=311.50]\n"
     ]
    },
    {
     "name": "stdout",
     "output_type": "stream",
     "text": [
      "Epoch #288: test_reward: 104.000000 ± 0.000000, best_reward: 932.000000 ± 0.000000 in #114\n"
     ]
    },
    {
     "name": "stderr",
     "output_type": "stream",
     "text": [
      "Epoch #289: 1025it [00:03, 282.86it/s, env_step=295936, len=26, n/ep=3, n/st=64, player_1/loss=0.000, player_2/loss=0.000, rew=362.33]\n"
     ]
    },
    {
     "name": "stdout",
     "output_type": "stream",
     "text": [
      "Epoch #289: test_reward: 170.000000 ± 0.000000, best_reward: 932.000000 ± 0.000000 in #114\n"
     ]
    },
    {
     "name": "stderr",
     "output_type": "stream",
     "text": [
      "Epoch #290: 1025it [00:03, 284.82it/s, env_step=296960, len=31, n/ep=2, n/st=64, player_1/loss=0.000, rew=519.50]      \n"
     ]
    },
    {
     "name": "stdout",
     "output_type": "stream",
     "text": [
      "Epoch #290: test_reward: 932.000000 ± 0.000000, best_reward: 932.000000 ± 0.000000 in #114\n"
     ]
    },
    {
     "name": "stderr",
     "output_type": "stream",
     "text": [
      "Epoch #291: 1025it [00:03, 284.61it/s, env_step=297984, len=24, n/ep=3, n/st=64, player_1/loss=0.000, player_2/loss=0.000, rew=301.33]\n"
     ]
    },
    {
     "name": "stdout",
     "output_type": "stream",
     "text": [
      "Epoch #291: test_reward: 65.000000 ± 0.000000, best_reward: 932.000000 ± 0.000000 in #114\n"
     ]
    },
    {
     "name": "stderr",
     "output_type": "stream",
     "text": [
      "Epoch #292: 1025it [00:03, 285.85it/s, env_step=299008, len=29, n/ep=2, n/st=64, player_1/loss=0.000, player_2/loss=0.000, rew=477.00]\n"
     ]
    },
    {
     "name": "stdout",
     "output_type": "stream",
     "text": [
      "Epoch #292: test_reward: 527.000000 ± 0.000000, best_reward: 932.000000 ± 0.000000 in #114\n"
     ]
    },
    {
     "name": "stderr",
     "output_type": "stream",
     "text": [
      "Epoch #293: 1025it [00:03, 285.72it/s, env_step=300032, len=20, n/ep=4, n/st=64, player_1/loss=0.000, player_2/loss=0.000, rew=242.75]\n"
     ]
    },
    {
     "name": "stdout",
     "output_type": "stream",
     "text": [
      "Epoch #293: test_reward: 932.000000 ± 0.000000, best_reward: 932.000000 ± 0.000000 in #114\n"
     ]
    },
    {
     "name": "stderr",
     "output_type": "stream",
     "text": [
      "Epoch #294: 1025it [00:03, 282.95it/s, env_step=301056, len=18, n/ep=3, n/st=64, player_1/loss=0.000, player_2/loss=0.000, rew=191.00]\n"
     ]
    },
    {
     "name": "stdout",
     "output_type": "stream",
     "text": [
      "Epoch #294: test_reward: 932.000000 ± 0.000000, best_reward: 932.000000 ± 0.000000 in #114\n"
     ]
    },
    {
     "name": "stderr",
     "output_type": "stream",
     "text": [
      "Epoch #295: 1025it [00:03, 285.50it/s, env_step=302080, len=25, n/ep=3, n/st=64, player_1/loss=0.000, player_2/loss=0.000, rew=346.00]\n"
     ]
    },
    {
     "name": "stdout",
     "output_type": "stream",
     "text": [
      "Epoch #295: test_reward: 932.000000 ± 0.000000, best_reward: 932.000000 ± 0.000000 in #114\n"
     ]
    },
    {
     "name": "stderr",
     "output_type": "stream",
     "text": [
      "Epoch #296: 1025it [00:03, 285.42it/s, env_step=303104, len=21, n/ep=3, n/st=64, player_1/loss=0.000, player_2/loss=0.000, rew=246.67]\n"
     ]
    },
    {
     "name": "stdout",
     "output_type": "stream",
     "text": [
      "Epoch #296: test_reward: 350.000000 ± 0.000000, best_reward: 932.000000 ± 0.000000 in #114\n"
     ]
    },
    {
     "name": "stderr",
     "output_type": "stream",
     "text": [
      "Epoch #297: 1025it [00:03, 284.62it/s, env_step=304128, len=23, n/ep=3, n/st=64, player_1/loss=0.000, player_2/loss=0.000, rew=294.33]\n"
     ]
    },
    {
     "name": "stdout",
     "output_type": "stream",
     "text": [
      "Epoch #297: test_reward: 495.000000 ± 0.000000, best_reward: 932.000000 ± 0.000000 in #114\n"
     ]
    },
    {
     "name": "stderr",
     "output_type": "stream",
     "text": [
      "Epoch #298: 1025it [00:03, 285.15it/s, env_step=305152, len=29, n/ep=2, n/st=64, player_1/loss=0.000, player_2/loss=0.000, rew=533.50]\n"
     ]
    },
    {
     "name": "stdout",
     "output_type": "stream",
     "text": [
      "Epoch #298: test_reward: 932.000000 ± 0.000000, best_reward: 932.000000 ± 0.000000 in #114\n"
     ]
    },
    {
     "name": "stderr",
     "output_type": "stream",
     "text": [
      "Epoch #299: 1025it [00:03, 285.02it/s, env_step=306176, len=25, n/ep=3, n/st=64, player_1/loss=0.000, player_2/loss=0.000, rew=358.67]\n"
     ]
    },
    {
     "name": "stdout",
     "output_type": "stream",
     "text": [
      "Epoch #299: test_reward: 932.000000 ± 0.000000, best_reward: 932.000000 ± 0.000000 in #114\n"
     ]
    },
    {
     "name": "stderr",
     "output_type": "stream",
     "text": [
      "Epoch #300: 1025it [00:03, 285.77it/s, env_step=307200, len=19, n/ep=3, n/st=64, player_1/loss=0.000, player_2/loss=0.000, rew=205.67]\n"
     ]
    },
    {
     "name": "stdout",
     "output_type": "stream",
     "text": [
      "Epoch #300: test_reward: 779.000000 ± 0.000000, best_reward: 932.000000 ± 0.000000 in #114\n"
     ]
    },
    {
     "name": "stderr",
     "output_type": "stream",
     "text": [
      "Epoch #301: 1025it [00:03, 283.37it/s, env_step=308224, len=18, n/ep=4, n/st=64, player_1/loss=0.000, player_2/loss=0.000, rew=197.25]\n"
     ]
    },
    {
     "name": "stdout",
     "output_type": "stream",
     "text": [
      "Epoch #301: test_reward: 275.000000 ± 0.000000, best_reward: 932.000000 ± 0.000000 in #114\n"
     ]
    },
    {
     "name": "stderr",
     "output_type": "stream",
     "text": [
      "Epoch #302: 1025it [00:03, 285.01it/s, env_step=309248, len=29, n/ep=3, n/st=64, player_1/loss=0.000, player_2/loss=0.000, rew=502.67]\n"
     ]
    },
    {
     "name": "stdout",
     "output_type": "stream",
     "text": [
      "Epoch #302: test_reward: 209.000000 ± 0.000000, best_reward: 932.000000 ± 0.000000 in #114\n"
     ]
    },
    {
     "name": "stderr",
     "output_type": "stream",
     "text": [
      "Epoch #303: 1025it [00:03, 286.15it/s, env_step=310272, len=33, n/ep=1, n/st=64, player_1/loss=0.000, player_2/loss=0.000, rew=560.00]\n"
     ]
    },
    {
     "name": "stdout",
     "output_type": "stream",
     "text": [
      "Epoch #303: test_reward: 629.000000 ± 0.000000, best_reward: 932.000000 ± 0.000000 in #114\n"
     ]
    },
    {
     "name": "stderr",
     "output_type": "stream",
     "text": [
      "Epoch #304: 1025it [00:03, 286.17it/s, env_step=311296, len=22, n/ep=2, n/st=64, player_1/loss=0.000, player_2/loss=0.000, rew=254.00]\n"
     ]
    },
    {
     "name": "stdout",
     "output_type": "stream",
     "text": [
      "Epoch #304: test_reward: 170.000000 ± 0.000000, best_reward: 932.000000 ± 0.000000 in #114\n"
     ]
    },
    {
     "name": "stderr",
     "output_type": "stream",
     "text": [
      "Epoch #305: 1025it [00:03, 285.70it/s, env_step=312320, len=17, n/ep=4, n/st=64, player_1/loss=0.000, player_2/loss=0.000, rew=165.75]\n"
     ]
    },
    {
     "name": "stdout",
     "output_type": "stream",
     "text": [
      "Epoch #305: test_reward: 65.000000 ± 0.000000, best_reward: 932.000000 ± 0.000000 in #114\n"
     ]
    },
    {
     "name": "stderr",
     "output_type": "stream",
     "text": [
      "Epoch #306: 1025it [00:03, 286.71it/s, env_step=313344, len=33, n/ep=2, n/st=64, player_1/loss=0.000, player_2/loss=0.000, rew=583.00]\n"
     ]
    },
    {
     "name": "stdout",
     "output_type": "stream",
     "text": [
      "Epoch #306: test_reward: 299.000000 ± 0.000000, best_reward: 932.000000 ± 0.000000 in #114\n"
     ]
    },
    {
     "name": "stderr",
     "output_type": "stream",
     "text": [
      "Epoch #307: 1025it [00:03, 285.64it/s, env_step=314368, len=20, n/ep=3, n/st=64, player_1/loss=0.000, player_2/loss=0.000, rew=231.33]\n"
     ]
    },
    {
     "name": "stdout",
     "output_type": "stream",
     "text": [
      "Epoch #307: test_reward: 104.000000 ± 0.000000, best_reward: 932.000000 ± 0.000000 in #114\n"
     ]
    },
    {
     "name": "stderr",
     "output_type": "stream",
     "text": [
      "Epoch #308: 1025it [00:03, 284.48it/s, env_step=315392, len=17, n/ep=4, n/st=64, player_1/loss=0.000, player_2/loss=0.000, rew=168.00]\n"
     ]
    },
    {
     "name": "stdout",
     "output_type": "stream",
     "text": [
      "Epoch #308: test_reward: 275.000000 ± 0.000000, best_reward: 932.000000 ± 0.000000 in #114\n"
     ]
    },
    {
     "name": "stderr",
     "output_type": "stream",
     "text": [
      "Epoch #309: 1025it [00:03, 285.65it/s, env_step=316416, len=22, n/ep=3, n/st=64, player_1/loss=0.000, player_2/loss=0.000, rew=268.67]\n"
     ]
    },
    {
     "name": "stdout",
     "output_type": "stream",
     "text": [
      "Epoch #309: test_reward: 932.000000 ± 0.000000, best_reward: 932.000000 ± 0.000000 in #114\n"
     ]
    },
    {
     "name": "stderr",
     "output_type": "stream",
     "text": [
      "Epoch #310: 1025it [00:03, 284.78it/s, env_step=317440, len=14, n/ep=3, n/st=64, player_1/loss=0.000, player_2/loss=0.000, rew=114.67]\n"
     ]
    },
    {
     "name": "stdout",
     "output_type": "stream",
     "text": [
      "Epoch #310: test_reward: 230.000000 ± 0.000000, best_reward: 932.000000 ± 0.000000 in #114\n"
     ]
    },
    {
     "name": "stderr",
     "output_type": "stream",
     "text": [
      "Epoch #311: 1025it [00:03, 287.01it/s, env_step=318464, len=21, n/ep=4, n/st=64, player_1/loss=0.000, player_2/loss=0.000, rew=253.25]\n"
     ]
    },
    {
     "name": "stdout",
     "output_type": "stream",
     "text": [
      "Epoch #311: test_reward: 44.000000 ± 0.000000, best_reward: 932.000000 ± 0.000000 in #114\n"
     ]
    },
    {
     "name": "stderr",
     "output_type": "stream",
     "text": [
      "Epoch #312: 1025it [00:03, 285.74it/s, env_step=319488, len=18, n/ep=5, n/st=64, player_1/loss=0.000, player_2/loss=0.000, rew=217.00]\n"
     ]
    },
    {
     "name": "stdout",
     "output_type": "stream",
     "text": [
      "Epoch #312: test_reward: 495.000000 ± 0.000000, best_reward: 932.000000 ± 0.000000 in #114\n"
     ]
    },
    {
     "name": "stderr",
     "output_type": "stream",
     "text": [
      "Epoch #313: 1025it [00:03, 285.11it/s, env_step=320512, len=19, n/ep=2, n/st=64, player_1/loss=0.000, player_2/loss=0.000, rew=209.00]\n"
     ]
    },
    {
     "name": "stdout",
     "output_type": "stream",
     "text": [
      "Epoch #313: test_reward: 464.000000 ± 0.000000, best_reward: 932.000000 ± 0.000000 in #114\n"
     ]
    },
    {
     "name": "stderr",
     "output_type": "stream",
     "text": [
      "Epoch #314: 1025it [00:03, 287.19it/s, env_step=321536, len=21, n/ep=4, n/st=64, player_1/loss=0.000, player_2/loss=0.000, rew=266.50]\n"
     ]
    },
    {
     "name": "stdout",
     "output_type": "stream",
     "text": [
      "Epoch #314: test_reward: 594.000000 ± 0.000000, best_reward: 932.000000 ± 0.000000 in #114\n"
     ]
    },
    {
     "name": "stderr",
     "output_type": "stream",
     "text": [
      "Epoch #315: 1025it [00:03, 285.36it/s, env_step=322560, len=19, n/ep=3, n/st=64, player_1/loss=0.000, player_2/loss=0.000, rew=213.67]\n"
     ]
    },
    {
     "name": "stdout",
     "output_type": "stream",
     "text": [
      "Epoch #315: test_reward: 350.000000 ± 0.000000, best_reward: 932.000000 ± 0.000000 in #114\n"
     ]
    },
    {
     "name": "stderr",
     "output_type": "stream",
     "text": [
      "Epoch #316: 1025it [00:03, 285.13it/s, env_step=323584, len=28, n/ep=3, n/st=64, player_1/loss=0.000, player_2/loss=0.000, rew=445.33]\n"
     ]
    },
    {
     "name": "stdout",
     "output_type": "stream",
     "text": [
      "Epoch #316: test_reward: 299.000000 ± 0.000000, best_reward: 932.000000 ± 0.000000 in #114\n"
     ]
    },
    {
     "name": "stderr",
     "output_type": "stream",
     "text": [
      "Epoch #317: 1025it [00:03, 286.54it/s, env_step=324608, len=19, n/ep=3, n/st=64, player_1/loss=0.000, player_2/loss=0.000, rew=226.33]\n"
     ]
    },
    {
     "name": "stdout",
     "output_type": "stream",
     "text": [
      "Epoch #317: test_reward: 405.000000 ± 0.000000, best_reward: 932.000000 ± 0.000000 in #114\n"
     ]
    },
    {
     "name": "stderr",
     "output_type": "stream",
     "text": [
      "Epoch #318: 1025it [00:03, 286.96it/s, env_step=325632, len=16, n/ep=4, n/st=64, player_1/loss=0.000, player_2/loss=0.000, rew=164.25]\n"
     ]
    },
    {
     "name": "stdout",
     "output_type": "stream",
     "text": [
      "Epoch #318: test_reward: 189.000000 ± 0.000000, best_reward: 932.000000 ± 0.000000 in #114\n"
     ]
    },
    {
     "name": "stderr",
     "output_type": "stream",
     "text": [
      "Epoch #319: 1025it [00:03, 285.38it/s, env_step=326656, len=17, n/ep=3, n/st=64, player_1/loss=0.000, player_2/loss=0.000, rew=168.33]\n"
     ]
    },
    {
     "name": "stdout",
     "output_type": "stream",
     "text": [
      "Epoch #319: test_reward: 230.000000 ± 0.000000, best_reward: 932.000000 ± 0.000000 in #114\n"
     ]
    },
    {
     "name": "stderr",
     "output_type": "stream",
     "text": [
      "Epoch #320: 1025it [00:03, 285.01it/s, env_step=327680, len=18, n/ep=3, n/st=64, player_1/loss=0.000, player_2/loss=0.000, rew=189.00]\n"
     ]
    },
    {
     "name": "stdout",
     "output_type": "stream",
     "text": [
      "Epoch #320: test_reward: 170.000000 ± 0.000000, best_reward: 932.000000 ± 0.000000 in #114\n"
     ]
    },
    {
     "name": "stderr",
     "output_type": "stream",
     "text": [
      "Epoch #321: 1025it [00:03, 284.77it/s, env_step=328704, len=26, n/ep=2, n/st=64, player_1/loss=0.000, player_2/loss=0.000, rew=364.50]\n"
     ]
    },
    {
     "name": "stdout",
     "output_type": "stream",
     "text": [
      "Epoch #321: test_reward: 527.000000 ± 0.000000, best_reward: 932.000000 ± 0.000000 in #114\n"
     ]
    },
    {
     "name": "stderr",
     "output_type": "stream",
     "text": [
      "Epoch #322: 1025it [00:03, 281.28it/s, env_step=329728, len=19, n/ep=4, n/st=64, player_1/loss=0.000, player_2/loss=0.000, rew=200.75]\n"
     ]
    },
    {
     "name": "stdout",
     "output_type": "stream",
     "text": [
      "Epoch #322: test_reward: 77.000000 ± 0.000000, best_reward: 932.000000 ± 0.000000 in #114\n"
     ]
    },
    {
     "name": "stderr",
     "output_type": "stream",
     "text": [
      "Epoch #323: 1025it [00:03, 283.73it/s, env_step=330752, len=27, n/ep=3, n/st=64, player_1/loss=0.000, player_2/loss=0.000, rew=407.67]\n"
     ]
    },
    {
     "name": "stdout",
     "output_type": "stream",
     "text": [
      "Epoch #323: test_reward: 405.000000 ± 0.000000, best_reward: 932.000000 ± 0.000000 in #114\n"
     ]
    },
    {
     "name": "stderr",
     "output_type": "stream",
     "text": [
      "Epoch #324: 1025it [00:03, 286.86it/s, env_step=331776, len=27, n/ep=3, n/st=64, player_1/loss=0.000, player_2/loss=0.000, rew=405.33]\n"
     ]
    },
    {
     "name": "stdout",
     "output_type": "stream",
     "text": [
      "Epoch #324: test_reward: 209.000000 ± 0.000000, best_reward: 932.000000 ± 0.000000 in #114\n"
     ]
    },
    {
     "name": "stderr",
     "output_type": "stream",
     "text": [
      "Epoch #325: 1025it [00:03, 287.11it/s, env_step=332800, len=22, n/ep=2, n/st=64, player_1/loss=0.000, player_2/loss=0.000, rew=264.50]\n"
     ]
    },
    {
     "name": "stdout",
     "output_type": "stream",
     "text": [
      "Epoch #325: test_reward: 560.000000 ± 0.000000, best_reward: 932.000000 ± 0.000000 in #114\n"
     ]
    },
    {
     "name": "stderr",
     "output_type": "stream",
     "text": [
      "Epoch #326: 1025it [00:03, 282.36it/s, env_step=333824, len=27, n/ep=3, n/st=64, player_1/loss=0.000, player_2/loss=0.000, rew=403.00]\n"
     ]
    },
    {
     "name": "stdout",
     "output_type": "stream",
     "text": [
      "Epoch #326: test_reward: 252.000000 ± 0.000000, best_reward: 932.000000 ± 0.000000 in #114\n"
     ]
    },
    {
     "name": "stderr",
     "output_type": "stream",
     "text": [
      "Epoch #327: 1025it [00:03, 285.54it/s, env_step=334848, len=11, n/ep=5, n/st=64, player_1/loss=0.000, player_2/loss=0.000, rew=79.60]\n"
     ]
    },
    {
     "name": "stdout",
     "output_type": "stream",
     "text": [
      "Epoch #327: test_reward: 65.000000 ± 0.000000, best_reward: 932.000000 ± 0.000000 in #114\n"
     ]
    },
    {
     "name": "stderr",
     "output_type": "stream",
     "text": [
      "Epoch #328: 1025it [00:03, 285.01it/s, env_step=335872, len=14, n/ep=6, n/st=64, player_1/loss=0.000, player_2/loss=0.000, rew=137.67]\n"
     ]
    },
    {
     "name": "stdout",
     "output_type": "stream",
     "text": [
      "Epoch #328: test_reward: 77.000000 ± 0.000000, best_reward: 932.000000 ± 0.000000 in #114\n"
     ]
    },
    {
     "name": "stderr",
     "output_type": "stream",
     "text": [
      "Epoch #329: 1025it [00:03, 286.07it/s, env_step=336896, len=22, n/ep=3, n/st=64, player_1/loss=0.000, player_2/loss=0.000, rew=294.33]\n"
     ]
    },
    {
     "name": "stdout",
     "output_type": "stream",
     "text": [
      "Epoch #329: test_reward: 464.000000 ± 0.000000, best_reward: 932.000000 ± 0.000000 in #114\n"
     ]
    },
    {
     "name": "stderr",
     "output_type": "stream",
     "text": [
      "Epoch #330: 1025it [00:03, 283.48it/s, env_step=337920, len=16, n/ep=4, n/st=64, player_1/loss=0.000, player_2/loss=0.000, rew=153.50]\n"
     ]
    },
    {
     "name": "stdout",
     "output_type": "stream",
     "text": [
      "Epoch #330: test_reward: 65.000000 ± 0.000000, best_reward: 932.000000 ± 0.000000 in #114\n"
     ]
    },
    {
     "name": "stderr",
     "output_type": "stream",
     "text": [
      "Epoch #331: 1025it [00:03, 285.48it/s, env_step=338944, len=26, n/ep=3, n/st=64, player_1/loss=0.000, player_2/loss=0.000, rew=362.33]\n"
     ]
    },
    {
     "name": "stdout",
     "output_type": "stream",
     "text": [
      "Epoch #331: test_reward: 932.000000 ± 0.000000, best_reward: 932.000000 ± 0.000000 in #114\n"
     ]
    },
    {
     "name": "stderr",
     "output_type": "stream",
     "text": [
      "Epoch #332: 1025it [00:03, 286.02it/s, env_step=339968, len=17, n/ep=4, n/st=64, player_1/loss=0.000, player_2/loss=0.000, rew=181.75]\n"
     ]
    },
    {
     "name": "stdout",
     "output_type": "stream",
     "text": [
      "Epoch #332: test_reward: 324.000000 ± 0.000000, best_reward: 932.000000 ± 0.000000 in #114\n"
     ]
    },
    {
     "name": "stderr",
     "output_type": "stream",
     "text": [
      "Epoch #333: 1025it [00:03, 285.56it/s, env_step=340992, len=24, n/ep=3, n/st=64, player_1/loss=0.000, rew=347.67]      \n"
     ]
    },
    {
     "name": "stdout",
     "output_type": "stream",
     "text": [
      "Epoch #333: test_reward: 65.000000 ± 0.000000, best_reward: 932.000000 ± 0.000000 in #114\n"
     ]
    },
    {
     "name": "stderr",
     "output_type": "stream",
     "text": [
      "Epoch #334: 1025it [00:03, 284.56it/s, env_step=342016, len=24, n/ep=3, n/st=64, player_1/loss=0.000, player_2/loss=0.000, rew=381.33]\n"
     ]
    },
    {
     "name": "stdout",
     "output_type": "stream",
     "text": [
      "Epoch #334: test_reward: 230.000000 ± 0.000000, best_reward: 932.000000 ± 0.000000 in #114\n"
     ]
    },
    {
     "name": "stderr",
     "output_type": "stream",
     "text": [
      "Epoch #335: 1025it [00:03, 285.66it/s, env_step=343040, len=15, n/ep=4, n/st=64, player_1/loss=0.000, player_2/loss=0.000, rew=160.50]\n"
     ]
    },
    {
     "name": "stdout",
     "output_type": "stream",
     "text": [
      "Epoch #335: test_reward: 65.000000 ± 0.000000, best_reward: 932.000000 ± 0.000000 in #114\n"
     ]
    },
    {
     "name": "stderr",
     "output_type": "stream",
     "text": [
      "Epoch #336: 1025it [00:03, 286.57it/s, env_step=344064, len=12, n/ep=5, n/st=64, player_1/loss=0.000, player_2/loss=0.000, rew=89.80]\n"
     ]
    },
    {
     "name": "stdout",
     "output_type": "stream",
     "text": [
      "Epoch #336: test_reward: 35.000000 ± 0.000000, best_reward: 932.000000 ± 0.000000 in #114\n"
     ]
    },
    {
     "name": "stderr",
     "output_type": "stream",
     "text": [
      "Epoch #337: 1025it [00:03, 272.56it/s, env_step=345088, len=15, n/ep=4, n/st=64, player_1/loss=0.000, player_2/loss=0.000, rew=156.25]\n"
     ]
    },
    {
     "name": "stdout",
     "output_type": "stream",
     "text": [
      "Epoch #337: test_reward: 54.000000 ± 0.000000, best_reward: 932.000000 ± 0.000000 in #114\n"
     ]
    },
    {
     "name": "stderr",
     "output_type": "stream",
     "text": [
      "Epoch #338: 1025it [00:03, 270.40it/s, env_step=346112, len=29, n/ep=3, n/st=64, player_1/loss=0.000, player_2/loss=0.000, rew=464.33]\n"
     ]
    },
    {
     "name": "stdout",
     "output_type": "stream",
     "text": [
      "Epoch #338: test_reward: 594.000000 ± 0.000000, best_reward: 932.000000 ± 0.000000 in #114\n"
     ]
    },
    {
     "name": "stderr",
     "output_type": "stream",
     "text": [
      "Epoch #339: 1025it [00:03, 280.61it/s, env_step=347136, len=21, n/ep=3, n/st=64, player_1/loss=0.000, player_2/loss=0.000, rew=260.00]\n"
     ]
    },
    {
     "name": "stdout",
     "output_type": "stream",
     "text": [
      "Epoch #339: test_reward: 54.000000 ± 0.000000, best_reward: 932.000000 ± 0.000000 in #114\n"
     ]
    },
    {
     "name": "stderr",
     "output_type": "stream",
     "text": [
      "Epoch #340: 1025it [00:03, 276.61it/s, env_step=348160, len=22, n/ep=3, n/st=64, player_1/loss=0.000, player_2/loss=0.000, rew=292.33]\n"
     ]
    },
    {
     "name": "stdout",
     "output_type": "stream",
     "text": [
      "Epoch #340: test_reward: 209.000000 ± 0.000000, best_reward: 932.000000 ± 0.000000 in #114\n"
     ]
    },
    {
     "name": "stderr",
     "output_type": "stream",
     "text": [
      "Epoch #341: 1025it [00:03, 273.72it/s, env_step=349184, len=14, n/ep=4, n/st=64, player_1/loss=0.000, player_2/loss=0.000, rew=120.75]\n"
     ]
    },
    {
     "name": "stdout",
     "output_type": "stream",
     "text": [
      "Epoch #341: test_reward: 594.000000 ± 0.000000, best_reward: 932.000000 ± 0.000000 in #114\n"
     ]
    },
    {
     "name": "stderr",
     "output_type": "stream",
     "text": [
      "Epoch #342: 1025it [00:03, 280.27it/s, env_step=350208, len=12, n/ep=5, n/st=64, player_1/loss=0.000, player_2/loss=0.000, rew=90.60]\n"
     ]
    },
    {
     "name": "stdout",
     "output_type": "stream",
     "text": [
      "Epoch #342: test_reward: 65.000000 ± 0.000000, best_reward: 932.000000 ± 0.000000 in #114\n"
     ]
    },
    {
     "name": "stderr",
     "output_type": "stream",
     "text": [
      "Epoch #343: 1025it [00:03, 268.95it/s, env_step=351232, len=17, n/ep=4, n/st=64, player_1/loss=0.000, player_2/loss=0.000, rew=169.50]\n"
     ]
    },
    {
     "name": "stdout",
     "output_type": "stream",
     "text": [
      "Epoch #343: test_reward: 35.000000 ± 0.000000, best_reward: 932.000000 ± 0.000000 in #114\n"
     ]
    },
    {
     "name": "stderr",
     "output_type": "stream",
     "text": [
      "Epoch #344: 1025it [00:03, 285.71it/s, env_step=352256, len=18, n/ep=4, n/st=64, player_1/loss=0.000, player_2/loss=0.000, rew=184.75]\n"
     ]
    },
    {
     "name": "stdout",
     "output_type": "stream",
     "text": [
      "Epoch #344: test_reward: 135.000000 ± 0.000000, best_reward: 932.000000 ± 0.000000 in #114\n"
     ]
    },
    {
     "name": "stderr",
     "output_type": "stream",
     "text": [
      "Epoch #345: 1025it [00:03, 284.57it/s, env_step=353280, len=15, n/ep=4, n/st=64, player_1/loss=0.000, player_2/loss=0.000, rew=136.00]\n"
     ]
    },
    {
     "name": "stdout",
     "output_type": "stream",
     "text": [
      "Epoch #345: test_reward: 594.000000 ± 0.000000, best_reward: 932.000000 ± 0.000000 in #114\n"
     ]
    },
    {
     "name": "stderr",
     "output_type": "stream",
     "text": [
      "Epoch #346: 1025it [00:03, 284.27it/s, env_step=354304, len=23, n/ep=3, n/st=64, player_1/loss=0.000, player_2/loss=0.000, rew=351.67]\n"
     ]
    },
    {
     "name": "stdout",
     "output_type": "stream",
     "text": [
      "Epoch #346: test_reward: 252.000000 ± 0.000000, best_reward: 932.000000 ± 0.000000 in #114\n"
     ]
    },
    {
     "name": "stderr",
     "output_type": "stream",
     "text": [
      "Epoch #347: 1025it [00:03, 285.93it/s, env_step=355328, len=21, n/ep=3, n/st=64, player_1/loss=0.000, player_2/loss=0.000, rew=251.33]\n"
     ]
    },
    {
     "name": "stdout",
     "output_type": "stream",
     "text": [
      "Epoch #347: test_reward: 209.000000 ± 0.000000, best_reward: 932.000000 ± 0.000000 in #114\n"
     ]
    },
    {
     "name": "stderr",
     "output_type": "stream",
     "text": [
      "Epoch #348: 1025it [00:03, 285.13it/s, env_step=356352, len=25, n/ep=2, n/st=64, player_1/loss=0.000, player_2/loss=0.000, rew=337.00]\n"
     ]
    },
    {
     "name": "stdout",
     "output_type": "stream",
     "text": [
      "Epoch #348: test_reward: 44.000000 ± 0.000000, best_reward: 932.000000 ± 0.000000 in #114\n"
     ]
    },
    {
     "name": "stderr",
     "output_type": "stream",
     "text": [
      "Epoch #349: 1025it [00:03, 286.32it/s, env_step=357376, len=17, n/ep=4, n/st=64, player_1/loss=0.000, player_2/loss=0.000, rew=187.00]\n"
     ]
    },
    {
     "name": "stdout",
     "output_type": "stream",
     "text": [
      "Epoch #349: test_reward: 65.000000 ± 0.000000, best_reward: 932.000000 ± 0.000000 in #114\n"
     ]
    },
    {
     "name": "stderr",
     "output_type": "stream",
     "text": [
      "Epoch #350: 1025it [00:03, 285.81it/s, env_step=358400, len=13, n/ep=4, n/st=64, player_1/loss=0.000, player_2/loss=0.000, rew=111.00]\n"
     ]
    },
    {
     "name": "stdout",
     "output_type": "stream",
     "text": [
      "Epoch #350: test_reward: 44.000000 ± 0.000000, best_reward: 932.000000 ± 0.000000 in #114\n"
     ]
    },
    {
     "name": "stderr",
     "output_type": "stream",
     "text": [
      "Epoch #351: 1025it [00:03, 285.41it/s, env_step=359424, len=25, n/ep=3, n/st=64, player_1/loss=0.000, player_2/loss=0.000, rew=411.33]\n"
     ]
    },
    {
     "name": "stdout",
     "output_type": "stream",
     "text": [
      "Epoch #351: test_reward: 35.000000 ± 0.000000, best_reward: 932.000000 ± 0.000000 in #114\n"
     ]
    },
    {
     "name": "stderr",
     "output_type": "stream",
     "text": [
      "Epoch #352: 1025it [00:03, 284.25it/s, env_step=360448, len=12, n/ep=3, n/st=64, player_1/loss=0.000, player_2/loss=0.000, rew=84.67]\n"
     ]
    },
    {
     "name": "stdout",
     "output_type": "stream",
     "text": [
      "Epoch #352: test_reward: 35.000000 ± 0.000000, best_reward: 932.000000 ± 0.000000 in #114\n"
     ]
    },
    {
     "name": "stderr",
     "output_type": "stream",
     "text": [
      "Epoch #353: 1025it [00:03, 284.89it/s, env_step=361472, len=20, n/ep=3, n/st=64, player_1/loss=0.000, player_2/loss=0.000, rew=221.33]\n"
     ]
    },
    {
     "name": "stdout",
     "output_type": "stream",
     "text": [
      "Epoch #353: test_reward: 252.000000 ± 0.000000, best_reward: 932.000000 ± 0.000000 in #114\n"
     ]
    },
    {
     "name": "stderr",
     "output_type": "stream",
     "text": [
      "Epoch #354: 1025it [00:03, 283.73it/s, env_step=362496, len=25, n/ep=2, n/st=64, player_1/loss=0.000, player_2/loss=0.000, rew=328.50]\n"
     ]
    },
    {
     "name": "stdout",
     "output_type": "stream",
     "text": [
      "Epoch #354: test_reward: 104.000000 ± 0.000000, best_reward: 932.000000 ± 0.000000 in #114\n"
     ]
    },
    {
     "name": "stderr",
     "output_type": "stream",
     "text": [
      "Epoch #355: 1025it [00:03, 283.92it/s, env_step=363520, len=18, n/ep=3, n/st=64, player_1/loss=0.000, player_2/loss=0.000, rew=184.33]\n"
     ]
    },
    {
     "name": "stdout",
     "output_type": "stream",
     "text": [
      "Epoch #355: test_reward: 209.000000 ± 0.000000, best_reward: 932.000000 ± 0.000000 in #114\n"
     ]
    },
    {
     "name": "stderr",
     "output_type": "stream",
     "text": [
      "Epoch #356: 1025it [00:03, 286.12it/s, env_step=364544, len=20, n/ep=2, n/st=64, player_1/loss=0.000, player_2/loss=0.000, rew=297.50]\n"
     ]
    },
    {
     "name": "stdout",
     "output_type": "stream",
     "text": [
      "Epoch #356: test_reward: 54.000000 ± 0.000000, best_reward: 932.000000 ± 0.000000 in #114\n"
     ]
    },
    {
     "name": "stderr",
     "output_type": "stream",
     "text": [
      "Epoch #357: 1025it [00:03, 285.53it/s, env_step=365568, len=19, n/ep=4, n/st=64, player_1/loss=0.000, player_2/loss=0.000, rew=214.50]\n"
     ]
    },
    {
     "name": "stdout",
     "output_type": "stream",
     "text": [
      "Epoch #357: test_reward: 65.000000 ± 0.000000, best_reward: 932.000000 ± 0.000000 in #114\n"
     ]
    },
    {
     "name": "stderr",
     "output_type": "stream",
     "text": [
      "Epoch #358: 1025it [00:03, 286.19it/s, env_step=366592, len=17, n/ep=3, n/st=64, player_1/loss=0.000, player_2/loss=0.000, rew=168.67]\n"
     ]
    },
    {
     "name": "stdout",
     "output_type": "stream",
     "text": [
      "Epoch #358: test_reward: 65.000000 ± 0.000000, best_reward: 932.000000 ± 0.000000 in #114\n"
     ]
    },
    {
     "name": "stderr",
     "output_type": "stream",
     "text": [
      "Epoch #359: 1025it [00:03, 284.91it/s, env_step=367616, len=15, n/ep=5, n/st=64, player_1/loss=0.000, player_2/loss=0.000, rew=171.00]\n"
     ]
    },
    {
     "name": "stdout",
     "output_type": "stream",
     "text": [
      "Epoch #359: test_reward: 54.000000 ± 0.000000, best_reward: 932.000000 ± 0.000000 in #114\n"
     ]
    },
    {
     "name": "stderr",
     "output_type": "stream",
     "text": [
      "Epoch #360: 1025it [00:03, 285.98it/s, env_step=368640, len=14, n/ep=4, n/st=64, player_1/loss=0.000, player_2/loss=0.000, rew=137.00]\n"
     ]
    },
    {
     "name": "stdout",
     "output_type": "stream",
     "text": [
      "Epoch #360: test_reward: 35.000000 ± 0.000000, best_reward: 932.000000 ± 0.000000 in #114\n"
     ]
    },
    {
     "name": "stderr",
     "output_type": "stream",
     "text": [
      "Epoch #361: 1025it [00:03, 286.57it/s, env_step=369664, len=17, n/ep=4, n/st=64, player_1/loss=0.000, player_2/loss=0.000, rew=194.25]\n"
     ]
    },
    {
     "name": "stdout",
     "output_type": "stream",
     "text": [
      "Epoch #361: test_reward: 90.000000 ± 0.000000, best_reward: 932.000000 ± 0.000000 in #114\n"
     ]
    },
    {
     "name": "stderr",
     "output_type": "stream",
     "text": [
      "Epoch #362: 1025it [00:03, 287.33it/s, env_step=370688, len=25, n/ep=2, n/st=64, player_1/loss=0.000, player_2/loss=0.000, rew=338.00]\n"
     ]
    },
    {
     "name": "stdout",
     "output_type": "stream",
     "text": [
      "Epoch #362: test_reward: 299.000000 ± 0.000000, best_reward: 932.000000 ± 0.000000 in #114\n"
     ]
    },
    {
     "name": "stderr",
     "output_type": "stream",
     "text": [
      "Epoch #363: 1025it [00:03, 284.85it/s, env_step=371712, len=16, n/ep=4, n/st=64, player_1/loss=0.000, player_2/loss=0.000, rew=174.25]\n"
     ]
    },
    {
     "name": "stdout",
     "output_type": "stream",
     "text": [
      "Epoch #363: test_reward: 35.000000 ± 0.000000, best_reward: 932.000000 ± 0.000000 in #114\n"
     ]
    },
    {
     "name": "stderr",
     "output_type": "stream",
     "text": [
      "Epoch #364: 1025it [00:03, 286.73it/s, env_step=372736, len=17, n/ep=3, n/st=64, player_1/loss=0.000, player_2/loss=0.000, rew=160.33]\n"
     ]
    },
    {
     "name": "stdout",
     "output_type": "stream",
     "text": [
      "Epoch #364: test_reward: 90.000000 ± 0.000000, best_reward: 932.000000 ± 0.000000 in #114\n"
     ]
    },
    {
     "name": "stderr",
     "output_type": "stream",
     "text": [
      "Epoch #365: 1025it [00:03, 284.09it/s, env_step=373760, len=15, n/ep=4, n/st=64, player_1/loss=0.000, player_2/loss=0.000, rew=130.75]\n"
     ]
    },
    {
     "name": "stdout",
     "output_type": "stream",
     "text": [
      "Epoch #365: test_reward: 65.000000 ± 0.000000, best_reward: 932.000000 ± 0.000000 in #114\n"
     ]
    },
    {
     "name": "stderr",
     "output_type": "stream",
     "text": [
      "Epoch #366: 1025it [00:03, 284.82it/s, env_step=374784, len=23, n/ep=2, n/st=64, player_1/loss=0.000, player_2/loss=0.000, rew=353.00]\n"
     ]
    },
    {
     "name": "stdout",
     "output_type": "stream",
     "text": [
      "Epoch #366: test_reward: 35.000000 ± 0.000000, best_reward: 932.000000 ± 0.000000 in #114\n"
     ]
    },
    {
     "name": "stderr",
     "output_type": "stream",
     "text": [
      "Epoch #367: 1025it [00:03, 285.46it/s, env_step=375808, len=14, n/ep=4, n/st=64, player_1/loss=0.000, player_2/loss=0.000, rew=132.50]\n"
     ]
    },
    {
     "name": "stdout",
     "output_type": "stream",
     "text": [
      "Epoch #367: test_reward: 54.000000 ± 0.000000, best_reward: 932.000000 ± 0.000000 in #114\n"
     ]
    },
    {
     "name": "stderr",
     "output_type": "stream",
     "text": [
      "Epoch #368: 1025it [00:03, 285.33it/s, env_step=376832, len=18, n/ep=3, n/st=64, player_1/loss=0.000, player_2/loss=0.000, rew=190.33]\n"
     ]
    },
    {
     "name": "stdout",
     "output_type": "stream",
     "text": [
      "Epoch #368: test_reward: 90.000000 ± 0.000000, best_reward: 932.000000 ± 0.000000 in #114\n"
     ]
    },
    {
     "name": "stderr",
     "output_type": "stream",
     "text": [
      "Epoch #369: 1025it [00:03, 286.85it/s, env_step=377856, len=15, n/ep=4, n/st=64, player_1/loss=0.000, player_2/loss=0.000, rew=157.75]\n"
     ]
    },
    {
     "name": "stdout",
     "output_type": "stream",
     "text": [
      "Epoch #369: test_reward: 54.000000 ± 0.000000, best_reward: 932.000000 ± 0.000000 in #114\n"
     ]
    },
    {
     "name": "stderr",
     "output_type": "stream",
     "text": [
      "Epoch #370: 1025it [00:03, 284.33it/s, env_step=378880, len=19, n/ep=3, n/st=64, player_1/loss=0.000, player_2/loss=0.000, rew=225.00]\n"
     ]
    },
    {
     "name": "stdout",
     "output_type": "stream",
     "text": [
      "Epoch #370: test_reward: 275.000000 ± 0.000000, best_reward: 932.000000 ± 0.000000 in #114\n"
     ]
    },
    {
     "name": "stderr",
     "output_type": "stream",
     "text": [
      "Epoch #371: 1025it [00:03, 285.77it/s, env_step=379904, len=21, n/ep=3, n/st=64, player_1/loss=0.000, player_2/loss=0.000, rew=247.33]\n"
     ]
    },
    {
     "name": "stdout",
     "output_type": "stream",
     "text": [
      "Epoch #371: test_reward: 119.000000 ± 0.000000, best_reward: 932.000000 ± 0.000000 in #114\n"
     ]
    },
    {
     "name": "stderr",
     "output_type": "stream",
     "text": [
      "Epoch #372: 1025it [00:03, 284.74it/s, env_step=380928, len=28, n/ep=2, n/st=64, player_1/loss=0.000, player_2/loss=0.000, rew=420.50]\n"
     ]
    },
    {
     "name": "stdout",
     "output_type": "stream",
     "text": [
      "Epoch #372: test_reward: 189.000000 ± 0.000000, best_reward: 932.000000 ± 0.000000 in #114\n"
     ]
    },
    {
     "name": "stderr",
     "output_type": "stream",
     "text": [
      "Epoch #373: 1025it [00:03, 285.12it/s, env_step=381952, len=21, n/ep=2, n/st=64, player_1/loss=0.000, player_2/loss=0.000, rew=247.00]\n"
     ]
    },
    {
     "name": "stdout",
     "output_type": "stream",
     "text": [
      "Epoch #373: test_reward: 119.000000 ± 0.000000, best_reward: 932.000000 ± 0.000000 in #114\n"
     ]
    },
    {
     "name": "stderr",
     "output_type": "stream",
     "text": [
      "Epoch #374: 1025it [00:03, 286.63it/s, env_step=382976, len=16, n/ep=4, n/st=64, player_1/loss=0.000, player_2/loss=0.000, rew=162.00]\n"
     ]
    },
    {
     "name": "stdout",
     "output_type": "stream",
     "text": [
      "Epoch #374: test_reward: 65.000000 ± 0.000000, best_reward: 932.000000 ± 0.000000 in #114\n"
     ]
    },
    {
     "name": "stderr",
     "output_type": "stream",
     "text": [
      "Epoch #375: 1025it [00:03, 286.39it/s, env_step=384000, len=16, n/ep=4, n/st=64, player_1/loss=0.000, player_2/loss=0.000, rew=175.50]\n"
     ]
    },
    {
     "name": "stdout",
     "output_type": "stream",
     "text": [
      "Epoch #375: test_reward: 35.000000 ± 0.000000, best_reward: 932.000000 ± 0.000000 in #114\n"
     ]
    },
    {
     "name": "stderr",
     "output_type": "stream",
     "text": [
      "Epoch #376: 1025it [00:03, 286.72it/s, env_step=385024, len=16, n/ep=3, n/st=64, player_1/loss=0.000, player_2/loss=0.000, rew=144.00]\n"
     ]
    },
    {
     "name": "stdout",
     "output_type": "stream",
     "text": [
      "Epoch #376: test_reward: 230.000000 ± 0.000000, best_reward: 932.000000 ± 0.000000 in #114\n"
     ]
    },
    {
     "name": "stderr",
     "output_type": "stream",
     "text": [
      "Epoch #377: 1025it [00:03, 285.42it/s, env_step=386048, len=19, n/ep=4, n/st=64, player_1/loss=0.000, player_2/loss=0.000, rew=205.75]\n"
     ]
    },
    {
     "name": "stdout",
     "output_type": "stream",
     "text": [
      "Epoch #377: test_reward: 35.000000 ± 0.000000, best_reward: 932.000000 ± 0.000000 in #114\n"
     ]
    },
    {
     "name": "stderr",
     "output_type": "stream",
     "text": [
      "Epoch #378: 1025it [00:03, 285.94it/s, env_step=387072, len=16, n/ep=4, n/st=64, player_1/loss=0.000, player_2/loss=0.000, rew=171.75]\n"
     ]
    },
    {
     "name": "stdout",
     "output_type": "stream",
     "text": [
      "Epoch #378: test_reward: 189.000000 ± 0.000000, best_reward: 932.000000 ± 0.000000 in #114\n"
     ]
    },
    {
     "name": "stderr",
     "output_type": "stream",
     "text": [
      "Epoch #379: 1025it [00:03, 283.36it/s, env_step=388096, len=21, n/ep=3, n/st=64, player_1/loss=0.000, player_2/loss=0.000, rew=243.00]\n"
     ]
    },
    {
     "name": "stdout",
     "output_type": "stream",
     "text": [
      "Epoch #379: test_reward: 119.000000 ± 0.000000, best_reward: 932.000000 ± 0.000000 in #114\n"
     ]
    },
    {
     "name": "stderr",
     "output_type": "stream",
     "text": [
      "Epoch #380: 1025it [00:03, 285.73it/s, env_step=389120, len=13, n/ep=5, n/st=64, player_1/loss=0.000, rew=109.40]      \n"
     ]
    },
    {
     "name": "stdout",
     "output_type": "stream",
     "text": [
      "Epoch #380: test_reward: 119.000000 ± 0.000000, best_reward: 932.000000 ± 0.000000 in #114\n"
     ]
    },
    {
     "name": "stderr",
     "output_type": "stream",
     "text": [
      "Epoch #381: 1025it [00:03, 284.45it/s, env_step=390144, len=19, n/ep=3, n/st=64, player_1/loss=0.000, player_2/loss=0.000, rew=210.67]\n"
     ]
    },
    {
     "name": "stdout",
     "output_type": "stream",
     "text": [
      "Epoch #381: test_reward: 209.000000 ± 0.000000, best_reward: 932.000000 ± 0.000000 in #114\n"
     ]
    },
    {
     "name": "stderr",
     "output_type": "stream",
     "text": [
      "Epoch #382: 1025it [00:03, 287.17it/s, env_step=391168, len=21, n/ep=3, n/st=64, player_1/loss=0.000, player_2/loss=0.000, rew=268.67]\n"
     ]
    },
    {
     "name": "stdout",
     "output_type": "stream",
     "text": [
      "Epoch #382: test_reward: 65.000000 ± 0.000000, best_reward: 932.000000 ± 0.000000 in #114\n"
     ]
    },
    {
     "name": "stderr",
     "output_type": "stream",
     "text": [
      "Epoch #383: 1025it [00:03, 284.91it/s, env_step=392192, len=16, n/ep=3, n/st=64, player_2/loss=0.000, rew=159.33]      \n"
     ]
    },
    {
     "name": "stdout",
     "output_type": "stream",
     "text": [
      "Epoch #383: test_reward: 189.000000 ± 0.000000, best_reward: 932.000000 ± 0.000000 in #114\n"
     ]
    },
    {
     "name": "stderr",
     "output_type": "stream",
     "text": [
      "Epoch #384: 1025it [00:03, 285.99it/s, env_step=393216, len=15, n/ep=4, n/st=64, player_1/loss=0.000, player_2/loss=0.000, rew=129.50]\n"
     ]
    },
    {
     "name": "stdout",
     "output_type": "stream",
     "text": [
      "Epoch #384: test_reward: 324.000000 ± 0.000000, best_reward: 932.000000 ± 0.000000 in #114\n"
     ]
    },
    {
     "name": "stderr",
     "output_type": "stream",
     "text": [
      "Epoch #385: 1025it [00:03, 285.55it/s, env_step=394240, len=15, n/ep=4, n/st=64, player_1/loss=0.000, rew=132.00]      \n"
     ]
    },
    {
     "name": "stdout",
     "output_type": "stream",
     "text": [
      "Epoch #385: test_reward: 252.000000 ± 0.000000, best_reward: 932.000000 ± 0.000000 in #114\n"
     ]
    },
    {
     "name": "stderr",
     "output_type": "stream",
     "text": [
      "Epoch #386: 1025it [00:03, 284.89it/s, env_step=395264, len=15, n/ep=4, n/st=64, player_1/loss=0.000, player_2/loss=0.000, rew=150.75]\n"
     ]
    },
    {
     "name": "stdout",
     "output_type": "stream",
     "text": [
      "Epoch #386: test_reward: 90.000000 ± 0.000000, best_reward: 932.000000 ± 0.000000 in #114\n"
     ]
    },
    {
     "name": "stderr",
     "output_type": "stream",
     "text": [
      "Epoch #387: 1025it [00:03, 283.19it/s, env_step=396288, len=26, n/ep=2, n/st=64, player_1/loss=0.000, player_2/loss=0.000, rew=354.50]\n"
     ]
    },
    {
     "name": "stdout",
     "output_type": "stream",
     "text": [
      "Epoch #387: test_reward: 27.000000 ± 0.000000, best_reward: 932.000000 ± 0.000000 in #114\n"
     ]
    },
    {
     "name": "stderr",
     "output_type": "stream",
     "text": [
      "Epoch #388: 1025it [00:03, 284.07it/s, env_step=397312, len=13, n/ep=4, n/st=64, player_1/loss=0.000, player_2/loss=0.000, rew=106.25]\n"
     ]
    },
    {
     "name": "stdout",
     "output_type": "stream",
     "text": [
      "Epoch #388: test_reward: 90.000000 ± 0.000000, best_reward: 932.000000 ± 0.000000 in #114\n"
     ]
    },
    {
     "name": "stderr",
     "output_type": "stream",
     "text": [
      "Epoch #389: 1025it [00:03, 287.06it/s, env_step=398336, len=16, n/ep=3, n/st=64, player_1/loss=0.000, player_2/loss=0.000, rew=147.33]\n"
     ]
    },
    {
     "name": "stdout",
     "output_type": "stream",
     "text": [
      "Epoch #389: test_reward: 119.000000 ± 0.000000, best_reward: 932.000000 ± 0.000000 in #114\n"
     ]
    },
    {
     "name": "stderr",
     "output_type": "stream",
     "text": [
      "Epoch #390: 1025it [00:03, 285.70it/s, env_step=399360, len=19, n/ep=3, n/st=64, player_1/loss=0.000, player_2/loss=0.000, rew=202.67]\n"
     ]
    },
    {
     "name": "stdout",
     "output_type": "stream",
     "text": [
      "Epoch #390: test_reward: 230.000000 ± 0.000000, best_reward: 932.000000 ± 0.000000 in #114\n"
     ]
    },
    {
     "name": "stderr",
     "output_type": "stream",
     "text": [
      "Epoch #391: 1025it [00:03, 286.70it/s, env_step=400384, len=20, n/ep=4, n/st=64, player_1/loss=0.000, player_2/loss=0.000, rew=220.25]\n"
     ]
    },
    {
     "name": "stdout",
     "output_type": "stream",
     "text": [
      "Epoch #391: test_reward: 119.000000 ± 0.000000, best_reward: 932.000000 ± 0.000000 in #114\n"
     ]
    },
    {
     "name": "stderr",
     "output_type": "stream",
     "text": [
      "Epoch #392: 1025it [00:03, 285.48it/s, env_step=401408, len=16, n/ep=4, n/st=64, player_1/loss=0.000, player_2/loss=0.000, rew=161.00]\n"
     ]
    },
    {
     "name": "stdout",
     "output_type": "stream",
     "text": [
      "Epoch #392: test_reward: 405.000000 ± 0.000000, best_reward: 932.000000 ± 0.000000 in #114\n"
     ]
    },
    {
     "name": "stderr",
     "output_type": "stream",
     "text": [
      "Epoch #393: 1025it [00:03, 284.57it/s, env_step=402432, len=24, n/ep=3, n/st=64, player_1/loss=0.000, player_2/loss=0.000, rew=334.33]\n"
     ]
    },
    {
     "name": "stdout",
     "output_type": "stream",
     "text": [
      "Epoch #393: test_reward: 594.000000 ± 0.000000, best_reward: 932.000000 ± 0.000000 in #114\n"
     ]
    },
    {
     "name": "stderr",
     "output_type": "stream",
     "text": [
      "Epoch #394: 1025it [00:03, 286.43it/s, env_step=403456, len=18, n/ep=3, n/st=64, player_1/loss=0.000, player_2/loss=0.000, rew=183.33]\n"
     ]
    },
    {
     "name": "stdout",
     "output_type": "stream",
     "text": [
      "Epoch #394: test_reward: 119.000000 ± 0.000000, best_reward: 932.000000 ± 0.000000 in #114\n"
     ]
    },
    {
     "name": "stderr",
     "output_type": "stream",
     "text": [
      "Epoch #395: 1025it [00:03, 285.10it/s, env_step=404480, len=21, n/ep=3, n/st=64, player_1/loss=0.000, player_2/loss=0.000, rew=231.33]\n"
     ]
    },
    {
     "name": "stdout",
     "output_type": "stream",
     "text": [
      "Epoch #395: test_reward: 405.000000 ± 0.000000, best_reward: 932.000000 ± 0.000000 in #114\n"
     ]
    },
    {
     "name": "stderr",
     "output_type": "stream",
     "text": [
      "Epoch #396: 1025it [00:03, 284.51it/s, env_step=405504, len=33, n/ep=2, n/st=64, player_1/loss=0.000, player_2/loss=0.000, rew=598.00]\n"
     ]
    },
    {
     "name": "stdout",
     "output_type": "stream",
     "text": [
      "Epoch #396: test_reward: 135.000000 ± 0.000000, best_reward: 932.000000 ± 0.000000 in #114\n"
     ]
    },
    {
     "name": "stderr",
     "output_type": "stream",
     "text": [
      "Epoch #397: 1025it [00:03, 285.47it/s, env_step=406528, len=15, n/ep=4, n/st=64, player_1/loss=0.000, player_2/loss=0.000, rew=136.50]\n"
     ]
    },
    {
     "name": "stdout",
     "output_type": "stream",
     "text": [
      "Epoch #397: test_reward: 324.000000 ± 0.000000, best_reward: 932.000000 ± 0.000000 in #114\n"
     ]
    },
    {
     "name": "stderr",
     "output_type": "stream",
     "text": [
      "Epoch #398: 1025it [00:03, 284.66it/s, env_step=407552, len=16, n/ep=3, n/st=64, player_1/loss=0.000, player_2/loss=0.000, rew=164.33]\n"
     ]
    },
    {
     "name": "stdout",
     "output_type": "stream",
     "text": [
      "Epoch #398: test_reward: 44.000000 ± 0.000000, best_reward: 932.000000 ± 0.000000 in #114\n"
     ]
    },
    {
     "name": "stderr",
     "output_type": "stream",
     "text": [
      "Epoch #399: 1025it [00:03, 275.67it/s, env_step=408576, len=25, n/ep=3, n/st=64, player_1/loss=0.000, player_2/loss=0.000, rew=327.00]\n"
     ]
    },
    {
     "name": "stdout",
     "output_type": "stream",
     "text": [
      "Epoch #399: test_reward: 252.000000 ± 0.000000, best_reward: 932.000000 ± 0.000000 in #114\n"
     ]
    },
    {
     "name": "stderr",
     "output_type": "stream",
     "text": [
      "Epoch #400: 1025it [00:03, 258.52it/s, env_step=409600, len=22, n/ep=3, n/st=64, player_1/loss=0.000, player_2/loss=0.000, rew=266.33]\n"
     ]
    },
    {
     "name": "stdout",
     "output_type": "stream",
     "text": [
      "Epoch #400: test_reward: 135.000000 ± 0.000000, best_reward: 932.000000 ± 0.000000 in #114\n"
     ]
    },
    {
     "name": "stderr",
     "output_type": "stream",
     "text": [
      "Epoch #401: 1025it [00:03, 270.31it/s, env_step=410624, len=24, n/ep=3, n/st=64, player_1/loss=0.000, player_2/loss=0.000, rew=325.33]\n"
     ]
    },
    {
     "name": "stdout",
     "output_type": "stream",
     "text": [
      "Epoch #401: test_reward: 119.000000 ± 0.000000, best_reward: 932.000000 ± 0.000000 in #114\n"
     ]
    },
    {
     "name": "stderr",
     "output_type": "stream",
     "text": [
      "Epoch #402: 1025it [00:04, 249.47it/s, env_step=411648, len=19, n/ep=3, n/st=64, player_1/loss=0.000, player_2/loss=0.000, rew=221.33]\n"
     ]
    },
    {
     "name": "stdout",
     "output_type": "stream",
     "text": [
      "Epoch #402: test_reward: 44.000000 ± 0.000000, best_reward: 932.000000 ± 0.000000 in #114\n"
     ]
    },
    {
     "name": "stderr",
     "output_type": "stream",
     "text": [
      "Epoch #403: 1025it [00:03, 267.91it/s, env_step=412672, len=18, n/ep=4, n/st=64, player_1/loss=0.000, player_2/loss=0.000, rew=189.25]\n"
     ]
    },
    {
     "name": "stdout",
     "output_type": "stream",
     "text": [
      "Epoch #403: test_reward: 65.000000 ± 0.000000, best_reward: 932.000000 ± 0.000000 in #114\n"
     ]
    },
    {
     "name": "stderr",
     "output_type": "stream",
     "text": [
      "Epoch #404: 1025it [00:03, 285.83it/s, env_step=413696, len=29, n/ep=2, n/st=64, player_1/loss=0.000, player_2/loss=0.000, rew=477.00]\n"
     ]
    },
    {
     "name": "stdout",
     "output_type": "stream",
     "text": [
      "Epoch #404: test_reward: 119.000000 ± 0.000000, best_reward: 932.000000 ± 0.000000 in #114\n"
     ]
    },
    {
     "name": "stderr",
     "output_type": "stream",
     "text": [
      "Epoch #405: 1025it [00:03, 272.46it/s, env_step=414720, len=26, n/ep=3, n/st=64, player_1/loss=0.000, player_2/loss=0.000, rew=364.67]\n"
     ]
    },
    {
     "name": "stdout",
     "output_type": "stream",
     "text": [
      "Epoch #405: test_reward: 170.000000 ± 0.000000, best_reward: 932.000000 ± 0.000000 in #114\n"
     ]
    },
    {
     "name": "stderr",
     "output_type": "stream",
     "text": [
      "Epoch #406: 1025it [00:03, 284.40it/s, env_step=415744, len=22, n/ep=3, n/st=64, player_1/loss=0.000, player_2/loss=0.000, rew=259.00]\n"
     ]
    },
    {
     "name": "stdout",
     "output_type": "stream",
     "text": [
      "Epoch #406: test_reward: 77.000000 ± 0.000000, best_reward: 932.000000 ± 0.000000 in #114\n"
     ]
    },
    {
     "name": "stderr",
     "output_type": "stream",
     "text": [
      "Epoch #407: 1025it [00:03, 285.99it/s, env_step=416768, len=20, n/ep=3, n/st=64, player_1/loss=0.000, player_2/loss=0.000, rew=228.00]\n"
     ]
    },
    {
     "name": "stdout",
     "output_type": "stream",
     "text": [
      "Epoch #407: test_reward: 54.000000 ± 0.000000, best_reward: 932.000000 ± 0.000000 in #114\n"
     ]
    },
    {
     "name": "stderr",
     "output_type": "stream",
     "text": [
      "Epoch #408: 1025it [00:03, 277.06it/s, env_step=417792, len=23, n/ep=3, n/st=64, player_1/loss=0.000, player_2/loss=0.000, rew=303.00]\n"
     ]
    },
    {
     "name": "stdout",
     "output_type": "stream",
     "text": [
      "Epoch #408: test_reward: 377.000000 ± 0.000000, best_reward: 932.000000 ± 0.000000 in #114\n"
     ]
    },
    {
     "name": "stderr",
     "output_type": "stream",
     "text": [
      "Epoch #409: 1025it [00:03, 280.87it/s, env_step=418816, len=27, n/ep=3, n/st=64, player_1/loss=0.000, player_2/loss=0.000, rew=398.33]\n"
     ]
    },
    {
     "name": "stdout",
     "output_type": "stream",
     "text": [
      "Epoch #409: test_reward: 324.000000 ± 0.000000, best_reward: 932.000000 ± 0.000000 in #114\n"
     ]
    },
    {
     "name": "stderr",
     "output_type": "stream",
     "text": [
      "Epoch #410: 1025it [00:03, 262.66it/s, env_step=419840, len=16, n/ep=3, n/st=64, player_1/loss=0.000, player_2/loss=0.000, rew=175.00]\n"
     ]
    },
    {
     "name": "stdout",
     "output_type": "stream",
     "text": [
      "Epoch #410: test_reward: 170.000000 ± 0.000000, best_reward: 932.000000 ± 0.000000 in #114\n"
     ]
    },
    {
     "name": "stderr",
     "output_type": "stream",
     "text": [
      "Epoch #411: 1025it [00:04, 252.48it/s, env_step=420864, len=16, n/ep=4, n/st=64, player_1/loss=0.000, player_2/loss=0.000, rew=168.50]\n"
     ]
    },
    {
     "name": "stdout",
     "output_type": "stream",
     "text": [
      "Epoch #411: test_reward: 464.000000 ± 0.000000, best_reward: 932.000000 ± 0.000000 in #114\n"
     ]
    },
    {
     "name": "stderr",
     "output_type": "stream",
     "text": [
      "Epoch #412: 1025it [00:03, 269.47it/s, env_step=421888, len=27, n/ep=2, n/st=64, player_1/loss=0.000, player_2/loss=0.000, rew=412.00]\n"
     ]
    },
    {
     "name": "stdout",
     "output_type": "stream",
     "text": [
      "Epoch #412: test_reward: 189.000000 ± 0.000000, best_reward: 932.000000 ± 0.000000 in #114\n"
     ]
    },
    {
     "name": "stderr",
     "output_type": "stream",
     "text": [
      "Epoch #413: 1025it [00:03, 285.61it/s, env_step=422912, len=23, n/ep=3, n/st=64, player_1/loss=0.000, player_2/loss=0.000, rew=294.00]\n"
     ]
    },
    {
     "name": "stdout",
     "output_type": "stream",
     "text": [
      "Epoch #413: test_reward: 560.000000 ± 0.000000, best_reward: 932.000000 ± 0.000000 in #114\n"
     ]
    },
    {
     "name": "stderr",
     "output_type": "stream",
     "text": [
      "Epoch #414: 1025it [00:03, 264.22it/s, env_step=423936, len=17, n/ep=3, n/st=64, player_1/loss=0.000, player_2/loss=0.000, rew=180.67]\n"
     ]
    },
    {
     "name": "stdout",
     "output_type": "stream",
     "text": [
      "Epoch #414: test_reward: 44.000000 ± 0.000000, best_reward: 932.000000 ± 0.000000 in #114\n"
     ]
    },
    {
     "name": "stderr",
     "output_type": "stream",
     "text": [
      "Epoch #415: 1025it [00:04, 256.03it/s, env_step=424960, len=20, n/ep=3, n/st=64, player_1/loss=0.000, player_2/loss=0.000, rew=229.67]\n"
     ]
    },
    {
     "name": "stdout",
     "output_type": "stream",
     "text": [
      "Epoch #415: test_reward: 275.000000 ± 0.000000, best_reward: 932.000000 ± 0.000000 in #114\n"
     ]
    },
    {
     "name": "stderr",
     "output_type": "stream",
     "text": [
      "Epoch #416: 1025it [00:04, 252.03it/s, env_step=425984, len=20, n/ep=3, n/st=64, player_1/loss=0.000, player_2/loss=0.000, rew=221.67]\n"
     ]
    },
    {
     "name": "stdout",
     "output_type": "stream",
     "text": [
      "Epoch #416: test_reward: 189.000000 ± 0.000000, best_reward: 932.000000 ± 0.000000 in #114\n"
     ]
    },
    {
     "name": "stderr",
     "output_type": "stream",
     "text": [
      "Epoch #417: 1025it [00:03, 257.36it/s, env_step=427008, len=16, n/ep=4, n/st=64, player_1/loss=0.000, player_2/loss=0.000, rew=138.25]\n"
     ]
    },
    {
     "name": "stdout",
     "output_type": "stream",
     "text": [
      "Epoch #417: test_reward: 209.000000 ± 0.000000, best_reward: 932.000000 ± 0.000000 in #114\n"
     ]
    },
    {
     "name": "stderr",
     "output_type": "stream",
     "text": [
      "Epoch #418: 1025it [00:03, 272.73it/s, env_step=428032, len=17, n/ep=4, n/st=64, player_1/loss=0.000, player_2/loss=0.000, rew=171.00]\n"
     ]
    },
    {
     "name": "stdout",
     "output_type": "stream",
     "text": [
      "Epoch #418: test_reward: 90.000000 ± 0.000000, best_reward: 932.000000 ± 0.000000 in #114\n"
     ]
    },
    {
     "name": "stderr",
     "output_type": "stream",
     "text": [
      "Epoch #419: 1025it [00:03, 262.15it/s, env_step=429056, len=23, n/ep=2, n/st=64, player_1/loss=0.000, player_2/loss=0.000, rew=287.50]\n"
     ]
    },
    {
     "name": "stdout",
     "output_type": "stream",
     "text": [
      "Epoch #419: test_reward: 77.000000 ± 0.000000, best_reward: 932.000000 ± 0.000000 in #114\n"
     ]
    },
    {
     "name": "stderr",
     "output_type": "stream",
     "text": [
      "Epoch #420: 1025it [00:03, 275.96it/s, env_step=430080, len=18, n/ep=3, n/st=64, player_1/loss=0.000, player_2/loss=0.000, rew=196.33]\n"
     ]
    },
    {
     "name": "stdout",
     "output_type": "stream",
     "text": [
      "Epoch #420: test_reward: 275.000000 ± 0.000000, best_reward: 932.000000 ± 0.000000 in #114\n"
     ]
    },
    {
     "name": "stderr",
     "output_type": "stream",
     "text": [
      "Epoch #421: 1025it [00:03, 286.28it/s, env_step=431104, len=15, n/ep=3, n/st=64, player_1/loss=0.000, player_2/loss=0.000, rew=134.33]\n"
     ]
    },
    {
     "name": "stdout",
     "output_type": "stream",
     "text": [
      "Epoch #421: test_reward: 119.000000 ± 0.000000, best_reward: 932.000000 ± 0.000000 in #114\n"
     ]
    },
    {
     "name": "stderr",
     "output_type": "stream",
     "text": [
      "Epoch #422: 1025it [00:03, 286.55it/s, env_step=432128, len=17, n/ep=4, n/st=64, player_1/loss=0.000, player_2/loss=0.000, rew=181.00]\n"
     ]
    },
    {
     "name": "stdout",
     "output_type": "stream",
     "text": [
      "Epoch #422: test_reward: 152.000000 ± 0.000000, best_reward: 932.000000 ± 0.000000 in #114\n"
     ]
    },
    {
     "name": "stderr",
     "output_type": "stream",
     "text": [
      "Epoch #423: 1025it [00:03, 285.20it/s, env_step=433152, len=24, n/ep=3, n/st=64, player_1/loss=0.000, player_2/loss=0.000, rew=301.33]\n"
     ]
    },
    {
     "name": "stdout",
     "output_type": "stream",
     "text": [
      "Epoch #423: test_reward: 65.000000 ± 0.000000, best_reward: 932.000000 ± 0.000000 in #114\n"
     ]
    },
    {
     "name": "stderr",
     "output_type": "stream",
     "text": [
      "Epoch #424: 1025it [00:03, 285.02it/s, env_step=434176, len=22, n/ep=3, n/st=64, player_1/loss=0.000, player_2/loss=0.000, rew=279.33]\n"
     ]
    },
    {
     "name": "stdout",
     "output_type": "stream",
     "text": [
      "Epoch #424: test_reward: 170.000000 ± 0.000000, best_reward: 932.000000 ± 0.000000 in #114\n"
     ]
    },
    {
     "name": "stderr",
     "output_type": "stream",
     "text": [
      "Epoch #425: 1025it [00:03, 283.49it/s, env_step=435200, len=19, n/ep=3, n/st=64, player_1/loss=0.000, player_2/loss=0.000, rew=226.33]\n"
     ]
    },
    {
     "name": "stdout",
     "output_type": "stream",
     "text": [
      "Epoch #425: test_reward: 324.000000 ± 0.000000, best_reward: 932.000000 ± 0.000000 in #114\n"
     ]
    },
    {
     "name": "stderr",
     "output_type": "stream",
     "text": [
      "Epoch #426: 1025it [00:03, 284.41it/s, env_step=436224, len=13, n/ep=3, n/st=64, player_1/loss=0.000, player_2/loss=0.000, rew=91.33]\n"
     ]
    },
    {
     "name": "stdout",
     "output_type": "stream",
     "text": [
      "Epoch #426: test_reward: 275.000000 ± 0.000000, best_reward: 932.000000 ± 0.000000 in #114\n"
     ]
    },
    {
     "name": "stderr",
     "output_type": "stream",
     "text": [
      "Epoch #427: 1025it [00:03, 285.71it/s, env_step=437248, len=17, n/ep=4, n/st=64, player_1/loss=0.000, player_2/loss=0.000, rew=167.25]\n"
     ]
    },
    {
     "name": "stdout",
     "output_type": "stream",
     "text": [
      "Epoch #427: test_reward: 560.000000 ± 0.000000, best_reward: 932.000000 ± 0.000000 in #114\n"
     ]
    },
    {
     "name": "stderr",
     "output_type": "stream",
     "text": [
      "Epoch #428: 1025it [00:03, 284.99it/s, env_step=438272, len=25, n/ep=3, n/st=64, player_1/loss=0.000, player_2/loss=0.000, rew=407.00]\n"
     ]
    },
    {
     "name": "stdout",
     "output_type": "stream",
     "text": [
      "Epoch #428: test_reward: 324.000000 ± 0.000000, best_reward: 932.000000 ± 0.000000 in #114\n"
     ]
    },
    {
     "name": "stderr",
     "output_type": "stream",
     "text": [
      "Epoch #429: 1025it [00:03, 285.88it/s, env_step=439296, len=21, n/ep=2, n/st=64, player_1/loss=0.000, player_2/loss=0.000, rew=256.00]\n"
     ]
    },
    {
     "name": "stdout",
     "output_type": "stream",
     "text": [
      "Epoch #429: test_reward: 350.000000 ± 0.000000, best_reward: 932.000000 ± 0.000000 in #114\n"
     ]
    },
    {
     "name": "stderr",
     "output_type": "stream",
     "text": [
      "Epoch #430: 1025it [00:03, 285.70it/s, env_step=440320, len=23, n/ep=2, n/st=64, player_1/loss=0.000, player_2/loss=0.000, rew=299.50]\n"
     ]
    },
    {
     "name": "stdout",
     "output_type": "stream",
     "text": [
      "Epoch #430: test_reward: 299.000000 ± 0.000000, best_reward: 932.000000 ± 0.000000 in #114\n"
     ]
    },
    {
     "name": "stderr",
     "output_type": "stream",
     "text": [
      "Epoch #431: 1025it [00:03, 283.85it/s, env_step=441344, len=23, n/ep=3, n/st=64, player_1/loss=0.000, player_2/loss=0.000, rew=338.00]\n"
     ]
    },
    {
     "name": "stdout",
     "output_type": "stream",
     "text": [
      "Epoch #431: test_reward: 324.000000 ± 0.000000, best_reward: 932.000000 ± 0.000000 in #114\n"
     ]
    },
    {
     "name": "stderr",
     "output_type": "stream",
     "text": [
      "Epoch #432: 1025it [00:03, 284.92it/s, env_step=442368, len=15, n/ep=3, n/st=64, player_1/loss=0.000, player_2/loss=0.000, rew=126.00]\n"
     ]
    },
    {
     "name": "stdout",
     "output_type": "stream",
     "text": [
      "Epoch #432: test_reward: 230.000000 ± 0.000000, best_reward: 932.000000 ± 0.000000 in #114\n"
     ]
    },
    {
     "name": "stderr",
     "output_type": "stream",
     "text": [
      "Epoch #433: 1025it [00:03, 285.50it/s, env_step=443392, len=19, n/ep=3, n/st=64, player_1/loss=0.000, player_2/loss=0.000, rew=222.33]\n"
     ]
    },
    {
     "name": "stdout",
     "output_type": "stream",
     "text": [
      "Epoch #433: test_reward: 77.000000 ± 0.000000, best_reward: 932.000000 ± 0.000000 in #114\n"
     ]
    },
    {
     "name": "stderr",
     "output_type": "stream",
     "text": [
      "Epoch #434: 1025it [00:03, 283.85it/s, env_step=444416, len=22, n/ep=3, n/st=64, player_1/loss=0.000, player_2/loss=0.000, rew=281.00]\n"
     ]
    },
    {
     "name": "stdout",
     "output_type": "stream",
     "text": [
      "Epoch #434: test_reward: 230.000000 ± 0.000000, best_reward: 932.000000 ± 0.000000 in #114\n"
     ]
    },
    {
     "name": "stderr",
     "output_type": "stream",
     "text": [
      "Epoch #435: 1025it [00:03, 286.17it/s, env_step=445440, len=18, n/ep=3, n/st=64, player_1/loss=0.000, player_2/loss=0.000, rew=179.00]\n"
     ]
    },
    {
     "name": "stdout",
     "output_type": "stream",
     "text": [
      "Epoch #435: test_reward: 152.000000 ± 0.000000, best_reward: 932.000000 ± 0.000000 in #114\n"
     ]
    },
    {
     "name": "stderr",
     "output_type": "stream",
     "text": [
      "Epoch #436: 1025it [00:03, 285.63it/s, env_step=446464, len=18, n/ep=3, n/st=64, player_1/loss=0.000, player_2/loss=0.000, rew=185.33]\n"
     ]
    },
    {
     "name": "stdout",
     "output_type": "stream",
     "text": [
      "Epoch #436: test_reward: 209.000000 ± 0.000000, best_reward: 932.000000 ± 0.000000 in #114\n"
     ]
    },
    {
     "name": "stderr",
     "output_type": "stream",
     "text": [
      "Epoch #437: 1025it [00:03, 285.00it/s, env_step=447488, len=14, n/ep=3, n/st=64, player_1/loss=0.000, player_2/loss=0.000, rew=124.33]\n"
     ]
    },
    {
     "name": "stdout",
     "output_type": "stream",
     "text": [
      "Epoch #437: test_reward: 189.000000 ± 0.000000, best_reward: 932.000000 ± 0.000000 in #114\n"
     ]
    },
    {
     "name": "stderr",
     "output_type": "stream",
     "text": [
      "Epoch #438: 1025it [00:03, 284.24it/s, env_step=448512, len=16, n/ep=2, n/st=64, player_1/loss=0.000, player_2/loss=0.000, rew=137.00]\n"
     ]
    },
    {
     "name": "stdout",
     "output_type": "stream",
     "text": [
      "Epoch #438: test_reward: 77.000000 ± 0.000000, best_reward: 932.000000 ± 0.000000 in #114\n"
     ]
    },
    {
     "name": "stderr",
     "output_type": "stream",
     "text": [
      "Epoch #439: 1025it [00:03, 286.16it/s, env_step=449536, len=22, n/ep=3, n/st=64, player_1/loss=0.000, player_2/loss=0.000, rew=269.67]\n"
     ]
    },
    {
     "name": "stdout",
     "output_type": "stream",
     "text": [
      "Epoch #439: test_reward: 119.000000 ± 0.000000, best_reward: 932.000000 ± 0.000000 in #114\n"
     ]
    },
    {
     "name": "stderr",
     "output_type": "stream",
     "text": [
      "Epoch #440: 1025it [00:03, 285.24it/s, env_step=450560, len=22, n/ep=3, n/st=64, player_1/loss=0.000, player_2/loss=0.000, rew=266.33]\n"
     ]
    },
    {
     "name": "stdout",
     "output_type": "stream",
     "text": [
      "Epoch #440: test_reward: 902.000000 ± 0.000000, best_reward: 932.000000 ± 0.000000 in #114\n"
     ]
    },
    {
     "name": "stderr",
     "output_type": "stream",
     "text": [
      "Epoch #441: 1025it [00:03, 285.11it/s, env_step=451584, len=22, n/ep=3, n/st=64, player_1/loss=0.000, player_2/loss=0.000, rew=301.00]\n"
     ]
    },
    {
     "name": "stdout",
     "output_type": "stream",
     "text": [
      "Epoch #441: test_reward: 377.000000 ± 0.000000, best_reward: 932.000000 ± 0.000000 in #114\n"
     ]
    },
    {
     "name": "stderr",
     "output_type": "stream",
     "text": [
      "Epoch #442: 1025it [00:03, 286.99it/s, env_step=452608, len=20, n/ep=3, n/st=64, player_1/loss=0.000, player_2/loss=0.000, rew=230.33]\n"
     ]
    },
    {
     "name": "stdout",
     "output_type": "stream",
     "text": [
      "Epoch #442: test_reward: 77.000000 ± 0.000000, best_reward: 932.000000 ± 0.000000 in #114\n"
     ]
    },
    {
     "name": "stderr",
     "output_type": "stream",
     "text": [
      "Epoch #443: 1025it [00:03, 285.28it/s, env_step=453632, len=30, n/ep=2, n/st=64, player_1/loss=0.000, player_2/loss=0.000, rew=500.50]\n"
     ]
    },
    {
     "name": "stdout",
     "output_type": "stream",
     "text": [
      "Epoch #443: test_reward: 170.000000 ± 0.000000, best_reward: 932.000000 ± 0.000000 in #114\n"
     ]
    },
    {
     "name": "stderr",
     "output_type": "stream",
     "text": [
      "Epoch #444: 1025it [00:03, 285.72it/s, env_step=454656, len=19, n/ep=2, n/st=64, player_1/loss=0.000, player_2/loss=0.000, rew=209.00]\n"
     ]
    },
    {
     "name": "stdout",
     "output_type": "stream",
     "text": [
      "Epoch #444: test_reward: 54.000000 ± 0.000000, best_reward: 932.000000 ± 0.000000 in #114\n"
     ]
    },
    {
     "name": "stderr",
     "output_type": "stream",
     "text": [
      "Epoch #445: 1025it [00:03, 287.18it/s, env_step=455680, len=16, n/ep=3, n/st=64, player_1/loss=0.000, player_2/loss=0.000, rew=157.00]\n"
     ]
    },
    {
     "name": "stdout",
     "output_type": "stream",
     "text": [
      "Epoch #445: test_reward: 230.000000 ± 0.000000, best_reward: 932.000000 ± 0.000000 in #114\n"
     ]
    },
    {
     "name": "stderr",
     "output_type": "stream",
     "text": [
      "Epoch #446: 1025it [00:03, 284.78it/s, env_step=456704, len=16, n/ep=3, n/st=64, player_1/loss=0.000, player_2/loss=0.000, rew=137.33]\n"
     ]
    },
    {
     "name": "stdout",
     "output_type": "stream",
     "text": [
      "Epoch #446: test_reward: 230.000000 ± 0.000000, best_reward: 932.000000 ± 0.000000 in #114\n"
     ]
    },
    {
     "name": "stderr",
     "output_type": "stream",
     "text": [
      "Epoch #447: 1025it [00:03, 286.46it/s, env_step=457728, len=19, n/ep=3, n/st=64, player_1/loss=0.000, player_2/loss=0.000, rew=223.67]\n"
     ]
    },
    {
     "name": "stdout",
     "output_type": "stream",
     "text": [
      "Epoch #447: test_reward: 119.000000 ± 0.000000, best_reward: 932.000000 ± 0.000000 in #114\n"
     ]
    },
    {
     "name": "stderr",
     "output_type": "stream",
     "text": [
      "Epoch #448: 1025it [00:03, 285.81it/s, env_step=458752, len=21, n/ep=3, n/st=64, player_1/loss=0.000, player_2/loss=0.000, rew=250.00]\n"
     ]
    },
    {
     "name": "stdout",
     "output_type": "stream",
     "text": [
      "Epoch #448: test_reward: 702.000000 ± 0.000000, best_reward: 932.000000 ± 0.000000 in #114\n"
     ]
    },
    {
     "name": "stderr",
     "output_type": "stream",
     "text": [
      "Epoch #449: 1025it [00:03, 285.59it/s, env_step=459776, len=26, n/ep=3, n/st=64, player_1/loss=0.000, player_2/loss=0.000, rew=363.00]\n"
     ]
    },
    {
     "name": "stdout",
     "output_type": "stream",
     "text": [
      "Epoch #449: test_reward: 350.000000 ± 0.000000, best_reward: 932.000000 ± 0.000000 in #114\n"
     ]
    },
    {
     "name": "stderr",
     "output_type": "stream",
     "text": [
      "Epoch #450: 1025it [00:03, 285.74it/s, env_step=460800, len=19, n/ep=4, n/st=64, player_1/loss=0.000, player_2/loss=0.000, rew=217.00]\n"
     ]
    },
    {
     "name": "stdout",
     "output_type": "stream",
     "text": [
      "Epoch #450: test_reward: 170.000000 ± 0.000000, best_reward: 932.000000 ± 0.000000 in #114\n"
     ]
    },
    {
     "name": "stderr",
     "output_type": "stream",
     "text": [
      "Epoch #451: 1025it [00:03, 285.74it/s, env_step=461824, len=21, n/ep=3, n/st=64, player_1/loss=0.000, player_2/loss=0.000, rew=245.33]\n"
     ]
    },
    {
     "name": "stdout",
     "output_type": "stream",
     "text": [
      "Epoch #451: test_reward: 27.000000 ± 0.000000, best_reward: 932.000000 ± 0.000000 in #114\n"
     ]
    },
    {
     "name": "stderr",
     "output_type": "stream",
     "text": [
      "Epoch #452: 1025it [00:03, 283.13it/s, env_step=462848, len=24, n/ep=3, n/st=64, player_1/loss=0.000, player_2/loss=0.000, rew=320.00]\n"
     ]
    },
    {
     "name": "stdout",
     "output_type": "stream",
     "text": [
      "Epoch #452: test_reward: 299.000000 ± 0.000000, best_reward: 932.000000 ± 0.000000 in #114\n"
     ]
    },
    {
     "name": "stderr",
     "output_type": "stream",
     "text": [
      "Epoch #453: 1025it [00:03, 285.47it/s, env_step=463872, len=19, n/ep=3, n/st=64, player_1/loss=0.000, player_2/loss=0.000, rew=205.67]\n"
     ]
    },
    {
     "name": "stdout",
     "output_type": "stream",
     "text": [
      "Epoch #453: test_reward: 350.000000 ± 0.000000, best_reward: 932.000000 ± 0.000000 in #114\n"
     ]
    },
    {
     "name": "stderr",
     "output_type": "stream",
     "text": [
      "Epoch #454: 1025it [00:03, 286.08it/s, env_step=464896, len=17, n/ep=5, n/st=64, player_1/loss=0.000, player_2/loss=0.000, rew=177.80]\n"
     ]
    },
    {
     "name": "stdout",
     "output_type": "stream",
     "text": [
      "Epoch #454: test_reward: 189.000000 ± 0.000000, best_reward: 932.000000 ± 0.000000 in #114\n"
     ]
    },
    {
     "name": "stderr",
     "output_type": "stream",
     "text": [
      "Epoch #455: 1025it [00:03, 285.34it/s, env_step=465920, len=17, n/ep=4, n/st=64, player_1/loss=0.000, player_2/loss=0.000, rew=165.75]\n"
     ]
    },
    {
     "name": "stdout",
     "output_type": "stream",
     "text": [
      "Epoch #455: test_reward: 324.000000 ± 0.000000, best_reward: 932.000000 ± 0.000000 in #114\n"
     ]
    },
    {
     "name": "stderr",
     "output_type": "stream",
     "text": [
      "Epoch #456: 1025it [00:03, 285.94it/s, env_step=466944, len=19, n/ep=3, n/st=64, player_1/loss=0.000, player_2/loss=0.000, rew=214.67]\n"
     ]
    },
    {
     "name": "stdout",
     "output_type": "stream",
     "text": [
      "Epoch #456: test_reward: 104.000000 ± 0.000000, best_reward: 932.000000 ± 0.000000 in #114\n"
     ]
    },
    {
     "name": "stderr",
     "output_type": "stream",
     "text": [
      "Epoch #457: 1025it [00:03, 286.71it/s, env_step=467968, len=20, n/ep=4, n/st=64, player_1/loss=0.000, player_2/loss=0.000, rew=245.25]\n"
     ]
    },
    {
     "name": "stdout",
     "output_type": "stream",
     "text": [
      "Epoch #457: test_reward: 35.000000 ± 0.000000, best_reward: 932.000000 ± 0.000000 in #114\n"
     ]
    },
    {
     "name": "stderr",
     "output_type": "stream",
     "text": [
      "Epoch #458: 1025it [00:03, 285.42it/s, env_step=468992, len=22, n/ep=2, n/st=64, player_1/loss=0.000, player_2/loss=0.000, rew=278.50]\n"
     ]
    },
    {
     "name": "stdout",
     "output_type": "stream",
     "text": [
      "Epoch #458: test_reward: 209.000000 ± 0.000000, best_reward: 932.000000 ± 0.000000 in #114\n"
     ]
    },
    {
     "name": "stderr",
     "output_type": "stream",
     "text": [
      "Epoch #459: 1025it [00:03, 285.76it/s, env_step=470016, len=27, n/ep=2, n/st=64, player_1/loss=0.000, player_2/loss=0.000, rew=397.00]\n"
     ]
    },
    {
     "name": "stdout",
     "output_type": "stream",
     "text": [
      "Epoch #459: test_reward: 230.000000 ± 0.000000, best_reward: 932.000000 ± 0.000000 in #114\n"
     ]
    },
    {
     "name": "stderr",
     "output_type": "stream",
     "text": [
      "Epoch #460: 1025it [00:03, 284.97it/s, env_step=471040, len=24, n/ep=2, n/st=64, player_1/loss=0.000, player_2/loss=0.000, rew=311.50]\n"
     ]
    },
    {
     "name": "stdout",
     "output_type": "stream",
     "text": [
      "Epoch #460: test_reward: 405.000000 ± 0.000000, best_reward: 932.000000 ± 0.000000 in #114\n"
     ]
    },
    {
     "name": "stderr",
     "output_type": "stream",
     "text": [
      "Epoch #461: 1025it [00:03, 282.86it/s, env_step=472064, len=16, n/ep=3, n/st=64, player_1/loss=0.000, player_2/loss=0.000, rew=157.67]\n"
     ]
    },
    {
     "name": "stdout",
     "output_type": "stream",
     "text": [
      "Epoch #461: test_reward: 324.000000 ± 0.000000, best_reward: 932.000000 ± 0.000000 in #114\n"
     ]
    },
    {
     "name": "stderr",
     "output_type": "stream",
     "text": [
      "Epoch #462: 1025it [00:03, 285.97it/s, env_step=473088, len=22, n/ep=3, n/st=64, player_1/loss=0.000, player_2/loss=0.000, rew=280.67]\n"
     ]
    },
    {
     "name": "stdout",
     "output_type": "stream",
     "text": [
      "Epoch #462: test_reward: 299.000000 ± 0.000000, best_reward: 932.000000 ± 0.000000 in #114\n"
     ]
    },
    {
     "name": "stderr",
     "output_type": "stream",
     "text": [
      "Epoch #463: 1025it [00:03, 284.81it/s, env_step=474112, len=24, n/ep=2, n/st=64, player_1/loss=0.000, player_2/loss=0.000, rew=326.50]\n"
     ]
    },
    {
     "name": "stdout",
     "output_type": "stream",
     "text": [
      "Epoch #463: test_reward: 170.000000 ± 0.000000, best_reward: 932.000000 ± 0.000000 in #114\n"
     ]
    },
    {
     "name": "stderr",
     "output_type": "stream",
     "text": [
      "Epoch #464: 1025it [00:03, 284.01it/s, env_step=475136, len=18, n/ep=3, n/st=64, player_1/loss=0.000, player_2/loss=0.000, rew=195.00]\n"
     ]
    },
    {
     "name": "stdout",
     "output_type": "stream",
     "text": [
      "Epoch #464: test_reward: 230.000000 ± 0.000000, best_reward: 932.000000 ± 0.000000 in #114\n"
     ]
    },
    {
     "name": "stderr",
     "output_type": "stream",
     "text": [
      "Epoch #465: 1025it [00:03, 286.19it/s, env_step=476160, len=26, n/ep=2, n/st=64, player_1/loss=0.000, player_2/loss=0.000, rew=391.50]\n"
     ]
    },
    {
     "name": "stdout",
     "output_type": "stream",
     "text": [
      "Epoch #465: test_reward: 324.000000 ± 0.000000, best_reward: 932.000000 ± 0.000000 in #114\n"
     ]
    },
    {
     "name": "stderr",
     "output_type": "stream",
     "text": [
      "Epoch #466: 1025it [00:03, 284.91it/s, env_step=477184, len=21, n/ep=3, n/st=64, player_1/loss=0.000, player_2/loss=0.000, rew=251.00]\n"
     ]
    },
    {
     "name": "stdout",
     "output_type": "stream",
     "text": [
      "Epoch #466: test_reward: 27.000000 ± 0.000000, best_reward: 932.000000 ± 0.000000 in #114\n"
     ]
    },
    {
     "name": "stderr",
     "output_type": "stream",
     "text": [
      "Epoch #467: 1025it [00:03, 284.80it/s, env_step=478208, len=21, n/ep=4, n/st=64, player_1/loss=0.000, player_2/loss=0.000, rew=252.00]\n"
     ]
    },
    {
     "name": "stdout",
     "output_type": "stream",
     "text": [
      "Epoch #467: test_reward: 104.000000 ± 0.000000, best_reward: 932.000000 ± 0.000000 in #114\n"
     ]
    },
    {
     "name": "stderr",
     "output_type": "stream",
     "text": [
      "Epoch #468: 1025it [00:03, 285.34it/s, env_step=479232, len=22, n/ep=3, n/st=64, player_1/loss=0.000, player_2/loss=0.000, rew=264.00]\n"
     ]
    },
    {
     "name": "stdout",
     "output_type": "stream",
     "text": [
      "Epoch #468: test_reward: 560.000000 ± 0.000000, best_reward: 932.000000 ± 0.000000 in #114\n"
     ]
    },
    {
     "name": "stderr",
     "output_type": "stream",
     "text": [
      "Epoch #469: 1025it [00:03, 283.88it/s, env_step=480256, len=21, n/ep=3, n/st=64, player_1/loss=0.000, player_2/loss=0.000, rew=260.00]\n"
     ]
    },
    {
     "name": "stdout",
     "output_type": "stream",
     "text": [
      "Epoch #469: test_reward: 152.000000 ± 0.000000, best_reward: 932.000000 ± 0.000000 in #114\n"
     ]
    },
    {
     "name": "stderr",
     "output_type": "stream",
     "text": [
      "Epoch #470: 1025it [00:03, 284.71it/s, env_step=481280, len=18, n/ep=3, n/st=64, player_1/loss=0.000, player_2/loss=0.000, rew=187.33]\n"
     ]
    },
    {
     "name": "stdout",
     "output_type": "stream",
     "text": [
      "Epoch #470: test_reward: 495.000000 ± 0.000000, best_reward: 932.000000 ± 0.000000 in #114\n"
     ]
    },
    {
     "name": "stderr",
     "output_type": "stream",
     "text": [
      "Epoch #471: 1025it [00:03, 284.88it/s, env_step=482304, len=27, n/ep=2, n/st=64, player_1/loss=0.000, player_2/loss=0.000, rew=406.00]\n"
     ]
    },
    {
     "name": "stdout",
     "output_type": "stream",
     "text": [
      "Epoch #471: test_reward: 189.000000 ± 0.000000, best_reward: 932.000000 ± 0.000000 in #114\n"
     ]
    },
    {
     "name": "stderr",
     "output_type": "stream",
     "text": [
      "Epoch #472: 1025it [00:03, 286.21it/s, env_step=483328, len=22, n/ep=3, n/st=64, player_1/loss=0.000, player_2/loss=0.000, rew=290.67]\n"
     ]
    },
    {
     "name": "stdout",
     "output_type": "stream",
     "text": [
      "Epoch #472: test_reward: 90.000000 ± 0.000000, best_reward: 932.000000 ± 0.000000 in #114\n"
     ]
    },
    {
     "name": "stderr",
     "output_type": "stream",
     "text": [
      "Epoch #473: 1025it [00:03, 285.87it/s, env_step=484352, len=25, n/ep=2, n/st=64, player_1/loss=0.000, player_2/loss=0.000, rew=374.00]\n"
     ]
    },
    {
     "name": "stdout",
     "output_type": "stream",
     "text": [
      "Epoch #473: test_reward: 27.000000 ± 0.000000, best_reward: 932.000000 ± 0.000000 in #114\n"
     ]
    },
    {
     "name": "stderr",
     "output_type": "stream",
     "text": [
      "Epoch #474: 1025it [00:03, 284.95it/s, env_step=485376, len=20, n/ep=4, n/st=64, player_1/loss=0.000, player_2/loss=0.000, rew=258.50]\n"
     ]
    },
    {
     "name": "stdout",
     "output_type": "stream",
     "text": [
      "Epoch #474: test_reward: 104.000000 ± 0.000000, best_reward: 932.000000 ± 0.000000 in #114\n"
     ]
    },
    {
     "name": "stderr",
     "output_type": "stream",
     "text": [
      "Epoch #475: 1025it [00:03, 285.98it/s, env_step=486400, len=21, n/ep=3, n/st=64, player_1/loss=0.000, player_2/loss=0.000, rew=243.00]\n"
     ]
    },
    {
     "name": "stdout",
     "output_type": "stream",
     "text": [
      "Epoch #475: test_reward: 252.000000 ± 0.000000, best_reward: 932.000000 ± 0.000000 in #114\n"
     ]
    },
    {
     "name": "stderr",
     "output_type": "stream",
     "text": [
      "Epoch #476: 1025it [00:03, 284.44it/s, env_step=487424, len=17, n/ep=4, n/st=64, player_1/loss=0.000, player_2/loss=0.000, rew=158.25]\n"
     ]
    },
    {
     "name": "stdout",
     "output_type": "stream",
     "text": [
      "Epoch #476: test_reward: 299.000000 ± 0.000000, best_reward: 932.000000 ± 0.000000 in #114\n"
     ]
    },
    {
     "name": "stderr",
     "output_type": "stream",
     "text": [
      "Epoch #477: 1025it [00:03, 284.90it/s, env_step=488448, len=23, n/ep=2, n/st=64, player_1/loss=0.000, player_2/loss=0.000, rew=297.00]\n"
     ]
    },
    {
     "name": "stdout",
     "output_type": "stream",
     "text": [
      "Epoch #477: test_reward: 434.000000 ± 0.000000, best_reward: 932.000000 ± 0.000000 in #114\n"
     ]
    },
    {
     "name": "stderr",
     "output_type": "stream",
     "text": [
      "Epoch #478: 1025it [00:03, 284.81it/s, env_step=489472, len=19, n/ep=3, n/st=64, player_1/loss=0.000, player_2/loss=0.000, rew=222.33]\n"
     ]
    },
    {
     "name": "stdout",
     "output_type": "stream",
     "text": [
      "Epoch #478: test_reward: 54.000000 ± 0.000000, best_reward: 932.000000 ± 0.000000 in #114\n"
     ]
    },
    {
     "name": "stderr",
     "output_type": "stream",
     "text": [
      "Epoch #479: 1025it [00:03, 285.49it/s, env_step=490496, len=14, n/ep=4, n/st=64, player_1/loss=0.000, player_2/loss=0.000, rew=118.25]\n"
     ]
    },
    {
     "name": "stdout",
     "output_type": "stream",
     "text": [
      "Epoch #479: test_reward: 152.000000 ± 0.000000, best_reward: 932.000000 ± 0.000000 in #114\n"
     ]
    },
    {
     "name": "stderr",
     "output_type": "stream",
     "text": [
      "Epoch #480: 1025it [00:03, 284.75it/s, env_step=491520, len=24, n/ep=3, n/st=64, player_1/loss=0.000, player_2/loss=0.000, rew=318.67]\n"
     ]
    },
    {
     "name": "stdout",
     "output_type": "stream",
     "text": [
      "Epoch #480: test_reward: 135.000000 ± 0.000000, best_reward: 932.000000 ± 0.000000 in #114\n"
     ]
    },
    {
     "name": "stderr",
     "output_type": "stream",
     "text": [
      "Epoch #481: 1025it [00:03, 285.71it/s, env_step=492544, len=21, n/ep=3, n/st=64, player_1/loss=0.000, player_2/loss=0.000, rew=243.00]\n"
     ]
    },
    {
     "name": "stdout",
     "output_type": "stream",
     "text": [
      "Epoch #481: test_reward: 170.000000 ± 0.000000, best_reward: 932.000000 ± 0.000000 in #114\n"
     ]
    },
    {
     "name": "stderr",
     "output_type": "stream",
     "text": [
      "Epoch #482: 1025it [00:03, 286.88it/s, env_step=493568, len=19, n/ep=3, n/st=64, player_1/loss=0.000, player_2/loss=0.000, rew=233.33]\n"
     ]
    },
    {
     "name": "stdout",
     "output_type": "stream",
     "text": [
      "Epoch #482: test_reward: 189.000000 ± 0.000000, best_reward: 932.000000 ± 0.000000 in #114\n"
     ]
    },
    {
     "name": "stderr",
     "output_type": "stream",
     "text": [
      "Epoch #483: 1025it [00:03, 284.24it/s, env_step=494592, len=17, n/ep=3, n/st=64, player_1/loss=0.000, player_2/loss=0.000, rew=162.67]\n"
     ]
    },
    {
     "name": "stdout",
     "output_type": "stream",
     "text": [
      "Epoch #483: test_reward: 90.000000 ± 0.000000, best_reward: 932.000000 ± 0.000000 in #114\n"
     ]
    },
    {
     "name": "stderr",
     "output_type": "stream",
     "text": [
      "Epoch #484: 1025it [00:03, 284.94it/s, env_step=495616, len=14, n/ep=4, n/st=64, player_1/loss=0.000, player_2/loss=0.000, rew=115.00]\n"
     ]
    },
    {
     "name": "stdout",
     "output_type": "stream",
     "text": [
      "Epoch #484: test_reward: 90.000000 ± 0.000000, best_reward: 932.000000 ± 0.000000 in #114\n"
     ]
    },
    {
     "name": "stderr",
     "output_type": "stream",
     "text": [
      "Epoch #485: 1025it [00:03, 281.61it/s, env_step=496640, len=38, n/ep=2, n/st=64, player_1/loss=0.000, player_2/loss=0.000, rew=763.00]\n"
     ]
    },
    {
     "name": "stdout",
     "output_type": "stream",
     "text": [
      "Epoch #485: test_reward: 932.000000 ± 0.000000, best_reward: 932.000000 ± 0.000000 in #114\n"
     ]
    },
    {
     "name": "stderr",
     "output_type": "stream",
     "text": [
      "Epoch #486: 1025it [00:03, 283.86it/s, env_step=497664, len=21, n/ep=3, n/st=64, player_1/loss=0.000, player_2/loss=0.000, rew=240.33]\n"
     ]
    },
    {
     "name": "stdout",
     "output_type": "stream",
     "text": [
      "Epoch #486: test_reward: 90.000000 ± 0.000000, best_reward: 932.000000 ± 0.000000 in #114\n"
     ]
    },
    {
     "name": "stderr",
     "output_type": "stream",
     "text": [
      "Epoch #487: 1025it [00:03, 285.88it/s, env_step=498688, len=28, n/ep=2, n/st=64, player_1/loss=0.000, player_2/loss=0.000, rew=420.50]\n"
     ]
    },
    {
     "name": "stdout",
     "output_type": "stream",
     "text": [
      "Epoch #487: test_reward: 44.000000 ± 0.000000, best_reward: 932.000000 ± 0.000000 in #114\n"
     ]
    },
    {
     "name": "stderr",
     "output_type": "stream",
     "text": [
      "Epoch #488: 1025it [00:03, 285.92it/s, env_step=499712, len=16, n/ep=5, n/st=64, player_1/loss=0.000, player_2/loss=0.000, rew=153.20]\n"
     ]
    },
    {
     "name": "stdout",
     "output_type": "stream",
     "text": [
      "Epoch #488: test_reward: 104.000000 ± 0.000000, best_reward: 932.000000 ± 0.000000 in #114\n"
     ]
    },
    {
     "name": "stderr",
     "output_type": "stream",
     "text": [
      "Epoch #489: 1025it [00:03, 282.38it/s, env_step=500736, len=21, n/ep=3, n/st=64, player_1/loss=0.000, player_2/loss=0.000, rew=245.33]\n"
     ]
    },
    {
     "name": "stdout",
     "output_type": "stream",
     "text": [
      "Epoch #489: test_reward: 299.000000 ± 0.000000, best_reward: 932.000000 ± 0.000000 in #114\n"
     ]
    },
    {
     "name": "stderr",
     "output_type": "stream",
     "text": [
      "Epoch #490: 1025it [00:03, 284.53it/s, env_step=501760, len=17, n/ep=3, n/st=64, player_1/loss=0.000, player_2/loss=0.000, rew=159.00]\n"
     ]
    },
    {
     "name": "stdout",
     "output_type": "stream",
     "text": [
      "Epoch #490: test_reward: 189.000000 ± 0.000000, best_reward: 932.000000 ± 0.000000 in #114\n"
     ]
    },
    {
     "name": "stderr",
     "output_type": "stream",
     "text": [
      "Epoch #491: 1025it [00:03, 284.36it/s, env_step=502784, len=24, n/ep=3, n/st=64, player_1/loss=0.000, player_2/loss=0.000, rew=372.67]\n"
     ]
    },
    {
     "name": "stdout",
     "output_type": "stream",
     "text": [
      "Epoch #491: test_reward: 90.000000 ± 0.000000, best_reward: 932.000000 ± 0.000000 in #114\n"
     ]
    },
    {
     "name": "stderr",
     "output_type": "stream",
     "text": [
      "Epoch #492: 1025it [00:03, 285.34it/s, env_step=503808, len=17, n/ep=4, n/st=64, player_1/loss=0.000, player_2/loss=0.000, rew=196.25]\n"
     ]
    },
    {
     "name": "stdout",
     "output_type": "stream",
     "text": [
      "Epoch #492: test_reward: 135.000000 ± 0.000000, best_reward: 932.000000 ± 0.000000 in #114\n"
     ]
    },
    {
     "name": "stderr",
     "output_type": "stream",
     "text": [
      "Epoch #493: 1025it [00:03, 284.79it/s, env_step=504832, len=26, n/ep=3, n/st=64, player_1/loss=0.000, player_2/loss=0.000, rew=389.00]\n"
     ]
    },
    {
     "name": "stdout",
     "output_type": "stream",
     "text": [
      "Epoch #493: test_reward: 90.000000 ± 0.000000, best_reward: 932.000000 ± 0.000000 in #114\n"
     ]
    },
    {
     "name": "stderr",
     "output_type": "stream",
     "text": [
      "Epoch #494: 1025it [00:03, 284.10it/s, env_step=505856, len=26, n/ep=3, n/st=64, player_1/loss=0.000, player_2/loss=0.000, rew=382.00]\n"
     ]
    },
    {
     "name": "stdout",
     "output_type": "stream",
     "text": [
      "Epoch #494: test_reward: 350.000000 ± 0.000000, best_reward: 932.000000 ± 0.000000 in #114\n"
     ]
    },
    {
     "name": "stderr",
     "output_type": "stream",
     "text": [
      "Epoch #495: 1025it [00:03, 285.29it/s, env_step=506880, len=18, n/ep=3, n/st=64, player_1/loss=0.000, player_2/loss=0.000, rew=188.00]\n"
     ]
    },
    {
     "name": "stdout",
     "output_type": "stream",
     "text": [
      "Epoch #495: test_reward: 65.000000 ± 0.000000, best_reward: 932.000000 ± 0.000000 in #114\n"
     ]
    },
    {
     "name": "stderr",
     "output_type": "stream",
     "text": [
      "Epoch #496: 1025it [00:03, 285.69it/s, env_step=507904, len=18, n/ep=3, n/st=64, player_1/loss=0.000, player_2/loss=0.000, rew=217.00]\n"
     ]
    },
    {
     "name": "stdout",
     "output_type": "stream",
     "text": [
      "Epoch #496: test_reward: 350.000000 ± 0.000000, best_reward: 932.000000 ± 0.000000 in #114\n"
     ]
    },
    {
     "name": "stderr",
     "output_type": "stream",
     "text": [
      "Epoch #497: 1025it [00:03, 283.98it/s, env_step=508928, len=25, n/ep=2, n/st=64, player_1/loss=0.000, player_2/loss=0.000, rew=348.50]\n"
     ]
    },
    {
     "name": "stdout",
     "output_type": "stream",
     "text": [
      "Epoch #497: test_reward: 377.000000 ± 0.000000, best_reward: 932.000000 ± 0.000000 in #114\n"
     ]
    },
    {
     "name": "stderr",
     "output_type": "stream",
     "text": [
      "Epoch #498: 1025it [00:03, 283.46it/s, env_step=509952, len=21, n/ep=3, n/st=64, player_1/loss=0.000, player_2/loss=0.000, rew=237.67]\n"
     ]
    },
    {
     "name": "stdout",
     "output_type": "stream",
     "text": [
      "Epoch #498: test_reward: 299.000000 ± 0.000000, best_reward: 932.000000 ± 0.000000 in #114\n"
     ]
    },
    {
     "name": "stderr",
     "output_type": "stream",
     "text": [
      "Epoch #499: 1025it [00:03, 281.99it/s, env_step=510976, len=21, n/ep=3, n/st=64, player_1/loss=0.000, player_2/loss=0.000, rew=250.33]"
     ]
    },
    {
     "name": "stdout",
     "output_type": "stream",
     "text": [
      "Epoch #499: test_reward: 170.000000 ± 0.000000, best_reward: 932.000000 ± 0.000000 in #114\n"
     ]
    },
    {
     "name": "stderr",
     "output_type": "stream",
     "text": [
      "\n"
     ]
    }
   ],
   "source": [
    "####################################################\n",
    "# EXPERIMENT: TRAINING AGENTS\n",
    "####################################################\n",
    "\n",
    "# Get the environment settings\n",
    "env = get_env()\n",
    "observation_space = env.observation_space['observation'] if isinstance(env.observation_space, gym.spaces.Dict) else env.observation_space\n",
    "state_shape = observation_space.shape or observation_space.n\n",
    "action_shape = env.action_space.shape or env.action_space.n\n",
    "\n",
    "# Configure the agents\n",
    "agent1 = rainbow_policy(state_shape= state_shape,\n",
    "                        action_shape= action_shape)\n",
    "\n",
    "\n",
    "agent2 = rainbow_policy(state_shape= state_shape,\n",
    "                        action_shape= action_shape)\n",
    "\n",
    "# Train the agent\n",
    "off_policy_traininer_results, final_agent_player1, final_agent_player2 = train_agent(epochs= 500,\n",
    "                                                                                     training_eps= 0.2)"
   ]
  },
  {
   "cell_type": "code",
   "execution_count": 13,
   "id": "8c8f3121",
   "metadata": {},
   "outputs": [
    {
     "name": "stdout",
     "output_type": "stream",
     "text": [
      "Average steps of game:  28.333333333333332\n",
      "Final mean reward agent 1: 247.33333333333334, std: 82.88278202109021\n",
      "Final mean reward agent 2: 183.66666666666666, std: 80.0222191366595\n"
     ]
    }
   ],
   "source": [
    "####################################################\n",
    "# EXPERIMENT: VIEWING THE BEST LEARNED POLICY\n",
    "####################################################\n",
    "\n",
    "# Get the environment settings\n",
    "env = get_env()\n",
    "observation_space = env.observation_space['observation'] if isinstance(env.observation_space, gym.spaces.Dict) else env.observation_space\n",
    "state_shape = observation_space.shape or observation_space.n\n",
    "action_shape = env.action_space.shape or env.action_space.n\n",
    "\n",
    "# Configure the best agent\n",
    "best_agent1 = rainbow_policy(state_shape= state_shape,\n",
    "                             action_shape= action_shape)\n",
    "best_agent1.load_state_dict(torch.load(\"./saved_variables/paper_notebooks/9/rainbow_vs_rainbow/best_policy_agent1.pth\"))\n",
    "best_agent1.set_eps(0)\n",
    "\n",
    "\n",
    "best_agent2 = rainbow_policy(state_shape= state_shape,\n",
    "                             action_shape= action_shape)\n",
    "best_agent2.load_state_dict(torch.load(\"./saved_variables/paper_notebooks/9/rainbow_vs_rainbow/best_policy_agent2.pth\"))\n",
    "best_agent2.set_eps(0)\n",
    "\n",
    "# Watch the best agent at work\n",
    "watch(numer_of_games= 3,\n",
    "      render_speed= 0.3,\n",
    "      agent_player1= best_agent1,\n",
    "      agent_player2= best_agent2)\n",
    "\n"
   ]
  },
  {
   "cell_type": "code",
   "execution_count": 14,
   "id": "c704acd8",
   "metadata": {},
   "outputs": [
    {
     "name": "stdout",
     "output_type": "stream",
     "text": [
      "Average steps of game:  19.666666666666668\n",
      "Final mean reward agent 1: 101.66666666666667, std: 64.9991452935259\n",
      "Final mean reward agent 2: 108.0, std: 17.682382946499793\n"
     ]
    }
   ],
   "source": [
    "####################################################\n",
    "# EXPERIMENT: VIEWING THE LAST LEARNED POLICY\n",
    "####################################################\n",
    "\n",
    "# Configure the final agent\n",
    "final_agent_player1 = rainbow_policy(state_shape= state_shape,\n",
    "                                     action_shape= action_shape)\n",
    "final_agent_player1.load_state_dict(torch.load(\"./saved_variables/paper_notebooks/9/rainbow_vs_rainbow/final_policy_agent1.pth\"))\n",
    "best_agent1.set_eps(0)\n",
    "\n",
    "final_agent_player2 = rainbow_policy(state_shape= state_shape,\n",
    "                                     action_shape= action_shape)\n",
    "final_agent_player2.load_state_dict(torch.load(\"./saved_variables/paper_notebooks/9/rainbow_vs_rainbow/final_policy_agent2.pth\"))\n",
    "best_agent2.set_eps(0)\n",
    "\n",
    "# Watch the best agent at work\n",
    "watch(numer_of_games= 3,\n",
    "      render_speed= 0.3,\n",
    "      agent_player1= final_agent_player1,\n",
    "      agent_player2= final_agent_player2)\n",
    "\n"
   ]
  },
  {
   "cell_type": "markdown",
   "id": "84478519",
   "metadata": {},
   "source": [
    "<hr><hr>\n",
    "\n",
    "## Discussion\n",
    "\n",
    "The performance of the rainbow algorithm is near identical to DQN."
   ]
  },
  {
   "cell_type": "code",
   "execution_count": null,
   "id": "3d9110be",
   "metadata": {},
   "outputs": [],
   "source": [
    "####################################################\n",
    "# CLEAN VARIABLES\n",
    "####################################################\n",
    "\n",
    "del action_shape\n",
    "del agent1\n",
    "del agent2\n",
    "del best_agent1\n",
    "del best_agent2\n",
    "del env\n",
    "del final_agent_player1\n",
    "del final_agent_player2\n",
    "del observation_space\n",
    "del off_policy_traininer_results\n",
    "del state_shape\n"
   ]
  },
  {
   "cell_type": "code",
   "execution_count": null,
   "id": "a74d3da3",
   "metadata": {},
   "outputs": [],
   "source": []
  }
 ],
 "metadata": {
  "interpreter": {
   "hash": "9b88c88564fefe7444548986d165ad8d7f764d0079ffa923785a3f5a89d52c74"
  },
  "kernelspec": {
   "display_name": "Python 3 (ipykernel)",
   "language": "python",
   "name": "python3"
  },
  "language_info": {
   "codemirror_mode": {
    "name": "ipython",
    "version": 3
   },
   "file_extension": ".py",
   "mimetype": "text/x-python",
   "name": "python",
   "nbconvert_exporter": "python",
   "pygments_lexer": "ipython3",
   "version": "3.8.10"
  }
 },
 "nbformat": 4,
 "nbformat_minor": 5
}
