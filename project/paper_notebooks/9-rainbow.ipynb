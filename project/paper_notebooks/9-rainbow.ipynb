{
 "cells": [
  {
   "cell_type": "markdown",
   "id": "337221df",
   "metadata": {},
   "source": [
    "# Using the Rainbow algorithm to learn connect four\n",
    "\n",
    "The previous notebooks all used Deep Q-Networks (DQN) to learn to play connect four and no real desired behaviour was obtained.\n",
    "Since rainbow by [Hessel et al](https://doi.org/10.48550/arXiv.1710.02298) is known to outperform DQN in both sample efficiency and overall performance for Atari games, we explore its performance on the connect four game as well. "
   ]
  },
  {
   "cell_type": "markdown",
   "id": "b5341c6d",
   "metadata": {},
   "source": [
    "<hr><hr>\n",
    "\n",
    "## Table of Contents\n",
    "\n",
    "- Contact information\n",
    "- Checking requirements\n",
    "  - Correct Anaconda environment\n",
    "  - Correct module access\n",
    "  - Correct CUDA access\n",
    "- Training two Rainbow agents on connect four Gym\n",
    "  - Building the environment\n",
    "  - Implementing the Rainbow policy\n",
    "  - Building agents\n",
    "  - Function for letting agents learn\n",
    "  - Function for watching learned agent\n",
    "  - Doing the experiment\n",
    "- Discussion"
   ]
  },
  {
   "cell_type": "markdown",
   "id": "292165d3",
   "metadata": {},
   "source": [
    "<hr><hr>\n",
    "\n",
    "## Contact information\n",
    "\n",
    "| Name             | Student ID | VUB mail                                                  | Personal mail                                               |\n",
    "| ---------------- | ---------- | --------------------------------------------------------- | ----------------------------------------------------------- |\n",
    "| Lennert Bontinck | 0568702    | [lennert.bontinck@vub.be](mailto:lennert.bontinck@vub.be) | [info@lennertbontinck.com](mailto:info@lennertbontinck.com) |\n",
    "\n"
   ]
  },
  {
   "cell_type": "markdown",
   "id": "7a405d24",
   "metadata": {},
   "source": [
    "<hr><hr>\n",
    "\n",
    "## Checking requirements\n",
    "\n",
    "### Correct Anaconda environment\n",
    "\n",
    "The `rl-project` anaconda environment should be active to ensure proper support. Installation instructions are available on [the GitHub repository of the RL course project and homeworks](https://github.com/pikawika/vub-rl)."
   ]
  },
  {
   "cell_type": "code",
   "execution_count": 16,
   "id": "334d5fd4",
   "metadata": {},
   "outputs": [
    {
     "name": "stdout",
     "output_type": "stream",
     "text": [
      "Active environment: rl-project\n",
      "Correct environment: True\n",
      "\n",
      "Python version: 3.8.10\n",
      "Correct Python version: True\n"
     ]
    }
   ],
   "source": [
    "####################################################\n",
    "# CHECKING FOR RIGHT ANACONDA ENVIRONMENT\n",
    "####################################################\n",
    "\n",
    "import os\n",
    "from platform import python_version\n",
    "\n",
    "print(f\"Active environment: {os.environ['CONDA_DEFAULT_ENV']}\")\n",
    "print(f\"Correct environment: {os.environ['CONDA_DEFAULT_ENV'] == 'rl-project'}\")\n",
    "print(f\"\\nPython version: {python_version()}\")\n",
    "print(f\"Correct Python version: {python_version() == '3.8.10'}\")"
   ]
  },
  {
   "cell_type": "markdown",
   "id": "22166668",
   "metadata": {},
   "source": [
    "<hr>\n",
    "\n",
    "### Correct module access\n",
    "\n",
    "The following code block will load in all required modules and show if the versions match those that are recommended."
   ]
  },
  {
   "cell_type": "code",
   "execution_count": 17,
   "id": "ab632204",
   "metadata": {},
   "outputs": [
    {
     "name": "stdout",
     "output_type": "stream",
     "text": [
      "Matplotlib version (3.5.1 recommended): 3.5.1\n",
      "Pygame version (2.1.2 recommended): 2.1.2\n",
      "Gym version (0.21.0 recommended): 0.21.0\n",
      "Tianshou version (0.4.8 recommended): 0.4.8\n",
      "Torch version (1.12.0 recommended): 1.12.0.dev20220520+cu116\n"
     ]
    }
   ],
   "source": [
    "####################################################\n",
    "# LOADING MODULES\n",
    "####################################################\n",
    "\n",
    "# Allow reloading of libraries\n",
    "import importlib\n",
    "\n",
    "# Plotting\n",
    "import matplotlib; print(f\"Matplotlib version (3.5.1 recommended): {matplotlib.__version__}\")\n",
    "import matplotlib.pyplot as plt\n",
    "\n",
    "# Argparser\n",
    "import argparse\n",
    "\n",
    "# More data types\n",
    "import typing\n",
    "import numpy as np\n",
    "\n",
    "# Pygame\n",
    "import pygame; print(f\"Pygame version (2.1.2 recommended): {pygame.__version__}\")\n",
    "\n",
    "# Gym environment\n",
    "import gym; print(f\"Gym version (0.21.0 recommended): {gym.__version__}\")\n",
    "\n",
    "# Tianshou for RL algorithms\n",
    "import tianshou as ts; print(f\"Tianshou version (0.4.8 recommended): {ts.__version__}\")\n",
    "\n",
    "# Torch is a popular DL framework\n",
    "import torch; print(f\"Torch version (1.12.0 recommended): {torch.__version__}\")\n",
    "\n",
    "# PPrint is a pretty print for variables\n",
    "from pprint import pprint\n",
    "\n",
    "# Our custom connect four gym environment\n",
    "import sys\n",
    "sys.path.append('../')\n",
    "import gym_connect4_pygame.envs.ConnectFourPygameEnvV2 as cfgym\n",
    "importlib.invalidate_caches()\n",
    "importlib.reload(cfgym)\n",
    "\n",
    "# Time for allowing \"freezes\" in execution\n",
    "import time;\n",
    "\n",
    "# Allow for copying objects in a non reference manner\n",
    "import copy\n",
    "\n",
    "# Used for updating notebook display\n",
    "from IPython.display import clear_output"
   ]
  },
  {
   "cell_type": "markdown",
   "id": "f2617a21",
   "metadata": {},
   "source": [
    "<hr>\n",
    "\n",
    "### Correct CUDA access\n",
    "\n",
    "The installation instructions specify how to install PyTorch with CUDA 11.6.\n",
    "The following code block tests if this was done successfully."
   ]
  },
  {
   "cell_type": "code",
   "execution_count": 18,
   "id": "da9f5ed0",
   "metadata": {},
   "outputs": [
    {
     "name": "stdout",
     "output_type": "stream",
     "text": [
      "CUDA is available: True\n",
      "\n",
      "Amount of connected devices supporting CUDA: 1\n",
      "\n",
      "Current CUDA device: 0\n",
      "Cuda device 0 name: NVIDIA GeForce GTX 970\n"
     ]
    }
   ],
   "source": [
    "####################################################\n",
    "# CUDA VALIDATION\n",
    "####################################################\n",
    "\n",
    "# Check cuda available\n",
    "print(f\"CUDA is available: {torch.cuda.is_available()}\")\n",
    "\n",
    "# Show cuda devices\n",
    "print(f\"\\nAmount of connected devices supporting CUDA: {torch.cuda.device_count()}\")\n",
    "\n",
    "# Show current cuda device\n",
    "print(f\"\\nCurrent CUDA device: {torch.cuda.current_device()}\")\n",
    "\n",
    "# Show cuda device name\n",
    "print(f\"Cuda device 0 name: {torch.cuda.get_device_name(0)}\")"
   ]
  },
  {
   "cell_type": "markdown",
   "id": "826657c4",
   "metadata": {},
   "source": [
    "<hr><hr>\n",
    "\n",
    "## Training two Rainbow agents on connect four Gym\n",
    "\n",
    "Our connect four gym setup requires two agents, one for each player.\n",
    "To reduce complexity, agents will always play as the same player, e.g. always as player 1.\n",
    "It is important to note that connect four is a *solved game*.\n",
    "According to [The Washington Post](https://www.washingtonpost.com/news/wonk/wp/2015/05/08/how-to-win-any-popular-game-according-to-data-scientists/):\n",
    "\n",
    "> Connect Four is what mathematicians call a \"solved game,\" meaning you can play it perfectly every time, no matter what your opponent does. You will need to get the first move, but as long as you do so, you can always win within 41 moves.\n",
    "\n",
    "<hr>\n",
    "\n",
    "### Building the environment\n",
    "\n",
    "This code is taken from previous notebooks.\n",
    "We don't allow invalid moves to make the problem easier for now."
   ]
  },
  {
   "cell_type": "code",
   "execution_count": 19,
   "id": "c2b47a58",
   "metadata": {},
   "outputs": [
    {
     "name": "stdout",
     "output_type": "stream",
     "text": [
      "Observation space: Dict(action_mask:Box([0 0 0 0 0 0 0], [1 1 1 1 1 1 1], (7,), int8), observation:Box([[0 0 0 0 0 0 0]\n",
      " [0 0 0 0 0 0 0]\n",
      " [0 0 0 0 0 0 0]\n",
      " [0 0 0 0 0 0 0]\n",
      " [0 0 0 0 0 0 0]\n",
      " [0 0 0 0 0 0 0]], [[2 2 2 2 2 2 2]\n",
      " [2 2 2 2 2 2 2]\n",
      " [2 2 2 2 2 2 2]\n",
      " [2 2 2 2 2 2 2]\n",
      " [2 2 2 2 2 2 2]\n",
      " [2 2 2 2 2 2 2]], (6, 7), int8))\n",
      "\n",
      "Action space: Discrete(7)\n",
      "\n",
      " Initial player id:\n",
      "player_1\n",
      "\n",
      " Initial observation:\n",
      "[[0. 0. 0. 0. 0. 0. 0.]\n",
      " [0. 0. 0. 0. 0. 0. 0.]\n",
      " [0. 0. 0. 0. 0. 0. 0.]\n",
      " [0. 0. 0. 0. 0. 0. 0.]\n",
      " [0. 0. 0. 0. 0. 0. 0.]\n",
      " [0. 0. 0. 0. 0. 0. 0.]]\n",
      "\n",
      " Initial mask:\n",
      "[True, True, True, True, True, True, True]\n"
     ]
    }
   ],
   "source": [
    "####################################################\n",
    "# CONNECT FOUR V2 ENVIRONMENT\n",
    "####################################################\n",
    "\n",
    "def get_env():\n",
    "    \"\"\"\n",
    "    Returns the connect four gym environment V2 altered for Tianshou and Petting Zoo compatibility.\n",
    "    Already wrapped with a ts.env.PettingZooEnv wrapper.\n",
    "    \"\"\"\n",
    "    return ts.env.PettingZooEnv(cfgym.env(reward_move= 1, # Set to 1 for reward to make moves (incentivise longer games)\n",
    "                                          reward_invalid= -3,\n",
    "                                          reward_draw= 15,\n",
    "                                          reward_win= 25,\n",
    "                                          reward_loss= -25,\n",
    "                                          allow_invalid_move= False))\n",
    "    \n",
    "    \n",
    "# Test the environment\n",
    "env = get_env()\n",
    "print(f\"Observation space: {env.observation_space}\")\n",
    "print(f\"\\nAction space: {env.action_space}\")\n",
    "\n",
    "# Reset the environment to start from a clean state, returns the initial observation\n",
    "observation = env.reset()\n",
    "\n",
    "print(\"\\n Initial player id:\")\n",
    "print(observation[\"agent_id\"])\n",
    "\n",
    "print(\"\\n Initial observation:\")\n",
    "print(observation[\"obs\"])\n",
    "\n",
    "print(\"\\n Initial mask:\")\n",
    "print(observation[\"mask\"])\n",
    "\n",
    "# Clean unused variables\n",
    "del observation\n",
    "del env"
   ]
  },
  {
   "cell_type": "markdown",
   "id": "0bc7e7da",
   "metadata": {},
   "source": [
    "<hr>\n",
    "\n",
    "### Implementing the Rainbow policy\n",
    "\n",
    "The Rainbow policy for the agent is configured and set up below.\n",
    "This is based on the Atari rainbow example by the [Tianshou doc](https://github.com/thu-ml/tianshou/blob/master/examples/atari/atari_rainbow.py).\n",
    "Tianshou uses a DQN as base class for Rainbow, so we will do this to but adopt both classes to better represent our previous DQN models."
   ]
  },
  {
   "cell_type": "code",
   "execution_count": 20,
   "id": "8e2f43c0",
   "metadata": {},
   "outputs": [],
   "source": [
    "####################################################\n",
    "# DQN ARCHITECTURE\n",
    "####################################################\n",
    "\n",
    "class DQNForRainbow(torch.nn.Module):\n",
    "    \"\"\"\n",
    "    Custom DQN to be used as baseclass for the Rainbow algorithm.\n",
    "    \"\"\"\n",
    "\n",
    "    def __init__(\n",
    "        self,\n",
    "        c: int,\n",
    "        h: int,\n",
    "        w: int,\n",
    "        action_shape: typing.Sequence[int],\n",
    "        device: typing.Union[str, int, torch.device] = \"cpu\",\n",
    "        features_only: bool = False,\n",
    "        output_dim: typing.Optional[int] = None,\n",
    "    ) -> None:\n",
    "        super().__init__()\n",
    "        self.device = device\n",
    "        \n",
    "        # Number of input channels\n",
    "        input_channels_cnn = 1\n",
    "        output_channels_cnn = 32\n",
    "        self.output_dim = (h - 3) * (w - 3) * output_channels_cnn\n",
    "        \n",
    "        self.net = torch.nn.Sequential(\n",
    "            torch.nn.Conv2d(in_channels= input_channels_cnn, out_channels= output_channels_cnn, kernel_size= 4, stride= 1), torch.nn.ReLU(inplace=True),\n",
    "            torch.nn.Flatten(),\n",
    "        )\n",
    "        if not features_only:\n",
    "            self.net = torch.nn.Sequential(\n",
    "                self.net, torch.nn.Linear(self.output_dim, 512), torch.nn.ReLU(inplace=True),\n",
    "                torch.nn.Linear(512, np.prod(action_shape))\n",
    "            )\n",
    "            self.output_dim = np.prod(action_shape)\n",
    "        elif output_dim is not None:\n",
    "            self.net = torch.nn.Sequential(\n",
    "                self.net, torch.nn.Linear(self.output_dim, output_dim),\n",
    "                torch.nn.ReLU(inplace=True)\n",
    "            )\n",
    "            self.output_dim = output_dim\n",
    "\n",
    "    def forward(\n",
    "        self,\n",
    "        obs: typing.Union[np.ndarray, torch.Tensor],\n",
    "        state: typing.Optional[typing.Any] = None,\n",
    "        info: typing.Dict[str, typing.Any] = {},\n",
    "    ) -> typing.Tuple[torch.Tensor, typing.Any]:\n",
    "        r\"\"\"Mapping: s -> Q(s, \\*).\"\"\"\n",
    "        if not isinstance(obs, torch.Tensor):\n",
    "            obs = torch.tensor(obs, dtype=torch.float, device=self.device)\n",
    "            \n",
    "        # Make right shape\n",
    "        obs = obs[:, None, :, :]\n",
    "        \n",
    "        logits = self.net(obs)\n",
    "        return logits, state\n"
   ]
  },
  {
   "cell_type": "code",
   "execution_count": 7,
   "id": "2b137ea2",
   "metadata": {},
   "outputs": [],
   "source": [
    "####################################################\n",
    "# RAINBOW ARCHITECTURE\n",
    "####################################################\n",
    "\n",
    "class Rainbow(DQNForRainbow):\n",
    "    \"\"\"\n",
    "    Implementation of the Rainbow algorithm.\n",
    "    \"\"\"\n",
    "\n",
    "    def __init__(\n",
    "        self,\n",
    "        c: int,\n",
    "        h: int,\n",
    "        w: int,\n",
    "        action_shape: typing.Sequence[int],\n",
    "        num_atoms: int = 51,\n",
    "        noisy_std: float = 0.5,\n",
    "        device: typing.Union[str, int, torch.device] = \"cpu\",\n",
    "        is_dueling: bool = True,\n",
    "        is_noisy: bool = True,\n",
    "    ) -> None:\n",
    "        super().__init__(c, h, w, action_shape, device, features_only=True)\n",
    "        self.action_num = np.prod(action_shape)\n",
    "        self.num_atoms = num_atoms\n",
    "\n",
    "        def linear(x, y):\n",
    "            if is_noisy:\n",
    "                return ts.utils.net.discrete.NoisyLinear(x, y, noisy_std)\n",
    "            else:\n",
    "                return torch.nn.Linear(x, y)\n",
    "\n",
    "        self.Q = torch.nn.Sequential(\n",
    "            linear(self.output_dim, 512), torch.nn.ReLU(inplace=True),\n",
    "            linear(512, self.action_num * self.num_atoms)\n",
    "        )\n",
    "        self._is_dueling = is_dueling\n",
    "        if self._is_dueling:\n",
    "            self.V = torch.nn.Sequential(\n",
    "                linear(self.output_dim, 512), torch.nn.ReLU(inplace=True),\n",
    "                linear(512, self.num_atoms)\n",
    "            )\n",
    "        self.output_dim = self.action_num * self.num_atoms\n",
    "\n",
    "    def forward(\n",
    "        self,\n",
    "        obs: typing.Union[np.ndarray, torch.Tensor],\n",
    "        state: typing.Optional[typing.Any] = None,\n",
    "        info: typing.Dict[str, typing.Any] = {},\n",
    "    ) -> typing.Tuple[torch.Tensor, typing.Any]:\n",
    "        r\"\"\"Mapping: x -> Z(x, \\*).\"\"\"\n",
    "        obs, state = super().forward(obs)\n",
    "        q = self.Q(obs)\n",
    "        q = q.view(-1, self.action_num, self.num_atoms)\n",
    "        if self._is_dueling:\n",
    "            v = self.V(obs)\n",
    "            v = v.view(-1, 1, self.num_atoms)\n",
    "            logits = q - q.mean(dim=1, keepdim=True) + v\n",
    "        else:\n",
    "            logits = q\n",
    "        probs = logits.softmax(dim=2)\n",
    "        return probs, state"
   ]
  },
  {
   "cell_type": "code",
   "execution_count": 8,
   "id": "539b56ff",
   "metadata": {},
   "outputs": [],
   "source": [
    "####################################################\n",
    "# RAINBOW POLICY\n",
    "####################################################\n",
    "\n",
    "def rainbow_policy(state_shape: tuple,\n",
    "                  action_shape: tuple,\n",
    "                  optim: typing.Optional[torch.optim.Optimizer] = None,\n",
    "                  learning_rate: float =  0.0000625,\n",
    "                  gamma: float = 0.9, # Smaller gamma favours \"faster\" win\n",
    "                  n_step: int = 1, # Number of steps to look ahead\n",
    "                  num_atoms: int = 51,\n",
    "                  target_update_freq: int = 500):\n",
    "    \n",
    "    # Use cuda device if possible\n",
    "    device = 'cuda' if torch.cuda.is_available() else 'cpu'\n",
    "    \n",
    "    # Rainbow network to be used by policy\n",
    "    net = Rainbow(c= 1,\n",
    "                  h= state_shape[0],\n",
    "                  w= state_shape[1],\n",
    "                  action_shape= action_shape,                  \n",
    "                  device= device).to(device)\n",
    "    \n",
    "    # Default optimizer is an adam optimizer with the argparser learning rate\n",
    "    if optim is None:\n",
    "        optim = torch.optim.Adam(net.parameters(), lr= learning_rate)\n",
    "        \n",
    "    # Our agent DQN policy\n",
    "    return ts.policy.RainbowPolicy(model= net,\n",
    "                                   optim= optim,\n",
    "                                   discount_factor= gamma,\n",
    "                                   num_atoms= num_atoms,\n",
    "                                   estimation_step= n_step,\n",
    "                                   target_update_freq= target_update_freq).to(device)\n",
    "    \n",
    "    "
   ]
  },
  {
   "cell_type": "markdown",
   "id": "dd411318",
   "metadata": {},
   "source": [
    "<hr>\n",
    "\n",
    "### Building agents\n",
    "\n",
    "Identical to the previous notebook."
   ]
  },
  {
   "cell_type": "code",
   "execution_count": 9,
   "id": "a06d25c3",
   "metadata": {},
   "outputs": [],
   "source": [
    "####################################################\n",
    "# AGENT CREATION\n",
    "####################################################\n",
    "\n",
    "def get_agents(agent_player1: typing.Optional[ts.policy.BasePolicy] = None,\n",
    "               agent_player2: typing.Optional[ts.policy.BasePolicy] = None,\n",
    "               optim: typing.Optional[torch.optim.Optimizer] = None,\n",
    "               resume_path_player_1: str = '', # Path to file to resume agent training from\n",
    "               resume_path_player_2: str = '', \n",
    "               ) -> typing.Tuple[ts.policy.BasePolicy, torch.optim.Optimizer, list]:\n",
    "    \"\"\"\n",
    "    Gets a multi agent policy manager, optimizer and player ids for the connect four V2 gym environment.\n",
    "    Per default this returns \n",
    "        - Multi agent manager for 2 agents using Rainbow\n",
    "        - Adam optimizer\n",
    "        - ['player_1', 'player_2'] from the connect four environment\n",
    "    \"\"\"\n",
    "    \n",
    "    # Get the environment to play in (Connect four gym V2)\n",
    "    env = get_env()\n",
    "    \n",
    "    # Get the observation space from the environment, depending on typo of space (ternary operator)\n",
    "    observation_space = env.observation_space['observation'] if isinstance(env.observation_space, gym.spaces.Dict) else env.observation_space\n",
    "    \n",
    "    # Set the arguments\n",
    "    state_shape = observation_space.shape or observation_space.n\n",
    "    action_shape = env.action_space.shape or env.action_space.n\n",
    "    \n",
    "    # Configure agent player 1 to be a DQN if no policy is passed.\n",
    "    if agent_player1 is None:\n",
    "        # Our agent1 uses a DQN policy\n",
    "        agent_player1 = rainbow_policy(state_shape= state_shape,\n",
    "                                       action_shape= action_shape,\n",
    "                                       optim= optim)\n",
    "        \n",
    "        # If we resume our agent we need to load the previous config\n",
    "        if resume_path_player_1:\n",
    "            agent_player1.load_state_dict(torch.load(resume_path_player_1))\n",
    "    \n",
    "    # Configure agent player 2 to be a DQN if no policy is passed.\n",
    "    if agent_player2 is None:\n",
    "        # Our agent1 uses a DQN policy\n",
    "        agent_player2 = rainbow_policy(state_shape= state_shape,\n",
    "                                       action_shape= action_shape,\n",
    "                                       optim= optim)\n",
    "        \n",
    "        # If we resume our agent we need to load the previous config\n",
    "        if resume_path_player_2:\n",
    "            agent_player2.load_state_dict(torch.load(resume_path_player_2))\n",
    "\n",
    "    # Both our agents are DQN agents by default\n",
    "    agents = [agent_player1, agent_player2]\n",
    "        \n",
    "    # Our policy depends on the order of the agents\n",
    "    policy = ts.policy.MultiAgentPolicyManager(agents, env)\n",
    "    \n",
    "    # Return our policy, optimizer and the available agents in the environment\n",
    "    # Per default: \n",
    "    #   - Multi agent manager for 2 agents using Rainbow\n",
    "    #   - Adam optimizer\n",
    "    #   - ['player_1', 'player_2'] from the connect four environment\n",
    "    \n",
    "    return policy, optim, env.agents"
   ]
  },
  {
   "cell_type": "markdown",
   "id": "95a8f3a6",
   "metadata": {},
   "source": [
    "<hr>\n",
    "\n",
    "### Function for letting agents learn\n",
    "\n",
    "Identical to the previous notebook."
   ]
  },
  {
   "cell_type": "code",
   "execution_count": 10,
   "id": "d364383d",
   "metadata": {},
   "outputs": [],
   "source": [
    "####################################################\n",
    "# AGENT TRAINING\n",
    "####################################################\n",
    "\n",
    "def train_agent(filename: str = \"rainbow_vs_rainbow\",\n",
    "                agent_player1: typing.Optional[ts.policy.BasePolicy] = None,\n",
    "                agent_player2: typing.Optional[ts.policy.BasePolicy] = None,\n",
    "                optim: typing.Optional[torch.optim.Optimizer] = None,\n",
    "                training_env_num: int = 10,\n",
    "                testing_env_num: int = 10,\n",
    "                buffer_size: int = 2^14,\n",
    "                batch_size: int = 7, \n",
    "                epochs: int = 50, #50\n",
    "                step_per_epoch: int = 1024, #1024\n",
    "                step_per_collect: int = 60, # transition should be multiple of train/test envs\n",
    "                update_per_step: float = 0.1,\n",
    "                testing_eps: float = 0.05,\n",
    "                training_eps: float = 0.1,\n",
    "                ) -> typing.Tuple[dict, ts.policy.BasePolicy]:\n",
    "    \"\"\"\n",
    "    Trains two agents in the connect four V2 environment and saves their best model and logs.\n",
    "    Returns:\n",
    "        - result from offpolicy_trainer\n",
    "        - final version of agent 1\n",
    "        - final version of agent 2\n",
    "    \"\"\"\n",
    "\n",
    "    # ======== notebook specific =========\n",
    "    notebook_version = '9' # Used for foldering logs and models\n",
    "\n",
    "    # ======== environment setup =========\n",
    "    train_envs = ts.env.DummyVectorEnv([get_env for _ in range(training_env_num)])\n",
    "    test_envs = ts.env.DummyVectorEnv([get_env for _ in range(testing_env_num)])\n",
    "    \n",
    "    # set the seed for reproducibility\n",
    "    np.random.seed(1998)\n",
    "    torch.manual_seed(1998)\n",
    "    train_envs.seed(1998)\n",
    "    test_envs.seed(1998)\n",
    "\n",
    "    # ======== agent setup =========\n",
    "    # Gets our agents from the previously made function\n",
    "    # Per default: \n",
    "    #   - Multi agent manager for 2 agents using DQN\n",
    "    #   - Adam optimizer\n",
    "    #   - ['player_1', 'player_2'] from the connect four environment\n",
    "    policy, optim, agents = get_agents(agent_player1=agent_player1,\n",
    "                                       agent_player2=agent_player2,\n",
    "                                       optim=optim)\n",
    "\n",
    "    # ======== collector setup =========\n",
    "    # Make a collector for the training environments\n",
    "    train_collector = ts.data.Collector(policy= policy,\n",
    "                                        env= train_envs,\n",
    "                                        buffer= ts.data.VectorReplayBuffer(buffer_size, len(train_envs)),\n",
    "                                        exploration_noise= True)\n",
    "    \n",
    "    # Make a collector for the testing environments\n",
    "    test_collector = ts.data.Collector(policy= policy,\n",
    "                                       env= test_envs,\n",
    "                                       buffer= ts.data.VectorReplayBuffer(buffer_size, len(test_envs)),\n",
    "                                       exploration_noise= True)\n",
    "    \n",
    "    # Uncomment below if you want to set epsilon in epsilon policy\n",
    "    # policy.set_eps(1)\n",
    "    \n",
    "    # Collect data fot the training evnironments\n",
    "    train_collector.collect(n_step= batch_size * training_env_num)\n",
    "    \n",
    "    # ======== ensure folders exist =========\n",
    "    if not os.path.exists(os.path.join('./logs', 'paper_notebooks', notebook_version, filename)):\n",
    "        os.makedirs(os.path.join('./logs', 'paper_notebooks', notebook_version, filename))\n",
    "    if not os.path.exists(os.path.join('./saved_variables', 'paper_notebooks', notebook_version, filename)):\n",
    "        os.makedirs(os.path.join('./saved_variables', 'paper_notebooks', notebook_version, filename))\n",
    "\n",
    "    # ======== tensorboard logging setup =========\n",
    "    # Allows to save the training progress to tensorboard compatable logs\n",
    "    log_path = os.path.join('./logs', 'paper_notebooks', notebook_version, filename)\n",
    "    writer = torch.utils.tensorboard.SummaryWriter(log_path)\n",
    "    logger = ts.utils.TensorboardLogger(writer)\n",
    "\n",
    "    # ======== callback functions used during training =========\n",
    "    # We want to save our best policy\n",
    "    def save_best_fn(policy):\n",
    "        \"\"\"\n",
    "        Callback to save the best model\n",
    "        \"\"\"\n",
    "        # Save best agent 1\n",
    "        model_save_path = os.path.join('./saved_variables', 'paper_notebooks', notebook_version, filename, 'best_policy_agent1.pth')\n",
    "        torch.save(policy.policies[agents[0]].state_dict(), model_save_path)\n",
    "        \n",
    "        # Save best agent 2\n",
    "        model_save_path = os.path.join('./saved_variables', 'paper_notebooks', notebook_version, filename, 'best_policy_agent2.pth')\n",
    "        torch.save(policy.policies[agents[1]].state_dict(), model_save_path)\n",
    "        \n",
    "        # Save agent2\n",
    "\n",
    "    def stop_fn(mean_rewards):\n",
    "        \"\"\"\n",
    "        Callback to stop training when we've reached the win rate\n",
    "        \"\"\"\n",
    "        return mean_rewards >= 7 # (win = 10, 70% win without invalid moves = mean of 7)\n",
    "\n",
    "    def train_fn(epoch, env_step):\n",
    "        \"\"\"\n",
    "        Callback before training\n",
    "        \"\"\"        \n",
    "        # Before training we want to configure the epsilon for the agents\n",
    "        # In general more exploratory than the test case\n",
    "        policy.policies[agents[0]].set_eps(training_eps)\n",
    "        policy.policies[agents[1]].set_eps(training_eps)\n",
    "\n",
    "    def test_fn(epoch, env_step):\n",
    "        \"\"\"\n",
    "        Callback beore testing\n",
    "        \"\"\"        \n",
    "        # Before testing we want to configure the epsilon for the agents\n",
    "        # In general more greedy than the train case but not\n",
    "        #   to avoid getting stuck on invalid moves\n",
    "        policy.policies[agents[0]].set_eps(testing_eps)\n",
    "        policy.policies[agents[1]].set_eps(testing_eps)\n",
    "\n",
    "    def reward_metric(rews):\n",
    "        \"\"\"\n",
    "        Callback for reward collection\n",
    "        \"\"\"\n",
    "        # We are interested in having a high total total reward,\n",
    "        #   as this would mean equally good agents.\n",
    "        return rews[:, 0] + rews[:, 1]\n",
    "\n",
    "    # trainer\n",
    "    result = ts.trainer.offpolicy_trainer(policy= policy,\n",
    "                                          train_collector= train_collector,\n",
    "                                          test_collector= test_collector,\n",
    "                                          max_epoch= epochs,\n",
    "                                          step_per_epoch= step_per_epoch,\n",
    "                                          step_per_collect= step_per_collect,\n",
    "                                          episode_per_test= testing_env_num,\n",
    "                                          batch_size= batch_size,\n",
    "                                          train_fn= train_fn,\n",
    "                                          test_fn= test_fn,\n",
    "                                          # Stop function to stop before specified amount of epochs\n",
    "                                          #stop_fn= stop_fn\n",
    "                                          save_best_fn= save_best_fn,\n",
    "                                          update_per_step= update_per_step,\n",
    "                                          logger= logger,\n",
    "                                          test_in_train= False,\n",
    "                                          reward_metric= reward_metric)\n",
    "    \n",
    "    # Save final agent 1\n",
    "    model_save_path = os.path.join('./saved_variables', 'paper_notebooks', notebook_version, filename, 'final_policy_agent1.pth')\n",
    "    torch.save(policy.policies[agents[0]].state_dict(), model_save_path)\n",
    "\n",
    "    # Save final agent 2\n",
    "    model_save_path = os.path.join('./saved_variables', 'paper_notebooks', notebook_version, filename, 'final_policy_agent2.pth')\n",
    "    torch.save(policy.policies[agents[1]].state_dict(), model_save_path)\n",
    "\n",
    "    return result, policy.policies[agents[0]], policy.policies[agents[1]]"
   ]
  },
  {
   "cell_type": "markdown",
   "id": "f161cc0f",
   "metadata": {},
   "source": [
    "<hr>\n",
    "\n",
    "### Function for watching learned agent\n",
    "\n",
    "Identical to the previous notebook."
   ]
  },
  {
   "cell_type": "code",
   "execution_count": 11,
   "id": "b526e5f0",
   "metadata": {},
   "outputs": [],
   "source": [
    "####################################################\n",
    "# WATCHING THE LEARNED POLICY IN ACTION\n",
    "####################################################\n",
    "\n",
    "def watch(numer_of_games: int = 3,\n",
    "          agent_player1: typing.Optional[ts.policy.BasePolicy] = None,\n",
    "          agent_player2: typing.Optional[ts.policy.BasePolicy] = None,\n",
    "          test_epsilon: float = 0.05, # For the watching we act completely greedy but low random for not getting stuck on invalid move\n",
    "          render_speed: float = 0.15, # Amount of seconds to update frame/ do a step\n",
    "          ) -> None:\n",
    "    \n",
    "    # Get the connect four V2 environment (must be a list)\n",
    "    env= ts.env.DummyVectorEnv([get_env])\n",
    "    \n",
    "    # Get the agents from the trained agents\n",
    "    policy, optim, agents = get_agents(agent_player1= agent_player1,\n",
    "                                       agent_player2= agent_player2)\n",
    "    \n",
    "    # Evaluate the policy\n",
    "    policy.eval()\n",
    "    \n",
    "    # Set the testing policy epsilon for our agents\n",
    "    policy.policies[agents[0]].set_eps(test_epsilon)\n",
    "    policy.policies[agents[1]].set_eps(test_epsilon)\n",
    "    \n",
    "    # Collect the test data\n",
    "    collector = ts.data.Collector(policy= policy,\n",
    "                                  env= env,\n",
    "                                  exploration_noise= True)\n",
    "    \n",
    "    # Render games in human mode to see how it plays\n",
    "    result = collector.collect(n_episode= numer_of_games, render= render_speed)\n",
    "    \n",
    "    # Close the environment aftering collecting the results\n",
    "    # This closes the pygame window after completion\n",
    "    env.close()\n",
    "    \n",
    "    # Get the rewards and length from the test trials\n",
    "    rewards, length = result[\"rews\"], result[\"lens\"]\n",
    "    \n",
    "    # Print the final reward for the first agent\n",
    "    print(f\"Average steps of game:  {length.mean()}\")\n",
    "    print(f\"Final mean reward agent 1: {rewards[:, 0].mean()}, std: {rewards[:, 0].std()}\")\n",
    "    print(f\"Final mean reward agent 2: {rewards[:, 1].mean()}, std: {rewards[:, 1].std()}\")"
   ]
  },
  {
   "cell_type": "markdown",
   "id": "c31784e9",
   "metadata": {},
   "source": [
    "<hr>\n",
    "\n",
    "### Doing the experiment\n",
    "\n",
    "We now do the experiment with using our previously created functions.\n",
    "We update some parameter settings to find if we can improve our DQN agents."
   ]
  },
  {
   "cell_type": "code",
   "execution_count": 12,
   "id": "93fe8961",
   "metadata": {
    "scrolled": true
   },
   "outputs": [
    {
     "name": "stderr",
     "output_type": "stream",
     "text": [
      "Epoch #1: 1080it [00:04, 253.31it/s, env_step=1080, len=7, n/ep=7, n/st=60, player_1/loss=3.733, player_2/loss=3.753, rew=31.71]\n"
     ]
    },
    {
     "name": "stdout",
     "output_type": "stream",
     "text": [
      "Epoch #1: test_reward: 27.000000 ± 0.000000, best_reward: 46.200000 ± 16.892602 in #0\n"
     ]
    },
    {
     "name": "stderr",
     "output_type": "stream",
     "text": [
      "Epoch #2: 1080it [00:03, 334.88it/s, env_step=2160, len=8, n/ep=8, n/st=60, player_1/loss=3.146, player_2/loss=3.500, rew=44.38]\n"
     ]
    },
    {
     "name": "stdout",
     "output_type": "stream",
     "text": [
      "Epoch #2: test_reward: 28.600000 ± 3.200000, best_reward: 46.200000 ± 16.892602 in #0\n"
     ]
    },
    {
     "name": "stderr",
     "output_type": "stream",
     "text": [
      "Epoch #3: 1080it [00:03, 335.33it/s, env_step=3240, len=8, n/ep=9, n/st=60, player_1/loss=3.258, player_2/loss=3.458, rew=39.78]\n"
     ]
    },
    {
     "name": "stdout",
     "output_type": "stream",
     "text": [
      "Epoch #3: test_reward: 27.800000 ± 2.400000, best_reward: 46.200000 ± 16.892602 in #0\n"
     ]
    },
    {
     "name": "stderr",
     "output_type": "stream",
     "text": [
      "Epoch #4: 1080it [00:03, 339.89it/s, env_step=4320, len=7, n/ep=8, n/st=60, player_1/loss=3.402, player_2/loss=3.330, rew=33.75]\n"
     ]
    },
    {
     "name": "stdout",
     "output_type": "stream",
     "text": [
      "Epoch #4: test_reward: 27.000000 ± 0.000000, best_reward: 46.200000 ± 16.892602 in #0\n"
     ]
    },
    {
     "name": "stderr",
     "output_type": "stream",
     "text": [
      "Epoch #5: 1080it [00:03, 344.83it/s, env_step=5400, len=8, n/ep=8, n/st=60, player_1/loss=3.104, player_2/loss=3.371, rew=39.50]\n"
     ]
    },
    {
     "name": "stdout",
     "output_type": "stream",
     "text": [
      "Epoch #5: test_reward: 31.300000 ± 8.198171, best_reward: 46.200000 ± 16.892602 in #0\n"
     ]
    },
    {
     "name": "stderr",
     "output_type": "stream",
     "text": [
      "Epoch #6: 1080it [00:03, 338.04it/s, env_step=6480, len=8, n/ep=7, n/st=60, player_1/loss=2.677, player_2/loss=2.771, rew=42.71]\n"
     ]
    },
    {
     "name": "stdout",
     "output_type": "stream",
     "text": [
      "Epoch #6: test_reward: 30.300000 ± 5.550676, best_reward: 46.200000 ± 16.892602 in #0\n"
     ]
    },
    {
     "name": "stderr",
     "output_type": "stream",
     "text": [
      "Epoch #7: 1080it [00:03, 337.42it/s, env_step=7560, len=12, n/ep=9, n/st=60, player_1/loss=2.559, player_2/loss=2.567, rew=116.67]\n"
     ]
    },
    {
     "name": "stdout",
     "output_type": "stream",
     "text": [
      "Epoch #7: test_reward: 27.000000 ± 0.000000, best_reward: 46.200000 ± 16.892602 in #0\n"
     ]
    },
    {
     "name": "stderr",
     "output_type": "stream",
     "text": [
      "Epoch #8: 1080it [00:03, 343.65it/s, env_step=8640, len=8, n/ep=8, n/st=60, player_1/loss=2.579, player_2/loss=2.753, rew=44.75]\n"
     ]
    },
    {
     "name": "stdout",
     "output_type": "stream",
     "text": [
      "Epoch #8: test_reward: 28.600000 ± 3.200000, best_reward: 46.200000 ± 16.892602 in #0\n"
     ]
    },
    {
     "name": "stderr",
     "output_type": "stream",
     "text": [
      "Epoch #9: 1080it [00:03, 344.47it/s, env_step=9720, len=7, n/ep=7, n/st=60, player_1/loss=2.608, player_2/loss=2.598, rew=29.29]\n"
     ]
    },
    {
     "name": "stdout",
     "output_type": "stream",
     "text": [
      "Epoch #9: test_reward: 27.000000 ± 0.000000, best_reward: 46.200000 ± 16.892602 in #0\n"
     ]
    },
    {
     "name": "stderr",
     "output_type": "stream",
     "text": [
      "Epoch #10: 1080it [00:03, 337.20it/s, env_step=10800, len=8, n/ep=8, n/st=60, player_1/loss=2.157, player_2/loss=2.185, rew=38.50]\n"
     ]
    },
    {
     "name": "stdout",
     "output_type": "stream",
     "text": [
      "Epoch #10: test_reward: 27.800000 ± 2.400000, best_reward: 46.200000 ± 16.892602 in #0\n"
     ]
    },
    {
     "name": "stderr",
     "output_type": "stream",
     "text": [
      "Epoch #11: 1080it [00:03, 299.80it/s, env_step=11880, len=9, n/ep=9, n/st=60, player_1/loss=1.806, player_2/loss=1.690, rew=50.00]\n"
     ]
    },
    {
     "name": "stdout",
     "output_type": "stream",
     "text": [
      "Epoch #11: test_reward: 29.400000 ± 3.666061, best_reward: 46.200000 ± 16.892602 in #0\n"
     ]
    },
    {
     "name": "stderr",
     "output_type": "stream",
     "text": [
      "Epoch #12: 1080it [00:03, 306.57it/s, env_step=12960, len=12, n/ep=7, n/st=60, player_1/loss=1.764, player_2/loss=1.618, rew=105.00]\n"
     ]
    },
    {
     "name": "stdout",
     "output_type": "stream",
     "text": [
      "Epoch #12: test_reward: 27.800000 ± 2.400000, best_reward: 46.200000 ± 16.892602 in #0\n"
     ]
    },
    {
     "name": "stderr",
     "output_type": "stream",
     "text": [
      "Epoch #13: 1080it [00:03, 301.92it/s, env_step=14040, len=7, n/ep=6, n/st=60, player_1/loss=1.754, player_2/loss=1.604, rew=32.50]\n"
     ]
    },
    {
     "name": "stdout",
     "output_type": "stream",
     "text": [
      "Epoch #13: test_reward: 53.300000 ± 51.969318, best_reward: 53.300000 ± 51.969318 in #13\n"
     ]
    },
    {
     "name": "stderr",
     "output_type": "stream",
     "text": [
      "Epoch #14: 1080it [00:03, 272.71it/s, env_step=15120, len=8, n/ep=5, n/st=60, player_1/loss=1.590, player_2/loss=1.214, rew=42.40]\n"
     ]
    },
    {
     "name": "stdout",
     "output_type": "stream",
     "text": [
      "Epoch #14: test_reward: 27.800000 ± 2.400000, best_reward: 53.300000 ± 51.969318 in #13\n"
     ]
    },
    {
     "name": "stderr",
     "output_type": "stream",
     "text": [
      "Epoch #15: 1080it [00:03, 333.44it/s, env_step=16200, len=9, n/ep=8, n/st=60, player_1/loss=1.466, player_2/loss=0.890, rew=51.12]\n"
     ]
    },
    {
     "name": "stdout",
     "output_type": "stream",
     "text": [
      "Epoch #15: test_reward: 32.100000 ± 8.129576, best_reward: 53.300000 ± 51.969318 in #13\n"
     ]
    },
    {
     "name": "stderr",
     "output_type": "stream",
     "text": [
      "Epoch #16: 1080it [00:03, 319.77it/s, env_step=17280, len=7, n/ep=8, n/st=60, player_1/loss=1.437, player_2/loss=0.898, rew=33.12] \n"
     ]
    },
    {
     "name": "stdout",
     "output_type": "stream",
     "text": [
      "Epoch #16: test_reward: 27.800000 ± 2.400000, best_reward: 53.300000 ± 51.969318 in #13\n"
     ]
    },
    {
     "name": "stderr",
     "output_type": "stream",
     "text": [
      "Epoch #17: 1080it [00:03, 316.52it/s, env_step=18360, len=8, n/ep=8, n/st=60, player_1/loss=1.528, player_2/loss=0.937, rew=39.62]\n"
     ]
    },
    {
     "name": "stdout",
     "output_type": "stream",
     "text": [
      "Epoch #17: test_reward: 31.100000 ± 5.593747, best_reward: 53.300000 ± 51.969318 in #13\n"
     ]
    },
    {
     "name": "stderr",
     "output_type": "stream",
     "text": [
      "Epoch #18: 1080it [00:03, 345.95it/s, env_step=19440, len=9, n/ep=8, n/st=60, player_1/loss=1.456, player_2/loss=0.948, rew=53.25]\n"
     ]
    },
    {
     "name": "stdout",
     "output_type": "stream",
     "text": [
      "Epoch #18: test_reward: 35.900000 ± 2.700000, best_reward: 53.300000 ± 51.969318 in #13\n"
     ]
    },
    {
     "name": "stderr",
     "output_type": "stream",
     "text": [
      "Epoch #19: 1080it [00:03, 348.41it/s, env_step=20520, len=10, n/ep=7, n/st=60, player_1/loss=1.303, player_2/loss=0.775, rew=72.86]\n"
     ]
    },
    {
     "name": "stdout",
     "output_type": "stream",
     "text": [
      "Epoch #19: test_reward: 35.900000 ± 2.700000, best_reward: 53.300000 ± 51.969318 in #13\n"
     ]
    },
    {
     "name": "stderr",
     "output_type": "stream",
     "text": [
      "Epoch #20: 1080it [00:03, 347.39it/s, env_step=21600, len=8, n/ep=8, n/st=60, player_1/loss=0.914, player_2/loss=0.338, rew=41.00] \n"
     ]
    },
    {
     "name": "stdout",
     "output_type": "stream",
     "text": [
      "Epoch #20: test_reward: 36.900000 ± 5.700000, best_reward: 53.300000 ± 51.969318 in #13\n"
     ]
    },
    {
     "name": "stderr",
     "output_type": "stream",
     "text": [
      "Epoch #21: 1080it [00:03, 346.93it/s, env_step=22680, len=10, n/ep=7, n/st=60, player_1/loss=0.951, player_2/loss=0.364, rew=55.71]\n"
     ]
    },
    {
     "name": "stdout",
     "output_type": "stream",
     "text": [
      "Epoch #21: test_reward: 38.600000 ± 4.409082, best_reward: 53.300000 ± 51.969318 in #13\n"
     ]
    },
    {
     "name": "stderr",
     "output_type": "stream",
     "text": [
      "Epoch #22: 1080it [00:03, 347.01it/s, env_step=23760, len=14, n/ep=3, n/st=60, player_1/loss=0.842, player_2/loss=0.287, rew=121.33]\n"
     ]
    },
    {
     "name": "stdout",
     "output_type": "stream",
     "text": [
      "Epoch #22: test_reward: 30.400000 ± 6.800000, best_reward: 53.300000 ± 51.969318 in #13\n"
     ]
    },
    {
     "name": "stderr",
     "output_type": "stream",
     "text": [
      "Epoch #23: 1080it [00:03, 344.35it/s, env_step=24840, len=9, n/ep=5, n/st=60, player_1/loss=0.799, player_2/loss=0.326, rew=46.40]  \n"
     ]
    },
    {
     "name": "stdout",
     "output_type": "stream",
     "text": [
      "Epoch #23: test_reward: 44.000000 ± 0.000000, best_reward: 53.300000 ± 51.969318 in #13\n"
     ]
    },
    {
     "name": "stderr",
     "output_type": "stream",
     "text": [
      "Epoch #24: 1080it [00:03, 345.37it/s, env_step=25920, len=10, n/ep=8, n/st=60, player_1/loss=0.669, player_2/loss=0.265, rew=62.88]\n"
     ]
    },
    {
     "name": "stdout",
     "output_type": "stream",
     "text": [
      "Epoch #24: test_reward: 50.300000 ± 9.623409, best_reward: 53.300000 ± 51.969318 in #13\n"
     ]
    },
    {
     "name": "stderr",
     "output_type": "stream",
     "text": [
      "Epoch #25: 1080it [00:03, 346.28it/s, env_step=27000, len=12, n/ep=4, n/st=60, player_1/loss=0.511, player_2/loss=0.112, rew=92.25]\n"
     ]
    },
    {
     "name": "stdout",
     "output_type": "stream",
     "text": [
      "Epoch #25: test_reward: 48.200000 ± 8.400000, best_reward: 53.300000 ± 51.969318 in #13\n"
     ]
    },
    {
     "name": "stderr",
     "output_type": "stream",
     "text": [
      "Epoch #26: 1080it [00:03, 345.81it/s, env_step=28080, len=9, n/ep=7, n/st=60, player_1/loss=0.471, player_2/loss=0.125, rew=49.14]\n"
     ]
    },
    {
     "name": "stdout",
     "output_type": "stream",
     "text": [
      "Epoch #26: test_reward: 47.100000 ± 6.670082, best_reward: 53.300000 ± 51.969318 in #13\n"
     ]
    },
    {
     "name": "stderr",
     "output_type": "stream",
     "text": [
      "Epoch #27: 1080it [00:03, 346.24it/s, env_step=29160, len=10, n/ep=7, n/st=60, player_1/loss=0.544, player_2/loss=0.140, rew=59.71]\n"
     ]
    },
    {
     "name": "stdout",
     "output_type": "stream",
     "text": [
      "Epoch #27: test_reward: 45.000000 ± 3.000000, best_reward: 53.300000 ± 51.969318 in #13\n"
     ]
    },
    {
     "name": "stderr",
     "output_type": "stream",
     "text": [
      "Epoch #28: 1080it [00:03, 347.91it/s, env_step=30240, len=10, n/ep=4, n/st=60, player_1/loss=0.508, player_2/loss=0.138, rew=57.00]\n"
     ]
    },
    {
     "name": "stdout",
     "output_type": "stream",
     "text": [
      "Epoch #28: test_reward: 50.300000 ± 9.623409, best_reward: 53.300000 ± 51.969318 in #13\n"
     ]
    },
    {
     "name": "stderr",
     "output_type": "stream",
     "text": [
      "Epoch #29: 1080it [00:03, 348.98it/s, env_step=31320, len=10, n/ep=6, n/st=60, player_1/loss=0.338, player_2/loss=0.049, rew=54.50]\n"
     ]
    },
    {
     "name": "stdout",
     "output_type": "stream",
     "text": [
      "Epoch #29: test_reward: 45.000000 ± 3.000000, best_reward: 53.300000 ± 51.969318 in #13\n"
     ]
    },
    {
     "name": "stderr",
     "output_type": "stream",
     "text": [
      "Epoch #30: 1080it [00:03, 343.54it/s, env_step=32400, len=7, n/ep=3, n/st=60, player_1/loss=0.444, player_2/loss=0.042, rew=27.00]\n"
     ]
    },
    {
     "name": "stdout",
     "output_type": "stream",
     "text": [
      "Epoch #30: test_reward: 46.000000 ± 4.000000, best_reward: 53.300000 ± 51.969318 in #13\n"
     ]
    },
    {
     "name": "stderr",
     "output_type": "stream",
     "text": [
      "Epoch #31: 1080it [00:03, 338.40it/s, env_step=33480, len=8, n/ep=7, n/st=60, player_1/loss=0.301, player_2/loss=0.041, rew=37.29]\n"
     ]
    },
    {
     "name": "stdout",
     "output_type": "stream",
     "text": [
      "Epoch #31: test_reward: 44.000000 ± 0.000000, best_reward: 53.300000 ± 51.969318 in #13\n"
     ]
    },
    {
     "name": "stderr",
     "output_type": "stream",
     "text": [
      "Epoch #32: 1080it [00:03, 349.52it/s, env_step=34560, len=9, n/ep=3, n/st=60, player_1/loss=0.277, player_2/loss=0.029, rew=51.00] \n"
     ]
    },
    {
     "name": "stdout",
     "output_type": "stream",
     "text": [
      "Epoch #32: test_reward: 46.100000 ± 6.300000, best_reward: 53.300000 ± 51.969318 in #13\n"
     ]
    },
    {
     "name": "stderr",
     "output_type": "stream",
     "text": [
      "Epoch #33: 1080it [00:03, 348.10it/s, env_step=35640, len=9, n/ep=5, n/st=60, player_1/loss=0.300, player_2/loss=0.037, rew=52.60] \n"
     ]
    },
    {
     "name": "stdout",
     "output_type": "stream",
     "text": [
      "Epoch #33: test_reward: 45.000000 ± 3.000000, best_reward: 53.300000 ± 51.969318 in #13\n"
     ]
    },
    {
     "name": "stderr",
     "output_type": "stream",
     "text": [
      "Epoch #34: 1080it [00:03, 346.67it/s, env_step=36720, len=10, n/ep=7, n/st=60, player_1/loss=0.166, player_2/loss=0.012, rew=63.00]\n"
     ]
    },
    {
     "name": "stdout",
     "output_type": "stream",
     "text": [
      "Epoch #34: test_reward: 47.100000 ± 6.670082, best_reward: 53.300000 ± 51.969318 in #13\n"
     ]
    },
    {
     "name": "stderr",
     "output_type": "stream",
     "text": [
      "Epoch #35: 1080it [00:03, 349.03it/s, env_step=37800, len=13, n/ep=7, n/st=60, player_1/loss=0.149, player_2/loss=0.009, rew=107.14]\n"
     ]
    },
    {
     "name": "stdout",
     "output_type": "stream",
     "text": [
      "Epoch #35: test_reward: 28.700000 ± 5.100000, best_reward: 53.300000 ± 51.969318 in #13\n"
     ]
    },
    {
     "name": "stderr",
     "output_type": "stream",
     "text": [
      "Epoch #36: 1080it [00:03, 347.67it/s, env_step=38880, len=12, n/ep=7, n/st=60, player_1/loss=0.219, player_2/loss=0.008, rew=87.29]\n"
     ]
    },
    {
     "name": "stdout",
     "output_type": "stream",
     "text": [
      "Epoch #36: test_reward: 44.000000 ± 0.000000, best_reward: 53.300000 ± 51.969318 in #13\n"
     ]
    },
    {
     "name": "stderr",
     "output_type": "stream",
     "text": [
      "Epoch #37: 1080it [00:03, 337.91it/s, env_step=39960, len=11, n/ep=3, n/st=60, player_1/loss=0.140, player_2/loss=0.008, rew=66.33]\n"
     ]
    },
    {
     "name": "stdout",
     "output_type": "stream",
     "text": [
      "Epoch #37: test_reward: 66.900000 ± 62.016853, best_reward: 66.900000 ± 62.016853 in #37\n"
     ]
    },
    {
     "name": "stderr",
     "output_type": "stream",
     "text": [
      "Epoch #38: 1080it [00:03, 337.92it/s, env_step=41040, len=9, n/ep=4, n/st=60, player_1/loss=0.117, player_2/loss=0.005, rew=46.50]  \n"
     ]
    },
    {
     "name": "stdout",
     "output_type": "stream",
     "text": [
      "Epoch #38: test_reward: 86.900000 ± 89.529269, best_reward: 86.900000 ± 89.529269 in #38\n"
     ]
    },
    {
     "name": "stderr",
     "output_type": "stream",
     "text": [
      "Epoch #39: 1080it [00:03, 341.80it/s, env_step=42120, len=13, n/ep=4, n/st=60, player_1/loss=0.067, player_2/loss=0.001, rew=106.50]\n"
     ]
    },
    {
     "name": "stdout",
     "output_type": "stream",
     "text": [
      "Epoch #39: test_reward: 64.900000 ± 62.511519, best_reward: 86.900000 ± 89.529269 in #38\n"
     ]
    },
    {
     "name": "stderr",
     "output_type": "stream",
     "text": [
      "Epoch #40: 1080it [00:03, 343.01it/s, env_step=43200, len=15, n/ep=5, n/st=60, player_1/loss=0.063, player_2/loss=0.002, rew=145.60]\n"
     ]
    },
    {
     "name": "stdout",
     "output_type": "stream",
     "text": [
      "Epoch #40: test_reward: 53.100000 ± 27.300000, best_reward: 86.900000 ± 89.529269 in #38\n"
     ]
    },
    {
     "name": "stderr",
     "output_type": "stream",
     "text": [
      "Epoch #41: 1080it [00:03, 346.59it/s, env_step=44280, len=11, n/ep=6, n/st=60, player_1/loss=0.058, player_2/loss=0.002, rew=73.67] \n"
     ]
    },
    {
     "name": "stdout",
     "output_type": "stream",
     "text": [
      "Epoch #41: test_reward: 56.600000 ± 37.800000, best_reward: 86.900000 ± 89.529269 in #38\n"
     ]
    },
    {
     "name": "stderr",
     "output_type": "stream",
     "text": [
      "Epoch #42: 1080it [00:03, 344.71it/s, env_step=45360, len=13, n/ep=3, n/st=60, player_1/loss=0.055, player_2/loss=0.002, rew=113.00]\n"
     ]
    },
    {
     "name": "stdout",
     "output_type": "stream",
     "text": [
      "Epoch #42: test_reward: 65.200000 ± 62.848707, best_reward: 86.900000 ± 89.529269 in #38\n"
     ]
    },
    {
     "name": "stderr",
     "output_type": "stream",
     "text": [
      "Epoch #43: 1080it [00:03, 348.22it/s, env_step=46440, len=16, n/ep=3, n/st=60, player_1/loss=0.019, player_2/loss=0.001, rew=168.00]\n"
     ]
    },
    {
     "name": "stdout",
     "output_type": "stream",
     "text": [
      "Epoch #43: test_reward: 365.000000 ± 118.897435, best_reward: 365.000000 ± 118.897435 in #43\n"
     ]
    },
    {
     "name": "stderr",
     "output_type": "stream",
     "text": [
      "Epoch #44: 1080it [00:03, 345.19it/s, env_step=47520, len=23, n/ep=4, n/st=60, player_1/loss=0.016, player_2/loss=0.001, rew=316.00]\n"
     ]
    },
    {
     "name": "stdout",
     "output_type": "stream",
     "text": [
      "Epoch #44: test_reward: 228.900000 ± 239.736293, best_reward: 365.000000 ± 118.897435 in #43\n"
     ]
    },
    {
     "name": "stderr",
     "output_type": "stream",
     "text": [
      "Epoch #45: 1080it [00:03, 347.27it/s, env_step=48600, len=14, n/ep=2, n/st=60, player_1/loss=0.014, player_2/loss=0.001, rew=126.50]\n"
     ]
    },
    {
     "name": "stdout",
     "output_type": "stream",
     "text": [
      "Epoch #45: test_reward: 521.700000 ± 412.095147, best_reward: 521.700000 ± 412.095147 in #45\n"
     ]
    },
    {
     "name": "stderr",
     "output_type": "stream",
     "text": [
      "Epoch #46: 1080it [00:03, 347.12it/s, env_step=49680, len=21, n/ep=3, n/st=60, player_1/loss=0.022, player_2/loss=0.001, rew=262.00]\n"
     ]
    },
    {
     "name": "stdout",
     "output_type": "stream",
     "text": [
      "Epoch #46: test_reward: 186.400000 ± 109.561124, best_reward: 521.700000 ± 412.095147 in #45\n"
     ]
    },
    {
     "name": "stderr",
     "output_type": "stream",
     "text": [
      "Epoch #47: 1080it [00:03, 340.67it/s, env_step=50760, len=18, n/ep=5, n/st=60, player_1/loss=0.013, player_2/loss=0.001, rew=191.40]\n"
     ]
    },
    {
     "name": "stdout",
     "output_type": "stream",
     "text": [
      "Epoch #47: test_reward: 189.100000 ± 92.121062, best_reward: 521.700000 ± 412.095147 in #45\n"
     ]
    },
    {
     "name": "stderr",
     "output_type": "stream",
     "text": [
      "Epoch #48: 1080it [00:03, 332.43it/s, env_step=51840, len=19, n/ep=5, n/st=60, player_1/loss=0.005, player_2/loss=0.000, rew=198.20]\n"
     ]
    },
    {
     "name": "stdout",
     "output_type": "stream",
     "text": [
      "Epoch #48: test_reward: 287.100000 ± 189.065306, best_reward: 521.700000 ± 412.095147 in #45\n"
     ]
    },
    {
     "name": "stderr",
     "output_type": "stream",
     "text": [
      "Epoch #49: 1080it [00:03, 335.59it/s, env_step=52920, len=22, n/ep=2, n/st=60, player_1/loss=0.005, player_2/loss=0.000, rew=269.50]\n"
     ]
    },
    {
     "name": "stdout",
     "output_type": "stream",
     "text": [
      "Epoch #49: test_reward: 300.700000 ± 98.413465, best_reward: 521.700000 ± 412.095147 in #45\n"
     ]
    },
    {
     "name": "stderr",
     "output_type": "stream",
     "text": [
      "Epoch #50: 1080it [00:03, 350.92it/s, env_step=54000, len=25, n/ep=3, n/st=60, player_1/loss=0.007, player_2/loss=0.000, rew=337.00]\n"
     ]
    },
    {
     "name": "stdout",
     "output_type": "stream",
     "text": [
      "Epoch #50: test_reward: 298.000000 ± 172.230079, best_reward: 521.700000 ± 412.095147 in #45\n"
     ]
    },
    {
     "name": "stderr",
     "output_type": "stream",
     "text": [
      "Epoch #51: 1080it [00:03, 349.66it/s, env_step=55080, len=25, n/ep=3, n/st=60, player_1/loss=0.006, player_2/loss=0.000, rew=385.33]\n"
     ]
    },
    {
     "name": "stdout",
     "output_type": "stream",
     "text": [
      "Epoch #51: test_reward: 131.400000 ± 101.307650, best_reward: 521.700000 ± 412.095147 in #45\n"
     ]
    },
    {
     "name": "stderr",
     "output_type": "stream",
     "text": [
      "Epoch #52: 1080it [00:03, 351.13it/s, env_step=56160, len=12, n/ep=2, n/st=60, player_1/loss=0.004, player_2/loss=0.000, rew=79.00] \n"
     ]
    },
    {
     "name": "stdout",
     "output_type": "stream",
     "text": [
      "Epoch #52: test_reward: 337.200000 ± 393.679260, best_reward: 521.700000 ± 412.095147 in #45\n"
     ]
    },
    {
     "name": "stderr",
     "output_type": "stream",
     "text": [
      "Epoch #53: 1080it [00:03, 348.91it/s, env_step=57240, len=22, n/ep=4, n/st=60, player_1/loss=0.003, player_2/loss=0.000, rew=257.00]\n"
     ]
    },
    {
     "name": "stdout",
     "output_type": "stream",
     "text": [
      "Epoch #53: test_reward: 313.400000 ± 96.372403, best_reward: 521.700000 ± 412.095147 in #45\n"
     ]
    },
    {
     "name": "stderr",
     "output_type": "stream",
     "text": [
      "Epoch #54: 1080it [00:03, 351.81it/s, env_step=58320, len=28, n/ep=1, n/st=60, player_1/loss=0.002, player_2/loss=0.000, rew=405.00]\n"
     ]
    },
    {
     "name": "stdout",
     "output_type": "stream",
     "text": [
      "Epoch #54: test_reward: 169.500000 ± 102.556570, best_reward: 521.700000 ± 412.095147 in #45\n"
     ]
    },
    {
     "name": "stderr",
     "output_type": "stream",
     "text": [
      "Epoch #55: 1080it [00:03, 351.20it/s, env_step=59400, len=23, n/ep=3, n/st=60, player_1/loss=0.002, player_2/loss=0.000, rew=294.33]\n"
     ]
    },
    {
     "name": "stdout",
     "output_type": "stream",
     "text": [
      "Epoch #55: test_reward: 338.500000 ± 134.960920, best_reward: 521.700000 ± 412.095147 in #45\n"
     ]
    },
    {
     "name": "stderr",
     "output_type": "stream",
     "text": [
      "Epoch #56: 1080it [00:03, 350.52it/s, env_step=60480, len=17, n/ep=3, n/st=60, player_1/loss=0.003, player_2/loss=0.000, rew=164.00]\n"
     ]
    },
    {
     "name": "stdout",
     "output_type": "stream",
     "text": [
      "Epoch #56: test_reward: 237.000000 ± 136.348817, best_reward: 521.700000 ± 412.095147 in #45\n"
     ]
    },
    {
     "name": "stderr",
     "output_type": "stream",
     "text": [
      "Epoch #57: 1080it [00:03, 351.78it/s, env_step=61560, len=17, n/ep=2, n/st=60, player_1/loss=0.001, player_2/loss=0.000, rew=152.50]\n"
     ]
    },
    {
     "name": "stdout",
     "output_type": "stream",
     "text": [
      "Epoch #57: test_reward: 279.300000 ± 245.733209, best_reward: 521.700000 ± 412.095147 in #45\n"
     ]
    },
    {
     "name": "stderr",
     "output_type": "stream",
     "text": [
      "Epoch #58: 1080it [00:03, 349.53it/s, env_step=62640, len=20, n/ep=2, n/st=60, player_1/loss=0.001, player_2/loss=0.000, rew=222.50]\n"
     ]
    },
    {
     "name": "stdout",
     "output_type": "stream",
     "text": [
      "Epoch #58: test_reward: 396.500000 ± 270.699926, best_reward: 521.700000 ± 412.095147 in #45\n"
     ]
    },
    {
     "name": "stderr",
     "output_type": "stream",
     "text": [
      "Epoch #59: 1080it [00:03, 350.19it/s, env_step=63720, len=13, n/ep=2, n/st=60, player_1/loss=0.001, player_2/loss=0.000, rew=108.00]\n"
     ]
    },
    {
     "name": "stdout",
     "output_type": "stream",
     "text": [
      "Epoch #59: test_reward: 203.800000 ± 68.874959, best_reward: 521.700000 ± 412.095147 in #45\n"
     ]
    },
    {
     "name": "stderr",
     "output_type": "stream",
     "text": [
      "Epoch #60: 1080it [00:03, 348.02it/s, env_step=64800, len=18, n/ep=2, n/st=60, player_1/loss=0.001, player_2/loss=0.000, rew=180.50]\n"
     ]
    },
    {
     "name": "stdout",
     "output_type": "stream",
     "text": [
      "Epoch #60: test_reward: 415.400000 ± 265.258817, best_reward: 521.700000 ± 412.095147 in #45\n"
     ]
    },
    {
     "name": "stderr",
     "output_type": "stream",
     "text": [
      "Epoch #61: 1080it [00:03, 352.58it/s, env_step=65880, len=16, n/ep=3, n/st=60, player_1/loss=0.001, player_2/loss=0.000, rew=153.67]\n"
     ]
    },
    {
     "name": "stdout",
     "output_type": "stream",
     "text": [
      "Epoch #61: test_reward: 386.200000 ± 285.656367, best_reward: 521.700000 ± 412.095147 in #45\n"
     ]
    },
    {
     "name": "stderr",
     "output_type": "stream",
     "text": [
      "Epoch #62: 1080it [00:03, 350.10it/s, env_step=66960, len=12, n/ep=3, n/st=60, player_1/loss=0.001, player_2/loss=0.000, rew=81.00] \n"
     ]
    },
    {
     "name": "stdout",
     "output_type": "stream",
     "text": [
      "Epoch #62: test_reward: 147.700000 ± 21.438517, best_reward: 521.700000 ± 412.095147 in #45\n"
     ]
    },
    {
     "name": "stderr",
     "output_type": "stream",
     "text": [
      "Epoch #63: 1080it [00:03, 351.84it/s, env_step=68040, len=16, n/ep=6, n/st=60, player_1/loss=0.001, player_2/loss=0.000, rew=152.17]\n"
     ]
    },
    {
     "name": "stdout",
     "output_type": "stream",
     "text": [
      "Epoch #63: test_reward: 229.900000 ± 42.403891, best_reward: 521.700000 ± 412.095147 in #45\n"
     ]
    },
    {
     "name": "stderr",
     "output_type": "stream",
     "text": [
      "Epoch #64: 1080it [00:03, 349.85it/s, env_step=69120, len=22, n/ep=2, n/st=60, player_1/loss=0.001, player_2/loss=0.000, rew=264.50]\n"
     ]
    },
    {
     "name": "stdout",
     "output_type": "stream",
     "text": [
      "Epoch #64: test_reward: 594.700000 ± 344.331541, best_reward: 594.700000 ± 344.331541 in #64\n"
     ]
    },
    {
     "name": "stderr",
     "output_type": "stream",
     "text": [
      "Epoch #65: 1080it [00:03, 347.38it/s, env_step=70200, len=33, n/ep=1, n/st=60, player_1/loss=0.000, player_2/loss=0.000, rew=560.00]\n"
     ]
    },
    {
     "name": "stdout",
     "output_type": "stream",
     "text": [
      "Epoch #65: test_reward: 149.000000 ± 42.000000, best_reward: 594.700000 ± 344.331541 in #64\n"
     ]
    },
    {
     "name": "stderr",
     "output_type": "stream",
     "text": [
      "Epoch #66: 1080it [00:03, 353.69it/s, env_step=71280, len=20, n/ep=1, n/st=60, player_1/loss=0.000, player_2/loss=0.000, rew=209.00]\n"
     ]
    },
    {
     "name": "stdout",
     "output_type": "stream",
     "text": [
      "Epoch #66: test_reward: 214.000000 ± 130.956481, best_reward: 594.700000 ± 344.331541 in #64\n"
     ]
    },
    {
     "name": "stderr",
     "output_type": "stream",
     "text": [
      "Epoch #67: 1080it [00:03, 347.42it/s, env_step=72360, len=14, n/ep=4, n/st=60, player_1/loss=0.000, player_2/loss=0.000, rew=119.00]\n"
     ]
    },
    {
     "name": "stdout",
     "output_type": "stream",
     "text": [
      "Epoch #67: test_reward: 167.900000 ± 105.644167, best_reward: 594.700000 ± 344.331541 in #64\n"
     ]
    },
    {
     "name": "stderr",
     "output_type": "stream",
     "text": [
      "Epoch #68: 1080it [00:03, 348.52it/s, env_step=73440, len=19, n/ep=1, n/st=60, player_1/loss=0.000, player_2/loss=0.000, rew=189.00]\n"
     ]
    },
    {
     "name": "stdout",
     "output_type": "stream",
     "text": [
      "Epoch #68: test_reward: 267.000000 ± 61.895073, best_reward: 594.700000 ± 344.331541 in #64\n"
     ]
    },
    {
     "name": "stderr",
     "output_type": "stream",
     "text": [
      "Epoch #69: 1080it [00:03, 349.42it/s, env_step=74520, len=18, n/ep=5, n/st=60, player_1/loss=0.000, player_2/loss=0.000, rew=185.00]\n"
     ]
    },
    {
     "name": "stdout",
     "output_type": "stream",
     "text": [
      "Epoch #69: test_reward: 348.800000 ± 214.189075, best_reward: 594.700000 ± 344.331541 in #64\n"
     ]
    },
    {
     "name": "stderr",
     "output_type": "stream",
     "text": [
      "Epoch #70: 1080it [00:03, 353.84it/s, env_step=75600, len=19, n/ep=5, n/st=60, player_1/loss=0.000, player_2/loss=0.000, rew=202.60]\n"
     ]
    },
    {
     "name": "stdout",
     "output_type": "stream",
     "text": [
      "Epoch #70: test_reward: 141.500000 ± 50.697633, best_reward: 594.700000 ± 344.331541 in #64\n"
     ]
    },
    {
     "name": "stderr",
     "output_type": "stream",
     "text": [
      "Epoch #71: 1080it [00:03, 346.40it/s, env_step=76680, len=23, n/ep=4, n/st=60, player_1/loss=0.000, player_2/loss=0.000, rew=293.00]\n"
     ]
    },
    {
     "name": "stdout",
     "output_type": "stream",
     "text": [
      "Epoch #71: test_reward: 130.500000 ± 13.500000, best_reward: 594.700000 ± 344.331541 in #64\n"
     ]
    },
    {
     "name": "stderr",
     "output_type": "stream",
     "text": [
      "Epoch #72: 1080it [00:03, 352.34it/s, env_step=77760, len=25, n/ep=1, n/st=60, player_1/loss=0.000, player_2/loss=0.000, rew=324.00]\n"
     ]
    },
    {
     "name": "stdout",
     "output_type": "stream",
     "text": [
      "Epoch #72: test_reward: 327.600000 ± 205.671680, best_reward: 594.700000 ± 344.331541 in #64\n"
     ]
    },
    {
     "name": "stderr",
     "output_type": "stream",
     "text": [
      "Epoch #73: 1080it [00:03, 348.60it/s, env_step=78840, len=20, n/ep=5, n/st=60, player_1/loss=0.000, player_2/loss=0.000, rew=260.60]\n"
     ]
    },
    {
     "name": "stdout",
     "output_type": "stream",
     "text": [
      "Epoch #73: test_reward: 266.700000 ± 95.017946, best_reward: 594.700000 ± 344.331541 in #64\n"
     ]
    },
    {
     "name": "stderr",
     "output_type": "stream",
     "text": [
      "Epoch #74: 1080it [00:03, 351.30it/s, env_step=79920, len=16, n/ep=1, n/st=60, player_1/loss=0.000, player_2/loss=0.000, rew=135.00]\n"
     ]
    },
    {
     "name": "stdout",
     "output_type": "stream",
     "text": [
      "Epoch #74: test_reward: 196.200000 ± 78.155998, best_reward: 594.700000 ± 344.331541 in #64\n"
     ]
    },
    {
     "name": "stderr",
     "output_type": "stream",
     "text": [
      "Epoch #75: 1080it [00:03, 349.26it/s, env_step=81000, len=24, n/ep=6, n/st=60, player_1/loss=0.000, player_2/loss=0.000, rew=357.67]\n"
     ]
    },
    {
     "name": "stdout",
     "output_type": "stream",
     "text": [
      "Epoch #75: test_reward: 143.200000 ± 43.751114, best_reward: 594.700000 ± 344.331541 in #64\n"
     ]
    },
    {
     "name": "stderr",
     "output_type": "stream",
     "text": [
      "Epoch #76: 1080it [00:03, 349.91it/s, env_step=82080, len=24, n/ep=3, n/st=60, player_1/loss=0.000, player_2/loss=0.000, rew=335.67]\n"
     ]
    },
    {
     "name": "stdout",
     "output_type": "stream",
     "text": [
      "Epoch #76: test_reward: 266.300000 ± 309.218709, best_reward: 594.700000 ± 344.331541 in #64\n"
     ]
    },
    {
     "name": "stderr",
     "output_type": "stream",
     "text": [
      "Epoch #77: 1080it [00:03, 347.67it/s, env_step=83160, len=18, n/ep=0, n/st=60, player_1/loss=0.000, player_2/loss=0.000, rew=210.17]\n"
     ]
    },
    {
     "name": "stdout",
     "output_type": "stream",
     "text": [
      "Epoch #77: test_reward: 520.700000 ± 326.145995, best_reward: 594.700000 ± 344.331541 in #64\n"
     ]
    },
    {
     "name": "stderr",
     "output_type": "stream",
     "text": [
      "Epoch #78: 1080it [00:03, 328.71it/s, env_step=84240, len=14, n/ep=5, n/st=60, player_1/loss=0.000, player_2/loss=0.000, rew=115.80]\n"
     ]
    },
    {
     "name": "stdout",
     "output_type": "stream",
     "text": [
      "Epoch #78: test_reward: 192.900000 ± 94.764392, best_reward: 594.700000 ± 344.331541 in #64\n"
     ]
    },
    {
     "name": "stderr",
     "output_type": "stream",
     "text": [
      "Epoch #79: 1080it [00:03, 343.35it/s, env_step=85320, len=16, n/ep=3, n/st=60, player_1/loss=0.000, player_2/loss=0.000, rew=137.33]\n"
     ]
    },
    {
     "name": "stdout",
     "output_type": "stream",
     "text": [
      "Epoch #79: test_reward: 180.800000 ± 135.309867, best_reward: 594.700000 ± 344.331541 in #64\n"
     ]
    },
    {
     "name": "stderr",
     "output_type": "stream",
     "text": [
      "Epoch #80: 1080it [00:03, 350.29it/s, env_step=86400, len=22, n/ep=4, n/st=60, player_1/loss=0.000, player_2/loss=0.000, rew=326.50]\n"
     ]
    },
    {
     "name": "stdout",
     "output_type": "stream",
     "text": [
      "Epoch #80: test_reward: 297.800000 ± 249.201846, best_reward: 594.700000 ± 344.331541 in #64\n"
     ]
    },
    {
     "name": "stderr",
     "output_type": "stream",
     "text": [
      "Epoch #81: 1080it [00:03, 350.10it/s, env_step=87480, len=18, n/ep=5, n/st=60, player_1/loss=0.000, player_2/loss=0.000, rew=190.20]\n"
     ]
    },
    {
     "name": "stdout",
     "output_type": "stream",
     "text": [
      "Epoch #81: test_reward: 139.000000 ± 63.131609, best_reward: 594.700000 ± 344.331541 in #64\n"
     ]
    },
    {
     "name": "stderr",
     "output_type": "stream",
     "text": [
      "Epoch #82: 1080it [00:03, 351.09it/s, env_step=88560, len=16, n/ep=1, n/st=60, player_1/loss=0.000, player_2/loss=0.000, rew=135.00]\n"
     ]
    },
    {
     "name": "stdout",
     "output_type": "stream",
     "text": [
      "Epoch #82: test_reward: 432.700000 ± 278.272187, best_reward: 594.700000 ± 344.331541 in #64\n"
     ]
    },
    {
     "name": "stderr",
     "output_type": "stream",
     "text": [
      "Epoch #83: 1080it [00:03, 352.57it/s, env_step=89640, len=22, n/ep=5, n/st=60, player_1/loss=0.000, player_2/loss=0.000, rew=273.60]\n"
     ]
    },
    {
     "name": "stdout",
     "output_type": "stream",
     "text": [
      "Epoch #83: test_reward: 187.000000 ± 70.661163, best_reward: 594.700000 ± 344.331541 in #64\n"
     ]
    },
    {
     "name": "stderr",
     "output_type": "stream",
     "text": [
      "Epoch #84: 1080it [00:03, 355.19it/s, env_step=90720, len=32, n/ep=2, n/st=60, player_1/loss=0.000, player_2/loss=0.000, rew=603.50]\n"
     ]
    },
    {
     "name": "stdout",
     "output_type": "stream",
     "text": [
      "Epoch #84: test_reward: 434.500000 ± 298.501675, best_reward: 594.700000 ± 344.331541 in #64\n"
     ]
    },
    {
     "name": "stderr",
     "output_type": "stream",
     "text": [
      "Epoch #85: 1080it [00:03, 348.28it/s, env_step=91800, len=19, n/ep=4, n/st=60, player_1/loss=0.000, player_2/loss=0.000, rew=203.75]\n"
     ]
    },
    {
     "name": "stdout",
     "output_type": "stream",
     "text": [
      "Epoch #85: test_reward: 197.400000 ± 213.388941, best_reward: 594.700000 ± 344.331541 in #64\n"
     ]
    },
    {
     "name": "stderr",
     "output_type": "stream",
     "text": [
      "Epoch #86: 1080it [00:03, 353.16it/s, env_step=92880, len=26, n/ep=3, n/st=60, player_1/loss=0.000, player_2/loss=0.000, rew=384.33]\n"
     ]
    },
    {
     "name": "stdout",
     "output_type": "stream",
     "text": [
      "Epoch #86: test_reward: 313.000000 ± 173.982183, best_reward: 594.700000 ± 344.331541 in #64\n"
     ]
    },
    {
     "name": "stderr",
     "output_type": "stream",
     "text": [
      "Epoch #87: 1080it [00:03, 350.50it/s, env_step=93960, len=13, n/ep=4, n/st=60, player_1/loss=0.000, player_2/loss=0.000, rew=106.25]\n"
     ]
    },
    {
     "name": "stdout",
     "output_type": "stream",
     "text": [
      "Epoch #87: test_reward: 207.900000 ± 97.230088, best_reward: 594.700000 ± 344.331541 in #64\n"
     ]
    },
    {
     "name": "stderr",
     "output_type": "stream",
     "text": [
      "Epoch #88: 1080it [00:03, 350.05it/s, env_step=95040, len=12, n/ep=1, n/st=60, player_1/loss=0.000, player_2/loss=0.000, rew=77.00] \n"
     ]
    },
    {
     "name": "stdout",
     "output_type": "stream",
     "text": [
      "Epoch #88: test_reward: 241.800000 ± 202.170621, best_reward: 594.700000 ± 344.331541 in #64\n"
     ]
    },
    {
     "name": "stderr",
     "output_type": "stream",
     "text": [
      "Epoch #89: 1080it [00:03, 350.41it/s, env_step=96120, len=24, n/ep=0, n/st=60, player_1/loss=0.000, player_2/loss=0.000, rew=311.50]\n"
     ]
    },
    {
     "name": "stdout",
     "output_type": "stream",
     "text": [
      "Epoch #89: test_reward: 114.200000 ± 76.086530, best_reward: 594.700000 ± 344.331541 in #64\n"
     ]
    },
    {
     "name": "stderr",
     "output_type": "stream",
     "text": [
      "Epoch #90: 1080it [00:03, 347.95it/s, env_step=97200, len=18, n/ep=4, n/st=60, player_1/loss=0.000, player_2/loss=0.000, rew=194.00]\n"
     ]
    },
    {
     "name": "stdout",
     "output_type": "stream",
     "text": [
      "Epoch #90: test_reward: 161.400000 ± 133.141429, best_reward: 594.700000 ± 344.331541 in #64\n"
     ]
    },
    {
     "name": "stderr",
     "output_type": "stream",
     "text": [
      "Epoch #91: 1080it [00:03, 350.44it/s, env_step=98280, len=20, n/ep=3, n/st=60, player_1/loss=0.000, player_2/loss=0.000, rew=229.33]\n"
     ]
    },
    {
     "name": "stdout",
     "output_type": "stream",
     "text": [
      "Epoch #91: test_reward: 234.100000 ± 322.359566, best_reward: 594.700000 ± 344.331541 in #64\n"
     ]
    },
    {
     "name": "stderr",
     "output_type": "stream",
     "text": [
      "Epoch #92: 1080it [00:03, 344.77it/s, env_step=99360, len=19, n/ep=3, n/st=60, player_1/loss=0.000, player_2/loss=0.000, rew=217.00]\n"
     ]
    },
    {
     "name": "stdout",
     "output_type": "stream",
     "text": [
      "Epoch #92: test_reward: 275.200000 ± 258.548564, best_reward: 594.700000 ± 344.331541 in #64\n"
     ]
    },
    {
     "name": "stderr",
     "output_type": "stream",
     "text": [
      "Epoch #93: 1080it [00:03, 337.75it/s, env_step=100440, len=13, n/ep=4, n/st=60, player_1/loss=0.000, player_2/loss=0.000, rew=110.50]\n"
     ]
    },
    {
     "name": "stdout",
     "output_type": "stream",
     "text": [
      "Epoch #93: test_reward: 109.500000 ± 68.536487, best_reward: 594.700000 ± 344.331541 in #64\n"
     ]
    },
    {
     "name": "stderr",
     "output_type": "stream",
     "text": [
      "Epoch #94: 1080it [00:03, 347.07it/s, env_step=101520, len=23, n/ep=4, n/st=60, player_1/loss=0.000, player_2/loss=0.000, rew=349.75]\n"
     ]
    },
    {
     "name": "stdout",
     "output_type": "stream",
     "text": [
      "Epoch #94: test_reward: 376.600000 ± 200.542863, best_reward: 594.700000 ± 344.331541 in #64\n"
     ]
    },
    {
     "name": "stderr",
     "output_type": "stream",
     "text": [
      "Epoch #95: 1080it [00:03, 349.54it/s, env_step=102600, len=15, n/ep=0, n/st=60, player_1/loss=0.000, player_2/loss=0.000, rew=141.60]\n"
     ]
    },
    {
     "name": "stdout",
     "output_type": "stream",
     "text": [
      "Epoch #95: test_reward: 326.200000 ± 177.459178, best_reward: 594.700000 ± 344.331541 in #64\n"
     ]
    },
    {
     "name": "stderr",
     "output_type": "stream",
     "text": [
      "Epoch #96: 1080it [00:03, 356.06it/s, env_step=103680, len=22, n/ep=3, n/st=60, player_1/loss=0.000, player_2/loss=0.000, rew=297.00]\n"
     ]
    },
    {
     "name": "stdout",
     "output_type": "stream",
     "text": [
      "Epoch #96: test_reward: 215.800000 ± 251.423467, best_reward: 594.700000 ± 344.331541 in #64\n"
     ]
    },
    {
     "name": "stderr",
     "output_type": "stream",
     "text": [
      "Epoch #97: 1080it [00:03, 348.11it/s, env_step=104760, len=11, n/ep=2, n/st=60, player_1/loss=0.000, player_2/loss=0.000, rew=65.00] \n"
     ]
    },
    {
     "name": "stdout",
     "output_type": "stream",
     "text": [
      "Epoch #97: test_reward: 140.400000 ± 105.477201, best_reward: 594.700000 ± 344.331541 in #64\n"
     ]
    },
    {
     "name": "stderr",
     "output_type": "stream",
     "text": [
      "Epoch #98: 1080it [00:03, 347.98it/s, env_step=105840, len=20, n/ep=3, n/st=60, player_1/loss=0.000, player_2/loss=0.000, rew=231.00]\n"
     ]
    },
    {
     "name": "stdout",
     "output_type": "stream",
     "text": [
      "Epoch #98: test_reward: 321.800000 ± 184.463980, best_reward: 594.700000 ± 344.331541 in #64\n"
     ]
    },
    {
     "name": "stderr",
     "output_type": "stream",
     "text": [
      "Epoch #99: 1080it [00:03, 354.94it/s, env_step=106920, len=20, n/ep=4, n/st=60, player_1/loss=0.000, player_2/loss=0.000, rew=230.50]\n"
     ]
    },
    {
     "name": "stdout",
     "output_type": "stream",
     "text": [
      "Epoch #99: test_reward: 398.700000 ± 304.316299, best_reward: 594.700000 ± 344.331541 in #64\n"
     ]
    },
    {
     "name": "stderr",
     "output_type": "stream",
     "text": [
      "Epoch #100: 1080it [00:03, 349.33it/s, env_step=108000, len=25, n/ep=3, n/st=60, player_1/loss=0.000, player_2/loss=0.000, rew=375.67]\n"
     ]
    },
    {
     "name": "stdout",
     "output_type": "stream",
     "text": [
      "Epoch #100: test_reward: 191.400000 ± 185.516145, best_reward: 594.700000 ± 344.331541 in #64\n"
     ]
    },
    {
     "name": "stderr",
     "output_type": "stream",
     "text": [
      "Epoch #101: 1080it [00:03, 350.25it/s, env_step=109080, len=22, n/ep=5, n/st=60, player_1/loss=0.000, player_2/loss=0.000, rew=264.20]\n"
     ]
    },
    {
     "name": "stdout",
     "output_type": "stream",
     "text": [
      "Epoch #101: test_reward: 197.400000 ± 202.216320, best_reward: 594.700000 ± 344.331541 in #64\n"
     ]
    },
    {
     "name": "stderr",
     "output_type": "stream",
     "text": [
      "Epoch #102: 1080it [00:03, 349.41it/s, env_step=110160, len=24, n/ep=3, n/st=60, player_1/loss=0.000, player_2/loss=0.000, rew=403.67]\n"
     ]
    },
    {
     "name": "stdout",
     "output_type": "stream",
     "text": [
      "Epoch #102: test_reward: 297.000000 ± 321.940678, best_reward: 594.700000 ± 344.331541 in #64\n"
     ]
    },
    {
     "name": "stderr",
     "output_type": "stream",
     "text": [
      "Epoch #103: 1080it [00:03, 348.28it/s, env_step=111240, len=33, n/ep=2, n/st=60, player_1/loss=0.000, player_2/loss=0.000, rew=615.50]\n"
     ]
    },
    {
     "name": "stdout",
     "output_type": "stream",
     "text": [
      "Epoch #103: test_reward: 259.900000 ± 234.056168, best_reward: 594.700000 ± 344.331541 in #64\n"
     ]
    },
    {
     "name": "stderr",
     "output_type": "stream",
     "text": [
      "Epoch #104: 1080it [00:03, 350.85it/s, env_step=112320, len=14, n/ep=1, n/st=60, player_1/loss=0.000, player_2/loss=0.000, rew=104.00]\n"
     ]
    },
    {
     "name": "stdout",
     "output_type": "stream",
     "text": [
      "Epoch #104: test_reward: 130.000000 ± 101.860689, best_reward: 594.700000 ± 344.331541 in #64\n"
     ]
    },
    {
     "name": "stderr",
     "output_type": "stream",
     "text": [
      "Epoch #105: 1080it [00:03, 347.74it/s, env_step=113400, len=31, n/ep=2, n/st=60, player_1/loss=0.000, player_2/loss=0.000, rew=497.00]\n"
     ]
    },
    {
     "name": "stdout",
     "output_type": "stream",
     "text": [
      "Epoch #105: test_reward: 110.000000 ± 84.498521, best_reward: 594.700000 ± 344.331541 in #64\n"
     ]
    },
    {
     "name": "stderr",
     "output_type": "stream",
     "text": [
      "Epoch #106: 1080it [00:03, 348.94it/s, env_step=114480, len=18, n/ep=2, n/st=60, player_1/loss=0.000, player_2/loss=0.000, rew=182.50]\n"
     ]
    },
    {
     "name": "stdout",
     "output_type": "stream",
     "text": [
      "Epoch #106: test_reward: 272.700000 ± 136.799890, best_reward: 594.700000 ± 344.331541 in #64\n"
     ]
    },
    {
     "name": "stderr",
     "output_type": "stream",
     "text": [
      "Epoch #107: 1080it [00:03, 350.14it/s, env_step=115560, len=17, n/ep=3, n/st=60, player_1/loss=0.000, player_2/loss=0.000, rew=166.67]\n"
     ]
    },
    {
     "name": "stdout",
     "output_type": "stream",
     "text": [
      "Epoch #107: test_reward: 228.600000 ± 274.423104, best_reward: 594.700000 ± 344.331541 in #64\n"
     ]
    },
    {
     "name": "stderr",
     "output_type": "stream",
     "text": [
      "Epoch #108: 1080it [00:03, 346.92it/s, env_step=116640, len=16, n/ep=1, n/st=60, player_1/loss=0.000, player_2/loss=0.000, rew=135.00]\n"
     ]
    },
    {
     "name": "stdout",
     "output_type": "stream",
     "text": [
      "Epoch #108: test_reward: 259.100000 ± 243.507064, best_reward: 594.700000 ± 344.331541 in #64\n"
     ]
    },
    {
     "name": "stderr",
     "output_type": "stream",
     "text": [
      "Epoch #109: 1080it [00:03, 350.44it/s, env_step=117720, len=18, n/ep=2, n/st=60, player_1/loss=0.000, player_2/loss=0.000, rew=189.50]\n"
     ]
    },
    {
     "name": "stdout",
     "output_type": "stream",
     "text": [
      "Epoch #109: test_reward: 251.300000 ± 147.133307, best_reward: 594.700000 ± 344.331541 in #64\n"
     ]
    },
    {
     "name": "stderr",
     "output_type": "stream",
     "text": [
      "Epoch #110: 1080it [00:03, 348.25it/s, env_step=118800, len=28, n/ep=2, n/st=60, player_1/loss=0.000, player_2/loss=0.000, rew=413.00]\n"
     ]
    },
    {
     "name": "stdout",
     "output_type": "stream",
     "text": [
      "Epoch #110: test_reward: 166.200000 ± 85.123205, best_reward: 594.700000 ± 344.331541 in #64\n"
     ]
    },
    {
     "name": "stderr",
     "output_type": "stream",
     "text": [
      "Epoch #111: 1080it [00:03, 348.18it/s, env_step=119880, len=12, n/ep=3, n/st=60, player_1/loss=0.000, player_2/loss=0.000, rew=83.00]\n"
     ]
    },
    {
     "name": "stdout",
     "output_type": "stream",
     "text": [
      "Epoch #111: test_reward: 338.300000 ± 250.682688, best_reward: 594.700000 ± 344.331541 in #64\n"
     ]
    },
    {
     "name": "stderr",
     "output_type": "stream",
     "text": [
      "Epoch #112: 1080it [00:03, 352.29it/s, env_step=120960, len=23, n/ep=3, n/st=60, player_1/loss=0.000, player_2/loss=0.000, rew=299.67]\n"
     ]
    },
    {
     "name": "stdout",
     "output_type": "stream",
     "text": [
      "Epoch #112: test_reward: 222.400000 ± 231.691260, best_reward: 594.700000 ± 344.331541 in #64\n"
     ]
    },
    {
     "name": "stderr",
     "output_type": "stream",
     "text": [
      "Epoch #113: 1080it [00:03, 348.75it/s, env_step=122040, len=21, n/ep=0, n/st=60, player_1/loss=0.000, player_2/loss=0.000, rew=262.25]\n"
     ]
    },
    {
     "name": "stdout",
     "output_type": "stream",
     "text": [
      "Epoch #113: test_reward: 287.600000 ± 259.808083, best_reward: 594.700000 ± 344.331541 in #64\n"
     ]
    },
    {
     "name": "stderr",
     "output_type": "stream",
     "text": [
      "Epoch #114: 1080it [00:03, 347.28it/s, env_step=123120, len=26, n/ep=3, n/st=60, player_1/loss=0.000, player_2/loss=0.000, rew=445.00]\n"
     ]
    },
    {
     "name": "stdout",
     "output_type": "stream",
     "text": [
      "Epoch #114: test_reward: 101.700000 ± 105.806474, best_reward: 594.700000 ± 344.331541 in #64\n"
     ]
    },
    {
     "name": "stderr",
     "output_type": "stream",
     "text": [
      "Epoch #115: 1080it [00:03, 351.90it/s, env_step=124200, len=19, n/ep=3, n/st=60, player_1/loss=0.000, player_2/loss=0.000, rew=277.33]\n"
     ]
    },
    {
     "name": "stdout",
     "output_type": "stream",
     "text": [
      "Epoch #115: test_reward: 167.900000 ± 157.670194, best_reward: 594.700000 ± 344.331541 in #64\n"
     ]
    },
    {
     "name": "stderr",
     "output_type": "stream",
     "text": [
      "Epoch #116: 1080it [00:03, 350.33it/s, env_step=125280, len=20, n/ep=3, n/st=60, player_1/loss=0.000, player_2/loss=0.000, rew=262.67]\n"
     ]
    },
    {
     "name": "stdout",
     "output_type": "stream",
     "text": [
      "Epoch #116: test_reward: 203.000000 ± 47.053161, best_reward: 594.700000 ± 344.331541 in #64\n"
     ]
    },
    {
     "name": "stderr",
     "output_type": "stream",
     "text": [
      "Epoch #117: 1080it [00:03, 345.96it/s, env_step=126360, len=26, n/ep=3, n/st=60, player_1/loss=0.000, player_2/loss=0.000, rew=350.33]\n"
     ]
    },
    {
     "name": "stdout",
     "output_type": "stream",
     "text": [
      "Epoch #117: test_reward: 441.900000 ± 265.666501, best_reward: 594.700000 ± 344.331541 in #64\n"
     ]
    },
    {
     "name": "stderr",
     "output_type": "stream",
     "text": [
      "Epoch #118: 1080it [00:03, 351.51it/s, env_step=127440, len=24, n/ep=2, n/st=60, player_1/loss=0.000, player_2/loss=0.000, rew=299.00]\n"
     ]
    },
    {
     "name": "stdout",
     "output_type": "stream",
     "text": [
      "Epoch #118: test_reward: 334.900000 ± 211.905380, best_reward: 594.700000 ± 344.331541 in #64\n"
     ]
    },
    {
     "name": "stderr",
     "output_type": "stream",
     "text": [
      "Epoch #119: 1080it [00:03, 351.51it/s, env_step=128520, len=16, n/ep=1, n/st=60, player_1/loss=0.000, player_2/loss=0.000, rew=135.00]\n"
     ]
    },
    {
     "name": "stdout",
     "output_type": "stream",
     "text": [
      "Epoch #119: test_reward: 161.500000 ± 158.088741, best_reward: 594.700000 ± 344.331541 in #64\n"
     ]
    },
    {
     "name": "stderr",
     "output_type": "stream",
     "text": [
      "Epoch #120: 1080it [00:03, 348.22it/s, env_step=129600, len=21, n/ep=2, n/st=60, player_1/loss=0.000, player_2/loss=0.000, rew=232.00]\n"
     ]
    },
    {
     "name": "stdout",
     "output_type": "stream",
     "text": [
      "Epoch #120: test_reward: 188.100000 ± 29.272684, best_reward: 594.700000 ± 344.331541 in #64\n"
     ]
    },
    {
     "name": "stderr",
     "output_type": "stream",
     "text": [
      "Epoch #121: 1080it [00:03, 349.27it/s, env_step=130680, len=20, n/ep=3, n/st=60, player_1/loss=0.000, player_2/loss=0.000, rew=223.33]\n"
     ]
    },
    {
     "name": "stdout",
     "output_type": "stream",
     "text": [
      "Epoch #121: test_reward: 281.100000 ± 225.916998, best_reward: 594.700000 ± 344.331541 in #64\n"
     ]
    },
    {
     "name": "stderr",
     "output_type": "stream",
     "text": [
      "Epoch #122: 1080it [00:03, 352.42it/s, env_step=131760, len=22, n/ep=4, n/st=60, player_1/loss=0.000, player_2/loss=0.000, rew=274.50]\n"
     ]
    },
    {
     "name": "stdout",
     "output_type": "stream",
     "text": [
      "Epoch #122: test_reward: 322.900000 ± 272.507046, best_reward: 594.700000 ± 344.331541 in #64\n"
     ]
    },
    {
     "name": "stderr",
     "output_type": "stream",
     "text": [
      "Epoch #123: 1080it [00:03, 349.39it/s, env_step=132840, len=18, n/ep=1, n/st=60, player_1/loss=0.000, player_2/loss=0.000, rew=170.00]\n"
     ]
    },
    {
     "name": "stdout",
     "output_type": "stream",
     "text": [
      "Epoch #123: test_reward: 227.500000 ± 133.775371, best_reward: 594.700000 ± 344.331541 in #64\n"
     ]
    },
    {
     "name": "stderr",
     "output_type": "stream",
     "text": [
      "Epoch #124: 1080it [00:03, 351.83it/s, env_step=133920, len=19, n/ep=5, n/st=60, player_1/loss=0.000, player_2/loss=0.000, rew=211.00]\n"
     ]
    },
    {
     "name": "stdout",
     "output_type": "stream",
     "text": [
      "Epoch #124: test_reward: 273.300000 ± 223.807976, best_reward: 594.700000 ± 344.331541 in #64\n"
     ]
    },
    {
     "name": "stderr",
     "output_type": "stream",
     "text": [
      "Epoch #125: 1080it [00:03, 353.48it/s, env_step=135000, len=27, n/ep=3, n/st=60, player_1/loss=0.000, player_2/loss=0.000, rew=450.00]\n"
     ]
    },
    {
     "name": "stdout",
     "output_type": "stream",
     "text": [
      "Epoch #125: test_reward: 553.700000 ± 343.779886, best_reward: 594.700000 ± 344.331541 in #64\n"
     ]
    },
    {
     "name": "stderr",
     "output_type": "stream",
     "text": [
      "Epoch #126: 1080it [00:03, 348.93it/s, env_step=136080, len=24, n/ep=4, n/st=60, player_1/loss=0.000, player_2/loss=0.000, rew=371.25]\n"
     ]
    },
    {
     "name": "stdout",
     "output_type": "stream",
     "text": [
      "Epoch #126: test_reward: 268.100000 ± 227.668377, best_reward: 594.700000 ± 344.331541 in #64\n"
     ]
    },
    {
     "name": "stderr",
     "output_type": "stream",
     "text": [
      "Epoch #127: 1080it [00:03, 349.58it/s, env_step=137160, len=24, n/ep=4, n/st=60, player_1/loss=0.000, player_2/loss=0.000, rew=314.50]\n"
     ]
    },
    {
     "name": "stdout",
     "output_type": "stream",
     "text": [
      "Epoch #127: test_reward: 354.900000 ± 292.904233, best_reward: 594.700000 ± 344.331541 in #64\n"
     ]
    },
    {
     "name": "stderr",
     "output_type": "stream",
     "text": [
      "Epoch #128: 1080it [00:03, 349.87it/s, env_step=138240, len=20, n/ep=4, n/st=60, player_1/loss=0.000, player_2/loss=0.000, rew=252.75]\n"
     ]
    },
    {
     "name": "stdout",
     "output_type": "stream",
     "text": [
      "Epoch #128: test_reward: 449.400000 ± 277.149130, best_reward: 594.700000 ± 344.331541 in #64\n"
     ]
    },
    {
     "name": "stderr",
     "output_type": "stream",
     "text": [
      "Epoch #129: 1080it [00:03, 353.12it/s, env_step=139320, len=22, n/ep=1, n/st=60, player_1/loss=0.000, player_2/loss=0.000, rew=252.00]\n"
     ]
    },
    {
     "name": "stdout",
     "output_type": "stream",
     "text": [
      "Epoch #129: test_reward: 231.000000 ± 30.456526, best_reward: 594.700000 ± 344.331541 in #64\n"
     ]
    },
    {
     "name": "stderr",
     "output_type": "stream",
     "text": [
      "Epoch #130: 1080it [00:03, 349.73it/s, env_step=140400, len=24, n/ep=1, n/st=60, player_1/loss=0.000, player_2/loss=0.000, rew=299.00]\n"
     ]
    },
    {
     "name": "stdout",
     "output_type": "stream",
     "text": [
      "Epoch #130: test_reward: 270.700000 ± 81.229367, best_reward: 594.700000 ± 344.331541 in #64\n"
     ]
    },
    {
     "name": "stderr",
     "output_type": "stream",
     "text": [
      "Epoch #131: 1080it [00:03, 352.26it/s, env_step=141480, len=25, n/ep=5, n/st=60, player_1/loss=0.000, player_2/loss=0.000, rew=369.40]\n"
     ]
    },
    {
     "name": "stdout",
     "output_type": "stream",
     "text": [
      "Epoch #131: test_reward: 116.200000 ± 113.152817, best_reward: 594.700000 ± 344.331541 in #64\n"
     ]
    },
    {
     "name": "stderr",
     "output_type": "stream",
     "text": [
      "Epoch #132: 1080it [00:03, 348.86it/s, env_step=142560, len=21, n/ep=2, n/st=60, player_1/loss=0.000, player_2/loss=0.000, rew=242.50]\n"
     ]
    },
    {
     "name": "stdout",
     "output_type": "stream",
     "text": [
      "Epoch #132: test_reward: 374.800000 ± 205.877051, best_reward: 594.700000 ± 344.331541 in #64\n"
     ]
    },
    {
     "name": "stderr",
     "output_type": "stream",
     "text": [
      "Epoch #133: 1080it [00:03, 350.57it/s, env_step=143640, len=13, n/ep=3, n/st=60, player_1/loss=0.000, player_2/loss=0.000, rew=113.33]\n"
     ]
    },
    {
     "name": "stdout",
     "output_type": "stream",
     "text": [
      "Epoch #133: test_reward: 165.100000 ± 257.721730, best_reward: 594.700000 ± 344.331541 in #64\n"
     ]
    },
    {
     "name": "stderr",
     "output_type": "stream",
     "text": [
      "Epoch #134: 1080it [00:03, 347.10it/s, env_step=144720, len=17, n/ep=3, n/st=60, player_1/loss=0.000, player_2/loss=0.000, rew=166.33]\n"
     ]
    },
    {
     "name": "stdout",
     "output_type": "stream",
     "text": [
      "Epoch #134: test_reward: 349.800000 ± 239.931990, best_reward: 594.700000 ± 344.331541 in #64\n"
     ]
    },
    {
     "name": "stderr",
     "output_type": "stream",
     "text": [
      "Epoch #135: 1080it [00:03, 352.51it/s, env_step=145800, len=26, n/ep=2, n/st=60, player_1/loss=0.000, player_2/loss=0.000, rew=352.00]\n"
     ]
    },
    {
     "name": "stdout",
     "output_type": "stream",
     "text": [
      "Epoch #135: test_reward: 313.000000 ± 152.803141, best_reward: 594.700000 ± 344.331541 in #64\n"
     ]
    },
    {
     "name": "stderr",
     "output_type": "stream",
     "text": [
      "Epoch #136: 1080it [00:03, 347.65it/s, env_step=146880, len=19, n/ep=4, n/st=60, player_1/loss=0.000, player_2/loss=0.000, rew=219.00]\n"
     ]
    },
    {
     "name": "stdout",
     "output_type": "stream",
     "text": [
      "Epoch #136: test_reward: 65.900000 ± 62.412258, best_reward: 594.700000 ± 344.331541 in #64\n"
     ]
    },
    {
     "name": "stderr",
     "output_type": "stream",
     "text": [
      "Epoch #137: 1080it [00:03, 349.15it/s, env_step=147960, len=14, n/ep=5, n/st=60, player_1/loss=0.000, player_2/loss=0.000, rew=146.60]\n"
     ]
    },
    {
     "name": "stdout",
     "output_type": "stream",
     "text": [
      "Epoch #137: test_reward: 275.300000 ± 171.305604, best_reward: 594.700000 ± 344.331541 in #64\n"
     ]
    },
    {
     "name": "stderr",
     "output_type": "stream",
     "text": [
      "Epoch #138: 1080it [00:03, 351.62it/s, env_step=149040, len=12, n/ep=4, n/st=60, player_1/loss=0.000, player_2/loss=0.000, rew=101.75]\n"
     ]
    },
    {
     "name": "stdout",
     "output_type": "stream",
     "text": [
      "Epoch #138: test_reward: 151.800000 ± 185.978386, best_reward: 594.700000 ± 344.331541 in #64\n"
     ]
    },
    {
     "name": "stderr",
     "output_type": "stream",
     "text": [
      "Epoch #139: 1080it [00:03, 353.75it/s, env_step=150120, len=17, n/ep=2, n/st=60, player_1/loss=0.000, player_2/loss=0.000, rew=167.00]\n"
     ]
    },
    {
     "name": "stdout",
     "output_type": "stream",
     "text": [
      "Epoch #139: test_reward: 47.100000 ± 6.670082, best_reward: 594.700000 ± 344.331541 in #64\n"
     ]
    },
    {
     "name": "stderr",
     "output_type": "stream",
     "text": [
      "Epoch #140: 1080it [00:03, 347.14it/s, env_step=151200, len=10, n/ep=0, n/st=60, player_1/loss=0.000, player_2/loss=0.000, rew=54.00]\n"
     ]
    },
    {
     "name": "stdout",
     "output_type": "stream",
     "text": [
      "Epoch #140: test_reward: 184.700000 ± 270.024832, best_reward: 594.700000 ± 344.331541 in #64\n"
     ]
    },
    {
     "name": "stderr",
     "output_type": "stream",
     "text": [
      "Epoch #141: 1080it [00:03, 353.50it/s, env_step=152280, len=10, n/ep=2, n/st=60, player_1/loss=0.000, player_2/loss=0.000, rew=54.50] \n"
     ]
    },
    {
     "name": "stdout",
     "output_type": "stream",
     "text": [
      "Epoch #141: test_reward: 380.500000 ± 199.556634, best_reward: 594.700000 ± 344.331541 in #64\n"
     ]
    },
    {
     "name": "stderr",
     "output_type": "stream",
     "text": [
      "Epoch #142: 1080it [00:03, 346.33it/s, env_step=153360, len=23, n/ep=2, n/st=60, player_1/loss=0.000, player_2/loss=0.000, rew=275.00]\n"
     ]
    },
    {
     "name": "stdout",
     "output_type": "stream",
     "text": [
      "Epoch #142: test_reward: 45.200000 ± 15.885843, best_reward: 594.700000 ± 344.331541 in #64\n"
     ]
    },
    {
     "name": "stderr",
     "output_type": "stream",
     "text": [
      "Epoch #143: 1080it [00:03, 349.04it/s, env_step=154440, len=17, n/ep=2, n/st=60, player_1/loss=0.000, player_2/loss=0.000, rew=156.50]\n"
     ]
    },
    {
     "name": "stdout",
     "output_type": "stream",
     "text": [
      "Epoch #143: test_reward: 493.600000 ± 305.910837, best_reward: 594.700000 ± 344.331541 in #64\n"
     ]
    },
    {
     "name": "stderr",
     "output_type": "stream",
     "text": [
      "Epoch #144: 1080it [00:03, 351.37it/s, env_step=155520, len=30, n/ep=1, n/st=60, player_1/loss=0.000, player_2/loss=0.000, rew=464.00]\n"
     ]
    },
    {
     "name": "stdout",
     "output_type": "stream",
     "text": [
      "Epoch #144: test_reward: 87.900000 ± 137.250464, best_reward: 594.700000 ± 344.331541 in #64\n"
     ]
    },
    {
     "name": "stderr",
     "output_type": "stream",
     "text": [
      "Epoch #145: 1080it [00:03, 350.35it/s, env_step=156600, len=21, n/ep=3, n/st=60, player_1/loss=0.000, player_2/loss=0.000, rew=267.00]\n"
     ]
    },
    {
     "name": "stdout",
     "output_type": "stream",
     "text": [
      "Epoch #145: test_reward: 73.200000 ± 20.908372, best_reward: 594.700000 ± 344.331541 in #64\n"
     ]
    },
    {
     "name": "stderr",
     "output_type": "stream",
     "text": [
      "Epoch #146: 1080it [00:03, 348.78it/s, env_step=157680, len=12, n/ep=1, n/st=60, player_1/loss=0.000, player_2/loss=0.000, rew=77.00] \n"
     ]
    },
    {
     "name": "stdout",
     "output_type": "stream",
     "text": [
      "Epoch #146: test_reward: 217.600000 ± 202.356715, best_reward: 594.700000 ± 344.331541 in #64\n"
     ]
    },
    {
     "name": "stderr",
     "output_type": "stream",
     "text": [
      "Epoch #147: 1080it [00:03, 350.17it/s, env_step=158760, len=21, n/ep=4, n/st=60, player_1/loss=0.000, player_2/loss=0.000, rew=256.25]\n"
     ]
    },
    {
     "name": "stdout",
     "output_type": "stream",
     "text": [
      "Epoch #147: test_reward: 231.800000 ± 244.076136, best_reward: 594.700000 ± 344.331541 in #64\n"
     ]
    },
    {
     "name": "stderr",
     "output_type": "stream",
     "text": [
      "Epoch #148: 1080it [00:03, 348.16it/s, env_step=159840, len=21, n/ep=1, n/st=60, player_1/loss=0.000, player_2/loss=0.000, rew=230.00]\n"
     ]
    },
    {
     "name": "stdout",
     "output_type": "stream",
     "text": [
      "Epoch #148: test_reward: 49.100000 ± 15.990310, best_reward: 594.700000 ± 344.331541 in #64\n"
     ]
    },
    {
     "name": "stderr",
     "output_type": "stream",
     "text": [
      "Epoch #149: 1080it [00:03, 350.91it/s, env_step=160920, len=23, n/ep=4, n/st=60, player_1/loss=0.000, player_2/loss=0.000, rew=292.75]\n"
     ]
    },
    {
     "name": "stdout",
     "output_type": "stream",
     "text": [
      "Epoch #149: test_reward: 86.000000 ± 63.000000, best_reward: 594.700000 ± 344.331541 in #64\n"
     ]
    },
    {
     "name": "stderr",
     "output_type": "stream",
     "text": [
      "Epoch #150: 1080it [00:03, 352.56it/s, env_step=162000, len=19, n/ep=3, n/st=60, player_1/loss=0.000, player_2/loss=0.000, rew=229.00]\n"
     ]
    },
    {
     "name": "stdout",
     "output_type": "stream",
     "text": [
      "Epoch #150: test_reward: 86.900000 ± 87.837862, best_reward: 594.700000 ± 344.331541 in #64\n"
     ]
    },
    {
     "name": "stderr",
     "output_type": "stream",
     "text": [
      "Epoch #151: 1080it [00:03, 351.81it/s, env_step=163080, len=23, n/ep=5, n/st=60, player_1/loss=0.000, player_2/loss=0.000, rew=321.00]\n"
     ]
    },
    {
     "name": "stdout",
     "output_type": "stream",
     "text": [
      "Epoch #151: test_reward: 304.900000 ± 246.700000, best_reward: 594.700000 ± 344.331541 in #64\n"
     ]
    },
    {
     "name": "stderr",
     "output_type": "stream",
     "text": [
      "Epoch #152: 1080it [00:03, 350.47it/s, env_step=164160, len=25, n/ep=3, n/st=60, player_1/loss=0.000, player_2/loss=0.000, rew=378.33]\n"
     ]
    },
    {
     "name": "stdout",
     "output_type": "stream",
     "text": [
      "Epoch #152: test_reward: 447.900000 ± 271.954206, best_reward: 594.700000 ± 344.331541 in #64\n"
     ]
    },
    {
     "name": "stderr",
     "output_type": "stream",
     "text": [
      "Epoch #153: 1080it [00:03, 350.16it/s, env_step=165240, len=24, n/ep=2, n/st=60, player_1/loss=0.000, player_2/loss=0.000, rew=339.50]\n"
     ]
    },
    {
     "name": "stdout",
     "output_type": "stream",
     "text": [
      "Epoch #153: test_reward: 149.500000 ± 137.785522, best_reward: 594.700000 ± 344.331541 in #64\n"
     ]
    },
    {
     "name": "stderr",
     "output_type": "stream",
     "text": [
      "Epoch #154: 1080it [00:03, 350.72it/s, env_step=166320, len=18, n/ep=5, n/st=60, player_1/loss=0.000, player_2/loss=0.000, rew=198.60]\n"
     ]
    },
    {
     "name": "stdout",
     "output_type": "stream",
     "text": [
      "Epoch #154: test_reward: 101.500000 ± 101.440869, best_reward: 594.700000 ± 344.331541 in #64\n"
     ]
    },
    {
     "name": "stderr",
     "output_type": "stream",
     "text": [
      "Epoch #155: 1080it [00:03, 351.92it/s, env_step=167400, len=23, n/ep=5, n/st=60, player_1/loss=0.000, player_2/loss=0.000, rew=356.80]\n"
     ]
    },
    {
     "name": "stdout",
     "output_type": "stream",
     "text": [
      "Epoch #155: test_reward: 84.000000 ± 49.234135, best_reward: 594.700000 ± 344.331541 in #64\n"
     ]
    },
    {
     "name": "stderr",
     "output_type": "stream",
     "text": [
      "Epoch #156: 1080it [00:03, 352.02it/s, env_step=168480, len=22, n/ep=5, n/st=60, player_1/loss=0.000, player_2/loss=0.000, rew=277.40]\n"
     ]
    },
    {
     "name": "stdout",
     "output_type": "stream",
     "text": [
      "Epoch #156: test_reward: 290.000000 ± 140.942541, best_reward: 594.700000 ± 344.331541 in #64\n"
     ]
    },
    {
     "name": "stderr",
     "output_type": "stream",
     "text": [
      "Epoch #157: 1080it [00:03, 352.10it/s, env_step=169560, len=21, n/ep=5, n/st=60, player_1/loss=0.000, player_2/loss=0.000, rew=290.20]\n"
     ]
    },
    {
     "name": "stdout",
     "output_type": "stream",
     "text": [
      "Epoch #157: test_reward: 330.200000 ± 108.555792, best_reward: 594.700000 ± 344.331541 in #64\n"
     ]
    },
    {
     "name": "stderr",
     "output_type": "stream",
     "text": [
      "Epoch #158: 1080it [00:03, 350.75it/s, env_step=170640, len=20, n/ep=2, n/st=60, player_1/loss=0.000, player_2/loss=0.000, rew=234.50]\n"
     ]
    },
    {
     "name": "stdout",
     "output_type": "stream",
     "text": [
      "Epoch #158: test_reward: 417.900000 ± 245.228241, best_reward: 594.700000 ± 344.331541 in #64\n"
     ]
    },
    {
     "name": "stderr",
     "output_type": "stream",
     "text": [
      "Epoch #159: 1080it [00:03, 348.70it/s, env_step=171720, len=14, n/ep=4, n/st=60, player_1/loss=0.000, player_2/loss=0.000, rew=128.50]\n"
     ]
    },
    {
     "name": "stdout",
     "output_type": "stream",
     "text": [
      "Epoch #159: test_reward: 70.000000 ± 10.000000, best_reward: 594.700000 ± 344.331541 in #64\n"
     ]
    },
    {
     "name": "stderr",
     "output_type": "stream",
     "text": [
      "Epoch #160: 1080it [00:03, 348.78it/s, env_step=172800, len=17, n/ep=6, n/st=60, player_1/loss=0.000, player_2/loss=0.000, rew=181.00]\n"
     ]
    },
    {
     "name": "stdout",
     "output_type": "stream",
     "text": [
      "Epoch #160: test_reward: 111.800000 ± 33.385027, best_reward: 594.700000 ± 344.331541 in #64\n"
     ]
    },
    {
     "name": "stderr",
     "output_type": "stream",
     "text": [
      "Epoch #161: 1080it [00:03, 357.45it/s, env_step=173880, len=11, n/ep=2, n/st=60, player_1/loss=0.000, player_2/loss=0.000, rew=65.50] \n"
     ]
    },
    {
     "name": "stdout",
     "output_type": "stream",
     "text": [
      "Epoch #161: test_reward: 358.900000 ± 121.517447, best_reward: 594.700000 ± 344.331541 in #64\n"
     ]
    },
    {
     "name": "stderr",
     "output_type": "stream",
     "text": [
      "Epoch #162: 1080it [00:03, 346.77it/s, env_step=174960, len=14, n/ep=2, n/st=60, player_1/loss=0.000, player_2/loss=0.000, rew=126.50]\n"
     ]
    },
    {
     "name": "stdout",
     "output_type": "stream",
     "text": [
      "Epoch #162: test_reward: 79.000000 ± 35.179540, best_reward: 594.700000 ± 344.331541 in #64\n"
     ]
    },
    {
     "name": "stderr",
     "output_type": "stream",
     "text": [
      "Epoch #163: 1080it [00:03, 356.36it/s, env_step=176040, len=20, n/ep=3, n/st=60, player_1/loss=0.000, player_2/loss=0.000, rew=219.33]\n"
     ]
    },
    {
     "name": "stdout",
     "output_type": "stream",
     "text": [
      "Epoch #163: test_reward: 319.500000 ± 140.312687, best_reward: 594.700000 ± 344.331541 in #64\n"
     ]
    },
    {
     "name": "stderr",
     "output_type": "stream",
     "text": [
      "Epoch #164: 1080it [00:03, 347.77it/s, env_step=177120, len=16, n/ep=2, n/st=60, player_1/loss=0.000, player_2/loss=0.000, rew=139.50]\n"
     ]
    },
    {
     "name": "stdout",
     "output_type": "stream",
     "text": [
      "Epoch #164: test_reward: 190.600000 ± 259.358131, best_reward: 594.700000 ± 344.331541 in #64\n"
     ]
    },
    {
     "name": "stderr",
     "output_type": "stream",
     "text": [
      "Epoch #165: 1080it [00:03, 351.48it/s, env_step=178200, len=19, n/ep=6, n/st=60, player_1/loss=0.000, player_2/loss=0.000, rew=207.67]\n"
     ]
    },
    {
     "name": "stdout",
     "output_type": "stream",
     "text": [
      "Epoch #165: test_reward: 64.100000 ± 21.215325, best_reward: 594.700000 ± 344.331541 in #64\n"
     ]
    },
    {
     "name": "stderr",
     "output_type": "stream",
     "text": [
      "Epoch #166: 1080it [00:03, 347.44it/s, env_step=179280, len=18, n/ep=1, n/st=60, player_1/loss=0.000, player_2/loss=0.000, rew=170.00]\n"
     ]
    },
    {
     "name": "stdout",
     "output_type": "stream",
     "text": [
      "Epoch #166: test_reward: 218.700000 ± 54.140650, best_reward: 594.700000 ± 344.331541 in #64\n"
     ]
    },
    {
     "name": "stderr",
     "output_type": "stream",
     "text": [
      "Epoch #167: 1080it [00:03, 347.08it/s, env_step=180360, len=20, n/ep=2, n/st=60, player_1/loss=0.000, player_2/loss=0.000, rew=209.50]\n"
     ]
    },
    {
     "name": "stdout",
     "output_type": "stream",
     "text": [
      "Epoch #167: test_reward: 331.500000 ± 74.073275, best_reward: 594.700000 ± 344.331541 in #64\n"
     ]
    },
    {
     "name": "stderr",
     "output_type": "stream",
     "text": [
      "Epoch #168: 1080it [00:03, 356.00it/s, env_step=181440, len=17, n/ep=2, n/st=60, player_1/loss=0.000, player_2/loss=0.000, rew=164.00]\n"
     ]
    },
    {
     "name": "stdout",
     "output_type": "stream",
     "text": [
      "Epoch #168: test_reward: 398.600000 ± 224.088018, best_reward: 594.700000 ± 344.331541 in #64\n"
     ]
    },
    {
     "name": "stderr",
     "output_type": "stream",
     "text": [
      "Epoch #169: 1080it [00:03, 349.31it/s, env_step=182520, len=24, n/ep=5, n/st=60, player_1/loss=0.000, player_2/loss=0.000, rew=326.60]\n"
     ]
    },
    {
     "name": "stdout",
     "output_type": "stream",
     "text": [
      "Epoch #169: test_reward: 99.600000 ± 25.472338, best_reward: 594.700000 ± 344.331541 in #64\n"
     ]
    },
    {
     "name": "stderr",
     "output_type": "stream",
     "text": [
      "Epoch #170: 1080it [00:03, 349.78it/s, env_step=183600, len=21, n/ep=5, n/st=60, player_1/loss=0.000, player_2/loss=0.000, rew=254.00]\n"
     ]
    },
    {
     "name": "stdout",
     "output_type": "stream",
     "text": [
      "Epoch #170: test_reward: 161.000000 ± 78.195908, best_reward: 594.700000 ± 344.331541 in #64\n"
     ]
    },
    {
     "name": "stderr",
     "output_type": "stream",
     "text": [
      "Epoch #171: 1080it [00:03, 353.05it/s, env_step=184680, len=18, n/ep=2, n/st=60, player_1/loss=0.000, player_2/loss=0.000, rew=179.50]\n"
     ]
    },
    {
     "name": "stdout",
     "output_type": "stream",
     "text": [
      "Epoch #171: test_reward: 59.000000 ± 15.000000, best_reward: 594.700000 ± 344.331541 in #64\n"
     ]
    },
    {
     "name": "stderr",
     "output_type": "stream",
     "text": [
      "Epoch #172: 1080it [00:03, 349.55it/s, env_step=185760, len=22, n/ep=5, n/st=60, player_1/loss=0.000, player_2/loss=0.000, rew=263.60]\n"
     ]
    },
    {
     "name": "stdout",
     "output_type": "stream",
     "text": [
      "Epoch #172: test_reward: 79.900000 ± 37.122635, best_reward: 594.700000 ± 344.331541 in #64\n"
     ]
    },
    {
     "name": "stderr",
     "output_type": "stream",
     "text": [
      "Epoch #173: 1080it [00:03, 351.14it/s, env_step=186840, len=19, n/ep=3, n/st=60, player_1/loss=0.000, player_2/loss=0.000, rew=198.33]\n"
     ]
    },
    {
     "name": "stdout",
     "output_type": "stream",
     "text": [
      "Epoch #173: test_reward: 183.500000 ± 102.658901, best_reward: 594.700000 ± 344.331541 in #64\n"
     ]
    },
    {
     "name": "stderr",
     "output_type": "stream",
     "text": [
      "Epoch #174: 1080it [00:03, 348.50it/s, env_step=187920, len=19, n/ep=0, n/st=60, player_1/loss=0.000, player_2/loss=0.000, rew=210.12]\n"
     ]
    },
    {
     "name": "stdout",
     "output_type": "stream",
     "text": [
      "Epoch #174: test_reward: 373.800000 ± 178.430827, best_reward: 594.700000 ± 344.331541 in #64\n"
     ]
    },
    {
     "name": "stderr",
     "output_type": "stream",
     "text": [
      "Epoch #175: 1080it [00:03, 354.60it/s, env_step=189000, len=24, n/ep=1, n/st=60, player_1/loss=0.000, player_2/loss=0.000, rew=299.00]\n"
     ]
    },
    {
     "name": "stdout",
     "output_type": "stream",
     "text": [
      "Epoch #175: test_reward: 210.600000 ± 78.549602, best_reward: 594.700000 ± 344.331541 in #64\n"
     ]
    },
    {
     "name": "stderr",
     "output_type": "stream",
     "text": [
      "Epoch #176: 1080it [00:03, 351.63it/s, env_step=190080, len=17, n/ep=2, n/st=60, player_1/loss=0.000, player_2/loss=0.000, rew=197.00]\n"
     ]
    },
    {
     "name": "stdout",
     "output_type": "stream",
     "text": [
      "Epoch #176: test_reward: 122.000000 ± 76.202362, best_reward: 594.700000 ± 344.331541 in #64\n"
     ]
    },
    {
     "name": "stderr",
     "output_type": "stream",
     "text": [
      "Epoch #177: 1080it [00:03, 350.72it/s, env_step=191160, len=22, n/ep=1, n/st=60, player_1/loss=0.000, player_2/loss=0.000, rew=252.00]\n"
     ]
    },
    {
     "name": "stdout",
     "output_type": "stream",
     "text": [
      "Epoch #177: test_reward: 299.400000 ± 124.886508, best_reward: 594.700000 ± 344.331541 in #64\n"
     ]
    },
    {
     "name": "stderr",
     "output_type": "stream",
     "text": [
      "Epoch #178: 1080it [00:03, 347.70it/s, env_step=192240, len=20, n/ep=5, n/st=60, player_1/loss=0.000, player_2/loss=0.000, rew=233.40]\n"
     ]
    },
    {
     "name": "stdout",
     "output_type": "stream",
     "text": [
      "Epoch #178: test_reward: 263.000000 ± 44.199548, best_reward: 594.700000 ± 344.331541 in #64\n"
     ]
    },
    {
     "name": "stderr",
     "output_type": "stream",
     "text": [
      "Epoch #179: 1080it [00:03, 348.49it/s, env_step=193320, len=18, n/ep=2, n/st=60, player_1/loss=0.000, player_2/loss=0.000, rew=170.50]\n"
     ]
    },
    {
     "name": "stdout",
     "output_type": "stream",
     "text": [
      "Epoch #179: test_reward: 140.400000 ± 16.200000, best_reward: 594.700000 ± 344.331541 in #64\n"
     ]
    },
    {
     "name": "stderr",
     "output_type": "stream",
     "text": [
      "Epoch #180: 1080it [00:03, 346.64it/s, env_step=194400, len=24, n/ep=6, n/st=60, player_1/loss=0.000, player_2/loss=0.000, rew=341.50]\n"
     ]
    },
    {
     "name": "stdout",
     "output_type": "stream",
     "text": [
      "Epoch #180: test_reward: 233.100000 ± 50.841814, best_reward: 594.700000 ± 344.331541 in #64\n"
     ]
    },
    {
     "name": "stderr",
     "output_type": "stream",
     "text": [
      "Epoch #181: 1080it [00:03, 351.34it/s, env_step=195480, len=21, n/ep=2, n/st=60, player_1/loss=0.000, player_2/loss=0.000, rew=241.00]\n"
     ]
    },
    {
     "name": "stdout",
     "output_type": "stream",
     "text": [
      "Epoch #181: test_reward: 320.700000 ± 81.797372, best_reward: 594.700000 ± 344.331541 in #64\n"
     ]
    },
    {
     "name": "stderr",
     "output_type": "stream",
     "text": [
      "Epoch #182: 1080it [00:03, 349.53it/s, env_step=196560, len=24, n/ep=3, n/st=60, player_1/loss=0.000, player_2/loss=0.000, rew=323.00]\n"
     ]
    },
    {
     "name": "stdout",
     "output_type": "stream",
     "text": [
      "Epoch #182: test_reward: 96.600000 ± 69.551707, best_reward: 594.700000 ± 344.331541 in #64\n"
     ]
    },
    {
     "name": "stderr",
     "output_type": "stream",
     "text": [
      "Epoch #183: 1080it [00:03, 349.26it/s, env_step=197640, len=23, n/ep=4, n/st=60, player_1/loss=0.000, player_2/loss=0.000, rew=295.25]\n"
     ]
    },
    {
     "name": "stdout",
     "output_type": "stream",
     "text": [
      "Epoch #183: test_reward: 279.700000 ± 247.789850, best_reward: 594.700000 ± 344.331541 in #64\n"
     ]
    },
    {
     "name": "stderr",
     "output_type": "stream",
     "text": [
      "Epoch #184: 1080it [00:03, 349.47it/s, env_step=198720, len=18, n/ep=3, n/st=60, player_1/loss=0.000, player_2/loss=0.000, rew=225.00]\n"
     ]
    },
    {
     "name": "stdout",
     "output_type": "stream",
     "text": [
      "Epoch #184: test_reward: 83.600000 ± 37.910948, best_reward: 594.700000 ± 344.331541 in #64\n"
     ]
    },
    {
     "name": "stderr",
     "output_type": "stream",
     "text": [
      "Epoch #185: 1080it [00:03, 349.08it/s, env_step=199800, len=21, n/ep=2, n/st=60, player_1/loss=0.000, player_2/loss=0.000, rew=302.00]\n"
     ]
    },
    {
     "name": "stdout",
     "output_type": "stream",
     "text": [
      "Epoch #185: test_reward: 206.300000 ± 80.013811, best_reward: 594.700000 ± 344.331541 in #64\n"
     ]
    },
    {
     "name": "stderr",
     "output_type": "stream",
     "text": [
      "Epoch #186: 1080it [00:03, 354.27it/s, env_step=200880, len=18, n/ep=2, n/st=60, player_1/loss=0.000, player_2/loss=0.000, rew=178.00]\n"
     ]
    },
    {
     "name": "stdout",
     "output_type": "stream",
     "text": [
      "Epoch #186: test_reward: 247.600000 ± 66.620117, best_reward: 594.700000 ± 344.331541 in #64\n"
     ]
    },
    {
     "name": "stderr",
     "output_type": "stream",
     "text": [
      "Epoch #187: 1080it [00:03, 354.60it/s, env_step=201960, len=20, n/ep=5, n/st=60, player_1/loss=0.000, player_2/loss=0.000, rew=232.20]\n"
     ]
    },
    {
     "name": "stdout",
     "output_type": "stream",
     "text": [
      "Epoch #187: test_reward: 109.000000 ± 43.595871, best_reward: 594.700000 ± 344.331541 in #64\n"
     ]
    },
    {
     "name": "stderr",
     "output_type": "stream",
     "text": [
      "Epoch #188: 1080it [00:03, 349.63it/s, env_step=203040, len=13, n/ep=2, n/st=60, player_1/loss=0.000, player_2/loss=0.000, rew=98.00] \n"
     ]
    },
    {
     "name": "stdout",
     "output_type": "stream",
     "text": [
      "Epoch #188: test_reward: 328.100000 ± 107.426673, best_reward: 594.700000 ± 344.331541 in #64\n"
     ]
    },
    {
     "name": "stderr",
     "output_type": "stream",
     "text": [
      "Epoch #189: 1080it [00:03, 346.92it/s, env_step=204120, len=16, n/ep=3, n/st=60, player_1/loss=0.000, player_2/loss=0.000, rew=194.33]\n"
     ]
    },
    {
     "name": "stdout",
     "output_type": "stream",
     "text": [
      "Epoch #189: test_reward: 247.200000 ± 103.658864, best_reward: 594.700000 ± 344.331541 in #64\n"
     ]
    },
    {
     "name": "stderr",
     "output_type": "stream",
     "text": [
      "Epoch #190: 1080it [00:03, 350.35it/s, env_step=205200, len=24, n/ep=4, n/st=60, player_1/loss=0.000, player_2/loss=0.000, rew=316.50]\n"
     ]
    },
    {
     "name": "stdout",
     "output_type": "stream",
     "text": [
      "Epoch #190: test_reward: 265.400000 ± 105.454445, best_reward: 594.700000 ± 344.331541 in #64\n"
     ]
    },
    {
     "name": "stderr",
     "output_type": "stream",
     "text": [
      "Epoch #191: 1080it [00:03, 350.24it/s, env_step=206280, len=28, n/ep=5, n/st=60, player_1/loss=0.000, player_2/loss=0.000, rew=423.00]\n"
     ]
    },
    {
     "name": "stdout",
     "output_type": "stream",
     "text": [
      "Epoch #191: test_reward: 136.100000 ± 81.565250, best_reward: 594.700000 ± 344.331541 in #64\n"
     ]
    },
    {
     "name": "stderr",
     "output_type": "stream",
     "text": [
      "Epoch #192: 1080it [00:03, 348.84it/s, env_step=207360, len=20, n/ep=5, n/st=60, player_1/loss=0.000, player_2/loss=0.000, rew=235.20]\n"
     ]
    },
    {
     "name": "stdout",
     "output_type": "stream",
     "text": [
      "Epoch #192: test_reward: 336.900000 ± 149.882254, best_reward: 594.700000 ± 344.331541 in #64\n"
     ]
    },
    {
     "name": "stderr",
     "output_type": "stream",
     "text": [
      "Epoch #193: 1080it [00:03, 350.40it/s, env_step=208440, len=21, n/ep=3, n/st=60, player_1/loss=0.000, player_2/loss=0.000, rew=252.33]\n"
     ]
    },
    {
     "name": "stdout",
     "output_type": "stream",
     "text": [
      "Epoch #193: test_reward: 231.100000 ± 96.975719, best_reward: 594.700000 ± 344.331541 in #64\n"
     ]
    },
    {
     "name": "stderr",
     "output_type": "stream",
     "text": [
      "Epoch #194: 1080it [00:03, 350.32it/s, env_step=209520, len=20, n/ep=3, n/st=60, player_1/loss=0.000, player_2/loss=0.000, rew=226.00]\n"
     ]
    },
    {
     "name": "stdout",
     "output_type": "stream",
     "text": [
      "Epoch #194: test_reward: 334.000000 ± 222.645907, best_reward: 594.700000 ± 344.331541 in #64\n"
     ]
    },
    {
     "name": "stderr",
     "output_type": "stream",
     "text": [
      "Epoch #195: 1080it [00:03, 347.63it/s, env_step=210600, len=15, n/ep=4, n/st=60, player_1/loss=0.000, player_2/loss=0.000, rew=126.00]\n"
     ]
    },
    {
     "name": "stdout",
     "output_type": "stream",
     "text": [
      "Epoch #195: test_reward: 268.500000 ± 144.672907, best_reward: 594.700000 ± 344.331541 in #64\n"
     ]
    },
    {
     "name": "stderr",
     "output_type": "stream",
     "text": [
      "Epoch #196: 1080it [00:03, 351.06it/s, env_step=211680, len=24, n/ep=4, n/st=60, player_1/loss=0.000, player_2/loss=0.000, rew=313.25]\n"
     ]
    },
    {
     "name": "stdout",
     "output_type": "stream",
     "text": [
      "Epoch #196: test_reward: 188.700000 ± 131.166345, best_reward: 594.700000 ± 344.331541 in #64\n"
     ]
    },
    {
     "name": "stderr",
     "output_type": "stream",
     "text": [
      "Epoch #197: 1080it [00:03, 350.17it/s, env_step=212760, len=23, n/ep=3, n/st=60, player_1/loss=0.000, player_2/loss=0.000, rew=284.00]\n"
     ]
    },
    {
     "name": "stdout",
     "output_type": "stream",
     "text": [
      "Epoch #197: test_reward: 267.400000 ± 99.523063, best_reward: 594.700000 ± 344.331541 in #64\n"
     ]
    },
    {
     "name": "stderr",
     "output_type": "stream",
     "text": [
      "Epoch #198: 1080it [00:03, 348.78it/s, env_step=213840, len=19, n/ep=7, n/st=60, player_1/loss=0.000, player_2/loss=0.000, rew=224.57]\n"
     ]
    },
    {
     "name": "stdout",
     "output_type": "stream",
     "text": [
      "Epoch #198: test_reward: 390.200000 ± 199.317736, best_reward: 594.700000 ± 344.331541 in #64\n"
     ]
    },
    {
     "name": "stderr",
     "output_type": "stream",
     "text": [
      "Epoch #199: 1080it [00:03, 351.38it/s, env_step=214920, len=24, n/ep=3, n/st=60, player_1/loss=0.000, player_2/loss=0.000, rew=372.33]\n"
     ]
    },
    {
     "name": "stdout",
     "output_type": "stream",
     "text": [
      "Epoch #199: test_reward: 181.400000 ± 39.286639, best_reward: 594.700000 ± 344.331541 in #64\n"
     ]
    },
    {
     "name": "stderr",
     "output_type": "stream",
     "text": [
      "Epoch #200: 1080it [00:03, 350.36it/s, env_step=216000, len=17, n/ep=3, n/st=60, player_1/loss=0.000, player_2/loss=0.000, rew=169.33]\n"
     ]
    },
    {
     "name": "stdout",
     "output_type": "stream",
     "text": [
      "Epoch #200: test_reward: 125.000000 ± 42.000000, best_reward: 594.700000 ± 344.331541 in #64\n"
     ]
    },
    {
     "name": "stderr",
     "output_type": "stream",
     "text": [
      "Epoch #201: 1080it [00:03, 351.92it/s, env_step=217080, len=19, n/ep=4, n/st=60, player_1/loss=0.000, player_2/loss=0.000, rew=198.00]\n"
     ]
    },
    {
     "name": "stdout",
     "output_type": "stream",
     "text": [
      "Epoch #201: test_reward: 111.900000 ± 88.025508, best_reward: 594.700000 ± 344.331541 in #64\n"
     ]
    },
    {
     "name": "stderr",
     "output_type": "stream",
     "text": [
      "Epoch #202: 1080it [00:03, 350.21it/s, env_step=218160, len=23, n/ep=4, n/st=60, player_1/loss=0.000, player_2/loss=0.000, rew=290.50]\n"
     ]
    },
    {
     "name": "stdout",
     "output_type": "stream",
     "text": [
      "Epoch #202: test_reward: 77.400000 ± 25.056736, best_reward: 594.700000 ± 344.331541 in #64\n"
     ]
    },
    {
     "name": "stderr",
     "output_type": "stream",
     "text": [
      "Epoch #203: 1080it [00:03, 349.57it/s, env_step=219240, len=23, n/ep=4, n/st=60, player_1/loss=0.000, player_2/loss=0.000, rew=294.25]\n"
     ]
    },
    {
     "name": "stdout",
     "output_type": "stream",
     "text": [
      "Epoch #203: test_reward: 166.500000 ± 152.163892, best_reward: 594.700000 ± 344.331541 in #64\n"
     ]
    },
    {
     "name": "stderr",
     "output_type": "stream",
     "text": [
      "Epoch #204: 1080it [00:03, 349.02it/s, env_step=220320, len=23, n/ep=6, n/st=60, player_1/loss=0.000, player_2/loss=0.000, rew=284.50]\n"
     ]
    },
    {
     "name": "stdout",
     "output_type": "stream",
     "text": [
      "Epoch #204: test_reward: 325.400000 ± 99.343042, best_reward: 594.700000 ± 344.331541 in #64\n"
     ]
    },
    {
     "name": "stderr",
     "output_type": "stream",
     "text": [
      "Epoch #205: 1080it [00:03, 348.63it/s, env_step=221400, len=23, n/ep=6, n/st=60, player_1/loss=0.000, player_2/loss=0.000, rew=328.00]\n"
     ]
    },
    {
     "name": "stdout",
     "output_type": "stream",
     "text": [
      "Epoch #205: test_reward: 208.400000 ± 112.930244, best_reward: 594.700000 ± 344.331541 in #64\n"
     ]
    },
    {
     "name": "stderr",
     "output_type": "stream",
     "text": [
      "Epoch #206: 1080it [00:03, 353.72it/s, env_step=222480, len=21, n/ep=4, n/st=60, player_1/loss=0.000, player_2/loss=0.000, rew=240.75]\n"
     ]
    },
    {
     "name": "stdout",
     "output_type": "stream",
     "text": [
      "Epoch #206: test_reward: 296.900000 ± 215.939089, best_reward: 594.700000 ± 344.331541 in #64\n"
     ]
    },
    {
     "name": "stderr",
     "output_type": "stream",
     "text": [
      "Epoch #207: 1080it [00:03, 350.00it/s, env_step=223560, len=24, n/ep=4, n/st=60, player_1/loss=0.000, player_2/loss=0.000, rew=320.00]\n"
     ]
    },
    {
     "name": "stdout",
     "output_type": "stream",
     "text": [
      "Epoch #207: test_reward: 370.200000 ± 170.581242, best_reward: 594.700000 ± 344.331541 in #64\n"
     ]
    },
    {
     "name": "stderr",
     "output_type": "stream",
     "text": [
      "Epoch #208: 1080it [00:03, 349.66it/s, env_step=224640, len=22, n/ep=4, n/st=60, player_1/loss=0.000, player_2/loss=0.000, rew=253.75]\n"
     ]
    },
    {
     "name": "stdout",
     "output_type": "stream",
     "text": [
      "Epoch #208: test_reward: 186.400000 ± 49.338018, best_reward: 594.700000 ± 344.331541 in #64\n"
     ]
    },
    {
     "name": "stderr",
     "output_type": "stream",
     "text": [
      "Epoch #209: 1080it [00:03, 354.63it/s, env_step=225720, len=28, n/ep=2, n/st=60, player_1/loss=0.000, player_2/loss=0.000, rew=409.50]\n"
     ]
    },
    {
     "name": "stdout",
     "output_type": "stream",
     "text": [
      "Epoch #209: test_reward: 231.100000 ± 110.753284, best_reward: 594.700000 ± 344.331541 in #64\n"
     ]
    },
    {
     "name": "stderr",
     "output_type": "stream",
     "text": [
      "Epoch #210: 1080it [00:03, 349.87it/s, env_step=226800, len=23, n/ep=4, n/st=60, player_1/loss=0.000, player_2/loss=0.000, rew=324.50]\n"
     ]
    },
    {
     "name": "stdout",
     "output_type": "stream",
     "text": [
      "Epoch #210: test_reward: 280.800000 ± 88.570650, best_reward: 594.700000 ± 344.331541 in #64\n"
     ]
    },
    {
     "name": "stderr",
     "output_type": "stream",
     "text": [
      "Epoch #211: 1080it [00:03, 349.22it/s, env_step=227880, len=9, n/ep=2, n/st=60, player_1/loss=0.000, player_2/loss=0.000, rew=52.00]  \n"
     ]
    },
    {
     "name": "stdout",
     "output_type": "stream",
     "text": [
      "Epoch #211: test_reward: 339.900000 ± 153.296086, best_reward: 594.700000 ± 344.331541 in #64\n"
     ]
    },
    {
     "name": "stderr",
     "output_type": "stream",
     "text": [
      "Epoch #212: 1080it [00:03, 349.67it/s, env_step=228960, len=22, n/ep=3, n/st=60, player_1/loss=0.000, player_2/loss=0.000, rew=281.33]\n"
     ]
    },
    {
     "name": "stdout",
     "output_type": "stream",
     "text": [
      "Epoch #212: test_reward: 327.400000 ± 116.107020, best_reward: 594.700000 ± 344.331541 in #64\n"
     ]
    },
    {
     "name": "stderr",
     "output_type": "stream",
     "text": [
      "Epoch #213: 1080it [00:03, 350.07it/s, env_step=230040, len=22, n/ep=3, n/st=60, player_1/loss=0.000, player_2/loss=0.000, rew=321.33]\n"
     ]
    },
    {
     "name": "stdout",
     "output_type": "stream",
     "text": [
      "Epoch #213: test_reward: 216.500000 ± 117.037814, best_reward: 594.700000 ± 344.331541 in #64\n"
     ]
    },
    {
     "name": "stderr",
     "output_type": "stream",
     "text": [
      "Epoch #214: 1080it [00:03, 351.21it/s, env_step=231120, len=15, n/ep=5, n/st=60, player_1/loss=0.000, player_2/loss=0.000, rew=146.20]\n"
     ]
    },
    {
     "name": "stdout",
     "output_type": "stream",
     "text": [
      "Epoch #214: test_reward: 226.000000 ± 95.365612, best_reward: 594.700000 ± 344.331541 in #64\n"
     ]
    },
    {
     "name": "stderr",
     "output_type": "stream",
     "text": [
      "Epoch #215: 1080it [00:03, 353.39it/s, env_step=232200, len=20, n/ep=3, n/st=60, player_1/loss=0.000, player_2/loss=0.000, rew=237.33]\n"
     ]
    },
    {
     "name": "stdout",
     "output_type": "stream",
     "text": [
      "Epoch #215: test_reward: 259.100000 ± 110.732516, best_reward: 594.700000 ± 344.331541 in #64\n"
     ]
    },
    {
     "name": "stderr",
     "output_type": "stream",
     "text": [
      "Epoch #216: 1080it [00:03, 349.45it/s, env_step=233280, len=26, n/ep=4, n/st=60, player_1/loss=0.000, player_2/loss=0.000, rew=358.25]\n"
     ]
    },
    {
     "name": "stdout",
     "output_type": "stream",
     "text": [
      "Epoch #216: test_reward: 345.000000 ± 128.671675, best_reward: 594.700000 ± 344.331541 in #64\n"
     ]
    },
    {
     "name": "stderr",
     "output_type": "stream",
     "text": [
      "Epoch #217: 1080it [00:03, 349.43it/s, env_step=234360, len=22, n/ep=6, n/st=60, player_1/loss=0.000, player_2/loss=0.000, rew=319.50]\n"
     ]
    },
    {
     "name": "stdout",
     "output_type": "stream",
     "text": [
      "Epoch #217: test_reward: 336.400000 ± 112.852293, best_reward: 594.700000 ± 344.331541 in #64\n"
     ]
    },
    {
     "name": "stderr",
     "output_type": "stream",
     "text": [
      "Epoch #218: 1080it [00:03, 347.21it/s, env_step=235440, len=15, n/ep=4, n/st=60, player_1/loss=0.000, player_2/loss=0.000, rew=131.00]\n"
     ]
    },
    {
     "name": "stdout",
     "output_type": "stream",
     "text": [
      "Epoch #218: test_reward: 98.700000 ± 40.997683, best_reward: 594.700000 ± 344.331541 in #64\n"
     ]
    },
    {
     "name": "stderr",
     "output_type": "stream",
     "text": [
      "Epoch #219: 1080it [00:03, 349.81it/s, env_step=236520, len=20, n/ep=1, n/st=60, player_1/loss=0.000, player_2/loss=0.000, rew=209.00]\n"
     ]
    },
    {
     "name": "stdout",
     "output_type": "stream",
     "text": [
      "Epoch #219: test_reward: 117.700000 ± 29.394047, best_reward: 594.700000 ± 344.331541 in #64\n"
     ]
    },
    {
     "name": "stderr",
     "output_type": "stream",
     "text": [
      "Epoch #220: 1080it [00:03, 350.56it/s, env_step=237600, len=23, n/ep=1, n/st=60, player_1/loss=0.000, player_2/loss=0.000, rew=275.00]\n"
     ]
    },
    {
     "name": "stdout",
     "output_type": "stream",
     "text": [
      "Epoch #220: test_reward: 225.800000 ± 102.953193, best_reward: 594.700000 ± 344.331541 in #64\n"
     ]
    },
    {
     "name": "stderr",
     "output_type": "stream",
     "text": [
      "Epoch #221: 1080it [00:03, 350.65it/s, env_step=238680, len=29, n/ep=1, n/st=60, player_1/loss=0.000, player_2/loss=0.000, rew=434.00]\n"
     ]
    },
    {
     "name": "stdout",
     "output_type": "stream",
     "text": [
      "Epoch #221: test_reward: 327.400000 ± 129.009457, best_reward: 594.700000 ± 344.331541 in #64\n"
     ]
    },
    {
     "name": "stderr",
     "output_type": "stream",
     "text": [
      "Epoch #222: 1080it [00:03, 347.20it/s, env_step=239760, len=18, n/ep=2, n/st=60, player_1/loss=0.000, player_2/loss=0.000, rew=182.50]\n"
     ]
    },
    {
     "name": "stdout",
     "output_type": "stream",
     "text": [
      "Epoch #222: test_reward: 209.800000 ± 153.157305, best_reward: 594.700000 ± 344.331541 in #64\n"
     ]
    },
    {
     "name": "stderr",
     "output_type": "stream",
     "text": [
      "Epoch #223: 1080it [00:03, 350.44it/s, env_step=240840, len=11, n/ep=1, n/st=60, player_1/loss=0.000, player_2/loss=0.000, rew=65.00] \n"
     ]
    },
    {
     "name": "stdout",
     "output_type": "stream",
     "text": [
      "Epoch #223: test_reward: 337.200000 ± 62.202572, best_reward: 594.700000 ± 344.331541 in #64\n"
     ]
    },
    {
     "name": "stderr",
     "output_type": "stream",
     "text": [
      "Epoch #224: 1080it [00:03, 353.22it/s, env_step=241920, len=25, n/ep=2, n/st=60, player_1/loss=0.000, player_2/loss=0.000, rew=324.50]\n"
     ]
    },
    {
     "name": "stdout",
     "output_type": "stream",
     "text": [
      "Epoch #224: test_reward: 263.500000 ± 154.788404, best_reward: 594.700000 ± 344.331541 in #64\n"
     ]
    },
    {
     "name": "stderr",
     "output_type": "stream",
     "text": [
      "Epoch #225: 1080it [00:03, 353.66it/s, env_step=243000, len=20, n/ep=2, n/st=60, player_1/loss=0.000, player_2/loss=0.000, rew=259.00]\n"
     ]
    },
    {
     "name": "stdout",
     "output_type": "stream",
     "text": [
      "Epoch #225: test_reward: 264.100000 ± 108.360002, best_reward: 594.700000 ± 344.331541 in #64\n"
     ]
    },
    {
     "name": "stderr",
     "output_type": "stream",
     "text": [
      "Epoch #226: 1080it [00:03, 348.26it/s, env_step=244080, len=22, n/ep=3, n/st=60, player_1/loss=0.000, player_2/loss=0.000, rew=296.33]\n"
     ]
    },
    {
     "name": "stdout",
     "output_type": "stream",
     "text": [
      "Epoch #226: test_reward: 345.800000 ± 160.029872, best_reward: 594.700000 ± 344.331541 in #64\n"
     ]
    },
    {
     "name": "stderr",
     "output_type": "stream",
     "text": [
      "Epoch #227: 1080it [00:03, 349.80it/s, env_step=245160, len=22, n/ep=2, n/st=60, player_1/loss=0.000, player_2/loss=0.000, rew=270.00]\n"
     ]
    },
    {
     "name": "stdout",
     "output_type": "stream",
     "text": [
      "Epoch #227: test_reward: 260.400000 ± 66.441252, best_reward: 594.700000 ± 344.331541 in #64\n"
     ]
    },
    {
     "name": "stderr",
     "output_type": "stream",
     "text": [
      "Epoch #228: 1080it [00:03, 344.99it/s, env_step=246240, len=31, n/ep=2, n/st=60, player_1/loss=0.000, player_2/loss=0.000, rew=521.00]\n"
     ]
    },
    {
     "name": "stdout",
     "output_type": "stream",
     "text": [
      "Epoch #228: test_reward: 109.500000 ± 103.354971, best_reward: 594.700000 ± 344.331541 in #64\n"
     ]
    },
    {
     "name": "stderr",
     "output_type": "stream",
     "text": [
      "Epoch #229: 1080it [00:03, 347.99it/s, env_step=247320, len=20, n/ep=0, n/st=60, player_1/loss=0.000, player_2/loss=0.000, rew=223.75]\n"
     ]
    },
    {
     "name": "stdout",
     "output_type": "stream",
     "text": [
      "Epoch #229: test_reward: 297.000000 ± 219.571856, best_reward: 594.700000 ± 344.331541 in #64\n"
     ]
    },
    {
     "name": "stderr",
     "output_type": "stream",
     "text": [
      "Epoch #230: 1080it [00:03, 348.50it/s, env_step=248400, len=18, n/ep=5, n/st=60, player_1/loss=0.000, player_2/loss=0.000, rew=193.20]\n"
     ]
    },
    {
     "name": "stdout",
     "output_type": "stream",
     "text": [
      "Epoch #230: test_reward: 175.600000 ± 37.197312, best_reward: 594.700000 ± 344.331541 in #64\n"
     ]
    },
    {
     "name": "stderr",
     "output_type": "stream",
     "text": [
      "Epoch #231: 1080it [00:03, 346.98it/s, env_step=249480, len=14, n/ep=1, n/st=60, player_1/loss=0.000, player_2/loss=0.000, rew=104.00]\n"
     ]
    },
    {
     "name": "stdout",
     "output_type": "stream",
     "text": [
      "Epoch #231: test_reward: 373.300000 ± 82.169398, best_reward: 594.700000 ± 344.331541 in #64\n"
     ]
    },
    {
     "name": "stderr",
     "output_type": "stream",
     "text": [
      "Epoch #232: 1080it [00:03, 350.18it/s, env_step=250560, len=18, n/ep=3, n/st=60, player_1/loss=0.000, player_2/loss=0.000, rew=221.33]\n"
     ]
    },
    {
     "name": "stdout",
     "output_type": "stream",
     "text": [
      "Epoch #232: test_reward: 152.000000 ± 171.525508, best_reward: 594.700000 ± 344.331541 in #64\n"
     ]
    },
    {
     "name": "stderr",
     "output_type": "stream",
     "text": [
      "Epoch #233: 1080it [00:03, 348.09it/s, env_step=251640, len=18, n/ep=3, n/st=60, player_1/loss=0.000, player_2/loss=0.000, rew=201.67]\n"
     ]
    },
    {
     "name": "stdout",
     "output_type": "stream",
     "text": [
      "Epoch #233: test_reward: 243.700000 ± 126.541732, best_reward: 594.700000 ± 344.331541 in #64\n"
     ]
    },
    {
     "name": "stderr",
     "output_type": "stream",
     "text": [
      "Epoch #234: 1080it [00:03, 351.65it/s, env_step=252720, len=27, n/ep=2, n/st=60, player_1/loss=0.000, player_2/loss=0.000, rew=389.50]\n"
     ]
    },
    {
     "name": "stdout",
     "output_type": "stream",
     "text": [
      "Epoch #234: test_reward: 79.700000 ± 8.100000, best_reward: 594.700000 ± 344.331541 in #64\n"
     ]
    },
    {
     "name": "stderr",
     "output_type": "stream",
     "text": [
      "Epoch #235: 1080it [00:03, 351.22it/s, env_step=253800, len=25, n/ep=2, n/st=60, player_1/loss=0.000, player_2/loss=0.000, rew=348.50]\n"
     ]
    },
    {
     "name": "stdout",
     "output_type": "stream",
     "text": [
      "Epoch #235: test_reward: 243.800000 ± 95.516281, best_reward: 594.700000 ± 344.331541 in #64\n"
     ]
    },
    {
     "name": "stderr",
     "output_type": "stream",
     "text": [
      "Epoch #236: 1080it [00:03, 346.69it/s, env_step=254880, len=21, n/ep=1, n/st=60, player_1/loss=0.000, player_2/loss=0.000, rew=230.00]\n"
     ]
    },
    {
     "name": "stdout",
     "output_type": "stream",
     "text": [
      "Epoch #236: test_reward: 224.000000 ± 92.582936, best_reward: 594.700000 ± 344.331541 in #64\n"
     ]
    },
    {
     "name": "stderr",
     "output_type": "stream",
     "text": [
      "Epoch #237: 1080it [00:03, 351.51it/s, env_step=255960, len=21, n/ep=5, n/st=60, player_1/loss=0.000, player_2/loss=0.000, rew=257.80]\n"
     ]
    },
    {
     "name": "stdout",
     "output_type": "stream",
     "text": [
      "Epoch #237: test_reward: 167.200000 ± 120.482198, best_reward: 594.700000 ± 344.331541 in #64\n"
     ]
    },
    {
     "name": "stderr",
     "output_type": "stream",
     "text": [
      "Epoch #238: 1080it [00:03, 348.76it/s, env_step=257040, len=20, n/ep=5, n/st=60, player_1/loss=0.000, player_2/loss=0.000, rew=222.80]\n"
     ]
    },
    {
     "name": "stdout",
     "output_type": "stream",
     "text": [
      "Epoch #238: test_reward: 172.800000 ± 70.269197, best_reward: 594.700000 ± 344.331541 in #64\n"
     ]
    },
    {
     "name": "stderr",
     "output_type": "stream",
     "text": [
      "Epoch #239: 1080it [00:03, 351.75it/s, env_step=258120, len=17, n/ep=7, n/st=60, player_1/loss=0.000, player_2/loss=0.000, rew=175.00]\n"
     ]
    },
    {
     "name": "stdout",
     "output_type": "stream",
     "text": [
      "Epoch #239: test_reward: 319.800000 ± 101.435497, best_reward: 594.700000 ± 344.331541 in #64\n"
     ]
    },
    {
     "name": "stderr",
     "output_type": "stream",
     "text": [
      "Epoch #240: 1080it [00:03, 347.72it/s, env_step=259200, len=15, n/ep=0, n/st=60, player_1/loss=0.000, player_2/loss=0.000, rew=159.25]\n"
     ]
    },
    {
     "name": "stdout",
     "output_type": "stream",
     "text": [
      "Epoch #240: test_reward: 324.700000 ± 77.020841, best_reward: 594.700000 ± 344.331541 in #64\n"
     ]
    },
    {
     "name": "stderr",
     "output_type": "stream",
     "text": [
      "Epoch #241: 1080it [00:03, 351.15it/s, env_step=260280, len=20, n/ep=3, n/st=60, player_1/loss=0.000, player_2/loss=0.000, rew=239.67]\n"
     ]
    },
    {
     "name": "stdout",
     "output_type": "stream",
     "text": [
      "Epoch #241: test_reward: 203.100000 ± 60.065714, best_reward: 594.700000 ± 344.331541 in #64\n"
     ]
    },
    {
     "name": "stderr",
     "output_type": "stream",
     "text": [
      "Epoch #242: 1080it [00:03, 351.91it/s, env_step=261360, len=22, n/ep=2, n/st=60, player_1/loss=0.000, player_2/loss=0.000, rew=256.50]\n"
     ]
    },
    {
     "name": "stdout",
     "output_type": "stream",
     "text": [
      "Epoch #242: test_reward: 283.300000 ± 112.206996, best_reward: 594.700000 ± 344.331541 in #64\n"
     ]
    },
    {
     "name": "stderr",
     "output_type": "stream",
     "text": [
      "Epoch #243: 1080it [00:03, 349.16it/s, env_step=262440, len=23, n/ep=4, n/st=60, player_1/loss=0.000, player_2/loss=0.000, rew=295.25]\n"
     ]
    },
    {
     "name": "stdout",
     "output_type": "stream",
     "text": [
      "Epoch #243: test_reward: 244.200000 ± 66.311085, best_reward: 594.700000 ± 344.331541 in #64\n"
     ]
    },
    {
     "name": "stderr",
     "output_type": "stream",
     "text": [
      "Epoch #244: 1080it [00:03, 351.97it/s, env_step=263520, len=11, n/ep=1, n/st=60, player_1/loss=0.000, player_2/loss=0.000, rew=65.00] \n"
     ]
    },
    {
     "name": "stdout",
     "output_type": "stream",
     "text": [
      "Epoch #244: test_reward: 264.000000 ± 77.055824, best_reward: 594.700000 ± 344.331541 in #64\n"
     ]
    },
    {
     "name": "stderr",
     "output_type": "stream",
     "text": [
      "Epoch #245: 1080it [00:03, 350.95it/s, env_step=264600, len=19, n/ep=4, n/st=60, player_1/loss=0.000, player_2/loss=0.000, rew=210.50]\n"
     ]
    },
    {
     "name": "stdout",
     "output_type": "stream",
     "text": [
      "Epoch #245: test_reward: 270.600000 ± 49.986398, best_reward: 594.700000 ± 344.331541 in #64\n"
     ]
    },
    {
     "name": "stderr",
     "output_type": "stream",
     "text": [
      "Epoch #246: 1080it [00:03, 351.30it/s, env_step=265680, len=25, n/ep=1, n/st=60, player_1/loss=0.000, player_2/loss=0.000, rew=324.00]\n"
     ]
    },
    {
     "name": "stdout",
     "output_type": "stream",
     "text": [
      "Epoch #246: test_reward: 381.500000 ± 178.740175, best_reward: 594.700000 ± 344.331541 in #64\n"
     ]
    },
    {
     "name": "stderr",
     "output_type": "stream",
     "text": [
      "Epoch #247: 1080it [00:03, 353.03it/s, env_step=266760, len=27, n/ep=3, n/st=60, player_1/loss=0.000, player_2/loss=0.000, rew=397.33]\n"
     ]
    },
    {
     "name": "stdout",
     "output_type": "stream",
     "text": [
      "Epoch #247: test_reward: 164.500000 ± 118.860633, best_reward: 594.700000 ± 344.331541 in #64\n"
     ]
    },
    {
     "name": "stderr",
     "output_type": "stream",
     "text": [
      "Epoch #248: 1080it [00:03, 349.33it/s, env_step=267840, len=26, n/ep=4, n/st=60, player_1/loss=0.000, player_2/loss=0.000, rew=425.50]\n"
     ]
    },
    {
     "name": "stdout",
     "output_type": "stream",
     "text": [
      "Epoch #248: test_reward: 180.100000 ± 79.315131, best_reward: 594.700000 ± 344.331541 in #64\n"
     ]
    },
    {
     "name": "stderr",
     "output_type": "stream",
     "text": [
      "Epoch #249: 1080it [00:03, 349.14it/s, env_step=268920, len=21, n/ep=5, n/st=60, player_1/loss=0.000, player_2/loss=0.000, rew=245.40]\n"
     ]
    },
    {
     "name": "stdout",
     "output_type": "stream",
     "text": [
      "Epoch #249: test_reward: 178.000000 ± 62.630663, best_reward: 594.700000 ± 344.331541 in #64\n"
     ]
    },
    {
     "name": "stderr",
     "output_type": "stream",
     "text": [
      "Epoch #250: 1080it [00:03, 352.63it/s, env_step=270000, len=25, n/ep=2, n/st=60, player_1/loss=0.000, player_2/loss=0.000, rew=324.50]\n"
     ]
    },
    {
     "name": "stdout",
     "output_type": "stream",
     "text": [
      "Epoch #250: test_reward: 273.000000 ± 105.416318, best_reward: 594.700000 ± 344.331541 in #64\n"
     ]
    },
    {
     "name": "stderr",
     "output_type": "stream",
     "text": [
      "Epoch #251: 1080it [00:03, 349.65it/s, env_step=271080, len=14, n/ep=5, n/st=60, player_1/loss=0.000, player_2/loss=0.000, rew=150.40]\n"
     ]
    },
    {
     "name": "stdout",
     "output_type": "stream",
     "text": [
      "Epoch #251: test_reward: 240.500000 ± 125.076976, best_reward: 594.700000 ± 344.331541 in #64\n"
     ]
    },
    {
     "name": "stderr",
     "output_type": "stream",
     "text": [
      "Epoch #252: 1080it [00:03, 345.66it/s, env_step=272160, len=27, n/ep=2, n/st=60, player_1/loss=0.000, player_2/loss=0.000, rew=401.00]\n"
     ]
    },
    {
     "name": "stdout",
     "output_type": "stream",
     "text": [
      "Epoch #252: test_reward: 219.000000 ± 140.062843, best_reward: 594.700000 ± 344.331541 in #64\n"
     ]
    },
    {
     "name": "stderr",
     "output_type": "stream",
     "text": [
      "Epoch #253: 1080it [00:03, 347.46it/s, env_step=273240, len=13, n/ep=1, n/st=60, player_1/loss=0.000, player_2/loss=0.000, rew=90.00] \n"
     ]
    },
    {
     "name": "stdout",
     "output_type": "stream",
     "text": [
      "Epoch #253: test_reward: 249.600000 ± 80.611662, best_reward: 594.700000 ± 344.331541 in #64\n"
     ]
    },
    {
     "name": "stderr",
     "output_type": "stream",
     "text": [
      "Epoch #254: 1080it [00:03, 348.92it/s, env_step=274320, len=21, n/ep=3, n/st=60, player_1/loss=0.000, player_2/loss=0.000, rew=251.00]\n"
     ]
    },
    {
     "name": "stdout",
     "output_type": "stream",
     "text": [
      "Epoch #254: test_reward: 114.000000 ± 21.438284, best_reward: 594.700000 ± 344.331541 in #64\n"
     ]
    },
    {
     "name": "stderr",
     "output_type": "stream",
     "text": [
      "Epoch #255: 1080it [00:03, 347.27it/s, env_step=275400, len=30, n/ep=2, n/st=60, player_1/loss=0.000, player_2/loss=0.000, rew=466.00]\n"
     ]
    },
    {
     "name": "stdout",
     "output_type": "stream",
     "text": [
      "Epoch #255: test_reward: 129.100000 ± 131.139963, best_reward: 594.700000 ± 344.331541 in #64\n"
     ]
    },
    {
     "name": "stderr",
     "output_type": "stream",
     "text": [
      "Epoch #256: 1080it [00:03, 344.25it/s, env_step=276480, len=21, n/ep=3, n/st=60, player_1/loss=0.000, player_2/loss=0.000, rew=254.67]\n"
     ]
    },
    {
     "name": "stdout",
     "output_type": "stream",
     "text": [
      "Epoch #256: test_reward: 86.600000 ± 101.417158, best_reward: 594.700000 ± 344.331541 in #64\n"
     ]
    },
    {
     "name": "stderr",
     "output_type": "stream",
     "text": [
      "Epoch #257: 1080it [00:03, 350.61it/s, env_step=277560, len=23, n/ep=3, n/st=60, player_1/loss=0.000, player_2/loss=0.000, rew=288.33]\n"
     ]
    },
    {
     "name": "stdout",
     "output_type": "stream",
     "text": [
      "Epoch #257: test_reward: 365.500000 ± 90.350706, best_reward: 594.700000 ± 344.331541 in #64\n"
     ]
    },
    {
     "name": "stderr",
     "output_type": "stream",
     "text": [
      "Epoch #258: 1080it [00:03, 349.71it/s, env_step=278640, len=21, n/ep=5, n/st=60, player_1/loss=0.000, player_2/loss=0.000, rew=270.20]\n"
     ]
    },
    {
     "name": "stdout",
     "output_type": "stream",
     "text": [
      "Epoch #258: test_reward: 365.500000 ± 138.202931, best_reward: 594.700000 ± 344.331541 in #64\n"
     ]
    },
    {
     "name": "stderr",
     "output_type": "stream",
     "text": [
      "Epoch #259: 1080it [00:03, 348.92it/s, env_step=279720, len=25, n/ep=3, n/st=60, player_1/loss=0.000, player_2/loss=0.000, rew=367.00]\n"
     ]
    },
    {
     "name": "stdout",
     "output_type": "stream",
     "text": [
      "Epoch #259: test_reward: 220.800000 ± 62.855071, best_reward: 594.700000 ± 344.331541 in #64\n"
     ]
    },
    {
     "name": "stderr",
     "output_type": "stream",
     "text": [
      "Epoch #260: 1080it [00:03, 349.89it/s, env_step=280800, len=18, n/ep=2, n/st=60, player_1/loss=0.000, player_2/loss=0.000, rew=178.00]\n"
     ]
    },
    {
     "name": "stdout",
     "output_type": "stream",
     "text": [
      "Epoch #260: test_reward: 185.000000 ± 37.237078, best_reward: 594.700000 ± 344.331541 in #64\n"
     ]
    },
    {
     "name": "stderr",
     "output_type": "stream",
     "text": [
      "Epoch #261: 1080it [00:03, 353.40it/s, env_step=281880, len=20, n/ep=7, n/st=60, player_1/loss=0.000, player_2/loss=0.000, rew=216.57]\n"
     ]
    },
    {
     "name": "stdout",
     "output_type": "stream",
     "text": [
      "Epoch #261: test_reward: 134.500000 ± 116.417567, best_reward: 594.700000 ± 344.331541 in #64\n"
     ]
    },
    {
     "name": "stderr",
     "output_type": "stream",
     "text": [
      "Epoch #262: 1080it [00:03, 347.25it/s, env_step=282960, len=25, n/ep=4, n/st=60, player_1/loss=0.000, player_2/loss=0.000, rew=356.25]\n"
     ]
    },
    {
     "name": "stdout",
     "output_type": "stream",
     "text": [
      "Epoch #262: test_reward: 96.300000 ± 103.170781, best_reward: 594.700000 ± 344.331541 in #64\n"
     ]
    },
    {
     "name": "stderr",
     "output_type": "stream",
     "text": [
      "Epoch #263: 1080it [00:03, 348.63it/s, env_step=284040, len=19, n/ep=0, n/st=60, player_1/loss=0.000, player_2/loss=0.000, rew=227.60]\n"
     ]
    },
    {
     "name": "stdout",
     "output_type": "stream",
     "text": [
      "Epoch #263: test_reward: 430.500000 ± 218.288914, best_reward: 594.700000 ± 344.331541 in #64\n"
     ]
    },
    {
     "name": "stderr",
     "output_type": "stream",
     "text": [
      "Epoch #264: 1080it [00:03, 354.04it/s, env_step=285120, len=18, n/ep=5, n/st=60, player_1/loss=0.000, player_2/loss=0.000, rew=199.00]\n"
     ]
    },
    {
     "name": "stdout",
     "output_type": "stream",
     "text": [
      "Epoch #264: test_reward: 248.800000 ± 160.398130, best_reward: 594.700000 ± 344.331541 in #64\n"
     ]
    },
    {
     "name": "stderr",
     "output_type": "stream",
     "text": [
      "Epoch #265: 1080it [00:03, 352.52it/s, env_step=286200, len=25, n/ep=3, n/st=60, player_1/loss=0.000, player_2/loss=0.000, rew=366.33]\n"
     ]
    },
    {
     "name": "stdout",
     "output_type": "stream",
     "text": [
      "Epoch #265: test_reward: 242.800000 ± 117.146746, best_reward: 594.700000 ± 344.331541 in #64\n"
     ]
    },
    {
     "name": "stderr",
     "output_type": "stream",
     "text": [
      "Epoch #266: 1080it [00:03, 347.37it/s, env_step=287280, len=28, n/ep=3, n/st=60, player_1/loss=0.000, player_2/loss=0.000, rew=434.33]\n"
     ]
    },
    {
     "name": "stdout",
     "output_type": "stream",
     "text": [
      "Epoch #266: test_reward: 196.200000 ± 99.852692, best_reward: 594.700000 ± 344.331541 in #64\n"
     ]
    },
    {
     "name": "stderr",
     "output_type": "stream",
     "text": [
      "Epoch #267: 1080it [00:03, 348.49it/s, env_step=288360, len=28, n/ep=3, n/st=60, player_1/loss=0.000, player_2/loss=0.000, rew=438.00]\n"
     ]
    },
    {
     "name": "stdout",
     "output_type": "stream",
     "text": [
      "Epoch #267: test_reward: 144.500000 ± 143.289392, best_reward: 594.700000 ± 344.331541 in #64\n"
     ]
    },
    {
     "name": "stderr",
     "output_type": "stream",
     "text": [
      "Epoch #268: 1080it [00:03, 353.82it/s, env_step=289440, len=16, n/ep=2, n/st=60, player_1/loss=0.000, player_2/loss=0.000, rew=167.00]\n"
     ]
    },
    {
     "name": "stdout",
     "output_type": "stream",
     "text": [
      "Epoch #268: test_reward: 252.700000 ± 101.327242, best_reward: 594.700000 ± 344.331541 in #64\n"
     ]
    },
    {
     "name": "stderr",
     "output_type": "stream",
     "text": [
      "Epoch #269: 1080it [00:03, 348.15it/s, env_step=290520, len=24, n/ep=2, n/st=60, player_1/loss=0.000, player_2/loss=0.000, rew=303.50]\n"
     ]
    },
    {
     "name": "stdout",
     "output_type": "stream",
     "text": [
      "Epoch #269: test_reward: 234.400000 ± 101.507832, best_reward: 594.700000 ± 344.331541 in #64\n"
     ]
    },
    {
     "name": "stderr",
     "output_type": "stream",
     "text": [
      "Epoch #270: 1080it [00:03, 350.20it/s, env_step=291600, len=24, n/ep=5, n/st=60, player_1/loss=0.000, player_2/loss=0.000, rew=321.00]\n"
     ]
    },
    {
     "name": "stdout",
     "output_type": "stream",
     "text": [
      "Epoch #270: test_reward: 35.000000 ± 0.000000, best_reward: 594.700000 ± 344.331541 in #64\n"
     ]
    },
    {
     "name": "stderr",
     "output_type": "stream",
     "text": [
      "Epoch #271: 1080it [00:03, 348.41it/s, env_step=292680, len=15, n/ep=3, n/st=60, player_1/loss=0.000, player_2/loss=0.000, rew=141.00]\n"
     ]
    },
    {
     "name": "stdout",
     "output_type": "stream",
     "text": [
      "Epoch #271: test_reward: 426.000000 ± 196.046423, best_reward: 594.700000 ± 344.331541 in #64\n"
     ]
    },
    {
     "name": "stderr",
     "output_type": "stream",
     "text": [
      "Epoch #272: 1080it [00:03, 349.02it/s, env_step=293760, len=24, n/ep=4, n/st=60, player_1/loss=0.000, player_2/loss=0.000, rew=312.00]\n"
     ]
    },
    {
     "name": "stdout",
     "output_type": "stream",
     "text": [
      "Epoch #272: test_reward: 147.900000 ± 82.147976, best_reward: 594.700000 ± 344.331541 in #64\n"
     ]
    },
    {
     "name": "stderr",
     "output_type": "stream",
     "text": [
      "Epoch #273: 1080it [00:03, 348.62it/s, env_step=294840, len=23, n/ep=2, n/st=60, player_1/loss=0.000, player_2/loss=0.000, rew=275.00]\n"
     ]
    },
    {
     "name": "stdout",
     "output_type": "stream",
     "text": [
      "Epoch #273: test_reward: 260.300000 ± 90.705072, best_reward: 594.700000 ± 344.331541 in #64\n"
     ]
    },
    {
     "name": "stderr",
     "output_type": "stream",
     "text": [
      "Epoch #274: 1080it [00:03, 341.24it/s, env_step=295920, len=28, n/ep=2, n/st=60, player_1/loss=0.000, player_2/loss=0.000, rew=420.50]\n"
     ]
    },
    {
     "name": "stdout",
     "output_type": "stream",
     "text": [
      "Epoch #274: test_reward: 401.000000 ± 187.631554, best_reward: 594.700000 ± 344.331541 in #64\n"
     ]
    },
    {
     "name": "stderr",
     "output_type": "stream",
     "text": [
      "Epoch #275: 1080it [00:03, 348.91it/s, env_step=297000, len=20, n/ep=2, n/st=60, player_1/loss=0.000, player_2/loss=0.000, rew=209.50]\n"
     ]
    },
    {
     "name": "stdout",
     "output_type": "stream",
     "text": [
      "Epoch #275: test_reward: 120.800000 ± 104.950274, best_reward: 594.700000 ± 344.331541 in #64\n"
     ]
    },
    {
     "name": "stderr",
     "output_type": "stream",
     "text": [
      "Epoch #276: 1080it [00:03, 348.85it/s, env_step=298080, len=20, n/ep=2, n/st=60, player_1/loss=0.000, player_2/loss=0.000, rew=234.50]\n"
     ]
    },
    {
     "name": "stdout",
     "output_type": "stream",
     "text": [
      "Epoch #276: test_reward: 249.100000 ± 126.927105, best_reward: 594.700000 ± 344.331541 in #64\n"
     ]
    },
    {
     "name": "stderr",
     "output_type": "stream",
     "text": [
      "Epoch #277: 1080it [00:03, 350.96it/s, env_step=299160, len=16, n/ep=3, n/st=60, player_1/loss=0.000, player_2/loss=0.000, rew=162.00]\n"
     ]
    },
    {
     "name": "stdout",
     "output_type": "stream",
     "text": [
      "Epoch #277: test_reward: 361.800000 ± 231.745032, best_reward: 594.700000 ± 344.331541 in #64\n"
     ]
    },
    {
     "name": "stderr",
     "output_type": "stream",
     "text": [
      "Epoch #278: 1080it [00:03, 352.14it/s, env_step=300240, len=24, n/ep=4, n/st=60, player_1/loss=0.000, player_2/loss=0.000, rew=317.75]\n"
     ]
    },
    {
     "name": "stdout",
     "output_type": "stream",
     "text": [
      "Epoch #278: test_reward: 146.200000 ± 61.223852, best_reward: 594.700000 ± 344.331541 in #64\n"
     ]
    },
    {
     "name": "stderr",
     "output_type": "stream",
     "text": [
      "Epoch #279: 1080it [00:03, 351.49it/s, env_step=301320, len=14, n/ep=2, n/st=60, player_1/loss=0.000, player_2/loss=0.000, rew=111.50]\n"
     ]
    },
    {
     "name": "stdout",
     "output_type": "stream",
     "text": [
      "Epoch #279: test_reward: 277.100000 ± 133.886855, best_reward: 594.700000 ± 344.331541 in #64\n"
     ]
    },
    {
     "name": "stderr",
     "output_type": "stream",
     "text": [
      "Epoch #280: 1080it [00:03, 353.79it/s, env_step=302400, len=25, n/ep=4, n/st=60, player_1/loss=0.000, player_2/loss=0.000, rew=347.25]\n"
     ]
    },
    {
     "name": "stdout",
     "output_type": "stream",
     "text": [
      "Epoch #280: test_reward: 357.400000 ± 55.507117, best_reward: 594.700000 ± 344.331541 in #64\n"
     ]
    },
    {
     "name": "stderr",
     "output_type": "stream",
     "text": [
      "Epoch #281: 1080it [00:03, 346.34it/s, env_step=303480, len=22, n/ep=3, n/st=60, player_1/loss=0.000, player_2/loss=0.000, rew=277.33]\n"
     ]
    },
    {
     "name": "stdout",
     "output_type": "stream",
     "text": [
      "Epoch #281: test_reward: 263.600000 ± 107.379886, best_reward: 594.700000 ± 344.331541 in #64\n"
     ]
    },
    {
     "name": "stderr",
     "output_type": "stream",
     "text": [
      "Epoch #282: 1080it [00:03, 352.14it/s, env_step=304560, len=23, n/ep=1, n/st=60, player_1/loss=0.000, player_2/loss=0.000, rew=275.00]\n"
     ]
    },
    {
     "name": "stdout",
     "output_type": "stream",
     "text": [
      "Epoch #282: test_reward: 243.600000 ± 160.036996, best_reward: 594.700000 ± 344.331541 in #64\n"
     ]
    },
    {
     "name": "stderr",
     "output_type": "stream",
     "text": [
      "Epoch #283: 1080it [00:03, 350.40it/s, env_step=305640, len=20, n/ep=3, n/st=60, player_1/loss=0.000, player_2/loss=0.000, rew=229.33]\n"
     ]
    },
    {
     "name": "stdout",
     "output_type": "stream",
     "text": [
      "Epoch #283: test_reward: 280.000000 ± 83.173313, best_reward: 594.700000 ± 344.331541 in #64\n"
     ]
    },
    {
     "name": "stderr",
     "output_type": "stream",
     "text": [
      "Epoch #284: 1080it [00:03, 355.45it/s, env_step=306720, len=21, n/ep=3, n/st=60, player_1/loss=0.000, player_2/loss=0.000, rew=267.67]\n"
     ]
    },
    {
     "name": "stdout",
     "output_type": "stream",
     "text": [
      "Epoch #284: test_reward: 256.300000 ± 49.002143, best_reward: 594.700000 ± 344.331541 in #64\n"
     ]
    },
    {
     "name": "stderr",
     "output_type": "stream",
     "text": [
      "Epoch #285: 1080it [00:03, 354.42it/s, env_step=307800, len=21, n/ep=0, n/st=60, player_1/loss=0.000, player_2/loss=0.000, rew=230.00]\n"
     ]
    },
    {
     "name": "stdout",
     "output_type": "stream",
     "text": [
      "Epoch #285: test_reward: 308.600000 ± 109.649624, best_reward: 594.700000 ± 344.331541 in #64\n"
     ]
    },
    {
     "name": "stderr",
     "output_type": "stream",
     "text": [
      "Epoch #286: 1080it [00:03, 350.19it/s, env_step=308880, len=20, n/ep=4, n/st=60, player_1/loss=0.000, player_2/loss=0.000, rew=219.75]\n"
     ]
    },
    {
     "name": "stdout",
     "output_type": "stream",
     "text": [
      "Epoch #286: test_reward: 403.800000 ± 73.589130, best_reward: 594.700000 ± 344.331541 in #64\n"
     ]
    },
    {
     "name": "stderr",
     "output_type": "stream",
     "text": [
      "Epoch #287: 1080it [00:03, 347.98it/s, env_step=309960, len=15, n/ep=2, n/st=60, player_1/loss=0.000, player_2/loss=0.000, rew=137.00]\n"
     ]
    },
    {
     "name": "stdout",
     "output_type": "stream",
     "text": [
      "Epoch #287: test_reward: 356.700000 ± 226.756279, best_reward: 594.700000 ± 344.331541 in #64\n"
     ]
    },
    {
     "name": "stderr",
     "output_type": "stream",
     "text": [
      "Epoch #288: 1080it [00:03, 350.31it/s, env_step=311040, len=18, n/ep=4, n/st=60, player_1/loss=0.000, player_2/loss=0.000, rew=175.50]\n"
     ]
    },
    {
     "name": "stdout",
     "output_type": "stream",
     "text": [
      "Epoch #288: test_reward: 502.400000 ± 348.258008, best_reward: 594.700000 ± 344.331541 in #64\n"
     ]
    },
    {
     "name": "stderr",
     "output_type": "stream",
     "text": [
      "Epoch #289: 1080it [00:03, 344.17it/s, env_step=312120, len=28, n/ep=2, n/st=60, player_1/loss=0.000, player_2/loss=0.000, rew=407.00]\n"
     ]
    },
    {
     "name": "stdout",
     "output_type": "stream",
     "text": [
      "Epoch #289: test_reward: 283.400000 ± 101.909960, best_reward: 594.700000 ± 344.331541 in #64\n"
     ]
    },
    {
     "name": "stderr",
     "output_type": "stream",
     "text": [
      "Epoch #290: 1080it [00:03, 344.97it/s, env_step=313200, len=20, n/ep=3, n/st=60, player_1/loss=0.000, player_2/loss=0.000, rew=230.00]\n"
     ]
    },
    {
     "name": "stdout",
     "output_type": "stream",
     "text": [
      "Epoch #290: test_reward: 366.300000 ± 203.535279, best_reward: 594.700000 ± 344.331541 in #64\n"
     ]
    },
    {
     "name": "stderr",
     "output_type": "stream",
     "text": [
      "Epoch #291: 1080it [00:03, 353.92it/s, env_step=314280, len=18, n/ep=3, n/st=60, player_1/loss=0.000, player_2/loss=0.000, rew=206.67]\n"
     ]
    },
    {
     "name": "stdout",
     "output_type": "stream",
     "text": [
      "Epoch #291: test_reward: 272.200000 ± 148.226044, best_reward: 594.700000 ± 344.331541 in #64\n"
     ]
    },
    {
     "name": "stderr",
     "output_type": "stream",
     "text": [
      "Epoch #292: 1080it [00:03, 348.40it/s, env_step=315360, len=19, n/ep=4, n/st=60, player_1/loss=0.000, player_2/loss=0.000, rew=248.25]\n"
     ]
    },
    {
     "name": "stdout",
     "output_type": "stream",
     "text": [
      "Epoch #292: test_reward: 150.900000 ± 187.960874, best_reward: 594.700000 ± 344.331541 in #64\n"
     ]
    },
    {
     "name": "stderr",
     "output_type": "stream",
     "text": [
      "Epoch #293: 1080it [00:03, 345.49it/s, env_step=316440, len=18, n/ep=3, n/st=60, player_1/loss=0.000, player_2/loss=0.000, rew=204.33]\n"
     ]
    },
    {
     "name": "stdout",
     "output_type": "stream",
     "text": [
      "Epoch #293: test_reward: 77.300000 ± 99.900000, best_reward: 594.700000 ± 344.331541 in #64\n"
     ]
    },
    {
     "name": "stderr",
     "output_type": "stream",
     "text": [
      "Epoch #294: 1080it [00:03, 349.90it/s, env_step=317520, len=20, n/ep=0, n/st=60, player_1/loss=0.000, player_2/loss=0.000, rew=241.80]\n"
     ]
    },
    {
     "name": "stdout",
     "output_type": "stream",
     "text": [
      "Epoch #294: test_reward: 206.400000 ± 103.805780, best_reward: 594.700000 ± 344.331541 in #64\n"
     ]
    },
    {
     "name": "stderr",
     "output_type": "stream",
     "text": [
      "Epoch #295: 1080it [00:03, 350.63it/s, env_step=318600, len=28, n/ep=3, n/st=60, player_1/loss=0.000, player_2/loss=0.000, rew=407.33]\n"
     ]
    },
    {
     "name": "stdout",
     "output_type": "stream",
     "text": [
      "Epoch #295: test_reward: 158.700000 ± 84.868192, best_reward: 594.700000 ± 344.331541 in #64\n"
     ]
    },
    {
     "name": "stderr",
     "output_type": "stream",
     "text": [
      "Epoch #296: 1080it [00:03, 354.09it/s, env_step=319680, len=19, n/ep=4, n/st=60, player_1/loss=0.000, player_2/loss=0.000, rew=217.25]\n"
     ]
    },
    {
     "name": "stdout",
     "output_type": "stream",
     "text": [
      "Epoch #296: test_reward: 266.700000 ± 147.629977, best_reward: 594.700000 ± 344.331541 in #64\n"
     ]
    },
    {
     "name": "stderr",
     "output_type": "stream",
     "text": [
      "Epoch #297: 1080it [00:03, 347.58it/s, env_step=320760, len=21, n/ep=5, n/st=60, player_1/loss=0.000, player_2/loss=0.000, rew=239.60]\n"
     ]
    },
    {
     "name": "stdout",
     "output_type": "stream",
     "text": [
      "Epoch #297: test_reward: 273.400000 ± 77.168906, best_reward: 594.700000 ± 344.331541 in #64\n"
     ]
    },
    {
     "name": "stderr",
     "output_type": "stream",
     "text": [
      "Epoch #298: 1080it [00:03, 351.03it/s, env_step=321840, len=19, n/ep=4, n/st=60, player_1/loss=0.000, player_2/loss=0.000, rew=195.75]\n"
     ]
    },
    {
     "name": "stdout",
     "output_type": "stream",
     "text": [
      "Epoch #298: test_reward: 208.600000 ± 115.454060, best_reward: 594.700000 ± 344.331541 in #64\n"
     ]
    },
    {
     "name": "stderr",
     "output_type": "stream",
     "text": [
      "Epoch #299: 1080it [00:03, 350.12it/s, env_step=322920, len=26, n/ep=4, n/st=60, player_1/loss=0.000, player_2/loss=0.000, rew=366.00]\n"
     ]
    },
    {
     "name": "stdout",
     "output_type": "stream",
     "text": [
      "Epoch #299: test_reward: 186.900000 ± 152.064098, best_reward: 594.700000 ± 344.331541 in #64\n"
     ]
    },
    {
     "name": "stderr",
     "output_type": "stream",
     "text": [
      "Epoch #300: 1080it [00:03, 351.39it/s, env_step=324000, len=22, n/ep=2, n/st=60, player_1/loss=0.000, player_2/loss=0.000, rew=263.50]\n"
     ]
    },
    {
     "name": "stdout",
     "output_type": "stream",
     "text": [
      "Epoch #300: test_reward: 255.600000 ± 78.877373, best_reward: 594.700000 ± 344.331541 in #64\n"
     ]
    },
    {
     "name": "stderr",
     "output_type": "stream",
     "text": [
      "Epoch #301: 1080it [00:03, 349.15it/s, env_step=325080, len=29, n/ep=1, n/st=60, player_1/loss=0.000, player_2/loss=0.000, rew=434.00]\n"
     ]
    },
    {
     "name": "stdout",
     "output_type": "stream",
     "text": [
      "Epoch #301: test_reward: 216.000000 ± 64.654466, best_reward: 594.700000 ± 344.331541 in #64\n"
     ]
    },
    {
     "name": "stderr",
     "output_type": "stream",
     "text": [
      "Epoch #302: 1080it [00:03, 348.61it/s, env_step=326160, len=20, n/ep=1, n/st=60, player_1/loss=0.000, player_2/loss=0.000, rew=209.00]\n"
     ]
    },
    {
     "name": "stdout",
     "output_type": "stream",
     "text": [
      "Epoch #302: test_reward: 276.300000 ± 91.367445, best_reward: 594.700000 ± 344.331541 in #64\n"
     ]
    },
    {
     "name": "stderr",
     "output_type": "stream",
     "text": [
      "Epoch #303: 1080it [00:03, 348.97it/s, env_step=327240, len=21, n/ep=6, n/st=60, player_1/loss=0.000, player_2/loss=0.000, rew=281.33]\n"
     ]
    },
    {
     "name": "stdout",
     "output_type": "stream",
     "text": [
      "Epoch #303: test_reward: 103.200000 ± 89.841861, best_reward: 594.700000 ± 344.331541 in #64\n"
     ]
    },
    {
     "name": "stderr",
     "output_type": "stream",
     "text": [
      "Epoch #304: 1080it [00:03, 351.32it/s, env_step=328320, len=13, n/ep=3, n/st=60, player_1/loss=0.000, player_2/loss=0.000, rew=94.67] \n"
     ]
    },
    {
     "name": "stdout",
     "output_type": "stream",
     "text": [
      "Epoch #304: test_reward: 490.700000 ± 93.483742, best_reward: 594.700000 ± 344.331541 in #64\n"
     ]
    },
    {
     "name": "stderr",
     "output_type": "stream",
     "text": [
      "Epoch #305: 1080it [00:03, 343.36it/s, env_step=329400, len=19, n/ep=3, n/st=60, player_1/loss=0.000, player_2/loss=0.000, rew=196.33]\n"
     ]
    },
    {
     "name": "stdout",
     "output_type": "stream",
     "text": [
      "Epoch #305: test_reward: 230.400000 ± 260.412442, best_reward: 594.700000 ± 344.331541 in #64\n"
     ]
    },
    {
     "name": "stderr",
     "output_type": "stream",
     "text": [
      "Epoch #306: 1080it [00:03, 349.13it/s, env_step=330480, len=29, n/ep=2, n/st=60, player_1/loss=0.000, player_2/loss=0.000, rew=506.00]\n"
     ]
    },
    {
     "name": "stdout",
     "output_type": "stream",
     "text": [
      "Epoch #306: test_reward: 382.700000 ± 159.755469, best_reward: 594.700000 ± 344.331541 in #64\n"
     ]
    },
    {
     "name": "stderr",
     "output_type": "stream",
     "text": [
      "Epoch #307: 1080it [00:03, 346.36it/s, env_step=331560, len=20, n/ep=2, n/st=60, player_1/loss=0.000, player_2/loss=0.000, rew=209.00]\n"
     ]
    },
    {
     "name": "stdout",
     "output_type": "stream",
     "text": [
      "Epoch #307: test_reward: 489.200000 ± 185.960641, best_reward: 594.700000 ± 344.331541 in #64\n"
     ]
    },
    {
     "name": "stderr",
     "output_type": "stream",
     "text": [
      "Epoch #308: 1080it [00:03, 348.82it/s, env_step=332640, len=15, n/ep=3, n/st=60, player_1/loss=0.000, player_2/loss=0.000, rew=136.67]\n"
     ]
    },
    {
     "name": "stdout",
     "output_type": "stream",
     "text": [
      "Epoch #308: test_reward: 361.500000 ± 64.131506, best_reward: 594.700000 ± 344.331541 in #64\n"
     ]
    },
    {
     "name": "stderr",
     "output_type": "stream",
     "text": [
      "Epoch #309: 1080it [00:03, 351.78it/s, env_step=333720, len=20, n/ep=2, n/st=60, player_1/loss=0.000, player_2/loss=0.000, rew=219.50]\n"
     ]
    },
    {
     "name": "stdout",
     "output_type": "stream",
     "text": [
      "Epoch #309: test_reward: 273.400000 ± 99.998200, best_reward: 594.700000 ± 344.331541 in #64\n"
     ]
    },
    {
     "name": "stderr",
     "output_type": "stream",
     "text": [
      "Epoch #310: 1080it [00:03, 349.60it/s, env_step=334800, len=19, n/ep=2, n/st=60, player_1/loss=0.000, player_2/loss=0.000, rew=189.50]\n"
     ]
    },
    {
     "name": "stdout",
     "output_type": "stream",
     "text": [
      "Epoch #310: test_reward: 132.300000 ± 55.923251, best_reward: 594.700000 ± 344.331541 in #64\n"
     ]
    },
    {
     "name": "stderr",
     "output_type": "stream",
     "text": [
      "Epoch #311: 1080it [00:03, 346.27it/s, env_step=335880, len=29, n/ep=2, n/st=60, player_1/loss=0.000, player_2/loss=0.000, rew=470.00]\n"
     ]
    },
    {
     "name": "stdout",
     "output_type": "stream",
     "text": [
      "Epoch #311: test_reward: 267.000000 ± 96.311993, best_reward: 594.700000 ± 344.331541 in #64\n"
     ]
    },
    {
     "name": "stderr",
     "output_type": "stream",
     "text": [
      "Epoch #312: 1080it [00:03, 345.23it/s, env_step=336960, len=26, n/ep=1, n/st=60, player_1/loss=0.000, player_2/loss=0.000, rew=350.00]\n"
     ]
    },
    {
     "name": "stdout",
     "output_type": "stream",
     "text": [
      "Epoch #312: test_reward: 464.900000 ± 152.422735, best_reward: 594.700000 ± 344.331541 in #64\n"
     ]
    },
    {
     "name": "stderr",
     "output_type": "stream",
     "text": [
      "Epoch #313: 1080it [00:03, 351.33it/s, env_step=338040, len=31, n/ep=3, n/st=60, player_1/loss=0.000, player_2/loss=0.000, rew=535.33]\n"
     ]
    },
    {
     "name": "stdout",
     "output_type": "stream",
     "text": [
      "Epoch #313: test_reward: 54.000000 ± 0.000000, best_reward: 594.700000 ± 344.331541 in #64\n"
     ]
    },
    {
     "name": "stderr",
     "output_type": "stream",
     "text": [
      "Epoch #314: 1080it [00:03, 350.83it/s, env_step=339120, len=18, n/ep=3, n/st=60, player_1/loss=0.000, player_2/loss=0.000, rew=177.00]\n"
     ]
    },
    {
     "name": "stdout",
     "output_type": "stream",
     "text": [
      "Epoch #314: test_reward: 353.500000 ± 270.850235, best_reward: 594.700000 ± 344.331541 in #64\n"
     ]
    },
    {
     "name": "stderr",
     "output_type": "stream",
     "text": [
      "Epoch #315: 1080it [00:03, 342.39it/s, env_step=340200, len=15, n/ep=2, n/st=60, player_1/loss=0.000, player_2/loss=0.000, rew=148.00]\n"
     ]
    },
    {
     "name": "stdout",
     "output_type": "stream",
     "text": [
      "Epoch #315: test_reward: 184.700000 ± 98.791751, best_reward: 594.700000 ± 344.331541 in #64\n"
     ]
    },
    {
     "name": "stderr",
     "output_type": "stream",
     "text": [
      "Epoch #316: 1080it [00:03, 347.06it/s, env_step=341280, len=20, n/ep=3, n/st=60, player_1/loss=0.000, player_2/loss=0.000, rew=212.00]\n"
     ]
    },
    {
     "name": "stdout",
     "output_type": "stream",
     "text": [
      "Epoch #316: test_reward: 176.000000 ± 38.270093, best_reward: 594.700000 ± 344.331541 in #64\n"
     ]
    },
    {
     "name": "stderr",
     "output_type": "stream",
     "text": [
      "Epoch #317: 1080it [00:03, 349.99it/s, env_step=342360, len=19, n/ep=2, n/st=60, player_1/loss=0.000, player_2/loss=0.000, rew=193.50]\n"
     ]
    },
    {
     "name": "stdout",
     "output_type": "stream",
     "text": [
      "Epoch #317: test_reward: 303.000000 ± 130.932043, best_reward: 594.700000 ± 344.331541 in #64\n"
     ]
    },
    {
     "name": "stderr",
     "output_type": "stream",
     "text": [
      "Epoch #318: 1080it [00:03, 349.77it/s, env_step=343440, len=24, n/ep=2, n/st=60, player_1/loss=0.000, player_2/loss=0.000, rew=303.50]\n"
     ]
    },
    {
     "name": "stdout",
     "output_type": "stream",
     "text": [
      "Epoch #318: test_reward: 324.400000 ± 141.846537, best_reward: 594.700000 ± 344.331541 in #64\n"
     ]
    },
    {
     "name": "stderr",
     "output_type": "stream",
     "text": [
      "Epoch #319: 1080it [00:03, 350.26it/s, env_step=344520, len=29, n/ep=2, n/st=60, player_1/loss=0.000, player_2/loss=0.000, rew=452.00]\n"
     ]
    },
    {
     "name": "stdout",
     "output_type": "stream",
     "text": [
      "Epoch #319: test_reward: 79.200000 ± 54.501009, best_reward: 594.700000 ± 344.331541 in #64\n"
     ]
    },
    {
     "name": "stderr",
     "output_type": "stream",
     "text": [
      "Epoch #320: 1080it [00:03, 350.80it/s, env_step=345600, len=20, n/ep=4, n/st=60, player_1/loss=0.000, player_2/loss=0.000, rew=223.25]\n"
     ]
    },
    {
     "name": "stdout",
     "output_type": "stream",
     "text": [
      "Epoch #320: test_reward: 193.200000 ± 140.487580, best_reward: 594.700000 ± 344.331541 in #64\n"
     ]
    },
    {
     "name": "stderr",
     "output_type": "stream",
     "text": [
      "Epoch #321: 1080it [00:03, 349.74it/s, env_step=346680, len=18, n/ep=4, n/st=60, player_1/loss=0.000, player_2/loss=0.000, rew=199.75]\n"
     ]
    },
    {
     "name": "stdout",
     "output_type": "stream",
     "text": [
      "Epoch #321: test_reward: 245.300000 ± 146.951727, best_reward: 594.700000 ± 344.331541 in #64\n"
     ]
    },
    {
     "name": "stderr",
     "output_type": "stream",
     "text": [
      "Epoch #322: 1080it [00:03, 344.72it/s, env_step=347760, len=18, n/ep=3, n/st=60, player_1/loss=0.000, player_2/loss=0.000, rew=196.00]\n"
     ]
    },
    {
     "name": "stdout",
     "output_type": "stream",
     "text": [
      "Epoch #322: test_reward: 153.400000 ± 86.412036, best_reward: 594.700000 ± 344.331541 in #64\n"
     ]
    },
    {
     "name": "stderr",
     "output_type": "stream",
     "text": [
      "Epoch #323: 1080it [00:03, 352.30it/s, env_step=348840, len=22, n/ep=6, n/st=60, player_1/loss=0.000, player_2/loss=0.000, rew=272.67]\n"
     ]
    },
    {
     "name": "stdout",
     "output_type": "stream",
     "text": [
      "Epoch #323: test_reward: 70.400000 ± 16.200000, best_reward: 594.700000 ± 344.331541 in #64\n"
     ]
    },
    {
     "name": "stderr",
     "output_type": "stream",
     "text": [
      "Epoch #324: 1080it [00:03, 350.25it/s, env_step=349920, len=17, n/ep=3, n/st=60, player_1/loss=0.000, player_2/loss=0.000, rew=155.00]\n"
     ]
    },
    {
     "name": "stdout",
     "output_type": "stream",
     "text": [
      "Epoch #324: test_reward: 280.900000 ± 125.512908, best_reward: 594.700000 ± 344.331541 in #64\n"
     ]
    },
    {
     "name": "stderr",
     "output_type": "stream",
     "text": [
      "Epoch #325: 1080it [00:03, 347.63it/s, env_step=351000, len=24, n/ep=2, n/st=60, player_1/loss=0.000, player_2/loss=0.000, rew=307.00]\n"
     ]
    },
    {
     "name": "stdout",
     "output_type": "stream",
     "text": [
      "Epoch #325: test_reward: 296.100000 ± 162.150208, best_reward: 594.700000 ± 344.331541 in #64\n"
     ]
    },
    {
     "name": "stderr",
     "output_type": "stream",
     "text": [
      "Epoch #326: 1080it [00:03, 347.98it/s, env_step=352080, len=20, n/ep=3, n/st=60, player_1/loss=0.000, player_2/loss=0.000, rew=241.33]\n"
     ]
    },
    {
     "name": "stdout",
     "output_type": "stream",
     "text": [
      "Epoch #326: test_reward: 380.400000 ± 132.900113, best_reward: 594.700000 ± 344.331541 in #64\n"
     ]
    },
    {
     "name": "stderr",
     "output_type": "stream",
     "text": [
      "Epoch #327: 1080it [00:03, 353.03it/s, env_step=353160, len=22, n/ep=7, n/st=60, player_1/loss=0.000, player_2/loss=0.000, rew=309.57]\n"
     ]
    },
    {
     "name": "stdout",
     "output_type": "stream",
     "text": [
      "Epoch #327: test_reward: 312.100000 ± 83.931460, best_reward: 594.700000 ± 344.331541 in #64\n"
     ]
    },
    {
     "name": "stderr",
     "output_type": "stream",
     "text": [
      "Epoch #328: 1080it [00:03, 348.47it/s, env_step=354240, len=17, n/ep=3, n/st=60, player_1/loss=0.000, player_2/loss=0.000, rew=191.33]\n"
     ]
    },
    {
     "name": "stdout",
     "output_type": "stream",
     "text": [
      "Epoch #328: test_reward: 217.500000 ± 68.440120, best_reward: 594.700000 ± 344.331541 in #64\n"
     ]
    },
    {
     "name": "stderr",
     "output_type": "stream",
     "text": [
      "Epoch #329: 1080it [00:03, 348.89it/s, env_step=355320, len=18, n/ep=3, n/st=60, player_1/loss=0.000, player_2/loss=0.000, rew=186.33]\n"
     ]
    },
    {
     "name": "stdout",
     "output_type": "stream",
     "text": [
      "Epoch #329: test_reward: 94.500000 ± 28.720202, best_reward: 594.700000 ± 344.331541 in #64\n"
     ]
    },
    {
     "name": "stderr",
     "output_type": "stream",
     "text": [
      "Epoch #330: 1080it [00:03, 352.15it/s, env_step=356400, len=20, n/ep=3, n/st=60, player_1/loss=0.000, player_2/loss=0.000, rew=256.33]\n"
     ]
    },
    {
     "name": "stdout",
     "output_type": "stream",
     "text": [
      "Epoch #330: test_reward: 155.700000 ± 187.970769, best_reward: 594.700000 ± 344.331541 in #64\n"
     ]
    },
    {
     "name": "stderr",
     "output_type": "stream",
     "text": [
      "Epoch #331: 1080it [00:03, 342.61it/s, env_step=357480, len=12, n/ep=4, n/st=60, player_1/loss=0.000, player_2/loss=0.000, rew=94.75] \n"
     ]
    },
    {
     "name": "stdout",
     "output_type": "stream",
     "text": [
      "Epoch #331: test_reward: 229.100000 ± 110.575268, best_reward: 594.700000 ± 344.331541 in #64\n"
     ]
    },
    {
     "name": "stderr",
     "output_type": "stream",
     "text": [
      "Epoch #332: 1080it [00:03, 348.55it/s, env_step=358560, len=28, n/ep=2, n/st=60, player_1/loss=0.000, player_2/loss=0.000, rew=455.00]\n"
     ]
    },
    {
     "name": "stdout",
     "output_type": "stream",
     "text": [
      "Epoch #332: test_reward: 233.500000 ± 90.317496, best_reward: 594.700000 ± 344.331541 in #64\n"
     ]
    },
    {
     "name": "stderr",
     "output_type": "stream",
     "text": [
      "Epoch #333: 1080it [00:03, 350.41it/s, env_step=359640, len=18, n/ep=3, n/st=60, player_1/loss=0.000, player_2/loss=0.000, rew=193.00]\n"
     ]
    },
    {
     "name": "stdout",
     "output_type": "stream",
     "text": [
      "Epoch #333: test_reward: 269.800000 ± 104.085350, best_reward: 594.700000 ± 344.331541 in #64\n"
     ]
    },
    {
     "name": "stderr",
     "output_type": "stream",
     "text": [
      "Epoch #334: 1080it [00:03, 347.12it/s, env_step=360720, len=24, n/ep=3, n/st=60, player_1/loss=0.000, player_2/loss=0.000, rew=317.33]\n"
     ]
    },
    {
     "name": "stdout",
     "output_type": "stream",
     "text": [
      "Epoch #334: test_reward: 214.700000 ± 67.284545, best_reward: 594.700000 ± 344.331541 in #64\n"
     ]
    },
    {
     "name": "stderr",
     "output_type": "stream",
     "text": [
      "Epoch #335: 1080it [00:03, 347.74it/s, env_step=361800, len=26, n/ep=3, n/st=60, player_1/loss=0.000, player_2/loss=0.000, rew=375.67]\n"
     ]
    },
    {
     "name": "stdout",
     "output_type": "stream",
     "text": [
      "Epoch #335: test_reward: 272.300000 ± 117.609566, best_reward: 594.700000 ± 344.331541 in #64\n"
     ]
    },
    {
     "name": "stderr",
     "output_type": "stream",
     "text": [
      "Epoch #336: 1080it [00:03, 346.70it/s, env_step=362880, len=19, n/ep=3, n/st=60, player_1/loss=0.000, player_2/loss=0.000, rew=191.33]\n"
     ]
    },
    {
     "name": "stdout",
     "output_type": "stream",
     "text": [
      "Epoch #336: test_reward: 456.600000 ± 221.834262, best_reward: 594.700000 ± 344.331541 in #64\n"
     ]
    },
    {
     "name": "stderr",
     "output_type": "stream",
     "text": [
      "Epoch #337: 1080it [00:03, 313.12it/s, env_step=363960, len=26, n/ep=3, n/st=60, player_1/loss=0.000, player_2/loss=0.000, rew=384.67]\n"
     ]
    },
    {
     "name": "stdout",
     "output_type": "stream",
     "text": [
      "Epoch #337: test_reward: 172.800000 ± 75.600000, best_reward: 594.700000 ± 344.331541 in #64\n"
     ]
    },
    {
     "name": "stderr",
     "output_type": "stream",
     "text": [
      "Epoch #338: 1080it [00:03, 337.56it/s, env_step=365040, len=13, n/ep=3, n/st=60, player_1/loss=0.000, player_2/loss=0.000, rew=97.00] \n"
     ]
    },
    {
     "name": "stdout",
     "output_type": "stream",
     "text": [
      "Epoch #338: test_reward: 145.900000 ± 44.014657, best_reward: 594.700000 ± 344.331541 in #64\n"
     ]
    },
    {
     "name": "stderr",
     "output_type": "stream",
     "text": [
      "Epoch #339: 1080it [00:03, 343.73it/s, env_step=366120, len=23, n/ep=4, n/st=60, player_1/loss=0.000, player_2/loss=0.000, rew=303.75]\n"
     ]
    },
    {
     "name": "stdout",
     "output_type": "stream",
     "text": [
      "Epoch #339: test_reward: 423.100000 ± 238.454797, best_reward: 594.700000 ± 344.331541 in #64\n"
     ]
    },
    {
     "name": "stderr",
     "output_type": "stream",
     "text": [
      "Epoch #340: 1080it [00:03, 325.80it/s, env_step=367200, len=23, n/ep=5, n/st=60, player_1/loss=0.000, player_2/loss=0.000, rew=340.60]\n"
     ]
    },
    {
     "name": "stdout",
     "output_type": "stream",
     "text": [
      "Epoch #340: test_reward: 300.700000 ± 117.033371, best_reward: 594.700000 ± 344.331541 in #64\n"
     ]
    },
    {
     "name": "stderr",
     "output_type": "stream",
     "text": [
      "Epoch #341: 1080it [00:03, 327.70it/s, env_step=368280, len=21, n/ep=4, n/st=60, player_1/loss=0.000, player_2/loss=0.000, rew=265.50]\n"
     ]
    },
    {
     "name": "stdout",
     "output_type": "stream",
     "text": [
      "Epoch #341: test_reward: 116.700000 ± 90.406913, best_reward: 594.700000 ± 344.331541 in #64\n"
     ]
    },
    {
     "name": "stderr",
     "output_type": "stream",
     "text": [
      "Epoch #342: 1080it [00:03, 320.01it/s, env_step=369360, len=20, n/ep=4, n/st=60, player_1/loss=0.000, player_2/loss=0.000, rew=244.00]\n"
     ]
    },
    {
     "name": "stdout",
     "output_type": "stream",
     "text": [
      "Epoch #342: test_reward: 457.100000 ± 247.679813, best_reward: 594.700000 ± 344.331541 in #64\n"
     ]
    },
    {
     "name": "stderr",
     "output_type": "stream",
     "text": [
      "Epoch #343: 1080it [00:03, 292.87it/s, env_step=370440, len=19, n/ep=2, n/st=60, player_1/loss=0.000, player_2/loss=0.000, rew=239.00]\n"
     ]
    },
    {
     "name": "stdout",
     "output_type": "stream",
     "text": [
      "Epoch #343: test_reward: 63.200000 ± 71.701883, best_reward: 594.700000 ± 344.331541 in #64\n"
     ]
    },
    {
     "name": "stderr",
     "output_type": "stream",
     "text": [
      "Epoch #344: 1080it [00:03, 345.69it/s, env_step=371520, len=19, n/ep=2, n/st=60, player_1/loss=0.000, player_2/loss=0.000, rew=197.00]\n"
     ]
    },
    {
     "name": "stdout",
     "output_type": "stream",
     "text": [
      "Epoch #344: test_reward: 210.800000 ± 61.249980, best_reward: 594.700000 ± 344.331541 in #64\n"
     ]
    },
    {
     "name": "stderr",
     "output_type": "stream",
     "text": [
      "Epoch #345: 1080it [00:03, 337.10it/s, env_step=372600, len=20, n/ep=3, n/st=60, player_1/loss=0.000, player_2/loss=0.000, rew=219.33]\n"
     ]
    },
    {
     "name": "stdout",
     "output_type": "stream",
     "text": [
      "Epoch #345: test_reward: 226.500000 ± 116.881350, best_reward: 594.700000 ± 344.331541 in #64\n"
     ]
    },
    {
     "name": "stderr",
     "output_type": "stream",
     "text": [
      "Epoch #346: 1080it [00:03, 348.98it/s, env_step=373680, len=18, n/ep=4, n/st=60, player_1/loss=0.000, player_2/loss=0.000, rew=184.75]\n"
     ]
    },
    {
     "name": "stdout",
     "output_type": "stream",
     "text": [
      "Epoch #346: test_reward: 174.700000 ± 128.106245, best_reward: 594.700000 ± 344.331541 in #64\n"
     ]
    },
    {
     "name": "stderr",
     "output_type": "stream",
     "text": [
      "Epoch #347: 1080it [00:03, 339.28it/s, env_step=374760, len=18, n/ep=5, n/st=60, player_1/loss=0.000, player_2/loss=0.000, rew=217.60]\n"
     ]
    },
    {
     "name": "stdout",
     "output_type": "stream",
     "text": [
      "Epoch #347: test_reward: 226.100000 ± 128.228273, best_reward: 594.700000 ± 344.331541 in #64\n"
     ]
    },
    {
     "name": "stderr",
     "output_type": "stream",
     "text": [
      "Epoch #348: 1080it [00:03, 333.51it/s, env_step=375840, len=20, n/ep=1, n/st=60, player_1/loss=0.000, player_2/loss=0.000, rew=209.00]\n"
     ]
    },
    {
     "name": "stdout",
     "output_type": "stream",
     "text": [
      "Epoch #348: test_reward: 235.300000 ± 56.979031, best_reward: 594.700000 ± 344.331541 in #64\n"
     ]
    },
    {
     "name": "stderr",
     "output_type": "stream",
     "text": [
      "Epoch #349: 1080it [00:03, 325.28it/s, env_step=376920, len=25, n/ep=4, n/st=60, player_1/loss=0.000, player_2/loss=0.000, rew=347.25]\n"
     ]
    },
    {
     "name": "stdout",
     "output_type": "stream",
     "text": [
      "Epoch #349: test_reward: 373.600000 ± 86.810368, best_reward: 594.700000 ± 344.331541 in #64\n"
     ]
    },
    {
     "name": "stderr",
     "output_type": "stream",
     "text": [
      "Epoch #350: 1080it [00:03, 328.54it/s, env_step=378000, len=17, n/ep=5, n/st=60, player_1/loss=0.000, player_2/loss=0.000, rew=188.40]\n"
     ]
    },
    {
     "name": "stdout",
     "output_type": "stream",
     "text": [
      "Epoch #350: test_reward: 260.800000 ± 68.337106, best_reward: 594.700000 ± 344.331541 in #64\n"
     ]
    },
    {
     "name": "stderr",
     "output_type": "stream",
     "text": [
      "Epoch #351: 1080it [00:03, 349.51it/s, env_step=379080, len=15, n/ep=4, n/st=60, player_1/loss=0.000, player_2/loss=0.000, rew=126.25]\n"
     ]
    },
    {
     "name": "stdout",
     "output_type": "stream",
     "text": [
      "Epoch #351: test_reward: 366.200000 ± 117.589795, best_reward: 594.700000 ± 344.331541 in #64\n"
     ]
    },
    {
     "name": "stderr",
     "output_type": "stream",
     "text": [
      "Epoch #352: 1080it [00:03, 323.56it/s, env_step=380160, len=27, n/ep=2, n/st=60, player_1/loss=0.000, player_2/loss=0.000, rew=397.00]\n"
     ]
    },
    {
     "name": "stdout",
     "output_type": "stream",
     "text": [
      "Epoch #352: test_reward: 233.600000 ± 91.584060, best_reward: 594.700000 ± 344.331541 in #64\n"
     ]
    },
    {
     "name": "stderr",
     "output_type": "stream",
     "text": [
      "Epoch #353: 1080it [00:03, 310.34it/s, env_step=381240, len=16, n/ep=6, n/st=60, player_1/loss=0.000, player_2/loss=0.000, rew=150.00]\n"
     ]
    },
    {
     "name": "stdout",
     "output_type": "stream",
     "text": [
      "Epoch #353: test_reward: 89.400000 ± 77.076845, best_reward: 594.700000 ± 344.331541 in #64\n"
     ]
    },
    {
     "name": "stderr",
     "output_type": "stream",
     "text": [
      "Epoch #354: 1080it [00:03, 326.75it/s, env_step=382320, len=24, n/ep=5, n/st=60, player_1/loss=0.000, player_2/loss=0.000, rew=312.00]\n"
     ]
    },
    {
     "name": "stdout",
     "output_type": "stream",
     "text": [
      "Epoch #354: test_reward: 228.100000 ± 89.611885, best_reward: 594.700000 ± 344.331541 in #64\n"
     ]
    },
    {
     "name": "stderr",
     "output_type": "stream",
     "text": [
      "Epoch #355: 1080it [00:03, 331.66it/s, env_step=383400, len=19, n/ep=5, n/st=60, player_1/loss=0.000, player_2/loss=0.000, rew=211.80]\n"
     ]
    },
    {
     "name": "stdout",
     "output_type": "stream",
     "text": [
      "Epoch #355: test_reward: 435.200000 ± 130.308710, best_reward: 594.700000 ± 344.331541 in #64\n"
     ]
    },
    {
     "name": "stderr",
     "output_type": "stream",
     "text": [
      "Epoch #356: 1080it [00:03, 339.40it/s, env_step=384480, len=14, n/ep=1, n/st=60, player_1/loss=0.000, player_2/loss=0.000, rew=104.00]\n"
     ]
    },
    {
     "name": "stdout",
     "output_type": "stream",
     "text": [
      "Epoch #356: test_reward: 233.600000 ± 59.008813, best_reward: 594.700000 ± 344.331541 in #64\n"
     ]
    },
    {
     "name": "stderr",
     "output_type": "stream",
     "text": [
      "Epoch #357: 1080it [00:03, 334.37it/s, env_step=385560, len=25, n/ep=2, n/st=60, player_1/loss=0.000, player_2/loss=0.000, rew=340.00]\n"
     ]
    },
    {
     "name": "stdout",
     "output_type": "stream",
     "text": [
      "Epoch #357: test_reward: 249.600000 ± 176.408163, best_reward: 594.700000 ± 344.331541 in #64\n"
     ]
    },
    {
     "name": "stderr",
     "output_type": "stream",
     "text": [
      "Epoch #358: 1080it [00:03, 309.61it/s, env_step=386640, len=17, n/ep=1, n/st=60, player_1/loss=0.000, player_2/loss=0.000, rew=152.00]\n"
     ]
    },
    {
     "name": "stdout",
     "output_type": "stream",
     "text": [
      "Epoch #358: test_reward: 218.300000 ± 95.011631, best_reward: 594.700000 ± 344.331541 in #64\n"
     ]
    },
    {
     "name": "stderr",
     "output_type": "stream",
     "text": [
      "Epoch #359: 1080it [00:03, 304.43it/s, env_step=387720, len=22, n/ep=4, n/st=60, player_1/loss=0.000, player_2/loss=0.000, rew=270.25]\n"
     ]
    },
    {
     "name": "stdout",
     "output_type": "stream",
     "text": [
      "Epoch #359: test_reward: 224.200000 ± 133.283007, best_reward: 594.700000 ± 344.331541 in #64\n"
     ]
    },
    {
     "name": "stderr",
     "output_type": "stream",
     "text": [
      "Epoch #360: 1080it [00:03, 299.76it/s, env_step=388800, len=21, n/ep=3, n/st=60, player_1/loss=0.000, player_2/loss=0.000, rew=264.33]\n"
     ]
    },
    {
     "name": "stdout",
     "output_type": "stream",
     "text": [
      "Epoch #360: test_reward: 171.300000 ± 31.324272, best_reward: 594.700000 ± 344.331541 in #64\n"
     ]
    },
    {
     "name": "stderr",
     "output_type": "stream",
     "text": [
      "Epoch #361: 1080it [00:03, 316.94it/s, env_step=389880, len=25, n/ep=1, n/st=60, player_1/loss=0.000, player_2/loss=0.000, rew=324.00]\n"
     ]
    },
    {
     "name": "stdout",
     "output_type": "stream",
     "text": [
      "Epoch #361: test_reward: 147.800000 ± 125.249192, best_reward: 594.700000 ± 344.331541 in #64\n"
     ]
    },
    {
     "name": "stderr",
     "output_type": "stream",
     "text": [
      "Epoch #362: 1080it [00:03, 293.53it/s, env_step=390960, len=24, n/ep=0, n/st=60, player_1/loss=0.000, player_2/loss=0.000, rew=323.50]\n"
     ]
    },
    {
     "name": "stdout",
     "output_type": "stream",
     "text": [
      "Epoch #362: test_reward: 348.300000 ± 211.908966, best_reward: 594.700000 ± 344.331541 in #64\n"
     ]
    },
    {
     "name": "stderr",
     "output_type": "stream",
     "text": [
      "Epoch #363: 1080it [00:03, 317.97it/s, env_step=392040, len=21, n/ep=7, n/st=60, player_1/loss=0.000, player_2/loss=0.000, rew=250.86]\n"
     ]
    },
    {
     "name": "stdout",
     "output_type": "stream",
     "text": [
      "Epoch #363: test_reward: 206.200000 ± 123.322180, best_reward: 594.700000 ± 344.331541 in #64\n"
     ]
    },
    {
     "name": "stderr",
     "output_type": "stream",
     "text": [
      "Epoch #364: 1080it [00:03, 310.21it/s, env_step=393120, len=21, n/ep=3, n/st=60, player_1/loss=0.000, player_2/loss=0.000, rew=243.00]\n"
     ]
    },
    {
     "name": "stdout",
     "output_type": "stream",
     "text": [
      "Epoch #364: test_reward: 185.700000 ± 79.822365, best_reward: 594.700000 ± 344.331541 in #64\n"
     ]
    },
    {
     "name": "stderr",
     "output_type": "stream",
     "text": [
      "Epoch #365: 1080it [00:03, 327.61it/s, env_step=394200, len=22, n/ep=2, n/st=60, player_1/loss=0.000, player_2/loss=0.000, rew=264.50]\n"
     ]
    },
    {
     "name": "stdout",
     "output_type": "stream",
     "text": [
      "Epoch #365: test_reward: 319.100000 ± 121.651510, best_reward: 594.700000 ± 344.331541 in #64\n"
     ]
    },
    {
     "name": "stderr",
     "output_type": "stream",
     "text": [
      "Epoch #366: 1080it [00:03, 326.62it/s, env_step=395280, len=29, n/ep=3, n/st=60, player_1/loss=0.000, player_2/loss=0.000, rew=542.00]\n"
     ]
    },
    {
     "name": "stdout",
     "output_type": "stream",
     "text": [
      "Epoch #366: test_reward: 347.900000 ± 150.513421, best_reward: 594.700000 ± 344.331541 in #64\n"
     ]
    },
    {
     "name": "stderr",
     "output_type": "stream",
     "text": [
      "Epoch #367: 1080it [00:03, 326.22it/s, env_step=396360, len=18, n/ep=3, n/st=60, player_1/loss=0.000, player_2/loss=0.000, rew=192.33]\n"
     ]
    },
    {
     "name": "stdout",
     "output_type": "stream",
     "text": [
      "Epoch #367: test_reward: 252.800000 ± 102.298387, best_reward: 594.700000 ± 344.331541 in #64\n"
     ]
    },
    {
     "name": "stderr",
     "output_type": "stream",
     "text": [
      "Epoch #368: 1080it [00:03, 330.36it/s, env_step=397440, len=22, n/ep=2, n/st=60, player_1/loss=0.000, player_2/loss=0.000, rew=263.50]\n"
     ]
    },
    {
     "name": "stdout",
     "output_type": "stream",
     "text": [
      "Epoch #368: test_reward: 34.200000 ± 2.400000, best_reward: 594.700000 ± 344.331541 in #64\n"
     ]
    },
    {
     "name": "stderr",
     "output_type": "stream",
     "text": [
      "Epoch #369: 1080it [00:03, 341.39it/s, env_step=398520, len=20, n/ep=2, n/st=60, player_1/loss=0.000, player_2/loss=0.000, rew=264.50]\n"
     ]
    },
    {
     "name": "stdout",
     "output_type": "stream",
     "text": [
      "Epoch #369: test_reward: 141.500000 ± 58.494872, best_reward: 594.700000 ± 344.331541 in #64\n"
     ]
    },
    {
     "name": "stderr",
     "output_type": "stream",
     "text": [
      "Epoch #370: 1080it [00:03, 348.60it/s, env_step=399600, len=24, n/ep=3, n/st=60, player_1/loss=0.000, player_2/loss=0.000, rew=308.33]\n"
     ]
    },
    {
     "name": "stdout",
     "output_type": "stream",
     "text": [
      "Epoch #370: test_reward: 347.400000 ± 118.306551, best_reward: 594.700000 ± 344.331541 in #64\n"
     ]
    },
    {
     "name": "stderr",
     "output_type": "stream",
     "text": [
      "Epoch #371: 1080it [00:03, 313.17it/s, env_step=400680, len=17, n/ep=4, n/st=60, player_1/loss=0.000, player_2/loss=0.000, rew=168.00]\n"
     ]
    },
    {
     "name": "stdout",
     "output_type": "stream",
     "text": [
      "Epoch #371: test_reward: 204.800000 ± 93.782514, best_reward: 594.700000 ± 344.331541 in #64\n"
     ]
    },
    {
     "name": "stderr",
     "output_type": "stream",
     "text": [
      "Epoch #372: 1080it [00:03, 312.16it/s, env_step=401760, len=25, n/ep=2, n/st=60, player_1/loss=0.000, player_2/loss=0.000, rew=324.50]\n"
     ]
    },
    {
     "name": "stdout",
     "output_type": "stream",
     "text": [
      "Epoch #372: test_reward: 170.100000 ± 114.679946, best_reward: 594.700000 ± 344.331541 in #64\n"
     ]
    },
    {
     "name": "stderr",
     "output_type": "stream",
     "text": [
      "Epoch #373: 1080it [00:03, 321.77it/s, env_step=402840, len=19, n/ep=4, n/st=60, player_1/loss=0.000, player_2/loss=0.000, rew=227.25]\n"
     ]
    },
    {
     "name": "stdout",
     "output_type": "stream",
     "text": [
      "Epoch #373: test_reward: 342.800000 ± 149.303583, best_reward: 594.700000 ± 344.331541 in #64\n"
     ]
    },
    {
     "name": "stderr",
     "output_type": "stream",
     "text": [
      "Epoch #374: 1080it [00:03, 334.23it/s, env_step=403920, len=13, n/ep=3, n/st=60, player_1/loss=0.000, player_2/loss=0.000, rew=99.33] \n"
     ]
    },
    {
     "name": "stdout",
     "output_type": "stream",
     "text": [
      "Epoch #374: test_reward: 373.700000 ± 257.969010, best_reward: 594.700000 ± 344.331541 in #64\n"
     ]
    },
    {
     "name": "stderr",
     "output_type": "stream",
     "text": [
      "Epoch #375: 1080it [00:03, 344.19it/s, env_step=405000, len=16, n/ep=3, n/st=60, player_1/loss=0.000, player_2/loss=0.000, rew=178.33]\n"
     ]
    },
    {
     "name": "stdout",
     "output_type": "stream",
     "text": [
      "Epoch #375: test_reward: 287.200000 ± 120.098127, best_reward: 594.700000 ± 344.331541 in #64\n"
     ]
    },
    {
     "name": "stderr",
     "output_type": "stream",
     "text": [
      "Epoch #376: 1080it [00:03, 336.60it/s, env_step=406080, len=25, n/ep=2, n/st=60, player_1/loss=0.000, player_2/loss=0.000, rew=343.00]\n"
     ]
    },
    {
     "name": "stdout",
     "output_type": "stream",
     "text": [
      "Epoch #376: test_reward: 328.500000 ± 64.500000, best_reward: 594.700000 ± 344.331541 in #64\n"
     ]
    },
    {
     "name": "stderr",
     "output_type": "stream",
     "text": [
      "Epoch #377: 1080it [00:03, 339.16it/s, env_step=407160, len=25, n/ep=4, n/st=60, player_1/loss=0.000, player_2/loss=0.000, rew=344.25]\n"
     ]
    },
    {
     "name": "stdout",
     "output_type": "stream",
     "text": [
      "Epoch #377: test_reward: 261.300000 ± 208.401559, best_reward: 594.700000 ± 344.331541 in #64\n"
     ]
    },
    {
     "name": "stderr",
     "output_type": "stream",
     "text": [
      "Epoch #378: 1080it [00:03, 344.55it/s, env_step=408240, len=14, n/ep=2, n/st=60, player_1/loss=0.000, player_2/loss=0.000, rew=126.50]\n"
     ]
    },
    {
     "name": "stdout",
     "output_type": "stream",
     "text": [
      "Epoch #378: test_reward: 206.500000 ± 111.596819, best_reward: 594.700000 ± 344.331541 in #64\n"
     ]
    },
    {
     "name": "stderr",
     "output_type": "stream",
     "text": [
      "Epoch #379: 1080it [00:03, 338.56it/s, env_step=409320, len=14, n/ep=6, n/st=60, player_1/loss=0.000, player_2/loss=0.000, rew=124.67]\n"
     ]
    },
    {
     "name": "stdout",
     "output_type": "stream",
     "text": [
      "Epoch #379: test_reward: 282.400000 ± 153.037381, best_reward: 594.700000 ± 344.331541 in #64\n"
     ]
    },
    {
     "name": "stderr",
     "output_type": "stream",
     "text": [
      "Epoch #380: 1080it [00:03, 340.45it/s, env_step=410400, len=15, n/ep=0, n/st=60, player_1/loss=0.000, player_2/loss=0.000, rew=129.00]\n"
     ]
    },
    {
     "name": "stdout",
     "output_type": "stream",
     "text": [
      "Epoch #380: test_reward: 166.500000 ± 64.122149, best_reward: 594.700000 ± 344.331541 in #64\n"
     ]
    },
    {
     "name": "stderr",
     "output_type": "stream",
     "text": [
      "Epoch #381: 1080it [00:03, 340.30it/s, env_step=411480, len=26, n/ep=3, n/st=60, player_1/loss=0.000, player_2/loss=0.000, rew=366.33]\n"
     ]
    },
    {
     "name": "stdout",
     "output_type": "stream",
     "text": [
      "Epoch #381: test_reward: 96.100000 ± 63.775309, best_reward: 594.700000 ± 344.331541 in #64\n"
     ]
    },
    {
     "name": "stderr",
     "output_type": "stream",
     "text": [
      "Epoch #382: 1080it [00:03, 324.17it/s, env_step=412560, len=19, n/ep=2, n/st=60, player_1/loss=0.000, player_2/loss=0.000, rew=197.00]\n"
     ]
    },
    {
     "name": "stdout",
     "output_type": "stream",
     "text": [
      "Epoch #382: test_reward: 262.700000 ± 117.902545, best_reward: 594.700000 ± 344.331541 in #64\n"
     ]
    },
    {
     "name": "stderr",
     "output_type": "stream",
     "text": [
      "Epoch #383: 1080it [00:03, 328.28it/s, env_step=413640, len=17, n/ep=3, n/st=60, player_1/loss=0.000, player_2/loss=0.000, rew=200.67]\n"
     ]
    },
    {
     "name": "stdout",
     "output_type": "stream",
     "text": [
      "Epoch #383: test_reward: 179.800000 ± 38.693152, best_reward: 594.700000 ± 344.331541 in #64\n"
     ]
    },
    {
     "name": "stderr",
     "output_type": "stream",
     "text": [
      "Epoch #384: 1080it [00:03, 334.75it/s, env_step=414720, len=20, n/ep=3, n/st=60, player_1/loss=0.000, player_2/loss=0.000, rew=224.67]\n"
     ]
    },
    {
     "name": "stdout",
     "output_type": "stream",
     "text": [
      "Epoch #384: test_reward: 571.700000 ± 240.281522, best_reward: 594.700000 ± 344.331541 in #64\n"
     ]
    },
    {
     "name": "stderr",
     "output_type": "stream",
     "text": [
      "Epoch #385: 1080it [00:03, 324.97it/s, env_step=415800, len=28, n/ep=2, n/st=60, player_1/loss=0.000, player_2/loss=0.000, rew=413.00]\n"
     ]
    },
    {
     "name": "stdout",
     "output_type": "stream",
     "text": [
      "Epoch #385: test_reward: 224.300000 ± 90.995659, best_reward: 594.700000 ± 344.331541 in #64\n"
     ]
    },
    {
     "name": "stderr",
     "output_type": "stream",
     "text": [
      "Epoch #386: 1080it [00:03, 328.80it/s, env_step=416880, len=19, n/ep=3, n/st=60, player_1/loss=0.000, player_2/loss=0.000, rew=201.33]\n"
     ]
    },
    {
     "name": "stdout",
     "output_type": "stream",
     "text": [
      "Epoch #386: test_reward: 128.100000 ± 93.649826, best_reward: 594.700000 ± 344.331541 in #64\n"
     ]
    },
    {
     "name": "stderr",
     "output_type": "stream",
     "text": [
      "Epoch #387: 1080it [00:03, 316.91it/s, env_step=417960, len=22, n/ep=2, n/st=60, player_1/loss=0.000, player_2/loss=0.000, rew=252.00]\n"
     ]
    },
    {
     "name": "stdout",
     "output_type": "stream",
     "text": [
      "Epoch #387: test_reward: 304.600000 ± 98.763556, best_reward: 594.700000 ± 344.331541 in #64\n"
     ]
    },
    {
     "name": "stderr",
     "output_type": "stream",
     "text": [
      "Epoch #388: 1080it [00:03, 312.89it/s, env_step=419040, len=18, n/ep=2, n/st=60, player_1/loss=0.000, player_2/loss=0.000, rew=182.50]\n"
     ]
    },
    {
     "name": "stdout",
     "output_type": "stream",
     "text": [
      "Epoch #388: test_reward: 314.000000 ± 148.318576, best_reward: 594.700000 ± 344.331541 in #64\n"
     ]
    },
    {
     "name": "stderr",
     "output_type": "stream",
     "text": [
      "Epoch #389: 1080it [00:03, 318.74it/s, env_step=420120, len=30, n/ep=1, n/st=60, player_1/loss=0.000, player_2/loss=0.000, rew=464.00]\n"
     ]
    },
    {
     "name": "stdout",
     "output_type": "stream",
     "text": [
      "Epoch #389: test_reward: 238.300000 ± 102.132316, best_reward: 594.700000 ± 344.331541 in #64\n"
     ]
    },
    {
     "name": "stderr",
     "output_type": "stream",
     "text": [
      "Epoch #390: 1080it [00:03, 315.84it/s, env_step=421200, len=26, n/ep=3, n/st=60, player_1/loss=0.000, player_2/loss=0.000, rew=439.33]\n"
     ]
    },
    {
     "name": "stdout",
     "output_type": "stream",
     "text": [
      "Epoch #390: test_reward: 229.600000 ± 111.035310, best_reward: 594.700000 ± 344.331541 in #64\n"
     ]
    },
    {
     "name": "stderr",
     "output_type": "stream",
     "text": [
      "Epoch #391: 1080it [00:03, 336.87it/s, env_step=422280, len=21, n/ep=4, n/st=60, player_1/loss=0.000, player_2/loss=0.000, rew=259.75]\n"
     ]
    },
    {
     "name": "stdout",
     "output_type": "stream",
     "text": [
      "Epoch #391: test_reward: 341.500000 ± 78.063115, best_reward: 594.700000 ± 344.331541 in #64\n"
     ]
    },
    {
     "name": "stderr",
     "output_type": "stream",
     "text": [
      "Epoch #392: 1080it [00:03, 344.27it/s, env_step=423360, len=31, n/ep=1, n/st=60, player_1/loss=0.000, player_2/loss=0.000, rew=495.00]\n"
     ]
    },
    {
     "name": "stdout",
     "output_type": "stream",
     "text": [
      "Epoch #392: test_reward: 238.500000 ± 122.478774, best_reward: 594.700000 ± 344.331541 in #64\n"
     ]
    },
    {
     "name": "stderr",
     "output_type": "stream",
     "text": [
      "Epoch #393: 1080it [00:03, 342.52it/s, env_step=424440, len=14, n/ep=3, n/st=60, player_1/loss=0.000, player_2/loss=0.000, rew=113.67]\n"
     ]
    },
    {
     "name": "stdout",
     "output_type": "stream",
     "text": [
      "Epoch #393: test_reward: 258.800000 ± 71.651657, best_reward: 594.700000 ± 344.331541 in #64\n"
     ]
    },
    {
     "name": "stderr",
     "output_type": "stream",
     "text": [
      "Epoch #394: 1080it [00:03, 347.87it/s, env_step=425520, len=32, n/ep=1, n/st=60, player_1/loss=0.000, player_2/loss=0.000, rew=527.00]\n"
     ]
    },
    {
     "name": "stdout",
     "output_type": "stream",
     "text": [
      "Epoch #394: test_reward: 284.400000 ± 116.618352, best_reward: 594.700000 ± 344.331541 in #64\n"
     ]
    },
    {
     "name": "stderr",
     "output_type": "stream",
     "text": [
      "Epoch #395: 1080it [00:03, 344.31it/s, env_step=426600, len=21, n/ep=5, n/st=60, player_1/loss=0.000, player_2/loss=0.000, rew=257.80]\n"
     ]
    },
    {
     "name": "stdout",
     "output_type": "stream",
     "text": [
      "Epoch #395: test_reward: 217.200000 ± 106.259870, best_reward: 594.700000 ± 344.331541 in #64\n"
     ]
    },
    {
     "name": "stderr",
     "output_type": "stream",
     "text": [
      "Epoch #396: 1080it [00:03, 336.13it/s, env_step=427680, len=22, n/ep=2, n/st=60, player_1/loss=0.000, player_2/loss=0.000, rew=266.50]\n"
     ]
    },
    {
     "name": "stdout",
     "output_type": "stream",
     "text": [
      "Epoch #396: test_reward: 170.000000 ± 0.000000, best_reward: 594.700000 ± 344.331541 in #64\n"
     ]
    },
    {
     "name": "stderr",
     "output_type": "stream",
     "text": [
      "Epoch #397: 1080it [00:03, 338.88it/s, env_step=428760, len=26, n/ep=4, n/st=60, player_1/loss=0.000, player_2/loss=0.000, rew=370.50]\n"
     ]
    },
    {
     "name": "stdout",
     "output_type": "stream",
     "text": [
      "Epoch #397: test_reward: 312.900000 ± 191.868940, best_reward: 594.700000 ± 344.331541 in #64\n"
     ]
    },
    {
     "name": "stderr",
     "output_type": "stream",
     "text": [
      "Epoch #398: 1080it [00:03, 306.24it/s, env_step=429840, len=17, n/ep=1, n/st=60, player_1/loss=0.000, player_2/loss=0.000, rew=152.00]\n"
     ]
    },
    {
     "name": "stdout",
     "output_type": "stream",
     "text": [
      "Epoch #398: test_reward: 369.700000 ± 139.382244, best_reward: 594.700000 ± 344.331541 in #64\n"
     ]
    },
    {
     "name": "stderr",
     "output_type": "stream",
     "text": [
      "Epoch #399: 1080it [00:03, 303.73it/s, env_step=430920, len=17, n/ep=5, n/st=60, player_1/loss=0.000, player_2/loss=0.000, rew=159.40]\n"
     ]
    },
    {
     "name": "stdout",
     "output_type": "stream",
     "text": [
      "Epoch #399: test_reward: 435.300000 ± 225.063124, best_reward: 594.700000 ± 344.331541 in #64\n"
     ]
    },
    {
     "name": "stderr",
     "output_type": "stream",
     "text": [
      "Epoch #400: 1080it [00:03, 314.34it/s, env_step=432000, len=23, n/ep=3, n/st=60, player_1/loss=0.000, player_2/loss=0.000, rew=308.33]\n"
     ]
    },
    {
     "name": "stdout",
     "output_type": "stream",
     "text": [
      "Epoch #400: test_reward: 89.900000 ± 86.137622, best_reward: 594.700000 ± 344.331541 in #64\n"
     ]
    },
    {
     "name": "stderr",
     "output_type": "stream",
     "text": [
      "Epoch #401: 1080it [00:03, 330.52it/s, env_step=433080, len=16, n/ep=2, n/st=60, player_1/loss=0.000, player_2/loss=0.000, rew=139.50]\n"
     ]
    },
    {
     "name": "stdout",
     "output_type": "stream",
     "text": [
      "Epoch #401: test_reward: 246.400000 ± 140.804261, best_reward: 594.700000 ± 344.331541 in #64\n"
     ]
    },
    {
     "name": "stderr",
     "output_type": "stream",
     "text": [
      "Epoch #402: 1080it [00:03, 340.95it/s, env_step=434160, len=21, n/ep=3, n/st=60, player_1/loss=0.000, player_2/loss=0.000, rew=258.67]\n"
     ]
    },
    {
     "name": "stdout",
     "output_type": "stream",
     "text": [
      "Epoch #402: test_reward: 308.900000 ± 146.200171, best_reward: 594.700000 ± 344.331541 in #64\n"
     ]
    },
    {
     "name": "stderr",
     "output_type": "stream",
     "text": [
      "Epoch #403: 1080it [00:03, 340.55it/s, env_step=435240, len=19, n/ep=3, n/st=60, player_1/loss=0.000, player_2/loss=0.000, rew=211.00]\n"
     ]
    },
    {
     "name": "stdout",
     "output_type": "stream",
     "text": [
      "Epoch #403: test_reward: 173.300000 ± 179.872205, best_reward: 594.700000 ± 344.331541 in #64\n"
     ]
    },
    {
     "name": "stderr",
     "output_type": "stream",
     "text": [
      "Epoch #404: 1080it [00:03, 341.11it/s, env_step=436320, len=22, n/ep=3, n/st=60, player_1/loss=0.000, player_2/loss=0.000, rew=263.67]\n"
     ]
    },
    {
     "name": "stdout",
     "output_type": "stream",
     "text": [
      "Epoch #404: test_reward: 175.500000 ± 102.275364, best_reward: 594.700000 ± 344.331541 in #64\n"
     ]
    },
    {
     "name": "stderr",
     "output_type": "stream",
     "text": [
      "Epoch #405: 1080it [00:03, 330.75it/s, env_step=437400, len=27, n/ep=3, n/st=60, player_1/loss=0.000, player_2/loss=0.000, rew=395.67]\n"
     ]
    },
    {
     "name": "stdout",
     "output_type": "stream",
     "text": [
      "Epoch #405: test_reward: 320.500000 ± 73.755339, best_reward: 594.700000 ± 344.331541 in #64\n"
     ]
    },
    {
     "name": "stderr",
     "output_type": "stream",
     "text": [
      "Epoch #406: 1080it [00:03, 338.38it/s, env_step=438480, len=17, n/ep=6, n/st=60, player_1/loss=0.000, player_2/loss=0.000, rew=178.00]\n"
     ]
    },
    {
     "name": "stdout",
     "output_type": "stream",
     "text": [
      "Epoch #406: test_reward: 165.600000 ± 96.172969, best_reward: 594.700000 ± 344.331541 in #64\n"
     ]
    },
    {
     "name": "stderr",
     "output_type": "stream",
     "text": [
      "Epoch #407: 1080it [00:03, 337.92it/s, env_step=439560, len=15, n/ep=3, n/st=60, player_1/loss=0.000, player_2/loss=0.000, rew=146.33]\n"
     ]
    },
    {
     "name": "stdout",
     "output_type": "stream",
     "text": [
      "Epoch #407: test_reward: 212.300000 ± 95.944828, best_reward: 594.700000 ± 344.331541 in #64\n"
     ]
    },
    {
     "name": "stderr",
     "output_type": "stream",
     "text": [
      "Epoch #408: 1080it [00:03, 342.52it/s, env_step=440640, len=22, n/ep=4, n/st=60, player_1/loss=0.000, player_2/loss=0.000, rew=312.00]\n"
     ]
    },
    {
     "name": "stdout",
     "output_type": "stream",
     "text": [
      "Epoch #408: test_reward: 271.000000 ± 159.530561, best_reward: 594.700000 ± 344.331541 in #64\n"
     ]
    },
    {
     "name": "stderr",
     "output_type": "stream",
     "text": [
      "Epoch #409: 1080it [00:03, 334.43it/s, env_step=441720, len=17, n/ep=5, n/st=60, player_1/loss=0.000, player_2/loss=0.000, rew=167.00]\n"
     ]
    },
    {
     "name": "stdout",
     "output_type": "stream",
     "text": [
      "Epoch #409: test_reward: 341.000000 ± 138.202026, best_reward: 594.700000 ± 344.331541 in #64\n"
     ]
    },
    {
     "name": "stderr",
     "output_type": "stream",
     "text": [
      "Epoch #410: 1080it [00:03, 341.85it/s, env_step=442800, len=23, n/ep=3, n/st=60, player_1/loss=0.000, player_2/loss=0.000, rew=324.67]\n"
     ]
    },
    {
     "name": "stdout",
     "output_type": "stream",
     "text": [
      "Epoch #410: test_reward: 257.700000 ± 119.895830, best_reward: 594.700000 ± 344.331541 in #64\n"
     ]
    },
    {
     "name": "stderr",
     "output_type": "stream",
     "text": [
      "Epoch #411: 1080it [00:03, 331.63it/s, env_step=443880, len=21, n/ep=4, n/st=60, player_1/loss=0.000, player_2/loss=0.000, rew=240.75]\n"
     ]
    },
    {
     "name": "stdout",
     "output_type": "stream",
     "text": [
      "Epoch #411: test_reward: 171.500000 ± 101.571896, best_reward: 594.700000 ± 344.331541 in #64\n"
     ]
    },
    {
     "name": "stderr",
     "output_type": "stream",
     "text": [
      "Epoch #412: 1080it [00:03, 344.03it/s, env_step=444960, len=20, n/ep=0, n/st=60, player_1/loss=0.000, player_2/loss=0.000, rew=236.67]\n"
     ]
    },
    {
     "name": "stdout",
     "output_type": "stream",
     "text": [
      "Epoch #412: test_reward: 294.600000 ± 123.674735, best_reward: 594.700000 ± 344.331541 in #64\n"
     ]
    },
    {
     "name": "stderr",
     "output_type": "stream",
     "text": [
      "Epoch #413: 1080it [00:03, 345.11it/s, env_step=446040, len=33, n/ep=1, n/st=60, player_1/loss=0.000, player_2/loss=0.000, rew=560.00]\n"
     ]
    },
    {
     "name": "stdout",
     "output_type": "stream",
     "text": [
      "Epoch #413: test_reward: 262.900000 ± 116.041760, best_reward: 594.700000 ± 344.331541 in #64\n"
     ]
    },
    {
     "name": "stderr",
     "output_type": "stream",
     "text": [
      "Epoch #414: 1080it [00:03, 343.21it/s, env_step=447120, len=15, n/ep=4, n/st=60, player_1/loss=0.000, player_2/loss=0.000, rew=129.75]\n"
     ]
    },
    {
     "name": "stdout",
     "output_type": "stream",
     "text": [
      "Epoch #414: test_reward: 128.800000 ± 148.640371, best_reward: 594.700000 ± 344.331541 in #64\n"
     ]
    },
    {
     "name": "stderr",
     "output_type": "stream",
     "text": [
      "Epoch #415: 1080it [00:03, 349.07it/s, env_step=448200, len=18, n/ep=3, n/st=60, player_1/loss=0.000, player_2/loss=0.000, rew=196.00]\n"
     ]
    },
    {
     "name": "stdout",
     "output_type": "stream",
     "text": [
      "Epoch #415: test_reward: 337.200000 ± 111.034049, best_reward: 594.700000 ± 344.331541 in #64\n"
     ]
    },
    {
     "name": "stderr",
     "output_type": "stream",
     "text": [
      "Epoch #416: 1080it [00:03, 340.87it/s, env_step=449280, len=19, n/ep=1, n/st=60, player_1/loss=0.000, player_2/loss=0.000, rew=189.00]\n"
     ]
    },
    {
     "name": "stdout",
     "output_type": "stream",
     "text": [
      "Epoch #416: test_reward: 216.800000 ± 82.317434, best_reward: 594.700000 ± 344.331541 in #64\n"
     ]
    },
    {
     "name": "stderr",
     "output_type": "stream",
     "text": [
      "Epoch #417: 1080it [00:03, 339.80it/s, env_step=450360, len=7, n/ep=1, n/st=60, player_1/loss=0.000, player_2/loss=0.000, rew=27.00]  \n"
     ]
    },
    {
     "name": "stdout",
     "output_type": "stream",
     "text": [
      "Epoch #417: test_reward: 250.800000 ± 94.178341, best_reward: 594.700000 ± 344.331541 in #64\n"
     ]
    },
    {
     "name": "stderr",
     "output_type": "stream",
     "text": [
      "Epoch #418: 1080it [00:03, 334.75it/s, env_step=451440, len=33, n/ep=0, n/st=60, player_1/loss=0.000, player_2/loss=0.000, rew=599.20]\n"
     ]
    },
    {
     "name": "stdout",
     "output_type": "stream",
     "text": [
      "Epoch #418: test_reward: 247.800000 ± 173.666232, best_reward: 594.700000 ± 344.331541 in #64\n"
     ]
    },
    {
     "name": "stderr",
     "output_type": "stream",
     "text": [
      "Epoch #419: 1080it [00:03, 336.94it/s, env_step=452520, len=19, n/ep=2, n/st=60, player_1/loss=0.000, player_2/loss=0.000, rew=189.50]\n"
     ]
    },
    {
     "name": "stdout",
     "output_type": "stream",
     "text": [
      "Epoch #419: test_reward: 304.900000 ± 104.876546, best_reward: 594.700000 ± 344.331541 in #64\n"
     ]
    },
    {
     "name": "stderr",
     "output_type": "stream",
     "text": [
      "Epoch #420: 1080it [00:03, 346.05it/s, env_step=453600, len=29, n/ep=3, n/st=60, player_1/loss=0.000, player_2/loss=0.000, rew=499.33]\n"
     ]
    },
    {
     "name": "stdout",
     "output_type": "stream",
     "text": [
      "Epoch #420: test_reward: 261.300000 ± 48.114551, best_reward: 594.700000 ± 344.331541 in #64\n"
     ]
    },
    {
     "name": "stderr",
     "output_type": "stream",
     "text": [
      "Epoch #421: 1080it [00:03, 350.95it/s, env_step=454680, len=18, n/ep=0, n/st=60, player_1/loss=0.000, player_2/loss=0.000, rew=189.60]\n"
     ]
    },
    {
     "name": "stdout",
     "output_type": "stream",
     "text": [
      "Epoch #421: test_reward: 262.300000 ± 106.461308, best_reward: 594.700000 ± 344.331541 in #64\n"
     ]
    },
    {
     "name": "stderr",
     "output_type": "stream",
     "text": [
      "Epoch #422: 1080it [00:03, 345.56it/s, env_step=455760, len=24, n/ep=3, n/st=60, player_1/loss=0.000, player_2/loss=0.000, rew=316.33]\n"
     ]
    },
    {
     "name": "stdout",
     "output_type": "stream",
     "text": [
      "Epoch #422: test_reward: 133.000000 ± 169.267835, best_reward: 594.700000 ± 344.331541 in #64\n"
     ]
    },
    {
     "name": "stderr",
     "output_type": "stream",
     "text": [
      "Epoch #423: 1080it [00:03, 347.72it/s, env_step=456840, len=18, n/ep=6, n/st=60, player_1/loss=0.000, player_2/loss=0.000, rew=196.00]\n"
     ]
    },
    {
     "name": "stdout",
     "output_type": "stream",
     "text": [
      "Epoch #423: test_reward: 177.700000 ± 74.707496, best_reward: 594.700000 ± 344.331541 in #64\n"
     ]
    },
    {
     "name": "stderr",
     "output_type": "stream",
     "text": [
      "Epoch #424: 1080it [00:03, 351.51it/s, env_step=457920, len=23, n/ep=3, n/st=60, player_1/loss=0.000, player_2/loss=0.000, rew=291.00]\n"
     ]
    },
    {
     "name": "stdout",
     "output_type": "stream",
     "text": [
      "Epoch #424: test_reward: 198.500000 ± 104.351569, best_reward: 594.700000 ± 344.331541 in #64\n"
     ]
    },
    {
     "name": "stderr",
     "output_type": "stream",
     "text": [
      "Epoch #425: 1080it [00:03, 345.65it/s, env_step=459000, len=26, n/ep=5, n/st=60, player_1/loss=0.000, player_2/loss=0.000, rew=361.40]\n"
     ]
    },
    {
     "name": "stdout",
     "output_type": "stream",
     "text": [
      "Epoch #425: test_reward: 122.200000 ± 149.559888, best_reward: 594.700000 ± 344.331541 in #64\n"
     ]
    },
    {
     "name": "stderr",
     "output_type": "stream",
     "text": [
      "Epoch #426: 1080it [00:03, 349.50it/s, env_step=460080, len=11, n/ep=1, n/st=60, player_1/loss=0.000, player_2/loss=0.000, rew=65.00] \n"
     ]
    },
    {
     "name": "stdout",
     "output_type": "stream",
     "text": [
      "Epoch #426: test_reward: 220.800000 ± 107.929421, best_reward: 594.700000 ± 344.331541 in #64\n"
     ]
    },
    {
     "name": "stderr",
     "output_type": "stream",
     "text": [
      "Epoch #427: 1080it [00:03, 352.37it/s, env_step=461160, len=25, n/ep=4, n/st=60, player_1/loss=0.000, player_2/loss=0.000, rew=332.50]\n"
     ]
    },
    {
     "name": "stdout",
     "output_type": "stream",
     "text": [
      "Epoch #427: test_reward: 229.900000 ± 57.355819, best_reward: 594.700000 ± 344.331541 in #64\n"
     ]
    },
    {
     "name": "stderr",
     "output_type": "stream",
     "text": [
      "Epoch #428: 1080it [00:03, 346.83it/s, env_step=462240, len=21, n/ep=2, n/st=60, player_1/loss=0.000, player_2/loss=0.000, rew=241.00]\n"
     ]
    },
    {
     "name": "stdout",
     "output_type": "stream",
     "text": [
      "Epoch #428: test_reward: 480.500000 ± 187.008155, best_reward: 594.700000 ± 344.331541 in #64\n"
     ]
    },
    {
     "name": "stderr",
     "output_type": "stream",
     "text": [
      "Epoch #429: 1080it [00:03, 346.52it/s, env_step=463320, len=24, n/ep=4, n/st=60, player_1/loss=0.000, player_2/loss=0.000, rew=318.50]\n"
     ]
    },
    {
     "name": "stdout",
     "output_type": "stream",
     "text": [
      "Epoch #429: test_reward: 416.100000 ± 101.200247, best_reward: 594.700000 ± 344.331541 in #64\n"
     ]
    },
    {
     "name": "stderr",
     "output_type": "stream",
     "text": [
      "Epoch #430: 1080it [00:03, 350.45it/s, env_step=464400, len=22, n/ep=3, n/st=60, player_1/loss=0.000, player_2/loss=0.000, rew=267.67]\n"
     ]
    },
    {
     "name": "stdout",
     "output_type": "stream",
     "text": [
      "Epoch #430: test_reward: 320.800000 ± 129.664027, best_reward: 594.700000 ± 344.331541 in #64\n"
     ]
    },
    {
     "name": "stderr",
     "output_type": "stream",
     "text": [
      "Epoch #431: 1080it [00:03, 348.83it/s, env_step=465480, len=20, n/ep=3, n/st=60, player_1/loss=0.000, player_2/loss=0.000, rew=216.33]\n"
     ]
    },
    {
     "name": "stdout",
     "output_type": "stream",
     "text": [
      "Epoch #431: test_reward: 169.500000 ± 32.419901, best_reward: 594.700000 ± 344.331541 in #64\n"
     ]
    },
    {
     "name": "stderr",
     "output_type": "stream",
     "text": [
      "Epoch #432: 1080it [00:03, 347.37it/s, env_step=466560, len=27, n/ep=3, n/st=60, player_1/loss=0.000, player_2/loss=0.000, rew=415.67]\n"
     ]
    },
    {
     "name": "stdout",
     "output_type": "stream",
     "text": [
      "Epoch #432: test_reward: 195.900000 ± 139.035571, best_reward: 594.700000 ± 344.331541 in #64\n"
     ]
    },
    {
     "name": "stderr",
     "output_type": "stream",
     "text": [
      "Epoch #433: 1080it [00:03, 346.67it/s, env_step=467640, len=13, n/ep=1, n/st=60, player_1/loss=0.000, player_2/loss=0.000, rew=90.00] \n"
     ]
    },
    {
     "name": "stdout",
     "output_type": "stream",
     "text": [
      "Epoch #433: test_reward: 45.600000 ± 11.629273, best_reward: 594.700000 ± 344.331541 in #64\n"
     ]
    },
    {
     "name": "stderr",
     "output_type": "stream",
     "text": [
      "Epoch #434: 1080it [00:03, 350.26it/s, env_step=468720, len=15, n/ep=3, n/st=60, player_1/loss=0.000, player_2/loss=0.000, rew=133.00]\n"
     ]
    },
    {
     "name": "stdout",
     "output_type": "stream",
     "text": [
      "Epoch #434: test_reward: 212.800000 ± 102.127176, best_reward: 594.700000 ± 344.331541 in #64\n"
     ]
    },
    {
     "name": "stderr",
     "output_type": "stream",
     "text": [
      "Epoch #435: 1080it [00:03, 348.73it/s, env_step=469800, len=25, n/ep=4, n/st=60, player_1/loss=0.000, player_2/loss=0.000, rew=359.50]\n"
     ]
    },
    {
     "name": "stdout",
     "output_type": "stream",
     "text": [
      "Epoch #435: test_reward: 333.200000 ± 111.276952, best_reward: 594.700000 ± 344.331541 in #64\n"
     ]
    },
    {
     "name": "stderr",
     "output_type": "stream",
     "text": [
      "Epoch #436: 1080it [00:03, 350.34it/s, env_step=470880, len=18, n/ep=1, n/st=60, player_1/loss=0.000, player_2/loss=0.000, rew=170.00]\n"
     ]
    },
    {
     "name": "stdout",
     "output_type": "stream",
     "text": [
      "Epoch #436: test_reward: 312.400000 ± 131.099352, best_reward: 594.700000 ± 344.331541 in #64\n"
     ]
    },
    {
     "name": "stderr",
     "output_type": "stream",
     "text": [
      "Epoch #437: 1080it [00:03, 349.17it/s, env_step=471960, len=21, n/ep=3, n/st=60, player_1/loss=0.000, player_2/loss=0.000, rew=235.33]\n"
     ]
    },
    {
     "name": "stdout",
     "output_type": "stream",
     "text": [
      "Epoch #437: test_reward: 271.200000 ± 88.901968, best_reward: 594.700000 ± 344.331541 in #64\n"
     ]
    },
    {
     "name": "stderr",
     "output_type": "stream",
     "text": [
      "Epoch #438: 1080it [00:03, 345.90it/s, env_step=473040, len=22, n/ep=2, n/st=60, player_1/loss=0.000, player_2/loss=0.000, rew=312.50]\n"
     ]
    },
    {
     "name": "stdout",
     "output_type": "stream",
     "text": [
      "Epoch #438: test_reward: 125.600000 ± 67.498444, best_reward: 594.700000 ± 344.331541 in #64\n"
     ]
    },
    {
     "name": "stderr",
     "output_type": "stream",
     "text": [
      "Epoch #439: 1080it [00:03, 344.41it/s, env_step=474120, len=18, n/ep=1, n/st=60, player_1/loss=0.000, player_2/loss=0.000, rew=170.00]\n"
     ]
    },
    {
     "name": "stdout",
     "output_type": "stream",
     "text": [
      "Epoch #439: test_reward: 216.800000 ± 106.752799, best_reward: 594.700000 ± 344.331541 in #64\n"
     ]
    },
    {
     "name": "stderr",
     "output_type": "stream",
     "text": [
      "Epoch #440: 1080it [00:03, 348.91it/s, env_step=475200, len=15, n/ep=2, n/st=60, player_1/loss=0.000, player_2/loss=0.000, rew=131.50]\n"
     ]
    },
    {
     "name": "stdout",
     "output_type": "stream",
     "text": [
      "Epoch #440: test_reward: 322.100000 ± 135.273390, best_reward: 594.700000 ± 344.331541 in #64\n"
     ]
    },
    {
     "name": "stderr",
     "output_type": "stream",
     "text": [
      "Epoch #441: 1080it [00:03, 349.60it/s, env_step=476280, len=23, n/ep=4, n/st=60, player_1/loss=0.000, player_2/loss=0.000, rew=303.75]\n"
     ]
    },
    {
     "name": "stdout",
     "output_type": "stream",
     "text": [
      "Epoch #441: test_reward: 207.400000 ± 78.150112, best_reward: 594.700000 ± 344.331541 in #64\n"
     ]
    },
    {
     "name": "stderr",
     "output_type": "stream",
     "text": [
      "Epoch #442: 1080it [00:03, 346.37it/s, env_step=477360, len=16, n/ep=3, n/st=60, player_1/loss=0.000, player_2/loss=0.000, rew=146.33]\n"
     ]
    },
    {
     "name": "stdout",
     "output_type": "stream",
     "text": [
      "Epoch #442: test_reward: 163.600000 ± 112.396797, best_reward: 594.700000 ± 344.331541 in #64\n"
     ]
    },
    {
     "name": "stderr",
     "output_type": "stream",
     "text": [
      "Epoch #443: 1080it [00:03, 351.07it/s, env_step=478440, len=20, n/ep=3, n/st=60, player_1/loss=0.000, player_2/loss=0.000, rew=274.33]\n"
     ]
    },
    {
     "name": "stdout",
     "output_type": "stream",
     "text": [
      "Epoch #443: test_reward: 280.500000 ± 52.728076, best_reward: 594.700000 ± 344.331541 in #64\n"
     ]
    },
    {
     "name": "stderr",
     "output_type": "stream",
     "text": [
      "Epoch #444: 1080it [00:03, 350.22it/s, env_step=479520, len=23, n/ep=6, n/st=60, player_1/loss=0.000, player_2/loss=0.000, rew=304.50]\n"
     ]
    },
    {
     "name": "stdout",
     "output_type": "stream",
     "text": [
      "Epoch #444: test_reward: 241.800000 ± 109.373489, best_reward: 594.700000 ± 344.331541 in #64\n"
     ]
    },
    {
     "name": "stderr",
     "output_type": "stream",
     "text": [
      "Epoch #445: 1080it [00:03, 346.28it/s, env_step=480600, len=25, n/ep=3, n/st=60, player_1/loss=0.000, player_2/loss=0.000, rew=325.00]\n"
     ]
    },
    {
     "name": "stdout",
     "output_type": "stream",
     "text": [
      "Epoch #445: test_reward: 375.900000 ± 94.326507, best_reward: 594.700000 ± 344.331541 in #64\n"
     ]
    },
    {
     "name": "stderr",
     "output_type": "stream",
     "text": [
      "Epoch #446: 1080it [00:03, 351.89it/s, env_step=481680, len=28, n/ep=0, n/st=60, player_1/loss=0.000, player_2/loss=0.000, rew=405.50]\n"
     ]
    },
    {
     "name": "stdout",
     "output_type": "stream",
     "text": [
      "Epoch #446: test_reward: 225.700000 ± 110.577620, best_reward: 594.700000 ± 344.331541 in #64\n"
     ]
    },
    {
     "name": "stderr",
     "output_type": "stream",
     "text": [
      "Epoch #447: 1080it [00:03, 345.90it/s, env_step=482760, len=24, n/ep=3, n/st=60, player_1/loss=0.000, player_2/loss=0.000, rew=317.33]\n"
     ]
    },
    {
     "name": "stdout",
     "output_type": "stream",
     "text": [
      "Epoch #447: test_reward: 107.200000 ± 102.835597, best_reward: 594.700000 ± 344.331541 in #64\n"
     ]
    },
    {
     "name": "stderr",
     "output_type": "stream",
     "text": [
      "Epoch #448: 1080it [00:03, 348.82it/s, env_step=483840, len=18, n/ep=3, n/st=60, player_1/loss=0.000, player_2/loss=0.000, rew=178.00]\n"
     ]
    },
    {
     "name": "stdout",
     "output_type": "stream",
     "text": [
      "Epoch #448: test_reward: 206.200000 ± 107.471671, best_reward: 594.700000 ± 344.331541 in #64\n"
     ]
    },
    {
     "name": "stderr",
     "output_type": "stream",
     "text": [
      "Epoch #449: 1080it [00:03, 350.00it/s, env_step=484920, len=16, n/ep=2, n/st=60, player_1/loss=0.000, player_2/loss=0.000, rew=171.50]\n"
     ]
    },
    {
     "name": "stdout",
     "output_type": "stream",
     "text": [
      "Epoch #449: test_reward: 197.000000 ± 102.258496, best_reward: 594.700000 ± 344.331541 in #64\n"
     ]
    },
    {
     "name": "stderr",
     "output_type": "stream",
     "text": [
      "Epoch #450: 1080it [00:03, 351.00it/s, env_step=486000, len=15, n/ep=3, n/st=60, player_1/loss=0.000, player_2/loss=0.000, rew=142.00]\n"
     ]
    },
    {
     "name": "stdout",
     "output_type": "stream",
     "text": [
      "Epoch #450: test_reward: 331.900000 ± 63.859925, best_reward: 594.700000 ± 344.331541 in #64\n"
     ]
    },
    {
     "name": "stderr",
     "output_type": "stream",
     "text": [
      "Epoch #451: 1080it [00:03, 344.35it/s, env_step=487080, len=12, n/ep=1, n/st=60, player_1/loss=0.000, player_2/loss=0.000, rew=77.00] \n"
     ]
    },
    {
     "name": "stdout",
     "output_type": "stream",
     "text": [
      "Epoch #451: test_reward: 87.600000 ± 93.769078, best_reward: 594.700000 ± 344.331541 in #64\n"
     ]
    },
    {
     "name": "stderr",
     "output_type": "stream",
     "text": [
      "Epoch #452: 1080it [00:03, 350.73it/s, env_step=488160, len=22, n/ep=2, n/st=60, player_1/loss=0.000, player_2/loss=0.000, rew=278.50]\n"
     ]
    },
    {
     "name": "stdout",
     "output_type": "stream",
     "text": [
      "Epoch #452: test_reward: 244.000000 ± 68.968109, best_reward: 594.700000 ± 344.331541 in #64\n"
     ]
    },
    {
     "name": "stderr",
     "output_type": "stream",
     "text": [
      "Epoch #453: 1080it [00:03, 349.26it/s, env_step=489240, len=13, n/ep=1, n/st=60, player_1/loss=0.000, player_2/loss=0.000, rew=90.00] \n"
     ]
    },
    {
     "name": "stdout",
     "output_type": "stream",
     "text": [
      "Epoch #453: test_reward: 226.200000 ± 82.688330, best_reward: 594.700000 ± 344.331541 in #64\n"
     ]
    },
    {
     "name": "stderr",
     "output_type": "stream",
     "text": [
      "Epoch #454: 1080it [00:03, 348.04it/s, env_step=490320, len=22, n/ep=2, n/st=60, player_1/loss=0.000, player_2/loss=0.000, rew=336.50]\n"
     ]
    },
    {
     "name": "stdout",
     "output_type": "stream",
     "text": [
      "Epoch #454: test_reward: 252.900000 ± 55.798656, best_reward: 594.700000 ± 344.331541 in #64\n"
     ]
    },
    {
     "name": "stderr",
     "output_type": "stream",
     "text": [
      "Epoch #455: 1080it [00:03, 346.47it/s, env_step=491400, len=24, n/ep=4, n/st=60, player_1/loss=0.000, player_2/loss=0.000, rew=317.00]\n"
     ]
    },
    {
     "name": "stdout",
     "output_type": "stream",
     "text": [
      "Epoch #455: test_reward: 303.500000 ± 161.993981, best_reward: 594.700000 ± 344.331541 in #64\n"
     ]
    },
    {
     "name": "stderr",
     "output_type": "stream",
     "text": [
      "Epoch #456: 1080it [00:03, 350.10it/s, env_step=492480, len=22, n/ep=0, n/st=60, player_1/loss=0.000, player_2/loss=0.000, rew=255.75]\n"
     ]
    },
    {
     "name": "stdout",
     "output_type": "stream",
     "text": [
      "Epoch #456: test_reward: 191.700000 ± 95.741370, best_reward: 594.700000 ± 344.331541 in #64\n"
     ]
    },
    {
     "name": "stderr",
     "output_type": "stream",
     "text": [
      "Epoch #457: 1080it [00:03, 348.18it/s, env_step=493560, len=21, n/ep=3, n/st=60, player_1/loss=0.000, player_2/loss=0.000, rew=264.00]\n"
     ]
    },
    {
     "name": "stdout",
     "output_type": "stream",
     "text": [
      "Epoch #457: test_reward: 209.800000 ± 74.539654, best_reward: 594.700000 ± 344.331541 in #64\n"
     ]
    },
    {
     "name": "stderr",
     "output_type": "stream",
     "text": [
      "Epoch #458: 1080it [00:03, 347.30it/s, env_step=494640, len=25, n/ep=3, n/st=60, player_1/loss=0.000, player_2/loss=0.000, rew=329.33]\n"
     ]
    },
    {
     "name": "stdout",
     "output_type": "stream",
     "text": [
      "Epoch #458: test_reward: 220.800000 ± 132.244319, best_reward: 594.700000 ± 344.331541 in #64\n"
     ]
    },
    {
     "name": "stderr",
     "output_type": "stream",
     "text": [
      "Epoch #459: 1080it [00:03, 347.57it/s, env_step=495720, len=20, n/ep=4, n/st=60, player_1/loss=0.000, player_2/loss=0.000, rew=224.00]\n"
     ]
    },
    {
     "name": "stdout",
     "output_type": "stream",
     "text": [
      "Epoch #459: test_reward: 159.800000 ± 43.910819, best_reward: 594.700000 ± 344.331541 in #64\n"
     ]
    },
    {
     "name": "stderr",
     "output_type": "stream",
     "text": [
      "Epoch #460: 1080it [00:03, 348.41it/s, env_step=496800, len=19, n/ep=6, n/st=60, player_1/loss=0.000, player_2/loss=0.000, rew=210.83]\n"
     ]
    },
    {
     "name": "stdout",
     "output_type": "stream",
     "text": [
      "Epoch #460: test_reward: 250.300000 ± 122.163047, best_reward: 594.700000 ± 344.331541 in #64\n"
     ]
    },
    {
     "name": "stderr",
     "output_type": "stream",
     "text": [
      "Epoch #461: 1080it [00:03, 350.80it/s, env_step=497880, len=23, n/ep=5, n/st=60, player_1/loss=0.000, player_2/loss=0.000, rew=308.20]\n"
     ]
    },
    {
     "name": "stdout",
     "output_type": "stream",
     "text": [
      "Epoch #461: test_reward: 185.100000 ± 83.297599, best_reward: 594.700000 ± 344.331541 in #64\n"
     ]
    },
    {
     "name": "stderr",
     "output_type": "stream",
     "text": [
      "Epoch #462: 1080it [00:03, 345.87it/s, env_step=498960, len=26, n/ep=2, n/st=60, player_1/loss=0.000, player_2/loss=0.000, rew=350.00]\n"
     ]
    },
    {
     "name": "stdout",
     "output_type": "stream",
     "text": [
      "Epoch #462: test_reward: 390.100000 ± 168.867078, best_reward: 594.700000 ± 344.331541 in #64\n"
     ]
    },
    {
     "name": "stderr",
     "output_type": "stream",
     "text": [
      "Epoch #463: 1080it [00:03, 348.41it/s, env_step=500040, len=16, n/ep=1, n/st=60, player_1/loss=0.000, player_2/loss=0.000, rew=135.00]\n"
     ]
    },
    {
     "name": "stdout",
     "output_type": "stream",
     "text": [
      "Epoch #463: test_reward: 510.800000 ± 304.312602, best_reward: 594.700000 ± 344.331541 in #64\n"
     ]
    },
    {
     "name": "stderr",
     "output_type": "stream",
     "text": [
      "Epoch #464: 1080it [00:03, 345.72it/s, env_step=501120, len=21, n/ep=1, n/st=60, player_1/loss=0.000, player_2/loss=0.000, rew=230.00]\n"
     ]
    },
    {
     "name": "stdout",
     "output_type": "stream",
     "text": [
      "Epoch #464: test_reward: 238.700000 ± 146.214945, best_reward: 594.700000 ± 344.331541 in #64\n"
     ]
    },
    {
     "name": "stderr",
     "output_type": "stream",
     "text": [
      "Epoch #465: 1080it [00:03, 347.97it/s, env_step=502200, len=19, n/ep=4, n/st=60, player_1/loss=0.000, player_2/loss=0.000, rew=221.00]\n"
     ]
    },
    {
     "name": "stdout",
     "output_type": "stream",
     "text": [
      "Epoch #465: test_reward: 146.500000 ± 80.819861, best_reward: 594.700000 ± 344.331541 in #64\n"
     ]
    },
    {
     "name": "stderr",
     "output_type": "stream",
     "text": [
      "Epoch #466: 1080it [00:03, 349.60it/s, env_step=503280, len=25, n/ep=2, n/st=60, player_1/loss=0.000, player_2/loss=0.000, rew=338.00]\n"
     ]
    },
    {
     "name": "stdout",
     "output_type": "stream",
     "text": [
      "Epoch #466: test_reward: 422.900000 ± 192.448149, best_reward: 594.700000 ± 344.331541 in #64\n"
     ]
    },
    {
     "name": "stderr",
     "output_type": "stream",
     "text": [
      "Epoch #467: 1080it [00:03, 348.92it/s, env_step=504360, len=17, n/ep=3, n/st=60, player_1/loss=0.000, player_2/loss=0.000, rew=178.00]\n"
     ]
    },
    {
     "name": "stdout",
     "output_type": "stream",
     "text": [
      "Epoch #467: test_reward: 327.600000 ± 117.907761, best_reward: 594.700000 ± 344.331541 in #64\n"
     ]
    },
    {
     "name": "stderr",
     "output_type": "stream",
     "text": [
      "Epoch #468: 1080it [00:03, 347.58it/s, env_step=505440, len=7, n/ep=1, n/st=60, player_1/loss=0.000, player_2/loss=0.000, rew=27.00]  \n"
     ]
    },
    {
     "name": "stdout",
     "output_type": "stream",
     "text": [
      "Epoch #468: test_reward: 125.800000 ± 78.720772, best_reward: 594.700000 ± 344.331541 in #64\n"
     ]
    },
    {
     "name": "stderr",
     "output_type": "stream",
     "text": [
      "Epoch #469: 1080it [00:03, 348.31it/s, env_step=506520, len=16, n/ep=3, n/st=60, player_1/loss=0.000, player_2/loss=0.000, rew=145.33]\n"
     ]
    },
    {
     "name": "stdout",
     "output_type": "stream",
     "text": [
      "Epoch #469: test_reward: 355.000000 ± 153.254037, best_reward: 594.700000 ± 344.331541 in #64\n"
     ]
    },
    {
     "name": "stderr",
     "output_type": "stream",
     "text": [
      "Epoch #470: 1080it [00:03, 349.77it/s, env_step=507600, len=30, n/ep=3, n/st=60, player_1/loss=0.000, player_2/loss=0.000, rew=490.33]\n"
     ]
    },
    {
     "name": "stdout",
     "output_type": "stream",
     "text": [
      "Epoch #470: test_reward: 261.100000 ± 123.204261, best_reward: 594.700000 ± 344.331541 in #64\n"
     ]
    },
    {
     "name": "stderr",
     "output_type": "stream",
     "text": [
      "Epoch #471: 1080it [00:03, 343.76it/s, env_step=508680, len=25, n/ep=4, n/st=60, player_1/loss=0.000, player_2/loss=0.000, rew=396.25]\n"
     ]
    },
    {
     "name": "stdout",
     "output_type": "stream",
     "text": [
      "Epoch #471: test_reward: 216.600000 ± 115.706698, best_reward: 594.700000 ± 344.331541 in #64\n"
     ]
    },
    {
     "name": "stderr",
     "output_type": "stream",
     "text": [
      "Epoch #472: 1080it [00:03, 346.25it/s, env_step=509760, len=31, n/ep=2, n/st=60, player_1/loss=0.000, player_2/loss=0.000, rew=514.00]\n"
     ]
    },
    {
     "name": "stdout",
     "output_type": "stream",
     "text": [
      "Epoch #472: test_reward: 72.100000 ± 90.759517, best_reward: 594.700000 ± 344.331541 in #64\n"
     ]
    },
    {
     "name": "stderr",
     "output_type": "stream",
     "text": [
      "Epoch #473: 1080it [00:03, 343.83it/s, env_step=510840, len=18, n/ep=4, n/st=60, player_1/loss=0.000, player_2/loss=0.000, rew=192.25]\n"
     ]
    },
    {
     "name": "stdout",
     "output_type": "stream",
     "text": [
      "Epoch #473: test_reward: 317.600000 ± 135.858161, best_reward: 594.700000 ± 344.331541 in #64\n"
     ]
    },
    {
     "name": "stderr",
     "output_type": "stream",
     "text": [
      "Epoch #474: 1080it [00:03, 353.31it/s, env_step=511920, len=19, n/ep=2, n/st=60, player_1/loss=0.000, player_2/loss=0.000, rew=220.00]\n"
     ]
    },
    {
     "name": "stdout",
     "output_type": "stream",
     "text": [
      "Epoch #474: test_reward: 285.700000 ± 150.319693, best_reward: 594.700000 ± 344.331541 in #64\n"
     ]
    },
    {
     "name": "stderr",
     "output_type": "stream",
     "text": [
      "Epoch #475: 1080it [00:03, 348.91it/s, env_step=513000, len=20, n/ep=0, n/st=60, player_1/loss=0.000, player_2/loss=0.000, rew=231.67]\n"
     ]
    },
    {
     "name": "stdout",
     "output_type": "stream",
     "text": [
      "Epoch #475: test_reward: 282.600000 ± 105.911472, best_reward: 594.700000 ± 344.331541 in #64\n"
     ]
    },
    {
     "name": "stderr",
     "output_type": "stream",
     "text": [
      "Epoch #476: 1080it [00:03, 345.55it/s, env_step=514080, len=20, n/ep=4, n/st=60, player_1/loss=0.000, player_2/loss=0.000, rew=228.25]\n"
     ]
    },
    {
     "name": "stdout",
     "output_type": "stream",
     "text": [
      "Epoch #476: test_reward: 229.700000 ± 76.140725, best_reward: 594.700000 ± 344.331541 in #64\n"
     ]
    },
    {
     "name": "stderr",
     "output_type": "stream",
     "text": [
      "Epoch #477: 1080it [00:03, 343.96it/s, env_step=515160, len=21, n/ep=4, n/st=60, player_1/loss=0.000, player_2/loss=0.000, rew=259.50]\n"
     ]
    },
    {
     "name": "stdout",
     "output_type": "stream",
     "text": [
      "Epoch #477: test_reward: 318.700000 ± 124.594583, best_reward: 594.700000 ± 344.331541 in #64\n"
     ]
    },
    {
     "name": "stderr",
     "output_type": "stream",
     "text": [
      "Epoch #478: 1080it [00:03, 342.77it/s, env_step=516240, len=24, n/ep=4, n/st=60, player_1/loss=0.000, player_2/loss=0.000, rew=323.00]\n"
     ]
    },
    {
     "name": "stdout",
     "output_type": "stream",
     "text": [
      "Epoch #478: test_reward: 332.100000 ± 95.294753, best_reward: 594.700000 ± 344.331541 in #64\n"
     ]
    },
    {
     "name": "stderr",
     "output_type": "stream",
     "text": [
      "Epoch #479: 1080it [00:03, 346.50it/s, env_step=517320, len=15, n/ep=5, n/st=60, player_1/loss=0.000, player_2/loss=0.000, rew=175.20]\n"
     ]
    },
    {
     "name": "stdout",
     "output_type": "stream",
     "text": [
      "Epoch #479: test_reward: 288.800000 ± 222.609434, best_reward: 594.700000 ± 344.331541 in #64\n"
     ]
    },
    {
     "name": "stderr",
     "output_type": "stream",
     "text": [
      "Epoch #480: 1080it [00:03, 344.95it/s, env_step=518400, len=13, n/ep=2, n/st=60, player_1/loss=0.000, player_2/loss=0.000, rew=98.00] \n"
     ]
    },
    {
     "name": "stdout",
     "output_type": "stream",
     "text": [
      "Epoch #480: test_reward: 289.200000 ± 94.439187, best_reward: 594.700000 ± 344.331541 in #64\n"
     ]
    },
    {
     "name": "stderr",
     "output_type": "stream",
     "text": [
      "Epoch #481: 1080it [00:03, 348.06it/s, env_step=519480, len=25, n/ep=2, n/st=60, player_1/loss=0.000, player_2/loss=0.000, rew=382.00]\n"
     ]
    },
    {
     "name": "stdout",
     "output_type": "stream",
     "text": [
      "Epoch #481: test_reward: 136.800000 ± 105.914871, best_reward: 594.700000 ± 344.331541 in #64\n"
     ]
    },
    {
     "name": "stderr",
     "output_type": "stream",
     "text": [
      "Epoch #482: 1080it [00:03, 349.46it/s, env_step=520560, len=26, n/ep=2, n/st=60, player_1/loss=0.000, player_2/loss=0.000, rew=364.50]\n"
     ]
    },
    {
     "name": "stdout",
     "output_type": "stream",
     "text": [
      "Epoch #482: test_reward: 218.900000 ± 119.170005, best_reward: 594.700000 ± 344.331541 in #64\n"
     ]
    },
    {
     "name": "stderr",
     "output_type": "stream",
     "text": [
      "Epoch #483: 1080it [00:03, 347.52it/s, env_step=521640, len=25, n/ep=4, n/st=60, player_1/loss=0.000, player_2/loss=0.000, rew=389.75]\n"
     ]
    },
    {
     "name": "stdout",
     "output_type": "stream",
     "text": [
      "Epoch #483: test_reward: 160.100000 ± 48.094594, best_reward: 594.700000 ± 344.331541 in #64\n"
     ]
    },
    {
     "name": "stderr",
     "output_type": "stream",
     "text": [
      "Epoch #484: 1080it [00:03, 346.50it/s, env_step=522720, len=19, n/ep=4, n/st=60, player_1/loss=0.000, player_2/loss=0.000, rew=239.50]\n"
     ]
    },
    {
     "name": "stdout",
     "output_type": "stream",
     "text": [
      "Epoch #484: test_reward: 265.900000 ± 134.512044, best_reward: 594.700000 ± 344.331541 in #64\n"
     ]
    },
    {
     "name": "stderr",
     "output_type": "stream",
     "text": [
      "Epoch #485: 1080it [00:03, 346.50it/s, env_step=523800, len=24, n/ep=5, n/st=60, player_1/loss=0.000, player_2/loss=0.000, rew=367.20]\n"
     ]
    },
    {
     "name": "stdout",
     "output_type": "stream",
     "text": [
      "Epoch #485: test_reward: 193.100000 ± 12.300000, best_reward: 594.700000 ± 344.331541 in #64\n"
     ]
    },
    {
     "name": "stderr",
     "output_type": "stream",
     "text": [
      "Epoch #486: 1080it [00:03, 349.55it/s, env_step=524880, len=18, n/ep=3, n/st=60, player_1/loss=0.000, player_2/loss=0.000, rew=186.33]\n"
     ]
    },
    {
     "name": "stdout",
     "output_type": "stream",
     "text": [
      "Epoch #486: test_reward: 314.600000 ± 197.063543, best_reward: 594.700000 ± 344.331541 in #64\n"
     ]
    },
    {
     "name": "stderr",
     "output_type": "stream",
     "text": [
      "Epoch #487: 1080it [00:03, 349.15it/s, env_step=525960, len=18, n/ep=3, n/st=60, player_1/loss=0.000, player_2/loss=0.000, rew=180.33]\n"
     ]
    },
    {
     "name": "stdout",
     "output_type": "stream",
     "text": [
      "Epoch #487: test_reward: 185.900000 ± 204.674107, best_reward: 594.700000 ± 344.331541 in #64\n"
     ]
    },
    {
     "name": "stderr",
     "output_type": "stream",
     "text": [
      "Epoch #488: 1080it [00:03, 345.95it/s, env_step=527040, len=25, n/ep=3, n/st=60, player_1/loss=0.000, player_2/loss=0.000, rew=332.33]\n"
     ]
    },
    {
     "name": "stdout",
     "output_type": "stream",
     "text": [
      "Epoch #488: test_reward: 228.300000 ± 146.900681, best_reward: 594.700000 ± 344.331541 in #64\n"
     ]
    },
    {
     "name": "stderr",
     "output_type": "stream",
     "text": [
      "Epoch #489: 1080it [00:03, 351.30it/s, env_step=528120, len=25, n/ep=2, n/st=60, player_1/loss=0.000, player_2/loss=0.000, rew=337.00]\n"
     ]
    },
    {
     "name": "stdout",
     "output_type": "stream",
     "text": [
      "Epoch #489: test_reward: 241.400000 ± 123.419772, best_reward: 594.700000 ± 344.331541 in #64\n"
     ]
    },
    {
     "name": "stderr",
     "output_type": "stream",
     "text": [
      "Epoch #490: 1080it [00:03, 348.12it/s, env_step=529200, len=14, n/ep=3, n/st=60, player_1/loss=0.000, player_2/loss=0.000, rew=121.00]\n"
     ]
    },
    {
     "name": "stdout",
     "output_type": "stream",
     "text": [
      "Epoch #490: test_reward: 265.600000 ± 49.538268, best_reward: 594.700000 ± 344.331541 in #64\n"
     ]
    },
    {
     "name": "stderr",
     "output_type": "stream",
     "text": [
      "Epoch #491: 1080it [00:03, 347.58it/s, env_step=530280, len=16, n/ep=1, n/st=60, player_1/loss=0.000, player_2/loss=0.000, rew=135.00]\n"
     ]
    },
    {
     "name": "stdout",
     "output_type": "stream",
     "text": [
      "Epoch #491: test_reward: 313.200000 ± 99.618071, best_reward: 594.700000 ± 344.331541 in #64\n"
     ]
    },
    {
     "name": "stderr",
     "output_type": "stream",
     "text": [
      "Epoch #492: 1080it [00:03, 347.28it/s, env_step=531360, len=20, n/ep=3, n/st=60, player_1/loss=0.000, player_2/loss=0.000, rew=217.33]\n"
     ]
    },
    {
     "name": "stdout",
     "output_type": "stream",
     "text": [
      "Epoch #492: test_reward: 279.800000 ± 49.225603, best_reward: 594.700000 ± 344.331541 in #64\n"
     ]
    },
    {
     "name": "stderr",
     "output_type": "stream",
     "text": [
      "Epoch #493: 1080it [00:03, 346.57it/s, env_step=532440, len=26, n/ep=3, n/st=60, player_1/loss=0.000, player_2/loss=0.000, rew=363.00]\n"
     ]
    },
    {
     "name": "stdout",
     "output_type": "stream",
     "text": [
      "Epoch #493: test_reward: 277.900000 ± 115.899482, best_reward: 594.700000 ± 344.331541 in #64\n"
     ]
    },
    {
     "name": "stderr",
     "output_type": "stream",
     "text": [
      "Epoch #494: 1080it [00:03, 350.13it/s, env_step=533520, len=28, n/ep=2, n/st=60, player_1/loss=0.000, player_2/loss=0.000, rew=413.00]\n"
     ]
    },
    {
     "name": "stdout",
     "output_type": "stream",
     "text": [
      "Epoch #494: test_reward: 196.300000 ± 126.989015, best_reward: 594.700000 ± 344.331541 in #64\n"
     ]
    },
    {
     "name": "stderr",
     "output_type": "stream",
     "text": [
      "Epoch #495: 1080it [00:03, 347.79it/s, env_step=534600, len=24, n/ep=6, n/st=60, player_1/loss=0.000, player_2/loss=0.000, rew=322.83]\n"
     ]
    },
    {
     "name": "stdout",
     "output_type": "stream",
     "text": [
      "Epoch #495: test_reward: 149.600000 ± 181.006188, best_reward: 594.700000 ± 344.331541 in #64\n"
     ]
    },
    {
     "name": "stderr",
     "output_type": "stream",
     "text": [
      "Epoch #496: 1080it [00:03, 349.51it/s, env_step=535680, len=20, n/ep=3, n/st=60, player_1/loss=0.000, player_2/loss=0.000, rew=230.33]\n"
     ]
    },
    {
     "name": "stdout",
     "output_type": "stream",
     "text": [
      "Epoch #496: test_reward: 275.600000 ± 73.763406, best_reward: 594.700000 ± 344.331541 in #64\n"
     ]
    },
    {
     "name": "stderr",
     "output_type": "stream",
     "text": [
      "Epoch #497: 1080it [00:03, 349.61it/s, env_step=536760, len=23, n/ep=4, n/st=60, player_1/loss=0.000, player_2/loss=0.000, rew=310.75]\n"
     ]
    },
    {
     "name": "stdout",
     "output_type": "stream",
     "text": [
      "Epoch #497: test_reward: 152.600000 ± 159.225124, best_reward: 594.700000 ± 344.331541 in #64\n"
     ]
    },
    {
     "name": "stderr",
     "output_type": "stream",
     "text": [
      "Epoch #498: 1080it [00:03, 345.80it/s, env_step=537840, len=29, n/ep=2, n/st=60, player_1/loss=0.000, player_2/loss=0.000, rew=477.00]\n"
     ]
    },
    {
     "name": "stdout",
     "output_type": "stream",
     "text": [
      "Epoch #498: test_reward: 293.300000 ± 142.581240, best_reward: 594.700000 ± 344.331541 in #64\n"
     ]
    },
    {
     "name": "stderr",
     "output_type": "stream",
     "text": [
      "Epoch #499: 1080it [00:03, 346.16it/s, env_step=538920, len=18, n/ep=3, n/st=60, player_1/loss=0.000, player_2/loss=0.000, rew=183.67]\n"
     ]
    },
    {
     "name": "stdout",
     "output_type": "stream",
     "text": [
      "Epoch #499: test_reward: 257.400000 ± 162.291220, best_reward: 594.700000 ± 344.331541 in #64\n"
     ]
    }
   ],
   "source": [
    "####################################################\n",
    "# EXPERIMENT: TRAINING AGENTS\n",
    "####################################################\n",
    "\n",
    "# Get the environment settings\n",
    "env = get_env()\n",
    "observation_space = env.observation_space['observation'] if isinstance(env.observation_space, gym.spaces.Dict) else env.observation_space\n",
    "state_shape = observation_space.shape or observation_space.n\n",
    "action_shape = env.action_space.shape or env.action_space.n\n",
    "\n",
    "# Configure the agents\n",
    "agent1 = rainbow_policy(state_shape= state_shape,\n",
    "                        action_shape= action_shape)\n",
    "\n",
    "\n",
    "agent2 = rainbow_policy(state_shape= state_shape,\n",
    "                        action_shape= action_shape)\n",
    "\n",
    "# Train the agent\n",
    "off_policy_traininer_results, final_agent_player1, final_agent_player2 = train_agent(epochs= 500,\n",
    "                                                                                     #filename=\"rainbow_vs_rainbow_nomovereward\",\n",
    "                                                                                     training_eps= 0.2)"
   ]
  },
  {
   "cell_type": "code",
   "execution_count": 14,
   "id": "8c8f3121",
   "metadata": {},
   "outputs": [
    {
     "name": "stdout",
     "output_type": "stream",
     "text": [
      "Average steps of game:  32.333333333333336\n",
      "Final mean reward agent 1: 301.0, std: 136.2742333189465\n",
      "Final mean reward agent 2: 284.3333333333333, std: 152.4058908164496\n"
     ]
    }
   ],
   "source": [
    "####################################################\n",
    "# EXPERIMENT: VIEWING THE BEST LEARNED POLICY\n",
    "####################################################\n",
    "\n",
    "# Get the environment settings\n",
    "env = get_env()\n",
    "observation_space = env.observation_space['observation'] if isinstance(env.observation_space, gym.spaces.Dict) else env.observation_space\n",
    "state_shape = observation_space.shape or observation_space.n\n",
    "action_shape = env.action_space.shape or env.action_space.n\n",
    "\n",
    "# Configure the best agent\n",
    "best_agent1 = rainbow_policy(state_shape= state_shape,\n",
    "                             action_shape= action_shape)\n",
    "best_agent1.load_state_dict(torch.load(\"./saved_variables/paper_notebooks/9/rainbow_vs_rainbow/best_policy_agent1.pth\"))\n",
    "best_agent1.set_eps(0)\n",
    "\n",
    "\n",
    "best_agent2 = rainbow_policy(state_shape= state_shape,\n",
    "                             action_shape= action_shape)\n",
    "best_agent2.load_state_dict(torch.load(\"./saved_variables/paper_notebooks/9/rainbow_vs_rainbow/best_policy_agent2.pth\"))\n",
    "best_agent2.set_eps(0)\n",
    "\n",
    "# Watch the best agent at work\n",
    "watch(numer_of_games= 3,\n",
    "      render_speed= 0.3,\n",
    "      agent_player1= best_agent1,\n",
    "      agent_player2= best_agent2)\n",
    "\n"
   ]
  },
  {
   "cell_type": "code",
   "execution_count": 15,
   "id": "c704acd8",
   "metadata": {},
   "outputs": [
    {
     "name": "stdout",
     "output_type": "stream",
     "text": [
      "Average steps of game:  33.666666666666664\n",
      "Final mean reward agent 1: 325.3333333333333, std: 32.05550741379015\n",
      "Final mean reward agent 2: 259.0, std: 31.11269837220809\n"
     ]
    }
   ],
   "source": [
    "####################################################\n",
    "# EXPERIMENT: VIEWING THE LAST LEARNED POLICY\n",
    "####################################################\n",
    "\n",
    "# Configure the final agent\n",
    "final_agent_player1 = rainbow_policy(state_shape= state_shape,\n",
    "                                     action_shape= action_shape)\n",
    "final_agent_player1.load_state_dict(torch.load(\"./saved_variables/paper_notebooks/9/rainbow_vs_rainbow/final_policy_agent1.pth\"))\n",
    "best_agent1.set_eps(0)\n",
    "\n",
    "final_agent_player2 = rainbow_policy(state_shape= state_shape,\n",
    "                                     action_shape= action_shape)\n",
    "final_agent_player2.load_state_dict(torch.load(\"./saved_variables/paper_notebooks/9/rainbow_vs_rainbow/final_policy_agent2.pth\"))\n",
    "best_agent2.set_eps(0)\n",
    "\n",
    "# Watch the best agent at work\n",
    "watch(numer_of_games= 3,\n",
    "      render_speed= 0.3,\n",
    "      agent_player1= final_agent_player1,\n",
    "      agent_player2= final_agent_player2)\n",
    "\n"
   ]
  },
  {
   "cell_type": "markdown",
   "id": "84478519",
   "metadata": {},
   "source": [
    "<hr><hr>\n",
    "\n",
    "## Discussion\n",
    "\n",
    "When a reward for making moves is given, the agents learn to play together rather then against each other. Just as was the case for DQN. This can be seen by looking at the gameplay of the best reward agents where a tie is reached.\n",
    "> best_reward: 594.700000 ± 344.331541 in epoch 64"
   ]
  },
  {
   "cell_type": "code",
   "execution_count": null,
   "id": "3d9110be",
   "metadata": {},
   "outputs": [],
   "source": [
    "####################################################\n",
    "# CLEAN VARIABLES\n",
    "####################################################\n",
    "\n",
    "del action_shape\n",
    "del agent1\n",
    "del agent2\n",
    "del best_agent1\n",
    "del best_agent2\n",
    "del env\n",
    "del final_agent_player1\n",
    "del final_agent_player2\n",
    "del observation_space\n",
    "del off_policy_traininer_results\n",
    "del state_shape\n"
   ]
  },
  {
   "cell_type": "code",
   "execution_count": null,
   "id": "a74d3da3",
   "metadata": {},
   "outputs": [],
   "source": []
  }
 ],
 "metadata": {
  "interpreter": {
   "hash": "9b88c88564fefe7444548986d165ad8d7f764d0079ffa923785a3f5a89d52c74"
  },
  "kernelspec": {
   "display_name": "Python 3 (ipykernel)",
   "language": "python",
   "name": "python3"
  },
  "language_info": {
   "codemirror_mode": {
    "name": "ipython",
    "version": 3
   },
   "file_extension": ".py",
   "mimetype": "text/x-python",
   "name": "python",
   "nbconvert_exporter": "python",
   "pygments_lexer": "ipython3",
   "version": "3.8.10"
  }
 },
 "nbformat": 4,
 "nbformat_minor": 5
}
