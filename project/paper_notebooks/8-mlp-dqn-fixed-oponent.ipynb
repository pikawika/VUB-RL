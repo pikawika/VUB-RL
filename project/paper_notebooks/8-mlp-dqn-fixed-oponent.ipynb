{
 "cells": [
  {
   "cell_type": "markdown",
   "id": "337221df",
   "metadata": {},
   "source": [
    "# MLP based DQN agent against fixed oponent\n",
    "\n",
    "In the previous notebook, `7-cnn-dqn-fixed-oponent.ipynb`, we used the CNN based model for training through an iteration of alternating frozen agents.\n",
    "We found this to give interesting but not fully statisfactory results.\n",
    "We will now use the same technique for the custom MLP based approach designed in `5-improving-dqn-architecture.ipynb` to properly compare both architectures performance for the agents."
   ]
  },
  {
   "cell_type": "markdown",
   "id": "b5341c6d",
   "metadata": {},
   "source": [
    "<hr><hr>\n",
    "\n",
    "## Table of Contents\n",
    "\n",
    "- Contact information\n",
    "- Checking requirements\n",
    "  - Correct Anaconda environment\n",
    "  - Correct module access\n",
    "  - Correct CUDA access\n",
    "- Training two DQN agents on connect four Gym\n",
    "  - Building the environment\n",
    "  - Implementing the DQN policy\n",
    "  - Building agents\n",
    "  - Function for letting agents learn\n",
    "  - Function for watching learned agent\n",
    "  - Doing the experiment\n",
    "- Discussion"
   ]
  },
  {
   "cell_type": "markdown",
   "id": "292165d3",
   "metadata": {},
   "source": [
    "<hr><hr>\n",
    "\n",
    "## Contact information\n",
    "\n",
    "| Name             | Student ID | VUB mail                                                  | Personal mail                                               |\n",
    "| ---------------- | ---------- | --------------------------------------------------------- | ----------------------------------------------------------- |\n",
    "| Lennert Bontinck | 0568702    | [lennert.bontinck@vub.be](mailto:lennert.bontinck@vub.be) | [info@lennertbontinck.com](mailto:info@lennertbontinck.com) |\n",
    "\n"
   ]
  },
  {
   "cell_type": "markdown",
   "id": "7a405d24",
   "metadata": {},
   "source": [
    "<hr><hr>\n",
    "\n",
    "## Checking requirements\n",
    "\n",
    "### Correct Anaconda environment\n",
    "\n",
    "The `rl-project` anaconda environment should be active to ensure proper support. Installation instructions are available on [the GitHub repository of the RL course project and homeworks](https://github.com/pikawika/vub-rl)."
   ]
  },
  {
   "cell_type": "code",
   "execution_count": 1,
   "id": "334d5fd4",
   "metadata": {},
   "outputs": [
    {
     "name": "stdout",
     "output_type": "stream",
     "text": [
      "Active environment: rl-project\n",
      "Correct environment: True\n",
      "\n",
      "Python version: 3.8.10\n",
      "Correct Python version: True\n"
     ]
    }
   ],
   "source": [
    "####################################################\n",
    "# CHECKING FOR RIGHT ANACONDA ENVIRONMENT\n",
    "####################################################\n",
    "\n",
    "import os\n",
    "from platform import python_version\n",
    "\n",
    "print(f\"Active environment: {os.environ['CONDA_DEFAULT_ENV']}\")\n",
    "print(f\"Correct environment: {os.environ['CONDA_DEFAULT_ENV'] == 'rl-project'}\")\n",
    "print(f\"\\nPython version: {python_version()}\")\n",
    "print(f\"Correct Python version: {python_version() == '3.8.10'}\")"
   ]
  },
  {
   "cell_type": "markdown",
   "id": "22166668",
   "metadata": {},
   "source": [
    "<hr>\n",
    "\n",
    "### Correct module access\n",
    "\n",
    "The following code block will load in all required modules and show if the versions match those that are recommended."
   ]
  },
  {
   "cell_type": "code",
   "execution_count": 3,
   "id": "ab632204",
   "metadata": {},
   "outputs": [
    {
     "name": "stdout",
     "output_type": "stream",
     "text": [
      "Matplotlib version (3.5.1 recommended): 3.5.1\n",
      "Pygame version (2.1.2 recommended): 2.1.2\n",
      "Gym version (0.21.0 recommended): 0.21.0\n",
      "Tianshou version (0.4.8 recommended): 0.4.8\n",
      "Torch version (1.12.0 recommended): 1.12.0.dev20220520+cu116\n"
     ]
    }
   ],
   "source": [
    "####################################################\n",
    "# LOADING MODULES\n",
    "####################################################\n",
    "\n",
    "# Allow reloading of libraries\n",
    "import importlib\n",
    "\n",
    "# Plotting\n",
    "import matplotlib; print(f\"Matplotlib version (3.5.1 recommended): {matplotlib.__version__}\")\n",
    "import matplotlib.pyplot as plt\n",
    "\n",
    "# Argparser\n",
    "import argparse\n",
    "\n",
    "# More data types\n",
    "import typing\n",
    "import numpy as np\n",
    "\n",
    "# Pygame\n",
    "import pygame; print(f\"Pygame version (2.1.2 recommended): {pygame.__version__}\")\n",
    "\n",
    "# Gym environment\n",
    "import gym; print(f\"Gym version (0.21.0 recommended): {gym.__version__}\")\n",
    "\n",
    "# Tianshou for RL algorithms\n",
    "import tianshou as ts; print(f\"Tianshou version (0.4.8 recommended): {ts.__version__}\")\n",
    "\n",
    "# Torch is a popular DL framework\n",
    "import torch; print(f\"Torch version (1.12.0 recommended): {torch.__version__}\")\n",
    "\n",
    "# PPrint is a pretty print for variables\n",
    "from pprint import pprint\n",
    "\n",
    "# Our custom connect four gym environment\n",
    "import sys\n",
    "sys.path.append('../')\n",
    "import gym_connect4_pygame.envs.ConnectFourPygameEnvV2 as cfgym\n",
    "importlib.invalidate_caches()\n",
    "importlib.reload(cfgym)\n",
    "\n",
    "# Time for allowing \"freezes\" in execution\n",
    "import time;\n",
    "\n",
    "# Allow for copying objects in a non reference manner\n",
    "import copy\n",
    "\n",
    "# Used for updating notebook display\n",
    "from IPython.display import clear_output"
   ]
  },
  {
   "cell_type": "markdown",
   "id": "f2617a21",
   "metadata": {},
   "source": [
    "<hr>\n",
    "\n",
    "### Correct CUDA access\n",
    "\n",
    "The installation instructions specify how to install PyTorch with CUDA 11.6.\n",
    "The following code block tests if this was done successfully."
   ]
  },
  {
   "cell_type": "code",
   "execution_count": 4,
   "id": "da9f5ed0",
   "metadata": {},
   "outputs": [
    {
     "name": "stdout",
     "output_type": "stream",
     "text": [
      "CUDA is available: True\n",
      "\n",
      "Amount of connected devices supporting CUDA: 1\n",
      "\n",
      "Current CUDA device: 0\n",
      "Cuda device 0 name: NVIDIA GeForce GTX 970\n"
     ]
    }
   ],
   "source": [
    "####################################################\n",
    "# CUDA VALIDATION\n",
    "####################################################\n",
    "\n",
    "# Check cuda available\n",
    "print(f\"CUDA is available: {torch.cuda.is_available()}\")\n",
    "\n",
    "# Show cuda devices\n",
    "print(f\"\\nAmount of connected devices supporting CUDA: {torch.cuda.device_count()}\")\n",
    "\n",
    "# Show current cuda device\n",
    "print(f\"\\nCurrent CUDA device: {torch.cuda.current_device()}\")\n",
    "\n",
    "# Show cuda device name\n",
    "print(f\"Cuda device 0 name: {torch.cuda.get_device_name(0)}\")"
   ]
  },
  {
   "cell_type": "markdown",
   "id": "826657c4",
   "metadata": {},
   "source": [
    "<hr><hr>\n",
    "\n",
    "## Training two DQN agents on connect four Gym\n",
    "\n",
    "Our connect four gym setup requires two agents, one for each player.\n",
    "To reduce complexity, agents will always play as the same player, e.g. always as player 1.\n",
    "It is important to note that connect four is a *solved game*.\n",
    "According to [The Washington Post](https://www.washingtonpost.com/news/wonk/wp/2015/05/08/how-to-win-any-popular-game-according-to-data-scientists/):\n",
    "\n",
    "> Connect Four is what mathematicians call a \"solved game,\" meaning you can play it perfectly every time, no matter what your opponent does. You will need to get the first move, but as long as you do so, you can always win within 41 moves.\n",
    "\n",
    "<hr>\n",
    "\n",
    "### Building the environment\n",
    "\n",
    "This code is taken from previous notebooks.\n",
    "We don't allow invalid moves to make the problem easier for now."
   ]
  },
  {
   "cell_type": "code",
   "execution_count": 5,
   "id": "c2b47a58",
   "metadata": {},
   "outputs": [
    {
     "name": "stdout",
     "output_type": "stream",
     "text": [
      "Observation space: Dict(action_mask:Box([0 0 0 0 0 0 0], [1 1 1 1 1 1 1], (7,), int8), observation:Box([[0 0 0 0 0 0 0]\n",
      " [0 0 0 0 0 0 0]\n",
      " [0 0 0 0 0 0 0]\n",
      " [0 0 0 0 0 0 0]\n",
      " [0 0 0 0 0 0 0]\n",
      " [0 0 0 0 0 0 0]], [[2 2 2 2 2 2 2]\n",
      " [2 2 2 2 2 2 2]\n",
      " [2 2 2 2 2 2 2]\n",
      " [2 2 2 2 2 2 2]\n",
      " [2 2 2 2 2 2 2]\n",
      " [2 2 2 2 2 2 2]], (6, 7), int8))\n",
      "\n",
      "Action space: Discrete(7)\n",
      "\n",
      " Initial player id:\n",
      "player_1\n",
      "\n",
      " Initial observation:\n",
      "[[0. 0. 0. 0. 0. 0. 0.]\n",
      " [0. 0. 0. 0. 0. 0. 0.]\n",
      " [0. 0. 0. 0. 0. 0. 0.]\n",
      " [0. 0. 0. 0. 0. 0. 0.]\n",
      " [0. 0. 0. 0. 0. 0. 0.]\n",
      " [0. 0. 0. 0. 0. 0. 0.]]\n",
      "\n",
      " Initial mask:\n",
      "[True, True, True, True, True, True, True]\n"
     ]
    }
   ],
   "source": [
    "####################################################\n",
    "# CONNECT FOUR V2 ENVIRONMENT\n",
    "####################################################\n",
    "\n",
    "def get_env():\n",
    "    \"\"\"\n",
    "    Returns the connect four gym environment V2 altered for Tianshou and Petting Zoo compatibility.\n",
    "    Already wrapped with a ts.env.PettingZooEnv wrapper.\n",
    "    \"\"\"\n",
    "    return ts.env.PettingZooEnv(cfgym.env(reward_move= 0, # Set to 1 for reward to make moves (incentivise longer games)\n",
    "                                          reward_invalid= -3,\n",
    "                                          reward_draw= 100,\n",
    "                                          reward_win= 25,\n",
    "                                          reward_loss= -25,\n",
    "                                          allow_invalid_move= False))\n",
    "    \n",
    "    \n",
    "# Test the environment\n",
    "env = get_env()\n",
    "print(f\"Observation space: {env.observation_space}\")\n",
    "print(f\"\\nAction space: {env.action_space}\")\n",
    "\n",
    "# Reset the environment to start from a clean state, returns the initial observation\n",
    "observation = env.reset()\n",
    "\n",
    "print(\"\\n Initial player id:\")\n",
    "print(observation[\"agent_id\"])\n",
    "\n",
    "print(\"\\n Initial observation:\")\n",
    "print(observation[\"obs\"])\n",
    "\n",
    "print(\"\\n Initial mask:\")\n",
    "print(observation[\"mask\"])\n",
    "\n",
    "# Clean unused variables\n",
    "del observation\n",
    "del env"
   ]
  },
  {
   "cell_type": "markdown",
   "id": "0bc7e7da",
   "metadata": {},
   "source": [
    "<hr>\n",
    "\n",
    "### Implementing the DQN policy\n",
    "\n",
    "We use the strategy created in `5-improving-dqn-architecture.ipynb`."
   ]
  },
  {
   "cell_type": "code",
   "execution_count": 6,
   "id": "8e2f43c0",
   "metadata": {},
   "outputs": [],
   "source": [
    "####################################################\n",
    "# DQN ARCHITECTURE\n",
    "####################################################\n",
    "\n",
    "class CustomDQN(torch.nn.Module):\n",
    "    \"\"\"\n",
    "    Custom DQN using a model based on CNN\n",
    "    \"\"\"\n",
    "    def __init__(self,\n",
    "                 state_shape: typing.Sequence[int],\n",
    "                 action_shape: typing.Sequence[int],\n",
    "                 device: typing.Union[str, int, torch.device] = 'cuda' if torch.cuda.is_available() else 'cpu',):\n",
    "        # Parent call\n",
    "        super().__init__()\n",
    "        \n",
    "        # Save device (e.g. cuda)\n",
    "        self.device = device\n",
    "        \n",
    "        self.model = torch.nn.Sequential(\n",
    "            torch.nn.Linear(np.prod(state_shape), 128), torch.nn.ReLU(inplace=True),\n",
    "            torch.nn.Linear(128, 128), torch.nn.ReLU(inplace=True),\n",
    "            torch.nn.Linear(128, 128), torch.nn.ReLU(inplace=True),\n",
    "            torch.nn.Linear(128, np.prod(action_shape)),\n",
    "        )\n",
    "\n",
    "    def forward(self, obs, state=None, info={}):\n",
    "        if not isinstance(obs, torch.Tensor):\n",
    "            obs = torch.tensor(obs, dtype=torch.float, device=self.device)\n",
    "        batch = obs.shape[0]\n",
    "        logits = self.model(obs.view(batch, -1))\n",
    "        return logits, state\n"
   ]
  },
  {
   "cell_type": "code",
   "execution_count": 7,
   "id": "539b56ff",
   "metadata": {},
   "outputs": [],
   "source": [
    "####################################################\n",
    "# DQN POLICY\n",
    "####################################################\n",
    "\n",
    "def cf_custom_dqn_policy(state_shape: tuple,\n",
    "                         action_shape: tuple,\n",
    "                         optim: typing.Optional[torch.optim.Optimizer] = None,\n",
    "                         learning_rate: float =  0.0001,\n",
    "                         gamma: float = 0.9, # Smaller gamma favours \"faster\" win\n",
    "                         n_step: int = 4, # Number of steps to look ahead\n",
    "                         frozen: bool = False,\n",
    "                         target_update_freq: int = 320):\n",
    "    # Use cuda device if possible\n",
    "    device = 'cuda' if torch.cuda.is_available() else 'cpu'\n",
    "    \n",
    "    # Network to be used for DQN\n",
    "    net = CustomDQN(state_shape, action_shape, device= device).to(device)\n",
    "    \n",
    "    # Default optimizer is an adam optimizer with the argparser learning rate\n",
    "    if optim is None:\n",
    "        optim = torch.optim.Adam(net.parameters(), lr= learning_rate)\n",
    "        \n",
    "    # If we are frozen, we use an optimizer that has learning rate 0\n",
    "    if frozen:\n",
    "        optim = torch.optim.SGD(net.parameters(), lr= 0)\n",
    "        \n",
    "        \n",
    "    # Our agent DQN policy\n",
    "    return ts.policy.DQNPolicy(model= net,\n",
    "                               optim= optim,\n",
    "                               discount_factor= gamma,\n",
    "                               estimation_step= n_step,\n",
    "                               target_update_freq= target_update_freq)"
   ]
  },
  {
   "cell_type": "markdown",
   "id": "dd411318",
   "metadata": {},
   "source": [
    "<hr>\n",
    "\n",
    "### Building agents\n",
    "\n",
    "This is identical to the previous notebook with the added option of \"freezing\" an agent which corresponds to giving it an optimizer with learning rate 0."
   ]
  },
  {
   "cell_type": "code",
   "execution_count": 8,
   "id": "f7ae27d2",
   "metadata": {},
   "outputs": [],
   "source": [
    "####################################################\n",
    "# AGENT CREATION\n",
    "####################################################\n",
    "\n",
    "def get_agents(agent_player1: typing.Optional[ts.policy.BasePolicy] = None,\n",
    "               agent_player2: typing.Optional[ts.policy.BasePolicy] = None,\n",
    "               optim: typing.Optional[torch.optim.Optimizer] = None,\n",
    "               resume_path_player_1: str = '', # Path to file to resume agent training from\n",
    "               resume_path_player_2: str = '', \n",
    "               agent_player1_frozen: bool = False, # Freeze a player -> don't let it learn further\n",
    "               agent_player2_frozen: bool = False,\n",
    "               ) -> typing.Tuple[ts.policy.BasePolicy, torch.optim.Optimizer, list]:\n",
    "    \"\"\"\n",
    "    Gets a multi agent policy manager, optimizer and player ids for the connect four V2 gym environment.\n",
    "    Per default this returns \n",
    "        - Multi agent manager for 2 agents using DQN\n",
    "        - Adam optimizer\n",
    "        - ['player_1', 'player_2'] from the connect four environment\n",
    "    \"\"\"\n",
    "    \n",
    "    # Get the environment to play in (Connect four gym V2)\n",
    "    env = get_env()\n",
    "    \n",
    "    # Get the observation space from the environment, depending on typo of space (ternary operator)\n",
    "    observation_space = env.observation_space['observation'] if isinstance(env.observation_space, gym.spaces.Dict) else env.observation_space\n",
    "    \n",
    "    # Set the arguments\n",
    "    state_shape = observation_space.shape or observation_space.n\n",
    "    action_shape = env.action_space.shape or env.action_space.n\n",
    "    \n",
    "    # Configure agent player 1 to be a DQN if no policy is passed.\n",
    "    if agent_player1 is None:\n",
    "        # Our agent1 uses a DQN policy\n",
    "        agent_player1 = cf_custom_dqn_policy(state_shape= state_shape,\n",
    "                                             action_shape= action_shape,\n",
    "                                             optim= optim,\n",
    "                                             frozen= agent_player1_frozen)\n",
    "                \n",
    "        # If we resume our agent we need to load the previous config\n",
    "        if resume_path_player_1:\n",
    "            agent_player1.load_state_dict(torch.load(resume_path_player_1))\n",
    "            \n",
    "    \n",
    "    # Configure agent player 2 to be a DQN if no policy is passed.\n",
    "    if agent_player2 is None:\n",
    "        # Our agent1 uses a DQN policy\n",
    "        agent_player2 = cf_custom_dqn_policy(state_shape= state_shape,\n",
    "                                             action_shape= action_shape,\n",
    "                                             optim= optim,\n",
    "                                             frozen= agent_player2_frozen)\n",
    "        \n",
    "                \n",
    "        # If we resume our agent we need to load the previous config\n",
    "        if resume_path_player_2:\n",
    "            agent_player2.load_state_dict(torch.load(resume_path_player_2))\n",
    "\n",
    "    # Both our agents are DQN agents by default\n",
    "    agents = [agent_player1, agent_player2]\n",
    "        \n",
    "    # Our policy depends on the order of the agents\n",
    "    policy = ts.policy.MultiAgentPolicyManager(agents, env)\n",
    "    \n",
    "    # Return our policy, optimizer and the available agents in the environment\n",
    "    # Per default: \n",
    "    #   - Multi agent manager for 2 agents using DQN\n",
    "    #   - Adam optimizer\n",
    "    #   - ['player_1', 'player_2'] from the connect four environment\n",
    "    \n",
    "    return policy, optim, env.agents"
   ]
  },
  {
   "cell_type": "markdown",
   "id": "95a8f3a6",
   "metadata": {},
   "source": [
    "<hr>\n",
    "\n",
    "### Function for letting agents learn\n",
    "\n",
    "This is identical to the previous notebook."
   ]
  },
  {
   "cell_type": "code",
   "execution_count": 9,
   "id": "9a32c218",
   "metadata": {},
   "outputs": [],
   "source": [
    "####################################################\n",
    "# AGENT TRAINING\n",
    "####################################################\n",
    "\n",
    "def train_agent(filename: str = \"dqn_vs_dqn_cnn_based\",\n",
    "                agent_player1: typing.Optional[ts.policy.BasePolicy] = None,\n",
    "                agent_player2: typing.Optional[ts.policy.BasePolicy] = None,\n",
    "                agent_player1_frozen: bool = False, # Freeze a player -> don't let it learn further\n",
    "                agent_player2_frozen: bool = False,\n",
    "                single_agent_score_as_reward: bool= False, # Uses non frozen agent's score as reward\n",
    "                optim: typing.Optional[torch.optim.Optimizer] = None,\n",
    "                training_env_num: int = 1,\n",
    "                testing_env_num: int = 1,\n",
    "                buffer_size: int = 2^14,\n",
    "                batch_size: int = 1, \n",
    "                epochs: int = 50, #50\n",
    "                step_per_epoch: int = 1024, #1024\n",
    "                step_per_collect: int = 64, # transition before update\n",
    "                update_per_step: float = 0.1,\n",
    "                testing_eps: float = 0.05,\n",
    "                training_eps: float = 0.1,\n",
    "                ) -> typing.Tuple[dict, ts.policy.BasePolicy]:\n",
    "    \"\"\"\n",
    "    Trains two agents in the connect four V2 environment and saves their best model and logs.\n",
    "    Returns:\n",
    "        - result from offpolicy_trainer\n",
    "        - final version of agent 1\n",
    "        - final version of agent 2\n",
    "    \"\"\"\n",
    "\n",
    "    # ======== notebook specific =========\n",
    "    notebook_version = '8' # Used for foldering logs and models\n",
    "\n",
    "    # ======== environment setup =========\n",
    "    train_envs = ts.env.DummyVectorEnv([get_env for _ in range(training_env_num)])\n",
    "    test_envs = ts.env.DummyVectorEnv([get_env for _ in range(testing_env_num)])\n",
    "    \n",
    "    # set the seed for reproducibility\n",
    "    np.random.seed(1998)\n",
    "    torch.manual_seed(1998)\n",
    "    train_envs.seed(1998)\n",
    "    test_envs.seed(1998)\n",
    "\n",
    "    # ======== agent setup =========\n",
    "    # Gets our agents from the previously made function\n",
    "    # Per default: \n",
    "    #   - Multi agent manager for 2 agents using DQN\n",
    "    #   - Adam optimizer\n",
    "    #   - ['player_1', 'player_2'] from the connect four environment\n",
    "    policy, optim, agents = get_agents(agent_player1=agent_player1,\n",
    "                                       agent_player2=agent_player2,\n",
    "                                       agent_player1_frozen= agent_player1_frozen,\n",
    "                                       agent_player2_frozen= agent_player2_frozen,\n",
    "                                       optim=optim)\n",
    "\n",
    "    # ======== collector setup =========\n",
    "    # Make a collector for the training environments\n",
    "    train_collector = ts.data.Collector(policy= policy,\n",
    "                                        env= train_envs,\n",
    "                                        buffer= ts.data.VectorReplayBuffer(buffer_size, len(train_envs)),\n",
    "                                        exploration_noise= True)\n",
    "    \n",
    "    # Make a collector for the testing environments\n",
    "    test_collector = ts.data.Collector(policy= policy,\n",
    "                                       env= test_envs,\n",
    "                                       buffer= ts.data.VectorReplayBuffer(buffer_size, len(test_envs)),\n",
    "                                       exploration_noise= True)\n",
    "    \n",
    "    # Uncomment below if you want to set epsilon in epsilon policy\n",
    "    # policy.set_eps(1)\n",
    "    \n",
    "    # Collect data fot the training evnironments\n",
    "    train_collector.collect(n_step= batch_size * training_env_num)\n",
    "    \n",
    "    # ======== ensure folders exist =========\n",
    "    if not os.path.exists(os.path.join('./logs', 'paper_notebooks', notebook_version, filename)):\n",
    "        os.makedirs(os.path.join('./logs', 'paper_notebooks', notebook_version, filename))\n",
    "    if not os.path.exists(os.path.join('./saved_variables', 'paper_notebooks', notebook_version, filename)):\n",
    "        os.makedirs(os.path.join('./saved_variables', 'paper_notebooks', notebook_version, filename))\n",
    "\n",
    "    # ======== tensorboard logging setup =========\n",
    "    # Allows to save the training progress to tensorboard compatable logs\n",
    "    log_path = os.path.join('./logs', 'paper_notebooks', notebook_version, filename)\n",
    "    writer = torch.utils.tensorboard.SummaryWriter(log_path)\n",
    "    logger = ts.utils.TensorboardLogger(writer)\n",
    "\n",
    "    # ======== callback functions used during training =========\n",
    "    # We want to save our best policy\n",
    "    def save_best_fn(policy):\n",
    "        \"\"\"\n",
    "        Callback to save the best model\n",
    "        \"\"\"\n",
    "        # Save best agent 1\n",
    "        model_save_path = os.path.join('./saved_variables', 'paper_notebooks', notebook_version, filename, 'best_policy_agent1.pth')\n",
    "        torch.save(policy.policies[agents[0]].state_dict(), model_save_path)\n",
    "        \n",
    "        # Save best agent 2\n",
    "        model_save_path = os.path.join('./saved_variables', 'paper_notebooks', notebook_version, filename, 'best_policy_agent2.pth')\n",
    "        torch.save(policy.policies[agents[1]].state_dict(), model_save_path)\n",
    "        \n",
    "        # Save agent2\n",
    "\n",
    "    def stop_fn(mean_rewards):\n",
    "        \"\"\"\n",
    "        Callback to stop training when we've reached the win rate\n",
    "        \"\"\"\n",
    "        return mean_rewards >= 7 # (win = 10, 70% win without invalid moves = mean of 7)\n",
    "\n",
    "    def train_fn(epoch, env_step):\n",
    "        \"\"\"\n",
    "        Callback before training\n",
    "        \"\"\"        \n",
    "        # Before training we want to configure the epsilon for the agents\n",
    "        # In general more exploratory than the test case\n",
    "        policy.policies[agents[0]].set_eps(training_eps)\n",
    "        policy.policies[agents[1]].set_eps(training_eps)\n",
    "\n",
    "    def test_fn(epoch, env_step):\n",
    "        \"\"\"\n",
    "        Callback beore testing\n",
    "        \"\"\"        \n",
    "        # Before testing we want to configure the epsilon for the agents\n",
    "        # In general more greedy than the train case but not\n",
    "        #   to avoid getting stuck on invalid moves\n",
    "        policy.policies[agents[0]].set_eps(testing_eps)\n",
    "        policy.policies[agents[1]].set_eps(testing_eps)\n",
    "\n",
    "    def reward_metric(rews):\n",
    "        \"\"\"\n",
    "        Callback for reward collection\n",
    "        \"\"\"        \n",
    "        if agent_player2_frozen and single_agent_score_as_reward:\n",
    "            # agent 2 frozen, optimizing for agent 1\n",
    "            return rews[:, 0]\n",
    "        \n",
    "        if agent_player1_frozen and single_agent_score_as_reward:\n",
    "            # agent 1 frozen, optimizing for agent 2\n",
    "            return rews[:, 1]\n",
    "        \n",
    "        # Per default we are interested in optimizing both agents\n",
    "        return rews[:, 0] + rews[:, 1]\n",
    "    \n",
    "            \n",
    "\n",
    "    # trainer\n",
    "    result = ts.trainer.offpolicy_trainer(policy= policy,\n",
    "                                          train_collector= train_collector,\n",
    "                                          test_collector= test_collector,\n",
    "                                          max_epoch= epochs,\n",
    "                                          step_per_epoch= step_per_epoch,\n",
    "                                          step_per_collect= step_per_collect,\n",
    "                                          episode_per_test= testing_env_num,\n",
    "                                          batch_size= batch_size,\n",
    "                                          train_fn= train_fn,\n",
    "                                          test_fn= test_fn,\n",
    "                                          # Stop function to stop before specified amount of epochs\n",
    "                                          #stop_fn= stop_fn\n",
    "                                          save_best_fn= save_best_fn,\n",
    "                                          update_per_step= update_per_step,\n",
    "                                          logger= logger,\n",
    "                                          test_in_train= False,\n",
    "                                          reward_metric= reward_metric)\n",
    "    \n",
    "    # Save final agent 1\n",
    "    model_save_path = os.path.join('./saved_variables', 'paper_notebooks', notebook_version, filename, 'final_policy_agent1.pth')\n",
    "    torch.save(policy.policies[agents[0]].state_dict(), model_save_path)\n",
    "\n",
    "    # Save final agent 2\n",
    "    model_save_path = os.path.join('./saved_variables', 'paper_notebooks', notebook_version, filename, 'final_policy_agent2.pth')\n",
    "    torch.save(policy.policies[agents[1]].state_dict(), model_save_path)\n",
    "\n",
    "    return result, policy.policies[agents[0]], policy.policies[agents[1]]"
   ]
  },
  {
   "cell_type": "markdown",
   "id": "f161cc0f",
   "metadata": {},
   "source": [
    "<hr>\n",
    "\n",
    "### Function for watching learned agent\n",
    "\n",
    "Identical to the previous notebook."
   ]
  },
  {
   "cell_type": "code",
   "execution_count": 10,
   "id": "459114bd",
   "metadata": {},
   "outputs": [],
   "source": [
    "####################################################\n",
    "# WATCHING THE LEARNED POLICY IN ACTION\n",
    "####################################################\n",
    "\n",
    "def watch(numer_of_games: int = 3,\n",
    "          agent_player1: typing.Optional[ts.policy.BasePolicy] = None,\n",
    "          agent_player2: typing.Optional[ts.policy.BasePolicy] = None,\n",
    "          test_epsilon: float = 0.05, # For the watching we act completely greedy but low random for not getting stuck on invalid move\n",
    "          render_speed: float = 0.15, # Amount of seconds to update frame/ do a step\n",
    "          ) -> None:\n",
    "    \n",
    "    # Get the connect four V2 environment (must be a list)\n",
    "    env= ts.env.DummyVectorEnv([get_env])\n",
    "    \n",
    "    # Get the agents from the trained agents\n",
    "    policy, optim, agents = get_agents(agent_player1= agent_player1,\n",
    "                                       agent_player2= agent_player2)\n",
    "    \n",
    "    # Evaluate the policy\n",
    "    policy.eval()\n",
    "    \n",
    "    # Set the testing policy epsilon for our agents\n",
    "    policy.policies[agents[0]].set_eps(test_epsilon)\n",
    "    policy.policies[agents[1]].set_eps(test_epsilon)\n",
    "    \n",
    "    # Collect the test data\n",
    "    collector = ts.data.Collector(policy= policy,\n",
    "                                  env= env,\n",
    "                                  exploration_noise= True)\n",
    "    \n",
    "    # Render games in human mode to see how it plays\n",
    "    result = collector.collect(n_episode= numer_of_games, render= render_speed)\n",
    "    \n",
    "    # Close the environment aftering collecting the results\n",
    "    # This closes the pygame window after completion\n",
    "    env.close()\n",
    "    \n",
    "    # Get the rewards and length from the test trials\n",
    "    rewards, length = result[\"rews\"], result[\"lens\"]\n",
    "    \n",
    "    # Print the final reward for the first agent\n",
    "    print(f\"Average steps of game:  {length.mean()}\")\n",
    "    print(f\"Final mean reward agent 1: {rewards[:, 0].mean()}, std: {rewards[:, 0].std()}\")\n",
    "    print(f\"Final mean reward agent 2: {rewards[:, 1].mean()}, std: {rewards[:, 1].std()}\")"
   ]
  },
  {
   "cell_type": "markdown",
   "id": "c31784e9",
   "metadata": {},
   "source": [
    "<hr>\n",
    "\n",
    "### Doing the experiment\n",
    "\n",
    "We now do the experiment with using our previously created functions.\n",
    "We freeze one agent and initialize both agents from previous versions.\n",
    "\n",
    "The following iterations were made:\n",
    "\n",
    "1. Freeze agent 1, train agent 2:\n",
    "    - Model save name: `1-mlp_dqn_frozen_agent1` \n",
    "    - Agent 1 start: `./saved_variables/paper_notebooks/5/dqn_vs_dqn/best_policy_agent1.pth`\n",
    "    - Agent 2 start: `./saved_variables/paper_notebooks/5/dqn_vs_dqn/best_policy_agent2.pth`\n",
    "    - Learning rate: `0.0001`\n",
    "    - Training epsilon: `0.2`\n",
    "    - Look ahead steps: `4`\n",
    "    - Reward for move/invalid: `+1` / `-3`\n",
    "    - Allow invalid move: `False`\n",
    "    - Epochs: `1000`\n",
    "    - Gamma: `0.9`\n",
    "    - Best epoch: `1` with test reward `1102`\n",
    "    - Scoring: sum of `both` agent's score\n",
    "2. Freeze agent 2, train agent 1:\n",
    "    - Model save name: `2-mlp_dqn_frozen_agent2` \n",
    "    - Agent 1 start: `./saved_variables/paper_notebooks/5/dqn_vs_dqn/best_policy_agent1.pth`\n",
    "    - Agent 2 start: `./saved_variables/paper_notebooks/8/1-mlp_dqn_frozen_agent1/final_policy_agent2.pth`\n",
    "    - Learning rate: `0.0001`\n",
    "    - Training epsilon: `0.2`\n",
    "    - Look ahead steps: `4`\n",
    "    - Reward for move/invalid: `+1` / `-3`\n",
    "    - Allow invalid move: `False`\n",
    "    - Epochs: `1000`\n",
    "    - Gamma: `0.9`\n",
    "    - Best epoch: `482` with test reward `1102`\n",
    "    - Scoring: sum of `both` agent's score\n",
    "\n",
    "After which the agent was so focused on prolonging the game, we decided to lower the learning rate and start optimizing for winning again. We also lowered the amount of epochs in each iterations of swapping the frozen agent.\n",
    "\n",
    "3. Freeze agent 1, train agent 2:\n",
    "    - Model save name: `3-mlp_dqn_frozen_agent1` \n",
    "    - Agent 1 start: `./saved_variables/paper_notebooks/8/2-mlp_dqn_frozen_agent2/best_policy_agent1.pth`\n",
    "    - Agent 2 start: `./saved_variables/paper_notebooks/8/1-mlp_dqn_frozen_agent1/final_policy_agent2.pth`\n",
    "    - Learning rate: `0.00005` # halfed learning rate\n",
    "    - Training epsilon: `0.1` # halfed training epsilon\n",
    "    - Look ahead steps: `4`\n",
    "    - Reward for move/invalid: `0` / `-3`\n",
    "    - Allow invalid move: `False`\n",
    "    - Epochs: `500`\n",
    "    - Gamma: `0.8` # Lowered to not make agent want to play too fast again\n",
    "    - Best epoch: `7` with test reward `100`\n",
    "    - Scoring: reward of `agent 2`\n",
    "4. Freeze agent 2, train agent 1:\n",
    "    - Model save name: `4-mlp_dqn_frozen_agent2` \n",
    "    - Agent 1 start: `./saved_variables/paper_notebooks/8/2-mlp_dqn_frozen_agent2/best_policy_agent1.pth`\n",
    "    - Agent 2 start: `./saved_variables/paper_notebooks/8/3-mlp_dqn_frozen_agent1/final_policy_agent2.pth`\n",
    "    - Learning rate: `0.00005`\n",
    "    - Training epsilon: `0.1`\n",
    "    - Look ahead steps: `4`\n",
    "    - Reward for move/invalid: `0` / `-3`\n",
    "    - Allow invalid move: `False`\n",
    "    - Epochs: `500`\n",
    "    - Gamma: `0.8` # Lowered to not make agent want to play too fast again\n",
    "    - Best epoch: `XXX` with test reward `YYY`\n",
    "    - Scoring: reward of `agent 1`\n",
    "    \n",
    "To do further training, a loop was created which alternated between freezing agens every 50 epochs. This loop was executed 20 times. The learning rate was also lowered once again.\n",
    "\n",
    "5. Loop frozen agents:\n",
    "    - Model save name: `5-looping-iteration-i` \n",
    "    - Agent 1 start: `./saved_variables/paper_notebooks/8/4-mlp_dqn_frozen_agent2/best_policy_agent1.pth`\n",
    "    - Agent 2 start: `./saved_variables/paper_notebooks/8/3-mlp_dqn_frozen_agent1/best_policy_agent2.pth`\n",
    "    - Learning rate: `0.000001`\n",
    "    - Training epsilon: `0.1`\n",
    "    - Look ahead steps: `4`\n",
    "    - Reward for move/invalid: `0` / `-3`\n",
    "    - Allow invalid move: `False`\n",
    "    - Epochs: `50` x `20` loops \n",
    "    - Gamma: `0.8` # Lowered to not make agent want to play too fast again\n",
    "    - Best epoch: final epoch always taken to next round\n",
    "    - Scoring: reward of `non frozen agent`\n",
    "6. Loop frozen agents:\n",
    "    - Model save name: `6-looping-iteration-i` \n",
    "    - Agent 1 start: `./saved_variables/paper_notebooks/8/5-looping-iteration-19/best_policy_agent1.pth`\n",
    "    - Agent 2 start: `./saved_variables/paper_notebooks/8/5-looping-iteration-19/best_policy_agent2.pth`\n",
    "    - Learning rate: `0.000003`\n",
    "    - Training epsilon: `0.1`\n",
    "    - Look ahead steps: `8`\n",
    "    - Reward for move/invalid: `0` / `-3`\n",
    "    - Allow invalid move: `False`\n",
    "    - Epochs: `20` x `100` loops \n",
    "    - Gamma: `0.9` # Lowered to not make agent want to play too fast again\n",
    "    - Best epoch: final epoch always taken to next round\n",
    "    - Scoring: reward of `non frozen agent`\n",
    "7. Loop frozen agents:\n",
    "    - Model save name: `7-looping-iteration-i` \n",
    "    - Agent 1 start: `./saved_variables/paper_notebooks/8/6-looping-iteration-99/best_policy_agent1.pth`\n",
    "    - Agent 2 start: `./saved_variables/paper_notebooks/8/6-looping-iteration-99/best_policy_agent2.pth`\n",
    "    - Learning rate: `0.001`\n",
    "    - Training epsilon: `0.05`\n",
    "    - Look ahead steps: `8`\n",
    "    - Reward for move/invalid: `0` / `-3`\n",
    "    - Allow invalid move: `False`\n",
    "    - Epochs: `20` x `500` loops \n",
    "    - Gamma: `0.9` # Lowered to not make agent want to play too fast again\n",
    "    - Best epoch: final epoch always taken to next round\n",
    "    - Scoring: reward of `non frozen agent`\n",
    "\n",
    "For file size reasons, only a portion of the saved agents are kept and stored on GitHub.\n"
   ]
  },
  {
   "cell_type": "code",
   "execution_count": 14,
   "id": "93fe8961",
   "metadata": {
    "scrolled": true
   },
   "outputs": [
    {
     "name": "stderr",
     "output_type": "stream",
     "text": [
      "Epoch #1: 1025it [00:02, 442.19it/s, env_step=1024, len=13, n/ep=5, n/st=64, player_1/loss=2022.014, player_2/loss=11.597, rew=-25.00]                                                                                                                                                                                      \n"
     ]
    },
    {
     "name": "stdout",
     "output_type": "stream",
     "text": [
      "Epoch #1: test_reward: -25.000000 ± 0.000000, best_reward: -25.000000 ± 0.000000 in #0\n"
     ]
    },
    {
     "name": "stderr",
     "output_type": "stream",
     "text": [
      "Epoch #2: 1025it [00:02, 433.46it/s, env_step=2048, len=12, n/ep=5, n/st=64, player_1/loss=1742.202, player_2/loss=15.667, rew=-5.00]                                                                                                                                                                                       \n"
     ]
    },
    {
     "name": "stdout",
     "output_type": "stream",
     "text": [
      "Epoch #2: test_reward: -25.000000 ± 0.000000, best_reward: -25.000000 ± 0.000000 in #0\n"
     ]
    },
    {
     "name": "stderr",
     "output_type": "stream",
     "text": [
      "Epoch #3: 1025it [00:02, 465.65it/s, env_step=3072, len=8, n/ep=7, n/st=64, player_1/loss=1100.388, player_2/loss=42.151, rew=17.86]                                                                                                                                                                                        \n"
     ]
    },
    {
     "name": "stdout",
     "output_type": "stream",
     "text": [
      "Epoch #3: test_reward: 25.000000 ± 0.000000, best_reward: 25.000000 ± 0.000000 in #3\n"
     ]
    },
    {
     "name": "stderr",
     "output_type": "stream",
     "text": [
      "Epoch #4: 1025it [00:02, 446.26it/s, env_step=4096, len=12, n/ep=5, n/st=64, player_1/loss=645.603, player_2/loss=61.477, rew=-25.00]                                                                                                                                                                                       \n"
     ]
    },
    {
     "name": "stdout",
     "output_type": "stream",
     "text": [
      "Epoch #4: test_reward: -25.000000 ± 0.000000, best_reward: 25.000000 ± 0.000000 in #3\n"
     ]
    },
    {
     "name": "stderr",
     "output_type": "stream",
     "text": [
      "Epoch #5: 1025it [00:02, 468.58it/s, env_step=5120, len=12, n/ep=5, n/st=64, player_1/loss=433.571, player_2/loss=75.934, rew=-25.00]                                                                                                                                                                                       \n"
     ]
    },
    {
     "name": "stdout",
     "output_type": "stream",
     "text": [
      "Epoch #5: test_reward: -25.000000 ± 0.000000, best_reward: 25.000000 ± 0.000000 in #3\n"
     ]
    },
    {
     "name": "stderr",
     "output_type": "stream",
     "text": [
      "Epoch #6: 1025it [00:02, 463.57it/s, env_step=6144, len=8, n/ep=8, n/st=64, player_1/loss=485.334, player_2/loss=95.623, rew=-12.50]                                                                                                                                                                                        \n"
     ]
    },
    {
     "name": "stdout",
     "output_type": "stream",
     "text": [
      "Epoch #6: test_reward: 25.000000 ± 0.000000, best_reward: 25.000000 ± 0.000000 in #3\n"
     ]
    },
    {
     "name": "stderr",
     "output_type": "stream",
     "text": [
      "Epoch #7: 1025it [00:02, 429.41it/s, env_step=7168, len=12, n/ep=5, n/st=64, player_2/loss=79.297, rew=-25.00]                                                                                                                                                                                                              \n"
     ]
    },
    {
     "name": "stdout",
     "output_type": "stream",
     "text": [
      "Epoch #7: test_reward: -25.000000 ± 0.000000, best_reward: 25.000000 ± 0.000000 in #3\n"
     ]
    },
    {
     "name": "stderr",
     "output_type": "stream",
     "text": [
      "Epoch #8: 1025it [00:02, 456.50it/s, env_step=8192, len=13, n/ep=5, n/st=64, player_1/loss=600.770, player_2/loss=67.861, rew=-5.00]                                                                                                                                                                                        \n"
     ]
    },
    {
     "name": "stdout",
     "output_type": "stream",
     "text": [
      "Epoch #8: test_reward: -25.000000 ± 0.000000, best_reward: 25.000000 ± 0.000000 in #3\n"
     ]
    },
    {
     "name": "stderr",
     "output_type": "stream",
     "text": [
      "Epoch #9: 1025it [00:02, 464.79it/s, env_step=9216, len=11, n/ep=6, n/st=64, player_1/loss=425.118, player_2/loss=67.068, rew=-25.00]                                                                                                                                                                                       \n"
     ]
    },
    {
     "name": "stdout",
     "output_type": "stream",
     "text": [
      "Epoch #9: test_reward: -25.000000 ± 0.000000, best_reward: 25.000000 ± 0.000000 in #3\n"
     ]
    },
    {
     "name": "stderr",
     "output_type": "stream",
     "text": [
      "Epoch #10: 1025it [00:02, 465.52it/s, env_step=10240, len=8, n/ep=8, n/st=64, player_1/loss=309.031, rew=18.75]                                                                                                                                                                                                             \n"
     ]
    },
    {
     "name": "stdout",
     "output_type": "stream",
     "text": [
      "Epoch #10: test_reward: -25.000000 ± 0.000000, best_reward: 25.000000 ± 0.000000 in #3\n"
     ]
    },
    {
     "name": "stderr",
     "output_type": "stream",
     "text": [
      "Epoch #11: 1025it [00:02, 419.27it/s, env_step=11264, len=8, n/ep=8, n/st=64, player_1/loss=292.683, player_2/loss=136.683, rew=0.00]                                                                                                                                                                                       \n"
     ]
    },
    {
     "name": "stdout",
     "output_type": "stream",
     "text": [
      "Epoch #11: test_reward: -25.000000 ± 0.000000, best_reward: 25.000000 ± 0.000000 in #3\n"
     ]
    },
    {
     "name": "stderr",
     "output_type": "stream",
     "text": [
      "Epoch #12: 1025it [00:02, 453.42it/s, env_step=12288, len=7, n/ep=8, n/st=64, player_1/loss=213.679, player_2/loss=131.050, rew=25.00]                                                                                                                                                                                      \n"
     ]
    },
    {
     "name": "stdout",
     "output_type": "stream",
     "text": [
      "Epoch #12: test_reward: 25.000000 ± 0.000000, best_reward: 25.000000 ± 0.000000 in #3\n"
     ]
    },
    {
     "name": "stderr",
     "output_type": "stream",
     "text": [
      "Epoch #13: 1025it [00:02, 452.26it/s, env_step=13312, len=13, n/ep=4, n/st=64, player_1/loss=189.048, rew=0.00]                                                                                                                                                                                                             \n"
     ]
    },
    {
     "name": "stdout",
     "output_type": "stream",
     "text": [
      "Epoch #13: test_reward: -25.000000 ± 0.000000, best_reward: 25.000000 ± 0.000000 in #3\n"
     ]
    },
    {
     "name": "stderr",
     "output_type": "stream",
     "text": [
      "Epoch #14: 1025it [00:02, 447.54it/s, env_step=14336, len=17, n/ep=4, n/st=64, player_1/loss=252.485, player_2/loss=80.875, rew=-12.50]                                                                                                                                                                                     \n"
     ]
    },
    {
     "name": "stdout",
     "output_type": "stream",
     "text": [
      "Epoch #14: test_reward: 25.000000 ± 0.000000, best_reward: 25.000000 ± 0.000000 in #3\n"
     ]
    },
    {
     "name": "stderr",
     "output_type": "stream",
     "text": [
      "Epoch #15: 1025it [00:02, 451.35it/s, env_step=15360, len=11, n/ep=6, n/st=64, player_1/loss=260.541, player_2/loss=97.499, rew=-16.67]                                                                                                                                                                                     \n"
     ]
    },
    {
     "name": "stdout",
     "output_type": "stream",
     "text": [
      "Epoch #15: test_reward: -25.000000 ± 0.000000, best_reward: 25.000000 ± 0.000000 in #3\n"
     ]
    },
    {
     "name": "stderr",
     "output_type": "stream",
     "text": [
      "Epoch #16: 1025it [00:02, 451.34it/s, env_step=16384, len=12, n/ep=6, n/st=64, player_1/loss=206.075, player_2/loss=124.507, rew=-8.33]                                                                                                                                                                                     \n"
     ]
    },
    {
     "name": "stdout",
     "output_type": "stream",
     "text": [
      "Epoch #16: test_reward: -25.000000 ± 0.000000, best_reward: 25.000000 ± 0.000000 in #3\n"
     ]
    },
    {
     "name": "stderr",
     "output_type": "stream",
     "text": [
      "Epoch #17: 1025it [00:02, 400.33it/s, env_step=17408, len=9, n/ep=7, n/st=64, player_1/loss=181.370, player_2/loss=92.148, rew=17.86]                                                                                                                                                                                       \n"
     ]
    },
    {
     "name": "stdout",
     "output_type": "stream",
     "text": [
      "Epoch #17: test_reward: 25.000000 ± 0.000000, best_reward: 25.000000 ± 0.000000 in #3\n"
     ]
    },
    {
     "name": "stderr",
     "output_type": "stream",
     "text": [
      "Epoch #18: 1025it [00:02, 449.43it/s, env_step=18432, len=14, n/ep=4, n/st=64, player_1/loss=201.524, player_2/loss=75.970, rew=-12.50]                                                                                                                                                                                     \n"
     ]
    },
    {
     "name": "stdout",
     "output_type": "stream",
     "text": [
      "Epoch #18: test_reward: -25.000000 ± 0.000000, best_reward: 25.000000 ± 0.000000 in #3\n"
     ]
    },
    {
     "name": "stderr",
     "output_type": "stream",
     "text": [
      "Epoch #19: 1025it [00:02, 460.16it/s, env_step=19456, len=7, n/ep=8, n/st=64, player_1/loss=241.595, player_2/loss=120.174, rew=18.75]                                                                                                                                                                                      \n"
     ]
    },
    {
     "name": "stdout",
     "output_type": "stream",
     "text": [
      "Epoch #19: test_reward: 25.000000 ± 0.000000, best_reward: 25.000000 ± 0.000000 in #3\n"
     ]
    },
    {
     "name": "stderr",
     "output_type": "stream",
     "text": [
      "Epoch #20: 1025it [00:02, 461.43it/s, env_step=20480, len=23, n/ep=3, n/st=64, player_1/loss=214.584, player_2/loss=148.353, rew=-8.33]                                                                                                                                                                                     \n"
     ]
    },
    {
     "name": "stdout",
     "output_type": "stream",
     "text": [
      "Epoch #20: test_reward: -25.000000 ± 0.000000, best_reward: 25.000000 ± 0.000000 in #3\n"
     ]
    },
    {
     "name": "stderr",
     "output_type": "stream",
     "text": [
      "Epoch #21: 1025it [00:02, 472.07it/s, env_step=21504, len=15, n/ep=4, n/st=64, player_1/loss=196.548, player_2/loss=115.615, rew=-25.00]                                                                                                                                                                                    \n"
     ]
    },
    {
     "name": "stdout",
     "output_type": "stream",
     "text": [
      "Epoch #21: test_reward: -25.000000 ± 0.000000, best_reward: 25.000000 ± 0.000000 in #3\n"
     ]
    },
    {
     "name": "stderr",
     "output_type": "stream",
     "text": [
      "Epoch #22: 1025it [00:02, 420.49it/s, env_step=22528, len=8, n/ep=8, n/st=64, player_1/loss=196.362, player_2/loss=83.962, rew=18.75]                                                                                                                                                                                       \n"
     ]
    },
    {
     "name": "stdout",
     "output_type": "stream",
     "text": [
      "Epoch #22: test_reward: 25.000000 ± 0.000000, best_reward: 25.000000 ± 0.000000 in #3\n"
     ]
    },
    {
     "name": "stderr",
     "output_type": "stream",
     "text": [
      "Epoch #23: 1025it [00:03, 284.66it/s, env_step=23552, len=9, n/ep=6, n/st=64, player_1/loss=132.146, player_2/loss=76.293, rew=8.33]                                                                                                                                                                                        \n"
     ]
    },
    {
     "name": "stdout",
     "output_type": "stream",
     "text": [
      "Epoch #23: test_reward: 25.000000 ± 0.000000, best_reward: 25.000000 ± 0.000000 in #3\n"
     ]
    },
    {
     "name": "stderr",
     "output_type": "stream",
     "text": [
      "Epoch #24: 1025it [00:02, 346.75it/s, env_step=24576, len=11, n/ep=6, n/st=64, player_1/loss=126.760, player_2/loss=75.158, rew=0.00]                                                                                                                                                                                       \n"
     ]
    },
    {
     "name": "stdout",
     "output_type": "stream",
     "text": [
      "Epoch #24: test_reward: -25.000000 ± 0.000000, best_reward: 25.000000 ± 0.000000 in #3\n"
     ]
    },
    {
     "name": "stderr",
     "output_type": "stream",
     "text": [
      "Epoch #25: 1025it [00:02, 421.20it/s, env_step=25600, len=9, n/ep=6, n/st=64, player_1/loss=134.385, player_2/loss=68.029, rew=16.67]                                                                                                                                                                                       \n"
     ]
    },
    {
     "name": "stdout",
     "output_type": "stream",
     "text": [
      "Epoch #25: test_reward: -25.000000 ± 0.000000, best_reward: 25.000000 ± 0.000000 in #3\n"
     ]
    },
    {
     "name": "stderr",
     "output_type": "stream",
     "text": [
      "Epoch #26: 1025it [00:02, 397.28it/s, env_step=26624, len=12, n/ep=5, n/st=64, player_1/loss=136.754, player_2/loss=73.037, rew=15.00]                                                                                                                                                                                      \n"
     ]
    },
    {
     "name": "stdout",
     "output_type": "stream",
     "text": [
      "Epoch #26: test_reward: -25.000000 ± 0.000000, best_reward: 25.000000 ± 0.000000 in #3\n"
     ]
    },
    {
     "name": "stderr",
     "output_type": "stream",
     "text": [
      "Epoch #27: 1025it [00:02, 401.30it/s, env_step=27648, len=12, n/ep=5, n/st=64, player_1/loss=155.579, player_2/loss=63.990, rew=15.00]                                                                                                                                                                                      \n"
     ]
    },
    {
     "name": "stdout",
     "output_type": "stream",
     "text": [
      "Epoch #27: test_reward: -25.000000 ± 0.000000, best_reward: 25.000000 ± 0.000000 in #3\n"
     ]
    },
    {
     "name": "stderr",
     "output_type": "stream",
     "text": [
      "Epoch #28: 1025it [00:02, 386.34it/s, env_step=28672, len=14, n/ep=4, n/st=64, player_1/loss=162.885, player_2/loss=38.243, rew=12.50]                                                                                                                                                                                      \n"
     ]
    },
    {
     "name": "stdout",
     "output_type": "stream",
     "text": [
      "Epoch #28: test_reward: -25.000000 ± 0.000000, best_reward: 25.000000 ± 0.000000 in #3\n"
     ]
    },
    {
     "name": "stderr",
     "output_type": "stream",
     "text": [
      "Epoch #29: 1025it [00:02, 392.13it/s, env_step=29696, len=24, n/ep=3, n/st=64, player_1/loss=222.680, player_2/loss=80.634, rew=-25.00]                                                                                                                                                                                     \n"
     ]
    },
    {
     "name": "stdout",
     "output_type": "stream",
     "text": [
      "Epoch #29: test_reward: -25.000000 ± 0.000000, best_reward: 25.000000 ± 0.000000 in #3\n"
     ]
    },
    {
     "name": "stderr",
     "output_type": "stream",
     "text": [
      "Epoch #30: 1025it [00:02, 392.14it/s, env_step=30720, len=13, n/ep=5, n/st=64, player_1/loss=209.378, player_2/loss=82.140, rew=-25.00]                                                                                                                                                                                     \n"
     ]
    },
    {
     "name": "stdout",
     "output_type": "stream",
     "text": [
      "Epoch #30: test_reward: -25.000000 ± 0.000000, best_reward: 25.000000 ± 0.000000 in #3\n"
     ]
    },
    {
     "name": "stderr",
     "output_type": "stream",
     "text": [
      "Epoch #31: 1025it [00:02, 386.02it/s, env_step=31744, len=8, n/ep=8, n/st=64, player_1/loss=164.072, player_2/loss=72.011, rew=-18.75]                                                                                                                                                                                      \n"
     ]
    },
    {
     "name": "stdout",
     "output_type": "stream",
     "text": [
      "Epoch #31: test_reward: -25.000000 ± 0.000000, best_reward: 25.000000 ± 0.000000 in #3\n"
     ]
    },
    {
     "name": "stderr",
     "output_type": "stream",
     "text": [
      "Epoch #32: 1025it [00:02, 379.68it/s, env_step=32768, len=8, n/ep=7, n/st=64, player_1/loss=163.489, player_2/loss=75.523, rew=17.86]                                                                                                                                                                                       \n"
     ]
    },
    {
     "name": "stdout",
     "output_type": "stream",
     "text": [
      "Epoch #32: test_reward: 25.000000 ± 0.000000, best_reward: 25.000000 ± 0.000000 in #3\n"
     ]
    },
    {
     "name": "stderr",
     "output_type": "stream",
     "text": [
      "Epoch #33: 1025it [00:02, 356.50it/s, env_step=33792, len=7, n/ep=9, n/st=64, player_1/loss=132.454, player_2/loss=128.274, rew=25.00]                                                                                                                                                                                      \n"
     ]
    },
    {
     "name": "stdout",
     "output_type": "stream",
     "text": [
      "Epoch #33: test_reward: -25.000000 ± 0.000000, best_reward: 25.000000 ± 0.000000 in #3\n"
     ]
    },
    {
     "name": "stderr",
     "output_type": "stream",
     "text": [
      "Epoch #34: 1025it [00:02, 501.14it/s, env_step=34816, len=8, n/ep=8, n/st=64, player_1/loss=119.783, player_2/loss=176.550, rew=25.00]                                                                                                                                                                                      \n"
     ]
    },
    {
     "name": "stdout",
     "output_type": "stream",
     "text": [
      "Epoch #34: test_reward: 25.000000 ± 0.000000, best_reward: 25.000000 ± 0.000000 in #3\n"
     ]
    },
    {
     "name": "stderr",
     "output_type": "stream",
     "text": [
      "Epoch #35: 1025it [00:02, 501.21it/s, env_step=35840, len=7, n/ep=9, n/st=64, player_1/loss=104.310, player_2/loss=209.286, rew=19.44]                                                                                                                                                                                      \n"
     ]
    },
    {
     "name": "stdout",
     "output_type": "stream",
     "text": [
      "Epoch #35: test_reward: 25.000000 ± 0.000000, best_reward: 25.000000 ± 0.000000 in #3\n"
     ]
    },
    {
     "name": "stderr",
     "output_type": "stream",
     "text": [
      "Epoch #36: 1025it [00:02, 499.20it/s, env_step=36864, len=7, n/ep=8, n/st=64, player_1/loss=133.759, player_2/loss=210.242, rew=18.75]                                                                                                                                                                                      \n"
     ]
    },
    {
     "name": "stdout",
     "output_type": "stream",
     "text": [
      "Epoch #36: test_reward: 25.000000 ± 0.000000, best_reward: 25.000000 ± 0.000000 in #3\n"
     ]
    },
    {
     "name": "stderr",
     "output_type": "stream",
     "text": [
      "Epoch #37: 1025it [00:02, 499.56it/s, env_step=37888, len=7, n/ep=9, n/st=64, player_1/loss=118.603, player_2/loss=186.671, rew=19.44]                                                                                                                                                                                      \n"
     ]
    },
    {
     "name": "stdout",
     "output_type": "stream",
     "text": [
      "Epoch #37: test_reward: 25.000000 ± 0.000000, best_reward: 25.000000 ± 0.000000 in #3\n"
     ]
    },
    {
     "name": "stderr",
     "output_type": "stream",
     "text": [
      "Epoch #38: 1025it [00:02, 437.06it/s, env_step=38912, len=7, n/ep=8, n/st=64, player_1/loss=106.166, player_2/loss=177.873, rew=25.00]                                                                                                                                                                                      \n"
     ]
    },
    {
     "name": "stdout",
     "output_type": "stream",
     "text": [
      "Epoch #38: test_reward: 25.000000 ± 0.000000, best_reward: 25.000000 ± 0.000000 in #3\n"
     ]
    },
    {
     "name": "stderr",
     "output_type": "stream",
     "text": [
      "Epoch #39: 1025it [00:02, 474.42it/s, env_step=39936, len=7, n/ep=9, n/st=64, player_1/loss=110.499, player_2/loss=182.151, rew=19.44]                                                                                                                                                                                      \n"
     ]
    },
    {
     "name": "stdout",
     "output_type": "stream",
     "text": [
      "Epoch #39: test_reward: 25.000000 ± 0.000000, best_reward: 25.000000 ± 0.000000 in #3\n"
     ]
    },
    {
     "name": "stderr",
     "output_type": "stream",
     "text": [
      "Epoch #40: 1025it [00:02, 497.81it/s, env_step=40960, len=7, n/ep=9, n/st=64, player_1/loss=92.469, player_2/loss=190.819, rew=25.00]                                                                                                                                                                                       \n"
     ]
    },
    {
     "name": "stdout",
     "output_type": "stream",
     "text": [
      "Epoch #40: test_reward: 25.000000 ± 0.000000, best_reward: 25.000000 ± 0.000000 in #3\n"
     ]
    },
    {
     "name": "stderr",
     "output_type": "stream",
     "text": [
      "Epoch #41: 1025it [00:02, 499.94it/s, env_step=41984, len=9, n/ep=8, n/st=64, player_1/loss=98.877, player_2/loss=195.810, rew=18.75]                                                                                                                                                                                       \n"
     ]
    },
    {
     "name": "stdout",
     "output_type": "stream",
     "text": [
      "Epoch #41: test_reward: 25.000000 ± 0.000000, best_reward: 25.000000 ± 0.000000 in #3\n"
     ]
    },
    {
     "name": "stderr",
     "output_type": "stream",
     "text": [
      "Epoch #42: 1025it [00:02, 503.70it/s, env_step=43008, len=12, n/ep=5, n/st=64, player_1/loss=101.064, player_2/loss=163.632, rew=15.00]                                                                                                                                                                                     \n"
     ]
    },
    {
     "name": "stdout",
     "output_type": "stream",
     "text": [
      "Epoch #42: test_reward: 25.000000 ± 0.000000, best_reward: 25.000000 ± 0.000000 in #3\n"
     ]
    },
    {
     "name": "stderr",
     "output_type": "stream",
     "text": [
      "Epoch #43: 1025it [00:02, 500.05it/s, env_step=44032, len=7, n/ep=9, n/st=64, player_1/loss=86.360, player_2/loss=137.305, rew=19.44]                                                                                                                                                                                       \n"
     ]
    },
    {
     "name": "stdout",
     "output_type": "stream",
     "text": [
      "Epoch #43: test_reward: 25.000000 ± 0.000000, best_reward: 25.000000 ± 0.000000 in #3\n"
     ]
    },
    {
     "name": "stderr",
     "output_type": "stream",
     "text": [
      "Epoch #44: 1025it [00:02, 381.56it/s, env_step=45056, len=9, n/ep=7, n/st=64, player_1/loss=107.409, player_2/loss=161.815, rew=17.86]                                                                                                                                                                                      \n"
     ]
    },
    {
     "name": "stdout",
     "output_type": "stream",
     "text": [
      "Epoch #44: test_reward: 25.000000 ± 0.000000, best_reward: 25.000000 ± 0.000000 in #3\n"
     ]
    },
    {
     "name": "stderr",
     "output_type": "stream",
     "text": [
      "Epoch #45: 1025it [00:02, 413.25it/s, env_step=46080, len=12, n/ep=5, n/st=64, player_1/loss=144.332, player_2/loss=149.270, rew=5.00]                                                                                                                                                                                      \n"
     ]
    },
    {
     "name": "stdout",
     "output_type": "stream",
     "text": [
      "Epoch #45: test_reward: 25.000000 ± 0.000000, best_reward: 25.000000 ± 0.000000 in #3\n"
     ]
    },
    {
     "name": "stderr",
     "output_type": "stream",
     "text": [
      "Epoch #46: 1025it [00:02, 409.47it/s, env_step=47104, len=14, n/ep=4, n/st=64, player_1/loss=144.011, player_2/loss=97.763, rew=0.00]                                                                                                                                                                                       \n"
     ]
    },
    {
     "name": "stdout",
     "output_type": "stream",
     "text": [
      "Epoch #46: test_reward: -25.000000 ± 0.000000, best_reward: 25.000000 ± 0.000000 in #3\n"
     ]
    },
    {
     "name": "stderr",
     "output_type": "stream",
     "text": [
      "Epoch #47: 1025it [00:02, 415.08it/s, env_step=48128, len=8, n/ep=7, n/st=64, player_1/loss=146.102, player_2/loss=66.610, rew=-3.57]                                                                                                                                                                                       \n"
     ]
    },
    {
     "name": "stdout",
     "output_type": "stream",
     "text": [
      "Epoch #47: test_reward: 25.000000 ± 0.000000, best_reward: 25.000000 ± 0.000000 in #3\n"
     ]
    },
    {
     "name": "stderr",
     "output_type": "stream",
     "text": [
      "Epoch #48: 1025it [00:02, 378.67it/s, env_step=49152, len=8, n/ep=8, n/st=64, player_1/loss=121.218, player_2/loss=163.360, rew=6.25]                                                                                                                                                                                       \n"
     ]
    },
    {
     "name": "stdout",
     "output_type": "stream",
     "text": [
      "Epoch #48: test_reward: 25.000000 ± 0.000000, best_reward: 25.000000 ± 0.000000 in #3\n"
     ]
    },
    {
     "name": "stderr",
     "output_type": "stream",
     "text": [
      "Epoch #49: 1025it [00:03, 331.61it/s, env_step=50176, len=7, n/ep=8, n/st=64, player_1/loss=84.744, player_2/loss=233.976, rew=25.00]                                                                                                                                                                                       \n"
     ]
    },
    {
     "name": "stdout",
     "output_type": "stream",
     "text": [
      "Epoch #49: test_reward: 25.000000 ± 0.000000, best_reward: 25.000000 ± 0.000000 in #3\n"
     ]
    },
    {
     "name": "stderr",
     "output_type": "stream",
     "text": [
      "Epoch #50: 1025it [00:03, 334.86it/s, env_step=51200, len=8, n/ep=8, n/st=64, player_1/loss=87.681, player_2/loss=216.915, rew=25.00]                                                                                                                                                                                       \n"
     ]
    },
    {
     "name": "stdout",
     "output_type": "stream",
     "text": [
      "Epoch #50: test_reward: 25.000000 ± 0.000000, best_reward: 25.000000 ± 0.000000 in #3\n"
     ]
    },
    {
     "name": "stderr",
     "output_type": "stream",
     "text": [
      "Epoch #51: 1025it [00:03, 333.01it/s, env_step=52224, len=8, n/ep=7, n/st=64, player_1/loss=103.648, player_2/loss=213.279, rew=25.00]                                                                                                                                                                                      \n"
     ]
    },
    {
     "name": "stdout",
     "output_type": "stream",
     "text": [
      "Epoch #51: test_reward: 25.000000 ± 0.000000, best_reward: 25.000000 ± 0.000000 in #3\n"
     ]
    },
    {
     "name": "stderr",
     "output_type": "stream",
     "text": [
      "Epoch #52: 1025it [00:03, 337.39it/s, env_step=53248, len=8, n/ep=8, n/st=64, player_1/loss=107.901, player_2/loss=201.900, rew=18.75]                                                                                                                                                                                      \n"
     ]
    },
    {
     "name": "stdout",
     "output_type": "stream",
     "text": [
      "Epoch #52: test_reward: 25.000000 ± 0.000000, best_reward: 25.000000 ± 0.000000 in #3\n"
     ]
    },
    {
     "name": "stderr",
     "output_type": "stream",
     "text": [
      "Epoch #53: 1025it [00:03, 340.87it/s, env_step=54272, len=8, n/ep=7, n/st=64, player_1/loss=87.804, player_2/loss=178.385, rew=17.86]                                                                                                                                                                                       \n"
     ]
    },
    {
     "name": "stdout",
     "output_type": "stream",
     "text": [
      "Epoch #53: test_reward: 25.000000 ± 0.000000, best_reward: 25.000000 ± 0.000000 in #3\n"
     ]
    },
    {
     "name": "stderr",
     "output_type": "stream",
     "text": [
      "Epoch #54: 1025it [00:02, 351.50it/s, env_step=55296, len=7, n/ep=8, n/st=64, player_1/loss=81.156, player_2/loss=218.446, rew=18.75]                                                                                                                                                                                       \n"
     ]
    },
    {
     "name": "stdout",
     "output_type": "stream",
     "text": [
      "Epoch #54: test_reward: 25.000000 ± 0.000000, best_reward: 25.000000 ± 0.000000 in #3\n"
     ]
    },
    {
     "name": "stderr",
     "output_type": "stream",
     "text": [
      "Epoch #55: 1025it [00:03, 330.97it/s, env_step=56320, len=7, n/ep=8, n/st=64, player_1/loss=94.794, player_2/loss=226.127, rew=18.75]                                                                                                                                                                                       \n"
     ]
    },
    {
     "name": "stdout",
     "output_type": "stream",
     "text": [
      "Epoch #55: test_reward: 25.000000 ± 0.000000, best_reward: 25.000000 ± 0.000000 in #3\n"
     ]
    },
    {
     "name": "stderr",
     "output_type": "stream",
     "text": [
      "Epoch #56: 1025it [00:02, 345.00it/s, env_step=57344, len=7, n/ep=8, n/st=64, player_1/loss=117.649, player_2/loss=209.448, rew=18.75]                                                                                                                                                                                      \n"
     ]
    },
    {
     "name": "stdout",
     "output_type": "stream",
     "text": [
      "Epoch #56: test_reward: 25.000000 ± 0.000000, best_reward: 25.000000 ± 0.000000 in #3\n"
     ]
    },
    {
     "name": "stderr",
     "output_type": "stream",
     "text": [
      "Epoch #57: 1025it [00:02, 373.66it/s, env_step=58368, len=7, n/ep=8, n/st=64, player_1/loss=102.116, player_2/loss=173.214, rew=25.00]                                                                                                                                                                                      \n"
     ]
    },
    {
     "name": "stdout",
     "output_type": "stream",
     "text": [
      "Epoch #57: test_reward: 25.000000 ± 0.000000, best_reward: 25.000000 ± 0.000000 in #3\n"
     ]
    },
    {
     "name": "stderr",
     "output_type": "stream",
     "text": [
      "Epoch #58: 1025it [00:02, 423.29it/s, env_step=59392, len=7, n/ep=8, n/st=64, player_1/loss=91.403, rew=18.75]                                                                                                                                                                                                              \n"
     ]
    },
    {
     "name": "stdout",
     "output_type": "stream",
     "text": [
      "Epoch #58: test_reward: 25.000000 ± 0.000000, best_reward: 25.000000 ± 0.000000 in #3\n"
     ]
    },
    {
     "name": "stderr",
     "output_type": "stream",
     "text": [
      "Epoch #59: 1025it [00:02, 413.78it/s, env_step=60416, len=7, n/ep=8, n/st=64, player_1/loss=84.712, player_2/loss=155.689, rew=18.75]                                                                                                                                                                                       \n"
     ]
    },
    {
     "name": "stdout",
     "output_type": "stream",
     "text": [
      "Epoch #59: test_reward: -25.000000 ± 0.000000, best_reward: 25.000000 ± 0.000000 in #3\n"
     ]
    },
    {
     "name": "stderr",
     "output_type": "stream",
     "text": [
      "Epoch #60: 1025it [00:02, 411.30it/s, env_step=61440, len=8, n/ep=8, n/st=64, player_1/loss=76.180, player_2/loss=160.411, rew=18.75]                                                                                                                                                                                       \n"
     ]
    },
    {
     "name": "stdout",
     "output_type": "stream",
     "text": [
      "Epoch #60: test_reward: 25.000000 ± 0.000000, best_reward: 25.000000 ± 0.000000 in #3\n"
     ]
    },
    {
     "name": "stderr",
     "output_type": "stream",
     "text": [
      "Epoch #61: 1025it [00:02, 418.66it/s, env_step=62464, len=7, n/ep=8, n/st=64, player_1/loss=80.615, rew=18.75]                                                                                                                                                                                                              \n"
     ]
    },
    {
     "name": "stdout",
     "output_type": "stream",
     "text": [
      "Epoch #61: test_reward: 25.000000 ± 0.000000, best_reward: 25.000000 ± 0.000000 in #3\n"
     ]
    },
    {
     "name": "stderr",
     "output_type": "stream",
     "text": [
      "Epoch #62: 1025it [00:02, 461.52it/s, env_step=63488, len=7, n/ep=9, n/st=64, player_1/loss=80.767, player_2/loss=141.758, rew=13.89]                                                                                                                                                                                       \n"
     ]
    },
    {
     "name": "stdout",
     "output_type": "stream",
     "text": [
      "Epoch #62: test_reward: 25.000000 ± 0.000000, best_reward: 25.000000 ± 0.000000 in #3\n"
     ]
    },
    {
     "name": "stderr",
     "output_type": "stream",
     "text": [
      "Epoch #63: 1025it [00:02, 460.85it/s, env_step=64512, len=7, n/ep=8, n/st=64, player_1/loss=88.694, player_2/loss=127.863, rew=25.00]                                                                                                                                                                                       \n"
     ]
    },
    {
     "name": "stdout",
     "output_type": "stream",
     "text": [
      "Epoch #63: test_reward: 25.000000 ± 0.000000, best_reward: 25.000000 ± 0.000000 in #3\n"
     ]
    },
    {
     "name": "stderr",
     "output_type": "stream",
     "text": [
      "Epoch #64: 1025it [00:02, 435.54it/s, env_step=65536, len=8, n/ep=8, n/st=64, player_1/loss=93.617, player_2/loss=129.383, rew=12.50]                                                                                                                                                                                       \n"
     ]
    },
    {
     "name": "stdout",
     "output_type": "stream",
     "text": [
      "Epoch #64: test_reward: 25.000000 ± 0.000000, best_reward: 25.000000 ± 0.000000 in #3\n"
     ]
    },
    {
     "name": "stderr",
     "output_type": "stream",
     "text": [
      "Epoch #65: 1025it [00:02, 447.22it/s, env_step=66560, len=7, n/ep=9, n/st=64, player_1/loss=85.258, player_2/loss=166.592, rew=25.00]                                                                                                                                                                                       \n"
     ]
    },
    {
     "name": "stdout",
     "output_type": "stream",
     "text": [
      "Epoch #65: test_reward: 25.000000 ± 0.000000, best_reward: 25.000000 ± 0.000000 in #3\n"
     ]
    },
    {
     "name": "stderr",
     "output_type": "stream",
     "text": [
      "Epoch #66: 1025it [00:02, 456.52it/s, env_step=67584, len=7, n/ep=8, n/st=64, player_1/loss=72.867, player_2/loss=179.405, rew=18.75]                                                                                                                                                                                       \n"
     ]
    },
    {
     "name": "stdout",
     "output_type": "stream",
     "text": [
      "Epoch #66: test_reward: 25.000000 ± 0.000000, best_reward: 25.000000 ± 0.000000 in #3\n"
     ]
    },
    {
     "name": "stderr",
     "output_type": "stream",
     "text": [
      "Epoch #67: 1025it [00:02, 410.33it/s, env_step=68608, len=7, n/ep=10, n/st=64, player_1/loss=67.834, player_2/loss=174.164, rew=25.00]                                                                                                                                                                                      \n"
     ]
    },
    {
     "name": "stdout",
     "output_type": "stream",
     "text": [
      "Epoch #67: test_reward: 25.000000 ± 0.000000, best_reward: 25.000000 ± 0.000000 in #3\n"
     ]
    },
    {
     "name": "stderr",
     "output_type": "stream",
     "text": [
      "Epoch #68: 1025it [00:02, 450.48it/s, env_step=69632, len=8, n/ep=8, n/st=64, player_1/loss=94.634, player_2/loss=167.654, rew=6.25]                                                                                                                                                                                        \n"
     ]
    },
    {
     "name": "stdout",
     "output_type": "stream",
     "text": [
      "Epoch #68: test_reward: 25.000000 ± 0.000000, best_reward: 25.000000 ± 0.000000 in #3\n"
     ]
    },
    {
     "name": "stderr",
     "output_type": "stream",
     "text": [
      "Epoch #69: 1025it [00:02, 462.69it/s, env_step=70656, len=7, n/ep=9, n/st=64, player_1/loss=125.631, player_2/loss=223.951, rew=25.00]                                                                                                                                                                                      \n"
     ]
    },
    {
     "name": "stdout",
     "output_type": "stream",
     "text": [
      "Epoch #69: test_reward: 25.000000 ± 0.000000, best_reward: 25.000000 ± 0.000000 in #3\n"
     ]
    },
    {
     "name": "stderr",
     "output_type": "stream",
     "text": [
      "Epoch #70: 1025it [00:02, 443.42it/s, env_step=71680, len=8, n/ep=7, n/st=64, player_1/loss=89.174, player_2/loss=219.889, rew=17.86]                                                                                                                                                                                       \n"
     ]
    },
    {
     "name": "stdout",
     "output_type": "stream",
     "text": [
      "Epoch #70: test_reward: 25.000000 ± 0.000000, best_reward: 25.000000 ± 0.000000 in #3\n"
     ]
    },
    {
     "name": "stderr",
     "output_type": "stream",
     "text": [
      "Epoch #71: 1025it [00:02, 428.36it/s, env_step=72704, len=7, n/ep=9, n/st=64, player_1/loss=79.037, player_2/loss=229.253, rew=13.89]                                                                                                                                                                                       \n"
     ]
    },
    {
     "name": "stdout",
     "output_type": "stream",
     "text": [
      "Epoch #71: test_reward: 25.000000 ± 0.000000, best_reward: 25.000000 ± 0.000000 in #3\n"
     ]
    },
    {
     "name": "stderr",
     "output_type": "stream",
     "text": [
      "Epoch #72: 1025it [00:02, 414.74it/s, env_step=73728, len=8, n/ep=7, n/st=64, player_1/loss=93.661, player_2/loss=173.821, rew=10.71]                                                                                                                                                                                       \n"
     ]
    },
    {
     "name": "stdout",
     "output_type": "stream",
     "text": [
      "Epoch #72: test_reward: 25.000000 ± 0.000000, best_reward: 25.000000 ± 0.000000 in #3\n"
     ]
    },
    {
     "name": "stderr",
     "output_type": "stream",
     "text": [
      "Epoch #73: 1025it [00:02, 365.33it/s, env_step=74752, len=7, n/ep=8, n/st=64, player_1/loss=112.205, player_2/loss=172.404, rew=12.50]                                                                                                                                                                                      \n"
     ]
    },
    {
     "name": "stdout",
     "output_type": "stream",
     "text": [
      "Epoch #73: test_reward: 25.000000 ± 0.000000, best_reward: 25.000000 ± 0.000000 in #3\n"
     ]
    },
    {
     "name": "stderr",
     "output_type": "stream",
     "text": [
      "Epoch #74: 1025it [00:02, 386.77it/s, env_step=75776, len=8, n/ep=8, n/st=64, player_1/loss=111.528, player_2/loss=194.220, rew=6.25]                                                                                                                                                                                       \n"
     ]
    },
    {
     "name": "stdout",
     "output_type": "stream",
     "text": [
      "Epoch #74: test_reward: 25.000000 ± 0.000000, best_reward: 25.000000 ± 0.000000 in #3\n"
     ]
    },
    {
     "name": "stderr",
     "output_type": "stream",
     "text": [
      "Epoch #75: 1025it [00:02, 412.17it/s, env_step=76800, len=7, n/ep=9, n/st=64, player_1/loss=74.620, player_2/loss=202.324, rew=13.89]                                                                                                                                                                                       \n"
     ]
    },
    {
     "name": "stdout",
     "output_type": "stream",
     "text": [
      "Epoch #75: test_reward: 25.000000 ± 0.000000, best_reward: 25.000000 ± 0.000000 in #3\n"
     ]
    },
    {
     "name": "stderr",
     "output_type": "stream",
     "text": [
      "Epoch #76: 1025it [00:02, 465.82it/s, env_step=77824, len=8, n/ep=7, n/st=64, player_1/loss=102.407, player_2/loss=184.245, rew=17.86]                                                                                                                                                                                      \n"
     ]
    },
    {
     "name": "stdout",
     "output_type": "stream",
     "text": [
      "Epoch #76: test_reward: 25.000000 ± 0.000000, best_reward: 25.000000 ± 0.000000 in #3\n"
     ]
    },
    {
     "name": "stderr",
     "output_type": "stream",
     "text": [
      "Epoch #77: 1025it [00:02, 439.97it/s, env_step=78848, len=8, n/ep=8, n/st=64, player_1/loss=98.377, player_2/loss=167.940, rew=12.50]                                                                                                                                                                                       \n"
     ]
    },
    {
     "name": "stdout",
     "output_type": "stream",
     "text": [
      "Epoch #77: test_reward: 25.000000 ± 0.000000, best_reward: 25.000000 ± 0.000000 in #3\n"
     ]
    },
    {
     "name": "stderr",
     "output_type": "stream",
     "text": [
      "Epoch #78: 1025it [00:02, 403.20it/s, env_step=79872, len=8, n/ep=8, n/st=64, player_1/loss=61.168, player_2/loss=189.414, rew=18.75]                                                                                                                                                                                       \n"
     ]
    },
    {
     "name": "stdout",
     "output_type": "stream",
     "text": [
      "Epoch #78: test_reward: 25.000000 ± 0.000000, best_reward: 25.000000 ± 0.000000 in #3\n"
     ]
    },
    {
     "name": "stderr",
     "output_type": "stream",
     "text": [
      "Epoch #79: 1025it [00:02, 423.47it/s, env_step=80896, len=7, n/ep=9, n/st=64, player_1/loss=68.867, player_2/loss=210.129, rew=25.00]                                                                                                                                                                                       \n"
     ]
    },
    {
     "name": "stdout",
     "output_type": "stream",
     "text": [
      "Epoch #79: test_reward: -25.000000 ± 0.000000, best_reward: 25.000000 ± 0.000000 in #3\n"
     ]
    },
    {
     "name": "stderr",
     "output_type": "stream",
     "text": [
      "Epoch #80: 1025it [00:02, 460.33it/s, env_step=81920, len=9, n/ep=7, n/st=64, player_2/loss=213.185, rew=17.86]                                                                                                                                                                                                             \n"
     ]
    },
    {
     "name": "stdout",
     "output_type": "stream",
     "text": [
      "Epoch #80: test_reward: 25.000000 ± 0.000000, best_reward: 25.000000 ± 0.000000 in #3\n"
     ]
    },
    {
     "name": "stderr",
     "output_type": "stream",
     "text": [
      "Epoch #81: 1025it [00:02, 464.31it/s, env_step=82944, len=7, n/ep=8, n/st=64, player_1/loss=104.134, player_2/loss=205.841, rew=12.50]                                                                                                                                                                                      \n"
     ]
    },
    {
     "name": "stdout",
     "output_type": "stream",
     "text": [
      "Epoch #81: test_reward: 25.000000 ± 0.000000, best_reward: 25.000000 ± 0.000000 in #3\n"
     ]
    },
    {
     "name": "stderr",
     "output_type": "stream",
     "text": [
      "Epoch #82: 1025it [00:02, 456.99it/s, env_step=83968, len=7, n/ep=9, n/st=64, player_1/loss=78.877, player_2/loss=173.692, rew=25.00]                                                                                                                                                                                       \n"
     ]
    },
    {
     "name": "stdout",
     "output_type": "stream",
     "text": [
      "Epoch #82: test_reward: 25.000000 ± 0.000000, best_reward: 25.000000 ± 0.000000 in #3\n"
     ]
    },
    {
     "name": "stderr",
     "output_type": "stream",
     "text": [
      "Epoch #83: 1025it [00:02, 458.53it/s, env_step=84992, len=7, n/ep=8, n/st=64, player_1/loss=69.944, player_2/loss=177.017, rew=25.00]                                                                                                                                                                                       \n"
     ]
    },
    {
     "name": "stdout",
     "output_type": "stream",
     "text": [
      "Epoch #83: test_reward: 25.000000 ± 0.000000, best_reward: 25.000000 ± 0.000000 in #3\n"
     ]
    },
    {
     "name": "stderr",
     "output_type": "stream",
     "text": [
      "Epoch #84: 1025it [00:02, 469.33it/s, env_step=86016, len=9, n/ep=7, n/st=64, player_1/loss=86.692, player_2/loss=170.930, rew=3.57]                                                                                                                                                                                        \n"
     ]
    },
    {
     "name": "stdout",
     "output_type": "stream",
     "text": [
      "Epoch #84: test_reward: 25.000000 ± 0.000000, best_reward: 25.000000 ± 0.000000 in #3\n"
     ]
    },
    {
     "name": "stderr",
     "output_type": "stream",
     "text": [
      "Epoch #85: 1025it [00:02, 466.24it/s, env_step=87040, len=8, n/ep=7, n/st=64, player_1/loss=71.905, player_2/loss=155.342, rew=10.71]                                                                                                                                                                                       \n"
     ]
    },
    {
     "name": "stdout",
     "output_type": "stream",
     "text": [
      "Epoch #85: test_reward: 25.000000 ± 0.000000, best_reward: 25.000000 ± 0.000000 in #3\n"
     ]
    },
    {
     "name": "stderr",
     "output_type": "stream",
     "text": [
      "Epoch #86: 1025it [00:02, 444.83it/s, env_step=88064, len=8, n/ep=8, n/st=64, player_1/loss=75.772, player_2/loss=120.015, rew=18.75]                                                                                                                                                                                       \n"
     ]
    },
    {
     "name": "stdout",
     "output_type": "stream",
     "text": [
      "Epoch #86: test_reward: 25.000000 ± 0.000000, best_reward: 25.000000 ± 0.000000 in #3\n"
     ]
    },
    {
     "name": "stderr",
     "output_type": "stream",
     "text": [
      "Epoch #87: 1025it [00:02, 418.87it/s, env_step=89088, len=7, n/ep=9, n/st=64, player_1/loss=107.100, player_2/loss=161.238, rew=19.44]                                                                                                                                                                                      \n"
     ]
    },
    {
     "name": "stdout",
     "output_type": "stream",
     "text": [
      "Epoch #87: test_reward: 25.000000 ± 0.000000, best_reward: 25.000000 ± 0.000000 in #3\n"
     ]
    },
    {
     "name": "stderr",
     "output_type": "stream",
     "text": [
      "Epoch #88: 1025it [00:02, 383.28it/s, env_step=90112, len=8, n/ep=7, n/st=64, player_1/loss=107.158, player_2/loss=186.666, rew=17.86]                                                                                                                                                                                      \n"
     ]
    },
    {
     "name": "stdout",
     "output_type": "stream",
     "text": [
      "Epoch #88: test_reward: 25.000000 ± 0.000000, best_reward: 25.000000 ± 0.000000 in #3\n"
     ]
    },
    {
     "name": "stderr",
     "output_type": "stream",
     "text": [
      "Epoch #89: 1025it [00:02, 386.41it/s, env_step=91136, len=7, n/ep=9, n/st=64, player_1/loss=91.054, player_2/loss=187.761, rew=13.89]                                                                                                                                                                                       \n"
     ]
    },
    {
     "name": "stdout",
     "output_type": "stream",
     "text": [
      "Epoch #89: test_reward: 25.000000 ± 0.000000, best_reward: 25.000000 ± 0.000000 in #3\n"
     ]
    },
    {
     "name": "stderr",
     "output_type": "stream",
     "text": [
      "Epoch #90: 1025it [00:03, 286.91it/s, env_step=92160, len=7, n/ep=8, n/st=64, player_1/loss=76.490, player_2/loss=212.319, rew=6.25]                                                                                                                                                                                        \n"
     ]
    },
    {
     "name": "stdout",
     "output_type": "stream",
     "text": [
      "Epoch #90: test_reward: 25.000000 ± 0.000000, best_reward: 25.000000 ± 0.000000 in #3\n"
     ]
    },
    {
     "name": "stderr",
     "output_type": "stream",
     "text": [
      "Epoch #91: 1025it [00:03, 282.95it/s, env_step=93184, len=7, n/ep=8, n/st=64, player_1/loss=89.968, player_2/loss=180.039, rew=25.00]                                                                                                                                                                                       \n"
     ]
    },
    {
     "name": "stdout",
     "output_type": "stream",
     "text": [
      "Epoch #91: test_reward: 25.000000 ± 0.000000, best_reward: 25.000000 ± 0.000000 in #3\n"
     ]
    },
    {
     "name": "stderr",
     "output_type": "stream",
     "text": [
      "Epoch #92: 1025it [00:03, 307.04it/s, env_step=94208, len=8, n/ep=8, n/st=64, player_1/loss=92.440, player_2/loss=140.571, rew=25.00]                                                                                                                                                                                       \n"
     ]
    },
    {
     "name": "stdout",
     "output_type": "stream",
     "text": [
      "Epoch #92: test_reward: 25.000000 ± 0.000000, best_reward: 25.000000 ± 0.000000 in #3\n"
     ]
    },
    {
     "name": "stderr",
     "output_type": "stream",
     "text": [
      "Epoch #93: 1025it [00:03, 308.22it/s, env_step=95232, len=7, n/ep=8, n/st=64, player_1/loss=62.446, player_2/loss=178.222, rew=18.75]                                                                                                                                                                                       \n"
     ]
    },
    {
     "name": "stdout",
     "output_type": "stream",
     "text": [
      "Epoch #93: test_reward: 25.000000 ± 0.000000, best_reward: 25.000000 ± 0.000000 in #3\n"
     ]
    },
    {
     "name": "stderr",
     "output_type": "stream",
     "text": [
      "Epoch #94: 1025it [00:03, 311.35it/s, env_step=96256, len=8, n/ep=7, n/st=64, player_1/loss=48.369, player_2/loss=196.139, rew=17.86]                                                                                                                                                                                       \n"
     ]
    },
    {
     "name": "stdout",
     "output_type": "stream",
     "text": [
      "Epoch #94: test_reward: 25.000000 ± 0.000000, best_reward: 25.000000 ± 0.000000 in #3\n"
     ]
    },
    {
     "name": "stderr",
     "output_type": "stream",
     "text": [
      "Epoch #95: 1025it [00:03, 305.97it/s, env_step=97280, len=7, n/ep=9, n/st=64, player_1/loss=58.374, player_2/loss=192.158, rew=13.89]                                                                                                                                                                                       \n"
     ]
    },
    {
     "name": "stdout",
     "output_type": "stream",
     "text": [
      "Epoch #95: test_reward: 25.000000 ± 0.000000, best_reward: 25.000000 ± 0.000000 in #3\n"
     ]
    },
    {
     "name": "stderr",
     "output_type": "stream",
     "text": [
      "Epoch #96: 1025it [00:03, 307.08it/s, env_step=98304, len=7, n/ep=9, n/st=64, player_1/loss=81.229, player_2/loss=173.855, rew=13.89]                                                                                                                                                                                       \n"
     ]
    },
    {
     "name": "stdout",
     "output_type": "stream",
     "text": [
      "Epoch #96: test_reward: 25.000000 ± 0.000000, best_reward: 25.000000 ± 0.000000 in #3\n"
     ]
    },
    {
     "name": "stderr",
     "output_type": "stream",
     "text": [
      "Epoch #97: 1025it [00:03, 311.45it/s, env_step=99328, len=8, n/ep=7, n/st=64, player_1/loss=99.256, player_2/loss=215.782, rew=3.57]                                                                                                                                                                                        \n"
     ]
    },
    {
     "name": "stdout",
     "output_type": "stream",
     "text": [
      "Epoch #97: test_reward: 25.000000 ± 0.000000, best_reward: 25.000000 ± 0.000000 in #3\n"
     ]
    },
    {
     "name": "stderr",
     "output_type": "stream",
     "text": [
      "Epoch #98: 1025it [00:03, 317.29it/s, env_step=100352, len=7, n/ep=8, n/st=64, player_1/loss=79.125, player_2/loss=227.998, rew=25.00]                                                                                                                                                                                      \n"
     ]
    },
    {
     "name": "stdout",
     "output_type": "stream",
     "text": [
      "Epoch #98: test_reward: 25.000000 ± 0.000000, best_reward: 25.000000 ± 0.000000 in #3\n"
     ]
    },
    {
     "name": "stderr",
     "output_type": "stream",
     "text": [
      "Epoch #99: 1025it [00:03, 312.43it/s, env_step=101376, len=7, n/ep=9, n/st=64, player_1/loss=121.252, player_2/loss=171.999, rew=19.44]                                                                                                                                                                                     \n"
     ]
    },
    {
     "name": "stdout",
     "output_type": "stream",
     "text": [
      "Epoch #99: test_reward: 25.000000 ± 0.000000, best_reward: 25.000000 ± 0.000000 in #3\n"
     ]
    },
    {
     "name": "stderr",
     "output_type": "stream",
     "text": [
      "Epoch #100: 1025it [00:03, 303.96it/s, env_step=102400, len=8, n/ep=7, n/st=64, player_1/loss=118.944, player_2/loss=145.998, rew=17.86]                                                                                                                                                                                    \n"
     ]
    },
    {
     "name": "stdout",
     "output_type": "stream",
     "text": [
      "Epoch #100: test_reward: -25.000000 ± 0.000000, best_reward: 25.000000 ± 0.000000 in #3\n"
     ]
    },
    {
     "name": "stderr",
     "output_type": "stream",
     "text": [
      "Epoch #101: 1025it [00:03, 302.42it/s, env_step=103424, len=7, n/ep=8, n/st=64, player_1/loss=71.148, player_2/loss=136.338, rew=18.75]                                                                                                                                                                                     \n"
     ]
    },
    {
     "name": "stdout",
     "output_type": "stream",
     "text": [
      "Epoch #101: test_reward: 25.000000 ± 0.000000, best_reward: 25.000000 ± 0.000000 in #3\n"
     ]
    },
    {
     "name": "stderr",
     "output_type": "stream",
     "text": [
      "Epoch #102: 1025it [00:03, 314.07it/s, env_step=104448, len=7, n/ep=9, n/st=64, player_1/loss=105.578, player_2/loss=159.395, rew=8.33]                                                                                                                                                                                     \n"
     ]
    },
    {
     "name": "stdout",
     "output_type": "stream",
     "text": [
      "Epoch #102: test_reward: 25.000000 ± 0.000000, best_reward: 25.000000 ± 0.000000 in #3\n"
     ]
    },
    {
     "name": "stderr",
     "output_type": "stream",
     "text": [
      "Epoch #103: 1025it [00:03, 306.81it/s, env_step=105472, len=8, n/ep=8, n/st=64, player_1/loss=73.788, player_2/loss=158.880, rew=25.00]                                                                                                                                                                                     \n"
     ]
    },
    {
     "name": "stdout",
     "output_type": "stream",
     "text": [
      "Epoch #103: test_reward: 25.000000 ± 0.000000, best_reward: 25.000000 ± 0.000000 in #3\n"
     ]
    },
    {
     "name": "stderr",
     "output_type": "stream",
     "text": [
      "Epoch #104: 1025it [00:03, 308.87it/s, env_step=106496, len=9, n/ep=7, n/st=64, player_1/loss=64.979, player_2/loss=175.277, rew=17.86]                                                                                                                                                                                     \n"
     ]
    },
    {
     "name": "stdout",
     "output_type": "stream",
     "text": [
      "Epoch #104: test_reward: 25.000000 ± 0.000000, best_reward: 25.000000 ± 0.000000 in #3\n"
     ]
    },
    {
     "name": "stderr",
     "output_type": "stream",
     "text": [
      "Epoch #105: 1025it [00:03, 313.66it/s, env_step=107520, len=7, n/ep=7, n/st=64, player_1/loss=97.337, player_2/loss=162.604, rew=17.86]                                                                                                                                                                                     \n"
     ]
    },
    {
     "name": "stdout",
     "output_type": "stream",
     "text": [
      "Epoch #105: test_reward: 25.000000 ± 0.000000, best_reward: 25.000000 ± 0.000000 in #3\n"
     ]
    },
    {
     "name": "stderr",
     "output_type": "stream",
     "text": [
      "Epoch #106: 1025it [00:03, 314.78it/s, env_step=108544, len=7, n/ep=8, n/st=64, player_1/loss=94.368, player_2/loss=179.009, rew=25.00]                                                                                                                                                                                     \n"
     ]
    },
    {
     "name": "stdout",
     "output_type": "stream",
     "text": [
      "Epoch #106: test_reward: 25.000000 ± 0.000000, best_reward: 25.000000 ± 0.000000 in #3\n"
     ]
    },
    {
     "name": "stderr",
     "output_type": "stream",
     "text": [
      "Epoch #107: 1025it [00:03, 313.48it/s, env_step=109568, len=7, n/ep=9, n/st=64, player_1/loss=66.379, player_2/loss=194.806, rew=13.89]                                                                                                                                                                                     \n"
     ]
    },
    {
     "name": "stdout",
     "output_type": "stream",
     "text": [
      "Epoch #107: test_reward: 25.000000 ± 0.000000, best_reward: 25.000000 ± 0.000000 in #3\n"
     ]
    },
    {
     "name": "stderr",
     "output_type": "stream",
     "text": [
      "Epoch #108: 1025it [00:03, 300.44it/s, env_step=110592, len=9, n/ep=7, n/st=64, player_1/loss=53.531, player_2/loss=207.222, rew=3.57]                                                                                                                                                                                      \n"
     ]
    },
    {
     "name": "stdout",
     "output_type": "stream",
     "text": [
      "Epoch #108: test_reward: 25.000000 ± 0.000000, best_reward: 25.000000 ± 0.000000 in #3\n"
     ]
    },
    {
     "name": "stderr",
     "output_type": "stream",
     "text": [
      "Epoch #109: 1025it [00:03, 305.28it/s, env_step=111616, len=7, n/ep=8, n/st=64, player_1/loss=86.614, player_2/loss=231.488, rew=25.00]                                                                                                                                                                                     \n"
     ]
    },
    {
     "name": "stdout",
     "output_type": "stream",
     "text": [
      "Epoch #109: test_reward: 25.000000 ± 0.000000, best_reward: 25.000000 ± 0.000000 in #3\n"
     ]
    },
    {
     "name": "stderr",
     "output_type": "stream",
     "text": [
      "Epoch #110: 1025it [00:03, 305.49it/s, env_step=112640, len=7, n/ep=8, n/st=64, player_1/loss=120.435, player_2/loss=194.326, rew=25.00]                                                                                                                                                                                    \n"
     ]
    },
    {
     "name": "stdout",
     "output_type": "stream",
     "text": [
      "Epoch #110: test_reward: 25.000000 ± 0.000000, best_reward: 25.000000 ± 0.000000 in #3\n"
     ]
    },
    {
     "name": "stderr",
     "output_type": "stream",
     "text": [
      "Epoch #111: 1025it [00:02, 343.79it/s, env_step=113664, len=7, n/ep=9, n/st=64, player_1/loss=115.446, player_2/loss=218.790, rew=19.44]                                                                                                                                                                                    \n"
     ]
    },
    {
     "name": "stdout",
     "output_type": "stream",
     "text": [
      "Epoch #111: test_reward: 25.000000 ± 0.000000, best_reward: 25.000000 ± 0.000000 in #3\n"
     ]
    },
    {
     "name": "stderr",
     "output_type": "stream",
     "text": [
      "Epoch #112: 1025it [00:03, 323.41it/s, env_step=114688, len=7, n/ep=8, n/st=64, player_1/loss=70.387, player_2/loss=235.951, rew=12.50]                                                                                                                                                                                     \n"
     ]
    },
    {
     "name": "stdout",
     "output_type": "stream",
     "text": [
      "Epoch #112: test_reward: 25.000000 ± 0.000000, best_reward: 25.000000 ± 0.000000 in #3\n"
     ]
    },
    {
     "name": "stderr",
     "output_type": "stream",
     "text": [
      "Epoch #113: 1025it [00:03, 323.95it/s, env_step=115712, len=8, n/ep=8, n/st=64, player_1/loss=79.856, player_2/loss=221.406, rew=12.50]                                                                                                                                                                                     \n"
     ]
    },
    {
     "name": "stdout",
     "output_type": "stream",
     "text": [
      "Epoch #113: test_reward: 25.000000 ± 0.000000, best_reward: 25.000000 ± 0.000000 in #3\n"
     ]
    },
    {
     "name": "stderr",
     "output_type": "stream",
     "text": [
      "Epoch #114: 1025it [00:03, 325.85it/s, env_step=116736, len=7, n/ep=8, n/st=64, player_1/loss=94.603, player_2/loss=219.456, rew=18.75]                                                                                                                                                                                     \n"
     ]
    },
    {
     "name": "stdout",
     "output_type": "stream",
     "text": [
      "Epoch #114: test_reward: 25.000000 ± 0.000000, best_reward: 25.000000 ± 0.000000 in #3\n"
     ]
    },
    {
     "name": "stderr",
     "output_type": "stream",
     "text": [
      "Epoch #115: 1025it [00:03, 318.96it/s, env_step=117760, len=7, n/ep=9, n/st=64, player_1/loss=52.231, player_2/loss=205.951, rew=25.00]                                                                                                                                                                                     \n"
     ]
    },
    {
     "name": "stdout",
     "output_type": "stream",
     "text": [
      "Epoch #115: test_reward: 25.000000 ± 0.000000, best_reward: 25.000000 ± 0.000000 in #3\n"
     ]
    },
    {
     "name": "stderr",
     "output_type": "stream",
     "text": [
      "Epoch #116: 1025it [00:03, 332.40it/s, env_step=118784, len=8, n/ep=8, n/st=64, player_1/loss=37.257, player_2/loss=163.749, rew=6.25]                                                                                                                                                                                      \n"
     ]
    },
    {
     "name": "stdout",
     "output_type": "stream",
     "text": [
      "Epoch #116: test_reward: 25.000000 ± 0.000000, best_reward: 25.000000 ± 0.000000 in #3\n"
     ]
    },
    {
     "name": "stderr",
     "output_type": "stream",
     "text": [
      "Epoch #117: 1025it [00:03, 329.20it/s, env_step=119808, len=7, n/ep=8, n/st=64, player_1/loss=34.843, player_2/loss=152.278, rew=25.00]                                                                                                                                                                                     \n"
     ]
    },
    {
     "name": "stdout",
     "output_type": "stream",
     "text": [
      "Epoch #117: test_reward: 25.000000 ± 0.000000, best_reward: 25.000000 ± 0.000000 in #3\n"
     ]
    },
    {
     "name": "stderr",
     "output_type": "stream",
     "text": [
      "Epoch #118: 1025it [00:03, 326.89it/s, env_step=120832, len=7, n/ep=9, n/st=64, player_1/loss=54.257, player_2/loss=167.000, rew=19.44]                                                                                                                                                                                     \n"
     ]
    },
    {
     "name": "stdout",
     "output_type": "stream",
     "text": [
      "Epoch #118: test_reward: 25.000000 ± 0.000000, best_reward: 25.000000 ± 0.000000 in #3\n"
     ]
    },
    {
     "name": "stderr",
     "output_type": "stream",
     "text": [
      "Epoch #119: 1025it [00:03, 327.05it/s, env_step=121856, len=7, n/ep=9, n/st=64, player_1/loss=92.006, player_2/loss=201.907, rew=13.89]                                                                                                                                                                                     \n"
     ]
    },
    {
     "name": "stdout",
     "output_type": "stream",
     "text": [
      "Epoch #119: test_reward: 25.000000 ± 0.000000, best_reward: 25.000000 ± 0.000000 in #3\n"
     ]
    },
    {
     "name": "stderr",
     "output_type": "stream",
     "text": [
      "Epoch #120: 1025it [00:03, 328.40it/s, env_step=122880, len=7, n/ep=9, n/st=64, player_1/loss=88.109, player_2/loss=159.906, rew=19.44]                                                                                                                                                                                     \n"
     ]
    },
    {
     "name": "stdout",
     "output_type": "stream",
     "text": [
      "Epoch #120: test_reward: -25.000000 ± 0.000000, best_reward: 25.000000 ± 0.000000 in #3\n"
     ]
    },
    {
     "name": "stderr",
     "output_type": "stream",
     "text": [
      "Epoch #121: 1025it [00:03, 323.37it/s, env_step=123904, len=7, n/ep=9, n/st=64, player_1/loss=61.632, player_2/loss=169.764, rew=19.44]                                                                                                                                                                                     \n"
     ]
    },
    {
     "name": "stdout",
     "output_type": "stream",
     "text": [
      "Epoch #121: test_reward: 25.000000 ± 0.000000, best_reward: 25.000000 ± 0.000000 in #3\n"
     ]
    },
    {
     "name": "stderr",
     "output_type": "stream",
     "text": [
      "Epoch #122: 1025it [00:03, 321.27it/s, env_step=124928, len=7, n/ep=9, n/st=64, player_1/loss=78.783, player_2/loss=196.720, rew=8.33]                                                                                                                                                                                      \n"
     ]
    },
    {
     "name": "stdout",
     "output_type": "stream",
     "text": [
      "Epoch #122: test_reward: 25.000000 ± 0.000000, best_reward: 25.000000 ± 0.000000 in #3\n"
     ]
    },
    {
     "name": "stderr",
     "output_type": "stream",
     "text": [
      "Epoch #123: 1025it [00:03, 331.41it/s, env_step=125952, len=7, n/ep=8, n/st=64, player_1/loss=92.614, player_2/loss=187.683, rew=18.75]                                                                                                                                                                                     \n"
     ]
    },
    {
     "name": "stdout",
     "output_type": "stream",
     "text": [
      "Epoch #123: test_reward: 25.000000 ± 0.000000, best_reward: 25.000000 ± 0.000000 in #3\n"
     ]
    },
    {
     "name": "stderr",
     "output_type": "stream",
     "text": [
      "Epoch #124: 1025it [00:03, 336.37it/s, env_step=126976, len=8, n/ep=8, n/st=64, player_1/loss=97.491, player_2/loss=149.428, rew=18.75]                                                                                                                                                                                     \n"
     ]
    },
    {
     "name": "stdout",
     "output_type": "stream",
     "text": [
      "Epoch #124: test_reward: 25.000000 ± 0.000000, best_reward: 25.000000 ± 0.000000 in #3\n"
     ]
    },
    {
     "name": "stderr",
     "output_type": "stream",
     "text": [
      "Epoch #125: 1025it [00:03, 320.65it/s, env_step=128000, len=7, n/ep=8, n/st=64, player_1/loss=65.184, player_2/loss=177.337, rew=18.75]                                                                                                                                                                                     \n"
     ]
    },
    {
     "name": "stdout",
     "output_type": "stream",
     "text": [
      "Epoch #125: test_reward: 25.000000 ± 0.000000, best_reward: 25.000000 ± 0.000000 in #3\n"
     ]
    },
    {
     "name": "stderr",
     "output_type": "stream",
     "text": [
      "Epoch #126: 1025it [00:03, 318.31it/s, env_step=129024, len=7, n/ep=8, n/st=64, player_1/loss=26.093, player_2/loss=188.666, rew=25.00]                                                                                                                                                                                     \n"
     ]
    },
    {
     "name": "stdout",
     "output_type": "stream",
     "text": [
      "Epoch #126: test_reward: 25.000000 ± 0.000000, best_reward: 25.000000 ± 0.000000 in #3\n"
     ]
    },
    {
     "name": "stderr",
     "output_type": "stream",
     "text": [
      "Epoch #127: 1025it [00:03, 336.47it/s, env_step=130048, len=8, n/ep=7, n/st=64, player_1/loss=30.337, player_2/loss=192.411, rew=17.86]                                                                                                                                                                                     \n"
     ]
    },
    {
     "name": "stdout",
     "output_type": "stream",
     "text": [
      "Epoch #127: test_reward: 25.000000 ± 0.000000, best_reward: 25.000000 ± 0.000000 in #3\n"
     ]
    },
    {
     "name": "stderr",
     "output_type": "stream",
     "text": [
      "Epoch #128: 1025it [00:04, 234.24it/s, env_step=131072, len=8, n/ep=8, n/st=64, player_1/loss=37.555, player_2/loss=162.305, rew=12.50]                                                                                                                                                                                     \n"
     ]
    },
    {
     "name": "stdout",
     "output_type": "stream",
     "text": [
      "Epoch #128: test_reward: 25.000000 ± 0.000000, best_reward: 25.000000 ± 0.000000 in #3\n"
     ]
    },
    {
     "name": "stderr",
     "output_type": "stream",
     "text": [
      "Epoch #129: 1025it [00:04, 240.12it/s, env_step=132096, len=8, n/ep=8, n/st=64, player_1/loss=91.519, player_2/loss=168.992, rew=12.50]                                                                                                                                                                                     \n"
     ]
    },
    {
     "name": "stdout",
     "output_type": "stream",
     "text": [
      "Epoch #129: test_reward: -25.000000 ± 0.000000, best_reward: 25.000000 ± 0.000000 in #3\n"
     ]
    },
    {
     "name": "stderr",
     "output_type": "stream",
     "text": [
      "Epoch #130: 1025it [00:03, 275.21it/s, env_step=133120, len=8, n/ep=8, n/st=64, player_1/loss=70.032, player_2/loss=208.708, rew=12.50]                                                                                                                                                                                     \n"
     ]
    },
    {
     "name": "stdout",
     "output_type": "stream",
     "text": [
      "Epoch #130: test_reward: 25.000000 ± 0.000000, best_reward: 25.000000 ± 0.000000 in #3\n"
     ]
    },
    {
     "name": "stderr",
     "output_type": "stream",
     "text": [
      "Epoch #131: 1025it [00:04, 224.83it/s, env_step=134144, len=8, n/ep=9, n/st=64, player_1/loss=67.076, player_2/loss=216.903, rew=8.33]                                                                                                                                                                                      \n"
     ]
    },
    {
     "name": "stdout",
     "output_type": "stream",
     "text": [
      "Epoch #131: test_reward: 25.000000 ± 0.000000, best_reward: 25.000000 ± 0.000000 in #3\n"
     ]
    },
    {
     "name": "stderr",
     "output_type": "stream",
     "text": [
      "Epoch #132: 1025it [00:04, 224.55it/s, env_step=135168, len=7, n/ep=8, n/st=64, player_1/loss=70.282, player_2/loss=255.520, rew=18.75]                                                                                                                                                                                     \n"
     ]
    },
    {
     "name": "stdout",
     "output_type": "stream",
     "text": [
      "Epoch #132: test_reward: 25.000000 ± 0.000000, best_reward: 25.000000 ± 0.000000 in #3\n"
     ]
    },
    {
     "name": "stderr",
     "output_type": "stream",
     "text": [
      "Epoch #133: 1025it [00:04, 224.88it/s, env_step=136192, len=7, n/ep=8, n/st=64, player_1/loss=55.648, player_2/loss=234.865, rew=18.75]                                                                                                                                                                                     \n"
     ]
    },
    {
     "name": "stdout",
     "output_type": "stream",
     "text": [
      "Epoch #133: test_reward: 25.000000 ± 0.000000, best_reward: 25.000000 ± 0.000000 in #3\n"
     ]
    },
    {
     "name": "stderr",
     "output_type": "stream",
     "text": [
      "Epoch #134: 1025it [00:03, 267.21it/s, env_step=137216, len=8, n/ep=8, n/st=64, player_1/loss=62.461, player_2/loss=219.757, rew=25.00]                                                                                                                                                                                     \n"
     ]
    },
    {
     "name": "stdout",
     "output_type": "stream",
     "text": [
      "Epoch #134: test_reward: 25.000000 ± 0.000000, best_reward: 25.000000 ± 0.000000 in #3\n"
     ]
    },
    {
     "name": "stderr",
     "output_type": "stream",
     "text": [
      "Epoch #135: 1025it [00:03, 256.31it/s, env_step=138240, len=7, n/ep=8, n/st=64, player_1/loss=81.927, player_2/loss=214.278, rew=25.00]                                                                                                                                                                                     \n"
     ]
    },
    {
     "name": "stdout",
     "output_type": "stream",
     "text": [
      "Epoch #135: test_reward: 25.000000 ± 0.000000, best_reward: 25.000000 ± 0.000000 in #3\n"
     ]
    },
    {
     "name": "stderr",
     "output_type": "stream",
     "text": [
      "Epoch #136: 1025it [00:04, 255.15it/s, env_step=139264, len=7, n/ep=9, n/st=64, player_1/loss=85.010, player_2/loss=210.222, rew=19.44]                                                                                                                                                                                     \n"
     ]
    },
    {
     "name": "stdout",
     "output_type": "stream",
     "text": [
      "Epoch #136: test_reward: 25.000000 ± 0.000000, best_reward: 25.000000 ± 0.000000 in #3\n"
     ]
    },
    {
     "name": "stderr",
     "output_type": "stream",
     "text": [
      "Epoch #137: 1025it [00:04, 251.26it/s, env_step=140288, len=9, n/ep=6, n/st=64, player_1/loss=77.277, player_2/loss=188.187, rew=8.33]                                                                                                                                                                                      \n"
     ]
    },
    {
     "name": "stdout",
     "output_type": "stream",
     "text": [
      "Epoch #137: test_reward: 25.000000 ± 0.000000, best_reward: 25.000000 ± 0.000000 in #3\n"
     ]
    },
    {
     "name": "stderr",
     "output_type": "stream",
     "text": [
      "Epoch #138: 1025it [00:04, 255.97it/s, env_step=141312, len=7, n/ep=9, n/st=64, player_1/loss=91.067, player_2/loss=150.226, rew=19.44]                                                                                                                                                                                     \n"
     ]
    },
    {
     "name": "stdout",
     "output_type": "stream",
     "text": [
      "Epoch #138: test_reward: 25.000000 ± 0.000000, best_reward: 25.000000 ± 0.000000 in #3\n"
     ]
    },
    {
     "name": "stderr",
     "output_type": "stream",
     "text": [
      "Epoch #139: 1025it [00:04, 254.02it/s, env_step=142336, len=8, n/ep=8, n/st=64, player_1/loss=56.213, player_2/loss=149.035, rew=12.50]                                                                                                                                                                                     \n"
     ]
    },
    {
     "name": "stdout",
     "output_type": "stream",
     "text": [
      "Epoch #139: test_reward: -25.000000 ± 0.000000, best_reward: 25.000000 ± 0.000000 in #3\n"
     ]
    },
    {
     "name": "stderr",
     "output_type": "stream",
     "text": [
      "Epoch #140: 1025it [00:04, 255.68it/s, env_step=143360, len=7, n/ep=8, n/st=64, player_1/loss=69.760, player_2/loss=147.370, rew=25.00]                                                                                                                                                                                     \n"
     ]
    },
    {
     "name": "stdout",
     "output_type": "stream",
     "text": [
      "Epoch #140: test_reward: 25.000000 ± 0.000000, best_reward: 25.000000 ± 0.000000 in #3\n"
     ]
    },
    {
     "name": "stderr",
     "output_type": "stream",
     "text": [
      "Epoch #141: 1025it [00:04, 254.40it/s, env_step=144384, len=7, n/ep=9, n/st=64, player_1/loss=63.735, player_2/loss=170.487, rew=25.00]                                                                                                                                                                                     \n"
     ]
    },
    {
     "name": "stdout",
     "output_type": "stream",
     "text": [
      "Epoch #141: test_reward: 25.000000 ± 0.000000, best_reward: 25.000000 ± 0.000000 in #3\n"
     ]
    },
    {
     "name": "stderr",
     "output_type": "stream",
     "text": [
      "Epoch #142: 1025it [00:04, 254.77it/s, env_step=145408, len=7, n/ep=8, n/st=64, player_1/loss=49.338, player_2/loss=178.220, rew=6.25]                                                                                                                                                                                      \n"
     ]
    },
    {
     "name": "stdout",
     "output_type": "stream",
     "text": [
      "Epoch #142: test_reward: 25.000000 ± 0.000000, best_reward: 25.000000 ± 0.000000 in #3\n"
     ]
    },
    {
     "name": "stderr",
     "output_type": "stream",
     "text": [
      "Epoch #143: 1025it [00:04, 246.53it/s, env_step=146432, len=7, n/ep=9, n/st=64, player_1/loss=58.503, player_2/loss=209.141, rew=19.44]                                                                                                                                                                                     \n"
     ]
    },
    {
     "name": "stdout",
     "output_type": "stream",
     "text": [
      "Epoch #143: test_reward: 25.000000 ± 0.000000, best_reward: 25.000000 ± 0.000000 in #3\n"
     ]
    },
    {
     "name": "stderr",
     "output_type": "stream",
     "text": [
      "Epoch #144: 1025it [00:03, 259.25it/s, env_step=147456, len=9, n/ep=8, n/st=64, player_1/loss=60.040, player_2/loss=203.410, rew=12.50]                                                                                                                                                                                     \n"
     ]
    },
    {
     "name": "stdout",
     "output_type": "stream",
     "text": [
      "Epoch #144: test_reward: 25.000000 ± 0.000000, best_reward: 25.000000 ± 0.000000 in #3\n"
     ]
    },
    {
     "name": "stderr",
     "output_type": "stream",
     "text": [
      "Epoch #145: 1025it [00:04, 252.97it/s, env_step=148480, len=8, n/ep=8, n/st=64, player_1/loss=94.545, player_2/loss=200.367, rew=18.75]                                                                                                                                                                                     \n"
     ]
    },
    {
     "name": "stdout",
     "output_type": "stream",
     "text": [
      "Epoch #145: test_reward: 25.000000 ± 0.000000, best_reward: 25.000000 ± 0.000000 in #3\n"
     ]
    },
    {
     "name": "stderr",
     "output_type": "stream",
     "text": [
      "Epoch #146: 1025it [00:04, 250.12it/s, env_step=149504, len=7, n/ep=9, n/st=64, player_1/loss=87.234, player_2/loss=172.543, rew=19.44]                                                                                                                                                                                     \n"
     ]
    },
    {
     "name": "stdout",
     "output_type": "stream",
     "text": [
      "Epoch #146: test_reward: 25.000000 ± 0.000000, best_reward: 25.000000 ± 0.000000 in #3\n"
     ]
    },
    {
     "name": "stderr",
     "output_type": "stream",
     "text": [
      "Epoch #147: 1025it [00:03, 302.27it/s, env_step=150528, len=7, n/ep=9, n/st=64, player_1/loss=54.756, player_2/loss=172.659, rew=25.00]                                                                                                                                                                                     \n"
     ]
    },
    {
     "name": "stdout",
     "output_type": "stream",
     "text": [
      "Epoch #147: test_reward: 25.000000 ± 0.000000, best_reward: 25.000000 ± 0.000000 in #3\n"
     ]
    },
    {
     "name": "stderr",
     "output_type": "stream",
     "text": [
      "Epoch #148: 1025it [00:04, 255.25it/s, env_step=151552, len=9, n/ep=7, n/st=64, player_1/loss=38.988, player_2/loss=148.661, rew=25.00]                                                                                                                                                                                     \n"
     ]
    },
    {
     "name": "stdout",
     "output_type": "stream",
     "text": [
      "Epoch #148: test_reward: 25.000000 ± 0.000000, best_reward: 25.000000 ± 0.000000 in #3\n"
     ]
    },
    {
     "name": "stderr",
     "output_type": "stream",
     "text": [
      "Epoch #149: 1025it [00:04, 254.86it/s, env_step=152576, len=7, n/ep=8, n/st=64, player_1/loss=57.756, player_2/loss=146.243, rew=18.75]                                                                                                                                                                                     \n"
     ]
    },
    {
     "name": "stdout",
     "output_type": "stream",
     "text": [
      "Epoch #149: test_reward: 25.000000 ± 0.000000, best_reward: 25.000000 ± 0.000000 in #3\n"
     ]
    },
    {
     "name": "stderr",
     "output_type": "stream",
     "text": [
      "Epoch #150: 1025it [00:04, 255.52it/s, env_step=153600, len=8, n/ep=8, n/st=64, player_1/loss=74.702, player_2/loss=174.708, rew=12.50]                                                                                                                                                                                     \n"
     ]
    },
    {
     "name": "stdout",
     "output_type": "stream",
     "text": [
      "Epoch #150: test_reward: -25.000000 ± 0.000000, best_reward: 25.000000 ± 0.000000 in #3\n"
     ]
    },
    {
     "name": "stderr",
     "output_type": "stream",
     "text": [
      "Epoch #151: 1025it [00:04, 249.75it/s, env_step=154624, len=7, n/ep=9, n/st=64, player_1/loss=50.207, player_2/loss=179.444, rew=19.44]                                                                                                                                                                                     \n"
     ]
    },
    {
     "name": "stdout",
     "output_type": "stream",
     "text": [
      "Epoch #151: test_reward: 25.000000 ± 0.000000, best_reward: 25.000000 ± 0.000000 in #3\n"
     ]
    },
    {
     "name": "stderr",
     "output_type": "stream",
     "text": [
      "Epoch #152: 1025it [00:04, 246.46it/s, env_step=155648, len=8, n/ep=8, n/st=64, player_1/loss=103.464, player_2/loss=207.412, rew=12.50]                                                                                                                                                                                    \n"
     ]
    },
    {
     "name": "stdout",
     "output_type": "stream",
     "text": [
      "Epoch #152: test_reward: 25.000000 ± 0.000000, best_reward: 25.000000 ± 0.000000 in #3\n"
     ]
    },
    {
     "name": "stderr",
     "output_type": "stream",
     "text": [
      "Epoch #153: 1025it [00:04, 243.11it/s, env_step=156672, len=7, n/ep=9, n/st=64, player_1/loss=88.718, player_2/loss=205.128, rew=25.00]                                                                                                                                                                                     \n"
     ]
    },
    {
     "name": "stdout",
     "output_type": "stream",
     "text": [
      "Epoch #153: test_reward: 25.000000 ± 0.000000, best_reward: 25.000000 ± 0.000000 in #3\n"
     ]
    },
    {
     "name": "stderr",
     "output_type": "stream",
     "text": [
      "Epoch #154: 1025it [00:04, 233.39it/s, env_step=157696, len=8, n/ep=6, n/st=64, player_1/loss=49.485, player_2/loss=211.226, rew=25.00]                                                                                                                                                                                     \n"
     ]
    },
    {
     "name": "stdout",
     "output_type": "stream",
     "text": [
      "Epoch #154: test_reward: 25.000000 ± 0.000000, best_reward: 25.000000 ± 0.000000 in #3\n"
     ]
    },
    {
     "name": "stderr",
     "output_type": "stream",
     "text": [
      "Epoch #155: 1025it [00:04, 232.00it/s, env_step=158720, len=7, n/ep=8, n/st=64, player_1/loss=53.337, player_2/loss=213.836, rew=18.75]                                                                                                                                                                                     \n"
     ]
    },
    {
     "name": "stdout",
     "output_type": "stream",
     "text": [
      "Epoch #155: test_reward: 25.000000 ± 0.000000, best_reward: 25.000000 ± 0.000000 in #3\n"
     ]
    },
    {
     "name": "stderr",
     "output_type": "stream",
     "text": [
      "Epoch #156: 1025it [00:04, 237.24it/s, env_step=159744, len=8, n/ep=8, n/st=64, player_1/loss=38.595, player_2/loss=188.265, rew=18.75]                                                                                                                                                                                     \n"
     ]
    },
    {
     "name": "stdout",
     "output_type": "stream",
     "text": [
      "Epoch #156: test_reward: 25.000000 ± 0.000000, best_reward: 25.000000 ± 0.000000 in #3\n"
     ]
    },
    {
     "name": "stderr",
     "output_type": "stream",
     "text": [
      "Epoch #157: 1025it [00:04, 243.14it/s, env_step=160768, len=7, n/ep=9, n/st=64, player_1/loss=86.172, player_2/loss=164.879, rew=19.44]                                                                                                                                                                                     \n"
     ]
    },
    {
     "name": "stdout",
     "output_type": "stream",
     "text": [
      "Epoch #157: test_reward: 25.000000 ± 0.000000, best_reward: 25.000000 ± 0.000000 in #3\n"
     ]
    },
    {
     "name": "stderr",
     "output_type": "stream",
     "text": [
      "Epoch #158: 1025it [00:04, 239.36it/s, env_step=161792, len=7, n/ep=8, n/st=64, player_1/loss=44.116, player_2/loss=170.439, rew=12.50]                                                                                                                                                                                     \n"
     ]
    },
    {
     "name": "stdout",
     "output_type": "stream",
     "text": [
      "Epoch #158: test_reward: -25.000000 ± 0.000000, best_reward: 25.000000 ± 0.000000 in #3\n"
     ]
    },
    {
     "name": "stderr",
     "output_type": "stream",
     "text": [
      "Epoch #159: 1025it [00:03, 260.90it/s, env_step=162816, len=7, n/ep=9, n/st=64, player_1/loss=40.071, player_2/loss=218.968, rew=25.00]                                                                                                                                                                                     \n"
     ]
    },
    {
     "name": "stdout",
     "output_type": "stream",
     "text": [
      "Epoch #159: test_reward: 25.000000 ± 0.000000, best_reward: 25.000000 ± 0.000000 in #3\n"
     ]
    },
    {
     "name": "stderr",
     "output_type": "stream",
     "text": [
      "Epoch #160: 1025it [00:04, 252.08it/s, env_step=163840, len=8, n/ep=8, n/st=64, player_1/loss=73.209, player_2/loss=207.615, rew=18.75]                                                                                                                                                                                     \n"
     ]
    },
    {
     "name": "stdout",
     "output_type": "stream",
     "text": [
      "Epoch #160: test_reward: 25.000000 ± 0.000000, best_reward: 25.000000 ± 0.000000 in #3\n"
     ]
    },
    {
     "name": "stderr",
     "output_type": "stream",
     "text": [
      "Epoch #161: 1025it [00:03, 302.69it/s, env_step=164864, len=10, n/ep=6, n/st=64, player_1/loss=63.959, player_2/loss=157.263, rew=16.67]                                                                                                                                                                                    \n"
     ]
    },
    {
     "name": "stdout",
     "output_type": "stream",
     "text": [
      "Epoch #161: test_reward: 25.000000 ± 0.000000, best_reward: 25.000000 ± 0.000000 in #3\n"
     ]
    },
    {
     "name": "stderr",
     "output_type": "stream",
     "text": [
      "Epoch #162: 1025it [00:03, 281.27it/s, env_step=165888, len=7, n/ep=8, n/st=64, player_1/loss=44.263, player_2/loss=204.341, rew=25.00]                                                                                                                                                                                     \n"
     ]
    },
    {
     "name": "stdout",
     "output_type": "stream",
     "text": [
      "Epoch #162: test_reward: 25.000000 ± 0.000000, best_reward: 25.000000 ± 0.000000 in #3\n"
     ]
    },
    {
     "name": "stderr",
     "output_type": "stream",
     "text": [
      "Epoch #163: 1025it [00:03, 287.88it/s, env_step=166912, len=8, n/ep=8, n/st=64, player_1/loss=86.266, player_2/loss=220.164, rew=12.50]                                                                                                                                                                                     \n"
     ]
    },
    {
     "name": "stdout",
     "output_type": "stream",
     "text": [
      "Epoch #163: test_reward: 25.000000 ± 0.000000, best_reward: 25.000000 ± 0.000000 in #3\n"
     ]
    },
    {
     "name": "stderr",
     "output_type": "stream",
     "text": [
      "Epoch #164: 1025it [00:03, 279.58it/s, env_step=167936, len=7, n/ep=8, n/st=64, player_1/loss=81.803, player_2/loss=197.775, rew=25.00]                                                                                                                                                                                     \n"
     ]
    },
    {
     "name": "stdout",
     "output_type": "stream",
     "text": [
      "Epoch #164: test_reward: 25.000000 ± 0.000000, best_reward: 25.000000 ± 0.000000 in #3\n"
     ]
    },
    {
     "name": "stderr",
     "output_type": "stream",
     "text": [
      "Epoch #165: 1025it [00:03, 265.56it/s, env_step=168960, len=8, n/ep=8, n/st=64, player_1/loss=47.951, player_2/loss=191.000, rew=18.75]                                                                                                                                                                                     \n"
     ]
    },
    {
     "name": "stdout",
     "output_type": "stream",
     "text": [
      "Epoch #165: test_reward: 25.000000 ± 0.000000, best_reward: 25.000000 ± 0.000000 in #3\n"
     ]
    },
    {
     "name": "stderr",
     "output_type": "stream",
     "text": [
      "Epoch #166: 1025it [00:03, 260.91it/s, env_step=169984, len=8, n/ep=7, n/st=64, player_1/loss=37.630, player_2/loss=170.210, rew=3.57]                                                                                                                                                                                      \n"
     ]
    },
    {
     "name": "stdout",
     "output_type": "stream",
     "text": [
      "Epoch #166: test_reward: 25.000000 ± 0.000000, best_reward: 25.000000 ± 0.000000 in #3\n"
     ]
    },
    {
     "name": "stderr",
     "output_type": "stream",
     "text": [
      "Epoch #167: 1025it [00:04, 252.99it/s, env_step=171008, len=7, n/ep=8, n/st=64, player_1/loss=58.492, player_2/loss=156.261, rew=18.75]                                                                                                                                                                                     \n"
     ]
    },
    {
     "name": "stdout",
     "output_type": "stream",
     "text": [
      "Epoch #167: test_reward: 25.000000 ± 0.000000, best_reward: 25.000000 ± 0.000000 in #3\n"
     ]
    },
    {
     "name": "stderr",
     "output_type": "stream",
     "text": [
      "Epoch #168: 1025it [00:04, 254.09it/s, env_step=172032, len=7, n/ep=9, n/st=64, player_1/loss=91.459, player_2/loss=169.745, rew=25.00]                                                                                                                                                                                     \n"
     ]
    },
    {
     "name": "stdout",
     "output_type": "stream",
     "text": [
      "Epoch #168: test_reward: 25.000000 ± 0.000000, best_reward: 25.000000 ± 0.000000 in #3\n"
     ]
    },
    {
     "name": "stderr",
     "output_type": "stream",
     "text": [
      "Epoch #169: 1025it [00:04, 256.22it/s, env_step=173056, len=7, n/ep=8, n/st=64, player_1/loss=91.328, player_2/loss=215.891, rew=25.00]                                                                                                                                                                                     \n"
     ]
    },
    {
     "name": "stdout",
     "output_type": "stream",
     "text": [
      "Epoch #169: test_reward: 25.000000 ± 0.000000, best_reward: 25.000000 ± 0.000000 in #3\n"
     ]
    },
    {
     "name": "stderr",
     "output_type": "stream",
     "text": [
      "Epoch #170: 1025it [00:04, 254.96it/s, env_step=174080, len=7, n/ep=9, n/st=64, player_1/loss=54.782, player_2/loss=194.162, rew=19.44]                                                                                                                                                                                     \n"
     ]
    },
    {
     "name": "stdout",
     "output_type": "stream",
     "text": [
      "Epoch #170: test_reward: 25.000000 ± 0.000000, best_reward: 25.000000 ± 0.000000 in #3\n"
     ]
    },
    {
     "name": "stderr",
     "output_type": "stream",
     "text": [
      "Epoch #171: 1025it [00:03, 266.23it/s, env_step=175104, len=7, n/ep=8, n/st=64, player_1/loss=27.791, player_2/loss=188.095, rew=12.50]                                                                                                                                                                                     \n"
     ]
    },
    {
     "name": "stdout",
     "output_type": "stream",
     "text": [
      "Epoch #171: test_reward: 25.000000 ± 0.000000, best_reward: 25.000000 ± 0.000000 in #3\n"
     ]
    },
    {
     "name": "stderr",
     "output_type": "stream",
     "text": [
      "Epoch #172: 1025it [00:03, 261.55it/s, env_step=176128, len=9, n/ep=7, n/st=64, player_1/loss=23.841, player_2/loss=207.780, rew=25.00]                                                                                                                                                                                     \n"
     ]
    },
    {
     "name": "stdout",
     "output_type": "stream",
     "text": [
      "Epoch #172: test_reward: 25.000000 ± 0.000000, best_reward: 25.000000 ± 0.000000 in #3\n"
     ]
    },
    {
     "name": "stderr",
     "output_type": "stream",
     "text": [
      "Epoch #173: 1025it [00:03, 271.60it/s, env_step=177152, len=7, n/ep=8, n/st=64, player_1/loss=13.892, player_2/loss=205.812, rew=25.00]                                                                                                                                                                                     \n"
     ]
    },
    {
     "name": "stdout",
     "output_type": "stream",
     "text": [
      "Epoch #173: test_reward: 25.000000 ± 0.000000, best_reward: 25.000000 ± 0.000000 in #3\n"
     ]
    },
    {
     "name": "stderr",
     "output_type": "stream",
     "text": [
      "Epoch #174: 1025it [00:03, 264.29it/s, env_step=178176, len=7, n/ep=9, n/st=64, player_1/loss=41.971, player_2/loss=200.345, rew=13.89]                                                                                                                                                                                     \n"
     ]
    },
    {
     "name": "stdout",
     "output_type": "stream",
     "text": [
      "Epoch #174: test_reward: 25.000000 ± 0.000000, best_reward: 25.000000 ± 0.000000 in #3\n"
     ]
    },
    {
     "name": "stderr",
     "output_type": "stream",
     "text": [
      "Epoch #175: 1025it [00:04, 254.79it/s, env_step=179200, len=7, n/ep=8, n/st=64, player_1/loss=55.589, player_2/loss=214.772, rew=25.00]                                                                                                                                                                                     \n"
     ]
    },
    {
     "name": "stdout",
     "output_type": "stream",
     "text": [
      "Epoch #175: test_reward: 25.000000 ± 0.000000, best_reward: 25.000000 ± 0.000000 in #3\n"
     ]
    },
    {
     "name": "stderr",
     "output_type": "stream",
     "text": [
      "Epoch #176: 1025it [00:04, 254.62it/s, env_step=180224, len=7, n/ep=9, n/st=64, player_1/loss=96.434, player_2/loss=213.509, rew=25.00]                                                                                                                                                                                     \n"
     ]
    },
    {
     "name": "stdout",
     "output_type": "stream",
     "text": [
      "Epoch #176: test_reward: 25.000000 ± 0.000000, best_reward: 25.000000 ± 0.000000 in #3\n"
     ]
    },
    {
     "name": "stderr",
     "output_type": "stream",
     "text": [
      "Epoch #177: 1025it [00:03, 257.95it/s, env_step=181248, len=7, n/ep=8, n/st=64, player_1/loss=66.917, player_2/loss=188.975, rew=25.00]                                                                                                                                                                                     \n"
     ]
    },
    {
     "name": "stdout",
     "output_type": "stream",
     "text": [
      "Epoch #177: test_reward: 25.000000 ± 0.000000, best_reward: 25.000000 ± 0.000000 in #3\n"
     ]
    },
    {
     "name": "stderr",
     "output_type": "stream",
     "text": [
      "Epoch #178: 1025it [00:04, 254.05it/s, env_step=182272, len=7, n/ep=8, n/st=64, player_1/loss=40.974, player_2/loss=178.180, rew=25.00]                                                                                                                                                                                     \n"
     ]
    },
    {
     "name": "stdout",
     "output_type": "stream",
     "text": [
      "Epoch #178: test_reward: 25.000000 ± 0.000000, best_reward: 25.000000 ± 0.000000 in #3\n"
     ]
    },
    {
     "name": "stderr",
     "output_type": "stream",
     "text": [
      "Epoch #179: 1025it [00:04, 218.06it/s, env_step=183296, len=8, n/ep=8, n/st=64, player_1/loss=61.713, player_2/loss=171.460, rew=18.75]                                                                                                                                                                                     \n"
     ]
    },
    {
     "name": "stdout",
     "output_type": "stream",
     "text": [
      "Epoch #179: test_reward: 25.000000 ± 0.000000, best_reward: 25.000000 ± 0.000000 in #3\n"
     ]
    },
    {
     "name": "stderr",
     "output_type": "stream",
     "text": [
      "Epoch #180: 1025it [00:04, 208.77it/s, env_step=184320, len=10, n/ep=6, n/st=64, player_1/loss=60.614, player_2/loss=177.403, rew=25.00]                                                                                                                                                                                    \n"
     ]
    },
    {
     "name": "stdout",
     "output_type": "stream",
     "text": [
      "Epoch #180: test_reward: -25.000000 ± 0.000000, best_reward: 25.000000 ± 0.000000 in #3\n"
     ]
    },
    {
     "name": "stderr",
     "output_type": "stream",
     "text": [
      "Epoch #181: 1025it [00:04, 255.73it/s, env_step=185344, len=7, n/ep=9, n/st=64, player_1/loss=56.544, player_2/loss=189.836, rew=19.44]                                                                                                                                                                                     \n"
     ]
    },
    {
     "name": "stdout",
     "output_type": "stream",
     "text": [
      "Epoch #181: test_reward: 25.000000 ± 0.000000, best_reward: 25.000000 ± 0.000000 in #3\n"
     ]
    },
    {
     "name": "stderr",
     "output_type": "stream",
     "text": [
      "Epoch #182: 1025it [00:03, 304.61it/s, env_step=186368, len=7, n/ep=9, n/st=64, player_1/loss=52.016, player_2/loss=174.439, rew=13.89]                                                                                                                                                                                     \n"
     ]
    },
    {
     "name": "stdout",
     "output_type": "stream",
     "text": [
      "Epoch #182: test_reward: 25.000000 ± 0.000000, best_reward: 25.000000 ± 0.000000 in #3\n"
     ]
    },
    {
     "name": "stderr",
     "output_type": "stream",
     "text": [
      "Epoch #183: 1025it [00:03, 278.98it/s, env_step=187392, len=7, n/ep=9, n/st=64, player_1/loss=45.907, player_2/loss=190.940, rew=25.00]                                                                                                                                                                                     \n"
     ]
    },
    {
     "name": "stdout",
     "output_type": "stream",
     "text": [
      "Epoch #183: test_reward: 25.000000 ± 0.000000, best_reward: 25.000000 ± 0.000000 in #3\n"
     ]
    },
    {
     "name": "stderr",
     "output_type": "stream",
     "text": [
      "Epoch #184: 1025it [00:03, 300.56it/s, env_step=188416, len=7, n/ep=8, n/st=64, player_1/loss=21.877, player_2/loss=164.038, rew=25.00]                                                                                                                                                                                     \n"
     ]
    },
    {
     "name": "stdout",
     "output_type": "stream",
     "text": [
      "Epoch #184: test_reward: 25.000000 ± 0.000000, best_reward: 25.000000 ± 0.000000 in #3\n"
     ]
    },
    {
     "name": "stderr",
     "output_type": "stream",
     "text": [
      "Epoch #185: 1025it [00:03, 303.55it/s, env_step=189440, len=7, n/ep=9, n/st=64, player_1/loss=22.439, player_2/loss=184.642, rew=25.00]                                                                                                                                                                                     \n"
     ]
    },
    {
     "name": "stdout",
     "output_type": "stream",
     "text": [
      "Epoch #185: test_reward: 25.000000 ± 0.000000, best_reward: 25.000000 ± 0.000000 in #3\n"
     ]
    },
    {
     "name": "stderr",
     "output_type": "stream",
     "text": [
      "Epoch #186: 1025it [00:03, 310.86it/s, env_step=190464, len=7, n/ep=9, n/st=64, player_1/loss=48.948, player_2/loss=183.726, rew=25.00]                                                                                                                                                                                     \n"
     ]
    },
    {
     "name": "stdout",
     "output_type": "stream",
     "text": [
      "Epoch #186: test_reward: 25.000000 ± 0.000000, best_reward: 25.000000 ± 0.000000 in #3\n"
     ]
    },
    {
     "name": "stderr",
     "output_type": "stream",
     "text": [
      "Epoch #187: 1025it [00:03, 310.32it/s, env_step=191488, len=7, n/ep=9, n/st=64, player_1/loss=68.803, player_2/loss=201.644, rew=25.00]                                                                                                                                                                                     \n"
     ]
    },
    {
     "name": "stdout",
     "output_type": "stream",
     "text": [
      "Epoch #187: test_reward: 25.000000 ± 0.000000, best_reward: 25.000000 ± 0.000000 in #3\n"
     ]
    },
    {
     "name": "stderr",
     "output_type": "stream",
     "text": [
      "Epoch #188: 1025it [00:03, 316.71it/s, env_step=192512, len=8, n/ep=8, n/st=64, player_1/loss=53.756, player_2/loss=173.965, rew=25.00]                                                                                                                                                                                     \n"
     ]
    },
    {
     "name": "stdout",
     "output_type": "stream",
     "text": [
      "Epoch #188: test_reward: 25.000000 ± 0.000000, best_reward: 25.000000 ± 0.000000 in #3\n"
     ]
    },
    {
     "name": "stderr",
     "output_type": "stream",
     "text": [
      "Epoch #189: 1025it [00:03, 300.55it/s, env_step=193536, len=7, n/ep=8, n/st=64, player_1/loss=29.951, player_2/loss=162.766, rew=25.00]                                                                                                                                                                                     \n"
     ]
    },
    {
     "name": "stdout",
     "output_type": "stream",
     "text": [
      "Epoch #189: test_reward: -25.000000 ± 0.000000, best_reward: 25.000000 ± 0.000000 in #3\n"
     ]
    },
    {
     "name": "stderr",
     "output_type": "stream",
     "text": [
      "Epoch #190: 1025it [00:03, 304.50it/s, env_step=194560, len=8, n/ep=8, n/st=64, player_1/loss=35.547, player_2/loss=180.328, rew=25.00]                                                                                                                                                                                     \n"
     ]
    },
    {
     "name": "stdout",
     "output_type": "stream",
     "text": [
      "Epoch #190: test_reward: 25.000000 ± 0.000000, best_reward: 25.000000 ± 0.000000 in #3\n"
     ]
    },
    {
     "name": "stderr",
     "output_type": "stream",
     "text": [
      "Epoch #191: 1025it [00:03, 298.12it/s, env_step=195584, len=8, n/ep=8, n/st=64, player_1/loss=15.866, rew=12.50]                                                                                                                                                                                                            \n"
     ]
    },
    {
     "name": "stdout",
     "output_type": "stream",
     "text": [
      "Epoch #191: test_reward: 25.000000 ± 0.000000, best_reward: 25.000000 ± 0.000000 in #3\n"
     ]
    },
    {
     "name": "stderr",
     "output_type": "stream",
     "text": [
      "Epoch #192: 1025it [00:03, 298.39it/s, env_step=196608, len=7, n/ep=9, n/st=64, player_1/loss=28.862, player_2/loss=146.755, rew=25.00]                                                                                                                                                                                     \n"
     ]
    },
    {
     "name": "stdout",
     "output_type": "stream",
     "text": [
      "Epoch #192: test_reward: 25.000000 ± 0.000000, best_reward: 25.000000 ± 0.000000 in #3\n"
     ]
    },
    {
     "name": "stderr",
     "output_type": "stream",
     "text": [
      "Epoch #193: 1025it [00:03, 300.94it/s, env_step=197632, len=7, n/ep=9, n/st=64, player_1/loss=47.113, player_2/loss=154.032, rew=19.44]                                                                                                                                                                                     \n"
     ]
    },
    {
     "name": "stdout",
     "output_type": "stream",
     "text": [
      "Epoch #193: test_reward: 25.000000 ± 0.000000, best_reward: 25.000000 ± 0.000000 in #3\n"
     ]
    },
    {
     "name": "stderr",
     "output_type": "stream",
     "text": [
      "Epoch #194: 1025it [00:03, 307.19it/s, env_step=198656, len=8, n/ep=7, n/st=64, player_1/loss=47.947, player_2/loss=178.981, rew=25.00]                                                                                                                                                                                     \n"
     ]
    },
    {
     "name": "stdout",
     "output_type": "stream",
     "text": [
      "Epoch #194: test_reward: 25.000000 ± 0.000000, best_reward: 25.000000 ± 0.000000 in #3\n"
     ]
    },
    {
     "name": "stderr",
     "output_type": "stream",
     "text": [
      "Epoch #195: 1025it [00:03, 300.15it/s, env_step=199680, len=8, n/ep=8, n/st=64, player_1/loss=20.334, player_2/loss=160.142, rew=18.75]                                                                                                                                                                                     \n"
     ]
    },
    {
     "name": "stdout",
     "output_type": "stream",
     "text": [
      "Epoch #195: test_reward: 25.000000 ± 0.000000, best_reward: 25.000000 ± 0.000000 in #3\n"
     ]
    },
    {
     "name": "stderr",
     "output_type": "stream",
     "text": [
      "Epoch #196: 1025it [00:02, 357.24it/s, env_step=200704, len=7, n/ep=8, n/st=64, player_1/loss=42.439, player_2/loss=163.576, rew=18.75]                                                                                                                                                                                     \n"
     ]
    },
    {
     "name": "stdout",
     "output_type": "stream",
     "text": [
      "Epoch #196: test_reward: 25.000000 ± 0.000000, best_reward: 25.000000 ± 0.000000 in #3\n"
     ]
    },
    {
     "name": "stderr",
     "output_type": "stream",
     "text": [
      "Epoch #197: 1025it [00:03, 282.94it/s, env_step=201728, len=8, n/ep=8, n/st=64, player_1/loss=57.056, player_2/loss=198.064, rew=25.00]                                                                                                                                                                                     \n"
     ]
    },
    {
     "name": "stdout",
     "output_type": "stream",
     "text": [
      "Epoch #197: test_reward: 25.000000 ± 0.000000, best_reward: 25.000000 ± 0.000000 in #3\n"
     ]
    },
    {
     "name": "stderr",
     "output_type": "stream",
     "text": [
      "Epoch #198: 1025it [00:03, 273.40it/s, env_step=202752, len=8, n/ep=7, n/st=64, player_1/loss=44.943, player_2/loss=178.239, rew=17.86]                                                                                                                                                                                     \n"
     ]
    },
    {
     "name": "stdout",
     "output_type": "stream",
     "text": [
      "Epoch #198: test_reward: 25.000000 ± 0.000000, best_reward: 25.000000 ± 0.000000 in #3\n"
     ]
    },
    {
     "name": "stderr",
     "output_type": "stream",
     "text": [
      "Epoch #199: 1025it [00:03, 294.37it/s, env_step=203776, len=7, n/ep=9, n/st=64, player_1/loss=53.198, player_2/loss=151.387, rew=13.89]                                                                                                                                                                                     \n"
     ]
    },
    {
     "name": "stdout",
     "output_type": "stream",
     "text": [
      "Epoch #199: test_reward: 25.000000 ± 0.000000, best_reward: 25.000000 ± 0.000000 in #3\n"
     ]
    },
    {
     "name": "stderr",
     "output_type": "stream",
     "text": [
      "Epoch #200: 1025it [00:03, 308.78it/s, env_step=204800, len=7, n/ep=9, n/st=64, player_1/loss=69.091, player_2/loss=134.808, rew=25.00]                                                                                                                                                                                     \n"
     ]
    },
    {
     "name": "stdout",
     "output_type": "stream",
     "text": [
      "Epoch #200: test_reward: 25.000000 ± 0.000000, best_reward: 25.000000 ± 0.000000 in #3\n"
     ]
    },
    {
     "name": "stderr",
     "output_type": "stream",
     "text": [
      "Epoch #201: 1025it [00:03, 312.09it/s, env_step=205824, len=8, n/ep=8, n/st=64, player_1/loss=82.069, player_2/loss=180.201, rew=12.50]                                                                                                                                                                                     \n"
     ]
    },
    {
     "name": "stdout",
     "output_type": "stream",
     "text": [
      "Epoch #201: test_reward: 25.000000 ± 0.000000, best_reward: 25.000000 ± 0.000000 in #3\n"
     ]
    },
    {
     "name": "stderr",
     "output_type": "stream",
     "text": [
      "Epoch #202: 1025it [00:03, 311.89it/s, env_step=206848, len=7, n/ep=8, n/st=64, player_1/loss=92.966, player_2/loss=208.004, rew=25.00]                                                                                                                                                                                     \n"
     ]
    },
    {
     "name": "stdout",
     "output_type": "stream",
     "text": [
      "Epoch #202: test_reward: 25.000000 ± 0.000000, best_reward: 25.000000 ± 0.000000 in #3\n"
     ]
    },
    {
     "name": "stderr",
     "output_type": "stream",
     "text": [
      "Epoch #203: 1025it [00:03, 304.38it/s, env_step=207872, len=7, n/ep=8, n/st=64, player_1/loss=45.865, player_2/loss=230.951, rew=6.25]                                                                                                                                                                                      \n"
     ]
    },
    {
     "name": "stdout",
     "output_type": "stream",
     "text": [
      "Epoch #203: test_reward: 25.000000 ± 0.000000, best_reward: 25.000000 ± 0.000000 in #3\n"
     ]
    },
    {
     "name": "stderr",
     "output_type": "stream",
     "text": [
      "Epoch #204: 1025it [00:03, 315.96it/s, env_step=208896, len=7, n/ep=9, n/st=64, player_1/loss=59.824, player_2/loss=224.102, rew=19.44]                                                                                                                                                                                     \n"
     ]
    },
    {
     "name": "stdout",
     "output_type": "stream",
     "text": [
      "Epoch #204: test_reward: 25.000000 ± 0.000000, best_reward: 25.000000 ± 0.000000 in #3\n"
     ]
    },
    {
     "name": "stderr",
     "output_type": "stream",
     "text": [
      "Epoch #205: 1025it [00:03, 316.88it/s, env_step=209920, len=7, n/ep=8, n/st=64, player_1/loss=67.715, player_2/loss=174.197, rew=12.50]                                                                                                                                                                                     \n"
     ]
    },
    {
     "name": "stdout",
     "output_type": "stream",
     "text": [
      "Epoch #205: test_reward: 25.000000 ± 0.000000, best_reward: 25.000000 ± 0.000000 in #3\n"
     ]
    },
    {
     "name": "stderr",
     "output_type": "stream",
     "text": [
      "Epoch #206: 1025it [00:03, 296.97it/s, env_step=210944, len=8, n/ep=8, n/st=64, player_1/loss=52.749, player_2/loss=169.983, rew=12.50]                                                                                                                                                                                     \n"
     ]
    },
    {
     "name": "stdout",
     "output_type": "stream",
     "text": [
      "Epoch #206: test_reward: 25.000000 ± 0.000000, best_reward: 25.000000 ± 0.000000 in #3\n"
     ]
    },
    {
     "name": "stderr",
     "output_type": "stream",
     "text": [
      "Epoch #207: 1025it [00:03, 307.77it/s, env_step=211968, len=7, n/ep=8, n/st=64, player_1/loss=46.780, player_2/loss=191.521, rew=25.00]                                                                                                                                                                                     \n"
     ]
    },
    {
     "name": "stdout",
     "output_type": "stream",
     "text": [
      "Epoch #207: test_reward: 25.000000 ± 0.000000, best_reward: 25.000000 ± 0.000000 in #3\n"
     ]
    },
    {
     "name": "stderr",
     "output_type": "stream",
     "text": [
      "Epoch #208: 1025it [00:03, 311.68it/s, env_step=212992, len=7, n/ep=9, n/st=64, player_1/loss=51.013, player_2/loss=212.564, rew=19.44]                                                                                                                                                                                     \n"
     ]
    },
    {
     "name": "stdout",
     "output_type": "stream",
     "text": [
      "Epoch #208: test_reward: 25.000000 ± 0.000000, best_reward: 25.000000 ± 0.000000 in #3\n"
     ]
    },
    {
     "name": "stderr",
     "output_type": "stream",
     "text": [
      "Epoch #209: 1025it [00:03, 331.75it/s, env_step=214016, len=7, n/ep=9, n/st=64, player_1/loss=44.589, player_2/loss=186.604, rew=25.00]                                                                                                                                                                                     \n"
     ]
    },
    {
     "name": "stdout",
     "output_type": "stream",
     "text": [
      "Epoch #209: test_reward: 25.000000 ± 0.000000, best_reward: 25.000000 ± 0.000000 in #3\n"
     ]
    },
    {
     "name": "stderr",
     "output_type": "stream",
     "text": [
      "Epoch #210: 1025it [00:03, 316.97it/s, env_step=215040, len=7, n/ep=8, n/st=64, player_1/loss=46.021, player_2/loss=169.438, rew=18.75]                                                                                                                                                                                     \n"
     ]
    },
    {
     "name": "stdout",
     "output_type": "stream",
     "text": [
      "Epoch #210: test_reward: 25.000000 ± 0.000000, best_reward: 25.000000 ± 0.000000 in #3\n"
     ]
    },
    {
     "name": "stderr",
     "output_type": "stream",
     "text": [
      "Epoch #211: 1025it [00:03, 309.70it/s, env_step=216064, len=7, n/ep=9, n/st=64, player_1/loss=74.065, player_2/loss=187.399, rew=19.44]                                                                                                                                                                                     \n"
     ]
    },
    {
     "name": "stdout",
     "output_type": "stream",
     "text": [
      "Epoch #211: test_reward: 25.000000 ± 0.000000, best_reward: 25.000000 ± 0.000000 in #3\n"
     ]
    },
    {
     "name": "stderr",
     "output_type": "stream",
     "text": [
      "Epoch #212: 1025it [00:03, 301.61it/s, env_step=217088, len=8, n/ep=8, n/st=64, player_1/loss=53.183, player_2/loss=196.028, rew=18.75]                                                                                                                                                                                     \n"
     ]
    },
    {
     "name": "stdout",
     "output_type": "stream",
     "text": [
      "Epoch #212: test_reward: 25.000000 ± 0.000000, best_reward: 25.000000 ± 0.000000 in #3\n"
     ]
    },
    {
     "name": "stderr",
     "output_type": "stream",
     "text": [
      "Epoch #213: 1025it [00:03, 299.83it/s, env_step=218112, len=7, n/ep=8, n/st=64, player_1/loss=27.741, player_2/loss=178.631, rew=25.00]                                                                                                                                                                                     \n"
     ]
    },
    {
     "name": "stdout",
     "output_type": "stream",
     "text": [
      "Epoch #213: test_reward: 25.000000 ± 0.000000, best_reward: 25.000000 ± 0.000000 in #3\n"
     ]
    },
    {
     "name": "stderr",
     "output_type": "stream",
     "text": [
      "Epoch #214: 1025it [00:04, 238.65it/s, env_step=219136, len=7, n/ep=8, n/st=64, player_1/loss=62.164, player_2/loss=219.821, rew=18.75]                                                                                                                                                                                     \n"
     ]
    },
    {
     "name": "stdout",
     "output_type": "stream",
     "text": [
      "Epoch #214: test_reward: 25.000000 ± 0.000000, best_reward: 25.000000 ± 0.000000 in #3\n"
     ]
    },
    {
     "name": "stderr",
     "output_type": "stream",
     "text": [
      "Epoch #215: 1025it [00:05, 199.44it/s, env_step=220160, len=7, n/ep=8, n/st=64, player_1/loss=79.471, player_2/loss=229.728, rew=0.00]                                                                                                                                                                                      \n"
     ]
    },
    {
     "name": "stdout",
     "output_type": "stream",
     "text": [
      "Epoch #215: test_reward: 25.000000 ± 0.000000, best_reward: 25.000000 ± 0.000000 in #3\n"
     ]
    },
    {
     "name": "stderr",
     "output_type": "stream",
     "text": [
      "Epoch #216: 1025it [00:04, 223.52it/s, env_step=221184, len=8, n/ep=8, n/st=64, player_1/loss=85.744, player_2/loss=205.924, rew=25.00]                                                                                                                                                                                     \n"
     ]
    },
    {
     "name": "stdout",
     "output_type": "stream",
     "text": [
      "Epoch #216: test_reward: 25.000000 ± 0.000000, best_reward: 25.000000 ± 0.000000 in #3\n"
     ]
    },
    {
     "name": "stderr",
     "output_type": "stream",
     "text": [
      "Epoch #217: 1025it [00:04, 211.08it/s, env_step=222208, len=7, n/ep=9, n/st=64, player_1/loss=48.984, player_2/loss=208.697, rew=19.44]                                                                                                                                                                                     \n"
     ]
    },
    {
     "name": "stdout",
     "output_type": "stream",
     "text": [
      "Epoch #217: test_reward: 25.000000 ± 0.000000, best_reward: 25.000000 ± 0.000000 in #3\n"
     ]
    },
    {
     "name": "stderr",
     "output_type": "stream",
     "text": [
      "Epoch #218: 1025it [00:03, 285.81it/s, env_step=223232, len=9, n/ep=7, n/st=64, player_1/loss=26.146, player_2/loss=197.017, rew=17.86]                                                                                                                                                                                     \n"
     ]
    },
    {
     "name": "stdout",
     "output_type": "stream",
     "text": [
      "Epoch #218: test_reward: 25.000000 ± 0.000000, best_reward: 25.000000 ± 0.000000 in #3\n"
     ]
    },
    {
     "name": "stderr",
     "output_type": "stream",
     "text": [
      "Epoch #219: 1025it [00:03, 266.91it/s, env_step=224256, len=8, n/ep=8, n/st=64, player_1/loss=29.195, player_2/loss=216.203, rew=12.50]                                                                                                                                                                                     \n"
     ]
    },
    {
     "name": "stdout",
     "output_type": "stream",
     "text": [
      "Epoch #219: test_reward: 25.000000 ± 0.000000, best_reward: 25.000000 ± 0.000000 in #3\n"
     ]
    },
    {
     "name": "stderr",
     "output_type": "stream",
     "text": [
      "Epoch #220: 1025it [00:03, 285.62it/s, env_step=225280, len=7, n/ep=10, n/st=64, player_1/loss=50.070, player_2/loss=208.124, rew=25.00]                                                                                                                                                                                    \n"
     ]
    },
    {
     "name": "stdout",
     "output_type": "stream",
     "text": [
      "Epoch #220: test_reward: 25.000000 ± 0.000000, best_reward: 25.000000 ± 0.000000 in #3\n"
     ]
    },
    {
     "name": "stderr",
     "output_type": "stream",
     "text": [
      "Epoch #221: 1025it [00:03, 308.45it/s, env_step=226304, len=7, n/ep=8, n/st=64, player_1/loss=59.960, player_2/loss=202.716, rew=18.75]                                                                                                                                                                                     \n"
     ]
    },
    {
     "name": "stdout",
     "output_type": "stream",
     "text": [
      "Epoch #221: test_reward: 25.000000 ± 0.000000, best_reward: 25.000000 ± 0.000000 in #3\n"
     ]
    },
    {
     "name": "stderr",
     "output_type": "stream",
     "text": [
      "Epoch #222: 1025it [00:03, 304.51it/s, env_step=227328, len=8, n/ep=9, n/st=64, player_1/loss=60.521, player_2/loss=234.969, rew=19.44]                                                                                                                                                                                     \n"
     ]
    },
    {
     "name": "stdout",
     "output_type": "stream",
     "text": [
      "Epoch #222: test_reward: 25.000000 ± 0.000000, best_reward: 25.000000 ± 0.000000 in #3\n"
     ]
    },
    {
     "name": "stderr",
     "output_type": "stream",
     "text": [
      "Epoch #223: 1025it [00:03, 306.26it/s, env_step=228352, len=7, n/ep=8, n/st=64, player_1/loss=82.134, player_2/loss=181.244, rew=18.75]                                                                                                                                                                                     \n"
     ]
    },
    {
     "name": "stdout",
     "output_type": "stream",
     "text": [
      "Epoch #223: test_reward: 25.000000 ± 0.000000, best_reward: 25.000000 ± 0.000000 in #3\n"
     ]
    },
    {
     "name": "stderr",
     "output_type": "stream",
     "text": [
      "Epoch #224: 1025it [00:03, 304.53it/s, env_step=229376, len=7, n/ep=8, n/st=64, player_1/loss=67.171, player_2/loss=127.221, rew=18.75]                                                                                                                                                                                     \n"
     ]
    },
    {
     "name": "stdout",
     "output_type": "stream",
     "text": [
      "Epoch #224: test_reward: 25.000000 ± 0.000000, best_reward: 25.000000 ± 0.000000 in #3\n"
     ]
    },
    {
     "name": "stderr",
     "output_type": "stream",
     "text": [
      "Epoch #225: 1025it [00:03, 307.20it/s, env_step=230400, len=8, n/ep=8, n/st=64, player_1/loss=23.064, player_2/loss=171.633, rew=12.50]                                                                                                                                                                                     \n"
     ]
    },
    {
     "name": "stdout",
     "output_type": "stream",
     "text": [
      "Epoch #225: test_reward: 25.000000 ± 0.000000, best_reward: 25.000000 ± 0.000000 in #3\n"
     ]
    },
    {
     "name": "stderr",
     "output_type": "stream",
     "text": [
      "Epoch #226: 1025it [00:03, 300.83it/s, env_step=231424, len=7, n/ep=8, n/st=64, player_2/loss=193.592, rew=12.50]                                                                                                                                                                                                           \n"
     ]
    },
    {
     "name": "stdout",
     "output_type": "stream",
     "text": [
      "Epoch #226: test_reward: 25.000000 ± 0.000000, best_reward: 25.000000 ± 0.000000 in #3\n"
     ]
    },
    {
     "name": "stderr",
     "output_type": "stream",
     "text": [
      "Epoch #227: 1025it [00:03, 294.44it/s, env_step=232448, len=7, n/ep=9, n/st=64, player_1/loss=42.942, player_2/loss=211.352, rew=19.44]                                                                                                                                                                                     \n"
     ]
    },
    {
     "name": "stdout",
     "output_type": "stream",
     "text": [
      "Epoch #227: test_reward: 25.000000 ± 0.000000, best_reward: 25.000000 ± 0.000000 in #3\n"
     ]
    },
    {
     "name": "stderr",
     "output_type": "stream",
     "text": [
      "Epoch #228: 1025it [00:03, 331.75it/s, env_step=233472, len=7, n/ep=9, n/st=64, player_1/loss=48.212, player_2/loss=199.416, rew=19.44]                                                                                                                                                                                     \n"
     ]
    },
    {
     "name": "stdout",
     "output_type": "stream",
     "text": [
      "Epoch #228: test_reward: 25.000000 ± 0.000000, best_reward: 25.000000 ± 0.000000 in #3\n"
     ]
    },
    {
     "name": "stderr",
     "output_type": "stream",
     "text": [
      "Epoch #229: 1025it [00:03, 320.11it/s, env_step=234496, len=7, n/ep=9, n/st=64, player_1/loss=84.553, player_2/loss=188.663, rew=13.89]                                                                                                                                                                                     \n"
     ]
    },
    {
     "name": "stdout",
     "output_type": "stream",
     "text": [
      "Epoch #229: test_reward: 25.000000 ± 0.000000, best_reward: 25.000000 ± 0.000000 in #3\n"
     ]
    },
    {
     "name": "stderr",
     "output_type": "stream",
     "text": [
      "Epoch #230: 1025it [00:03, 311.69it/s, env_step=235520, len=8, n/ep=8, n/st=64, player_1/loss=78.894, player_2/loss=196.357, rew=12.50]                                                                                                                                                                                     \n"
     ]
    },
    {
     "name": "stdout",
     "output_type": "stream",
     "text": [
      "Epoch #230: test_reward: 25.000000 ± 0.000000, best_reward: 25.000000 ± 0.000000 in #3\n"
     ]
    },
    {
     "name": "stderr",
     "output_type": "stream",
     "text": [
      "Epoch #231: 1025it [00:03, 303.64it/s, env_step=236544, len=7, n/ep=8, n/st=64, player_1/loss=60.893, player_2/loss=180.062, rew=18.75]                                                                                                                                                                                     \n"
     ]
    },
    {
     "name": "stdout",
     "output_type": "stream",
     "text": [
      "Epoch #231: test_reward: 25.000000 ± 0.000000, best_reward: 25.000000 ± 0.000000 in #3\n"
     ]
    },
    {
     "name": "stderr",
     "output_type": "stream",
     "text": [
      "Epoch #232: 1025it [00:03, 290.20it/s, env_step=237568, len=9, n/ep=7, n/st=64, player_1/loss=49.638, player_2/loss=165.079, rew=17.86]                                                                                                                                                                                     \n"
     ]
    },
    {
     "name": "stdout",
     "output_type": "stream",
     "text": [
      "Epoch #232: test_reward: 25.000000 ± 0.000000, best_reward: 25.000000 ± 0.000000 in #3\n"
     ]
    },
    {
     "name": "stderr",
     "output_type": "stream",
     "text": [
      "Epoch #233: 1025it [00:03, 291.48it/s, env_step=238592, len=7, n/ep=9, n/st=64, player_1/loss=77.836, player_2/loss=184.658, rew=19.44]                                                                                                                                                                                     \n"
     ]
    },
    {
     "name": "stdout",
     "output_type": "stream",
     "text": [
      "Epoch #233: test_reward: 25.000000 ± 0.000000, best_reward: 25.000000 ± 0.000000 in #3\n"
     ]
    },
    {
     "name": "stderr",
     "output_type": "stream",
     "text": [
      "Epoch #234: 1025it [00:03, 285.62it/s, env_step=239616, len=8, n/ep=8, n/st=64, player_1/loss=78.979, player_2/loss=174.756, rew=12.50]                                                                                                                                                                                     \n"
     ]
    },
    {
     "name": "stdout",
     "output_type": "stream",
     "text": [
      "Epoch #234: test_reward: 25.000000 ± 0.000000, best_reward: 25.000000 ± 0.000000 in #3\n"
     ]
    },
    {
     "name": "stderr",
     "output_type": "stream",
     "text": [
      "Epoch #235: 1025it [00:03, 276.39it/s, env_step=240640, len=7, n/ep=9, n/st=64, player_1/loss=30.121, player_2/loss=152.965, rew=25.00]                                                                                                                                                                                     \n"
     ]
    },
    {
     "name": "stdout",
     "output_type": "stream",
     "text": [
      "Epoch #235: test_reward: 25.000000 ± 0.000000, best_reward: 25.000000 ± 0.000000 in #3\n"
     ]
    },
    {
     "name": "stderr",
     "output_type": "stream",
     "text": [
      "Epoch #236: 1025it [00:03, 271.73it/s, env_step=241664, len=7, n/ep=9, n/st=64, player_1/loss=53.202, player_2/loss=147.869, rew=13.89]                                                                                                                                                                                     \n"
     ]
    },
    {
     "name": "stdout",
     "output_type": "stream",
     "text": [
      "Epoch #236: test_reward: 25.000000 ± 0.000000, best_reward: 25.000000 ± 0.000000 in #3\n"
     ]
    },
    {
     "name": "stderr",
     "output_type": "stream",
     "text": [
      "Epoch #237: 1025it [00:03, 265.39it/s, env_step=242688, len=7, n/ep=9, n/st=64, player_1/loss=51.453, player_2/loss=162.911, rew=25.00]                                                                                                                                                                                     \n"
     ]
    },
    {
     "name": "stdout",
     "output_type": "stream",
     "text": [
      "Epoch #237: test_reward: 25.000000 ± 0.000000, best_reward: 25.000000 ± 0.000000 in #3\n"
     ]
    },
    {
     "name": "stderr",
     "output_type": "stream",
     "text": [
      "Epoch #238: 1025it [00:04, 248.31it/s, env_step=243712, len=8, n/ep=8, n/st=64, player_1/loss=36.651, player_2/loss=168.535, rew=12.50]                                                                                                                                                                                     \n"
     ]
    },
    {
     "name": "stdout",
     "output_type": "stream",
     "text": [
      "Epoch #238: test_reward: 25.000000 ± 0.000000, best_reward: 25.000000 ± 0.000000 in #3\n"
     ]
    },
    {
     "name": "stderr",
     "output_type": "stream",
     "text": [
      "Epoch #239: 1025it [00:04, 251.22it/s, env_step=244736, len=7, n/ep=8, n/st=64, player_1/loss=46.009, player_2/loss=171.236, rew=12.50]                                                                                                                                                                                     \n"
     ]
    },
    {
     "name": "stdout",
     "output_type": "stream",
     "text": [
      "Epoch #239: test_reward: 25.000000 ± 0.000000, best_reward: 25.000000 ± 0.000000 in #3\n"
     ]
    },
    {
     "name": "stderr",
     "output_type": "stream",
     "text": [
      "Epoch #240: 1025it [00:04, 237.86it/s, env_step=245760, len=8, n/ep=8, n/st=64, player_1/loss=34.003, player_2/loss=197.149, rew=18.75]                                                                                                                                                                                     \n"
     ]
    },
    {
     "name": "stdout",
     "output_type": "stream",
     "text": [
      "Epoch #240: test_reward: 25.000000 ± 0.000000, best_reward: 25.000000 ± 0.000000 in #3\n"
     ]
    },
    {
     "name": "stderr",
     "output_type": "stream",
     "text": [
      "Epoch #241: 1025it [00:04, 231.65it/s, env_step=246784, len=7, n/ep=8, n/st=64, player_1/loss=53.711, player_2/loss=231.686, rew=12.50]                                                                                                                                                                                     \n"
     ]
    },
    {
     "name": "stdout",
     "output_type": "stream",
     "text": [
      "Epoch #241: test_reward: 25.000000 ± 0.000000, best_reward: 25.000000 ± 0.000000 in #3\n"
     ]
    },
    {
     "name": "stderr",
     "output_type": "stream",
     "text": [
      "Epoch #242: 1025it [00:04, 228.03it/s, env_step=247808, len=10, n/ep=6, n/st=64, player_1/loss=87.806, player_2/loss=235.300, rew=8.33]                                                                                                                                                                                     \n"
     ]
    },
    {
     "name": "stdout",
     "output_type": "stream",
     "text": [
      "Epoch #242: test_reward: 25.000000 ± 0.000000, best_reward: 25.000000 ± 0.000000 in #3\n"
     ]
    },
    {
     "name": "stderr",
     "output_type": "stream",
     "text": [
      "Epoch #243: 1025it [00:04, 235.35it/s, env_step=248832, len=7, n/ep=9, n/st=64, player_1/loss=57.286, player_2/loss=187.063, rew=13.89]                                                                                                                                                                                     \n"
     ]
    },
    {
     "name": "stdout",
     "output_type": "stream",
     "text": [
      "Epoch #243: test_reward: 25.000000 ± 0.000000, best_reward: 25.000000 ± 0.000000 in #3\n"
     ]
    },
    {
     "name": "stderr",
     "output_type": "stream",
     "text": [
      "Epoch #244: 1025it [00:04, 234.02it/s, env_step=249856, len=7, n/ep=9, n/st=64, player_1/loss=33.092, player_2/loss=191.956, rew=13.89]                                                                                                                                                                                     \n"
     ]
    },
    {
     "name": "stdout",
     "output_type": "stream",
     "text": [
      "Epoch #244: test_reward: 25.000000 ± 0.000000, best_reward: 25.000000 ± 0.000000 in #3\n"
     ]
    },
    {
     "name": "stderr",
     "output_type": "stream",
     "text": [
      "Epoch #245: 1025it [00:04, 239.09it/s, env_step=250880, len=8, n/ep=8, n/st=64, player_1/loss=71.718, player_2/loss=194.515, rew=12.50]                                                                                                                                                                                     \n"
     ]
    },
    {
     "name": "stdout",
     "output_type": "stream",
     "text": [
      "Epoch #245: test_reward: 25.000000 ± 0.000000, best_reward: 25.000000 ± 0.000000 in #3\n"
     ]
    },
    {
     "name": "stderr",
     "output_type": "stream",
     "text": [
      "Epoch #246: 1025it [00:04, 233.24it/s, env_step=251904, len=8, n/ep=7, n/st=64, player_1/loss=72.219, player_2/loss=208.601, rew=10.71]                                                                                                                                                                                     \n"
     ]
    },
    {
     "name": "stdout",
     "output_type": "stream",
     "text": [
      "Epoch #246: test_reward: 25.000000 ± 0.000000, best_reward: 25.000000 ± 0.000000 in #3\n"
     ]
    },
    {
     "name": "stderr",
     "output_type": "stream",
     "text": [
      "Epoch #247: 1025it [00:04, 223.91it/s, env_step=252928, len=7, n/ep=9, n/st=64, player_1/loss=43.501, player_2/loss=220.237, rew=25.00]                                                                                                                                                                                     \n"
     ]
    },
    {
     "name": "stdout",
     "output_type": "stream",
     "text": [
      "Epoch #247: test_reward: 25.000000 ± 0.000000, best_reward: 25.000000 ± 0.000000 in #3\n"
     ]
    },
    {
     "name": "stderr",
     "output_type": "stream",
     "text": [
      "Epoch #248: 1025it [00:04, 219.82it/s, env_step=253952, len=7, n/ep=9, n/st=64, player_1/loss=51.568, player_2/loss=212.321, rew=25.00]                                                                                                                                                                                     \n"
     ]
    },
    {
     "name": "stdout",
     "output_type": "stream",
     "text": [
      "Epoch #248: test_reward: 25.000000 ± 0.000000, best_reward: 25.000000 ± 0.000000 in #3\n"
     ]
    },
    {
     "name": "stderr",
     "output_type": "stream",
     "text": [
      "Epoch #249: 1025it [00:04, 228.10it/s, env_step=254976, len=7, n/ep=8, n/st=64, player_1/loss=63.969, player_2/loss=210.955, rew=25.00]                                                                                                                                                                                     \n"
     ]
    },
    {
     "name": "stdout",
     "output_type": "stream",
     "text": [
      "Epoch #249: test_reward: 25.000000 ± 0.000000, best_reward: 25.000000 ± 0.000000 in #3\n"
     ]
    },
    {
     "name": "stderr",
     "output_type": "stream",
     "text": [
      "Epoch #250: 1025it [00:04, 216.22it/s, env_step=256000, len=9, n/ep=8, n/st=64, player_1/loss=56.173, player_2/loss=193.270, rew=12.50]                                                                                                                                                                                     \n"
     ]
    },
    {
     "name": "stdout",
     "output_type": "stream",
     "text": [
      "Epoch #250: test_reward: 25.000000 ± 0.000000, best_reward: 25.000000 ± 0.000000 in #3\n"
     ]
    },
    {
     "name": "stderr",
     "output_type": "stream",
     "text": [
      "Epoch #251: 1025it [00:04, 232.66it/s, env_step=257024, len=7, n/ep=9, n/st=64, player_1/loss=53.758, player_2/loss=199.831, rew=25.00]                                                                                                                                                                                     \n"
     ]
    },
    {
     "name": "stdout",
     "output_type": "stream",
     "text": [
      "Epoch #251: test_reward: 25.000000 ± 0.000000, best_reward: 25.000000 ± 0.000000 in #3\n"
     ]
    },
    {
     "name": "stderr",
     "output_type": "stream",
     "text": [
      "Epoch #252: 1025it [00:04, 223.34it/s, env_step=258048, len=9, n/ep=7, n/st=64, player_1/loss=47.220, player_2/loss=252.662, rew=10.71]                                                                                                                                                                                     \n"
     ]
    },
    {
     "name": "stdout",
     "output_type": "stream",
     "text": [
      "Epoch #252: test_reward: 25.000000 ± 0.000000, best_reward: 25.000000 ± 0.000000 in #3\n"
     ]
    },
    {
     "name": "stderr",
     "output_type": "stream",
     "text": [
      "Epoch #253: 1025it [00:04, 222.10it/s, env_step=259072, len=8, n/ep=8, n/st=64, player_1/loss=54.583, rew=25.00]                                                                                                                                                                                                            \n"
     ]
    },
    {
     "name": "stdout",
     "output_type": "stream",
     "text": [
      "Epoch #253: test_reward: 25.000000 ± 0.000000, best_reward: 25.000000 ± 0.000000 in #3\n"
     ]
    },
    {
     "name": "stderr",
     "output_type": "stream",
     "text": [
      "Epoch #254: 1025it [00:04, 220.91it/s, env_step=260096, len=8, n/ep=8, n/st=64, player_1/loss=70.621, rew=18.75]                                                                                                                                                                                                            \n"
     ]
    },
    {
     "name": "stdout",
     "output_type": "stream",
     "text": [
      "Epoch #254: test_reward: 25.000000 ± 0.000000, best_reward: 25.000000 ± 0.000000 in #3\n"
     ]
    },
    {
     "name": "stderr",
     "output_type": "stream",
     "text": [
      "Epoch #255: 1025it [00:04, 220.18it/s, env_step=261120, len=7, n/ep=8, n/st=64, player_1/loss=86.660, player_2/loss=202.078, rew=12.50]                                                                                                                                                                                     \n"
     ]
    },
    {
     "name": "stdout",
     "output_type": "stream",
     "text": [
      "Epoch #255: test_reward: 25.000000 ± 0.000000, best_reward: 25.000000 ± 0.000000 in #3\n"
     ]
    },
    {
     "name": "stderr",
     "output_type": "stream",
     "text": [
      "Epoch #256: 1025it [00:04, 228.13it/s, env_step=262144, len=8, n/ep=8, n/st=64, player_1/loss=75.581, player_2/loss=185.753, rew=12.50]                                                                                                                                                                                     \n"
     ]
    },
    {
     "name": "stdout",
     "output_type": "stream",
     "text": [
      "Epoch #256: test_reward: 25.000000 ± 0.000000, best_reward: 25.000000 ± 0.000000 in #3\n"
     ]
    },
    {
     "name": "stderr",
     "output_type": "stream",
     "text": [
      "Epoch #257: 1025it [00:03, 258.37it/s, env_step=263168, len=8, n/ep=8, n/st=64, player_1/loss=53.506, player_2/loss=150.235, rew=0.00]                                                                                                                                                                                      \n"
     ]
    },
    {
     "name": "stdout",
     "output_type": "stream",
     "text": [
      "Epoch #257: test_reward: 25.000000 ± 0.000000, best_reward: 25.000000 ± 0.000000 in #3\n"
     ]
    },
    {
     "name": "stderr",
     "output_type": "stream",
     "text": [
      "Epoch #258: 1025it [00:03, 268.95it/s, env_step=264192, len=7, n/ep=8, n/st=64, player_1/loss=45.713, player_2/loss=168.579, rew=18.75]                                                                                                                                                                                     \n"
     ]
    },
    {
     "name": "stdout",
     "output_type": "stream",
     "text": [
      "Epoch #258: test_reward: 25.000000 ± 0.000000, best_reward: 25.000000 ± 0.000000 in #3\n"
     ]
    },
    {
     "name": "stderr",
     "output_type": "stream",
     "text": [
      "Epoch #259: 1025it [00:03, 262.45it/s, env_step=265216, len=9, n/ep=8, n/st=64, player_1/loss=47.435, player_2/loss=154.808, rew=18.75]                                                                                                                                                                                     \n"
     ]
    },
    {
     "name": "stdout",
     "output_type": "stream",
     "text": [
      "Epoch #259: test_reward: 25.000000 ± 0.000000, best_reward: 25.000000 ± 0.000000 in #3\n"
     ]
    },
    {
     "name": "stderr",
     "output_type": "stream",
     "text": [
      "Epoch #260: 1025it [00:03, 257.31it/s, env_step=266240, len=7, n/ep=9, n/st=64, player_1/loss=34.822, player_2/loss=166.577, rew=25.00]                                                                                                                                                                                     \n"
     ]
    },
    {
     "name": "stdout",
     "output_type": "stream",
     "text": [
      "Epoch #260: test_reward: 25.000000 ± 0.000000, best_reward: 25.000000 ± 0.000000 in #3\n"
     ]
    },
    {
     "name": "stderr",
     "output_type": "stream",
     "text": [
      "Epoch #261: 1025it [00:04, 252.21it/s, env_step=267264, len=7, n/ep=8, n/st=64, player_1/loss=23.157, player_2/loss=177.259, rew=25.00]                                                                                                                                                                                     \n"
     ]
    },
    {
     "name": "stdout",
     "output_type": "stream",
     "text": [
      "Epoch #261: test_reward: 25.000000 ± 0.000000, best_reward: 25.000000 ± 0.000000 in #3\n"
     ]
    },
    {
     "name": "stderr",
     "output_type": "stream",
     "text": [
      "Epoch #262: 1025it [00:03, 259.68it/s, env_step=268288, len=7, n/ep=9, n/st=64, player_1/loss=35.157, player_2/loss=205.006, rew=19.44]                                                                                                                                                                                     \n"
     ]
    },
    {
     "name": "stdout",
     "output_type": "stream",
     "text": [
      "Epoch #262: test_reward: 25.000000 ± 0.000000, best_reward: 25.000000 ± 0.000000 in #3\n"
     ]
    },
    {
     "name": "stderr",
     "output_type": "stream",
     "text": [
      "Epoch #263: 1025it [00:03, 262.10it/s, env_step=269312, len=8, n/ep=8, n/st=64, player_1/loss=22.093, player_2/loss=222.437, rew=25.00]                                                                                                                                                                                     \n"
     ]
    },
    {
     "name": "stdout",
     "output_type": "stream",
     "text": [
      "Epoch #263: test_reward: 25.000000 ± 0.000000, best_reward: 25.000000 ± 0.000000 in #3\n"
     ]
    },
    {
     "name": "stderr",
     "output_type": "stream",
     "text": [
      "Epoch #264: 1025it [00:04, 238.26it/s, env_step=270336, len=7, n/ep=9, n/st=64, player_1/loss=23.017, player_2/loss=203.383, rew=25.00]                                                                                                                                                                                     \n"
     ]
    },
    {
     "name": "stdout",
     "output_type": "stream",
     "text": [
      "Epoch #264: test_reward: 25.000000 ± 0.000000, best_reward: 25.000000 ± 0.000000 in #3\n"
     ]
    },
    {
     "name": "stderr",
     "output_type": "stream",
     "text": [
      "Epoch #265: 1025it [00:03, 296.72it/s, env_step=271360, len=7, n/ep=8, n/st=64, player_1/loss=37.197, player_2/loss=162.491, rew=18.75]                                                                                                                                                                                     \n"
     ]
    },
    {
     "name": "stdout",
     "output_type": "stream",
     "text": [
      "Epoch #265: test_reward: 25.000000 ± 0.000000, best_reward: 25.000000 ± 0.000000 in #3\n"
     ]
    },
    {
     "name": "stderr",
     "output_type": "stream",
     "text": [
      "Epoch #266: 1025it [00:03, 295.59it/s, env_step=272384, len=7, n/ep=8, n/st=64, player_1/loss=99.807, player_2/loss=142.706, rew=18.75]                                                                                                                                                                                     \n"
     ]
    },
    {
     "name": "stdout",
     "output_type": "stream",
     "text": [
      "Epoch #266: test_reward: 25.000000 ± 0.000000, best_reward: 25.000000 ± 0.000000 in #3\n"
     ]
    },
    {
     "name": "stderr",
     "output_type": "stream",
     "text": [
      "Epoch #267: 1025it [00:03, 295.27it/s, env_step=273408, len=8, n/ep=8, n/st=64, player_1/loss=74.528, player_2/loss=205.276, rew=18.75]                                                                                                                                                                                     \n"
     ]
    },
    {
     "name": "stdout",
     "output_type": "stream",
     "text": [
      "Epoch #267: test_reward: -25.000000 ± 0.000000, best_reward: 25.000000 ± 0.000000 in #3\n"
     ]
    },
    {
     "name": "stderr",
     "output_type": "stream",
     "text": [
      "Epoch #268: 1025it [00:03, 293.06it/s, env_step=274432, len=7, n/ep=8, n/st=64, player_1/loss=24.767, player_2/loss=195.300, rew=18.75]                                                                                                                                                                                     \n"
     ]
    },
    {
     "name": "stdout",
     "output_type": "stream",
     "text": [
      "Epoch #268: test_reward: 25.000000 ± 0.000000, best_reward: 25.000000 ± 0.000000 in #3\n"
     ]
    },
    {
     "name": "stderr",
     "output_type": "stream",
     "text": [
      "Epoch #269: 1025it [00:03, 296.15it/s, env_step=275456, len=7, n/ep=9, n/st=64, player_1/loss=29.051, player_2/loss=187.523, rew=19.44]                                                                                                                                                                                     \n"
     ]
    },
    {
     "name": "stdout",
     "output_type": "stream",
     "text": [
      "Epoch #269: test_reward: 25.000000 ± 0.000000, best_reward: 25.000000 ± 0.000000 in #3\n"
     ]
    },
    {
     "name": "stderr",
     "output_type": "stream",
     "text": [
      "Epoch #270: 1025it [00:03, 292.51it/s, env_step=276480, len=7, n/ep=9, n/st=64, player_1/loss=19.107, player_2/loss=185.928, rew=13.89]                                                                                                                                                                                     \n"
     ]
    },
    {
     "name": "stdout",
     "output_type": "stream",
     "text": [
      "Epoch #270: test_reward: 25.000000 ± 0.000000, best_reward: 25.000000 ± 0.000000 in #3\n"
     ]
    },
    {
     "name": "stderr",
     "output_type": "stream",
     "text": [
      "Epoch #271: 1025it [00:03, 299.44it/s, env_step=277504, len=10, n/ep=6, n/st=64, player_1/loss=36.679, player_2/loss=142.645, rew=8.33]                                                                                                                                                                                     \n"
     ]
    },
    {
     "name": "stdout",
     "output_type": "stream",
     "text": [
      "Epoch #271: test_reward: -25.000000 ± 0.000000, best_reward: 25.000000 ± 0.000000 in #3\n"
     ]
    },
    {
     "name": "stderr",
     "output_type": "stream",
     "text": [
      "Epoch #272: 1025it [00:03, 293.80it/s, env_step=278528, len=8, n/ep=7, n/st=64, player_1/loss=42.134, player_2/loss=164.221, rew=25.00]                                                                                                                                                                                     \n"
     ]
    },
    {
     "name": "stdout",
     "output_type": "stream",
     "text": [
      "Epoch #272: test_reward: 25.000000 ± 0.000000, best_reward: 25.000000 ± 0.000000 in #3\n"
     ]
    },
    {
     "name": "stderr",
     "output_type": "stream",
     "text": [
      "Epoch #273: 1025it [00:03, 301.46it/s, env_step=279552, len=7, n/ep=8, n/st=64, player_1/loss=48.985, player_2/loss=152.285, rew=18.75]                                                                                                                                                                                     \n"
     ]
    },
    {
     "name": "stdout",
     "output_type": "stream",
     "text": [
      "Epoch #273: test_reward: 25.000000 ± 0.000000, best_reward: 25.000000 ± 0.000000 in #3\n"
     ]
    },
    {
     "name": "stderr",
     "output_type": "stream",
     "text": [
      "Epoch #274: 1025it [00:03, 292.19it/s, env_step=280576, len=7, n/ep=8, n/st=64, player_1/loss=57.814, player_2/loss=154.492, rew=25.00]                                                                                                                                                                                     \n"
     ]
    },
    {
     "name": "stdout",
     "output_type": "stream",
     "text": [
      "Epoch #274: test_reward: -25.000000 ± 0.000000, best_reward: 25.000000 ± 0.000000 in #3\n"
     ]
    },
    {
     "name": "stderr",
     "output_type": "stream",
     "text": [
      "Epoch #275: 1025it [00:03, 297.43it/s, env_step=281600, len=7, n/ep=8, n/st=64, player_1/loss=49.251, player_2/loss=204.013, rew=12.50]                                                                                                                                                                                     \n"
     ]
    },
    {
     "name": "stdout",
     "output_type": "stream",
     "text": [
      "Epoch #275: test_reward: 25.000000 ± 0.000000, best_reward: 25.000000 ± 0.000000 in #3\n"
     ]
    },
    {
     "name": "stderr",
     "output_type": "stream",
     "text": [
      "Epoch #276: 1025it [00:03, 306.12it/s, env_step=282624, len=7, n/ep=8, n/st=64, player_1/loss=48.969, player_2/loss=173.133, rew=18.75]                                                                                                                                                                                     \n"
     ]
    },
    {
     "name": "stdout",
     "output_type": "stream",
     "text": [
      "Epoch #276: test_reward: 25.000000 ± 0.000000, best_reward: 25.000000 ± 0.000000 in #3\n"
     ]
    },
    {
     "name": "stderr",
     "output_type": "stream",
     "text": [
      "Epoch #277: 1025it [00:03, 295.38it/s, env_step=283648, len=8, n/ep=8, n/st=64, player_1/loss=65.672, player_2/loss=210.030, rew=18.75]                                                                                                                                                                                     \n"
     ]
    },
    {
     "name": "stdout",
     "output_type": "stream",
     "text": [
      "Epoch #277: test_reward: 25.000000 ± 0.000000, best_reward: 25.000000 ± 0.000000 in #3\n"
     ]
    },
    {
     "name": "stderr",
     "output_type": "stream",
     "text": [
      "Epoch #278: 1025it [00:05, 199.96it/s, env_step=284672, len=8, n/ep=8, n/st=64, player_1/loss=54.244, player_2/loss=194.772, rew=25.00]                                                                                                                                                                                     \n"
     ]
    },
    {
     "name": "stdout",
     "output_type": "stream",
     "text": [
      "Epoch #278: test_reward: 25.000000 ± 0.000000, best_reward: 25.000000 ± 0.000000 in #3\n"
     ]
    },
    {
     "name": "stderr",
     "output_type": "stream",
     "text": [
      "Epoch #279: 1025it [00:03, 274.59it/s, env_step=285696, len=7, n/ep=9, n/st=64, player_1/loss=47.550, player_2/loss=151.043, rew=8.33]                                                                                                                                                                                      \n"
     ]
    },
    {
     "name": "stdout",
     "output_type": "stream",
     "text": [
      "Epoch #279: test_reward: 25.000000 ± 0.000000, best_reward: 25.000000 ± 0.000000 in #3\n"
     ]
    },
    {
     "name": "stderr",
     "output_type": "stream",
     "text": [
      "Epoch #280: 1025it [00:04, 229.31it/s, env_step=286720, len=7, n/ep=8, n/st=64, player_1/loss=66.697, player_2/loss=192.935, rew=18.75]                                                                                                                                                                                     \n"
     ]
    },
    {
     "name": "stdout",
     "output_type": "stream",
     "text": [
      "Epoch #280: test_reward: 25.000000 ± 0.000000, best_reward: 25.000000 ± 0.000000 in #3\n"
     ]
    },
    {
     "name": "stderr",
     "output_type": "stream",
     "text": [
      "Epoch #281: 1025it [00:04, 225.73it/s, env_step=287744, len=7, n/ep=8, n/st=64, player_1/loss=54.147, player_2/loss=218.799, rew=25.00]                                                                                                                                                                                     \n"
     ]
    },
    {
     "name": "stdout",
     "output_type": "stream",
     "text": [
      "Epoch #281: test_reward: -25.000000 ± 0.000000, best_reward: 25.000000 ± 0.000000 in #3\n"
     ]
    },
    {
     "name": "stderr",
     "output_type": "stream",
     "text": [
      "Epoch #282: 1025it [00:04, 238.44it/s, env_step=288768, len=7, n/ep=8, n/st=64, player_1/loss=16.967, player_2/loss=175.309, rew=12.50]                                                                                                                                                                                     \n"
     ]
    },
    {
     "name": "stdout",
     "output_type": "stream",
     "text": [
      "Epoch #282: test_reward: 25.000000 ± 0.000000, best_reward: 25.000000 ± 0.000000 in #3\n"
     ]
    },
    {
     "name": "stderr",
     "output_type": "stream",
     "text": [
      "Epoch #283: 1025it [00:04, 224.85it/s, env_step=289792, len=7, n/ep=8, n/st=64, player_1/loss=50.568, player_2/loss=183.233, rew=12.50]                                                                                                                                                                                     \n"
     ]
    },
    {
     "name": "stdout",
     "output_type": "stream",
     "text": [
      "Epoch #283: test_reward: -25.000000 ± 0.000000, best_reward: 25.000000 ± 0.000000 in #3\n"
     ]
    },
    {
     "name": "stderr",
     "output_type": "stream",
     "text": [
      "Epoch #284: 1025it [00:04, 223.29it/s, env_step=290816, len=7, n/ep=8, n/st=64, player_1/loss=43.869, player_2/loss=173.217, rew=18.75]                                                                                                                                                                                     \n"
     ]
    },
    {
     "name": "stdout",
     "output_type": "stream",
     "text": [
      "Epoch #284: test_reward: 25.000000 ± 0.000000, best_reward: 25.000000 ± 0.000000 in #3\n"
     ]
    },
    {
     "name": "stderr",
     "output_type": "stream",
     "text": [
      "Epoch #285: 1025it [00:04, 213.33it/s, env_step=291840, len=7, n/ep=8, n/st=64, player_2/loss=168.295, rew=18.75]                                                                                                                                                                                                           \n"
     ]
    },
    {
     "name": "stdout",
     "output_type": "stream",
     "text": [
      "Epoch #285: test_reward: 25.000000 ± 0.000000, best_reward: 25.000000 ± 0.000000 in #3\n"
     ]
    },
    {
     "name": "stderr",
     "output_type": "stream",
     "text": [
      "Epoch #286: 1025it [00:05, 193.98it/s, env_step=292864, len=7, n/ep=9, n/st=64, player_1/loss=9.633, player_2/loss=164.621, rew=25.00]                                                                                                                                                                                      \n"
     ]
    },
    {
     "name": "stdout",
     "output_type": "stream",
     "text": [
      "Epoch #286: test_reward: 25.000000 ± 0.000000, best_reward: 25.000000 ± 0.000000 in #3\n"
     ]
    },
    {
     "name": "stderr",
     "output_type": "stream",
     "text": [
      "Epoch #287: 1025it [00:05, 198.81it/s, env_step=293888, len=8, n/ep=8, n/st=64, player_1/loss=56.007, player_2/loss=111.183, rew=6.25]                                                                                                                                                                                      \n"
     ]
    },
    {
     "name": "stdout",
     "output_type": "stream",
     "text": [
      "Epoch #287: test_reward: 25.000000 ± 0.000000, best_reward: 25.000000 ± 0.000000 in #3\n"
     ]
    },
    {
     "name": "stderr",
     "output_type": "stream",
     "text": [
      "Epoch #288: 1025it [00:04, 206.38it/s, env_step=294912, len=7, n/ep=8, n/st=64, player_1/loss=39.118, player_2/loss=148.338, rew=18.75]                                                                                                                                                                                     \n"
     ]
    },
    {
     "name": "stdout",
     "output_type": "stream",
     "text": [
      "Epoch #288: test_reward: 25.000000 ± 0.000000, best_reward: 25.000000 ± 0.000000 in #3\n"
     ]
    },
    {
     "name": "stderr",
     "output_type": "stream",
     "text": [
      "Epoch #289: 1025it [00:04, 213.27it/s, env_step=295936, len=10, n/ep=6, n/st=64, player_1/loss=56.678, player_2/loss=153.331, rew=25.00]                                                                                                                                                                                    \n"
     ]
    },
    {
     "name": "stdout",
     "output_type": "stream",
     "text": [
      "Epoch #289: test_reward: 25.000000 ± 0.000000, best_reward: 25.000000 ± 0.000000 in #3\n"
     ]
    },
    {
     "name": "stderr",
     "output_type": "stream",
     "text": [
      "Epoch #290: 1025it [00:04, 224.43it/s, env_step=296960, len=8, n/ep=8, n/st=64, player_1/loss=108.647, player_2/loss=163.423, rew=25.00]                                                                                                                                                                                    \n"
     ]
    },
    {
     "name": "stdout",
     "output_type": "stream",
     "text": [
      "Epoch #290: test_reward: 25.000000 ± 0.000000, best_reward: 25.000000 ± 0.000000 in #3\n"
     ]
    },
    {
     "name": "stderr",
     "output_type": "stream",
     "text": [
      "Epoch #291: 1025it [00:04, 214.88it/s, env_step=297984, len=7, n/ep=9, n/st=64, player_1/loss=107.756, player_2/loss=186.817, rew=13.89]                                                                                                                                                                                    \n"
     ]
    },
    {
     "name": "stdout",
     "output_type": "stream",
     "text": [
      "Epoch #291: test_reward: 25.000000 ± 0.000000, best_reward: 25.000000 ± 0.000000 in #3\n"
     ]
    },
    {
     "name": "stderr",
     "output_type": "stream",
     "text": [
      "Epoch #292: 1025it [00:04, 235.16it/s, env_step=299008, len=7, n/ep=8, n/st=64, player_1/loss=61.211, player_2/loss=201.967, rew=18.75]                                                                                                                                                                                     \n"
     ]
    },
    {
     "name": "stdout",
     "output_type": "stream",
     "text": [
      "Epoch #292: test_reward: -25.000000 ± 0.000000, best_reward: 25.000000 ± 0.000000 in #3\n"
     ]
    },
    {
     "name": "stderr",
     "output_type": "stream",
     "text": [
      "Epoch #293: 1025it [00:04, 241.68it/s, env_step=300032, len=7, n/ep=9, n/st=64, player_1/loss=33.696, player_2/loss=169.855, rew=13.89]                                                                                                                                                                                     \n"
     ]
    },
    {
     "name": "stdout",
     "output_type": "stream",
     "text": [
      "Epoch #293: test_reward: 25.000000 ± 0.000000, best_reward: 25.000000 ± 0.000000 in #3\n"
     ]
    },
    {
     "name": "stderr",
     "output_type": "stream",
     "text": [
      "Epoch #294: 1025it [00:04, 248.97it/s, env_step=301056, len=7, n/ep=8, n/st=64, player_1/loss=49.307, player_2/loss=156.059, rew=18.75]                                                                                                                                                                                     \n"
     ]
    },
    {
     "name": "stdout",
     "output_type": "stream",
     "text": [
      "Epoch #294: test_reward: 25.000000 ± 0.000000, best_reward: 25.000000 ± 0.000000 in #3\n"
     ]
    },
    {
     "name": "stderr",
     "output_type": "stream",
     "text": [
      "Epoch #295: 1025it [00:04, 247.98it/s, env_step=302080, len=8, n/ep=7, n/st=64, player_1/loss=82.634, rew=17.86]                                                                                                                                                                                                            \n"
     ]
    },
    {
     "name": "stdout",
     "output_type": "stream",
     "text": [
      "Epoch #295: test_reward: 25.000000 ± 0.000000, best_reward: 25.000000 ± 0.000000 in #3\n"
     ]
    },
    {
     "name": "stderr",
     "output_type": "stream",
     "text": [
      "Epoch #296: 1025it [00:04, 235.16it/s, env_step=303104, len=7, n/ep=8, n/st=64, player_1/loss=54.267, player_2/loss=197.767, rew=18.75]                                                                                                                                                                                     \n"
     ]
    },
    {
     "name": "stdout",
     "output_type": "stream",
     "text": [
      "Epoch #296: test_reward: 25.000000 ± 0.000000, best_reward: 25.000000 ± 0.000000 in #3\n"
     ]
    },
    {
     "name": "stderr",
     "output_type": "stream",
     "text": [
      "Epoch #297: 1025it [00:04, 236.33it/s, env_step=304128, len=7, n/ep=9, n/st=64, player_1/loss=40.906, player_2/loss=216.448, rew=19.44]                                                                                                                                                                                     \n"
     ]
    },
    {
     "name": "stdout",
     "output_type": "stream",
     "text": [
      "Epoch #297: test_reward: 25.000000 ± 0.000000, best_reward: 25.000000 ± 0.000000 in #3\n"
     ]
    },
    {
     "name": "stderr",
     "output_type": "stream",
     "text": [
      "Epoch #298: 1025it [00:04, 224.78it/s, env_step=305152, len=7, n/ep=9, n/st=64, player_1/loss=41.261, player_2/loss=189.394, rew=25.00]                                                                                                                                                                                     \n"
     ]
    },
    {
     "name": "stdout",
     "output_type": "stream",
     "text": [
      "Epoch #298: test_reward: 25.000000 ± 0.000000, best_reward: 25.000000 ± 0.000000 in #3\n"
     ]
    },
    {
     "name": "stderr",
     "output_type": "stream",
     "text": [
      "Epoch #299: 1025it [00:05, 199.06it/s, env_step=306176, len=7, n/ep=8, n/st=64, player_1/loss=30.667, player_2/loss=197.247, rew=18.75]                                                                                                                                                                                     \n"
     ]
    },
    {
     "name": "stdout",
     "output_type": "stream",
     "text": [
      "Epoch #299: test_reward: 25.000000 ± 0.000000, best_reward: 25.000000 ± 0.000000 in #3\n"
     ]
    },
    {
     "name": "stderr",
     "output_type": "stream",
     "text": [
      "Epoch #300: 1025it [00:05, 195.32it/s, env_step=307200, len=8, n/ep=7, n/st=64, player_1/loss=34.063, player_2/loss=218.449, rew=17.86]                                                                                                                                                                                     \n"
     ]
    },
    {
     "name": "stdout",
     "output_type": "stream",
     "text": [
      "Epoch #300: test_reward: 25.000000 ± 0.000000, best_reward: 25.000000 ± 0.000000 in #3\n"
     ]
    },
    {
     "name": "stderr",
     "output_type": "stream",
     "text": [
      "Epoch #301: 1025it [00:05, 193.20it/s, env_step=308224, len=8, n/ep=8, n/st=64, player_1/loss=41.535, player_2/loss=226.280, rew=18.75]                                                                                                                                                                                     \n"
     ]
    },
    {
     "name": "stdout",
     "output_type": "stream",
     "text": [
      "Epoch #301: test_reward: 25.000000 ± 0.000000, best_reward: 25.000000 ± 0.000000 in #3\n"
     ]
    },
    {
     "name": "stderr",
     "output_type": "stream",
     "text": [
      "Epoch #302: 1025it [00:04, 215.90it/s, env_step=309248, len=8, n/ep=8, n/st=64, player_1/loss=37.010, player_2/loss=192.306, rew=12.50]                                                                                                                                                                                     \n"
     ]
    },
    {
     "name": "stdout",
     "output_type": "stream",
     "text": [
      "Epoch #302: test_reward: 25.000000 ± 0.000000, best_reward: 25.000000 ± 0.000000 in #3\n"
     ]
    },
    {
     "name": "stderr",
     "output_type": "stream",
     "text": [
      "Epoch #303: 1025it [00:02, 369.33it/s, env_step=310272, len=7, n/ep=9, n/st=64, player_1/loss=36.350, player_2/loss=146.641, rew=13.89]                                                                                                                                                                                     \n"
     ]
    },
    {
     "name": "stdout",
     "output_type": "stream",
     "text": [
      "Epoch #303: test_reward: 25.000000 ± 0.000000, best_reward: 25.000000 ± 0.000000 in #3\n"
     ]
    },
    {
     "name": "stderr",
     "output_type": "stream",
     "text": [
      "Epoch #304: 1025it [00:02, 353.71it/s, env_step=311296, len=7, n/ep=8, n/st=64, player_1/loss=31.162, player_2/loss=169.340, rew=12.50]                                                                                                                                                                                     \n"
     ]
    },
    {
     "name": "stdout",
     "output_type": "stream",
     "text": [
      "Epoch #304: test_reward: 25.000000 ± 0.000000, best_reward: 25.000000 ± 0.000000 in #3\n"
     ]
    },
    {
     "name": "stderr",
     "output_type": "stream",
     "text": [
      "Epoch #305: 1025it [00:02, 354.03it/s, env_step=312320, len=7, n/ep=9, n/st=64, player_1/loss=35.590, player_2/loss=169.089, rew=25.00]                                                                                                                                                                                     \n"
     ]
    },
    {
     "name": "stdout",
     "output_type": "stream",
     "text": [
      "Epoch #305: test_reward: 25.000000 ± 0.000000, best_reward: 25.000000 ± 0.000000 in #3\n"
     ]
    },
    {
     "name": "stderr",
     "output_type": "stream",
     "text": [
      "Epoch #306: 1025it [00:02, 360.15it/s, env_step=313344, len=7, n/ep=8, n/st=64, player_1/loss=68.801, player_2/loss=209.149, rew=6.25]                                                                                                                                                                                      \n"
     ]
    },
    {
     "name": "stdout",
     "output_type": "stream",
     "text": [
      "Epoch #306: test_reward: 25.000000 ± 0.000000, best_reward: 25.000000 ± 0.000000 in #3\n"
     ]
    },
    {
     "name": "stderr",
     "output_type": "stream",
     "text": [
      "Epoch #307: 1025it [00:02, 358.09it/s, env_step=314368, len=7, n/ep=8, n/st=64, player_1/loss=119.080, player_2/loss=204.419, rew=12.50]                                                                                                                                                                                    \n"
     ]
    },
    {
     "name": "stdout",
     "output_type": "stream",
     "text": [
      "Epoch #307: test_reward: 25.000000 ± 0.000000, best_reward: 25.000000 ± 0.000000 in #3\n"
     ]
    },
    {
     "name": "stderr",
     "output_type": "stream",
     "text": [
      "Epoch #308: 1025it [00:02, 355.83it/s, env_step=315392, len=7, n/ep=9, n/st=64, player_1/loss=76.093, player_2/loss=187.936, rew=19.44]                                                                                                                                                                                     \n"
     ]
    },
    {
     "name": "stdout",
     "output_type": "stream",
     "text": [
      "Epoch #308: test_reward: 25.000000 ± 0.000000, best_reward: 25.000000 ± 0.000000 in #3\n"
     ]
    },
    {
     "name": "stderr",
     "output_type": "stream",
     "text": [
      "Epoch #309: 1025it [00:02, 353.01it/s, env_step=316416, len=7, n/ep=9, n/st=64, player_1/loss=16.946, player_2/loss=193.613, rew=19.44]                                                                                                                                                                                     \n"
     ]
    },
    {
     "name": "stdout",
     "output_type": "stream",
     "text": [
      "Epoch #309: test_reward: 25.000000 ± 0.000000, best_reward: 25.000000 ± 0.000000 in #3\n"
     ]
    },
    {
     "name": "stderr",
     "output_type": "stream",
     "text": [
      "Epoch #310: 1025it [00:02, 356.21it/s, env_step=317440, len=9, n/ep=7, n/st=64, player_1/loss=11.428, player_2/loss=171.610, rew=10.71]                                                                                                                                                                                     \n"
     ]
    },
    {
     "name": "stdout",
     "output_type": "stream",
     "text": [
      "Epoch #310: test_reward: 25.000000 ± 0.000000, best_reward: 25.000000 ± 0.000000 in #3\n"
     ]
    },
    {
     "name": "stderr",
     "output_type": "stream",
     "text": [
      "Epoch #311: 1025it [00:02, 353.06it/s, env_step=318464, len=11, n/ep=6, n/st=64, player_1/loss=22.362, player_2/loss=188.707, rew=8.33]                                                                                                                                                                                     \n"
     ]
    },
    {
     "name": "stdout",
     "output_type": "stream",
     "text": [
      "Epoch #311: test_reward: 25.000000 ± 0.000000, best_reward: 25.000000 ± 0.000000 in #3\n"
     ]
    },
    {
     "name": "stderr",
     "output_type": "stream",
     "text": [
      "Epoch #312: 1025it [00:02, 361.47it/s, env_step=319488, len=7, n/ep=8, n/st=64, player_1/loss=19.908, player_2/loss=182.465, rew=25.00]                                                                                                                                                                                     \n"
     ]
    },
    {
     "name": "stdout",
     "output_type": "stream",
     "text": [
      "Epoch #312: test_reward: 25.000000 ± 0.000000, best_reward: 25.000000 ± 0.000000 in #3\n"
     ]
    },
    {
     "name": "stderr",
     "output_type": "stream",
     "text": [
      "Epoch #313: 1025it [00:02, 368.97it/s, env_step=320512, len=7, n/ep=8, n/st=64, player_1/loss=37.836, player_2/loss=184.519, rew=18.75]                                                                                                                                                                                     \n"
     ]
    },
    {
     "name": "stdout",
     "output_type": "stream",
     "text": [
      "Epoch #313: test_reward: 25.000000 ± 0.000000, best_reward: 25.000000 ± 0.000000 in #3\n"
     ]
    },
    {
     "name": "stderr",
     "output_type": "stream",
     "text": [
      "Epoch #314: 1025it [00:02, 355.83it/s, env_step=321536, len=7, n/ep=8, n/st=64, player_1/loss=29.520, player_2/loss=167.223, rew=18.75]                                                                                                                                                                                     \n"
     ]
    },
    {
     "name": "stdout",
     "output_type": "stream",
     "text": [
      "Epoch #314: test_reward: 25.000000 ± 0.000000, best_reward: 25.000000 ± 0.000000 in #3\n"
     ]
    },
    {
     "name": "stderr",
     "output_type": "stream",
     "text": [
      "Epoch #315: 1025it [00:04, 238.41it/s, env_step=322560, len=7, n/ep=9, n/st=64, player_1/loss=27.901, player_2/loss=171.937, rew=19.44]                                                                                                                                                                                     \n"
     ]
    },
    {
     "name": "stdout",
     "output_type": "stream",
     "text": [
      "Epoch #315: test_reward: 25.000000 ± 0.000000, best_reward: 25.000000 ± 0.000000 in #3\n"
     ]
    },
    {
     "name": "stderr",
     "output_type": "stream",
     "text": [
      "Epoch #316: 1025it [00:03, 258.66it/s, env_step=323584, len=7, n/ep=9, n/st=64, player_1/loss=41.052, player_2/loss=178.584, rew=25.00]                                                                                                                                                                                     \n"
     ]
    },
    {
     "name": "stdout",
     "output_type": "stream",
     "text": [
      "Epoch #316: test_reward: 25.000000 ± 0.000000, best_reward: 25.000000 ± 0.000000 in #3\n"
     ]
    },
    {
     "name": "stderr",
     "output_type": "stream",
     "text": [
      "Epoch #317: 1025it [00:03, 263.40it/s, env_step=324608, len=7, n/ep=8, n/st=64, player_1/loss=38.509, player_2/loss=184.497, rew=25.00]                                                                                                                                                                                     \n"
     ]
    },
    {
     "name": "stdout",
     "output_type": "stream",
     "text": [
      "Epoch #317: test_reward: -25.000000 ± 0.000000, best_reward: 25.000000 ± 0.000000 in #3\n"
     ]
    },
    {
     "name": "stderr",
     "output_type": "stream",
     "text": [
      "Epoch #318: 1025it [00:04, 251.77it/s, env_step=325632, len=7, n/ep=8, n/st=64, player_1/loss=47.846, player_2/loss=199.497, rew=18.75]                                                                                                                                                                                     \n"
     ]
    },
    {
     "name": "stdout",
     "output_type": "stream",
     "text": [
      "Epoch #318: test_reward: 25.000000 ± 0.000000, best_reward: 25.000000 ± 0.000000 in #3\n"
     ]
    },
    {
     "name": "stderr",
     "output_type": "stream",
     "text": [
      "Epoch #319: 1025it [00:04, 251.59it/s, env_step=326656, len=7, n/ep=9, n/st=64, player_1/loss=40.886, player_2/loss=178.725, rew=25.00]                                                                                                                                                                                     \n"
     ]
    },
    {
     "name": "stdout",
     "output_type": "stream",
     "text": [
      "Epoch #319: test_reward: 25.000000 ± 0.000000, best_reward: 25.000000 ± 0.000000 in #3\n"
     ]
    },
    {
     "name": "stderr",
     "output_type": "stream",
     "text": [
      "Epoch #320: 1025it [00:04, 253.41it/s, env_step=327680, len=10, n/ep=6, n/st=64, player_1/loss=28.021, rew=8.33]                                                                                                                                                                                                            \n"
     ]
    },
    {
     "name": "stdout",
     "output_type": "stream",
     "text": [
      "Epoch #320: test_reward: 25.000000 ± 0.000000, best_reward: 25.000000 ± 0.000000 in #3\n"
     ]
    },
    {
     "name": "stderr",
     "output_type": "stream",
     "text": [
      "Epoch #321: 1025it [00:04, 225.71it/s, env_step=328704, len=7, n/ep=9, n/st=64, player_1/loss=58.169, player_2/loss=222.272, rew=19.44]                                                                                                                                                                                     \n"
     ]
    },
    {
     "name": "stdout",
     "output_type": "stream",
     "text": [
      "Epoch #321: test_reward: 25.000000 ± 0.000000, best_reward: 25.000000 ± 0.000000 in #3\n"
     ]
    },
    {
     "name": "stderr",
     "output_type": "stream",
     "text": [
      "Epoch #322: 1025it [00:04, 243.04it/s, env_step=329728, len=8, n/ep=8, n/st=64, player_1/loss=38.253, player_2/loss=228.526, rew=18.75]                                                                                                                                                                                     \n"
     ]
    },
    {
     "name": "stdout",
     "output_type": "stream",
     "text": [
      "Epoch #322: test_reward: 25.000000 ± 0.000000, best_reward: 25.000000 ± 0.000000 in #3\n"
     ]
    },
    {
     "name": "stderr",
     "output_type": "stream",
     "text": [
      "Epoch #323: 1025it [00:04, 242.86it/s, env_step=330752, len=11, n/ep=6, n/st=64, player_1/loss=31.669, player_2/loss=207.362, rew=8.33]                                                                                                                                                                                     \n"
     ]
    },
    {
     "name": "stdout",
     "output_type": "stream",
     "text": [
      "Epoch #323: test_reward: 25.000000 ± 0.000000, best_reward: 25.000000 ± 0.000000 in #3\n"
     ]
    },
    {
     "name": "stderr",
     "output_type": "stream",
     "text": [
      "Epoch #324: 1025it [00:03, 259.27it/s, env_step=331776, len=7, n/ep=9, n/st=64, player_1/loss=37.601, player_2/loss=195.897, rew=25.00]                                                                                                                                                                                     \n"
     ]
    },
    {
     "name": "stdout",
     "output_type": "stream",
     "text": [
      "Epoch #324: test_reward: 25.000000 ± 0.000000, best_reward: 25.000000 ± 0.000000 in #3\n"
     ]
    },
    {
     "name": "stderr",
     "output_type": "stream",
     "text": [
      "Epoch #325: 1025it [00:04, 236.62it/s, env_step=332800, len=7, n/ep=8, n/st=64, player_1/loss=46.419, player_2/loss=222.058, rew=12.50]                                                                                                                                                                                     \n"
     ]
    },
    {
     "name": "stdout",
     "output_type": "stream",
     "text": [
      "Epoch #325: test_reward: 25.000000 ± 0.000000, best_reward: 25.000000 ± 0.000000 in #3\n"
     ]
    },
    {
     "name": "stderr",
     "output_type": "stream",
     "text": [
      "Epoch #326: 1025it [00:04, 232.33it/s, env_step=333824, len=7, n/ep=8, n/st=64, player_1/loss=50.108, player_2/loss=165.495, rew=18.75]                                                                                                                                                                                     \n"
     ]
    },
    {
     "name": "stdout",
     "output_type": "stream",
     "text": [
      "Epoch #326: test_reward: -25.000000 ± 0.000000, best_reward: 25.000000 ± 0.000000 in #3\n"
     ]
    },
    {
     "name": "stderr",
     "output_type": "stream",
     "text": [
      "Epoch #327: 1025it [00:04, 219.87it/s, env_step=334848, len=8, n/ep=8, n/st=64, player_1/loss=59.281, player_2/loss=162.405, rew=12.50]                                                                                                                                                                                     \n"
     ]
    },
    {
     "name": "stdout",
     "output_type": "stream",
     "text": [
      "Epoch #327: test_reward: 25.000000 ± 0.000000, best_reward: 25.000000 ± 0.000000 in #3\n"
     ]
    },
    {
     "name": "stderr",
     "output_type": "stream",
     "text": [
      "Epoch #328: 1025it [00:05, 195.27it/s, env_step=335872, len=7, n/ep=9, n/st=64, player_1/loss=37.899, rew=19.44]                                                                                                                                                                                                            \n"
     ]
    },
    {
     "name": "stdout",
     "output_type": "stream",
     "text": [
      "Epoch #328: test_reward: -25.000000 ± 0.000000, best_reward: 25.000000 ± 0.000000 in #3\n"
     ]
    },
    {
     "name": "stderr",
     "output_type": "stream",
     "text": [
      "Epoch #329: 1025it [00:04, 208.60it/s, env_step=336896, len=7, n/ep=8, n/st=64, player_1/loss=22.762, player_2/loss=195.001, rew=18.75]                                                                                                                                                                                     \n"
     ]
    },
    {
     "name": "stdout",
     "output_type": "stream",
     "text": [
      "Epoch #329: test_reward: 25.000000 ± 0.000000, best_reward: 25.000000 ± 0.000000 in #3\n"
     ]
    },
    {
     "name": "stderr",
     "output_type": "stream",
     "text": [
      "Epoch #330: 1025it [00:04, 236.31it/s, env_step=337920, len=7, n/ep=8, n/st=64, player_1/loss=29.382, player_2/loss=187.131, rew=18.75]                                                                                                                                                                                     \n"
     ]
    },
    {
     "name": "stdout",
     "output_type": "stream",
     "text": [
      "Epoch #330: test_reward: 25.000000 ± 0.000000, best_reward: 25.000000 ± 0.000000 in #3\n"
     ]
    },
    {
     "name": "stderr",
     "output_type": "stream",
     "text": [
      "Epoch #331: 1025it [00:03, 312.29it/s, env_step=338944, len=7, n/ep=8, n/st=64, player_1/loss=27.556, player_2/loss=168.334, rew=18.75]                                                                                                                                                                                     \n"
     ]
    },
    {
     "name": "stdout",
     "output_type": "stream",
     "text": [
      "Epoch #331: test_reward: -25.000000 ± 0.000000, best_reward: 25.000000 ± 0.000000 in #3\n"
     ]
    },
    {
     "name": "stderr",
     "output_type": "stream",
     "text": [
      "Epoch #332: 1025it [00:03, 260.68it/s, env_step=339968, len=8, n/ep=8, n/st=64, player_1/loss=51.602, player_2/loss=191.064, rew=25.00]                                                                                                                                                                                     \n"
     ]
    },
    {
     "name": "stdout",
     "output_type": "stream",
     "text": [
      "Epoch #332: test_reward: 25.000000 ± 0.000000, best_reward: 25.000000 ± 0.000000 in #3\n"
     ]
    },
    {
     "name": "stderr",
     "output_type": "stream",
     "text": [
      "Epoch #333: 1025it [00:04, 247.11it/s, env_step=340992, len=7, n/ep=8, n/st=64, player_1/loss=52.299, player_2/loss=191.242, rew=18.75]                                                                                                                                                                                     \n"
     ]
    },
    {
     "name": "stdout",
     "output_type": "stream",
     "text": [
      "Epoch #333: test_reward: 25.000000 ± 0.000000, best_reward: 25.000000 ± 0.000000 in #3\n"
     ]
    },
    {
     "name": "stderr",
     "output_type": "stream",
     "text": [
      "Epoch #334: 1025it [00:04, 247.33it/s, env_step=342016, len=8, n/ep=8, n/st=64, player_1/loss=45.248, player_2/loss=205.145, rew=18.75]                                                                                                                                                                                     \n"
     ]
    },
    {
     "name": "stdout",
     "output_type": "stream",
     "text": [
      "Epoch #334: test_reward: 25.000000 ± 0.000000, best_reward: 25.000000 ± 0.000000 in #3\n"
     ]
    },
    {
     "name": "stderr",
     "output_type": "stream",
     "text": [
      "Epoch #335: 1025it [00:04, 247.15it/s, env_step=343040, len=7, n/ep=9, n/st=64, player_1/loss=21.691, player_2/loss=169.557, rew=13.89]                                                                                                                                                                                     \n"
     ]
    },
    {
     "name": "stdout",
     "output_type": "stream",
     "text": [
      "Epoch #335: test_reward: 25.000000 ± 0.000000, best_reward: 25.000000 ± 0.000000 in #3\n"
     ]
    },
    {
     "name": "stderr",
     "output_type": "stream",
     "text": [
      "Epoch #336: 1025it [00:03, 256.81it/s, env_step=344064, len=7, n/ep=8, n/st=64, player_1/loss=24.444, player_2/loss=183.733, rew=18.75]                                                                                                                                                                                     \n"
     ]
    },
    {
     "name": "stdout",
     "output_type": "stream",
     "text": [
      "Epoch #336: test_reward: 25.000000 ± 0.000000, best_reward: 25.000000 ± 0.000000 in #3\n"
     ]
    },
    {
     "name": "stderr",
     "output_type": "stream",
     "text": [
      "Epoch #337: 1025it [00:03, 287.91it/s, env_step=345088, len=8, n/ep=8, n/st=64, player_1/loss=38.645, player_2/loss=184.421, rew=12.50]                                                                                                                                                                                     \n"
     ]
    },
    {
     "name": "stdout",
     "output_type": "stream",
     "text": [
      "Epoch #337: test_reward: 25.000000 ± 0.000000, best_reward: 25.000000 ± 0.000000 in #3\n"
     ]
    },
    {
     "name": "stderr",
     "output_type": "stream",
     "text": [
      "Epoch #338: 1025it [00:03, 303.51it/s, env_step=346112, len=10, n/ep=6, n/st=64, player_1/loss=46.243, player_2/loss=172.844, rew=16.67]                                                                                                                                                                                    \n"
     ]
    },
    {
     "name": "stdout",
     "output_type": "stream",
     "text": [
      "Epoch #338: test_reward: 25.000000 ± 0.000000, best_reward: 25.000000 ± 0.000000 in #3\n"
     ]
    },
    {
     "name": "stderr",
     "output_type": "stream",
     "text": [
      "Epoch #339: 1025it [00:03, 263.40it/s, env_step=347136, len=8, n/ep=7, n/st=64, player_1/loss=57.666, player_2/loss=192.070, rew=17.86]                                                                                                                                                                                     \n"
     ]
    },
    {
     "name": "stdout",
     "output_type": "stream",
     "text": [
      "Epoch #339: test_reward: 25.000000 ± 0.000000, best_reward: 25.000000 ± 0.000000 in #3\n"
     ]
    },
    {
     "name": "stderr",
     "output_type": "stream",
     "text": [
      "Epoch #340: 1025it [00:04, 240.89it/s, env_step=348160, len=8, n/ep=8, n/st=64, player_1/loss=42.242, player_2/loss=174.941, rew=25.00]                                                                                                                                                                                     \n"
     ]
    },
    {
     "name": "stdout",
     "output_type": "stream",
     "text": [
      "Epoch #340: test_reward: 25.000000 ± 0.000000, best_reward: 25.000000 ± 0.000000 in #3\n"
     ]
    },
    {
     "name": "stderr",
     "output_type": "stream",
     "text": [
      "Epoch #341: 1025it [00:05, 197.51it/s, env_step=349184, len=7, n/ep=8, n/st=64, player_1/loss=18.920, player_2/loss=172.707, rew=18.75]                                                                                                                                                                                     \n"
     ]
    },
    {
     "name": "stdout",
     "output_type": "stream",
     "text": [
      "Epoch #341: test_reward: 25.000000 ± 0.000000, best_reward: 25.000000 ± 0.000000 in #3\n"
     ]
    },
    {
     "name": "stderr",
     "output_type": "stream",
     "text": [
      "Epoch #342: 1025it [00:04, 241.40it/s, env_step=350208, len=9, n/ep=7, n/st=64, player_1/loss=22.641, player_2/loss=216.361, rew=17.86]                                                                                                                                                                                     \n"
     ]
    },
    {
     "name": "stdout",
     "output_type": "stream",
     "text": [
      "Epoch #342: test_reward: 25.000000 ± 0.000000, best_reward: 25.000000 ± 0.000000 in #3\n"
     ]
    },
    {
     "name": "stderr",
     "output_type": "stream",
     "text": [
      "Epoch #343: 1025it [00:03, 277.47it/s, env_step=351232, len=7, n/ep=8, n/st=64, player_1/loss=49.981, player_2/loss=221.886, rew=25.00]                                                                                                                                                                                     \n"
     ]
    },
    {
     "name": "stdout",
     "output_type": "stream",
     "text": [
      "Epoch #343: test_reward: 25.000000 ± 0.000000, best_reward: 25.000000 ± 0.000000 in #3\n"
     ]
    },
    {
     "name": "stderr",
     "output_type": "stream",
     "text": [
      "Epoch #344: 1025it [00:03, 276.70it/s, env_step=352256, len=7, n/ep=8, n/st=64, player_1/loss=56.851, player_2/loss=184.288, rew=25.00]                                                                                                                                                                                     \n"
     ]
    },
    {
     "name": "stdout",
     "output_type": "stream",
     "text": [
      "Epoch #344: test_reward: 25.000000 ± 0.000000, best_reward: 25.000000 ± 0.000000 in #3\n"
     ]
    },
    {
     "name": "stderr",
     "output_type": "stream",
     "text": [
      "Epoch #345: 1025it [00:03, 273.65it/s, env_step=353280, len=9, n/ep=7, n/st=64, player_1/loss=39.117, player_2/loss=212.083, rew=10.71]                                                                                                                                                                                     \n"
     ]
    },
    {
     "name": "stdout",
     "output_type": "stream",
     "text": [
      "Epoch #345: test_reward: 25.000000 ± 0.000000, best_reward: 25.000000 ± 0.000000 in #3\n"
     ]
    },
    {
     "name": "stderr",
     "output_type": "stream",
     "text": [
      "Epoch #346: 1025it [00:03, 274.99it/s, env_step=354304, len=8, n/ep=7, n/st=64, player_1/loss=18.970, player_2/loss=195.697, rew=10.71]                                                                                                                                                                                     \n"
     ]
    },
    {
     "name": "stdout",
     "output_type": "stream",
     "text": [
      "Epoch #346: test_reward: -25.000000 ± 0.000000, best_reward: 25.000000 ± 0.000000 in #3\n"
     ]
    },
    {
     "name": "stderr",
     "output_type": "stream",
     "text": [
      "Epoch #347: 1025it [00:03, 284.31it/s, env_step=355328, len=7, n/ep=9, n/st=64, player_1/loss=37.484, player_2/loss=168.865, rew=13.89]                                                                                                                                                                                     \n"
     ]
    },
    {
     "name": "stdout",
     "output_type": "stream",
     "text": [
      "Epoch #347: test_reward: 25.000000 ± 0.000000, best_reward: 25.000000 ± 0.000000 in #3\n"
     ]
    },
    {
     "name": "stderr",
     "output_type": "stream",
     "text": [
      "Epoch #348: 1025it [00:03, 268.39it/s, env_step=356352, len=7, n/ep=9, n/st=64, player_1/loss=31.640, player_2/loss=186.756, rew=19.44]                                                                                                                                                                                     \n"
     ]
    },
    {
     "name": "stdout",
     "output_type": "stream",
     "text": [
      "Epoch #348: test_reward: 25.000000 ± 0.000000, best_reward: 25.000000 ± 0.000000 in #3\n"
     ]
    },
    {
     "name": "stderr",
     "output_type": "stream",
     "text": [
      "Epoch #349: 1025it [00:03, 272.56it/s, env_step=357376, len=7, n/ep=9, n/st=64, player_1/loss=22.551, player_2/loss=174.198, rew=25.00]                                                                                                                                                                                     \n"
     ]
    },
    {
     "name": "stdout",
     "output_type": "stream",
     "text": [
      "Epoch #349: test_reward: 25.000000 ± 0.000000, best_reward: 25.000000 ± 0.000000 in #3\n"
     ]
    },
    {
     "name": "stderr",
     "output_type": "stream",
     "text": [
      "Epoch #350: 1025it [00:03, 288.65it/s, env_step=358400, len=7, n/ep=9, n/st=64, player_1/loss=23.305, player_2/loss=174.107, rew=19.44]                                                                                                                                                                                     \n"
     ]
    },
    {
     "name": "stdout",
     "output_type": "stream",
     "text": [
      "Epoch #350: test_reward: -25.000000 ± 0.000000, best_reward: 25.000000 ± 0.000000 in #3\n"
     ]
    },
    {
     "name": "stderr",
     "output_type": "stream",
     "text": [
      "Epoch #351: 1025it [00:03, 311.09it/s, env_step=359424, len=8, n/ep=8, n/st=64, player_1/loss=14.309, player_2/loss=214.492, rew=6.25]                                                                                                                                                                                      \n"
     ]
    },
    {
     "name": "stdout",
     "output_type": "stream",
     "text": [
      "Epoch #351: test_reward: 25.000000 ± 0.000000, best_reward: 25.000000 ± 0.000000 in #3\n"
     ]
    },
    {
     "name": "stderr",
     "output_type": "stream",
     "text": [
      "Epoch #352: 1025it [00:04, 231.84it/s, env_step=360448, len=8, n/ep=7, n/st=64, player_1/loss=7.824, player_2/loss=182.483, rew=17.86]                                                                                                                                                                                      \n"
     ]
    },
    {
     "name": "stdout",
     "output_type": "stream",
     "text": [
      "Epoch #352: test_reward: 25.000000 ± 0.000000, best_reward: 25.000000 ± 0.000000 in #3\n"
     ]
    },
    {
     "name": "stderr",
     "output_type": "stream",
     "text": [
      "Epoch #353: 1025it [00:04, 225.53it/s, env_step=361472, len=7, n/ep=8, n/st=64, player_1/loss=23.696, player_2/loss=120.859, rew=18.75]                                                                                                                                                                                     \n"
     ]
    },
    {
     "name": "stdout",
     "output_type": "stream",
     "text": [
      "Epoch #353: test_reward: 25.000000 ± 0.000000, best_reward: 25.000000 ± 0.000000 in #3\n"
     ]
    },
    {
     "name": "stderr",
     "output_type": "stream",
     "text": [
      "Epoch #354: 1025it [00:08, 127.21it/s, env_step=362496, len=7, n/ep=9, n/st=64, player_1/loss=54.496, player_2/loss=145.605, rew=19.44]                                                                                                                                                                                     \n"
     ]
    },
    {
     "name": "stdout",
     "output_type": "stream",
     "text": [
      "Epoch #354: test_reward: 25.000000 ± 0.000000, best_reward: 25.000000 ± 0.000000 in #3\n"
     ]
    },
    {
     "name": "stderr",
     "output_type": "stream",
     "text": [
      "Epoch #355: 1025it [00:11, 87.60it/s, env_step=363520, len=7, n/ep=8, n/st=64, player_1/loss=52.040, player_2/loss=149.390, rew=25.00]                                                                                                                                                                                      \n"
     ]
    },
    {
     "name": "stdout",
     "output_type": "stream",
     "text": [
      "Epoch #355: test_reward: 25.000000 ± 0.000000, best_reward: 25.000000 ± 0.000000 in #3\n"
     ]
    },
    {
     "name": "stderr",
     "output_type": "stream",
     "text": [
      "Epoch #356: 1025it [00:06, 147.71it/s, env_step=364544, len=7, n/ep=8, n/st=64, player_1/loss=19.722, player_2/loss=172.751, rew=18.75]                                                                                                                                                                                     \n"
     ]
    },
    {
     "name": "stdout",
     "output_type": "stream",
     "text": [
      "Epoch #356: test_reward: 25.000000 ± 0.000000, best_reward: 25.000000 ± 0.000000 in #3\n"
     ]
    },
    {
     "name": "stderr",
     "output_type": "stream",
     "text": [
      "Epoch #357: 1025it [00:05, 199.90it/s, env_step=365568, len=7, n/ep=9, n/st=64, player_1/loss=40.615, player_2/loss=205.796, rew=25.00]                                                                                                                                                                                     \n"
     ]
    },
    {
     "name": "stdout",
     "output_type": "stream",
     "text": [
      "Epoch #357: test_reward: -25.000000 ± 0.000000, best_reward: 25.000000 ± 0.000000 in #3\n"
     ]
    },
    {
     "name": "stderr",
     "output_type": "stream",
     "text": [
      "Epoch #358: 1025it [00:04, 229.23it/s, env_step=366592, len=7, n/ep=9, n/st=64, player_1/loss=58.774, player_2/loss=208.029, rew=19.44]                                                                                                                                                                                     \n"
     ]
    },
    {
     "name": "stdout",
     "output_type": "stream",
     "text": [
      "Epoch #358: test_reward: 25.000000 ± 0.000000, best_reward: 25.000000 ± 0.000000 in #3\n"
     ]
    },
    {
     "name": "stderr",
     "output_type": "stream",
     "text": [
      "Epoch #359: 1025it [00:04, 225.98it/s, env_step=367616, len=7, n/ep=8, n/st=64, player_1/loss=30.902, player_2/loss=151.803, rew=18.75]                                                                                                                                                                                     \n"
     ]
    },
    {
     "name": "stdout",
     "output_type": "stream",
     "text": [
      "Epoch #359: test_reward: 25.000000 ± 0.000000, best_reward: 25.000000 ± 0.000000 in #3\n"
     ]
    },
    {
     "name": "stderr",
     "output_type": "stream",
     "text": [
      "Epoch #360: 1025it [00:04, 242.32it/s, env_step=368640, len=7, n/ep=8, n/st=64, player_1/loss=36.701, player_2/loss=162.101, rew=6.25]                                                                                                                                                                                      \n"
     ]
    },
    {
     "name": "stdout",
     "output_type": "stream",
     "text": [
      "Epoch #360: test_reward: 25.000000 ± 0.000000, best_reward: 25.000000 ± 0.000000 in #3\n"
     ]
    },
    {
     "name": "stderr",
     "output_type": "stream",
     "text": [
      "Epoch #361: 1025it [00:04, 242.62it/s, env_step=369664, len=7, n/ep=9, n/st=64, player_1/loss=61.961, player_2/loss=204.036, rew=19.44]                                                                                                                                                                                     \n"
     ]
    },
    {
     "name": "stdout",
     "output_type": "stream",
     "text": [
      "Epoch #361: test_reward: 25.000000 ± 0.000000, best_reward: 25.000000 ± 0.000000 in #3\n"
     ]
    },
    {
     "name": "stderr",
     "output_type": "stream",
     "text": [
      "Epoch #362: 1025it [00:04, 250.63it/s, env_step=370688, len=7, n/ep=8, n/st=64, player_1/loss=60.604, player_2/loss=224.346, rew=18.75]                                                                                                                                                                                     \n"
     ]
    },
    {
     "name": "stdout",
     "output_type": "stream",
     "text": [
      "Epoch #362: test_reward: -25.000000 ± 0.000000, best_reward: 25.000000 ± 0.000000 in #3\n"
     ]
    },
    {
     "name": "stderr",
     "output_type": "stream",
     "text": [
      "Epoch #363: 1025it [00:04, 244.82it/s, env_step=371712, len=8, n/ep=8, n/st=64, player_1/loss=45.734, player_2/loss=208.664, rew=6.25]                                                                                                                                                                                      \n"
     ]
    },
    {
     "name": "stdout",
     "output_type": "stream",
     "text": [
      "Epoch #363: test_reward: 25.000000 ± 0.000000, best_reward: 25.000000 ± 0.000000 in #3\n"
     ]
    },
    {
     "name": "stderr",
     "output_type": "stream",
     "text": [
      "Epoch #364: 1025it [00:04, 240.33it/s, env_step=372736, len=7, n/ep=8, n/st=64, player_1/loss=32.659, player_2/loss=191.484, rew=12.50]                                                                                                                                                                                     \n"
     ]
    },
    {
     "name": "stdout",
     "output_type": "stream",
     "text": [
      "Epoch #364: test_reward: 25.000000 ± 0.000000, best_reward: 25.000000 ± 0.000000 in #3\n"
     ]
    },
    {
     "name": "stderr",
     "output_type": "stream",
     "text": [
      "Epoch #365: 1025it [00:04, 239.47it/s, env_step=373760, len=8, n/ep=8, n/st=64, player_1/loss=39.780, player_2/loss=193.915, rew=18.75]                                                                                                                                                                                     \n"
     ]
    },
    {
     "name": "stdout",
     "output_type": "stream",
     "text": [
      "Epoch #365: test_reward: 25.000000 ± 0.000000, best_reward: 25.000000 ± 0.000000 in #3\n"
     ]
    },
    {
     "name": "stderr",
     "output_type": "stream",
     "text": [
      "Epoch #366: 1025it [00:03, 310.36it/s, env_step=374784, len=7, n/ep=8, n/st=64, player_1/loss=47.670, player_2/loss=200.224, rew=18.75]                                                                                                                                                                                     \n"
     ]
    },
    {
     "name": "stdout",
     "output_type": "stream",
     "text": [
      "Epoch #366: test_reward: 25.000000 ± 0.000000, best_reward: 25.000000 ± 0.000000 in #3\n"
     ]
    },
    {
     "name": "stderr",
     "output_type": "stream",
     "text": [
      "Epoch #367: 1025it [00:03, 307.70it/s, env_step=375808, len=7, n/ep=8, n/st=64, player_1/loss=71.411, player_2/loss=212.262, rew=25.00]                                                                                                                                                                                     \n"
     ]
    },
    {
     "name": "stdout",
     "output_type": "stream",
     "text": [
      "Epoch #367: test_reward: 25.000000 ± 0.000000, best_reward: 25.000000 ± 0.000000 in #3\n"
     ]
    },
    {
     "name": "stderr",
     "output_type": "stream",
     "text": [
      "Epoch #368: 1025it [00:03, 309.09it/s, env_step=376832, len=7, n/ep=9, n/st=64, player_1/loss=36.413, player_2/loss=224.112, rew=25.00]                                                                                                                                                                                     \n"
     ]
    },
    {
     "name": "stdout",
     "output_type": "stream",
     "text": [
      "Epoch #368: test_reward: 25.000000 ± 0.000000, best_reward: 25.000000 ± 0.000000 in #3\n"
     ]
    },
    {
     "name": "stderr",
     "output_type": "stream",
     "text": [
      "Epoch #369: 1025it [00:03, 322.11it/s, env_step=377856, len=7, n/ep=9, n/st=64, player_1/loss=13.741, player_2/loss=223.943, rew=25.00]                                                                                                                                                                                     \n"
     ]
    },
    {
     "name": "stdout",
     "output_type": "stream",
     "text": [
      "Epoch #369: test_reward: 25.000000 ± 0.000000, best_reward: 25.000000 ± 0.000000 in #3\n"
     ]
    },
    {
     "name": "stderr",
     "output_type": "stream",
     "text": [
      "Epoch #370: 1025it [00:03, 313.17it/s, env_step=378880, len=7, n/ep=9, n/st=64, player_1/loss=39.229, player_2/loss=183.629, rew=13.89]                                                                                                                                                                                     \n"
     ]
    },
    {
     "name": "stdout",
     "output_type": "stream",
     "text": [
      "Epoch #370: test_reward: 25.000000 ± 0.000000, best_reward: 25.000000 ± 0.000000 in #3\n"
     ]
    },
    {
     "name": "stderr",
     "output_type": "stream",
     "text": [
      "Epoch #371: 1025it [00:03, 321.36it/s, env_step=379904, len=7, n/ep=9, n/st=64, player_1/loss=55.868, player_2/loss=178.528, rew=19.44]                                                                                                                                                                                     \n"
     ]
    },
    {
     "name": "stdout",
     "output_type": "stream",
     "text": [
      "Epoch #371: test_reward: 25.000000 ± 0.000000, best_reward: 25.000000 ± 0.000000 in #3\n"
     ]
    },
    {
     "name": "stderr",
     "output_type": "stream",
     "text": [
      "Epoch #372: 1025it [00:03, 313.69it/s, env_step=380928, len=7, n/ep=9, n/st=64, player_1/loss=32.899, player_2/loss=188.386, rew=19.44]                                                                                                                                                                                     \n"
     ]
    },
    {
     "name": "stdout",
     "output_type": "stream",
     "text": [
      "Epoch #372: test_reward: 25.000000 ± 0.000000, best_reward: 25.000000 ± 0.000000 in #3\n"
     ]
    },
    {
     "name": "stderr",
     "output_type": "stream",
     "text": [
      "Epoch #373: 1025it [00:03, 318.47it/s, env_step=381952, len=7, n/ep=8, n/st=64, player_1/loss=40.766, player_2/loss=200.983, rew=18.75]                                                                                                                                                                                     \n"
     ]
    },
    {
     "name": "stdout",
     "output_type": "stream",
     "text": [
      "Epoch #373: test_reward: 25.000000 ± 0.000000, best_reward: 25.000000 ± 0.000000 in #3\n"
     ]
    },
    {
     "name": "stderr",
     "output_type": "stream",
     "text": [
      "Epoch #374: 1025it [00:03, 319.35it/s, env_step=382976, len=7, n/ep=7, n/st=64, player_1/loss=96.525, player_2/loss=218.356, rew=25.00]                                                                                                                                                                                     \n"
     ]
    },
    {
     "name": "stdout",
     "output_type": "stream",
     "text": [
      "Epoch #374: test_reward: 25.000000 ± 0.000000, best_reward: 25.000000 ± 0.000000 in #3\n"
     ]
    },
    {
     "name": "stderr",
     "output_type": "stream",
     "text": [
      "Epoch #375: 1025it [00:03, 321.96it/s, env_step=384000, len=8, n/ep=8, n/st=64, player_1/loss=91.078, player_2/loss=207.444, rew=25.00]                                                                                                                                                                                     \n"
     ]
    },
    {
     "name": "stdout",
     "output_type": "stream",
     "text": [
      "Epoch #375: test_reward: 25.000000 ± 0.000000, best_reward: 25.000000 ± 0.000000 in #3\n"
     ]
    },
    {
     "name": "stderr",
     "output_type": "stream",
     "text": [
      "Epoch #376: 1025it [00:03, 310.69it/s, env_step=385024, len=8, n/ep=8, n/st=64, player_1/loss=42.927, player_2/loss=162.424, rew=18.75]                                                                                                                                                                                     \n"
     ]
    },
    {
     "name": "stdout",
     "output_type": "stream",
     "text": [
      "Epoch #376: test_reward: 25.000000 ± 0.000000, best_reward: 25.000000 ± 0.000000 in #3\n"
     ]
    },
    {
     "name": "stderr",
     "output_type": "stream",
     "text": [
      "Epoch #377: 1025it [00:03, 311.44it/s, env_step=386048, len=8, n/ep=8, n/st=64, player_1/loss=39.882, player_2/loss=178.850, rew=12.50]                                                                                                                                                                                     \n"
     ]
    },
    {
     "name": "stdout",
     "output_type": "stream",
     "text": [
      "Epoch #377: test_reward: 25.000000 ± 0.000000, best_reward: 25.000000 ± 0.000000 in #3\n"
     ]
    },
    {
     "name": "stderr",
     "output_type": "stream",
     "text": [
      "Epoch #378: 1025it [00:03, 316.68it/s, env_step=387072, len=7, n/ep=8, n/st=64, player_1/loss=28.972, player_2/loss=217.886, rew=12.50]                                                                                                                                                                                     \n"
     ]
    },
    {
     "name": "stdout",
     "output_type": "stream",
     "text": [
      "Epoch #378: test_reward: 25.000000 ± 0.000000, best_reward: 25.000000 ± 0.000000 in #3\n"
     ]
    },
    {
     "name": "stderr",
     "output_type": "stream",
     "text": [
      "Epoch #379: 1025it [00:03, 314.91it/s, env_step=388096, len=8, n/ep=8, n/st=64, player_1/loss=40.133, player_2/loss=168.416, rew=12.50]                                                                                                                                                                                     \n"
     ]
    },
    {
     "name": "stdout",
     "output_type": "stream",
     "text": [
      "Epoch #379: test_reward: 25.000000 ± 0.000000, best_reward: 25.000000 ± 0.000000 in #3\n"
     ]
    },
    {
     "name": "stderr",
     "output_type": "stream",
     "text": [
      "Epoch #380: 1025it [00:03, 317.40it/s, env_step=389120, len=8, n/ep=8, n/st=64, player_1/loss=48.980, player_2/loss=176.400, rew=18.75]                                                                                                                                                                                     \n"
     ]
    },
    {
     "name": "stdout",
     "output_type": "stream",
     "text": [
      "Epoch #380: test_reward: -25.000000 ± 0.000000, best_reward: 25.000000 ± 0.000000 in #3\n"
     ]
    },
    {
     "name": "stderr",
     "output_type": "stream",
     "text": [
      "Epoch #381: 1025it [00:03, 311.06it/s, env_step=390144, len=8, n/ep=8, n/st=64, player_1/loss=55.293, player_2/loss=191.925, rew=18.75]                                                                                                                                                                                     \n"
     ]
    },
    {
     "name": "stdout",
     "output_type": "stream",
     "text": [
      "Epoch #381: test_reward: 25.000000 ± 0.000000, best_reward: 25.000000 ± 0.000000 in #3\n"
     ]
    },
    {
     "name": "stderr",
     "output_type": "stream",
     "text": [
      "Epoch #382: 1025it [00:03, 308.98it/s, env_step=391168, len=7, n/ep=8, n/st=64, player_1/loss=78.807, player_2/loss=192.522, rew=25.00]                                                                                                                                                                                     \n"
     ]
    },
    {
     "name": "stdout",
     "output_type": "stream",
     "text": [
      "Epoch #382: test_reward: 25.000000 ± 0.000000, best_reward: 25.000000 ± 0.000000 in #3\n"
     ]
    },
    {
     "name": "stderr",
     "output_type": "stream",
     "text": [
      "Epoch #383: 1025it [00:03, 313.79it/s, env_step=392192, len=8, n/ep=8, n/st=64, player_1/loss=49.691, player_2/loss=183.187, rew=18.75]                                                                                                                                                                                     \n"
     ]
    },
    {
     "name": "stdout",
     "output_type": "stream",
     "text": [
      "Epoch #383: test_reward: 25.000000 ± 0.000000, best_reward: 25.000000 ± 0.000000 in #3\n"
     ]
    },
    {
     "name": "stderr",
     "output_type": "stream",
     "text": [
      "Epoch #384: 1025it [00:03, 314.42it/s, env_step=393216, len=8, n/ep=8, n/st=64, player_1/loss=15.028, player_2/loss=181.903, rew=18.75]                                                                                                                                                                                     \n"
     ]
    },
    {
     "name": "stdout",
     "output_type": "stream",
     "text": [
      "Epoch #384: test_reward: 25.000000 ± 0.000000, best_reward: 25.000000 ± 0.000000 in #3\n"
     ]
    },
    {
     "name": "stderr",
     "output_type": "stream",
     "text": [
      "Epoch #385: 1025it [00:03, 307.86it/s, env_step=394240, len=7, n/ep=8, n/st=64, player_2/loss=174.167, rew=25.00]                                                                                                                                                                                                           \n"
     ]
    },
    {
     "name": "stdout",
     "output_type": "stream",
     "text": [
      "Epoch #385: test_reward: 25.000000 ± 0.000000, best_reward: 25.000000 ± 0.000000 in #3\n"
     ]
    },
    {
     "name": "stderr",
     "output_type": "stream",
     "text": [
      "Epoch #386: 1025it [00:03, 314.02it/s, env_step=395264, len=8, n/ep=8, n/st=64, player_1/loss=65.701, player_2/loss=155.702, rew=18.75]                                                                                                                                                                                     \n"
     ]
    },
    {
     "name": "stdout",
     "output_type": "stream",
     "text": [
      "Epoch #386: test_reward: 25.000000 ± 0.000000, best_reward: 25.000000 ± 0.000000 in #3\n"
     ]
    },
    {
     "name": "stderr",
     "output_type": "stream",
     "text": [
      "Epoch #387: 1025it [00:03, 314.85it/s, env_step=396288, len=7, n/ep=9, n/st=64, player_1/loss=56.756, player_2/loss=205.699, rew=19.44]                                                                                                                                                                                     \n"
     ]
    },
    {
     "name": "stdout",
     "output_type": "stream",
     "text": [
      "Epoch #387: test_reward: 25.000000 ± 0.000000, best_reward: 25.000000 ± 0.000000 in #3\n"
     ]
    },
    {
     "name": "stderr",
     "output_type": "stream",
     "text": [
      "Epoch #388: 1025it [00:03, 319.77it/s, env_step=397312, len=7, n/ep=9, n/st=64, player_1/loss=71.977, player_2/loss=218.789, rew=25.00]                                                                                                                                                                                     \n"
     ]
    },
    {
     "name": "stdout",
     "output_type": "stream",
     "text": [
      "Epoch #388: test_reward: 25.000000 ± 0.000000, best_reward: 25.000000 ± 0.000000 in #3\n"
     ]
    },
    {
     "name": "stderr",
     "output_type": "stream",
     "text": [
      "Epoch #389: 1025it [00:03, 321.44it/s, env_step=398336, len=8, n/ep=8, n/st=64, player_1/loss=42.622, player_2/loss=187.639, rew=12.50]                                                                                                                                                                                     \n"
     ]
    },
    {
     "name": "stdout",
     "output_type": "stream",
     "text": [
      "Epoch #389: test_reward: 25.000000 ± 0.000000, best_reward: 25.000000 ± 0.000000 in #3\n"
     ]
    },
    {
     "name": "stderr",
     "output_type": "stream",
     "text": [
      "Epoch #390: 1025it [00:03, 320.80it/s, env_step=399360, len=7, n/ep=9, n/st=64, player_1/loss=61.776, player_2/loss=188.624, rew=8.33]                                                                                                                                                                                      \n"
     ]
    },
    {
     "name": "stdout",
     "output_type": "stream",
     "text": [
      "Epoch #390: test_reward: 25.000000 ± 0.000000, best_reward: 25.000000 ± 0.000000 in #3\n"
     ]
    },
    {
     "name": "stderr",
     "output_type": "stream",
     "text": [
      "Epoch #391: 1025it [00:03, 314.46it/s, env_step=400384, len=7, n/ep=8, n/st=64, player_1/loss=64.104, player_2/loss=197.807, rew=18.75]                                                                                                                                                                                     \n"
     ]
    },
    {
     "name": "stdout",
     "output_type": "stream",
     "text": [
      "Epoch #391: test_reward: 25.000000 ± 0.000000, best_reward: 25.000000 ± 0.000000 in #3\n"
     ]
    },
    {
     "name": "stderr",
     "output_type": "stream",
     "text": [
      "Epoch #392: 1025it [00:03, 299.31it/s, env_step=401408, len=8, n/ep=8, n/st=64, player_1/loss=23.760, player_2/loss=164.615, rew=18.75]                                                                                                                                                                                     \n"
     ]
    },
    {
     "name": "stdout",
     "output_type": "stream",
     "text": [
      "Epoch #392: test_reward: 25.000000 ± 0.000000, best_reward: 25.000000 ± 0.000000 in #3\n"
     ]
    },
    {
     "name": "stderr",
     "output_type": "stream",
     "text": [
      "Epoch #393: 1025it [00:02, 456.29it/s, env_step=402432, len=7, n/ep=9, n/st=64, player_1/loss=17.376, player_2/loss=163.246, rew=25.00]                                                                                                                                                                                     \n"
     ]
    },
    {
     "name": "stdout",
     "output_type": "stream",
     "text": [
      "Epoch #393: test_reward: 25.000000 ± 0.000000, best_reward: 25.000000 ± 0.000000 in #3\n"
     ]
    },
    {
     "name": "stderr",
     "output_type": "stream",
     "text": [
      "Epoch #394: 1025it [00:02, 423.14it/s, env_step=403456, len=7, n/ep=8, n/st=64, player_1/loss=31.973, player_2/loss=182.771, rew=6.25]                                                                                                                                                                                      \n"
     ]
    },
    {
     "name": "stdout",
     "output_type": "stream",
     "text": [
      "Epoch #394: test_reward: 25.000000 ± 0.000000, best_reward: 25.000000 ± 0.000000 in #3\n"
     ]
    },
    {
     "name": "stderr",
     "output_type": "stream",
     "text": [
      "Epoch #395: 1025it [00:02, 479.76it/s, env_step=404480, len=8, n/ep=7, n/st=64, player_1/loss=40.610, player_2/loss=171.277, rew=17.86]                                                                                                                                                                                     \n"
     ]
    },
    {
     "name": "stdout",
     "output_type": "stream",
     "text": [
      "Epoch #395: test_reward: 25.000000 ± 0.000000, best_reward: 25.000000 ± 0.000000 in #3\n"
     ]
    },
    {
     "name": "stderr",
     "output_type": "stream",
     "text": [
      "Epoch #396: 1025it [00:02, 434.00it/s, env_step=405504, len=7, n/ep=9, n/st=64, player_1/loss=43.873, player_2/loss=168.770, rew=19.44]                                                                                                                                                                                     \n"
     ]
    },
    {
     "name": "stdout",
     "output_type": "stream",
     "text": [
      "Epoch #396: test_reward: 25.000000 ± 0.000000, best_reward: 25.000000 ± 0.000000 in #3\n"
     ]
    },
    {
     "name": "stderr",
     "output_type": "stream",
     "text": [
      "Epoch #397: 1025it [00:02, 446.49it/s, env_step=406528, len=8, n/ep=7, n/st=64, player_1/loss=39.058, player_2/loss=176.117, rew=10.71]                                                                                                                                                                                     \n"
     ]
    },
    {
     "name": "stdout",
     "output_type": "stream",
     "text": [
      "Epoch #397: test_reward: 25.000000 ± 0.000000, best_reward: 25.000000 ± 0.000000 in #3\n"
     ]
    },
    {
     "name": "stderr",
     "output_type": "stream",
     "text": [
      "Epoch #398: 1025it [00:02, 470.31it/s, env_step=407552, len=8, n/ep=9, n/st=64, player_1/loss=37.013, player_2/loss=208.860, rew=19.44]                                                                                                                                                                                     \n"
     ]
    },
    {
     "name": "stdout",
     "output_type": "stream",
     "text": [
      "Epoch #398: test_reward: 25.000000 ± 0.000000, best_reward: 25.000000 ± 0.000000 in #3\n"
     ]
    },
    {
     "name": "stderr",
     "output_type": "stream",
     "text": [
      "Epoch #399: 1025it [00:02, 486.20it/s, env_step=408576, len=7, n/ep=8, n/st=64, player_1/loss=40.047, player_2/loss=216.002, rew=25.00]                                                                                                                                                                                     \n"
     ]
    },
    {
     "name": "stdout",
     "output_type": "stream",
     "text": [
      "Epoch #399: test_reward: 25.000000 ± 0.000000, best_reward: 25.000000 ± 0.000000 in #3\n"
     ]
    },
    {
     "name": "stderr",
     "output_type": "stream",
     "text": [
      "Epoch #400: 1025it [00:02, 487.55it/s, env_step=409600, len=9, n/ep=7, n/st=64, player_1/loss=80.682, player_2/loss=194.515, rew=17.86]                                                                                                                                                                                     \n"
     ]
    },
    {
     "name": "stdout",
     "output_type": "stream",
     "text": [
      "Epoch #400: test_reward: 25.000000 ± 0.000000, best_reward: 25.000000 ± 0.000000 in #3\n"
     ]
    },
    {
     "name": "stderr",
     "output_type": "stream",
     "text": [
      "Epoch #401: 1025it [00:02, 488.36it/s, env_step=410624, len=9, n/ep=7, n/st=64, player_1/loss=95.714, player_2/loss=166.477, rew=17.86]                                                                                                                                                                                     \n"
     ]
    },
    {
     "name": "stdout",
     "output_type": "stream",
     "text": [
      "Epoch #401: test_reward: 25.000000 ± 0.000000, best_reward: 25.000000 ± 0.000000 in #3\n"
     ]
    },
    {
     "name": "stderr",
     "output_type": "stream",
     "text": [
      "Epoch #402: 1025it [00:02, 486.95it/s, env_step=411648, len=7, n/ep=9, n/st=64, player_1/loss=50.022, player_2/loss=198.627, rew=13.89]                                                                                                                                                                                     \n"
     ]
    },
    {
     "name": "stdout",
     "output_type": "stream",
     "text": [
      "Epoch #402: test_reward: 25.000000 ± 0.000000, best_reward: 25.000000 ± 0.000000 in #3\n"
     ]
    },
    {
     "name": "stderr",
     "output_type": "stream",
     "text": [
      "Epoch #403: 1025it [00:02, 490.87it/s, env_step=412672, len=9, n/ep=7, n/st=64, player_1/loss=48.444, rew=-3.57]                                                                                                                                                                                                            \n"
     ]
    },
    {
     "name": "stdout",
     "output_type": "stream",
     "text": [
      "Epoch #403: test_reward: 25.000000 ± 0.000000, best_reward: 25.000000 ± 0.000000 in #3\n"
     ]
    },
    {
     "name": "stderr",
     "output_type": "stream",
     "text": [
      "Epoch #404: 1025it [00:02, 485.30it/s, env_step=413696, len=7, n/ep=8, n/st=64, player_1/loss=35.991, player_2/loss=185.588, rew=18.75]                                                                                                                                                                                     \n"
     ]
    },
    {
     "name": "stdout",
     "output_type": "stream",
     "text": [
      "Epoch #404: test_reward: 25.000000 ± 0.000000, best_reward: 25.000000 ± 0.000000 in #3\n"
     ]
    },
    {
     "name": "stderr",
     "output_type": "stream",
     "text": [
      "Epoch #405: 1025it [00:02, 486.73it/s, env_step=414720, len=7, n/ep=8, n/st=64, player_1/loss=31.173, player_2/loss=201.422, rew=18.75]                                                                                                                                                                                     \n"
     ]
    },
    {
     "name": "stdout",
     "output_type": "stream",
     "text": [
      "Epoch #405: test_reward: 25.000000 ± 0.000000, best_reward: 25.000000 ± 0.000000 in #3\n"
     ]
    },
    {
     "name": "stderr",
     "output_type": "stream",
     "text": [
      "Epoch #406: 1025it [00:02, 486.29it/s, env_step=415744, len=7, n/ep=9, n/st=64, player_1/loss=47.645, player_2/loss=216.586, rew=13.89]                                                                                                                                                                                     \n"
     ]
    },
    {
     "name": "stdout",
     "output_type": "stream",
     "text": [
      "Epoch #406: test_reward: 25.000000 ± 0.000000, best_reward: 25.000000 ± 0.000000 in #3\n"
     ]
    },
    {
     "name": "stderr",
     "output_type": "stream",
     "text": [
      "Epoch #407: 1025it [00:02, 491.14it/s, env_step=416768, len=7, n/ep=9, n/st=64, player_1/loss=36.299, player_2/loss=211.134, rew=19.44]                                                                                                                                                                                     \n"
     ]
    },
    {
     "name": "stdout",
     "output_type": "stream",
     "text": [
      "Epoch #407: test_reward: 25.000000 ± 0.000000, best_reward: 25.000000 ± 0.000000 in #3\n"
     ]
    },
    {
     "name": "stderr",
     "output_type": "stream",
     "text": [
      "Epoch #408: 1025it [00:02, 488.96it/s, env_step=417792, len=8, n/ep=8, n/st=64, player_1/loss=13.603, player_2/loss=207.892, rew=25.00]                                                                                                                                                                                     \n"
     ]
    },
    {
     "name": "stdout",
     "output_type": "stream",
     "text": [
      "Epoch #408: test_reward: 25.000000 ± 0.000000, best_reward: 25.000000 ± 0.000000 in #3\n"
     ]
    },
    {
     "name": "stderr",
     "output_type": "stream",
     "text": [
      "Epoch #409: 1025it [00:02, 489.55it/s, env_step=418816, len=7, n/ep=8, n/st=64, player_1/loss=11.808, player_2/loss=247.310, rew=18.75]                                                                                                                                                                                     \n"
     ]
    },
    {
     "name": "stdout",
     "output_type": "stream",
     "text": [
      "Epoch #409: test_reward: 25.000000 ± 0.000000, best_reward: 25.000000 ± 0.000000 in #3\n"
     ]
    },
    {
     "name": "stderr",
     "output_type": "stream",
     "text": [
      "Epoch #410: 1025it [00:02, 490.80it/s, env_step=419840, len=7, n/ep=9, n/st=64, player_1/loss=16.060, player_2/loss=247.266, rew=19.44]                                                                                                                                                                                     \n"
     ]
    },
    {
     "name": "stdout",
     "output_type": "stream",
     "text": [
      "Epoch #410: test_reward: 25.000000 ± 0.000000, best_reward: 25.000000 ± 0.000000 in #3\n"
     ]
    },
    {
     "name": "stderr",
     "output_type": "stream",
     "text": [
      "Epoch #411: 1025it [00:02, 493.94it/s, env_step=420864, len=7, n/ep=9, n/st=64, player_1/loss=36.149, player_2/loss=218.326, rew=25.00]                                                                                                                                                                                     \n"
     ]
    },
    {
     "name": "stdout",
     "output_type": "stream",
     "text": [
      "Epoch #411: test_reward: -25.000000 ± 0.000000, best_reward: 25.000000 ± 0.000000 in #3\n"
     ]
    },
    {
     "name": "stderr",
     "output_type": "stream",
     "text": [
      "Epoch #412: 1025it [00:02, 491.04it/s, env_step=421888, len=7, n/ep=8, n/st=64, player_1/loss=33.069, player_2/loss=203.948, rew=25.00]                                                                                                                                                                                     \n"
     ]
    },
    {
     "name": "stdout",
     "output_type": "stream",
     "text": [
      "Epoch #412: test_reward: 25.000000 ± 0.000000, best_reward: 25.000000 ± 0.000000 in #3\n"
     ]
    },
    {
     "name": "stderr",
     "output_type": "stream",
     "text": [
      "Epoch #413: 1025it [00:02, 485.02it/s, env_step=422912, len=7, n/ep=8, n/st=64, player_1/loss=18.098, player_2/loss=216.039, rew=18.75]                                                                                                                                                                                     \n"
     ]
    },
    {
     "name": "stdout",
     "output_type": "stream",
     "text": [
      "Epoch #413: test_reward: 25.000000 ± 0.000000, best_reward: 25.000000 ± 0.000000 in #3\n"
     ]
    },
    {
     "name": "stderr",
     "output_type": "stream",
     "text": [
      "Epoch #414: 1025it [00:02, 488.01it/s, env_step=423936, len=7, n/ep=8, n/st=64, player_1/loss=34.093, player_2/loss=232.808, rew=25.00]                                                                                                                                                                                     \n"
     ]
    },
    {
     "name": "stdout",
     "output_type": "stream",
     "text": [
      "Epoch #414: test_reward: 25.000000 ± 0.000000, best_reward: 25.000000 ± 0.000000 in #3\n"
     ]
    },
    {
     "name": "stderr",
     "output_type": "stream",
     "text": [
      "Epoch #415: 1025it [00:02, 489.71it/s, env_step=424960, len=7, n/ep=8, n/st=64, player_1/loss=60.742, player_2/loss=229.052, rew=18.75]                                                                                                                                                                                     \n"
     ]
    },
    {
     "name": "stdout",
     "output_type": "stream",
     "text": [
      "Epoch #415: test_reward: 25.000000 ± 0.000000, best_reward: 25.000000 ± 0.000000 in #3\n"
     ]
    },
    {
     "name": "stderr",
     "output_type": "stream",
     "text": [
      "Epoch #416: 1025it [00:02, 490.52it/s, env_step=425984, len=7, n/ep=8, n/st=64, player_1/loss=50.119, player_2/loss=189.095, rew=18.75]                                                                                                                                                                                     \n"
     ]
    },
    {
     "name": "stdout",
     "output_type": "stream",
     "text": [
      "Epoch #416: test_reward: 25.000000 ± 0.000000, best_reward: 25.000000 ± 0.000000 in #3\n"
     ]
    },
    {
     "name": "stderr",
     "output_type": "stream",
     "text": [
      "Epoch #417: 1025it [00:02, 482.04it/s, env_step=427008, len=8, n/ep=8, n/st=64, player_1/loss=45.376, player_2/loss=172.013, rew=25.00]                                                                                                                                                                                     \n"
     ]
    },
    {
     "name": "stdout",
     "output_type": "stream",
     "text": [
      "Epoch #417: test_reward: 25.000000 ± 0.000000, best_reward: 25.000000 ± 0.000000 in #3\n"
     ]
    },
    {
     "name": "stderr",
     "output_type": "stream",
     "text": [
      "Epoch #418: 1025it [00:02, 466.62it/s, env_step=428032, len=9, n/ep=6, n/st=64, player_1/loss=40.677, player_2/loss=195.983, rew=16.67]                                                                                                                                                                                     \n"
     ]
    },
    {
     "name": "stdout",
     "output_type": "stream",
     "text": [
      "Epoch #418: test_reward: 25.000000 ± 0.000000, best_reward: 25.000000 ± 0.000000 in #3\n"
     ]
    },
    {
     "name": "stderr",
     "output_type": "stream",
     "text": [
      "Epoch #419: 1025it [00:02, 436.25it/s, env_step=429056, len=7, n/ep=9, n/st=64, player_1/loss=18.553, player_2/loss=188.270, rew=19.44]                                                                                                                                                                                     \n"
     ]
    },
    {
     "name": "stdout",
     "output_type": "stream",
     "text": [
      "Epoch #419: test_reward: 25.000000 ± 0.000000, best_reward: 25.000000 ± 0.000000 in #3\n"
     ]
    },
    {
     "name": "stderr",
     "output_type": "stream",
     "text": [
      "Epoch #420: 1025it [00:02, 431.34it/s, env_step=430080, len=7, n/ep=8, n/st=64, player_1/loss=32.205, player_2/loss=167.562, rew=12.50]                                                                                                                                                                                     \n"
     ]
    },
    {
     "name": "stdout",
     "output_type": "stream",
     "text": [
      "Epoch #420: test_reward: 25.000000 ± 0.000000, best_reward: 25.000000 ± 0.000000 in #3\n"
     ]
    },
    {
     "name": "stderr",
     "output_type": "stream",
     "text": [
      "Epoch #421: 1025it [00:02, 420.88it/s, env_step=431104, len=8, n/ep=8, n/st=64, player_1/loss=38.364, player_2/loss=181.892, rew=6.25]                                                                                                                                                                                      \n"
     ]
    },
    {
     "name": "stdout",
     "output_type": "stream",
     "text": [
      "Epoch #421: test_reward: 25.000000 ± 0.000000, best_reward: 25.000000 ± 0.000000 in #3\n"
     ]
    },
    {
     "name": "stderr",
     "output_type": "stream",
     "text": [
      "Epoch #422: 1025it [00:02, 406.97it/s, env_step=432128, len=7, n/ep=8, n/st=64, player_1/loss=40.227, player_2/loss=237.398, rew=18.75]                                                                                                                                                                                     \n"
     ]
    },
    {
     "name": "stdout",
     "output_type": "stream",
     "text": [
      "Epoch #422: test_reward: 25.000000 ± 0.000000, best_reward: 25.000000 ± 0.000000 in #3\n"
     ]
    },
    {
     "name": "stderr",
     "output_type": "stream",
     "text": [
      "Epoch #423: 1025it [00:02, 396.15it/s, env_step=433152, len=8, n/ep=7, n/st=64, player_1/loss=61.296, player_2/loss=235.247, rew=3.57]                                                                                                                                                                                      \n"
     ]
    },
    {
     "name": "stdout",
     "output_type": "stream",
     "text": [
      "Epoch #423: test_reward: 25.000000 ± 0.000000, best_reward: 25.000000 ± 0.000000 in #3\n"
     ]
    },
    {
     "name": "stderr",
     "output_type": "stream",
     "text": [
      "Epoch #424: 1025it [00:02, 391.39it/s, env_step=434176, len=9, n/ep=7, n/st=64, player_1/loss=52.954, player_2/loss=197.641, rew=10.71]                                                                                                                                                                                     \n"
     ]
    },
    {
     "name": "stdout",
     "output_type": "stream",
     "text": [
      "Epoch #424: test_reward: 25.000000 ± 0.000000, best_reward: 25.000000 ± 0.000000 in #3\n"
     ]
    },
    {
     "name": "stderr",
     "output_type": "stream",
     "text": [
      "Epoch #425: 1025it [00:02, 392.81it/s, env_step=435200, len=7, n/ep=9, n/st=64, player_1/loss=39.645, player_2/loss=157.660, rew=19.44]                                                                                                                                                                                     \n"
     ]
    },
    {
     "name": "stdout",
     "output_type": "stream",
     "text": [
      "Epoch #425: test_reward: 25.000000 ± 0.000000, best_reward: 25.000000 ± 0.000000 in #3\n"
     ]
    },
    {
     "name": "stderr",
     "output_type": "stream",
     "text": [
      "Epoch #426: 1025it [00:02, 392.09it/s, env_step=436224, len=8, n/ep=8, n/st=64, player_1/loss=40.198, player_2/loss=164.774, rew=25.00]                                                                                                                                                                                     \n"
     ]
    },
    {
     "name": "stdout",
     "output_type": "stream",
     "text": [
      "Epoch #426: test_reward: 25.000000 ± 0.000000, best_reward: 25.000000 ± 0.000000 in #3\n"
     ]
    },
    {
     "name": "stderr",
     "output_type": "stream",
     "text": [
      "Epoch #427: 1025it [00:02, 390.85it/s, env_step=437248, len=7, n/ep=8, n/st=64, player_1/loss=20.865, player_2/loss=150.420, rew=18.75]                                                                                                                                                                                     \n"
     ]
    },
    {
     "name": "stdout",
     "output_type": "stream",
     "text": [
      "Epoch #427: test_reward: 25.000000 ± 0.000000, best_reward: 25.000000 ± 0.000000 in #3\n"
     ]
    },
    {
     "name": "stderr",
     "output_type": "stream",
     "text": [
      "Epoch #428: 1025it [00:02, 390.51it/s, env_step=438272, len=7, n/ep=8, n/st=64, player_1/loss=32.588, player_2/loss=137.231, rew=25.00]                                                                                                                                                                                     \n"
     ]
    },
    {
     "name": "stdout",
     "output_type": "stream",
     "text": [
      "Epoch #428: test_reward: 25.000000 ± 0.000000, best_reward: 25.000000 ± 0.000000 in #3\n"
     ]
    },
    {
     "name": "stderr",
     "output_type": "stream",
     "text": [
      "Epoch #429: 1025it [00:02, 391.55it/s, env_step=439296, len=7, n/ep=8, n/st=64, player_1/loss=19.562, player_2/loss=163.563, rew=25.00]                                                                                                                                                                                     \n"
     ]
    },
    {
     "name": "stdout",
     "output_type": "stream",
     "text": [
      "Epoch #429: test_reward: 25.000000 ± 0.000000, best_reward: 25.000000 ± 0.000000 in #3\n"
     ]
    },
    {
     "name": "stderr",
     "output_type": "stream",
     "text": [
      "Epoch #430: 1025it [00:02, 392.17it/s, env_step=440320, len=7, n/ep=9, n/st=64, player_1/loss=46.288, player_2/loss=175.898, rew=19.44]                                                                                                                                                                                     \n"
     ]
    },
    {
     "name": "stdout",
     "output_type": "stream",
     "text": [
      "Epoch #430: test_reward: 25.000000 ± 0.000000, best_reward: 25.000000 ± 0.000000 in #3\n"
     ]
    },
    {
     "name": "stderr",
     "output_type": "stream",
     "text": [
      "Epoch #431: 1025it [00:02, 391.93it/s, env_step=441344, len=7, n/ep=9, n/st=64, player_1/loss=53.942, player_2/loss=138.320, rew=25.00]                                                                                                                                                                                     \n"
     ]
    },
    {
     "name": "stdout",
     "output_type": "stream",
     "text": [
      "Epoch #431: test_reward: 25.000000 ± 0.000000, best_reward: 25.000000 ± 0.000000 in #3\n"
     ]
    },
    {
     "name": "stderr",
     "output_type": "stream",
     "text": [
      "Epoch #432: 1025it [00:02, 391.62it/s, env_step=442368, len=8, n/ep=8, n/st=64, player_1/loss=49.168, player_2/loss=139.728, rew=12.50]                                                                                                                                                                                     \n"
     ]
    },
    {
     "name": "stdout",
     "output_type": "stream",
     "text": [
      "Epoch #432: test_reward: 25.000000 ± 0.000000, best_reward: 25.000000 ± 0.000000 in #3\n"
     ]
    },
    {
     "name": "stderr",
     "output_type": "stream",
     "text": [
      "Epoch #433: 1025it [00:02, 394.63it/s, env_step=443392, len=7, n/ep=8, n/st=64, player_1/loss=37.605, player_2/loss=152.265, rew=18.75]                                                                                                                                                                                     \n"
     ]
    },
    {
     "name": "stdout",
     "output_type": "stream",
     "text": [
      "Epoch #433: test_reward: 25.000000 ± 0.000000, best_reward: 25.000000 ± 0.000000 in #3\n"
     ]
    },
    {
     "name": "stderr",
     "output_type": "stream",
     "text": [
      "Epoch #434: 1025it [00:02, 393.38it/s, env_step=444416, len=7, n/ep=9, n/st=64, player_1/loss=25.501, player_2/loss=156.457, rew=25.00]                                                                                                                                                                                     \n"
     ]
    },
    {
     "name": "stdout",
     "output_type": "stream",
     "text": [
      "Epoch #434: test_reward: 25.000000 ± 0.000000, best_reward: 25.000000 ± 0.000000 in #3\n"
     ]
    },
    {
     "name": "stderr",
     "output_type": "stream",
     "text": [
      "Epoch #435: 1025it [00:02, 393.13it/s, env_step=445440, len=7, n/ep=9, n/st=64, player_1/loss=34.894, player_2/loss=176.820, rew=13.89]                                                                                                                                                                                     \n"
     ]
    },
    {
     "name": "stdout",
     "output_type": "stream",
     "text": [
      "Epoch #435: test_reward: 25.000000 ± 0.000000, best_reward: 25.000000 ± 0.000000 in #3\n"
     ]
    },
    {
     "name": "stderr",
     "output_type": "stream",
     "text": [
      "Epoch #436: 1025it [00:02, 377.36it/s, env_step=446464, len=7, n/ep=9, n/st=64, player_1/loss=26.786, player_2/loss=198.508, rew=25.00]                                                                                                                                                                                     \n"
     ]
    },
    {
     "name": "stdout",
     "output_type": "stream",
     "text": [
      "Epoch #436: test_reward: 25.000000 ± 0.000000, best_reward: 25.000000 ± 0.000000 in #3\n"
     ]
    },
    {
     "name": "stderr",
     "output_type": "stream",
     "text": [
      "Epoch #437: 1025it [00:02, 448.31it/s, env_step=447488, len=7, n/ep=9, n/st=64, player_1/loss=28.005, player_2/loss=204.969, rew=25.00]                                                                                                                                                                                     \n"
     ]
    },
    {
     "name": "stdout",
     "output_type": "stream",
     "text": [
      "Epoch #437: test_reward: 25.000000 ± 0.000000, best_reward: 25.000000 ± 0.000000 in #3\n"
     ]
    },
    {
     "name": "stderr",
     "output_type": "stream",
     "text": [
      "Epoch #438: 1025it [00:02, 458.07it/s, env_step=448512, len=7, n/ep=9, n/st=64, player_1/loss=36.131, player_2/loss=199.439, rew=8.33]                                                                                                                                                                                      \n"
     ]
    },
    {
     "name": "stdout",
     "output_type": "stream",
     "text": [
      "Epoch #438: test_reward: 25.000000 ± 0.000000, best_reward: 25.000000 ± 0.000000 in #3\n"
     ]
    },
    {
     "name": "stderr",
     "output_type": "stream",
     "text": [
      "Epoch #439: 1025it [00:02, 438.77it/s, env_step=449536, len=7, n/ep=9, n/st=64, player_1/loss=30.902, player_2/loss=166.361, rew=19.44]                                                                                                                                                                                     \n"
     ]
    },
    {
     "name": "stdout",
     "output_type": "stream",
     "text": [
      "Epoch #439: test_reward: 25.000000 ± 0.000000, best_reward: 25.000000 ± 0.000000 in #3\n"
     ]
    },
    {
     "name": "stderr",
     "output_type": "stream",
     "text": [
      "Epoch #440: 1025it [00:02, 419.14it/s, env_step=450560, len=7, n/ep=9, n/st=64, player_1/loss=51.683, player_2/loss=133.739, rew=19.44]                                                                                                                                                                                     \n"
     ]
    },
    {
     "name": "stdout",
     "output_type": "stream",
     "text": [
      "Epoch #440: test_reward: 25.000000 ± 0.000000, best_reward: 25.000000 ± 0.000000 in #3\n"
     ]
    },
    {
     "name": "stderr",
     "output_type": "stream",
     "text": [
      "Epoch #441: 1025it [00:02, 401.99it/s, env_step=451584, len=8, n/ep=7, n/st=64, player_1/loss=53.643, player_2/loss=147.265, rew=17.86]                                                                                                                                                                                     \n"
     ]
    },
    {
     "name": "stdout",
     "output_type": "stream",
     "text": [
      "Epoch #441: test_reward: 25.000000 ± 0.000000, best_reward: 25.000000 ± 0.000000 in #3\n"
     ]
    },
    {
     "name": "stderr",
     "output_type": "stream",
     "text": [
      "Epoch #442: 1025it [00:03, 330.01it/s, env_step=452608, len=7, n/ep=8, n/st=64, player_1/loss=18.919, player_2/loss=148.354, rew=18.75]                                                                                                                                                                                     \n"
     ]
    },
    {
     "name": "stdout",
     "output_type": "stream",
     "text": [
      "Epoch #442: test_reward: 25.000000 ± 0.000000, best_reward: 25.000000 ± 0.000000 in #3\n"
     ]
    },
    {
     "name": "stderr",
     "output_type": "stream",
     "text": [
      "Epoch #443: 1025it [00:03, 329.93it/s, env_step=453632, len=8, n/ep=8, n/st=64, player_1/loss=25.194, player_2/loss=150.187, rew=25.00]                                                                                                                                                                                     \n"
     ]
    },
    {
     "name": "stdout",
     "output_type": "stream",
     "text": [
      "Epoch #443: test_reward: 25.000000 ± 0.000000, best_reward: 25.000000 ± 0.000000 in #3\n"
     ]
    },
    {
     "name": "stderr",
     "output_type": "stream",
     "text": [
      "Epoch #444: 1025it [00:02, 397.50it/s, env_step=454656, len=7, n/ep=9, n/st=64, player_1/loss=34.075, player_2/loss=174.108, rew=13.89]                                                                                                                                                                                     \n"
     ]
    },
    {
     "name": "stdout",
     "output_type": "stream",
     "text": [
      "Epoch #444: test_reward: 25.000000 ± 0.000000, best_reward: 25.000000 ± 0.000000 in #3\n"
     ]
    },
    {
     "name": "stderr",
     "output_type": "stream",
     "text": [
      "Epoch #445: 1025it [00:02, 433.36it/s, env_step=455680, len=7, n/ep=8, n/st=64, player_1/loss=40.640, player_2/loss=201.842, rew=25.00]                                                                                                                                                                                     \n"
     ]
    },
    {
     "name": "stdout",
     "output_type": "stream",
     "text": [
      "Epoch #445: test_reward: 25.000000 ± 0.000000, best_reward: 25.000000 ± 0.000000 in #3\n"
     ]
    },
    {
     "name": "stderr",
     "output_type": "stream",
     "text": [
      "Epoch #446: 1025it [00:02, 436.45it/s, env_step=456704, len=7, n/ep=8, n/st=64, player_1/loss=44.131, player_2/loss=175.813, rew=12.50]                                                                                                                                                                                     \n"
     ]
    },
    {
     "name": "stdout",
     "output_type": "stream",
     "text": [
      "Epoch #446: test_reward: 25.000000 ± 0.000000, best_reward: 25.000000 ± 0.000000 in #3\n"
     ]
    },
    {
     "name": "stderr",
     "output_type": "stream",
     "text": [
      "Epoch #447: 1025it [00:02, 421.37it/s, env_step=457728, len=7, n/ep=8, n/st=64, player_1/loss=35.493, player_2/loss=168.071, rew=25.00]                                                                                                                                                                                     \n"
     ]
    },
    {
     "name": "stdout",
     "output_type": "stream",
     "text": [
      "Epoch #447: test_reward: 25.000000 ± 0.000000, best_reward: 25.000000 ± 0.000000 in #3\n"
     ]
    },
    {
     "name": "stderr",
     "output_type": "stream",
     "text": [
      "Epoch #448: 1025it [00:02, 411.61it/s, env_step=458752, len=8, n/ep=8, n/st=64, player_1/loss=27.476, player_2/loss=165.924, rew=12.50]                                                                                                                                                                                     \n"
     ]
    },
    {
     "name": "stdout",
     "output_type": "stream",
     "text": [
      "Epoch #448: test_reward: 25.000000 ± 0.000000, best_reward: 25.000000 ± 0.000000 in #3\n"
     ]
    },
    {
     "name": "stderr",
     "output_type": "stream",
     "text": [
      "Epoch #449: 1025it [00:02, 391.40it/s, env_step=459776, len=7, n/ep=8, n/st=64, player_1/loss=36.959, player_2/loss=195.143, rew=25.00]                                                                                                                                                                                     \n"
     ]
    },
    {
     "name": "stdout",
     "output_type": "stream",
     "text": [
      "Epoch #449: test_reward: 25.000000 ± 0.000000, best_reward: 25.000000 ± 0.000000 in #3\n"
     ]
    },
    {
     "name": "stderr",
     "output_type": "stream",
     "text": [
      "Epoch #450: 1025it [00:02, 408.57it/s, env_step=460800, len=7, n/ep=10, n/st=64, player_1/loss=39.815, player_2/loss=221.490, rew=25.00]                                                                                                                                                                                    \n"
     ]
    },
    {
     "name": "stdout",
     "output_type": "stream",
     "text": [
      "Epoch #450: test_reward: 25.000000 ± 0.000000, best_reward: 25.000000 ± 0.000000 in #3\n"
     ]
    },
    {
     "name": "stderr",
     "output_type": "stream",
     "text": [
      "Epoch #451: 1025it [00:02, 390.15it/s, env_step=461824, len=7, n/ep=9, n/st=64, player_1/loss=57.626, player_2/loss=243.635, rew=13.89]                                                                                                                                                                                     \n"
     ]
    },
    {
     "name": "stdout",
     "output_type": "stream",
     "text": [
      "Epoch #451: test_reward: -25.000000 ± 0.000000, best_reward: 25.000000 ± 0.000000 in #3\n"
     ]
    },
    {
     "name": "stderr",
     "output_type": "stream",
     "text": [
      "Epoch #452: 1025it [00:02, 388.19it/s, env_step=462848, len=8, n/ep=8, n/st=64, player_1/loss=70.844, player_2/loss=183.850, rew=25.00]                                                                                                                                                                                     \n"
     ]
    },
    {
     "name": "stdout",
     "output_type": "stream",
     "text": [
      "Epoch #452: test_reward: 25.000000 ± 0.000000, best_reward: 25.000000 ± 0.000000 in #3\n"
     ]
    },
    {
     "name": "stderr",
     "output_type": "stream",
     "text": [
      "Epoch #453: 1025it [00:02, 415.20it/s, env_step=463872, len=8, n/ep=8, n/st=64, player_1/loss=43.874, player_2/loss=172.478, rew=25.00]                                                                                                                                                                                     \n"
     ]
    },
    {
     "name": "stdout",
     "output_type": "stream",
     "text": [
      "Epoch #453: test_reward: 25.000000 ± 0.000000, best_reward: 25.000000 ± 0.000000 in #3\n"
     ]
    },
    {
     "name": "stderr",
     "output_type": "stream",
     "text": [
      "Epoch #454: 1025it [00:02, 371.36it/s, env_step=464896, len=8, n/ep=7, n/st=64, player_1/loss=40.656, player_2/loss=166.614, rew=17.86]                                                                                                                                                                                     \n"
     ]
    },
    {
     "name": "stdout",
     "output_type": "stream",
     "text": [
      "Epoch #454: test_reward: 25.000000 ± 0.000000, best_reward: 25.000000 ± 0.000000 in #3\n"
     ]
    },
    {
     "name": "stderr",
     "output_type": "stream",
     "text": [
      "Epoch #455: 1025it [00:02, 411.58it/s, env_step=465920, len=7, n/ep=9, n/st=64, player_1/loss=22.151, player_2/loss=167.759, rew=25.00]                                                                                                                                                                                     \n"
     ]
    },
    {
     "name": "stdout",
     "output_type": "stream",
     "text": [
      "Epoch #455: test_reward: 25.000000 ± 0.000000, best_reward: 25.000000 ± 0.000000 in #3\n"
     ]
    },
    {
     "name": "stderr",
     "output_type": "stream",
     "text": [
      "Epoch #456: 1025it [00:02, 437.90it/s, env_step=466944, len=7, n/ep=9, n/st=64, player_1/loss=23.621, player_2/loss=142.971, rew=19.44]                                                                                                                                                                                     \n"
     ]
    },
    {
     "name": "stdout",
     "output_type": "stream",
     "text": [
      "Epoch #456: test_reward: 25.000000 ± 0.000000, best_reward: 25.000000 ± 0.000000 in #3\n"
     ]
    },
    {
     "name": "stderr",
     "output_type": "stream",
     "text": [
      "Epoch #457: 1025it [00:02, 480.07it/s, env_step=467968, len=7, n/ep=8, n/st=64, player_1/loss=18.090, player_2/loss=143.297, rew=25.00]                                                                                                                                                                                     \n"
     ]
    },
    {
     "name": "stdout",
     "output_type": "stream",
     "text": [
      "Epoch #457: test_reward: 25.000000 ± 0.000000, best_reward: 25.000000 ± 0.000000 in #3\n"
     ]
    },
    {
     "name": "stderr",
     "output_type": "stream",
     "text": [
      "Epoch #458: 1025it [00:02, 433.20it/s, env_step=468992, len=8, n/ep=8, n/st=64, player_1/loss=25.119, player_2/loss=158.296, rew=25.00]                                                                                                                                                                                     \n"
     ]
    },
    {
     "name": "stdout",
     "output_type": "stream",
     "text": [
      "Epoch #458: test_reward: 25.000000 ± 0.000000, best_reward: 25.000000 ± 0.000000 in #3\n"
     ]
    },
    {
     "name": "stderr",
     "output_type": "stream",
     "text": [
      "Epoch #459: 1025it [00:02, 442.13it/s, env_step=470016, len=7, n/ep=8, n/st=64, player_1/loss=42.772, player_2/loss=137.959, rew=18.75]                                                                                                                                                                                     \n"
     ]
    },
    {
     "name": "stdout",
     "output_type": "stream",
     "text": [
      "Epoch #459: test_reward: 25.000000 ± 0.000000, best_reward: 25.000000 ± 0.000000 in #3\n"
     ]
    },
    {
     "name": "stderr",
     "output_type": "stream",
     "text": [
      "Epoch #460: 1025it [00:02, 433.61it/s, env_step=471040, len=8, n/ep=8, n/st=64, player_1/loss=46.075, player_2/loss=142.173, rew=25.00]                                                                                                                                                                                     \n"
     ]
    },
    {
     "name": "stdout",
     "output_type": "stream",
     "text": [
      "Epoch #460: test_reward: 25.000000 ± 0.000000, best_reward: 25.000000 ± 0.000000 in #3\n"
     ]
    },
    {
     "name": "stderr",
     "output_type": "stream",
     "text": [
      "Epoch #461: 1025it [00:02, 496.42it/s, env_step=472064, len=8, n/ep=8, n/st=64, player_1/loss=36.354, player_2/loss=155.040, rew=12.50]                                                                                                                                                                                     \n"
     ]
    },
    {
     "name": "stdout",
     "output_type": "stream",
     "text": [
      "Epoch #461: test_reward: 25.000000 ± 0.000000, best_reward: 25.000000 ± 0.000000 in #3\n"
     ]
    },
    {
     "name": "stderr",
     "output_type": "stream",
     "text": [
      "Epoch #462: 1025it [00:02, 503.95it/s, env_step=473088, len=7, n/ep=8, n/st=64, player_1/loss=46.776, player_2/loss=174.501, rew=12.50]                                                                                                                                                                                     \n"
     ]
    },
    {
     "name": "stdout",
     "output_type": "stream",
     "text": [
      "Epoch #462: test_reward: 25.000000 ± 0.000000, best_reward: 25.000000 ± 0.000000 in #3\n"
     ]
    },
    {
     "name": "stderr",
     "output_type": "stream",
     "text": [
      "Epoch #463: 1025it [00:02, 483.44it/s, env_step=474112, len=8, n/ep=8, n/st=64, player_1/loss=43.154, player_2/loss=193.399, rew=6.25]                                                                                                                                                                                      \n"
     ]
    },
    {
     "name": "stdout",
     "output_type": "stream",
     "text": [
      "Epoch #463: test_reward: 25.000000 ± 0.000000, best_reward: 25.000000 ± 0.000000 in #3\n"
     ]
    },
    {
     "name": "stderr",
     "output_type": "stream",
     "text": [
      "Epoch #464: 1025it [00:02, 488.60it/s, env_step=475136, len=7, n/ep=8, n/st=64, player_1/loss=22.351, player_2/loss=169.546, rew=18.75]                                                                                                                                                                                     \n"
     ]
    },
    {
     "name": "stdout",
     "output_type": "stream",
     "text": [
      "Epoch #464: test_reward: 25.000000 ± 0.000000, best_reward: 25.000000 ± 0.000000 in #3\n"
     ]
    },
    {
     "name": "stderr",
     "output_type": "stream",
     "text": [
      "Epoch #465: 1025it [00:02, 490.26it/s, env_step=476160, len=7, n/ep=8, n/st=64, player_1/loss=35.218, player_2/loss=188.011, rew=25.00]                                                                                                                                                                                     \n"
     ]
    },
    {
     "name": "stdout",
     "output_type": "stream",
     "text": [
      "Epoch #465: test_reward: 25.000000 ± 0.000000, best_reward: 25.000000 ± 0.000000 in #3\n"
     ]
    },
    {
     "name": "stderr",
     "output_type": "stream",
     "text": [
      "Epoch #466: 1025it [00:02, 465.12it/s, env_step=477184, len=8, n/ep=8, n/st=64, player_1/loss=53.127, player_2/loss=175.831, rew=25.00]                                                                                                                                                                                     \n"
     ]
    },
    {
     "name": "stdout",
     "output_type": "stream",
     "text": [
      "Epoch #466: test_reward: 25.000000 ± 0.000000, best_reward: 25.000000 ± 0.000000 in #3\n"
     ]
    },
    {
     "name": "stderr",
     "output_type": "stream",
     "text": [
      "Epoch #467: 1025it [00:02, 494.69it/s, env_step=478208, len=7, n/ep=8, n/st=64, player_1/loss=60.261, player_2/loss=166.983, rew=18.75]                                                                                                                                                                                     \n"
     ]
    },
    {
     "name": "stdout",
     "output_type": "stream",
     "text": [
      "Epoch #467: test_reward: 25.000000 ± 0.000000, best_reward: 25.000000 ± 0.000000 in #3\n"
     ]
    },
    {
     "name": "stderr",
     "output_type": "stream",
     "text": [
      "Epoch #468: 1025it [00:02, 467.75it/s, env_step=479232, len=7, n/ep=8, n/st=64, player_1/loss=57.338, player_2/loss=184.446, rew=25.00]                                                                                                                                                                                     \n"
     ]
    },
    {
     "name": "stdout",
     "output_type": "stream",
     "text": [
      "Epoch #468: test_reward: 25.000000 ± 0.000000, best_reward: 25.000000 ± 0.000000 in #3\n"
     ]
    },
    {
     "name": "stderr",
     "output_type": "stream",
     "text": [
      "Epoch #469: 1025it [00:02, 456.06it/s, env_step=480256, len=8, n/ep=7, n/st=64, player_1/loss=71.106, player_2/loss=168.286, rew=17.86]                                                                                                                                                                                     \n"
     ]
    },
    {
     "name": "stdout",
     "output_type": "stream",
     "text": [
      "Epoch #469: test_reward: 25.000000 ± 0.000000, best_reward: 25.000000 ± 0.000000 in #3\n"
     ]
    },
    {
     "name": "stderr",
     "output_type": "stream",
     "text": [
      "Epoch #470: 1025it [00:02, 444.37it/s, env_step=481280, len=7, n/ep=8, n/st=64, player_1/loss=66.133, player_2/loss=154.548, rew=12.50]                                                                                                                                                                                     \n"
     ]
    },
    {
     "name": "stdout",
     "output_type": "stream",
     "text": [
      "Epoch #470: test_reward: 25.000000 ± 0.000000, best_reward: 25.000000 ± 0.000000 in #3\n"
     ]
    },
    {
     "name": "stderr",
     "output_type": "stream",
     "text": [
      "Epoch #471: 1025it [00:02, 435.97it/s, env_step=482304, len=8, n/ep=8, n/st=64, player_1/loss=40.744, player_2/loss=169.739, rew=0.00]                                                                                                                                                                                      \n"
     ]
    },
    {
     "name": "stdout",
     "output_type": "stream",
     "text": [
      "Epoch #471: test_reward: 25.000000 ± 0.000000, best_reward: 25.000000 ± 0.000000 in #3\n"
     ]
    },
    {
     "name": "stderr",
     "output_type": "stream",
     "text": [
      "Epoch #472: 1025it [00:02, 417.84it/s, env_step=483328, len=8, n/ep=8, n/st=64, player_1/loss=29.495, player_2/loss=171.229, rew=6.25]                                                                                                                                                                                      \n"
     ]
    },
    {
     "name": "stdout",
     "output_type": "stream",
     "text": [
      "Epoch #472: test_reward: 25.000000 ± 0.000000, best_reward: 25.000000 ± 0.000000 in #3\n"
     ]
    },
    {
     "name": "stderr",
     "output_type": "stream",
     "text": [
      "Epoch #473: 1025it [00:02, 412.70it/s, env_step=484352, len=8, n/ep=7, n/st=64, player_1/loss=43.067, player_2/loss=165.059, rew=25.00]                                                                                                                                                                                     \n"
     ]
    },
    {
     "name": "stdout",
     "output_type": "stream",
     "text": [
      "Epoch #473: test_reward: 25.000000 ± 0.000000, best_reward: 25.000000 ± 0.000000 in #3\n"
     ]
    },
    {
     "name": "stderr",
     "output_type": "stream",
     "text": [
      "Epoch #474: 1025it [00:02, 396.20it/s, env_step=485376, len=7, n/ep=9, n/st=64, player_1/loss=33.576, player_2/loss=167.284, rew=19.44]                                                                                                                                                                                     \n"
     ]
    },
    {
     "name": "stdout",
     "output_type": "stream",
     "text": [
      "Epoch #474: test_reward: 25.000000 ± 0.000000, best_reward: 25.000000 ± 0.000000 in #3\n"
     ]
    },
    {
     "name": "stderr",
     "output_type": "stream",
     "text": [
      "Epoch #475: 1025it [00:02, 410.37it/s, env_step=486400, len=7, n/ep=9, n/st=64, player_1/loss=11.137, player_2/loss=200.243, rew=25.00]                                                                                                                                                                                     \n"
     ]
    },
    {
     "name": "stdout",
     "output_type": "stream",
     "text": [
      "Epoch #475: test_reward: 25.000000 ± 0.000000, best_reward: 25.000000 ± 0.000000 in #3\n"
     ]
    },
    {
     "name": "stderr",
     "output_type": "stream",
     "text": [
      "Epoch #476: 1025it [00:02, 483.74it/s, env_step=487424, len=7, n/ep=9, n/st=64, player_1/loss=25.665, player_2/loss=223.394, rew=19.44]                                                                                                                                                                                     \n"
     ]
    },
    {
     "name": "stdout",
     "output_type": "stream",
     "text": [
      "Epoch #476: test_reward: 25.000000 ± 0.000000, best_reward: 25.000000 ± 0.000000 in #3\n"
     ]
    },
    {
     "name": "stderr",
     "output_type": "stream",
     "text": [
      "Epoch #477: 1025it [00:02, 482.64it/s, env_step=488448, len=7, n/ep=9, n/st=64, player_1/loss=24.269, player_2/loss=223.966, rew=19.44]                                                                                                                                                                                     \n"
     ]
    },
    {
     "name": "stdout",
     "output_type": "stream",
     "text": [
      "Epoch #477: test_reward: 25.000000 ± 0.000000, best_reward: 25.000000 ± 0.000000 in #3\n"
     ]
    },
    {
     "name": "stderr",
     "output_type": "stream",
     "text": [
      "Epoch #478: 1025it [00:02, 484.28it/s, env_step=489472, len=7, n/ep=8, n/st=64, player_1/loss=23.251, player_2/loss=212.322, rew=12.50]                                                                                                                                                                                     \n"
     ]
    },
    {
     "name": "stdout",
     "output_type": "stream",
     "text": [
      "Epoch #478: test_reward: 25.000000 ± 0.000000, best_reward: 25.000000 ± 0.000000 in #3\n"
     ]
    },
    {
     "name": "stderr",
     "output_type": "stream",
     "text": [
      "Epoch #479: 1025it [00:02, 482.30it/s, env_step=490496, len=8, n/ep=8, n/st=64, player_1/loss=26.420, player_2/loss=171.946, rew=25.00]                                                                                                                                                                                     \n"
     ]
    },
    {
     "name": "stdout",
     "output_type": "stream",
     "text": [
      "Epoch #479: test_reward: 25.000000 ± 0.000000, best_reward: 25.000000 ± 0.000000 in #3\n"
     ]
    },
    {
     "name": "stderr",
     "output_type": "stream",
     "text": [
      "Epoch #480: 1025it [00:02, 481.25it/s, env_step=491520, len=7, n/ep=8, n/st=64, player_1/loss=36.429, player_2/loss=176.724, rew=18.75]                                                                                                                                                                                     \n"
     ]
    },
    {
     "name": "stdout",
     "output_type": "stream",
     "text": [
      "Epoch #480: test_reward: 25.000000 ± 0.000000, best_reward: 25.000000 ± 0.000000 in #3\n"
     ]
    },
    {
     "name": "stderr",
     "output_type": "stream",
     "text": [
      "Epoch #481: 1025it [00:02, 478.50it/s, env_step=492544, len=7, n/ep=9, n/st=64, player_1/loss=50.437, player_2/loss=202.607, rew=19.44]                                                                                                                                                                                     \n"
     ]
    },
    {
     "name": "stdout",
     "output_type": "stream",
     "text": [
      "Epoch #481: test_reward: 25.000000 ± 0.000000, best_reward: 25.000000 ± 0.000000 in #3\n"
     ]
    },
    {
     "name": "stderr",
     "output_type": "stream",
     "text": [
      "Epoch #482: 1025it [00:02, 483.08it/s, env_step=493568, len=8, n/ep=8, n/st=64, player_1/loss=79.334, player_2/loss=193.744, rew=25.00]                                                                                                                                                                                     \n"
     ]
    },
    {
     "name": "stdout",
     "output_type": "stream",
     "text": [
      "Epoch #482: test_reward: 25.000000 ± 0.000000, best_reward: 25.000000 ± 0.000000 in #3\n"
     ]
    },
    {
     "name": "stderr",
     "output_type": "stream",
     "text": [
      "Epoch #483: 1025it [00:02, 482.02it/s, env_step=494592, len=7, n/ep=9, n/st=64, player_1/loss=66.740, player_2/loss=176.888, rew=25.00]                                                                                                                                                                                     \n"
     ]
    },
    {
     "name": "stdout",
     "output_type": "stream",
     "text": [
      "Epoch #483: test_reward: 25.000000 ± 0.000000, best_reward: 25.000000 ± 0.000000 in #3\n"
     ]
    },
    {
     "name": "stderr",
     "output_type": "stream",
     "text": [
      "Epoch #484: 1025it [00:02, 472.50it/s, env_step=495616, len=7, n/ep=8, n/st=64, player_1/loss=39.851, player_2/loss=190.564, rew=25.00]                                                                                                                                                                                     \n"
     ]
    },
    {
     "name": "stdout",
     "output_type": "stream",
     "text": [
      "Epoch #484: test_reward: 25.000000 ± 0.000000, best_reward: 25.000000 ± 0.000000 in #3\n"
     ]
    },
    {
     "name": "stderr",
     "output_type": "stream",
     "text": [
      "Epoch #485: 1025it [00:02, 474.28it/s, env_step=496640, len=7, n/ep=8, n/st=64, player_1/loss=40.689, player_2/loss=198.786, rew=18.75]                                                                                                                                                                                     \n"
     ]
    },
    {
     "name": "stdout",
     "output_type": "stream",
     "text": [
      "Epoch #485: test_reward: 25.000000 ± 0.000000, best_reward: 25.000000 ± 0.000000 in #3\n"
     ]
    },
    {
     "name": "stderr",
     "output_type": "stream",
     "text": [
      "Epoch #486: 1025it [00:02, 484.52it/s, env_step=497664, len=8, n/ep=8, n/st=64, player_1/loss=20.956, player_2/loss=237.556, rew=6.25]                                                                                                                                                                                      \n"
     ]
    },
    {
     "name": "stdout",
     "output_type": "stream",
     "text": [
      "Epoch #486: test_reward: 25.000000 ± 0.000000, best_reward: 25.000000 ± 0.000000 in #3\n"
     ]
    },
    {
     "name": "stderr",
     "output_type": "stream",
     "text": [
      "Epoch #487: 1025it [00:02, 482.35it/s, env_step=498688, len=7, n/ep=9, n/st=64, player_1/loss=13.983, player_2/loss=221.760, rew=19.44]                                                                                                                                                                                     \n"
     ]
    },
    {
     "name": "stdout",
     "output_type": "stream",
     "text": [
      "Epoch #487: test_reward: 25.000000 ± 0.000000, best_reward: 25.000000 ± 0.000000 in #3\n"
     ]
    },
    {
     "name": "stderr",
     "output_type": "stream",
     "text": [
      "Epoch #488: 1025it [00:02, 405.07it/s, env_step=499712, len=8, n/ep=8, n/st=64, player_1/loss=36.893, player_2/loss=200.059, rew=6.25]                                                                                                                                                                                      \n"
     ]
    },
    {
     "name": "stdout",
     "output_type": "stream",
     "text": [
      "Epoch #488: test_reward: 25.000000 ± 0.000000, best_reward: 25.000000 ± 0.000000 in #3\n"
     ]
    },
    {
     "name": "stderr",
     "output_type": "stream",
     "text": [
      "Epoch #489: 1025it [00:02, 451.73it/s, env_step=500736, len=7, n/ep=8, n/st=64, player_1/loss=24.187, player_2/loss=182.906, rew=25.00]                                                                                                                                                                                     \n"
     ]
    },
    {
     "name": "stdout",
     "output_type": "stream",
     "text": [
      "Epoch #489: test_reward: 25.000000 ± 0.000000, best_reward: 25.000000 ± 0.000000 in #3\n"
     ]
    },
    {
     "name": "stderr",
     "output_type": "stream",
     "text": [
      "Epoch #490: 1025it [00:02, 452.33it/s, env_step=501760, len=7, n/ep=9, n/st=64, player_1/loss=14.524, player_2/loss=173.602, rew=19.44]                                                                                                                                                                                     \n"
     ]
    },
    {
     "name": "stdout",
     "output_type": "stream",
     "text": [
      "Epoch #490: test_reward: -25.000000 ± 0.000000, best_reward: 25.000000 ± 0.000000 in #3\n"
     ]
    },
    {
     "name": "stderr",
     "output_type": "stream",
     "text": [
      "Epoch #491: 1025it [00:02, 453.19it/s, env_step=502784, len=7, n/ep=9, n/st=64, player_1/loss=26.259, player_2/loss=184.222, rew=25.00]                                                                                                                                                                                     \n"
     ]
    },
    {
     "name": "stdout",
     "output_type": "stream",
     "text": [
      "Epoch #491: test_reward: 25.000000 ± 0.000000, best_reward: 25.000000 ± 0.000000 in #3\n"
     ]
    },
    {
     "name": "stderr",
     "output_type": "stream",
     "text": [
      "Epoch #492: 1025it [00:02, 454.74it/s, env_step=503808, len=7, n/ep=9, n/st=64, player_1/loss=45.922, player_2/loss=187.388, rew=19.44]                                                                                                                                                                                     \n"
     ]
    },
    {
     "name": "stdout",
     "output_type": "stream",
     "text": [
      "Epoch #492: test_reward: -25.000000 ± 0.000000, best_reward: 25.000000 ± 0.000000 in #3\n"
     ]
    },
    {
     "name": "stderr",
     "output_type": "stream",
     "text": [
      "Epoch #493: 1025it [00:02, 406.64it/s, env_step=504832, len=8, n/ep=8, n/st=64, player_1/loss=47.439, player_2/loss=169.204, rew=25.00]                                                                                                                                                                                     \n"
     ]
    },
    {
     "name": "stdout",
     "output_type": "stream",
     "text": [
      "Epoch #493: test_reward: 25.000000 ± 0.000000, best_reward: 25.000000 ± 0.000000 in #3\n"
     ]
    },
    {
     "name": "stderr",
     "output_type": "stream",
     "text": [
      "Epoch #494: 1025it [00:02, 380.51it/s, env_step=505856, len=7, n/ep=9, n/st=64, player_1/loss=51.821, player_2/loss=199.674, rew=25.00]                                                                                                                                                                                     \n"
     ]
    },
    {
     "name": "stdout",
     "output_type": "stream",
     "text": [
      "Epoch #494: test_reward: 25.000000 ± 0.000000, best_reward: 25.000000 ± 0.000000 in #3\n"
     ]
    },
    {
     "name": "stderr",
     "output_type": "stream",
     "text": [
      "Epoch #495: 1025it [00:02, 351.84it/s, env_step=506880, len=7, n/ep=8, n/st=64, player_1/loss=21.402, player_2/loss=199.220, rew=18.75]                                                                                                                                                                                     \n"
     ]
    },
    {
     "name": "stdout",
     "output_type": "stream",
     "text": [
      "Epoch #495: test_reward: 25.000000 ± 0.000000, best_reward: 25.000000 ± 0.000000 in #3\n"
     ]
    },
    {
     "name": "stderr",
     "output_type": "stream",
     "text": [
      "Epoch #496: 1025it [00:02, 348.07it/s, env_step=507904, len=7, n/ep=8, n/st=64, player_1/loss=16.928, rew=18.75]                                                                                                                                                                                                            \n"
     ]
    },
    {
     "name": "stdout",
     "output_type": "stream",
     "text": [
      "Epoch #496: test_reward: 25.000000 ± 0.000000, best_reward: 25.000000 ± 0.000000 in #3\n"
     ]
    },
    {
     "name": "stderr",
     "output_type": "stream",
     "text": [
      "Epoch #497: 1025it [00:02, 347.81it/s, env_step=508928, len=7, n/ep=8, n/st=64, player_1/loss=28.678, player_2/loss=162.131, rew=25.00]                                                                                                                                                                                     \n"
     ]
    },
    {
     "name": "stdout",
     "output_type": "stream",
     "text": [
      "Epoch #497: test_reward: 25.000000 ± 0.000000, best_reward: 25.000000 ± 0.000000 in #3\n"
     ]
    },
    {
     "name": "stderr",
     "output_type": "stream",
     "text": [
      "Epoch #498: 1025it [00:02, 346.25it/s, env_step=509952, len=7, n/ep=9, n/st=64, player_1/loss=13.205, player_2/loss=217.632, rew=25.00]                                                                                                                                                                                     \n"
     ]
    },
    {
     "name": "stdout",
     "output_type": "stream",
     "text": [
      "Epoch #498: test_reward: 25.000000 ± 0.000000, best_reward: 25.000000 ± 0.000000 in #3\n"
     ]
    },
    {
     "name": "stderr",
     "output_type": "stream",
     "text": [
      "Epoch #499: 1025it [00:02, 374.72it/s, env_step=510976, len=7, n/ep=8, n/st=64, player_1/loss=37.137, player_2/loss=223.203, rew=18.75]                                                                                                                                                                                     \n"
     ]
    },
    {
     "name": "stdout",
     "output_type": "stream",
     "text": [
      "Epoch #499: test_reward: 25.000000 ± 0.000000, best_reward: 25.000000 ± 0.000000 in #3\n"
     ]
    }
   ],
   "source": [
    "####################################################\n",
    "# EXPERIMENT: TRAINING AGENTS\n",
    "####################################################\n",
    "\n",
    "# Configs for the agents\n",
    "freeze_agent1 = False\n",
    "agent1_starting_params = \"./saved_variables/paper_notebooks/8/2-mlp_dqn_frozen_agent2/best_policy_agent1.pth\"\n",
    "\n",
    "freeze_agent2 = True\n",
    "agent2_starting_params = \"./saved_variables/paper_notebooks/8/3-mlp_dqn_frozen_agent1/final_policy_agent2.pth\"\n",
    "\n",
    "single_agent_score_as_reward = True # To use combined reward or non frozen agent reward as scoring\n",
    "filename = \"4-mlp_dqn_frozen_agent2\"\n",
    "epochs = 500\n",
    "loops = 1\n",
    "\n",
    "learning_rate = 0.00005\n",
    "training_eps = 0.1\n",
    "gamma = 0.8\n",
    "n_step = 4\n",
    "\n",
    "for loop_idx in range(loops):\n",
    "    # Filename\n",
    "    #filename = f\"7-20epoch_500loop/7-looping-iteration-{loop_idx}\"\n",
    "    \n",
    "    # Use provided starting params in first loop, the one from previous iteration in next\n",
    "    #if loop_idx > 0:\n",
    "    #    agent1_starting_params = f\"./saved_variables/paper_notebooks/7/7-20epoch_500loop/7-looping-iteration-{loop_idx-1}/final_policy_agent1.pth\"\n",
    "    #    agent2_starting_params = f\"./saved_variables/paper_notebooks/7/7-20epoch_500loop/7-looping-iteration-{loop_idx-1}/final_policy_agent2.pth\"\n",
    "    \n",
    "    # Determine what agent to freeze\n",
    "    #freeze_agent1 = True if loop_idx % 2 == 1 else False\n",
    "    #freeze_agent2 = True if loop_idx % 2 == 0 else False\n",
    "    \n",
    "    # Get the environment settings\n",
    "    env = get_env()\n",
    "    observation_space = env.observation_space['observation'] if isinstance(env.observation_space, gym.spaces.Dict) else env.observation_space\n",
    "    state_shape = observation_space.shape or observation_space.n\n",
    "    action_shape = env.action_space.shape or env.action_space.n\n",
    "    \n",
    "    # Configure agent 1\n",
    "    agent1 = cf_custom_dqn_policy(state_shape= state_shape,\n",
    "                                  action_shape= action_shape,\n",
    "                                  gamma= gamma,\n",
    "                                  frozen= freeze_agent1,\n",
    "                                  learning_rate = learning_rate,\n",
    "                                  n_step= n_step)\n",
    "    \n",
    "    if agent1_starting_params:\n",
    "        agent1.load_state_dict(torch.load(agent1_starting_params))\n",
    "        \n",
    "        # Configure agent 2\n",
    "        agent2 = cf_custom_dqn_policy(state_shape= state_shape,\n",
    "                                      action_shape= action_shape,\n",
    "                                      gamma= gamma,\n",
    "                                      frozen= freeze_agent2,\n",
    "                                      learning_rate = learning_rate,\n",
    "                                      n_step= n_step)\n",
    "        \n",
    "        if agent2_starting_params:\n",
    "            agent2.load_state_dict(torch.load(agent2_starting_params))\n",
    "            \n",
    "            \n",
    "            # Train the agent\n",
    "            off_policy_traininer_results, final_agent_player1, final_agent_player2 = train_agent(epochs= epochs,\n",
    "                                                                                                 agent_player1= agent1,\n",
    "                                                                                                 agent_player1_frozen = freeze_agent1,\n",
    "                                                                                                 agent_player2= agent2,\n",
    "                                                                                                 agent_player2_frozen = freeze_agent2,\n",
    "                                                                                                 filename= filename,\n",
    "                                                                                                 single_agent_score_as_reward = single_agent_score_as_reward,\n",
    "                                                                                                 training_eps= training_eps)\n",
    "            \n",
    "            "
   ]
  },
  {
   "cell_type": "code",
   "execution_count": 17,
   "id": "8c8f3121",
   "metadata": {},
   "outputs": [
    {
     "name": "stdout",
     "output_type": "stream",
     "text": [
      "Average steps of game:  7.0\n",
      "Final mean reward agent 1: 25.0, std: 0.0\n",
      "Final mean reward agent 2: -25.0, std: 0.0\n"
     ]
    }
   ],
   "source": [
    "####################################################\n",
    "# EXPERIMENT: VIEWING THE BEST LEARNED POLICY\n",
    "####################################################\n",
    "\n",
    "# Get the environment settings\n",
    "env = get_env()\n",
    "observation_space = env.observation_space['observation'] if isinstance(env.observation_space, gym.spaces.Dict) else env.observation_space\n",
    "state_shape = observation_space.shape or observation_space.n\n",
    "action_shape = env.action_space.shape or env.action_space.n\n",
    "\n",
    "# Configure the best agent\n",
    "best_agent1 = cf_custom_dqn_policy(state_shape= state_shape,\n",
    "                                   action_shape= action_shape)\n",
    "best_agent1.load_state_dict(torch.load(\"./saved_variables/paper_notebooks/8/4-mlp_dqn_frozen_agent2/best_policy_agent1.pth\"))\n",
    "best_agent1.set_eps(0)\n",
    "\n",
    "\n",
    "best_agent2 = cf_custom_dqn_policy(state_shape= state_shape,\n",
    "                                   action_shape= action_shape)\n",
    "best_agent2.load_state_dict(torch.load(\"./saved_variables/paper_notebooks/8/4-mlp_dqn_frozen_agent2/best_policy_agent2.pth\"))\n",
    "best_agent2.set_eps(0)\n",
    "\n",
    "# Watch the best agent at work\n",
    "watch(numer_of_games= 3,\n",
    "      render_speed= 0.3,\n",
    "      agent_player1= best_agent1,\n",
    "      agent_player2= best_agent2)\n",
    "\n"
   ]
  },
  {
   "cell_type": "code",
   "execution_count": 16,
   "id": "c704acd8",
   "metadata": {},
   "outputs": [
    {
     "name": "stdout",
     "output_type": "stream",
     "text": [
      "Average steps of game:  7.0\n",
      "Final mean reward agent 1: 25.0, std: 0.0\n",
      "Final mean reward agent 2: -25.0, std: 0.0\n"
     ]
    }
   ],
   "source": [
    "####################################################\n",
    "# EXPERIMENT: VIEWING THE LAST LEARNED POLICY\n",
    "####################################################\n",
    "\n",
    "# Configure the final agent\n",
    "final_agent_player1 = cf_custom_dqn_policy(state_shape= state_shape,\n",
    "                                           action_shape= action_shape)\n",
    "final_agent_player1.load_state_dict(torch.load(\"./saved_variables/paper_notebooks/8/4-mlp_dqn_frozen_agent2/final_policy_agent1.pth\"))\n",
    "best_agent1.set_eps(0)\n",
    "\n",
    "final_agent_player2 = cf_custom_dqn_policy(state_shape= state_shape,\n",
    "                                           action_shape= action_shape)\n",
    "final_agent_player2.load_state_dict(torch.load(\"./saved_variables/paper_notebooks/8/4-mlp_dqn_frozen_agent2/final_policy_agent2.pth\"))\n",
    "best_agent2.set_eps(0)\n",
    "\n",
    "# Watch the best agent at work\n",
    "watch(numer_of_games= 3,\n",
    "      render_speed= 0.3,\n",
    "      agent_player1= final_agent_player1,\n",
    "      agent_player2= final_agent_player2)\n",
    "\n"
   ]
  },
  {
   "cell_type": "markdown",
   "id": "84478519",
   "metadata": {},
   "source": [
    "<hr><hr>\n",
    "\n",
    "## Discussion\n",
    "\n",
    "We see that the agent can learn quickly to win against a fixed strategy oponent but the overall performance of the agent is still weak, making human play of very poor quality once again."
   ]
  },
  {
   "cell_type": "code",
   "execution_count": null,
   "id": "3d9110be",
   "metadata": {},
   "outputs": [],
   "source": [
    "####################################################\n",
    "# CLEAN VARIABLES\n",
    "####################################################\n",
    "\n",
    "del action_shape\n",
    "del agent1\n",
    "del agent2\n",
    "del best_agent1\n",
    "del best_agent2\n",
    "del env\n",
    "del final_agent_player1\n",
    "del final_agent_player2\n",
    "del observation_space\n",
    "del off_policy_traininer_results\n",
    "del state_shape\n"
   ]
  },
  {
   "cell_type": "code",
   "execution_count": null,
   "id": "a74d3da3",
   "metadata": {},
   "outputs": [],
   "source": []
  }
 ],
 "metadata": {
  "interpreter": {
   "hash": "9b88c88564fefe7444548986d165ad8d7f764d0079ffa923785a3f5a89d52c74"
  },
  "kernelspec": {
   "display_name": "Python 3 (ipykernel)",
   "language": "python",
   "name": "python3"
  },
  "language_info": {
   "codemirror_mode": {
    "name": "ipython",
    "version": 3
   },
   "file_extension": ".py",
   "mimetype": "text/x-python",
   "name": "python",
   "nbconvert_exporter": "python",
   "pygments_lexer": "ipython3",
   "version": "3.8.10"
  }
 },
 "nbformat": 4,
 "nbformat_minor": 5
}
