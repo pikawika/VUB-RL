{
 "cells": [
  {
   "cell_type": "markdown",
   "id": "337221df",
   "metadata": {},
   "source": [
    "# CNN based Rainbow agent against fixed opponent\n",
    "\n",
    "In the previous notebook, `9-rainbow.ipynb`, we created a CNN based Rainbow agent and found the results to be quite good.\n",
    "However, agent 2 was significantly worse in human play than agent 1.\n",
    "As an attempt to resolve this, we let the rainbow agents train further by playing against a frozen opponent, forming somewhat of a \"league based\" training cycle.\n",
    "This is based on the approach used in `7-cnn-dqn-fixed-opponent.ipynb` and `8-mlp-dqn-fixed-opponent.ipynb`."
   ]
  },
  {
   "cell_type": "markdown",
   "id": "b5341c6d",
   "metadata": {},
   "source": [
    "<hr><hr>\n",
    "\n",
    "## Table of Contents\n",
    "\n",
    "- Contact information\n",
    "- Checking requirements\n",
    "  - Correct Anaconda environment\n",
    "  - Correct module access\n",
    "  - Correct CUDA access\n",
    "- Training rainbow agent against frozen rainbow agent\n",
    "  - Building the environment\n",
    "  - Implementing the Rainbow policy\n",
    "  - Building agents\n",
    "  - Function for letting agents learn\n",
    "  - Function for watching learned agent\n",
    "  - Doing the experiment\n",
    "- Discussion"
   ]
  },
  {
   "cell_type": "markdown",
   "id": "292165d3",
   "metadata": {},
   "source": [
    "<hr><hr>\n",
    "\n",
    "## Contact information\n",
    "\n",
    "| Name             | Student ID | VUB mail                                                  | Personal mail                                               |\n",
    "| ---------------- | ---------- | --------------------------------------------------------- | ----------------------------------------------------------- |\n",
    "| Lennert Bontinck | 0568702    | [lennert.bontinck@vub.be](mailto:lennert.bontinck@vub.be) | [info@lennertbontinck.com](mailto:info@lennertbontinck.com) |\n",
    "\n"
   ]
  },
  {
   "cell_type": "markdown",
   "id": "7a405d24",
   "metadata": {},
   "source": [
    "<hr><hr>\n",
    "\n",
    "## Checking requirements\n",
    "\n",
    "### Correct Anaconda environment\n",
    "\n",
    "The `rl-project` anaconda environment should be active to ensure proper support. Installation instructions are available on [the GitHub repository of the RL course project and homeworks](https://github.com/pikawika/vub-rl)."
   ]
  },
  {
   "cell_type": "code",
   "execution_count": 1,
   "id": "334d5fd4",
   "metadata": {},
   "outputs": [
    {
     "name": "stdout",
     "output_type": "stream",
     "text": [
      "Active environment: rl-project\n",
      "Correct environment: True\n",
      "\n",
      "Python version: 3.8.10\n",
      "Correct Python version: True\n"
     ]
    }
   ],
   "source": [
    "####################################################\n",
    "# CHECKING FOR RIGHT ANACONDA ENVIRONMENT\n",
    "####################################################\n",
    "\n",
    "import os\n",
    "from platform import python_version\n",
    "\n",
    "print(f\"Active environment: {os.environ['CONDA_DEFAULT_ENV']}\")\n",
    "print(f\"Correct environment: {os.environ['CONDA_DEFAULT_ENV'] == 'rl-project'}\")\n",
    "print(f\"\\nPython version: {python_version()}\")\n",
    "print(f\"Correct Python version: {python_version() == '3.8.10'}\")"
   ]
  },
  {
   "cell_type": "markdown",
   "id": "22166668",
   "metadata": {},
   "source": [
    "<hr>\n",
    "\n",
    "### Correct module access\n",
    "\n",
    "The following code block will load in all required modules and show if the versions match those that are recommended."
   ]
  },
  {
   "cell_type": "code",
   "execution_count": 3,
   "id": "ab632204",
   "metadata": {},
   "outputs": [
    {
     "name": "stdout",
     "output_type": "stream",
     "text": [
      "Matplotlib version (3.5.1 recommended): 3.5.1\n",
      "Pygame version (2.1.2 recommended): 2.1.2\n",
      "Gym version (0.21.0 recommended): 0.21.0\n",
      "Tianshou version (0.4.8 recommended): 0.4.8\n",
      "Torch version (1.12.0 recommended): 1.12.0.dev20220520+cu116\n"
     ]
    }
   ],
   "source": [
    "####################################################\n",
    "# LOADING MODULES\n",
    "####################################################\n",
    "\n",
    "# Allow reloading of libraries\n",
    "import importlib\n",
    "\n",
    "# Plotting\n",
    "import matplotlib; print(f\"Matplotlib version (3.5.1 recommended): {matplotlib.__version__}\")\n",
    "import matplotlib.pyplot as plt\n",
    "\n",
    "# Argparser\n",
    "import argparse\n",
    "\n",
    "# More data types\n",
    "import typing\n",
    "import numpy as np\n",
    "\n",
    "# Pygame\n",
    "import pygame; print(f\"Pygame version (2.1.2 recommended): {pygame.__version__}\")\n",
    "\n",
    "# Gym environment\n",
    "import gym; print(f\"Gym version (0.21.0 recommended): {gym.__version__}\")\n",
    "\n",
    "# Tianshou for RL algorithms\n",
    "import tianshou as ts; print(f\"Tianshou version (0.4.8 recommended): {ts.__version__}\")\n",
    "\n",
    "# Torch is a popular DL framework\n",
    "import torch; print(f\"Torch version (1.12.0 recommended): {torch.__version__}\")\n",
    "\n",
    "# PPrint is a pretty print for variables\n",
    "from pprint import pprint\n",
    "\n",
    "# Our custom connect four gym environment\n",
    "import sys\n",
    "sys.path.append('../')\n",
    "import gym_connect4_pygame.envs.ConnectFourPygameEnvV2 as cfgym\n",
    "importlib.invalidate_caches()\n",
    "importlib.reload(cfgym)\n",
    "\n",
    "# Time for allowing \"freezes\" in execution\n",
    "import time;\n",
    "\n",
    "# Allow for copying objects in a non reference manner\n",
    "import copy\n",
    "\n",
    "# Used for updating notebook display\n",
    "from IPython.display import clear_output"
   ]
  },
  {
   "cell_type": "markdown",
   "id": "f2617a21",
   "metadata": {},
   "source": [
    "<hr>\n",
    "\n",
    "### Correct CUDA access\n",
    "\n",
    "The installation instructions specify how to install PyTorch with CUDA 11.6.\n",
    "The following code block tests if this was done successfully."
   ]
  },
  {
   "cell_type": "code",
   "execution_count": 4,
   "id": "da9f5ed0",
   "metadata": {},
   "outputs": [
    {
     "name": "stdout",
     "output_type": "stream",
     "text": [
      "CUDA is available: True\n",
      "\n",
      "Amount of connected devices supporting CUDA: 1\n",
      "\n",
      "Current CUDA device: 0\n",
      "Cuda device 0 name: NVIDIA GeForce GTX 970\n"
     ]
    }
   ],
   "source": [
    "####################################################\n",
    "# CUDA VALIDATION\n",
    "####################################################\n",
    "\n",
    "# Check cuda available\n",
    "print(f\"CUDA is available: {torch.cuda.is_available()}\")\n",
    "\n",
    "# Show cuda devices\n",
    "print(f\"\\nAmount of connected devices supporting CUDA: {torch.cuda.device_count()}\")\n",
    "\n",
    "# Show current cuda device\n",
    "print(f\"\\nCurrent CUDA device: {torch.cuda.current_device()}\")\n",
    "\n",
    "# Show cuda device name\n",
    "print(f\"Cuda device 0 name: {torch.cuda.get_device_name(0)}\")"
   ]
  },
  {
   "cell_type": "markdown",
   "id": "826657c4",
   "metadata": {},
   "source": [
    "<hr><hr>\n",
    "\n",
    "## Training rainbow agent against frozen rainbow agent\n",
    "\n",
    "Our connect four gym setup requires two agents, one for each player.\n",
    "To reduce complexity, agents will always play as the same player, e.g. always as player 1.\n",
    "It is important to note that connect four is a *solved game*.\n",
    "According to [The Washington Post](https://www.washingtonpost.com/news/wonk/wp/2015/05/08/how-to-win-any-popular-game-according-to-data-scientists/):\n",
    "\n",
    "> Connect Four is what mathematicians call a \"solved game,\" meaning you can play it perfectly every time, no matter what your opponent does. You will need to get the first move, but as long as you do so, you can always win within 41 moves.\n",
    "\n",
    "<hr>\n",
    "\n",
    "### Building the environment\n",
    "\n",
    "This code is identical to the notebook `9-rainbow.ipynb`, a reward for blocking moves is given."
   ]
  },
  {
   "cell_type": "code",
   "execution_count": 5,
   "id": "c2b47a58",
   "metadata": {},
   "outputs": [
    {
     "name": "stdout",
     "output_type": "stream",
     "text": [
      "Observation space: Dict(action_mask:Box([0 0 0 0 0 0 0], [1 1 1 1 1 1 1], (7,), int8), observation:Box([[0 0 0 0 0 0 0]\n",
      " [0 0 0 0 0 0 0]\n",
      " [0 0 0 0 0 0 0]\n",
      " [0 0 0 0 0 0 0]\n",
      " [0 0 0 0 0 0 0]\n",
      " [0 0 0 0 0 0 0]], [[2 2 2 2 2 2 2]\n",
      " [2 2 2 2 2 2 2]\n",
      " [2 2 2 2 2 2 2]\n",
      " [2 2 2 2 2 2 2]\n",
      " [2 2 2 2 2 2 2]\n",
      " [2 2 2 2 2 2 2]], (6, 7), int8))\n",
      "\n",
      "Action space: Discrete(7)\n",
      "\n",
      " Initial player id:\n",
      "player_1\n",
      "\n",
      " Initial observation:\n",
      "[[0. 0. 0. 0. 0. 0. 0.]\n",
      " [0. 0. 0. 0. 0. 0. 0.]\n",
      " [0. 0. 0. 0. 0. 0. 0.]\n",
      " [0. 0. 0. 0. 0. 0. 0.]\n",
      " [0. 0. 0. 0. 0. 0. 0.]\n",
      " [0. 0. 0. 0. 0. 0. 0.]]\n",
      "\n",
      " Initial mask:\n",
      "[True, True, True, True, True, True, True]\n"
     ]
    }
   ],
   "source": [
    "####################################################\n",
    "# CONNECT FOUR V2 ENVIRONMENT\n",
    "####################################################\n",
    "\n",
    "def get_env():\n",
    "    \"\"\"\n",
    "    Returns the connect four gym environment V2 altered for Tianshou and Petting Zoo compatibility.\n",
    "    Already wrapped with a ts.env.PettingZooEnv wrapper.\n",
    "    \"\"\"\n",
    "    return ts.env.PettingZooEnv(cfgym.env(reward_move= 0, # Set to 1 for reward to make moves (incentivise longer games)\n",
    "                                          reward_blocking= 1, # Set to 1 for reward to make blocking moves (incentivise defensive games)\n",
    "                                          reward_invalid= -3,\n",
    "                                          reward_draw= 3,\n",
    "                                          reward_win= 5,\n",
    "                                          reward_loss= -5,\n",
    "                                          allow_invalid_move= False))\n",
    "    \n",
    "    \n",
    "# Test the environment\n",
    "env = get_env()\n",
    "print(f\"Observation space: {env.observation_space}\")\n",
    "print(f\"\\nAction space: {env.action_space}\")\n",
    "\n",
    "# Reset the environment to start from a clean state, returns the initial observation\n",
    "observation = env.reset()\n",
    "\n",
    "print(\"\\n Initial player id:\")\n",
    "print(observation[\"agent_id\"])\n",
    "\n",
    "print(\"\\n Initial observation:\")\n",
    "print(observation[\"obs\"])\n",
    "\n",
    "print(\"\\n Initial mask:\")\n",
    "print(observation[\"mask\"])\n",
    "\n",
    "# Clean unused variables\n",
    "del observation\n",
    "del env"
   ]
  },
  {
   "cell_type": "code",
   "execution_count": 6,
   "id": "7c2e15d0",
   "metadata": {},
   "outputs": [
    {
     "name": "stdout",
     "output_type": "stream",
     "text": [
      "[0, 0]\n",
      "[0, 0]\n",
      "[0, 0]\n",
      "[0, 0]\n",
      "[0, 0]\n",
      "[0, 0]\n",
      "Blocking move made by player 1: [1, 0]\n"
     ]
    }
   ],
   "source": [
    "####################################################\n",
    "# BLOCKING MOVE CHECK\n",
    "####################################################\n",
    "\n",
    "# Check if a reward is received for playing a blocking move\n",
    "\n",
    "env = get_env()\n",
    "env.reset()\n",
    "env.step(action= 0)\n",
    "print(env.rewards)\n",
    "env.step(action= 1)\n",
    "print(env.rewards)\n",
    "env.step(action= 0)\n",
    "print(env.rewards)\n",
    "env.step(action= 1)\n",
    "print(env.rewards)\n",
    "env.step(action= 0)\n",
    "print(env.rewards)\n",
    "env.step(action= 1)\n",
    "print(env.rewards)\n",
    "env.step(action= 1)\n",
    "print(f\"Blocking move made by player 1: {env.rewards}\")"
   ]
  },
  {
   "cell_type": "markdown",
   "id": "0bc7e7da",
   "metadata": {},
   "source": [
    "<hr>\n",
    "\n",
    "### Implementing the Rainbow policy\n",
    "\n",
    "This code is identical to the notebook `9-rainbow.ipynb`, the defaults are changed so that they reflect the best found parameters."
   ]
  },
  {
   "cell_type": "code",
   "execution_count": 7,
   "id": "8e2f43c0",
   "metadata": {},
   "outputs": [],
   "source": [
    "####################################################\n",
    "# DQN ARCHITECTURE\n",
    "####################################################\n",
    "\n",
    "class CNNForRainbow(torch.nn.Module):\n",
    "    \"\"\"\n",
    "    Custom CNN to be used as baseclass for the Rainbow algorithm.\n",
    "    Extracts \"feautures\" for the Rainbow algorithm by doing a 4x4 cnn kernel pass and providing 64 filters for each mask.\n",
    "    \"\"\"\n",
    "    def __init__(self,\n",
    "                 state_shape: typing.Sequence[int],\n",
    "                 device: typing.Union[str, int, torch.device] = 'cuda' if torch.cuda.is_available() else 'cpu'):\n",
    "        \n",
    "        # Torch init\n",
    "        super().__init__()\n",
    "        \n",
    "        # Store device to be used\n",
    "        self.device = device\n",
    "        \n",
    "        # The input layer is singular -> we have 1 board vector\n",
    "        input_channels_cnn = 1\n",
    "        \n",
    "        # We output 64 filters per kernel \n",
    "        output_channels_cnn = 64 # Updated from previous 16\n",
    "        \n",
    "        # We store the output dimension of the CNN \"feature\" layer\n",
    "        self.output_dim = (state_shape[0] - 3) * (state_shape[1] - 3) * output_channels_cnn\n",
    "        \n",
    "        self.net = torch.nn.Sequential(\n",
    "            torch.nn.Conv2d(in_channels= input_channels_cnn, out_channels= output_channels_cnn, kernel_size= 4, stride= 1), torch.nn.ReLU(inplace=True),\n",
    "            torch.nn.Flatten(),\n",
    "        )\n",
    "\n",
    "    def forward(self,\n",
    "                obs: typing.Union[np.ndarray, torch.Tensor],\n",
    "                state: typing.Optional[typing.Any] = None,\n",
    "                info: typing.Dict[str, typing.Any] = {}):\n",
    "        # Make a torch instance (from regular vector of board)\n",
    "        if not isinstance(obs, torch.Tensor):\n",
    "            obs = torch.tensor(obs, dtype=torch.float, device=self.device)\n",
    "            \n",
    "        # Tianshou bugs the batch output, reshape to work properly with our torch version\n",
    "        if (len(np.shape(obs)) != 4):\n",
    "            obs = obs[:, None, :, :]\n",
    "        \n",
    "        # Return what is needed (network output & state)\n",
    "        return self.net(obs), state\n"
   ]
  },
  {
   "cell_type": "code",
   "execution_count": 8,
   "id": "2b137ea2",
   "metadata": {},
   "outputs": [],
   "source": [
    "####################################################\n",
    "# RAINBOW ARCHITECTURE\n",
    "####################################################\n",
    "\n",
    "class Rainbow(CNNForRainbow):\n",
    "    \"\"\"\n",
    "    Implementation of the Rainbow algorithm making using of the CNNForRainbow baseclass.\n",
    "    Default parameters adopted from: https://github.com/thu-ml/tianshou/blob/master/examples/atari/atari_rainbow.py\n",
    "    \"\"\"\n",
    "\n",
    "    def __init__(self,\n",
    "                 state_shape: typing.Sequence[int],\n",
    "                 action_shape: typing.Sequence[int],\n",
    "                 device: typing.Union[str, int, torch.device] = 'cuda' if torch.cuda.is_available() else 'cpu',\n",
    "                 num_atoms: int = 51,\n",
    "                 is_noisy: bool = True,\n",
    "                 noisy_std: float = 0.1,\n",
    "                 is_dueling: bool = True):\n",
    "        \n",
    "        # Init CNN feature extraction parent class\n",
    "        super().__init__(state_shape= state_shape, device= device)\n",
    "        \n",
    "        # the amount of actions we have is just the action shape\n",
    "        self.action_num = np.prod(action_shape)\n",
    "        \n",
    "        # Store class specific info\n",
    "        self.num_atoms = num_atoms\n",
    "        self._is_dueling = is_dueling\n",
    "\n",
    "        # Our linear layer depends on wether or not we want to use a noisy environment\n",
    "        # Noisy implementation based on https://arxiv.org/abs/1706.10295\n",
    "        def linear(x, y):\n",
    "            if is_noisy:\n",
    "                return ts.utils.net.discrete.NoisyLinear(x, y, noisy_std)\n",
    "            else:\n",
    "                return torch.nn.Linear(x, y)\n",
    "            \n",
    "        # Specify Q and V based on wether or not agent is dueling\n",
    "        # Setting agent on dueling mode should help generalisation according to rainbow paper\n",
    "        # NOTE: this uses the output dim from the feature extraction CNN\n",
    "        self.Q = torch.nn.Sequential(\n",
    "            linear(self.output_dim, 512), torch.nn.ReLU(inplace=True),\n",
    "            linear(512, self.action_num * self.num_atoms))\n",
    "        \n",
    "        if self._is_dueling:\n",
    "            self.V = torch.nn.Sequential(\n",
    "                linear(self.output_dim, 512), torch.nn.ReLU(inplace=True),\n",
    "                linear(512, self.num_atoms))\n",
    "            \n",
    "        # New output dim for this rainbow network\n",
    "        self.output_dim = self.action_num * self.num_atoms\n",
    "        \n",
    "\n",
    "    def forward(self,\n",
    "                obs: typing.Union[np.ndarray, torch.Tensor],\n",
    "                state: typing.Optional[typing.Any] = None,\n",
    "                info: typing.Dict[str, typing.Any] = {}):\n",
    "        \n",
    "        # Use our parent CNN based network to get \"features\"\n",
    "        obs, state = super().forward(obs)\n",
    "        \n",
    "        # Get our Rainbow specific values\n",
    "        q = self.Q(obs)\n",
    "        q = q.view(-1, self.action_num, self.num_atoms)\n",
    "        \n",
    "        if self._is_dueling:\n",
    "            v = self.V(obs)\n",
    "            v = v.view(-1, 1, self.num_atoms)\n",
    "            logits = q - q.mean(dim=1, keepdim=True) + v\n",
    "        else:\n",
    "            logits = q\n",
    "        \n",
    "        # We need to go from our logits to an accepted dimension of probability outputs\n",
    "        probs = logits.softmax(dim=2)\n",
    "        \n",
    "        return probs, state"
   ]
  },
  {
   "cell_type": "code",
   "execution_count": 9,
   "id": "539b56ff",
   "metadata": {},
   "outputs": [],
   "source": [
    "####################################################\n",
    "# RAINBOW POLICY\n",
    "####################################################\n",
    "\n",
    "def rainbow_policy(state_shape: tuple,\n",
    "                   action_shape: tuple,\n",
    "                   optim: typing.Optional[torch.optim.Optimizer] = None,\n",
    "                   learning_rate: float =  0.0001, # Increased from 0000625\n",
    "                   gamma: float = 0.8, # Decreased from 0.9\n",
    "                   n_step: int = 3,\n",
    "                   num_atoms: int = 51,\n",
    "                   is_noisy: bool = True,\n",
    "                   noisy_std: float = 0.1,\n",
    "                   is_dueling: bool = True,\n",
    "                   frozen: bool = False, # Added to freeze an agent\n",
    "                   target_update_freq: int = 500):\n",
    "    \"\"\"\n",
    "    Implementation of the Rainbow policy.\n",
    "    Default parameters adopted from: https://github.com/thu-ml/tianshou/blob/master/examples/atari/atari_rainbow.py\n",
    "    \"\"\"\n",
    "    \n",
    "    # Use cuda device if possible\n",
    "    device = 'cuda' if torch.cuda.is_available() else 'cpu'\n",
    "    \n",
    "    # Rainbow network to be used by policy\n",
    "    net = Rainbow(state_shape= state_shape,\n",
    "                  action_shape= action_shape,\n",
    "                  device= device,\n",
    "                  num_atoms= num_atoms,\n",
    "                  is_noisy= is_noisy,\n",
    "                  noisy_std= noisy_std,\n",
    "                  is_dueling= is_dueling).to(device)\n",
    "    \n",
    "    # Default optimizer is an adam optimizer with the argparser learning rate\n",
    "    if optim is None:\n",
    "        optim = torch.optim.Adam(net.parameters(), lr= learning_rate)\n",
    "        \n",
    "    # If we are frozen, we use an optimizer that has learning rate 0\n",
    "    if frozen:\n",
    "        optim = torch.optim.SGD(net.parameters(), lr= 0)\n",
    "        \n",
    "    # Our agents Rainbow policy\n",
    "    return ts.policy.RainbowPolicy(model= net,\n",
    "                                   optim= optim,\n",
    "                                   discount_factor= gamma,\n",
    "                                   num_atoms= num_atoms,\n",
    "                                   estimation_step= n_step,\n",
    "                                   target_update_freq= target_update_freq).to(device)\n",
    "    \n",
    "    "
   ]
  },
  {
   "cell_type": "markdown",
   "id": "dd411318",
   "metadata": {},
   "source": [
    "<hr>\n",
    "\n",
    "### Building agents\n",
    "\n",
    "This code is identical to the notebook `9-rainbow.ipynb`, with the added option of \"freezing\" an agent which corresponds to giving it an optimizer with learning rate 0."
   ]
  },
  {
   "cell_type": "code",
   "execution_count": 10,
   "id": "f7ae27d2",
   "metadata": {},
   "outputs": [],
   "source": [
    "####################################################\n",
    "# AGENT CREATION\n",
    "####################################################\n",
    "\n",
    "def get_agent_manager(agent_player1: typing.Optional[ts.policy.BasePolicy] = None,\n",
    "                      agent_player2: typing.Optional[ts.policy.BasePolicy] = None,\n",
    "                      agent_player1_frozen: bool = False, # Freeze a player -> don't let it learn further\n",
    "                      agent_player2_frozen: bool = False,\n",
    "                      optim: typing.Optional[torch.optim.Optimizer] = None):\n",
    "    \"\"\"\n",
    "    Gets a multi agent policy manager, optimizer and player ids for the connect four V2 gym environment.\n",
    "    Per default this returns \n",
    "        - Multi agent manager for 2 agents using Rainbow\n",
    "        - Adam optimizer\n",
    "        - ['player_1', 'player_2'] from the connect four environment\n",
    "    \"\"\"\n",
    "    \n",
    "    # Get the environment to play in (Connect four gym V2)\n",
    "    env = get_env()\n",
    "    \n",
    "    # Get the observation space from the environment, depending on typo of space (ternary operator)\n",
    "    observation_space = env.observation_space['observation'] if isinstance(env.observation_space, gym.spaces.Dict) else env.observation_space\n",
    "    \n",
    "    # Set the arguments\n",
    "    state_shape = observation_space.shape or observation_space.n\n",
    "    action_shape = env.action_space.shape or env.action_space.n\n",
    "    \n",
    "    # Configure agent player 1 to be a Rainbow if no policy is passed.\n",
    "    if agent_player1 is None:\n",
    "        # Our agent1 uses a Rainbow policy\n",
    "        agent_player1 = rainbow_policy(state_shape= state_shape,\n",
    "                                       action_shape= action_shape,\n",
    "                                       optim= optim,\n",
    "                                       frozen= agent_player1_frozen)\n",
    "    \n",
    "    # Configure agent player 2 to be a Rainbow if no policy is passed.\n",
    "    if agent_player2 is None:\n",
    "        # Our agent1 uses a Rainbow policy\n",
    "        agent_player2 = rainbow_policy(state_shape= state_shape,\n",
    "                                       action_shape= action_shape,\n",
    "                                       optim= optim,\n",
    "                                       frozen= agent_player2_frozen)\n",
    "\n",
    "    # Default order of the agents\n",
    "    agents = [agent_player1, agent_player2]\n",
    "        \n",
    "    # Create the multi agent policy\n",
    "    policy = ts.policy.MultiAgentPolicyManager(agents, env)\n",
    "    \n",
    "    # Return our policy, optimizer and the available agents in the environment\n",
    "    # Per default: \n",
    "    #   - Multi agent manager for 2 agents using Rainbow\n",
    "    #   - Adam optimizer\n",
    "    #   - ['player_1', 'player_2'] from the connect four environment\n",
    "    \n",
    "    return policy, optim, env.agents"
   ]
  },
  {
   "cell_type": "markdown",
   "id": "95a8f3a6",
   "metadata": {},
   "source": [
    "<hr>\n",
    "\n",
    "### Function for letting agents learn\n",
    "\n",
    "This code is identical to the notebook `9-rainbow.ipynb`, but a stopping condition is added and the defaults are updated to the newly found best, the reward metric is also updated to relfect the score of the non frozen agent.\n",
    "The testing strategy is also updated to be on one environment using 10 trials.\n",
    "We also decay the epsilon faster and don't use epsilon decay on the frozen agent."
   ]
  },
  {
   "cell_type": "code",
   "execution_count": 15,
   "id": "9a32c218",
   "metadata": {},
   "outputs": [],
   "source": [
    "####################################################\n",
    "# AGENT TRAINING\n",
    "####################################################\n",
    "\n",
    "def train_agent(filename: str,\n",
    "                agent_player1: typing.Optional[ts.policy.BasePolicy] = None,\n",
    "                agent_player2: typing.Optional[ts.policy.BasePolicy] = None,\n",
    "                agent_player1_frozen: bool = False, # Freeze a player -> don't let it learn further\n",
    "                agent_player2_frozen: bool = False,\n",
    "                single_agent_score_as_reward: bool= False, # Uses non frozen agent's score as reward\n",
    "                optim: typing.Optional[torch.optim.Optimizer] = None,\n",
    "                training_env_num: int = 10,\n",
    "                testing_env_num: int = 10,\n",
    "                episode_per_test: int = 10,\n",
    "                stopping_threshold: float = 7,\n",
    "                buffer_size: int = 10000, # Default 100000\n",
    "                batch_size: int = 64, # Default 32\n",
    "                epochs: int = 500, # Default 50\n",
    "                step_per_epoch: int = 10000,\n",
    "                step_per_collect: int = 10, # Should be multiple of the test/training envs\n",
    "                update_per_step: float = 0.1,\n",
    "                testing_eps: float = 0.005,\n",
    "                training_eps_init: float = 1,\n",
    "                training_eps_final: float = 0.2): # Default 0.05\n",
    "    \"\"\"\n",
    "    Trains two agents in the connect four V2 environment and saves their best model and logs.\n",
    "    Returns:\n",
    "        - result from offpolicy_trainer\n",
    "        - final version of agent 1\n",
    "        - final version of agent 2\n",
    "    Defaults adopted from: https://github.com/thu-ml/tianshou/blob/master/examples/atari/atari_rainbow.py\n",
    "    \"\"\"\n",
    "\n",
    "    # ======== notebook specific =========\n",
    "    notebook_version = '10' # Used for foldering logs and models\n",
    "\n",
    "    # ======== environment setup =========\n",
    "    train_envs = ts.env.DummyVectorEnv([get_env for _ in range(training_env_num)])\n",
    "    test_envs = ts.env.DummyVectorEnv([get_env for _ in range(testing_env_num)])\n",
    "    \n",
    "    # set the seed for reproducibility\n",
    "    np.random.seed(1998)\n",
    "    torch.manual_seed(1998)\n",
    "    train_envs.seed(1998)\n",
    "    test_envs.seed(1998)\n",
    "\n",
    "    # ======== agent setup =========\n",
    "    # Gets our agents from the previously made function\n",
    "    # Per default: \n",
    "    #   - Multi agent manager for 2 agents using Rainbow\n",
    "    #   - Adam optimizer\n",
    "    #   - ['player_1', 'player_2'] from the connect four environment\n",
    "    policy, optim, agents = get_agent_manager(agent_player1=agent_player1,\n",
    "                                              agent_player2=agent_player2,\n",
    "                                              agent_player1_frozen= agent_player1_frozen,\n",
    "                                              agent_player2_frozen= agent_player2_frozen,\n",
    "                                              optim=optim)\n",
    "\n",
    "    # ======== collector setup =========\n",
    "    # Make a collector for the training environments\n",
    "    buffer= ts.data.VectorReplayBuffer(total_size= buffer_size,\n",
    "                                       buffer_num=len(train_envs))\n",
    "    \n",
    "    train_collector = ts.data.Collector(policy= policy,\n",
    "                                        env= train_envs,\n",
    "                                        buffer= buffer,\n",
    "                                        exploration_noise= True)\n",
    "    \n",
    "    # Make a collector for the testing environments\n",
    "    test_collector = ts.data.Collector(policy= policy,\n",
    "                                       env= test_envs,\n",
    "                                       exploration_noise= True)\n",
    "    \n",
    "    # ======== ensure folders exist =========\n",
    "    if not os.path.exists(os.path.join('./logs', 'paper_notebooks', notebook_version, filename)):\n",
    "        os.makedirs(os.path.join('./logs', 'paper_notebooks', notebook_version, filename))\n",
    "    if not os.path.exists(os.path.join('./saved_variables', 'paper_notebooks', notebook_version, filename)):\n",
    "        os.makedirs(os.path.join('./saved_variables', 'paper_notebooks', notebook_version, filename))\n",
    "\n",
    "    # ======== tensorboard logging setup =========\n",
    "    # Allows to save the training progress to tensorboard compatable logs\n",
    "    log_path = os.path.join('./logs', 'paper_notebooks', notebook_version, filename)\n",
    "    writer = torch.utils.tensorboard.SummaryWriter(log_path)\n",
    "    logger = ts.utils.TensorboardLogger(writer)\n",
    "\n",
    "    # ======== callback functions used during training =========\n",
    "    # We want to save our best policy\n",
    "    def save_best_fn(policy):\n",
    "        \"\"\"\n",
    "        Callback to save the best model\n",
    "        \"\"\"\n",
    "        # Save best agent 1\n",
    "        model_save_path = os.path.join('./saved_variables', 'paper_notebooks', notebook_version, filename, 'best_policy_agent1.pth')\n",
    "        torch.save(policy.policies[agents[0]].state_dict(), model_save_path)\n",
    "        \n",
    "        # Save best agent 2\n",
    "        model_save_path = os.path.join('./saved_variables', 'paper_notebooks', notebook_version, filename, 'best_policy_agent2.pth')\n",
    "        torch.save(policy.policies[agents[1]].state_dict(), model_save_path)\n",
    "        \n",
    "        # Save agent2\n",
    "\n",
    "    def stop_fn(average_rews):\n",
    "        \"\"\"\n",
    "        Callback to stop training when we've reached the desired reward.\n",
    "        Reward is the test average return value of the reward_metric function.\n",
    "        \"\"\"\n",
    "        if single_agent_score_as_reward:\n",
    "            # Get singular episode mean reward\n",
    "            episode_reward= average_rews / episode_per_test\n",
    "            stop= episode_reward >= stopping_threshold\n",
    "            print(f\"testing for stop: {episode_reward} >= {stopping_threshold} -> {stop}\")\n",
    "            # Agent is seen as \"trained enough\"\n",
    "            return stop\n",
    "        else:\n",
    "            return False # Not implemented\n",
    "\n",
    "    def train_fn(epoch, env_step):\n",
    "        \"\"\"\n",
    "        Callback before training, sets the training epsilon in a decaying manner.\n",
    "        Adopted from: https://github.com/thu-ml/tianshou/blob/master/examples/atari/atari_rainbow.py\n",
    "        \"\"\"        \n",
    "        # Nature DQN setting to have a \"linear decaying epsilon\" for the first 50 thousand iterations\n",
    "        if env_step <= 50000:\n",
    "            training_eps = training_eps_init - env_step / 1000000 * (training_eps_init - training_eps_final)\n",
    "        else:\n",
    "            training_eps = training_eps_final\n",
    "            \n",
    "            \n",
    "        # Set epsilon\n",
    "        policy.policies[agents[0]].set_eps(training_eps)\n",
    "        policy.policies[agents[1]].set_eps(training_eps)\n",
    "        \n",
    "        # If frozen we don't have a large epsilon\n",
    "        if agent_player1_frozen:\n",
    "            policy.policies[agents[0]].set_eps(training_eps_final)\n",
    "        if agent_player2_frozen:\n",
    "            policy.policies[agents[1]].set_eps(training_eps_final)\n",
    "\n",
    "    def test_fn(epoch, env_step):\n",
    "        \"\"\"\n",
    "        Callback beore testing, sets the testing epsilon.\n",
    "        \"\"\"        \n",
    "        # Before testing we want to configure the epsilon for the agents\n",
    "        # In general more greedy than the train case but not\n",
    "        #   to avoid getting stuck on invalid moves\n",
    "        policy.policies[agents[0]].set_eps(testing_eps)\n",
    "        policy.policies[agents[1]].set_eps(testing_eps)\n",
    "\n",
    "    def reward_metric(rews):\n",
    "        \"\"\"\n",
    "        Callback for reward collection.\n",
    "        Currently the reward is the sum of both agents.\n",
    "        \"\"\"        \n",
    "        if agent_player2_frozen and single_agent_score_as_reward:\n",
    "            # agent 2 frozen, optimizing for agent 1\n",
    "            return rews[:, 0]\n",
    "        \n",
    "        if agent_player1_frozen and single_agent_score_as_reward:\n",
    "            # agent 1 frozen, optimizing for agent 2\n",
    "            return rews[:, 1]\n",
    "        \n",
    "        # Per default we are interested in optimizing both agents\n",
    "        return rews[:, 0] + rews[:, 1]\n",
    "\n",
    "    # ======== Training =========\n",
    "    # off policy training\n",
    "    result = ts.trainer.offpolicy_trainer(policy= policy,\n",
    "                                          train_collector= train_collector,\n",
    "                                          test_collector= test_collector,\n",
    "                                          max_epoch= epochs,\n",
    "                                          step_per_epoch= step_per_epoch,\n",
    "                                          step_per_collect= step_per_collect,\n",
    "                                          episode_per_test= episode_per_test,\n",
    "                                          batch_size= batch_size,\n",
    "                                          train_fn= train_fn,\n",
    "                                          test_fn= test_fn,\n",
    "                                          stop_fn= stop_fn,\n",
    "                                          save_best_fn= save_best_fn,\n",
    "                                          update_per_step= update_per_step,\n",
    "                                          logger= logger,\n",
    "                                          test_in_train= False,\n",
    "                                          reward_metric= reward_metric)\n",
    "    \n",
    "    # Save final agent 1\n",
    "    model_save_path = os.path.join('./saved_variables', 'paper_notebooks', notebook_version, filename, 'final_policy_agent1.pth')\n",
    "    torch.save(policy.policies[agents[0]].state_dict(), model_save_path)\n",
    "\n",
    "    # Save final agent 2\n",
    "    model_save_path = os.path.join('./saved_variables', 'paper_notebooks', notebook_version, filename, 'final_policy_agent2.pth')\n",
    "    torch.save(policy.policies[agents[1]].state_dict(), model_save_path)\n",
    "\n",
    "    return result, policy.policies[agents[0]], policy.policies[agents[1]]\n"
   ]
  },
  {
   "cell_type": "markdown",
   "id": "f161cc0f",
   "metadata": {},
   "source": [
    "<hr>\n",
    "\n",
    "### Function for watching learned agent\n",
    "\n",
    "Identical to the previous notebook."
   ]
  },
  {
   "cell_type": "code",
   "execution_count": 21,
   "id": "459114bd",
   "metadata": {},
   "outputs": [],
   "source": [
    "####################################################\n",
    "# WATCHING THE LEARNED POLICY IN ACTION\n",
    "####################################################\n",
    "\n",
    "def watch(numer_of_games: int = 3,\n",
    "          agent_player1: typing.Optional[ts.policy.BasePolicy] = None,\n",
    "          agent_player2: typing.Optional[ts.policy.BasePolicy] = None,\n",
    "          test_epsilon: float = 0.005, # For the watching we act completely greedy but low random for not getting stuck on invalid move\n",
    "          render_speed: float = 0.15, # Amount of seconds to update frame/ do a step\n",
    "          ) -> None:\n",
    "    \n",
    "    # Get the connect four V2 environment (must be a list)\n",
    "    env= ts.env.DummyVectorEnv([get_env])\n",
    "    \n",
    "    # Get the agents from the trained agents\n",
    "    policy, optim, agents = get_agent_manager(agent_player1= agent_player1,\n",
    "                                              agent_player2= agent_player2)\n",
    "    \n",
    "    # Evaluate the policy\n",
    "    policy.eval()\n",
    "    \n",
    "    # Set the testing policy epsilon for our agents\n",
    "    policy.policies[agents[0]].set_eps(test_epsilon)\n",
    "    policy.policies[agents[1]].set_eps(test_epsilon)\n",
    "    \n",
    "    # Collect the test data\n",
    "    collector = ts.data.Collector(policy= policy,\n",
    "                                  env= env,\n",
    "                                  exploration_noise= True)\n",
    "    \n",
    "    # Render games in human mode to see how it plays\n",
    "    result = collector.collect(n_episode= numer_of_games, render= render_speed)\n",
    "    \n",
    "    # Close the environment aftering collecting the results\n",
    "    # This closes the pygame window after completion\n",
    "    env.close()\n",
    "    \n",
    "    # Get the rewards and length from the test trials\n",
    "    rewards, length = result[\"rews\"], result[\"lens\"]\n",
    "    \n",
    "    # Print the final reward for the first agent\n",
    "    print(f\"Average steps of game:  {length.mean()}\")\n",
    "    print(f\"Final mean reward agent 1: {rewards[:, 0].mean()}, std: {rewards[:, 0].std()}\")\n",
    "    print(f\"Final mean reward agent 2: {rewards[:, 1].mean()}, std: {rewards[:, 1].std()}\")"
   ]
  },
  {
   "cell_type": "markdown",
   "id": "c31784e9",
   "metadata": {},
   "source": [
    "<hr>\n",
    "\n",
    "### Doing the experiment\n",
    "\n",
    "To test if we can better train our agents, we train them against a frozen oponent until the stopping criteria is reached or 50 epochs are passed.\n",
    "We loop 20 times with the previously found best parameters, optimizing each agent 10 times against a frozen one.\n",
    "We store the output of each experiment but only save a select few to GitHub due to data saving reasons.\n",
    "\n",
    "1. Experiment 1\n",
    "   - Starting params agent 1: `./saved_variables/paper_notebooks/9/rainbow_vs_rainbow_blocking_reward_complex_cnn/best_policy_agent1.pth`\n",
    "   - Starting params agent 2: `./saved_variables/paper_notebooks/9/rainbow_vs_rainbow_blocking_reward_complex_cnn/final_policy_agent2.pth`\n",
    "   - filename: `1-50epoch_20loop/looping-iteration-i`\n",
    "   - epochs: `50`\n",
    "   - loops: `20`\n",
    "   - others: `default`\n",
    "   - stopping threshold: `10`\n"
   ]
  },
  {
   "cell_type": "code",
   "execution_count": 19,
   "id": "93fe8961",
   "metadata": {},
   "outputs": [
    {
     "name": "stdout",
     "output_type": "stream",
     "text": [
      "\n",
      "Started training agent player 1 with frozen oponent in loop 0\n"
     ]
    },
    {
     "name": "stderr",
     "output_type": "stream",
     "text": [
      "Epoch #1: 10001it [00:33, 300.42it/s, env_step=10000, len=10, n/ep=0, n/st=10, player_1/loss=1.456, player_2/loss=1.521, rew=-3.00]\n"
     ]
    },
    {
     "name": "stdout",
     "output_type": "stream",
     "text": [
      "Epoch #1: test_reward: 44.700000 ± 18.633572, best_reward: 44.700000 ± 18.633572 in #1\n",
      "testing for stop: 4.470000000000001 >= 10 -> False\n"
     ]
    },
    {
     "name": "stderr",
     "output_type": "stream",
     "text": [
      "Epoch #2: 10001it [00:32, 309.16it/s, env_step=20000, len=12, n/ep=2, n/st=10, player_1/loss=1.423, player_2/loss=1.379, rew=0.00]\n"
     ]
    },
    {
     "name": "stdout",
     "output_type": "stream",
     "text": [
      "Epoch #2: test_reward: 26.000000 ± 0.000000, best_reward: 44.700000 ± 18.633572 in #1\n",
      "testing for stop: 4.470000000000001 >= 10 -> False\n"
     ]
    },
    {
     "name": "stderr",
     "output_type": "stream",
     "text": [
      "Epoch #3: 10001it [00:32, 310.60it/s, env_step=30000, len=23, n/ep=0, n/st=10, player_1/loss=1.308, player_2/loss=1.300, rew=6.67]\n"
     ]
    },
    {
     "name": "stdout",
     "output_type": "stream",
     "text": [
      "Epoch #3: test_reward: 23.000000 ± 0.000000, best_reward: 44.700000 ± 18.633572 in #1\n",
      "testing for stop: 4.470000000000001 >= 10 -> False\n"
     ]
    },
    {
     "name": "stderr",
     "output_type": "stream",
     "text": [
      "Epoch #4: 10001it [00:32, 310.33it/s, env_step=40000, len=9, n/ep=2, n/st=10, player_1/loss=1.391, player_2/loss=1.321, rew=0.00]\n"
     ]
    },
    {
     "name": "stdout",
     "output_type": "stream",
     "text": [
      "Epoch #4: test_reward: 45.000000 ± 0.000000, best_reward: 45.000000 ± 0.000000 in #4\n",
      "testing for stop: 4.5 >= 10 -> False\n"
     ]
    },
    {
     "name": "stderr",
     "output_type": "stream",
     "text": [
      "Epoch #5: 10001it [00:32, 310.69it/s, env_step=50000, len=8, n/ep=1, n/st=10, player_1/loss=1.351, player_2/loss=1.308, rew=-5.00]\n"
     ]
    },
    {
     "name": "stdout",
     "output_type": "stream",
     "text": [
      "Epoch #5: test_reward: 103.100000 ± 26.700000, best_reward: 103.100000 ± 26.700000 in #5\n",
      "testing for stop: 10.309999999999999 >= 10 -> True\n",
      "\n",
      "Started training agent player 2 with frozen oponent in loop 1\n"
     ]
    },
    {
     "name": "stderr",
     "output_type": "stream",
     "text": [
      "Epoch #1: 10001it [00:32, 310.91it/s, env_step=10000, len=9, n/ep=1, n/st=10, player_1/loss=1.351, player_2/loss=1.612, rew=-5.00]\n"
     ]
    },
    {
     "name": "stdout",
     "output_type": "stream",
     "text": [
      "Epoch #1: test_reward: 18.700000 ± 0.900000, best_reward: 48.700000 ± 13.535509 in #0\n",
      "testing for stop: 4.87 >= 10 -> False\n"
     ]
    },
    {
     "name": "stderr",
     "output_type": "stream",
     "text": [
      "Epoch #2: 10001it [00:32, 312.26it/s, env_step=20000, len=11, n/ep=1, n/st=10, player_1/loss=1.302, player_2/loss=1.549, rew=1.00]\n"
     ]
    },
    {
     "name": "stdout",
     "output_type": "stream",
     "text": [
      "Epoch #2: test_reward: 11.000000 ± 0.000000, best_reward: 48.700000 ± 13.535509 in #0\n",
      "testing for stop: 4.87 >= 10 -> False\n"
     ]
    },
    {
     "name": "stderr",
     "output_type": "stream",
     "text": [
      "Epoch #3: 10001it [00:31, 312.74it/s, env_step=30000, len=8, n/ep=0, n/st=10, player_1/loss=1.308, player_2/loss=1.548, rew=-5.00]\n"
     ]
    },
    {
     "name": "stdout",
     "output_type": "stream",
     "text": [
      "Epoch #3: test_reward: 63.100000 ± 0.300000, best_reward: 63.100000 ± 0.300000 in #3\n",
      "testing for stop: 6.3100000000000005 >= 10 -> False\n"
     ]
    },
    {
     "name": "stderr",
     "output_type": "stream",
     "text": [
      "Epoch #4: 10001it [00:32, 311.38it/s, env_step=40000, len=9, n/ep=0, n/st=10, player_1/loss=1.323, player_2/loss=1.557, rew=-5.00]\n"
     ]
    },
    {
     "name": "stdout",
     "output_type": "stream",
     "text": [
      "Epoch #4: test_reward: 6.600000 ± 1.200000, best_reward: 63.100000 ± 0.300000 in #3\n",
      "testing for stop: 6.3100000000000005 >= 10 -> False\n"
     ]
    },
    {
     "name": "stderr",
     "output_type": "stream",
     "text": [
      "Epoch #5: 10001it [00:32, 311.87it/s, env_step=50000, len=13, n/ep=1, n/st=10, player_1/loss=1.294, player_2/loss=1.620, rew=1.00]\n"
     ]
    },
    {
     "name": "stdout",
     "output_type": "stream",
     "text": [
      "Epoch #5: test_reward: 55.300000 ± 2.100000, best_reward: 63.100000 ± 0.300000 in #3\n",
      "testing for stop: 6.3100000000000005 >= 10 -> False\n"
     ]
    },
    {
     "name": "stderr",
     "output_type": "stream",
     "text": [
      "Epoch #6: 10001it [00:32, 303.69it/s, env_step=60000, len=21, n/ep=0, n/st=10, player_1/loss=1.551, player_2/loss=1.620, rew=23.00]\n"
     ]
    },
    {
     "name": "stdout",
     "output_type": "stream",
     "text": [
      "Epoch #6: test_reward: 102.200000 ± 32.400000, best_reward: 102.200000 ± 32.400000 in #6\n",
      "testing for stop: 10.22 >= 10 -> True\n",
      "\n",
      "Started training agent player 1 with frozen oponent in loop 2\n"
     ]
    },
    {
     "name": "stderr",
     "output_type": "stream",
     "text": [
      "Epoch #1: 10001it [00:32, 311.28it/s, env_step=10000, len=8, n/ep=0, n/st=10, player_1/loss=1.401, player_2/loss=1.282, rew=-5.00]\n"
     ]
    },
    {
     "name": "stdout",
     "output_type": "stream",
     "text": [
      "Epoch #1: test_reward: 65.000000 ± 0.000000, best_reward: 97.900000 ± 29.231661 in #0\n",
      "testing for stop: 9.790000000000001 >= 10 -> False\n"
     ]
    },
    {
     "name": "stderr",
     "output_type": "stream",
     "text": [
      "Epoch #2: 10001it [00:32, 312.27it/s, env_step=20000, len=8, n/ep=0, n/st=10, player_1/loss=1.336, player_2/loss=1.263, rew=-5.00]\n"
     ]
    },
    {
     "name": "stdout",
     "output_type": "stream",
     "text": [
      "Epoch #2: test_reward: 18.000000 ± 0.000000, best_reward: 97.900000 ± 29.231661 in #0\n",
      "testing for stop: 9.790000000000001 >= 10 -> False\n"
     ]
    },
    {
     "name": "stderr",
     "output_type": "stream",
     "text": [
      "Epoch #3: 10001it [00:32, 312.31it/s, env_step=30000, len=8, n/ep=1, n/st=10, player_1/loss=1.407, player_2/loss=1.247, rew=-5.00]\n"
     ]
    },
    {
     "name": "stdout",
     "output_type": "stream",
     "text": [
      "Epoch #3: test_reward: 75.000000 ± 0.000000, best_reward: 97.900000 ± 29.231661 in #0\n",
      "testing for stop: 9.790000000000001 >= 10 -> False\n"
     ]
    },
    {
     "name": "stderr",
     "output_type": "stream",
     "text": [
      "Epoch #4: 10001it [00:32, 311.84it/s, env_step=40000, len=10, n/ep=1, n/st=10, player_1/loss=1.388, player_2/loss=1.301, rew=-5.00]\n"
     ]
    },
    {
     "name": "stdout",
     "output_type": "stream",
     "text": [
      "Epoch #4: test_reward: 42.000000 ± 0.000000, best_reward: 97.900000 ± 29.231661 in #0\n",
      "testing for stop: 9.790000000000001 >= 10 -> False\n"
     ]
    },
    {
     "name": "stderr",
     "output_type": "stream",
     "text": [
      "Epoch #5: 10001it [00:31, 312.71it/s, env_step=50000, len=11, n/ep=0, n/st=10, player_1/loss=1.367, player_2/loss=1.290, rew=-3.67]\n"
     ]
    },
    {
     "name": "stdout",
     "output_type": "stream",
     "text": [
      "Epoch #5: test_reward: 56.000000 ± 23.617790, best_reward: 97.900000 ± 29.231661 in #0\n",
      "testing for stop: 9.790000000000001 >= 10 -> False\n"
     ]
    },
    {
     "name": "stderr",
     "output_type": "stream",
     "text": [
      "Epoch #6: 10001it [00:31, 312.64it/s, env_step=60000, len=16, n/ep=0, n/st=10, player_1/loss=1.602, player_2/loss=1.548, rew=3.00]\n"
     ]
    },
    {
     "name": "stdout",
     "output_type": "stream",
     "text": [
      "Epoch #6: test_reward: 75.400000 ± 10.800000, best_reward: 97.900000 ± 29.231661 in #0\n",
      "testing for stop: 9.790000000000001 >= 10 -> False\n"
     ]
    },
    {
     "name": "stderr",
     "output_type": "stream",
     "text": [
      "Epoch #7: 10001it [00:32, 312.19it/s, env_step=70000, len=42, n/ep=1, n/st=10, player_1/loss=1.474, player_2/loss=1.569, rew=113.00]\n"
     ]
    },
    {
     "name": "stdout",
     "output_type": "stream",
     "text": [
      "Epoch #7: test_reward: 71.000000 ± 0.000000, best_reward: 97.900000 ± 29.231661 in #0\n",
      "testing for stop: 9.790000000000001 >= 10 -> False\n"
     ]
    },
    {
     "name": "stderr",
     "output_type": "stream",
     "text": [
      "Epoch #8: 10001it [00:32, 312.09it/s, env_step=80000, len=8, n/ep=1, n/st=10, player_1/loss=1.358, player_2/loss=1.545, rew=-5.00]\n"
     ]
    },
    {
     "name": "stdout",
     "output_type": "stream",
     "text": [
      "Epoch #8: test_reward: 79.000000 ± 34.000000, best_reward: 97.900000 ± 29.231661 in #0\n",
      "testing for stop: 9.790000000000001 >= 10 -> False\n"
     ]
    },
    {
     "name": "stderr",
     "output_type": "stream",
     "text": [
      "Epoch #9: 10001it [00:31, 313.11it/s, env_step=90000, len=20, n/ep=1, n/st=10, player_1/loss=1.370, player_2/loss=1.418, rew=9.00]\n"
     ]
    },
    {
     "name": "stdout",
     "output_type": "stream",
     "text": [
      "Epoch #9: test_reward: 97.400000 ± 7.031358, best_reward: 97.900000 ± 29.231661 in #0\n",
      "testing for stop: 9.790000000000001 >= 10 -> False\n"
     ]
    },
    {
     "name": "stderr",
     "output_type": "stream",
     "text": [
      "Epoch #10: 10001it [00:31, 312.77it/s, env_step=100000, len=20, n/ep=0, n/st=10, player_1/loss=1.268, player_2/loss=1.362, rew=13.00]\n"
     ]
    },
    {
     "name": "stdout",
     "output_type": "stream",
     "text": [
      "Epoch #10: test_reward: 70.600000 ± 25.200000, best_reward: 97.900000 ± 29.231661 in #0\n",
      "testing for stop: 9.790000000000001 >= 10 -> False\n"
     ]
    },
    {
     "name": "stderr",
     "output_type": "stream",
     "text": [
      "Epoch #11: 10001it [00:32, 309.68it/s, env_step=110000, len=27, n/ep=0, n/st=10, player_1/loss=1.425, player_2/loss=1.596, rew=36.00]\n"
     ]
    },
    {
     "name": "stdout",
     "output_type": "stream",
     "text": [
      "Epoch #11: test_reward: 55.900000 ± 0.300000, best_reward: 97.900000 ± 29.231661 in #0\n",
      "testing for stop: 9.790000000000001 >= 10 -> False\n"
     ]
    },
    {
     "name": "stderr",
     "output_type": "stream",
     "text": [
      "Epoch #12: 10001it [00:32, 310.01it/s, env_step=120000, len=18, n/ep=0, n/st=10, player_1/loss=1.446, player_2/loss=1.546, rew=10.50]\n"
     ]
    },
    {
     "name": "stdout",
     "output_type": "stream",
     "text": [
      "Epoch #12: test_reward: 71.400000 ± 16.218508, best_reward: 97.900000 ± 29.231661 in #0\n",
      "testing for stop: 9.790000000000001 >= 10 -> False\n"
     ]
    },
    {
     "name": "stderr",
     "output_type": "stream",
     "text": [
      "Epoch #13: 10001it [00:35, 283.40it/s, env_step=130000, len=38, n/ep=1, n/st=10, player_1/loss=1.410, player_2/loss=1.576, rew=21.00]\n"
     ]
    },
    {
     "name": "stdout",
     "output_type": "stream",
     "text": [
      "Epoch #13: test_reward: 65.500000 ± 1.024695, best_reward: 97.900000 ± 29.231661 in #0\n",
      "testing for stop: 9.790000000000001 >= 10 -> False\n"
     ]
    },
    {
     "name": "stderr",
     "output_type": "stream",
     "text": [
      "Epoch #14: 10001it [00:32, 312.21it/s, env_step=140000, len=19, n/ep=3, n/st=10, player_1/loss=1.380, player_2/loss=1.505, rew=26.67]\n"
     ]
    },
    {
     "name": "stdout",
     "output_type": "stream",
     "text": [
      "Epoch #14: test_reward: 49.600000 ± 1.800000, best_reward: 97.900000 ± 29.231661 in #0\n",
      "testing for stop: 9.790000000000001 >= 10 -> False\n"
     ]
    },
    {
     "name": "stderr",
     "output_type": "stream",
     "text": [
      "Epoch #15: 10001it [00:31, 313.55it/s, env_step=150000, len=8, n/ep=0, n/st=10, player_1/loss=1.292, player_2/loss=1.541, rew=-5.00]\n"
     ]
    },
    {
     "name": "stdout",
     "output_type": "stream",
     "text": [
      "Epoch #15: test_reward: 61.600000 ± 7.800000, best_reward: 97.900000 ± 29.231661 in #0\n",
      "testing for stop: 9.790000000000001 >= 10 -> False\n"
     ]
    },
    {
     "name": "stderr",
     "output_type": "stream",
     "text": [
      "Epoch #16: 10001it [00:31, 313.15it/s, env_step=160000, len=42, n/ep=1, n/st=10, player_1/loss=1.370, player_2/loss=1.518, rew=53.00]\n"
     ]
    },
    {
     "name": "stdout",
     "output_type": "stream",
     "text": [
      "Epoch #16: test_reward: 13.000000 ± 0.000000, best_reward: 97.900000 ± 29.231661 in #0\n",
      "testing for stop: 9.790000000000001 >= 10 -> False\n"
     ]
    },
    {
     "name": "stderr",
     "output_type": "stream",
     "text": [
      "Epoch #17: 10001it [00:31, 313.04it/s, env_step=170000, len=18, n/ep=0, n/st=10, player_1/loss=1.303, player_2/loss=1.405, rew=17.00]\n"
     ]
    },
    {
     "name": "stdout",
     "output_type": "stream",
     "text": [
      "Epoch #17: test_reward: 14.800000 ± 6.600000, best_reward: 97.900000 ± 29.231661 in #0\n",
      "testing for stop: 9.790000000000001 >= 10 -> False\n"
     ]
    },
    {
     "name": "stderr",
     "output_type": "stream",
     "text": [
      "Epoch #18: 10001it [00:31, 313.32it/s, env_step=180000, len=18, n/ep=0, n/st=10, player_1/loss=1.281, player_2/loss=1.505, rew=17.00]\n"
     ]
    },
    {
     "name": "stdout",
     "output_type": "stream",
     "text": [
      "Epoch #18: test_reward: 117.800000 ± 3.600000, best_reward: 117.800000 ± 3.600000 in #18\n",
      "testing for stop: 11.78 >= 10 -> True\n",
      "\n",
      "Started training agent player 2 with frozen oponent in loop 3\n"
     ]
    },
    {
     "name": "stderr",
     "output_type": "stream",
     "text": [
      "Epoch #1: 10001it [00:32, 311.79it/s, env_step=10000, len=12, n/ep=0, n/st=10, player_1/loss=1.226, player_2/loss=1.519, rew=-3.00]\n"
     ]
    },
    {
     "name": "stdout",
     "output_type": "stream",
     "text": [
      "Epoch #1: test_reward: 5.000000 ± 0.000000, best_reward: 85.900000 ± 26.871732 in #0\n",
      "testing for stop: 8.59 >= 10 -> False\n"
     ]
    },
    {
     "name": "stderr",
     "output_type": "stream",
     "text": [
      "Epoch #2: 10001it [00:32, 311.48it/s, env_step=20000, len=12, n/ep=2, n/st=10, player_1/loss=1.273, player_2/loss=1.581, rew=-1.00]\n"
     ]
    },
    {
     "name": "stdout",
     "output_type": "stream",
     "text": [
      "Epoch #2: test_reward: 73.000000 ± 21.000000, best_reward: 85.900000 ± 26.871732 in #0\n",
      "testing for stop: 8.59 >= 10 -> False\n"
     ]
    },
    {
     "name": "stderr",
     "output_type": "stream",
     "text": [
      "Epoch #3: 10001it [00:32, 309.05it/s, env_step=30000, len=7, n/ep=1, n/st=10, player_1/loss=1.240, player_2/loss=1.511, rew=-3.00]\n"
     ]
    },
    {
     "name": "stdout",
     "output_type": "stream",
     "text": [
      "Epoch #3: test_reward: 13.700000 ± 2.100000, best_reward: 85.900000 ± 26.871732 in #0\n",
      "testing for stop: 8.59 >= 10 -> False\n"
     ]
    },
    {
     "name": "stderr",
     "output_type": "stream",
     "text": [
      "Epoch #4: 10001it [00:33, 302.06it/s, env_step=40000, len=7, n/ep=2, n/st=10, player_1/loss=1.218, player_2/loss=1.466, rew=-5.00]\n"
     ]
    },
    {
     "name": "stdout",
     "output_type": "stream",
     "text": [
      "Epoch #4: test_reward: 58.000000 ± 6.000000, best_reward: 85.900000 ± 26.871732 in #0\n",
      "testing for stop: 8.59 >= 10 -> False\n"
     ]
    },
    {
     "name": "stderr",
     "output_type": "stream",
     "text": [
      "Epoch #5: 10001it [00:32, 309.18it/s, env_step=50000, len=21, n/ep=0, n/st=10, player_1/loss=1.231, player_2/loss=1.487, rew=5.00]\n"
     ]
    },
    {
     "name": "stdout",
     "output_type": "stream",
     "text": [
      "Epoch #5: test_reward: 35.000000 ± 0.000000, best_reward: 85.900000 ± 26.871732 in #0\n",
      "testing for stop: 8.59 >= 10 -> False\n"
     ]
    },
    {
     "name": "stderr",
     "output_type": "stream",
     "text": [
      "Epoch #6: 10001it [00:32, 305.69it/s, env_step=60000, len=10, n/ep=0, n/st=10, player_1/loss=1.485, player_2/loss=1.554, rew=10.00]\n"
     ]
    },
    {
     "name": "stdout",
     "output_type": "stream",
     "text": [
      "Epoch #6: test_reward: 64.000000 ± 0.000000, best_reward: 85.900000 ± 26.871732 in #0\n",
      "testing for stop: 8.59 >= 10 -> False\n"
     ]
    },
    {
     "name": "stderr",
     "output_type": "stream",
     "text": [
      "Epoch #7: 10001it [00:32, 305.25it/s, env_step=70000, len=20, n/ep=0, n/st=10, player_1/loss=1.343, player_2/loss=1.324, rew=5.00]\n"
     ]
    },
    {
     "name": "stdout",
     "output_type": "stream",
     "text": [
      "Epoch #7: test_reward: 74.100000 ± 16.434415, best_reward: 85.900000 ± 26.871732 in #0\n",
      "testing for stop: 8.59 >= 10 -> False\n"
     ]
    },
    {
     "name": "stderr",
     "output_type": "stream",
     "text": [
      "Epoch #8: 10001it [00:32, 309.47it/s, env_step=80000, len=16, n/ep=0, n/st=10, player_1/loss=1.449, player_2/loss=1.371, rew=8.00]\n"
     ]
    },
    {
     "name": "stdout",
     "output_type": "stream",
     "text": [
      "Epoch #8: test_reward: 95.200000 ± 0.600000, best_reward: 95.200000 ± 0.600000 in #8\n",
      "testing for stop: 9.52 >= 10 -> False\n"
     ]
    },
    {
     "name": "stderr",
     "output_type": "stream",
     "text": [
      "Epoch #9: 10001it [00:32, 307.99it/s, env_step=90000, len=13, n/ep=1, n/st=10, player_1/loss=1.383, player_2/loss=1.476, rew=-5.00]\n"
     ]
    },
    {
     "name": "stdout",
     "output_type": "stream",
     "text": [
      "Epoch #9: test_reward: 100.900000 ± 5.700000, best_reward: 100.900000 ± 5.700000 in #9\n",
      "testing for stop: 10.09 >= 10 -> True\n",
      "\n",
      "Started training agent player 1 with frozen oponent in loop 4\n"
     ]
    },
    {
     "name": "stderr",
     "output_type": "stream",
     "text": [
      "Epoch #1: 10001it [00:32, 309.79it/s, env_step=10000, len=12, n/ep=0, n/st=10, player_1/loss=1.292, player_2/loss=1.394, rew=-5.00]\n"
     ]
    },
    {
     "name": "stdout",
     "output_type": "stream",
     "text": [
      "Epoch #1: test_reward: 3.000000 ± 0.000000, best_reward: 47.300000 ± 8.367198 in #0\n",
      "testing for stop: 4.7299999999999995 >= 10 -> False\n"
     ]
    },
    {
     "name": "stderr",
     "output_type": "stream",
     "text": [
      "Epoch #2: 10001it [00:32, 311.27it/s, env_step=20000, len=10, n/ep=0, n/st=10, player_1/loss=1.310, player_2/loss=1.286, rew=-5.00]\n"
     ]
    },
    {
     "name": "stdout",
     "output_type": "stream",
     "text": [
      "Epoch #2: test_reward: 121.000000 ± 0.000000, best_reward: 121.000000 ± 0.000000 in #2\n",
      "testing for stop: 12.1 >= 10 -> True\n",
      "\n",
      "Started training agent player 2 with frozen oponent in loop 5\n"
     ]
    },
    {
     "name": "stderr",
     "output_type": "stream",
     "text": [
      "Epoch #1: 10001it [00:32, 312.17it/s, env_step=10000, len=13, n/ep=2, n/st=10, player_1/loss=1.197, player_2/loss=1.399, rew=-4.00]\n"
     ]
    },
    {
     "name": "stdout",
     "output_type": "stream",
     "text": [
      "Epoch #1: test_reward: 6.000000 ± 3.000000, best_reward: 41.800000 ± 17.993332 in #0\n",
      "testing for stop: 4.18 >= 10 -> False\n"
     ]
    },
    {
     "name": "stderr",
     "output_type": "stream",
     "text": [
      "Epoch #2: 10001it [00:31, 313.13it/s, env_step=20000, len=9, n/ep=2, n/st=10, player_1/loss=1.245, player_2/loss=1.441, rew=-2.00]\n"
     ]
    },
    {
     "name": "stdout",
     "output_type": "stream",
     "text": [
      "Epoch #2: test_reward: 55.700000 ± 12.665307, best_reward: 55.700000 ± 12.665307 in #2\n",
      "testing for stop: 5.57 >= 10 -> False\n"
     ]
    },
    {
     "name": "stderr",
     "output_type": "stream",
     "text": [
      "Epoch #3: 10001it [00:32, 312.35it/s, env_step=30000, len=7, n/ep=1, n/st=10, player_1/loss=1.148, player_2/loss=1.495, rew=-5.00]\n"
     ]
    },
    {
     "name": "stdout",
     "output_type": "stream",
     "text": [
      "Epoch #3: test_reward: 48.200000 ± 6.209670, best_reward: 55.700000 ± 12.665307 in #2\n",
      "testing for stop: 5.57 >= 10 -> False\n"
     ]
    },
    {
     "name": "stderr",
     "output_type": "stream",
     "text": [
      "Epoch #4: 10001it [00:31, 313.24it/s, env_step=40000, len=9, n/ep=1, n/st=10, player_1/loss=1.168, player_2/loss=1.584, rew=-5.00]\n"
     ]
    },
    {
     "name": "stdout",
     "output_type": "stream",
     "text": [
      "Epoch #4: test_reward: 16.300000 ± 15.900000, best_reward: 55.700000 ± 12.665307 in #2\n",
      "testing for stop: 5.57 >= 10 -> False\n"
     ]
    },
    {
     "name": "stderr",
     "output_type": "stream",
     "text": [
      "Epoch #5: 10001it [00:31, 312.62it/s, env_step=50000, len=22, n/ep=0, n/st=10, player_1/loss=1.145, player_2/loss=1.532, rew=34.50]\n"
     ]
    },
    {
     "name": "stdout",
     "output_type": "stream",
     "text": [
      "Epoch #5: test_reward: 57.000000 ± 0.000000, best_reward: 57.000000 ± 0.000000 in #5\n",
      "testing for stop: 5.7 >= 10 -> False\n"
     ]
    },
    {
     "name": "stderr",
     "output_type": "stream",
     "text": [
      "Epoch #6: 10001it [00:31, 313.49it/s, env_step=60000, len=30, n/ep=1, n/st=10, player_1/loss=1.553, player_2/loss=1.647, rew=56.00]\n"
     ]
    },
    {
     "name": "stdout",
     "output_type": "stream",
     "text": [
      "Epoch #6: test_reward: 60.100000 ± 5.700000, best_reward: 60.100000 ± 5.700000 in #6\n",
      "testing for stop: 6.01 >= 10 -> False\n"
     ]
    },
    {
     "name": "stderr",
     "output_type": "stream",
     "text": [
      "Epoch #7: 10001it [00:31, 312.70it/s, env_step=70000, len=16, n/ep=0, n/st=10, player_1/loss=1.518, player_2/loss=1.581, rew=10.00]\n"
     ]
    },
    {
     "name": "stdout",
     "output_type": "stream",
     "text": [
      "Epoch #7: test_reward: 19.000000 ± 0.000000, best_reward: 60.100000 ± 5.700000 in #6\n",
      "testing for stop: 6.01 >= 10 -> False\n"
     ]
    },
    {
     "name": "stderr",
     "output_type": "stream",
     "text": [
      "Epoch #8: 10001it [00:31, 313.22it/s, env_step=80000, len=19, n/ep=0, n/st=10, player_1/loss=1.467, player_2/loss=1.443, rew=9.00]\n"
     ]
    },
    {
     "name": "stdout",
     "output_type": "stream",
     "text": [
      "Epoch #8: test_reward: 88.600000 ± 13.200000, best_reward: 88.600000 ± 13.200000 in #8\n",
      "testing for stop: 8.86 >= 10 -> False\n"
     ]
    },
    {
     "name": "stderr",
     "output_type": "stream",
     "text": [
      "Epoch #9: 10001it [00:32, 312.38it/s, env_step=90000, len=35, n/ep=0, n/st=10, player_1/loss=1.401, player_2/loss=1.439, rew=-1.00]\n"
     ]
    },
    {
     "name": "stdout",
     "output_type": "stream",
     "text": [
      "Epoch #9: test_reward: 5.000000 ± 0.000000, best_reward: 88.600000 ± 13.200000 in #8\n",
      "testing for stop: 8.86 >= 10 -> False\n"
     ]
    },
    {
     "name": "stderr",
     "output_type": "stream",
     "text": [
      "Epoch #10: 10001it [00:31, 313.07it/s, env_step=100000, len=12, n/ep=0, n/st=10, player_1/loss=1.374, player_2/loss=1.491, rew=2.00]\n"
     ]
    },
    {
     "name": "stdout",
     "output_type": "stream",
     "text": [
      "Epoch #10: test_reward: 75.500000 ± 22.659435, best_reward: 88.600000 ± 13.200000 in #8\n",
      "testing for stop: 8.86 >= 10 -> False\n"
     ]
    },
    {
     "name": "stderr",
     "output_type": "stream",
     "text": [
      "Epoch #11: 10001it [00:31, 312.65it/s, env_step=110000, len=16, n/ep=2, n/st=10, player_1/loss=1.369, player_2/loss=1.398, rew=8.50]\n"
     ]
    },
    {
     "name": "stdout",
     "output_type": "stream",
     "text": [
      "Epoch #11: test_reward: 21.800000 ± 5.600000, best_reward: 88.600000 ± 13.200000 in #8\n",
      "testing for stop: 8.86 >= 10 -> False\n"
     ]
    },
    {
     "name": "stderr",
     "output_type": "stream",
     "text": [
      "Epoch #12: 10001it [00:31, 312.78it/s, env_step=120000, len=25, n/ep=1, n/st=10, player_1/loss=1.402, player_2/loss=1.502, rew=17.00]\n"
     ]
    },
    {
     "name": "stdout",
     "output_type": "stream",
     "text": [
      "Epoch #12: test_reward: 57.400000 ± 13.800000, best_reward: 88.600000 ± 13.200000 in #8\n",
      "testing for stop: 8.86 >= 10 -> False\n"
     ]
    },
    {
     "name": "stderr",
     "output_type": "stream",
     "text": [
      "Epoch #13: 10001it [00:31, 313.16it/s, env_step=130000, len=20, n/ep=0, n/st=10, player_1/loss=1.275, player_2/loss=1.353, rew=12.00]\n"
     ]
    },
    {
     "name": "stdout",
     "output_type": "stream",
     "text": [
      "Epoch #13: test_reward: 54.700000 ± 3.900000, best_reward: 88.600000 ± 13.200000 in #8\n",
      "testing for stop: 8.86 >= 10 -> False\n"
     ]
    },
    {
     "name": "stderr",
     "output_type": "stream",
     "text": [
      "Epoch #14: 10001it [00:31, 313.21it/s, env_step=140000, len=12, n/ep=0, n/st=10, player_1/loss=1.257, player_2/loss=1.430, rew=8.00]\n"
     ]
    },
    {
     "name": "stdout",
     "output_type": "stream",
     "text": [
      "Epoch #14: test_reward: 47.500000 ± 1.500000, best_reward: 88.600000 ± 13.200000 in #8\n",
      "testing for stop: 8.86 >= 10 -> False\n"
     ]
    },
    {
     "name": "stderr",
     "output_type": "stream",
     "text": [
      "Epoch #15: 10001it [00:31, 313.06it/s, env_step=150000, len=38, n/ep=0, n/st=10, player_1/loss=1.250, player_2/loss=1.360, rew=71.00]\n"
     ]
    },
    {
     "name": "stdout",
     "output_type": "stream",
     "text": [
      "Epoch #15: test_reward: 5.500000 ± 1.500000, best_reward: 88.600000 ± 13.200000 in #8\n",
      "testing for stop: 8.86 >= 10 -> False\n"
     ]
    },
    {
     "name": "stderr",
     "output_type": "stream",
     "text": [
      "Epoch #16: 10001it [00:31, 312.65it/s, env_step=160000, len=41, n/ep=1, n/st=10, player_1/loss=1.256, player_2/loss=1.467, rew=57.00]\n"
     ]
    },
    {
     "name": "stdout",
     "output_type": "stream",
     "text": [
      "Epoch #16: test_reward: 2.200000 ± 2.400000, best_reward: 88.600000 ± 13.200000 in #8\n",
      "testing for stop: 8.86 >= 10 -> False\n"
     ]
    },
    {
     "name": "stderr",
     "output_type": "stream",
     "text": [
      "Epoch #17: 10001it [00:31, 313.30it/s, env_step=170000, len=28, n/ep=2, n/st=10, player_1/loss=1.309, player_2/loss=1.446, rew=22.00]\n"
     ]
    },
    {
     "name": "stdout",
     "output_type": "stream",
     "text": [
      "Epoch #17: test_reward: 99.000000 ± 0.000000, best_reward: 99.000000 ± 0.000000 in #17\n",
      "testing for stop: 9.9 >= 10 -> False\n"
     ]
    },
    {
     "name": "stderr",
     "output_type": "stream",
     "text": [
      "Epoch #18: 10001it [00:31, 312.74it/s, env_step=180000, len=8, n/ep=0, n/st=10, player_1/loss=1.280, player_2/loss=1.396, rew=5.00]\n"
     ]
    },
    {
     "name": "stdout",
     "output_type": "stream",
     "text": [
      "Epoch #18: test_reward: 5.000000 ± 0.000000, best_reward: 99.000000 ± 0.000000 in #17\n",
      "testing for stop: 9.9 >= 10 -> False\n"
     ]
    },
    {
     "name": "stderr",
     "output_type": "stream",
     "text": [
      "Epoch #19: 10001it [00:31, 313.05it/s, env_step=190000, len=17, n/ep=1, n/st=10, player_1/loss=1.265, player_2/loss=1.392, rew=17.00]\n"
     ]
    },
    {
     "name": "stdout",
     "output_type": "stream",
     "text": [
      "Epoch #19: test_reward: 33.000000 ± 0.000000, best_reward: 99.000000 ± 0.000000 in #17\n",
      "testing for stop: 9.9 >= 10 -> False\n"
     ]
    },
    {
     "name": "stderr",
     "output_type": "stream",
     "text": [
      "Epoch #20: 10001it [00:32, 311.54it/s, env_step=200000, len=15, n/ep=0, n/st=10, player_1/loss=1.277, player_2/loss=1.424, rew=-5.00]\n"
     ]
    },
    {
     "name": "stdout",
     "output_type": "stream",
     "text": [
      "Epoch #20: test_reward: 3.000000 ± 0.000000, best_reward: 99.000000 ± 0.000000 in #17\n",
      "testing for stop: 9.9 >= 10 -> False\n"
     ]
    },
    {
     "name": "stderr",
     "output_type": "stream",
     "text": [
      "Epoch #21: 10001it [00:31, 312.88it/s, env_step=210000, len=42, n/ep=0, n/st=10, player_1/loss=1.210, player_2/loss=1.358, rew=86.00]\n"
     ]
    },
    {
     "name": "stdout",
     "output_type": "stream",
     "text": [
      "Epoch #21: test_reward: 88.000000 ± 0.000000, best_reward: 99.000000 ± 0.000000 in #17\n",
      "testing for stop: 9.9 >= 10 -> False\n"
     ]
    },
    {
     "name": "stderr",
     "output_type": "stream",
     "text": [
      "Epoch #22: 10001it [00:31, 313.63it/s, env_step=220000, len=27, n/ep=0, n/st=10, player_1/loss=1.198, player_2/loss=1.295, rew=13.00]\n"
     ]
    },
    {
     "name": "stdout",
     "output_type": "stream",
     "text": [
      "Epoch #22: test_reward: 124.400000 ± 31.203205, best_reward: 124.400000 ± 31.203205 in #22\n",
      "testing for stop: 12.440000000000001 >= 10 -> True\n",
      "\n",
      "Started training agent player 1 with frozen oponent in loop 6\n"
     ]
    },
    {
     "name": "stderr",
     "output_type": "stream",
     "text": [
      "Epoch #1: 10001it [00:31, 313.42it/s, env_step=10000, len=8, n/ep=0, n/st=10, player_1/loss=1.324, player_2/loss=1.390, rew=-5.00]\n"
     ]
    },
    {
     "name": "stdout",
     "output_type": "stream",
     "text": [
      "Epoch #1: test_reward: 19.800000 ± 8.400000, best_reward: 84.300000 ± 27.864135 in #0\n",
      "testing for stop: 8.43 >= 10 -> False\n"
     ]
    },
    {
     "name": "stderr",
     "output_type": "stream",
     "text": [
      "Epoch #2: 10001it [00:31, 313.19it/s, env_step=20000, len=16, n/ep=0, n/st=10, player_1/loss=1.330, player_2/loss=1.308, rew=5.00]\n"
     ]
    },
    {
     "name": "stdout",
     "output_type": "stream",
     "text": [
      "Epoch #2: test_reward: 29.000000 ± 0.000000, best_reward: 84.300000 ± 27.864135 in #0\n",
      "testing for stop: 8.43 >= 10 -> False\n"
     ]
    },
    {
     "name": "stderr",
     "output_type": "stream",
     "text": [
      "Epoch #3: 10001it [00:32, 312.45it/s, env_step=30000, len=12, n/ep=2, n/st=10, player_1/loss=1.301, player_2/loss=1.252, rew=-4.00]\n"
     ]
    },
    {
     "name": "stdout",
     "output_type": "stream",
     "text": [
      "Epoch #3: test_reward: 121.400000 ± 16.800000, best_reward: 121.400000 ± 16.800000 in #3\n",
      "testing for stop: 12.14 >= 10 -> True\n",
      "\n",
      "Started training agent player 2 with frozen oponent in loop 7\n"
     ]
    },
    {
     "name": "stderr",
     "output_type": "stream",
     "text": [
      "Epoch #1: 10001it [00:31, 313.29it/s, env_step=10000, len=7, n/ep=1, n/st=10, player_1/loss=1.128, player_2/loss=1.452, rew=-5.00]\n"
     ]
    },
    {
     "name": "stdout",
     "output_type": "stream",
     "text": [
      "Epoch #1: test_reward: 55.400000 ± 16.800000, best_reward: 75.300000 ± 6.634003 in #0\n",
      "testing for stop: 7.529999999999999 >= 10 -> False\n"
     ]
    },
    {
     "name": "stderr",
     "output_type": "stream",
     "text": [
      "Epoch #2: 10001it [00:31, 313.23it/s, env_step=20000, len=16, n/ep=0, n/st=10, player_1/loss=1.207, player_2/loss=1.492, rew=7.00]\n"
     ]
    },
    {
     "name": "stdout",
     "output_type": "stream",
     "text": [
      "Epoch #2: test_reward: 120.900000 ± 38.637935, best_reward: 120.900000 ± 38.637935 in #2\n",
      "testing for stop: 12.09 >= 10 -> True\n",
      "\n",
      "Started training agent player 1 with frozen oponent in loop 8\n"
     ]
    },
    {
     "name": "stderr",
     "output_type": "stream",
     "text": [
      "Epoch #1: 10001it [00:31, 313.00it/s, env_step=10000, len=19, n/ep=0, n/st=10, player_1/loss=1.339, player_2/loss=1.346, rew=-5.00]\n"
     ]
    },
    {
     "name": "stdout",
     "output_type": "stream",
     "text": [
      "Epoch #1: test_reward: 30.700000 ± 20.100000, best_reward: 96.900000 ± 34.060094 in #0\n",
      "testing for stop: 9.690000000000001 >= 10 -> False\n"
     ]
    },
    {
     "name": "stderr",
     "output_type": "stream",
     "text": [
      "Epoch #2: 10001it [00:32, 311.51it/s, env_step=20000, len=8, n/ep=2, n/st=10, player_1/loss=1.381, player_2/loss=1.236, rew=-5.00]\n"
     ]
    },
    {
     "name": "stdout",
     "output_type": "stream",
     "text": [
      "Epoch #2: test_reward: 12.000000 ± 0.000000, best_reward: 96.900000 ± 34.060094 in #0\n",
      "testing for stop: 9.690000000000001 >= 10 -> False\n"
     ]
    },
    {
     "name": "stderr",
     "output_type": "stream",
     "text": [
      "Epoch #3: 10001it [00:31, 313.13it/s, env_step=30000, len=12, n/ep=1, n/st=10, player_1/loss=1.342, player_2/loss=1.148, rew=1.00]\n"
     ]
    },
    {
     "name": "stdout",
     "output_type": "stream",
     "text": [
      "Epoch #3: test_reward: 15.000000 ± 0.000000, best_reward: 96.900000 ± 34.060094 in #0\n",
      "testing for stop: 9.690000000000001 >= 10 -> False\n"
     ]
    },
    {
     "name": "stderr",
     "output_type": "stream",
     "text": [
      "Epoch #4: 10001it [00:31, 313.47it/s, env_step=40000, len=8, n/ep=1, n/st=10, player_1/loss=1.382, player_2/loss=1.209, rew=-5.00]\n"
     ]
    },
    {
     "name": "stdout",
     "output_type": "stream",
     "text": [
      "Epoch #4: test_reward: 56.200000 ± 2.400000, best_reward: 96.900000 ± 34.060094 in #0\n",
      "testing for stop: 9.690000000000001 >= 10 -> False\n"
     ]
    },
    {
     "name": "stderr",
     "output_type": "stream",
     "text": [
      "Epoch #5: 10001it [00:31, 313.19it/s, env_step=50000, len=8, n/ep=1, n/st=10, player_1/loss=1.342, player_2/loss=1.222, rew=-5.00]\n"
     ]
    },
    {
     "name": "stdout",
     "output_type": "stream",
     "text": [
      "Epoch #5: test_reward: 25.000000 ± 0.000000, best_reward: 96.900000 ± 34.060094 in #0\n",
      "testing for stop: 9.690000000000001 >= 10 -> False\n"
     ]
    },
    {
     "name": "stderr",
     "output_type": "stream",
     "text": [
      "Epoch #6: 10001it [00:32, 312.25it/s, env_step=60000, len=33, n/ep=1, n/st=10, player_1/loss=1.471, player_2/loss=1.444, rew=53.00]\n"
     ]
    },
    {
     "name": "stdout",
     "output_type": "stream",
     "text": [
      "Epoch #6: test_reward: 52.800000 ± 11.847363, best_reward: 96.900000 ± 34.060094 in #0\n",
      "testing for stop: 9.690000000000001 >= 10 -> False\n"
     ]
    },
    {
     "name": "stderr",
     "output_type": "stream",
     "text": [
      "Epoch #7: 10001it [00:32, 312.36it/s, env_step=70000, len=25, n/ep=1, n/st=10, player_1/loss=1.305, player_2/loss=1.437, rew=55.00]\n"
     ]
    },
    {
     "name": "stdout",
     "output_type": "stream",
     "text": [
      "Epoch #7: test_reward: 94.000000 ± 0.000000, best_reward: 96.900000 ± 34.060094 in #0\n",
      "testing for stop: 9.690000000000001 >= 10 -> False\n"
     ]
    },
    {
     "name": "stderr",
     "output_type": "stream",
     "text": [
      "Epoch #8: 10001it [00:32, 312.06it/s, env_step=80000, len=32, n/ep=0, n/st=10, player_1/loss=1.315, player_2/loss=1.485, rew=37.00]\n"
     ]
    },
    {
     "name": "stdout",
     "output_type": "stream",
     "text": [
      "Epoch #8: test_reward: 96.100000 ± 29.700000, best_reward: 96.900000 ± 34.060094 in #0\n",
      "testing for stop: 9.690000000000001 >= 10 -> False\n"
     ]
    },
    {
     "name": "stderr",
     "output_type": "stream",
     "text": [
      "Epoch #9: 10001it [00:32, 312.10it/s, env_step=90000, len=33, n/ep=2, n/st=10, player_1/loss=1.336, player_2/loss=1.456, rew=59.50]\n"
     ]
    },
    {
     "name": "stdout",
     "output_type": "stream",
     "text": [
      "Epoch #9: test_reward: 103.000000 ± 0.000000, best_reward: 103.000000 ± 0.000000 in #9\n",
      "testing for stop: 10.3 >= 10 -> True\n",
      "\n",
      "Started training agent player 2 with frozen oponent in loop 9\n"
     ]
    },
    {
     "name": "stderr",
     "output_type": "stream",
     "text": [
      "Epoch #1: 10001it [00:33, 298.46it/s, env_step=10000, len=7, n/ep=0, n/st=10, player_1/loss=1.107, player_2/loss=1.401, rew=-5.00]\n"
     ]
    },
    {
     "name": "stdout",
     "output_type": "stream",
     "text": [
      "Epoch #1: test_reward: 95.000000 ± 30.000000, best_reward: 95.000000 ± 30.000000 in #1\n",
      "testing for stop: 9.5 >= 10 -> False\n"
     ]
    },
    {
     "name": "stderr",
     "output_type": "stream",
     "text": [
      "Epoch #2: 10001it [00:31, 314.54it/s, env_step=20000, len=7, n/ep=0, n/st=10, player_1/loss=1.212, player_2/loss=1.481, rew=-5.00]\n"
     ]
    },
    {
     "name": "stdout",
     "output_type": "stream",
     "text": [
      "Epoch #2: test_reward: -0.400000 ± 1.800000, best_reward: 95.000000 ± 30.000000 in #1\n",
      "testing for stop: 9.5 >= 10 -> False\n"
     ]
    },
    {
     "name": "stderr",
     "output_type": "stream",
     "text": [
      "Epoch #3: 10001it [00:32, 311.09it/s, env_step=30000, len=9, n/ep=1, n/st=10, player_1/loss=1.203, player_2/loss=1.494, rew=-5.00]\n"
     ]
    },
    {
     "name": "stdout",
     "output_type": "stream",
     "text": [
      "Epoch #3: test_reward: 7.000000 ± 0.000000, best_reward: 95.000000 ± 30.000000 in #1\n",
      "testing for stop: 9.5 >= 10 -> False\n"
     ]
    },
    {
     "name": "stderr",
     "output_type": "stream",
     "text": [
      "Epoch #4: 10001it [00:33, 298.14it/s, env_step=40000, len=9, n/ep=0, n/st=10, player_1/loss=1.192, player_2/loss=1.507, rew=-5.00]\n"
     ]
    },
    {
     "name": "stdout",
     "output_type": "stream",
     "text": [
      "Epoch #4: test_reward: 17.000000 ± 0.000000, best_reward: 95.000000 ± 30.000000 in #1\n",
      "testing for stop: 9.5 >= 10 -> False\n"
     ]
    },
    {
     "name": "stderr",
     "output_type": "stream",
     "text": [
      "Epoch #5: 10001it [00:32, 303.83it/s, env_step=50000, len=7, n/ep=1, n/st=10, player_1/loss=1.182, player_2/loss=1.546, rew=-3.00]\n"
     ]
    },
    {
     "name": "stdout",
     "output_type": "stream",
     "text": [
      "Epoch #5: test_reward: 15.400000 ± 1.200000, best_reward: 95.000000 ± 30.000000 in #1\n",
      "testing for stop: 9.5 >= 10 -> False\n"
     ]
    },
    {
     "name": "stderr",
     "output_type": "stream",
     "text": [
      "Epoch #6: 10001it [00:30, 325.64it/s, env_step=60000, len=19, n/ep=0, n/st=10, player_1/loss=1.508, player_2/loss=1.679, rew=9.00]\n"
     ]
    },
    {
     "name": "stdout",
     "output_type": "stream",
     "text": [
      "Epoch #6: test_reward: 75.700000 ± 0.640312, best_reward: 95.000000 ± 30.000000 in #1\n",
      "testing for stop: 9.5 >= 10 -> False\n"
     ]
    },
    {
     "name": "stderr",
     "output_type": "stream",
     "text": [
      "Epoch #7: 10001it [00:30, 325.39it/s, env_step=70000, len=34, n/ep=0, n/st=10, player_1/loss=1.465, player_2/loss=1.499, rew=72.00]\n"
     ]
    },
    {
     "name": "stdout",
     "output_type": "stream",
     "text": [
      "Epoch #7: test_reward: 78.000000 ± 0.000000, best_reward: 95.000000 ± 30.000000 in #1\n",
      "testing for stop: 9.5 >= 10 -> False\n"
     ]
    },
    {
     "name": "stderr",
     "output_type": "stream",
     "text": [
      "Epoch #8: 10001it [00:30, 323.87it/s, env_step=80000, len=33, n/ep=0, n/st=10, player_1/loss=1.303, player_2/loss=1.406, rew=27.00]\n"
     ]
    },
    {
     "name": "stdout",
     "output_type": "stream",
     "text": [
      "Epoch #8: test_reward: 78.200000 ± 6.462198, best_reward: 95.000000 ± 30.000000 in #1\n",
      "testing for stop: 9.5 >= 10 -> False\n"
     ]
    },
    {
     "name": "stderr",
     "output_type": "stream",
     "text": [
      "Epoch #9: 10001it [00:30, 326.61it/s, env_step=90000, len=29, n/ep=0, n/st=10, player_1/loss=1.248, player_2/loss=1.399, rew=31.00]\n"
     ]
    },
    {
     "name": "stdout",
     "output_type": "stream",
     "text": [
      "Epoch #9: test_reward: 28.700000 ± 6.900000, best_reward: 95.000000 ± 30.000000 in #1\n",
      "testing for stop: 9.5 >= 10 -> False\n"
     ]
    },
    {
     "name": "stderr",
     "output_type": "stream",
     "text": [
      "Epoch #10: 10001it [00:30, 326.66it/s, env_step=100000, len=22, n/ep=0, n/st=10, player_1/loss=1.286, player_2/loss=1.327, rew=10.50]\n"
     ]
    },
    {
     "name": "stdout",
     "output_type": "stream",
     "text": [
      "Epoch #10: test_reward: 61.800000 ± 15.702229, best_reward: 95.000000 ± 30.000000 in #1\n",
      "testing for stop: 9.5 >= 10 -> False\n"
     ]
    },
    {
     "name": "stderr",
     "output_type": "stream",
     "text": [
      "Epoch #11: 10001it [00:30, 325.80it/s, env_step=110000, len=37, n/ep=0, n/st=10, player_1/loss=1.404, player_2/loss=1.541, rew=61.00]\n"
     ]
    },
    {
     "name": "stdout",
     "output_type": "stream",
     "text": [
      "Epoch #11: test_reward: -2.200000 ± 2.400000, best_reward: 95.000000 ± 30.000000 in #1\n",
      "testing for stop: 9.5 >= 10 -> False\n"
     ]
    },
    {
     "name": "stderr",
     "output_type": "stream",
     "text": [
      "Epoch #12: 10001it [00:30, 326.22it/s, env_step=120000, len=27, n/ep=0, n/st=10, player_1/loss=1.402, player_2/loss=1.564, rew=29.00]\n"
     ]
    },
    {
     "name": "stdout",
     "output_type": "stream",
     "text": [
      "Epoch #12: test_reward: 73.100000 ± 25.828085, best_reward: 95.000000 ± 30.000000 in #1\n",
      "testing for stop: 9.5 >= 10 -> False\n"
     ]
    },
    {
     "name": "stderr",
     "output_type": "stream",
     "text": [
      "Epoch #13: 10001it [00:30, 325.93it/s, env_step=130000, len=30, n/ep=1, n/st=10, player_1/loss=1.390, player_2/loss=1.473, rew=39.00]\n"
     ]
    },
    {
     "name": "stdout",
     "output_type": "stream",
     "text": [
      "Epoch #13: test_reward: 29.800000 ± 8.400000, best_reward: 95.000000 ± 30.000000 in #1\n",
      "testing for stop: 9.5 >= 10 -> False\n"
     ]
    },
    {
     "name": "stderr",
     "output_type": "stream",
     "text": [
      "Epoch #14: 10001it [00:30, 327.00it/s, env_step=140000, len=16, n/ep=1, n/st=10, player_1/loss=1.319, player_2/loss=1.411, rew=5.00]\n"
     ]
    },
    {
     "name": "stdout",
     "output_type": "stream",
     "text": [
      "Epoch #14: test_reward: 54.400000 ± 1.800000, best_reward: 95.000000 ± 30.000000 in #1\n",
      "testing for stop: 9.5 >= 10 -> False\n"
     ]
    },
    {
     "name": "stderr",
     "output_type": "stream",
     "text": [
      "Epoch #15: 10001it [00:30, 326.79it/s, env_step=150000, len=19, n/ep=0, n/st=10, player_1/loss=1.274, player_2/loss=1.364, rew=7.00]\n"
     ]
    },
    {
     "name": "stdout",
     "output_type": "stream",
     "text": [
      "Epoch #15: test_reward: 45.600000 ± 12.555477, best_reward: 95.000000 ± 30.000000 in #1\n",
      "testing for stop: 9.5 >= 10 -> False\n"
     ]
    },
    {
     "name": "stderr",
     "output_type": "stream",
     "text": [
      "Epoch #16: 10001it [00:30, 326.06it/s, env_step=160000, len=22, n/ep=1, n/st=10, player_1/loss=1.326, player_2/loss=1.504, rew=23.00]\n"
     ]
    },
    {
     "name": "stdout",
     "output_type": "stream",
     "text": [
      "Epoch #16: test_reward: 55.600000 ± 4.200000, best_reward: 95.000000 ± 30.000000 in #1\n",
      "testing for stop: 9.5 >= 10 -> False\n"
     ]
    },
    {
     "name": "stderr",
     "output_type": "stream",
     "text": [
      "Epoch #17: 10001it [00:30, 324.66it/s, env_step=170000, len=10, n/ep=1, n/st=10, player_1/loss=1.344, player_2/loss=1.540, rew=5.00]\n"
     ]
    },
    {
     "name": "stdout",
     "output_type": "stream",
     "text": [
      "Epoch #17: test_reward: 124.500000 ± 4.500000, best_reward: 124.500000 ± 4.500000 in #17\n",
      "testing for stop: 12.45 >= 10 -> True\n",
      "\n",
      "Started training agent player 1 with frozen oponent in loop 10\n"
     ]
    },
    {
     "name": "stderr",
     "output_type": "stream",
     "text": [
      "Epoch #1: 10001it [00:30, 325.75it/s, env_step=10000, len=10, n/ep=0, n/st=10, player_1/loss=1.338, player_2/loss=1.265, rew=-5.00]\n"
     ]
    },
    {
     "name": "stdout",
     "output_type": "stream",
     "text": [
      "Epoch #1: test_reward: 20.600000 ± 8.616264, best_reward: 118.600000 ± 52.830294 in #0\n",
      "testing for stop: 11.86 >= 10 -> True\n",
      "\n",
      "Started training agent player 2 with frozen oponent in loop 11\n"
     ]
    },
    {
     "name": "stderr",
     "output_type": "stream",
     "text": [
      "Epoch #1: 10001it [00:30, 326.14it/s, env_step=10000, len=7, n/ep=0, n/st=10, player_1/loss=1.113, player_2/loss=1.422, rew=-5.00]\n"
     ]
    },
    {
     "name": "stdout",
     "output_type": "stream",
     "text": [
      "Epoch #1: test_reward: -3.600000 ± 3.104835, best_reward: 103.900000 ± 44.227706 in #0\n",
      "testing for stop: 10.39 >= 10 -> True\n",
      "\n",
      "Started training agent player 1 with frozen oponent in loop 12\n"
     ]
    },
    {
     "name": "stderr",
     "output_type": "stream",
     "text": [
      "Epoch #1: 10001it [00:30, 326.78it/s, env_step=10000, len=10, n/ep=0, n/st=10, player_1/loss=1.338, player_2/loss=1.265, rew=-5.00]\n"
     ]
    },
    {
     "name": "stdout",
     "output_type": "stream",
     "text": [
      "Epoch #1: test_reward: 20.600000 ± 8.616264, best_reward: 118.600000 ± 52.830294 in #0\n",
      "testing for stop: 11.86 >= 10 -> True\n",
      "\n",
      "Started training agent player 2 with frozen oponent in loop 13\n"
     ]
    },
    {
     "name": "stderr",
     "output_type": "stream",
     "text": [
      "Epoch #1: 10001it [00:30, 327.65it/s, env_step=10000, len=11, n/ep=1, n/st=10, player_1/loss=1.146, player_2/loss=1.460, rew=-5.00]\n"
     ]
    },
    {
     "name": "stdout",
     "output_type": "stream",
     "text": [
      "Epoch #1: test_reward: -2.000000 ± 2.408319, best_reward: 103.900000 ± 44.227706 in #0\n",
      "testing for stop: 10.39 >= 10 -> True\n",
      "\n",
      "Started training agent player 1 with frozen oponent in loop 14\n"
     ]
    },
    {
     "name": "stderr",
     "output_type": "stream",
     "text": [
      "Epoch #1: 10001it [00:30, 324.44it/s, env_step=10000, len=10, n/ep=0, n/st=10, player_1/loss=1.338, player_2/loss=1.265, rew=-5.00]\n"
     ]
    },
    {
     "name": "stdout",
     "output_type": "stream",
     "text": [
      "Epoch #1: test_reward: 20.600000 ± 8.616264, best_reward: 118.600000 ± 52.830294 in #0\n",
      "testing for stop: 11.86 >= 10 -> True\n",
      "\n",
      "Started training agent player 2 with frozen oponent in loop 15\n"
     ]
    },
    {
     "name": "stderr",
     "output_type": "stream",
     "text": [
      "Epoch #1: 10001it [00:30, 327.65it/s, env_step=10000, len=11, n/ep=1, n/st=10, player_1/loss=1.146, player_2/loss=1.459, rew=-5.00]\n"
     ]
    },
    {
     "name": "stdout",
     "output_type": "stream",
     "text": [
      "Epoch #1: test_reward: -2.000000 ± 2.408319, best_reward: 103.900000 ± 44.227706 in #0\n",
      "testing for stop: 10.39 >= 10 -> True\n",
      "\n",
      "Started training agent player 1 with frozen oponent in loop 16\n"
     ]
    },
    {
     "name": "stderr",
     "output_type": "stream",
     "text": [
      "Epoch #1: 10001it [00:30, 325.15it/s, env_step=10000, len=10, n/ep=0, n/st=10, player_1/loss=1.338, player_2/loss=1.265, rew=-5.00]\n"
     ]
    },
    {
     "name": "stdout",
     "output_type": "stream",
     "text": [
      "Epoch #1: test_reward: 20.600000 ± 8.616264, best_reward: 118.600000 ± 52.830294 in #0\n",
      "testing for stop: 11.86 >= 10 -> True\n",
      "\n",
      "Started training agent player 2 with frozen oponent in loop 17\n"
     ]
    },
    {
     "name": "stderr",
     "output_type": "stream",
     "text": [
      "Epoch #1: 10001it [00:30, 326.84it/s, env_step=10000, len=11, n/ep=1, n/st=10, player_1/loss=1.146, player_2/loss=1.459, rew=-5.00]\n"
     ]
    },
    {
     "name": "stdout",
     "output_type": "stream",
     "text": [
      "Epoch #1: test_reward: -2.000000 ± 2.408319, best_reward: 103.900000 ± 44.227706 in #0\n",
      "testing for stop: 10.39 >= 10 -> True\n",
      "\n",
      "Started training agent player 1 with frozen oponent in loop 18\n"
     ]
    },
    {
     "name": "stderr",
     "output_type": "stream",
     "text": [
      "Epoch #1: 10001it [00:30, 326.70it/s, env_step=10000, len=10, n/ep=0, n/st=10, player_1/loss=1.338, player_2/loss=1.265, rew=-5.00]\n"
     ]
    },
    {
     "name": "stdout",
     "output_type": "stream",
     "text": [
      "Epoch #1: test_reward: 20.600000 ± 8.616264, best_reward: 118.600000 ± 52.830294 in #0\n",
      "testing for stop: 11.86 >= 10 -> True\n",
      "\n",
      "Started training agent player 2 with frozen oponent in loop 19\n"
     ]
    },
    {
     "name": "stderr",
     "output_type": "stream",
     "text": [
      "Epoch #1: 10001it [00:30, 327.71it/s, env_step=10000, len=11, n/ep=1, n/st=10, player_1/loss=1.146, player_2/loss=1.460, rew=-5.00]\n"
     ]
    },
    {
     "name": "stdout",
     "output_type": "stream",
     "text": [
      "Epoch #1: test_reward: -2.000000 ± 2.408319, best_reward: 103.900000 ± 44.227706 in #0\n",
      "testing for stop: 10.39 >= 10 -> True\n"
     ]
    }
   ],
   "source": [
    "####################################################\n",
    "# EXPERIMENT: TRAINING AGENTS\n",
    "####################################################\n",
    "\n",
    "# Initial start for agent 1\n",
    "agent1_starting_params = \"./saved_variables/paper_notebooks/9/rainbow_vs_rainbow_blocking_reward_complex_cnn/best_policy_agent1.pth\"\n",
    "\n",
    "# Initial start for agent 2\n",
    "agent2_starting_params = \"./saved_variables/paper_notebooks/9/rainbow_vs_rainbow_blocking_reward_complex_cnn/final_policy_agent2.pth\"\n",
    "\n",
    "# Experiment settings\n",
    "epochs = 50\n",
    "loops = 20\n",
    "stopping_threshold = 10\n",
    "\n",
    "# Filename prefix\n",
    "filename_prefix = \"1-50epoch_20loop/looping-iteration-\"\n",
    "\n",
    "for loop_idx in range(loops):\n",
    "    # Filename\n",
    "    filename = filename_prefix + str(loop_idx)\n",
    "    \n",
    "    # Use provided starting params in first loop, the one from previous iteration in next\n",
    "    if loop_idx > 0:\n",
    "        agent1_starting_params = \"./saved_variables/paper_notebooks/10/\" + filename_prefix + str(loop_idx - 1) + \"/best_policy_agent1.pth\"\n",
    "        agent2_starting_params = \"./saved_variables/paper_notebooks/10/\" + filename_prefix + str(loop_idx - 1) + \"/best_policy_agent2.pth\"\n",
    "    \n",
    "    # Determine what agent to freeze\n",
    "    freeze_agent1 = True if loop_idx % 2 == 1 else False\n",
    "    freeze_agent2 = True if loop_idx % 2 == 0 else False\n",
    "    \n",
    "    # Show info\n",
    "    print()\n",
    "    training_agent = \"1\" if freeze_agent2 else \"2\"\n",
    "    print(f\"Started training agent player {training_agent} with frozen oponent in loop {loop_idx}\")\n",
    "    \n",
    "    # Get the environment settings\n",
    "    env = get_env()\n",
    "    observation_space = env.observation_space['observation'] if isinstance(env.observation_space, gym.spaces.Dict) else env.observation_space\n",
    "    state_shape = observation_space.shape or observation_space.n\n",
    "    action_shape = env.action_space.shape or env.action_space.n\n",
    "    \n",
    "    # Configure agent 1\n",
    "    agent1 = rainbow_policy(state_shape= state_shape,\n",
    "                            action_shape= action_shape)\n",
    "    \n",
    "    if agent1_starting_params:\n",
    "        agent1.load_state_dict(torch.load(agent1_starting_params))\n",
    "        \n",
    "    # Configure agent 2\n",
    "    agent2 = rainbow_policy(state_shape= state_shape,\n",
    "                            action_shape= action_shape)\n",
    "    \n",
    "    if agent2_starting_params:\n",
    "        agent2.load_state_dict(torch.load(agent2_starting_params))\n",
    "        \n",
    "        \n",
    "    # Train the agent\n",
    "    off_policy_traininer_results, final_agent_player1, final_agent_player2 = train_agent(epochs= epochs,\n",
    "                                                                                         agent_player1= agent1,\n",
    "                                                                                         agent_player1_frozen = freeze_agent1,\n",
    "                                                                                         agent_player2= agent2,\n",
    "                                                                                         agent_player2_frozen = freeze_agent2,\n",
    "                                                                                         filename= filename,\n",
    "                                                                                         stopping_threshold= stopping_threshold,\n",
    "                                                                                         single_agent_score_as_reward = True)\n",
    "            \n",
    "            "
   ]
  },
  {
   "cell_type": "code",
   "execution_count": 22,
   "id": "d75d5876",
   "metadata": {},
   "outputs": [
    {
     "name": "stdout",
     "output_type": "stream",
     "text": [
      "Average steps of game:  36.0\n",
      "Final mean reward agent 1: 106.33333333333333, std: 54.68292441175967\n",
      "Final mean reward agent 2: 95.33333333333333, std: 43.36921591277491\n"
     ]
    }
   ],
   "source": [
    "####################################################\n",
    "# EXPERIMENT: VIEWING THE BEST LEARNED POLICY\n",
    "####################################################\n",
    "\n",
    "# Get the environment settings\n",
    "env = get_env()\n",
    "observation_space = env.observation_space['observation'] if isinstance(env.observation_space, gym.spaces.Dict) else env.observation_space\n",
    "state_shape = observation_space.shape or observation_space.n\n",
    "action_shape = env.action_space.shape or env.action_space.n\n",
    "\n",
    "# Configure the best agent\n",
    "best_agent1 = rainbow_policy(state_shape= state_shape,\n",
    "                             action_shape= action_shape)\n",
    "best_agent1.load_state_dict(torch.load(\"./saved_variables/paper_notebooks/10/1-50epoch_20loop/looping-iteration-18/best_policy_agent1.pth\"))\n",
    "best_agent1.set_eps(0)\n",
    "\n",
    "\n",
    "best_agent2 = rainbow_policy(state_shape= state_shape,\n",
    "                             action_shape= action_shape)\n",
    "best_agent2.load_state_dict(torch.load(\"./saved_variables/paper_notebooks/10/1-50epoch_20loop/looping-iteration-19/best_policy_agent2.pth\"))\n",
    "best_agent2.set_eps(0)\n",
    "\n",
    "# Watch the best agent at work\n",
    "watch(numer_of_games= 3,\n",
    "      render_speed= 0.3,\n",
    "      agent_player1= best_agent1,\n",
    "      agent_player2= best_agent2)\n",
    "\n"
   ]
  },
  {
   "cell_type": "markdown",
   "id": "84478519",
   "metadata": {},
   "source": [
    "<hr><hr>\n",
    "\n",
    "## Discussion\n",
    "\n",
    "It becomes clear that the agent starts to overfit to the oponent agent rather quickly, the agent knows the rules significantly enough to outsmart a stationary oponent agent in very few training loops.\n",
    "A different testing strategy is needed to have it learn connect four better rather then have it learn the oponent better.\n"
   ]
  },
  {
   "cell_type": "code",
   "execution_count": 23,
   "id": "3d9110be",
   "metadata": {},
   "outputs": [],
   "source": [
    "####################################################\n",
    "# CLEAN VARIABLES\n",
    "####################################################\n",
    "\n",
    "del action_shape\n",
    "del agent1\n",
    "del agent1_starting_params\n",
    "del agent2\n",
    "del agent2_starting_params\n",
    "del env\n",
    "del epochs\n",
    "del filename\n",
    "del filename_prefix\n",
    "del final_agent_player1\n",
    "del final_agent_player2\n",
    "del freeze_agent1\n",
    "del freeze_agent2\n",
    "del loop_idx\n",
    "del loops\n",
    "del observation_space\n",
    "del off_policy_traininer_results\n",
    "del state_shape\n"
   ]
  },
  {
   "cell_type": "code",
   "execution_count": null,
   "id": "a74d3da3",
   "metadata": {},
   "outputs": [],
   "source": []
  }
 ],
 "metadata": {
  "interpreter": {
   "hash": "9b88c88564fefe7444548986d165ad8d7f764d0079ffa923785a3f5a89d52c74"
  },
  "kernelspec": {
   "display_name": "Python 3 (ipykernel)",
   "language": "python",
   "name": "python3"
  },
  "language_info": {
   "codemirror_mode": {
    "name": "ipython",
    "version": 3
   },
   "file_extension": ".py",
   "mimetype": "text/x-python",
   "name": "python",
   "nbconvert_exporter": "python",
   "pygments_lexer": "ipython3",
   "version": "3.8.10"
  }
 },
 "nbformat": 4,
 "nbformat_minor": 5
}
