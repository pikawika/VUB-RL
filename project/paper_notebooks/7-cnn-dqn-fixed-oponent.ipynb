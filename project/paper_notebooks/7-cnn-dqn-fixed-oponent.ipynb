{
 "cells": [
  {
   "cell_type": "markdown",
   "id": "337221df",
   "metadata": {},
   "source": [
    "# CNN based DQN agent against fixed oponent\n",
    "\n",
    "As discussed in `5-improving-dqn-architecture.ipynb` we thought of three aspects that might be the root of the agent's not learning to play the game pleasingly:\n",
    "- Training two DQN agents simultaneously is known to be though, especially when starting from a random initialisation\n",
    "- The network used was a simple MLP\n",
    "- The training is not done over enough iterations\n",
    "\n",
    "In the notebooks `5-improving-dqn-architecture.ipynb` and `6-dqn-using-a-cnn.ipynb`, two alternative networks besides MLP were used.\n",
    "Whilst these give somewhat satisfactory results when trained for long enough and incentivising moves by giving a reward for making a move, it is still far from perfect.\n",
    "The iterations were also boosted to a couple of hours on a CUDA GPU, which didn't improve things all that much.\n",
    "\n",
    "Thus, what is most likely to be an issue is the fact that we are training two agents simultaneously.\n",
    "This makes it hard to get a good performing agent and makes the target non stationary as both agents evolve over time.\n",
    "An alternative to this is training an agent for a couple of epochs whilst freezing the other and alternating this between the agents.\n",
    "This makes the problem to learn more stationary and is known to make learning easier.\n",
    "What is also done, often in very complex games, is starting from a somewhat smart agent instead of a random one.\n",
    "\n",
    "Whilst some libraries such as Ray RL lib offer implementations of such a training strategy, the experimental notebook `4-rllib-for-more-learning-control.ipynb` found that even the Ray provided example results in error codes.\n",
    "Seeing their GitHub page has many open issues, the one we encountered being one of them, we refrain from using a different library considering Tianshou has many algorithms implemented and we have found a way to make things work."
   ]
  },
  {
   "cell_type": "markdown",
   "id": "b5341c6d",
   "metadata": {},
   "source": [
    "<hr><hr>\n",
    "\n",
    "## Table of Contents\n",
    "\n",
    "- Contact information\n",
    "- Checking requirements\n",
    "  - Correct Anaconda environment\n",
    "  - Correct module access\n",
    "  - Correct CUDA access\n",
    "- Training two DQN agents on connect four Gym\n",
    "  - Building the environment\n",
    "  - Implementing the DQN policy\n",
    "  - Building agents\n",
    "  - Function for letting agents learn\n",
    "  - Function for watching learned agent\n",
    "  - Doing the experiment\n",
    "- Discussion"
   ]
  },
  {
   "cell_type": "markdown",
   "id": "292165d3",
   "metadata": {},
   "source": [
    "<hr><hr>\n",
    "\n",
    "## Contact information\n",
    "\n",
    "| Name             | Student ID | VUB mail                                                  | Personal mail                                               |\n",
    "| ---------------- | ---------- | --------------------------------------------------------- | ----------------------------------------------------------- |\n",
    "| Lennert Bontinck | 0568702    | [lennert.bontinck@vub.be](mailto:lennert.bontinck@vub.be) | [info@lennertbontinck.com](mailto:info@lennertbontinck.com) |\n",
    "\n"
   ]
  },
  {
   "cell_type": "markdown",
   "id": "7a405d24",
   "metadata": {},
   "source": [
    "<hr><hr>\n",
    "\n",
    "## Checking requirements\n",
    "\n",
    "### Correct Anaconda environment\n",
    "\n",
    "The `rl-project` anaconda environment should be active to ensure proper support. Installation instructions are available on [the GitHub repository of the RL course project and homeworks](https://github.com/pikawika/vub-rl)."
   ]
  },
  {
   "cell_type": "code",
   "execution_count": 1,
   "id": "334d5fd4",
   "metadata": {},
   "outputs": [
    {
     "name": "stdout",
     "output_type": "stream",
     "text": [
      "Active environment: rl-project\n",
      "Correct environment: True\n",
      "\n",
      "Python version: 3.8.10\n",
      "Correct Python version: True\n"
     ]
    }
   ],
   "source": [
    "####################################################\n",
    "# CHECKING FOR RIGHT ANACONDA ENVIRONMENT\n",
    "####################################################\n",
    "\n",
    "import os\n",
    "from platform import python_version\n",
    "\n",
    "print(f\"Active environment: {os.environ['CONDA_DEFAULT_ENV']}\")\n",
    "print(f\"Correct environment: {os.environ['CONDA_DEFAULT_ENV'] == 'rl-project'}\")\n",
    "print(f\"\\nPython version: {python_version()}\")\n",
    "print(f\"Correct Python version: {python_version() == '3.8.10'}\")"
   ]
  },
  {
   "cell_type": "markdown",
   "id": "22166668",
   "metadata": {},
   "source": [
    "<hr>\n",
    "\n",
    "### Correct module access\n",
    "\n",
    "The following code block will load in all required modules and show if the versions match those that are recommended."
   ]
  },
  {
   "cell_type": "code",
   "execution_count": 3,
   "id": "ab632204",
   "metadata": {},
   "outputs": [
    {
     "name": "stdout",
     "output_type": "stream",
     "text": [
      "Matplotlib version (3.5.1 recommended): 3.5.1\n",
      "Pygame version (2.1.2 recommended): 2.1.2\n",
      "Gym version (0.21.0 recommended): 0.21.0\n",
      "Tianshou version (0.4.8 recommended): 0.4.8\n",
      "Torch version (1.12.0 recommended): 1.12.0.dev20220520+cu116\n"
     ]
    }
   ],
   "source": [
    "####################################################\n",
    "# LOADING MODULES\n",
    "####################################################\n",
    "\n",
    "# Allow reloading of libraries\n",
    "import importlib\n",
    "\n",
    "# Plotting\n",
    "import matplotlib; print(f\"Matplotlib version (3.5.1 recommended): {matplotlib.__version__}\")\n",
    "import matplotlib.pyplot as plt\n",
    "\n",
    "# Argparser\n",
    "import argparse\n",
    "\n",
    "# More data types\n",
    "import typing\n",
    "import numpy as np\n",
    "\n",
    "# Pygame\n",
    "import pygame; print(f\"Pygame version (2.1.2 recommended): {pygame.__version__}\")\n",
    "\n",
    "# Gym environment\n",
    "import gym; print(f\"Gym version (0.21.0 recommended): {gym.__version__}\")\n",
    "\n",
    "# Tianshou for RL algorithms\n",
    "import tianshou as ts; print(f\"Tianshou version (0.4.8 recommended): {ts.__version__}\")\n",
    "\n",
    "# Torch is a popular DL framework\n",
    "import torch; print(f\"Torch version (1.12.0 recommended): {torch.__version__}\")\n",
    "\n",
    "# PPrint is a pretty print for variables\n",
    "from pprint import pprint\n",
    "\n",
    "# Our custom connect four gym environment\n",
    "import sys\n",
    "sys.path.append('../')\n",
    "import gym_connect4_pygame.envs.ConnectFourPygameEnvV2 as cfgym\n",
    "importlib.invalidate_caches()\n",
    "importlib.reload(cfgym)\n",
    "\n",
    "# Time for allowing \"freezes\" in execution\n",
    "import time;\n",
    "\n",
    "# Allow for copying objects in a non reference manner\n",
    "import copy\n",
    "\n",
    "# Used for updating notebook display\n",
    "from IPython.display import clear_output"
   ]
  },
  {
   "cell_type": "markdown",
   "id": "f2617a21",
   "metadata": {},
   "source": [
    "<hr>\n",
    "\n",
    "### Correct CUDA access\n",
    "\n",
    "The installation instructions specify how to install PyTorch with CUDA 11.6.\n",
    "The following code block tests if this was done successfully."
   ]
  },
  {
   "cell_type": "code",
   "execution_count": 4,
   "id": "da9f5ed0",
   "metadata": {},
   "outputs": [
    {
     "name": "stdout",
     "output_type": "stream",
     "text": [
      "CUDA is available: True\n",
      "\n",
      "Amount of connected devices supporting CUDA: 1\n",
      "\n",
      "Current CUDA device: 0\n",
      "Cuda device 0 name: NVIDIA GeForce GTX 970\n"
     ]
    }
   ],
   "source": [
    "####################################################\n",
    "# CUDA VALIDATION\n",
    "####################################################\n",
    "\n",
    "# Check cuda available\n",
    "print(f\"CUDA is available: {torch.cuda.is_available()}\")\n",
    "\n",
    "# Show cuda devices\n",
    "print(f\"\\nAmount of connected devices supporting CUDA: {torch.cuda.device_count()}\")\n",
    "\n",
    "# Show current cuda device\n",
    "print(f\"\\nCurrent CUDA device: {torch.cuda.current_device()}\")\n",
    "\n",
    "# Show cuda device name\n",
    "print(f\"Cuda device 0 name: {torch.cuda.get_device_name(0)}\")"
   ]
  },
  {
   "cell_type": "markdown",
   "id": "826657c4",
   "metadata": {},
   "source": [
    "<hr><hr>\n",
    "\n",
    "## Training two DQN agents on connect four Gym\n",
    "\n",
    "Our connect four gym setup requires two agents, one for each player.\n",
    "To reduce complexity, agents will always play as the same player, e.g. always as player 1.\n",
    "It is important to note that connect four is a *solved game*.\n",
    "According to [The Washington Post](https://www.washingtonpost.com/news/wonk/wp/2015/05/08/how-to-win-any-popular-game-according-to-data-scientists/):\n",
    "\n",
    "> Connect Four is what mathematicians call a \"solved game,\" meaning you can play it perfectly every time, no matter what your opponent does. You will need to get the first move, but as long as you do so, you can always win within 41 moves.\n",
    "\n",
    "<hr>\n",
    "\n",
    "### Building the environment\n",
    "\n",
    "This code is taken from previous notebooks.\n",
    "We don't allow invalid moves to make the problem easier for now."
   ]
  },
  {
   "cell_type": "code",
   "execution_count": 5,
   "id": "c2b47a58",
   "metadata": {},
   "outputs": [
    {
     "name": "stdout",
     "output_type": "stream",
     "text": [
      "Observation space: Dict(action_mask:Box([0 0 0 0 0 0 0], [1 1 1 1 1 1 1], (7,), int8), observation:Box([[0 0 0 0 0 0 0]\n",
      " [0 0 0 0 0 0 0]\n",
      " [0 0 0 0 0 0 0]\n",
      " [0 0 0 0 0 0 0]\n",
      " [0 0 0 0 0 0 0]\n",
      " [0 0 0 0 0 0 0]], [[2 2 2 2 2 2 2]\n",
      " [2 2 2 2 2 2 2]\n",
      " [2 2 2 2 2 2 2]\n",
      " [2 2 2 2 2 2 2]\n",
      " [2 2 2 2 2 2 2]\n",
      " [2 2 2 2 2 2 2]], (6, 7), int8))\n",
      "\n",
      "Action space: Discrete(7)\n",
      "\n",
      " Initial player id:\n",
      "player_1\n",
      "\n",
      " Initial observation:\n",
      "[[0. 0. 0. 0. 0. 0. 0.]\n",
      " [0. 0. 0. 0. 0. 0. 0.]\n",
      " [0. 0. 0. 0. 0. 0. 0.]\n",
      " [0. 0. 0. 0. 0. 0. 0.]\n",
      " [0. 0. 0. 0. 0. 0. 0.]\n",
      " [0. 0. 0. 0. 0. 0. 0.]]\n",
      "\n",
      " Initial mask:\n",
      "[True, True, True, True, True, True, True]\n"
     ]
    }
   ],
   "source": [
    "####################################################\n",
    "# CONNECT FOUR V2 ENVIRONMENT\n",
    "####################################################\n",
    "\n",
    "def get_env():\n",
    "    \"\"\"\n",
    "    Returns the connect four gym environment V2 altered for Tianshou and Petting Zoo compatibility.\n",
    "    Already wrapped with a ts.env.PettingZooEnv wrapper.\n",
    "    \"\"\"\n",
    "    return ts.env.PettingZooEnv(cfgym.env(reward_move= 1, # Set to 1 for reward to make moves (incentivise longer games)\n",
    "                                          reward_invalid= -3,\n",
    "                                          reward_draw= 100,\n",
    "                                          reward_win= 25,\n",
    "                                          reward_loss= -25,\n",
    "                                          allow_invalid_move= False))\n",
    "    \n",
    "    \n",
    "# Test the environment\n",
    "env = get_env()\n",
    "print(f\"Observation space: {env.observation_space}\")\n",
    "print(f\"\\nAction space: {env.action_space}\")\n",
    "\n",
    "# Reset the environment to start from a clean state, returns the initial observation\n",
    "observation = env.reset()\n",
    "\n",
    "print(\"\\n Initial player id:\")\n",
    "print(observation[\"agent_id\"])\n",
    "\n",
    "print(\"\\n Initial observation:\")\n",
    "print(observation[\"obs\"])\n",
    "\n",
    "print(\"\\n Initial mask:\")\n",
    "print(observation[\"mask\"])\n",
    "\n",
    "# Clean unused variables\n",
    "del observation\n",
    "del env"
   ]
  },
  {
   "cell_type": "markdown",
   "id": "0bc7e7da",
   "metadata": {},
   "source": [
    "<hr>\n",
    "\n",
    "### Implementing the DQN policy\n",
    "\n",
    "The DQN policy for the agent is configured and set up below.\n",
    "This is identical to the previous notebook with the added option of \"freezing\" an agent which corresponds to giving it an optimizer with learning rate 0."
   ]
  },
  {
   "cell_type": "code",
   "execution_count": 6,
   "id": "8e2f43c0",
   "metadata": {},
   "outputs": [],
   "source": [
    "####################################################\n",
    "# DQN ARCHITECTURE\n",
    "####################################################\n",
    "\n",
    "class CNNBasedDQN(torch.nn.Module):\n",
    "    \"\"\"\n",
    "    Custom DQN using a model based on CNN\n",
    "    \"\"\"\n",
    "    def __init__(self,\n",
    "                 state_shape: typing.Sequence[int],\n",
    "                 action_shape: typing.Sequence[int],\n",
    "                 device: typing.Union[str, int, torch.device] = 'cuda' if torch.cuda.is_available() else 'cpu',):\n",
    "        # Parent call\n",
    "        super().__init__()\n",
    "        \n",
    "        # Save device (e.g. cuda)\n",
    "        self.device = device\n",
    "        \n",
    "        # Number of input channels\n",
    "        input_channels_cnn = 1\n",
    "        output_channels_cnn = 32\n",
    "        flatten_size = (state_shape[0] - 3) * (state_shape[1] - 3) * output_channels_cnn\n",
    "        output_size= np.prod(action_shape)\n",
    "        \n",
    "        self.model = torch.nn.Sequential(\n",
    "            torch.nn.Conv2d(in_channels= input_channels_cnn, out_channels= output_channels_cnn, kernel_size= 4, stride= 1), torch.nn.ReLU(inplace=True),\n",
    "            torch.nn.Flatten(0,-1),\n",
    "            torch.nn.Unflatten(0, (1, flatten_size)),\n",
    "            torch.nn.Linear(flatten_size, 128), torch.nn.ReLU(inplace=True),\n",
    "            torch.nn.Linear(128, 128), torch.nn.ReLU(inplace=True),\n",
    "            torch.nn.Linear(128, output_size),\n",
    "        )\n",
    "\n",
    "    def forward(self, obs, state=None, info={}):\n",
    "        if not isinstance(obs, torch.Tensor):\n",
    "            obs = torch.tensor(obs, dtype=torch.float, device=self.device)\n",
    "        \n",
    "        logits = self.model(obs)\n",
    "        return logits, state\n"
   ]
  },
  {
   "cell_type": "code",
   "execution_count": 7,
   "id": "539b56ff",
   "metadata": {},
   "outputs": [],
   "source": [
    "####################################################\n",
    "# DQN POLICY\n",
    "####################################################\n",
    "\n",
    "def cf_cnn_dqn_policy(state_shape: tuple,\n",
    "                      action_shape: tuple,\n",
    "                      optim: typing.Optional[torch.optim.Optimizer] = None,\n",
    "                      learning_rate: float =  0.0001,\n",
    "                      gamma: float = 0.9, # Smaller gamma favours \"faster\" win\n",
    "                      n_step: int = 4, # Number of steps to look ahead\n",
    "                      frozen: bool = False,\n",
    "                      target_update_freq: int = 320):\n",
    "    # Use cuda device if possible\n",
    "    device = 'cuda' if torch.cuda.is_available() else 'cpu'\n",
    "    \n",
    "    # Network to be used for DQN\n",
    "    net = CNNBasedDQN(state_shape, action_shape, device= device).to(device)\n",
    "    \n",
    "    # Default optimizer is an adam optimizer with the argparser learning rate\n",
    "    if optim is None:\n",
    "        optim = torch.optim.Adam(net.parameters(), lr= learning_rate)\n",
    "        \n",
    "    # If we are frozen, we use an optimizer that has learning rate 0\n",
    "    if frozen:\n",
    "        optim = torch.optim.SGD(net.parameters(), lr= 0)\n",
    "        \n",
    "        \n",
    "    # Our agent DQN policy\n",
    "    return ts.policy.DQNPolicy(model= net,\n",
    "                               optim= optim,\n",
    "                               discount_factor= gamma,\n",
    "                               estimation_step= n_step,\n",
    "                               target_update_freq= target_update_freq)"
   ]
  },
  {
   "cell_type": "markdown",
   "id": "dd411318",
   "metadata": {},
   "source": [
    "<hr>\n",
    "\n",
    "### Building agents\n",
    "\n",
    "This is identical to the previous notebook with the added option of \"freezing\" an agent which corresponds to giving it an optimizer with learning rate 0."
   ]
  },
  {
   "cell_type": "code",
   "execution_count": 8,
   "id": "f7ae27d2",
   "metadata": {},
   "outputs": [],
   "source": [
    "####################################################\n",
    "# AGENT CREATION\n",
    "####################################################\n",
    "\n",
    "def get_agents(agent_player1: typing.Optional[ts.policy.BasePolicy] = None,\n",
    "               agent_player2: typing.Optional[ts.policy.BasePolicy] = None,\n",
    "               optim: typing.Optional[torch.optim.Optimizer] = None,\n",
    "               resume_path_player_1: str = '', # Path to file to resume agent training from\n",
    "               resume_path_player_2: str = '', \n",
    "               agent_player1_frozen: bool = False, # Freeze a player -> don't let it learn further\n",
    "               agent_player2_frozen: bool = False,\n",
    "               ) -> typing.Tuple[ts.policy.BasePolicy, torch.optim.Optimizer, list]:\n",
    "    \"\"\"\n",
    "    Gets a multi agent policy manager, optimizer and player ids for the connect four V2 gym environment.\n",
    "    Per default this returns \n",
    "        - Multi agent manager for 2 agents using DQN\n",
    "        - Adam optimizer\n",
    "        - ['player_1', 'player_2'] from the connect four environment\n",
    "    \"\"\"\n",
    "    \n",
    "    # Get the environment to play in (Connect four gym V2)\n",
    "    env = get_env()\n",
    "    \n",
    "    # Get the observation space from the environment, depending on typo of space (ternary operator)\n",
    "    observation_space = env.observation_space['observation'] if isinstance(env.observation_space, gym.spaces.Dict) else env.observation_space\n",
    "    \n",
    "    # Set the arguments\n",
    "    state_shape = observation_space.shape or observation_space.n\n",
    "    action_shape = env.action_space.shape or env.action_space.n\n",
    "    \n",
    "    # Configure agent player 1 to be a DQN if no policy is passed.\n",
    "    if agent_player1 is None:\n",
    "        # Our agent1 uses a DQN policy\n",
    "        agent_player1 = cf_cnn_dqn_policy(state_shape= state_shape,\n",
    "                                          action_shape= action_shape,\n",
    "                                          optim= optim,\n",
    "                                          frozen= agent_player1_frozen)\n",
    "        \n",
    "        # If we resume our agent we need to load the previous config\n",
    "        if resume_path_player_1:\n",
    "            agent_player1.load_state_dict(torch.load(resume_path_player_1))\n",
    "            \n",
    "    \n",
    "    # Configure agent player 2 to be a DQN if no policy is passed.\n",
    "    if agent_player2 is None:\n",
    "        # Our agent1 uses a DQN policy\n",
    "        agent_player2 = cf_cnn_dqn_policy(state_shape= state_shape,\n",
    "                                          action_shape= action_shape,\n",
    "                                          optim= optim,\n",
    "                                          frozen= agent_player2_frozen)\n",
    "        \n",
    "        # If we resume our agent we need to load the previous config\n",
    "        if resume_path_player_2:\n",
    "            agent_player2.load_state_dict(torch.load(resume_path_player_2))\n",
    "\n",
    "    # Both our agents are DQN agents by default\n",
    "    agents = [agent_player1, agent_player2]\n",
    "        \n",
    "    # Our policy depends on the order of the agents\n",
    "    policy = ts.policy.MultiAgentPolicyManager(agents, env)\n",
    "    \n",
    "    # Return our policy, optimizer and the available agents in the environment\n",
    "    # Per default: \n",
    "    #   - Multi agent manager for 2 agents using DQN\n",
    "    #   - Adam optimizer\n",
    "    #   - ['player_1', 'player_2'] from the connect four environment\n",
    "    \n",
    "    return policy, optim, env.agents"
   ]
  },
  {
   "cell_type": "markdown",
   "id": "95a8f3a6",
   "metadata": {},
   "source": [
    "<hr>\n",
    "\n",
    "### Function for letting agents learn\n",
    "\n",
    "This is identical to the previous notebook with the added option of \"freezing\" an agent which corresponds to giving it an optimizer with learning rate 0."
   ]
  },
  {
   "cell_type": "code",
   "execution_count": 9,
   "id": "9a32c218",
   "metadata": {},
   "outputs": [],
   "source": [
    "####################################################\n",
    "# AGENT TRAINING\n",
    "####################################################\n",
    "\n",
    "def train_agent(filename: str = \"dqn_vs_dqn_cnn_based\",\n",
    "                agent_player1: typing.Optional[ts.policy.BasePolicy] = None,\n",
    "                agent_player2: typing.Optional[ts.policy.BasePolicy] = None,\n",
    "                agent_player1_frozen: bool = False, # Freeze a player -> don't let it learn further\n",
    "                agent_player2_frozen: bool = False,\n",
    "                single_agent_score_as_reward: bool= False, # Uses non frozen agent's score as reward\n",
    "                optim: typing.Optional[torch.optim.Optimizer] = None,\n",
    "                training_env_num: int = 1,\n",
    "                testing_env_num: int = 1,\n",
    "                buffer_size: int = 2^14,\n",
    "                batch_size: int = 1, \n",
    "                epochs: int = 50, #50\n",
    "                step_per_epoch: int = 1024, #1024\n",
    "                step_per_collect: int = 64, # transition before update\n",
    "                update_per_step: float = 0.1,\n",
    "                testing_eps: float = 0.05,\n",
    "                training_eps: float = 0.1,\n",
    "                ) -> typing.Tuple[dict, ts.policy.BasePolicy]:\n",
    "    \"\"\"\n",
    "    Trains two agents in the connect four V2 environment and saves their best model and logs.\n",
    "    Returns:\n",
    "        - result from offpolicy_trainer\n",
    "        - final version of agent 1\n",
    "        - final version of agent 2\n",
    "    \"\"\"\n",
    "\n",
    "    # ======== notebook specific =========\n",
    "    notebook_version = '7' # Used for foldering logs and models\n",
    "\n",
    "    # ======== environment setup =========\n",
    "    train_envs = ts.env.DummyVectorEnv([get_env for _ in range(training_env_num)])\n",
    "    test_envs = ts.env.DummyVectorEnv([get_env for _ in range(testing_env_num)])\n",
    "    \n",
    "    # set the seed for reproducibility\n",
    "    np.random.seed(1998)\n",
    "    torch.manual_seed(1998)\n",
    "    train_envs.seed(1998)\n",
    "    test_envs.seed(1998)\n",
    "\n",
    "    # ======== agent setup =========\n",
    "    # Gets our agents from the previously made function\n",
    "    # Per default: \n",
    "    #   - Multi agent manager for 2 agents using DQN\n",
    "    #   - Adam optimizer\n",
    "    #   - ['player_1', 'player_2'] from the connect four environment\n",
    "    policy, optim, agents = get_agents(agent_player1=agent_player1,\n",
    "                                       agent_player2=agent_player2,\n",
    "                                       agent_player1_frozen= agent_player1_frozen,\n",
    "                                       agent_player2_frozen= agent_player2_frozen,\n",
    "                                       optim=optim)\n",
    "\n",
    "    # ======== collector setup =========\n",
    "    # Make a collector for the training environments\n",
    "    train_collector = ts.data.Collector(policy= policy,\n",
    "                                        env= train_envs,\n",
    "                                        buffer= ts.data.VectorReplayBuffer(buffer_size, len(train_envs)),\n",
    "                                        exploration_noise= True)\n",
    "    \n",
    "    # Make a collector for the testing environments\n",
    "    test_collector = ts.data.Collector(policy= policy,\n",
    "                                       env= test_envs,\n",
    "                                       buffer= ts.data.VectorReplayBuffer(buffer_size, len(test_envs)),\n",
    "                                       exploration_noise= True)\n",
    "    \n",
    "    # Uncomment below if you want to set epsilon in epsilon policy\n",
    "    # policy.set_eps(1)\n",
    "    \n",
    "    # Collect data fot the training evnironments\n",
    "    train_collector.collect(n_step= batch_size * training_env_num)\n",
    "    \n",
    "    # ======== ensure folders exist =========\n",
    "    if not os.path.exists(os.path.join('./logs', 'paper_notebooks', notebook_version, filename)):\n",
    "        os.makedirs(os.path.join('./logs', 'paper_notebooks', notebook_version, filename))\n",
    "    if not os.path.exists(os.path.join('./saved_variables', 'paper_notebooks', notebook_version, filename)):\n",
    "        os.makedirs(os.path.join('./saved_variables', 'paper_notebooks', notebook_version, filename))\n",
    "\n",
    "    # ======== tensorboard logging setup =========\n",
    "    # Allows to save the training progress to tensorboard compatable logs\n",
    "    log_path = os.path.join('./logs', 'paper_notebooks', notebook_version, filename)\n",
    "    writer = torch.utils.tensorboard.SummaryWriter(log_path)\n",
    "    logger = ts.utils.TensorboardLogger(writer)\n",
    "\n",
    "    # ======== callback functions used during training =========\n",
    "    # We want to save our best policy\n",
    "    def save_best_fn(policy):\n",
    "        \"\"\"\n",
    "        Callback to save the best model\n",
    "        \"\"\"\n",
    "        # Save best agent 1\n",
    "        model_save_path = os.path.join('./saved_variables', 'paper_notebooks', notebook_version, filename, 'best_policy_agent1.pth')\n",
    "        torch.save(policy.policies[agents[0]].state_dict(), model_save_path)\n",
    "        \n",
    "        # Save best agent 2\n",
    "        model_save_path = os.path.join('./saved_variables', 'paper_notebooks', notebook_version, filename, 'best_policy_agent2.pth')\n",
    "        torch.save(policy.policies[agents[1]].state_dict(), model_save_path)\n",
    "        \n",
    "        # Save agent2\n",
    "\n",
    "    def stop_fn(mean_rewards):\n",
    "        \"\"\"\n",
    "        Callback to stop training when we've reached the win rate\n",
    "        \"\"\"\n",
    "        return mean_rewards >= 7 # (win = 10, 70% win without invalid moves = mean of 7)\n",
    "\n",
    "    def train_fn(epoch, env_step):\n",
    "        \"\"\"\n",
    "        Callback before training\n",
    "        \"\"\"        \n",
    "        # Before training we want to configure the epsilon for the agents\n",
    "        # In general more exploratory than the test case\n",
    "        policy.policies[agents[0]].set_eps(training_eps)\n",
    "        policy.policies[agents[1]].set_eps(training_eps)\n",
    "\n",
    "    def test_fn(epoch, env_step):\n",
    "        \"\"\"\n",
    "        Callback beore testing\n",
    "        \"\"\"        \n",
    "        # Before testing we want to configure the epsilon for the agents\n",
    "        # In general more greedy than the train case but not\n",
    "        #   to avoid getting stuck on invalid moves\n",
    "        policy.policies[agents[0]].set_eps(testing_eps)\n",
    "        policy.policies[agents[1]].set_eps(testing_eps)\n",
    "\n",
    "    def reward_metric(rews):\n",
    "        \"\"\"\n",
    "        Callback for reward collection\n",
    "        \"\"\"        \n",
    "        if agent_player2_frozen and single_agent_score_as_reward:\n",
    "            # agent 2 frozen, optimizing for agent 1\n",
    "            return rews[:, 0]\n",
    "        \n",
    "        if agent_player1_frozen and single_agent_score_as_reward:\n",
    "            # agent 1 frozen, optimizing for agent 2\n",
    "            return rews[:, 1]\n",
    "        \n",
    "        # Per default we are interested in optimizing both agents\n",
    "        return rews[:, 0] + rews[:, 1]\n",
    "    \n",
    "            \n",
    "\n",
    "    # trainer\n",
    "    result = ts.trainer.offpolicy_trainer(policy= policy,\n",
    "                                          train_collector= train_collector,\n",
    "                                          test_collector= test_collector,\n",
    "                                          max_epoch= epochs,\n",
    "                                          step_per_epoch= step_per_epoch,\n",
    "                                          step_per_collect= step_per_collect,\n",
    "                                          episode_per_test= testing_env_num,\n",
    "                                          batch_size= batch_size,\n",
    "                                          train_fn= train_fn,\n",
    "                                          test_fn= test_fn,\n",
    "                                          # Stop function to stop before specified amount of epochs\n",
    "                                          #stop_fn= stop_fn\n",
    "                                          save_best_fn= save_best_fn,\n",
    "                                          update_per_step= update_per_step,\n",
    "                                          logger= logger,\n",
    "                                          test_in_train= False,\n",
    "                                          reward_metric= reward_metric)\n",
    "    \n",
    "    # Save final agent 1\n",
    "    model_save_path = os.path.join('./saved_variables', 'paper_notebooks', notebook_version, filename, 'final_policy_agent1.pth')\n",
    "    torch.save(policy.policies[agents[0]].state_dict(), model_save_path)\n",
    "\n",
    "    # Save final agent 2\n",
    "    model_save_path = os.path.join('./saved_variables', 'paper_notebooks', notebook_version, filename, 'final_policy_agent2.pth')\n",
    "    torch.save(policy.policies[agents[1]].state_dict(), model_save_path)\n",
    "\n",
    "    return result, policy.policies[agents[0]], policy.policies[agents[1]]"
   ]
  },
  {
   "cell_type": "markdown",
   "id": "f161cc0f",
   "metadata": {},
   "source": [
    "<hr>\n",
    "\n",
    "### Function for watching learned agent\n",
    "\n",
    "Identical to the previous notebook."
   ]
  },
  {
   "cell_type": "code",
   "execution_count": 10,
   "id": "459114bd",
   "metadata": {},
   "outputs": [],
   "source": [
    "####################################################\n",
    "# WATCHING THE LEARNED POLICY IN ACTION\n",
    "####################################################\n",
    "\n",
    "def watch(numer_of_games: int = 3,\n",
    "          agent_player1: typing.Optional[ts.policy.BasePolicy] = None,\n",
    "          agent_player2: typing.Optional[ts.policy.BasePolicy] = None,\n",
    "          test_epsilon: float = 0.05, # For the watching we act completely greedy but low random for not getting stuck on invalid move\n",
    "          render_speed: float = 0.15, # Amount of seconds to update frame/ do a step\n",
    "          ) -> None:\n",
    "    \n",
    "    # Get the connect four V2 environment (must be a list)\n",
    "    env= ts.env.DummyVectorEnv([get_env])\n",
    "    \n",
    "    # Get the agents from the trained agents\n",
    "    policy, optim, agents = get_agents(agent_player1= agent_player1,\n",
    "                                       agent_player2= agent_player2)\n",
    "    \n",
    "    # Evaluate the policy\n",
    "    policy.eval()\n",
    "    \n",
    "    # Set the testing policy epsilon for our agents\n",
    "    policy.policies[agents[0]].set_eps(test_epsilon)\n",
    "    policy.policies[agents[1]].set_eps(test_epsilon)\n",
    "    \n",
    "    # Collect the test data\n",
    "    collector = ts.data.Collector(policy= policy,\n",
    "                                  env= env,\n",
    "                                  exploration_noise= True)\n",
    "    \n",
    "    # Render games in human mode to see how it plays\n",
    "    result = collector.collect(n_episode= numer_of_games, render= render_speed)\n",
    "    \n",
    "    # Close the environment aftering collecting the results\n",
    "    # This closes the pygame window after completion\n",
    "    env.close()\n",
    "    \n",
    "    # Get the rewards and length from the test trials\n",
    "    rewards, length = result[\"rews\"], result[\"lens\"]\n",
    "    \n",
    "    # Print the final reward for the first agent\n",
    "    print(f\"Average steps of game:  {length.mean()}\")\n",
    "    print(f\"Final mean reward agent 1: {rewards[:, 0].mean()}, std: {rewards[:, 0].std()}\")\n",
    "    print(f\"Final mean reward agent 2: {rewards[:, 1].mean()}, std: {rewards[:, 1].std()}\")"
   ]
  },
  {
   "cell_type": "markdown",
   "id": "c31784e9",
   "metadata": {},
   "source": [
    "<hr>\n",
    "\n",
    "### Doing the experiment\n",
    "\n",
    "We now do the experiment with using our previously created functions.\n",
    "We freeze one agent and initialize both agents from previous versions.\n",
    "\n",
    "The following iterations were made:\n",
    "\n",
    "1. Freeze agent 1, train agent 2:\n",
    "    - Model save name: `1-cnn_dqn_frozen_agent1` \n",
    "    - Agent 1 start: `./saved_variables/paper_notebooks/6/dqn_vs_dqn_cnn_based/best_policy_agent1.pth`\n",
    "    - Agent 2 start: `./saved_variables/paper_notebooks/6/dqn_vs_dqn_cnn_based/best_policy_agent2.pth`\n",
    "    - Learning rate: `0.0001`\n",
    "    - Training epsilon: `0.2`\n",
    "    - Look ahead steps: `4`\n",
    "    - Reward for move/invalid: `+1` / `-3`\n",
    "    - Allow invalid move: `False`\n",
    "    - Epochs: `1000`\n",
    "    - Gamma: `0.9`\n",
    "    - Best epoch: `51` with test reward `1102`\n",
    "    - Scoring: sum of `both` agent's score\n",
    "2. Freeze agent 2, train agent 1:\n",
    "    - Model save name: `2-cnn_dqn_frozen_agent2` \n",
    "    - Agent 1 start: `./saved_variables/paper_notebooks/6/dqn_vs_dqn_cnn_based/best_policy_agent1.pth`\n",
    "    - Agent 2 start: `./saved_variables/paper_notebooks/7/1-cnn_dqn_frozen_agent1/final_policy_agent2.pth`\n",
    "    - Learning rate: `0.0001`\n",
    "    - Training epsilon: `0.2`\n",
    "    - Look ahead steps: `4`\n",
    "    - Reward for move/invalid: `+1` / `-3`\n",
    "    - Allow invalid move: `False`\n",
    "    - Epochs: `1000`\n",
    "    - Gamma: `0.9`\n",
    "    - Best epoch: `360` with test reward `1102`\n",
    "    - Scoring: sum of `both` agent's score\n",
    "\n",
    "After which the agent was so focused on prolonging the game, we decided to lower the learning rate and start optimizing for winning again. We also lowered the amount of epochs in each iterations of swapping the frozen agent.\n",
    "\n",
    "3. Freeze agent 1, train agent 2 TODO:\n",
    "    - Model save name: `3-cnn_dqn_frozen_agent1` \n",
    "    - Agent 1 start: `./saved_variables/paper_notebooks/7/2-cnn_dqn_frozen_agent2/best_policy_agent1.pth`\n",
    "    - Agent 2 start: `./saved_variables/paper_notebooks/7/1-cnn_dqn_frozen_agent1/final_policy_agent2.pth`\n",
    "    - Learning rate: `0.00005` # halfed learning rate\n",
    "    - Training epsilon: `0.1` # halfed training epsilon\n",
    "    - Look ahead steps: `4`\n",
    "    - Reward for move/invalid: `0` / `-1`\n",
    "    - Allow invalid move: `False`\n",
    "    - Epochs: `500`\n",
    "    - Gamma: `0.8` # Lowered to not make agent want to play too fast again\n",
    "    - Best epoch: `XXX` with test reward `YYY` (??)\n",
    "    - Scoring: reward of `agent 2`\n",
    "4. Freeze agent 2, train agent 1 TODO:\n",
    "    - Model save name: `4-cnn_dqn_frozen_agent2` \n",
    "    - Agent 1 start: `./saved_variables/paper_notebooks/7/XXX/YYY.pth` (??)\n",
    "    - Agent 2 start: `./saved_variables/paper_notebooks/7/XXX/YYY.pth` (??)\n",
    "    - Learning rate: `0.00005`\n",
    "    - Training epsilon: `0.1`\n",
    "    - Look ahead steps: `4`\n",
    "    - Reward for move/invalid: `0` / `-1`\n",
    "    - Allow invalid move: `False`\n",
    "    - Epochs: `500` (??)\n",
    "    - Gamma: `0.8` # Lowered to not make agent want to play too fast again\n",
    "    - Best epoch: `XXX` with test reward `YYY` (??)\n",
    "    - Scoring: reward of `agent 1`"
   ]
  },
  {
   "cell_type": "code",
   "execution_count": 12,
   "id": "93fe8961",
   "metadata": {
    "scrolled": true
   },
   "outputs": [
    {
     "name": "stderr",
     "output_type": "stream",
     "text": [
      "Epoch #1: 1025it [00:02, 434.07it/s, env_step=1024, len=12, n/ep=5, n/st=64, player_1/loss=1307.540, player_2/loss=1667.024, rew=134.60]\n"
     ]
    },
    {
     "name": "stdout",
     "output_type": "stream",
     "text": [
      "Epoch #1: test_reward: 594.000000 ± 0.000000, best_reward: 702.000000 ± 0.000000 in #0\n"
     ]
    },
    {
     "name": "stderr",
     "output_type": "stream",
     "text": [
      "Epoch #2: 1025it [00:02, 446.35it/s, env_step=2048, len=10, n/ep=8, n/st=64, player_1/loss=1331.556, player_2/loss=1544.222, rew=77.38]\n"
     ]
    },
    {
     "name": "stdout",
     "output_type": "stream",
     "text": [
      "Epoch #2: test_reward: 27.000000 ± 0.000000, best_reward: 702.000000 ± 0.000000 in #0\n"
     ]
    },
    {
     "name": "stderr",
     "output_type": "stream",
     "text": [
      "Epoch #3: 1025it [00:02, 444.76it/s, env_step=3072, len=19, n/ep=3, n/st=64, player_1/loss=920.503, player_2/loss=1141.816, rew=247.00]\n"
     ]
    },
    {
     "name": "stdout",
     "output_type": "stream",
     "text": [
      "Epoch #3: test_reward: 44.000000 ± 0.000000, best_reward: 702.000000 ± 0.000000 in #0\n"
     ]
    },
    {
     "name": "stderr",
     "output_type": "stream",
     "text": [
      "Epoch #4: 1025it [00:02, 446.45it/s, env_step=4096, len=21, n/ep=3, n/st=64, player_1/loss=781.967, player_2/loss=992.753, rew=264.67]\n"
     ]
    },
    {
     "name": "stdout",
     "output_type": "stream",
     "text": [
      "Epoch #4: test_reward: 495.000000 ± 0.000000, best_reward: 702.000000 ± 0.000000 in #0\n"
     ]
    },
    {
     "name": "stderr",
     "output_type": "stream",
     "text": [
      "Epoch #5: 1025it [00:02, 446.19it/s, env_step=5120, len=17, n/ep=4, n/st=64, player_1/loss=1034.896, player_2/loss=887.168, rew=202.25]\n"
     ]
    },
    {
     "name": "stdout",
     "output_type": "stream",
     "text": [
      "Epoch #5: test_reward: 27.000000 ± 0.000000, best_reward: 702.000000 ± 0.000000 in #0\n"
     ]
    },
    {
     "name": "stderr",
     "output_type": "stream",
     "text": [
      "Epoch #6: 1025it [00:02, 421.07it/s, env_step=6144, len=21, n/ep=4, n/st=64, player_1/loss=953.428, player_2/loss=685.048, rew=300.50]\n"
     ]
    },
    {
     "name": "stdout",
     "output_type": "stream",
     "text": [
      "Epoch #6: test_reward: 44.000000 ± 0.000000, best_reward: 702.000000 ± 0.000000 in #0\n"
     ]
    },
    {
     "name": "stderr",
     "output_type": "stream",
     "text": [
      "Epoch #7: 1025it [00:02, 438.52it/s, env_step=7168, len=29, n/ep=2, n/st=64, player_1/loss=771.260, player_2/loss=409.139, rew=474.50]\n"
     ]
    },
    {
     "name": "stdout",
     "output_type": "stream",
     "text": [
      "Epoch #7: test_reward: 594.000000 ± 0.000000, best_reward: 702.000000 ± 0.000000 in #0\n"
     ]
    },
    {
     "name": "stderr",
     "output_type": "stream",
     "text": [
      "Epoch #8: 1025it [00:02, 436.37it/s, env_step=8192, len=24, n/ep=3, n/st=64, player_1/loss=618.719, player_2/loss=351.232, rew=307.33]\n"
     ]
    },
    {
     "name": "stdout",
     "output_type": "stream",
     "text": [
      "Epoch #8: test_reward: 170.000000 ± 0.000000, best_reward: 702.000000 ± 0.000000 in #0\n"
     ]
    },
    {
     "name": "stderr",
     "output_type": "stream",
     "text": [
      "Epoch #9: 1025it [00:02, 442.99it/s, env_step=9216, len=10, n/ep=5, n/st=64, player_2/loss=590.497, rew=56.80]        \n"
     ]
    },
    {
     "name": "stdout",
     "output_type": "stream",
     "text": [
      "Epoch #9: test_reward: 44.000000 ± 0.000000, best_reward: 702.000000 ± 0.000000 in #0\n"
     ]
    },
    {
     "name": "stderr",
     "output_type": "stream",
     "text": [
      "Epoch #10: 1025it [00:02, 440.89it/s, env_step=10240, len=21, n/ep=4, n/st=64, player_1/loss=926.683, rew=328.50]     \n"
     ]
    },
    {
     "name": "stdout",
     "output_type": "stream",
     "text": [
      "Epoch #10: test_reward: 170.000000 ± 0.000000, best_reward: 702.000000 ± 0.000000 in #0\n"
     ]
    },
    {
     "name": "stderr",
     "output_type": "stream",
     "text": [
      "Epoch #11: 1025it [00:02, 441.62it/s, env_step=11264, len=11, n/ep=4, n/st=64, player_1/loss=499.500, player_2/loss=688.957, rew=90.25]\n"
     ]
    },
    {
     "name": "stdout",
     "output_type": "stream",
     "text": [
      "Epoch #11: test_reward: 27.000000 ± 0.000000, best_reward: 702.000000 ± 0.000000 in #0\n"
     ]
    },
    {
     "name": "stderr",
     "output_type": "stream",
     "text": [
      "Epoch #12: 1025it [00:02, 428.44it/s, env_step=12288, len=12, n/ep=5, n/st=64, player_1/loss=312.550, player_2/loss=975.649, rew=95.80]\n"
     ]
    },
    {
     "name": "stdout",
     "output_type": "stream",
     "text": [
      "Epoch #12: test_reward: 27.000000 ± 0.000000, best_reward: 702.000000 ± 0.000000 in #0\n"
     ]
    },
    {
     "name": "stderr",
     "output_type": "stream",
     "text": [
      "Epoch #13: 1025it [00:02, 412.98it/s, env_step=13312, len=15, n/ep=4, n/st=64, player_1/loss=370.012, player_2/loss=1082.561, rew=123.25]\n"
     ]
    },
    {
     "name": "stdout",
     "output_type": "stream",
     "text": [
      "Epoch #13: test_reward: 90.000000 ± 0.000000, best_reward: 702.000000 ± 0.000000 in #0\n"
     ]
    },
    {
     "name": "stderr",
     "output_type": "stream",
     "text": [
      "Epoch #14: 1025it [00:02, 440.44it/s, env_step=14336, len=13, n/ep=5, n/st=64, player_1/loss=260.407, player_2/loss=1189.500, rew=93.40]\n"
     ]
    },
    {
     "name": "stdout",
     "output_type": "stream",
     "text": [
      "Epoch #14: test_reward: 77.000000 ± 0.000000, best_reward: 702.000000 ± 0.000000 in #0\n"
     ]
    },
    {
     "name": "stderr",
     "output_type": "stream",
     "text": [
      "Epoch #15: 1025it [00:02, 374.65it/s, env_step=15360, len=14, n/ep=4, n/st=64, player_1/loss=134.106, player_2/loss=788.201, rew=116.75]\n"
     ]
    },
    {
     "name": "stdout",
     "output_type": "stream",
     "text": [
      "Epoch #15: test_reward: 44.000000 ± 0.000000, best_reward: 702.000000 ± 0.000000 in #0\n"
     ]
    },
    {
     "name": "stderr",
     "output_type": "stream",
     "text": [
      "Epoch #16: 1025it [00:02, 436.87it/s, env_step=16384, len=11, n/ep=5, n/st=64, player_1/loss=252.454, player_2/loss=677.954, rew=68.20]\n"
     ]
    },
    {
     "name": "stdout",
     "output_type": "stream",
     "text": [
      "Epoch #16: test_reward: 27.000000 ± 0.000000, best_reward: 702.000000 ± 0.000000 in #0\n"
     ]
    },
    {
     "name": "stderr",
     "output_type": "stream",
     "text": [
      "Epoch #17: 1025it [00:02, 420.41it/s, env_step=17408, len=13, n/ep=5, n/st=64, player_1/loss=320.579, player_2/loss=759.499, rew=99.00]\n"
     ]
    },
    {
     "name": "stdout",
     "output_type": "stream",
     "text": [
      "Epoch #17: test_reward: 170.000000 ± 0.000000, best_reward: 702.000000 ± 0.000000 in #0\n"
     ]
    },
    {
     "name": "stderr",
     "output_type": "stream",
     "text": [
      "Epoch #18: 1025it [00:02, 413.45it/s, env_step=18432, len=10, n/ep=5, n/st=64, player_1/loss=572.002, player_2/loss=908.337, rew=56.00]\n"
     ]
    },
    {
     "name": "stdout",
     "output_type": "stream",
     "text": [
      "Epoch #18: test_reward: 44.000000 ± 0.000000, best_reward: 702.000000 ± 0.000000 in #0\n"
     ]
    },
    {
     "name": "stderr",
     "output_type": "stream",
     "text": [
      "Epoch #19: 1025it [00:02, 461.13it/s, env_step=19456, len=14, n/ep=4, n/st=64, player_1/loss=535.821, player_2/loss=1153.692, rew=119.00]\n"
     ]
    },
    {
     "name": "stdout",
     "output_type": "stream",
     "text": [
      "Epoch #19: test_reward: 252.000000 ± 0.000000, best_reward: 702.000000 ± 0.000000 in #0\n"
     ]
    },
    {
     "name": "stderr",
     "output_type": "stream",
     "text": [
      "Epoch #20: 1025it [00:02, 443.71it/s, env_step=20480, len=18, n/ep=2, n/st=64, player_1/loss=319.478, player_2/loss=1642.887, rew=170.00]\n"
     ]
    },
    {
     "name": "stdout",
     "output_type": "stream",
     "text": [
      "Epoch #20: test_reward: 90.000000 ± 0.000000, best_reward: 702.000000 ± 0.000000 in #0\n"
     ]
    },
    {
     "name": "stderr",
     "output_type": "stream",
     "text": [
      "Epoch #21: 1025it [00:02, 453.24it/s, env_step=21504, len=17, n/ep=4, n/st=64, player_1/loss=307.576, player_2/loss=1105.376, rew=170.75]\n"
     ]
    },
    {
     "name": "stdout",
     "output_type": "stream",
     "text": [
      "Epoch #21: test_reward: 252.000000 ± 0.000000, best_reward: 702.000000 ± 0.000000 in #0\n"
     ]
    },
    {
     "name": "stderr",
     "output_type": "stream",
     "text": [
      "Epoch #22: 1025it [00:02, 430.76it/s, env_step=22528, len=15, n/ep=5, n/st=64, player_1/loss=175.153, player_2/loss=721.905, rew=136.00]\n"
     ]
    },
    {
     "name": "stdout",
     "output_type": "stream",
     "text": [
      "Epoch #22: test_reward: 135.000000 ± 0.000000, best_reward: 702.000000 ± 0.000000 in #0\n"
     ]
    },
    {
     "name": "stderr",
     "output_type": "stream",
     "text": [
      "Epoch #23: 1025it [00:02, 443.58it/s, env_step=23552, len=15, n/ep=4, n/st=64, player_1/loss=229.135, player_2/loss=884.201, rew=128.25]\n"
     ]
    },
    {
     "name": "stdout",
     "output_type": "stream",
     "text": [
      "Epoch #23: test_reward: 90.000000 ± 0.000000, best_reward: 702.000000 ± 0.000000 in #0\n"
     ]
    },
    {
     "name": "stderr",
     "output_type": "stream",
     "text": [
      "Epoch #24: 1025it [00:02, 448.71it/s, env_step=24576, len=13, n/ep=5, n/st=64, player_1/loss=373.616, player_2/loss=949.275, rew=96.40]\n"
     ]
    },
    {
     "name": "stdout",
     "output_type": "stream",
     "text": [
      "Epoch #24: test_reward: 90.000000 ± 0.000000, best_reward: 702.000000 ± 0.000000 in #0\n"
     ]
    },
    {
     "name": "stderr",
     "output_type": "stream",
     "text": [
      "Epoch #25: 1025it [00:02, 421.81it/s, env_step=25600, len=20, n/ep=3, n/st=64, player_1/loss=448.946, player_2/loss=925.382, rew=290.33]\n"
     ]
    },
    {
     "name": "stdout",
     "output_type": "stream",
     "text": [
      "Epoch #25: test_reward: 740.000000 ± 0.000000, best_reward: 740.000000 ± 0.000000 in #25\n"
     ]
    },
    {
     "name": "stderr",
     "output_type": "stream",
     "text": [
      "Epoch #26: 1025it [00:02, 444.46it/s, env_step=26624, len=8, n/ep=8, n/st=64, player_1/loss=502.447, player_2/loss=698.061, rew=40.25]\n"
     ]
    },
    {
     "name": "stdout",
     "output_type": "stream",
     "text": [
      "Epoch #26: test_reward: 27.000000 ± 0.000000, best_reward: 740.000000 ± 0.000000 in #25\n"
     ]
    },
    {
     "name": "stderr",
     "output_type": "stream",
     "text": [
      "Epoch #27: 1025it [00:02, 443.92it/s, env_step=27648, len=16, n/ep=4, n/st=64, player_1/loss=319.484, player_2/loss=1216.159, rew=147.00]\n"
     ]
    },
    {
     "name": "stdout",
     "output_type": "stream",
     "text": [
      "Epoch #27: test_reward: 65.000000 ± 0.000000, best_reward: 740.000000 ± 0.000000 in #25\n"
     ]
    },
    {
     "name": "stderr",
     "output_type": "stream",
     "text": [
      "Epoch #28: 1025it [00:02, 417.31it/s, env_step=28672, len=12, n/ep=5, n/st=64, player_1/loss=244.986, player_2/loss=1424.505, rew=94.00]\n"
     ]
    },
    {
     "name": "stdout",
     "output_type": "stream",
     "text": [
      "Epoch #28: test_reward: 27.000000 ± 0.000000, best_reward: 740.000000 ± 0.000000 in #25\n"
     ]
    },
    {
     "name": "stderr",
     "output_type": "stream",
     "text": [
      "Epoch #29: 1025it [00:02, 447.13it/s, env_step=29696, len=13, n/ep=5, n/st=64, player_1/loss=338.368, player_2/loss=1142.166, rew=96.20]\n"
     ]
    },
    {
     "name": "stdout",
     "output_type": "stream",
     "text": [
      "Epoch #29: test_reward: 77.000000 ± 0.000000, best_reward: 740.000000 ± 0.000000 in #25\n"
     ]
    },
    {
     "name": "stderr",
     "output_type": "stream",
     "text": [
      "Epoch #30: 1025it [00:02, 447.87it/s, env_step=30720, len=9, n/ep=7, n/st=64, player_1/loss=334.153, rew=50.43]       \n"
     ]
    },
    {
     "name": "stdout",
     "output_type": "stream",
     "text": [
      "Epoch #30: test_reward: 27.000000 ± 0.000000, best_reward: 740.000000 ± 0.000000 in #25\n"
     ]
    },
    {
     "name": "stderr",
     "output_type": "stream",
     "text": [
      "Epoch #31: 1025it [00:02, 443.60it/s, env_step=31744, len=8, n/ep=8, n/st=64, player_1/loss=358.515, player_2/loss=954.106, rew=36.00]\n"
     ]
    },
    {
     "name": "stdout",
     "output_type": "stream",
     "text": [
      "Epoch #31: test_reward: 27.000000 ± 0.000000, best_reward: 740.000000 ± 0.000000 in #25\n"
     ]
    },
    {
     "name": "stderr",
     "output_type": "stream",
     "text": [
      "Epoch #32: 1025it [00:02, 442.66it/s, env_step=32768, len=11, n/ep=5, n/st=64, player_1/loss=251.524, player_2/loss=1310.210, rew=76.80]\n"
     ]
    },
    {
     "name": "stdout",
     "output_type": "stream",
     "text": [
      "Epoch #32: test_reward: 27.000000 ± 0.000000, best_reward: 740.000000 ± 0.000000 in #25\n"
     ]
    },
    {
     "name": "stderr",
     "output_type": "stream",
     "text": [
      "Epoch #33: 1025it [00:02, 448.45it/s, env_step=33792, len=29, n/ep=3, n/st=64, player_1/loss=437.046, player_2/loss=969.509, rew=448.33]\n"
     ]
    },
    {
     "name": "stdout",
     "output_type": "stream",
     "text": [
      "Epoch #33: test_reward: 702.000000 ± 0.000000, best_reward: 740.000000 ± 0.000000 in #25\n"
     ]
    },
    {
     "name": "stderr",
     "output_type": "stream",
     "text": [
      "Epoch #34: 1025it [00:02, 429.20it/s, env_step=34816, len=11, n/ep=5, n/st=64, player_1/loss=442.960, player_2/loss=591.109, rew=68.20]\n"
     ]
    },
    {
     "name": "stdout",
     "output_type": "stream",
     "text": [
      "Epoch #34: test_reward: 90.000000 ± 0.000000, best_reward: 740.000000 ± 0.000000 in #25\n"
     ]
    },
    {
     "name": "stderr",
     "output_type": "stream",
     "text": [
      "Epoch #35: 1025it [00:02, 440.21it/s, env_step=35840, len=29, n/ep=3, n/st=64, player_1/loss=233.916, player_2/loss=659.182, rew=595.33]\n"
     ]
    },
    {
     "name": "stdout",
     "output_type": "stream",
     "text": [
      "Epoch #35: test_reward: 77.000000 ± 0.000000, best_reward: 740.000000 ± 0.000000 in #25\n"
     ]
    },
    {
     "name": "stderr",
     "output_type": "stream",
     "text": [
      "Epoch #36: 1025it [00:02, 418.04it/s, env_step=36864, len=12, n/ep=5, n/st=64, player_1/loss=312.595, player_2/loss=964.318, rew=94.20]\n"
     ]
    },
    {
     "name": "stdout",
     "output_type": "stream",
     "text": [
      "Epoch #36: test_reward: 27.000000 ± 0.000000, best_reward: 740.000000 ± 0.000000 in #25\n"
     ]
    },
    {
     "name": "stderr",
     "output_type": "stream",
     "text": [
      "Epoch #37: 1025it [00:02, 447.53it/s, env_step=37888, len=10, n/ep=6, n/st=64, player_1/loss=262.164, player_2/loss=1211.364, rew=54.50]\n"
     ]
    },
    {
     "name": "stdout",
     "output_type": "stream",
     "text": [
      "Epoch #37: test_reward: 27.000000 ± 0.000000, best_reward: 740.000000 ± 0.000000 in #25\n"
     ]
    },
    {
     "name": "stderr",
     "output_type": "stream",
     "text": [
      "Epoch #38: 1025it [00:02, 454.56it/s, env_step=38912, len=12, n/ep=5, n/st=64, player_1/loss=140.454, player_2/loss=1478.708, rew=83.20]\n"
     ]
    },
    {
     "name": "stdout",
     "output_type": "stream",
     "text": [
      "Epoch #38: test_reward: 77.000000 ± 0.000000, best_reward: 740.000000 ± 0.000000 in #25\n"
     ]
    },
    {
     "name": "stderr",
     "output_type": "stream",
     "text": [
      "Epoch #39: 1025it [00:02, 439.11it/s, env_step=39936, len=8, n/ep=7, n/st=64, player_1/loss=166.620, player_2/loss=1675.505, rew=42.71]\n"
     ]
    },
    {
     "name": "stdout",
     "output_type": "stream",
     "text": [
      "Epoch #39: test_reward: 27.000000 ± 0.000000, best_reward: 740.000000 ± 0.000000 in #25\n"
     ]
    },
    {
     "name": "stderr",
     "output_type": "stream",
     "text": [
      "Epoch #40: 1025it [00:02, 393.54it/s, env_step=40960, len=11, n/ep=6, n/st=64, player_1/loss=187.093, player_2/loss=1709.443, rew=77.33]\n"
     ]
    },
    {
     "name": "stdout",
     "output_type": "stream",
     "text": [
      "Epoch #40: test_reward: 27.000000 ± 0.000000, best_reward: 740.000000 ± 0.000000 in #25\n"
     ]
    },
    {
     "name": "stderr",
     "output_type": "stream",
     "text": [
      "Epoch #41: 1025it [00:02, 405.02it/s, env_step=41984, len=26, n/ep=2, n/st=64, player_1/loss=279.383, player_2/loss=980.128, rew=368.00]\n"
     ]
    },
    {
     "name": "stdout",
     "output_type": "stream",
     "text": [
      "Epoch #41: test_reward: 702.000000 ± 0.000000, best_reward: 740.000000 ± 0.000000 in #25\n"
     ]
    },
    {
     "name": "stderr",
     "output_type": "stream",
     "text": [
      "Epoch #42: 1025it [00:02, 393.42it/s, env_step=43008, len=15, n/ep=3, n/st=64, player_1/loss=343.952, player_2/loss=379.612, rew=129.00]\n"
     ]
    },
    {
     "name": "stdout",
     "output_type": "stream",
     "text": [
      "Epoch #42: test_reward: 170.000000 ± 0.000000, best_reward: 740.000000 ± 0.000000 in #25\n"
     ]
    },
    {
     "name": "stderr",
     "output_type": "stream",
     "text": [
      "Epoch #43: 1025it [00:02, 391.44it/s, env_step=44032, len=24, n/ep=2, n/st=64, player_1/loss=312.122, player_2/loss=449.477, rew=311.50]\n"
     ]
    },
    {
     "name": "stdout",
     "output_type": "stream",
     "text": [
      "Epoch #43: test_reward: 350.000000 ± 0.000000, best_reward: 740.000000 ± 0.000000 in #25\n"
     ]
    },
    {
     "name": "stderr",
     "output_type": "stream",
     "text": [
      "Epoch #44: 1025it [00:02, 392.98it/s, env_step=45056, len=23, n/ep=2, n/st=64, player_1/loss=293.664, player_2/loss=381.923, rew=373.00]\n"
     ]
    },
    {
     "name": "stdout",
     "output_type": "stream",
     "text": [
      "Epoch #44: test_reward: 27.000000 ± 0.000000, best_reward: 740.000000 ± 0.000000 in #25\n"
     ]
    },
    {
     "name": "stderr",
     "output_type": "stream",
     "text": [
      "Epoch #45: 1025it [00:02, 389.60it/s, env_step=46080, len=10, n/ep=5, n/st=64, player_1/loss=278.467, player_2/loss=676.423, rew=65.60]\n"
     ]
    },
    {
     "name": "stdout",
     "output_type": "stream",
     "text": [
      "Epoch #45: test_reward: 27.000000 ± 0.000000, best_reward: 740.000000 ± 0.000000 in #25\n"
     ]
    },
    {
     "name": "stderr",
     "output_type": "stream",
     "text": [
      "Epoch #46: 1025it [00:02, 395.11it/s, env_step=47104, len=13, n/ep=5, n/st=64, player_1/loss=464.168, player_2/loss=1120.192, rew=94.00]\n"
     ]
    },
    {
     "name": "stdout",
     "output_type": "stream",
     "text": [
      "Epoch #46: test_reward: 90.000000 ± 0.000000, best_reward: 740.000000 ± 0.000000 in #25\n"
     ]
    },
    {
     "name": "stderr",
     "output_type": "stream",
     "text": [
      "Epoch #47: 1025it [00:02, 386.68it/s, env_step=48128, len=18, n/ep=4, n/st=64, player_2/loss=1368.255, rew=202.75]    \n"
     ]
    },
    {
     "name": "stdout",
     "output_type": "stream",
     "text": [
      "Epoch #47: test_reward: 27.000000 ± 0.000000, best_reward: 740.000000 ± 0.000000 in #25\n"
     ]
    },
    {
     "name": "stderr",
     "output_type": "stream",
     "text": [
      "Epoch #48: 1025it [00:02, 380.22it/s, env_step=49152, len=16, n/ep=4, n/st=64, player_1/loss=391.204, player_2/loss=600.618, rew=154.00]\n"
     ]
    },
    {
     "name": "stdout",
     "output_type": "stream",
     "text": [
      "Epoch #48: test_reward: 65.000000 ± 0.000000, best_reward: 740.000000 ± 0.000000 in #25\n"
     ]
    },
    {
     "name": "stderr",
     "output_type": "stream",
     "text": [
      "Epoch #49: 1025it [00:02, 378.24it/s, env_step=50176, len=24, n/ep=2, n/st=64, player_1/loss=516.726, player_2/loss=468.516, rew=411.50]\n"
     ]
    },
    {
     "name": "stdout",
     "output_type": "stream",
     "text": [
      "Epoch #49: test_reward: 665.000000 ± 0.000000, best_reward: 740.000000 ± 0.000000 in #25\n"
     ]
    },
    {
     "name": "stderr",
     "output_type": "stream",
     "text": [
      "Epoch #50: 1025it [00:02, 377.63it/s, env_step=51200, len=11, n/ep=6, n/st=64, player_1/loss=372.745, player_2/loss=635.758, rew=101.17]\n"
     ]
    },
    {
     "name": "stdout",
     "output_type": "stream",
     "text": [
      "Epoch #50: test_reward: 27.000000 ± 0.000000, best_reward: 740.000000 ± 0.000000 in #25\n"
     ]
    },
    {
     "name": "stderr",
     "output_type": "stream",
     "text": [
      "Epoch #51: 1025it [00:02, 376.48it/s, env_step=52224, len=36, n/ep=2, n/st=64, player_1/loss=281.907, player_2/loss=819.054, rew=665.50]\n"
     ]
    },
    {
     "name": "stdout",
     "output_type": "stream",
     "text": [
      "Epoch #51: test_reward: 779.000000 ± 0.000000, best_reward: 779.000000 ± 0.000000 in #51\n"
     ]
    },
    {
     "name": "stderr",
     "output_type": "stream",
     "text": [
      "Epoch #52: 1025it [00:02, 377.67it/s, env_step=53248, len=15, n/ep=5, n/st=64, player_1/loss=315.369, player_2/loss=936.651, rew=187.00]\n"
     ]
    },
    {
     "name": "stdout",
     "output_type": "stream",
     "text": [
      "Epoch #52: test_reward: 27.000000 ± 0.000000, best_reward: 779.000000 ± 0.000000 in #51\n"
     ]
    },
    {
     "name": "stderr",
     "output_type": "stream",
     "text": [
      "Epoch #53: 1025it [00:02, 377.70it/s, env_step=54272, len=36, n/ep=2, n/st=64, player_1/loss=326.124, player_2/loss=788.481, rew=665.00]\n"
     ]
    },
    {
     "name": "stdout",
     "output_type": "stream",
     "text": [
      "Epoch #53: test_reward: 740.000000 ± 0.000000, best_reward: 779.000000 ± 0.000000 in #51\n"
     ]
    },
    {
     "name": "stderr",
     "output_type": "stream",
     "text": [
      "Epoch #54: 1025it [00:02, 380.51it/s, env_step=55296, len=14, n/ep=4, n/st=64, player_1/loss=474.120, player_2/loss=824.777, rew=105.50]\n"
     ]
    },
    {
     "name": "stdout",
     "output_type": "stream",
     "text": [
      "Epoch #54: test_reward: 90.000000 ± 0.000000, best_reward: 779.000000 ± 0.000000 in #51\n"
     ]
    },
    {
     "name": "stderr",
     "output_type": "stream",
     "text": [
      "Epoch #55: 1025it [00:02, 377.08it/s, env_step=56320, len=13, n/ep=5, n/st=64, player_1/loss=317.624, player_2/loss=823.808, rew=101.20]\n"
     ]
    },
    {
     "name": "stdout",
     "output_type": "stream",
     "text": [
      "Epoch #55: test_reward: 77.000000 ± 0.000000, best_reward: 779.000000 ± 0.000000 in #51\n"
     ]
    },
    {
     "name": "stderr",
     "output_type": "stream",
     "text": [
      "Epoch #56: 1025it [00:02, 380.25it/s, env_step=57344, len=16, n/ep=4, n/st=64, player_1/loss=152.519, player_2/loss=967.025, rew=150.25]\n"
     ]
    },
    {
     "name": "stdout",
     "output_type": "stream",
     "text": [
      "Epoch #56: test_reward: 77.000000 ± 0.000000, best_reward: 779.000000 ± 0.000000 in #51\n"
     ]
    },
    {
     "name": "stderr",
     "output_type": "stream",
     "text": [
      "Epoch #57: 1025it [00:02, 377.31it/s, env_step=58368, len=12, n/ep=5, n/st=64, player_1/loss=448.689, player_2/loss=812.026, rew=93.60]\n"
     ]
    },
    {
     "name": "stdout",
     "output_type": "stream",
     "text": [
      "Epoch #57: test_reward: 44.000000 ± 0.000000, best_reward: 779.000000 ± 0.000000 in #51\n"
     ]
    },
    {
     "name": "stderr",
     "output_type": "stream",
     "text": [
      "Epoch #58: 1025it [00:02, 376.38it/s, env_step=59392, len=14, n/ep=4, n/st=64, player_1/loss=485.765, player_2/loss=1034.388, rew=117.75]\n"
     ]
    },
    {
     "name": "stdout",
     "output_type": "stream",
     "text": [
      "Epoch #58: test_reward: 44.000000 ± 0.000000, best_reward: 779.000000 ± 0.000000 in #51\n"
     ]
    },
    {
     "name": "stderr",
     "output_type": "stream",
     "text": [
      "Epoch #59: 1025it [00:02, 375.78it/s, env_step=60416, len=11, n/ep=6, n/st=64, player_1/loss=283.700, player_2/loss=1193.853, rew=78.17]\n"
     ]
    },
    {
     "name": "stdout",
     "output_type": "stream",
     "text": [
      "Epoch #59: test_reward: 44.000000 ± 0.000000, best_reward: 779.000000 ± 0.000000 in #51\n"
     ]
    },
    {
     "name": "stderr",
     "output_type": "stream",
     "text": [
      "Epoch #60: 1025it [00:02, 378.22it/s, env_step=61440, len=12, n/ep=5, n/st=64, player_1/loss=223.575, player_2/loss=1081.998, rew=86.20]\n"
     ]
    },
    {
     "name": "stdout",
     "output_type": "stream",
     "text": [
      "Epoch #60: test_reward: 44.000000 ± 0.000000, best_reward: 779.000000 ± 0.000000 in #51\n"
     ]
    },
    {
     "name": "stderr",
     "output_type": "stream",
     "text": [
      "Epoch #61: 1025it [00:02, 377.65it/s, env_step=62464, len=13, n/ep=5, n/st=64, player_1/loss=154.886, player_2/loss=1330.035, rew=107.40]\n"
     ]
    },
    {
     "name": "stdout",
     "output_type": "stream",
     "text": [
      "Epoch #61: test_reward: 44.000000 ± 0.000000, best_reward: 779.000000 ± 0.000000 in #51\n"
     ]
    },
    {
     "name": "stderr",
     "output_type": "stream",
     "text": [
      "Epoch #62: 1025it [00:02, 378.49it/s, env_step=63488, len=10, n/ep=6, n/st=64, player_1/loss=140.751, player_2/loss=1650.317, rew=60.50]\n"
     ]
    },
    {
     "name": "stdout",
     "output_type": "stream",
     "text": [
      "Epoch #62: test_reward: 44.000000 ± 0.000000, best_reward: 779.000000 ± 0.000000 in #51\n"
     ]
    },
    {
     "name": "stderr",
     "output_type": "stream",
     "text": [
      "Epoch #63: 1025it [00:02, 380.80it/s, env_step=64512, len=10, n/ep=4, n/st=64, player_1/loss=188.583, player_2/loss=1531.598, rew=57.00]\n"
     ]
    },
    {
     "name": "stdout",
     "output_type": "stream",
     "text": [
      "Epoch #63: test_reward: 44.000000 ± 0.000000, best_reward: 779.000000 ± 0.000000 in #51\n"
     ]
    },
    {
     "name": "stderr",
     "output_type": "stream",
     "text": [
      "Epoch #64: 1025it [00:02, 378.27it/s, env_step=65536, len=15, n/ep=5, n/st=64, player_1/loss=198.934, player_2/loss=924.472, rew=141.80]\n"
     ]
    },
    {
     "name": "stdout",
     "output_type": "stream",
     "text": [
      "Epoch #64: test_reward: 44.000000 ± 0.000000, best_reward: 779.000000 ± 0.000000 in #51\n"
     ]
    },
    {
     "name": "stderr",
     "output_type": "stream",
     "text": [
      "Epoch #65: 1025it [00:02, 378.37it/s, env_step=66560, len=11, n/ep=6, n/st=64, player_1/loss=274.025, player_2/loss=1090.152, rew=82.00]\n"
     ]
    },
    {
     "name": "stdout",
     "output_type": "stream",
     "text": [
      "Epoch #65: test_reward: 44.000000 ± 0.000000, best_reward: 779.000000 ± 0.000000 in #51\n"
     ]
    },
    {
     "name": "stderr",
     "output_type": "stream",
     "text": [
      "Epoch #66: 1025it [00:02, 378.33it/s, env_step=67584, len=35, n/ep=2, n/st=64, player_1/loss=245.692, player_2/loss=902.702, rew=629.50]\n"
     ]
    },
    {
     "name": "stdout",
     "output_type": "stream",
     "text": [
      "Epoch #66: test_reward: 740.000000 ± 0.000000, best_reward: 779.000000 ± 0.000000 in #51\n"
     ]
    },
    {
     "name": "stderr",
     "output_type": "stream",
     "text": [
      "Epoch #67: 1025it [00:02, 376.88it/s, env_step=68608, len=30, n/ep=2, n/st=64, player_1/loss=372.334, player_2/loss=709.665, rew=464.00]\n"
     ]
    },
    {
     "name": "stdout",
     "output_type": "stream",
     "text": [
      "Epoch #67: test_reward: 464.000000 ± 0.000000, best_reward: 779.000000 ± 0.000000 in #51\n"
     ]
    },
    {
     "name": "stderr",
     "output_type": "stream",
     "text": [
      "Epoch #68: 1025it [00:02, 378.86it/s, env_step=69632, len=37, n/ep=1, n/st=64, player_1/loss=299.122, player_2/loss=598.885, rew=702.00]\n"
     ]
    },
    {
     "name": "stdout",
     "output_type": "stream",
     "text": [
      "Epoch #68: test_reward: 495.000000 ± 0.000000, best_reward: 779.000000 ± 0.000000 in #51\n"
     ]
    },
    {
     "name": "stderr",
     "output_type": "stream",
     "text": [
      "Epoch #69: 1025it [00:02, 378.46it/s, env_step=70656, len=12, n/ep=5, n/st=64, player_1/loss=132.950, player_2/loss=678.187, rew=100.00]\n"
     ]
    },
    {
     "name": "stdout",
     "output_type": "stream",
     "text": [
      "Epoch #69: test_reward: 27.000000 ± 0.000000, best_reward: 779.000000 ± 0.000000 in #51\n"
     ]
    },
    {
     "name": "stderr",
     "output_type": "stream",
     "text": [
      "Epoch #70: 1025it [00:02, 380.88it/s, env_step=71680, len=9, n/ep=6, n/st=64, player_1/loss=266.228, player_2/loss=743.873, rew=50.17]\n"
     ]
    },
    {
     "name": "stdout",
     "output_type": "stream",
     "text": [
      "Epoch #70: test_reward: 44.000000 ± 0.000000, best_reward: 779.000000 ± 0.000000 in #51\n"
     ]
    },
    {
     "name": "stderr",
     "output_type": "stream",
     "text": [
      "Epoch #71: 1025it [00:02, 380.28it/s, env_step=72704, len=10, n/ep=6, n/st=64, player_1/loss=221.760, player_2/loss=1188.254, rew=63.50]\n"
     ]
    },
    {
     "name": "stdout",
     "output_type": "stream",
     "text": [
      "Epoch #71: test_reward: 65.000000 ± 0.000000, best_reward: 779.000000 ± 0.000000 in #51\n"
     ]
    },
    {
     "name": "stderr",
     "output_type": "stream",
     "text": [
      "Epoch #72: 1025it [00:02, 377.12it/s, env_step=73728, len=11, n/ep=6, n/st=64, player_1/loss=123.409, rew=76.67]      \n"
     ]
    },
    {
     "name": "stdout",
     "output_type": "stream",
     "text": [
      "Epoch #72: test_reward: 27.000000 ± 0.000000, best_reward: 779.000000 ± 0.000000 in #51\n"
     ]
    },
    {
     "name": "stderr",
     "output_type": "stream",
     "text": [
      "Epoch #73: 1025it [00:02, 376.93it/s, env_step=74752, len=15, n/ep=3, n/st=64, player_1/loss=196.215, player_2/loss=748.836, rew=204.67]\n"
     ]
    },
    {
     "name": "stdout",
     "output_type": "stream",
     "text": [
      "Epoch #73: test_reward: 560.000000 ± 0.000000, best_reward: 779.000000 ± 0.000000 in #51\n"
     ]
    },
    {
     "name": "stderr",
     "output_type": "stream",
     "text": [
      "Epoch #74: 1025it [00:02, 377.50it/s, env_step=75776, len=30, n/ep=2, n/st=64, player_1/loss=390.817, player_2/loss=611.975, rew=500.50]\n"
     ]
    },
    {
     "name": "stdout",
     "output_type": "stream",
     "text": [
      "Epoch #74: test_reward: 740.000000 ± 0.000000, best_reward: 779.000000 ± 0.000000 in #51\n"
     ]
    },
    {
     "name": "stderr",
     "output_type": "stream",
     "text": [
      "Epoch #75: 1025it [00:02, 377.51it/s, env_step=76800, len=25, n/ep=2, n/st=64, player_1/loss=438.849, player_2/loss=392.057, rew=336.50]\n"
     ]
    },
    {
     "name": "stdout",
     "output_type": "stream",
     "text": [
      "Epoch #75: test_reward: 702.000000 ± 0.000000, best_reward: 779.000000 ± 0.000000 in #51\n"
     ]
    },
    {
     "name": "stderr",
     "output_type": "stream",
     "text": [
      "Epoch #76: 1025it [00:02, 370.85it/s, env_step=77824, len=13, n/ep=5, n/st=64, player_1/loss=318.266, player_2/loss=662.087, rew=169.60]\n"
     ]
    },
    {
     "name": "stdout",
     "output_type": "stream",
     "text": [
      "Epoch #76: test_reward: 27.000000 ± 0.000000, best_reward: 779.000000 ± 0.000000 in #51\n"
     ]
    },
    {
     "name": "stderr",
     "output_type": "stream",
     "text": [
      "Epoch #77: 1025it [00:02, 374.53it/s, env_step=78848, len=20, n/ep=4, n/st=64, player_1/loss=352.912, player_2/loss=626.752, rew=290.00]\n"
     ]
    },
    {
     "name": "stdout",
     "output_type": "stream",
     "text": [
      "Epoch #77: test_reward: 740.000000 ± 0.000000, best_reward: 779.000000 ± 0.000000 in #51\n"
     ]
    },
    {
     "name": "stderr",
     "output_type": "stream",
     "text": [
      "Epoch #78: 1025it [00:02, 375.52it/s, env_step=79872, len=14, n/ep=2, n/st=64, player_1/loss=365.179, player_2/loss=553.578, rew=114.50]\n"
     ]
    },
    {
     "name": "stdout",
     "output_type": "stream",
     "text": [
      "Epoch #78: test_reward: 702.000000 ± 0.000000, best_reward: 779.000000 ± 0.000000 in #51\n"
     ]
    },
    {
     "name": "stderr",
     "output_type": "stream",
     "text": [
      "Epoch #79: 1025it [00:02, 380.39it/s, env_step=80896, len=22, n/ep=3, n/st=64, player_1/loss=400.668, player_2/loss=669.695, rew=304.67]\n"
     ]
    },
    {
     "name": "stdout",
     "output_type": "stream",
     "text": [
      "Epoch #79: test_reward: 434.000000 ± 0.000000, best_reward: 779.000000 ± 0.000000 in #51\n"
     ]
    },
    {
     "name": "stderr",
     "output_type": "stream",
     "text": [
      "Epoch #80: 1025it [00:02, 377.08it/s, env_step=81920, len=9, n/ep=7, n/st=64, player_1/loss=494.256, player_2/loss=1159.083, rew=49.86]\n"
     ]
    },
    {
     "name": "stdout",
     "output_type": "stream",
     "text": [
      "Epoch #80: test_reward: 27.000000 ± 0.000000, best_reward: 779.000000 ± 0.000000 in #51\n"
     ]
    },
    {
     "name": "stderr",
     "output_type": "stream",
     "text": [
      "Epoch #81: 1025it [00:02, 376.19it/s, env_step=82944, len=11, n/ep=5, n/st=64, player_1/loss=152.358, player_2/loss=1394.664, rew=70.00]\n"
     ]
    },
    {
     "name": "stdout",
     "output_type": "stream",
     "text": [
      "Epoch #81: test_reward: 65.000000 ± 0.000000, best_reward: 779.000000 ± 0.000000 in #51\n"
     ]
    },
    {
     "name": "stderr",
     "output_type": "stream",
     "text": [
      "Epoch #82: 1025it [00:02, 376.09it/s, env_step=83968, len=15, n/ep=5, n/st=64, player_1/loss=211.324, player_2/loss=1569.549, rew=135.80]\n"
     ]
    },
    {
     "name": "stdout",
     "output_type": "stream",
     "text": [
      "Epoch #82: test_reward: 90.000000 ± 0.000000, best_reward: 779.000000 ± 0.000000 in #51\n"
     ]
    },
    {
     "name": "stderr",
     "output_type": "stream",
     "text": [
      "Epoch #83: 1025it [00:02, 377.14it/s, env_step=84992, len=35, n/ep=2, n/st=64, player_1/loss=350.826, player_2/loss=1031.108, rew=633.50]\n"
     ]
    },
    {
     "name": "stdout",
     "output_type": "stream",
     "text": [
      "Epoch #83: test_reward: 299.000000 ± 0.000000, best_reward: 779.000000 ± 0.000000 in #51\n"
     ]
    },
    {
     "name": "stderr",
     "output_type": "stream",
     "text": [
      "Epoch #84: 1025it [00:02, 377.26it/s, env_step=86016, len=9, n/ep=7, n/st=64, player_1/loss=302.520, player_2/loss=840.429, rew=53.00]\n"
     ]
    },
    {
     "name": "stdout",
     "output_type": "stream",
     "text": [
      "Epoch #84: test_reward: 44.000000 ± 0.000000, best_reward: 779.000000 ± 0.000000 in #51\n"
     ]
    },
    {
     "name": "stderr",
     "output_type": "stream",
     "text": [
      "Epoch #85: 1025it [00:02, 375.49it/s, env_step=87040, len=23, n/ep=3, n/st=64, player_1/loss=119.925, player_2/loss=836.033, rew=282.00]\n"
     ]
    },
    {
     "name": "stdout",
     "output_type": "stream",
     "text": [
      "Epoch #85: test_reward: 189.000000 ± 0.000000, best_reward: 779.000000 ± 0.000000 in #51\n"
     ]
    },
    {
     "name": "stderr",
     "output_type": "stream",
     "text": [
      "Epoch #86: 1025it [00:02, 381.71it/s, env_step=88064, len=24, n/ep=3, n/st=64, player_1/loss=149.108, player_2/loss=724.680, rew=308.67]\n"
     ]
    },
    {
     "name": "stdout",
     "output_type": "stream",
     "text": [
      "Epoch #86: test_reward: 350.000000 ± 0.000000, best_reward: 779.000000 ± 0.000000 in #51\n"
     ]
    },
    {
     "name": "stderr",
     "output_type": "stream",
     "text": [
      "Epoch #87: 1025it [00:02, 381.59it/s, env_step=89088, len=11, n/ep=6, n/st=64, player_1/loss=171.969, player_2/loss=1051.459, rew=92.00]\n"
     ]
    },
    {
     "name": "stdout",
     "output_type": "stream",
     "text": [
      "Epoch #87: test_reward: 27.000000 ± 0.000000, best_reward: 779.000000 ± 0.000000 in #51\n"
     ]
    },
    {
     "name": "stderr",
     "output_type": "stream",
     "text": [
      "Epoch #88: 1025it [00:02, 377.04it/s, env_step=90112, len=22, n/ep=3, n/st=64, player_1/loss=311.291, player_2/loss=942.921, rew=324.33]\n"
     ]
    },
    {
     "name": "stdout",
     "output_type": "stream",
     "text": [
      "Epoch #88: test_reward: 135.000000 ± 0.000000, best_reward: 779.000000 ± 0.000000 in #51\n"
     ]
    },
    {
     "name": "stderr",
     "output_type": "stream",
     "text": [
      "Epoch #89: 1025it [00:02, 377.04it/s, env_step=91136, len=24, n/ep=3, n/st=64, player_1/loss=335.612, player_2/loss=1034.307, rew=351.33]\n"
     ]
    },
    {
     "name": "stdout",
     "output_type": "stream",
     "text": [
      "Epoch #89: test_reward: 65.000000 ± 0.000000, best_reward: 779.000000 ± 0.000000 in #51\n"
     ]
    },
    {
     "name": "stderr",
     "output_type": "stream",
     "text": [
      "Epoch #90: 1025it [00:02, 377.67it/s, env_step=92160, len=9, n/ep=7, n/st=64, player_1/loss=254.415, player_2/loss=1201.875, rew=52.43]\n"
     ]
    },
    {
     "name": "stdout",
     "output_type": "stream",
     "text": [
      "Epoch #90: test_reward: 27.000000 ± 0.000000, best_reward: 779.000000 ± 0.000000 in #51\n"
     ]
    },
    {
     "name": "stderr",
     "output_type": "stream",
     "text": [
      "Epoch #91: 1025it [00:02, 378.69it/s, env_step=93184, len=9, n/ep=7, n/st=64, player_1/loss=139.439, player_2/loss=1549.696, rew=55.29]\n"
     ]
    },
    {
     "name": "stdout",
     "output_type": "stream",
     "text": [
      "Epoch #91: test_reward: 44.000000 ± 0.000000, best_reward: 779.000000 ± 0.000000 in #51\n"
     ]
    },
    {
     "name": "stderr",
     "output_type": "stream",
     "text": [
      "Epoch #92: 1025it [00:02, 370.54it/s, env_step=94208, len=10, n/ep=7, n/st=64, player_1/loss=23.958, player_2/loss=1445.050, rew=70.14]\n"
     ]
    },
    {
     "name": "stdout",
     "output_type": "stream",
     "text": [
      "Epoch #92: test_reward: 27.000000 ± 0.000000, best_reward: 779.000000 ± 0.000000 in #51\n"
     ]
    },
    {
     "name": "stderr",
     "output_type": "stream",
     "text": [
      "Epoch #93: 1025it [00:02, 364.85it/s, env_step=95232, len=11, n/ep=6, n/st=64, player_1/loss=45.650, player_2/loss=1250.633, rew=72.33]\n"
     ]
    },
    {
     "name": "stdout",
     "output_type": "stream",
     "text": [
      "Epoch #93: test_reward: 44.000000 ± 0.000000, best_reward: 779.000000 ± 0.000000 in #51\n"
     ]
    },
    {
     "name": "stderr",
     "output_type": "stream",
     "text": [
      "Epoch #94: 1025it [00:02, 372.68it/s, env_step=96256, len=10, n/ep=6, n/st=64, player_1/loss=159.286, player_2/loss=973.415, rew=66.17]\n"
     ]
    },
    {
     "name": "stdout",
     "output_type": "stream",
     "text": [
      "Epoch #94: test_reward: 27.000000 ± 0.000000, best_reward: 779.000000 ± 0.000000 in #51\n"
     ]
    },
    {
     "name": "stderr",
     "output_type": "stream",
     "text": [
      "Epoch #95: 1025it [00:02, 377.15it/s, env_step=97280, len=8, n/ep=7, n/st=64, player_1/loss=297.840, rew=39.14]       \n"
     ]
    },
    {
     "name": "stdout",
     "output_type": "stream",
     "text": [
      "Epoch #95: test_reward: 27.000000 ± 0.000000, best_reward: 779.000000 ± 0.000000 in #51\n"
     ]
    },
    {
     "name": "stderr",
     "output_type": "stream",
     "text": [
      "Epoch #96: 1025it [00:02, 374.00it/s, env_step=98304, len=11, n/ep=6, n/st=64, player_1/loss=232.962, player_2/loss=1395.279, rew=68.67]\n"
     ]
    },
    {
     "name": "stdout",
     "output_type": "stream",
     "text": [
      "Epoch #96: test_reward: 27.000000 ± 0.000000, best_reward: 779.000000 ± 0.000000 in #51\n"
     ]
    },
    {
     "name": "stderr",
     "output_type": "stream",
     "text": [
      "Epoch #97: 1025it [00:02, 372.75it/s, env_step=99328, len=13, n/ep=5, n/st=64, player_1/loss=33.068, player_2/loss=1796.081, rew=103.00]\n"
     ]
    },
    {
     "name": "stdout",
     "output_type": "stream",
     "text": [
      "Epoch #97: test_reward: 90.000000 ± 0.000000, best_reward: 779.000000 ± 0.000000 in #51\n"
     ]
    },
    {
     "name": "stderr",
     "output_type": "stream",
     "text": [
      "Epoch #98: 1025it [00:02, 381.19it/s, env_step=100352, len=14, n/ep=4, n/st=64, player_1/loss=102.527, player_2/loss=1347.598, rew=116.25]\n"
     ]
    },
    {
     "name": "stdout",
     "output_type": "stream",
     "text": [
      "Epoch #98: test_reward: 152.000000 ± 0.000000, best_reward: 779.000000 ± 0.000000 in #51\n"
     ]
    },
    {
     "name": "stderr",
     "output_type": "stream",
     "text": [
      "Epoch #99: 1025it [00:02, 379.98it/s, env_step=101376, len=15, n/ep=4, n/st=64, player_1/loss=170.525, player_2/loss=813.192, rew=120.00]\n"
     ]
    },
    {
     "name": "stdout",
     "output_type": "stream",
     "text": [
      "Epoch #99: test_reward: 119.000000 ± 0.000000, best_reward: 779.000000 ± 0.000000 in #51\n"
     ]
    },
    {
     "name": "stderr",
     "output_type": "stream",
     "text": [
      "Epoch #100: 1025it [00:02, 378.38it/s, env_step=102400, len=12, n/ep=6, n/st=64, player_1/loss=178.047, player_2/loss=877.366, rew=84.33]\n"
     ]
    },
    {
     "name": "stdout",
     "output_type": "stream",
     "text": [
      "Epoch #100: test_reward: 209.000000 ± 0.000000, best_reward: 779.000000 ± 0.000000 in #51\n"
     ]
    },
    {
     "name": "stderr",
     "output_type": "stream",
     "text": [
      "Epoch #101: 1025it [00:02, 379.87it/s, env_step=103424, len=16, n/ep=4, n/st=64, player_1/loss=221.144, player_2/loss=709.798, rew=146.75]\n"
     ]
    },
    {
     "name": "stdout",
     "output_type": "stream",
     "text": [
      "Epoch #101: test_reward: 44.000000 ± 0.000000, best_reward: 779.000000 ± 0.000000 in #51\n"
     ]
    },
    {
     "name": "stderr",
     "output_type": "stream",
     "text": [
      "Epoch #102: 1025it [00:02, 378.07it/s, env_step=104448, len=13, n/ep=5, n/st=64, player_1/loss=195.452, player_2/loss=1091.977, rew=109.00]\n"
     ]
    },
    {
     "name": "stdout",
     "output_type": "stream",
     "text": [
      "Epoch #102: test_reward: 152.000000 ± 0.000000, best_reward: 779.000000 ± 0.000000 in #51\n"
     ]
    },
    {
     "name": "stderr",
     "output_type": "stream",
     "text": [
      "Epoch #103: 1025it [00:02, 377.04it/s, env_step=105472, len=12, n/ep=6, n/st=64, player_1/loss=127.275, player_2/loss=1066.235, rew=88.67]\n"
     ]
    },
    {
     "name": "stdout",
     "output_type": "stream",
     "text": [
      "Epoch #103: test_reward: 44.000000 ± 0.000000, best_reward: 779.000000 ± 0.000000 in #51\n"
     ]
    },
    {
     "name": "stderr",
     "output_type": "stream",
     "text": [
      "Epoch #104: 1025it [00:02, 375.81it/s, env_step=106496, len=14, n/ep=5, n/st=64, player_1/loss=108.170, player_2/loss=976.034, rew=119.60]\n"
     ]
    },
    {
     "name": "stdout",
     "output_type": "stream",
     "text": [
      "Epoch #104: test_reward: 44.000000 ± 0.000000, best_reward: 779.000000 ± 0.000000 in #51\n"
     ]
    },
    {
     "name": "stderr",
     "output_type": "stream",
     "text": [
      "Epoch #105: 1025it [00:02, 376.39it/s, env_step=107520, len=11, n/ep=6, n/st=64, player_1/loss=143.990, player_2/loss=1040.628, rew=75.17]\n"
     ]
    },
    {
     "name": "stdout",
     "output_type": "stream",
     "text": [
      "Epoch #105: test_reward: 44.000000 ± 0.000000, best_reward: 779.000000 ± 0.000000 in #51\n"
     ]
    },
    {
     "name": "stderr",
     "output_type": "stream",
     "text": [
      "Epoch #106: 1025it [00:02, 375.26it/s, env_step=108544, len=14, n/ep=5, n/st=64, player_1/loss=137.313, player_2/loss=1193.488, rew=126.00]\n"
     ]
    },
    {
     "name": "stdout",
     "output_type": "stream",
     "text": [
      "Epoch #106: test_reward: 44.000000 ± 0.000000, best_reward: 779.000000 ± 0.000000 in #51\n"
     ]
    },
    {
     "name": "stderr",
     "output_type": "stream",
     "text": [
      "Epoch #107: 1025it [00:02, 375.40it/s, env_step=109568, len=12, n/ep=5, n/st=64, player_1/loss=87.185, player_2/loss=1065.940, rew=97.00]\n"
     ]
    },
    {
     "name": "stdout",
     "output_type": "stream",
     "text": [
      "Epoch #107: test_reward: 44.000000 ± 0.000000, best_reward: 779.000000 ± 0.000000 in #51\n"
     ]
    },
    {
     "name": "stderr",
     "output_type": "stream",
     "text": [
      "Epoch #108: 1025it [00:02, 377.82it/s, env_step=110592, len=10, n/ep=5, n/st=64, player_1/loss=86.940, player_2/loss=1181.319, rew=55.60]\n"
     ]
    },
    {
     "name": "stdout",
     "output_type": "stream",
     "text": [
      "Epoch #108: test_reward: 44.000000 ± 0.000000, best_reward: 779.000000 ± 0.000000 in #51\n"
     ]
    },
    {
     "name": "stderr",
     "output_type": "stream",
     "text": [
      "Epoch #109: 1025it [00:02, 379.86it/s, env_step=111616, len=12, n/ep=4, n/st=64, player_1/loss=80.221, player_2/loss=1574.783, rew=87.00]\n"
     ]
    },
    {
     "name": "stdout",
     "output_type": "stream",
     "text": [
      "Epoch #109: test_reward: 44.000000 ± 0.000000, best_reward: 779.000000 ± 0.000000 in #51\n"
     ]
    },
    {
     "name": "stderr",
     "output_type": "stream",
     "text": [
      "Epoch #110: 1025it [00:02, 376.59it/s, env_step=112640, len=11, n/ep=7, n/st=64, player_1/loss=117.817, player_2/loss=1692.199, rew=77.57]\n"
     ]
    },
    {
     "name": "stdout",
     "output_type": "stream",
     "text": [
      "Epoch #110: test_reward: 44.000000 ± 0.000000, best_reward: 779.000000 ± 0.000000 in #51\n"
     ]
    },
    {
     "name": "stderr",
     "output_type": "stream",
     "text": [
      "Epoch #111: 1025it [00:02, 377.65it/s, env_step=113664, len=13, n/ep=5, n/st=64, player_1/loss=169.769, player_2/loss=1401.337, rew=107.80]\n"
     ]
    },
    {
     "name": "stdout",
     "output_type": "stream",
     "text": [
      "Epoch #111: test_reward: 44.000000 ± 0.000000, best_reward: 779.000000 ± 0.000000 in #51\n"
     ]
    },
    {
     "name": "stderr",
     "output_type": "stream",
     "text": [
      "Epoch #112: 1025it [00:02, 379.03it/s, env_step=114688, len=13, n/ep=4, n/st=64, player_1/loss=111.740, player_2/loss=999.900, rew=98.00]\n"
     ]
    },
    {
     "name": "stdout",
     "output_type": "stream",
     "text": [
      "Epoch #112: test_reward: 44.000000 ± 0.000000, best_reward: 779.000000 ± 0.000000 in #51\n"
     ]
    },
    {
     "name": "stderr",
     "output_type": "stream",
     "text": [
      "Epoch #113: 1025it [00:02, 374.99it/s, env_step=115712, len=11, n/ep=5, n/st=64, player_1/loss=80.745, player_2/loss=1027.234, rew=74.80]\n"
     ]
    },
    {
     "name": "stdout",
     "output_type": "stream",
     "text": [
      "Epoch #113: test_reward: 104.000000 ± 0.000000, best_reward: 779.000000 ± 0.000000 in #51\n"
     ]
    },
    {
     "name": "stderr",
     "output_type": "stream",
     "text": [
      "Epoch #114: 1025it [00:02, 376.81it/s, env_step=116736, len=10, n/ep=4, n/st=64, player_1/loss=103.013, player_2/loss=787.197, rew=59.00]\n"
     ]
    },
    {
     "name": "stdout",
     "output_type": "stream",
     "text": [
      "Epoch #114: test_reward: 44.000000 ± 0.000000, best_reward: 779.000000 ± 0.000000 in #51\n"
     ]
    },
    {
     "name": "stderr",
     "output_type": "stream",
     "text": [
      "Epoch #115: 1025it [00:02, 377.27it/s, env_step=117760, len=18, n/ep=4, n/st=64, player_1/loss=153.482, player_2/loss=775.446, rew=224.25]\n"
     ]
    },
    {
     "name": "stdout",
     "output_type": "stream",
     "text": [
      "Epoch #115: test_reward: 252.000000 ± 0.000000, best_reward: 779.000000 ± 0.000000 in #51\n"
     ]
    },
    {
     "name": "stderr",
     "output_type": "stream",
     "text": [
      "Epoch #116: 1025it [00:02, 380.20it/s, env_step=118784, len=16, n/ep=4, n/st=64, player_2/loss=796.275, rew=153.75]   \n"
     ]
    },
    {
     "name": "stdout",
     "output_type": "stream",
     "text": [
      "Epoch #116: test_reward: 90.000000 ± 0.000000, best_reward: 779.000000 ± 0.000000 in #51\n"
     ]
    },
    {
     "name": "stderr",
     "output_type": "stream",
     "text": [
      "Epoch #117: 1025it [00:02, 377.76it/s, env_step=119808, len=8, n/ep=7, n/st=64, player_1/loss=101.676, player_2/loss=1190.899, rew=39.71]\n"
     ]
    },
    {
     "name": "stdout",
     "output_type": "stream",
     "text": [
      "Epoch #117: test_reward: 350.000000 ± 0.000000, best_reward: 779.000000 ± 0.000000 in #51\n"
     ]
    },
    {
     "name": "stderr",
     "output_type": "stream",
     "text": [
      "Epoch #118: 1025it [00:02, 372.05it/s, env_step=120832, len=11, n/ep=6, n/st=64, player_1/loss=73.615, player_2/loss=1212.277, rew=69.83]\n"
     ]
    },
    {
     "name": "stdout",
     "output_type": "stream",
     "text": [
      "Epoch #118: test_reward: 44.000000 ± 0.000000, best_reward: 779.000000 ± 0.000000 in #51\n"
     ]
    },
    {
     "name": "stderr",
     "output_type": "stream",
     "text": [
      "Epoch #119: 1025it [00:02, 378.05it/s, env_step=121856, len=8, n/ep=8, n/st=64, player_1/loss=73.031, player_2/loss=1056.953, rew=37.62]\n"
     ]
    },
    {
     "name": "stdout",
     "output_type": "stream",
     "text": [
      "Epoch #119: test_reward: 27.000000 ± 0.000000, best_reward: 779.000000 ± 0.000000 in #51\n"
     ]
    },
    {
     "name": "stderr",
     "output_type": "stream",
     "text": [
      "Epoch #120: 1025it [00:02, 377.27it/s, env_step=122880, len=13, n/ep=4, n/st=64, player_1/loss=108.595, player_2/loss=851.171, rew=105.50]\n"
     ]
    },
    {
     "name": "stdout",
     "output_type": "stream",
     "text": [
      "Epoch #120: test_reward: 65.000000 ± 0.000000, best_reward: 779.000000 ± 0.000000 in #51\n"
     ]
    },
    {
     "name": "stderr",
     "output_type": "stream",
     "text": [
      "Epoch #121: 1025it [00:02, 376.28it/s, env_step=123904, len=23, n/ep=3, n/st=64, player_1/loss=225.922, player_2/loss=943.149, rew=291.33]\n"
     ]
    },
    {
     "name": "stdout",
     "output_type": "stream",
     "text": [
      "Epoch #121: test_reward: 135.000000 ± 0.000000, best_reward: 779.000000 ± 0.000000 in #51\n"
     ]
    },
    {
     "name": "stderr",
     "output_type": "stream",
     "text": [
      "Epoch #122: 1025it [00:02, 377.93it/s, env_step=124928, len=14, n/ep=4, n/st=64, player_1/loss=204.567, player_2/loss=1122.901, rew=111.75]\n"
     ]
    },
    {
     "name": "stdout",
     "output_type": "stream",
     "text": [
      "Epoch #122: test_reward: 350.000000 ± 0.000000, best_reward: 779.000000 ± 0.000000 in #51\n"
     ]
    },
    {
     "name": "stderr",
     "output_type": "stream",
     "text": [
      "Epoch #123: 1025it [00:02, 378.15it/s, env_step=125952, len=15, n/ep=5, n/st=64, player_1/loss=187.871, player_2/loss=1203.770, rew=139.40]\n"
     ]
    },
    {
     "name": "stdout",
     "output_type": "stream",
     "text": [
      "Epoch #123: test_reward: 65.000000 ± 0.000000, best_reward: 779.000000 ± 0.000000 in #51\n"
     ]
    },
    {
     "name": "stderr",
     "output_type": "stream",
     "text": [
      "Epoch #124: 1025it [00:02, 378.71it/s, env_step=126976, len=19, n/ep=3, n/st=64, player_1/loss=362.224, player_2/loss=727.483, rew=294.33]\n"
     ]
    },
    {
     "name": "stdout",
     "output_type": "stream",
     "text": [
      "Epoch #124: test_reward: 27.000000 ± 0.000000, best_reward: 779.000000 ± 0.000000 in #51\n"
     ]
    },
    {
     "name": "stderr",
     "output_type": "stream",
     "text": [
      "Epoch #125: 1025it [00:02, 375.95it/s, env_step=128000, len=28, n/ep=2, n/st=64, player_1/loss=294.054, player_2/loss=436.160, rew=419.50]\n"
     ]
    },
    {
     "name": "stdout",
     "output_type": "stream",
     "text": [
      "Epoch #125: test_reward: 740.000000 ± 0.000000, best_reward: 779.000000 ± 0.000000 in #51\n"
     ]
    },
    {
     "name": "stderr",
     "output_type": "stream",
     "text": [
      "Epoch #126: 1025it [00:02, 377.02it/s, env_step=129024, len=9, n/ep=7, n/st=64, player_1/loss=305.929, player_2/loss=1066.021, rew=51.71]\n"
     ]
    },
    {
     "name": "stdout",
     "output_type": "stream",
     "text": [
      "Epoch #126: test_reward: 27.000000 ± 0.000000, best_reward: 779.000000 ± 0.000000 in #51\n"
     ]
    },
    {
     "name": "stderr",
     "output_type": "stream",
     "text": [
      "Epoch #127: 1025it [00:02, 378.21it/s, env_step=130048, len=16, n/ep=4, n/st=64, player_1/loss=256.404, player_2/loss=1456.962, rew=219.00]\n"
     ]
    },
    {
     "name": "stdout",
     "output_type": "stream",
     "text": [
      "Epoch #127: test_reward: 44.000000 ± 0.000000, best_reward: 779.000000 ± 0.000000 in #51\n"
     ]
    },
    {
     "name": "stderr",
     "output_type": "stream",
     "text": [
      "Epoch #128: 1025it [00:02, 374.83it/s, env_step=131072, len=7, n/ep=7, n/st=64, player_1/loss=100.363, player_2/loss=1227.500, rew=31.86]\n"
     ]
    },
    {
     "name": "stdout",
     "output_type": "stream",
     "text": [
      "Epoch #128: test_reward: 27.000000 ± 0.000000, best_reward: 779.000000 ± 0.000000 in #51\n"
     ]
    },
    {
     "name": "stderr",
     "output_type": "stream",
     "text": [
      "Epoch #129: 1025it [00:02, 374.20it/s, env_step=132096, len=8, n/ep=7, n/st=64, player_1/loss=138.146, player_2/loss=890.103, rew=44.71]\n"
     ]
    },
    {
     "name": "stdout",
     "output_type": "stream",
     "text": [
      "Epoch #129: test_reward: 27.000000 ± 0.000000, best_reward: 779.000000 ± 0.000000 in #51\n"
     ]
    },
    {
     "name": "stderr",
     "output_type": "stream",
     "text": [
      "Epoch #130: 1025it [00:02, 378.89it/s, env_step=133120, len=15, n/ep=2, n/st=64, player_1/loss=154.595, player_2/loss=1199.217, rew=128.00]\n"
     ]
    },
    {
     "name": "stdout",
     "output_type": "stream",
     "text": [
      "Epoch #130: test_reward: 740.000000 ± 0.000000, best_reward: 779.000000 ± 0.000000 in #51\n"
     ]
    },
    {
     "name": "stderr",
     "output_type": "stream",
     "text": [
      "Epoch #131: 1025it [00:02, 381.36it/s, env_step=134144, len=15, n/ep=3, n/st=64, player_1/loss=104.295, player_2/loss=790.673, rew=204.67]\n"
     ]
    },
    {
     "name": "stdout",
     "output_type": "stream",
     "text": [
      "Epoch #131: test_reward: 27.000000 ± 0.000000, best_reward: 779.000000 ± 0.000000 in #51\n"
     ]
    },
    {
     "name": "stderr",
     "output_type": "stream",
     "text": [
      "Epoch #132: 1025it [00:02, 376.80it/s, env_step=135168, len=9, n/ep=7, n/st=64, player_1/loss=140.577, rew=46.29]     \n"
     ]
    },
    {
     "name": "stdout",
     "output_type": "stream",
     "text": [
      "Epoch #132: test_reward: 27.000000 ± 0.000000, best_reward: 779.000000 ± 0.000000 in #51\n"
     ]
    },
    {
     "name": "stderr",
     "output_type": "stream",
     "text": [
      "Epoch #133: 1025it [00:02, 378.22it/s, env_step=136192, len=14, n/ep=4, n/st=64, player_1/loss=103.896, player_2/loss=1075.984, rew=108.00]\n"
     ]
    },
    {
     "name": "stdout",
     "output_type": "stream",
     "text": [
      "Epoch #133: test_reward: 90.000000 ± 0.000000, best_reward: 779.000000 ± 0.000000 in #51\n"
     ]
    },
    {
     "name": "stderr",
     "output_type": "stream",
     "text": [
      "Epoch #134: 1025it [00:02, 367.88it/s, env_step=137216, len=8, n/ep=7, n/st=64, player_1/loss=38.077, player_2/loss=1222.637, rew=37.86]\n"
     ]
    },
    {
     "name": "stdout",
     "output_type": "stream",
     "text": [
      "Epoch #134: test_reward: 27.000000 ± 0.000000, best_reward: 779.000000 ± 0.000000 in #51\n"
     ]
    },
    {
     "name": "stderr",
     "output_type": "stream",
     "text": [
      "Epoch #135: 1025it [00:02, 376.66it/s, env_step=138240, len=14, n/ep=4, n/st=64, player_1/loss=232.010, player_2/loss=1127.055, rew=110.75]\n"
     ]
    },
    {
     "name": "stdout",
     "output_type": "stream",
     "text": [
      "Epoch #135: test_reward: 44.000000 ± 0.000000, best_reward: 779.000000 ± 0.000000 in #51\n"
     ]
    },
    {
     "name": "stderr",
     "output_type": "stream",
     "text": [
      "Epoch #136: 1025it [00:02, 377.49it/s, env_step=139264, len=11, n/ep=5, n/st=64, player_1/loss=446.985, rew=78.80]    \n"
     ]
    },
    {
     "name": "stdout",
     "output_type": "stream",
     "text": [
      "Epoch #136: test_reward: 44.000000 ± 0.000000, best_reward: 779.000000 ± 0.000000 in #51\n"
     ]
    },
    {
     "name": "stderr",
     "output_type": "stream",
     "text": [
      "Epoch #137: 1025it [00:02, 379.16it/s, env_step=140288, len=11, n/ep=5, n/st=64, player_1/loss=362.101, player_2/loss=505.319, rew=83.60]\n"
     ]
    },
    {
     "name": "stdout",
     "output_type": "stream",
     "text": [
      "Epoch #137: test_reward: 44.000000 ± 0.000000, best_reward: 779.000000 ± 0.000000 in #51\n"
     ]
    },
    {
     "name": "stderr",
     "output_type": "stream",
     "text": [
      "Epoch #138: 1025it [00:02, 377.90it/s, env_step=141312, len=18, n/ep=3, n/st=64, player_1/loss=281.178, player_2/loss=855.446, rew=191.33]\n"
     ]
    },
    {
     "name": "stdout",
     "output_type": "stream",
     "text": [
      "Epoch #138: test_reward: 44.000000 ± 0.000000, best_reward: 779.000000 ± 0.000000 in #51\n"
     ]
    },
    {
     "name": "stderr",
     "output_type": "stream",
     "text": [
      "Epoch #139: 1025it [00:02, 382.15it/s, env_step=142336, len=11, n/ep=5, n/st=64, player_1/loss=361.669, player_2/loss=1354.982, rew=66.60]\n"
     ]
    },
    {
     "name": "stdout",
     "output_type": "stream",
     "text": [
      "Epoch #139: test_reward: 44.000000 ± 0.000000, best_reward: 779.000000 ± 0.000000 in #51\n"
     ]
    },
    {
     "name": "stderr",
     "output_type": "stream",
     "text": [
      "Epoch #140: 1025it [00:02, 376.61it/s, env_step=143360, len=12, n/ep=5, n/st=64, player_1/loss=285.967, player_2/loss=1066.056, rew=85.40]\n"
     ]
    },
    {
     "name": "stdout",
     "output_type": "stream",
     "text": [
      "Epoch #140: test_reward: 189.000000 ± 0.000000, best_reward: 779.000000 ± 0.000000 in #51\n"
     ]
    },
    {
     "name": "stderr",
     "output_type": "stream",
     "text": [
      "Epoch #141: 1025it [00:02, 377.15it/s, env_step=144384, len=9, n/ep=8, n/st=64, player_1/loss=156.240, player_2/loss=898.908, rew=47.75]\n"
     ]
    },
    {
     "name": "stdout",
     "output_type": "stream",
     "text": [
      "Epoch #141: test_reward: 27.000000 ± 0.000000, best_reward: 779.000000 ± 0.000000 in #51\n"
     ]
    },
    {
     "name": "stderr",
     "output_type": "stream",
     "text": [
      "Epoch #142: 1025it [00:02, 376.19it/s, env_step=145408, len=9, n/ep=7, n/st=64, player_1/loss=114.862, player_2/loss=782.754, rew=57.86]\n"
     ]
    },
    {
     "name": "stdout",
     "output_type": "stream",
     "text": [
      "Epoch #142: test_reward: 27.000000 ± 0.000000, best_reward: 779.000000 ± 0.000000 in #51\n"
     ]
    },
    {
     "name": "stderr",
     "output_type": "stream",
     "text": [
      "Epoch #143: 1025it [00:02, 373.63it/s, env_step=146432, len=10, n/ep=6, n/st=64, player_1/loss=119.357, player_2/loss=1070.778, rew=75.17]\n"
     ]
    },
    {
     "name": "stdout",
     "output_type": "stream",
     "text": [
      "Epoch #143: test_reward: 27.000000 ± 0.000000, best_reward: 779.000000 ± 0.000000 in #51\n"
     ]
    },
    {
     "name": "stderr",
     "output_type": "stream",
     "text": [
      "Epoch #144: 1025it [00:02, 378.21it/s, env_step=147456, len=9, n/ep=6, n/st=64, player_1/loss=119.045, player_2/loss=1031.706, rew=47.33]\n"
     ]
    },
    {
     "name": "stdout",
     "output_type": "stream",
     "text": [
      "Epoch #144: test_reward: 27.000000 ± 0.000000, best_reward: 779.000000 ± 0.000000 in #51\n"
     ]
    },
    {
     "name": "stderr",
     "output_type": "stream",
     "text": [
      "Epoch #145: 1025it [00:02, 377.14it/s, env_step=148480, len=9, n/ep=7, n/st=64, player_1/loss=68.252, player_2/loss=1028.409, rew=46.29]\n"
     ]
    },
    {
     "name": "stdout",
     "output_type": "stream",
     "text": [
      "Epoch #145: test_reward: 27.000000 ± 0.000000, best_reward: 779.000000 ± 0.000000 in #51\n"
     ]
    },
    {
     "name": "stderr",
     "output_type": "stream",
     "text": [
      "Epoch #146: 1025it [00:02, 377.85it/s, env_step=149504, len=13, n/ep=5, n/st=64, player_1/loss=59.073, player_2/loss=1156.081, rew=98.80]\n"
     ]
    },
    {
     "name": "stdout",
     "output_type": "stream",
     "text": [
      "Epoch #146: test_reward: 27.000000 ± 0.000000, best_reward: 779.000000 ± 0.000000 in #51\n"
     ]
    },
    {
     "name": "stderr",
     "output_type": "stream",
     "text": [
      "Epoch #147: 1025it [00:02, 376.16it/s, env_step=150528, len=11, n/ep=6, n/st=64, player_1/loss=72.075, player_2/loss=1315.061, rew=74.50]\n"
     ]
    },
    {
     "name": "stdout",
     "output_type": "stream",
     "text": [
      "Epoch #147: test_reward: 44.000000 ± 0.000000, best_reward: 779.000000 ± 0.000000 in #51\n"
     ]
    },
    {
     "name": "stderr",
     "output_type": "stream",
     "text": [
      "Epoch #148: 1025it [00:02, 378.13it/s, env_step=151552, len=12, n/ep=6, n/st=64, player_1/loss=63.456, player_2/loss=1245.572, rew=100.50]\n"
     ]
    },
    {
     "name": "stdout",
     "output_type": "stream",
     "text": [
      "Epoch #148: test_reward: 44.000000 ± 0.000000, best_reward: 779.000000 ± 0.000000 in #51\n"
     ]
    },
    {
     "name": "stderr",
     "output_type": "stream",
     "text": [
      "Epoch #149: 1025it [00:02, 375.42it/s, env_step=152576, len=14, n/ep=5, n/st=64, player_1/loss=170.141, player_2/loss=1122.009, rew=104.80]\n"
     ]
    },
    {
     "name": "stdout",
     "output_type": "stream",
     "text": [
      "Epoch #149: test_reward: 119.000000 ± 0.000000, best_reward: 779.000000 ± 0.000000 in #51\n"
     ]
    },
    {
     "name": "stderr",
     "output_type": "stream",
     "text": [
      "Epoch #150: 1025it [00:02, 373.38it/s, env_step=153600, len=11, n/ep=5, n/st=64, player_1/loss=156.332, player_2/loss=634.816, rew=75.80]\n"
     ]
    },
    {
     "name": "stdout",
     "output_type": "stream",
     "text": [
      "Epoch #150: test_reward: 27.000000 ± 0.000000, best_reward: 779.000000 ± 0.000000 in #51\n"
     ]
    },
    {
     "name": "stderr",
     "output_type": "stream",
     "text": [
      "Epoch #151: 1025it [00:02, 377.42it/s, env_step=154624, len=9, n/ep=6, n/st=64, player_1/loss=77.844, player_2/loss=841.655, rew=50.67]\n"
     ]
    },
    {
     "name": "stdout",
     "output_type": "stream",
     "text": [
      "Epoch #151: test_reward: 44.000000 ± 0.000000, best_reward: 779.000000 ± 0.000000 in #51\n"
     ]
    },
    {
     "name": "stderr",
     "output_type": "stream",
     "text": [
      "Epoch #152: 1025it [00:02, 373.83it/s, env_step=155648, len=11, n/ep=6, n/st=64, player_1/loss=40.734, player_2/loss=1183.626, rew=86.33]\n"
     ]
    },
    {
     "name": "stdout",
     "output_type": "stream",
     "text": [
      "Epoch #152: test_reward: 27.000000 ± 0.000000, best_reward: 779.000000 ± 0.000000 in #51\n"
     ]
    },
    {
     "name": "stderr",
     "output_type": "stream",
     "text": [
      "Epoch #153: 1025it [00:02, 374.98it/s, env_step=156672, len=9, n/ep=7, n/st=64, player_1/loss=33.981, player_2/loss=1171.537, rew=52.29]\n"
     ]
    },
    {
     "name": "stdout",
     "output_type": "stream",
     "text": [
      "Epoch #153: test_reward: 27.000000 ± 0.000000, best_reward: 779.000000 ± 0.000000 in #51\n"
     ]
    },
    {
     "name": "stderr",
     "output_type": "stream",
     "text": [
      "Epoch #154: 1025it [00:02, 377.91it/s, env_step=157696, len=9, n/ep=6, n/st=64, player_1/loss=37.136, player_2/loss=1254.565, rew=52.33]\n"
     ]
    },
    {
     "name": "stdout",
     "output_type": "stream",
     "text": [
      "Epoch #154: test_reward: 44.000000 ± 0.000000, best_reward: 779.000000 ± 0.000000 in #51\n"
     ]
    },
    {
     "name": "stderr",
     "output_type": "stream",
     "text": [
      "Epoch #155: 1025it [00:02, 378.00it/s, env_step=158720, len=7, n/ep=8, n/st=64, player_1/loss=15.676, player_2/loss=1273.501, rew=33.38]\n"
     ]
    },
    {
     "name": "stdout",
     "output_type": "stream",
     "text": [
      "Epoch #155: test_reward: 27.000000 ± 0.000000, best_reward: 779.000000 ± 0.000000 in #51\n"
     ]
    },
    {
     "name": "stderr",
     "output_type": "stream",
     "text": [
      "Epoch #156: 1025it [00:02, 377.85it/s, env_step=159744, len=8, n/ep=7, n/st=64, player_1/loss=15.580, player_2/loss=981.820, rew=42.14]\n"
     ]
    },
    {
     "name": "stdout",
     "output_type": "stream",
     "text": [
      "Epoch #156: test_reward: 27.000000 ± 0.000000, best_reward: 779.000000 ± 0.000000 in #51\n"
     ]
    },
    {
     "name": "stderr",
     "output_type": "stream",
     "text": [
      "Epoch #157: 1025it [00:02, 390.13it/s, env_step=160768, len=8, n/ep=8, n/st=64, player_1/loss=50.468, player_2/loss=1178.738, rew=42.62]\n"
     ]
    },
    {
     "name": "stdout",
     "output_type": "stream",
     "text": [
      "Epoch #157: test_reward: 27.000000 ± 0.000000, best_reward: 779.000000 ± 0.000000 in #51\n"
     ]
    },
    {
     "name": "stderr",
     "output_type": "stream",
     "text": [
      "Epoch #158: 1025it [00:02, 393.97it/s, env_step=161792, len=12, n/ep=5, n/st=64, player_1/loss=74.186, player_2/loss=1262.000, rew=91.40]\n"
     ]
    },
    {
     "name": "stdout",
     "output_type": "stream",
     "text": [
      "Epoch #158: test_reward: 189.000000 ± 0.000000, best_reward: 779.000000 ± 0.000000 in #51\n"
     ]
    },
    {
     "name": "stderr",
     "output_type": "stream",
     "text": [
      "Epoch #159: 1025it [00:02, 389.08it/s, env_step=162816, len=15, n/ep=4, n/st=64, player_1/loss=86.556, player_2/loss=1114.238, rew=127.25]\n"
     ]
    },
    {
     "name": "stdout",
     "output_type": "stream",
     "text": [
      "Epoch #159: test_reward: 44.000000 ± 0.000000, best_reward: 779.000000 ± 0.000000 in #51\n"
     ]
    },
    {
     "name": "stderr",
     "output_type": "stream",
     "text": [
      "Epoch #160: 1025it [00:02, 390.80it/s, env_step=163840, len=13, n/ep=5, n/st=64, player_1/loss=98.127, player_2/loss=1263.567, rew=112.20]\n"
     ]
    },
    {
     "name": "stdout",
     "output_type": "stream",
     "text": [
      "Epoch #160: test_reward: 44.000000 ± 0.000000, best_reward: 779.000000 ± 0.000000 in #51\n"
     ]
    },
    {
     "name": "stderr",
     "output_type": "stream",
     "text": [
      "Epoch #161: 1025it [00:02, 389.24it/s, env_step=164864, len=14, n/ep=5, n/st=64, player_1/loss=84.279, player_2/loss=1000.516, rew=121.00]\n"
     ]
    },
    {
     "name": "stdout",
     "output_type": "stream",
     "text": [
      "Epoch #161: test_reward: 44.000000 ± 0.000000, best_reward: 779.000000 ± 0.000000 in #51\n"
     ]
    },
    {
     "name": "stderr",
     "output_type": "stream",
     "text": [
      "Epoch #162: 1025it [00:02, 381.03it/s, env_step=165888, len=13, n/ep=5, n/st=64, player_1/loss=79.926, player_2/loss=1273.655, rew=98.00]\n"
     ]
    },
    {
     "name": "stdout",
     "output_type": "stream",
     "text": [
      "Epoch #162: test_reward: 90.000000 ± 0.000000, best_reward: 779.000000 ± 0.000000 in #51\n"
     ]
    },
    {
     "name": "stderr",
     "output_type": "stream",
     "text": [
      "Epoch #163: 1025it [00:02, 373.96it/s, env_step=166912, len=11, n/ep=4, n/st=64, player_1/loss=151.157, player_2/loss=1267.445, rew=78.00]\n"
     ]
    },
    {
     "name": "stdout",
     "output_type": "stream",
     "text": [
      "Epoch #163: test_reward: 170.000000 ± 0.000000, best_reward: 779.000000 ± 0.000000 in #51\n"
     ]
    },
    {
     "name": "stderr",
     "output_type": "stream",
     "text": [
      "Epoch #164: 1025it [00:02, 375.06it/s, env_step=167936, len=13, n/ep=4, n/st=64, player_1/loss=320.305, player_2/loss=1014.290, rew=119.25]\n"
     ]
    },
    {
     "name": "stdout",
     "output_type": "stream",
     "text": [
      "Epoch #164: test_reward: 740.000000 ± 0.000000, best_reward: 779.000000 ± 0.000000 in #51\n"
     ]
    },
    {
     "name": "stderr",
     "output_type": "stream",
     "text": [
      "Epoch #165: 1025it [00:02, 374.81it/s, env_step=168960, len=20, n/ep=3, n/st=64, player_1/loss=402.863, player_2/loss=916.887, rew=224.33]\n"
     ]
    },
    {
     "name": "stdout",
     "output_type": "stream",
     "text": [
      "Epoch #165: test_reward: 189.000000 ± 0.000000, best_reward: 779.000000 ± 0.000000 in #51\n"
     ]
    },
    {
     "name": "stderr",
     "output_type": "stream",
     "text": [
      "Epoch #166: 1025it [00:02, 378.15it/s, env_step=169984, len=18, n/ep=4, n/st=64, player_1/loss=269.604, player_2/loss=603.494, rew=234.75]\n"
     ]
    },
    {
     "name": "stdout",
     "output_type": "stream",
     "text": [
      "Epoch #166: test_reward: 434.000000 ± 0.000000, best_reward: 779.000000 ± 0.000000 in #51\n"
     ]
    },
    {
     "name": "stderr",
     "output_type": "stream",
     "text": [
      "Epoch #167: 1025it [00:02, 374.96it/s, env_step=171008, len=13, n/ep=5, n/st=64, player_1/loss=257.187, player_2/loss=945.624, rew=94.80]\n"
     ]
    },
    {
     "name": "stdout",
     "output_type": "stream",
     "text": [
      "Epoch #167: test_reward: 65.000000 ± 0.000000, best_reward: 779.000000 ± 0.000000 in #51\n"
     ]
    },
    {
     "name": "stderr",
     "output_type": "stream",
     "text": [
      "Epoch #168: 1025it [00:02, 376.91it/s, env_step=172032, len=21, n/ep=3, n/st=64, player_1/loss=181.626, player_2/loss=1080.760, rew=261.00]\n"
     ]
    },
    {
     "name": "stdout",
     "output_type": "stream",
     "text": [
      "Epoch #168: test_reward: 77.000000 ± 0.000000, best_reward: 779.000000 ± 0.000000 in #51\n"
     ]
    },
    {
     "name": "stderr",
     "output_type": "stream",
     "text": [
      "Epoch #169: 1025it [00:02, 371.98it/s, env_step=173056, len=17, n/ep=4, n/st=64, player_1/loss=163.508, player_2/loss=946.109, rew=167.00]\n"
     ]
    },
    {
     "name": "stdout",
     "output_type": "stream",
     "text": [
      "Epoch #169: test_reward: 495.000000 ± 0.000000, best_reward: 779.000000 ± 0.000000 in #51\n"
     ]
    },
    {
     "name": "stderr",
     "output_type": "stream",
     "text": [
      "Epoch #170: 1025it [00:02, 377.33it/s, env_step=174080, len=9, n/ep=7, n/st=64, player_1/loss=237.010, player_2/loss=516.210, rew=50.00]\n"
     ]
    },
    {
     "name": "stdout",
     "output_type": "stream",
     "text": [
      "Epoch #170: test_reward: 135.000000 ± 0.000000, best_reward: 779.000000 ± 0.000000 in #51\n"
     ]
    },
    {
     "name": "stderr",
     "output_type": "stream",
     "text": [
      "Epoch #171: 1025it [00:02, 373.41it/s, env_step=175104, len=31, n/ep=2, n/st=64, player_1/loss=430.560, rew=512.00]   \n"
     ]
    },
    {
     "name": "stdout",
     "output_type": "stream",
     "text": [
      "Epoch #171: test_reward: 27.000000 ± 0.000000, best_reward: 779.000000 ± 0.000000 in #51\n"
     ]
    },
    {
     "name": "stderr",
     "output_type": "stream",
     "text": [
      "Epoch #172: 1025it [00:02, 379.04it/s, env_step=176128, len=36, n/ep=2, n/st=64, player_1/loss=330.557, player_2/loss=878.130, rew=665.50]\n"
     ]
    },
    {
     "name": "stdout",
     "output_type": "stream",
     "text": [
      "Epoch #172: test_reward: 90.000000 ± 0.000000, best_reward: 779.000000 ± 0.000000 in #51\n"
     ]
    },
    {
     "name": "stderr",
     "output_type": "stream",
     "text": [
      "Epoch #173: 1025it [00:02, 378.48it/s, env_step=177152, len=31, n/ep=2, n/st=64, player_1/loss=157.902, player_2/loss=869.047, rew=539.00]\n"
     ]
    },
    {
     "name": "stdout",
     "output_type": "stream",
     "text": [
      "Epoch #173: test_reward: 189.000000 ± 0.000000, best_reward: 779.000000 ± 0.000000 in #51\n"
     ]
    },
    {
     "name": "stderr",
     "output_type": "stream",
     "text": [
      "Epoch #174: 1025it [00:02, 377.61it/s, env_step=178176, len=19, n/ep=4, n/st=64, player_1/loss=376.156, player_2/loss=389.449, rew=285.25]\n"
     ]
    },
    {
     "name": "stdout",
     "output_type": "stream",
     "text": [
      "Epoch #174: test_reward: 77.000000 ± 0.000000, best_reward: 779.000000 ± 0.000000 in #51\n"
     ]
    },
    {
     "name": "stderr",
     "output_type": "stream",
     "text": [
      "Epoch #175: 1025it [00:02, 377.01it/s, env_step=179200, len=10, n/ep=7, n/st=64, player_1/loss=287.491, player_2/loss=644.914, rew=69.71]\n"
     ]
    },
    {
     "name": "stdout",
     "output_type": "stream",
     "text": [
      "Epoch #175: test_reward: 27.000000 ± 0.000000, best_reward: 779.000000 ± 0.000000 in #51\n"
     ]
    },
    {
     "name": "stderr",
     "output_type": "stream",
     "text": [
      "Epoch #176: 1025it [00:02, 380.30it/s, env_step=180224, len=11, n/ep=6, n/st=64, player_1/loss=201.134, player_2/loss=1100.316, rew=79.17]\n"
     ]
    },
    {
     "name": "stdout",
     "output_type": "stream",
     "text": [
      "Epoch #176: test_reward: 27.000000 ± 0.000000, best_reward: 779.000000 ± 0.000000 in #51\n"
     ]
    },
    {
     "name": "stderr",
     "output_type": "stream",
     "text": [
      "Epoch #177: 1025it [00:02, 378.98it/s, env_step=181248, len=18, n/ep=4, n/st=64, player_1/loss=223.271, player_2/loss=964.412, rew=211.25]\n"
     ]
    },
    {
     "name": "stdout",
     "output_type": "stream",
     "text": [
      "Epoch #177: test_reward: 90.000000 ± 0.000000, best_reward: 779.000000 ± 0.000000 in #51\n"
     ]
    },
    {
     "name": "stderr",
     "output_type": "stream",
     "text": [
      "Epoch #178: 1025it [00:02, 375.75it/s, env_step=182272, len=11, n/ep=5, n/st=64, player_1/loss=80.405, player_2/loss=886.033, rew=75.00]\n"
     ]
    },
    {
     "name": "stdout",
     "output_type": "stream",
     "text": [
      "Epoch #178: test_reward: 65.000000 ± 0.000000, best_reward: 779.000000 ± 0.000000 in #51\n"
     ]
    },
    {
     "name": "stderr",
     "output_type": "stream",
     "text": [
      "Epoch #179: 1025it [00:02, 378.34it/s, env_step=183296, len=12, n/ep=5, n/st=64, player_1/loss=77.250, player_2/loss=962.402, rew=86.00]\n"
     ]
    },
    {
     "name": "stdout",
     "output_type": "stream",
     "text": [
      "Epoch #179: test_reward: 65.000000 ± 0.000000, best_reward: 779.000000 ± 0.000000 in #51\n"
     ]
    },
    {
     "name": "stderr",
     "output_type": "stream",
     "text": [
      "Epoch #180: 1025it [00:02, 374.89it/s, env_step=184320, len=7, n/ep=5, n/st=64, player_1/loss=227.576, player_2/loss=947.407, rew=30.40]\n"
     ]
    },
    {
     "name": "stdout",
     "output_type": "stream",
     "text": [
      "Epoch #180: test_reward: 27.000000 ± 0.000000, best_reward: 779.000000 ± 0.000000 in #51\n"
     ]
    },
    {
     "name": "stderr",
     "output_type": "stream",
     "text": [
      "Epoch #181: 1025it [00:02, 376.95it/s, env_step=185344, len=7, n/ep=8, n/st=64, player_1/loss=269.169, player_2/loss=788.056, rew=33.38]\n"
     ]
    },
    {
     "name": "stdout",
     "output_type": "stream",
     "text": [
      "Epoch #181: test_reward: 27.000000 ± 0.000000, best_reward: 779.000000 ± 0.000000 in #51\n"
     ]
    },
    {
     "name": "stderr",
     "output_type": "stream",
     "text": [
      "Epoch #182: 1025it [00:02, 377.62it/s, env_step=186368, len=14, n/ep=4, n/st=64, player_1/loss=205.433, player_2/loss=877.909, rew=111.75]\n"
     ]
    },
    {
     "name": "stdout",
     "output_type": "stream",
     "text": [
      "Epoch #182: test_reward: 252.000000 ± 0.000000, best_reward: 779.000000 ± 0.000000 in #51\n"
     ]
    },
    {
     "name": "stderr",
     "output_type": "stream",
     "text": [
      "Epoch #183: 1025it [00:02, 378.44it/s, env_step=187392, len=17, n/ep=4, n/st=64, player_1/loss=334.889, player_2/loss=771.841, rew=181.00]\n"
     ]
    },
    {
     "name": "stdout",
     "output_type": "stream",
     "text": [
      "Epoch #183: test_reward: 527.000000 ± 0.000000, best_reward: 779.000000 ± 0.000000 in #51\n"
     ]
    },
    {
     "name": "stderr",
     "output_type": "stream",
     "text": [
      "Epoch #184: 1025it [00:02, 377.43it/s, env_step=188416, len=8, n/ep=7, n/st=64, player_1/loss=336.664, player_2/loss=903.481, rew=39.71]\n"
     ]
    },
    {
     "name": "stdout",
     "output_type": "stream",
     "text": [
      "Epoch #184: test_reward: 27.000000 ± 0.000000, best_reward: 779.000000 ± 0.000000 in #51\n"
     ]
    },
    {
     "name": "stderr",
     "output_type": "stream",
     "text": [
      "Epoch #185: 1025it [00:02, 369.53it/s, env_step=189440, len=18, n/ep=3, n/st=64, player_1/loss=388.832, player_2/loss=1328.911, rew=201.67]\n"
     ]
    },
    {
     "name": "stdout",
     "output_type": "stream",
     "text": [
      "Epoch #185: test_reward: 252.000000 ± 0.000000, best_reward: 779.000000 ± 0.000000 in #51\n"
     ]
    },
    {
     "name": "stderr",
     "output_type": "stream",
     "text": [
      "Epoch #186: 1025it [00:02, 374.07it/s, env_step=190464, len=38, n/ep=1, n/st=64, player_1/loss=561.182, player_2/loss=911.446, rew=740.00]\n"
     ]
    },
    {
     "name": "stdout",
     "output_type": "stream",
     "text": [
      "Epoch #186: test_reward: 740.000000 ± 0.000000, best_reward: 779.000000 ± 0.000000 in #51\n"
     ]
    },
    {
     "name": "stderr",
     "output_type": "stream",
     "text": [
      "Epoch #187: 1025it [00:02, 376.19it/s, env_step=191488, len=9, n/ep=7, n/st=64, player_1/loss=321.336, player_2/loss=627.773, rew=48.71]\n"
     ]
    },
    {
     "name": "stdout",
     "output_type": "stream",
     "text": [
      "Epoch #187: test_reward: 27.000000 ± 0.000000, best_reward: 779.000000 ± 0.000000 in #51\n"
     ]
    },
    {
     "name": "stderr",
     "output_type": "stream",
     "text": [
      "Epoch #188: 1025it [00:02, 377.19it/s, env_step=192512, len=20, n/ep=3, n/st=64, player_1/loss=243.174, player_2/loss=857.603, rew=230.67]\n"
     ]
    },
    {
     "name": "stdout",
     "output_type": "stream",
     "text": [
      "Epoch #188: test_reward: 90.000000 ± 0.000000, best_reward: 779.000000 ± 0.000000 in #51\n"
     ]
    },
    {
     "name": "stderr",
     "output_type": "stream",
     "text": [
      "Epoch #189: 1025it [00:02, 377.15it/s, env_step=193536, len=20, n/ep=4, n/st=64, player_1/loss=124.304, player_2/loss=771.800, rew=274.50]\n"
     ]
    },
    {
     "name": "stdout",
     "output_type": "stream",
     "text": [
      "Epoch #189: test_reward: 252.000000 ± 0.000000, best_reward: 779.000000 ± 0.000000 in #51\n"
     ]
    },
    {
     "name": "stderr",
     "output_type": "stream",
     "text": [
      "Epoch #190: 1025it [00:02, 378.30it/s, env_step=194560, len=20, n/ep=4, n/st=64, player_1/loss=271.643, player_2/loss=572.734, rew=295.50]\n"
     ]
    },
    {
     "name": "stdout",
     "output_type": "stream",
     "text": [
      "Epoch #190: test_reward: 779.000000 ± 0.000000, best_reward: 779.000000 ± 0.000000 in #51\n"
     ]
    },
    {
     "name": "stderr",
     "output_type": "stream",
     "text": [
      "Epoch #191: 1025it [00:02, 378.81it/s, env_step=195584, len=17, n/ep=4, n/st=64, player_1/loss=437.517, player_2/loss=624.245, rew=207.00]\n"
     ]
    },
    {
     "name": "stdout",
     "output_type": "stream",
     "text": [
      "Epoch #191: test_reward: 27.000000 ± 0.000000, best_reward: 779.000000 ± 0.000000 in #51\n"
     ]
    },
    {
     "name": "stderr",
     "output_type": "stream",
     "text": [
      "Epoch #192: 1025it [00:02, 375.25it/s, env_step=196608, len=16, n/ep=4, n/st=64, player_1/loss=344.074, player_2/loss=529.561, rew=166.25]\n"
     ]
    },
    {
     "name": "stdout",
     "output_type": "stream",
     "text": [
      "Epoch #192: test_reward: 44.000000 ± 0.000000, best_reward: 779.000000 ± 0.000000 in #51\n"
     ]
    },
    {
     "name": "stderr",
     "output_type": "stream",
     "text": [
      "Epoch #193: 1025it [00:02, 377.43it/s, env_step=197632, len=24, n/ep=3, n/st=64, player_1/loss=353.817, player_2/loss=580.121, rew=372.00]\n"
     ]
    },
    {
     "name": "stdout",
     "output_type": "stream",
     "text": [
      "Epoch #193: test_reward: 819.000000 ± 0.000000, best_reward: 819.000000 ± 0.000000 in #193\n"
     ]
    },
    {
     "name": "stderr",
     "output_type": "stream",
     "text": [
      "Epoch #194: 1025it [00:02, 375.97it/s, env_step=198656, len=19, n/ep=3, n/st=64, player_1/loss=369.706, player_2/loss=798.484, rew=294.33]\n"
     ]
    },
    {
     "name": "stdout",
     "output_type": "stream",
     "text": [
      "Epoch #194: test_reward: 27.000000 ± 0.000000, best_reward: 819.000000 ± 0.000000 in #193\n"
     ]
    },
    {
     "name": "stderr",
     "output_type": "stream",
     "text": [
      "Epoch #195: 1025it [00:02, 377.31it/s, env_step=199680, len=10, n/ep=9, n/st=64, player_1/loss=429.605, player_2/loss=784.604, rew=110.00]\n"
     ]
    },
    {
     "name": "stdout",
     "output_type": "stream",
     "text": [
      "Epoch #195: test_reward: 27.000000 ± 0.000000, best_reward: 819.000000 ± 0.000000 in #193\n"
     ]
    },
    {
     "name": "stderr",
     "output_type": "stream",
     "text": [
      "Epoch #196: 1025it [00:02, 378.57it/s, env_step=200704, len=15, n/ep=4, n/st=64, player_1/loss=422.125, player_2/loss=649.042, rew=131.00]\n"
     ]
    },
    {
     "name": "stdout",
     "output_type": "stream",
     "text": [
      "Epoch #196: test_reward: 44.000000 ± 0.000000, best_reward: 819.000000 ± 0.000000 in #193\n"
     ]
    },
    {
     "name": "stderr",
     "output_type": "stream",
     "text": [
      "Epoch #197: 1025it [00:02, 378.89it/s, env_step=201728, len=21, n/ep=3, n/st=64, player_1/loss=243.681, player_2/loss=634.437, rew=278.00]\n"
     ]
    },
    {
     "name": "stdout",
     "output_type": "stream",
     "text": [
      "Epoch #197: test_reward: 740.000000 ± 0.000000, best_reward: 819.000000 ± 0.000000 in #193\n"
     ]
    },
    {
     "name": "stderr",
     "output_type": "stream",
     "text": [
      "Epoch #198: 1025it [00:02, 379.01it/s, env_step=202752, len=31, n/ep=2, n/st=64, player_1/loss=320.101, player_2/loss=814.176, rew=519.50]\n"
     ]
    },
    {
     "name": "stdout",
     "output_type": "stream",
     "text": [
      "Epoch #198: test_reward: 702.000000 ± 0.000000, best_reward: 819.000000 ± 0.000000 in #193\n"
     ]
    },
    {
     "name": "stderr",
     "output_type": "stream",
     "text": [
      "Epoch #199: 1025it [00:02, 375.60it/s, env_step=203776, len=24, n/ep=3, n/st=64, player_1/loss=498.873, player_2/loss=627.984, rew=370.67]\n"
     ]
    },
    {
     "name": "stdout",
     "output_type": "stream",
     "text": [
      "Epoch #199: test_reward: 65.000000 ± 0.000000, best_reward: 819.000000 ± 0.000000 in #193\n"
     ]
    },
    {
     "name": "stderr",
     "output_type": "stream",
     "text": [
      "Epoch #200: 1025it [00:02, 377.74it/s, env_step=204800, len=11, n/ep=6, n/st=64, player_1/loss=427.480, player_2/loss=1109.025, rew=76.67]\n"
     ]
    },
    {
     "name": "stdout",
     "output_type": "stream",
     "text": [
      "Epoch #200: test_reward: 77.000000 ± 0.000000, best_reward: 819.000000 ± 0.000000 in #193\n"
     ]
    },
    {
     "name": "stderr",
     "output_type": "stream",
     "text": [
      "Epoch #201: 1025it [00:02, 378.27it/s, env_step=205824, len=36, n/ep=2, n/st=64, player_1/loss=275.331, player_2/loss=1113.922, rew=684.50]\n"
     ]
    },
    {
     "name": "stdout",
     "output_type": "stream",
     "text": [
      "Epoch #201: test_reward: 65.000000 ± 0.000000, best_reward: 819.000000 ± 0.000000 in #193\n"
     ]
    },
    {
     "name": "stderr",
     "output_type": "stream",
     "text": [
      "Epoch #202: 1025it [00:02, 376.61it/s, env_step=206848, len=15, n/ep=3, n/st=64, player_1/loss=379.261, player_2/loss=766.917, rew=129.67]\n"
     ]
    },
    {
     "name": "stdout",
     "output_type": "stream",
     "text": [
      "Epoch #202: test_reward: 90.000000 ± 0.000000, best_reward: 819.000000 ± 0.000000 in #193\n"
     ]
    },
    {
     "name": "stderr",
     "output_type": "stream",
     "text": [
      "Epoch #203: 1025it [00:02, 380.20it/s, env_step=207872, len=15, n/ep=4, n/st=64, player_1/loss=434.403, player_2/loss=564.755, rew=134.75]\n"
     ]
    },
    {
     "name": "stdout",
     "output_type": "stream",
     "text": [
      "Epoch #203: test_reward: 44.000000 ± 0.000000, best_reward: 819.000000 ± 0.000000 in #193\n"
     ]
    },
    {
     "name": "stderr",
     "output_type": "stream",
     "text": [
      "Epoch #204: 1025it [00:02, 377.07it/s, env_step=208896, len=22, n/ep=4, n/st=64, player_1/loss=458.583, player_2/loss=618.189, rew=284.25]\n"
     ]
    },
    {
     "name": "stdout",
     "output_type": "stream",
     "text": [
      "Epoch #204: test_reward: 252.000000 ± 0.000000, best_reward: 819.000000 ± 0.000000 in #193\n"
     ]
    },
    {
     "name": "stderr",
     "output_type": "stream",
     "text": [
      "Epoch #205: 1025it [00:02, 376.77it/s, env_step=209920, len=20, n/ep=3, n/st=64, player_1/loss=696.919, player_2/loss=630.953, rew=298.33]\n"
     ]
    },
    {
     "name": "stdout",
     "output_type": "stream",
     "text": [
      "Epoch #205: test_reward: 90.000000 ± 0.000000, best_reward: 819.000000 ± 0.000000 in #193\n"
     ]
    },
    {
     "name": "stderr",
     "output_type": "stream",
     "text": [
      "Epoch #206: 1025it [00:02, 377.69it/s, env_step=210944, len=8, n/ep=8, n/st=64, player_1/loss=495.808, rew=40.88]     \n"
     ]
    },
    {
     "name": "stdout",
     "output_type": "stream",
     "text": [
      "Epoch #206: test_reward: 65.000000 ± 0.000000, best_reward: 819.000000 ± 0.000000 in #193\n"
     ]
    },
    {
     "name": "stderr",
     "output_type": "stream",
     "text": [
      "Epoch #207: 1025it [00:02, 378.09it/s, env_step=211968, len=12, n/ep=3, n/st=64, player_1/loss=277.289, player_2/loss=1060.326, rew=79.33]\n"
     ]
    },
    {
     "name": "stdout",
     "output_type": "stream",
     "text": [
      "Epoch #207: test_reward: 44.000000 ± 0.000000, best_reward: 819.000000 ± 0.000000 in #193\n"
     ]
    },
    {
     "name": "stderr",
     "output_type": "stream",
     "text": [
      "Epoch #208: 1025it [00:02, 379.57it/s, env_step=212992, len=31, n/ep=2, n/st=64, player_1/loss=291.792, player_2/loss=844.565, rew=555.50]\n"
     ]
    },
    {
     "name": "stdout",
     "output_type": "stream",
     "text": [
      "Epoch #208: test_reward: 44.000000 ± 0.000000, best_reward: 819.000000 ± 0.000000 in #193\n"
     ]
    },
    {
     "name": "stderr",
     "output_type": "stream",
     "text": [
      "Epoch #209: 1025it [00:02, 379.62it/s, env_step=214016, len=31, n/ep=2, n/st=64, player_1/loss=243.970, player_2/loss=750.164, rew=495.50]\n"
     ]
    },
    {
     "name": "stdout",
     "output_type": "stream",
     "text": [
      "Epoch #209: test_reward: 252.000000 ± 0.000000, best_reward: 819.000000 ± 0.000000 in #193\n"
     ]
    },
    {
     "name": "stderr",
     "output_type": "stream",
     "text": [
      "Epoch #210: 1025it [00:02, 377.46it/s, env_step=215040, len=16, n/ep=6, n/st=64, player_1/loss=401.662, player_2/loss=745.721, rew=193.00]\n"
     ]
    },
    {
     "name": "stdout",
     "output_type": "stream",
     "text": [
      "Epoch #210: test_reward: 299.000000 ± 0.000000, best_reward: 819.000000 ± 0.000000 in #193\n"
     ]
    },
    {
     "name": "stderr",
     "output_type": "stream",
     "text": [
      "Epoch #211: 1025it [00:02, 378.77it/s, env_step=216064, len=24, n/ep=3, n/st=64, player_1/loss=433.249, player_2/loss=700.474, rew=316.33]\n"
     ]
    },
    {
     "name": "stdout",
     "output_type": "stream",
     "text": [
      "Epoch #211: test_reward: 252.000000 ± 0.000000, best_reward: 819.000000 ± 0.000000 in #193\n"
     ]
    },
    {
     "name": "stderr",
     "output_type": "stream",
     "text": [
      "Epoch #212: 1025it [00:02, 377.19it/s, env_step=217088, len=15, n/ep=4, n/st=64, player_1/loss=351.702, player_2/loss=645.462, rew=145.50]\n"
     ]
    },
    {
     "name": "stdout",
     "output_type": "stream",
     "text": [
      "Epoch #212: test_reward: 44.000000 ± 0.000000, best_reward: 819.000000 ± 0.000000 in #193\n"
     ]
    },
    {
     "name": "stderr",
     "output_type": "stream",
     "text": [
      "Epoch #213: 1025it [00:02, 377.50it/s, env_step=218112, len=15, n/ep=4, n/st=64, player_1/loss=447.359, player_2/loss=585.864, rew=133.50]\n"
     ]
    },
    {
     "name": "stdout",
     "output_type": "stream",
     "text": [
      "Epoch #213: test_reward: 740.000000 ± 0.000000, best_reward: 819.000000 ± 0.000000 in #193\n"
     ]
    },
    {
     "name": "stderr",
     "output_type": "stream",
     "text": [
      "Epoch #214: 1025it [00:02, 377.39it/s, env_step=219136, len=16, n/ep=4, n/st=64, player_1/loss=366.264, player_2/loss=599.647, rew=162.50]\n"
     ]
    },
    {
     "name": "stdout",
     "output_type": "stream",
     "text": [
      "Epoch #214: test_reward: 252.000000 ± 0.000000, best_reward: 819.000000 ± 0.000000 in #193\n"
     ]
    },
    {
     "name": "stderr",
     "output_type": "stream",
     "text": [
      "Epoch #215: 1025it [00:02, 378.94it/s, env_step=220160, len=18, n/ep=4, n/st=64, player_1/loss=337.606, player_2/loss=557.003, rew=216.00]\n"
     ]
    },
    {
     "name": "stdout",
     "output_type": "stream",
     "text": [
      "Epoch #215: test_reward: 65.000000 ± 0.000000, best_reward: 819.000000 ± 0.000000 in #193\n"
     ]
    },
    {
     "name": "stderr",
     "output_type": "stream",
     "text": [
      "Epoch #216: 1025it [00:02, 378.49it/s, env_step=221184, len=19, n/ep=4, n/st=64, player_1/loss=299.954, player_2/loss=1162.681, rew=241.00]\n"
     ]
    },
    {
     "name": "stdout",
     "output_type": "stream",
     "text": [
      "Epoch #216: test_reward: 65.000000 ± 0.000000, best_reward: 819.000000 ± 0.000000 in #193\n"
     ]
    },
    {
     "name": "stderr",
     "output_type": "stream",
     "text": [
      "Epoch #217: 1025it [00:02, 379.06it/s, env_step=222208, len=18, n/ep=5, n/st=64, player_1/loss=153.722, player_2/loss=1078.459, rew=234.40]\n"
     ]
    },
    {
     "name": "stdout",
     "output_type": "stream",
     "text": [
      "Epoch #217: test_reward: 702.000000 ± 0.000000, best_reward: 819.000000 ± 0.000000 in #193\n"
     ]
    },
    {
     "name": "stderr",
     "output_type": "stream",
     "text": [
      "Epoch #218: 1025it [00:02, 380.04it/s, env_step=223232, len=37, n/ep=2, n/st=64, player_2/loss=651.613, rew=721.00]   \n"
     ]
    },
    {
     "name": "stdout",
     "output_type": "stream",
     "text": [
      "Epoch #218: test_reward: 702.000000 ± 0.000000, best_reward: 819.000000 ± 0.000000 in #193\n"
     ]
    },
    {
     "name": "stderr",
     "output_type": "stream",
     "text": [
      "Epoch #219: 1025it [00:02, 378.10it/s, env_step=224256, len=20, n/ep=2, n/st=64, player_1/loss=298.175, player_2/loss=452.017, rew=221.50]\n"
     ]
    },
    {
     "name": "stdout",
     "output_type": "stream",
     "text": [
      "Epoch #219: test_reward: 90.000000 ± 0.000000, best_reward: 819.000000 ± 0.000000 in #193\n"
     ]
    },
    {
     "name": "stderr",
     "output_type": "stream",
     "text": [
      "Epoch #220: 1025it [00:02, 376.25it/s, env_step=225280, len=16, n/ep=4, n/st=64, player_1/loss=403.190, player_2/loss=545.038, rew=172.75]\n"
     ]
    },
    {
     "name": "stdout",
     "output_type": "stream",
     "text": [
      "Epoch #220: test_reward: 135.000000 ± 0.000000, best_reward: 819.000000 ± 0.000000 in #193\n"
     ]
    },
    {
     "name": "stderr",
     "output_type": "stream",
     "text": [
      "Epoch #221: 1025it [00:02, 376.90it/s, env_step=226304, len=37, n/ep=2, n/st=64, player_1/loss=297.912, player_2/loss=691.813, rew=721.00]\n"
     ]
    },
    {
     "name": "stdout",
     "output_type": "stream",
     "text": [
      "Epoch #221: test_reward: 527.000000 ± 0.000000, best_reward: 819.000000 ± 0.000000 in #193\n"
     ]
    },
    {
     "name": "stderr",
     "output_type": "stream",
     "text": [
      "Epoch #222: 1025it [00:02, 375.22it/s, env_step=227328, len=17, n/ep=4, n/st=64, player_1/loss=358.213, player_2/loss=761.013, rew=174.25]\n"
     ]
    },
    {
     "name": "stdout",
     "output_type": "stream",
     "text": [
      "Epoch #222: test_reward: 740.000000 ± 0.000000, best_reward: 819.000000 ± 0.000000 in #193\n"
     ]
    },
    {
     "name": "stderr",
     "output_type": "stream",
     "text": [
      "Epoch #223: 1025it [00:02, 379.14it/s, env_step=228352, len=27, n/ep=2, n/st=64, player_1/loss=306.514, player_2/loss=514.108, rew=417.50]\n"
     ]
    },
    {
     "name": "stdout",
     "output_type": "stream",
     "text": [
      "Epoch #223: test_reward: 702.000000 ± 0.000000, best_reward: 819.000000 ± 0.000000 in #193\n"
     ]
    },
    {
     "name": "stderr",
     "output_type": "stream",
     "text": [
      "Epoch #224: 1025it [00:02, 377.97it/s, env_step=229376, len=11, n/ep=5, n/st=64, player_1/loss=291.586, player_2/loss=661.497, rew=101.60]\n"
     ]
    },
    {
     "name": "stdout",
     "output_type": "stream",
     "text": [
      "Epoch #224: test_reward: 27.000000 ± 0.000000, best_reward: 819.000000 ± 0.000000 in #193\n"
     ]
    },
    {
     "name": "stderr",
     "output_type": "stream",
     "text": [
      "Epoch #225: 1025it [00:02, 375.38it/s, env_step=230400, len=38, n/ep=1, n/st=64, player_1/loss=340.531, player_2/loss=413.543, rew=740.00]\n"
     ]
    },
    {
     "name": "stdout",
     "output_type": "stream",
     "text": [
      "Epoch #225: test_reward: 702.000000 ± 0.000000, best_reward: 819.000000 ± 0.000000 in #193\n"
     ]
    },
    {
     "name": "stderr",
     "output_type": "stream",
     "text": [
      "Epoch #226: 1025it [00:02, 374.87it/s, env_step=231424, len=12, n/ep=6, n/st=64, player_1/loss=444.219, player_2/loss=386.868, rew=102.00]\n"
     ]
    },
    {
     "name": "stdout",
     "output_type": "stream",
     "text": [
      "Epoch #226: test_reward: 779.000000 ± 0.000000, best_reward: 819.000000 ± 0.000000 in #193\n"
     ]
    },
    {
     "name": "stderr",
     "output_type": "stream",
     "text": [
      "Epoch #227: 1025it [00:02, 376.70it/s, env_step=232448, len=20, n/ep=4, n/st=64, player_1/loss=619.289, player_2/loss=574.324, rew=245.50]\n"
     ]
    },
    {
     "name": "stdout",
     "output_type": "stream",
     "text": [
      "Epoch #227: test_reward: 27.000000 ± 0.000000, best_reward: 819.000000 ± 0.000000 in #193\n"
     ]
    },
    {
     "name": "stderr",
     "output_type": "stream",
     "text": [
      "Epoch #228: 1025it [00:02, 380.80it/s, env_step=233472, len=16, n/ep=4, n/st=64, player_1/loss=449.216, player_2/loss=738.475, rew=160.50]\n"
     ]
    },
    {
     "name": "stdout",
     "output_type": "stream",
     "text": [
      "Epoch #228: test_reward: 324.000000 ± 0.000000, best_reward: 819.000000 ± 0.000000 in #193\n"
     ]
    },
    {
     "name": "stderr",
     "output_type": "stream",
     "text": [
      "Epoch #229: 1025it [00:02, 374.49it/s, env_step=234496, len=19, n/ep=4, n/st=64, player_1/loss=597.188, player_2/loss=623.971, rew=246.50]\n"
     ]
    },
    {
     "name": "stdout",
     "output_type": "stream",
     "text": [
      "Epoch #229: test_reward: 740.000000 ± 0.000000, best_reward: 819.000000 ± 0.000000 in #193\n"
     ]
    },
    {
     "name": "stderr",
     "output_type": "stream",
     "text": [
      "Epoch #230: 1025it [00:02, 377.14it/s, env_step=235520, len=17, n/ep=3, n/st=64, player_1/loss=686.283, player_2/loss=621.872, rew=212.00]\n"
     ]
    },
    {
     "name": "stdout",
     "output_type": "stream",
     "text": [
      "Epoch #230: test_reward: 740.000000 ± 0.000000, best_reward: 819.000000 ± 0.000000 in #193\n"
     ]
    },
    {
     "name": "stderr",
     "output_type": "stream",
     "text": [
      "Epoch #231: 1025it [00:02, 377.37it/s, env_step=236544, len=36, n/ep=2, n/st=64, player_1/loss=630.785, player_2/loss=633.776, rew=673.00]\n"
     ]
    },
    {
     "name": "stdout",
     "output_type": "stream",
     "text": [
      "Epoch #231: test_reward: 702.000000 ± 0.000000, best_reward: 819.000000 ± 0.000000 in #193\n"
     ]
    },
    {
     "name": "stderr",
     "output_type": "stream",
     "text": [
      "Epoch #232: 1025it [00:02, 376.53it/s, env_step=237568, len=17, n/ep=3, n/st=64, player_1/loss=773.459, player_2/loss=826.568, rew=277.67]\n"
     ]
    },
    {
     "name": "stdout",
     "output_type": "stream",
     "text": [
      "Epoch #232: test_reward: 27.000000 ± 0.000000, best_reward: 819.000000 ± 0.000000 in #193\n"
     ]
    },
    {
     "name": "stderr",
     "output_type": "stream",
     "text": [
      "Epoch #233: 1025it [00:02, 380.90it/s, env_step=238592, len=32, n/ep=2, n/st=64, player_1/loss=793.502, player_2/loss=735.550, rew=559.00]\n"
     ]
    },
    {
     "name": "stdout",
     "output_type": "stream",
     "text": [
      "Epoch #233: test_reward: 527.000000 ± 0.000000, best_reward: 819.000000 ± 0.000000 in #193\n"
     ]
    },
    {
     "name": "stderr",
     "output_type": "stream",
     "text": [
      "Epoch #234: 1025it [00:02, 377.54it/s, env_step=239616, len=15, n/ep=3, n/st=64, player_1/loss=496.301, player_2/loss=736.499, rew=193.67]\n"
     ]
    },
    {
     "name": "stdout",
     "output_type": "stream",
     "text": [
      "Epoch #234: test_reward: 27.000000 ± 0.000000, best_reward: 819.000000 ± 0.000000 in #193\n"
     ]
    },
    {
     "name": "stderr",
     "output_type": "stream",
     "text": [
      "Epoch #235: 1025it [00:02, 375.42it/s, env_step=240640, len=16, n/ep=5, n/st=64, player_1/loss=432.174, player_2/loss=1130.651, rew=204.60]\n"
     ]
    },
    {
     "name": "stdout",
     "output_type": "stream",
     "text": [
      "Epoch #235: test_reward: 27.000000 ± 0.000000, best_reward: 819.000000 ± 0.000000 in #193\n"
     ]
    },
    {
     "name": "stderr",
     "output_type": "stream",
     "text": [
      "Epoch #236: 1025it [00:02, 375.41it/s, env_step=241664, len=13, n/ep=4, n/st=64, player_1/loss=603.471, player_2/loss=860.052, rew=101.00]\n"
     ]
    },
    {
     "name": "stdout",
     "output_type": "stream",
     "text": [
      "Epoch #236: test_reward: 90.000000 ± 0.000000, best_reward: 819.000000 ± 0.000000 in #193\n"
     ]
    },
    {
     "name": "stderr",
     "output_type": "stream",
     "text": [
      "Epoch #237: 1025it [00:02, 374.29it/s, env_step=242688, len=19, n/ep=3, n/st=64, player_1/loss=472.418, player_2/loss=785.216, rew=197.67]\n"
     ]
    },
    {
     "name": "stdout",
     "output_type": "stream",
     "text": [
      "Epoch #237: test_reward: 119.000000 ± 0.000000, best_reward: 819.000000 ± 0.000000 in #193\n"
     ]
    },
    {
     "name": "stderr",
     "output_type": "stream",
     "text": [
      "Epoch #238: 1025it [00:02, 376.38it/s, env_step=243712, len=12, n/ep=5, n/st=64, player_1/loss=435.745, player_2/loss=611.806, rew=81.40]\n"
     ]
    },
    {
     "name": "stdout",
     "output_type": "stream",
     "text": [
      "Epoch #238: test_reward: 90.000000 ± 0.000000, best_reward: 819.000000 ± 0.000000 in #193\n"
     ]
    },
    {
     "name": "stderr",
     "output_type": "stream",
     "text": [
      "Epoch #239: 1025it [00:02, 378.70it/s, env_step=244736, len=30, n/ep=2, n/st=64, player_1/loss=407.957, player_2/loss=503.037, rew=496.00]\n"
     ]
    },
    {
     "name": "stdout",
     "output_type": "stream",
     "text": [
      "Epoch #239: test_reward: 90.000000 ± 0.000000, best_reward: 819.000000 ± 0.000000 in #193\n"
     ]
    },
    {
     "name": "stderr",
     "output_type": "stream",
     "text": [
      "Epoch #240: 1025it [00:02, 377.97it/s, env_step=245760, len=13, n/ep=5, n/st=64, player_1/loss=263.765, player_2/loss=404.456, rew=105.60]\n"
     ]
    },
    {
     "name": "stdout",
     "output_type": "stream",
     "text": [
      "Epoch #240: test_reward: 90.000000 ± 0.000000, best_reward: 819.000000 ± 0.000000 in #193\n"
     ]
    },
    {
     "name": "stderr",
     "output_type": "stream",
     "text": [
      "Epoch #241: 1025it [00:02, 374.66it/s, env_step=246784, len=13, n/ep=5, n/st=64, player_1/loss=249.362, player_2/loss=844.523, rew=93.60]\n"
     ]
    },
    {
     "name": "stdout",
     "output_type": "stream",
     "text": [
      "Epoch #241: test_reward: 27.000000 ± 0.000000, best_reward: 819.000000 ± 0.000000 in #193\n"
     ]
    },
    {
     "name": "stderr",
     "output_type": "stream",
     "text": [
      "Epoch #242: 1025it [00:02, 374.28it/s, env_step=247808, len=27, n/ep=2, n/st=64, player_1/loss=551.798, player_2/loss=828.357, rew=379.00]\n"
     ]
    },
    {
     "name": "stdout",
     "output_type": "stream",
     "text": [
      "Epoch #242: test_reward: 44.000000 ± 0.000000, best_reward: 819.000000 ± 0.000000 in #193\n"
     ]
    },
    {
     "name": "stderr",
     "output_type": "stream",
     "text": [
      "Epoch #243: 1025it [00:02, 375.77it/s, env_step=248832, len=16, n/ep=5, n/st=64, player_1/loss=827.164, player_2/loss=923.485, rew=186.80]\n"
     ]
    },
    {
     "name": "stdout",
     "output_type": "stream",
     "text": [
      "Epoch #243: test_reward: 495.000000 ± 0.000000, best_reward: 819.000000 ± 0.000000 in #193\n"
     ]
    },
    {
     "name": "stderr",
     "output_type": "stream",
     "text": [
      "Epoch #244: 1025it [00:02, 391.91it/s, env_step=249856, len=17, n/ep=4, n/st=64, player_1/loss=631.300, player_2/loss=633.632, rew=314.75]\n"
     ]
    },
    {
     "name": "stdout",
     "output_type": "stream",
     "text": [
      "Epoch #244: test_reward: 65.000000 ± 0.000000, best_reward: 819.000000 ± 0.000000 in #193\n"
     ]
    },
    {
     "name": "stderr",
     "output_type": "stream",
     "text": [
      "Epoch #245: 1025it [00:02, 375.23it/s, env_step=250880, len=17, n/ep=4, n/st=64, player_1/loss=539.870, player_2/loss=853.364, rew=173.00]\n"
     ]
    },
    {
     "name": "stdout",
     "output_type": "stream",
     "text": [
      "Epoch #245: test_reward: 54.000000 ± 0.000000, best_reward: 819.000000 ± 0.000000 in #193\n"
     ]
    },
    {
     "name": "stderr",
     "output_type": "stream",
     "text": [
      "Epoch #246: 1025it [00:02, 376.44it/s, env_step=251904, len=28, n/ep=2, n/st=64, player_1/loss=522.420, player_2/loss=687.496, rew=464.50]\n"
     ]
    },
    {
     "name": "stdout",
     "output_type": "stream",
     "text": [
      "Epoch #246: test_reward: 135.000000 ± 0.000000, best_reward: 819.000000 ± 0.000000 in #193\n"
     ]
    },
    {
     "name": "stderr",
     "output_type": "stream",
     "text": [
      "Epoch #247: 1025it [00:02, 378.21it/s, env_step=252928, len=30, n/ep=2, n/st=64, player_1/loss=568.220, player_2/loss=496.365, rew=504.50]\n"
     ]
    },
    {
     "name": "stdout",
     "output_type": "stream",
     "text": [
      "Epoch #247: test_reward: 170.000000 ± 0.000000, best_reward: 819.000000 ± 0.000000 in #193\n"
     ]
    },
    {
     "name": "stderr",
     "output_type": "stream",
     "text": [
      "Epoch #248: 1025it [00:02, 378.26it/s, env_step=253952, len=15, n/ep=3, n/st=64, player_1/loss=498.660, player_2/loss=465.331, rew=155.00]\n"
     ]
    },
    {
     "name": "stdout",
     "output_type": "stream",
     "text": [
      "Epoch #248: test_reward: 740.000000 ± 0.000000, best_reward: 819.000000 ± 0.000000 in #193\n"
     ]
    },
    {
     "name": "stderr",
     "output_type": "stream",
     "text": [
      "Epoch #249: 1025it [00:02, 379.87it/s, env_step=254976, len=36, n/ep=2, n/st=64, player_1/loss=393.355, player_2/loss=395.863, rew=686.50]\n"
     ]
    },
    {
     "name": "stdout",
     "output_type": "stream",
     "text": [
      "Epoch #249: test_reward: 702.000000 ± 0.000000, best_reward: 819.000000 ± 0.000000 in #193\n"
     ]
    },
    {
     "name": "stderr",
     "output_type": "stream",
     "text": [
      "Epoch #250: 1025it [00:02, 376.99it/s, env_step=256000, len=28, n/ep=2, n/st=64, player_1/loss=286.543, player_2/loss=440.141, rew=422.50]\n"
     ]
    },
    {
     "name": "stdout",
     "output_type": "stream",
     "text": [
      "Epoch #250: test_reward: 702.000000 ± 0.000000, best_reward: 819.000000 ± 0.000000 in #193\n"
     ]
    },
    {
     "name": "stderr",
     "output_type": "stream",
     "text": [
      "Epoch #251: 1025it [00:02, 375.78it/s, env_step=257024, len=30, n/ep=3, n/st=64, player_1/loss=358.107, player_2/loss=360.104, rew=486.33]\n"
     ]
    },
    {
     "name": "stdout",
     "output_type": "stream",
     "text": [
      "Epoch #251: test_reward: 702.000000 ± 0.000000, best_reward: 819.000000 ± 0.000000 in #193\n"
     ]
    },
    {
     "name": "stderr",
     "output_type": "stream",
     "text": [
      "Epoch #252: 1025it [00:02, 374.09it/s, env_step=258048, len=15, n/ep=4, n/st=64, player_1/loss=561.907, player_2/loss=479.624, rew=158.25]\n"
     ]
    },
    {
     "name": "stdout",
     "output_type": "stream",
     "text": [
      "Epoch #252: test_reward: 740.000000 ± 0.000000, best_reward: 819.000000 ± 0.000000 in #193\n"
     ]
    },
    {
     "name": "stderr",
     "output_type": "stream",
     "text": [
      "Epoch #253: 1025it [00:02, 375.64it/s, env_step=259072, len=21, n/ep=2, n/st=64, player_1/loss=317.157, player_2/loss=445.232, rew=296.00]\n"
     ]
    },
    {
     "name": "stdout",
     "output_type": "stream",
     "text": [
      "Epoch #253: test_reward: 740.000000 ± 0.000000, best_reward: 819.000000 ± 0.000000 in #193\n"
     ]
    },
    {
     "name": "stderr",
     "output_type": "stream",
     "text": [
      "Epoch #254: 1025it [00:02, 376.81it/s, env_step=260096, len=33, n/ep=2, n/st=64, player_1/loss=277.392, player_2/loss=559.798, rew=583.00]\n"
     ]
    },
    {
     "name": "stdout",
     "output_type": "stream",
     "text": [
      "Epoch #254: test_reward: 90.000000 ± 0.000000, best_reward: 819.000000 ± 0.000000 in #193\n"
     ]
    },
    {
     "name": "stderr",
     "output_type": "stream",
     "text": [
      "Epoch #255: 1025it [00:02, 379.66it/s, env_step=261120, len=14, n/ep=3, n/st=64, player_1/loss=395.508, player_2/loss=638.456, rew=118.00]\n"
     ]
    },
    {
     "name": "stdout",
     "output_type": "stream",
     "text": [
      "Epoch #255: test_reward: 405.000000 ± 0.000000, best_reward: 819.000000 ± 0.000000 in #193\n"
     ]
    },
    {
     "name": "stderr",
     "output_type": "stream",
     "text": [
      "Epoch #256: 1025it [00:02, 377.36it/s, env_step=262144, len=25, n/ep=3, n/st=64, player_1/loss=414.802, player_2/loss=473.856, rew=423.33]\n"
     ]
    },
    {
     "name": "stdout",
     "output_type": "stream",
     "text": [
      "Epoch #256: test_reward: 252.000000 ± 0.000000, best_reward: 819.000000 ± 0.000000 in #193\n"
     ]
    },
    {
     "name": "stderr",
     "output_type": "stream",
     "text": [
      "Epoch #257: 1025it [00:02, 373.86it/s, env_step=263168, len=22, n/ep=4, n/st=64, player_1/loss=464.216, player_2/loss=601.864, rew=277.50]\n"
     ]
    },
    {
     "name": "stdout",
     "output_type": "stream",
     "text": [
      "Epoch #257: test_reward: 90.000000 ± 0.000000, best_reward: 819.000000 ± 0.000000 in #193\n"
     ]
    },
    {
     "name": "stderr",
     "output_type": "stream",
     "text": [
      "Epoch #258: 1025it [00:02, 378.87it/s, env_step=264192, len=18, n/ep=3, n/st=64, player_1/loss=468.944, player_2/loss=854.007, rew=195.00]\n"
     ]
    },
    {
     "name": "stdout",
     "output_type": "stream",
     "text": [
      "Epoch #258: test_reward: 275.000000 ± 0.000000, best_reward: 819.000000 ± 0.000000 in #193\n"
     ]
    },
    {
     "name": "stderr",
     "output_type": "stream",
     "text": [
      "Epoch #259: 1025it [00:02, 377.86it/s, env_step=265216, len=11, n/ep=6, n/st=64, player_1/loss=396.100, player_2/loss=707.874, rew=76.33]\n"
     ]
    },
    {
     "name": "stdout",
     "output_type": "stream",
     "text": [
      "Epoch #259: test_reward: 44.000000 ± 0.000000, best_reward: 819.000000 ± 0.000000 in #193\n"
     ]
    },
    {
     "name": "stderr",
     "output_type": "stream",
     "text": [
      "Epoch #260: 1025it [00:02, 373.32it/s, env_step=266240, len=14, n/ep=4, n/st=64, player_1/loss=464.117, player_2/loss=482.210, rew=127.75]\n"
     ]
    },
    {
     "name": "stdout",
     "output_type": "stream",
     "text": [
      "Epoch #260: test_reward: 90.000000 ± 0.000000, best_reward: 819.000000 ± 0.000000 in #193\n"
     ]
    },
    {
     "name": "stderr",
     "output_type": "stream",
     "text": [
      "Epoch #261: 1025it [00:02, 372.47it/s, env_step=267264, len=14, n/ep=4, n/st=64, player_1/loss=410.653, player_2/loss=551.775, rew=121.25]\n"
     ]
    },
    {
     "name": "stdout",
     "output_type": "stream",
     "text": [
      "Epoch #261: test_reward: 275.000000 ± 0.000000, best_reward: 819.000000 ± 0.000000 in #193\n"
     ]
    },
    {
     "name": "stderr",
     "output_type": "stream",
     "text": [
      "Epoch #262: 1025it [00:02, 376.79it/s, env_step=268288, len=18, n/ep=3, n/st=64, player_1/loss=335.423, player_2/loss=770.542, rew=198.33]\n"
     ]
    },
    {
     "name": "stdout",
     "output_type": "stream",
     "text": [
      "Epoch #262: test_reward: 44.000000 ± 0.000000, best_reward: 819.000000 ± 0.000000 in #193\n"
     ]
    },
    {
     "name": "stderr",
     "output_type": "stream",
     "text": [
      "Epoch #263: 1025it [00:02, 381.51it/s, env_step=269312, len=20, n/ep=4, n/st=64, player_1/loss=386.116, player_2/loss=736.897, rew=238.75]\n"
     ]
    },
    {
     "name": "stdout",
     "output_type": "stream",
     "text": [
      "Epoch #263: test_reward: 252.000000 ± 0.000000, best_reward: 819.000000 ± 0.000000 in #193\n"
     ]
    },
    {
     "name": "stderr",
     "output_type": "stream",
     "text": [
      "Epoch #264: 1025it [00:02, 387.65it/s, env_step=270336, len=33, n/ep=2, n/st=64, player_1/loss=500.319, player_2/loss=686.444, rew=578.00]\n"
     ]
    },
    {
     "name": "stdout",
     "output_type": "stream",
     "text": [
      "Epoch #264: test_reward: 44.000000 ± 0.000000, best_reward: 819.000000 ± 0.000000 in #193\n"
     ]
    },
    {
     "name": "stderr",
     "output_type": "stream",
     "text": [
      "Epoch #265: 1025it [00:02, 386.32it/s, env_step=271360, len=14, n/ep=5, n/st=64, player_1/loss=642.350, player_2/loss=1066.431, rew=118.80]\n"
     ]
    },
    {
     "name": "stdout",
     "output_type": "stream",
     "text": [
      "Epoch #265: test_reward: 44.000000 ± 0.000000, best_reward: 819.000000 ± 0.000000 in #193\n"
     ]
    },
    {
     "name": "stderr",
     "output_type": "stream",
     "text": [
      "Epoch #266: 1025it [00:02, 387.39it/s, env_step=272384, len=18, n/ep=4, n/st=64, player_1/loss=442.805, player_2/loss=781.278, rew=184.25]\n"
     ]
    },
    {
     "name": "stdout",
     "output_type": "stream",
     "text": [
      "Epoch #266: test_reward: 209.000000 ± 0.000000, best_reward: 819.000000 ± 0.000000 in #193\n"
     ]
    },
    {
     "name": "stderr",
     "output_type": "stream",
     "text": [
      "Epoch #267: 1025it [00:02, 389.71it/s, env_step=273408, len=22, n/ep=3, n/st=64, player_1/loss=305.012, player_2/loss=765.360, rew=253.00]\n"
     ]
    },
    {
     "name": "stdout",
     "output_type": "stream",
     "text": [
      "Epoch #267: test_reward: 27.000000 ± 0.000000, best_reward: 819.000000 ± 0.000000 in #193\n"
     ]
    },
    {
     "name": "stderr",
     "output_type": "stream",
     "text": [
      "Epoch #268: 1025it [00:02, 384.74it/s, env_step=274432, len=40, n/ep=1, n/st=64, player_1/loss=392.286, player_2/loss=795.275, rew=819.00]\n"
     ]
    },
    {
     "name": "stdout",
     "output_type": "stream",
     "text": [
      "Epoch #268: test_reward: 702.000000 ± 0.000000, best_reward: 819.000000 ± 0.000000 in #193\n"
     ]
    },
    {
     "name": "stderr",
     "output_type": "stream",
     "text": [
      "Epoch #269: 1025it [00:02, 391.54it/s, env_step=275456, len=32, n/ep=2, n/st=64, player_1/loss=386.571, player_2/loss=731.734, rew=545.00]\n"
     ]
    },
    {
     "name": "stdout",
     "output_type": "stream",
     "text": [
      "Epoch #269: test_reward: 350.000000 ± 0.000000, best_reward: 819.000000 ± 0.000000 in #193\n"
     ]
    },
    {
     "name": "stderr",
     "output_type": "stream",
     "text": [
      "Epoch #270: 1025it [00:02, 389.82it/s, env_step=276480, len=15, n/ep=5, n/st=64, player_1/loss=227.903, player_2/loss=923.105, rew=181.80]\n"
     ]
    },
    {
     "name": "stdout",
     "output_type": "stream",
     "text": [
      "Epoch #270: test_reward: 27.000000 ± 0.000000, best_reward: 819.000000 ± 0.000000 in #193\n"
     ]
    },
    {
     "name": "stderr",
     "output_type": "stream",
     "text": [
      "Epoch #271: 1025it [00:02, 390.77it/s, env_step=277504, len=21, n/ep=4, n/st=64, player_1/loss=239.930, player_2/loss=954.000, rew=284.00]\n"
     ]
    },
    {
     "name": "stdout",
     "output_type": "stream",
     "text": [
      "Epoch #271: test_reward: 350.000000 ± 0.000000, best_reward: 819.000000 ± 0.000000 in #193\n"
     ]
    },
    {
     "name": "stderr",
     "output_type": "stream",
     "text": [
      "Epoch #272: 1025it [00:02, 390.90it/s, env_step=278528, len=38, n/ep=2, n/st=64, player_1/loss=272.117, rew=760.50]   \n"
     ]
    },
    {
     "name": "stdout",
     "output_type": "stream",
     "text": [
      "Epoch #272: test_reward: 819.000000 ± 0.000000, best_reward: 819.000000 ± 0.000000 in #193\n"
     ]
    },
    {
     "name": "stderr",
     "output_type": "stream",
     "text": [
      "Epoch #273: 1025it [00:02, 389.15it/s, env_step=279552, len=21, n/ep=3, n/st=64, player_1/loss=351.768, player_2/loss=654.661, rew=260.33]\n"
     ]
    },
    {
     "name": "stdout",
     "output_type": "stream",
     "text": [
      "Epoch #273: test_reward: 252.000000 ± 0.000000, best_reward: 819.000000 ± 0.000000 in #193\n"
     ]
    },
    {
     "name": "stderr",
     "output_type": "stream",
     "text": [
      "Epoch #274: 1025it [00:02, 389.99it/s, env_step=280576, len=24, n/ep=3, n/st=64, player_1/loss=436.526, player_2/loss=728.917, rew=348.00]\n"
     ]
    },
    {
     "name": "stdout",
     "output_type": "stream",
     "text": [
      "Epoch #274: test_reward: 299.000000 ± 0.000000, best_reward: 819.000000 ± 0.000000 in #193\n"
     ]
    },
    {
     "name": "stderr",
     "output_type": "stream",
     "text": [
      "Epoch #275: 1025it [00:02, 388.49it/s, env_step=281600, len=12, n/ep=5, n/st=64, player_1/loss=460.980, player_2/loss=857.748, rew=85.00]\n"
     ]
    },
    {
     "name": "stdout",
     "output_type": "stream",
     "text": [
      "Epoch #275: test_reward: 77.000000 ± 0.000000, best_reward: 819.000000 ± 0.000000 in #193\n"
     ]
    },
    {
     "name": "stderr",
     "output_type": "stream",
     "text": [
      "Epoch #276: 1025it [00:02, 387.55it/s, env_step=282624, len=17, n/ep=4, n/st=64, player_1/loss=511.915, player_2/loss=518.792, rew=228.75]\n"
     ]
    },
    {
     "name": "stdout",
     "output_type": "stream",
     "text": [
      "Epoch #276: test_reward: 44.000000 ± 0.000000, best_reward: 819.000000 ± 0.000000 in #193\n"
     ]
    },
    {
     "name": "stderr",
     "output_type": "stream",
     "text": [
      "Epoch #277: 1025it [00:02, 389.89it/s, env_step=283648, len=38, n/ep=1, n/st=64, player_1/loss=452.548, player_2/loss=432.778, rew=740.00]\n"
     ]
    },
    {
     "name": "stdout",
     "output_type": "stream",
     "text": [
      "Epoch #277: test_reward: 209.000000 ± 0.000000, best_reward: 819.000000 ± 0.000000 in #193\n"
     ]
    },
    {
     "name": "stderr",
     "output_type": "stream",
     "text": [
      "Epoch #278: 1025it [00:02, 391.06it/s, env_step=284672, len=24, n/ep=2, n/st=64, player_1/loss=465.641, player_2/loss=460.278, rew=331.00]\n"
     ]
    },
    {
     "name": "stdout",
     "output_type": "stream",
     "text": [
      "Epoch #278: test_reward: 252.000000 ± 0.000000, best_reward: 819.000000 ± 0.000000 in #193\n"
     ]
    },
    {
     "name": "stderr",
     "output_type": "stream",
     "text": [
      "Epoch #279: 1025it [00:02, 390.43it/s, env_step=285696, len=22, n/ep=3, n/st=64, player_1/loss=326.939, player_2/loss=327.691, rew=329.33]\n"
     ]
    },
    {
     "name": "stdout",
     "output_type": "stream",
     "text": [
      "Epoch #279: test_reward: 90.000000 ± 0.000000, best_reward: 819.000000 ± 0.000000 in #193\n"
     ]
    },
    {
     "name": "stderr",
     "output_type": "stream",
     "text": [
      "Epoch #280: 1025it [00:02, 389.05it/s, env_step=286720, len=23, n/ep=3, n/st=64, player_1/loss=233.661, player_2/loss=306.540, rew=301.33]\n"
     ]
    },
    {
     "name": "stdout",
     "output_type": "stream",
     "text": [
      "Epoch #280: test_reward: 299.000000 ± 0.000000, best_reward: 819.000000 ± 0.000000 in #193\n"
     ]
    },
    {
     "name": "stderr",
     "output_type": "stream",
     "text": [
      "Epoch #281: 1025it [00:02, 388.96it/s, env_step=287744, len=15, n/ep=4, n/st=64, player_1/loss=265.293, player_2/loss=554.513, rew=191.25]\n"
     ]
    },
    {
     "name": "stdout",
     "output_type": "stream",
     "text": [
      "Epoch #281: test_reward: 44.000000 ± 0.000000, best_reward: 819.000000 ± 0.000000 in #193\n"
     ]
    },
    {
     "name": "stderr",
     "output_type": "stream",
     "text": [
      "Epoch #282: 1025it [00:02, 388.75it/s, env_step=288768, len=8, n/ep=7, n/st=64, player_1/loss=288.843, player_2/loss=818.626, rew=39.71]\n"
     ]
    },
    {
     "name": "stdout",
     "output_type": "stream",
     "text": [
      "Epoch #282: test_reward: 27.000000 ± 0.000000, best_reward: 819.000000 ± 0.000000 in #193\n"
     ]
    },
    {
     "name": "stderr",
     "output_type": "stream",
     "text": [
      "Epoch #283: 1025it [00:02, 387.37it/s, env_step=289792, len=16, n/ep=4, n/st=64, player_1/loss=251.125, player_2/loss=1252.532, rew=145.00]\n"
     ]
    },
    {
     "name": "stdout",
     "output_type": "stream",
     "text": [
      "Epoch #283: test_reward: 90.000000 ± 0.000000, best_reward: 819.000000 ± 0.000000 in #193\n"
     ]
    },
    {
     "name": "stderr",
     "output_type": "stream",
     "text": [
      "Epoch #284: 1025it [00:02, 375.00it/s, env_step=290816, len=26, n/ep=2, n/st=64, player_1/loss=226.539, player_2/loss=938.489, rew=363.50]\n"
     ]
    },
    {
     "name": "stdout",
     "output_type": "stream",
     "text": [
      "Epoch #284: test_reward: 90.000000 ± 0.000000, best_reward: 819.000000 ± 0.000000 in #193\n"
     ]
    },
    {
     "name": "stderr",
     "output_type": "stream",
     "text": [
      "Epoch #285: 1025it [00:02, 375.29it/s, env_step=291840, len=24, n/ep=2, n/st=64, player_1/loss=232.129, player_2/loss=379.427, rew=389.50]\n"
     ]
    },
    {
     "name": "stdout",
     "output_type": "stream",
     "text": [
      "Epoch #285: test_reward: 252.000000 ± 0.000000, best_reward: 819.000000 ± 0.000000 in #193\n"
     ]
    },
    {
     "name": "stderr",
     "output_type": "stream",
     "text": [
      "Epoch #286: 1025it [00:02, 376.15it/s, env_step=292864, len=9, n/ep=7, n/st=64, player_1/loss=472.414, player_2/loss=815.439, rew=56.57]\n"
     ]
    },
    {
     "name": "stdout",
     "output_type": "stream",
     "text": [
      "Epoch #286: test_reward: 44.000000 ± 0.000000, best_reward: 819.000000 ± 0.000000 in #193\n"
     ]
    },
    {
     "name": "stderr",
     "output_type": "stream",
     "text": [
      "Epoch #287: 1025it [00:02, 376.45it/s, env_step=293888, len=24, n/ep=2, n/st=64, player_1/loss=285.384, player_2/loss=863.411, rew=356.50]\n"
     ]
    },
    {
     "name": "stdout",
     "output_type": "stream",
     "text": [
      "Epoch #287: test_reward: 119.000000 ± 0.000000, best_reward: 819.000000 ± 0.000000 in #193\n"
     ]
    },
    {
     "name": "stderr",
     "output_type": "stream",
     "text": [
      "Epoch #288: 1025it [00:02, 377.86it/s, env_step=294912, len=13, n/ep=5, n/st=64, player_1/loss=347.199, player_2/loss=1020.075, rew=90.80]\n"
     ]
    },
    {
     "name": "stdout",
     "output_type": "stream",
     "text": [
      "Epoch #288: test_reward: 90.000000 ± 0.000000, best_reward: 819.000000 ± 0.000000 in #193\n"
     ]
    },
    {
     "name": "stderr",
     "output_type": "stream",
     "text": [
      "Epoch #289: 1025it [00:02, 377.85it/s, env_step=295936, len=16, n/ep=4, n/st=64, player_1/loss=332.847, player_2/loss=859.538, rew=150.50]\n"
     ]
    },
    {
     "name": "stdout",
     "output_type": "stream",
     "text": [
      "Epoch #289: test_reward: 464.000000 ± 0.000000, best_reward: 819.000000 ± 0.000000 in #193\n"
     ]
    },
    {
     "name": "stderr",
     "output_type": "stream",
     "text": [
      "Epoch #290: 1025it [00:02, 378.10it/s, env_step=296960, len=23, n/ep=3, n/st=64, player_1/loss=613.798, player_2/loss=815.774, rew=339.00]\n"
     ]
    },
    {
     "name": "stdout",
     "output_type": "stream",
     "text": [
      "Epoch #290: test_reward: 90.000000 ± 0.000000, best_reward: 819.000000 ± 0.000000 in #193\n"
     ]
    },
    {
     "name": "stderr",
     "output_type": "stream",
     "text": [
      "Epoch #291: 1025it [00:02, 376.39it/s, env_step=297984, len=14, n/ep=4, n/st=64, player_1/loss=694.811, player_2/loss=741.033, rew=164.75]\n"
     ]
    },
    {
     "name": "stdout",
     "output_type": "stream",
     "text": [
      "Epoch #291: test_reward: 44.000000 ± 0.000000, best_reward: 819.000000 ± 0.000000 in #193\n"
     ]
    },
    {
     "name": "stderr",
     "output_type": "stream",
     "text": [
      "Epoch #292: 1025it [00:02, 376.68it/s, env_step=299008, len=32, n/ep=2, n/st=64, player_1/loss=656.675, player_2/loss=748.360, rew=558.50]\n"
     ]
    },
    {
     "name": "stdout",
     "output_type": "stream",
     "text": [
      "Epoch #292: test_reward: 629.000000 ± 0.000000, best_reward: 819.000000 ± 0.000000 in #193\n"
     ]
    },
    {
     "name": "stderr",
     "output_type": "stream",
     "text": [
      "Epoch #293: 1025it [00:02, 378.48it/s, env_step=300032, len=11, n/ep=7, n/st=64, player_1/loss=517.887, rew=87.43]    \n"
     ]
    },
    {
     "name": "stdout",
     "output_type": "stream",
     "text": [
      "Epoch #293: test_reward: 209.000000 ± 0.000000, best_reward: 819.000000 ± 0.000000 in #193\n"
     ]
    },
    {
     "name": "stderr",
     "output_type": "stream",
     "text": [
      "Epoch #294: 1025it [00:02, 375.35it/s, env_step=301056, len=19, n/ep=4, n/st=64, player_1/loss=332.420, player_2/loss=332.678, rew=265.50]\n"
     ]
    },
    {
     "name": "stdout",
     "output_type": "stream",
     "text": [
      "Epoch #294: test_reward: 27.000000 ± 0.000000, best_reward: 819.000000 ± 0.000000 in #193\n"
     ]
    },
    {
     "name": "stderr",
     "output_type": "stream",
     "text": [
      "Epoch #295: 1025it [00:02, 379.54it/s, env_step=302080, len=37, n/ep=2, n/st=64, player_1/loss=250.600, player_2/loss=309.124, rew=702.00]\n"
     ]
    },
    {
     "name": "stdout",
     "output_type": "stream",
     "text": [
      "Epoch #295: test_reward: 740.000000 ± 0.000000, best_reward: 819.000000 ± 0.000000 in #193\n"
     ]
    },
    {
     "name": "stderr",
     "output_type": "stream",
     "text": [
      "Epoch #296: 1025it [00:02, 376.66it/s, env_step=303104, len=14, n/ep=4, n/st=64, player_1/loss=266.890, player_2/loss=658.594, rew=108.50]\n"
     ]
    },
    {
     "name": "stdout",
     "output_type": "stream",
     "text": [
      "Epoch #296: test_reward: 65.000000 ± 0.000000, best_reward: 819.000000 ± 0.000000 in #193\n"
     ]
    },
    {
     "name": "stderr",
     "output_type": "stream",
     "text": [
      "Epoch #297: 1025it [00:02, 378.99it/s, env_step=304128, len=22, n/ep=3, n/st=64, player_1/loss=425.207, player_2/loss=1133.228, rew=361.00]\n"
     ]
    },
    {
     "name": "stdout",
     "output_type": "stream",
     "text": [
      "Epoch #297: test_reward: 152.000000 ± 0.000000, best_reward: 819.000000 ± 0.000000 in #193\n"
     ]
    },
    {
     "name": "stderr",
     "output_type": "stream",
     "text": [
      "Epoch #298: 1025it [00:02, 380.07it/s, env_step=305152, len=20, n/ep=3, n/st=64, player_1/loss=370.920, player_2/loss=1032.100, rew=273.33]\n"
     ]
    },
    {
     "name": "stdout",
     "output_type": "stream",
     "text": [
      "Epoch #298: test_reward: 90.000000 ± 0.000000, best_reward: 819.000000 ± 0.000000 in #193\n"
     ]
    },
    {
     "name": "stderr",
     "output_type": "stream",
     "text": [
      "Epoch #299: 1025it [00:02, 377.86it/s, env_step=306176, len=19, n/ep=3, n/st=64, player_1/loss=284.442, player_2/loss=938.145, rew=237.00]\n"
     ]
    },
    {
     "name": "stdout",
     "output_type": "stream",
     "text": [
      "Epoch #299: test_reward: 65.000000 ± 0.000000, best_reward: 819.000000 ± 0.000000 in #193\n"
     ]
    },
    {
     "name": "stderr",
     "output_type": "stream",
     "text": [
      "Epoch #300: 1025it [00:02, 373.17it/s, env_step=307200, len=10, n/ep=6, n/st=64, player_1/loss=244.937, player_2/loss=911.942, rew=65.33]\n"
     ]
    },
    {
     "name": "stdout",
     "output_type": "stream",
     "text": [
      "Epoch #300: test_reward: 27.000000 ± 0.000000, best_reward: 819.000000 ± 0.000000 in #193\n"
     ]
    },
    {
     "name": "stderr",
     "output_type": "stream",
     "text": [
      "Epoch #301: 1025it [00:02, 376.59it/s, env_step=308224, len=12, n/ep=6, n/st=64, player_1/loss=161.126, player_2/loss=1128.954, rew=90.17]\n"
     ]
    },
    {
     "name": "stdout",
     "output_type": "stream",
     "text": [
      "Epoch #301: test_reward: 44.000000 ± 0.000000, best_reward: 819.000000 ± 0.000000 in #193\n"
     ]
    },
    {
     "name": "stderr",
     "output_type": "stream",
     "text": [
      "Epoch #302: 1025it [00:02, 375.31it/s, env_step=309248, len=13, n/ep=5, n/st=64, player_1/loss=190.065, player_2/loss=1151.501, rew=99.20]\n"
     ]
    },
    {
     "name": "stdout",
     "output_type": "stream",
     "text": [
      "Epoch #302: test_reward: 170.000000 ± 0.000000, best_reward: 819.000000 ± 0.000000 in #193\n"
     ]
    },
    {
     "name": "stderr",
     "output_type": "stream",
     "text": [
      "Epoch #303: 1025it [00:02, 375.75it/s, env_step=310272, len=22, n/ep=3, n/st=64, player_1/loss=244.509, player_2/loss=1208.645, rew=282.00]\n"
     ]
    },
    {
     "name": "stdout",
     "output_type": "stream",
     "text": [
      "Epoch #303: test_reward: 324.000000 ± 0.000000, best_reward: 819.000000 ± 0.000000 in #193\n"
     ]
    },
    {
     "name": "stderr",
     "output_type": "stream",
     "text": [
      "Epoch #304: 1025it [00:02, 374.99it/s, env_step=311296, len=18, n/ep=3, n/st=64, player_1/loss=266.152, player_2/loss=1094.729, rew=211.33]\n"
     ]
    },
    {
     "name": "stdout",
     "output_type": "stream",
     "text": [
      "Epoch #304: test_reward: 77.000000 ± 0.000000, best_reward: 819.000000 ± 0.000000 in #193\n"
     ]
    },
    {
     "name": "stderr",
     "output_type": "stream",
     "text": [
      "Epoch #305: 1025it [00:02, 379.77it/s, env_step=312320, len=13, n/ep=4, n/st=64, player_1/loss=387.541, player_2/loss=473.328, rew=93.25]\n"
     ]
    },
    {
     "name": "stdout",
     "output_type": "stream",
     "text": [
      "Epoch #305: test_reward: 27.000000 ± 0.000000, best_reward: 819.000000 ± 0.000000 in #193\n"
     ]
    },
    {
     "name": "stderr",
     "output_type": "stream",
     "text": [
      "Epoch #306: 1025it [00:02, 379.31it/s, env_step=313344, len=17, n/ep=4, n/st=64, player_1/loss=496.965, player_2/loss=1166.897, rew=181.25]\n"
     ]
    },
    {
     "name": "stdout",
     "output_type": "stream",
     "text": [
      "Epoch #306: test_reward: 90.000000 ± 0.000000, best_reward: 819.000000 ± 0.000000 in #193\n"
     ]
    },
    {
     "name": "stderr",
     "output_type": "stream",
     "text": [
      "Epoch #307: 1025it [00:02, 375.55it/s, env_step=314368, len=25, n/ep=2, n/st=64, player_1/loss=306.227, player_2/loss=1116.204, rew=415.00]\n"
     ]
    },
    {
     "name": "stdout",
     "output_type": "stream",
     "text": [
      "Epoch #307: test_reward: 740.000000 ± 0.000000, best_reward: 819.000000 ± 0.000000 in #193\n"
     ]
    },
    {
     "name": "stderr",
     "output_type": "stream",
     "text": [
      "Epoch #308: 1025it [00:02, 378.33it/s, env_step=315392, len=33, n/ep=2, n/st=64, player_1/loss=244.456, player_2/loss=535.423, rew=564.50]\n"
     ]
    },
    {
     "name": "stdout",
     "output_type": "stream",
     "text": [
      "Epoch #308: test_reward: 702.000000 ± 0.000000, best_reward: 819.000000 ± 0.000000 in #193\n"
     ]
    },
    {
     "name": "stderr",
     "output_type": "stream",
     "text": [
      "Epoch #309: 1025it [00:02, 372.42it/s, env_step=316416, len=32, n/ep=1, n/st=64, player_1/loss=360.884, player_2/loss=478.120, rew=527.00]\n"
     ]
    },
    {
     "name": "stdout",
     "output_type": "stream",
     "text": [
      "Epoch #309: test_reward: 819.000000 ± 0.000000, best_reward: 819.000000 ± 0.000000 in #193\n"
     ]
    },
    {
     "name": "stderr",
     "output_type": "stream",
     "text": [
      "Epoch #310: 1025it [00:02, 375.49it/s, env_step=317440, len=31, n/ep=3, n/st=64, player_1/loss=335.039, player_2/loss=653.330, rew=551.33]\n"
     ]
    },
    {
     "name": "stdout",
     "output_type": "stream",
     "text": [
      "Epoch #310: test_reward: 90.000000 ± 0.000000, best_reward: 819.000000 ± 0.000000 in #193\n"
     ]
    },
    {
     "name": "stderr",
     "output_type": "stream",
     "text": [
      "Epoch #311: 1025it [00:02, 376.00it/s, env_step=318464, len=26, n/ep=2, n/st=64, player_1/loss=539.868, player_2/loss=730.144, rew=441.50]\n"
     ]
    },
    {
     "name": "stdout",
     "output_type": "stream",
     "text": [
      "Epoch #311: test_reward: 44.000000 ± 0.000000, best_reward: 819.000000 ± 0.000000 in #193\n"
     ]
    },
    {
     "name": "stderr",
     "output_type": "stream",
     "text": [
      "Epoch #312: 1025it [00:02, 380.33it/s, env_step=319488, len=10, n/ep=6, n/st=64, player_1/loss=538.717, player_2/loss=494.824, rew=55.67]\n"
     ]
    },
    {
     "name": "stdout",
     "output_type": "stream",
     "text": [
      "Epoch #312: test_reward: 44.000000 ± 0.000000, best_reward: 819.000000 ± 0.000000 in #193\n"
     ]
    },
    {
     "name": "stderr",
     "output_type": "stream",
     "text": [
      "Epoch #313: 1025it [00:02, 372.95it/s, env_step=320512, len=10, n/ep=6, n/st=64, player_1/loss=464.874, player_2/loss=531.669, rew=62.83]\n"
     ]
    },
    {
     "name": "stdout",
     "output_type": "stream",
     "text": [
      "Epoch #313: test_reward: 27.000000 ± 0.000000, best_reward: 819.000000 ± 0.000000 in #193\n"
     ]
    },
    {
     "name": "stderr",
     "output_type": "stream",
     "text": [
      "Epoch #314: 1025it [00:02, 374.00it/s, env_step=321536, len=15, n/ep=4, n/st=64, player_1/loss=339.990, player_2/loss=1034.873, rew=125.50]\n"
     ]
    },
    {
     "name": "stdout",
     "output_type": "stream",
     "text": [
      "Epoch #314: test_reward: 252.000000 ± 0.000000, best_reward: 819.000000 ± 0.000000 in #193\n"
     ]
    },
    {
     "name": "stderr",
     "output_type": "stream",
     "text": [
      "Epoch #315: 1025it [00:02, 378.37it/s, env_step=322560, len=19, n/ep=4, n/st=64, player_1/loss=228.842, player_2/loss=991.511, rew=232.00]\n"
     ]
    },
    {
     "name": "stdout",
     "output_type": "stream",
     "text": [
      "Epoch #315: test_reward: 90.000000 ± 0.000000, best_reward: 819.000000 ± 0.000000 in #193\n"
     ]
    },
    {
     "name": "stderr",
     "output_type": "stream",
     "text": [
      "Epoch #316: 1025it [00:02, 377.92it/s, env_step=323584, len=24, n/ep=3, n/st=64, player_1/loss=459.208, player_2/loss=810.448, rew=311.00]\n"
     ]
    },
    {
     "name": "stdout",
     "output_type": "stream",
     "text": [
      "Epoch #316: test_reward: 405.000000 ± 0.000000, best_reward: 819.000000 ± 0.000000 in #193\n"
     ]
    },
    {
     "name": "stderr",
     "output_type": "stream",
     "text": [
      "Epoch #317: 1025it [00:02, 375.90it/s, env_step=324608, len=11, n/ep=5, n/st=64, player_1/loss=432.712, player_2/loss=772.095, rew=77.20]\n"
     ]
    },
    {
     "name": "stdout",
     "output_type": "stream",
     "text": [
      "Epoch #317: test_reward: 189.000000 ± 0.000000, best_reward: 819.000000 ± 0.000000 in #193\n"
     ]
    },
    {
     "name": "stderr",
     "output_type": "stream",
     "text": [
      "Epoch #318: 1025it [00:02, 373.32it/s, env_step=325632, len=19, n/ep=3, n/st=64, player_1/loss=165.917, player_2/loss=595.206, rew=289.00]\n"
     ]
    },
    {
     "name": "stdout",
     "output_type": "stream",
     "text": [
      "Epoch #318: test_reward: 44.000000 ± 0.000000, best_reward: 819.000000 ± 0.000000 in #193\n"
     ]
    },
    {
     "name": "stderr",
     "output_type": "stream",
     "text": [
      "Epoch #319: 1025it [00:02, 377.77it/s, env_step=326656, len=9, n/ep=6, n/st=64, player_1/loss=471.159, player_2/loss=750.595, rew=47.50]\n"
     ]
    },
    {
     "name": "stdout",
     "output_type": "stream",
     "text": [
      "Epoch #319: test_reward: 27.000000 ± 0.000000, best_reward: 819.000000 ± 0.000000 in #193\n"
     ]
    },
    {
     "name": "stderr",
     "output_type": "stream",
     "text": [
      "Epoch #320: 1025it [00:02, 377.38it/s, env_step=327680, len=17, n/ep=5, n/st=64, player_1/loss=390.293, player_2/loss=795.135, rew=216.80]\n"
     ]
    },
    {
     "name": "stdout",
     "output_type": "stream",
     "text": [
      "Epoch #320: test_reward: 65.000000 ± 0.000000, best_reward: 819.000000 ± 0.000000 in #193\n"
     ]
    },
    {
     "name": "stderr",
     "output_type": "stream",
     "text": [
      "Epoch #321: 1025it [00:02, 377.01it/s, env_step=328704, len=13, n/ep=4, n/st=64, player_1/loss=157.346, player_2/loss=868.738, rew=106.25]\n"
     ]
    },
    {
     "name": "stdout",
     "output_type": "stream",
     "text": [
      "Epoch #321: test_reward: 90.000000 ± 0.000000, best_reward: 819.000000 ± 0.000000 in #193\n"
     ]
    },
    {
     "name": "stderr",
     "output_type": "stream",
     "text": [
      "Epoch #322: 1025it [00:02, 377.05it/s, env_step=329728, len=13, n/ep=4, n/st=64, player_1/loss=305.600, player_2/loss=753.902, rew=106.25]\n"
     ]
    },
    {
     "name": "stdout",
     "output_type": "stream",
     "text": [
      "Epoch #322: test_reward: 119.000000 ± 0.000000, best_reward: 819.000000 ± 0.000000 in #193\n"
     ]
    },
    {
     "name": "stderr",
     "output_type": "stream",
     "text": [
      "Epoch #323: 1025it [00:02, 378.12it/s, env_step=330752, len=26, n/ep=3, n/st=64, player_1/loss=563.079, player_2/loss=587.325, rew=423.00]\n"
     ]
    },
    {
     "name": "stdout",
     "output_type": "stream",
     "text": [
      "Epoch #323: test_reward: 77.000000 ± 0.000000, best_reward: 819.000000 ± 0.000000 in #193\n"
     ]
    },
    {
     "name": "stderr",
     "output_type": "stream",
     "text": [
      "Epoch #324: 1025it [00:02, 377.05it/s, env_step=331776, len=33, n/ep=2, n/st=64, player_1/loss=665.441, player_2/loss=355.048, rew=560.50]\n"
     ]
    },
    {
     "name": "stdout",
     "output_type": "stream",
     "text": [
      "Epoch #324: test_reward: 44.000000 ± 0.000000, best_reward: 819.000000 ± 0.000000 in #193\n"
     ]
    },
    {
     "name": "stderr",
     "output_type": "stream",
     "text": [
      "Epoch #325: 1025it [00:02, 374.94it/s, env_step=332800, len=16, n/ep=4, n/st=64, player_1/loss=429.910, player_2/loss=383.677, rew=154.50]\n"
     ]
    },
    {
     "name": "stdout",
     "output_type": "stream",
     "text": [
      "Epoch #325: test_reward: 65.000000 ± 0.000000, best_reward: 819.000000 ± 0.000000 in #193\n"
     ]
    },
    {
     "name": "stderr",
     "output_type": "stream",
     "text": [
      "Epoch #326: 1025it [00:02, 378.72it/s, env_step=333824, len=16, n/ep=4, n/st=64, player_1/loss=370.738, player_2/loss=316.207, rew=166.00]\n"
     ]
    },
    {
     "name": "stdout",
     "output_type": "stream",
     "text": [
      "Epoch #326: test_reward: 90.000000 ± 0.000000, best_reward: 819.000000 ± 0.000000 in #193\n"
     ]
    },
    {
     "name": "stderr",
     "output_type": "stream",
     "text": [
      "Epoch #327: 1025it [00:02, 375.01it/s, env_step=334848, len=18, n/ep=4, n/st=64, player_1/loss=380.452, player_2/loss=520.899, rew=195.00]\n"
     ]
    },
    {
     "name": "stdout",
     "output_type": "stream",
     "text": [
      "Epoch #327: test_reward: 299.000000 ± 0.000000, best_reward: 819.000000 ± 0.000000 in #193\n"
     ]
    },
    {
     "name": "stderr",
     "output_type": "stream",
     "text": [
      "Epoch #328: 1025it [00:02, 377.67it/s, env_step=335872, len=28, n/ep=2, n/st=64, player_1/loss=351.945, player_2/loss=712.552, rew=474.50]\n"
     ]
    },
    {
     "name": "stdout",
     "output_type": "stream",
     "text": [
      "Epoch #328: test_reward: 779.000000 ± 0.000000, best_reward: 819.000000 ± 0.000000 in #193\n"
     ]
    },
    {
     "name": "stderr",
     "output_type": "stream",
     "text": [
      "Epoch #329: 1025it [00:02, 375.33it/s, env_step=336896, len=10, n/ep=5, n/st=64, player_1/loss=366.408, player_2/loss=794.776, rew=63.40]\n"
     ]
    },
    {
     "name": "stdout",
     "output_type": "stream",
     "text": [
      "Epoch #329: test_reward: 44.000000 ± 0.000000, best_reward: 819.000000 ± 0.000000 in #193\n"
     ]
    },
    {
     "name": "stderr",
     "output_type": "stream",
     "text": [
      "Epoch #330: 1025it [00:02, 373.28it/s, env_step=337920, len=20, n/ep=3, n/st=64, player_1/loss=317.214, player_2/loss=1091.041, rew=246.00]\n"
     ]
    },
    {
     "name": "stdout",
     "output_type": "stream",
     "text": [
      "Epoch #330: test_reward: 252.000000 ± 0.000000, best_reward: 819.000000 ± 0.000000 in #193\n"
     ]
    },
    {
     "name": "stderr",
     "output_type": "stream",
     "text": [
      "Epoch #331: 1025it [00:02, 377.36it/s, env_step=338944, len=13, n/ep=5, n/st=64, player_1/loss=366.843, player_2/loss=1384.575, rew=158.00]\n"
     ]
    },
    {
     "name": "stdout",
     "output_type": "stream",
     "text": [
      "Epoch #331: test_reward: 27.000000 ± 0.000000, best_reward: 819.000000 ± 0.000000 in #193\n"
     ]
    },
    {
     "name": "stderr",
     "output_type": "stream",
     "text": [
      "Epoch #332: 1025it [00:02, 379.51it/s, env_step=339968, len=12, n/ep=5, n/st=64, player_1/loss=396.716, player_2/loss=1272.326, rew=130.40]\n"
     ]
    },
    {
     "name": "stdout",
     "output_type": "stream",
     "text": [
      "Epoch #332: test_reward: 44.000000 ± 0.000000, best_reward: 819.000000 ± 0.000000 in #193\n"
     ]
    },
    {
     "name": "stderr",
     "output_type": "stream",
     "text": [
      "Epoch #333: 1025it [00:02, 375.54it/s, env_step=340992, len=10, n/ep=6, n/st=64, player_1/loss=306.727, player_2/loss=1040.164, rew=63.33]\n"
     ]
    },
    {
     "name": "stdout",
     "output_type": "stream",
     "text": [
      "Epoch #333: test_reward: 27.000000 ± 0.000000, best_reward: 819.000000 ± 0.000000 in #193\n"
     ]
    },
    {
     "name": "stderr",
     "output_type": "stream",
     "text": [
      "Epoch #334: 1025it [00:02, 377.48it/s, env_step=342016, len=17, n/ep=4, n/st=64, player_1/loss=176.652, player_2/loss=1046.243, rew=198.75]\n"
     ]
    },
    {
     "name": "stdout",
     "output_type": "stream",
     "text": [
      "Epoch #334: test_reward: 90.000000 ± 0.000000, best_reward: 819.000000 ± 0.000000 in #193\n"
     ]
    },
    {
     "name": "stderr",
     "output_type": "stream",
     "text": [
      "Epoch #335: 1025it [00:02, 378.78it/s, env_step=343040, len=22, n/ep=3, n/st=64, player_1/loss=296.713, player_2/loss=846.667, rew=312.00]\n"
     ]
    },
    {
     "name": "stdout",
     "output_type": "stream",
     "text": [
      "Epoch #335: test_reward: 90.000000 ± 0.000000, best_reward: 819.000000 ± 0.000000 in #193\n"
     ]
    },
    {
     "name": "stderr",
     "output_type": "stream",
     "text": [
      "Epoch #336: 1025it [00:02, 379.76it/s, env_step=344064, len=15, n/ep=4, n/st=64, player_1/loss=379.772, player_2/loss=546.483, rew=139.00]\n"
     ]
    },
    {
     "name": "stdout",
     "output_type": "stream",
     "text": [
      "Epoch #336: test_reward: 702.000000 ± 0.000000, best_reward: 819.000000 ± 0.000000 in #193\n"
     ]
    },
    {
     "name": "stderr",
     "output_type": "stream",
     "text": [
      "Epoch #337: 1025it [00:02, 375.69it/s, env_step=345088, len=16, n/ep=4, n/st=64, player_1/loss=350.702, player_2/loss=685.096, rew=200.75]\n"
     ]
    },
    {
     "name": "stdout",
     "output_type": "stream",
     "text": [
      "Epoch #337: test_reward: 65.000000 ± 0.000000, best_reward: 819.000000 ± 0.000000 in #193\n"
     ]
    },
    {
     "name": "stderr",
     "output_type": "stream",
     "text": [
      "Epoch #338: 1025it [00:02, 378.57it/s, env_step=346112, len=25, n/ep=2, n/st=64, player_1/loss=329.098, player_2/loss=737.282, rew=347.00]\n"
     ]
    },
    {
     "name": "stdout",
     "output_type": "stream",
     "text": [
      "Epoch #338: test_reward: 135.000000 ± 0.000000, best_reward: 819.000000 ± 0.000000 in #193\n"
     ]
    },
    {
     "name": "stderr",
     "output_type": "stream",
     "text": [
      "Epoch #339: 1025it [00:02, 378.06it/s, env_step=347136, len=10, n/ep=7, n/st=64, player_1/loss=415.986, player_2/loss=809.372, rew=58.57]\n"
     ]
    },
    {
     "name": "stdout",
     "output_type": "stream",
     "text": [
      "Epoch #339: test_reward: 27.000000 ± 0.000000, best_reward: 819.000000 ± 0.000000 in #193\n"
     ]
    },
    {
     "name": "stderr",
     "output_type": "stream",
     "text": [
      "Epoch #340: 1025it [00:02, 376.64it/s, env_step=348160, len=28, n/ep=2, n/st=64, player_1/loss=307.043, player_2/loss=628.284, rew=455.50]\n"
     ]
    },
    {
     "name": "stdout",
     "output_type": "stream",
     "text": [
      "Epoch #340: test_reward: 27.000000 ± 0.000000, best_reward: 819.000000 ± 0.000000 in #193\n"
     ]
    },
    {
     "name": "stderr",
     "output_type": "stream",
     "text": [
      "Epoch #341: 1025it [00:02, 373.91it/s, env_step=349184, len=16, n/ep=5, n/st=64, player_1/loss=416.876, player_2/loss=726.267, rew=156.80]\n"
     ]
    },
    {
     "name": "stdout",
     "output_type": "stream",
     "text": [
      "Epoch #341: test_reward: 27.000000 ± 0.000000, best_reward: 819.000000 ± 0.000000 in #193\n"
     ]
    },
    {
     "name": "stderr",
     "output_type": "stream",
     "text": [
      "Epoch #342: 1025it [00:02, 378.27it/s, env_step=350208, len=34, n/ep=2, n/st=64, player_1/loss=467.893, player_2/loss=448.213, rew=617.50]\n"
     ]
    },
    {
     "name": "stdout",
     "output_type": "stream",
     "text": [
      "Epoch #342: test_reward: 377.000000 ± 0.000000, best_reward: 819.000000 ± 0.000000 in #193\n"
     ]
    },
    {
     "name": "stderr",
     "output_type": "stream",
     "text": [
      "Epoch #343: 1025it [00:02, 377.76it/s, env_step=351232, len=19, n/ep=3, n/st=64, player_1/loss=496.559, player_2/loss=480.656, rew=200.33]\n"
     ]
    },
    {
     "name": "stdout",
     "output_type": "stream",
     "text": [
      "Epoch #343: test_reward: 209.000000 ± 0.000000, best_reward: 819.000000 ± 0.000000 in #193\n"
     ]
    },
    {
     "name": "stderr",
     "output_type": "stream",
     "text": [
      "Epoch #344: 1025it [00:02, 377.40it/s, env_step=352256, len=10, n/ep=7, n/st=64, player_1/loss=400.637, player_2/loss=737.970, rew=72.71]\n"
     ]
    },
    {
     "name": "stdout",
     "output_type": "stream",
     "text": [
      "Epoch #344: test_reward: 27.000000 ± 0.000000, best_reward: 819.000000 ± 0.000000 in #193\n"
     ]
    },
    {
     "name": "stderr",
     "output_type": "stream",
     "text": [
      "Epoch #345: 1025it [00:02, 379.06it/s, env_step=353280, len=24, n/ep=3, n/st=64, player_1/loss=272.475, player_2/loss=873.195, rew=345.33]\n"
     ]
    },
    {
     "name": "stdout",
     "output_type": "stream",
     "text": [
      "Epoch #345: test_reward: 170.000000 ± 0.000000, best_reward: 819.000000 ± 0.000000 in #193\n"
     ]
    },
    {
     "name": "stderr",
     "output_type": "stream",
     "text": [
      "Epoch #346: 1025it [00:02, 376.73it/s, env_step=354304, len=26, n/ep=2, n/st=64, player_1/loss=294.127, player_2/loss=674.495, rew=364.50]\n"
     ]
    },
    {
     "name": "stdout",
     "output_type": "stream",
     "text": [
      "Epoch #346: test_reward: 324.000000 ± 0.000000, best_reward: 819.000000 ± 0.000000 in #193\n"
     ]
    },
    {
     "name": "stderr",
     "output_type": "stream",
     "text": [
      "Epoch #347: 1025it [00:02, 377.82it/s, env_step=355328, len=34, n/ep=2, n/st=64, player_1/loss=391.316, player_2/loss=153.426, rew=598.50]\n"
     ]
    },
    {
     "name": "stdout",
     "output_type": "stream",
     "text": [
      "Epoch #347: test_reward: 740.000000 ± 0.000000, best_reward: 819.000000 ± 0.000000 in #193\n"
     ]
    },
    {
     "name": "stderr",
     "output_type": "stream",
     "text": [
      "Epoch #348: 1025it [00:02, 374.45it/s, env_step=356352, len=33, n/ep=2, n/st=64, player_1/loss=486.810, player_2/loss=576.013, rew=587.00]\n"
     ]
    },
    {
     "name": "stdout",
     "output_type": "stream",
     "text": [
      "Epoch #348: test_reward: 665.000000 ± 0.000000, best_reward: 819.000000 ± 0.000000 in #193\n"
     ]
    },
    {
     "name": "stderr",
     "output_type": "stream",
     "text": [
      "Epoch #349: 1025it [00:02, 377.06it/s, env_step=357376, len=38, n/ep=2, n/st=64, player_1/loss=290.916, player_2/loss=528.568, rew=865.50]\n"
     ]
    },
    {
     "name": "stdout",
     "output_type": "stream",
     "text": [
      "Epoch #349: test_reward: 702.000000 ± 0.000000, best_reward: 819.000000 ± 0.000000 in #193\n"
     ]
    },
    {
     "name": "stderr",
     "output_type": "stream",
     "text": [
      "Epoch #350: 1025it [00:02, 377.14it/s, env_step=358400, len=29, n/ep=3, n/st=64, player_1/loss=549.387, player_2/loss=162.916, rew=515.00]\n"
     ]
    },
    {
     "name": "stdout",
     "output_type": "stream",
     "text": [
      "Epoch #350: test_reward: 27.000000 ± 0.000000, best_reward: 819.000000 ± 0.000000 in #193\n"
     ]
    },
    {
     "name": "stderr",
     "output_type": "stream",
     "text": [
      "Epoch #351: 1025it [00:02, 376.91it/s, env_step=359424, len=31, n/ep=2, n/st=64, player_1/loss=750.268, player_2/loss=341.852, rew=532.00]\n"
     ]
    },
    {
     "name": "stdout",
     "output_type": "stream",
     "text": [
      "Epoch #351: test_reward: 27.000000 ± 0.000000, best_reward: 819.000000 ± 0.000000 in #193\n"
     ]
    },
    {
     "name": "stderr",
     "output_type": "stream",
     "text": [
      "Epoch #352: 1025it [00:02, 375.64it/s, env_step=360448, len=28, n/ep=3, n/st=64, player_1/loss=816.821, player_2/loss=453.991, rew=486.33]\n"
     ]
    },
    {
     "name": "stdout",
     "output_type": "stream",
     "text": [
      "Epoch #352: test_reward: 377.000000 ± 0.000000, best_reward: 819.000000 ± 0.000000 in #193\n"
     ]
    },
    {
     "name": "stderr",
     "output_type": "stream",
     "text": [
      "Epoch #353: 1025it [00:02, 380.05it/s, env_step=361472, len=13, n/ep=4, n/st=64, player_1/loss=515.650, rew=133.00]   \n"
     ]
    },
    {
     "name": "stdout",
     "output_type": "stream",
     "text": [
      "Epoch #353: test_reward: 27.000000 ± 0.000000, best_reward: 819.000000 ± 0.000000 in #193\n"
     ]
    },
    {
     "name": "stderr",
     "output_type": "stream",
     "text": [
      "Epoch #354: 1025it [00:02, 375.53it/s, env_step=362496, len=28, n/ep=2, n/st=64, player_1/loss=426.112, player_2/loss=324.675, rew=455.00]\n"
     ]
    },
    {
     "name": "stdout",
     "output_type": "stream",
     "text": [
      "Epoch #354: test_reward: 740.000000 ± 0.000000, best_reward: 819.000000 ± 0.000000 in #193\n"
     ]
    },
    {
     "name": "stderr",
     "output_type": "stream",
     "text": [
      "Epoch #355: 1025it [00:02, 376.11it/s, env_step=363520, len=17, n/ep=4, n/st=64, player_1/loss=557.052, player_2/loss=457.397, rew=207.00]\n"
     ]
    },
    {
     "name": "stdout",
     "output_type": "stream",
     "text": [
      "Epoch #355: test_reward: 740.000000 ± 0.000000, best_reward: 819.000000 ± 0.000000 in #193\n"
     ]
    },
    {
     "name": "stderr",
     "output_type": "stream",
     "text": [
      "Epoch #356: 1025it [00:02, 377.90it/s, env_step=364544, len=26, n/ep=3, n/st=64, player_1/loss=543.261, player_2/loss=553.041, rew=427.00]\n"
     ]
    },
    {
     "name": "stdout",
     "output_type": "stream",
     "text": [
      "Epoch #356: test_reward: 44.000000 ± 0.000000, best_reward: 819.000000 ± 0.000000 in #193\n"
     ]
    },
    {
     "name": "stderr",
     "output_type": "stream",
     "text": [
      "Epoch #357: 1025it [00:02, 377.87it/s, env_step=365568, len=28, n/ep=2, n/st=64, player_1/loss=569.979, player_2/loss=611.145, rew=474.50]\n"
     ]
    },
    {
     "name": "stdout",
     "output_type": "stream",
     "text": [
      "Epoch #357: test_reward: 702.000000 ± 0.000000, best_reward: 819.000000 ± 0.000000 in #193\n"
     ]
    },
    {
     "name": "stderr",
     "output_type": "stream",
     "text": [
      "Epoch #358: 1025it [00:02, 379.95it/s, env_step=366592, len=11, n/ep=4, n/st=64, player_1/loss=531.952, player_2/loss=479.029, rew=67.00]\n"
     ]
    },
    {
     "name": "stdout",
     "output_type": "stream",
     "text": [
      "Epoch #358: test_reward: 44.000000 ± 0.000000, best_reward: 819.000000 ± 0.000000 in #193\n"
     ]
    },
    {
     "name": "stderr",
     "output_type": "stream",
     "text": [
      "Epoch #359: 1025it [00:02, 375.20it/s, env_step=367616, len=18, n/ep=4, n/st=64, player_1/loss=616.143, player_2/loss=750.338, rew=207.75]\n"
     ]
    },
    {
     "name": "stdout",
     "output_type": "stream",
     "text": [
      "Epoch #359: test_reward: 189.000000 ± 0.000000, best_reward: 819.000000 ± 0.000000 in #193\n"
     ]
    },
    {
     "name": "stderr",
     "output_type": "stream",
     "text": [
      "Epoch #360: 1025it [00:02, 373.96it/s, env_step=368640, len=37, n/ep=2, n/st=64, player_1/loss=694.995, player_2/loss=906.029, rew=721.00]\n"
     ]
    },
    {
     "name": "stdout",
     "output_type": "stream",
     "text": [
      "Epoch #360: test_reward: 1102.000000 ± 0.000000, best_reward: 1102.000000 ± 0.000000 in #360\n"
     ]
    },
    {
     "name": "stderr",
     "output_type": "stream",
     "text": [
      "Epoch #361: 1025it [00:02, 376.36it/s, env_step=369664, len=34, n/ep=2, n/st=64, player_1/loss=538.867, player_2/loss=875.227, rew=614.50]\n"
     ]
    },
    {
     "name": "stdout",
     "output_type": "stream",
     "text": [
      "Epoch #361: test_reward: 740.000000 ± 0.000000, best_reward: 1102.000000 ± 0.000000 in #360\n"
     ]
    },
    {
     "name": "stderr",
     "output_type": "stream",
     "text": [
      "Epoch #362: 1025it [00:02, 379.60it/s, env_step=370688, len=25, n/ep=3, n/st=64, player_1/loss=307.009, player_2/loss=629.782, rew=433.67]\n"
     ]
    },
    {
     "name": "stdout",
     "output_type": "stream",
     "text": [
      "Epoch #362: test_reward: 27.000000 ± 0.000000, best_reward: 1102.000000 ± 0.000000 in #360\n"
     ]
    },
    {
     "name": "stderr",
     "output_type": "stream",
     "text": [
      "Epoch #363: 1025it [00:02, 376.58it/s, env_step=371712, len=38, n/ep=2, n/st=64, player_1/loss=425.160, player_2/loss=774.680, rew=760.50]\n"
     ]
    },
    {
     "name": "stdout",
     "output_type": "stream",
     "text": [
      "Epoch #363: test_reward: 702.000000 ± 0.000000, best_reward: 1102.000000 ± 0.000000 in #360\n"
     ]
    },
    {
     "name": "stderr",
     "output_type": "stream",
     "text": [
      "Epoch #364: 1025it [00:02, 375.68it/s, env_step=372736, len=39, n/ep=1, n/st=64, player_1/loss=441.504, player_2/loss=746.979, rew=779.00]\n"
     ]
    },
    {
     "name": "stdout",
     "output_type": "stream",
     "text": [
      "Epoch #364: test_reward: 740.000000 ± 0.000000, best_reward: 1102.000000 ± 0.000000 in #360\n"
     ]
    },
    {
     "name": "stderr",
     "output_type": "stream",
     "text": [
      "Epoch #365: 1025it [00:02, 379.13it/s, env_step=373760, len=17, n/ep=4, n/st=64, player_1/loss=806.284, player_2/loss=323.105, rew=242.75]\n"
     ]
    },
    {
     "name": "stdout",
     "output_type": "stream",
     "text": [
      "Epoch #365: test_reward: 740.000000 ± 0.000000, best_reward: 1102.000000 ± 0.000000 in #360\n"
     ]
    },
    {
     "name": "stderr",
     "output_type": "stream",
     "text": [
      "Epoch #366: 1025it [00:02, 380.48it/s, env_step=374784, len=16, n/ep=3, n/st=64, player_1/loss=791.166, player_2/loss=373.666, rew=183.67]\n"
     ]
    },
    {
     "name": "stdout",
     "output_type": "stream",
     "text": [
      "Epoch #366: test_reward: 119.000000 ± 0.000000, best_reward: 1102.000000 ± 0.000000 in #360\n"
     ]
    },
    {
     "name": "stderr",
     "output_type": "stream",
     "text": [
      "Epoch #367: 1025it [00:02, 378.15it/s, env_step=375808, len=26, n/ep=3, n/st=64, player_1/loss=457.309, player_2/loss=351.177, rew=408.67]\n"
     ]
    },
    {
     "name": "stdout",
     "output_type": "stream",
     "text": [
      "Epoch #367: test_reward: 702.000000 ± 0.000000, best_reward: 1102.000000 ± 0.000000 in #360\n"
     ]
    },
    {
     "name": "stderr",
     "output_type": "stream",
     "text": [
      "Epoch #368: 1025it [00:02, 376.57it/s, env_step=376832, len=20, n/ep=4, n/st=64, player_1/loss=389.066, player_2/loss=540.140, rew=249.75]\n"
     ]
    },
    {
     "name": "stdout",
     "output_type": "stream",
     "text": [
      "Epoch #368: test_reward: 90.000000 ± 0.000000, best_reward: 1102.000000 ± 0.000000 in #360\n"
     ]
    },
    {
     "name": "stderr",
     "output_type": "stream",
     "text": [
      "Epoch #369: 1025it [00:02, 377.75it/s, env_step=377856, len=34, n/ep=2, n/st=64, player_1/loss=645.324, player_2/loss=680.091, rew=594.50]\n"
     ]
    },
    {
     "name": "stdout",
     "output_type": "stream",
     "text": [
      "Epoch #369: test_reward: 252.000000 ± 0.000000, best_reward: 1102.000000 ± 0.000000 in #360\n"
     ]
    },
    {
     "name": "stderr",
     "output_type": "stream",
     "text": [
      "Epoch #370: 1025it [00:02, 377.45it/s, env_step=378880, len=26, n/ep=3, n/st=64, player_1/loss=704.405, player_2/loss=604.035, rew=419.33]\n"
     ]
    },
    {
     "name": "stdout",
     "output_type": "stream",
     "text": [
      "Epoch #370: test_reward: 44.000000 ± 0.000000, best_reward: 1102.000000 ± 0.000000 in #360\n"
     ]
    },
    {
     "name": "stderr",
     "output_type": "stream",
     "text": [
      "Epoch #371: 1025it [00:02, 377.50it/s, env_step=379904, len=13, n/ep=3, n/st=64, player_1/loss=414.294, player_2/loss=885.228, rew=99.67]\n"
     ]
    },
    {
     "name": "stdout",
     "output_type": "stream",
     "text": [
      "Epoch #371: test_reward: 90.000000 ± 0.000000, best_reward: 1102.000000 ± 0.000000 in #360\n"
     ]
    },
    {
     "name": "stderr",
     "output_type": "stream",
     "text": [
      "Epoch #372: 1025it [00:02, 378.98it/s, env_step=380928, len=16, n/ep=4, n/st=64, player_1/loss=377.466, player_2/loss=928.059, rew=146.50]\n"
     ]
    },
    {
     "name": "stdout",
     "output_type": "stream",
     "text": [
      "Epoch #372: test_reward: 44.000000 ± 0.000000, best_reward: 1102.000000 ± 0.000000 in #360\n"
     ]
    },
    {
     "name": "stderr",
     "output_type": "stream",
     "text": [
      "Epoch #373: 1025it [00:02, 379.02it/s, env_step=381952, len=13, n/ep=5, n/st=64, player_1/loss=447.674, player_2/loss=880.073, rew=101.80]\n"
     ]
    },
    {
     "name": "stdout",
     "output_type": "stream",
     "text": [
      "Epoch #373: test_reward: 779.000000 ± 0.000000, best_reward: 1102.000000 ± 0.000000 in #360\n"
     ]
    },
    {
     "name": "stderr",
     "output_type": "stream",
     "text": [
      "Epoch #374: 1025it [00:02, 378.32it/s, env_step=382976, len=14, n/ep=5, n/st=64, player_1/loss=398.519, player_2/loss=893.970, rew=106.60]\n"
     ]
    },
    {
     "name": "stdout",
     "output_type": "stream",
     "text": [
      "Epoch #374: test_reward: 90.000000 ± 0.000000, best_reward: 1102.000000 ± 0.000000 in #360\n"
     ]
    },
    {
     "name": "stderr",
     "output_type": "stream",
     "text": [
      "Epoch #375: 1025it [00:02, 375.91it/s, env_step=384000, len=16, n/ep=4, n/st=64, player_1/loss=245.503, player_2/loss=864.146, rew=159.00]\n"
     ]
    },
    {
     "name": "stdout",
     "output_type": "stream",
     "text": [
      "Epoch #375: test_reward: 170.000000 ± 0.000000, best_reward: 1102.000000 ± 0.000000 in #360\n"
     ]
    },
    {
     "name": "stderr",
     "output_type": "stream",
     "text": [
      "Epoch #376: 1025it [00:02, 375.06it/s, env_step=385024, len=33, n/ep=2, n/st=64, player_1/loss=408.795, player_2/loss=749.586, rew=583.00]\n"
     ]
    },
    {
     "name": "stdout",
     "output_type": "stream",
     "text": [
      "Epoch #376: test_reward: 27.000000 ± 0.000000, best_reward: 1102.000000 ± 0.000000 in #360\n"
     ]
    },
    {
     "name": "stderr",
     "output_type": "stream",
     "text": [
      "Epoch #377: 1025it [00:02, 378.20it/s, env_step=386048, len=38, n/ep=2, n/st=64, player_1/loss=468.504, player_2/loss=457.943, rew=759.50]\n"
     ]
    },
    {
     "name": "stdout",
     "output_type": "stream",
     "text": [
      "Epoch #377: test_reward: 740.000000 ± 0.000000, best_reward: 1102.000000 ± 0.000000 in #360\n"
     ]
    },
    {
     "name": "stderr",
     "output_type": "stream",
     "text": [
      "Epoch #378: 1025it [00:02, 378.18it/s, env_step=387072, len=18, n/ep=3, n/st=64, player_1/loss=515.912, player_2/loss=316.552, rew=182.00]\n"
     ]
    },
    {
     "name": "stdout",
     "output_type": "stream",
     "text": [
      "Epoch #378: test_reward: 189.000000 ± 0.000000, best_reward: 1102.000000 ± 0.000000 in #360\n"
     ]
    },
    {
     "name": "stderr",
     "output_type": "stream",
     "text": [
      "Epoch #379: 1025it [00:02, 376.21it/s, env_step=388096, len=9, n/ep=7, n/st=64, player_1/loss=545.190, player_2/loss=593.604, rew=52.29]\n"
     ]
    },
    {
     "name": "stdout",
     "output_type": "stream",
     "text": [
      "Epoch #379: test_reward: 170.000000 ± 0.000000, best_reward: 1102.000000 ± 0.000000 in #360\n"
     ]
    },
    {
     "name": "stderr",
     "output_type": "stream",
     "text": [
      "Epoch #380: 1025it [00:02, 379.85it/s, env_step=389120, len=8, n/ep=4, n/st=64, player_1/loss=530.987, player_2/loss=778.386, rew=39.50]\n"
     ]
    },
    {
     "name": "stdout",
     "output_type": "stream",
     "text": [
      "Epoch #380: test_reward: 27.000000 ± 0.000000, best_reward: 1102.000000 ± 0.000000 in #360\n"
     ]
    },
    {
     "name": "stderr",
     "output_type": "stream",
     "text": [
      "Epoch #381: 1025it [00:02, 373.00it/s, env_step=390144, len=12, n/ep=3, n/st=64, player_1/loss=471.289, player_2/loss=866.036, rew=102.00]\n"
     ]
    },
    {
     "name": "stdout",
     "output_type": "stream",
     "text": [
      "Epoch #381: test_reward: 230.000000 ± 0.000000, best_reward: 1102.000000 ± 0.000000 in #360\n"
     ]
    },
    {
     "name": "stderr",
     "output_type": "stream",
     "text": [
      "Epoch #382: 1025it [00:02, 379.58it/s, env_step=391168, len=27, n/ep=2, n/st=64, player_1/loss=425.601, player_2/loss=650.736, rew=412.00]\n"
     ]
    },
    {
     "name": "stdout",
     "output_type": "stream",
     "text": [
      "Epoch #382: test_reward: 860.000000 ± 0.000000, best_reward: 1102.000000 ± 0.000000 in #360\n"
     ]
    },
    {
     "name": "stderr",
     "output_type": "stream",
     "text": [
      "Epoch #383: 1025it [00:02, 377.18it/s, env_step=392192, len=25, n/ep=2, n/st=64, player_1/loss=503.643, player_2/loss=435.855, rew=442.00]\n"
     ]
    },
    {
     "name": "stdout",
     "output_type": "stream",
     "text": [
      "Epoch #383: test_reward: 1102.000000 ± 0.000000, best_reward: 1102.000000 ± 0.000000 in #360\n"
     ]
    },
    {
     "name": "stderr",
     "output_type": "stream",
     "text": [
      "Epoch #384: 1025it [00:02, 377.98it/s, env_step=393216, len=25, n/ep=2, n/st=64, player_1/loss=468.408, player_2/loss=493.356, rew=374.00]\n"
     ]
    },
    {
     "name": "stdout",
     "output_type": "stream",
     "text": [
      "Epoch #384: test_reward: 702.000000 ± 0.000000, best_reward: 1102.000000 ± 0.000000 in #360\n"
     ]
    },
    {
     "name": "stderr",
     "output_type": "stream",
     "text": [
      "Epoch #385: 1025it [00:02, 380.17it/s, env_step=394240, len=29, n/ep=3, n/st=64, player_1/loss=321.292, player_2/loss=380.311, rew=573.00]\n"
     ]
    },
    {
     "name": "stdout",
     "output_type": "stream",
     "text": [
      "Epoch #385: test_reward: 740.000000 ± 0.000000, best_reward: 1102.000000 ± 0.000000 in #360\n"
     ]
    },
    {
     "name": "stderr",
     "output_type": "stream",
     "text": [
      "Epoch #386: 1025it [00:02, 377.58it/s, env_step=395264, len=37, n/ep=2, n/st=64, player_1/loss=345.630, player_2/loss=387.212, rew=702.50]\n"
     ]
    },
    {
     "name": "stdout",
     "output_type": "stream",
     "text": [
      "Epoch #386: test_reward: 702.000000 ± 0.000000, best_reward: 1102.000000 ± 0.000000 in #360\n"
     ]
    },
    {
     "name": "stderr",
     "output_type": "stream",
     "text": [
      "Epoch #387: 1025it [00:02, 375.55it/s, env_step=396288, len=38, n/ep=2, n/st=64, player_1/loss=558.732, player_2/loss=436.692, rew=759.50]\n"
     ]
    },
    {
     "name": "stdout",
     "output_type": "stream",
     "text": [
      "Epoch #387: test_reward: 740.000000 ± 0.000000, best_reward: 1102.000000 ± 0.000000 in #360\n"
     ]
    },
    {
     "name": "stderr",
     "output_type": "stream",
     "text": [
      "Epoch #388: 1025it [00:02, 374.94it/s, env_step=397312, len=33, n/ep=2, n/st=64, player_1/loss=509.390, player_2/loss=622.667, rew=583.00]\n"
     ]
    },
    {
     "name": "stdout",
     "output_type": "stream",
     "text": [
      "Epoch #388: test_reward: 740.000000 ± 0.000000, best_reward: 1102.000000 ± 0.000000 in #360\n"
     ]
    },
    {
     "name": "stderr",
     "output_type": "stream",
     "text": [
      "Epoch #389: 1025it [00:02, 377.41it/s, env_step=398336, len=28, n/ep=2, n/st=64, player_1/loss=328.598, player_2/loss=530.626, rew=420.50]\n"
     ]
    },
    {
     "name": "stdout",
     "output_type": "stream",
     "text": [
      "Epoch #389: test_reward: 702.000000 ± 0.000000, best_reward: 1102.000000 ± 0.000000 in #360\n"
     ]
    },
    {
     "name": "stderr",
     "output_type": "stream",
     "text": [
      "Epoch #390: 1025it [00:02, 373.20it/s, env_step=399360, len=32, n/ep=2, n/st=64, player_1/loss=214.195, player_2/loss=165.516, rew=558.50]\n"
     ]
    },
    {
     "name": "stdout",
     "output_type": "stream",
     "text": [
      "Epoch #390: test_reward: 740.000000 ± 0.000000, best_reward: 1102.000000 ± 0.000000 in #360\n"
     ]
    },
    {
     "name": "stderr",
     "output_type": "stream",
     "text": [
      "Epoch #391: 1025it [00:02, 375.33it/s, env_step=400384, len=24, n/ep=3, n/st=64, player_1/loss=170.996, player_2/loss=153.913, rew=369.00]\n"
     ]
    },
    {
     "name": "stdout",
     "output_type": "stream",
     "text": [
      "Epoch #391: test_reward: 702.000000 ± 0.000000, best_reward: 1102.000000 ± 0.000000 in #360\n"
     ]
    },
    {
     "name": "stderr",
     "output_type": "stream",
     "text": [
      "Epoch #392: 1025it [00:02, 379.40it/s, env_step=401408, len=22, n/ep=4, n/st=64, player_1/loss=279.806, player_2/loss=202.795, rew=374.00]\n"
     ]
    },
    {
     "name": "stdout",
     "output_type": "stream",
     "text": [
      "Epoch #392: test_reward: 27.000000 ± 0.000000, best_reward: 1102.000000 ± 0.000000 in #360\n"
     ]
    },
    {
     "name": "stderr",
     "output_type": "stream",
     "text": [
      "Epoch #393: 1025it [00:02, 379.17it/s, env_step=402432, len=9, n/ep=6, n/st=64, player_1/loss=272.827, player_2/loss=787.176, rew=57.83]\n"
     ]
    },
    {
     "name": "stdout",
     "output_type": "stream",
     "text": [
      "Epoch #393: test_reward: 27.000000 ± 0.000000, best_reward: 1102.000000 ± 0.000000 in #360\n"
     ]
    },
    {
     "name": "stderr",
     "output_type": "stream",
     "text": [
      "Epoch #394: 1025it [00:02, 376.70it/s, env_step=403456, len=19, n/ep=4, n/st=64, player_1/loss=337.154, player_2/loss=1019.565, rew=256.75]\n"
     ]
    },
    {
     "name": "stdout",
     "output_type": "stream",
     "text": [
      "Epoch #394: test_reward: 252.000000 ± 0.000000, best_reward: 1102.000000 ± 0.000000 in #360\n"
     ]
    },
    {
     "name": "stderr",
     "output_type": "stream",
     "text": [
      "Epoch #395: 1025it [00:02, 373.90it/s, env_step=404480, len=23, n/ep=4, n/st=64, player_1/loss=479.176, player_2/loss=553.123, rew=394.50]\n"
     ]
    },
    {
     "name": "stdout",
     "output_type": "stream",
     "text": [
      "Epoch #395: test_reward: 702.000000 ± 0.000000, best_reward: 1102.000000 ± 0.000000 in #360\n"
     ]
    },
    {
     "name": "stderr",
     "output_type": "stream",
     "text": [
      "Epoch #396: 1025it [00:02, 375.40it/s, env_step=405504, len=30, n/ep=3, n/st=64, player_1/loss=413.570, player_2/loss=242.914, rew=549.67]\n"
     ]
    },
    {
     "name": "stdout",
     "output_type": "stream",
     "text": [
      "Epoch #396: test_reward: 527.000000 ± 0.000000, best_reward: 1102.000000 ± 0.000000 in #360\n"
     ]
    },
    {
     "name": "stderr",
     "output_type": "stream",
     "text": [
      "Epoch #397: 1025it [00:02, 377.67it/s, env_step=406528, len=13, n/ep=4, n/st=64, player_1/loss=372.311, player_2/loss=365.381, rew=98.25]\n"
     ]
    },
    {
     "name": "stdout",
     "output_type": "stream",
     "text": [
      "Epoch #397: test_reward: 54.000000 ± 0.000000, best_reward: 1102.000000 ± 0.000000 in #360\n"
     ]
    },
    {
     "name": "stderr",
     "output_type": "stream",
     "text": [
      "Epoch #398: 1025it [00:02, 378.27it/s, env_step=407552, len=13, n/ep=5, n/st=64, player_1/loss=397.277, player_2/loss=503.951, rew=93.20]\n"
     ]
    },
    {
     "name": "stdout",
     "output_type": "stream",
     "text": [
      "Epoch #398: test_reward: 77.000000 ± 0.000000, best_reward: 1102.000000 ± 0.000000 in #360\n"
     ]
    },
    {
     "name": "stderr",
     "output_type": "stream",
     "text": [
      "Epoch #399: 1025it [00:02, 376.00it/s, env_step=408576, len=14, n/ep=4, n/st=64, player_1/loss=413.062, player_2/loss=944.428, rew=144.75]\n"
     ]
    },
    {
     "name": "stdout",
     "output_type": "stream",
     "text": [
      "Epoch #399: test_reward: 44.000000 ± 0.000000, best_reward: 1102.000000 ± 0.000000 in #360\n"
     ]
    },
    {
     "name": "stderr",
     "output_type": "stream",
     "text": [
      "Epoch #400: 1025it [00:02, 376.28it/s, env_step=409600, len=13, n/ep=5, n/st=64, player_1/loss=290.857, player_2/loss=1203.442, rew=109.40]\n"
     ]
    },
    {
     "name": "stdout",
     "output_type": "stream",
     "text": [
      "Epoch #400: test_reward: 119.000000 ± 0.000000, best_reward: 1102.000000 ± 0.000000 in #360\n"
     ]
    },
    {
     "name": "stderr",
     "output_type": "stream",
     "text": [
      "Epoch #401: 1025it [00:02, 378.06it/s, env_step=410624, len=33, n/ep=2, n/st=64, player_1/loss=237.738, player_2/loss=952.725, rew=587.00]\n"
     ]
    },
    {
     "name": "stdout",
     "output_type": "stream",
     "text": [
      "Epoch #401: test_reward: 135.000000 ± 0.000000, best_reward: 1102.000000 ± 0.000000 in #360\n"
     ]
    },
    {
     "name": "stderr",
     "output_type": "stream",
     "text": [
      "Epoch #402: 1025it [00:02, 376.43it/s, env_step=411648, len=20, n/ep=3, n/st=64, player_1/loss=516.960, player_2/loss=663.218, rew=210.33]\n"
     ]
    },
    {
     "name": "stdout",
     "output_type": "stream",
     "text": [
      "Epoch #402: test_reward: 27.000000 ± 0.000000, best_reward: 1102.000000 ± 0.000000 in #360\n"
     ]
    },
    {
     "name": "stderr",
     "output_type": "stream",
     "text": [
      "Epoch #403: 1025it [00:02, 371.52it/s, env_step=412672, len=11, n/ep=7, n/st=64, player_1/loss=547.773, player_2/loss=614.330, rew=109.43]\n"
     ]
    },
    {
     "name": "stdout",
     "output_type": "stream",
     "text": [
      "Epoch #403: test_reward: 27.000000 ± 0.000000, best_reward: 1102.000000 ± 0.000000 in #360\n"
     ]
    },
    {
     "name": "stderr",
     "output_type": "stream",
     "text": [
      "Epoch #404: 1025it [00:02, 376.19it/s, env_step=413696, len=10, n/ep=8, n/st=64, player_1/loss=232.050, player_2/loss=639.375, rew=67.62]\n"
     ]
    },
    {
     "name": "stdout",
     "output_type": "stream",
     "text": [
      "Epoch #404: test_reward: 170.000000 ± 0.000000, best_reward: 1102.000000 ± 0.000000 in #360\n"
     ]
    },
    {
     "name": "stderr",
     "output_type": "stream",
     "text": [
      "Epoch #405: 1025it [00:02, 378.78it/s, env_step=414720, len=21, n/ep=5, n/st=64, player_2/loss=748.974, rew=391.40]   \n"
     ]
    },
    {
     "name": "stdout",
     "output_type": "stream",
     "text": [
      "Epoch #405: test_reward: 44.000000 ± 0.000000, best_reward: 1102.000000 ± 0.000000 in #360\n"
     ]
    },
    {
     "name": "stderr",
     "output_type": "stream",
     "text": [
      "Epoch #406: 1025it [00:02, 375.55it/s, env_step=415744, len=12, n/ep=5, n/st=64, player_1/loss=607.807, player_2/loss=611.762, rew=92.60]\n"
     ]
    },
    {
     "name": "stdout",
     "output_type": "stream",
     "text": [
      "Epoch #406: test_reward: 252.000000 ± 0.000000, best_reward: 1102.000000 ± 0.000000 in #360\n"
     ]
    },
    {
     "name": "stderr",
     "output_type": "stream",
     "text": [
      "Epoch #407: 1025it [00:02, 376.45it/s, env_step=416768, len=19, n/ep=3, n/st=64, player_1/loss=623.764, player_2/loss=441.422, rew=220.00]\n"
     ]
    },
    {
     "name": "stdout",
     "output_type": "stream",
     "text": [
      "Epoch #407: test_reward: 702.000000 ± 0.000000, best_reward: 1102.000000 ± 0.000000 in #360\n"
     ]
    },
    {
     "name": "stderr",
     "output_type": "stream",
     "text": [
      "Epoch #408: 1025it [00:02, 376.38it/s, env_step=417792, len=17, n/ep=5, n/st=64, player_2/loss=754.350, rew=198.40]   \n"
     ]
    },
    {
     "name": "stdout",
     "output_type": "stream",
     "text": [
      "Epoch #408: test_reward: 44.000000 ± 0.000000, best_reward: 1102.000000 ± 0.000000 in #360\n"
     ]
    },
    {
     "name": "stderr",
     "output_type": "stream",
     "text": [
      "Epoch #409: 1025it [00:02, 379.15it/s, env_step=418816, len=22, n/ep=3, n/st=64, player_1/loss=472.638, player_2/loss=736.479, rew=305.33]\n"
     ]
    },
    {
     "name": "stdout",
     "output_type": "stream",
     "text": [
      "Epoch #409: test_reward: 44.000000 ± 0.000000, best_reward: 1102.000000 ± 0.000000 in #360\n"
     ]
    },
    {
     "name": "stderr",
     "output_type": "stream",
     "text": [
      "Epoch #410: 1025it [00:02, 373.97it/s, env_step=419840, len=8, n/ep=7, n/st=64, player_1/loss=375.131, player_2/loss=885.389, rew=47.29]\n"
     ]
    },
    {
     "name": "stdout",
     "output_type": "stream",
     "text": [
      "Epoch #410: test_reward: 44.000000 ± 0.000000, best_reward: 1102.000000 ± 0.000000 in #360\n"
     ]
    },
    {
     "name": "stderr",
     "output_type": "stream",
     "text": [
      "Epoch #411: 1025it [00:02, 377.58it/s, env_step=420864, len=20, n/ep=3, n/st=64, player_1/loss=276.599, player_2/loss=1083.693, rew=226.33]\n"
     ]
    },
    {
     "name": "stdout",
     "output_type": "stream",
     "text": [
      "Epoch #411: test_reward: 90.000000 ± 0.000000, best_reward: 1102.000000 ± 0.000000 in #360\n"
     ]
    },
    {
     "name": "stderr",
     "output_type": "stream",
     "text": [
      "Epoch #412: 1025it [00:02, 378.24it/s, env_step=421888, len=22, n/ep=3, n/st=64, player_1/loss=327.990, player_2/loss=1180.440, rew=308.33]\n"
     ]
    },
    {
     "name": "stdout",
     "output_type": "stream",
     "text": [
      "Epoch #412: test_reward: 90.000000 ± 0.000000, best_reward: 1102.000000 ± 0.000000 in #360\n"
     ]
    },
    {
     "name": "stderr",
     "output_type": "stream",
     "text": [
      "Epoch #413: 1025it [00:02, 376.66it/s, env_step=422912, len=39, n/ep=2, n/st=64, player_1/loss=562.353, player_2/loss=553.857, rew=902.00]\n"
     ]
    },
    {
     "name": "stdout",
     "output_type": "stream",
     "text": [
      "Epoch #413: test_reward: 740.000000 ± 0.000000, best_reward: 1102.000000 ± 0.000000 in #360\n"
     ]
    },
    {
     "name": "stderr",
     "output_type": "stream",
     "text": [
      "Epoch #414: 1025it [00:02, 376.38it/s, env_step=423936, len=24, n/ep=3, n/st=64, player_1/loss=682.191, player_2/loss=381.193, rew=377.00]\n"
     ]
    },
    {
     "name": "stdout",
     "output_type": "stream",
     "text": [
      "Epoch #414: test_reward: 252.000000 ± 0.000000, best_reward: 1102.000000 ± 0.000000 in #360\n"
     ]
    },
    {
     "name": "stderr",
     "output_type": "stream",
     "text": [
      "Epoch #415: 1025it [00:02, 376.00it/s, env_step=424960, len=26, n/ep=2, n/st=64, player_1/loss=328.114, player_2/loss=525.765, rew=358.00]\n"
     ]
    },
    {
     "name": "stdout",
     "output_type": "stream",
     "text": [
      "Epoch #415: test_reward: 665.000000 ± 0.000000, best_reward: 1102.000000 ± 0.000000 in #360\n"
     ]
    },
    {
     "name": "stderr",
     "output_type": "stream",
     "text": [
      "Epoch #416: 1025it [00:02, 379.46it/s, env_step=425984, len=32, n/ep=2, n/st=64, player_1/loss=264.912, player_2/loss=685.200, rew=544.50]\n"
     ]
    },
    {
     "name": "stdout",
     "output_type": "stream",
     "text": [
      "Epoch #416: test_reward: 740.000000 ± 0.000000, best_reward: 1102.000000 ± 0.000000 in #360\n"
     ]
    },
    {
     "name": "stderr",
     "output_type": "stream",
     "text": [
      "Epoch #417: 1025it [00:02, 377.51it/s, env_step=427008, len=32, n/ep=2, n/st=64, player_1/loss=155.210, player_2/loss=825.151, rew=553.50]\n"
     ]
    },
    {
     "name": "stdout",
     "output_type": "stream",
     "text": [
      "Epoch #417: test_reward: 629.000000 ± 0.000000, best_reward: 1102.000000 ± 0.000000 in #360\n"
     ]
    },
    {
     "name": "stderr",
     "output_type": "stream",
     "text": [
      "Epoch #418: 1025it [00:02, 378.34it/s, env_step=428032, len=14, n/ep=5, n/st=64, player_1/loss=209.000, player_2/loss=737.595, rew=108.80]\n"
     ]
    },
    {
     "name": "stdout",
     "output_type": "stream",
     "text": [
      "Epoch #418: test_reward: 252.000000 ± 0.000000, best_reward: 1102.000000 ± 0.000000 in #360\n"
     ]
    },
    {
     "name": "stderr",
     "output_type": "stream",
     "text": [
      "Epoch #419: 1025it [00:02, 376.40it/s, env_step=429056, len=18, n/ep=4, n/st=64, player_1/loss=264.815, player_2/loss=638.176, rew=183.75]\n"
     ]
    },
    {
     "name": "stdout",
     "output_type": "stream",
     "text": [
      "Epoch #419: test_reward: 740.000000 ± 0.000000, best_reward: 1102.000000 ± 0.000000 in #360\n"
     ]
    },
    {
     "name": "stderr",
     "output_type": "stream",
     "text": [
      "Epoch #420: 1025it [00:02, 378.09it/s, env_step=430080, len=23, n/ep=2, n/st=64, player_1/loss=391.977, player_2/loss=587.408, rew=335.50]\n"
     ]
    },
    {
     "name": "stdout",
     "output_type": "stream",
     "text": [
      "Epoch #420: test_reward: 252.000000 ± 0.000000, best_reward: 1102.000000 ± 0.000000 in #360\n"
     ]
    },
    {
     "name": "stderr",
     "output_type": "stream",
     "text": [
      "Epoch #421: 1025it [00:02, 375.97it/s, env_step=431104, len=12, n/ep=6, n/st=64, player_1/loss=379.632, player_2/loss=590.330, rew=84.33]\n"
     ]
    },
    {
     "name": "stdout",
     "output_type": "stream",
     "text": [
      "Epoch #421: test_reward: 90.000000 ± 0.000000, best_reward: 1102.000000 ± 0.000000 in #360\n"
     ]
    },
    {
     "name": "stderr",
     "output_type": "stream",
     "text": [
      "Epoch #422: 1025it [00:02, 378.47it/s, env_step=432128, len=21, n/ep=3, n/st=64, player_1/loss=284.487, player_2/loss=706.271, rew=271.00]\n"
     ]
    },
    {
     "name": "stdout",
     "output_type": "stream",
     "text": [
      "Epoch #422: test_reward: 90.000000 ± 0.000000, best_reward: 1102.000000 ± 0.000000 in #360\n"
     ]
    },
    {
     "name": "stderr",
     "output_type": "stream",
     "text": [
      "Epoch #423: 1025it [00:02, 378.17it/s, env_step=433152, len=20, n/ep=3, n/st=64, player_1/loss=238.713, player_2/loss=458.502, rew=225.33]\n"
     ]
    },
    {
     "name": "stdout",
     "output_type": "stream",
     "text": [
      "Epoch #423: test_reward: 119.000000 ± 0.000000, best_reward: 1102.000000 ± 0.000000 in #360\n"
     ]
    },
    {
     "name": "stderr",
     "output_type": "stream",
     "text": [
      "Epoch #424: 1025it [00:02, 375.04it/s, env_step=434176, len=25, n/ep=3, n/st=64, player_1/loss=167.725, player_2/loss=558.598, rew=350.33]\n"
     ]
    },
    {
     "name": "stdout",
     "output_type": "stream",
     "text": [
      "Epoch #424: test_reward: 119.000000 ± 0.000000, best_reward: 1102.000000 ± 0.000000 in #360\n"
     ]
    },
    {
     "name": "stderr",
     "output_type": "stream",
     "text": [
      "Epoch #425: 1025it [00:02, 376.75it/s, env_step=435200, len=12, n/ep=5, n/st=64, player_1/loss=192.564, player_2/loss=775.409, rew=84.00]\n"
     ]
    },
    {
     "name": "stdout",
     "output_type": "stream",
     "text": [
      "Epoch #425: test_reward: 90.000000 ± 0.000000, best_reward: 1102.000000 ± 0.000000 in #360\n"
     ]
    },
    {
     "name": "stderr",
     "output_type": "stream",
     "text": [
      "Epoch #426: 1025it [00:02, 372.74it/s, env_step=436224, len=8, n/ep=8, n/st=64, player_1/loss=222.184, player_2/loss=1092.190, rew=42.75]\n"
     ]
    },
    {
     "name": "stdout",
     "output_type": "stream",
     "text": [
      "Epoch #426: test_reward: 27.000000 ± 0.000000, best_reward: 1102.000000 ± 0.000000 in #360\n"
     ]
    },
    {
     "name": "stderr",
     "output_type": "stream",
     "text": [
      "Epoch #427: 1025it [00:02, 380.16it/s, env_step=437248, len=11, n/ep=3, n/st=64, player_1/loss=248.509, player_2/loss=1224.088, rew=71.00]\n"
     ]
    },
    {
     "name": "stdout",
     "output_type": "stream",
     "text": [
      "Epoch #427: test_reward: 27.000000 ± 0.000000, best_reward: 1102.000000 ± 0.000000 in #360\n"
     ]
    },
    {
     "name": "stderr",
     "output_type": "stream",
     "text": [
      "Epoch #428: 1025it [00:02, 377.77it/s, env_step=438272, len=15, n/ep=4, n/st=64, player_1/loss=181.337, player_2/loss=1343.465, rew=129.50]\n"
     ]
    },
    {
     "name": "stdout",
     "output_type": "stream",
     "text": [
      "Epoch #428: test_reward: 189.000000 ± 0.000000, best_reward: 1102.000000 ± 0.000000 in #360\n"
     ]
    },
    {
     "name": "stderr",
     "output_type": "stream",
     "text": [
      "Epoch #429: 1025it [00:02, 376.82it/s, env_step=439296, len=15, n/ep=4, n/st=64, player_1/loss=350.609, player_2/loss=1131.010, rew=144.00]\n"
     ]
    },
    {
     "name": "stdout",
     "output_type": "stream",
     "text": [
      "Epoch #429: test_reward: 702.000000 ± 0.000000, best_reward: 1102.000000 ± 0.000000 in #360\n"
     ]
    },
    {
     "name": "stderr",
     "output_type": "stream",
     "text": [
      "Epoch #430: 1025it [00:02, 378.85it/s, env_step=440320, len=16, n/ep=5, n/st=64, player_1/loss=448.439, player_2/loss=606.197, rew=182.80]\n"
     ]
    },
    {
     "name": "stdout",
     "output_type": "stream",
     "text": [
      "Epoch #430: test_reward: 27.000000 ± 0.000000, best_reward: 1102.000000 ± 0.000000 in #360\n"
     ]
    },
    {
     "name": "stderr",
     "output_type": "stream",
     "text": [
      "Epoch #431: 1025it [00:02, 377.89it/s, env_step=441344, len=22, n/ep=4, n/st=64, player_1/loss=287.100, player_2/loss=381.831, rew=322.75]\n"
     ]
    },
    {
     "name": "stdout",
     "output_type": "stream",
     "text": [
      "Epoch #431: test_reward: 27.000000 ± 0.000000, best_reward: 1102.000000 ± 0.000000 in #360\n"
     ]
    },
    {
     "name": "stderr",
     "output_type": "stream",
     "text": [
      "Epoch #432: 1025it [00:02, 375.73it/s, env_step=442368, len=17, n/ep=3, n/st=64, player_1/loss=238.946, player_2/loss=653.999, rew=164.00]\n"
     ]
    },
    {
     "name": "stdout",
     "output_type": "stream",
     "text": [
      "Epoch #432: test_reward: 170.000000 ± 0.000000, best_reward: 1102.000000 ± 0.000000 in #360\n"
     ]
    },
    {
     "name": "stderr",
     "output_type": "stream",
     "text": [
      "Epoch #433: 1025it [00:02, 376.07it/s, env_step=443392, len=14, n/ep=4, n/st=64, player_1/loss=371.716, player_2/loss=774.940, rew=122.50]\n"
     ]
    },
    {
     "name": "stdout",
     "output_type": "stream",
     "text": [
      "Epoch #433: test_reward: 27.000000 ± 0.000000, best_reward: 1102.000000 ± 0.000000 in #360\n"
     ]
    },
    {
     "name": "stderr",
     "output_type": "stream",
     "text": [
      "Epoch #434: 1025it [00:02, 376.50it/s, env_step=444416, len=14, n/ep=4, n/st=64, player_1/loss=343.336, player_2/loss=789.785, rew=156.50]\n"
     ]
    },
    {
     "name": "stdout",
     "output_type": "stream",
     "text": [
      "Epoch #434: test_reward: 27.000000 ± 0.000000, best_reward: 1102.000000 ± 0.000000 in #360\n"
     ]
    },
    {
     "name": "stderr",
     "output_type": "stream",
     "text": [
      "Epoch #435: 1025it [00:02, 377.18it/s, env_step=445440, len=10, n/ep=5, n/st=64, player_1/loss=171.292, player_2/loss=968.229, rew=57.00]\n"
     ]
    },
    {
     "name": "stdout",
     "output_type": "stream",
     "text": [
      "Epoch #435: test_reward: 702.000000 ± 0.000000, best_reward: 1102.000000 ± 0.000000 in #360\n"
     ]
    },
    {
     "name": "stderr",
     "output_type": "stream",
     "text": [
      "Epoch #436: 1025it [00:02, 376.80it/s, env_step=446464, len=15, n/ep=4, n/st=64, player_1/loss=294.896, player_2/loss=880.724, rew=124.00]\n"
     ]
    },
    {
     "name": "stdout",
     "output_type": "stream",
     "text": [
      "Epoch #436: test_reward: 104.000000 ± 0.000000, best_reward: 1102.000000 ± 0.000000 in #360\n"
     ]
    },
    {
     "name": "stderr",
     "output_type": "stream",
     "text": [
      "Epoch #437: 1025it [00:02, 378.44it/s, env_step=447488, len=38, n/ep=2, n/st=64, player_1/loss=427.347, player_2/loss=851.225, rew=740.50]\n"
     ]
    },
    {
     "name": "stdout",
     "output_type": "stream",
     "text": [
      "Epoch #437: test_reward: 230.000000 ± 0.000000, best_reward: 1102.000000 ± 0.000000 in #360\n"
     ]
    },
    {
     "name": "stderr",
     "output_type": "stream",
     "text": [
      "Epoch #438: 1025it [00:02, 376.50it/s, env_step=448512, len=28, n/ep=2, n/st=64, player_1/loss=328.839, player_2/loss=830.275, rew=510.50]\n"
     ]
    },
    {
     "name": "stdout",
     "output_type": "stream",
     "text": [
      "Epoch #438: test_reward: 740.000000 ± 0.000000, best_reward: 1102.000000 ± 0.000000 in #360\n"
     ]
    },
    {
     "name": "stderr",
     "output_type": "stream",
     "text": [
      "Epoch #439: 1025it [00:02, 376.01it/s, env_step=449536, len=33, n/ep=2, n/st=64, player_1/loss=497.421, player_2/loss=620.445, rew=578.00]\n"
     ]
    },
    {
     "name": "stdout",
     "output_type": "stream",
     "text": [
      "Epoch #439: test_reward: 740.000000 ± 0.000000, best_reward: 1102.000000 ± 0.000000 in #360\n"
     ]
    },
    {
     "name": "stderr",
     "output_type": "stream",
     "text": [
      "Epoch #440: 1025it [00:02, 378.11it/s, env_step=450560, len=29, n/ep=3, n/st=64, player_1/loss=564.394, player_2/loss=291.068, rew=523.67]\n"
     ]
    },
    {
     "name": "stdout",
     "output_type": "stream",
     "text": [
      "Epoch #440: test_reward: 1102.000000 ± 0.000000, best_reward: 1102.000000 ± 0.000000 in #360\n"
     ]
    },
    {
     "name": "stderr",
     "output_type": "stream",
     "text": [
      "Epoch #441: 1025it [00:02, 376.82it/s, env_step=451584, len=16, n/ep=3, n/st=64, player_2/loss=388.137, rew=199.33]   \n"
     ]
    },
    {
     "name": "stdout",
     "output_type": "stream",
     "text": [
      "Epoch #441: test_reward: 27.000000 ± 0.000000, best_reward: 1102.000000 ± 0.000000 in #360\n"
     ]
    },
    {
     "name": "stderr",
     "output_type": "stream",
     "text": [
      "Epoch #442: 1025it [00:02, 378.88it/s, env_step=452608, len=19, n/ep=4, n/st=64, player_1/loss=337.198, player_2/loss=596.774, rew=244.75]\n"
     ]
    },
    {
     "name": "stdout",
     "output_type": "stream",
     "text": [
      "Epoch #442: test_reward: 740.000000 ± 0.000000, best_reward: 1102.000000 ± 0.000000 in #360\n"
     ]
    },
    {
     "name": "stderr",
     "output_type": "stream",
     "text": [
      "Epoch #443: 1025it [00:02, 376.22it/s, env_step=453632, len=9, n/ep=6, n/st=64, player_1/loss=216.892, player_2/loss=996.273, rew=55.00]\n"
     ]
    },
    {
     "name": "stdout",
     "output_type": "stream",
     "text": [
      "Epoch #443: test_reward: 65.000000 ± 0.000000, best_reward: 1102.000000 ± 0.000000 in #360\n"
     ]
    },
    {
     "name": "stderr",
     "output_type": "stream",
     "text": [
      "Epoch #444: 1025it [00:02, 376.64it/s, env_step=454656, len=21, n/ep=3, n/st=64, player_1/loss=153.419, player_2/loss=951.658, rew=312.67]\n"
     ]
    },
    {
     "name": "stdout",
     "output_type": "stream",
     "text": [
      "Epoch #444: test_reward: 740.000000 ± 0.000000, best_reward: 1102.000000 ± 0.000000 in #360\n"
     ]
    },
    {
     "name": "stderr",
     "output_type": "stream",
     "text": [
      "Epoch #445: 1025it [00:02, 378.72it/s, env_step=455680, len=19, n/ep=4, n/st=64, player_2/loss=563.351, rew=264.00]   \n"
     ]
    },
    {
     "name": "stdout",
     "output_type": "stream",
     "text": [
      "Epoch #445: test_reward: 350.000000 ± 0.000000, best_reward: 1102.000000 ± 0.000000 in #360\n"
     ]
    },
    {
     "name": "stderr",
     "output_type": "stream",
     "text": [
      "Epoch #446: 1025it [00:02, 375.95it/s, env_step=456704, len=19, n/ep=4, n/st=64, player_1/loss=290.579, player_2/loss=337.602, rew=232.50]\n"
     ]
    },
    {
     "name": "stdout",
     "output_type": "stream",
     "text": [
      "Epoch #446: test_reward: 740.000000 ± 0.000000, best_reward: 1102.000000 ± 0.000000 in #360\n"
     ]
    },
    {
     "name": "stderr",
     "output_type": "stream",
     "text": [
      "Epoch #447: 1025it [00:02, 377.96it/s, env_step=457728, len=12, n/ep=6, n/st=64, player_1/loss=442.689, player_2/loss=494.623, rew=98.83]\n"
     ]
    },
    {
     "name": "stdout",
     "output_type": "stream",
     "text": [
      "Epoch #447: test_reward: 170.000000 ± 0.000000, best_reward: 1102.000000 ± 0.000000 in #360\n"
     ]
    },
    {
     "name": "stderr",
     "output_type": "stream",
     "text": [
      "Epoch #448: 1025it [00:02, 378.01it/s, env_step=458752, len=27, n/ep=2, n/st=64, player_1/loss=583.080, player_2/loss=658.457, rew=401.50]\n"
     ]
    },
    {
     "name": "stdout",
     "output_type": "stream",
     "text": [
      "Epoch #448: test_reward: 740.000000 ± 0.000000, best_reward: 1102.000000 ± 0.000000 in #360\n"
     ]
    },
    {
     "name": "stderr",
     "output_type": "stream",
     "text": [
      "Epoch #449: 1025it [00:02, 374.99it/s, env_step=459776, len=26, n/ep=3, n/st=64, player_1/loss=496.225, player_2/loss=718.515, rew=418.00]\n"
     ]
    },
    {
     "name": "stdout",
     "output_type": "stream",
     "text": [
      "Epoch #449: test_reward: 702.000000 ± 0.000000, best_reward: 1102.000000 ± 0.000000 in #360\n"
     ]
    },
    {
     "name": "stderr",
     "output_type": "stream",
     "text": [
      "Epoch #450: 1025it [00:02, 376.87it/s, env_step=460800, len=11, n/ep=5, n/st=64, player_1/loss=251.114, player_2/loss=549.741, rew=92.00]\n"
     ]
    },
    {
     "name": "stdout",
     "output_type": "stream",
     "text": [
      "Epoch #450: test_reward: 702.000000 ± 0.000000, best_reward: 1102.000000 ± 0.000000 in #360\n"
     ]
    },
    {
     "name": "stderr",
     "output_type": "stream",
     "text": [
      "Epoch #451: 1025it [00:02, 375.53it/s, env_step=461824, len=38, n/ep=2, n/st=64, player_1/loss=311.206, player_2/loss=576.788, rew=759.50]\n"
     ]
    },
    {
     "name": "stdout",
     "output_type": "stream",
     "text": [
      "Epoch #451: test_reward: 740.000000 ± 0.000000, best_reward: 1102.000000 ± 0.000000 in #360\n"
     ]
    },
    {
     "name": "stderr",
     "output_type": "stream",
     "text": [
      "Epoch #452: 1025it [00:02, 378.21it/s, env_step=462848, len=30, n/ep=1, n/st=64, player_1/loss=370.432, player_2/loss=523.581, rew=464.00]\n"
     ]
    },
    {
     "name": "stdout",
     "output_type": "stream",
     "text": [
      "Epoch #452: test_reward: 702.000000 ± 0.000000, best_reward: 1102.000000 ± 0.000000 in #360\n"
     ]
    },
    {
     "name": "stderr",
     "output_type": "stream",
     "text": [
      "Epoch #453: 1025it [00:02, 376.43it/s, env_step=463872, len=16, n/ep=4, n/st=64, player_1/loss=657.493, player_2/loss=581.099, rew=182.50]\n"
     ]
    },
    {
     "name": "stdout",
     "output_type": "stream",
     "text": [
      "Epoch #453: test_reward: 27.000000 ± 0.000000, best_reward: 1102.000000 ± 0.000000 in #360\n"
     ]
    },
    {
     "name": "stderr",
     "output_type": "stream",
     "text": [
      "Epoch #454: 1025it [00:02, 375.70it/s, env_step=464896, len=32, n/ep=2, n/st=64, player_1/loss=830.612, player_2/loss=724.479, rew=545.00]\n"
     ]
    },
    {
     "name": "stdout",
     "output_type": "stream",
     "text": [
      "Epoch #454: test_reward: 702.000000 ± 0.000000, best_reward: 1102.000000 ± 0.000000 in #360\n"
     ]
    },
    {
     "name": "stderr",
     "output_type": "stream",
     "text": [
      "Epoch #455: 1025it [00:02, 378.50it/s, env_step=465920, len=16, n/ep=3, n/st=64, player_1/loss=539.657, player_2/loss=520.520, rew=227.67]\n"
     ]
    },
    {
     "name": "stdout",
     "output_type": "stream",
     "text": [
      "Epoch #455: test_reward: 27.000000 ± 0.000000, best_reward: 1102.000000 ± 0.000000 in #360\n"
     ]
    },
    {
     "name": "stderr",
     "output_type": "stream",
     "text": [
      "Epoch #456: 1025it [00:02, 378.96it/s, env_step=466944, len=14, n/ep=5, n/st=64, player_1/loss=320.838, player_2/loss=570.812, rew=157.20]\n"
     ]
    },
    {
     "name": "stdout",
     "output_type": "stream",
     "text": [
      "Epoch #456: test_reward: 27.000000 ± 0.000000, best_reward: 1102.000000 ± 0.000000 in #360\n"
     ]
    },
    {
     "name": "stderr",
     "output_type": "stream",
     "text": [
      "Epoch #457: 1025it [00:02, 377.02it/s, env_step=467968, len=14, n/ep=5, n/st=64, player_1/loss=360.072, player_2/loss=895.553, rew=135.60]\n"
     ]
    },
    {
     "name": "stdout",
     "output_type": "stream",
     "text": [
      "Epoch #457: test_reward: 44.000000 ± 0.000000, best_reward: 1102.000000 ± 0.000000 in #360\n"
     ]
    },
    {
     "name": "stderr",
     "output_type": "stream",
     "text": [
      "Epoch #458: 1025it [00:02, 380.98it/s, env_step=468992, len=13, n/ep=5, n/st=64, player_1/loss=458.472, player_2/loss=699.276, rew=114.40]\n"
     ]
    },
    {
     "name": "stdout",
     "output_type": "stream",
     "text": [
      "Epoch #458: test_reward: 44.000000 ± 0.000000, best_reward: 1102.000000 ± 0.000000 in #360\n"
     ]
    },
    {
     "name": "stderr",
     "output_type": "stream",
     "text": [
      "Epoch #459: 1025it [00:02, 376.63it/s, env_step=470016, len=17, n/ep=5, n/st=64, player_1/loss=542.503, player_2/loss=441.880, rew=218.40]\n"
     ]
    },
    {
     "name": "stdout",
     "output_type": "stream",
     "text": [
      "Epoch #459: test_reward: 527.000000 ± 0.000000, best_reward: 1102.000000 ± 0.000000 in #360\n"
     ]
    },
    {
     "name": "stderr",
     "output_type": "stream",
     "text": [
      "Epoch #460: 1025it [00:02, 378.52it/s, env_step=471040, len=27, n/ep=2, n/st=64, player_1/loss=354.175, player_2/loss=378.685, rew=449.00]\n"
     ]
    },
    {
     "name": "stdout",
     "output_type": "stream",
     "text": [
      "Epoch #460: test_reward: 779.000000 ± 0.000000, best_reward: 1102.000000 ± 0.000000 in #360\n"
     ]
    },
    {
     "name": "stderr",
     "output_type": "stream",
     "text": [
      "Epoch #461: 1025it [00:02, 364.61it/s, env_step=472064, len=12, n/ep=4, n/st=64, player_1/loss=639.915, player_2/loss=505.118, rew=93.00]\n"
     ]
    },
    {
     "name": "stdout",
     "output_type": "stream",
     "text": [
      "Epoch #461: test_reward: 464.000000 ± 0.000000, best_reward: 1102.000000 ± 0.000000 in #360\n"
     ]
    },
    {
     "name": "stderr",
     "output_type": "stream",
     "text": [
      "Epoch #462: 1025it [00:02, 373.68it/s, env_step=473088, len=17, n/ep=4, n/st=64, player_1/loss=831.633, player_2/loss=601.934, rew=189.50]\n"
     ]
    },
    {
     "name": "stdout",
     "output_type": "stream",
     "text": [
      "Epoch #462: test_reward: 44.000000 ± 0.000000, best_reward: 1102.000000 ± 0.000000 in #360\n"
     ]
    },
    {
     "name": "stderr",
     "output_type": "stream",
     "text": [
      "Epoch #463: 1025it [00:02, 375.69it/s, env_step=474112, len=19, n/ep=2, n/st=64, player_1/loss=629.742, player_2/loss=524.488, rew=229.50]\n"
     ]
    },
    {
     "name": "stdout",
     "output_type": "stream",
     "text": [
      "Epoch #463: test_reward: 252.000000 ± 0.000000, best_reward: 1102.000000 ± 0.000000 in #360\n"
     ]
    },
    {
     "name": "stderr",
     "output_type": "stream",
     "text": [
      "Epoch #464: 1025it [00:02, 375.78it/s, env_step=475136, len=17, n/ep=3, n/st=64, player_1/loss=733.731, player_2/loss=447.534, rew=177.67]\n"
     ]
    },
    {
     "name": "stdout",
     "output_type": "stream",
     "text": [
      "Epoch #464: test_reward: 90.000000 ± 0.000000, best_reward: 1102.000000 ± 0.000000 in #360\n"
     ]
    },
    {
     "name": "stderr",
     "output_type": "stream",
     "text": [
      "Epoch #465: 1025it [00:02, 375.00it/s, env_step=476160, len=9, n/ep=7, n/st=64, player_1/loss=541.084, player_2/loss=640.074, rew=47.57]\n"
     ]
    },
    {
     "name": "stdout",
     "output_type": "stream",
     "text": [
      "Epoch #465: test_reward: 27.000000 ± 0.000000, best_reward: 1102.000000 ± 0.000000 in #360\n"
     ]
    },
    {
     "name": "stderr",
     "output_type": "stream",
     "text": [
      "Epoch #466: 1025it [00:02, 377.85it/s, env_step=477184, len=21, n/ep=2, n/st=64, player_1/loss=281.898, player_2/loss=1180.954, rew=280.00]\n"
     ]
    },
    {
     "name": "stdout",
     "output_type": "stream",
     "text": [
      "Epoch #466: test_reward: 65.000000 ± 0.000000, best_reward: 1102.000000 ± 0.000000 in #360\n"
     ]
    },
    {
     "name": "stderr",
     "output_type": "stream",
     "text": [
      "Epoch #467: 1025it [00:02, 375.86it/s, env_step=478208, len=27, n/ep=3, n/st=64, player_1/loss=260.989, player_2/loss=1352.575, rew=387.00]\n"
     ]
    },
    {
     "name": "stdout",
     "output_type": "stream",
     "text": [
      "Epoch #467: test_reward: 90.000000 ± 0.000000, best_reward: 1102.000000 ± 0.000000 in #360\n"
     ]
    },
    {
     "name": "stderr",
     "output_type": "stream",
     "text": [
      "Epoch #468: 1025it [00:02, 376.86it/s, env_step=479232, len=38, n/ep=1, n/st=64, player_1/loss=254.101, player_2/loss=809.957, rew=740.00]\n"
     ]
    },
    {
     "name": "stdout",
     "output_type": "stream",
     "text": [
      "Epoch #468: test_reward: 77.000000 ± 0.000000, best_reward: 1102.000000 ± 0.000000 in #360\n"
     ]
    },
    {
     "name": "stderr",
     "output_type": "stream",
     "text": [
      "Epoch #469: 1025it [00:02, 373.10it/s, env_step=480256, len=15, n/ep=5, n/st=64, player_1/loss=396.152, player_2/loss=571.179, rew=140.60]\n"
     ]
    },
    {
     "name": "stdout",
     "output_type": "stream",
     "text": [
      "Epoch #469: test_reward: 702.000000 ± 0.000000, best_reward: 1102.000000 ± 0.000000 in #360\n"
     ]
    },
    {
     "name": "stderr",
     "output_type": "stream",
     "text": [
      "Epoch #470: 1025it [00:02, 374.97it/s, env_step=481280, len=17, n/ep=4, n/st=64, player_1/loss=296.808, player_2/loss=808.595, rew=188.50]\n"
     ]
    },
    {
     "name": "stdout",
     "output_type": "stream",
     "text": [
      "Epoch #470: test_reward: 252.000000 ± 0.000000, best_reward: 1102.000000 ± 0.000000 in #360\n"
     ]
    },
    {
     "name": "stderr",
     "output_type": "stream",
     "text": [
      "Epoch #471: 1025it [00:02, 377.62it/s, env_step=482304, len=13, n/ep=5, n/st=64, player_1/loss=357.049, player_2/loss=1105.192, rew=91.40]\n"
     ]
    },
    {
     "name": "stdout",
     "output_type": "stream",
     "text": [
      "Epoch #471: test_reward: 65.000000 ± 0.000000, best_reward: 1102.000000 ± 0.000000 in #360\n"
     ]
    },
    {
     "name": "stderr",
     "output_type": "stream",
     "text": [
      "Epoch #472: 1025it [00:02, 376.12it/s, env_step=483328, len=16, n/ep=5, n/st=64, player_1/loss=269.910, player_2/loss=904.172, rew=175.60]\n"
     ]
    },
    {
     "name": "stdout",
     "output_type": "stream",
     "text": [
      "Epoch #472: test_reward: 90.000000 ± 0.000000, best_reward: 1102.000000 ± 0.000000 in #360\n"
     ]
    },
    {
     "name": "stderr",
     "output_type": "stream",
     "text": [
      "Epoch #473: 1025it [00:02, 377.78it/s, env_step=484352, len=26, n/ep=2, n/st=64, player_1/loss=339.667, player_2/loss=836.980, rew=369.50]\n"
     ]
    },
    {
     "name": "stdout",
     "output_type": "stream",
     "text": [
      "Epoch #473: test_reward: 464.000000 ± 0.000000, best_reward: 1102.000000 ± 0.000000 in #360\n"
     ]
    },
    {
     "name": "stderr",
     "output_type": "stream",
     "text": [
      "Epoch #474: 1025it [00:02, 375.18it/s, env_step=485376, len=17, n/ep=4, n/st=64, player_1/loss=440.382, player_2/loss=753.940, rew=189.75]\n"
     ]
    },
    {
     "name": "stdout",
     "output_type": "stream",
     "text": [
      "Epoch #474: test_reward: 65.000000 ± 0.000000, best_reward: 1102.000000 ± 0.000000 in #360\n"
     ]
    },
    {
     "name": "stderr",
     "output_type": "stream",
     "text": [
      "Epoch #475: 1025it [00:02, 375.66it/s, env_step=486400, len=34, n/ep=2, n/st=64, player_1/loss=367.063, player_2/loss=527.557, rew=626.50]\n"
     ]
    },
    {
     "name": "stdout",
     "output_type": "stream",
     "text": [
      "Epoch #475: test_reward: 152.000000 ± 0.000000, best_reward: 1102.000000 ± 0.000000 in #360\n"
     ]
    },
    {
     "name": "stderr",
     "output_type": "stream",
     "text": [
      "Epoch #476: 1025it [00:02, 372.58it/s, env_step=487424, len=14, n/ep=4, n/st=64, player_1/loss=156.088, player_2/loss=643.801, rew=106.50]\n"
     ]
    },
    {
     "name": "stdout",
     "output_type": "stream",
     "text": [
      "Epoch #476: test_reward: 65.000000 ± 0.000000, best_reward: 1102.000000 ± 0.000000 in #360\n"
     ]
    },
    {
     "name": "stderr",
     "output_type": "stream",
     "text": [
      "Epoch #477: 1025it [00:02, 376.75it/s, env_step=488448, len=38, n/ep=2, n/st=64, player_1/loss=72.371, player_2/loss=846.621, rew=759.50]\n"
     ]
    },
    {
     "name": "stdout",
     "output_type": "stream",
     "text": [
      "Epoch #477: test_reward: 702.000000 ± 0.000000, best_reward: 1102.000000 ± 0.000000 in #360\n"
     ]
    },
    {
     "name": "stderr",
     "output_type": "stream",
     "text": [
      "Epoch #478: 1025it [00:02, 375.62it/s, env_step=489472, len=28, n/ep=3, n/st=64, player_1/loss=255.065, player_2/loss=1034.787, rew=483.33]\n"
     ]
    },
    {
     "name": "stdout",
     "output_type": "stream",
     "text": [
      "Epoch #478: test_reward: 495.000000 ± 0.000000, best_reward: 1102.000000 ± 0.000000 in #360\n"
     ]
    },
    {
     "name": "stderr",
     "output_type": "stream",
     "text": [
      "Epoch #479: 1025it [00:02, 375.98it/s, env_step=490496, len=13, n/ep=6, n/st=64, player_1/loss=443.540, player_2/loss=1108.414, rew=154.17]\n"
     ]
    },
    {
     "name": "stdout",
     "output_type": "stream",
     "text": [
      "Epoch #479: test_reward: 27.000000 ± 0.000000, best_reward: 1102.000000 ± 0.000000 in #360\n"
     ]
    },
    {
     "name": "stderr",
     "output_type": "stream",
     "text": [
      "Epoch #480: 1025it [00:02, 375.23it/s, env_step=491520, len=18, n/ep=4, n/st=64, player_1/loss=372.594, player_2/loss=1061.802, rew=256.00]\n"
     ]
    },
    {
     "name": "stdout",
     "output_type": "stream",
     "text": [
      "Epoch #480: test_reward: 27.000000 ± 0.000000, best_reward: 1102.000000 ± 0.000000 in #360\n"
     ]
    },
    {
     "name": "stderr",
     "output_type": "stream",
     "text": [
      "Epoch #481: 1025it [00:02, 377.35it/s, env_step=492544, len=16, n/ep=4, n/st=64, player_1/loss=381.573, player_2/loss=1098.697, rew=228.25]\n"
     ]
    },
    {
     "name": "stdout",
     "output_type": "stream",
     "text": [
      "Epoch #481: test_reward: 27.000000 ± 0.000000, best_reward: 1102.000000 ± 0.000000 in #360\n"
     ]
    },
    {
     "name": "stderr",
     "output_type": "stream",
     "text": [
      "Epoch #482: 1025it [00:02, 375.22it/s, env_step=493568, len=13, n/ep=5, n/st=64, player_1/loss=317.032, player_2/loss=896.161, rew=121.00]\n"
     ]
    },
    {
     "name": "stdout",
     "output_type": "stream",
     "text": [
      "Epoch #482: test_reward: 65.000000 ± 0.000000, best_reward: 1102.000000 ± 0.000000 in #360\n"
     ]
    },
    {
     "name": "stderr",
     "output_type": "stream",
     "text": [
      "Epoch #483: 1025it [00:02, 376.91it/s, env_step=494592, len=37, n/ep=2, n/st=64, player_1/loss=110.051, player_2/loss=838.709, rew=704.00]\n"
     ]
    },
    {
     "name": "stdout",
     "output_type": "stream",
     "text": [
      "Epoch #483: test_reward: 170.000000 ± 0.000000, best_reward: 1102.000000 ± 0.000000 in #360\n"
     ]
    },
    {
     "name": "stderr",
     "output_type": "stream",
     "text": [
      "Epoch #484: 1025it [00:02, 376.22it/s, env_step=495616, len=30, n/ep=2, n/st=64, player_1/loss=442.070, player_2/loss=570.346, rew=464.00]\n"
     ]
    },
    {
     "name": "stdout",
     "output_type": "stream",
     "text": [
      "Epoch #484: test_reward: 27.000000 ± 0.000000, best_reward: 1102.000000 ± 0.000000 in #360\n"
     ]
    },
    {
     "name": "stderr",
     "output_type": "stream",
     "text": [
      "Epoch #485: 1025it [00:02, 377.23it/s, env_step=496640, len=10, n/ep=7, n/st=64, player_1/loss=737.874, player_2/loss=551.542, rew=75.43]\n"
     ]
    },
    {
     "name": "stdout",
     "output_type": "stream",
     "text": [
      "Epoch #485: test_reward: 350.000000 ± 0.000000, best_reward: 1102.000000 ± 0.000000 in #360\n"
     ]
    },
    {
     "name": "stderr",
     "output_type": "stream",
     "text": [
      "Epoch #486: 1025it [00:02, 376.75it/s, env_step=497664, len=14, n/ep=5, n/st=64, player_1/loss=612.224, player_2/loss=613.421, rew=106.20]\n"
     ]
    },
    {
     "name": "stdout",
     "output_type": "stream",
     "text": [
      "Epoch #486: test_reward: 90.000000 ± 0.000000, best_reward: 1102.000000 ± 0.000000 in #360\n"
     ]
    },
    {
     "name": "stderr",
     "output_type": "stream",
     "text": [
      "Epoch #487: 1025it [00:02, 375.86it/s, env_step=498688, len=24, n/ep=3, n/st=64, player_1/loss=578.226, player_2/loss=787.239, rew=299.00]\n"
     ]
    },
    {
     "name": "stdout",
     "output_type": "stream",
     "text": [
      "Epoch #487: test_reward: 252.000000 ± 0.000000, best_reward: 1102.000000 ± 0.000000 in #360\n"
     ]
    },
    {
     "name": "stderr",
     "output_type": "stream",
     "text": [
      "Epoch #488: 1025it [00:02, 377.55it/s, env_step=499712, len=27, n/ep=2, n/st=64, player_2/loss=1059.708, rew=394.00]  \n"
     ]
    },
    {
     "name": "stdout",
     "output_type": "stream",
     "text": [
      "Epoch #488: test_reward: 350.000000 ± 0.000000, best_reward: 1102.000000 ± 0.000000 in #360\n"
     ]
    },
    {
     "name": "stderr",
     "output_type": "stream",
     "text": [
      "Epoch #489: 1025it [00:02, 376.94it/s, env_step=500736, len=30, n/ep=2, n/st=64, player_1/loss=468.137, player_2/loss=845.006, rew=507.50]\n"
     ]
    },
    {
     "name": "stdout",
     "output_type": "stream",
     "text": [
      "Epoch #489: test_reward: 702.000000 ± 0.000000, best_reward: 1102.000000 ± 0.000000 in #360\n"
     ]
    },
    {
     "name": "stderr",
     "output_type": "stream",
     "text": [
      "Epoch #490: 1025it [00:02, 376.13it/s, env_step=501760, len=34, n/ep=2, n/st=64, player_1/loss=549.193, player_2/loss=606.270, rew=617.50]\n"
     ]
    },
    {
     "name": "stdout",
     "output_type": "stream",
     "text": [
      "Epoch #490: test_reward: 702.000000 ± 0.000000, best_reward: 1102.000000 ± 0.000000 in #360\n"
     ]
    },
    {
     "name": "stderr",
     "output_type": "stream",
     "text": [
      "Epoch #491: 1025it [00:02, 376.93it/s, env_step=502784, len=11, n/ep=8, n/st=64, player_1/loss=635.355, player_2/loss=519.452, rew=91.00]\n"
     ]
    },
    {
     "name": "stdout",
     "output_type": "stream",
     "text": [
      "Epoch #491: test_reward: 77.000000 ± 0.000000, best_reward: 1102.000000 ± 0.000000 in #360\n"
     ]
    },
    {
     "name": "stderr",
     "output_type": "stream",
     "text": [
      "Epoch #492: 1025it [00:02, 371.58it/s, env_step=503808, len=8, n/ep=7, n/st=64, player_1/loss=336.304, player_2/loss=846.858, rew=42.14]\n"
     ]
    },
    {
     "name": "stdout",
     "output_type": "stream",
     "text": [
      "Epoch #492: test_reward: 44.000000 ± 0.000000, best_reward: 1102.000000 ± 0.000000 in #360\n"
     ]
    },
    {
     "name": "stderr",
     "output_type": "stream",
     "text": [
      "Epoch #493: 1025it [00:02, 373.79it/s, env_step=504832, len=36, n/ep=2, n/st=64, player_1/loss=272.059, player_2/loss=925.196, rew=684.50]\n"
     ]
    },
    {
     "name": "stdout",
     "output_type": "stream",
     "text": [
      "Epoch #493: test_reward: 252.000000 ± 0.000000, best_reward: 1102.000000 ± 0.000000 in #360\n"
     ]
    },
    {
     "name": "stderr",
     "output_type": "stream",
     "text": [
      "Epoch #494: 1025it [00:02, 376.13it/s, env_step=505856, len=22, n/ep=3, n/st=64, player_1/loss=433.704, player_2/loss=810.472, rew=318.00]\n"
     ]
    },
    {
     "name": "stdout",
     "output_type": "stream",
     "text": [
      "Epoch #494: test_reward: 252.000000 ± 0.000000, best_reward: 1102.000000 ± 0.000000 in #360\n"
     ]
    },
    {
     "name": "stderr",
     "output_type": "stream",
     "text": [
      "Epoch #495: 1025it [00:02, 373.18it/s, env_step=506880, len=19, n/ep=3, n/st=64, player_1/loss=563.364, player_2/loss=572.957, rew=274.33]\n"
     ]
    },
    {
     "name": "stdout",
     "output_type": "stream",
     "text": [
      "Epoch #495: test_reward: 90.000000 ± 0.000000, best_reward: 1102.000000 ± 0.000000 in #360\n"
     ]
    },
    {
     "name": "stderr",
     "output_type": "stream",
     "text": [
      "Epoch #496: 1025it [00:02, 376.22it/s, env_step=507904, len=18, n/ep=4, n/st=64, player_2/loss=812.224, rew=174.75]   \n"
     ]
    },
    {
     "name": "stdout",
     "output_type": "stream",
     "text": [
      "Epoch #496: test_reward: 252.000000 ± 0.000000, best_reward: 1102.000000 ± 0.000000 in #360\n"
     ]
    },
    {
     "name": "stderr",
     "output_type": "stream",
     "text": [
      "Epoch #497: 1025it [00:02, 375.78it/s, env_step=508928, len=14, n/ep=4, n/st=64, player_1/loss=552.221, player_2/loss=597.699, rew=127.25]\n"
     ]
    },
    {
     "name": "stdout",
     "output_type": "stream",
     "text": [
      "Epoch #497: test_reward: 44.000000 ± 0.000000, best_reward: 1102.000000 ± 0.000000 in #360\n"
     ]
    },
    {
     "name": "stderr",
     "output_type": "stream",
     "text": [
      "Epoch #498: 1025it [00:02, 371.25it/s, env_step=509952, len=29, n/ep=2, n/st=64, player_1/loss=516.975, player_2/loss=947.625, rew=518.50]\n"
     ]
    },
    {
     "name": "stdout",
     "output_type": "stream",
     "text": [
      "Epoch #498: test_reward: 527.000000 ± 0.000000, best_reward: 1102.000000 ± 0.000000 in #360\n"
     ]
    },
    {
     "name": "stderr",
     "output_type": "stream",
     "text": [
      "Epoch #499: 1025it [00:02, 375.22it/s, env_step=510976, len=20, n/ep=3, n/st=64, player_1/loss=495.422, player_2/loss=934.100, rew=295.33]\n"
     ]
    },
    {
     "name": "stdout",
     "output_type": "stream",
     "text": [
      "Epoch #499: test_reward: 119.000000 ± 0.000000, best_reward: 1102.000000 ± 0.000000 in #360\n"
     ]
    },
    {
     "name": "stderr",
     "output_type": "stream",
     "text": [
      "Epoch #500: 1025it [00:02, 376.66it/s, env_step=512000, len=23, n/ep=2, n/st=64, player_1/loss=528.204, player_2/loss=282.220, rew=392.00]\n"
     ]
    },
    {
     "name": "stdout",
     "output_type": "stream",
     "text": [
      "Epoch #500: test_reward: 252.000000 ± 0.000000, best_reward: 1102.000000 ± 0.000000 in #360\n"
     ]
    },
    {
     "name": "stderr",
     "output_type": "stream",
     "text": [
      "Epoch #501: 1025it [00:02, 374.38it/s, env_step=513024, len=15, n/ep=4, n/st=64, player_1/loss=492.732, player_2/loss=836.928, rew=141.75]\n"
     ]
    },
    {
     "name": "stdout",
     "output_type": "stream",
     "text": [
      "Epoch #501: test_reward: 104.000000 ± 0.000000, best_reward: 1102.000000 ± 0.000000 in #360\n"
     ]
    },
    {
     "name": "stderr",
     "output_type": "stream",
     "text": [
      "Epoch #502: 1025it [00:02, 377.97it/s, env_step=514048, len=36, n/ep=2, n/st=64, player_1/loss=571.704, player_2/loss=823.845, rew=667.00]\n"
     ]
    },
    {
     "name": "stdout",
     "output_type": "stream",
     "text": [
      "Epoch #502: test_reward: 252.000000 ± 0.000000, best_reward: 1102.000000 ± 0.000000 in #360\n"
     ]
    },
    {
     "name": "stderr",
     "output_type": "stream",
     "text": [
      "Epoch #503: 1025it [00:02, 376.24it/s, env_step=515072, len=12, n/ep=5, n/st=64, player_1/loss=461.195, player_2/loss=469.485, rew=88.00]\n"
     ]
    },
    {
     "name": "stdout",
     "output_type": "stream",
     "text": [
      "Epoch #503: test_reward: 90.000000 ± 0.000000, best_reward: 1102.000000 ± 0.000000 in #360\n"
     ]
    },
    {
     "name": "stderr",
     "output_type": "stream",
     "text": [
      "Epoch #504: 1025it [00:02, 375.76it/s, env_step=516096, len=22, n/ep=2, n/st=64, player_1/loss=324.129, player_2/loss=711.869, rew=308.50]\n"
     ]
    },
    {
     "name": "stdout",
     "output_type": "stream",
     "text": [
      "Epoch #504: test_reward: 740.000000 ± 0.000000, best_reward: 1102.000000 ± 0.000000 in #360\n"
     ]
    },
    {
     "name": "stderr",
     "output_type": "stream",
     "text": [
      "Epoch #505: 1025it [00:02, 372.46it/s, env_step=517120, len=20, n/ep=4, n/st=64, player_1/loss=216.857, player_2/loss=830.473, rew=275.25]\n"
     ]
    },
    {
     "name": "stdout",
     "output_type": "stream",
     "text": [
      "Epoch #505: test_reward: 90.000000 ± 0.000000, best_reward: 1102.000000 ± 0.000000 in #360\n"
     ]
    },
    {
     "name": "stderr",
     "output_type": "stream",
     "text": [
      "Epoch #506: 1025it [00:02, 374.68it/s, env_step=518144, len=31, n/ep=2, n/st=64, player_1/loss=321.938, player_2/loss=674.672, rew=556.00]\n"
     ]
    },
    {
     "name": "stdout",
     "output_type": "stream",
     "text": [
      "Epoch #506: test_reward: 252.000000 ± 0.000000, best_reward: 1102.000000 ± 0.000000 in #360\n"
     ]
    },
    {
     "name": "stderr",
     "output_type": "stream",
     "text": [
      "Epoch #507: 1025it [00:02, 376.75it/s, env_step=519168, len=16, n/ep=3, n/st=64, player_1/loss=465.134, player_2/loss=584.168, rew=147.00]\n"
     ]
    },
    {
     "name": "stdout",
     "output_type": "stream",
     "text": [
      "Epoch #507: test_reward: 152.000000 ± 0.000000, best_reward: 1102.000000 ± 0.000000 in #360\n"
     ]
    },
    {
     "name": "stderr",
     "output_type": "stream",
     "text": [
      "Epoch #508: 1025it [00:02, 375.86it/s, env_step=520192, len=16, n/ep=5, n/st=64, player_1/loss=599.449, player_2/loss=481.806, rew=181.60]\n"
     ]
    },
    {
     "name": "stdout",
     "output_type": "stream",
     "text": [
      "Epoch #508: test_reward: 170.000000 ± 0.000000, best_reward: 1102.000000 ± 0.000000 in #360\n"
     ]
    },
    {
     "name": "stderr",
     "output_type": "stream",
     "text": [
      "Epoch #509: 1025it [00:02, 374.14it/s, env_step=521216, len=16, n/ep=4, n/st=64, player_1/loss=481.811, player_2/loss=586.724, rew=171.50]\n"
     ]
    },
    {
     "name": "stdout",
     "output_type": "stream",
     "text": [
      "Epoch #509: test_reward: 54.000000 ± 0.000000, best_reward: 1102.000000 ± 0.000000 in #360\n"
     ]
    },
    {
     "name": "stderr",
     "output_type": "stream",
     "text": [
      "Epoch #510: 1025it [00:02, 376.46it/s, env_step=522240, len=17, n/ep=5, n/st=64, player_1/loss=356.597, player_2/loss=728.416, rew=218.60]\n"
     ]
    },
    {
     "name": "stdout",
     "output_type": "stream",
     "text": [
      "Epoch #510: test_reward: 90.000000 ± 0.000000, best_reward: 1102.000000 ± 0.000000 in #360\n"
     ]
    },
    {
     "name": "stderr",
     "output_type": "stream",
     "text": [
      "Epoch #511: 1025it [00:02, 371.19it/s, env_step=523264, len=14, n/ep=4, n/st=64, player_1/loss=428.046, player_2/loss=716.393, rew=105.25]\n"
     ]
    },
    {
     "name": "stdout",
     "output_type": "stream",
     "text": [
      "Epoch #511: test_reward: 90.000000 ± 0.000000, best_reward: 1102.000000 ± 0.000000 in #360\n"
     ]
    },
    {
     "name": "stderr",
     "output_type": "stream",
     "text": [
      "Epoch #512: 1025it [00:02, 374.62it/s, env_step=524288, len=25, n/ep=3, n/st=64, player_1/loss=396.715, player_2/loss=1013.474, rew=359.33]\n"
     ]
    },
    {
     "name": "stdout",
     "output_type": "stream",
     "text": [
      "Epoch #512: test_reward: 170.000000 ± 0.000000, best_reward: 1102.000000 ± 0.000000 in #360\n"
     ]
    },
    {
     "name": "stderr",
     "output_type": "stream",
     "text": [
      "Epoch #513: 1025it [00:02, 374.97it/s, env_step=525312, len=29, n/ep=2, n/st=64, player_1/loss=400.755, player_2/loss=1160.232, rew=474.50]\n"
     ]
    },
    {
     "name": "stdout",
     "output_type": "stream",
     "text": [
      "Epoch #513: test_reward: 252.000000 ± 0.000000, best_reward: 1102.000000 ± 0.000000 in #360\n"
     ]
    },
    {
     "name": "stderr",
     "output_type": "stream",
     "text": [
      "Epoch #514: 1025it [00:02, 376.38it/s, env_step=526336, len=16, n/ep=3, n/st=64, player_1/loss=390.787, player_2/loss=880.914, rew=161.00]\n"
     ]
    },
    {
     "name": "stdout",
     "output_type": "stream",
     "text": [
      "Epoch #514: test_reward: 252.000000 ± 0.000000, best_reward: 1102.000000 ± 0.000000 in #360\n"
     ]
    },
    {
     "name": "stderr",
     "output_type": "stream",
     "text": [
      "Epoch #515: 1025it [00:02, 375.55it/s, env_step=527360, len=18, n/ep=4, n/st=64, player_1/loss=397.543, player_2/loss=552.093, rew=218.75]\n"
     ]
    },
    {
     "name": "stdout",
     "output_type": "stream",
     "text": [
      "Epoch #515: test_reward: 90.000000 ± 0.000000, best_reward: 1102.000000 ± 0.000000 in #360\n"
     ]
    },
    {
     "name": "stderr",
     "output_type": "stream",
     "text": [
      "Epoch #516: 1025it [00:02, 377.82it/s, env_step=528384, len=18, n/ep=4, n/st=64, player_1/loss=295.743, player_2/loss=522.832, rew=228.75]\n"
     ]
    },
    {
     "name": "stdout",
     "output_type": "stream",
     "text": [
      "Epoch #516: test_reward: 527.000000 ± 0.000000, best_reward: 1102.000000 ± 0.000000 in #360\n"
     ]
    },
    {
     "name": "stderr",
     "output_type": "stream",
     "text": [
      "Epoch #517: 1025it [00:02, 378.91it/s, env_step=529408, len=41, n/ep=1, n/st=64, player_1/loss=377.974, player_2/loss=573.452, rew=860.00]\n"
     ]
    },
    {
     "name": "stdout",
     "output_type": "stream",
     "text": [
      "Epoch #517: test_reward: 702.000000 ± 0.000000, best_reward: 1102.000000 ± 0.000000 in #360\n"
     ]
    },
    {
     "name": "stderr",
     "output_type": "stream",
     "text": [
      "Epoch #518: 1025it [00:02, 376.57it/s, env_step=530432, len=33, n/ep=2, n/st=64, player_1/loss=395.935, player_2/loss=214.090, rew=578.00]\n"
     ]
    },
    {
     "name": "stdout",
     "output_type": "stream",
     "text": [
      "Epoch #518: test_reward: 779.000000 ± 0.000000, best_reward: 1102.000000 ± 0.000000 in #360\n"
     ]
    },
    {
     "name": "stderr",
     "output_type": "stream",
     "text": [
      "Epoch #519: 1025it [00:02, 377.52it/s, env_step=531456, len=18, n/ep=5, n/st=64, player_1/loss=434.472, player_2/loss=318.392, rew=234.60]\n"
     ]
    },
    {
     "name": "stdout",
     "output_type": "stream",
     "text": [
      "Epoch #519: test_reward: 44.000000 ± 0.000000, best_reward: 1102.000000 ± 0.000000 in #360\n"
     ]
    },
    {
     "name": "stderr",
     "output_type": "stream",
     "text": [
      "Epoch #520: 1025it [00:02, 373.11it/s, env_step=532480, len=16, n/ep=4, n/st=64, player_1/loss=413.763, player_2/loss=945.462, rew=153.75]\n"
     ]
    },
    {
     "name": "stdout",
     "output_type": "stream",
     "text": [
      "Epoch #520: test_reward: 1102.000000 ± 0.000000, best_reward: 1102.000000 ± 0.000000 in #360\n"
     ]
    },
    {
     "name": "stderr",
     "output_type": "stream",
     "text": [
      "Epoch #521: 1025it [00:02, 375.32it/s, env_step=533504, len=23, n/ep=3, n/st=64, player_1/loss=368.752, player_2/loss=1150.572, rew=333.67]\n"
     ]
    },
    {
     "name": "stdout",
     "output_type": "stream",
     "text": [
      "Epoch #521: test_reward: 740.000000 ± 0.000000, best_reward: 1102.000000 ± 0.000000 in #360\n"
     ]
    },
    {
     "name": "stderr",
     "output_type": "stream",
     "text": [
      "Epoch #522: 1025it [00:02, 377.36it/s, env_step=534528, len=15, n/ep=4, n/st=64, player_1/loss=291.236, player_2/loss=571.092, rew=215.00]\n"
     ]
    },
    {
     "name": "stdout",
     "output_type": "stream",
     "text": [
      "Epoch #522: test_reward: 27.000000 ± 0.000000, best_reward: 1102.000000 ± 0.000000 in #360\n"
     ]
    },
    {
     "name": "stderr",
     "output_type": "stream",
     "text": [
      "Epoch #523: 1025it [00:02, 376.16it/s, env_step=535552, len=23, n/ep=2, n/st=64, player_1/loss=369.959, player_2/loss=460.164, rew=392.00]\n"
     ]
    },
    {
     "name": "stdout",
     "output_type": "stream",
     "text": [
      "Epoch #523: test_reward: 740.000000 ± 0.000000, best_reward: 1102.000000 ± 0.000000 in #360\n"
     ]
    },
    {
     "name": "stderr",
     "output_type": "stream",
     "text": [
      "Epoch #524: 1025it [00:02, 379.33it/s, env_step=536576, len=34, n/ep=2, n/st=64, player_1/loss=590.550, player_2/loss=466.640, rew=596.00]\n"
     ]
    },
    {
     "name": "stdout",
     "output_type": "stream",
     "text": [
      "Epoch #524: test_reward: 495.000000 ± 0.000000, best_reward: 1102.000000 ± 0.000000 in #360\n"
     ]
    },
    {
     "name": "stderr",
     "output_type": "stream",
     "text": [
      "Epoch #525: 1025it [00:02, 374.68it/s, env_step=537600, len=19, n/ep=3, n/st=64, player_1/loss=667.041, player_2/loss=496.832, rew=269.33]\n"
     ]
    },
    {
     "name": "stdout",
     "output_type": "stream",
     "text": [
      "Epoch #525: test_reward: 27.000000 ± 0.000000, best_reward: 1102.000000 ± 0.000000 in #360\n"
     ]
    },
    {
     "name": "stderr",
     "output_type": "stream",
     "text": [
      "Epoch #526: 1025it [00:02, 373.79it/s, env_step=538624, len=29, n/ep=2, n/st=64, player_1/loss=471.078, player_2/loss=431.487, rew=477.00]\n"
     ]
    },
    {
     "name": "stdout",
     "output_type": "stream",
     "text": [
      "Epoch #526: test_reward: 275.000000 ± 0.000000, best_reward: 1102.000000 ± 0.000000 in #360\n"
     ]
    },
    {
     "name": "stderr",
     "output_type": "stream",
     "text": [
      "Epoch #527: 1025it [00:02, 376.00it/s, env_step=539648, len=18, n/ep=4, n/st=64, player_1/loss=361.738, player_2/loss=480.608, rew=253.75]\n"
     ]
    },
    {
     "name": "stdout",
     "output_type": "stream",
     "text": [
      "Epoch #527: test_reward: 90.000000 ± 0.000000, best_reward: 1102.000000 ± 0.000000 in #360\n"
     ]
    },
    {
     "name": "stderr",
     "output_type": "stream",
     "text": [
      "Epoch #528: 1025it [00:02, 370.64it/s, env_step=540672, len=19, n/ep=4, n/st=64, player_1/loss=341.141, player_2/loss=607.495, rew=198.00]\n"
     ]
    },
    {
     "name": "stdout",
     "output_type": "stream",
     "text": [
      "Epoch #528: test_reward: 189.000000 ± 0.000000, best_reward: 1102.000000 ± 0.000000 in #360\n"
     ]
    },
    {
     "name": "stderr",
     "output_type": "stream",
     "text": [
      "Epoch #529: 1025it [00:02, 375.90it/s, env_step=541696, len=19, n/ep=3, n/st=64, player_1/loss=321.004, player_2/loss=603.506, rew=206.33]\n"
     ]
    },
    {
     "name": "stdout",
     "output_type": "stream",
     "text": [
      "Epoch #529: test_reward: 252.000000 ± 0.000000, best_reward: 1102.000000 ± 0.000000 in #360\n"
     ]
    },
    {
     "name": "stderr",
     "output_type": "stream",
     "text": [
      "Epoch #530: 1025it [00:02, 375.30it/s, env_step=542720, len=41, n/ep=1, n/st=64, player_1/loss=543.370, player_2/loss=520.512, rew=860.00]\n"
     ]
    },
    {
     "name": "stdout",
     "output_type": "stream",
     "text": [
      "Epoch #530: test_reward: 560.000000 ± 0.000000, best_reward: 1102.000000 ± 0.000000 in #360\n"
     ]
    },
    {
     "name": "stderr",
     "output_type": "stream",
     "text": [
      "Epoch #531: 1025it [00:02, 378.35it/s, env_step=543744, len=14, n/ep=4, n/st=64, player_1/loss=604.256, player_2/loss=676.631, rew=160.75]\n"
     ]
    },
    {
     "name": "stdout",
     "output_type": "stream",
     "text": [
      "Epoch #531: test_reward: 27.000000 ± 0.000000, best_reward: 1102.000000 ± 0.000000 in #360\n"
     ]
    },
    {
     "name": "stderr",
     "output_type": "stream",
     "text": [
      "Epoch #532: 1025it [00:02, 376.43it/s, env_step=544768, len=22, n/ep=3, n/st=64, player_1/loss=529.643, player_2/loss=780.687, rew=272.33]\n"
     ]
    },
    {
     "name": "stdout",
     "output_type": "stream",
     "text": [
      "Epoch #532: test_reward: 350.000000 ± 0.000000, best_reward: 1102.000000 ± 0.000000 in #360\n"
     ]
    },
    {
     "name": "stderr",
     "output_type": "stream",
     "text": [
      "Epoch #533: 1025it [00:02, 372.94it/s, env_step=545792, len=22, n/ep=3, n/st=64, player_1/loss=450.581, player_2/loss=540.679, rew=294.33]\n"
     ]
    },
    {
     "name": "stdout",
     "output_type": "stream",
     "text": [
      "Epoch #533: test_reward: 65.000000 ± 0.000000, best_reward: 1102.000000 ± 0.000000 in #360\n"
     ]
    },
    {
     "name": "stderr",
     "output_type": "stream",
     "text": [
      "Epoch #534: 1025it [00:02, 371.22it/s, env_step=546816, len=25, n/ep=2, n/st=64, player_1/loss=511.552, player_2/loss=533.182, rew=343.00]\n"
     ]
    },
    {
     "name": "stdout",
     "output_type": "stream",
     "text": [
      "Epoch #534: test_reward: 740.000000 ± 0.000000, best_reward: 1102.000000 ± 0.000000 in #360\n"
     ]
    },
    {
     "name": "stderr",
     "output_type": "stream",
     "text": [
      "Epoch #535: 1025it [00:02, 377.66it/s, env_step=547840, len=24, n/ep=3, n/st=64, player_1/loss=464.696, player_2/loss=417.120, rew=381.33]\n"
     ]
    },
    {
     "name": "stdout",
     "output_type": "stream",
     "text": [
      "Epoch #535: test_reward: 350.000000 ± 0.000000, best_reward: 1102.000000 ± 0.000000 in #360\n"
     ]
    },
    {
     "name": "stderr",
     "output_type": "stream",
     "text": [
      "Epoch #536: 1025it [00:02, 372.44it/s, env_step=548864, len=20, n/ep=3, n/st=64, player_1/loss=657.968, player_2/loss=372.896, rew=252.00]\n"
     ]
    },
    {
     "name": "stdout",
     "output_type": "stream",
     "text": [
      "Epoch #536: test_reward: 324.000000 ± 0.000000, best_reward: 1102.000000 ± 0.000000 in #360\n"
     ]
    },
    {
     "name": "stderr",
     "output_type": "stream",
     "text": [
      "Epoch #537: 1025it [00:02, 375.92it/s, env_step=549888, len=25, n/ep=3, n/st=64, player_1/loss=625.416, player_2/loss=478.824, rew=346.33]\n"
     ]
    },
    {
     "name": "stdout",
     "output_type": "stream",
     "text": [
      "Epoch #537: test_reward: 527.000000 ± 0.000000, best_reward: 1102.000000 ± 0.000000 in #360\n"
     ]
    },
    {
     "name": "stderr",
     "output_type": "stream",
     "text": [
      "Epoch #538: 1025it [00:02, 379.99it/s, env_step=550912, len=35, n/ep=2, n/st=64, player_1/loss=368.514, player_2/loss=515.922, rew=648.00]\n"
     ]
    },
    {
     "name": "stdout",
     "output_type": "stream",
     "text": [
      "Epoch #538: test_reward: 527.000000 ± 0.000000, best_reward: 1102.000000 ± 0.000000 in #360\n"
     ]
    },
    {
     "name": "stderr",
     "output_type": "stream",
     "text": [
      "Epoch #539: 1025it [00:02, 390.16it/s, env_step=551936, len=34, n/ep=2, n/st=64, player_1/loss=243.850, player_2/loss=683.137, rew=602.00]\n"
     ]
    },
    {
     "name": "stdout",
     "output_type": "stream",
     "text": [
      "Epoch #539: test_reward: 740.000000 ± 0.000000, best_reward: 1102.000000 ± 0.000000 in #360\n"
     ]
    },
    {
     "name": "stderr",
     "output_type": "stream",
     "text": [
      "Epoch #540: 1025it [00:02, 389.76it/s, env_step=552960, len=23, n/ep=3, n/st=64, player_1/loss=287.074, rew=304.67]   \n"
     ]
    },
    {
     "name": "stdout",
     "output_type": "stream",
     "text": [
      "Epoch #540: test_reward: 560.000000 ± 0.000000, best_reward: 1102.000000 ± 0.000000 in #360\n"
     ]
    },
    {
     "name": "stderr",
     "output_type": "stream",
     "text": [
      "Epoch #541: 1025it [00:02, 385.84it/s, env_step=553984, len=34, n/ep=2, n/st=64, player_1/loss=379.290, player_2/loss=338.022, rew=602.00]\n"
     ]
    },
    {
     "name": "stdout",
     "output_type": "stream",
     "text": [
      "Epoch #541: test_reward: 230.000000 ± 0.000000, best_reward: 1102.000000 ± 0.000000 in #360\n"
     ]
    },
    {
     "name": "stderr",
     "output_type": "stream",
     "text": [
      "Epoch #542: 1025it [00:02, 376.07it/s, env_step=555008, len=35, n/ep=2, n/st=64, player_1/loss=500.448, player_2/loss=332.929, rew=629.50]\n"
     ]
    },
    {
     "name": "stdout",
     "output_type": "stream",
     "text": [
      "Epoch #542: test_reward: 560.000000 ± 0.000000, best_reward: 1102.000000 ± 0.000000 in #360\n"
     ]
    },
    {
     "name": "stderr",
     "output_type": "stream",
     "text": [
      "Epoch #543: 1025it [00:02, 376.70it/s, env_step=556032, len=34, n/ep=2, n/st=64, player_2/loss=301.177, rew=598.50]   \n"
     ]
    },
    {
     "name": "stdout",
     "output_type": "stream",
     "text": [
      "Epoch #543: test_reward: 629.000000 ± 0.000000, best_reward: 1102.000000 ± 0.000000 in #360\n"
     ]
    },
    {
     "name": "stderr",
     "output_type": "stream",
     "text": [
      "Epoch #544: 1025it [00:02, 375.89it/s, env_step=557056, len=33, n/ep=2, n/st=64, player_1/loss=499.554, player_2/loss=405.619, rew=587.00]\n"
     ]
    },
    {
     "name": "stdout",
     "output_type": "stream",
     "text": [
      "Epoch #544: test_reward: 740.000000 ± 0.000000, best_reward: 1102.000000 ± 0.000000 in #360\n"
     ]
    },
    {
     "name": "stderr",
     "output_type": "stream",
     "text": [
      "Epoch #545: 1025it [00:02, 375.63it/s, env_step=558080, len=38, n/ep=1, n/st=64, player_1/loss=309.799, player_2/loss=713.978, rew=740.00]\n"
     ]
    },
    {
     "name": "stdout",
     "output_type": "stream",
     "text": [
      "Epoch #545: test_reward: 702.000000 ± 0.000000, best_reward: 1102.000000 ± 0.000000 in #360\n"
     ]
    },
    {
     "name": "stderr",
     "output_type": "stream",
     "text": [
      "Epoch #546: 1025it [00:02, 379.13it/s, env_step=559104, len=38, n/ep=2, n/st=64, player_1/loss=398.372, player_2/loss=599.735, rew=740.50]\n"
     ]
    },
    {
     "name": "stdout",
     "output_type": "stream",
     "text": [
      "Epoch #546: test_reward: 377.000000 ± 0.000000, best_reward: 1102.000000 ± 0.000000 in #360\n"
     ]
    },
    {
     "name": "stderr",
     "output_type": "stream",
     "text": [
      "Epoch #547: 1025it [00:02, 375.57it/s, env_step=560128, len=38, n/ep=1, n/st=64, player_1/loss=521.912, player_2/loss=590.384, rew=740.00]\n"
     ]
    },
    {
     "name": "stdout",
     "output_type": "stream",
     "text": [
      "Epoch #547: test_reward: 740.000000 ± 0.000000, best_reward: 1102.000000 ± 0.000000 in #360\n"
     ]
    },
    {
     "name": "stderr",
     "output_type": "stream",
     "text": [
      "Epoch #548: 1025it [00:02, 374.48it/s, env_step=561152, len=26, n/ep=3, n/st=64, player_1/loss=496.577, player_2/loss=601.626, rew=430.00]\n"
     ]
    },
    {
     "name": "stdout",
     "output_type": "stream",
     "text": [
      "Epoch #548: test_reward: 27.000000 ± 0.000000, best_reward: 1102.000000 ± 0.000000 in #360\n"
     ]
    },
    {
     "name": "stderr",
     "output_type": "stream",
     "text": [
      "Epoch #549: 1025it [00:02, 372.07it/s, env_step=562176, len=37, n/ep=1, n/st=64, player_1/loss=401.778, player_2/loss=273.202, rew=702.00]\n"
     ]
    },
    {
     "name": "stdout",
     "output_type": "stream",
     "text": [
      "Epoch #549: test_reward: 740.000000 ± 0.000000, best_reward: 1102.000000 ± 0.000000 in #360\n"
     ]
    },
    {
     "name": "stderr",
     "output_type": "stream",
     "text": [
      "Epoch #550: 1025it [00:02, 377.82it/s, env_step=563200, len=24, n/ep=2, n/st=64, player_1/loss=448.151, player_2/loss=480.968, rew=359.50]\n"
     ]
    },
    {
     "name": "stdout",
     "output_type": "stream",
     "text": [
      "Epoch #550: test_reward: 629.000000 ± 0.000000, best_reward: 1102.000000 ± 0.000000 in #360\n"
     ]
    },
    {
     "name": "stderr",
     "output_type": "stream",
     "text": [
      "Epoch #551: 1025it [00:02, 378.66it/s, env_step=564224, len=38, n/ep=1, n/st=64, player_1/loss=468.009, player_2/loss=675.099, rew=740.00]\n"
     ]
    },
    {
     "name": "stdout",
     "output_type": "stream",
     "text": [
      "Epoch #551: test_reward: 702.000000 ± 0.000000, best_reward: 1102.000000 ± 0.000000 in #360\n"
     ]
    },
    {
     "name": "stderr",
     "output_type": "stream",
     "text": [
      "Epoch #552: 1025it [00:02, 374.80it/s, env_step=565248, len=13, n/ep=6, n/st=64, player_1/loss=405.952, player_2/loss=492.284, rew=103.33]\n"
     ]
    },
    {
     "name": "stdout",
     "output_type": "stream",
     "text": [
      "Epoch #552: test_reward: 54.000000 ± 0.000000, best_reward: 1102.000000 ± 0.000000 in #360\n"
     ]
    },
    {
     "name": "stderr",
     "output_type": "stream",
     "text": [
      "Epoch #553: 1025it [00:02, 377.09it/s, env_step=566272, len=36, n/ep=2, n/st=64, player_1/loss=845.201, player_2/loss=816.773, rew=667.00]\n"
     ]
    },
    {
     "name": "stdout",
     "output_type": "stream",
     "text": [
      "Epoch #553: test_reward: 665.000000 ± 0.000000, best_reward: 1102.000000 ± 0.000000 in #360\n"
     ]
    },
    {
     "name": "stderr",
     "output_type": "stream",
     "text": [
      "Epoch #554: 1025it [00:02, 375.04it/s, env_step=567296, len=18, n/ep=3, n/st=64, player_1/loss=893.373, player_2/loss=667.026, rew=179.00]\n"
     ]
    },
    {
     "name": "stdout",
     "output_type": "stream",
     "text": [
      "Epoch #554: test_reward: 90.000000 ± 0.000000, best_reward: 1102.000000 ± 0.000000 in #360\n"
     ]
    },
    {
     "name": "stderr",
     "output_type": "stream",
     "text": [
      "Epoch #555: 1025it [00:02, 375.19it/s, env_step=568320, len=18, n/ep=4, n/st=64, player_1/loss=429.538, player_2/loss=391.487, rew=267.25]\n"
     ]
    },
    {
     "name": "stdout",
     "output_type": "stream",
     "text": [
      "Epoch #555: test_reward: 27.000000 ± 0.000000, best_reward: 1102.000000 ± 0.000000 in #360\n"
     ]
    },
    {
     "name": "stderr",
     "output_type": "stream",
     "text": [
      "Epoch #556: 1025it [00:02, 375.42it/s, env_step=569344, len=34, n/ep=2, n/st=64, player_1/loss=325.400, player_2/loss=554.095, rew=617.50]\n"
     ]
    },
    {
     "name": "stdout",
     "output_type": "stream",
     "text": [
      "Epoch #556: test_reward: 740.000000 ± 0.000000, best_reward: 1102.000000 ± 0.000000 in #360\n"
     ]
    },
    {
     "name": "stderr",
     "output_type": "stream",
     "text": [
      "Epoch #557: 1025it [00:02, 376.58it/s, env_step=570368, len=28, n/ep=2, n/st=64, player_1/loss=390.850, player_2/loss=519.891, rew=474.50]\n"
     ]
    },
    {
     "name": "stdout",
     "output_type": "stream",
     "text": [
      "Epoch #557: test_reward: 1102.000000 ± 0.000000, best_reward: 1102.000000 ± 0.000000 in #360\n"
     ]
    },
    {
     "name": "stderr",
     "output_type": "stream",
     "text": [
      "Epoch #558: 1025it [00:02, 375.99it/s, env_step=571392, len=38, n/ep=2, n/st=64, player_1/loss=380.120, player_2/loss=369.255, rew=760.50]\n"
     ]
    },
    {
     "name": "stdout",
     "output_type": "stream",
     "text": [
      "Epoch #558: test_reward: 702.000000 ± 0.000000, best_reward: 1102.000000 ± 0.000000 in #360\n"
     ]
    },
    {
     "name": "stderr",
     "output_type": "stream",
     "text": [
      "Epoch #559: 1025it [00:02, 378.54it/s, env_step=572416, len=38, n/ep=1, n/st=64, player_1/loss=193.560, player_2/loss=176.490, rew=740.00]\n"
     ]
    },
    {
     "name": "stdout",
     "output_type": "stream",
     "text": [
      "Epoch #559: test_reward: 702.000000 ± 0.000000, best_reward: 1102.000000 ± 0.000000 in #360\n"
     ]
    },
    {
     "name": "stderr",
     "output_type": "stream",
     "text": [
      "Epoch #560: 1025it [00:02, 375.32it/s, env_step=573440, len=30, n/ep=2, n/st=64, player_1/loss=267.582, player_2/loss=306.543, rew=514.00]\n"
     ]
    },
    {
     "name": "stdout",
     "output_type": "stream",
     "text": [
      "Epoch #560: test_reward: 740.000000 ± 0.000000, best_reward: 1102.000000 ± 0.000000 in #360\n"
     ]
    },
    {
     "name": "stderr",
     "output_type": "stream",
     "text": [
      "Epoch #561: 1025it [00:02, 374.35it/s, env_step=574464, len=25, n/ep=3, n/st=64, player_1/loss=299.476, player_2/loss=599.417, rew=366.67]\n"
     ]
    },
    {
     "name": "stdout",
     "output_type": "stream",
     "text": [
      "Epoch #561: test_reward: 740.000000 ± 0.000000, best_reward: 1102.000000 ± 0.000000 in #360\n"
     ]
    },
    {
     "name": "stderr",
     "output_type": "stream",
     "text": [
      "Epoch #562: 1025it [00:02, 374.12it/s, env_step=575488, len=34, n/ep=2, n/st=64, player_1/loss=398.322, player_2/loss=493.359, rew=606.50]\n"
     ]
    },
    {
     "name": "stdout",
     "output_type": "stream",
     "text": [
      "Epoch #562: test_reward: 860.000000 ± 0.000000, best_reward: 1102.000000 ± 0.000000 in #360\n"
     ]
    },
    {
     "name": "stderr",
     "output_type": "stream",
     "text": [
      "Epoch #563: 1025it [00:02, 375.21it/s, env_step=576512, len=29, n/ep=1, n/st=64, player_1/loss=581.110, player_2/loss=396.971, rew=434.00]\n"
     ]
    },
    {
     "name": "stdout",
     "output_type": "stream",
     "text": [
      "Epoch #563: test_reward: 740.000000 ± 0.000000, best_reward: 1102.000000 ± 0.000000 in #360\n"
     ]
    },
    {
     "name": "stderr",
     "output_type": "stream",
     "text": [
      "Epoch #564: 1025it [00:02, 377.03it/s, env_step=577536, len=36, n/ep=2, n/st=64, player_1/loss=539.049, player_2/loss=318.451, rew=783.00]\n"
     ]
    },
    {
     "name": "stdout",
     "output_type": "stream",
     "text": [
      "Epoch #564: test_reward: 27.000000 ± 0.000000, best_reward: 1102.000000 ± 0.000000 in #360\n"
     ]
    },
    {
     "name": "stderr",
     "output_type": "stream",
     "text": [
      "Epoch #565: 1025it [00:02, 372.57it/s, env_step=578560, len=18, n/ep=3, n/st=64, player_1/loss=400.452, player_2/loss=390.537, rew=186.33]\n"
     ]
    },
    {
     "name": "stdout",
     "output_type": "stream",
     "text": [
      "Epoch #565: test_reward: 702.000000 ± 0.000000, best_reward: 1102.000000 ± 0.000000 in #360\n"
     ]
    },
    {
     "name": "stderr",
     "output_type": "stream",
     "text": [
      "Epoch #566: 1025it [00:02, 377.62it/s, env_step=579584, len=31, n/ep=2, n/st=64, player_1/loss=703.768, player_2/loss=709.061, rew=514.00]\n"
     ]
    },
    {
     "name": "stdout",
     "output_type": "stream",
     "text": [
      "Epoch #566: test_reward: 1102.000000 ± 0.000000, best_reward: 1102.000000 ± 0.000000 in #360\n"
     ]
    },
    {
     "name": "stderr",
     "output_type": "stream",
     "text": [
      "Epoch #567: 1025it [00:02, 377.28it/s, env_step=580608, len=42, n/ep=1, n/st=64, player_1/loss=751.554, player_2/loss=626.371, rew=1102.00]\n"
     ]
    },
    {
     "name": "stdout",
     "output_type": "stream",
     "text": [
      "Epoch #567: test_reward: 702.000000 ± 0.000000, best_reward: 1102.000000 ± 0.000000 in #360\n"
     ]
    },
    {
     "name": "stderr",
     "output_type": "stream",
     "text": [
      "Epoch #568: 1025it [00:02, 374.29it/s, env_step=581632, len=21, n/ep=3, n/st=64, player_1/loss=346.811, player_2/loss=545.094, rew=311.33]\n"
     ]
    },
    {
     "name": "stdout",
     "output_type": "stream",
     "text": [
      "Epoch #568: test_reward: 702.000000 ± 0.000000, best_reward: 1102.000000 ± 0.000000 in #360\n"
     ]
    },
    {
     "name": "stderr",
     "output_type": "stream",
     "text": [
      "Epoch #569: 1025it [00:02, 377.55it/s, env_step=582656, len=32, n/ep=2, n/st=64, player_1/loss=541.714, player_2/loss=469.483, rew=558.50]\n"
     ]
    },
    {
     "name": "stdout",
     "output_type": "stream",
     "text": [
      "Epoch #569: test_reward: 702.000000 ± 0.000000, best_reward: 1102.000000 ± 0.000000 in #360\n"
     ]
    },
    {
     "name": "stderr",
     "output_type": "stream",
     "text": [
      "Epoch #570: 1025it [00:02, 373.62it/s, env_step=583680, len=40, n/ep=1, n/st=64, player_1/loss=694.953, player_2/loss=606.112, rew=819.00]\n"
     ]
    },
    {
     "name": "stdout",
     "output_type": "stream",
     "text": [
      "Epoch #570: test_reward: 740.000000 ± 0.000000, best_reward: 1102.000000 ± 0.000000 in #360\n"
     ]
    },
    {
     "name": "stderr",
     "output_type": "stream",
     "text": [
      "Epoch #571: 1025it [00:02, 372.84it/s, env_step=584704, len=37, n/ep=2, n/st=64, player_1/loss=336.085, player_2/loss=420.034, rew=702.50]\n"
     ]
    },
    {
     "name": "stdout",
     "output_type": "stream",
     "text": [
      "Epoch #571: test_reward: 702.000000 ± 0.000000, best_reward: 1102.000000 ± 0.000000 in #360\n"
     ]
    },
    {
     "name": "stderr",
     "output_type": "stream",
     "text": [
      "Epoch #572: 1025it [00:02, 375.97it/s, env_step=585728, len=13, n/ep=5, n/st=64, player_1/loss=367.184, player_2/loss=529.399, rew=104.20]\n"
     ]
    },
    {
     "name": "stdout",
     "output_type": "stream",
     "text": [
      "Epoch #572: test_reward: 702.000000 ± 0.000000, best_reward: 1102.000000 ± 0.000000 in #360\n"
     ]
    },
    {
     "name": "stderr",
     "output_type": "stream",
     "text": [
      "Epoch #573: 1025it [00:02, 374.00it/s, env_step=586752, len=23, n/ep=2, n/st=64, player_1/loss=488.472, player_2/loss=548.107, rew=277.00]\n"
     ]
    },
    {
     "name": "stdout",
     "output_type": "stream",
     "text": [
      "Epoch #573: test_reward: 702.000000 ± 0.000000, best_reward: 1102.000000 ± 0.000000 in #360\n"
     ]
    },
    {
     "name": "stderr",
     "output_type": "stream",
     "text": [
      "Epoch #574: 1025it [00:02, 373.37it/s, env_step=587776, len=33, n/ep=2, n/st=64, player_1/loss=721.448, player_2/loss=422.455, rew=578.00]\n"
     ]
    },
    {
     "name": "stdout",
     "output_type": "stream",
     "text": [
      "Epoch #574: test_reward: 702.000000 ± 0.000000, best_reward: 1102.000000 ± 0.000000 in #360\n"
     ]
    },
    {
     "name": "stderr",
     "output_type": "stream",
     "text": [
      "Epoch #575: 1025it [00:02, 372.94it/s, env_step=588800, len=34, n/ep=2, n/st=64, player_1/loss=942.411, player_2/loss=455.153, rew=602.00]\n"
     ]
    },
    {
     "name": "stdout",
     "output_type": "stream",
     "text": [
      "Epoch #575: test_reward: 740.000000 ± 0.000000, best_reward: 1102.000000 ± 0.000000 in #360\n"
     ]
    },
    {
     "name": "stderr",
     "output_type": "stream",
     "text": [
      "Epoch #576: 1025it [00:02, 373.68it/s, env_step=589824, len=23, n/ep=4, n/st=64, player_1/loss=648.340, player_2/loss=560.174, rew=371.50]\n"
     ]
    },
    {
     "name": "stdout",
     "output_type": "stream",
     "text": [
      "Epoch #576: test_reward: 740.000000 ± 0.000000, best_reward: 1102.000000 ± 0.000000 in #360\n"
     ]
    },
    {
     "name": "stderr",
     "output_type": "stream",
     "text": [
      "Epoch #577: 1025it [00:02, 378.52it/s, env_step=590848, len=31, n/ep=2, n/st=64, player_1/loss=440.746, player_2/loss=243.327, rew=511.00]\n"
     ]
    },
    {
     "name": "stdout",
     "output_type": "stream",
     "text": [
      "Epoch #577: test_reward: 702.000000 ± 0.000000, best_reward: 1102.000000 ± 0.000000 in #360\n"
     ]
    },
    {
     "name": "stderr",
     "output_type": "stream",
     "text": [
      "Epoch #578: 1025it [00:02, 376.96it/s, env_step=591872, len=34, n/ep=2, n/st=64, player_1/loss=353.938, player_2/loss=112.199, rew=602.00]\n"
     ]
    },
    {
     "name": "stdout",
     "output_type": "stream",
     "text": [
      "Epoch #578: test_reward: 740.000000 ± 0.000000, best_reward: 1102.000000 ± 0.000000 in #360\n"
     ]
    },
    {
     "name": "stderr",
     "output_type": "stream",
     "text": [
      "Epoch #579: 1025it [00:02, 374.30it/s, env_step=592896, len=28, n/ep=3, n/st=64, player_1/loss=271.166, player_2/loss=370.130, rew=421.33]\n"
     ]
    },
    {
     "name": "stdout",
     "output_type": "stream",
     "text": [
      "Epoch #579: test_reward: 629.000000 ± 0.000000, best_reward: 1102.000000 ± 0.000000 in #360\n"
     ]
    },
    {
     "name": "stderr",
     "output_type": "stream",
     "text": [
      "Epoch #580: 1025it [00:02, 371.66it/s, env_step=593920, len=25, n/ep=3, n/st=64, player_1/loss=357.172, player_2/loss=485.519, rew=394.00]\n"
     ]
    },
    {
     "name": "stdout",
     "output_type": "stream",
     "text": [
      "Epoch #580: test_reward: 819.000000 ± 0.000000, best_reward: 1102.000000 ± 0.000000 in #360\n"
     ]
    },
    {
     "name": "stderr",
     "output_type": "stream",
     "text": [
      "Epoch #581: 1025it [00:02, 375.84it/s, env_step=594944, len=32, n/ep=2, n/st=64, player_1/loss=265.824, player_2/loss=228.377, rew=543.50]\n"
     ]
    },
    {
     "name": "stdout",
     "output_type": "stream",
     "text": [
      "Epoch #581: test_reward: 495.000000 ± 0.000000, best_reward: 1102.000000 ± 0.000000 in #360\n"
     ]
    },
    {
     "name": "stderr",
     "output_type": "stream",
     "text": [
      "Epoch #582: 1025it [00:02, 377.50it/s, env_step=595968, len=21, n/ep=3, n/st=64, player_2/loss=286.110, rew=260.33]   \n"
     ]
    },
    {
     "name": "stdout",
     "output_type": "stream",
     "text": [
      "Epoch #582: test_reward: 495.000000 ± 0.000000, best_reward: 1102.000000 ± 0.000000 in #360\n"
     ]
    },
    {
     "name": "stderr",
     "output_type": "stream",
     "text": [
      "Epoch #583: 1025it [00:02, 375.57it/s, env_step=596992, len=34, n/ep=2, n/st=64, player_1/loss=334.668, player_2/loss=243.828, rew=617.50]\n"
     ]
    },
    {
     "name": "stdout",
     "output_type": "stream",
     "text": [
      "Epoch #583: test_reward: 495.000000 ± 0.000000, best_reward: 1102.000000 ± 0.000000 in #360\n"
     ]
    },
    {
     "name": "stderr",
     "output_type": "stream",
     "text": [
      "Epoch #584: 1025it [00:02, 372.05it/s, env_step=598016, len=25, n/ep=2, n/st=64, player_1/loss=399.545, player_2/loss=277.851, rew=328.50]\n"
     ]
    },
    {
     "name": "stdout",
     "output_type": "stream",
     "text": [
      "Epoch #584: test_reward: 495.000000 ± 0.000000, best_reward: 1102.000000 ± 0.000000 in #360\n"
     ]
    },
    {
     "name": "stderr",
     "output_type": "stream",
     "text": [
      "Epoch #585: 1025it [00:02, 378.87it/s, env_step=599040, len=28, n/ep=3, n/st=64, player_2/loss=463.459, rew=543.67]   \n"
     ]
    },
    {
     "name": "stdout",
     "output_type": "stream",
     "text": [
      "Epoch #585: test_reward: 702.000000 ± 0.000000, best_reward: 1102.000000 ± 0.000000 in #360\n"
     ]
    },
    {
     "name": "stderr",
     "output_type": "stream",
     "text": [
      "Epoch #586: 1025it [00:02, 376.86it/s, env_step=600064, len=35, n/ep=2, n/st=64, player_1/loss=359.670, player_2/loss=553.122, rew=648.00]\n"
     ]
    },
    {
     "name": "stdout",
     "output_type": "stream",
     "text": [
      "Epoch #586: test_reward: 702.000000 ± 0.000000, best_reward: 1102.000000 ± 0.000000 in #360\n"
     ]
    },
    {
     "name": "stderr",
     "output_type": "stream",
     "text": [
      "Epoch #587: 1025it [00:02, 379.35it/s, env_step=601088, len=25, n/ep=3, n/st=64, player_1/loss=321.103, player_2/loss=311.334, rew=354.33]\n"
     ]
    },
    {
     "name": "stdout",
     "output_type": "stream",
     "text": [
      "Epoch #587: test_reward: 1102.000000 ± 0.000000, best_reward: 1102.000000 ± 0.000000 in #360\n"
     ]
    },
    {
     "name": "stderr",
     "output_type": "stream",
     "text": [
      "Epoch #588: 1025it [00:02, 374.06it/s, env_step=602112, len=32, n/ep=2, n/st=64, player_1/loss=165.212, player_2/loss=261.948, rew=539.50]\n"
     ]
    },
    {
     "name": "stdout",
     "output_type": "stream",
     "text": [
      "Epoch #588: test_reward: 702.000000 ± 0.000000, best_reward: 1102.000000 ± 0.000000 in #360\n"
     ]
    },
    {
     "name": "stderr",
     "output_type": "stream",
     "text": [
      "Epoch #589: 1025it [00:02, 375.83it/s, env_step=603136, len=37, n/ep=2, n/st=64, player_1/loss=272.548, player_2/loss=317.502, rew=721.00]\n"
     ]
    },
    {
     "name": "stdout",
     "output_type": "stream",
     "text": [
      "Epoch #589: test_reward: 1102.000000 ± 0.000000, best_reward: 1102.000000 ± 0.000000 in #360\n"
     ]
    },
    {
     "name": "stderr",
     "output_type": "stream",
     "text": [
      "Epoch #590: 1025it [00:02, 374.18it/s, env_step=604160, len=34, n/ep=2, n/st=64, player_1/loss=681.474, player_2/loss=148.003, rew=602.00]\n"
     ]
    },
    {
     "name": "stdout",
     "output_type": "stream",
     "text": [
      "Epoch #590: test_reward: 702.000000 ± 0.000000, best_reward: 1102.000000 ± 0.000000 in #360\n"
     ]
    },
    {
     "name": "stderr",
     "output_type": "stream",
     "text": [
      "Epoch #591: 1025it [00:02, 372.95it/s, env_step=605184, len=14, n/ep=5, n/st=64, player_1/loss=737.598, player_2/loss=98.080, rew=125.20]\n"
     ]
    },
    {
     "name": "stdout",
     "output_type": "stream",
     "text": [
      "Epoch #591: test_reward: 189.000000 ± 0.000000, best_reward: 1102.000000 ± 0.000000 in #360\n"
     ]
    },
    {
     "name": "stderr",
     "output_type": "stream",
     "text": [
      "Epoch #592: 1025it [00:02, 375.82it/s, env_step=606208, len=35, n/ep=2, n/st=64, player_1/loss=391.484, player_2/loss=394.056, rew=653.00]\n"
     ]
    },
    {
     "name": "stdout",
     "output_type": "stream",
     "text": [
      "Epoch #592: test_reward: 779.000000 ± 0.000000, best_reward: 1102.000000 ± 0.000000 in #360\n"
     ]
    },
    {
     "name": "stderr",
     "output_type": "stream",
     "text": [
      "Epoch #593: 1025it [00:02, 372.33it/s, env_step=607232, len=19, n/ep=4, n/st=64, player_1/loss=509.325, player_2/loss=567.778, rew=233.50]\n"
     ]
    },
    {
     "name": "stdout",
     "output_type": "stream",
     "text": [
      "Epoch #593: test_reward: 44.000000 ± 0.000000, best_reward: 1102.000000 ± 0.000000 in #360\n"
     ]
    },
    {
     "name": "stderr",
     "output_type": "stream",
     "text": [
      "Epoch #594: 1025it [00:02, 375.02it/s, env_step=608256, len=30, n/ep=3, n/st=64, player_1/loss=675.987, player_2/loss=475.748, rew=528.00]\n"
     ]
    },
    {
     "name": "stdout",
     "output_type": "stream",
     "text": [
      "Epoch #594: test_reward: 702.000000 ± 0.000000, best_reward: 1102.000000 ± 0.000000 in #360\n"
     ]
    },
    {
     "name": "stderr",
     "output_type": "stream",
     "text": [
      "Epoch #595: 1025it [00:02, 375.13it/s, env_step=609280, len=31, n/ep=2, n/st=64, player_1/loss=446.362, player_2/loss=425.233, rew=532.00]\n"
     ]
    },
    {
     "name": "stdout",
     "output_type": "stream",
     "text": [
      "Epoch #595: test_reward: 702.000000 ± 0.000000, best_reward: 1102.000000 ± 0.000000 in #360\n"
     ]
    },
    {
     "name": "stderr",
     "output_type": "stream",
     "text": [
      "Epoch #596: 1025it [00:02, 373.23it/s, env_step=610304, len=42, n/ep=1, n/st=64, player_1/loss=356.320, player_2/loss=513.861, rew=1102.00]\n"
     ]
    },
    {
     "name": "stdout",
     "output_type": "stream",
     "text": [
      "Epoch #596: test_reward: 1102.000000 ± 0.000000, best_reward: 1102.000000 ± 0.000000 in #360\n"
     ]
    },
    {
     "name": "stderr",
     "output_type": "stream",
     "text": [
      "Epoch #597: 1025it [00:02, 376.14it/s, env_step=611328, len=10, n/ep=7, n/st=64, player_1/loss=282.762, player_2/loss=528.653, rew=64.43]\n"
     ]
    },
    {
     "name": "stdout",
     "output_type": "stream",
     "text": [
      "Epoch #597: test_reward: 27.000000 ± 0.000000, best_reward: 1102.000000 ± 0.000000 in #360\n"
     ]
    },
    {
     "name": "stderr",
     "output_type": "stream",
     "text": [
      "Epoch #598: 1025it [00:02, 369.56it/s, env_step=612352, len=21, n/ep=3, n/st=64, player_1/loss=408.899, player_2/loss=704.173, rew=230.33]\n"
     ]
    },
    {
     "name": "stdout",
     "output_type": "stream",
     "text": [
      "Epoch #598: test_reward: 170.000000 ± 0.000000, best_reward: 1102.000000 ± 0.000000 in #360\n"
     ]
    },
    {
     "name": "stderr",
     "output_type": "stream",
     "text": [
      "Epoch #599: 1025it [00:02, 466.19it/s, env_step=613376, len=34, n/ep=2, n/st=64, player_1/loss=567.228, player_2/loss=469.596, rew=617.50]\n"
     ]
    },
    {
     "name": "stdout",
     "output_type": "stream",
     "text": [
      "Epoch #599: test_reward: 1102.000000 ± 0.000000, best_reward: 1102.000000 ± 0.000000 in #360\n"
     ]
    },
    {
     "name": "stderr",
     "output_type": "stream",
     "text": [
      "Epoch #600: 1025it [00:02, 458.93it/s, env_step=614400, len=32, n/ep=2, n/st=64, player_1/loss=547.908, player_2/loss=509.391, rew=531.50]\n"
     ]
    },
    {
     "name": "stdout",
     "output_type": "stream",
     "text": [
      "Epoch #600: test_reward: 860.000000 ± 0.000000, best_reward: 1102.000000 ± 0.000000 in #360\n"
     ]
    },
    {
     "name": "stderr",
     "output_type": "stream",
     "text": [
      "Epoch #601: 1025it [00:02, 451.49it/s, env_step=615424, len=29, n/ep=2, n/st=64, player_1/loss=409.759, player_2/loss=483.690, rew=438.50]\n"
     ]
    },
    {
     "name": "stdout",
     "output_type": "stream",
     "text": [
      "Epoch #601: test_reward: 740.000000 ± 0.000000, best_reward: 1102.000000 ± 0.000000 in #360\n"
     ]
    },
    {
     "name": "stderr",
     "output_type": "stream",
     "text": [
      "Epoch #602: 1025it [00:02, 403.26it/s, env_step=616448, len=33, n/ep=1, n/st=64, player_1/loss=341.537, player_2/loss=490.735, rew=560.00]\n"
     ]
    },
    {
     "name": "stdout",
     "output_type": "stream",
     "text": [
      "Epoch #602: test_reward: 740.000000 ± 0.000000, best_reward: 1102.000000 ± 0.000000 in #360\n"
     ]
    },
    {
     "name": "stderr",
     "output_type": "stream",
     "text": [
      "Epoch #603: 1025it [00:02, 442.92it/s, env_step=617472, len=38, n/ep=1, n/st=64, player_1/loss=294.875, player_2/loss=316.777, rew=740.00]\n"
     ]
    },
    {
     "name": "stdout",
     "output_type": "stream",
     "text": [
      "Epoch #603: test_reward: 702.000000 ± 0.000000, best_reward: 1102.000000 ± 0.000000 in #360\n"
     ]
    },
    {
     "name": "stderr",
     "output_type": "stream",
     "text": [
      "Epoch #604: 1025it [00:02, 419.04it/s, env_step=618496, len=25, n/ep=3, n/st=64, player_1/loss=373.165, player_2/loss=239.917, rew=350.00]\n"
     ]
    },
    {
     "name": "stdout",
     "output_type": "stream",
     "text": [
      "Epoch #604: test_reward: 702.000000 ± 0.000000, best_reward: 1102.000000 ± 0.000000 in #360\n"
     ]
    },
    {
     "name": "stderr",
     "output_type": "stream",
     "text": [
      "Epoch #605: 1025it [00:02, 403.10it/s, env_step=619520, len=32, n/ep=2, n/st=64, player_1/loss=612.415, player_2/loss=390.204, rew=558.50]\n"
     ]
    },
    {
     "name": "stdout",
     "output_type": "stream",
     "text": [
      "Epoch #605: test_reward: 665.000000 ± 0.000000, best_reward: 1102.000000 ± 0.000000 in #360\n"
     ]
    },
    {
     "name": "stderr",
     "output_type": "stream",
     "text": [
      "Epoch #606: 1025it [00:02, 360.80it/s, env_step=620544, len=27, n/ep=2, n/st=64, player_1/loss=924.536, player_2/loss=539.049, rew=449.00]\n"
     ]
    },
    {
     "name": "stdout",
     "output_type": "stream",
     "text": [
      "Epoch #606: test_reward: 527.000000 ± 0.000000, best_reward: 1102.000000 ± 0.000000 in #360\n"
     ]
    },
    {
     "name": "stderr",
     "output_type": "stream",
     "text": [
      "Epoch #607: 1025it [00:02, 445.09it/s, env_step=621568, len=29, n/ep=3, n/st=64, player_1/loss=782.082, player_2/loss=407.814, rew=519.00]\n"
     ]
    },
    {
     "name": "stdout",
     "output_type": "stream",
     "text": [
      "Epoch #607: test_reward: 702.000000 ± 0.000000, best_reward: 1102.000000 ± 0.000000 in #360\n"
     ]
    },
    {
     "name": "stderr",
     "output_type": "stream",
     "text": [
      "Epoch #608: 1025it [00:02, 421.10it/s, env_step=622592, len=37, n/ep=2, n/st=64, player_1/loss=693.468, player_2/loss=319.854, rew=710.00]\n"
     ]
    },
    {
     "name": "stdout",
     "output_type": "stream",
     "text": [
      "Epoch #608: test_reward: 1102.000000 ± 0.000000, best_reward: 1102.000000 ± 0.000000 in #360\n"
     ]
    },
    {
     "name": "stderr",
     "output_type": "stream",
     "text": [
      "Epoch #609: 1025it [00:02, 432.21it/s, env_step=623616, len=25, n/ep=2, n/st=64, player_1/loss=549.562, player_2/loss=431.150, rew=382.00]\n"
     ]
    },
    {
     "name": "stdout",
     "output_type": "stream",
     "text": [
      "Epoch #609: test_reward: 377.000000 ± 0.000000, best_reward: 1102.000000 ± 0.000000 in #360\n"
     ]
    },
    {
     "name": "stderr",
     "output_type": "stream",
     "text": [
      "Epoch #610: 1025it [00:02, 397.22it/s, env_step=624640, len=23, n/ep=3, n/st=64, player_1/loss=275.305, player_2/loss=575.207, rew=371.00]\n"
     ]
    },
    {
     "name": "stdout",
     "output_type": "stream",
     "text": [
      "Epoch #610: test_reward: 740.000000 ± 0.000000, best_reward: 1102.000000 ± 0.000000 in #360\n"
     ]
    },
    {
     "name": "stderr",
     "output_type": "stream",
     "text": [
      "Epoch #611: 1025it [00:02, 442.12it/s, env_step=625664, len=37, n/ep=2, n/st=64, player_1/loss=248.839, player_2/loss=735.861, rew=724.00]\n"
     ]
    },
    {
     "name": "stdout",
     "output_type": "stream",
     "text": [
      "Epoch #611: test_reward: 1102.000000 ± 0.000000, best_reward: 1102.000000 ± 0.000000 in #360\n"
     ]
    },
    {
     "name": "stderr",
     "output_type": "stream",
     "text": [
      "Epoch #612: 1025it [00:02, 420.70it/s, env_step=626688, len=26, n/ep=3, n/st=64, player_1/loss=453.424, player_2/loss=624.817, rew=359.67]\n"
     ]
    },
    {
     "name": "stdout",
     "output_type": "stream",
     "text": [
      "Epoch #612: test_reward: 324.000000 ± 0.000000, best_reward: 1102.000000 ± 0.000000 in #360\n"
     ]
    },
    {
     "name": "stderr",
     "output_type": "stream",
     "text": [
      "Epoch #613: 1025it [00:02, 446.58it/s, env_step=627712, len=26, n/ep=3, n/st=64, player_1/loss=679.144, player_2/loss=610.637, rew=378.00]\n"
     ]
    },
    {
     "name": "stdout",
     "output_type": "stream",
     "text": [
      "Epoch #613: test_reward: 740.000000 ± 0.000000, best_reward: 1102.000000 ± 0.000000 in #360\n"
     ]
    },
    {
     "name": "stderr",
     "output_type": "stream",
     "text": [
      "Epoch #614: 1025it [00:02, 446.09it/s, env_step=628736, len=23, n/ep=3, n/st=64, player_1/loss=594.753, player_2/loss=633.800, rew=338.00]\n"
     ]
    },
    {
     "name": "stdout",
     "output_type": "stream",
     "text": [
      "Epoch #614: test_reward: 27.000000 ± 0.000000, best_reward: 1102.000000 ± 0.000000 in #360\n"
     ]
    },
    {
     "name": "stderr",
     "output_type": "stream",
     "text": [
      "Epoch #615: 1025it [00:02, 452.21it/s, env_step=629760, len=31, n/ep=2, n/st=64, player_1/loss=364.341, player_2/loss=693.706, rew=497.00]\n"
     ]
    },
    {
     "name": "stdout",
     "output_type": "stream",
     "text": [
      "Epoch #615: test_reward: 740.000000 ± 0.000000, best_reward: 1102.000000 ± 0.000000 in #360\n"
     ]
    },
    {
     "name": "stderr",
     "output_type": "stream",
     "text": [
      "Epoch #616: 1025it [00:02, 444.41it/s, env_step=630784, len=22, n/ep=2, n/st=64, player_1/loss=247.494, player_2/loss=641.507, rew=312.50]\n"
     ]
    },
    {
     "name": "stdout",
     "output_type": "stream",
     "text": [
      "Epoch #616: test_reward: 740.000000 ± 0.000000, best_reward: 1102.000000 ± 0.000000 in #360\n"
     ]
    },
    {
     "name": "stderr",
     "output_type": "stream",
     "text": [
      "Epoch #617: 1025it [00:02, 444.47it/s, env_step=631808, len=18, n/ep=3, n/st=64, player_1/loss=643.705, player_2/loss=559.402, rew=276.00]\n"
     ]
    },
    {
     "name": "stdout",
     "output_type": "stream",
     "text": [
      "Epoch #617: test_reward: 252.000000 ± 0.000000, best_reward: 1102.000000 ± 0.000000 in #360\n"
     ]
    },
    {
     "name": "stderr",
     "output_type": "stream",
     "text": [
      "Epoch #618: 1025it [00:02, 450.24it/s, env_step=632832, len=20, n/ep=3, n/st=64, player_1/loss=994.377, player_2/loss=500.564, rew=253.33]\n"
     ]
    },
    {
     "name": "stdout",
     "output_type": "stream",
     "text": [
      "Epoch #618: test_reward: 740.000000 ± 0.000000, best_reward: 1102.000000 ± 0.000000 in #360\n"
     ]
    },
    {
     "name": "stderr",
     "output_type": "stream",
     "text": [
      "Epoch #619: 1025it [00:02, 461.47it/s, env_step=633856, len=18, n/ep=4, n/st=64, player_1/loss=685.597, player_2/loss=472.120, rew=231.00]\n"
     ]
    },
    {
     "name": "stdout",
     "output_type": "stream",
     "text": [
      "Epoch #619: test_reward: 54.000000 ± 0.000000, best_reward: 1102.000000 ± 0.000000 in #360\n"
     ]
    },
    {
     "name": "stderr",
     "output_type": "stream",
     "text": [
      "Epoch #620: 1025it [00:02, 458.69it/s, env_step=634880, len=20, n/ep=2, n/st=64, player_1/loss=507.484, player_2/loss=905.734, rew=259.00]\n"
     ]
    },
    {
     "name": "stdout",
     "output_type": "stream",
     "text": [
      "Epoch #620: test_reward: 702.000000 ± 0.000000, best_reward: 1102.000000 ± 0.000000 in #360\n"
     ]
    },
    {
     "name": "stderr",
     "output_type": "stream",
     "text": [
      "Epoch #621: 1025it [00:02, 446.48it/s, env_step=635904, len=19, n/ep=3, n/st=64, player_1/loss=425.898, player_2/loss=808.736, rew=253.33]\n"
     ]
    },
    {
     "name": "stdout",
     "output_type": "stream",
     "text": [
      "Epoch #621: test_reward: 90.000000 ± 0.000000, best_reward: 1102.000000 ± 0.000000 in #360\n"
     ]
    },
    {
     "name": "stderr",
     "output_type": "stream",
     "text": [
      "Epoch #622: 1025it [00:02, 448.39it/s, env_step=636928, len=12, n/ep=5, n/st=64, player_1/loss=354.841, player_2/loss=764.899, rew=85.80]\n"
     ]
    },
    {
     "name": "stdout",
     "output_type": "stream",
     "text": [
      "Epoch #622: test_reward: 65.000000 ± 0.000000, best_reward: 1102.000000 ± 0.000000 in #360\n"
     ]
    },
    {
     "name": "stderr",
     "output_type": "stream",
     "text": [
      "Epoch #623: 1025it [00:02, 458.35it/s, env_step=637952, len=12, n/ep=5, n/st=64, player_1/loss=185.973, player_2/loss=981.246, rew=82.60]\n"
     ]
    },
    {
     "name": "stdout",
     "output_type": "stream",
     "text": [
      "Epoch #623: test_reward: 65.000000 ± 0.000000, best_reward: 1102.000000 ± 0.000000 in #360\n"
     ]
    },
    {
     "name": "stderr",
     "output_type": "stream",
     "text": [
      "Epoch #624: 1025it [00:02, 460.92it/s, env_step=638976, len=28, n/ep=3, n/st=64, player_1/loss=270.004, player_2/loss=1139.882, rew=461.00]\n"
     ]
    },
    {
     "name": "stdout",
     "output_type": "stream",
     "text": [
      "Epoch #624: test_reward: 252.000000 ± 0.000000, best_reward: 1102.000000 ± 0.000000 in #360\n"
     ]
    },
    {
     "name": "stderr",
     "output_type": "stream",
     "text": [
      "Epoch #625: 1025it [00:02, 461.52it/s, env_step=640000, len=28, n/ep=3, n/st=64, player_1/loss=337.076, player_2/loss=1057.150, rew=430.33]\n"
     ]
    },
    {
     "name": "stdout",
     "output_type": "stream",
     "text": [
      "Epoch #625: test_reward: 252.000000 ± 0.000000, best_reward: 1102.000000 ± 0.000000 in #360\n"
     ]
    },
    {
     "name": "stderr",
     "output_type": "stream",
     "text": [
      "Epoch #626: 1025it [00:02, 457.64it/s, env_step=641024, len=18, n/ep=3, n/st=64, player_1/loss=267.223, player_2/loss=719.521, rew=184.67]\n"
     ]
    },
    {
     "name": "stdout",
     "output_type": "stream",
     "text": [
      "Epoch #626: test_reward: 152.000000 ± 0.000000, best_reward: 1102.000000 ± 0.000000 in #360\n"
     ]
    },
    {
     "name": "stderr",
     "output_type": "stream",
     "text": [
      "Epoch #627: 1025it [00:02, 444.78it/s, env_step=642048, len=19, n/ep=4, n/st=64, player_1/loss=206.285, rew=268.00]   \n"
     ]
    },
    {
     "name": "stdout",
     "output_type": "stream",
     "text": [
      "Epoch #627: test_reward: 1102.000000 ± 0.000000, best_reward: 1102.000000 ± 0.000000 in #360\n"
     ]
    },
    {
     "name": "stderr",
     "output_type": "stream",
     "text": [
      "Epoch #628: 1025it [00:02, 418.80it/s, env_step=643072, len=16, n/ep=2, n/st=64, player_1/loss=234.502, player_2/loss=626.260, rew=147.50]\n"
     ]
    },
    {
     "name": "stdout",
     "output_type": "stream",
     "text": [
      "Epoch #628: test_reward: 90.000000 ± 0.000000, best_reward: 1102.000000 ± 0.000000 in #360\n"
     ]
    },
    {
     "name": "stderr",
     "output_type": "stream",
     "text": [
      "Epoch #629: 1025it [00:02, 401.18it/s, env_step=644096, len=21, n/ep=3, n/st=64, player_1/loss=353.665, player_2/loss=749.383, rew=231.33]\n"
     ]
    },
    {
     "name": "stdout",
     "output_type": "stream",
     "text": [
      "Epoch #629: test_reward: 230.000000 ± 0.000000, best_reward: 1102.000000 ± 0.000000 in #360\n"
     ]
    },
    {
     "name": "stderr",
     "output_type": "stream",
     "text": [
      "Epoch #630: 1025it [00:02, 390.35it/s, env_step=645120, len=17, n/ep=3, n/st=64, player_1/loss=413.092, player_2/loss=564.278, rew=158.33]\n"
     ]
    },
    {
     "name": "stdout",
     "output_type": "stream",
     "text": [
      "Epoch #630: test_reward: 65.000000 ± 0.000000, best_reward: 1102.000000 ± 0.000000 in #360\n"
     ]
    },
    {
     "name": "stderr",
     "output_type": "stream",
     "text": [
      "Epoch #631: 1025it [00:02, 389.41it/s, env_step=646144, len=23, n/ep=2, n/st=64, player_1/loss=354.545, player_2/loss=341.715, rew=279.50]\n"
     ]
    },
    {
     "name": "stdout",
     "output_type": "stream",
     "text": [
      "Epoch #631: test_reward: 170.000000 ± 0.000000, best_reward: 1102.000000 ± 0.000000 in #360\n"
     ]
    },
    {
     "name": "stderr",
     "output_type": "stream",
     "text": [
      "Epoch #632: 1025it [00:02, 376.53it/s, env_step=647168, len=8, n/ep=7, n/st=64, player_1/loss=312.555, player_2/loss=635.051, rew=42.86]\n"
     ]
    },
    {
     "name": "stdout",
     "output_type": "stream",
     "text": [
      "Epoch #632: test_reward: 27.000000 ± 0.000000, best_reward: 1102.000000 ± 0.000000 in #360\n"
     ]
    },
    {
     "name": "stderr",
     "output_type": "stream",
     "text": [
      "Epoch #633: 1025it [00:02, 376.41it/s, env_step=648192, len=18, n/ep=4, n/st=64, player_1/loss=282.299, player_2/loss=804.429, rew=186.25]\n"
     ]
    },
    {
     "name": "stdout",
     "output_type": "stream",
     "text": [
      "Epoch #633: test_reward: 119.000000 ± 0.000000, best_reward: 1102.000000 ± 0.000000 in #360\n"
     ]
    },
    {
     "name": "stderr",
     "output_type": "stream",
     "text": [
      "Epoch #634: 1025it [00:02, 381.12it/s, env_step=649216, len=26, n/ep=2, n/st=64, player_1/loss=391.979, player_2/loss=788.402, rew=352.00]\n"
     ]
    },
    {
     "name": "stdout",
     "output_type": "stream",
     "text": [
      "Epoch #634: test_reward: 702.000000 ± 0.000000, best_reward: 1102.000000 ± 0.000000 in #360\n"
     ]
    },
    {
     "name": "stderr",
     "output_type": "stream",
     "text": [
      "Epoch #635: 1025it [00:02, 379.21it/s, env_step=650240, len=42, n/ep=1, n/st=64, player_1/loss=440.197, player_2/loss=534.460, rew=1102.00]\n"
     ]
    },
    {
     "name": "stdout",
     "output_type": "stream",
     "text": [
      "Epoch #635: test_reward: 135.000000 ± 0.000000, best_reward: 1102.000000 ± 0.000000 in #360\n"
     ]
    },
    {
     "name": "stderr",
     "output_type": "stream",
     "text": [
      "Epoch #636: 1025it [00:02, 375.97it/s, env_step=651264, len=32, n/ep=3, n/st=64, player_1/loss=526.432, player_2/loss=739.784, rew=546.00]\n"
     ]
    },
    {
     "name": "stdout",
     "output_type": "stream",
     "text": [
      "Epoch #636: test_reward: 740.000000 ± 0.000000, best_reward: 1102.000000 ± 0.000000 in #360\n"
     ]
    },
    {
     "name": "stderr",
     "output_type": "stream",
     "text": [
      "Epoch #637: 1025it [00:02, 377.22it/s, env_step=652288, len=10, n/ep=6, n/st=64, player_1/loss=428.919, player_2/loss=1061.822, rew=80.67]\n"
     ]
    },
    {
     "name": "stdout",
     "output_type": "stream",
     "text": [
      "Epoch #637: test_reward: 27.000000 ± 0.000000, best_reward: 1102.000000 ± 0.000000 in #360\n"
     ]
    },
    {
     "name": "stderr",
     "output_type": "stream",
     "text": [
      "Epoch #638: 1025it [00:02, 375.88it/s, env_step=653312, len=11, n/ep=5, n/st=64, player_1/loss=444.427, player_2/loss=1007.434, rew=89.20]\n"
     ]
    },
    {
     "name": "stdout",
     "output_type": "stream",
     "text": [
      "Epoch #638: test_reward: 27.000000 ± 0.000000, best_reward: 1102.000000 ± 0.000000 in #360\n"
     ]
    },
    {
     "name": "stderr",
     "output_type": "stream",
     "text": [
      "Epoch #639: 1025it [00:02, 377.87it/s, env_step=654336, len=31, n/ep=2, n/st=64, player_1/loss=289.499, rew=527.00]   \n"
     ]
    },
    {
     "name": "stdout",
     "output_type": "stream",
     "text": [
      "Epoch #639: test_reward: 702.000000 ± 0.000000, best_reward: 1102.000000 ± 0.000000 in #360\n"
     ]
    },
    {
     "name": "stderr",
     "output_type": "stream",
     "text": [
      "Epoch #640: 1025it [00:02, 376.71it/s, env_step=655360, len=21, n/ep=3, n/st=64, player_1/loss=270.884, player_2/loss=329.321, rew=309.67]\n"
     ]
    },
    {
     "name": "stdout",
     "output_type": "stream",
     "text": [
      "Epoch #640: test_reward: 27.000000 ± 0.000000, best_reward: 1102.000000 ± 0.000000 in #360\n"
     ]
    },
    {
     "name": "stderr",
     "output_type": "stream",
     "text": [
      "Epoch #641: 1025it [00:02, 375.41it/s, env_step=656384, len=18, n/ep=5, n/st=64, player_1/loss=236.435, player_2/loss=811.591, rew=217.40]\n"
     ]
    },
    {
     "name": "stdout",
     "output_type": "stream",
     "text": [
      "Epoch #641: test_reward: 90.000000 ± 0.000000, best_reward: 1102.000000 ± 0.000000 in #360\n"
     ]
    },
    {
     "name": "stderr",
     "output_type": "stream",
     "text": [
      "Epoch #642: 1025it [00:02, 375.81it/s, env_step=657408, len=32, n/ep=3, n/st=64, player_1/loss=221.513, player_2/loss=917.221, rew=571.33]\n"
     ]
    },
    {
     "name": "stdout",
     "output_type": "stream",
     "text": [
      "Epoch #642: test_reward: 170.000000 ± 0.000000, best_reward: 1102.000000 ± 0.000000 in #360\n"
     ]
    },
    {
     "name": "stderr",
     "output_type": "stream",
     "text": [
      "Epoch #643: 1025it [00:02, 378.72it/s, env_step=658432, len=40, n/ep=2, n/st=64, player_1/loss=247.767, player_2/loss=549.911, rew=921.00]\n"
     ]
    },
    {
     "name": "stdout",
     "output_type": "stream",
     "text": [
      "Epoch #643: test_reward: 702.000000 ± 0.000000, best_reward: 1102.000000 ± 0.000000 in #360\n"
     ]
    },
    {
     "name": "stderr",
     "output_type": "stream",
     "text": [
      "Epoch #644: 1025it [00:02, 376.73it/s, env_step=659456, len=25, n/ep=3, n/st=64, player_1/loss=270.320, player_2/loss=328.944, rew=336.33]\n"
     ]
    },
    {
     "name": "stdout",
     "output_type": "stream",
     "text": [
      "Epoch #644: test_reward: 189.000000 ± 0.000000, best_reward: 1102.000000 ± 0.000000 in #360\n"
     ]
    },
    {
     "name": "stderr",
     "output_type": "stream",
     "text": [
      "Epoch #645: 1025it [00:02, 376.67it/s, env_step=660480, len=33, n/ep=2, n/st=64, player_1/loss=262.384, player_2/loss=563.967, rew=572.50]\n"
     ]
    },
    {
     "name": "stdout",
     "output_type": "stream",
     "text": [
      "Epoch #645: test_reward: 377.000000 ± 0.000000, best_reward: 1102.000000 ± 0.000000 in #360\n"
     ]
    },
    {
     "name": "stderr",
     "output_type": "stream",
     "text": [
      "Epoch #646: 1025it [00:02, 377.14it/s, env_step=661504, len=33, n/ep=2, n/st=64, player_1/loss=241.816, player_2/loss=437.064, rew=564.50]\n"
     ]
    },
    {
     "name": "stdout",
     "output_type": "stream",
     "text": [
      "Epoch #646: test_reward: 702.000000 ± 0.000000, best_reward: 1102.000000 ± 0.000000 in #360\n"
     ]
    },
    {
     "name": "stderr",
     "output_type": "stream",
     "text": [
      "Epoch #647: 1025it [00:02, 377.48it/s, env_step=662528, len=39, n/ep=1, n/st=64, player_1/loss=304.906, player_2/loss=333.985, rew=779.00]\n"
     ]
    },
    {
     "name": "stdout",
     "output_type": "stream",
     "text": [
      "Epoch #647: test_reward: 434.000000 ± 0.000000, best_reward: 1102.000000 ± 0.000000 in #360\n"
     ]
    },
    {
     "name": "stderr",
     "output_type": "stream",
     "text": [
      "Epoch #648: 1025it [00:02, 379.27it/s, env_step=663552, len=23, n/ep=3, n/st=64, player_1/loss=473.144, player_2/loss=475.406, rew=308.33]\n"
     ]
    },
    {
     "name": "stdout",
     "output_type": "stream",
     "text": [
      "Epoch #648: test_reward: 189.000000 ± 0.000000, best_reward: 1102.000000 ± 0.000000 in #360\n"
     ]
    },
    {
     "name": "stderr",
     "output_type": "stream",
     "text": [
      "Epoch #649: 1025it [00:02, 378.71it/s, env_step=664576, len=23, n/ep=3, n/st=64, player_1/loss=618.544, player_2/loss=587.893, rew=343.67]\n"
     ]
    },
    {
     "name": "stdout",
     "output_type": "stream",
     "text": [
      "Epoch #649: test_reward: 527.000000 ± 0.000000, best_reward: 1102.000000 ± 0.000000 in #360\n"
     ]
    },
    {
     "name": "stderr",
     "output_type": "stream",
     "text": [
      "Epoch #650: 1025it [00:02, 375.81it/s, env_step=665600, len=28, n/ep=3, n/st=64, player_1/loss=569.533, player_2/loss=536.172, rew=442.00]\n"
     ]
    },
    {
     "name": "stdout",
     "output_type": "stream",
     "text": [
      "Epoch #650: test_reward: 702.000000 ± 0.000000, best_reward: 1102.000000 ± 0.000000 in #360\n"
     ]
    },
    {
     "name": "stderr",
     "output_type": "stream",
     "text": [
      "Epoch #651: 1025it [00:02, 377.95it/s, env_step=666624, len=27, n/ep=2, n/st=64, player_1/loss=569.982, player_2/loss=408.710, rew=457.00]\n"
     ]
    },
    {
     "name": "stdout",
     "output_type": "stream",
     "text": [
      "Epoch #651: test_reward: 702.000000 ± 0.000000, best_reward: 1102.000000 ± 0.000000 in #360\n"
     ]
    },
    {
     "name": "stderr",
     "output_type": "stream",
     "text": [
      "Epoch #652: 1025it [00:02, 374.84it/s, env_step=667648, len=37, n/ep=1, n/st=64, player_1/loss=612.647, player_2/loss=348.415, rew=702.00]\n"
     ]
    },
    {
     "name": "stdout",
     "output_type": "stream",
     "text": [
      "Epoch #652: test_reward: 629.000000 ± 0.000000, best_reward: 1102.000000 ± 0.000000 in #360\n"
     ]
    },
    {
     "name": "stderr",
     "output_type": "stream",
     "text": [
      "Epoch #653: 1025it [00:02, 378.01it/s, env_step=668672, len=38, n/ep=2, n/st=64, player_1/loss=628.417, player_2/loss=171.400, rew=759.50]\n"
     ]
    },
    {
     "name": "stdout",
     "output_type": "stream",
     "text": [
      "Epoch #653: test_reward: 1102.000000 ± 0.000000, best_reward: 1102.000000 ± 0.000000 in #360\n"
     ]
    },
    {
     "name": "stderr",
     "output_type": "stream",
     "text": [
      "Epoch #654: 1025it [00:02, 380.55it/s, env_step=669696, len=30, n/ep=2, n/st=64, player_1/loss=545.605, player_2/loss=273.091, rew=489.50]\n"
     ]
    },
    {
     "name": "stdout",
     "output_type": "stream",
     "text": [
      "Epoch #654: test_reward: 665.000000 ± 0.000000, best_reward: 1102.000000 ± 0.000000 in #360\n"
     ]
    },
    {
     "name": "stderr",
     "output_type": "stream",
     "text": [
      "Epoch #655: 1025it [00:02, 376.92it/s, env_step=670720, len=23, n/ep=2, n/st=64, player_1/loss=301.890, player_2/loss=328.774, rew=275.50]\n"
     ]
    },
    {
     "name": "stdout",
     "output_type": "stream",
     "text": [
      "Epoch #655: test_reward: 594.000000 ± 0.000000, best_reward: 1102.000000 ± 0.000000 in #360\n"
     ]
    },
    {
     "name": "stderr",
     "output_type": "stream",
     "text": [
      "Epoch #656: 1025it [00:02, 373.41it/s, env_step=671744, len=24, n/ep=2, n/st=64, player_1/loss=244.136, player_2/loss=648.466, rew=332.50]\n"
     ]
    },
    {
     "name": "stdout",
     "output_type": "stream",
     "text": [
      "Epoch #656: test_reward: 740.000000 ± 0.000000, best_reward: 1102.000000 ± 0.000000 in #360\n"
     ]
    },
    {
     "name": "stderr",
     "output_type": "stream",
     "text": [
      "Epoch #657: 1025it [00:02, 377.53it/s, env_step=672768, len=31, n/ep=2, n/st=64, player_1/loss=270.756, player_2/loss=439.939, rew=655.50]\n"
     ]
    },
    {
     "name": "stdout",
     "output_type": "stream",
     "text": [
      "Epoch #657: test_reward: 27.000000 ± 0.000000, best_reward: 1102.000000 ± 0.000000 in #360\n"
     ]
    },
    {
     "name": "stderr",
     "output_type": "stream",
     "text": [
      "Epoch #658: 1025it [00:02, 378.06it/s, env_step=673792, len=28, n/ep=2, n/st=64, player_1/loss=330.242, player_2/loss=247.321, rew=429.50]\n"
     ]
    },
    {
     "name": "stdout",
     "output_type": "stream",
     "text": [
      "Epoch #658: test_reward: 1102.000000 ± 0.000000, best_reward: 1102.000000 ± 0.000000 in #360\n"
     ]
    },
    {
     "name": "stderr",
     "output_type": "stream",
     "text": [
      "Epoch #659: 1025it [00:02, 376.87it/s, env_step=674816, len=32, n/ep=2, n/st=64, player_1/loss=254.877, player_2/loss=522.565, rew=559.00]\n"
     ]
    },
    {
     "name": "stdout",
     "output_type": "stream",
     "text": [
      "Epoch #659: test_reward: 740.000000 ± 0.000000, best_reward: 1102.000000 ± 0.000000 in #360\n"
     ]
    },
    {
     "name": "stderr",
     "output_type": "stream",
     "text": [
      "Epoch #660: 1025it [00:02, 377.24it/s, env_step=675840, len=25, n/ep=3, n/st=64, player_1/loss=323.586, rew=400.00]   \n"
     ]
    },
    {
     "name": "stdout",
     "output_type": "stream",
     "text": [
      "Epoch #660: test_reward: 324.000000 ± 0.000000, best_reward: 1102.000000 ± 0.000000 in #360\n"
     ]
    },
    {
     "name": "stderr",
     "output_type": "stream",
     "text": [
      "Epoch #661: 1025it [00:02, 376.03it/s, env_step=676864, len=30, n/ep=2, n/st=64, player_1/loss=729.589, player_2/loss=588.598, rew=479.50]\n"
     ]
    },
    {
     "name": "stdout",
     "output_type": "stream",
     "text": [
      "Epoch #661: test_reward: 819.000000 ± 0.000000, best_reward: 1102.000000 ± 0.000000 in #360\n"
     ]
    },
    {
     "name": "stderr",
     "output_type": "stream",
     "text": [
      "Epoch #662: 1025it [00:02, 376.50it/s, env_step=677888, len=36, n/ep=2, n/st=64, player_1/loss=439.373, player_2/loss=416.814, rew=683.50]\n"
     ]
    },
    {
     "name": "stdout",
     "output_type": "stream",
     "text": [
      "Epoch #662: test_reward: 702.000000 ± 0.000000, best_reward: 1102.000000 ± 0.000000 in #360\n"
     ]
    },
    {
     "name": "stderr",
     "output_type": "stream",
     "text": [
      "Epoch #663: 1025it [00:02, 378.21it/s, env_step=678912, len=40, n/ep=1, n/st=64, player_1/loss=432.421, player_2/loss=445.854, rew=819.00]\n"
     ]
    },
    {
     "name": "stdout",
     "output_type": "stream",
     "text": [
      "Epoch #663: test_reward: 324.000000 ± 0.000000, best_reward: 1102.000000 ± 0.000000 in #360\n"
     ]
    },
    {
     "name": "stderr",
     "output_type": "stream",
     "text": [
      "Epoch #664: 1025it [00:02, 378.04it/s, env_step=679936, len=13, n/ep=5, n/st=64, player_1/loss=359.465, player_2/loss=554.358, rew=117.00]\n"
     ]
    },
    {
     "name": "stdout",
     "output_type": "stream",
     "text": [
      "Epoch #664: test_reward: 27.000000 ± 0.000000, best_reward: 1102.000000 ± 0.000000 in #360\n"
     ]
    },
    {
     "name": "stderr",
     "output_type": "stream",
     "text": [
      "Epoch #665: 1025it [00:02, 374.97it/s, env_step=680960, len=33, n/ep=2, n/st=64, player_1/loss=316.503, player_2/loss=810.668, rew=598.00]\n"
     ]
    },
    {
     "name": "stdout",
     "output_type": "stream",
     "text": [
      "Epoch #665: test_reward: 702.000000 ± 0.000000, best_reward: 1102.000000 ± 0.000000 in #360\n"
     ]
    },
    {
     "name": "stderr",
     "output_type": "stream",
     "text": [
      "Epoch #666: 1025it [00:02, 377.98it/s, env_step=681984, len=29, n/ep=2, n/st=64, player_1/loss=389.001, player_2/loss=549.539, rew=484.00]\n"
     ]
    },
    {
     "name": "stdout",
     "output_type": "stream",
     "text": [
      "Epoch #666: test_reward: 702.000000 ± 0.000000, best_reward: 1102.000000 ± 0.000000 in #360\n"
     ]
    },
    {
     "name": "stderr",
     "output_type": "stream",
     "text": [
      "Epoch #667: 1025it [00:02, 376.80it/s, env_step=683008, len=14, n/ep=5, n/st=64, player_1/loss=493.107, player_2/loss=561.636, rew=110.00]\n"
     ]
    },
    {
     "name": "stdout",
     "output_type": "stream",
     "text": [
      "Epoch #667: test_reward: 90.000000 ± 0.000000, best_reward: 1102.000000 ± 0.000000 in #360\n"
     ]
    },
    {
     "name": "stderr",
     "output_type": "stream",
     "text": [
      "Epoch #668: 1025it [00:02, 377.75it/s, env_step=684032, len=16, n/ep=4, n/st=64, player_1/loss=425.900, player_2/loss=983.908, rew=152.75]\n"
     ]
    },
    {
     "name": "stdout",
     "output_type": "stream",
     "text": [
      "Epoch #668: test_reward: 90.000000 ± 0.000000, best_reward: 1102.000000 ± 0.000000 in #360\n"
     ]
    },
    {
     "name": "stderr",
     "output_type": "stream",
     "text": [
      "Epoch #669: 1025it [00:02, 377.11it/s, env_step=685056, len=21, n/ep=4, n/st=64, player_1/loss=287.798, player_2/loss=1027.015, rew=300.75]\n"
     ]
    },
    {
     "name": "stdout",
     "output_type": "stream",
     "text": [
      "Epoch #669: test_reward: 740.000000 ± 0.000000, best_reward: 1102.000000 ± 0.000000 in #360\n"
     ]
    },
    {
     "name": "stderr",
     "output_type": "stream",
     "text": [
      "Epoch #670: 1025it [00:02, 375.80it/s, env_step=686080, len=20, n/ep=2, n/st=64, player_1/loss=818.202, player_2/loss=834.893, rew=211.00]\n"
     ]
    },
    {
     "name": "stdout",
     "output_type": "stream",
     "text": [
      "Epoch #670: test_reward: 1102.000000 ± 0.000000, best_reward: 1102.000000 ± 0.000000 in #360\n"
     ]
    },
    {
     "name": "stderr",
     "output_type": "stream",
     "text": [
      "Epoch #671: 1025it [00:02, 377.74it/s, env_step=687104, len=30, n/ep=2, n/st=64, player_1/loss=915.128, player_2/loss=659.507, rew=507.50]\n"
     ]
    },
    {
     "name": "stdout",
     "output_type": "stream",
     "text": [
      "Epoch #671: test_reward: 740.000000 ± 0.000000, best_reward: 1102.000000 ± 0.000000 in #360\n"
     ]
    },
    {
     "name": "stderr",
     "output_type": "stream",
     "text": [
      "Epoch #672: 1025it [00:02, 375.54it/s, env_step=688128, len=35, n/ep=2, n/st=64, player_1/loss=408.903, player_2/loss=317.290, rew=633.50]\n"
     ]
    },
    {
     "name": "stdout",
     "output_type": "stream",
     "text": [
      "Epoch #672: test_reward: 702.000000 ± 0.000000, best_reward: 1102.000000 ± 0.000000 in #360\n"
     ]
    },
    {
     "name": "stderr",
     "output_type": "stream",
     "text": [
      "Epoch #673: 1025it [00:02, 374.63it/s, env_step=689152, len=35, n/ep=2, n/st=64, player_1/loss=423.260, player_2/loss=505.619, rew=637.00]\n"
     ]
    },
    {
     "name": "stdout",
     "output_type": "stream",
     "text": [
      "Epoch #673: test_reward: 740.000000 ± 0.000000, best_reward: 1102.000000 ± 0.000000 in #360\n"
     ]
    },
    {
     "name": "stderr",
     "output_type": "stream",
     "text": [
      "Epoch #674: 1025it [00:02, 375.85it/s, env_step=690176, len=33, n/ep=2, n/st=64, player_1/loss=155.074, player_2/loss=373.563, rew=560.50]\n"
     ]
    },
    {
     "name": "stdout",
     "output_type": "stream",
     "text": [
      "Epoch #674: test_reward: 740.000000 ± 0.000000, best_reward: 1102.000000 ± 0.000000 in #360\n"
     ]
    },
    {
     "name": "stderr",
     "output_type": "stream",
     "text": [
      "Epoch #675: 1025it [00:02, 376.83it/s, env_step=691200, len=27, n/ep=2, n/st=64, player_1/loss=319.653, player_2/loss=514.589, rew=379.00]\n"
     ]
    },
    {
     "name": "stdout",
     "output_type": "stream",
     "text": [
      "Epoch #675: test_reward: 434.000000 ± 0.000000, best_reward: 1102.000000 ± 0.000000 in #360\n"
     ]
    },
    {
     "name": "stderr",
     "output_type": "stream",
     "text": [
      "Epoch #676: 1025it [00:02, 376.98it/s, env_step=692224, len=19, n/ep=3, n/st=64, player_1/loss=397.571, player_2/loss=264.459, rew=213.00]\n"
     ]
    },
    {
     "name": "stdout",
     "output_type": "stream",
     "text": [
      "Epoch #676: test_reward: 740.000000 ± 0.000000, best_reward: 1102.000000 ± 0.000000 in #360\n"
     ]
    },
    {
     "name": "stderr",
     "output_type": "stream",
     "text": [
      "Epoch #677: 1025it [00:02, 378.28it/s, env_step=693248, len=24, n/ep=3, n/st=64, player_1/loss=282.128, player_2/loss=217.947, rew=316.00]\n"
     ]
    },
    {
     "name": "stdout",
     "output_type": "stream",
     "text": [
      "Epoch #677: test_reward: 702.000000 ± 0.000000, best_reward: 1102.000000 ± 0.000000 in #360\n"
     ]
    },
    {
     "name": "stderr",
     "output_type": "stream",
     "text": [
      "Epoch #678: 1025it [00:02, 375.99it/s, env_step=694272, len=38, n/ep=2, n/st=64, player_1/loss=277.891, player_2/loss=422.056, rew=740.00]\n"
     ]
    },
    {
     "name": "stdout",
     "output_type": "stream",
     "text": [
      "Epoch #678: test_reward: 1102.000000 ± 0.000000, best_reward: 1102.000000 ± 0.000000 in #360\n"
     ]
    },
    {
     "name": "stderr",
     "output_type": "stream",
     "text": [
      "Epoch #679: 1025it [00:02, 378.72it/s, env_step=695296, len=25, n/ep=2, n/st=64, player_1/loss=142.183, player_2/loss=349.171, rew=336.50]\n"
     ]
    },
    {
     "name": "stdout",
     "output_type": "stream",
     "text": [
      "Epoch #679: test_reward: 434.000000 ± 0.000000, best_reward: 1102.000000 ± 0.000000 in #360\n"
     ]
    },
    {
     "name": "stderr",
     "output_type": "stream",
     "text": [
      "Epoch #680: 1025it [00:02, 374.70it/s, env_step=696320, len=32, n/ep=1, n/st=64, player_1/loss=250.388, player_2/loss=304.671, rew=527.00]\n"
     ]
    },
    {
     "name": "stdout",
     "output_type": "stream",
     "text": [
      "Epoch #680: test_reward: 527.000000 ± 0.000000, best_reward: 1102.000000 ± 0.000000 in #360\n"
     ]
    },
    {
     "name": "stderr",
     "output_type": "stream",
     "text": [
      "Epoch #681: 1025it [00:02, 374.51it/s, env_step=697344, len=38, n/ep=2, n/st=64, player_1/loss=490.028, player_2/loss=383.166, rew=740.00]\n"
     ]
    },
    {
     "name": "stdout",
     "output_type": "stream",
     "text": [
      "Epoch #681: test_reward: 740.000000 ± 0.000000, best_reward: 1102.000000 ± 0.000000 in #360\n"
     ]
    },
    {
     "name": "stderr",
     "output_type": "stream",
     "text": [
      "Epoch #682: 1025it [00:02, 379.18it/s, env_step=698368, len=28, n/ep=3, n/st=64, player_1/loss=377.520, player_2/loss=198.709, rew=437.33]\n"
     ]
    },
    {
     "name": "stdout",
     "output_type": "stream",
     "text": [
      "Epoch #682: test_reward: 170.000000 ± 0.000000, best_reward: 1102.000000 ± 0.000000 in #360\n"
     ]
    },
    {
     "name": "stderr",
     "output_type": "stream",
     "text": [
      "Epoch #683: 1025it [00:02, 376.81it/s, env_step=699392, len=24, n/ep=3, n/st=64, player_1/loss=273.985, player_2/loss=248.133, rew=403.67]\n"
     ]
    },
    {
     "name": "stdout",
     "output_type": "stream",
     "text": [
      "Epoch #683: test_reward: 740.000000 ± 0.000000, best_reward: 1102.000000 ± 0.000000 in #360\n"
     ]
    },
    {
     "name": "stderr",
     "output_type": "stream",
     "text": [
      "Epoch #684: 1025it [00:02, 376.51it/s, env_step=700416, len=22, n/ep=3, n/st=64, player_1/loss=379.330, player_2/loss=498.559, rew=266.33]\n"
     ]
    },
    {
     "name": "stdout",
     "output_type": "stream",
     "text": [
      "Epoch #684: test_reward: 44.000000 ± 0.000000, best_reward: 1102.000000 ± 0.000000 in #360\n"
     ]
    },
    {
     "name": "stderr",
     "output_type": "stream",
     "text": [
      "Epoch #685: 1025it [00:02, 374.98it/s, env_step=701440, len=27, n/ep=3, n/st=64, player_1/loss=551.201, rew=428.33]   \n"
     ]
    },
    {
     "name": "stdout",
     "output_type": "stream",
     "text": [
      "Epoch #685: test_reward: 90.000000 ± 0.000000, best_reward: 1102.000000 ± 0.000000 in #360\n"
     ]
    },
    {
     "name": "stderr",
     "output_type": "stream",
     "text": [
      "Epoch #686: 1025it [00:02, 373.87it/s, env_step=702464, len=25, n/ep=2, n/st=64, player_1/loss=537.824, player_2/loss=737.681, rew=348.50]\n"
     ]
    },
    {
     "name": "stdout",
     "output_type": "stream",
     "text": [
      "Epoch #686: test_reward: 77.000000 ± 0.000000, best_reward: 1102.000000 ± 0.000000 in #360\n"
     ]
    },
    {
     "name": "stderr",
     "output_type": "stream",
     "text": [
      "Epoch #687: 1025it [00:02, 374.85it/s, env_step=703488, len=12, n/ep=5, n/st=64, player_1/loss=624.266, player_2/loss=960.773, rew=88.40]\n"
     ]
    },
    {
     "name": "stdout",
     "output_type": "stream",
     "text": [
      "Epoch #687: test_reward: 44.000000 ± 0.000000, best_reward: 1102.000000 ± 0.000000 in #360\n"
     ]
    },
    {
     "name": "stderr",
     "output_type": "stream",
     "text": [
      "Epoch #688: 1025it [00:02, 372.24it/s, env_step=704512, len=15, n/ep=4, n/st=64, player_1/loss=504.908, player_2/loss=1185.290, rew=134.00]\n"
     ]
    },
    {
     "name": "stdout",
     "output_type": "stream",
     "text": [
      "Epoch #688: test_reward: 44.000000 ± 0.000000, best_reward: 1102.000000 ± 0.000000 in #360\n"
     ]
    },
    {
     "name": "stderr",
     "output_type": "stream",
     "text": [
      "Epoch #689: 1025it [00:02, 370.86it/s, env_step=705536, len=11, n/ep=6, n/st=64, player_1/loss=356.636, player_2/loss=799.644, rew=70.17]\n"
     ]
    },
    {
     "name": "stdout",
     "output_type": "stream",
     "text": [
      "Epoch #689: test_reward: 44.000000 ± 0.000000, best_reward: 1102.000000 ± 0.000000 in #360\n"
     ]
    },
    {
     "name": "stderr",
     "output_type": "stream",
     "text": [
      "Epoch #690: 1025it [00:02, 384.41it/s, env_step=706560, len=17, n/ep=4, n/st=64, player_1/loss=495.269, rew=153.50]   \n"
     ]
    },
    {
     "name": "stdout",
     "output_type": "stream",
     "text": [
      "Epoch #690: test_reward: 44.000000 ± 0.000000, best_reward: 1102.000000 ± 0.000000 in #360\n"
     ]
    },
    {
     "name": "stderr",
     "output_type": "stream",
     "text": [
      "Epoch #691: 1025it [00:02, 384.06it/s, env_step=707584, len=18, n/ep=4, n/st=64, player_1/loss=558.278, player_2/loss=307.597, rew=202.50]\n"
     ]
    },
    {
     "name": "stdout",
     "output_type": "stream",
     "text": [
      "Epoch #691: test_reward: 324.000000 ± 0.000000, best_reward: 1102.000000 ± 0.000000 in #360\n"
     ]
    },
    {
     "name": "stderr",
     "output_type": "stream",
     "text": [
      "Epoch #692: 1025it [00:02, 386.35it/s, env_step=708608, len=22, n/ep=3, n/st=64, player_1/loss=478.124, player_2/loss=267.016, rew=295.00]\n"
     ]
    },
    {
     "name": "stdout",
     "output_type": "stream",
     "text": [
      "Epoch #692: test_reward: 324.000000 ± 0.000000, best_reward: 1102.000000 ± 0.000000 in #360\n"
     ]
    },
    {
     "name": "stderr",
     "output_type": "stream",
     "text": [
      "Epoch #693: 1025it [00:02, 377.10it/s, env_step=709632, len=19, n/ep=4, n/st=64, player_1/loss=386.296, player_2/loss=559.635, rew=213.00]\n"
     ]
    },
    {
     "name": "stdout",
     "output_type": "stream",
     "text": [
      "Epoch #693: test_reward: 324.000000 ± 0.000000, best_reward: 1102.000000 ± 0.000000 in #360\n"
     ]
    },
    {
     "name": "stderr",
     "output_type": "stream",
     "text": [
      "Epoch #694: 1025it [00:02, 376.37it/s, env_step=710656, len=21, n/ep=3, n/st=64, player_1/loss=368.170, player_2/loss=1169.228, rew=255.33]\n"
     ]
    },
    {
     "name": "stdout",
     "output_type": "stream",
     "text": [
      "Epoch #694: test_reward: 702.000000 ± 0.000000, best_reward: 1102.000000 ± 0.000000 in #360\n"
     ]
    },
    {
     "name": "stderr",
     "output_type": "stream",
     "text": [
      "Epoch #695: 1025it [00:02, 377.19it/s, env_step=711680, len=27, n/ep=2, n/st=64, player_1/loss=380.436, player_2/loss=1111.556, rew=385.00]\n"
     ]
    },
    {
     "name": "stdout",
     "output_type": "stream",
     "text": [
      "Epoch #695: test_reward: 819.000000 ± 0.000000, best_reward: 1102.000000 ± 0.000000 in #360\n"
     ]
    },
    {
     "name": "stderr",
     "output_type": "stream",
     "text": [
      "Epoch #696: 1025it [00:02, 376.58it/s, env_step=712704, len=19, n/ep=2, n/st=64, player_1/loss=290.872, player_2/loss=474.139, rew=199.00]\n"
     ]
    },
    {
     "name": "stdout",
     "output_type": "stream",
     "text": [
      "Epoch #696: test_reward: 495.000000 ± 0.000000, best_reward: 1102.000000 ± 0.000000 in #360\n"
     ]
    },
    {
     "name": "stderr",
     "output_type": "stream",
     "text": [
      "Epoch #697: 1025it [00:02, 376.39it/s, env_step=713728, len=26, n/ep=2, n/st=64, player_1/loss=289.933, player_2/loss=551.809, rew=368.00]\n"
     ]
    },
    {
     "name": "stdout",
     "output_type": "stream",
     "text": [
      "Epoch #697: test_reward: 27.000000 ± 0.000000, best_reward: 1102.000000 ± 0.000000 in #360\n"
     ]
    },
    {
     "name": "stderr",
     "output_type": "stream",
     "text": [
      "Epoch #698: 1025it [00:02, 377.60it/s, env_step=714752, len=23, n/ep=2, n/st=64, player_1/loss=285.966, player_2/loss=696.081, rew=302.00]\n"
     ]
    },
    {
     "name": "stdout",
     "output_type": "stream",
     "text": [
      "Epoch #698: test_reward: 702.000000 ± 0.000000, best_reward: 1102.000000 ± 0.000000 in #360\n"
     ]
    },
    {
     "name": "stderr",
     "output_type": "stream",
     "text": [
      "Epoch #699: 1025it [00:02, 376.57it/s, env_step=715776, len=27, n/ep=3, n/st=64, player_1/loss=205.721, player_2/loss=504.964, rew=423.00]\n"
     ]
    },
    {
     "name": "stdout",
     "output_type": "stream",
     "text": [
      "Epoch #699: test_reward: 702.000000 ± 0.000000, best_reward: 1102.000000 ± 0.000000 in #360\n"
     ]
    },
    {
     "name": "stderr",
     "output_type": "stream",
     "text": [
      "Epoch #700: 1025it [00:02, 376.08it/s, env_step=716800, len=28, n/ep=3, n/st=64, player_1/loss=158.953, player_2/loss=525.599, rew=521.00]\n"
     ]
    },
    {
     "name": "stdout",
     "output_type": "stream",
     "text": [
      "Epoch #700: test_reward: 702.000000 ± 0.000000, best_reward: 1102.000000 ± 0.000000 in #360\n"
     ]
    },
    {
     "name": "stderr",
     "output_type": "stream",
     "text": [
      "Epoch #701: 1025it [00:02, 375.58it/s, env_step=717824, len=40, n/ep=2, n/st=64, player_1/loss=307.090, player_2/loss=578.552, rew=819.00]\n"
     ]
    },
    {
     "name": "stdout",
     "output_type": "stream",
     "text": [
      "Epoch #701: test_reward: 702.000000 ± 0.000000, best_reward: 1102.000000 ± 0.000000 in #360\n"
     ]
    },
    {
     "name": "stderr",
     "output_type": "stream",
     "text": [
      "Epoch #702: 1025it [00:02, 376.80it/s, env_step=718848, len=14, n/ep=4, n/st=64, player_1/loss=330.937, player_2/loss=782.100, rew=138.25]\n"
     ]
    },
    {
     "name": "stdout",
     "output_type": "stream",
     "text": [
      "Epoch #702: test_reward: 1102.000000 ± 0.000000, best_reward: 1102.000000 ± 0.000000 in #360\n"
     ]
    },
    {
     "name": "stderr",
     "output_type": "stream",
     "text": [
      "Epoch #703: 1025it [00:02, 379.79it/s, env_step=719872, len=40, n/ep=1, n/st=64, player_1/loss=420.331, player_2/loss=612.072, rew=819.00]\n"
     ]
    },
    {
     "name": "stdout",
     "output_type": "stream",
     "text": [
      "Epoch #703: test_reward: 702.000000 ± 0.000000, best_reward: 1102.000000 ± 0.000000 in #360\n"
     ]
    },
    {
     "name": "stderr",
     "output_type": "stream",
     "text": [
      "Epoch #704: 1025it [00:02, 374.75it/s, env_step=720896, len=18, n/ep=4, n/st=64, player_1/loss=444.169, player_2/loss=420.078, rew=231.75]\n"
     ]
    },
    {
     "name": "stdout",
     "output_type": "stream",
     "text": [
      "Epoch #704: test_reward: 702.000000 ± 0.000000, best_reward: 1102.000000 ± 0.000000 in #360\n"
     ]
    },
    {
     "name": "stderr",
     "output_type": "stream",
     "text": [
      "Epoch #705: 1025it [00:02, 374.08it/s, env_step=721920, len=25, n/ep=3, n/st=64, player_1/loss=432.583, player_2/loss=166.425, rew=361.33]\n"
     ]
    },
    {
     "name": "stdout",
     "output_type": "stream",
     "text": [
      "Epoch #705: test_reward: 350.000000 ± 0.000000, best_reward: 1102.000000 ± 0.000000 in #360\n"
     ]
    },
    {
     "name": "stderr",
     "output_type": "stream",
     "text": [
      "Epoch #706: 1025it [00:02, 374.98it/s, env_step=722944, len=28, n/ep=2, n/st=64, player_1/loss=350.286, rew=405.50]   \n"
     ]
    },
    {
     "name": "stdout",
     "output_type": "stream",
     "text": [
      "Epoch #706: test_reward: 299.000000 ± 0.000000, best_reward: 1102.000000 ± 0.000000 in #360\n"
     ]
    },
    {
     "name": "stderr",
     "output_type": "stream",
     "text": [
      "Epoch #707: 1025it [00:02, 378.00it/s, env_step=723968, len=35, n/ep=2, n/st=64, player_1/loss=304.726, player_2/loss=616.122, rew=650.00]\n"
     ]
    },
    {
     "name": "stdout",
     "output_type": "stream",
     "text": [
      "Epoch #707: test_reward: 740.000000 ± 0.000000, best_reward: 1102.000000 ± 0.000000 in #360\n"
     ]
    },
    {
     "name": "stderr",
     "output_type": "stream",
     "text": [
      "Epoch #708: 1025it [00:02, 376.76it/s, env_step=724992, len=11, n/ep=6, n/st=64, player_1/loss=376.576, player_2/loss=650.227, rew=97.67]\n"
     ]
    },
    {
     "name": "stdout",
     "output_type": "stream",
     "text": [
      "Epoch #708: test_reward: 1102.000000 ± 0.000000, best_reward: 1102.000000 ± 0.000000 in #360\n"
     ]
    },
    {
     "name": "stderr",
     "output_type": "stream",
     "text": [
      "Epoch #709: 1025it [00:02, 375.45it/s, env_step=726016, len=16, n/ep=2, n/st=64, player_1/loss=337.486, player_2/loss=598.344, rew=158.50]\n"
     ]
    },
    {
     "name": "stdout",
     "output_type": "stream",
     "text": [
      "Epoch #709: test_reward: 170.000000 ± 0.000000, best_reward: 1102.000000 ± 0.000000 in #360\n"
     ]
    },
    {
     "name": "stderr",
     "output_type": "stream",
     "text": [
      "Epoch #710: 1025it [00:02, 376.17it/s, env_step=727040, len=32, n/ep=2, n/st=64, player_1/loss=441.124, player_2/loss=411.605, rew=553.50]\n"
     ]
    },
    {
     "name": "stdout",
     "output_type": "stream",
     "text": [
      "Epoch #710: test_reward: 350.000000 ± 0.000000, best_reward: 1102.000000 ± 0.000000 in #360\n"
     ]
    },
    {
     "name": "stderr",
     "output_type": "stream",
     "text": [
      "Epoch #711: 1025it [00:02, 377.56it/s, env_step=728064, len=19, n/ep=3, n/st=64, player_1/loss=564.883, player_2/loss=488.541, rew=240.33]\n"
     ]
    },
    {
     "name": "stdout",
     "output_type": "stream",
     "text": [
      "Epoch #711: test_reward: 90.000000 ± 0.000000, best_reward: 1102.000000 ± 0.000000 in #360\n"
     ]
    },
    {
     "name": "stderr",
     "output_type": "stream",
     "text": [
      "Epoch #712: 1025it [00:02, 375.00it/s, env_step=729088, len=15, n/ep=4, n/st=64, player_1/loss=499.885, player_2/loss=781.450, rew=168.75]\n"
     ]
    },
    {
     "name": "stdout",
     "output_type": "stream",
     "text": [
      "Epoch #712: test_reward: 350.000000 ± 0.000000, best_reward: 1102.000000 ± 0.000000 in #360\n"
     ]
    },
    {
     "name": "stderr",
     "output_type": "stream",
     "text": [
      "Epoch #713: 1025it [00:02, 380.32it/s, env_step=730112, len=24, n/ep=3, n/st=64, player_1/loss=504.593, player_2/loss=652.094, rew=349.67]\n"
     ]
    },
    {
     "name": "stdout",
     "output_type": "stream",
     "text": [
      "Epoch #713: test_reward: 44.000000 ± 0.000000, best_reward: 1102.000000 ± 0.000000 in #360\n"
     ]
    },
    {
     "name": "stderr",
     "output_type": "stream",
     "text": [
      "Epoch #714: 1025it [00:02, 378.62it/s, env_step=731136, len=18, n/ep=3, n/st=64, player_1/loss=409.577, player_2/loss=764.603, rew=221.33]\n"
     ]
    },
    {
     "name": "stdout",
     "output_type": "stream",
     "text": [
      "Epoch #714: test_reward: 740.000000 ± 0.000000, best_reward: 1102.000000 ± 0.000000 in #360\n"
     ]
    },
    {
     "name": "stderr",
     "output_type": "stream",
     "text": [
      "Epoch #715: 1025it [00:02, 373.25it/s, env_step=732160, len=37, n/ep=2, n/st=64, player_1/loss=413.071, player_2/loss=572.676, rew=702.50]\n"
     ]
    },
    {
     "name": "stdout",
     "output_type": "stream",
     "text": [
      "Epoch #715: test_reward: 740.000000 ± 0.000000, best_reward: 1102.000000 ± 0.000000 in #360\n"
     ]
    },
    {
     "name": "stderr",
     "output_type": "stream",
     "text": [
      "Epoch #716: 1025it [00:02, 378.44it/s, env_step=733184, len=24, n/ep=3, n/st=64, player_1/loss=383.440, player_2/loss=539.781, rew=361.00]\n"
     ]
    },
    {
     "name": "stdout",
     "output_type": "stream",
     "text": [
      "Epoch #716: test_reward: 152.000000 ± 0.000000, best_reward: 1102.000000 ± 0.000000 in #360\n"
     ]
    },
    {
     "name": "stderr",
     "output_type": "stream",
     "text": [
      "Epoch #717: 1025it [00:02, 373.13it/s, env_step=734208, len=23, n/ep=3, n/st=64, player_1/loss=324.529, player_2/loss=794.397, rew=301.67]\n"
     ]
    },
    {
     "name": "stdout",
     "output_type": "stream",
     "text": [
      "Epoch #717: test_reward: 152.000000 ± 0.000000, best_reward: 1102.000000 ± 0.000000 in #360\n"
     ]
    },
    {
     "name": "stderr",
     "output_type": "stream",
     "text": [
      "Epoch #718: 1025it [00:02, 376.97it/s, env_step=735232, len=23, n/ep=2, n/st=64, player_1/loss=391.028, player_2/loss=959.439, rew=308.00]\n"
     ]
    },
    {
     "name": "stdout",
     "output_type": "stream",
     "text": [
      "Epoch #718: test_reward: 740.000000 ± 0.000000, best_reward: 1102.000000 ± 0.000000 in #360\n"
     ]
    },
    {
     "name": "stderr",
     "output_type": "stream",
     "text": [
      "Epoch #719: 1025it [00:02, 377.42it/s, env_step=736256, len=28, n/ep=3, n/st=64, player_1/loss=464.025, player_2/loss=541.271, rew=408.00]\n"
     ]
    },
    {
     "name": "stdout",
     "output_type": "stream",
     "text": [
      "Epoch #719: test_reward: 1102.000000 ± 0.000000, best_reward: 1102.000000 ± 0.000000 in #360\n"
     ]
    },
    {
     "name": "stderr",
     "output_type": "stream",
     "text": [
      "Epoch #720: 1025it [00:02, 374.05it/s, env_step=737280, len=27, n/ep=3, n/st=64, player_1/loss=323.377, player_2/loss=239.352, rew=413.33]\n"
     ]
    },
    {
     "name": "stdout",
     "output_type": "stream",
     "text": [
      "Epoch #720: test_reward: 702.000000 ± 0.000000, best_reward: 1102.000000 ± 0.000000 in #360\n"
     ]
    },
    {
     "name": "stderr",
     "output_type": "stream",
     "text": [
      "Epoch #721: 1025it [00:02, 377.13it/s, env_step=738304, len=38, n/ep=2, n/st=64, player_1/loss=282.475, player_2/loss=306.423, rew=740.50]\n"
     ]
    },
    {
     "name": "stdout",
     "output_type": "stream",
     "text": [
      "Epoch #721: test_reward: 324.000000 ± 0.000000, best_reward: 1102.000000 ± 0.000000 in #360\n"
     ]
    },
    {
     "name": "stderr",
     "output_type": "stream",
     "text": [
      "Epoch #722: 1025it [00:02, 373.04it/s, env_step=739328, len=32, n/ep=2, n/st=64, player_1/loss=443.450, player_2/loss=449.301, rew=546.50]\n"
     ]
    },
    {
     "name": "stdout",
     "output_type": "stream",
     "text": [
      "Epoch #722: test_reward: 740.000000 ± 0.000000, best_reward: 1102.000000 ± 0.000000 in #360\n"
     ]
    },
    {
     "name": "stderr",
     "output_type": "stream",
     "text": [
      "Epoch #723: 1025it [00:02, 374.99it/s, env_step=740352, len=24, n/ep=3, n/st=64, player_1/loss=419.976, player_2/loss=355.701, rew=327.00]\n"
     ]
    },
    {
     "name": "stdout",
     "output_type": "stream",
     "text": [
      "Epoch #723: test_reward: 740.000000 ± 0.000000, best_reward: 1102.000000 ± 0.000000 in #360\n"
     ]
    },
    {
     "name": "stderr",
     "output_type": "stream",
     "text": [
      "Epoch #724: 1025it [00:02, 375.46it/s, env_step=741376, len=24, n/ep=2, n/st=64, player_1/loss=266.126, player_2/loss=442.852, rew=314.50]\n"
     ]
    },
    {
     "name": "stdout",
     "output_type": "stream",
     "text": [
      "Epoch #724: test_reward: 299.000000 ± 0.000000, best_reward: 1102.000000 ± 0.000000 in #360\n"
     ]
    },
    {
     "name": "stderr",
     "output_type": "stream",
     "text": [
      "Epoch #725: 1025it [00:02, 375.72it/s, env_step=742400, len=34, n/ep=1, n/st=64, player_1/loss=505.506, player_2/loss=476.329, rew=594.00]\n"
     ]
    },
    {
     "name": "stdout",
     "output_type": "stream",
     "text": [
      "Epoch #725: test_reward: 1102.000000 ± 0.000000, best_reward: 1102.000000 ± 0.000000 in #360\n"
     ]
    },
    {
     "name": "stderr",
     "output_type": "stream",
     "text": [
      "Epoch #726: 1025it [00:02, 377.50it/s, env_step=743424, len=18, n/ep=4, n/st=64, player_1/loss=572.643, player_2/loss=373.694, rew=242.50]\n"
     ]
    },
    {
     "name": "stdout",
     "output_type": "stream",
     "text": [
      "Epoch #726: test_reward: 740.000000 ± 0.000000, best_reward: 1102.000000 ± 0.000000 in #360\n"
     ]
    },
    {
     "name": "stderr",
     "output_type": "stream",
     "text": [
      "Epoch #727: 1025it [00:02, 377.71it/s, env_step=744448, len=30, n/ep=3, n/st=64, player_1/loss=664.122, player_2/loss=449.751, rew=481.33]\n"
     ]
    },
    {
     "name": "stdout",
     "output_type": "stream",
     "text": [
      "Epoch #727: test_reward: 740.000000 ± 0.000000, best_reward: 1102.000000 ± 0.000000 in #360\n"
     ]
    },
    {
     "name": "stderr",
     "output_type": "stream",
     "text": [
      "Epoch #728: 1025it [00:02, 375.33it/s, env_step=745472, len=8, n/ep=7, n/st=64, player_1/loss=744.003, player_2/loss=826.563, rew=45.00]\n"
     ]
    },
    {
     "name": "stdout",
     "output_type": "stream",
     "text": [
      "Epoch #728: test_reward: 27.000000 ± 0.000000, best_reward: 1102.000000 ± 0.000000 in #360\n"
     ]
    },
    {
     "name": "stderr",
     "output_type": "stream",
     "text": [
      "Epoch #729: 1025it [00:02, 375.21it/s, env_step=746496, len=16, n/ep=4, n/st=64, player_1/loss=521.465, player_2/loss=1208.550, rew=165.75]\n"
     ]
    },
    {
     "name": "stdout",
     "output_type": "stream",
     "text": [
      "Epoch #729: test_reward: 350.000000 ± 0.000000, best_reward: 1102.000000 ± 0.000000 in #360\n"
     ]
    },
    {
     "name": "stderr",
     "output_type": "stream",
     "text": [
      "Epoch #730: 1025it [00:02, 370.38it/s, env_step=747520, len=31, n/ep=2, n/st=64, player_1/loss=367.221, player_2/loss=970.174, rew=526.00]\n"
     ]
    },
    {
     "name": "stdout",
     "output_type": "stream",
     "text": [
      "Epoch #730: test_reward: 189.000000 ± 0.000000, best_reward: 1102.000000 ± 0.000000 in #360\n"
     ]
    },
    {
     "name": "stderr",
     "output_type": "stream",
     "text": [
      "Epoch #731: 1025it [00:02, 374.81it/s, env_step=748544, len=15, n/ep=5, n/st=64, player_1/loss=383.098, player_2/loss=717.576, rew=198.40]\n"
     ]
    },
    {
     "name": "stdout",
     "output_type": "stream",
     "text": [
      "Epoch #731: test_reward: 170.000000 ± 0.000000, best_reward: 1102.000000 ± 0.000000 in #360\n"
     ]
    },
    {
     "name": "stderr",
     "output_type": "stream",
     "text": [
      "Epoch #732: 1025it [00:02, 374.90it/s, env_step=749568, len=19, n/ep=2, n/st=64, player_1/loss=320.105, player_2/loss=652.164, rew=261.00]\n"
     ]
    },
    {
     "name": "stdout",
     "output_type": "stream",
     "text": [
      "Epoch #732: test_reward: 27.000000 ± 0.000000, best_reward: 1102.000000 ± 0.000000 in #360\n"
     ]
    },
    {
     "name": "stderr",
     "output_type": "stream",
     "text": [
      "Epoch #733: 1025it [00:02, 376.49it/s, env_step=750592, len=25, n/ep=2, n/st=64, player_1/loss=185.580, player_2/loss=561.487, rew=348.50]\n"
     ]
    },
    {
     "name": "stdout",
     "output_type": "stream",
     "text": [
      "Epoch #733: test_reward: 1102.000000 ± 0.000000, best_reward: 1102.000000 ± 0.000000 in #360\n"
     ]
    },
    {
     "name": "stderr",
     "output_type": "stream",
     "text": [
      "Epoch #734: 1025it [00:02, 374.14it/s, env_step=751616, len=21, n/ep=3, n/st=64, player_1/loss=158.792, player_2/loss=675.975, rew=256.33]\n"
     ]
    },
    {
     "name": "stdout",
     "output_type": "stream",
     "text": [
      "Epoch #734: test_reward: 665.000000 ± 0.000000, best_reward: 1102.000000 ± 0.000000 in #360\n"
     ]
    },
    {
     "name": "stderr",
     "output_type": "stream",
     "text": [
      "Epoch #735: 1025it [00:02, 377.33it/s, env_step=752640, len=25, n/ep=2, n/st=64, player_1/loss=187.184, player_2/loss=322.904, rew=364.50]\n"
     ]
    },
    {
     "name": "stdout",
     "output_type": "stream",
     "text": [
      "Epoch #735: test_reward: 702.000000 ± 0.000000, best_reward: 1102.000000 ± 0.000000 in #360\n"
     ]
    },
    {
     "name": "stderr",
     "output_type": "stream",
     "text": [
      "Epoch #736: 1025it [00:02, 375.02it/s, env_step=753664, len=21, n/ep=4, n/st=64, player_1/loss=310.834, player_2/loss=323.299, rew=290.25]\n"
     ]
    },
    {
     "name": "stdout",
     "output_type": "stream",
     "text": [
      "Epoch #736: test_reward: 170.000000 ± 0.000000, best_reward: 1102.000000 ± 0.000000 in #360\n"
     ]
    },
    {
     "name": "stderr",
     "output_type": "stream",
     "text": [
      "Epoch #737: 1025it [00:02, 366.45it/s, env_step=754688, len=19, n/ep=3, n/st=64, player_1/loss=498.186, player_2/loss=685.238, rew=210.00]\n"
     ]
    },
    {
     "name": "stdout",
     "output_type": "stream",
     "text": [
      "Epoch #737: test_reward: 324.000000 ± 0.000000, best_reward: 1102.000000 ± 0.000000 in #360\n"
     ]
    },
    {
     "name": "stderr",
     "output_type": "stream",
     "text": [
      "Epoch #738: 1025it [00:02, 372.94it/s, env_step=755712, len=20, n/ep=3, n/st=64, player_1/loss=519.897, player_2/loss=463.024, rew=235.00]\n"
     ]
    },
    {
     "name": "stdout",
     "output_type": "stream",
     "text": [
      "Epoch #738: test_reward: 377.000000 ± 0.000000, best_reward: 1102.000000 ± 0.000000 in #360\n"
     ]
    },
    {
     "name": "stderr",
     "output_type": "stream",
     "text": [
      "Epoch #739: 1025it [00:02, 376.45it/s, env_step=756736, len=21, n/ep=3, n/st=64, player_1/loss=427.900, player_2/loss=344.371, rew=260.00]\n"
     ]
    },
    {
     "name": "stdout",
     "output_type": "stream",
     "text": [
      "Epoch #739: test_reward: 350.000000 ± 0.000000, best_reward: 1102.000000 ± 0.000000 in #360\n"
     ]
    },
    {
     "name": "stderr",
     "output_type": "stream",
     "text": [
      "Epoch #740: 1025it [00:02, 377.92it/s, env_step=757760, len=38, n/ep=1, n/st=64, player_1/loss=363.174, player_2/loss=721.810, rew=740.00]\n"
     ]
    },
    {
     "name": "stdout",
     "output_type": "stream",
     "text": [
      "Epoch #740: test_reward: 702.000000 ± 0.000000, best_reward: 1102.000000 ± 0.000000 in #360\n"
     ]
    },
    {
     "name": "stderr",
     "output_type": "stream",
     "text": [
      "Epoch #741: 1025it [00:02, 375.53it/s, env_step=758784, len=18, n/ep=2, n/st=64, player_1/loss=405.965, player_2/loss=618.085, rew=185.50]\n"
     ]
    },
    {
     "name": "stdout",
     "output_type": "stream",
     "text": [
      "Epoch #741: test_reward: 119.000000 ± 0.000000, best_reward: 1102.000000 ± 0.000000 in #360\n"
     ]
    },
    {
     "name": "stderr",
     "output_type": "stream",
     "text": [
      "Epoch #742: 1025it [00:02, 376.18it/s, env_step=759808, len=14, n/ep=4, n/st=64, player_1/loss=516.494, player_2/loss=536.270, rew=131.50]\n"
     ]
    },
    {
     "name": "stdout",
     "output_type": "stream",
     "text": [
      "Epoch #742: test_reward: 135.000000 ± 0.000000, best_reward: 1102.000000 ± 0.000000 in #360\n"
     ]
    },
    {
     "name": "stderr",
     "output_type": "stream",
     "text": [
      "Epoch #743: 1025it [00:02, 374.06it/s, env_step=760832, len=38, n/ep=2, n/st=64, player_1/loss=498.673, player_2/loss=772.913, rew=762.50]\n"
     ]
    },
    {
     "name": "stdout",
     "output_type": "stream",
     "text": [
      "Epoch #743: test_reward: 252.000000 ± 0.000000, best_reward: 1102.000000 ± 0.000000 in #360\n"
     ]
    },
    {
     "name": "stderr",
     "output_type": "stream",
     "text": [
      "Epoch #744: 1025it [00:02, 376.49it/s, env_step=761856, len=19, n/ep=3, n/st=64, player_1/loss=347.189, player_2/loss=696.204, rew=243.67]\n"
     ]
    },
    {
     "name": "stdout",
     "output_type": "stream",
     "text": [
      "Epoch #744: test_reward: 527.000000 ± 0.000000, best_reward: 1102.000000 ± 0.000000 in #360\n"
     ]
    },
    {
     "name": "stderr",
     "output_type": "stream",
     "text": [
      "Epoch #745: 1025it [00:02, 375.10it/s, env_step=762880, len=22, n/ep=2, n/st=64, player_1/loss=289.197, player_2/loss=382.905, rew=291.50]\n"
     ]
    },
    {
     "name": "stdout",
     "output_type": "stream",
     "text": [
      "Epoch #745: test_reward: 740.000000 ± 0.000000, best_reward: 1102.000000 ± 0.000000 in #360\n"
     ]
    },
    {
     "name": "stderr",
     "output_type": "stream",
     "text": [
      "Epoch #746: 1025it [00:02, 370.87it/s, env_step=763904, len=26, n/ep=2, n/st=64, player_1/loss=222.778, player_2/loss=285.047, rew=364.50]\n"
     ]
    },
    {
     "name": "stdout",
     "output_type": "stream",
     "text": [
      "Epoch #746: test_reward: 350.000000 ± 0.000000, best_reward: 1102.000000 ± 0.000000 in #360\n"
     ]
    },
    {
     "name": "stderr",
     "output_type": "stream",
     "text": [
      "Epoch #747: 1025it [00:02, 376.87it/s, env_step=764928, len=27, n/ep=2, n/st=64, player_1/loss=185.220, player_2/loss=462.087, rew=401.00]\n"
     ]
    },
    {
     "name": "stdout",
     "output_type": "stream",
     "text": [
      "Epoch #747: test_reward: 819.000000 ± 0.000000, best_reward: 1102.000000 ± 0.000000 in #360\n"
     ]
    },
    {
     "name": "stderr",
     "output_type": "stream",
     "text": [
      "Epoch #748: 1025it [00:02, 376.64it/s, env_step=765952, len=17, n/ep=3, n/st=64, player_1/loss=312.205, player_2/loss=817.604, rew=169.33]\n"
     ]
    },
    {
     "name": "stdout",
     "output_type": "stream",
     "text": [
      "Epoch #748: test_reward: 209.000000 ± 0.000000, best_reward: 1102.000000 ± 0.000000 in #360\n"
     ]
    },
    {
     "name": "stderr",
     "output_type": "stream",
     "text": [
      "Epoch #749: 1025it [00:02, 375.55it/s, env_step=766976, len=41, n/ep=1, n/st=64, player_1/loss=554.232, player_2/loss=611.906, rew=860.00]\n"
     ]
    },
    {
     "name": "stdout",
     "output_type": "stream",
     "text": [
      "Epoch #749: test_reward: 740.000000 ± 0.000000, best_reward: 1102.000000 ± 0.000000 in #360\n"
     ]
    },
    {
     "name": "stderr",
     "output_type": "stream",
     "text": [
      "Epoch #750: 1025it [00:02, 375.31it/s, env_step=768000, len=27, n/ep=2, n/st=64, player_1/loss=619.850, player_2/loss=286.095, rew=389.50]\n"
     ]
    },
    {
     "name": "stdout",
     "output_type": "stream",
     "text": [
      "Epoch #750: test_reward: 527.000000 ± 0.000000, best_reward: 1102.000000 ± 0.000000 in #360\n"
     ]
    },
    {
     "name": "stderr",
     "output_type": "stream",
     "text": [
      "Epoch #751: 1025it [00:02, 374.47it/s, env_step=769024, len=19, n/ep=3, n/st=64, player_1/loss=500.703, player_2/loss=359.255, rew=259.00]\n"
     ]
    },
    {
     "name": "stdout",
     "output_type": "stream",
     "text": [
      "Epoch #751: test_reward: 1102.000000 ± 0.000000, best_reward: 1102.000000 ± 0.000000 in #360\n"
     ]
    },
    {
     "name": "stderr",
     "output_type": "stream",
     "text": [
      "Epoch #752: 1025it [00:02, 371.16it/s, env_step=770048, len=10, n/ep=6, n/st=64, player_1/loss=664.435, player_2/loss=355.292, rew=68.00]\n"
     ]
    },
    {
     "name": "stdout",
     "output_type": "stream",
     "text": [
      "Epoch #752: test_reward: 27.000000 ± 0.000000, best_reward: 1102.000000 ± 0.000000 in #360\n"
     ]
    },
    {
     "name": "stderr",
     "output_type": "stream",
     "text": [
      "Epoch #753: 1025it [00:02, 378.62it/s, env_step=771072, len=8, n/ep=6, n/st=64, player_1/loss=378.914, player_2/loss=544.611, rew=42.67]\n"
     ]
    },
    {
     "name": "stdout",
     "output_type": "stream",
     "text": [
      "Epoch #753: test_reward: 27.000000 ± 0.000000, best_reward: 1102.000000 ± 0.000000 in #360\n"
     ]
    },
    {
     "name": "stderr",
     "output_type": "stream",
     "text": [
      "Epoch #754: 1025it [00:02, 372.61it/s, env_step=772096, len=31, n/ep=1, n/st=64, player_1/loss=437.085, player_2/loss=788.804, rew=495.00]\n"
     ]
    },
    {
     "name": "stdout",
     "output_type": "stream",
     "text": [
      "Epoch #754: test_reward: 27.000000 ± 0.000000, best_reward: 1102.000000 ± 0.000000 in #360\n"
     ]
    },
    {
     "name": "stderr",
     "output_type": "stream",
     "text": [
      "Epoch #755: 1025it [00:02, 372.79it/s, env_step=773120, len=19, n/ep=5, n/st=64, player_1/loss=399.116, player_2/loss=862.909, rew=312.40]\n"
     ]
    },
    {
     "name": "stdout",
     "output_type": "stream",
     "text": [
      "Epoch #755: test_reward: 27.000000 ± 0.000000, best_reward: 1102.000000 ± 0.000000 in #360\n"
     ]
    },
    {
     "name": "stderr",
     "output_type": "stream",
     "text": [
      "Epoch #756: 1025it [00:02, 376.57it/s, env_step=774144, len=40, n/ep=2, n/st=64, player_1/loss=333.543, player_2/loss=873.056, rew=921.00]\n"
     ]
    },
    {
     "name": "stdout",
     "output_type": "stream",
     "text": [
      "Epoch #756: test_reward: 377.000000 ± 0.000000, best_reward: 1102.000000 ± 0.000000 in #360\n"
     ]
    },
    {
     "name": "stderr",
     "output_type": "stream",
     "text": [
      "Epoch #757: 1025it [00:02, 374.99it/s, env_step=775168, len=24, n/ep=3, n/st=64, player_1/loss=569.789, player_2/loss=640.081, rew=324.00]\n"
     ]
    },
    {
     "name": "stdout",
     "output_type": "stream",
     "text": [
      "Epoch #757: test_reward: 209.000000 ± 0.000000, best_reward: 1102.000000 ± 0.000000 in #360\n"
     ]
    },
    {
     "name": "stderr",
     "output_type": "stream",
     "text": [
      "Epoch #758: 1025it [00:02, 374.73it/s, env_step=776192, len=26, n/ep=2, n/st=64, player_1/loss=598.308, player_2/loss=421.507, rew=369.50]\n"
     ]
    },
    {
     "name": "stdout",
     "output_type": "stream",
     "text": [
      "Epoch #758: test_reward: 27.000000 ± 0.000000, best_reward: 1102.000000 ± 0.000000 in #360\n"
     ]
    },
    {
     "name": "stderr",
     "output_type": "stream",
     "text": [
      "Epoch #759: 1025it [00:02, 377.31it/s, env_step=777216, len=30, n/ep=2, n/st=64, player_1/loss=495.505, player_2/loss=335.878, rew=464.00]\n"
     ]
    },
    {
     "name": "stdout",
     "output_type": "stream",
     "text": [
      "Epoch #759: test_reward: 1102.000000 ± 0.000000, best_reward: 1102.000000 ± 0.000000 in #360\n"
     ]
    },
    {
     "name": "stderr",
     "output_type": "stream",
     "text": [
      "Epoch #760: 1025it [00:02, 376.20it/s, env_step=778240, len=33, n/ep=2, n/st=64, player_1/loss=360.316, player_2/loss=385.692, rew=584.50]\n"
     ]
    },
    {
     "name": "stdout",
     "output_type": "stream",
     "text": [
      "Epoch #760: test_reward: 740.000000 ± 0.000000, best_reward: 1102.000000 ± 0.000000 in #360\n"
     ]
    },
    {
     "name": "stderr",
     "output_type": "stream",
     "text": [
      "Epoch #761: 1025it [00:02, 377.30it/s, env_step=779264, len=37, n/ep=2, n/st=64, player_1/loss=301.424, player_2/loss=292.918, rew=704.00]\n"
     ]
    },
    {
     "name": "stdout",
     "output_type": "stream",
     "text": [
      "Epoch #761: test_reward: 819.000000 ± 0.000000, best_reward: 1102.000000 ± 0.000000 in #360\n"
     ]
    },
    {
     "name": "stderr",
     "output_type": "stream",
     "text": [
      "Epoch #762: 1025it [00:02, 377.33it/s, env_step=780288, len=18, n/ep=2, n/st=64, player_1/loss=176.908, player_2/loss=273.141, rew=179.50]\n"
     ]
    },
    {
     "name": "stdout",
     "output_type": "stream",
     "text": [
      "Epoch #762: test_reward: 779.000000 ± 0.000000, best_reward: 1102.000000 ± 0.000000 in #360\n"
     ]
    },
    {
     "name": "stderr",
     "output_type": "stream",
     "text": [
      "Epoch #763: 1025it [00:02, 376.25it/s, env_step=781312, len=26, n/ep=2, n/st=64, player_1/loss=197.080, player_2/loss=442.538, rew=373.50]\n"
     ]
    },
    {
     "name": "stdout",
     "output_type": "stream",
     "text": [
      "Epoch #763: test_reward: 860.000000 ± 0.000000, best_reward: 1102.000000 ± 0.000000 in #360\n"
     ]
    },
    {
     "name": "stderr",
     "output_type": "stream",
     "text": [
      "Epoch #764: 1025it [00:02, 373.88it/s, env_step=782336, len=36, n/ep=2, n/st=64, player_1/loss=264.044, player_2/loss=440.648, rew=665.50]\n"
     ]
    },
    {
     "name": "stdout",
     "output_type": "stream",
     "text": [
      "Epoch #764: test_reward: 819.000000 ± 0.000000, best_reward: 1102.000000 ± 0.000000 in #360\n"
     ]
    },
    {
     "name": "stderr",
     "output_type": "stream",
     "text": [
      "Epoch #765: 1025it [00:02, 374.57it/s, env_step=783360, len=35, n/ep=2, n/st=64, player_1/loss=357.241, player_2/loss=160.691, rew=647.00]\n"
     ]
    },
    {
     "name": "stdout",
     "output_type": "stream",
     "text": [
      "Epoch #765: test_reward: 629.000000 ± 0.000000, best_reward: 1102.000000 ± 0.000000 in #360\n"
     ]
    },
    {
     "name": "stderr",
     "output_type": "stream",
     "text": [
      "Epoch #766: 1025it [00:02, 377.80it/s, env_step=784384, len=36, n/ep=1, n/st=64, player_1/loss=519.071, rew=665.00]   \n"
     ]
    },
    {
     "name": "stdout",
     "output_type": "stream",
     "text": [
      "Epoch #766: test_reward: 740.000000 ± 0.000000, best_reward: 1102.000000 ± 0.000000 in #360\n"
     ]
    },
    {
     "name": "stderr",
     "output_type": "stream",
     "text": [
      "Epoch #767: 1025it [00:02, 376.06it/s, env_step=785408, len=34, n/ep=2, n/st=64, player_1/loss=619.938, player_2/loss=543.322, rew=602.00]\n"
     ]
    },
    {
     "name": "stdout",
     "output_type": "stream",
     "text": [
      "Epoch #767: test_reward: 377.000000 ± 0.000000, best_reward: 1102.000000 ± 0.000000 in #360\n"
     ]
    },
    {
     "name": "stderr",
     "output_type": "stream",
     "text": [
      "Epoch #768: 1025it [00:02, 377.52it/s, env_step=786432, len=16, n/ep=4, n/st=64, player_1/loss=499.541, player_2/loss=543.701, rew=180.75]\n"
     ]
    },
    {
     "name": "stdout",
     "output_type": "stream",
     "text": [
      "Epoch #768: test_reward: 90.000000 ± 0.000000, best_reward: 1102.000000 ± 0.000000 in #360\n"
     ]
    },
    {
     "name": "stderr",
     "output_type": "stream",
     "text": [
      "Epoch #769: 1025it [00:02, 375.88it/s, env_step=787456, len=24, n/ep=3, n/st=64, player_1/loss=288.218, player_2/loss=473.498, rew=401.33]\n"
     ]
    },
    {
     "name": "stdout",
     "output_type": "stream",
     "text": [
      "Epoch #769: test_reward: 90.000000 ± 0.000000, best_reward: 1102.000000 ± 0.000000 in #360\n"
     ]
    },
    {
     "name": "stderr",
     "output_type": "stream",
     "text": [
      "Epoch #770: 1025it [00:02, 375.36it/s, env_step=788480, len=21, n/ep=3, n/st=64, player_1/loss=511.925, player_2/loss=413.574, rew=284.33]\n"
     ]
    },
    {
     "name": "stdout",
     "output_type": "stream",
     "text": [
      "Epoch #770: test_reward: 495.000000 ± 0.000000, best_reward: 1102.000000 ± 0.000000 in #360\n"
     ]
    },
    {
     "name": "stderr",
     "output_type": "stream",
     "text": [
      "Epoch #771: 1025it [00:02, 372.31it/s, env_step=789504, len=15, n/ep=4, n/st=64, player_1/loss=572.015, player_2/loss=582.213, rew=139.00]\n"
     ]
    },
    {
     "name": "stdout",
     "output_type": "stream",
     "text": [
      "Epoch #771: test_reward: 170.000000 ± 0.000000, best_reward: 1102.000000 ± 0.000000 in #360\n"
     ]
    },
    {
     "name": "stderr",
     "output_type": "stream",
     "text": [
      "Epoch #772: 1025it [00:02, 375.41it/s, env_step=790528, len=23, n/ep=3, n/st=64, player_1/loss=419.833, player_2/loss=621.345, rew=275.00]\n"
     ]
    },
    {
     "name": "stdout",
     "output_type": "stream",
     "text": [
      "Epoch #772: test_reward: 170.000000 ± 0.000000, best_reward: 1102.000000 ± 0.000000 in #360\n"
     ]
    },
    {
     "name": "stderr",
     "output_type": "stream",
     "text": [
      "Epoch #773: 1025it [00:02, 375.30it/s, env_step=791552, len=24, n/ep=2, n/st=64, player_1/loss=390.720, player_2/loss=488.237, rew=312.50]\n"
     ]
    },
    {
     "name": "stdout",
     "output_type": "stream",
     "text": [
      "Epoch #773: test_reward: 495.000000 ± 0.000000, best_reward: 1102.000000 ± 0.000000 in #360\n"
     ]
    },
    {
     "name": "stderr",
     "output_type": "stream",
     "text": [
      "Epoch #774: 1025it [00:02, 379.02it/s, env_step=792576, len=31, n/ep=2, n/st=64, player_1/loss=305.352, player_2/loss=546.329, rew=507.50]\n"
     ]
    },
    {
     "name": "stdout",
     "output_type": "stream",
     "text": [
      "Epoch #774: test_reward: 495.000000 ± 0.000000, best_reward: 1102.000000 ± 0.000000 in #360\n"
     ]
    },
    {
     "name": "stderr",
     "output_type": "stream",
     "text": [
      "Epoch #775: 1025it [00:02, 374.96it/s, env_step=793600, len=35, n/ep=2, n/st=64, player_1/loss=279.660, player_2/loss=429.001, rew=629.00]\n"
     ]
    },
    {
     "name": "stdout",
     "output_type": "stream",
     "text": [
      "Epoch #775: test_reward: 495.000000 ± 0.000000, best_reward: 1102.000000 ± 0.000000 in #360\n"
     ]
    },
    {
     "name": "stderr",
     "output_type": "stream",
     "text": [
      "Epoch #776: 1025it [00:02, 376.47it/s, env_step=794624, len=32, n/ep=1, n/st=64, player_1/loss=242.592, player_2/loss=382.180, rew=527.00]\n"
     ]
    },
    {
     "name": "stdout",
     "output_type": "stream",
     "text": [
      "Epoch #776: test_reward: 527.000000 ± 0.000000, best_reward: 1102.000000 ± 0.000000 in #360\n"
     ]
    },
    {
     "name": "stderr",
     "output_type": "stream",
     "text": [
      "Epoch #777: 1025it [00:02, 378.09it/s, env_step=795648, len=40, n/ep=1, n/st=64, player_1/loss=345.969, player_2/loss=643.454, rew=819.00]\n"
     ]
    },
    {
     "name": "stdout",
     "output_type": "stream",
     "text": [
      "Epoch #777: test_reward: 702.000000 ± 0.000000, best_reward: 1102.000000 ± 0.000000 in #360\n"
     ]
    },
    {
     "name": "stderr",
     "output_type": "stream",
     "text": [
      "Epoch #778: 1025it [00:02, 374.19it/s, env_step=796672, len=24, n/ep=2, n/st=64, player_1/loss=289.350, player_2/loss=506.610, rew=301.00]\n"
     ]
    },
    {
     "name": "stdout",
     "output_type": "stream",
     "text": [
      "Epoch #778: test_reward: 299.000000 ± 0.000000, best_reward: 1102.000000 ± 0.000000 in #360\n"
     ]
    },
    {
     "name": "stderr",
     "output_type": "stream",
     "text": [
      "Epoch #779: 1025it [00:02, 377.11it/s, env_step=797696, len=28, n/ep=2, n/st=64, player_1/loss=127.442, player_2/loss=238.756, rew=420.50]\n"
     ]
    },
    {
     "name": "stdout",
     "output_type": "stream",
     "text": [
      "Epoch #779: test_reward: 740.000000 ± 0.000000, best_reward: 1102.000000 ± 0.000000 in #360\n"
     ]
    },
    {
     "name": "stderr",
     "output_type": "stream",
     "text": [
      "Epoch #780: 1025it [00:02, 376.40it/s, env_step=798720, len=34, n/ep=2, n/st=64, player_1/loss=274.366, player_2/loss=331.265, rew=596.00]\n"
     ]
    },
    {
     "name": "stdout",
     "output_type": "stream",
     "text": [
      "Epoch #780: test_reward: 740.000000 ± 0.000000, best_reward: 1102.000000 ± 0.000000 in #360\n"
     ]
    },
    {
     "name": "stderr",
     "output_type": "stream",
     "text": [
      "Epoch #781: 1025it [00:02, 376.75it/s, env_step=799744, len=31, n/ep=2, n/st=64, player_1/loss=456.802, player_2/loss=517.822, rew=666.00]\n"
     ]
    },
    {
     "name": "stdout",
     "output_type": "stream",
     "text": [
      "Epoch #781: test_reward: 740.000000 ± 0.000000, best_reward: 1102.000000 ± 0.000000 in #360\n"
     ]
    },
    {
     "name": "stderr",
     "output_type": "stream",
     "text": [
      "Epoch #782: 1025it [00:02, 376.28it/s, env_step=800768, len=31, n/ep=2, n/st=64, player_1/loss=520.630, player_2/loss=457.579, rew=495.50]\n"
     ]
    },
    {
     "name": "stdout",
     "output_type": "stream",
     "text": [
      "Epoch #782: test_reward: 350.000000 ± 0.000000, best_reward: 1102.000000 ± 0.000000 in #360\n"
     ]
    },
    {
     "name": "stderr",
     "output_type": "stream",
     "text": [
      "Epoch #783: 1025it [00:02, 373.71it/s, env_step=801792, len=23, n/ep=2, n/st=64, player_1/loss=384.122, player_2/loss=358.822, rew=288.00]\n"
     ]
    },
    {
     "name": "stdout",
     "output_type": "stream",
     "text": [
      "Epoch #783: test_reward: 740.000000 ± 0.000000, best_reward: 1102.000000 ± 0.000000 in #360\n"
     ]
    },
    {
     "name": "stderr",
     "output_type": "stream",
     "text": [
      "Epoch #784: 1025it [00:02, 374.10it/s, env_step=802816, len=30, n/ep=2, n/st=64, player_1/loss=280.727, player_2/loss=301.593, rew=515.50]\n"
     ]
    },
    {
     "name": "stdout",
     "output_type": "stream",
     "text": [
      "Epoch #784: test_reward: 702.000000 ± 0.000000, best_reward: 1102.000000 ± 0.000000 in #360\n"
     ]
    },
    {
     "name": "stderr",
     "output_type": "stream",
     "text": [
      "Epoch #785: 1025it [00:02, 376.69it/s, env_step=803840, len=42, n/ep=1, n/st=64, player_1/loss=236.773, player_2/loss=388.379, rew=1102.00]\n"
     ]
    },
    {
     "name": "stdout",
     "output_type": "stream",
     "text": [
      "Epoch #785: test_reward: 779.000000 ± 0.000000, best_reward: 1102.000000 ± 0.000000 in #360\n"
     ]
    },
    {
     "name": "stderr",
     "output_type": "stream",
     "text": [
      "Epoch #786: 1025it [00:02, 376.43it/s, env_step=804864, len=31, n/ep=2, n/st=64, player_1/loss=395.593, player_2/loss=768.532, rew=512.00]\n"
     ]
    },
    {
     "name": "stdout",
     "output_type": "stream",
     "text": [
      "Epoch #786: test_reward: 90.000000 ± 0.000000, best_reward: 1102.000000 ± 0.000000 in #360\n"
     ]
    },
    {
     "name": "stderr",
     "output_type": "stream",
     "text": [
      "Epoch #787: 1025it [00:02, 377.12it/s, env_step=805888, len=28, n/ep=3, n/st=64, player_1/loss=580.288, player_2/loss=951.877, rew=438.67]\n"
     ]
    },
    {
     "name": "stdout",
     "output_type": "stream",
     "text": [
      "Epoch #787: test_reward: 90.000000 ± 0.000000, best_reward: 1102.000000 ± 0.000000 in #360\n"
     ]
    },
    {
     "name": "stderr",
     "output_type": "stream",
     "text": [
      "Epoch #788: 1025it [00:02, 373.43it/s, env_step=806912, len=20, n/ep=3, n/st=64, player_1/loss=591.290, player_2/loss=653.431, rew=225.00]\n"
     ]
    },
    {
     "name": "stdout",
     "output_type": "stream",
     "text": [
      "Epoch #788: test_reward: 252.000000 ± 0.000000, best_reward: 1102.000000 ± 0.000000 in #360\n"
     ]
    },
    {
     "name": "stderr",
     "output_type": "stream",
     "text": [
      "Epoch #789: 1025it [00:02, 363.00it/s, env_step=807936, len=15, n/ep=4, n/st=64, player_1/loss=749.983, player_2/loss=464.014, rew=194.25]\n"
     ]
    },
    {
     "name": "stdout",
     "output_type": "stream",
     "text": [
      "Epoch #789: test_reward: 702.000000 ± 0.000000, best_reward: 1102.000000 ± 0.000000 in #360\n"
     ]
    },
    {
     "name": "stderr",
     "output_type": "stream",
     "text": [
      "Epoch #790: 1025it [00:02, 377.20it/s, env_step=808960, len=12, n/ep=5, n/st=64, player_1/loss=480.258, player_2/loss=649.325, rew=81.00]\n"
     ]
    },
    {
     "name": "stdout",
     "output_type": "stream",
     "text": [
      "Epoch #790: test_reward: 90.000000 ± 0.000000, best_reward: 1102.000000 ± 0.000000 in #360\n"
     ]
    },
    {
     "name": "stderr",
     "output_type": "stream",
     "text": [
      "Epoch #791: 1025it [00:02, 376.84it/s, env_step=809984, len=14, n/ep=5, n/st=64, player_1/loss=630.174, player_2/loss=588.241, rew=136.60]\n"
     ]
    },
    {
     "name": "stdout",
     "output_type": "stream",
     "text": [
      "Epoch #791: test_reward: 740.000000 ± 0.000000, best_reward: 1102.000000 ± 0.000000 in #360\n"
     ]
    },
    {
     "name": "stderr",
     "output_type": "stream",
     "text": [
      "Epoch #792: 1025it [00:02, 376.67it/s, env_step=811008, len=20, n/ep=2, n/st=64, player_1/loss=581.458, player_2/loss=753.137, rew=274.50]\n"
     ]
    },
    {
     "name": "stdout",
     "output_type": "stream",
     "text": [
      "Epoch #792: test_reward: 324.000000 ± 0.000000, best_reward: 1102.000000 ± 0.000000 in #360\n"
     ]
    },
    {
     "name": "stderr",
     "output_type": "stream",
     "text": [
      "Epoch #793: 1025it [00:02, 373.24it/s, env_step=812032, len=31, n/ep=2, n/st=64, player_1/loss=354.381, player_2/loss=745.698, rew=532.00]\n"
     ]
    },
    {
     "name": "stdout",
     "output_type": "stream",
     "text": [
      "Epoch #793: test_reward: 702.000000 ± 0.000000, best_reward: 1102.000000 ± 0.000000 in #360\n"
     ]
    },
    {
     "name": "stderr",
     "output_type": "stream",
     "text": [
      "Epoch #794: 1025it [00:02, 378.24it/s, env_step=813056, len=16, n/ep=2, n/st=64, player_1/loss=177.600, player_2/loss=665.540, rew=175.50]\n"
     ]
    },
    {
     "name": "stdout",
     "output_type": "stream",
     "text": [
      "Epoch #794: test_reward: 230.000000 ± 0.000000, best_reward: 1102.000000 ± 0.000000 in #360\n"
     ]
    },
    {
     "name": "stderr",
     "output_type": "stream",
     "text": [
      "Epoch #795: 1025it [00:02, 375.42it/s, env_step=814080, len=35, n/ep=2, n/st=64, player_1/loss=145.225, player_2/loss=726.957, rew=637.00]\n"
     ]
    },
    {
     "name": "stdout",
     "output_type": "stream",
     "text": [
      "Epoch #795: test_reward: 740.000000 ± 0.000000, best_reward: 1102.000000 ± 0.000000 in #360\n"
     ]
    },
    {
     "name": "stderr",
     "output_type": "stream",
     "text": [
      "Epoch #796: 1025it [00:02, 374.30it/s, env_step=815104, len=10, n/ep=6, n/st=64, player_1/loss=317.095, player_2/loss=722.327, rew=59.33]\n"
     ]
    },
    {
     "name": "stdout",
     "output_type": "stream",
     "text": [
      "Epoch #796: test_reward: 77.000000 ± 0.000000, best_reward: 1102.000000 ± 0.000000 in #360\n"
     ]
    },
    {
     "name": "stderr",
     "output_type": "stream",
     "text": [
      "Epoch #797: 1025it [00:02, 374.70it/s, env_step=816128, len=9, n/ep=8, n/st=64, player_1/loss=454.606, player_2/loss=624.177, rew=56.38]\n"
     ]
    },
    {
     "name": "stdout",
     "output_type": "stream",
     "text": [
      "Epoch #797: test_reward: 65.000000 ± 0.000000, best_reward: 1102.000000 ± 0.000000 in #360\n"
     ]
    },
    {
     "name": "stderr",
     "output_type": "stream",
     "text": [
      "Epoch #798: 1025it [00:02, 376.19it/s, env_step=817152, len=28, n/ep=2, n/st=64, player_1/loss=393.301, player_2/loss=897.779, rew=445.50]\n"
     ]
    },
    {
     "name": "stdout",
     "output_type": "stream",
     "text": [
      "Epoch #798: test_reward: 275.000000 ± 0.000000, best_reward: 1102.000000 ± 0.000000 in #360\n"
     ]
    },
    {
     "name": "stderr",
     "output_type": "stream",
     "text": [
      "Epoch #799: 1025it [00:02, 375.20it/s, env_step=818176, len=12, n/ep=5, n/st=64, player_1/loss=291.229, player_2/loss=727.019, rew=98.60]\n"
     ]
    },
    {
     "name": "stdout",
     "output_type": "stream",
     "text": [
      "Epoch #799: test_reward: 77.000000 ± 0.000000, best_reward: 1102.000000 ± 0.000000 in #360\n"
     ]
    },
    {
     "name": "stderr",
     "output_type": "stream",
     "text": [
      "Epoch #800: 1025it [00:02, 374.46it/s, env_step=819200, len=23, n/ep=2, n/st=64, player_1/loss=216.730, player_2/loss=654.054, rew=423.00]\n"
     ]
    },
    {
     "name": "stdout",
     "output_type": "stream",
     "text": [
      "Epoch #800: test_reward: 740.000000 ± 0.000000, best_reward: 1102.000000 ± 0.000000 in #360\n"
     ]
    },
    {
     "name": "stderr",
     "output_type": "stream",
     "text": [
      "Epoch #801: 1025it [00:02, 373.37it/s, env_step=820224, len=38, n/ep=1, n/st=64, player_1/loss=183.602, player_2/loss=346.367, rew=740.00]\n"
     ]
    },
    {
     "name": "stdout",
     "output_type": "stream",
     "text": [
      "Epoch #801: test_reward: 740.000000 ± 0.000000, best_reward: 1102.000000 ± 0.000000 in #360\n"
     ]
    },
    {
     "name": "stderr",
     "output_type": "stream",
     "text": [
      "Epoch #802: 1025it [00:02, 375.07it/s, env_step=821248, len=22, n/ep=4, n/st=64, player_1/loss=195.521, player_2/loss=164.453, rew=299.25]\n"
     ]
    },
    {
     "name": "stdout",
     "output_type": "stream",
     "text": [
      "Epoch #802: test_reward: 464.000000 ± 0.000000, best_reward: 1102.000000 ± 0.000000 in #360\n"
     ]
    },
    {
     "name": "stderr",
     "output_type": "stream",
     "text": [
      "Epoch #803: 1025it [00:02, 375.81it/s, env_step=822272, len=27, n/ep=2, n/st=64, player_1/loss=407.471, player_2/loss=523.084, rew=392.00]\n"
     ]
    },
    {
     "name": "stdout",
     "output_type": "stream",
     "text": [
      "Epoch #803: test_reward: 152.000000 ± 0.000000, best_reward: 1102.000000 ± 0.000000 in #360\n"
     ]
    },
    {
     "name": "stderr",
     "output_type": "stream",
     "text": [
      "Epoch #804: 1025it [00:02, 378.20it/s, env_step=823296, len=19, n/ep=3, n/st=64, player_1/loss=584.329, player_2/loss=936.895, rew=197.33]\n"
     ]
    },
    {
     "name": "stdout",
     "output_type": "stream",
     "text": [
      "Epoch #804: test_reward: 65.000000 ± 0.000000, best_reward: 1102.000000 ± 0.000000 in #360\n"
     ]
    },
    {
     "name": "stderr",
     "output_type": "stream",
     "text": [
      "Epoch #805: 1025it [00:02, 376.67it/s, env_step=824320, len=13, n/ep=4, n/st=64, player_1/loss=651.713, player_2/loss=940.440, rew=109.50]\n"
     ]
    },
    {
     "name": "stdout",
     "output_type": "stream",
     "text": [
      "Epoch #805: test_reward: 252.000000 ± 0.000000, best_reward: 1102.000000 ± 0.000000 in #360\n"
     ]
    },
    {
     "name": "stderr",
     "output_type": "stream",
     "text": [
      "Epoch #806: 1025it [00:02, 377.10it/s, env_step=825344, len=16, n/ep=4, n/st=64, player_1/loss=471.769, player_2/loss=604.431, rew=158.00]\n"
     ]
    },
    {
     "name": "stdout",
     "output_type": "stream",
     "text": [
      "Epoch #806: test_reward: 44.000000 ± 0.000000, best_reward: 1102.000000 ± 0.000000 in #360\n"
     ]
    },
    {
     "name": "stderr",
     "output_type": "stream",
     "text": [
      "Epoch #807: 1025it [00:02, 374.74it/s, env_step=826368, len=12, n/ep=5, n/st=64, player_1/loss=324.070, player_2/loss=775.844, rew=92.00]\n"
     ]
    },
    {
     "name": "stdout",
     "output_type": "stream",
     "text": [
      "Epoch #807: test_reward: 44.000000 ± 0.000000, best_reward: 1102.000000 ± 0.000000 in #360\n"
     ]
    },
    {
     "name": "stderr",
     "output_type": "stream",
     "text": [
      "Epoch #808: 1025it [00:02, 377.86it/s, env_step=827392, len=24, n/ep=2, n/st=64, player_1/loss=389.236, player_2/loss=1029.701, rew=411.50]\n"
     ]
    },
    {
     "name": "stdout",
     "output_type": "stream",
     "text": [
      "Epoch #808: test_reward: 170.000000 ± 0.000000, best_reward: 1102.000000 ± 0.000000 in #360\n"
     ]
    },
    {
     "name": "stderr",
     "output_type": "stream",
     "text": [
      "Epoch #809: 1025it [00:02, 376.49it/s, env_step=828416, len=25, n/ep=3, n/st=64, player_1/loss=486.638, player_2/loss=744.654, rew=410.33]\n"
     ]
    },
    {
     "name": "stdout",
     "output_type": "stream",
     "text": [
      "Epoch #809: test_reward: 740.000000 ± 0.000000, best_reward: 1102.000000 ± 0.000000 in #360\n"
     ]
    },
    {
     "name": "stderr",
     "output_type": "stream",
     "text": [
      "Epoch #810: 1025it [00:02, 376.79it/s, env_step=829440, len=24, n/ep=2, n/st=64, player_1/loss=402.419, player_2/loss=602.088, rew=317.00]\n"
     ]
    },
    {
     "name": "stdout",
     "output_type": "stream",
     "text": [
      "Epoch #810: test_reward: 495.000000 ± 0.000000, best_reward: 1102.000000 ± 0.000000 in #360\n"
     ]
    },
    {
     "name": "stderr",
     "output_type": "stream",
     "text": [
      "Epoch #811: 1025it [00:02, 376.01it/s, env_step=830464, len=27, n/ep=2, n/st=64, player_1/loss=464.646, player_2/loss=400.904, rew=436.00]\n"
     ]
    },
    {
     "name": "stdout",
     "output_type": "stream",
     "text": [
      "Epoch #811: test_reward: 44.000000 ± 0.000000, best_reward: 1102.000000 ± 0.000000 in #360\n"
     ]
    },
    {
     "name": "stderr",
     "output_type": "stream",
     "text": [
      "Epoch #812: 1025it [00:02, 375.24it/s, env_step=831488, len=30, n/ep=1, n/st=64, player_1/loss=474.641, player_2/loss=399.786, rew=464.00]\n"
     ]
    },
    {
     "name": "stdout",
     "output_type": "stream",
     "text": [
      "Epoch #812: test_reward: 740.000000 ± 0.000000, best_reward: 1102.000000 ± 0.000000 in #360\n"
     ]
    },
    {
     "name": "stderr",
     "output_type": "stream",
     "text": [
      "Epoch #813: 1025it [00:02, 378.33it/s, env_step=832512, len=14, n/ep=4, n/st=64, player_1/loss=299.746, player_2/loss=850.988, rew=141.50]\n"
     ]
    },
    {
     "name": "stdout",
     "output_type": "stream",
     "text": [
      "Epoch #813: test_reward: 44.000000 ± 0.000000, best_reward: 1102.000000 ± 0.000000 in #360\n"
     ]
    },
    {
     "name": "stderr",
     "output_type": "stream",
     "text": [
      "Epoch #814: 1025it [00:02, 372.57it/s, env_step=833536, len=24, n/ep=3, n/st=64, player_1/loss=205.068, player_2/loss=669.833, rew=327.00]\n"
     ]
    },
    {
     "name": "stdout",
     "output_type": "stream",
     "text": [
      "Epoch #814: test_reward: 324.000000 ± 0.000000, best_reward: 1102.000000 ± 0.000000 in #360\n"
     ]
    },
    {
     "name": "stderr",
     "output_type": "stream",
     "text": [
      "Epoch #815: 1025it [00:02, 372.67it/s, env_step=834560, len=37, n/ep=1, n/st=64, player_1/loss=371.878, player_2/loss=465.771, rew=702.00]\n"
     ]
    },
    {
     "name": "stdout",
     "output_type": "stream",
     "text": [
      "Epoch #815: test_reward: 740.000000 ± 0.000000, best_reward: 1102.000000 ± 0.000000 in #360\n"
     ]
    },
    {
     "name": "stderr",
     "output_type": "stream",
     "text": [
      "Epoch #816: 1025it [00:02, 372.09it/s, env_step=835584, len=29, n/ep=2, n/st=64, player_1/loss=437.627, player_2/loss=551.197, rew=449.00]\n"
     ]
    },
    {
     "name": "stdout",
     "output_type": "stream",
     "text": [
      "Epoch #816: test_reward: 1102.000000 ± 0.000000, best_reward: 1102.000000 ± 0.000000 in #360\n"
     ]
    },
    {
     "name": "stderr",
     "output_type": "stream",
     "text": [
      "Epoch #817: 1025it [00:02, 373.24it/s, env_step=836608, len=41, n/ep=2, n/st=64, player_2/loss=351.480, rew=860.50]   \n"
     ]
    },
    {
     "name": "stdout",
     "output_type": "stream",
     "text": [
      "Epoch #817: test_reward: 702.000000 ± 0.000000, best_reward: 1102.000000 ± 0.000000 in #360\n"
     ]
    },
    {
     "name": "stderr",
     "output_type": "stream",
     "text": [
      "Epoch #818: 1025it [00:02, 375.82it/s, env_step=837632, len=20, n/ep=4, n/st=64, player_1/loss=527.873, player_2/loss=320.720, rew=230.25]\n"
     ]
    },
    {
     "name": "stdout",
     "output_type": "stream",
     "text": [
      "Epoch #818: test_reward: 189.000000 ± 0.000000, best_reward: 1102.000000 ± 0.000000 in #360\n"
     ]
    },
    {
     "name": "stderr",
     "output_type": "stream",
     "text": [
      "Epoch #819: 1025it [00:02, 379.72it/s, env_step=838656, len=25, n/ep=3, n/st=64, player_1/loss=371.926, player_2/loss=244.163, rew=361.33]\n"
     ]
    },
    {
     "name": "stdout",
     "output_type": "stream",
     "text": [
      "Epoch #819: test_reward: 170.000000 ± 0.000000, best_reward: 1102.000000 ± 0.000000 in #360\n"
     ]
    },
    {
     "name": "stderr",
     "output_type": "stream",
     "text": [
      "Epoch #820: 1025it [00:02, 377.23it/s, env_step=839680, len=20, n/ep=3, n/st=64, player_1/loss=327.112, player_2/loss=523.104, rew=209.00]\n"
     ]
    },
    {
     "name": "stdout",
     "output_type": "stream",
     "text": [
      "Epoch #820: test_reward: 170.000000 ± 0.000000, best_reward: 1102.000000 ± 0.000000 in #360\n"
     ]
    },
    {
     "name": "stderr",
     "output_type": "stream",
     "text": [
      "Epoch #821: 1025it [00:02, 375.78it/s, env_step=840704, len=24, n/ep=2, n/st=64, player_1/loss=444.626, player_2/loss=797.323, rew=301.00]\n"
     ]
    },
    {
     "name": "stdout",
     "output_type": "stream",
     "text": [
      "Epoch #821: test_reward: 740.000000 ± 0.000000, best_reward: 1102.000000 ± 0.000000 in #360\n"
     ]
    },
    {
     "name": "stderr",
     "output_type": "stream",
     "text": [
      "Epoch #822: 1025it [00:02, 373.28it/s, env_step=841728, len=32, n/ep=3, n/st=64, player_1/loss=373.149, player_2/loss=636.696, rew=554.00]\n"
     ]
    },
    {
     "name": "stdout",
     "output_type": "stream",
     "text": [
      "Epoch #822: test_reward: 27.000000 ± 0.000000, best_reward: 1102.000000 ± 0.000000 in #360\n"
     ]
    },
    {
     "name": "stderr",
     "output_type": "stream",
     "text": [
      "Epoch #823: 1025it [00:02, 371.86it/s, env_step=842752, len=33, n/ep=2, n/st=64, player_1/loss=312.720, player_2/loss=557.942, rew=700.50]\n"
     ]
    },
    {
     "name": "stdout",
     "output_type": "stream",
     "text": [
      "Epoch #823: test_reward: 740.000000 ± 0.000000, best_reward: 1102.000000 ± 0.000000 in #360\n"
     ]
    },
    {
     "name": "stderr",
     "output_type": "stream",
     "text": [
      "Epoch #824: 1025it [00:02, 379.09it/s, env_step=843776, len=32, n/ep=2, n/st=64, player_1/loss=203.711, player_2/loss=305.516, rew=551.50]\n"
     ]
    },
    {
     "name": "stdout",
     "output_type": "stream",
     "text": [
      "Epoch #824: test_reward: 1102.000000 ± 0.000000, best_reward: 1102.000000 ± 0.000000 in #360\n"
     ]
    },
    {
     "name": "stderr",
     "output_type": "stream",
     "text": [
      "Epoch #825: 1025it [00:02, 377.09it/s, env_step=844800, len=38, n/ep=1, n/st=64, player_1/loss=411.355, player_2/loss=227.248, rew=740.00]\n"
     ]
    },
    {
     "name": "stdout",
     "output_type": "stream",
     "text": [
      "Epoch #825: test_reward: 702.000000 ± 0.000000, best_reward: 1102.000000 ± 0.000000 in #360\n"
     ]
    },
    {
     "name": "stderr",
     "output_type": "stream",
     "text": [
      "Epoch #826: 1025it [00:02, 379.79it/s, env_step=845824, len=28, n/ep=2, n/st=64, player_1/loss=563.383, player_2/loss=389.980, rew=485.50]\n"
     ]
    },
    {
     "name": "stdout",
     "output_type": "stream",
     "text": [
      "Epoch #826: test_reward: 1102.000000 ± 0.000000, best_reward: 1102.000000 ± 0.000000 in #360\n"
     ]
    },
    {
     "name": "stderr",
     "output_type": "stream",
     "text": [
      "Epoch #827: 1025it [00:02, 376.57it/s, env_step=846848, len=37, n/ep=2, n/st=64, player_1/loss=336.050, player_2/loss=445.330, rew=814.50]\n"
     ]
    },
    {
     "name": "stdout",
     "output_type": "stream",
     "text": [
      "Epoch #827: test_reward: 594.000000 ± 0.000000, best_reward: 1102.000000 ± 0.000000 in #360\n"
     ]
    },
    {
     "name": "stderr",
     "output_type": "stream",
     "text": [
      "Epoch #828: 1025it [00:02, 374.36it/s, env_step=847872, len=32, n/ep=2, n/st=64, player_1/loss=270.389, player_2/loss=405.882, rew=564.50]\n"
     ]
    },
    {
     "name": "stdout",
     "output_type": "stream",
     "text": [
      "Epoch #828: test_reward: 702.000000 ± 0.000000, best_reward: 1102.000000 ± 0.000000 in #360\n"
     ]
    },
    {
     "name": "stderr",
     "output_type": "stream",
     "text": [
      "Epoch #829: 1025it [00:02, 373.65it/s, env_step=848896, len=40, n/ep=2, n/st=64, player_1/loss=392.467, player_2/loss=338.358, rew=839.50]\n"
     ]
    },
    {
     "name": "stdout",
     "output_type": "stream",
     "text": [
      "Epoch #829: test_reward: 779.000000 ± 0.000000, best_reward: 1102.000000 ± 0.000000 in #360\n"
     ]
    },
    {
     "name": "stderr",
     "output_type": "stream",
     "text": [
      "Epoch #830: 1025it [00:02, 375.66it/s, env_step=849920, len=22, n/ep=4, n/st=64, player_1/loss=635.284, player_2/loss=363.853, rew=296.75]\n"
     ]
    },
    {
     "name": "stdout",
     "output_type": "stream",
     "text": [
      "Epoch #830: test_reward: 464.000000 ± 0.000000, best_reward: 1102.000000 ± 0.000000 in #360\n"
     ]
    },
    {
     "name": "stderr",
     "output_type": "stream",
     "text": [
      "Epoch #831: 1025it [00:02, 374.12it/s, env_step=850944, len=20, n/ep=3, n/st=64, player_1/loss=642.693, player_2/loss=345.635, rew=236.33]\n"
     ]
    },
    {
     "name": "stdout",
     "output_type": "stream",
     "text": [
      "Epoch #831: test_reward: 90.000000 ± 0.000000, best_reward: 1102.000000 ± 0.000000 in #360\n"
     ]
    },
    {
     "name": "stderr",
     "output_type": "stream",
     "text": [
      "Epoch #832: 1025it [00:02, 375.75it/s, env_step=851968, len=15, n/ep=4, n/st=64, player_1/loss=574.246, player_2/loss=437.808, rew=135.00]\n"
     ]
    },
    {
     "name": "stdout",
     "output_type": "stream",
     "text": [
      "Epoch #832: test_reward: 495.000000 ± 0.000000, best_reward: 1102.000000 ± 0.000000 in #360\n"
     ]
    },
    {
     "name": "stderr",
     "output_type": "stream",
     "text": [
      "Epoch #833: 1025it [00:02, 373.00it/s, env_step=852992, len=28, n/ep=2, n/st=64, player_2/loss=449.086, rew=417.50]   \n"
     ]
    },
    {
     "name": "stdout",
     "output_type": "stream",
     "text": [
      "Epoch #833: test_reward: 495.000000 ± 0.000000, best_reward: 1102.000000 ± 0.000000 in #360\n"
     ]
    },
    {
     "name": "stderr",
     "output_type": "stream",
     "text": [
      "Epoch #834: 1025it [00:02, 377.33it/s, env_step=854016, len=18, n/ep=4, n/st=64, player_1/loss=613.208, player_2/loss=546.085, rew=183.00]\n"
     ]
    },
    {
     "name": "stdout",
     "output_type": "stream",
     "text": [
      "Epoch #834: test_reward: 152.000000 ± 0.000000, best_reward: 1102.000000 ± 0.000000 in #360\n"
     ]
    },
    {
     "name": "stderr",
     "output_type": "stream",
     "text": [
      "Epoch #835: 1025it [00:02, 375.20it/s, env_step=855040, len=26, n/ep=3, n/st=64, player_1/loss=768.474, player_2/loss=804.942, rew=457.67]\n"
     ]
    },
    {
     "name": "stdout",
     "output_type": "stream",
     "text": [
      "Epoch #835: test_reward: 740.000000 ± 0.000000, best_reward: 1102.000000 ± 0.000000 in #360\n"
     ]
    },
    {
     "name": "stderr",
     "output_type": "stream",
     "text": [
      "Epoch #836: 1025it [00:02, 372.71it/s, env_step=856064, len=29, n/ep=2, n/st=64, player_1/loss=701.333, rew=452.00]   \n"
     ]
    },
    {
     "name": "stdout",
     "output_type": "stream",
     "text": [
      "Epoch #836: test_reward: 740.000000 ± 0.000000, best_reward: 1102.000000 ± 0.000000 in #360\n"
     ]
    },
    {
     "name": "stderr",
     "output_type": "stream",
     "text": [
      "Epoch #837: 1025it [00:02, 376.71it/s, env_step=857088, len=18, n/ep=4, n/st=64, player_1/loss=451.517, player_2/loss=523.362, rew=212.50]\n"
     ]
    },
    {
     "name": "stdout",
     "output_type": "stream",
     "text": [
      "Epoch #837: test_reward: 252.000000 ± 0.000000, best_reward: 1102.000000 ± 0.000000 in #360\n"
     ]
    },
    {
     "name": "stderr",
     "output_type": "stream",
     "text": [
      "Epoch #838: 1025it [00:02, 369.67it/s, env_step=858112, len=26, n/ep=2, n/st=64, player_1/loss=358.067, player_2/loss=459.244, rew=350.50]\n"
     ]
    },
    {
     "name": "stdout",
     "output_type": "stream",
     "text": [
      "Epoch #838: test_reward: 702.000000 ± 0.000000, best_reward: 1102.000000 ± 0.000000 in #360\n"
     ]
    },
    {
     "name": "stderr",
     "output_type": "stream",
     "text": [
      "Epoch #839: 1025it [00:02, 379.57it/s, env_step=859136, len=38, n/ep=1, n/st=64, player_1/loss=234.411, player_2/loss=438.200, rew=740.00]\n"
     ]
    },
    {
     "name": "stdout",
     "output_type": "stream",
     "text": [
      "Epoch #839: test_reward: 702.000000 ± 0.000000, best_reward: 1102.000000 ± 0.000000 in #360\n"
     ]
    },
    {
     "name": "stderr",
     "output_type": "stream",
     "text": [
      "Epoch #840: 1025it [00:02, 379.07it/s, env_step=860160, len=29, n/ep=2, n/st=64, player_1/loss=260.117, player_2/loss=318.338, rew=452.00]\n"
     ]
    },
    {
     "name": "stdout",
     "output_type": "stream",
     "text": [
      "Epoch #840: test_reward: 1102.000000 ± 0.000000, best_reward: 1102.000000 ± 0.000000 in #360\n"
     ]
    },
    {
     "name": "stderr",
     "output_type": "stream",
     "text": [
      "Epoch #841: 1025it [00:02, 377.60it/s, env_step=861184, len=36, n/ep=2, n/st=64, player_1/loss=278.970, player_2/loss=352.280, rew=665.50]\n"
     ]
    },
    {
     "name": "stdout",
     "output_type": "stream",
     "text": [
      "Epoch #841: test_reward: 119.000000 ± 0.000000, best_reward: 1102.000000 ± 0.000000 in #360\n"
     ]
    },
    {
     "name": "stderr",
     "output_type": "stream",
     "text": [
      "Epoch #842: 1025it [00:02, 374.86it/s, env_step=862208, len=23, n/ep=3, n/st=64, player_1/loss=388.557, player_2/loss=618.933, rew=275.33]\n"
     ]
    },
    {
     "name": "stdout",
     "output_type": "stream",
     "text": [
      "Epoch #842: test_reward: 189.000000 ± 0.000000, best_reward: 1102.000000 ± 0.000000 in #360\n"
     ]
    },
    {
     "name": "stderr",
     "output_type": "stream",
     "text": [
      "Epoch #843: 1025it [00:02, 375.94it/s, env_step=863232, len=36, n/ep=2, n/st=64, player_1/loss=498.288, player_2/loss=763.151, rew=669.50]\n"
     ]
    },
    {
     "name": "stdout",
     "output_type": "stream",
     "text": [
      "Epoch #843: test_reward: 1102.000000 ± 0.000000, best_reward: 1102.000000 ± 0.000000 in #360\n"
     ]
    },
    {
     "name": "stderr",
     "output_type": "stream",
     "text": [
      "Epoch #844: 1025it [00:02, 375.86it/s, env_step=864256, len=26, n/ep=2, n/st=64, player_1/loss=319.051, player_2/loss=563.849, rew=352.00]\n"
     ]
    },
    {
     "name": "stdout",
     "output_type": "stream",
     "text": [
      "Epoch #844: test_reward: 527.000000 ± 0.000000, best_reward: 1102.000000 ± 0.000000 in #360\n"
     ]
    },
    {
     "name": "stderr",
     "output_type": "stream",
     "text": [
      "Epoch #845: 1025it [00:02, 377.52it/s, env_step=865280, len=30, n/ep=2, n/st=64, player_1/loss=421.193, player_2/loss=473.961, rew=534.50]\n"
     ]
    },
    {
     "name": "stdout",
     "output_type": "stream",
     "text": [
      "Epoch #845: test_reward: 740.000000 ± 0.000000, best_reward: 1102.000000 ± 0.000000 in #360\n"
     ]
    },
    {
     "name": "stderr",
     "output_type": "stream",
     "text": [
      "Epoch #846: 1025it [00:02, 372.56it/s, env_step=866304, len=40, n/ep=1, n/st=64, player_1/loss=656.893, player_2/loss=300.272, rew=819.00]\n"
     ]
    },
    {
     "name": "stdout",
     "output_type": "stream",
     "text": [
      "Epoch #846: test_reward: 702.000000 ± 0.000000, best_reward: 1102.000000 ± 0.000000 in #360\n"
     ]
    },
    {
     "name": "stderr",
     "output_type": "stream",
     "text": [
      "Epoch #847: 1025it [00:02, 373.22it/s, env_step=867328, len=31, n/ep=2, n/st=64, player_1/loss=494.920, player_2/loss=260.636, rew=519.50]\n"
     ]
    },
    {
     "name": "stdout",
     "output_type": "stream",
     "text": [
      "Epoch #847: test_reward: 779.000000 ± 0.000000, best_reward: 1102.000000 ± 0.000000 in #360\n"
     ]
    },
    {
     "name": "stderr",
     "output_type": "stream",
     "text": [
      "Epoch #848: 1025it [00:02, 374.49it/s, env_step=868352, len=34, n/ep=1, n/st=64, player_1/loss=400.284, player_2/loss=242.927, rew=594.00]\n"
     ]
    },
    {
     "name": "stdout",
     "output_type": "stream",
     "text": [
      "Epoch #848: test_reward: 527.000000 ± 0.000000, best_reward: 1102.000000 ± 0.000000 in #360\n"
     ]
    },
    {
     "name": "stderr",
     "output_type": "stream",
     "text": [
      "Epoch #849: 1025it [00:02, 375.89it/s, env_step=869376, len=34, n/ep=1, n/st=64, player_1/loss=307.213, player_2/loss=282.475, rew=594.00]\n"
     ]
    },
    {
     "name": "stdout",
     "output_type": "stream",
     "text": [
      "Epoch #849: test_reward: 740.000000 ± 0.000000, best_reward: 1102.000000 ± 0.000000 in #360\n"
     ]
    },
    {
     "name": "stderr",
     "output_type": "stream",
     "text": [
      "Epoch #850: 1025it [00:02, 376.51it/s, env_step=870400, len=15, n/ep=4, n/st=64, player_1/loss=281.591, rew=215.00]   \n"
     ]
    },
    {
     "name": "stdout",
     "output_type": "stream",
     "text": [
      "Epoch #850: test_reward: 27.000000 ± 0.000000, best_reward: 1102.000000 ± 0.000000 in #360\n"
     ]
    },
    {
     "name": "stderr",
     "output_type": "stream",
     "text": [
      "Epoch #851: 1025it [00:02, 373.19it/s, env_step=871424, len=21, n/ep=2, n/st=64, player_1/loss=306.291, player_2/loss=452.657, rew=230.00]\n"
     ]
    },
    {
     "name": "stdout",
     "output_type": "stream",
     "text": [
      "Epoch #851: test_reward: 35.000000 ± 0.000000, best_reward: 1102.000000 ± 0.000000 in #360\n"
     ]
    },
    {
     "name": "stderr",
     "output_type": "stream",
     "text": [
      "Epoch #852: 1025it [00:02, 375.61it/s, env_step=872448, len=15, n/ep=3, n/st=64, player_1/loss=546.146, player_2/loss=607.758, rew=119.00]\n"
     ]
    },
    {
     "name": "stdout",
     "output_type": "stream",
     "text": [
      "Epoch #852: test_reward: 779.000000 ± 0.000000, best_reward: 1102.000000 ± 0.000000 in #360\n"
     ]
    },
    {
     "name": "stderr",
     "output_type": "stream",
     "text": [
      "Epoch #853: 1025it [00:02, 375.22it/s, env_step=873472, len=20, n/ep=4, n/st=64, player_1/loss=516.228, player_2/loss=637.524, rew=290.50]\n"
     ]
    },
    {
     "name": "stdout",
     "output_type": "stream",
     "text": [
      "Epoch #853: test_reward: 252.000000 ± 0.000000, best_reward: 1102.000000 ± 0.000000 in #360\n"
     ]
    },
    {
     "name": "stderr",
     "output_type": "stream",
     "text": [
      "Epoch #854: 1025it [00:02, 375.94it/s, env_step=874496, len=13, n/ep=4, n/st=64, player_1/loss=395.009, player_2/loss=569.189, rew=103.50]\n"
     ]
    },
    {
     "name": "stdout",
     "output_type": "stream",
     "text": [
      "Epoch #854: test_reward: 90.000000 ± 0.000000, best_reward: 1102.000000 ± 0.000000 in #360\n"
     ]
    },
    {
     "name": "stderr",
     "output_type": "stream",
     "text": [
      "Epoch #855: 1025it [00:02, 373.68it/s, env_step=875520, len=15, n/ep=4, n/st=64, player_1/loss=495.761, player_2/loss=691.086, rew=135.25]\n"
     ]
    },
    {
     "name": "stdout",
     "output_type": "stream",
     "text": [
      "Epoch #855: test_reward: 90.000000 ± 0.000000, best_reward: 1102.000000 ± 0.000000 in #360\n"
     ]
    },
    {
     "name": "stderr",
     "output_type": "stream",
     "text": [
      "Epoch #856: 1025it [00:02, 375.53it/s, env_step=876544, len=18, n/ep=4, n/st=64, player_1/loss=346.384, player_2/loss=848.352, rew=179.25]\n"
     ]
    },
    {
     "name": "stdout",
     "output_type": "stream",
     "text": [
      "Epoch #856: test_reward: 90.000000 ± 0.000000, best_reward: 1102.000000 ± 0.000000 in #360\n"
     ]
    },
    {
     "name": "stderr",
     "output_type": "stream",
     "text": [
      "Epoch #857: 1025it [00:02, 373.43it/s, env_step=877568, len=19, n/ep=4, n/st=64, player_1/loss=338.794, player_2/loss=793.598, rew=236.75]\n"
     ]
    },
    {
     "name": "stdout",
     "output_type": "stream",
     "text": [
      "Epoch #857: test_reward: 44.000000 ± 0.000000, best_reward: 1102.000000 ± 0.000000 in #360\n"
     ]
    },
    {
     "name": "stderr",
     "output_type": "stream",
     "text": [
      "Epoch #858: 1025it [00:02, 376.88it/s, env_step=878592, len=23, n/ep=3, n/st=64, player_1/loss=577.554, player_2/loss=441.913, rew=315.00]\n"
     ]
    },
    {
     "name": "stdout",
     "output_type": "stream",
     "text": [
      "Epoch #858: test_reward: 170.000000 ± 0.000000, best_reward: 1102.000000 ± 0.000000 in #360\n"
     ]
    },
    {
     "name": "stderr",
     "output_type": "stream",
     "text": [
      "Epoch #859: 1025it [00:02, 369.08it/s, env_step=879616, len=13, n/ep=4, n/st=64, player_1/loss=454.437, player_2/loss=688.863, rew=106.25]\n"
     ]
    },
    {
     "name": "stdout",
     "output_type": "stream",
     "text": [
      "Epoch #859: test_reward: 119.000000 ± 0.000000, best_reward: 1102.000000 ± 0.000000 in #360\n"
     ]
    },
    {
     "name": "stderr",
     "output_type": "stream",
     "text": [
      "Epoch #860: 1025it [00:02, 374.29it/s, env_step=880640, len=16, n/ep=4, n/st=64, player_1/loss=123.858, player_2/loss=1254.206, rew=148.00]\n"
     ]
    },
    {
     "name": "stdout",
     "output_type": "stream",
     "text": [
      "Epoch #860: test_reward: 27.000000 ± 0.000000, best_reward: 1102.000000 ± 0.000000 in #360\n"
     ]
    },
    {
     "name": "stderr",
     "output_type": "stream",
     "text": [
      "Epoch #861: 1025it [00:02, 373.44it/s, env_step=881664, len=31, n/ep=2, n/st=64, player_1/loss=122.152, player_2/loss=1471.761, rew=511.00]\n"
     ]
    },
    {
     "name": "stdout",
     "output_type": "stream",
     "text": [
      "Epoch #861: test_reward: 275.000000 ± 0.000000, best_reward: 1102.000000 ± 0.000000 in #360\n"
     ]
    },
    {
     "name": "stderr",
     "output_type": "stream",
     "text": [
      "Epoch #862: 1025it [00:02, 375.91it/s, env_step=882688, len=38, n/ep=2, n/st=64, player_1/loss=213.626, player_2/loss=926.519, rew=740.50]\n"
     ]
    },
    {
     "name": "stdout",
     "output_type": "stream",
     "text": [
      "Epoch #862: test_reward: 495.000000 ± 0.000000, best_reward: 1102.000000 ± 0.000000 in #360\n"
     ]
    },
    {
     "name": "stderr",
     "output_type": "stream",
     "text": [
      "Epoch #863: 1025it [00:02, 375.65it/s, env_step=883712, len=37, n/ep=2, n/st=64, player_1/loss=408.555, player_2/loss=674.392, rew=814.50]\n"
     ]
    },
    {
     "name": "stdout",
     "output_type": "stream",
     "text": [
      "Epoch #863: test_reward: 702.000000 ± 0.000000, best_reward: 1102.000000 ± 0.000000 in #360\n"
     ]
    },
    {
     "name": "stderr",
     "output_type": "stream",
     "text": [
      "Epoch #864: 1025it [00:02, 374.44it/s, env_step=884736, len=31, n/ep=2, n/st=64, player_1/loss=319.000, player_2/loss=629.907, rew=519.50]\n"
     ]
    },
    {
     "name": "stdout",
     "output_type": "stream",
     "text": [
      "Epoch #864: test_reward: 902.000000 ± 0.000000, best_reward: 1102.000000 ± 0.000000 in #360\n"
     ]
    },
    {
     "name": "stderr",
     "output_type": "stream",
     "text": [
      "Epoch #865: 1025it [00:02, 374.99it/s, env_step=885760, len=19, n/ep=4, n/st=64, player_1/loss=243.831, player_2/loss=692.339, rew=194.25]\n"
     ]
    },
    {
     "name": "stdout",
     "output_type": "stream",
     "text": [
      "Epoch #865: test_reward: 275.000000 ± 0.000000, best_reward: 1102.000000 ± 0.000000 in #360\n"
     ]
    },
    {
     "name": "stderr",
     "output_type": "stream",
     "text": [
      "Epoch #866: 1025it [00:02, 376.63it/s, env_step=886784, len=24, n/ep=3, n/st=64, player_1/loss=335.897, player_2/loss=535.528, rew=363.67]\n"
     ]
    },
    {
     "name": "stdout",
     "output_type": "stream",
     "text": [
      "Epoch #866: test_reward: 702.000000 ± 0.000000, best_reward: 1102.000000 ± 0.000000 in #360\n"
     ]
    },
    {
     "name": "stderr",
     "output_type": "stream",
     "text": [
      "Epoch #867: 1025it [00:02, 376.06it/s, env_step=887808, len=37, n/ep=2, n/st=64, player_1/loss=280.415, player_2/loss=202.303, rew=814.50]\n"
     ]
    },
    {
     "name": "stdout",
     "output_type": "stream",
     "text": [
      "Epoch #867: test_reward: 702.000000 ± 0.000000, best_reward: 1102.000000 ± 0.000000 in #360\n"
     ]
    },
    {
     "name": "stderr",
     "output_type": "stream",
     "text": [
      "Epoch #868: 1025it [00:02, 373.73it/s, env_step=888832, len=29, n/ep=2, n/st=64, player_1/loss=209.631, player_2/loss=248.108, rew=434.50]\n"
     ]
    },
    {
     "name": "stdout",
     "output_type": "stream",
     "text": [
      "Epoch #868: test_reward: 135.000000 ± 0.000000, best_reward: 1102.000000 ± 0.000000 in #360\n"
     ]
    },
    {
     "name": "stderr",
     "output_type": "stream",
     "text": [
      "Epoch #869: 1025it [00:02, 375.11it/s, env_step=889856, len=28, n/ep=2, n/st=64, player_1/loss=434.906, player_2/loss=510.040, rew=422.50]\n"
     ]
    },
    {
     "name": "stdout",
     "output_type": "stream",
     "text": [
      "Epoch #869: test_reward: 135.000000 ± 0.000000, best_reward: 1102.000000 ± 0.000000 in #360\n"
     ]
    },
    {
     "name": "stderr",
     "output_type": "stream",
     "text": [
      "Epoch #870: 1025it [00:02, 373.39it/s, env_step=890880, len=13, n/ep=5, n/st=64, player_1/loss=665.585, player_2/loss=666.659, rew=96.40]\n"
     ]
    },
    {
     "name": "stdout",
     "output_type": "stream",
     "text": [
      "Epoch #870: test_reward: 90.000000 ± 0.000000, best_reward: 1102.000000 ± 0.000000 in #360\n"
     ]
    },
    {
     "name": "stderr",
     "output_type": "stream",
     "text": [
      "Epoch #871: 1025it [00:02, 374.14it/s, env_step=891904, len=14, n/ep=5, n/st=64, player_1/loss=588.319, player_2/loss=1008.908, rew=109.00]\n"
     ]
    },
    {
     "name": "stdout",
     "output_type": "stream",
     "text": [
      "Epoch #871: test_reward: 90.000000 ± 0.000000, best_reward: 1102.000000 ± 0.000000 in #360\n"
     ]
    },
    {
     "name": "stderr",
     "output_type": "stream",
     "text": [
      "Epoch #872: 1025it [00:02, 371.90it/s, env_step=892928, len=26, n/ep=2, n/st=64, player_1/loss=448.297, player_2/loss=1282.382, rew=374.50]\n"
     ]
    },
    {
     "name": "stdout",
     "output_type": "stream",
     "text": [
      "Epoch #872: test_reward: 90.000000 ± 0.000000, best_reward: 1102.000000 ± 0.000000 in #360\n"
     ]
    },
    {
     "name": "stderr",
     "output_type": "stream",
     "text": [
      "Epoch #873: 1025it [00:02, 373.08it/s, env_step=893952, len=18, n/ep=3, n/st=64, player_1/loss=345.263, player_2/loss=1082.544, rew=190.33]\n"
     ]
    },
    {
     "name": "stdout",
     "output_type": "stream",
     "text": [
      "Epoch #873: test_reward: 65.000000 ± 0.000000, best_reward: 1102.000000 ± 0.000000 in #360\n"
     ]
    },
    {
     "name": "stderr",
     "output_type": "stream",
     "text": [
      "Epoch #874: 1025it [00:02, 374.77it/s, env_step=894976, len=30, n/ep=2, n/st=64, player_1/loss=396.814, player_2/loss=819.211, rew=494.50]\n"
     ]
    },
    {
     "name": "stdout",
     "output_type": "stream",
     "text": [
      "Epoch #874: test_reward: 702.000000 ± 0.000000, best_reward: 1102.000000 ± 0.000000 in #360\n"
     ]
    },
    {
     "name": "stderr",
     "output_type": "stream",
     "text": [
      "Epoch #875: 1025it [00:02, 377.03it/s, env_step=896000, len=29, n/ep=2, n/st=64, player_1/loss=528.175, player_2/loss=478.096, rew=474.50]\n"
     ]
    },
    {
     "name": "stdout",
     "output_type": "stream",
     "text": [
      "Epoch #875: test_reward: 740.000000 ± 0.000000, best_reward: 1102.000000 ± 0.000000 in #360\n"
     ]
    },
    {
     "name": "stderr",
     "output_type": "stream",
     "text": [
      "Epoch #876: 1025it [00:02, 375.95it/s, env_step=897024, len=30, n/ep=2, n/st=64, player_1/loss=469.726, player_2/loss=861.614, rew=468.50]\n"
     ]
    },
    {
     "name": "stdout",
     "output_type": "stream",
     "text": [
      "Epoch #876: test_reward: 702.000000 ± 0.000000, best_reward: 1102.000000 ± 0.000000 in #360\n"
     ]
    },
    {
     "name": "stderr",
     "output_type": "stream",
     "text": [
      "Epoch #877: 1025it [00:02, 374.88it/s, env_step=898048, len=30, n/ep=3, n/st=64, player_1/loss=284.218, player_2/loss=956.069, rew=488.33]\n"
     ]
    },
    {
     "name": "stdout",
     "output_type": "stream",
     "text": [
      "Epoch #877: test_reward: 230.000000 ± 0.000000, best_reward: 1102.000000 ± 0.000000 in #360\n"
     ]
    },
    {
     "name": "stderr",
     "output_type": "stream",
     "text": [
      "Epoch #878: 1025it [00:02, 374.33it/s, env_step=899072, len=39, n/ep=1, n/st=64, player_1/loss=166.754, player_2/loss=812.282, rew=779.00]\n"
     ]
    },
    {
     "name": "stdout",
     "output_type": "stream",
     "text": [
      "Epoch #878: test_reward: 495.000000 ± 0.000000, best_reward: 1102.000000 ± 0.000000 in #360\n"
     ]
    },
    {
     "name": "stderr",
     "output_type": "stream",
     "text": [
      "Epoch #879: 1025it [00:02, 377.52it/s, env_step=900096, len=22, n/ep=3, n/st=64, player_1/loss=336.766, player_2/loss=597.897, rew=252.33]\n"
     ]
    },
    {
     "name": "stdout",
     "output_type": "stream",
     "text": [
      "Epoch #879: test_reward: 377.000000 ± 0.000000, best_reward: 1102.000000 ± 0.000000 in #360\n"
     ]
    },
    {
     "name": "stderr",
     "output_type": "stream",
     "text": [
      "Epoch #880: 1025it [00:02, 378.10it/s, env_step=901120, len=24, n/ep=3, n/st=64, player_1/loss=340.358, player_2/loss=804.782, rew=347.33]\n"
     ]
    },
    {
     "name": "stdout",
     "output_type": "stream",
     "text": [
      "Epoch #880: test_reward: 135.000000 ± 0.000000, best_reward: 1102.000000 ± 0.000000 in #360\n"
     ]
    },
    {
     "name": "stderr",
     "output_type": "stream",
     "text": [
      "Epoch #881: 1025it [00:02, 373.01it/s, env_step=902144, len=8, n/ep=6, n/st=64, player_1/loss=443.803, player_2/loss=944.307, rew=38.17]\n"
     ]
    },
    {
     "name": "stdout",
     "output_type": "stream",
     "text": [
      "Epoch #881: test_reward: 170.000000 ± 0.000000, best_reward: 1102.000000 ± 0.000000 in #360\n"
     ]
    },
    {
     "name": "stderr",
     "output_type": "stream",
     "text": [
      "Epoch #882: 1025it [00:02, 374.72it/s, env_step=903168, len=29, n/ep=2, n/st=64, player_1/loss=279.029, player_2/loss=521.676, rew=438.50]\n"
     ]
    },
    {
     "name": "stdout",
     "output_type": "stream",
     "text": [
      "Epoch #882: test_reward: 629.000000 ± 0.000000, best_reward: 1102.000000 ± 0.000000 in #360\n"
     ]
    },
    {
     "name": "stderr",
     "output_type": "stream",
     "text": [
      "Epoch #883: 1025it [00:02, 374.77it/s, env_step=904192, len=31, n/ep=2, n/st=64, player_1/loss=314.805, player_2/loss=279.422, rew=532.00]\n"
     ]
    },
    {
     "name": "stdout",
     "output_type": "stream",
     "text": [
      "Epoch #883: test_reward: 189.000000 ± 0.000000, best_reward: 1102.000000 ± 0.000000 in #360\n"
     ]
    },
    {
     "name": "stderr",
     "output_type": "stream",
     "text": [
      "Epoch #884: 1025it [00:02, 379.28it/s, env_step=905216, len=32, n/ep=1, n/st=64, player_1/loss=413.736, player_2/loss=213.725, rew=527.00]\n"
     ]
    },
    {
     "name": "stdout",
     "output_type": "stream",
     "text": [
      "Epoch #884: test_reward: 819.000000 ± 0.000000, best_reward: 1102.000000 ± 0.000000 in #360\n"
     ]
    },
    {
     "name": "stderr",
     "output_type": "stream",
     "text": [
      "Epoch #885: 1025it [00:02, 371.70it/s, env_step=906240, len=32, n/ep=2, n/st=64, player_1/loss=453.868, player_2/loss=499.957, rew=564.50]\n"
     ]
    },
    {
     "name": "stdout",
     "output_type": "stream",
     "text": [
      "Epoch #885: test_reward: 740.000000 ± 0.000000, best_reward: 1102.000000 ± 0.000000 in #360\n"
     ]
    },
    {
     "name": "stderr",
     "output_type": "stream",
     "text": [
      "Epoch #886: 1025it [00:02, 375.78it/s, env_step=907264, len=38, n/ep=2, n/st=64, player_1/loss=381.410, player_2/loss=478.173, rew=865.50]\n"
     ]
    },
    {
     "name": "stdout",
     "output_type": "stream",
     "text": [
      "Epoch #886: test_reward: 629.000000 ± 0.000000, best_reward: 1102.000000 ± 0.000000 in #360\n"
     ]
    },
    {
     "name": "stderr",
     "output_type": "stream",
     "text": [
      "Epoch #887: 1025it [00:02, 377.26it/s, env_step=908288, len=35, n/ep=2, n/st=64, player_1/loss=393.380, player_2/loss=187.105, rew=633.50]\n"
     ]
    },
    {
     "name": "stdout",
     "output_type": "stream",
     "text": [
      "Epoch #887: test_reward: 740.000000 ± 0.000000, best_reward: 1102.000000 ± 0.000000 in #360\n"
     ]
    },
    {
     "name": "stderr",
     "output_type": "stream",
     "text": [
      "Epoch #888: 1025it [00:02, 377.08it/s, env_step=909312, len=32, n/ep=2, n/st=64, player_1/loss=314.412, player_2/loss=394.437, rew=535.00]\n"
     ]
    },
    {
     "name": "stdout",
     "output_type": "stream",
     "text": [
      "Epoch #888: test_reward: 740.000000 ± 0.000000, best_reward: 1102.000000 ± 0.000000 in #360\n"
     ]
    },
    {
     "name": "stderr",
     "output_type": "stream",
     "text": [
      "Epoch #889: 1025it [00:02, 374.56it/s, env_step=910336, len=30, n/ep=3, n/st=64, player_2/loss=736.198, rew=485.33]   \n"
     ]
    },
    {
     "name": "stdout",
     "output_type": "stream",
     "text": [
      "Epoch #889: test_reward: 779.000000 ± 0.000000, best_reward: 1102.000000 ± 0.000000 in #360\n"
     ]
    },
    {
     "name": "stderr",
     "output_type": "stream",
     "text": [
      "Epoch #890: 1025it [00:02, 373.89it/s, env_step=911360, len=21, n/ep=3, n/st=64, player_1/loss=485.826, player_2/loss=647.378, rew=319.67]\n"
     ]
    },
    {
     "name": "stdout",
     "output_type": "stream",
     "text": [
      "Epoch #890: test_reward: 740.000000 ± 0.000000, best_reward: 1102.000000 ± 0.000000 in #360\n"
     ]
    },
    {
     "name": "stderr",
     "output_type": "stream",
     "text": [
      "Epoch #891: 1025it [00:02, 375.43it/s, env_step=912384, len=20, n/ep=3, n/st=64, player_1/loss=405.521, player_2/loss=351.525, rew=235.33]\n"
     ]
    },
    {
     "name": "stdout",
     "output_type": "stream",
     "text": [
      "Epoch #891: test_reward: 527.000000 ± 0.000000, best_reward: 1102.000000 ± 0.000000 in #360\n"
     ]
    },
    {
     "name": "stderr",
     "output_type": "stream",
     "text": [
      "Epoch #892: 1025it [00:02, 376.33it/s, env_step=913408, len=30, n/ep=3, n/st=64, player_1/loss=431.427, player_2/loss=419.993, rew=497.33]\n"
     ]
    },
    {
     "name": "stdout",
     "output_type": "stream",
     "text": [
      "Epoch #892: test_reward: 702.000000 ± 0.000000, best_reward: 1102.000000 ± 0.000000 in #360\n"
     ]
    },
    {
     "name": "stderr",
     "output_type": "stream",
     "text": [
      "Epoch #893: 1025it [00:02, 376.71it/s, env_step=914432, len=33, n/ep=2, n/st=64, player_1/loss=497.722, player_2/loss=878.077, rew=564.50]\n"
     ]
    },
    {
     "name": "stdout",
     "output_type": "stream",
     "text": [
      "Epoch #893: test_reward: 1102.000000 ± 0.000000, best_reward: 1102.000000 ± 0.000000 in #360\n"
     ]
    },
    {
     "name": "stderr",
     "output_type": "stream",
     "text": [
      "Epoch #894: 1025it [00:02, 374.10it/s, env_step=915456, len=28, n/ep=1, n/st=64, player_1/loss=329.929, player_2/loss=846.570, rew=405.00]\n"
     ]
    },
    {
     "name": "stdout",
     "output_type": "stream",
     "text": [
      "Epoch #894: test_reward: 702.000000 ± 0.000000, best_reward: 1102.000000 ± 0.000000 in #360\n"
     ]
    },
    {
     "name": "stderr",
     "output_type": "stream",
     "text": [
      "Epoch #895: 1025it [00:02, 377.71it/s, env_step=916480, len=42, n/ep=1, n/st=64, player_1/loss=166.686, player_2/loss=369.526, rew=1102.00]\n"
     ]
    },
    {
     "name": "stdout",
     "output_type": "stream",
     "text": [
      "Epoch #895: test_reward: 779.000000 ± 0.000000, best_reward: 1102.000000 ± 0.000000 in #360\n"
     ]
    },
    {
     "name": "stderr",
     "output_type": "stream",
     "text": [
      "Epoch #896: 1025it [00:02, 377.59it/s, env_step=917504, len=39, n/ep=1, n/st=64, player_1/loss=200.039, player_2/loss=396.751, rew=779.00]\n"
     ]
    },
    {
     "name": "stdout",
     "output_type": "stream",
     "text": [
      "Epoch #896: test_reward: 740.000000 ± 0.000000, best_reward: 1102.000000 ± 0.000000 in #360\n"
     ]
    },
    {
     "name": "stderr",
     "output_type": "stream",
     "text": [
      "Epoch #897: 1025it [00:02, 377.34it/s, env_step=918528, len=25, n/ep=3, n/st=64, player_1/loss=238.285, player_2/loss=266.614, rew=418.67]\n"
     ]
    },
    {
     "name": "stdout",
     "output_type": "stream",
     "text": [
      "Epoch #897: test_reward: 702.000000 ± 0.000000, best_reward: 1102.000000 ± 0.000000 in #360\n"
     ]
    },
    {
     "name": "stderr",
     "output_type": "stream",
     "text": [
      "Epoch #898: 1025it [00:02, 374.94it/s, env_step=919552, len=20, n/ep=3, n/st=64, player_1/loss=482.394, player_2/loss=544.961, rew=210.00]\n"
     ]
    },
    {
     "name": "stdout",
     "output_type": "stream",
     "text": [
      "Epoch #898: test_reward: 77.000000 ± 0.000000, best_reward: 1102.000000 ± 0.000000 in #360\n"
     ]
    },
    {
     "name": "stderr",
     "output_type": "stream",
     "text": [
      "Epoch #899: 1025it [00:02, 375.75it/s, env_step=920576, len=28, n/ep=1, n/st=64, player_1/loss=759.381, player_2/loss=837.568, rew=405.00]\n"
     ]
    },
    {
     "name": "stdout",
     "output_type": "stream",
     "text": [
      "Epoch #899: test_reward: 740.000000 ± 0.000000, best_reward: 1102.000000 ± 0.000000 in #360\n"
     ]
    },
    {
     "name": "stderr",
     "output_type": "stream",
     "text": [
      "Epoch #900: 1025it [00:02, 375.96it/s, env_step=921600, len=38, n/ep=2, n/st=64, player_1/loss=731.746, player_2/loss=666.211, rew=740.00]\n"
     ]
    },
    {
     "name": "stdout",
     "output_type": "stream",
     "text": [
      "Epoch #900: test_reward: 702.000000 ± 0.000000, best_reward: 1102.000000 ± 0.000000 in #360\n"
     ]
    },
    {
     "name": "stderr",
     "output_type": "stream",
     "text": [
      "Epoch #901: 1025it [00:02, 374.05it/s, env_step=922624, len=39, n/ep=2, n/st=64, player_1/loss=293.183, player_2/loss=267.888, rew=799.00]\n"
     ]
    },
    {
     "name": "stdout",
     "output_type": "stream",
     "text": [
      "Epoch #901: test_reward: 702.000000 ± 0.000000, best_reward: 1102.000000 ± 0.000000 in #360\n"
     ]
    },
    {
     "name": "stderr",
     "output_type": "stream",
     "text": [
      "Epoch #902: 1025it [00:02, 377.91it/s, env_step=923648, len=22, n/ep=3, n/st=64, player_1/loss=217.628, player_2/loss=345.039, rew=292.67]\n"
     ]
    },
    {
     "name": "stdout",
     "output_type": "stream",
     "text": [
      "Epoch #902: test_reward: 702.000000 ± 0.000000, best_reward: 1102.000000 ± 0.000000 in #360\n"
     ]
    },
    {
     "name": "stderr",
     "output_type": "stream",
     "text": [
      "Epoch #903: 1025it [00:02, 377.11it/s, env_step=924672, len=25, n/ep=2, n/st=64, player_1/loss=179.810, player_2/loss=393.992, rew=428.00]\n"
     ]
    },
    {
     "name": "stdout",
     "output_type": "stream",
     "text": [
      "Epoch #903: test_reward: 702.000000 ± 0.000000, best_reward: 1102.000000 ± 0.000000 in #360\n"
     ]
    },
    {
     "name": "stderr",
     "output_type": "stream",
     "text": [
      "Epoch #904: 1025it [00:02, 375.26it/s, env_step=925696, len=28, n/ep=2, n/st=64, player_1/loss=359.909, player_2/loss=408.952, rew=455.00]\n"
     ]
    },
    {
     "name": "stdout",
     "output_type": "stream",
     "text": [
      "Epoch #904: test_reward: 819.000000 ± 0.000000, best_reward: 1102.000000 ± 0.000000 in #360\n"
     ]
    },
    {
     "name": "stderr",
     "output_type": "stream",
     "text": [
      "Epoch #905: 1025it [00:02, 377.46it/s, env_step=926720, len=26, n/ep=2, n/st=64, player_1/loss=567.087, player_2/loss=431.844, rew=434.50]\n"
     ]
    },
    {
     "name": "stdout",
     "output_type": "stream",
     "text": [
      "Epoch #905: test_reward: 779.000000 ± 0.000000, best_reward: 1102.000000 ± 0.000000 in #360\n"
     ]
    },
    {
     "name": "stderr",
     "output_type": "stream",
     "text": [
      "Epoch #906: 1025it [00:02, 374.04it/s, env_step=927744, len=26, n/ep=3, n/st=64, player_1/loss=408.172, rew=414.33]   \n"
     ]
    },
    {
     "name": "stdout",
     "output_type": "stream",
     "text": [
      "Epoch #906: test_reward: 702.000000 ± 0.000000, best_reward: 1102.000000 ± 0.000000 in #360\n"
     ]
    },
    {
     "name": "stderr",
     "output_type": "stream",
     "text": [
      "Epoch #907: 1025it [00:02, 378.16it/s, env_step=928768, len=34, n/ep=2, n/st=64, player_1/loss=406.963, player_2/loss=342.909, rew=614.50]\n"
     ]
    },
    {
     "name": "stdout",
     "output_type": "stream",
     "text": [
      "Epoch #907: test_reward: 740.000000 ± 0.000000, best_reward: 1102.000000 ± 0.000000 in #360\n"
     ]
    },
    {
     "name": "stderr",
     "output_type": "stream",
     "text": [
      "Epoch #908: 1025it [00:02, 375.03it/s, env_step=929792, len=32, n/ep=2, n/st=64, player_1/loss=296.425, rew=545.00]   \n"
     ]
    },
    {
     "name": "stdout",
     "output_type": "stream",
     "text": [
      "Epoch #908: test_reward: 1102.000000 ± 0.000000, best_reward: 1102.000000 ± 0.000000 in #360\n"
     ]
    },
    {
     "name": "stderr",
     "output_type": "stream",
     "text": [
      "Epoch #909: 1025it [00:02, 374.07it/s, env_step=930816, len=21, n/ep=2, n/st=64, player_1/loss=201.218, player_2/loss=521.943, rew=277.00]\n"
     ]
    },
    {
     "name": "stdout",
     "output_type": "stream",
     "text": [
      "Epoch #909: test_reward: 104.000000 ± 0.000000, best_reward: 1102.000000 ± 0.000000 in #360\n"
     ]
    },
    {
     "name": "stderr",
     "output_type": "stream",
     "text": [
      "Epoch #910: 1025it [00:02, 373.55it/s, env_step=931840, len=27, n/ep=2, n/st=64, player_1/loss=328.818, player_2/loss=548.569, rew=417.50]\n"
     ]
    },
    {
     "name": "stdout",
     "output_type": "stream",
     "text": [
      "Epoch #910: test_reward: 819.000000 ± 0.000000, best_reward: 1102.000000 ± 0.000000 in #360\n"
     ]
    },
    {
     "name": "stderr",
     "output_type": "stream",
     "text": [
      "Epoch #911: 1025it [00:02, 373.93it/s, env_step=932864, len=21, n/ep=3, n/st=64, player_1/loss=529.848, player_2/loss=538.080, rew=255.33]\n"
     ]
    },
    {
     "name": "stdout",
     "output_type": "stream",
     "text": [
      "Epoch #911: test_reward: 434.000000 ± 0.000000, best_reward: 1102.000000 ± 0.000000 in #360\n"
     ]
    },
    {
     "name": "stderr",
     "output_type": "stream",
     "text": [
      "Epoch #912: 1025it [00:02, 373.63it/s, env_step=933888, len=14, n/ep=5, n/st=64, player_1/loss=455.159, player_2/loss=636.990, rew=155.60]\n"
     ]
    },
    {
     "name": "stdout",
     "output_type": "stream",
     "text": [
      "Epoch #912: test_reward: 27.000000 ± 0.000000, best_reward: 1102.000000 ± 0.000000 in #360\n"
     ]
    },
    {
     "name": "stderr",
     "output_type": "stream",
     "text": [
      "Epoch #913: 1025it [00:02, 376.28it/s, env_step=934912, len=14, n/ep=4, n/st=64, player_1/loss=305.453, player_2/loss=994.604, rew=139.50]\n"
     ]
    },
    {
     "name": "stdout",
     "output_type": "stream",
     "text": [
      "Epoch #913: test_reward: 27.000000 ± 0.000000, best_reward: 1102.000000 ± 0.000000 in #360\n"
     ]
    },
    {
     "name": "stderr",
     "output_type": "stream",
     "text": [
      "Epoch #914: 1025it [00:02, 376.60it/s, env_step=935936, len=17, n/ep=3, n/st=64, player_1/loss=409.833, player_2/loss=1035.901, rew=188.00]\n"
     ]
    },
    {
     "name": "stdout",
     "output_type": "stream",
     "text": [
      "Epoch #914: test_reward: 209.000000 ± 0.000000, best_reward: 1102.000000 ± 0.000000 in #360\n"
     ]
    },
    {
     "name": "stderr",
     "output_type": "stream",
     "text": [
      "Epoch #915: 1025it [00:02, 376.04it/s, env_step=936960, len=21, n/ep=4, n/st=64, player_1/loss=490.533, player_2/loss=814.963, rew=288.50]\n"
     ]
    },
    {
     "name": "stdout",
     "output_type": "stream",
     "text": [
      "Epoch #915: test_reward: 135.000000 ± 0.000000, best_reward: 1102.000000 ± 0.000000 in #360\n"
     ]
    },
    {
     "name": "stderr",
     "output_type": "stream",
     "text": [
      "Epoch #916: 1025it [00:02, 376.18it/s, env_step=937984, len=30, n/ep=3, n/st=64, player_1/loss=478.057, player_2/loss=862.417, rew=503.00]\n"
     ]
    },
    {
     "name": "stdout",
     "output_type": "stream",
     "text": [
      "Epoch #916: test_reward: 135.000000 ± 0.000000, best_reward: 1102.000000 ± 0.000000 in #360\n"
     ]
    },
    {
     "name": "stderr",
     "output_type": "stream",
     "text": [
      "Epoch #917: 1025it [00:02, 375.91it/s, env_step=939008, len=23, n/ep=3, n/st=64, player_1/loss=472.482, player_2/loss=873.623, rew=301.00]\n"
     ]
    },
    {
     "name": "stdout",
     "output_type": "stream",
     "text": [
      "Epoch #917: test_reward: 434.000000 ± 0.000000, best_reward: 1102.000000 ± 0.000000 in #360\n"
     ]
    },
    {
     "name": "stderr",
     "output_type": "stream",
     "text": [
      "Epoch #918: 1025it [00:02, 376.70it/s, env_step=940032, len=23, n/ep=3, n/st=64, player_1/loss=522.905, player_2/loss=512.098, rew=287.00]\n"
     ]
    },
    {
     "name": "stdout",
     "output_type": "stream",
     "text": [
      "Epoch #918: test_reward: 324.000000 ± 0.000000, best_reward: 1102.000000 ± 0.000000 in #360\n"
     ]
    },
    {
     "name": "stderr",
     "output_type": "stream",
     "text": [
      "Epoch #919: 1025it [00:02, 375.58it/s, env_step=941056, len=27, n/ep=3, n/st=64, player_1/loss=400.710, player_2/loss=707.396, rew=378.00]\n"
     ]
    },
    {
     "name": "stdout",
     "output_type": "stream",
     "text": [
      "Epoch #919: test_reward: 90.000000 ± 0.000000, best_reward: 1102.000000 ± 0.000000 in #360\n"
     ]
    },
    {
     "name": "stderr",
     "output_type": "stream",
     "text": [
      "Epoch #920: 1025it [00:02, 375.84it/s, env_step=942080, len=21, n/ep=3, n/st=64, player_1/loss=158.096, player_2/loss=929.450, rew=249.67]\n"
     ]
    },
    {
     "name": "stdout",
     "output_type": "stream",
     "text": [
      "Epoch #920: test_reward: 377.000000 ± 0.000000, best_reward: 1102.000000 ± 0.000000 in #360\n"
     ]
    },
    {
     "name": "stderr",
     "output_type": "stream",
     "text": [
      "Epoch #921: 1025it [00:02, 379.00it/s, env_step=943104, len=29, n/ep=2, n/st=64, player_1/loss=238.514, player_2/loss=854.478, rew=434.00]\n"
     ]
    },
    {
     "name": "stdout",
     "output_type": "stream",
     "text": [
      "Epoch #921: test_reward: 152.000000 ± 0.000000, best_reward: 1102.000000 ± 0.000000 in #360\n"
     ]
    },
    {
     "name": "stderr",
     "output_type": "stream",
     "text": [
      "Epoch #922: 1025it [00:02, 374.48it/s, env_step=944128, len=27, n/ep=2, n/st=64, player_1/loss=247.961, player_2/loss=377.358, rew=377.50]\n"
     ]
    },
    {
     "name": "stdout",
     "output_type": "stream",
     "text": [
      "Epoch #922: test_reward: 377.000000 ± 0.000000, best_reward: 1102.000000 ± 0.000000 in #360\n"
     ]
    },
    {
     "name": "stderr",
     "output_type": "stream",
     "text": [
      "Epoch #923: 1025it [00:02, 376.08it/s, env_step=945152, len=27, n/ep=2, n/st=64, player_1/loss=328.990, player_2/loss=506.791, rew=482.00]\n"
     ]
    },
    {
     "name": "stdout",
     "output_type": "stream",
     "text": [
      "Epoch #923: test_reward: 665.000000 ± 0.000000, best_reward: 1102.000000 ± 0.000000 in #360\n"
     ]
    },
    {
     "name": "stderr",
     "output_type": "stream",
     "text": [
      "Epoch #924: 1025it [00:02, 374.19it/s, env_step=946176, len=38, n/ep=1, n/st=64, player_1/loss=535.847, player_2/loss=680.343, rew=740.00]\n"
     ]
    },
    {
     "name": "stdout",
     "output_type": "stream",
     "text": [
      "Epoch #924: test_reward: 740.000000 ± 0.000000, best_reward: 1102.000000 ± 0.000000 in #360\n"
     ]
    },
    {
     "name": "stderr",
     "output_type": "stream",
     "text": [
      "Epoch #925: 1025it [00:02, 376.31it/s, env_step=947200, len=29, n/ep=3, n/st=64, player_1/loss=426.581, player_2/loss=553.453, rew=537.33]\n"
     ]
    },
    {
     "name": "stdout",
     "output_type": "stream",
     "text": [
      "Epoch #925: test_reward: 527.000000 ± 0.000000, best_reward: 1102.000000 ± 0.000000 in #360\n"
     ]
    },
    {
     "name": "stderr",
     "output_type": "stream",
     "text": [
      "Epoch #926: 1025it [00:02, 375.29it/s, env_step=948224, len=36, n/ep=2, n/st=64, player_1/loss=224.892, player_2/loss=302.605, rew=684.50]\n"
     ]
    },
    {
     "name": "stdout",
     "output_type": "stream",
     "text": [
      "Epoch #926: test_reward: 434.000000 ± 0.000000, best_reward: 1102.000000 ± 0.000000 in #360\n"
     ]
    },
    {
     "name": "stderr",
     "output_type": "stream",
     "text": [
      "Epoch #927: 1025it [00:02, 376.88it/s, env_step=949248, len=16, n/ep=4, n/st=64, player_1/loss=352.556, player_2/loss=635.760, rew=140.25]\n"
     ]
    },
    {
     "name": "stdout",
     "output_type": "stream",
     "text": [
      "Epoch #927: test_reward: 819.000000 ± 0.000000, best_reward: 1102.000000 ± 0.000000 in #360\n"
     ]
    },
    {
     "name": "stderr",
     "output_type": "stream",
     "text": [
      "Epoch #928: 1025it [00:02, 375.52it/s, env_step=950272, len=22, n/ep=2, n/st=64, player_1/loss=580.069, player_2/loss=743.746, rew=269.50]\n"
     ]
    },
    {
     "name": "stdout",
     "output_type": "stream",
     "text": [
      "Epoch #928: test_reward: 740.000000 ± 0.000000, best_reward: 1102.000000 ± 0.000000 in #360\n"
     ]
    },
    {
     "name": "stderr",
     "output_type": "stream",
     "text": [
      "Epoch #929: 1025it [00:02, 374.39it/s, env_step=951296, len=25, n/ep=2, n/st=64, player_1/loss=549.780, player_2/loss=552.205, rew=343.00]\n"
     ]
    },
    {
     "name": "stdout",
     "output_type": "stream",
     "text": [
      "Epoch #929: test_reward: 350.000000 ± 0.000000, best_reward: 1102.000000 ± 0.000000 in #360\n"
     ]
    },
    {
     "name": "stderr",
     "output_type": "stream",
     "text": [
      "Epoch #930: 1025it [00:02, 372.12it/s, env_step=952320, len=29, n/ep=2, n/st=64, player_1/loss=574.043, player_2/loss=492.687, rew=434.00]\n"
     ]
    },
    {
     "name": "stdout",
     "output_type": "stream",
     "text": [
      "Epoch #930: test_reward: 1102.000000 ± 0.000000, best_reward: 1102.000000 ± 0.000000 in #360\n"
     ]
    },
    {
     "name": "stderr",
     "output_type": "stream",
     "text": [
      "Epoch #931: 1025it [00:02, 377.51it/s, env_step=953344, len=21, n/ep=3, n/st=64, player_1/loss=580.833, player_2/loss=773.376, rew=306.33]\n"
     ]
    },
    {
     "name": "stdout",
     "output_type": "stream",
     "text": [
      "Epoch #931: test_reward: 702.000000 ± 0.000000, best_reward: 1102.000000 ± 0.000000 in #360\n"
     ]
    },
    {
     "name": "stderr",
     "output_type": "stream",
     "text": [
      "Epoch #932: 1025it [00:02, 375.23it/s, env_step=954368, len=22, n/ep=3, n/st=64, player_1/loss=539.188, player_2/loss=695.020, rew=316.33]\n"
     ]
    },
    {
     "name": "stdout",
     "output_type": "stream",
     "text": [
      "Epoch #932: test_reward: 44.000000 ± 0.000000, best_reward: 1102.000000 ± 0.000000 in #360\n"
     ]
    },
    {
     "name": "stderr",
     "output_type": "stream",
     "text": [
      "Epoch #933: 1025it [00:02, 375.59it/s, env_step=955392, len=11, n/ep=6, n/st=64, player_1/loss=309.117, player_2/loss=1168.959, rew=72.50]\n"
     ]
    },
    {
     "name": "stdout",
     "output_type": "stream",
     "text": [
      "Epoch #933: test_reward: 65.000000 ± 0.000000, best_reward: 1102.000000 ± 0.000000 in #360\n"
     ]
    },
    {
     "name": "stderr",
     "output_type": "stream",
     "text": [
      "Epoch #934: 1025it [00:02, 372.68it/s, env_step=956416, len=37, n/ep=1, n/st=64, player_1/loss=310.567, player_2/loss=1203.610, rew=702.00]\n"
     ]
    },
    {
     "name": "stdout",
     "output_type": "stream",
     "text": [
      "Epoch #934: test_reward: 702.000000 ± 0.000000, best_reward: 1102.000000 ± 0.000000 in #360\n"
     ]
    },
    {
     "name": "stderr",
     "output_type": "stream",
     "text": [
      "Epoch #935: 1025it [00:02, 375.40it/s, env_step=957440, len=31, n/ep=2, n/st=64, player_1/loss=367.485, player_2/loss=1013.962, rew=521.00]\n"
     ]
    },
    {
     "name": "stdout",
     "output_type": "stream",
     "text": [
      "Epoch #935: test_reward: 702.000000 ± 0.000000, best_reward: 1102.000000 ± 0.000000 in #360\n"
     ]
    },
    {
     "name": "stderr",
     "output_type": "stream",
     "text": [
      "Epoch #936: 1025it [00:02, 378.37it/s, env_step=958464, len=37, n/ep=1, n/st=64, player_1/loss=552.807, player_2/loss=827.819, rew=702.00]\n"
     ]
    },
    {
     "name": "stdout",
     "output_type": "stream",
     "text": [
      "Epoch #936: test_reward: 104.000000 ± 0.000000, best_reward: 1102.000000 ± 0.000000 in #360\n"
     ]
    },
    {
     "name": "stderr",
     "output_type": "stream",
     "text": [
      "Epoch #937: 1025it [00:02, 369.34it/s, env_step=959488, len=20, n/ep=2, n/st=64, player_1/loss=502.180, player_2/loss=838.360, rew=211.00]\n"
     ]
    },
    {
     "name": "stdout",
     "output_type": "stream",
     "text": [
      "Epoch #937: test_reward: 135.000000 ± 0.000000, best_reward: 1102.000000 ± 0.000000 in #360\n"
     ]
    },
    {
     "name": "stderr",
     "output_type": "stream",
     "text": [
      "Epoch #938: 1025it [00:02, 373.57it/s, env_step=960512, len=34, n/ep=2, n/st=64, player_1/loss=397.370, player_2/loss=496.056, rew=594.00]\n"
     ]
    },
    {
     "name": "stdout",
     "output_type": "stream",
     "text": [
      "Epoch #938: test_reward: 740.000000 ± 0.000000, best_reward: 1102.000000 ± 0.000000 in #360\n"
     ]
    },
    {
     "name": "stderr",
     "output_type": "stream",
     "text": [
      "Epoch #939: 1025it [00:02, 376.68it/s, env_step=961536, len=17, n/ep=4, n/st=64, player_1/loss=498.988, player_2/loss=319.731, rew=195.25]\n"
     ]
    },
    {
     "name": "stdout",
     "output_type": "stream",
     "text": [
      "Epoch #939: test_reward: 527.000000 ± 0.000000, best_reward: 1102.000000 ± 0.000000 in #360\n"
     ]
    },
    {
     "name": "stderr",
     "output_type": "stream",
     "text": [
      "Epoch #940: 1025it [00:02, 375.12it/s, env_step=962560, len=32, n/ep=2, n/st=64, player_1/loss=548.869, player_2/loss=283.827, rew=558.50]\n"
     ]
    },
    {
     "name": "stdout",
     "output_type": "stream",
     "text": [
      "Epoch #940: test_reward: 560.000000 ± 0.000000, best_reward: 1102.000000 ± 0.000000 in #360\n"
     ]
    },
    {
     "name": "stderr",
     "output_type": "stream",
     "text": [
      "Epoch #941: 1025it [00:02, 375.11it/s, env_step=963584, len=35, n/ep=2, n/st=64, player_1/loss=537.220, player_2/loss=352.873, rew=647.00]\n"
     ]
    },
    {
     "name": "stdout",
     "output_type": "stream",
     "text": [
      "Epoch #941: test_reward: 527.000000 ± 0.000000, best_reward: 1102.000000 ± 0.000000 in #360\n"
     ]
    },
    {
     "name": "stderr",
     "output_type": "stream",
     "text": [
      "Epoch #942: 1025it [00:02, 374.44it/s, env_step=964608, len=30, n/ep=3, n/st=64, player_1/loss=353.502, player_2/loss=302.712, rew=546.00]\n"
     ]
    },
    {
     "name": "stdout",
     "output_type": "stream",
     "text": [
      "Epoch #942: test_reward: 740.000000 ± 0.000000, best_reward: 1102.000000 ± 0.000000 in #360\n"
     ]
    },
    {
     "name": "stderr",
     "output_type": "stream",
     "text": [
      "Epoch #943: 1025it [00:02, 375.06it/s, env_step=965632, len=14, n/ep=4, n/st=64, player_1/loss=318.223, player_2/loss=584.280, rew=106.50]\n"
     ]
    },
    {
     "name": "stdout",
     "output_type": "stream",
     "text": [
      "Epoch #943: test_reward: 779.000000 ± 0.000000, best_reward: 1102.000000 ± 0.000000 in #360\n"
     ]
    },
    {
     "name": "stderr",
     "output_type": "stream",
     "text": [
      "Epoch #944: 1025it [00:02, 377.39it/s, env_step=966656, len=36, n/ep=2, n/st=64, player_1/loss=340.844, player_2/loss=584.334, rew=669.50]\n"
     ]
    },
    {
     "name": "stdout",
     "output_type": "stream",
     "text": [
      "Epoch #944: test_reward: 702.000000 ± 0.000000, best_reward: 1102.000000 ± 0.000000 in #360\n"
     ]
    },
    {
     "name": "stderr",
     "output_type": "stream",
     "text": [
      "Epoch #945: 1025it [00:02, 370.61it/s, env_step=967680, len=21, n/ep=3, n/st=64, player_1/loss=309.754, player_2/loss=475.120, rew=272.00]\n"
     ]
    },
    {
     "name": "stdout",
     "output_type": "stream",
     "text": [
      "Epoch #945: test_reward: 90.000000 ± 0.000000, best_reward: 1102.000000 ± 0.000000 in #360\n"
     ]
    },
    {
     "name": "stderr",
     "output_type": "stream",
     "text": [
      "Epoch #946: 1025it [00:02, 371.79it/s, env_step=968704, len=16, n/ep=5, n/st=64, player_1/loss=530.730, player_2/loss=575.571, rew=165.40]\n"
     ]
    },
    {
     "name": "stdout",
     "output_type": "stream",
     "text": [
      "Epoch #946: test_reward: 44.000000 ± 0.000000, best_reward: 1102.000000 ± 0.000000 in #360\n"
     ]
    },
    {
     "name": "stderr",
     "output_type": "stream",
     "text": [
      "Epoch #947: 1025it [00:02, 372.70it/s, env_step=969728, len=18, n/ep=3, n/st=64, player_1/loss=504.263, player_2/loss=697.163, rew=188.33]\n"
     ]
    },
    {
     "name": "stdout",
     "output_type": "stream",
     "text": [
      "Epoch #947: test_reward: 252.000000 ± 0.000000, best_reward: 1102.000000 ± 0.000000 in #360\n"
     ]
    },
    {
     "name": "stderr",
     "output_type": "stream",
     "text": [
      "Epoch #948: 1025it [00:02, 374.51it/s, env_step=970752, len=19, n/ep=4, n/st=64, player_1/loss=386.362, player_2/loss=524.700, rew=203.75]\n"
     ]
    },
    {
     "name": "stdout",
     "output_type": "stream",
     "text": [
      "Epoch #948: test_reward: 90.000000 ± 0.000000, best_reward: 1102.000000 ± 0.000000 in #360\n"
     ]
    },
    {
     "name": "stderr",
     "output_type": "stream",
     "text": [
      "Epoch #949: 1025it [00:02, 378.39it/s, env_step=971776, len=12, n/ep=4, n/st=64, player_1/loss=262.441, player_2/loss=416.560, rew=89.75]\n"
     ]
    },
    {
     "name": "stdout",
     "output_type": "stream",
     "text": [
      "Epoch #949: test_reward: 90.000000 ± 0.000000, best_reward: 1102.000000 ± 0.000000 in #360\n"
     ]
    },
    {
     "name": "stderr",
     "output_type": "stream",
     "text": [
      "Epoch #950: 1025it [00:02, 373.11it/s, env_step=972800, len=32, n/ep=2, n/st=64, player_1/loss=287.389, player_2/loss=523.082, rew=529.00]\n"
     ]
    },
    {
     "name": "stdout",
     "output_type": "stream",
     "text": [
      "Epoch #950: test_reward: 1102.000000 ± 0.000000, best_reward: 1102.000000 ± 0.000000 in #360\n"
     ]
    },
    {
     "name": "stderr",
     "output_type": "stream",
     "text": [
      "Epoch #951: 1025it [00:02, 376.10it/s, env_step=973824, len=30, n/ep=3, n/st=64, player_1/loss=377.160, player_2/loss=301.610, rew=496.67]\n"
     ]
    },
    {
     "name": "stdout",
     "output_type": "stream",
     "text": [
      "Epoch #951: test_reward: 779.000000 ± 0.000000, best_reward: 1102.000000 ± 0.000000 in #360\n"
     ]
    },
    {
     "name": "stderr",
     "output_type": "stream",
     "text": [
      "Epoch #952: 1025it [00:02, 378.67it/s, env_step=974848, len=22, n/ep=3, n/st=64, player_1/loss=333.597, player_2/loss=438.637, rew=289.33]\n"
     ]
    },
    {
     "name": "stdout",
     "output_type": "stream",
     "text": [
      "Epoch #952: test_reward: 189.000000 ± 0.000000, best_reward: 1102.000000 ± 0.000000 in #360\n"
     ]
    },
    {
     "name": "stderr",
     "output_type": "stream",
     "text": [
      "Epoch #953: 1025it [00:02, 371.44it/s, env_step=975872, len=16, n/ep=4, n/st=64, player_1/loss=231.774, player_2/loss=528.162, rew=139.50]\n"
     ]
    },
    {
     "name": "stdout",
     "output_type": "stream",
     "text": [
      "Epoch #953: test_reward: 189.000000 ± 0.000000, best_reward: 1102.000000 ± 0.000000 in #360\n"
     ]
    },
    {
     "name": "stderr",
     "output_type": "stream",
     "text": [
      "Epoch #954: 1025it [00:02, 376.16it/s, env_step=976896, len=33, n/ep=2, n/st=64, player_1/loss=295.673, player_2/loss=398.491, rew=572.50]\n"
     ]
    },
    {
     "name": "stdout",
     "output_type": "stream",
     "text": [
      "Epoch #954: test_reward: 405.000000 ± 0.000000, best_reward: 1102.000000 ± 0.000000 in #360\n"
     ]
    },
    {
     "name": "stderr",
     "output_type": "stream",
     "text": [
      "Epoch #955: 1025it [00:02, 373.70it/s, env_step=977920, len=16, n/ep=4, n/st=64, player_1/loss=638.014, player_2/loss=575.221, rew=145.25]\n"
     ]
    },
    {
     "name": "stdout",
     "output_type": "stream",
     "text": [
      "Epoch #955: test_reward: 740.000000 ± 0.000000, best_reward: 1102.000000 ± 0.000000 in #360\n"
     ]
    },
    {
     "name": "stderr",
     "output_type": "stream",
     "text": [
      "Epoch #956: 1025it [00:02, 375.12it/s, env_step=978944, len=14, n/ep=4, n/st=64, player_1/loss=592.272, player_2/loss=896.762, rew=114.50]\n"
     ]
    },
    {
     "name": "stdout",
     "output_type": "stream",
     "text": [
      "Epoch #956: test_reward: 170.000000 ± 0.000000, best_reward: 1102.000000 ± 0.000000 in #360\n"
     ]
    },
    {
     "name": "stderr",
     "output_type": "stream",
     "text": [
      "Epoch #957: 1025it [00:02, 376.21it/s, env_step=979968, len=17, n/ep=3, n/st=64, player_1/loss=298.198, player_2/loss=881.593, rew=212.00]\n"
     ]
    },
    {
     "name": "stdout",
     "output_type": "stream",
     "text": [
      "Epoch #957: test_reward: 740.000000 ± 0.000000, best_reward: 1102.000000 ± 0.000000 in #360\n"
     ]
    },
    {
     "name": "stderr",
     "output_type": "stream",
     "text": [
      "Epoch #958: 1025it [00:02, 374.21it/s, env_step=980992, len=31, n/ep=3, n/st=64, player_1/loss=298.236, player_2/loss=740.273, rew=511.33]\n"
     ]
    },
    {
     "name": "stdout",
     "output_type": "stream",
     "text": [
      "Epoch #958: test_reward: 209.000000 ± 0.000000, best_reward: 1102.000000 ± 0.000000 in #360\n"
     ]
    },
    {
     "name": "stderr",
     "output_type": "stream",
     "text": [
      "Epoch #959: 1025it [00:02, 375.08it/s, env_step=982016, len=15, n/ep=4, n/st=64, player_1/loss=245.254, player_2/loss=584.949, rew=130.00]\n"
     ]
    },
    {
     "name": "stdout",
     "output_type": "stream",
     "text": [
      "Epoch #959: test_reward: 740.000000 ± 0.000000, best_reward: 1102.000000 ± 0.000000 in #360\n"
     ]
    },
    {
     "name": "stderr",
     "output_type": "stream",
     "text": [
      "Epoch #960: 1025it [00:02, 378.12it/s, env_step=983040, len=41, n/ep=1, n/st=64, player_1/loss=275.040, player_2/loss=277.276, rew=860.00]\n"
     ]
    },
    {
     "name": "stdout",
     "output_type": "stream",
     "text": [
      "Epoch #960: test_reward: 740.000000 ± 0.000000, best_reward: 1102.000000 ± 0.000000 in #360\n"
     ]
    },
    {
     "name": "stderr",
     "output_type": "stream",
     "text": [
      "Epoch #961: 1025it [00:02, 380.60it/s, env_step=984064, len=36, n/ep=1, n/st=64, player_1/loss=240.405, player_2/loss=175.110, rew=665.00]\n"
     ]
    },
    {
     "name": "stdout",
     "output_type": "stream",
     "text": [
      "Epoch #961: test_reward: 740.000000 ± 0.000000, best_reward: 1102.000000 ± 0.000000 in #360\n"
     ]
    },
    {
     "name": "stderr",
     "output_type": "stream",
     "text": [
      "Epoch #962: 1025it [00:02, 374.76it/s, env_step=985088, len=27, n/ep=3, n/st=64, player_1/loss=161.892, player_2/loss=337.726, rew=416.00]\n"
     ]
    },
    {
     "name": "stdout",
     "output_type": "stream",
     "text": [
      "Epoch #962: test_reward: 702.000000 ± 0.000000, best_reward: 1102.000000 ± 0.000000 in #360\n"
     ]
    },
    {
     "name": "stderr",
     "output_type": "stream",
     "text": [
      "Epoch #963: 1025it [00:02, 372.84it/s, env_step=986112, len=21, n/ep=3, n/st=64, player_1/loss=454.794, player_2/loss=659.680, rew=246.33]\n"
     ]
    },
    {
     "name": "stdout",
     "output_type": "stream",
     "text": [
      "Epoch #963: test_reward: 230.000000 ± 0.000000, best_reward: 1102.000000 ± 0.000000 in #360\n"
     ]
    },
    {
     "name": "stderr",
     "output_type": "stream",
     "text": [
      "Epoch #964: 1025it [00:02, 374.53it/s, env_step=987136, len=23, n/ep=3, n/st=64, player_1/loss=536.065, player_2/loss=720.827, rew=335.67]\n"
     ]
    },
    {
     "name": "stdout",
     "output_type": "stream",
     "text": [
      "Epoch #964: test_reward: 324.000000 ± 0.000000, best_reward: 1102.000000 ± 0.000000 in #360\n"
     ]
    },
    {
     "name": "stderr",
     "output_type": "stream",
     "text": [
      "Epoch #965: 1025it [00:02, 377.30it/s, env_step=988160, len=34, n/ep=1, n/st=64, player_1/loss=446.102, player_2/loss=690.810, rew=594.00]\n"
     ]
    },
    {
     "name": "stdout",
     "output_type": "stream",
     "text": [
      "Epoch #965: test_reward: 779.000000 ± 0.000000, best_reward: 1102.000000 ± 0.000000 in #360\n"
     ]
    },
    {
     "name": "stderr",
     "output_type": "stream",
     "text": [
      "Epoch #966: 1025it [00:02, 373.46it/s, env_step=989184, len=22, n/ep=3, n/st=64, player_1/loss=396.706, player_2/loss=556.629, rew=319.33]\n"
     ]
    },
    {
     "name": "stdout",
     "output_type": "stream",
     "text": [
      "Epoch #966: test_reward: 860.000000 ± 0.000000, best_reward: 1102.000000 ± 0.000000 in #360\n"
     ]
    },
    {
     "name": "stderr",
     "output_type": "stream",
     "text": [
      "Epoch #967: 1025it [00:02, 374.46it/s, env_step=990208, len=21, n/ep=3, n/st=64, player_1/loss=600.606, player_2/loss=368.339, rew=240.33]\n"
     ]
    },
    {
     "name": "stdout",
     "output_type": "stream",
     "text": [
      "Epoch #967: test_reward: 702.000000 ± 0.000000, best_reward: 1102.000000 ± 0.000000 in #360\n"
     ]
    },
    {
     "name": "stderr",
     "output_type": "stream",
     "text": [
      "Epoch #968: 1025it [00:02, 375.83it/s, env_step=991232, len=12, n/ep=7, n/st=64, player_1/loss=477.513, player_2/loss=617.576, rew=123.14]\n"
     ]
    },
    {
     "name": "stdout",
     "output_type": "stream",
     "text": [
      "Epoch #968: test_reward: 27.000000 ± 0.000000, best_reward: 1102.000000 ± 0.000000 in #360\n"
     ]
    },
    {
     "name": "stderr",
     "output_type": "stream",
     "text": [
      "Epoch #969: 1025it [00:02, 377.18it/s, env_step=992256, len=14, n/ep=5, n/st=64, player_1/loss=336.662, player_2/loss=863.358, rew=146.00]\n"
     ]
    },
    {
     "name": "stdout",
     "output_type": "stream",
     "text": [
      "Epoch #969: test_reward: 27.000000 ± 0.000000, best_reward: 1102.000000 ± 0.000000 in #360\n"
     ]
    },
    {
     "name": "stderr",
     "output_type": "stream",
     "text": [
      "Epoch #970: 1025it [00:02, 373.97it/s, env_step=993280, len=32, n/ep=3, n/st=64, player_1/loss=434.742, player_2/loss=934.558, rew=557.33]\n"
     ]
    },
    {
     "name": "stdout",
     "output_type": "stream",
     "text": [
      "Epoch #970: test_reward: 740.000000 ± 0.000000, best_reward: 1102.000000 ± 0.000000 in #360\n"
     ]
    },
    {
     "name": "stderr",
     "output_type": "stream",
     "text": [
      "Epoch #971: 1025it [00:02, 374.45it/s, env_step=994304, len=32, n/ep=2, n/st=64, player_1/loss=378.071, player_2/loss=472.782, rew=527.50]\n"
     ]
    },
    {
     "name": "stdout",
     "output_type": "stream",
     "text": [
      "Epoch #971: test_reward: 1102.000000 ± 0.000000, best_reward: 1102.000000 ± 0.000000 in #360\n"
     ]
    },
    {
     "name": "stderr",
     "output_type": "stream",
     "text": [
      "Epoch #972: 1025it [00:02, 373.62it/s, env_step=995328, len=42, n/ep=1, n/st=64, player_1/loss=391.622, player_2/loss=436.474, rew=1102.00]\n"
     ]
    },
    {
     "name": "stdout",
     "output_type": "stream",
     "text": [
      "Epoch #972: test_reward: 702.000000 ± 0.000000, best_reward: 1102.000000 ± 0.000000 in #360\n"
     ]
    },
    {
     "name": "stderr",
     "output_type": "stream",
     "text": [
      "Epoch #973: 1025it [00:02, 375.65it/s, env_step=996352, len=34, n/ep=2, n/st=64, player_1/loss=285.125, player_2/loss=362.654, rew=617.50]\n"
     ]
    },
    {
     "name": "stdout",
     "output_type": "stream",
     "text": [
      "Epoch #973: test_reward: 740.000000 ± 0.000000, best_reward: 1102.000000 ± 0.000000 in #360\n"
     ]
    },
    {
     "name": "stderr",
     "output_type": "stream",
     "text": [
      "Epoch #974: 1025it [00:02, 373.41it/s, env_step=997376, len=32, n/ep=2, n/st=64, player_1/loss=265.911, player_2/loss=286.373, rew=543.50]\n"
     ]
    },
    {
     "name": "stdout",
     "output_type": "stream",
     "text": [
      "Epoch #974: test_reward: 702.000000 ± 0.000000, best_reward: 1102.000000 ± 0.000000 in #360\n"
     ]
    },
    {
     "name": "stderr",
     "output_type": "stream",
     "text": [
      "Epoch #975: 1025it [00:02, 375.40it/s, env_step=998400, len=19, n/ep=4, n/st=64, player_1/loss=424.336, player_2/loss=349.342, rew=201.00]\n"
     ]
    },
    {
     "name": "stdout",
     "output_type": "stream",
     "text": [
      "Epoch #975: test_reward: 527.000000 ± 0.000000, best_reward: 1102.000000 ± 0.000000 in #360\n"
     ]
    },
    {
     "name": "stderr",
     "output_type": "stream",
     "text": [
      "Epoch #976: 1025it [00:02, 374.11it/s, env_step=999424, len=19, n/ep=3, n/st=64, player_1/loss=347.998, player_2/loss=674.200, rew=202.67]\n"
     ]
    },
    {
     "name": "stdout",
     "output_type": "stream",
     "text": [
      "Epoch #976: test_reward: 152.000000 ± 0.000000, best_reward: 1102.000000 ± 0.000000 in #360\n"
     ]
    },
    {
     "name": "stderr",
     "output_type": "stream",
     "text": [
      "Epoch #977: 1025it [00:02, 378.18it/s, env_step=1000448, len=35, n/ep=2, n/st=64, player_1/loss=216.491, player_2/loss=886.272, rew=653.00]\n"
     ]
    },
    {
     "name": "stdout",
     "output_type": "stream",
     "text": [
      "Epoch #977: test_reward: 1102.000000 ± 0.000000, best_reward: 1102.000000 ± 0.000000 in #360\n"
     ]
    },
    {
     "name": "stderr",
     "output_type": "stream",
     "text": [
      "Epoch #978: 1025it [00:02, 373.90it/s, env_step=1001472, len=30, n/ep=3, n/st=64, player_1/loss=450.198, player_2/loss=712.825, rew=525.00]\n"
     ]
    },
    {
     "name": "stdout",
     "output_type": "stream",
     "text": [
      "Epoch #978: test_reward: 740.000000 ± 0.000000, best_reward: 1102.000000 ± 0.000000 in #360\n"
     ]
    },
    {
     "name": "stderr",
     "output_type": "stream",
     "text": [
      "Epoch #979: 1025it [00:02, 377.51it/s, env_step=1002496, len=21, n/ep=2, n/st=64, player_1/loss=660.249, player_2/loss=570.540, rew=296.00]\n"
     ]
    },
    {
     "name": "stdout",
     "output_type": "stream",
     "text": [
      "Epoch #979: test_reward: 702.000000 ± 0.000000, best_reward: 1102.000000 ± 0.000000 in #360\n"
     ]
    },
    {
     "name": "stderr",
     "output_type": "stream",
     "text": [
      "Epoch #980: 1025it [00:02, 374.89it/s, env_step=1003520, len=37, n/ep=2, n/st=64, player_1/loss=709.144, player_2/loss=419.148, rew=721.00]\n"
     ]
    },
    {
     "name": "stdout",
     "output_type": "stream",
     "text": [
      "Epoch #980: test_reward: 299.000000 ± 0.000000, best_reward: 1102.000000 ± 0.000000 in #360\n"
     ]
    },
    {
     "name": "stderr",
     "output_type": "stream",
     "text": [
      "Epoch #981: 1025it [00:02, 378.43it/s, env_step=1004544, len=26, n/ep=3, n/st=64, player_2/loss=357.366, rew=526.67]  \n"
     ]
    },
    {
     "name": "stdout",
     "output_type": "stream",
     "text": [
      "Epoch #981: test_reward: 135.000000 ± 0.000000, best_reward: 1102.000000 ± 0.000000 in #360\n"
     ]
    },
    {
     "name": "stderr",
     "output_type": "stream",
     "text": [
      "Epoch #982: 1025it [00:02, 374.01it/s, env_step=1005568, len=21, n/ep=2, n/st=64, player_1/loss=580.741, player_2/loss=248.177, rew=302.00]\n"
     ]
    },
    {
     "name": "stdout",
     "output_type": "stream",
     "text": [
      "Epoch #982: test_reward: 44.000000 ± 0.000000, best_reward: 1102.000000 ± 0.000000 in #360\n"
     ]
    },
    {
     "name": "stderr",
     "output_type": "stream",
     "text": [
      "Epoch #983: 1025it [00:02, 384.50it/s, env_step=1006592, len=19, n/ep=3, n/st=64, player_1/loss=497.471, player_2/loss=477.884, rew=241.00]\n"
     ]
    },
    {
     "name": "stdout",
     "output_type": "stream",
     "text": [
      "Epoch #983: test_reward: 527.000000 ± 0.000000, best_reward: 1102.000000 ± 0.000000 in #360\n"
     ]
    },
    {
     "name": "stderr",
     "output_type": "stream",
     "text": [
      "Epoch #984: 1025it [00:02, 386.75it/s, env_step=1007616, len=31, n/ep=3, n/st=64, player_1/loss=453.586, player_2/loss=538.022, rew=559.33]\n"
     ]
    },
    {
     "name": "stdout",
     "output_type": "stream",
     "text": [
      "Epoch #984: test_reward: 779.000000 ± 0.000000, best_reward: 1102.000000 ± 0.000000 in #360\n"
     ]
    },
    {
     "name": "stderr",
     "output_type": "stream",
     "text": [
      "Epoch #985: 1025it [00:02, 376.11it/s, env_step=1008640, len=17, n/ep=2, n/st=64, player_1/loss=523.296, player_2/loss=660.609, rew=197.00]\n"
     ]
    },
    {
     "name": "stdout",
     "output_type": "stream",
     "text": [
      "Epoch #985: test_reward: 495.000000 ± 0.000000, best_reward: 1102.000000 ± 0.000000 in #360\n"
     ]
    },
    {
     "name": "stderr",
     "output_type": "stream",
     "text": [
      "Epoch #986: 1025it [00:02, 374.51it/s, env_step=1009664, len=13, n/ep=5, n/st=64, player_1/loss=671.748, player_2/loss=887.843, rew=99.80]\n"
     ]
    },
    {
     "name": "stdout",
     "output_type": "stream",
     "text": [
      "Epoch #986: test_reward: 90.000000 ± 0.000000, best_reward: 1102.000000 ± 0.000000 in #360\n"
     ]
    },
    {
     "name": "stderr",
     "output_type": "stream",
     "text": [
      "Epoch #987: 1025it [00:02, 373.97it/s, env_step=1010688, len=22, n/ep=3, n/st=64, player_1/loss=420.227, player_2/loss=1032.623, rew=289.00]\n"
     ]
    },
    {
     "name": "stdout",
     "output_type": "stream",
     "text": [
      "Epoch #987: test_reward: 119.000000 ± 0.000000, best_reward: 1102.000000 ± 0.000000 in #360\n"
     ]
    },
    {
     "name": "stderr",
     "output_type": "stream",
     "text": [
      "Epoch #988: 1025it [00:02, 376.34it/s, env_step=1011712, len=30, n/ep=2, n/st=64, player_1/loss=317.421, player_2/loss=854.679, rew=504.50]\n"
     ]
    },
    {
     "name": "stdout",
     "output_type": "stream",
     "text": [
      "Epoch #988: test_reward: 104.000000 ± 0.000000, best_reward: 1102.000000 ± 0.000000 in #360\n"
     ]
    },
    {
     "name": "stderr",
     "output_type": "stream",
     "text": [
      "Epoch #989: 1025it [00:02, 373.34it/s, env_step=1012736, len=14, n/ep=4, n/st=64, player_1/loss=494.387, player_2/loss=570.562, rew=112.75]\n"
     ]
    },
    {
     "name": "stdout",
     "output_type": "stream",
     "text": [
      "Epoch #989: test_reward: 119.000000 ± 0.000000, best_reward: 1102.000000 ± 0.000000 in #360\n"
     ]
    },
    {
     "name": "stderr",
     "output_type": "stream",
     "text": [
      "Epoch #990: 1025it [00:02, 376.99it/s, env_step=1013760, len=13, n/ep=6, n/st=64, player_1/loss=476.322, player_2/loss=765.031, rew=115.00]\n"
     ]
    },
    {
     "name": "stdout",
     "output_type": "stream",
     "text": [
      "Epoch #990: test_reward: 252.000000 ± 0.000000, best_reward: 1102.000000 ± 0.000000 in #360\n"
     ]
    },
    {
     "name": "stderr",
     "output_type": "stream",
     "text": [
      "Epoch #991: 1025it [00:02, 377.03it/s, env_step=1014784, len=20, n/ep=4, n/st=64, player_1/loss=233.484, player_2/loss=695.774, rew=242.50]\n"
     ]
    },
    {
     "name": "stdout",
     "output_type": "stream",
     "text": [
      "Epoch #991: test_reward: 189.000000 ± 0.000000, best_reward: 1102.000000 ± 0.000000 in #360\n"
     ]
    },
    {
     "name": "stderr",
     "output_type": "stream",
     "text": [
      "Epoch #992: 1025it [00:02, 374.81it/s, env_step=1015808, len=34, n/ep=2, n/st=64, player_1/loss=255.804, player_2/loss=515.388, rew=596.00]\n"
     ]
    },
    {
     "name": "stdout",
     "output_type": "stream",
     "text": [
      "Epoch #992: test_reward: 209.000000 ± 0.000000, best_reward: 1102.000000 ± 0.000000 in #360\n"
     ]
    },
    {
     "name": "stderr",
     "output_type": "stream",
     "text": [
      "Epoch #993: 1025it [00:02, 373.11it/s, env_step=1016832, len=16, n/ep=4, n/st=64, player_1/loss=267.335, player_2/loss=736.696, rew=137.75]\n"
     ]
    },
    {
     "name": "stdout",
     "output_type": "stream",
     "text": [
      "Epoch #993: test_reward: 252.000000 ± 0.000000, best_reward: 1102.000000 ± 0.000000 in #360\n"
     ]
    },
    {
     "name": "stderr",
     "output_type": "stream",
     "text": [
      "Epoch #994: 1025it [00:02, 376.08it/s, env_step=1017856, len=32, n/ep=2, n/st=64, player_1/loss=392.272, player_2/loss=750.907, rew=529.00]\n"
     ]
    },
    {
     "name": "stdout",
     "output_type": "stream",
     "text": [
      "Epoch #994: test_reward: 464.000000 ± 0.000000, best_reward: 1102.000000 ± 0.000000 in #360\n"
     ]
    },
    {
     "name": "stderr",
     "output_type": "stream",
     "text": [
      "Epoch #995: 1025it [00:02, 378.52it/s, env_step=1018880, len=18, n/ep=4, n/st=64, player_1/loss=441.360, player_2/loss=442.062, rew=201.50]\n"
     ]
    },
    {
     "name": "stdout",
     "output_type": "stream",
     "text": [
      "Epoch #995: test_reward: 90.000000 ± 0.000000, best_reward: 1102.000000 ± 0.000000 in #360\n"
     ]
    },
    {
     "name": "stderr",
     "output_type": "stream",
     "text": [
      "Epoch #996: 1025it [00:02, 374.31it/s, env_step=1019904, len=25, n/ep=3, n/st=64, player_1/loss=335.381, player_2/loss=468.893, rew=355.00]\n"
     ]
    },
    {
     "name": "stdout",
     "output_type": "stream",
     "text": [
      "Epoch #996: test_reward: 54.000000 ± 0.000000, best_reward: 1102.000000 ± 0.000000 in #360\n"
     ]
    },
    {
     "name": "stderr",
     "output_type": "stream",
     "text": [
      "Epoch #997: 1025it [00:02, 375.87it/s, env_step=1020928, len=19, n/ep=3, n/st=64, player_1/loss=358.017, player_2/loss=786.357, rew=207.67]\n"
     ]
    },
    {
     "name": "stdout",
     "output_type": "stream",
     "text": [
      "Epoch #997: test_reward: 77.000000 ± 0.000000, best_reward: 1102.000000 ± 0.000000 in #360\n"
     ]
    },
    {
     "name": "stderr",
     "output_type": "stream",
     "text": [
      "Epoch #998: 1025it [00:02, 377.25it/s, env_step=1021952, len=26, n/ep=3, n/st=64, player_1/loss=299.948, player_2/loss=686.554, rew=415.33]\n"
     ]
    },
    {
     "name": "stdout",
     "output_type": "stream",
     "text": [
      "Epoch #998: test_reward: 189.000000 ± 0.000000, best_reward: 1102.000000 ± 0.000000 in #360\n"
     ]
    },
    {
     "name": "stderr",
     "output_type": "stream",
     "text": [
      "Epoch #999: 1025it [00:02, 376.46it/s, env_step=1022976, len=31, n/ep=1, n/st=64, player_1/loss=289.704, player_2/loss=362.359, rew=495.00]\n"
     ]
    },
    {
     "name": "stdout",
     "output_type": "stream",
     "text": [
      "Epoch #999: test_reward: 189.000000 ± 0.000000, best_reward: 1102.000000 ± 0.000000 in #360\n"
     ]
    }
   ],
   "source": [
    "####################################################\n",
    "# EXPERIMENT: TRAINING AGENTS\n",
    "####################################################\n",
    "\n",
    "# Configs for the agents\n",
    "freeze_agent1 = True\n",
    "agent1_starting_params = \"./saved_variables/paper_notebooks/7/2-cnn_dqn_frozen_agent2/best_policy_agent1.pth\"\n",
    "\n",
    "freeze_agent2 = False\n",
    "agent2_starting_params = \"./saved_variables/paper_notebooks/7/1-cnn_dqn_frozen_agent1/final_policy_agent2.pth\"\n",
    "\n",
    "single_agent_score_as_reward = True # To use combined reward or non frozen agent reward as scoring\n",
    "filename = \"3-cnn_dqn_frozen_agent1\"\n",
    "epochs = 500\n",
    "\n",
    "learning_rate = 0.00005\n",
    "training_eps = 0.1\n",
    "gamma = 0.8\n",
    "n_step = 4\n",
    "\n",
    "# Get the environment settings\n",
    "env = get_env()\n",
    "observation_space = env.observation_space['observation'] if isinstance(env.observation_space, gym.spaces.Dict) else env.observation_space\n",
    "state_shape = observation_space.shape or observation_space.n\n",
    "action_shape = env.action_space.shape or env.action_space.n\n",
    "\n",
    "# Configure agent 1\n",
    "agent1 = cf_cnn_dqn_policy(state_shape= state_shape,\n",
    "                           action_shape= action_shape,\n",
    "                           gamma= gamma,\n",
    "                           frozen= freeze_agent1,\n",
    "                           learning_rate = learning_rate,\n",
    "                           n_step= n_step)\n",
    "\n",
    "if agent1_starting_params:\n",
    "    agent1.load_state_dict(torch.load(agent1_starting_params))\n",
    "\n",
    "# Configure agent 2\n",
    "agent2 = cf_cnn_dqn_policy(state_shape= state_shape,\n",
    "                           action_shape= action_shape,\n",
    "                           gamma= gamma,\n",
    "                           frozen= freeze_agent2,\n",
    "                           learning_rate = learning_rate,\n",
    "                           n_step= n_step)\n",
    "\n",
    "if agent2_starting_params:\n",
    "    agent2.load_state_dict(torch.load(agent2_starting_params))\n",
    "\n",
    "\n",
    "# Train the agent\n",
    "off_policy_traininer_results, final_agent_player1, final_agent_player2 = train_agent(epochs= epochs,\n",
    "                                                                                     agent_player1= agent1,\n",
    "                                                                                     agent_player2= agent2,\n",
    "                                                                                     filename= filename,\n",
    "                                                                                     single_agent_score_as_reward = single_agent_score_as_reward,\n",
    "                                                                                     training_eps= training_eps)"
   ]
  },
  {
   "cell_type": "code",
   "execution_count": 13,
   "id": "8c8f3121",
   "metadata": {},
   "outputs": [
    {
     "name": "stdout",
     "output_type": "stream",
     "text": [
      "Average steps of game:  35.333333333333336\n",
      "Final mean reward agent 1: 308.3333333333333, std: 65.99663291074444\n",
      "Final mean reward agent 2: 339.6666666666667, std: 64.1110148275803\n"
     ]
    }
   ],
   "source": [
    "####################################################\n",
    "# EXPERIMENT: VIEWING THE BEST LEARNED POLICY\n",
    "####################################################\n",
    "\n",
    "# Get the environment settings\n",
    "env = get_env()\n",
    "observation_space = env.observation_space['observation'] if isinstance(env.observation_space, gym.spaces.Dict) else env.observation_space\n",
    "state_shape = observation_space.shape or observation_space.n\n",
    "action_shape = env.action_space.shape or env.action_space.n\n",
    "\n",
    "# Configure the best agent\n",
    "best_agent1 = cf_cnn_dqn_policy(state_shape= state_shape,\n",
    "                                action_shape= action_shape)\n",
    "best_agent1.load_state_dict(torch.load(\"./saved_variables/paper_notebooks/7/2-cnn_dqn_frozen_agent2/best_policy_agent1.pth\"))\n",
    "best_agent1.set_eps(0)\n",
    "\n",
    "\n",
    "best_agent2 = cf_cnn_dqn_policy(state_shape= state_shape,\n",
    "                                action_shape= action_shape)\n",
    "best_agent2.load_state_dict(torch.load(\"./saved_variables/paper_notebooks/7/2-cnn_dqn_frozen_agent2/best_policy_agent2.pth\"))\n",
    "best_agent2.set_eps(0)\n",
    "\n",
    "# Watch the best agent at work\n",
    "watch(numer_of_games= 3,\n",
    "      render_speed= 0.3,\n",
    "      agent_player1= best_agent1,\n",
    "      agent_player2= best_agent2)\n",
    "\n"
   ]
  },
  {
   "cell_type": "code",
   "execution_count": 14,
   "id": "c704acd8",
   "metadata": {},
   "outputs": [
    {
     "name": "stdout",
     "output_type": "stream",
     "text": [
      "Average steps of game:  19.0\n",
      "Final mean reward agent 1: 124.0, std: 0.0\n",
      "Final mean reward agent 2: 65.0, std: 0.0\n"
     ]
    }
   ],
   "source": [
    "####################################################\n",
    "# EXPERIMENT: VIEWING THE LAST LEARNED POLICY\n",
    "####################################################\n",
    "\n",
    "# Configure the final agent\n",
    "final_agent_player1 = cf_cnn_dqn_policy(state_shape= state_shape,\n",
    "                                        action_shape= action_shape)\n",
    "final_agent_player1.load_state_dict(torch.load(\"./saved_variables/paper_notebooks/7/2-cnn_dqn_frozen_agent2/final_policy_agent1.pth\"))\n",
    "best_agent1.set_eps(0)\n",
    "\n",
    "final_agent_player2 = cf_cnn_dqn_policy(state_shape= state_shape,\n",
    "                                        action_shape= action_shape)\n",
    "final_agent_player2.load_state_dict(torch.load(\"./saved_variables/paper_notebooks/7/2-cnn_dqn_frozen_agent2/final_policy_agent2.pth\"))\n",
    "best_agent2.set_eps(0)\n",
    "\n",
    "# Watch the best agent at work\n",
    "watch(numer_of_games= 3,\n",
    "      render_speed= 0.3,\n",
    "      agent_player1= final_agent_player1,\n",
    "      agent_player2= final_agent_player2)\n",
    "\n"
   ]
  },
  {
   "cell_type": "markdown",
   "id": "84478519",
   "metadata": {},
   "source": [
    "<hr><hr>\n",
    "\n",
    "## Discussion\n",
    "\n",
    "The performance of this model based on a CNN is similar to the previous model used.\n",
    "We will address other difficult points in the next notebooks to build an appropriate bot. "
   ]
  },
  {
   "cell_type": "code",
   "execution_count": null,
   "id": "3d9110be",
   "metadata": {},
   "outputs": [],
   "source": [
    "####################################################\n",
    "# CLEAN VARIABLES\n",
    "####################################################\n",
    "\n",
    "del action_shape\n",
    "del agent1\n",
    "del agent2\n",
    "del best_agent1\n",
    "del best_agent2\n",
    "del env\n",
    "del final_agent_player1\n",
    "del final_agent_player2\n",
    "del observation_space\n",
    "del off_policy_traininer_results\n",
    "del state_shape\n"
   ]
  },
  {
   "cell_type": "code",
   "execution_count": null,
   "id": "a74d3da3",
   "metadata": {},
   "outputs": [],
   "source": []
  }
 ],
 "metadata": {
  "interpreter": {
   "hash": "9b88c88564fefe7444548986d165ad8d7f764d0079ffa923785a3f5a89d52c74"
  },
  "kernelspec": {
   "display_name": "Python 3 (ipykernel)",
   "language": "python",
   "name": "python3"
  },
  "language_info": {
   "codemirror_mode": {
    "name": "ipython",
    "version": 3
   },
   "file_extension": ".py",
   "mimetype": "text/x-python",
   "name": "python",
   "nbconvert_exporter": "python",
   "pygments_lexer": "ipython3",
   "version": "3.8.10"
  }
 },
 "nbformat": 4,
 "nbformat_minor": 5
}
