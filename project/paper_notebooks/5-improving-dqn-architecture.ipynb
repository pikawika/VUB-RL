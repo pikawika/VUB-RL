{
 "cells": [
  {
   "cell_type": "markdown",
   "id": "337221df",
   "metadata": {},
   "source": [
    "# Improving DQN architecture\n",
    "\n",
    "The previous two notebooks, `3-learning-connect-four-dqn-agents-tianshou.ipynb` and `4-improving-dqn-agents.ipynb`, have shown that there is an improvement to be made to make the agents truly interesting.\n",
    "The issue probably lies in a combination of at least three things:\n",
    "- Training two DQN agents simultaneously is known to be though, especially when starting from a random initialisation\n",
    "- The network used was a simple MLP\n",
    "- The training is not done over enough iterations\n",
    "\n",
    "A solution to the first issue would be to fix one agent's policy for several episodes whilst training the other and switching back and forth between the agents.\n",
    "Instead of an MLP, a CNN based approach could be used, which makes sense in this setting.\n",
    "Once somewhat promising results emerge, training time can be increased given it is still manageable on average consumer-grade hardware.\n",
    "\n",
    "In this notebook we will try to use a custom NN for training the DQN."
   ]
  },
  {
   "cell_type": "markdown",
   "id": "b5341c6d",
   "metadata": {},
   "source": [
    "<hr><hr>\n",
    "\n",
    "## Table of Contents\n",
    "\n",
    "- Contact information\n",
    "- Checking requirements\n",
    "  - Correct Anaconda environment\n",
    "  - Correct module access\n",
    "  - Correct CUDA access\n",
    "- Training two DQN agents on connect four Gym\n",
    "  - Building the environment\n",
    "  - Implementing the DQN policy\n",
    "  - Building agents\n",
    "  - Function for letting agents learn\n",
    "  - Function for watching learned agent\n",
    "  - Doing the experiment\n",
    "- Discussion"
   ]
  },
  {
   "cell_type": "markdown",
   "id": "292165d3",
   "metadata": {},
   "source": [
    "<hr><hr>\n",
    "\n",
    "## Contact information\n",
    "\n",
    "| Name             | Student ID | VUB mail                                                  | Personal mail                                               |\n",
    "| ---------------- | ---------- | --------------------------------------------------------- | ----------------------------------------------------------- |\n",
    "| Lennert Bontinck | 0568702    | [lennert.bontinck@vub.be](mailto:lennert.bontinck@vub.be) | [info@lennertbontinck.com](mailto:info@lennertbontinck.com) |\n",
    "\n"
   ]
  },
  {
   "cell_type": "markdown",
   "id": "7a405d24",
   "metadata": {},
   "source": [
    "<hr><hr>\n",
    "\n",
    "## Checking requirements\n",
    "\n",
    "### Correct Anaconda environment\n",
    "\n",
    "The `rl-project` anaconda environment should be active to ensure proper support. Installation instructions are available on [the GitHub repository of the RL course project and homeworks](https://github.com/pikawika/vub-rl)."
   ]
  },
  {
   "cell_type": "code",
   "execution_count": 1,
   "id": "334d5fd4",
   "metadata": {},
   "outputs": [
    {
     "name": "stdout",
     "output_type": "stream",
     "text": [
      "Active environment: rl-project\n",
      "Correct environment: True\n",
      "\n",
      "Python version: 3.8.10\n",
      "Correct Python version: True\n"
     ]
    }
   ],
   "source": [
    "####################################################\n",
    "# CHECKING FOR RIGHT ANACONDA ENVIRONMENT\n",
    "####################################################\n",
    "\n",
    "import os\n",
    "from platform import python_version\n",
    "\n",
    "print(f\"Active environment: {os.environ['CONDA_DEFAULT_ENV']}\")\n",
    "print(f\"Correct environment: {os.environ['CONDA_DEFAULT_ENV'] == 'rl-project'}\")\n",
    "print(f\"\\nPython version: {python_version()}\")\n",
    "print(f\"Correct Python version: {python_version() == '3.8.10'}\")"
   ]
  },
  {
   "cell_type": "markdown",
   "id": "22166668",
   "metadata": {},
   "source": [
    "<hr>\n",
    "\n",
    "### Correct module access\n",
    "\n",
    "The following code block will load in all required modules and show if the versions match those that are recommended."
   ]
  },
  {
   "cell_type": "code",
   "execution_count": 2,
   "id": "ab632204",
   "metadata": {},
   "outputs": [
    {
     "name": "stdout",
     "output_type": "stream",
     "text": [
      "Matplotlib version (3.5.1 recommended): 3.5.1\n",
      "pygame 2.1.2 (SDL 2.0.18, Python 3.8.10)\n",
      "Hello from the pygame community. https://www.pygame.org/contribute.html\n",
      "Pygame version (2.1.2 recommended): 2.1.2\n",
      "Gym version (0.23.1 recommended): 0.23.1\n"
     ]
    },
    {
     "name": "stderr",
     "output_type": "stream",
     "text": [
      "C:\\ProgramData\\Anaconda3\\envs\\rl-project\\lib\\site-packages\\tqdm\\auto.py:22: TqdmWarning: IProgress not found. Please update jupyter and ipywidgets. See https://ipywidgets.readthedocs.io/en/stable/user_install.html\n",
      "  from .autonotebook import tqdm as notebook_tqdm\n"
     ]
    },
    {
     "name": "stdout",
     "output_type": "stream",
     "text": [
      "Tianshou version (0.4.8 recommended): 0.4.8\n",
      "Torch version (1.11.0 recommended): 1.12.0.dev20220520+cu116\n"
     ]
    },
    {
     "name": "stderr",
     "output_type": "stream",
     "text": [
      "C:\\ProgramData\\Anaconda3\\envs\\rl-project\\lib\\site-packages\\torch\\utils\\tensorboard\\__init__.py:4: DeprecationWarning: distutils Version classes are deprecated. Use packaging.version instead.\n",
      "  if not hasattr(tensorboard, \"__version__\") or LooseVersion(\n"
     ]
    }
   ],
   "source": [
    "####################################################\n",
    "# LOADING MODULES\n",
    "####################################################\n",
    "\n",
    "# Allow reloading of libraries\n",
    "import importlib\n",
    "\n",
    "# Plotting\n",
    "import matplotlib; print(f\"Matplotlib version (3.5.1 recommended): {matplotlib.__version__}\")\n",
    "import matplotlib.pyplot as plt\n",
    "\n",
    "# Argparser\n",
    "import argparse\n",
    "\n",
    "# More data types\n",
    "import typing\n",
    "import numpy as np\n",
    "\n",
    "# Pygame\n",
    "import pygame; print(f\"Pygame version (2.1.2 recommended): {pygame.__version__}\")\n",
    "\n",
    "# Gym environment\n",
    "import gym; print(f\"Gym version (0.23.1 recommended): {gym.__version__}\")\n",
    "\n",
    "# Tianshou for RL algorithms\n",
    "import tianshou as ts; print(f\"Tianshou version (0.4.8 recommended): {ts.__version__}\")\n",
    "\n",
    "# Torch is a popular DL framework\n",
    "import torch; print(f\"Torch version (1.11.0 recommended): {torch.__version__}\")\n",
    "\n",
    "# PPrint is a pretty print for variables\n",
    "from pprint import pprint\n",
    "\n",
    "# Our custom connect four gym environment\n",
    "import sys\n",
    "sys.path.append('../')\n",
    "import gym_connect4_pygame.envs.ConnectFourPygameEnvV2 as cfgym\n",
    "importlib.invalidate_caches()\n",
    "importlib.reload(cfgym)\n",
    "\n",
    "# Time for allowing \"freezes\" in execution\n",
    "import time;\n",
    "\n",
    "# Allow for copying objects in a non reference manner\n",
    "import copy\n",
    "\n",
    "# Used for updating notebook display\n",
    "from IPython.display import clear_output"
   ]
  },
  {
   "cell_type": "markdown",
   "id": "f2617a21",
   "metadata": {},
   "source": [
    "<hr>\n",
    "\n",
    "### Correct CUDA access\n",
    "\n",
    "The installation instructions specify how to install PyTorch with CUDA 11.6.\n",
    "The following code block tests if this was done successfully."
   ]
  },
  {
   "cell_type": "code",
   "execution_count": 3,
   "id": "da9f5ed0",
   "metadata": {},
   "outputs": [
    {
     "name": "stdout",
     "output_type": "stream",
     "text": [
      "CUDA is available: True\n",
      "\n",
      "Amount of connected devices supporting CUDA: 1\n",
      "\n",
      "Current CUDA device: 0\n",
      "Cuda device 0 name: NVIDIA GeForce GTX 970\n"
     ]
    }
   ],
   "source": [
    "####################################################\n",
    "# CUDA VALIDATION\n",
    "####################################################\n",
    "\n",
    "# Check cuda available\n",
    "print(f\"CUDA is available: {torch.cuda.is_available()}\")\n",
    "\n",
    "# Show cuda devices\n",
    "print(f\"\\nAmount of connected devices supporting CUDA: {torch.cuda.device_count()}\")\n",
    "\n",
    "# Show current cuda device\n",
    "print(f\"\\nCurrent CUDA device: {torch.cuda.current_device()}\")\n",
    "\n",
    "# Show cuda device name\n",
    "print(f\"Cuda device 0 name: {torch.cuda.get_device_name(0)}\")"
   ]
  },
  {
   "cell_type": "markdown",
   "id": "826657c4",
   "metadata": {},
   "source": [
    "<hr><hr>\n",
    "\n",
    "## Training two DQN agents on connect four Gym\n",
    "\n",
    "Our connect four gym setup requires two agents, one for each player.\n",
    "To reduce complexity, agents will always play as the same player, e.g. always as player 1.\n",
    "It is important to note that connect four is a *solved game*.\n",
    "According to [The Washington Post](https://www.washingtonpost.com/news/wonk/wp/2015/05/08/how-to-win-any-popular-game-according-to-data-scientists/):\n",
    "\n",
    "> Connect Four is what mathematicians call a \"solved game,\" meaning you can play it perfectly every time, no matter what your opponent does. You will need to get the first move, but as long as you do so, you can always win within 41 moves.\n",
    "\n",
    "<hr>\n",
    "\n",
    "### Building the environment\n",
    "\n",
    "This code is taken from previous notebooks.\n",
    "We don't allow invalid moves to make the problem easier for now."
   ]
  },
  {
   "cell_type": "code",
   "execution_count": 4,
   "id": "c2b47a58",
   "metadata": {},
   "outputs": [
    {
     "name": "stdout",
     "output_type": "stream",
     "text": [
      "Observation space: Dict(action_mask:Box(0, 1, (7,), int8), observation:Box(0, 2, (6, 7), int8))\n",
      "\n",
      "Action space: Discrete(7)\n",
      "\n",
      " Initial player id:\n",
      "player_1\n",
      "\n",
      " Initial observation:\n",
      "[[0. 0. 0. 0. 0. 0. 0.]\n",
      " [0. 0. 0. 0. 0. 0. 0.]\n",
      " [0. 0. 0. 0. 0. 0. 0.]\n",
      " [0. 0. 0. 0. 0. 0. 0.]\n",
      " [0. 0. 0. 0. 0. 0. 0.]\n",
      " [0. 0. 0. 0. 0. 0. 0.]]\n",
      "\n",
      " Initial mask:\n",
      "[True, True, True, True, True, True, True]\n"
     ]
    }
   ],
   "source": [
    "####################################################\n",
    "# CONNECT FOUR V2 ENVIRONMENT\n",
    "####################################################\n",
    "\n",
    "def get_env():\n",
    "    \"\"\"\n",
    "    Returns the connect four gym environment V2 altered for Tianshou and Petting Zoo compatibility.\n",
    "    Already wrapped with a ts.env.PettingZooEnv wrapper.\n",
    "    \"\"\"\n",
    "    return ts.env.PettingZooEnv(cfgym.env(reward_move= 1,\n",
    "                                          reward_invalid= -3,\n",
    "                                          reward_draw= 15,\n",
    "                                          reward_win= 25,\n",
    "                                          reward_loss= -25,\n",
    "                                          allow_invalid_move= False))\n",
    "    \n",
    "    \n",
    "# Test the environment\n",
    "env = get_env()\n",
    "print(f\"Observation space: {env.observation_space}\")\n",
    "print(f\"\\nAction space: {env.action_space}\")\n",
    "\n",
    "# Reset the environment to start from a clean state, returns the initial observation\n",
    "observation = env.reset()\n",
    "\n",
    "print(\"\\n Initial player id:\")\n",
    "print(observation[\"agent_id\"])\n",
    "\n",
    "print(\"\\n Initial observation:\")\n",
    "print(observation[\"obs\"])\n",
    "\n",
    "print(\"\\n Initial mask:\")\n",
    "print(observation[\"mask\"])\n",
    "\n",
    "# Clean unused variables\n",
    "del observation\n",
    "del env"
   ]
  },
  {
   "cell_type": "markdown",
   "id": "0bc7e7da",
   "metadata": {},
   "source": [
    "<hr>\n",
    "\n",
    "### Implementing the DQN policy\n",
    "\n",
    "The DQN policy for the agent is configured and set up below.\n",
    "This is identical to the previous notebook."
   ]
  },
  {
   "cell_type": "code",
   "execution_count": 5,
   "id": "8e2f43c0",
   "metadata": {},
   "outputs": [],
   "source": [
    "####################################################\n",
    "# DQN ARCHITECTURE\n",
    "####################################################\n",
    "\n",
    "class CustomDQN(torch.nn.Module):\n",
    "    \"\"\"\n",
    "    Custom DQN using a model based on CNN\n",
    "    \"\"\"\n",
    "    def __init__(self,\n",
    "                 state_shape: typing.Sequence[int],\n",
    "                 action_shape: typing.Sequence[int],\n",
    "                 device: typing.Union[str, int, torch.device] = 'cuda' if torch.cuda.is_available() else 'cpu',):\n",
    "        # Parent call\n",
    "        super().__init__()\n",
    "        \n",
    "        # Save device (e.g. cuda)\n",
    "        self.device = device\n",
    "        \n",
    "        self.model = torch.nn.Sequential(\n",
    "            torch.nn.Linear(np.prod(state_shape), 128), torch.nn.ReLU(inplace=True),\n",
    "            torch.nn.Linear(128, 128), torch.nn.ReLU(inplace=True),\n",
    "            torch.nn.Linear(128, 128), torch.nn.ReLU(inplace=True),\n",
    "            torch.nn.Linear(128, np.prod(action_shape)),\n",
    "        )\n",
    "\n",
    "    def forward(self, obs, state=None, info={}):\n",
    "        if not isinstance(obs, torch.Tensor):\n",
    "            obs = torch.tensor(obs, dtype=torch.float, device=self.device)\n",
    "        batch = obs.shape[0]\n",
    "        logits = self.model(obs.view(batch, -1))\n",
    "        return logits, state\n"
   ]
  },
  {
   "cell_type": "code",
   "execution_count": 6,
   "id": "539b56ff",
   "metadata": {},
   "outputs": [],
   "source": [
    "####################################################\n",
    "# DQN POLICY\n",
    "####################################################\n",
    "\n",
    "def cf_dqn_policy(state_shape: tuple,\n",
    "                  action_shape: tuple,\n",
    "                  optim: typing.Optional[torch.optim.Optimizer] = None,\n",
    "                  learning_rate: float =  0.0001,\n",
    "                  gamma: float = 0.9, # Smaller gamma favours \"faster\" win\n",
    "                  n_step: int = 1, # Number of steps to look ahead\n",
    "                  target_update_freq: int = 320):\n",
    "    # Use cuda device if possible\n",
    "    device = 'cuda' if torch.cuda.is_available() else 'cpu'\n",
    "    \n",
    "    # Network to be used for DQN\n",
    "    net = CustomDQN(state_shape, action_shape, device= device).to(device)\n",
    "    \n",
    "    # Default optimizer is an adam optimizer with the argparser learning rate\n",
    "    if optim is None:\n",
    "        optim = torch.optim.Adam(net.parameters(), lr= learning_rate)\n",
    "        \n",
    "    # Our agent DQN policy\n",
    "    return ts.policy.DQNPolicy(model= net,\n",
    "                               optim= optim,\n",
    "                               discount_factor= gamma,\n",
    "                               estimation_step= n_step,\n",
    "                               target_update_freq= target_update_freq)"
   ]
  },
  {
   "cell_type": "markdown",
   "id": "dd411318",
   "metadata": {},
   "source": [
    "<hr>\n",
    "\n",
    "### Building agents\n",
    "\n",
    "Identical to the previous notebook."
   ]
  },
  {
   "cell_type": "code",
   "execution_count": 7,
   "id": "f7ae27d2",
   "metadata": {},
   "outputs": [],
   "source": [
    "####################################################\n",
    "# AGENT CREATION\n",
    "####################################################\n",
    "\n",
    "def get_agents(agent_player1: typing.Optional[ts.policy.BasePolicy] = None,\n",
    "               agent_player2: typing.Optional[ts.policy.BasePolicy] = None,\n",
    "               optim: typing.Optional[torch.optim.Optimizer] = None,\n",
    "               resume_path_player_1: str = '', # Path to file to resume agent training from\n",
    "               resume_path_player_2: str = '', \n",
    "               ) -> typing.Tuple[ts.policy.BasePolicy, torch.optim.Optimizer, list]:\n",
    "    \"\"\"\n",
    "    Gets a multi agent policy manager, optimizer and player ids for the connect four V2 gym environment.\n",
    "    Per default this returns \n",
    "        - Multi agent manager for 2 agents using DQN\n",
    "        - Adam optimizer\n",
    "        - ['player_1', 'player_2'] from the connect four environment\n",
    "    \"\"\"\n",
    "    \n",
    "    # Get the environment to play in (Connect four gym V2)\n",
    "    env = get_env()\n",
    "    \n",
    "    # Get the observation space from the environment, depending on typo of space (ternary operator)\n",
    "    observation_space = env.observation_space['observation'] if isinstance(env.observation_space, gym.spaces.Dict) else env.observation_space\n",
    "    \n",
    "    # Set the arguments\n",
    "    state_shape = observation_space.shape or observation_space.n\n",
    "    action_shape = env.action_space.shape or env.action_space.n\n",
    "    \n",
    "    # Configure agent player 1 to be a DQN if no policy is passed.\n",
    "    if agent_player1 is None:\n",
    "        # Our agent1 uses a DQN policy\n",
    "        agent_player1 = cf_dqn_policy(state_shape= state_shape,\n",
    "                                      action_shape= action_shape,\n",
    "                                      optim= optim)\n",
    "        \n",
    "        # If we resume our agent we need to load the previous config\n",
    "        if resume_path_player_1:\n",
    "            agent_player1.load_state_dict(torch.load(resume_path_player_1))\n",
    "    \n",
    "    # Configure agent player 2 to be a DQN if no policy is passed.\n",
    "    if agent_player2 is None:\n",
    "        # Our agent1 uses a DQN policy\n",
    "        agent_player2 = cf_dqn_policy(state_shape= state_shape,\n",
    "                                      action_shape= action_shape,\n",
    "                                      optim= optim)\n",
    "        \n",
    "        # If we resume our agent we need to load the previous config\n",
    "        if resume_path_player_2:\n",
    "            agent_player2.load_state_dict(torch.load(resume_path_player_2))\n",
    "\n",
    "    # Both our agents are DQN agents by default\n",
    "    agents = [agent_player1, agent_player2]\n",
    "        \n",
    "    # Our policy depends on the order of the agents\n",
    "    policy = ts.policy.MultiAgentPolicyManager(agents, env)\n",
    "    \n",
    "    # Return our policy, optimizer and the available agents in the environment\n",
    "    # Per default: \n",
    "    #   - Multi agent manager for 2 agents using DQN\n",
    "    #   - Adam optimizer\n",
    "    #   - ['player_1', 'player_2'] from the connect four environment\n",
    "    \n",
    "    return policy, optim, env.agents"
   ]
  },
  {
   "cell_type": "markdown",
   "id": "95a8f3a6",
   "metadata": {},
   "source": [
    "<hr>\n",
    "\n",
    "### Function for letting agents learn\n",
    "\n",
    "Identical to the previous notebook."
   ]
  },
  {
   "cell_type": "code",
   "execution_count": 8,
   "id": "9a32c218",
   "metadata": {},
   "outputs": [],
   "source": [
    "####################################################\n",
    "# AGENT TRAINING\n",
    "####################################################\n",
    "\n",
    "def train_agent(filename: str = \"dqn_vs_dqn\",\n",
    "                agent_player1: typing.Optional[ts.policy.BasePolicy] = None,\n",
    "                agent_player2: typing.Optional[ts.policy.BasePolicy] = None,\n",
    "                optim: typing.Optional[torch.optim.Optimizer] = None,\n",
    "                training_env_num: int = 1,\n",
    "                testing_env_num: int = 1,\n",
    "                buffer_size: int = 2^14,\n",
    "                batch_size: int = 64, #64\n",
    "                epochs: int = 50, #50\n",
    "                step_per_epoch: int = 1024, #1024\n",
    "                step_per_collect: int = 64, # transition before update\n",
    "                update_per_step: float = 0.1,\n",
    "                testing_eps: float = 0.05,\n",
    "                training_eps: float = 0.1,\n",
    "                ) -> typing.Tuple[dict, ts.policy.BasePolicy]:\n",
    "    \"\"\"\n",
    "    Trains two agents in the connect four V2 environment and saves their best model and logs.\n",
    "    Returns:\n",
    "        - result from offpolicy_trainer\n",
    "        - final version of agent 1\n",
    "        - final version of agent 2\n",
    "    \"\"\"\n",
    "\n",
    "    # ======== notebook specific =========\n",
    "    notebook_version = '5' # Used for foldering logs and models\n",
    "\n",
    "    # ======== environment setup =========\n",
    "    train_envs = ts.env.DummyVectorEnv([get_env for _ in range(training_env_num)])\n",
    "    test_envs = ts.env.DummyVectorEnv([get_env for _ in range(testing_env_num)])\n",
    "    \n",
    "    # set the seed for reproducibility\n",
    "    np.random.seed(1998)\n",
    "    torch.manual_seed(1998)\n",
    "    train_envs.seed(1998)\n",
    "    test_envs.seed(1998)\n",
    "\n",
    "    # ======== agent setup =========\n",
    "    # Gets our agents from the previously made function\n",
    "    # Per default: \n",
    "    #   - Multi agent manager for 2 agents using DQN\n",
    "    #   - Adam optimizer\n",
    "    #   - ['player_1', 'player_2'] from the connect four environment\n",
    "    policy, optim, agents = get_agents(agent_player1=agent_player1,\n",
    "                                       agent_player2=agent_player2,\n",
    "                                       optim=optim)\n",
    "\n",
    "    # ======== collector setup =========\n",
    "    # Make a collector for the training environments\n",
    "    train_collector = ts.data.Collector(policy= policy,\n",
    "                                        env= train_envs,\n",
    "                                        buffer= ts.data.VectorReplayBuffer(buffer_size, len(train_envs)),\n",
    "                                        exploration_noise= True)\n",
    "    \n",
    "    # Make a collector for the testing environments\n",
    "    test_collector = ts.data.Collector(policy= policy,\n",
    "                                       env= train_envs,\n",
    "                                       exploration_noise= True)\n",
    "    \n",
    "    # Uncomment below if you want to set epsilon in epsilon policy\n",
    "    # policy.set_eps(1)\n",
    "    \n",
    "    # Collect data fot the training evnironments\n",
    "    train_collector.collect(n_step= batch_size * training_env_num)\n",
    "    \n",
    "    # ======== ensure folders exist =========\n",
    "    if not os.path.exists(os.path.join('./logs', 'paper_notebooks', notebook_version, filename)):\n",
    "        os.makedirs(os.path.join('./logs', 'paper_notebooks', notebook_version, filename))\n",
    "    if not os.path.exists(os.path.join('./saved_variables', 'paper_notebooks', notebook_version, filename)):\n",
    "        os.makedirs(os.path.join('./saved_variables', 'paper_notebooks', notebook_version, filename))\n",
    "\n",
    "    # ======== tensorboard logging setup =========\n",
    "    # Allows to save the training progress to tensorboard compatable logs\n",
    "    log_path = os.path.join('./logs', 'paper_notebooks', notebook_version, filename)\n",
    "    writer = torch.utils.tensorboard.SummaryWriter(log_path)\n",
    "    logger = ts.utils.TensorboardLogger(writer)\n",
    "\n",
    "    # ======== callback functions used during training =========\n",
    "    # We want to save our best policy\n",
    "    def save_best_fn(policy):\n",
    "        \"\"\"\n",
    "        Callback to save the best model\n",
    "        \"\"\"\n",
    "        # Save best agent 1\n",
    "        model_save_path = os.path.join('./saved_variables', 'paper_notebooks', notebook_version, filename, 'best_policy_agent1.pth')\n",
    "        torch.save(policy.policies[agents[0]].state_dict(), model_save_path)\n",
    "        \n",
    "        # Save best agent 2\n",
    "        model_save_path = os.path.join('./saved_variables', 'paper_notebooks', notebook_version, filename, 'best_policy_agent2.pth')\n",
    "        torch.save(policy.policies[agents[1]].state_dict(), model_save_path)\n",
    "        \n",
    "        # Save agent2\n",
    "\n",
    "    def stop_fn(mean_rewards):\n",
    "        \"\"\"\n",
    "        Callback to stop training when we've reached the win rate\n",
    "        \"\"\"\n",
    "        return mean_rewards >= 7 # (win = 10, 70% win without invalid moves = mean of 7)\n",
    "\n",
    "    def train_fn(epoch, env_step):\n",
    "        \"\"\"\n",
    "        Callback before training\n",
    "        \"\"\"        \n",
    "        # Before training we want to configure the epsilon for the agents\n",
    "        # In general more exploratory than the test case\n",
    "        policy.policies[agents[0]].set_eps(training_eps)\n",
    "        policy.policies[agents[1]].set_eps(training_eps)\n",
    "\n",
    "    def test_fn(epoch, env_step):\n",
    "        \"\"\"\n",
    "        Callback beore testing\n",
    "        \"\"\"        \n",
    "        # Before testing we want to configure the epsilon for the agents\n",
    "        # In general more greedy than the train case but not\n",
    "        #   to avoid getting stuck on invalid moves\n",
    "        policy.policies[agents[0]].set_eps(testing_eps)\n",
    "\n",
    "    def reward_metric(rews):\n",
    "        \"\"\"\n",
    "        Callback for reward collection\n",
    "        \"\"\"\n",
    "        # We are interested in having a high total total reward,\n",
    "        #   as this would mean equally good agents.\n",
    "        return rews[:, 0] + rews[:, 1]\n",
    "\n",
    "    # trainer\n",
    "    result = ts.trainer.offpolicy_trainer(policy= policy,\n",
    "                                          train_collector= train_collector,\n",
    "                                          test_collector= test_collector,\n",
    "                                          max_epoch= epochs,\n",
    "                                          step_per_epoch= step_per_epoch,\n",
    "                                          step_per_collect= step_per_collect,\n",
    "                                          episode_per_test= testing_env_num,\n",
    "                                          batch_size= batch_size,\n",
    "                                          train_fn= train_fn,\n",
    "                                          test_fn= test_fn,\n",
    "                                          # Stop function to stop before specified amount of epochs\n",
    "                                          #stop_fn= stop_fn\n",
    "                                          save_best_fn= save_best_fn,\n",
    "                                          update_per_step= update_per_step,\n",
    "                                          logger= logger,\n",
    "                                          test_in_train= False,\n",
    "                                          reward_metric= reward_metric)\n",
    "    \n",
    "    # Save final agent 1\n",
    "    model_save_path = os.path.join('./saved_variables', 'paper_notebooks', notebook_version, filename, 'final_policy_agent1.pth')\n",
    "    torch.save(policy.policies[agents[0]].state_dict(), model_save_path)\n",
    "\n",
    "    # Save final agent 2\n",
    "    model_save_path = os.path.join('./saved_variables', 'paper_notebooks', notebook_version, filename, 'final_policy_agent2.pth')\n",
    "    torch.save(policy.policies[agents[1]].state_dict(), model_save_path)\n",
    "\n",
    "    return result, policy.policies[agents[0]], policy.policies[agents[1]]"
   ]
  },
  {
   "cell_type": "markdown",
   "id": "f161cc0f",
   "metadata": {},
   "source": [
    "<hr>\n",
    "\n",
    "### Function for watching learned agent\n",
    "\n",
    "Identical to the previous notebook."
   ]
  },
  {
   "cell_type": "code",
   "execution_count": 9,
   "id": "b526e5f0",
   "metadata": {},
   "outputs": [],
   "source": [
    "####################################################\n",
    "# WATCHING THE LEARNED POLICY IN ACTION\n",
    "####################################################\n",
    "\n",
    "def watch(numer_of_games: int = 3,\n",
    "          agent_player1: typing.Optional[ts.policy.BasePolicy] = None,\n",
    "          agent_player2: typing.Optional[ts.policy.BasePolicy] = None,\n",
    "          test_epsilon: float = 0.05, # For the watching we act completely greedy but low random for not getting stuck on invalid move\n",
    "          render_speed: float = 0.15, # Amount of seconds to update frame/ do a step\n",
    "          ) -> None:\n",
    "    \n",
    "    # Get the connect four V2 environment (must be a list)\n",
    "    env= ts.env.DummyVectorEnv([get_env])\n",
    "    \n",
    "    # Get the agents from the trained agents\n",
    "    policy, optim, agents = get_agents(agent_player1= agent_player1,\n",
    "                                       agent_player2= agent_player2)\n",
    "    \n",
    "    # Evaluate the policy\n",
    "    policy.eval()\n",
    "    \n",
    "    # Set the testing policy epsilon for our agents\n",
    "    policy.policies[agents[0]].set_eps(test_epsilon)\n",
    "    policy.policies[agents[1]].set_eps(test_epsilon)\n",
    "    \n",
    "    # Collect the test data\n",
    "    collector = ts.data.Collector(policy= policy,\n",
    "                                  env= env,\n",
    "                                  exploration_noise= True)\n",
    "    \n",
    "    # Render games in human mode to see how it plays\n",
    "    result = collector.collect(n_episode= numer_of_games, render= render_speed)\n",
    "    \n",
    "    # Close the environment aftering collecting the results\n",
    "    # This closes the pygame window after completion\n",
    "    env.close()\n",
    "    \n",
    "    # Get the rewards and length from the test trials\n",
    "    rewards, length = result[\"rews\"], result[\"lens\"]\n",
    "    \n",
    "    # Print the final reward for the first agent\n",
    "    print(f\"Average steps of game:  {length.mean()}\")\n",
    "    print(f\"Final mean reward agent 1: {rewards[:, 0].mean()}, std: {rewards[:, 0].std()}\")\n",
    "    print(f\"Final mean reward agent 2: {rewards[:, 1].mean()}, std: {rewards[:, 1].std()}\")"
   ]
  },
  {
   "cell_type": "markdown",
   "id": "c31784e9",
   "metadata": {},
   "source": [
    "<hr>\n",
    "\n",
    "### Doing the experiment\n",
    "\n",
    "We now do the experiment with using our previously created functions.\n",
    "We update some parameter settings to find if we can improve our DQN agents."
   ]
  },
  {
   "cell_type": "code",
   "execution_count": 10,
   "id": "93fe8961",
   "metadata": {
    "scrolled": true
   },
   "outputs": [
    {
     "name": "stderr",
     "output_type": "stream",
     "text": [
      "Epoch #1: 1025it [00:03, 297.79it/s, env_step=1024, len=9, n/ep=6, n/st=64, player_1/loss=219.279, player_2/loss=84.655, rew=106.00]\n"
     ]
    },
    {
     "name": "stdout",
     "output_type": "stream",
     "text": [
      "Epoch #1: test_reward: 208.000000 ± 0.000000, best_reward: 208.000000 ± 0.000000 in #1\n"
     ]
    },
    {
     "name": "stderr",
     "output_type": "stream",
     "text": [
      "Epoch #2: 1025it [00:02, 401.59it/s, env_step=2048, len=10, n/ep=6, n/st=64, player_1/loss=131.482, player_2/loss=106.720, rew=150.67]\n"
     ]
    },
    {
     "name": "stdout",
     "output_type": "stream",
     "text": [
      "Epoch #2: test_reward: 88.000000 ± 0.000000, best_reward: 208.000000 ± 0.000000 in #1\n"
     ]
    },
    {
     "name": "stderr",
     "output_type": "stream",
     "text": [
      "Epoch #3: 1025it [00:02, 401.96it/s, env_step=3072, len=8, n/ep=8, n/st=64, player_1/loss=58.081, player_2/loss=71.233, rew=78.25]\n"
     ]
    },
    {
     "name": "stdout",
     "output_type": "stream",
     "text": [
      "Epoch #3: test_reward: 88.000000 ± 0.000000, best_reward: 208.000000 ± 0.000000 in #1\n"
     ]
    },
    {
     "name": "stderr",
     "output_type": "stream",
     "text": [
      "Epoch #4: 1025it [00:02, 401.87it/s, env_step=4096, len=7, n/ep=8, n/st=64, player_1/loss=48.969, player_2/loss=54.645, rew=68.75]\n"
     ]
    },
    {
     "name": "stdout",
     "output_type": "stream",
     "text": [
      "Epoch #4: test_reward: 54.000000 ± 0.000000, best_reward: 208.000000 ± 0.000000 in #1\n"
     ]
    },
    {
     "name": "stderr",
     "output_type": "stream",
     "text": [
      "Epoch #5: 1025it [00:02, 402.82it/s, env_step=5120, len=8, n/ep=7, n/st=64, player_1/loss=23.932, player_2/loss=16.209, rew=78.86]\n"
     ]
    },
    {
     "name": "stdout",
     "output_type": "stream",
     "text": [
      "Epoch #5: test_reward: 54.000000 ± 0.000000, best_reward: 208.000000 ± 0.000000 in #1\n"
     ]
    },
    {
     "name": "stderr",
     "output_type": "stream",
     "text": [
      "Epoch #6: 1025it [00:02, 402.42it/s, env_step=6144, len=8, n/ep=7, n/st=64, player_1/loss=18.571, player_2/loss=27.523, rew=87.43]\n"
     ]
    },
    {
     "name": "stdout",
     "output_type": "stream",
     "text": [
      "Epoch #6: test_reward: 54.000000 ± 0.000000, best_reward: 208.000000 ± 0.000000 in #1\n"
     ]
    },
    {
     "name": "stderr",
     "output_type": "stream",
     "text": [
      "Epoch #7: 1025it [00:02, 403.32it/s, env_step=7168, len=8, n/ep=6, n/st=64, player_1/loss=27.309, player_2/loss=48.549, rew=80.67]\n"
     ]
    },
    {
     "name": "stdout",
     "output_type": "stream",
     "text": [
      "Epoch #7: test_reward: 54.000000 ± 0.000000, best_reward: 208.000000 ± 0.000000 in #1\n"
     ]
    },
    {
     "name": "stderr",
     "output_type": "stream",
     "text": [
      "Epoch #8: 1025it [00:02, 400.73it/s, env_step=8192, len=9, n/ep=6, n/st=64, player_1/loss=32.029, player_2/loss=43.142, rew=110.33]\n"
     ]
    },
    {
     "name": "stdout",
     "output_type": "stream",
     "text": [
      "Epoch #8: test_reward: 54.000000 ± 0.000000, best_reward: 208.000000 ± 0.000000 in #1\n"
     ]
    },
    {
     "name": "stderr",
     "output_type": "stream",
     "text": [
      "Epoch #9: 1025it [00:02, 403.72it/s, env_step=9216, len=9, n/ep=8, n/st=64, player_1/loss=26.631, player_2/loss=10.158, rew=94.50]\n"
     ]
    },
    {
     "name": "stdout",
     "output_type": "stream",
     "text": [
      "Epoch #9: test_reward: 54.000000 ± 0.000000, best_reward: 208.000000 ± 0.000000 in #1\n"
     ]
    },
    {
     "name": "stderr",
     "output_type": "stream",
     "text": [
      "Epoch #10: 1025it [00:02, 402.82it/s, env_step=10240, len=8, n/ep=7, n/st=64, player_1/loss=11.182, player_2/loss=15.441, rew=80.29]\n"
     ]
    },
    {
     "name": "stdout",
     "output_type": "stream",
     "text": [
      "Epoch #10: test_reward: 54.000000 ± 0.000000, best_reward: 208.000000 ± 0.000000 in #1\n"
     ]
    },
    {
     "name": "stderr",
     "output_type": "stream",
     "text": [
      "Epoch #11: 1025it [00:02, 400.76it/s, env_step=11264, len=8, n/ep=7, n/st=64, player_1/loss=14.974, player_2/loss=38.903, rew=82.86]\n"
     ]
    },
    {
     "name": "stdout",
     "output_type": "stream",
     "text": [
      "Epoch #11: test_reward: 88.000000 ± 0.000000, best_reward: 208.000000 ± 0.000000 in #1\n"
     ]
    },
    {
     "name": "stderr",
     "output_type": "stream",
     "text": [
      "Epoch #12: 1025it [00:02, 402.16it/s, env_step=12288, len=8, n/ep=8, n/st=64, player_1/loss=7.032, player_2/loss=19.915, rew=74.50]\n"
     ]
    },
    {
     "name": "stdout",
     "output_type": "stream",
     "text": [
      "Epoch #12: test_reward: 54.000000 ± 0.000000, best_reward: 208.000000 ± 0.000000 in #1\n"
     ]
    },
    {
     "name": "stderr",
     "output_type": "stream",
     "text": [
      "Epoch #13: 1025it [00:02, 391.79it/s, env_step=13312, len=8, n/ep=8, n/st=64, player_1/loss=5.308, player_2/loss=10.867, rew=75.25]\n"
     ]
    },
    {
     "name": "stdout",
     "output_type": "stream",
     "text": [
      "Epoch #13: test_reward: 54.000000 ± 0.000000, best_reward: 208.000000 ± 0.000000 in #1\n"
     ]
    },
    {
     "name": "stderr",
     "output_type": "stream",
     "text": [
      "Epoch #14: 1025it [00:02, 370.46it/s, env_step=14336, len=7, n/ep=8, n/st=64, player_1/loss=4.559, player_2/loss=22.055, rew=66.50]\n"
     ]
    },
    {
     "name": "stdout",
     "output_type": "stream",
     "text": [
      "Epoch #14: test_reward: 54.000000 ± 0.000000, best_reward: 208.000000 ± 0.000000 in #1\n"
     ]
    },
    {
     "name": "stderr",
     "output_type": "stream",
     "text": [
      "Epoch #15: 1025it [00:02, 355.80it/s, env_step=15360, len=8, n/ep=7, n/st=64, player_1/loss=3.970, player_2/loss=28.968, rew=90.86]\n"
     ]
    },
    {
     "name": "stdout",
     "output_type": "stream",
     "text": [
      "Epoch #15: test_reward: 70.000000 ± 0.000000, best_reward: 208.000000 ± 0.000000 in #1\n"
     ]
    },
    {
     "name": "stderr",
     "output_type": "stream",
     "text": [
      "Epoch #16: 1025it [00:02, 347.75it/s, env_step=16384, len=9, n/ep=7, n/st=64, player_1/loss=6.560, player_2/loss=11.298, rew=101.71]\n"
     ]
    },
    {
     "name": "stdout",
     "output_type": "stream",
     "text": [
      "Epoch #16: test_reward: 70.000000 ± 0.000000, best_reward: 208.000000 ± 0.000000 in #1\n"
     ]
    },
    {
     "name": "stderr",
     "output_type": "stream",
     "text": [
      "Epoch #17: 1025it [00:02, 348.56it/s, env_step=17408, len=9, n/ep=7, n/st=64, player_1/loss=8.259, player_2/loss=26.224, rew=93.43]\n"
     ]
    },
    {
     "name": "stdout",
     "output_type": "stream",
     "text": [
      "Epoch #17: test_reward: 54.000000 ± 0.000000, best_reward: 208.000000 ± 0.000000 in #1\n"
     ]
    },
    {
     "name": "stderr",
     "output_type": "stream",
     "text": [
      "Epoch #18: 1025it [00:02, 361.56it/s, env_step=18432, len=8, n/ep=8, n/st=64, player_1/loss=7.408, player_2/loss=24.153, rew=73.25]\n"
     ]
    },
    {
     "name": "stdout",
     "output_type": "stream",
     "text": [
      "Epoch #18: test_reward: 54.000000 ± 0.000000, best_reward: 208.000000 ± 0.000000 in #1\n"
     ]
    },
    {
     "name": "stderr",
     "output_type": "stream",
     "text": [
      "Epoch #19: 1025it [00:02, 383.42it/s, env_step=19456, len=9, n/ep=7, n/st=64, player_1/loss=6.304, player_2/loss=26.410, rew=104.29]\n"
     ]
    },
    {
     "name": "stdout",
     "output_type": "stream",
     "text": [
      "Epoch #19: test_reward: 180.000000 ± 0.000000, best_reward: 208.000000 ± 0.000000 in #1\n"
     ]
    },
    {
     "name": "stderr",
     "output_type": "stream",
     "text": [
      "Epoch #20: 1025it [00:02, 364.31it/s, env_step=20480, len=10, n/ep=6, n/st=64, player_1/loss=9.391, player_2/loss=21.527, rew=157.67]\n"
     ]
    },
    {
     "name": "stdout",
     "output_type": "stream",
     "text": [
      "Epoch #20: test_reward: 70.000000 ± 0.000000, best_reward: 208.000000 ± 0.000000 in #1\n"
     ]
    },
    {
     "name": "stderr",
     "output_type": "stream",
     "text": [
      "Epoch #21: 1025it [00:02, 372.17it/s, env_step=21504, len=8, n/ep=8, n/st=64, player_1/loss=11.246, player_2/loss=35.687, rew=71.75]\n"
     ]
    },
    {
     "name": "stdout",
     "output_type": "stream",
     "text": [
      "Epoch #21: test_reward: 54.000000 ± 0.000000, best_reward: 208.000000 ± 0.000000 in #1\n"
     ]
    },
    {
     "name": "stderr",
     "output_type": "stream",
     "text": [
      "Epoch #22: 1025it [00:03, 336.70it/s, env_step=22528, len=15, n/ep=4, n/st=64, player_1/loss=8.752, player_2/loss=27.645, rew=247.50]\n"
     ]
    },
    {
     "name": "stdout",
     "output_type": "stream",
     "text": [
      "Epoch #22: test_reward: 270.000000 ± 0.000000, best_reward: 270.000000 ± 0.000000 in #22\n"
     ]
    },
    {
     "name": "stderr",
     "output_type": "stream",
     "text": [
      "Epoch #23: 1025it [00:02, 381.02it/s, env_step=23552, len=20, n/ep=2, n/st=64, player_1/loss=21.716, player_2/loss=62.329, rew=419.00]\n"
     ]
    },
    {
     "name": "stdout",
     "output_type": "stream",
     "text": [
      "Epoch #23: test_reward: 54.000000 ± 0.000000, best_reward: 270.000000 ± 0.000000 in #22\n"
     ]
    },
    {
     "name": "stderr",
     "output_type": "stream",
     "text": [
      "Epoch #24: 1025it [00:02, 377.19it/s, env_step=24576, len=8, n/ep=8, n/st=64, player_1/loss=26.648, player_2/loss=37.218, rew=80.50]\n"
     ]
    },
    {
     "name": "stdout",
     "output_type": "stream",
     "text": [
      "Epoch #24: test_reward: 54.000000 ± 0.000000, best_reward: 270.000000 ± 0.000000 in #22\n"
     ]
    },
    {
     "name": "stderr",
     "output_type": "stream",
     "text": [
      "Epoch #25: 1025it [00:02, 349.65it/s, env_step=25600, len=29, n/ep=2, n/st=64, player_1/loss=38.071, player_2/loss=48.160, rew=868.00]\n"
     ]
    },
    {
     "name": "stdout",
     "output_type": "stream",
     "text": [
      "Epoch #25: test_reward: 1258.000000 ± 0.000000, best_reward: 1258.000000 ± 0.000000 in #25\n"
     ]
    },
    {
     "name": "stderr",
     "output_type": "stream",
     "text": [
      "Epoch #26: 1025it [00:03, 332.33it/s, env_step=26624, len=8, n/ep=8, n/st=64, player_1/loss=47.617, player_2/loss=40.659, rew=80.50]\n"
     ]
    },
    {
     "name": "stdout",
     "output_type": "stream",
     "text": [
      "Epoch #26: test_reward: 54.000000 ± 0.000000, best_reward: 1258.000000 ± 0.000000 in #25\n"
     ]
    },
    {
     "name": "stderr",
     "output_type": "stream",
     "text": [
      "Epoch #27: 1025it [00:02, 370.41it/s, env_step=27648, len=22, n/ep=2, n/st=64, player_1/loss=86.806, player_2/loss=104.539, rew=553.00]\n"
     ]
    },
    {
     "name": "stdout",
     "output_type": "stream",
     "text": [
      "Epoch #27: test_reward: 810.000000 ± 0.000000, best_reward: 1258.000000 ± 0.000000 in #25\n"
     ]
    },
    {
     "name": "stderr",
     "output_type": "stream",
     "text": [
      "Epoch #28: 1025it [00:03, 329.68it/s, env_step=28672, len=23, n/ep=3, n/st=64, player_1/loss=105.022, player_2/loss=146.775, rew=584.67]\n"
     ]
    },
    {
     "name": "stdout",
     "output_type": "stream",
     "text": [
      "Epoch #28: test_reward: 54.000000 ± 0.000000, best_reward: 1258.000000 ± 0.000000 in #25\n"
     ]
    },
    {
     "name": "stderr",
     "output_type": "stream",
     "text": [
      "Epoch #29: 1025it [00:03, 314.45it/s, env_step=29696, len=16, n/ep=3, n/st=64, player_1/loss=138.739, player_2/loss=165.071, rew=296.00]\n"
     ]
    },
    {
     "name": "stdout",
     "output_type": "stream",
     "text": [
      "Epoch #29: test_reward: 504.000000 ± 0.000000, best_reward: 1258.000000 ± 0.000000 in #25\n"
     ]
    },
    {
     "name": "stderr",
     "output_type": "stream",
     "text": [
      "Epoch #30: 1025it [00:03, 316.62it/s, env_step=30720, len=30, n/ep=2, n/st=64, player_1/loss=118.681, player_2/loss=127.823, rew=971.00]\n"
     ]
    },
    {
     "name": "stdout",
     "output_type": "stream",
     "text": [
      "Epoch #30: test_reward: 1054.000000 ± 0.000000, best_reward: 1258.000000 ± 0.000000 in #25\n"
     ]
    },
    {
     "name": "stderr",
     "output_type": "stream",
     "text": [
      "Epoch #31: 1025it [00:02, 373.91it/s, env_step=31744, len=21, n/ep=3, n/st=64, player_1/loss=178.745, player_2/loss=164.150, rew=570.00]\n"
     ]
    },
    {
     "name": "stdout",
     "output_type": "stream",
     "text": [
      "Epoch #31: test_reward: 810.000000 ± 0.000000, best_reward: 1258.000000 ± 0.000000 in #25\n"
     ]
    },
    {
     "name": "stderr",
     "output_type": "stream",
     "text": [
      "Epoch #32: 1025it [00:02, 373.49it/s, env_step=32768, len=15, n/ep=4, n/st=64, player_1/loss=137.575, player_2/loss=340.334, rew=267.50]\n"
     ]
    },
    {
     "name": "stdout",
     "output_type": "stream",
     "text": [
      "Epoch #32: test_reward: 550.000000 ± 0.000000, best_reward: 1258.000000 ± 0.000000 in #25\n"
     ]
    },
    {
     "name": "stderr",
     "output_type": "stream",
     "text": [
      "Epoch #33: 1025it [00:02, 385.71it/s, env_step=33792, len=20, n/ep=3, n/st=64, player_1/loss=194.966, player_2/loss=291.368, rew=433.33]\n"
     ]
    },
    {
     "name": "stdout",
     "output_type": "stream",
     "text": [
      "Epoch #33: test_reward: 754.000000 ± 0.000000, best_reward: 1258.000000 ± 0.000000 in #25\n"
     ]
    },
    {
     "name": "stderr",
     "output_type": "stream",
     "text": [
      "Epoch #34: 1025it [00:02, 365.81it/s, env_step=34816, len=13, n/ep=6, n/st=64, player_1/loss=218.221, player_2/loss=299.618, rew=257.33]\n"
     ]
    },
    {
     "name": "stdout",
     "output_type": "stream",
     "text": [
      "Epoch #34: test_reward: 54.000000 ± 0.000000, best_reward: 1258.000000 ± 0.000000 in #25\n"
     ]
    },
    {
     "name": "stderr",
     "output_type": "stream",
     "text": [
      "Epoch #35: 1025it [00:03, 317.74it/s, env_step=35840, len=34, n/ep=2, n/st=64, player_1/loss=146.722, player_2/loss=452.034, rew=1225.00]\n"
     ]
    },
    {
     "name": "stdout",
     "output_type": "stream",
     "text": [
      "Epoch #35: test_reward: 460.000000 ± 0.000000, best_reward: 1258.000000 ± 0.000000 in #25\n"
     ]
    },
    {
     "name": "stderr",
     "output_type": "stream",
     "text": [
      "Epoch #36: 1025it [00:03, 319.19it/s, env_step=36864, len=16, n/ep=4, n/st=64, player_1/loss=230.059, player_2/loss=255.170, rew=289.00]\n"
     ]
    },
    {
     "name": "stdout",
     "output_type": "stream",
     "text": [
      "Epoch #36: test_reward: 238.000000 ± 0.000000, best_reward: 1258.000000 ± 0.000000 in #25\n"
     ]
    },
    {
     "name": "stderr",
     "output_type": "stream",
     "text": [
      "Epoch #37: 1025it [00:03, 313.67it/s, env_step=37888, len=26, n/ep=3, n/st=64, player_1/loss=254.363, player_2/loss=393.367, rew=738.67]\n"
     ]
    },
    {
     "name": "stdout",
     "output_type": "stream",
     "text": [
      "Epoch #37: test_reward: 700.000000 ± 0.000000, best_reward: 1258.000000 ± 0.000000 in #25\n"
     ]
    },
    {
     "name": "stderr",
     "output_type": "stream",
     "text": [
      "Epoch #38: 1025it [00:03, 320.40it/s, env_step=38912, len=27, n/ep=2, n/st=64, player_1/loss=195.962, player_2/loss=187.277, rew=788.00]\n"
     ]
    },
    {
     "name": "stdout",
     "output_type": "stream",
     "text": [
      "Epoch #38: test_reward: 54.000000 ± 0.000000, best_reward: 1258.000000 ± 0.000000 in #25\n"
     ]
    },
    {
     "name": "stderr",
     "output_type": "stream",
     "text": [
      "Epoch #39: 1025it [00:03, 321.86it/s, env_step=39936, len=19, n/ep=2, n/st=64, player_1/loss=94.898, player_2/loss=207.293, rew=382.00]\n"
     ]
    },
    {
     "name": "stdout",
     "output_type": "stream",
     "text": [
      "Epoch #39: test_reward: 54.000000 ± 0.000000, best_reward: 1258.000000 ± 0.000000 in #25\n"
     ]
    },
    {
     "name": "stderr",
     "output_type": "stream",
     "text": [
      "Epoch #40: 1025it [00:03, 318.51it/s, env_step=40960, len=26, n/ep=3, n/st=64, player_1/loss=187.363, player_2/loss=287.153, rew=737.33]\n"
     ]
    },
    {
     "name": "stdout",
     "output_type": "stream",
     "text": [
      "Epoch #40: test_reward: 754.000000 ± 0.000000, best_reward: 1258.000000 ± 0.000000 in #25\n"
     ]
    },
    {
     "name": "stderr",
     "output_type": "stream",
     "text": [
      "Epoch #41: 1025it [00:04, 218.37it/s, env_step=41984, len=32, n/ep=2, n/st=64, player_1/loss=278.671, player_2/loss=325.816, rew=1107.00]\n"
     ]
    },
    {
     "name": "stdout",
     "output_type": "stream",
     "text": [
      "Epoch #41: test_reward: 1188.000000 ± 0.000000, best_reward: 1258.000000 ± 0.000000 in #25\n"
     ]
    },
    {
     "name": "stderr",
     "output_type": "stream",
     "text": [
      "Epoch #42: 1025it [00:04, 233.97it/s, env_step=43008, len=21, n/ep=3, n/st=64, player_1/loss=75.227, player_2/loss=298.221, rew=557.33]\n"
     ]
    },
    {
     "name": "stdout",
     "output_type": "stream",
     "text": [
      "Epoch #42: test_reward: 154.000000 ± 0.000000, best_reward: 1258.000000 ± 0.000000 in #25\n"
     ]
    },
    {
     "name": "stderr",
     "output_type": "stream",
     "text": [
      "Epoch #43: 1025it [00:04, 228.26it/s, env_step=44032, len=28, n/ep=2, n/st=64, player_1/loss=273.379, player_2/loss=267.048, rew=859.00]\n"
     ]
    },
    {
     "name": "stdout",
     "output_type": "stream",
     "text": [
      "Epoch #43: test_reward: 418.000000 ± 0.000000, best_reward: 1258.000000 ± 0.000000 in #25\n"
     ]
    },
    {
     "name": "stderr",
     "output_type": "stream",
     "text": [
      "Epoch #44: 1025it [00:04, 216.05it/s, env_step=45056, len=25, n/ep=2, n/st=64, player_1/loss=163.537, player_2/loss=255.400, rew=648.00]\n"
     ]
    },
    {
     "name": "stdout",
     "output_type": "stream",
     "text": [
      "Epoch #44: test_reward: 754.000000 ± 0.000000, best_reward: 1258.000000 ± 0.000000 in #25\n"
     ]
    },
    {
     "name": "stderr",
     "output_type": "stream",
     "text": [
      "Epoch #45: 1025it [00:04, 233.44it/s, env_step=46080, len=26, n/ep=3, n/st=64, player_1/loss=150.637, player_2/loss=251.647, rew=719.33]\n"
     ]
    },
    {
     "name": "stdout",
     "output_type": "stream",
     "text": [
      "Epoch #45: test_reward: 1558.000000 ± 0.000000, best_reward: 1558.000000 ± 0.000000 in #45\n"
     ]
    },
    {
     "name": "stderr",
     "output_type": "stream",
     "text": [
      "Epoch #46: 1025it [00:04, 241.48it/s, env_step=47104, len=20, n/ep=3, n/st=64, player_1/loss=160.344, player_2/loss=348.275, rew=433.33]\n"
     ]
    },
    {
     "name": "stdout",
     "output_type": "stream",
     "text": [
      "Epoch #46: test_reward: 208.000000 ± 0.000000, best_reward: 1558.000000 ± 0.000000 in #45\n"
     ]
    },
    {
     "name": "stderr",
     "output_type": "stream",
     "text": [
      "Epoch #47: 1025it [00:04, 232.83it/s, env_step=48128, len=20, n/ep=3, n/st=64, player_1/loss=94.614, player_2/loss=143.927, rew=456.67]\n"
     ]
    },
    {
     "name": "stdout",
     "output_type": "stream",
     "text": [
      "Epoch #47: test_reward: 340.000000 ± 0.000000, best_reward: 1558.000000 ± 0.000000 in #45\n"
     ]
    },
    {
     "name": "stderr",
     "output_type": "stream",
     "text": [
      "Epoch #48: 1025it [00:04, 234.08it/s, env_step=49152, len=28, n/ep=3, n/st=64, player_1/loss=200.615, player_2/loss=233.317, rew=854.00]\n"
     ]
    },
    {
     "name": "stdout",
     "output_type": "stream",
     "text": [
      "Epoch #48: test_reward: 418.000000 ± 0.000000, best_reward: 1558.000000 ± 0.000000 in #45\n"
     ]
    },
    {
     "name": "stderr",
     "output_type": "stream",
     "text": [
      "Epoch #49: 1025it [00:04, 227.80it/s, env_step=50176, len=30, n/ep=2, n/st=64, player_1/loss=279.410, player_2/loss=214.995, rew=929.00]\n"
     ]
    },
    {
     "name": "stdout",
     "output_type": "stream",
     "text": [
      "Epoch #49: test_reward: 1120.000000 ± 0.000000, best_reward: 1558.000000 ± 0.000000 in #45\n"
     ]
    },
    {
     "name": "stderr",
     "output_type": "stream",
     "text": [
      "Epoch #50: 1025it [00:04, 226.97it/s, env_step=51200, len=34, n/ep=2, n/st=64, player_1/loss=275.403, player_2/loss=376.198, rew=1294.00]\n"
     ]
    },
    {
     "name": "stdout",
     "output_type": "stream",
     "text": [
      "Epoch #50: test_reward: 270.000000 ± 0.000000, best_reward: 1558.000000 ± 0.000000 in #45\n"
     ]
    },
    {
     "name": "stderr",
     "output_type": "stream",
     "text": [
      "Epoch #51: 1025it [00:03, 279.97it/s, env_step=52224, len=28, n/ep=3, n/st=64, player_1/loss=307.969, player_2/loss=445.958, rew=812.67]\n"
     ]
    },
    {
     "name": "stdout",
     "output_type": "stream",
     "text": [
      "Epoch #51: test_reward: 598.000000 ± 0.000000, best_reward: 1558.000000 ± 0.000000 in #45\n"
     ]
    },
    {
     "name": "stderr",
     "output_type": "stream",
     "text": [
      "Epoch #52: 1025it [00:03, 271.48it/s, env_step=53248, len=20, n/ep=3, n/st=64, player_1/loss=292.496, player_2/loss=388.886, rew=452.00]\n"
     ]
    },
    {
     "name": "stdout",
     "output_type": "stream",
     "text": [
      "Epoch #52: test_reward: 460.000000 ± 0.000000, best_reward: 1558.000000 ± 0.000000 in #45\n"
     ]
    },
    {
     "name": "stderr",
     "output_type": "stream",
     "text": [
      "Epoch #53: 1025it [00:03, 268.23it/s, env_step=54272, len=25, n/ep=2, n/st=64, player_1/loss=173.313, player_2/loss=195.905, rew=657.00]\n"
     ]
    },
    {
     "name": "stdout",
     "output_type": "stream",
     "text": [
      "Epoch #53: test_reward: 754.000000 ± 0.000000, best_reward: 1558.000000 ± 0.000000 in #45\n"
     ]
    },
    {
     "name": "stderr",
     "output_type": "stream",
     "text": [
      "Epoch #54: 1025it [00:03, 279.05it/s, env_step=55296, len=16, n/ep=3, n/st=64, player_1/loss=218.372, player_2/loss=213.254, rew=274.67]\n"
     ]
    },
    {
     "name": "stdout",
     "output_type": "stream",
     "text": [
      "Epoch #54: test_reward: 208.000000 ± 0.000000, best_reward: 1558.000000 ± 0.000000 in #45\n"
     ]
    },
    {
     "name": "stderr",
     "output_type": "stream",
     "text": [
      "Epoch #55: 1025it [00:03, 278.03it/s, env_step=56320, len=35, n/ep=2, n/st=64, player_1/loss=251.534, player_2/loss=276.115, rew=1294.00]\n"
     ]
    },
    {
     "name": "stdout",
     "output_type": "stream",
     "text": [
      "Epoch #55: test_reward: 1258.000000 ± 0.000000, best_reward: 1558.000000 ± 0.000000 in #45\n"
     ]
    },
    {
     "name": "stderr",
     "output_type": "stream",
     "text": [
      "Epoch #56: 1025it [00:03, 278.48it/s, env_step=57344, len=30, n/ep=2, n/st=64, player_1/loss=216.922, player_2/loss=271.973, rew=971.00]\n"
     ]
    },
    {
     "name": "stdout",
     "output_type": "stream",
     "text": [
      "Epoch #56: test_reward: 238.000000 ± 0.000000, best_reward: 1558.000000 ± 0.000000 in #45\n"
     ]
    },
    {
     "name": "stderr",
     "output_type": "stream",
     "text": [
      "Epoch #57: 1025it [00:03, 277.75it/s, env_step=58368, len=14, n/ep=4, n/st=64, player_1/loss=224.808, player_2/loss=274.538, rew=233.50]\n"
     ]
    },
    {
     "name": "stdout",
     "output_type": "stream",
     "text": [
      "Epoch #57: test_reward: 378.000000 ± 0.000000, best_reward: 1558.000000 ± 0.000000 in #45\n"
     ]
    },
    {
     "name": "stderr",
     "output_type": "stream",
     "text": [
      "Epoch #58: 1025it [00:03, 277.44it/s, env_step=59392, len=15, n/ep=4, n/st=64, player_1/loss=501.106, player_2/loss=108.669, rew=258.00]\n"
     ]
    },
    {
     "name": "stdout",
     "output_type": "stream",
     "text": [
      "Epoch #58: test_reward: 180.000000 ± 0.000000, best_reward: 1558.000000 ± 0.000000 in #45\n"
     ]
    },
    {
     "name": "stderr",
     "output_type": "stream",
     "text": [
      "Epoch #59: 1025it [00:03, 279.27it/s, env_step=60416, len=23, n/ep=3, n/st=64, player_1/loss=257.015, player_2/loss=281.266, rew=586.00]\n"
     ]
    },
    {
     "name": "stdout",
     "output_type": "stream",
     "text": [
      "Epoch #59: test_reward: 1404.000000 ± 0.000000, best_reward: 1558.000000 ± 0.000000 in #45\n"
     ]
    },
    {
     "name": "stderr",
     "output_type": "stream",
     "text": [
      "Epoch #60: 1025it [00:03, 281.06it/s, env_step=61440, len=22, n/ep=3, n/st=64, player_1/loss=372.525, player_2/loss=174.691, rew=557.33]\n"
     ]
    },
    {
     "name": "stdout",
     "output_type": "stream",
     "text": [
      "Epoch #60: test_reward: 700.000000 ± 0.000000, best_reward: 1558.000000 ± 0.000000 in #45\n"
     ]
    },
    {
     "name": "stderr",
     "output_type": "stream",
     "text": [
      "Epoch #61: 1025it [00:03, 278.19it/s, env_step=62464, len=36, n/ep=2, n/st=64, player_1/loss=303.480, player_2/loss=454.830, rew=1339.00]\n"
     ]
    },
    {
     "name": "stdout",
     "output_type": "stream",
     "text": [
      "Epoch #61: test_reward: 1054.000000 ± 0.000000, best_reward: 1558.000000 ± 0.000000 in #45\n"
     ]
    },
    {
     "name": "stderr",
     "output_type": "stream",
     "text": [
      "Epoch #62: 1025it [00:03, 277.77it/s, env_step=63488, len=36, n/ep=2, n/st=64, player_1/loss=424.465, player_2/loss=79.139, rew=1331.00]\n"
     ]
    },
    {
     "name": "stdout",
     "output_type": "stream",
     "text": [
      "Epoch #62: test_reward: 1258.000000 ± 0.000000, best_reward: 1558.000000 ± 0.000000 in #45\n"
     ]
    },
    {
     "name": "stderr",
     "output_type": "stream",
     "text": [
      "Epoch #63: 1025it [00:03, 279.33it/s, env_step=64512, len=22, n/ep=2, n/st=64, player_1/loss=667.493, player_2/loss=207.181, rew=505.00]\n"
     ]
    },
    {
     "name": "stdout",
     "output_type": "stream",
     "text": [
      "Epoch #63: test_reward: 460.000000 ± 0.000000, best_reward: 1558.000000 ± 0.000000 in #45\n"
     ]
    },
    {
     "name": "stderr",
     "output_type": "stream",
     "text": [
      "Epoch #64: 1025it [00:03, 279.14it/s, env_step=65536, len=22, n/ep=3, n/st=64, player_1/loss=277.674, player_2/loss=282.575, rew=535.33]\n"
     ]
    },
    {
     "name": "stdout",
     "output_type": "stream",
     "text": [
      "Epoch #64: test_reward: 598.000000 ± 0.000000, best_reward: 1558.000000 ± 0.000000 in #45\n"
     ]
    },
    {
     "name": "stderr",
     "output_type": "stream",
     "text": [
      "Epoch #65: 1025it [00:03, 280.12it/s, env_step=66560, len=26, n/ep=3, n/st=64, player_1/loss=560.880, player_2/loss=439.226, rew=789.33]\n"
     ]
    },
    {
     "name": "stdout",
     "output_type": "stream",
     "text": [
      "Epoch #65: test_reward: 1054.000000 ± 0.000000, best_reward: 1558.000000 ± 0.000000 in #45\n"
     ]
    },
    {
     "name": "stderr",
     "output_type": "stream",
     "text": [
      "Epoch #66: 1025it [00:03, 268.75it/s, env_step=67584, len=21, n/ep=4, n/st=64, player_1/loss=237.289, player_2/loss=625.447, rew=489.50]\n"
     ]
    },
    {
     "name": "stdout",
     "output_type": "stream",
     "text": [
      "Epoch #66: test_reward: 700.000000 ± 0.000000, best_reward: 1558.000000 ± 0.000000 in #45\n"
     ]
    },
    {
     "name": "stderr",
     "output_type": "stream",
     "text": [
      "Epoch #67: 1025it [00:03, 271.59it/s, env_step=68608, len=29, n/ep=3, n/st=64, player_1/loss=384.610, player_2/loss=405.861, rew=964.00]\n"
     ]
    },
    {
     "name": "stdout",
     "output_type": "stream",
     "text": [
      "Epoch #67: test_reward: 460.000000 ± 0.000000, best_reward: 1558.000000 ± 0.000000 in #45\n"
     ]
    },
    {
     "name": "stderr",
     "output_type": "stream",
     "text": [
      "Epoch #68: 1025it [00:03, 271.37it/s, env_step=69632, len=23, n/ep=3, n/st=64, player_1/loss=171.757, player_2/loss=462.960, rew=591.33]\n"
     ]
    },
    {
     "name": "stdout",
     "output_type": "stream",
     "text": [
      "Epoch #68: test_reward: 648.000000 ± 0.000000, best_reward: 1558.000000 ± 0.000000 in #45\n"
     ]
    },
    {
     "name": "stderr",
     "output_type": "stream",
     "text": [
      "Epoch #69: 1025it [00:03, 284.91it/s, env_step=70656, len=26, n/ep=3, n/st=64, player_1/loss=333.526, player_2/loss=299.509, rew=700.67]\n"
     ]
    },
    {
     "name": "stdout",
     "output_type": "stream",
     "text": [
      "Epoch #69: test_reward: 1480.000000 ± 0.000000, best_reward: 1558.000000 ± 0.000000 in #45\n"
     ]
    },
    {
     "name": "stderr",
     "output_type": "stream",
     "text": [
      "Epoch #70: 1025it [00:05, 177.39it/s, env_step=71680, len=15, n/ep=4, n/st=64, player_1/loss=327.434, player_2/loss=475.010, rew=247.50]\n"
     ]
    },
    {
     "name": "stdout",
     "output_type": "stream",
     "text": [
      "Epoch #70: test_reward: 1188.000000 ± 0.000000, best_reward: 1558.000000 ± 0.000000 in #45\n"
     ]
    },
    {
     "name": "stderr",
     "output_type": "stream",
     "text": [
      "Epoch #71: 1025it [00:04, 218.71it/s, env_step=72704, len=21, n/ep=3, n/st=64, player_1/loss=414.478, player_2/loss=302.704, rew=477.33]\n"
     ]
    },
    {
     "name": "stdout",
     "output_type": "stream",
     "text": [
      "Epoch #71: test_reward: 378.000000 ± 0.000000, best_reward: 1558.000000 ± 0.000000 in #45\n"
     ]
    },
    {
     "name": "stderr",
     "output_type": "stream",
     "text": [
      "Epoch #72: 1025it [00:05, 175.52it/s, env_step=73728, len=28, n/ep=3, n/st=64, player_1/loss=341.081, player_2/loss=437.056, rew=814.67]\n"
     ]
    },
    {
     "name": "stdout",
     "output_type": "stream",
     "text": [
      "Epoch #72: test_reward: 1188.000000 ± 0.000000, best_reward: 1558.000000 ± 0.000000 in #45\n"
     ]
    },
    {
     "name": "stderr",
     "output_type": "stream",
     "text": [
      "Epoch #73: 1025it [00:05, 200.13it/s, env_step=74752, len=13, n/ep=4, n/st=64, player_1/loss=503.595, player_2/loss=156.685, rew=195.00]\n"
     ]
    },
    {
     "name": "stdout",
     "output_type": "stream",
     "text": [
      "Epoch #73: test_reward: 180.000000 ± 0.000000, best_reward: 1558.000000 ± 0.000000 in #45\n"
     ]
    },
    {
     "name": "stderr",
     "output_type": "stream",
     "text": [
      "Epoch #74: 1025it [00:05, 203.44it/s, env_step=75776, len=18, n/ep=3, n/st=64, player_1/loss=217.211, player_2/loss=362.135, rew=355.33]\n"
     ]
    },
    {
     "name": "stdout",
     "output_type": "stream",
     "text": [
      "Epoch #74: test_reward: 208.000000 ± 0.000000, best_reward: 1558.000000 ± 0.000000 in #45\n"
     ]
    },
    {
     "name": "stderr",
     "output_type": "stream",
     "text": [
      "Epoch #75: 1025it [00:05, 194.35it/s, env_step=76800, len=14, n/ep=4, n/st=64, player_1/loss=229.275, player_2/loss=308.374, rew=208.50]\n"
     ]
    },
    {
     "name": "stdout",
     "output_type": "stream",
     "text": [
      "Epoch #75: test_reward: 180.000000 ± 0.000000, best_reward: 1558.000000 ± 0.000000 in #45\n"
     ]
    },
    {
     "name": "stderr",
     "output_type": "stream",
     "text": [
      "Epoch #76: 1025it [00:04, 223.15it/s, env_step=77824, len=15, n/ep=5, n/st=64, player_1/loss=153.664, player_2/loss=175.155, rew=241.20]\n"
     ]
    },
    {
     "name": "stdout",
     "output_type": "stream",
     "text": [
      "Epoch #76: test_reward: 208.000000 ± 0.000000, best_reward: 1558.000000 ± 0.000000 in #45\n"
     ]
    },
    {
     "name": "stderr",
     "output_type": "stream",
     "text": [
      "Epoch #77: 1025it [00:04, 221.94it/s, env_step=78848, len=14, n/ep=4, n/st=64, player_1/loss=126.502, player_2/loss=198.480, rew=227.00]\n"
     ]
    },
    {
     "name": "stdout",
     "output_type": "stream",
     "text": [
      "Epoch #77: test_reward: 154.000000 ± 0.000000, best_reward: 1558.000000 ± 0.000000 in #45\n"
     ]
    },
    {
     "name": "stderr",
     "output_type": "stream",
     "text": [
      "Epoch #78: 1025it [00:04, 217.97it/s, env_step=79872, len=19, n/ep=4, n/st=64, player_1/loss=133.947, player_2/loss=405.446, rew=426.00]\n"
     ]
    },
    {
     "name": "stdout",
     "output_type": "stream",
     "text": [
      "Epoch #78: test_reward: 180.000000 ± 0.000000, best_reward: 1558.000000 ± 0.000000 in #45\n"
     ]
    },
    {
     "name": "stderr",
     "output_type": "stream",
     "text": [
      "Epoch #79: 1025it [00:04, 217.24it/s, env_step=80896, len=14, n/ep=4, n/st=64, player_1/loss=212.135, player_2/loss=195.913, rew=215.50]\n"
     ]
    },
    {
     "name": "stdout",
     "output_type": "stream",
     "text": [
      "Epoch #79: test_reward: 180.000000 ± 0.000000, best_reward: 1558.000000 ± 0.000000 in #45\n"
     ]
    },
    {
     "name": "stderr",
     "output_type": "stream",
     "text": [
      "Epoch #80: 1025it [00:04, 219.03it/s, env_step=81920, len=25, n/ep=3, n/st=64, player_1/loss=194.979, player_2/loss=274.310, rew=648.67]\n"
     ]
    },
    {
     "name": "stdout",
     "output_type": "stream",
     "text": [
      "Epoch #80: test_reward: 1188.000000 ± 0.000000, best_reward: 1558.000000 ± 0.000000 in #45\n"
     ]
    },
    {
     "name": "stderr",
     "output_type": "stream",
     "text": [
      "Epoch #81: 1025it [00:05, 202.67it/s, env_step=82944, len=14, n/ep=4, n/st=64, player_1/loss=256.500, player_2/loss=255.460, rew=223.50]\n"
     ]
    },
    {
     "name": "stdout",
     "output_type": "stream",
     "text": [
      "Epoch #81: test_reward: 1054.000000 ± 0.000000, best_reward: 1558.000000 ± 0.000000 in #45\n"
     ]
    },
    {
     "name": "stderr",
     "output_type": "stream",
     "text": [
      "Epoch #82: 1025it [00:05, 197.30it/s, env_step=83968, len=15, n/ep=4, n/st=64, player_1/loss=265.850, player_2/loss=245.213, rew=238.50]\n"
     ]
    },
    {
     "name": "stdout",
     "output_type": "stream",
     "text": [
      "Epoch #82: test_reward: 810.000000 ± 0.000000, best_reward: 1558.000000 ± 0.000000 in #45\n"
     ]
    },
    {
     "name": "stderr",
     "output_type": "stream",
     "text": [
      "Epoch #83: 1025it [00:04, 231.60it/s, env_step=84992, len=32, n/ep=2, n/st=64, player_1/loss=173.671, player_2/loss=232.993, rew=1103.00]\n"
     ]
    },
    {
     "name": "stdout",
     "output_type": "stream",
     "text": [
      "Epoch #83: test_reward: 180.000000 ± 0.000000, best_reward: 1558.000000 ± 0.000000 in #45\n"
     ]
    },
    {
     "name": "stderr",
     "output_type": "stream",
     "text": [
      "Epoch #84: 1025it [00:04, 243.32it/s, env_step=86016, len=17, n/ep=4, n/st=64, player_1/loss=212.129, player_2/loss=265.381, rew=331.50]\n"
     ]
    },
    {
     "name": "stdout",
     "output_type": "stream",
     "text": [
      "Epoch #84: test_reward: 130.000000 ± 0.000000, best_reward: 1558.000000 ± 0.000000 in #45\n"
     ]
    },
    {
     "name": "stderr",
     "output_type": "stream",
     "text": [
      "Epoch #85: 1025it [00:04, 235.40it/s, env_step=87040, len=25, n/ep=2, n/st=64, player_1/loss=211.720, player_2/loss=204.443, rew=673.00]\n"
     ]
    },
    {
     "name": "stdout",
     "output_type": "stream",
     "text": [
      "Epoch #85: test_reward: 460.000000 ± 0.000000, best_reward: 1558.000000 ± 0.000000 in #45\n"
     ]
    },
    {
     "name": "stderr",
     "output_type": "stream",
     "text": [
      "Epoch #86: 1025it [00:04, 220.56it/s, env_step=88064, len=27, n/ep=2, n/st=64, player_1/loss=160.903, player_2/loss=220.733, rew=755.00]\n"
     ]
    },
    {
     "name": "stdout",
     "output_type": "stream",
     "text": [
      "Epoch #86: test_reward: 460.000000 ± 0.000000, best_reward: 1558.000000 ± 0.000000 in #45\n"
     ]
    },
    {
     "name": "stderr",
     "output_type": "stream",
     "text": [
      "Epoch #87: 1025it [00:04, 208.90it/s, env_step=89088, len=20, n/ep=3, n/st=64, player_1/loss=224.487, player_2/loss=226.245, rew=418.67]\n"
     ]
    },
    {
     "name": "stdout",
     "output_type": "stream",
     "text": [
      "Epoch #87: test_reward: 550.000000 ± 0.000000, best_reward: 1558.000000 ± 0.000000 in #45\n"
     ]
    },
    {
     "name": "stderr",
     "output_type": "stream",
     "text": [
      "Epoch #88: 1025it [00:04, 216.08it/s, env_step=90112, len=9, n/ep=6, n/st=64, player_1/loss=335.090, player_2/loss=379.364, rew=123.00]\n"
     ]
    },
    {
     "name": "stdout",
     "output_type": "stream",
     "text": [
      "Epoch #88: test_reward: 70.000000 ± 0.000000, best_reward: 1558.000000 ± 0.000000 in #45\n"
     ]
    },
    {
     "name": "stderr",
     "output_type": "stream",
     "text": [
      "Epoch #89: 1025it [00:04, 216.88it/s, env_step=91136, len=8, n/ep=8, n/st=64, player_1/loss=222.188, player_2/loss=457.158, rew=90.75]\n"
     ]
    },
    {
     "name": "stdout",
     "output_type": "stream",
     "text": [
      "Epoch #89: test_reward: 54.000000 ± 0.000000, best_reward: 1558.000000 ± 0.000000 in #45\n"
     ]
    },
    {
     "name": "stderr",
     "output_type": "stream",
     "text": [
      "Epoch #90: 1025it [00:04, 211.38it/s, env_step=92160, len=10, n/ep=7, n/st=64, player_1/loss=235.017, player_2/loss=431.294, rew=121.14]\n"
     ]
    },
    {
     "name": "stdout",
     "output_type": "stream",
     "text": [
      "Epoch #90: test_reward: 54.000000 ± 0.000000, best_reward: 1558.000000 ± 0.000000 in #45\n"
     ]
    },
    {
     "name": "stderr",
     "output_type": "stream",
     "text": [
      "Epoch #91: 1025it [00:04, 205.22it/s, env_step=93184, len=15, n/ep=4, n/st=64, player_1/loss=221.892, player_2/loss=335.246, rew=248.00]\n"
     ]
    },
    {
     "name": "stdout",
     "output_type": "stream",
     "text": [
      "Epoch #91: test_reward: 238.000000 ± 0.000000, best_reward: 1558.000000 ± 0.000000 in #45\n"
     ]
    },
    {
     "name": "stderr",
     "output_type": "stream",
     "text": [
      "Epoch #92: 1025it [00:05, 201.28it/s, env_step=94208, len=19, n/ep=3, n/st=64, player_1/loss=212.985, player_2/loss=212.554, rew=428.67]\n"
     ]
    },
    {
     "name": "stdout",
     "output_type": "stream",
     "text": [
      "Epoch #92: test_reward: 238.000000 ± 0.000000, best_reward: 1558.000000 ± 0.000000 in #45\n"
     ]
    },
    {
     "name": "stderr",
     "output_type": "stream",
     "text": [
      "Epoch #93: 1025it [00:04, 221.68it/s, env_step=95232, len=14, n/ep=4, n/st=64, player_1/loss=211.365, player_2/loss=287.050, rew=232.50]\n"
     ]
    },
    {
     "name": "stdout",
     "output_type": "stream",
     "text": [
      "Epoch #93: test_reward: 88.000000 ± 0.000000, best_reward: 1558.000000 ± 0.000000 in #45\n"
     ]
    },
    {
     "name": "stderr",
     "output_type": "stream",
     "text": [
      "Epoch #94: 1025it [00:04, 223.04it/s, env_step=96256, len=25, n/ep=2, n/st=64, player_1/loss=156.663, player_2/loss=347.514, rew=676.00]\n"
     ]
    },
    {
     "name": "stdout",
     "output_type": "stream",
     "text": [
      "Epoch #94: test_reward: 598.000000 ± 0.000000, best_reward: 1558.000000 ± 0.000000 in #45\n"
     ]
    },
    {
     "name": "stderr",
     "output_type": "stream",
     "text": [
      "Epoch #95: 1025it [00:04, 221.88it/s, env_step=97280, len=22, n/ep=3, n/st=64, player_1/loss=226.121, player_2/loss=422.899, rew=562.67]\n"
     ]
    },
    {
     "name": "stdout",
     "output_type": "stream",
     "text": [
      "Epoch #95: test_reward: 1188.000000 ± 0.000000, best_reward: 1558.000000 ± 0.000000 in #45\n"
     ]
    },
    {
     "name": "stderr",
     "output_type": "stream",
     "text": [
      "Epoch #96: 1025it [00:04, 208.92it/s, env_step=98304, len=21, n/ep=4, n/st=64, player_1/loss=209.736, player_2/loss=538.584, rew=519.50]\n"
     ]
    },
    {
     "name": "stdout",
     "output_type": "stream",
     "text": [
      "Epoch #96: test_reward: 340.000000 ± 0.000000, best_reward: 1558.000000 ± 0.000000 in #45\n"
     ]
    },
    {
     "name": "stderr",
     "output_type": "stream",
     "text": [
      "Epoch #97: 1025it [00:04, 244.58it/s, env_step=99328, len=32, n/ep=2, n/st=64, player_1/loss=163.064, player_2/loss=269.881, rew=1055.00]\n"
     ]
    },
    {
     "name": "stdout",
     "output_type": "stream",
     "text": [
      "Epoch #97: test_reward: 1054.000000 ± 0.000000, best_reward: 1558.000000 ± 0.000000 in #45\n"
     ]
    },
    {
     "name": "stderr",
     "output_type": "stream",
     "text": [
      "Epoch #98: 1025it [00:03, 273.48it/s, env_step=100352, len=30, n/ep=2, n/st=64, player_1/loss=206.825, player_2/loss=410.042, rew=959.00]\n"
     ]
    },
    {
     "name": "stdout",
     "output_type": "stream",
     "text": [
      "Epoch #98: test_reward: 928.000000 ± 0.000000, best_reward: 1558.000000 ± 0.000000 in #45\n"
     ]
    },
    {
     "name": "stderr",
     "output_type": "stream",
     "text": [
      "Epoch #99: 1025it [00:04, 255.54it/s, env_step=101376, len=28, n/ep=2, n/st=64, player_1/loss=146.235, player_2/loss=513.376, rew=841.00]\n"
     ]
    },
    {
     "name": "stdout",
     "output_type": "stream",
     "text": [
      "Epoch #99: test_reward: 754.000000 ± 0.000000, best_reward: 1558.000000 ± 0.000000 in #45\n"
     ]
    },
    {
     "name": "stderr",
     "output_type": "stream",
     "text": [
      "Epoch #100: 1025it [00:04, 253.90it/s, env_step=102400, len=29, n/ep=2, n/st=64, player_1/loss=293.763, player_2/loss=687.785, rew=904.00]\n"
     ]
    },
    {
     "name": "stdout",
     "output_type": "stream",
     "text": [
      "Epoch #100: test_reward: 270.000000 ± 0.000000, best_reward: 1558.000000 ± 0.000000 in #45\n"
     ]
    },
    {
     "name": "stderr",
     "output_type": "stream",
     "text": [
      "Epoch #101: 1025it [00:03, 260.67it/s, env_step=103424, len=22, n/ep=3, n/st=64, player_1/loss=272.698, player_2/loss=321.931, rew=581.33]\n"
     ]
    },
    {
     "name": "stdout",
     "output_type": "stream",
     "text": [
      "Epoch #101: test_reward: 238.000000 ± 0.000000, best_reward: 1558.000000 ± 0.000000 in #45\n"
     ]
    },
    {
     "name": "stderr",
     "output_type": "stream",
     "text": [
      "Epoch #102: 1025it [00:03, 265.89it/s, env_step=104448, len=31, n/ep=2, n/st=64, player_1/loss=84.700, player_2/loss=356.358, rew=991.00]\n"
     ]
    },
    {
     "name": "stdout",
     "output_type": "stream",
     "text": [
      "Epoch #102: test_reward: 754.000000 ± 0.000000, best_reward: 1558.000000 ± 0.000000 in #45\n"
     ]
    },
    {
     "name": "stderr",
     "output_type": "stream",
     "text": [
      "Epoch #103: 1025it [00:03, 261.61it/s, env_step=105472, len=34, n/ep=1, n/st=64, player_1/loss=165.996, player_2/loss=530.113, rew=1188.00]\n"
     ]
    },
    {
     "name": "stdout",
     "output_type": "stream",
     "text": [
      "Epoch #103: test_reward: 1258.000000 ± 0.000000, best_reward: 1558.000000 ± 0.000000 in #45\n"
     ]
    },
    {
     "name": "stderr",
     "output_type": "stream",
     "text": [
      "Epoch #104: 1025it [00:03, 260.61it/s, env_step=106496, len=37, n/ep=1, n/st=64, player_1/loss=263.306, player_2/loss=203.111, rew=1404.00]\n"
     ]
    },
    {
     "name": "stdout",
     "output_type": "stream",
     "text": [
      "Epoch #104: test_reward: 180.000000 ± 0.000000, best_reward: 1558.000000 ± 0.000000 in #45\n"
     ]
    },
    {
     "name": "stderr",
     "output_type": "stream",
     "text": [
      "Epoch #105: 1025it [00:03, 258.51it/s, env_step=107520, len=16, n/ep=4, n/st=64, player_1/loss=291.192, player_2/loss=308.188, rew=270.50]\n"
     ]
    },
    {
     "name": "stdout",
     "output_type": "stream",
     "text": [
      "Epoch #105: test_reward: 1054.000000 ± 0.000000, best_reward: 1558.000000 ± 0.000000 in #45\n"
     ]
    },
    {
     "name": "stderr",
     "output_type": "stream",
     "text": [
      "Epoch #106: 1025it [00:04, 248.70it/s, env_step=108544, len=27, n/ep=3, n/st=64, player_1/loss=457.054, player_2/loss=364.490, rew=775.33]\n"
     ]
    },
    {
     "name": "stdout",
     "output_type": "stream",
     "text": [
      "Epoch #106: test_reward: 868.000000 ± 0.000000, best_reward: 1558.000000 ± 0.000000 in #45\n"
     ]
    },
    {
     "name": "stderr",
     "output_type": "stream",
     "text": [
      "Epoch #107: 1025it [00:03, 256.97it/s, env_step=109568, len=22, n/ep=3, n/st=64, player_1/loss=324.115, player_2/loss=374.965, rew=504.67]\n"
     ]
    },
    {
     "name": "stdout",
     "output_type": "stream",
     "text": [
      "Epoch #107: test_reward: 460.000000 ± 0.000000, best_reward: 1558.000000 ± 0.000000 in #45\n"
     ]
    },
    {
     "name": "stderr",
     "output_type": "stream",
     "text": [
      "Epoch #108: 1025it [00:04, 249.75it/s, env_step=110592, len=20, n/ep=3, n/st=64, player_1/loss=300.577, player_2/loss=225.929, rew=433.33]\n"
     ]
    },
    {
     "name": "stdout",
     "output_type": "stream",
     "text": [
      "Epoch #108: test_reward: 418.000000 ± 0.000000, best_reward: 1558.000000 ± 0.000000 in #45\n"
     ]
    },
    {
     "name": "stderr",
     "output_type": "stream",
     "text": [
      "Epoch #109: 1025it [00:04, 245.91it/s, env_step=111616, len=18, n/ep=4, n/st=64, player_1/loss=139.302, player_2/loss=372.658, rew=381.00]\n"
     ]
    },
    {
     "name": "stdout",
     "output_type": "stream",
     "text": [
      "Epoch #109: test_reward: 648.000000 ± 0.000000, best_reward: 1558.000000 ± 0.000000 in #45\n"
     ]
    },
    {
     "name": "stderr",
     "output_type": "stream",
     "text": [
      "Epoch #110: 1025it [00:04, 246.11it/s, env_step=112640, len=20, n/ep=3, n/st=64, player_1/loss=263.584, player_2/loss=499.521, rew=418.67]\n"
     ]
    },
    {
     "name": "stdout",
     "output_type": "stream",
     "text": [
      "Epoch #110: test_reward: 504.000000 ± 0.000000, best_reward: 1558.000000 ± 0.000000 in #45\n"
     ]
    },
    {
     "name": "stderr",
     "output_type": "stream",
     "text": [
      "Epoch #111: 1025it [00:04, 248.60it/s, env_step=113664, len=22, n/ep=3, n/st=64, player_1/loss=146.656, player_2/loss=252.322, rew=504.67]\n"
     ]
    },
    {
     "name": "stdout",
     "output_type": "stream",
     "text": [
      "Epoch #111: test_reward: 460.000000 ± 0.000000, best_reward: 1558.000000 ± 0.000000 in #45\n"
     ]
    },
    {
     "name": "stderr",
     "output_type": "stream",
     "text": [
      "Epoch #112: 1025it [00:04, 248.25it/s, env_step=114688, len=31, n/ep=2, n/st=64, player_1/loss=133.797, player_2/loss=189.372, rew=1024.00]\n"
     ]
    },
    {
     "name": "stdout",
     "output_type": "stream",
     "text": [
      "Epoch #112: test_reward: 1188.000000 ± 0.000000, best_reward: 1558.000000 ± 0.000000 in #45\n"
     ]
    },
    {
     "name": "stderr",
     "output_type": "stream",
     "text": [
      "Epoch #113: 1025it [00:03, 262.44it/s, env_step=115712, len=24, n/ep=3, n/st=64, player_1/loss=350.354, player_2/loss=405.648, rew=628.00]\n"
     ]
    },
    {
     "name": "stdout",
     "output_type": "stream",
     "text": [
      "Epoch #113: test_reward: 648.000000 ± 0.000000, best_reward: 1558.000000 ± 0.000000 in #45\n"
     ]
    },
    {
     "name": "stderr",
     "output_type": "stream",
     "text": [
      "Epoch #114: 1025it [00:04, 233.31it/s, env_step=116736, len=28, n/ep=2, n/st=64, player_1/loss=279.216, player_2/loss=314.228, rew=826.00]\n"
     ]
    },
    {
     "name": "stdout",
     "output_type": "stream",
     "text": [
      "Epoch #114: test_reward: 1188.000000 ± 0.000000, best_reward: 1558.000000 ± 0.000000 in #45\n"
     ]
    },
    {
     "name": "stderr",
     "output_type": "stream",
     "text": [
      "Epoch #115: 1025it [00:04, 221.28it/s, env_step=117760, len=27, n/ep=2, n/st=64, player_1/loss=169.007, player_2/loss=347.230, rew=782.00]\n"
     ]
    },
    {
     "name": "stdout",
     "output_type": "stream",
     "text": [
      "Epoch #115: test_reward: 208.000000 ± 0.000000, best_reward: 1558.000000 ± 0.000000 in #45\n"
     ]
    },
    {
     "name": "stderr",
     "output_type": "stream",
     "text": [
      "Epoch #116: 1025it [00:04, 231.01it/s, env_step=118784, len=32, n/ep=2, n/st=64, player_1/loss=218.319, player_2/loss=261.701, rew=1063.00]\n"
     ]
    },
    {
     "name": "stdout",
     "output_type": "stream",
     "text": [
      "Epoch #116: test_reward: 598.000000 ± 0.000000, best_reward: 1558.000000 ± 0.000000 in #45\n"
     ]
    },
    {
     "name": "stderr",
     "output_type": "stream",
     "text": [
      "Epoch #117: 1025it [00:04, 227.32it/s, env_step=119808, len=22, n/ep=3, n/st=64, player_1/loss=257.821, player_2/loss=170.117, rew=674.67]\n"
     ]
    },
    {
     "name": "stdout",
     "output_type": "stream",
     "text": [
      "Epoch #117: test_reward: 1834.000000 ± 0.000000, best_reward: 1834.000000 ± 0.000000 in #117\n"
     ]
    },
    {
     "name": "stderr",
     "output_type": "stream",
     "text": [
      "Epoch #118: 1025it [00:04, 226.51it/s, env_step=120832, len=22, n/ep=3, n/st=64, player_1/loss=136.951, player_2/loss=216.113, rew=510.00]\n"
     ]
    },
    {
     "name": "stdout",
     "output_type": "stream",
     "text": [
      "Epoch #118: test_reward: 54.000000 ± 0.000000, best_reward: 1834.000000 ± 0.000000 in #117\n"
     ]
    },
    {
     "name": "stderr",
     "output_type": "stream",
     "text": [
      "Epoch #119: 1025it [00:04, 225.15it/s, env_step=121856, len=27, n/ep=2, n/st=64, player_1/loss=356.569, player_2/loss=327.595, rew=758.00]\n"
     ]
    },
    {
     "name": "stdout",
     "output_type": "stream",
     "text": [
      "Epoch #119: test_reward: 598.000000 ± 0.000000, best_reward: 1834.000000 ± 0.000000 in #117\n"
     ]
    },
    {
     "name": "stderr",
     "output_type": "stream",
     "text": [
      "Epoch #120: 1025it [00:04, 223.28it/s, env_step=122880, len=24, n/ep=2, n/st=64, player_1/loss=221.770, player_2/loss=221.137, rew=629.00]\n"
     ]
    },
    {
     "name": "stdout",
     "output_type": "stream",
     "text": [
      "Epoch #120: test_reward: 928.000000 ± 0.000000, best_reward: 1834.000000 ± 0.000000 in #117\n"
     ]
    },
    {
     "name": "stderr",
     "output_type": "stream",
     "text": [
      "Epoch #121: 1025it [00:04, 220.53it/s, env_step=123904, len=28, n/ep=2, n/st=64, player_1/loss=223.170, player_2/loss=196.563, rew=841.00]\n"
     ]
    },
    {
     "name": "stdout",
     "output_type": "stream",
     "text": [
      "Epoch #121: test_reward: 1480.000000 ± 0.000000, best_reward: 1834.000000 ± 0.000000 in #117\n"
     ]
    },
    {
     "name": "stderr",
     "output_type": "stream",
     "text": [
      "Epoch #122: 1025it [00:04, 223.84it/s, env_step=124928, len=31, n/ep=3, n/st=64, player_1/loss=214.645, player_2/loss=420.567, rew=1078.00]\n"
     ]
    },
    {
     "name": "stdout",
     "output_type": "stream",
     "text": [
      "Epoch #122: test_reward: 928.000000 ± 0.000000, best_reward: 1834.000000 ± 0.000000 in #117\n"
     ]
    },
    {
     "name": "stderr",
     "output_type": "stream",
     "text": [
      "Epoch #123: 1025it [00:04, 222.30it/s, env_step=125952, len=27, n/ep=3, n/st=64, player_1/loss=209.383, player_2/loss=284.870, rew=776.67]\n"
     ]
    },
    {
     "name": "stdout",
     "output_type": "stream",
     "text": [
      "Epoch #123: test_reward: 700.000000 ± 0.000000, best_reward: 1834.000000 ± 0.000000 in #117\n"
     ]
    },
    {
     "name": "stderr",
     "output_type": "stream",
     "text": [
      "Epoch #124: 1025it [00:04, 247.53it/s, env_step=126976, len=24, n/ep=3, n/st=64, player_1/loss=138.328, player_2/loss=362.990, rew=655.33]\n"
     ]
    },
    {
     "name": "stdout",
     "output_type": "stream",
     "text": [
      "Epoch #124: test_reward: 208.000000 ± 0.000000, best_reward: 1834.000000 ± 0.000000 in #117\n"
     ]
    },
    {
     "name": "stderr",
     "output_type": "stream",
     "text": [
      "Epoch #125: 1025it [00:04, 227.76it/s, env_step=128000, len=20, n/ep=4, n/st=64, player_1/loss=210.956, player_2/loss=299.251, rew=503.50]\n"
     ]
    },
    {
     "name": "stdout",
     "output_type": "stream",
     "text": [
      "Epoch #125: test_reward: 1330.000000 ± 0.000000, best_reward: 1834.000000 ± 0.000000 in #117\n"
     ]
    },
    {
     "name": "stderr",
     "output_type": "stream",
     "text": [
      "Epoch #126: 1025it [00:04, 238.53it/s, env_step=129024, len=18, n/ep=3, n/st=64, player_1/loss=251.947, player_2/loss=406.460, rew=369.33]\n"
     ]
    },
    {
     "name": "stdout",
     "output_type": "stream",
     "text": [
      "Epoch #126: test_reward: 598.000000 ± 0.000000, best_reward: 1834.000000 ± 0.000000 in #117\n"
     ]
    },
    {
     "name": "stderr",
     "output_type": "stream",
     "text": [
      "Epoch #127: 1025it [00:03, 260.83it/s, env_step=130048, len=23, n/ep=3, n/st=64, player_1/loss=257.308, player_2/loss=356.125, rew=554.67]\n"
     ]
    },
    {
     "name": "stdout",
     "output_type": "stream",
     "text": [
      "Epoch #127: test_reward: 208.000000 ± 0.000000, best_reward: 1834.000000 ± 0.000000 in #117\n"
     ]
    },
    {
     "name": "stderr",
     "output_type": "stream",
     "text": [
      "Epoch #128: 1025it [00:04, 252.26it/s, env_step=131072, len=7, n/ep=8, n/st=64, player_1/loss=334.171, player_2/loss=205.839, rew=64.25]\n"
     ]
    },
    {
     "name": "stdout",
     "output_type": "stream",
     "text": [
      "Epoch #128: test_reward: 54.000000 ± 0.000000, best_reward: 1834.000000 ± 0.000000 in #117\n"
     ]
    },
    {
     "name": "stderr",
     "output_type": "stream",
     "text": [
      "Epoch #129: 1025it [00:04, 250.01it/s, env_step=132096, len=14, n/ep=4, n/st=64, player_1/loss=274.008, player_2/loss=342.383, rew=216.00]\n"
     ]
    },
    {
     "name": "stdout",
     "output_type": "stream",
     "text": [
      "Epoch #129: test_reward: 180.000000 ± 0.000000, best_reward: 1834.000000 ± 0.000000 in #117\n"
     ]
    },
    {
     "name": "stderr",
     "output_type": "stream",
     "text": [
      "Epoch #130: 1025it [00:04, 248.53it/s, env_step=133120, len=36, n/ep=2, n/st=64, player_1/loss=426.005, player_2/loss=192.591, rew=1346.00]\n"
     ]
    },
    {
     "name": "stdout",
     "output_type": "stream",
     "text": [
      "Epoch #130: test_reward: 460.000000 ± 0.000000, best_reward: 1834.000000 ± 0.000000 in #117\n"
     ]
    },
    {
     "name": "stderr",
     "output_type": "stream",
     "text": [
      "Epoch #131: 1025it [00:04, 238.91it/s, env_step=134144, len=37, n/ep=2, n/st=64, player_1/loss=324.590, player_2/loss=266.723, rew=1408.00]\n"
     ]
    },
    {
     "name": "stdout",
     "output_type": "stream",
     "text": [
      "Epoch #131: test_reward: 1054.000000 ± 0.000000, best_reward: 1834.000000 ± 0.000000 in #117\n"
     ]
    },
    {
     "name": "stderr",
     "output_type": "stream",
     "text": [
      "Epoch #132: 1025it [00:04, 249.47it/s, env_step=135168, len=19, n/ep=3, n/st=64, player_1/loss=211.015, player_2/loss=160.571, rew=384.00]\n"
     ]
    },
    {
     "name": "stdout",
     "output_type": "stream",
     "text": [
      "Epoch #132: test_reward: 460.000000 ± 0.000000, best_reward: 1834.000000 ± 0.000000 in #117\n"
     ]
    },
    {
     "name": "stderr",
     "output_type": "stream",
     "text": [
      "Epoch #133: 1025it [00:04, 242.96it/s, env_step=136192, len=26, n/ep=2, n/st=64, player_1/loss=256.048, player_2/loss=318.766, rew=727.00]\n"
     ]
    },
    {
     "name": "stdout",
     "output_type": "stream",
     "text": [
      "Epoch #133: test_reward: 700.000000 ± 0.000000, best_reward: 1834.000000 ± 0.000000 in #117\n"
     ]
    },
    {
     "name": "stderr",
     "output_type": "stream",
     "text": [
      "Epoch #134: 1025it [00:03, 286.19it/s, env_step=137216, len=23, n/ep=3, n/st=64, player_1/loss=131.875, player_2/loss=302.464, rew=602.00]\n"
     ]
    },
    {
     "name": "stdout",
     "output_type": "stream",
     "text": [
      "Epoch #134: test_reward: 550.000000 ± 0.000000, best_reward: 1834.000000 ± 0.000000 in #117\n"
     ]
    },
    {
     "name": "stderr",
     "output_type": "stream",
     "text": [
      "Epoch #135: 1025it [00:03, 259.79it/s, env_step=138240, len=18, n/ep=3, n/st=64, player_1/loss=258.892, player_2/loss=487.447, rew=348.00]\n"
     ]
    },
    {
     "name": "stdout",
     "output_type": "stream",
     "text": [
      "Epoch #135: test_reward: 54.000000 ± 0.000000, best_reward: 1834.000000 ± 0.000000 in #117\n"
     ]
    },
    {
     "name": "stderr",
     "output_type": "stream",
     "text": [
      "Epoch #136: 1025it [00:04, 252.04it/s, env_step=139264, len=13, n/ep=5, n/st=64, player_1/loss=202.023, player_2/loss=354.507, rew=196.00]\n"
     ]
    },
    {
     "name": "stdout",
     "output_type": "stream",
     "text": [
      "Epoch #136: test_reward: 270.000000 ± 0.000000, best_reward: 1834.000000 ± 0.000000 in #117\n"
     ]
    },
    {
     "name": "stderr",
     "output_type": "stream",
     "text": [
      "Epoch #137: 1025it [00:03, 270.81it/s, env_step=140288, len=22, n/ep=3, n/st=64, player_1/loss=204.502, player_2/loss=396.780, rew=506.67]\n"
     ]
    },
    {
     "name": "stdout",
     "output_type": "stream",
     "text": [
      "Epoch #137: test_reward: 418.000000 ± 0.000000, best_reward: 1834.000000 ± 0.000000 in #117\n"
     ]
    },
    {
     "name": "stderr",
     "output_type": "stream",
     "text": [
      "Epoch #138: 1025it [00:04, 245.02it/s, env_step=141312, len=25, n/ep=2, n/st=64, player_1/loss=151.700, player_2/loss=393.893, rew=652.00]\n"
     ]
    },
    {
     "name": "stdout",
     "output_type": "stream",
     "text": [
      "Epoch #138: test_reward: 340.000000 ± 0.000000, best_reward: 1834.000000 ± 0.000000 in #117\n"
     ]
    },
    {
     "name": "stderr",
     "output_type": "stream",
     "text": [
      "Epoch #139: 1025it [00:05, 193.96it/s, env_step=142336, len=21, n/ep=3, n/st=64, player_1/loss=181.348, player_2/loss=107.649, rew=544.00]\n"
     ]
    },
    {
     "name": "stdout",
     "output_type": "stream",
     "text": [
      "Epoch #139: test_reward: 180.000000 ± 0.000000, best_reward: 1834.000000 ± 0.000000 in #117\n"
     ]
    },
    {
     "name": "stderr",
     "output_type": "stream",
     "text": [
      "Epoch #140: 1025it [00:05, 178.15it/s, env_step=143360, len=15, n/ep=4, n/st=64, player_1/loss=330.410, player_2/loss=154.340, rew=261.00]\n"
     ]
    },
    {
     "name": "stdout",
     "output_type": "stream",
     "text": [
      "Epoch #140: test_reward: 378.000000 ± 0.000000, best_reward: 1834.000000 ± 0.000000 in #117\n"
     ]
    },
    {
     "name": "stderr",
     "output_type": "stream",
     "text": [
      "Epoch #141: 1025it [00:05, 181.54it/s, env_step=144384, len=18, n/ep=3, n/st=64, player_1/loss=239.799, player_2/loss=223.909, rew=372.67]\n"
     ]
    },
    {
     "name": "stdout",
     "output_type": "stream",
     "text": [
      "Epoch #141: test_reward: 238.000000 ± 0.000000, best_reward: 1834.000000 ± 0.000000 in #117\n"
     ]
    },
    {
     "name": "stderr",
     "output_type": "stream",
     "text": [
      "Epoch #142: 1025it [00:04, 229.81it/s, env_step=145408, len=19, n/ep=3, n/st=64, player_1/loss=226.954, player_2/loss=293.298, rew=391.33]\n"
     ]
    },
    {
     "name": "stdout",
     "output_type": "stream",
     "text": [
      "Epoch #142: test_reward: 700.000000 ± 0.000000, best_reward: 1834.000000 ± 0.000000 in #117\n"
     ]
    },
    {
     "name": "stderr",
     "output_type": "stream",
     "text": [
      "Epoch #143: 1025it [00:04, 242.58it/s, env_step=146432, len=22, n/ep=2, n/st=64, player_1/loss=203.076, player_2/loss=172.783, rew=508.00]\n"
     ]
    },
    {
     "name": "stdout",
     "output_type": "stream",
     "text": [
      "Epoch #143: test_reward: 180.000000 ± 0.000000, best_reward: 1834.000000 ± 0.000000 in #117\n"
     ]
    },
    {
     "name": "stderr",
     "output_type": "stream",
     "text": [
      "Epoch #144: 1025it [00:04, 244.90it/s, env_step=147456, len=22, n/ep=3, n/st=64, player_1/loss=115.235, player_2/loss=263.421, rew=526.00]\n"
     ]
    },
    {
     "name": "stdout",
     "output_type": "stream",
     "text": [
      "Epoch #144: test_reward: 700.000000 ± 0.000000, best_reward: 1834.000000 ± 0.000000 in #117\n"
     ]
    },
    {
     "name": "stderr",
     "output_type": "stream",
     "text": [
      "Epoch #145: 1025it [00:04, 250.19it/s, env_step=148480, len=22, n/ep=3, n/st=64, player_1/loss=82.884, player_2/loss=312.937, rew=536.00]\n"
     ]
    },
    {
     "name": "stdout",
     "output_type": "stream",
     "text": [
      "Epoch #145: test_reward: 550.000000 ± 0.000000, best_reward: 1834.000000 ± 0.000000 in #117\n"
     ]
    },
    {
     "name": "stderr",
     "output_type": "stream",
     "text": [
      "Epoch #146: 1025it [00:04, 254.32it/s, env_step=149504, len=29, n/ep=2, n/st=64, player_1/loss=330.152, player_2/loss=202.809, rew=898.00]\n"
     ]
    },
    {
     "name": "stdout",
     "output_type": "stream",
     "text": [
      "Epoch #146: test_reward: 754.000000 ± 0.000000, best_reward: 1834.000000 ± 0.000000 in #117\n"
     ]
    },
    {
     "name": "stderr",
     "output_type": "stream",
     "text": [
      "Epoch #147: 1025it [00:04, 252.71it/s, env_step=150528, len=16, n/ep=4, n/st=64, player_1/loss=284.778, player_2/loss=161.747, rew=303.50]\n"
     ]
    },
    {
     "name": "stdout",
     "output_type": "stream",
     "text": [
      "Epoch #147: test_reward: 180.000000 ± 0.000000, best_reward: 1834.000000 ± 0.000000 in #117\n"
     ]
    },
    {
     "name": "stderr",
     "output_type": "stream",
     "text": [
      "Epoch #148: 1025it [00:04, 250.31it/s, env_step=151552, len=8, n/ep=8, n/st=64, player_1/loss=275.411, player_2/loss=323.856, rew=71.00]\n"
     ]
    },
    {
     "name": "stdout",
     "output_type": "stream",
     "text": [
      "Epoch #148: test_reward: 378.000000 ± 0.000000, best_reward: 1834.000000 ± 0.000000 in #117\n"
     ]
    },
    {
     "name": "stderr",
     "output_type": "stream",
     "text": [
      "Epoch #149: 1025it [00:04, 244.79it/s, env_step=152576, len=27, n/ep=2, n/st=64, player_1/loss=271.575, player_2/loss=169.015, rew=784.00]\n"
     ]
    },
    {
     "name": "stdout",
     "output_type": "stream",
     "text": [
      "Epoch #149: test_reward: 418.000000 ± 0.000000, best_reward: 1834.000000 ± 0.000000 in #117\n"
     ]
    },
    {
     "name": "stderr",
     "output_type": "stream",
     "text": [
      "Epoch #150: 1025it [00:04, 252.46it/s, env_step=153600, len=20, n/ep=2, n/st=64, player_1/loss=230.217, player_2/loss=61.180, rew=439.00]\n"
     ]
    },
    {
     "name": "stdout",
     "output_type": "stream",
     "text": [
      "Epoch #150: test_reward: 378.000000 ± 0.000000, best_reward: 1834.000000 ± 0.000000 in #117\n"
     ]
    },
    {
     "name": "stderr",
     "output_type": "stream",
     "text": [
      "Epoch #151: 1025it [00:03, 266.87it/s, env_step=154624, len=28, n/ep=2, n/st=64, player_1/loss=291.289, player_2/loss=363.925, rew=811.00]\n"
     ]
    },
    {
     "name": "stdout",
     "output_type": "stream",
     "text": [
      "Epoch #151: test_reward: 108.000000 ± 0.000000, best_reward: 1834.000000 ± 0.000000 in #117\n"
     ]
    },
    {
     "name": "stderr",
     "output_type": "stream",
     "text": [
      "Epoch #152: 1025it [00:03, 256.67it/s, env_step=155648, len=8, n/ep=8, n/st=64, player_1/loss=185.121, player_2/loss=331.767, rew=71.50]\n"
     ]
    },
    {
     "name": "stdout",
     "output_type": "stream",
     "text": [
      "Epoch #152: test_reward: 270.000000 ± 0.000000, best_reward: 1834.000000 ± 0.000000 in #117\n"
     ]
    },
    {
     "name": "stderr",
     "output_type": "stream",
     "text": [
      "Epoch #153: 1025it [00:03, 260.06it/s, env_step=156672, len=13, n/ep=5, n/st=64, player_1/loss=132.611, player_2/loss=184.225, rew=223.20]\n"
     ]
    },
    {
     "name": "stdout",
     "output_type": "stream",
     "text": [
      "Epoch #153: test_reward: 54.000000 ± 0.000000, best_reward: 1834.000000 ± 0.000000 in #117\n"
     ]
    },
    {
     "name": "stderr",
     "output_type": "stream",
     "text": [
      "Epoch #154: 1025it [00:03, 265.67it/s, env_step=157696, len=21, n/ep=3, n/st=64, player_1/loss=130.968, player_2/loss=63.885, rew=490.00]\n"
     ]
    },
    {
     "name": "stdout",
     "output_type": "stream",
     "text": [
      "Epoch #154: test_reward: 504.000000 ± 0.000000, best_reward: 1834.000000 ± 0.000000 in #117\n"
     ]
    },
    {
     "name": "stderr",
     "output_type": "stream",
     "text": [
      "Epoch #155: 1025it [00:03, 267.27it/s, env_step=158720, len=14, n/ep=4, n/st=64, player_1/loss=127.183, player_2/loss=172.359, rew=213.50]\n"
     ]
    },
    {
     "name": "stdout",
     "output_type": "stream",
     "text": [
      "Epoch #155: test_reward: 180.000000 ± 0.000000, best_reward: 1834.000000 ± 0.000000 in #117\n"
     ]
    },
    {
     "name": "stderr",
     "output_type": "stream",
     "text": [
      "Epoch #156: 1025it [00:03, 258.45it/s, env_step=159744, len=30, n/ep=2, n/st=64, player_1/loss=286.749, player_2/loss=230.945, rew=959.00]\n"
     ]
    },
    {
     "name": "stdout",
     "output_type": "stream",
     "text": [
      "Epoch #156: test_reward: 108.000000 ± 0.000000, best_reward: 1834.000000 ± 0.000000 in #117\n"
     ]
    },
    {
     "name": "stderr",
     "output_type": "stream",
     "text": [
      "Epoch #157: 1025it [00:03, 270.86it/s, env_step=160768, len=13, n/ep=4, n/st=64, player_1/loss=265.584, player_2/loss=305.912, rew=195.00]\n"
     ]
    },
    {
     "name": "stdout",
     "output_type": "stream",
     "text": [
      "Epoch #157: test_reward: 928.000000 ± 0.000000, best_reward: 1834.000000 ± 0.000000 in #117\n"
     ]
    },
    {
     "name": "stderr",
     "output_type": "stream",
     "text": [
      "Epoch #158: 1025it [00:03, 267.65it/s, env_step=161792, len=12, n/ep=7, n/st=64, player_1/loss=95.516, player_2/loss=263.198, rew=178.00]\n"
     ]
    },
    {
     "name": "stdout",
     "output_type": "stream",
     "text": [
      "Epoch #158: test_reward: 88.000000 ± 0.000000, best_reward: 1834.000000 ± 0.000000 in #117\n"
     ]
    },
    {
     "name": "stderr",
     "output_type": "stream",
     "text": [
      "Epoch #159: 1025it [00:03, 268.71it/s, env_step=162816, len=28, n/ep=3, n/st=64, player_1/loss=111.527, player_2/loss=338.478, rew=854.00]\n"
     ]
    },
    {
     "name": "stdout",
     "output_type": "stream",
     "text": [
      "Epoch #159: test_reward: 504.000000 ± 0.000000, best_reward: 1834.000000 ± 0.000000 in #117\n"
     ]
    },
    {
     "name": "stderr",
     "output_type": "stream",
     "text": [
      "Epoch #160: 1025it [00:03, 268.52it/s, env_step=163840, len=15, n/ep=4, n/st=64, player_1/loss=264.552, player_2/loss=185.748, rew=249.00]\n"
     ]
    },
    {
     "name": "stdout",
     "output_type": "stream",
     "text": [
      "Epoch #160: test_reward: 180.000000 ± 0.000000, best_reward: 1834.000000 ± 0.000000 in #117\n"
     ]
    },
    {
     "name": "stderr",
     "output_type": "stream",
     "text": [
      "Epoch #161: 1025it [00:03, 269.69it/s, env_step=164864, len=14, n/ep=4, n/st=64, player_1/loss=189.531, player_2/loss=249.566, rew=224.00]\n"
     ]
    },
    {
     "name": "stdout",
     "output_type": "stream",
     "text": [
      "Epoch #161: test_reward: 504.000000 ± 0.000000, best_reward: 1834.000000 ± 0.000000 in #117\n"
     ]
    },
    {
     "name": "stderr",
     "output_type": "stream",
     "text": [
      "Epoch #162: 1025it [00:04, 239.73it/s, env_step=165888, len=32, n/ep=2, n/st=64, player_1/loss=115.290, player_2/loss=239.483, rew=1058.00]\n"
     ]
    },
    {
     "name": "stdout",
     "output_type": "stream",
     "text": [
      "Epoch #162: test_reward: 700.000000 ± 0.000000, best_reward: 1834.000000 ± 0.000000 in #117\n"
     ]
    },
    {
     "name": "stderr",
     "output_type": "stream",
     "text": [
      "Epoch #163: 1025it [00:04, 237.07it/s, env_step=166912, len=15, n/ep=4, n/st=64, player_1/loss=104.239, player_2/loss=747.400, rew=256.50]\n"
     ]
    },
    {
     "name": "stdout",
     "output_type": "stream",
     "text": [
      "Epoch #163: test_reward: 180.000000 ± 0.000000, best_reward: 1834.000000 ± 0.000000 in #117\n"
     ]
    },
    {
     "name": "stderr",
     "output_type": "stream",
     "text": [
      "Epoch #164: 1025it [00:04, 233.09it/s, env_step=167936, len=14, n/ep=4, n/st=64, player_1/loss=123.809, player_2/loss=266.117, rew=209.50]\n"
     ]
    },
    {
     "name": "stdout",
     "output_type": "stream",
     "text": [
      "Epoch #164: test_reward: 238.000000 ± 0.000000, best_reward: 1834.000000 ± 0.000000 in #117\n"
     ]
    },
    {
     "name": "stderr",
     "output_type": "stream",
     "text": [
      "Epoch #165: 1025it [00:04, 249.85it/s, env_step=168960, len=25, n/ep=3, n/st=64, player_1/loss=125.008, player_2/loss=196.553, rew=690.67]\n"
     ]
    },
    {
     "name": "stdout",
     "output_type": "stream",
     "text": [
      "Epoch #165: test_reward: 598.000000 ± 0.000000, best_reward: 1834.000000 ± 0.000000 in #117\n"
     ]
    },
    {
     "name": "stderr",
     "output_type": "stream",
     "text": [
      "Epoch #166: 1025it [00:04, 241.73it/s, env_step=169984, len=22, n/ep=3, n/st=64, player_1/loss=161.773, player_2/loss=117.408, rew=536.00]\n"
     ]
    },
    {
     "name": "stdout",
     "output_type": "stream",
     "text": [
      "Epoch #166: test_reward: 340.000000 ± 0.000000, best_reward: 1834.000000 ± 0.000000 in #117\n"
     ]
    },
    {
     "name": "stderr",
     "output_type": "stream",
     "text": [
      "Epoch #167: 1025it [00:04, 229.09it/s, env_step=171008, len=21, n/ep=3, n/st=64, player_1/loss=219.148, player_2/loss=205.512, rew=478.67]\n"
     ]
    },
    {
     "name": "stdout",
     "output_type": "stream",
     "text": [
      "Epoch #167: test_reward: 460.000000 ± 0.000000, best_reward: 1834.000000 ± 0.000000 in #117\n"
     ]
    },
    {
     "name": "stderr",
     "output_type": "stream",
     "text": [
      "Epoch #168: 1025it [00:04, 219.53it/s, env_step=172032, len=20, n/ep=3, n/st=64, player_1/loss=158.857, player_2/loss=112.475, rew=472.00]\n"
     ]
    },
    {
     "name": "stdout",
     "output_type": "stream",
     "text": [
      "Epoch #168: test_reward: 810.000000 ± 0.000000, best_reward: 1834.000000 ± 0.000000 in #117\n"
     ]
    },
    {
     "name": "stderr",
     "output_type": "stream",
     "text": [
      "Epoch #169: 1025it [00:04, 216.51it/s, env_step=173056, len=21, n/ep=3, n/st=64, player_1/loss=133.575, player_2/loss=230.021, rew=477.33]\n"
     ]
    },
    {
     "name": "stdout",
     "output_type": "stream",
     "text": [
      "Epoch #169: test_reward: 70.000000 ± 0.000000, best_reward: 1834.000000 ± 0.000000 in #117\n"
     ]
    },
    {
     "name": "stderr",
     "output_type": "stream",
     "text": [
      "Epoch #170: 1025it [00:04, 223.06it/s, env_step=174080, len=31, n/ep=2, n/st=64, player_1/loss=91.832, player_2/loss=261.587, rew=990.00]\n"
     ]
    },
    {
     "name": "stdout",
     "output_type": "stream",
     "text": [
      "Epoch #170: test_reward: 504.000000 ± 0.000000, best_reward: 1834.000000 ± 0.000000 in #117\n"
     ]
    },
    {
     "name": "stderr",
     "output_type": "stream",
     "text": [
      "Epoch #171: 1025it [00:04, 220.73it/s, env_step=175104, len=21, n/ep=3, n/st=64, player_1/loss=73.004, player_2/loss=396.979, rew=470.67]\n"
     ]
    },
    {
     "name": "stdout",
     "output_type": "stream",
     "text": [
      "Epoch #171: test_reward: 754.000000 ± 0.000000, best_reward: 1834.000000 ± 0.000000 in #117\n"
     ]
    },
    {
     "name": "stderr",
     "output_type": "stream",
     "text": [
      "Epoch #172: 1025it [00:04, 219.20it/s, env_step=176128, len=20, n/ep=3, n/st=64, player_1/loss=130.031, player_2/loss=107.425, rew=448.67]\n"
     ]
    },
    {
     "name": "stdout",
     "output_type": "stream",
     "text": [
      "Epoch #172: test_reward: 754.000000 ± 0.000000, best_reward: 1834.000000 ± 0.000000 in #117\n"
     ]
    },
    {
     "name": "stderr",
     "output_type": "stream",
     "text": [
      "Epoch #173: 1025it [00:04, 221.14it/s, env_step=177152, len=25, n/ep=2, n/st=64, player_1/loss=273.659, player_2/loss=179.321, rew=712.00]\n"
     ]
    },
    {
     "name": "stdout",
     "output_type": "stream",
     "text": [
      "Epoch #173: test_reward: 378.000000 ± 0.000000, best_reward: 1834.000000 ± 0.000000 in #117\n"
     ]
    },
    {
     "name": "stderr",
     "output_type": "stream",
     "text": [
      "Epoch #174: 1025it [00:04, 230.24it/s, env_step=178176, len=15, n/ep=5, n/st=64, player_1/loss=237.122, player_2/loss=292.171, rew=265.60]\n"
     ]
    },
    {
     "name": "stdout",
     "output_type": "stream",
     "text": [
      "Epoch #174: test_reward: 180.000000 ± 0.000000, best_reward: 1834.000000 ± 0.000000 in #117\n"
     ]
    },
    {
     "name": "stderr",
     "output_type": "stream",
     "text": [
      "Epoch #175: 1025it [00:04, 223.81it/s, env_step=179200, len=28, n/ep=2, n/st=64, player_1/loss=121.807, player_2/loss=258.957, rew=810.00]\n"
     ]
    },
    {
     "name": "stdout",
     "output_type": "stream",
     "text": [
      "Epoch #175: test_reward: 754.000000 ± 0.000000, best_reward: 1834.000000 ± 0.000000 in #117\n"
     ]
    },
    {
     "name": "stderr",
     "output_type": "stream",
     "text": [
      "Epoch #176: 1025it [00:04, 219.72it/s, env_step=180224, len=26, n/ep=2, n/st=64, player_1/loss=108.674, player_2/loss=328.697, rew=716.00]\n"
     ]
    },
    {
     "name": "stdout",
     "output_type": "stream",
     "text": [
      "Epoch #176: test_reward: 700.000000 ± 0.000000, best_reward: 1834.000000 ± 0.000000 in #117\n"
     ]
    },
    {
     "name": "stderr",
     "output_type": "stream",
     "text": [
      "Epoch #177: 1025it [00:04, 244.28it/s, env_step=181248, len=15, n/ep=4, n/st=64, player_1/loss=123.544, player_2/loss=178.735, rew=249.00]\n"
     ]
    },
    {
     "name": "stdout",
     "output_type": "stream",
     "text": [
      "Epoch #177: test_reward: 378.000000 ± 0.000000, best_reward: 1834.000000 ± 0.000000 in #117\n"
     ]
    },
    {
     "name": "stderr",
     "output_type": "stream",
     "text": [
      "Epoch #178: 1025it [00:04, 250.53it/s, env_step=182272, len=30, n/ep=2, n/st=64, player_1/loss=244.809, player_2/loss=293.230, rew=928.00]\n"
     ]
    },
    {
     "name": "stdout",
     "output_type": "stream",
     "text": [
      "Epoch #178: test_reward: 928.000000 ± 0.000000, best_reward: 1834.000000 ± 0.000000 in #117\n"
     ]
    },
    {
     "name": "stderr",
     "output_type": "stream",
     "text": [
      "Epoch #179: 1025it [00:04, 250.98it/s, env_step=183296, len=22, n/ep=3, n/st=64, player_1/loss=288.490, player_2/loss=229.469, rew=506.67]\n"
     ]
    },
    {
     "name": "stdout",
     "output_type": "stream",
     "text": [
      "Epoch #179: test_reward: 418.000000 ± 0.000000, best_reward: 1834.000000 ± 0.000000 in #117\n"
     ]
    },
    {
     "name": "stderr",
     "output_type": "stream",
     "text": [
      "Epoch #180: 1025it [00:04, 249.09it/s, env_step=184320, len=17, n/ep=3, n/st=64, player_1/loss=259.779, player_2/loss=236.555, rew=330.00]\n"
     ]
    },
    {
     "name": "stdout",
     "output_type": "stream",
     "text": [
      "Epoch #180: test_reward: 378.000000 ± 0.000000, best_reward: 1834.000000 ± 0.000000 in #117\n"
     ]
    },
    {
     "name": "stderr",
     "output_type": "stream",
     "text": [
      "Epoch #181: 1025it [00:04, 244.75it/s, env_step=185344, len=32, n/ep=2, n/st=64, player_1/loss=147.956, player_2/loss=380.289, rew=1054.00]\n"
     ]
    },
    {
     "name": "stdout",
     "output_type": "stream",
     "text": [
      "Epoch #181: test_reward: 504.000000 ± 0.000000, best_reward: 1834.000000 ± 0.000000 in #117\n"
     ]
    },
    {
     "name": "stderr",
     "output_type": "stream",
     "text": [
      "Epoch #182: 1025it [00:04, 240.27it/s, env_step=186368, len=27, n/ep=2, n/st=64, player_1/loss=151.164, player_2/loss=381.142, rew=784.00]\n"
     ]
    },
    {
     "name": "stdout",
     "output_type": "stream",
     "text": [
      "Epoch #182: test_reward: 238.000000 ± 0.000000, best_reward: 1834.000000 ± 0.000000 in #117\n"
     ]
    },
    {
     "name": "stderr",
     "output_type": "stream",
     "text": [
      "Epoch #183: 1025it [00:04, 234.60it/s, env_step=187392, len=16, n/ep=4, n/st=64, player_1/loss=252.849, player_2/loss=266.919, rew=282.00]\n"
     ]
    },
    {
     "name": "stdout",
     "output_type": "stream",
     "text": [
      "Epoch #183: test_reward: 238.000000 ± 0.000000, best_reward: 1834.000000 ± 0.000000 in #117\n"
     ]
    },
    {
     "name": "stderr",
     "output_type": "stream",
     "text": [
      "Epoch #184: 1025it [00:04, 242.62it/s, env_step=188416, len=15, n/ep=4, n/st=64, player_1/loss=138.928, player_2/loss=373.053, rew=249.00]\n"
     ]
    },
    {
     "name": "stdout",
     "output_type": "stream",
     "text": [
      "Epoch #184: test_reward: 238.000000 ± 0.000000, best_reward: 1834.000000 ± 0.000000 in #117\n"
     ]
    },
    {
     "name": "stderr",
     "output_type": "stream",
     "text": [
      "Epoch #185: 1025it [00:04, 235.76it/s, env_step=189440, len=26, n/ep=2, n/st=64, player_1/loss=151.633, player_2/loss=463.898, rew=727.00]\n"
     ]
    },
    {
     "name": "stdout",
     "output_type": "stream",
     "text": [
      "Epoch #185: test_reward: 598.000000 ± 0.000000, best_reward: 1834.000000 ± 0.000000 in #117\n"
     ]
    },
    {
     "name": "stderr",
     "output_type": "stream",
     "text": [
      "Epoch #186: 1025it [00:04, 232.23it/s, env_step=190464, len=27, n/ep=2, n/st=64, player_1/loss=295.168, player_2/loss=296.841, rew=782.00]\n"
     ]
    },
    {
     "name": "stdout",
     "output_type": "stream",
     "text": [
      "Epoch #186: test_reward: 270.000000 ± 0.000000, best_reward: 1834.000000 ± 0.000000 in #117\n"
     ]
    },
    {
     "name": "stderr",
     "output_type": "stream",
     "text": [
      "Epoch #187: 1025it [00:04, 229.60it/s, env_step=191488, len=14, n/ep=4, n/st=64, player_1/loss=295.755, player_2/loss=444.367, rew=216.50]\n"
     ]
    },
    {
     "name": "stdout",
     "output_type": "stream",
     "text": [
      "Epoch #187: test_reward: 208.000000 ± 0.000000, best_reward: 1834.000000 ± 0.000000 in #117\n"
     ]
    },
    {
     "name": "stderr",
     "output_type": "stream",
     "text": [
      "Epoch #188: 1025it [00:03, 258.59it/s, env_step=192512, len=14, n/ep=4, n/st=64, player_1/loss=204.573, player_2/loss=207.220, rew=229.00]\n"
     ]
    },
    {
     "name": "stdout",
     "output_type": "stream",
     "text": [
      "Epoch #188: test_reward: 180.000000 ± 0.000000, best_reward: 1834.000000 ± 0.000000 in #117\n"
     ]
    },
    {
     "name": "stderr",
     "output_type": "stream",
     "text": [
      "Epoch #189: 1025it [00:03, 296.90it/s, env_step=193536, len=22, n/ep=3, n/st=64, player_1/loss=258.385, player_2/loss=264.713, rew=522.00]\n"
     ]
    },
    {
     "name": "stdout",
     "output_type": "stream",
     "text": [
      "Epoch #189: test_reward: 378.000000 ± 0.000000, best_reward: 1834.000000 ± 0.000000 in #117\n"
     ]
    },
    {
     "name": "stderr",
     "output_type": "stream",
     "text": [
      "Epoch #190: 1025it [00:03, 306.52it/s, env_step=194560, len=17, n/ep=4, n/st=64, player_1/loss=102.655, player_2/loss=345.778, rew=318.00]\n"
     ]
    },
    {
     "name": "stdout",
     "output_type": "stream",
     "text": [
      "Epoch #190: test_reward: 340.000000 ± 0.000000, best_reward: 1834.000000 ± 0.000000 in #117\n"
     ]
    },
    {
     "name": "stderr",
     "output_type": "stream",
     "text": [
      "Epoch #191: 1025it [00:03, 304.26it/s, env_step=195584, len=27, n/ep=2, n/st=64, player_1/loss=300.177, player_2/loss=169.310, rew=770.00]\n"
     ]
    },
    {
     "name": "stdout",
     "output_type": "stream",
     "text": [
      "Epoch #191: test_reward: 1054.000000 ± 0.000000, best_reward: 1834.000000 ± 0.000000 in #117\n"
     ]
    },
    {
     "name": "stderr",
     "output_type": "stream",
     "text": [
      "Epoch #192: 1025it [00:03, 301.65it/s, env_step=196608, len=26, n/ep=2, n/st=64, player_1/loss=242.652, player_2/loss=180.450, rew=821.00]\n"
     ]
    },
    {
     "name": "stdout",
     "output_type": "stream",
     "text": [
      "Epoch #192: test_reward: 1120.000000 ± 0.000000, best_reward: 1834.000000 ± 0.000000 in #117\n"
     ]
    },
    {
     "name": "stderr",
     "output_type": "stream",
     "text": [
      "Epoch #193: 1025it [00:03, 301.20it/s, env_step=197632, len=30, n/ep=2, n/st=64, player_1/loss=238.308, player_2/loss=556.016, rew=928.00]\n"
     ]
    },
    {
     "name": "stdout",
     "output_type": "stream",
     "text": [
      "Epoch #193: test_reward: 648.000000 ± 0.000000, best_reward: 1834.000000 ± 0.000000 in #117\n"
     ]
    },
    {
     "name": "stderr",
     "output_type": "stream",
     "text": [
      "Epoch #194: 1025it [00:03, 304.32it/s, env_step=198656, len=28, n/ep=2, n/st=64, player_1/loss=183.898, player_2/loss=547.450, rew=859.00]\n"
     ]
    },
    {
     "name": "stdout",
     "output_type": "stream",
     "text": [
      "Epoch #194: test_reward: 754.000000 ± 0.000000, best_reward: 1834.000000 ± 0.000000 in #117\n"
     ]
    },
    {
     "name": "stderr",
     "output_type": "stream",
     "text": [
      "Epoch #195: 1025it [00:03, 287.75it/s, env_step=199680, len=15, n/ep=4, n/st=64, player_1/loss=165.917, player_2/loss=457.988, rew=247.50]\n"
     ]
    },
    {
     "name": "stdout",
     "output_type": "stream",
     "text": [
      "Epoch #195: test_reward: 180.000000 ± 0.000000, best_reward: 1834.000000 ± 0.000000 in #117\n"
     ]
    },
    {
     "name": "stderr",
     "output_type": "stream",
     "text": [
      "Epoch #196: 1025it [00:03, 289.92it/s, env_step=200704, len=14, n/ep=4, n/st=64, player_1/loss=202.107, player_2/loss=672.975, rew=232.00]\n"
     ]
    },
    {
     "name": "stdout",
     "output_type": "stream",
     "text": [
      "Epoch #196: test_reward: 418.000000 ± 0.000000, best_reward: 1834.000000 ± 0.000000 in #117\n"
     ]
    },
    {
     "name": "stderr",
     "output_type": "stream",
     "text": [
      "Epoch #197: 1025it [00:03, 306.29it/s, env_step=201728, len=28, n/ep=2, n/st=64, player_1/loss=95.115, player_2/loss=297.527, rew=810.00]\n"
     ]
    },
    {
     "name": "stdout",
     "output_type": "stream",
     "text": [
      "Epoch #197: test_reward: 460.000000 ± 0.000000, best_reward: 1834.000000 ± 0.000000 in #117\n"
     ]
    },
    {
     "name": "stderr",
     "output_type": "stream",
     "text": [
      "Epoch #198: 1025it [00:04, 221.93it/s, env_step=202752, len=21, n/ep=3, n/st=64, player_1/loss=108.048, player_2/loss=316.525, rew=477.33]\n"
     ]
    },
    {
     "name": "stdout",
     "output_type": "stream",
     "text": [
      "Epoch #198: test_reward: 504.000000 ± 0.000000, best_reward: 1834.000000 ± 0.000000 in #117\n"
     ]
    },
    {
     "name": "stderr",
     "output_type": "stream",
     "text": [
      "Epoch #199: 1025it [00:04, 206.02it/s, env_step=203776, len=21, n/ep=2, n/st=64, player_1/loss=84.042, player_2/loss=562.285, rew=482.00]\n"
     ]
    },
    {
     "name": "stdout",
     "output_type": "stream",
     "text": [
      "Epoch #199: test_reward: 504.000000 ± 0.000000, best_reward: 1834.000000 ± 0.000000 in #117\n"
     ]
    },
    {
     "name": "stderr",
     "output_type": "stream",
     "text": [
      "Epoch #200: 1025it [00:04, 217.03it/s, env_step=204800, len=14, n/ep=5, n/st=64, player_1/loss=55.574, player_2/loss=754.603, rew=227.60]\n"
     ]
    },
    {
     "name": "stdout",
     "output_type": "stream",
     "text": [
      "Epoch #200: test_reward: 270.000000 ± 0.000000, best_reward: 1834.000000 ± 0.000000 in #117\n"
     ]
    },
    {
     "name": "stderr",
     "output_type": "stream",
     "text": [
      "Epoch #201: 1025it [00:05, 177.73it/s, env_step=205824, len=21, n/ep=3, n/st=64, player_1/loss=311.598, player_2/loss=331.794, rew=470.67]\n"
     ]
    },
    {
     "name": "stdout",
     "output_type": "stream",
     "text": [
      "Epoch #201: test_reward: 378.000000 ± 0.000000, best_reward: 1834.000000 ± 0.000000 in #117\n"
     ]
    },
    {
     "name": "stderr",
     "output_type": "stream",
     "text": [
      "Epoch #202: 1025it [00:05, 194.76it/s, env_step=206848, len=21, n/ep=2, n/st=64, player_1/loss=117.699, player_2/loss=541.390, rew=461.00]\n"
     ]
    },
    {
     "name": "stdout",
     "output_type": "stream",
     "text": [
      "Epoch #202: test_reward: 418.000000 ± 0.000000, best_reward: 1834.000000 ± 0.000000 in #117\n"
     ]
    },
    {
     "name": "stderr",
     "output_type": "stream",
     "text": [
      "Epoch #203: 1025it [00:04, 215.20it/s, env_step=207872, len=16, n/ep=5, n/st=64, player_1/loss=257.614, player_2/loss=443.194, rew=334.40]\n"
     ]
    },
    {
     "name": "stdout",
     "output_type": "stream",
     "text": [
      "Epoch #203: test_reward: 238.000000 ± 0.000000, best_reward: 1834.000000 ± 0.000000 in #117\n"
     ]
    },
    {
     "name": "stderr",
     "output_type": "stream",
     "text": [
      "Epoch #204: 1025it [00:05, 202.33it/s, env_step=208896, len=21, n/ep=3, n/st=64, player_1/loss=96.455, player_2/loss=294.364, rew=503.33]\n"
     ]
    },
    {
     "name": "stdout",
     "output_type": "stream",
     "text": [
      "Epoch #204: test_reward: 598.000000 ± 0.000000, best_reward: 1834.000000 ± 0.000000 in #117\n"
     ]
    },
    {
     "name": "stderr",
     "output_type": "stream",
     "text": [
      "Epoch #205: 1025it [00:04, 220.63it/s, env_step=209920, len=29, n/ep=2, n/st=64, player_1/loss=200.860, player_2/loss=581.678, rew=872.00]\n"
     ]
    },
    {
     "name": "stdout",
     "output_type": "stream",
     "text": [
      "Epoch #205: test_reward: 700.000000 ± 0.000000, best_reward: 1834.000000 ± 0.000000 in #117\n"
     ]
    },
    {
     "name": "stderr",
     "output_type": "stream",
     "text": [
      "Epoch #206: 1025it [00:04, 238.28it/s, env_step=210944, len=15, n/ep=5, n/st=64, player_1/loss=220.951, player_2/loss=437.994, rew=278.80]\n"
     ]
    },
    {
     "name": "stdout",
     "output_type": "stream",
     "text": [
      "Epoch #206: test_reward: 180.000000 ± 0.000000, best_reward: 1834.000000 ± 0.000000 in #117\n"
     ]
    },
    {
     "name": "stderr",
     "output_type": "stream",
     "text": [
      "Epoch #207: 1025it [00:06, 165.50it/s, env_step=211968, len=14, n/ep=5, n/st=64, player_1/loss=347.240, player_2/loss=203.969, rew=226.80]\n"
     ]
    },
    {
     "name": "stdout",
     "output_type": "stream",
     "text": [
      "Epoch #207: test_reward: 208.000000 ± 0.000000, best_reward: 1834.000000 ± 0.000000 in #117\n"
     ]
    },
    {
     "name": "stderr",
     "output_type": "stream",
     "text": [
      "Epoch #208: 1025it [00:06, 165.19it/s, env_step=212992, len=32, n/ep=2, n/st=64, player_1/loss=248.949, player_2/loss=279.108, rew=1089.00]\n"
     ]
    },
    {
     "name": "stdout",
     "output_type": "stream",
     "text": [
      "Epoch #208: test_reward: 270.000000 ± 0.000000, best_reward: 1834.000000 ± 0.000000 in #117\n"
     ]
    },
    {
     "name": "stderr",
     "output_type": "stream",
     "text": [
      "Epoch #209: 1025it [00:04, 243.50it/s, env_step=214016, len=26, n/ep=2, n/st=64, player_1/loss=191.377, player_2/loss=390.417, rew=727.00]\n"
     ]
    },
    {
     "name": "stdout",
     "output_type": "stream",
     "text": [
      "Epoch #209: test_reward: 648.000000 ± 0.000000, best_reward: 1834.000000 ± 0.000000 in #117\n"
     ]
    },
    {
     "name": "stderr",
     "output_type": "stream",
     "text": [
      "Epoch #210: 1025it [00:04, 227.57it/s, env_step=215040, len=34, n/ep=2, n/st=64, player_1/loss=243.320, player_2/loss=208.244, rew=1225.00]\n"
     ]
    },
    {
     "name": "stdout",
     "output_type": "stream",
     "text": [
      "Epoch #210: test_reward: 928.000000 ± 0.000000, best_reward: 1834.000000 ± 0.000000 in #117\n"
     ]
    },
    {
     "name": "stderr",
     "output_type": "stream",
     "text": [
      "Epoch #211: 1025it [00:04, 222.82it/s, env_step=216064, len=31, n/ep=2, n/st=64, player_1/loss=242.681, player_2/loss=237.912, rew=994.00]\n"
     ]
    },
    {
     "name": "stdout",
     "output_type": "stream",
     "text": [
      "Epoch #211: test_reward: 238.000000 ± 0.000000, best_reward: 1834.000000 ± 0.000000 in #117\n"
     ]
    },
    {
     "name": "stderr",
     "output_type": "stream",
     "text": [
      "Epoch #212: 1025it [00:04, 240.23it/s, env_step=217088, len=30, n/ep=2, n/st=64, player_1/loss=402.298, player_2/loss=161.914, rew=937.00]\n"
     ]
    },
    {
     "name": "stdout",
     "output_type": "stream",
     "text": [
      "Epoch #212: test_reward: 1834.000000 ± 0.000000, best_reward: 1834.000000 ± 0.000000 in #117\n"
     ]
    },
    {
     "name": "stderr",
     "output_type": "stream",
     "text": [
      "Epoch #213: 1025it [00:04, 250.00it/s, env_step=218112, len=14, n/ep=4, n/st=64, player_1/loss=217.847, player_2/loss=246.591, rew=232.00]\n"
     ]
    },
    {
     "name": "stdout",
     "output_type": "stream",
     "text": [
      "Epoch #213: test_reward: 208.000000 ± 0.000000, best_reward: 1834.000000 ± 0.000000 in #117\n"
     ]
    },
    {
     "name": "stderr",
     "output_type": "stream",
     "text": [
      "Epoch #214: 1025it [00:04, 249.41it/s, env_step=219136, len=23, n/ep=3, n/st=64, player_1/loss=162.569, player_2/loss=301.102, rew=558.00]\n"
     ]
    },
    {
     "name": "stdout",
     "output_type": "stream",
     "text": [
      "Epoch #214: test_reward: 378.000000 ± 0.000000, best_reward: 1834.000000 ± 0.000000 in #117\n"
     ]
    },
    {
     "name": "stderr",
     "output_type": "stream",
     "text": [
      "Epoch #215: 1025it [00:04, 242.77it/s, env_step=220160, len=29, n/ep=2, n/st=64, player_1/loss=237.653, player_2/loss=208.382, rew=940.00]\n"
     ]
    },
    {
     "name": "stdout",
     "output_type": "stream",
     "text": [
      "Epoch #215: test_reward: 810.000000 ± 0.000000, best_reward: 1834.000000 ± 0.000000 in #117\n"
     ]
    },
    {
     "name": "stderr",
     "output_type": "stream",
     "text": [
      "Epoch #216: 1025it [00:04, 226.36it/s, env_step=221184, len=22, n/ep=3, n/st=64, player_1/loss=398.097, player_2/loss=280.766, rew=522.00]\n"
     ]
    },
    {
     "name": "stdout",
     "output_type": "stream",
     "text": [
      "Epoch #216: test_reward: 550.000000 ± 0.000000, best_reward: 1834.000000 ± 0.000000 in #117\n"
     ]
    },
    {
     "name": "stderr",
     "output_type": "stream",
     "text": [
      "Epoch #217: 1025it [00:04, 229.15it/s, env_step=222208, len=34, n/ep=1, n/st=64, player_1/loss=405.831, player_2/loss=234.099, rew=1188.00]\n"
     ]
    },
    {
     "name": "stdout",
     "output_type": "stream",
     "text": [
      "Epoch #217: test_reward: 180.000000 ± 0.000000, best_reward: 1834.000000 ± 0.000000 in #117\n"
     ]
    },
    {
     "name": "stderr",
     "output_type": "stream",
     "text": [
      "Epoch #218: 1025it [00:04, 228.89it/s, env_step=223232, len=24, n/ep=3, n/st=64, player_1/loss=241.468, player_2/loss=310.884, rew=726.67]\n"
     ]
    },
    {
     "name": "stdout",
     "output_type": "stream",
     "text": [
      "Epoch #218: test_reward: 1258.000000 ± 0.000000, best_reward: 1834.000000 ± 0.000000 in #117\n"
     ]
    },
    {
     "name": "stderr",
     "output_type": "stream",
     "text": [
      "Epoch #219: 1025it [00:05, 192.84it/s, env_step=224256, len=20, n/ep=4, n/st=64, player_1/loss=182.585, player_2/loss=155.945, rew=450.50]\n"
     ]
    },
    {
     "name": "stdout",
     "output_type": "stream",
     "text": [
      "Epoch #219: test_reward: 810.000000 ± 0.000000, best_reward: 1834.000000 ± 0.000000 in #117\n"
     ]
    },
    {
     "name": "stderr",
     "output_type": "stream",
     "text": [
      "Epoch #220: 1025it [00:05, 196.11it/s, env_step=225280, len=26, n/ep=2, n/st=64, player_1/loss=295.643, player_2/loss=257.612, rew=837.00]\n"
     ]
    },
    {
     "name": "stdout",
     "output_type": "stream",
     "text": [
      "Epoch #220: test_reward: 1480.000000 ± 0.000000, best_reward: 1834.000000 ± 0.000000 in #117\n"
     ]
    },
    {
     "name": "stderr",
     "output_type": "stream",
     "text": [
      "Epoch #221: 1025it [00:05, 182.92it/s, env_step=226304, len=27, n/ep=2, n/st=64, player_1/loss=151.065, player_2/loss=152.144, rew=898.00]\n"
     ]
    },
    {
     "name": "stdout",
     "output_type": "stream",
     "text": [
      "Epoch #221: test_reward: 1054.000000 ± 0.000000, best_reward: 1834.000000 ± 0.000000 in #117\n"
     ]
    },
    {
     "name": "stderr",
     "output_type": "stream",
     "text": [
      "Epoch #222: 1025it [00:04, 234.68it/s, env_step=227328, len=21, n/ep=3, n/st=64, player_1/loss=111.138, player_2/loss=580.285, rew=478.00]\n"
     ]
    },
    {
     "name": "stdout",
     "output_type": "stream",
     "text": [
      "Epoch #222: test_reward: 700.000000 ± 0.000000, best_reward: 1834.000000 ± 0.000000 in #117\n"
     ]
    },
    {
     "name": "stderr",
     "output_type": "stream",
     "text": [
      "Epoch #223: 1025it [00:04, 232.92it/s, env_step=228352, len=10, n/ep=6, n/st=64, player_1/loss=227.088, player_2/loss=404.548, rew=150.67]\n"
     ]
    },
    {
     "name": "stdout",
     "output_type": "stream",
     "text": [
      "Epoch #223: test_reward: 54.000000 ± 0.000000, best_reward: 1834.000000 ± 0.000000 in #117\n"
     ]
    },
    {
     "name": "stderr",
     "output_type": "stream",
     "text": [
      "Epoch #224: 1025it [00:04, 242.00it/s, env_step=229376, len=23, n/ep=3, n/st=64, player_1/loss=218.001, player_2/loss=384.424, rew=570.67]\n"
     ]
    },
    {
     "name": "stdout",
     "output_type": "stream",
     "text": [
      "Epoch #224: test_reward: 270.000000 ± 0.000000, best_reward: 1834.000000 ± 0.000000 in #117\n"
     ]
    },
    {
     "name": "stderr",
     "output_type": "stream",
     "text": [
      "Epoch #225: 1025it [00:04, 247.71it/s, env_step=230400, len=20, n/ep=4, n/st=64, player_1/loss=265.927, player_2/loss=176.519, rew=421.00]\n"
     ]
    },
    {
     "name": "stdout",
     "output_type": "stream",
     "text": [
      "Epoch #225: test_reward: 418.000000 ± 0.000000, best_reward: 1834.000000 ± 0.000000 in #117\n"
     ]
    },
    {
     "name": "stderr",
     "output_type": "stream",
     "text": [
      "Epoch #226: 1025it [00:03, 259.36it/s, env_step=231424, len=29, n/ep=2, n/st=64, player_1/loss=433.131, player_2/loss=379.944, rew=918.00]\n"
     ]
    },
    {
     "name": "stdout",
     "output_type": "stream",
     "text": [
      "Epoch #226: test_reward: 1054.000000 ± 0.000000, best_reward: 1834.000000 ± 0.000000 in #117\n"
     ]
    },
    {
     "name": "stderr",
     "output_type": "stream",
     "text": [
      "Epoch #227: 1025it [00:04, 222.51it/s, env_step=232448, len=26, n/ep=3, n/st=64, player_1/loss=334.418, player_2/loss=400.004, rew=756.00]\n"
     ]
    },
    {
     "name": "stdout",
     "output_type": "stream",
     "text": [
      "Epoch #227: test_reward: 460.000000 ± 0.000000, best_reward: 1834.000000 ± 0.000000 in #117\n"
     ]
    },
    {
     "name": "stderr",
     "output_type": "stream",
     "text": [
      "Epoch #228: 1025it [00:05, 190.04it/s, env_step=233472, len=15, n/ep=5, n/st=64, player_1/loss=294.662, player_2/loss=449.141, rew=256.40]\n"
     ]
    },
    {
     "name": "stdout",
     "output_type": "stream",
     "text": [
      "Epoch #228: test_reward: 238.000000 ± 0.000000, best_reward: 1834.000000 ± 0.000000 in #117\n"
     ]
    },
    {
     "name": "stderr",
     "output_type": "stream",
     "text": [
      "Epoch #229: 1025it [00:10, 96.93it/s, env_step=234496, len=8, n/ep=8, n/st=64, player_1/loss=206.546, player_2/loss=263.599, rew=74.75]\n"
     ]
    },
    {
     "name": "stdout",
     "output_type": "stream",
     "text": [
      "Epoch #229: test_reward: 54.000000 ± 0.000000, best_reward: 1834.000000 ± 0.000000 in #117\n"
     ]
    },
    {
     "name": "stderr",
     "output_type": "stream",
     "text": [
      "Epoch #230: 1025it [00:09, 108.69it/s, env_step=235520, len=10, n/ep=7, n/st=64, player_1/loss=153.768, player_2/loss=194.762, rew=118.86]\n"
     ]
    },
    {
     "name": "stdout",
     "output_type": "stream",
     "text": [
      "Epoch #230: test_reward: 304.000000 ± 0.000000, best_reward: 1834.000000 ± 0.000000 in #117\n"
     ]
    },
    {
     "name": "stderr",
     "output_type": "stream",
     "text": [
      "Epoch #231: 1025it [00:06, 164.39it/s, env_step=236544, len=9, n/ep=6, n/st=64, player_1/loss=110.889, player_2/loss=283.359, rew=109.67]\n"
     ]
    },
    {
     "name": "stdout",
     "output_type": "stream",
     "text": [
      "Epoch #231: test_reward: 54.000000 ± 0.000000, best_reward: 1834.000000 ± 0.000000 in #117\n"
     ]
    },
    {
     "name": "stderr",
     "output_type": "stream",
     "text": [
      "Epoch #232: 1025it [00:05, 198.05it/s, env_step=237568, len=25, n/ep=4, n/st=64, player_1/loss=219.561, player_2/loss=335.246, rew=772.50]\n"
     ]
    },
    {
     "name": "stdout",
     "output_type": "stream",
     "text": [
      "Epoch #232: test_reward: 1330.000000 ± 0.000000, best_reward: 1834.000000 ± 0.000000 in #117\n"
     ]
    },
    {
     "name": "stderr",
     "output_type": "stream",
     "text": [
      "Epoch #233: 1025it [00:03, 259.62it/s, env_step=238592, len=15, n/ep=4, n/st=64, player_1/loss=391.948, player_2/loss=550.869, rew=255.00]\n"
     ]
    },
    {
     "name": "stdout",
     "output_type": "stream",
     "text": [
      "Epoch #233: test_reward: 1188.000000 ± 0.000000, best_reward: 1834.000000 ± 0.000000 in #117\n"
     ]
    },
    {
     "name": "stderr",
     "output_type": "stream",
     "text": [
      "Epoch #234: 1025it [00:03, 267.42it/s, env_step=239616, len=14, n/ep=5, n/st=64, player_1/loss=310.712, player_2/loss=402.826, rew=233.20]\n"
     ]
    },
    {
     "name": "stdout",
     "output_type": "stream",
     "text": [
      "Epoch #234: test_reward: 238.000000 ± 0.000000, best_reward: 1834.000000 ± 0.000000 in #117\n"
     ]
    },
    {
     "name": "stderr",
     "output_type": "stream",
     "text": [
      "Epoch #235: 1025it [00:03, 270.49it/s, env_step=240640, len=33, n/ep=2, n/st=64, player_1/loss=435.685, player_2/loss=459.449, rew=1120.00]\n"
     ]
    },
    {
     "name": "stdout",
     "output_type": "stream",
     "text": [
      "Epoch #235: test_reward: 1188.000000 ± 0.000000, best_reward: 1834.000000 ± 0.000000 in #117\n"
     ]
    },
    {
     "name": "stderr",
     "output_type": "stream",
     "text": [
      "Epoch #236: 1025it [00:03, 273.01it/s, env_step=241664, len=21, n/ep=3, n/st=64, player_1/loss=452.554, player_2/loss=303.839, rew=468.00]\n"
     ]
    },
    {
     "name": "stdout",
     "output_type": "stream",
     "text": [
      "Epoch #236: test_reward: 54.000000 ± 0.000000, best_reward: 1834.000000 ± 0.000000 in #117\n"
     ]
    },
    {
     "name": "stderr",
     "output_type": "stream",
     "text": [
      "Epoch #237: 1025it [00:03, 270.95it/s, env_step=242688, len=17, n/ep=3, n/st=64, player_1/loss=288.044, player_2/loss=293.950, rew=325.33]\n"
     ]
    },
    {
     "name": "stdout",
     "output_type": "stream",
     "text": [
      "Epoch #237: test_reward: 990.000000 ± 0.000000, best_reward: 1834.000000 ± 0.000000 in #117\n"
     ]
    },
    {
     "name": "stderr",
     "output_type": "stream",
     "text": [
      "Epoch #238: 1025it [00:03, 267.49it/s, env_step=243712, len=42, n/ep=1, n/st=64, player_1/loss=410.820, player_2/loss=364.040, rew=1834.00]\n"
     ]
    },
    {
     "name": "stdout",
     "output_type": "stream",
     "text": [
      "Epoch #238: test_reward: 1404.000000 ± 0.000000, best_reward: 1834.000000 ± 0.000000 in #117\n"
     ]
    },
    {
     "name": "stderr",
     "output_type": "stream",
     "text": [
      "Epoch #239: 1025it [00:03, 270.66it/s, env_step=244736, len=13, n/ep=5, n/st=64, player_1/loss=902.540, player_2/loss=581.962, rew=342.40]\n"
     ]
    },
    {
     "name": "stdout",
     "output_type": "stream",
     "text": [
      "Epoch #239: test_reward: 54.000000 ± 0.000000, best_reward: 1834.000000 ± 0.000000 in #117\n"
     ]
    },
    {
     "name": "stderr",
     "output_type": "stream",
     "text": [
      "Epoch #240: 1025it [00:03, 270.38it/s, env_step=245760, len=15, n/ep=4, n/st=64, player_1/loss=398.444, player_2/loss=506.890, rew=256.00]\n"
     ]
    },
    {
     "name": "stdout",
     "output_type": "stream",
     "text": [
      "Epoch #240: test_reward: 208.000000 ± 0.000000, best_reward: 1834.000000 ± 0.000000 in #117\n"
     ]
    },
    {
     "name": "stderr",
     "output_type": "stream",
     "text": [
      "Epoch #241: 1025it [00:03, 267.82it/s, env_step=246784, len=15, n/ep=4, n/st=64, player_1/loss=102.810, player_2/loss=297.746, rew=264.00]\n"
     ]
    },
    {
     "name": "stdout",
     "output_type": "stream",
     "text": [
      "Epoch #241: test_reward: 1404.000000 ± 0.000000, best_reward: 1834.000000 ± 0.000000 in #117\n"
     ]
    },
    {
     "name": "stderr",
     "output_type": "stream",
     "text": [
      "Epoch #242: 1025it [00:03, 270.01it/s, env_step=247808, len=16, n/ep=4, n/st=64, player_1/loss=315.999, player_2/loss=508.605, rew=296.00]\n"
     ]
    },
    {
     "name": "stdout",
     "output_type": "stream",
     "text": [
      "Epoch #242: test_reward: 238.000000 ± 0.000000, best_reward: 1834.000000 ± 0.000000 in #117\n"
     ]
    },
    {
     "name": "stderr",
     "output_type": "stream",
     "text": [
      "Epoch #243: 1025it [00:03, 268.58it/s, env_step=248832, len=19, n/ep=3, n/st=64, player_1/loss=363.959, player_2/loss=533.890, rew=439.33]\n"
     ]
    },
    {
     "name": "stdout",
     "output_type": "stream",
     "text": [
      "Epoch #243: test_reward: 270.000000 ± 0.000000, best_reward: 1834.000000 ± 0.000000 in #117\n"
     ]
    },
    {
     "name": "stderr",
     "output_type": "stream",
     "text": [
      "Epoch #244: 1025it [00:03, 271.30it/s, env_step=249856, len=26, n/ep=3, n/st=64, player_1/loss=271.445, player_2/loss=297.169, rew=805.33]\n"
     ]
    },
    {
     "name": "stdout",
     "output_type": "stream",
     "text": [
      "Epoch #244: test_reward: 1258.000000 ± 0.000000, best_reward: 1834.000000 ± 0.000000 in #117\n"
     ]
    },
    {
     "name": "stderr",
     "output_type": "stream",
     "text": [
      "Epoch #245: 1025it [00:03, 274.04it/s, env_step=250880, len=32, n/ep=2, n/st=64, player_1/loss=406.820, player_2/loss=312.489, rew=1089.00]\n"
     ]
    },
    {
     "name": "stdout",
     "output_type": "stream",
     "text": [
      "Epoch #245: test_reward: 378.000000 ± 0.000000, best_reward: 1834.000000 ± 0.000000 in #117\n"
     ]
    },
    {
     "name": "stderr",
     "output_type": "stream",
     "text": [
      "Epoch #246: 1025it [00:03, 268.76it/s, env_step=251904, len=19, n/ep=3, n/st=64, player_1/loss=391.765, player_2/loss=592.458, rew=411.33]\n"
     ]
    },
    {
     "name": "stdout",
     "output_type": "stream",
     "text": [
      "Epoch #246: test_reward: 1188.000000 ± 0.000000, best_reward: 1834.000000 ± 0.000000 in #117\n"
     ]
    },
    {
     "name": "stderr",
     "output_type": "stream",
     "text": [
      "Epoch #247: 1025it [00:03, 272.22it/s, env_step=252928, len=29, n/ep=2, n/st=64, player_1/loss=255.936, player_2/loss=217.710, rew=1012.00]\n"
     ]
    },
    {
     "name": "stdout",
     "output_type": "stream",
     "text": [
      "Epoch #247: test_reward: 378.000000 ± 0.000000, best_reward: 1834.000000 ± 0.000000 in #117\n"
     ]
    },
    {
     "name": "stderr",
     "output_type": "stream",
     "text": [
      "Epoch #248: 1025it [00:03, 268.87it/s, env_step=253952, len=14, n/ep=5, n/st=64, player_1/loss=777.952, player_2/loss=419.667, rew=221.20]\n"
     ]
    },
    {
     "name": "stdout",
     "output_type": "stream",
     "text": [
      "Epoch #248: test_reward: 180.000000 ± 0.000000, best_reward: 1834.000000 ± 0.000000 in #117\n"
     ]
    },
    {
     "name": "stderr",
     "output_type": "stream",
     "text": [
      "Epoch #249: 1025it [00:03, 269.56it/s, env_step=254976, len=36, n/ep=1, n/st=64, player_1/loss=433.076, player_2/loss=259.926, rew=1330.00]\n"
     ]
    },
    {
     "name": "stdout",
     "output_type": "stream",
     "text": [
      "Epoch #249: test_reward: 810.000000 ± 0.000000, best_reward: 1834.000000 ± 0.000000 in #117\n"
     ]
    },
    {
     "name": "stderr",
     "output_type": "stream",
     "text": [
      "Epoch #250: 1025it [00:03, 269.84it/s, env_step=256000, len=38, n/ep=2, n/st=64, player_1/loss=318.536, player_2/loss=315.595, rew=1481.00]\n"
     ]
    },
    {
     "name": "stdout",
     "output_type": "stream",
     "text": [
      "Epoch #250: test_reward: 1258.000000 ± 0.000000, best_reward: 1834.000000 ± 0.000000 in #117\n"
     ]
    },
    {
     "name": "stderr",
     "output_type": "stream",
     "text": [
      "Epoch #251: 1025it [00:03, 273.21it/s, env_step=257024, len=25, n/ep=3, n/st=64, player_1/loss=154.920, player_2/loss=701.214, rew=690.00]\n"
     ]
    },
    {
     "name": "stdout",
     "output_type": "stream",
     "text": [
      "Epoch #251: test_reward: 418.000000 ± 0.000000, best_reward: 1834.000000 ± 0.000000 in #117\n"
     ]
    },
    {
     "name": "stderr",
     "output_type": "stream",
     "text": [
      "Epoch #252: 1025it [00:03, 274.49it/s, env_step=258048, len=25, n/ep=2, n/st=64, player_1/loss=319.436, player_2/loss=732.392, rew=664.00]\n"
     ]
    },
    {
     "name": "stdout",
     "output_type": "stream",
     "text": [
      "Epoch #252: test_reward: 1404.000000 ± 0.000000, best_reward: 1834.000000 ± 0.000000 in #117\n"
     ]
    },
    {
     "name": "stderr",
     "output_type": "stream",
     "text": [
      "Epoch #253: 1025it [00:03, 279.07it/s, env_step=259072, len=36, n/ep=2, n/st=64, player_1/loss=365.355, player_2/loss=540.103, rew=1369.00]\n"
     ]
    },
    {
     "name": "stdout",
     "output_type": "stream",
     "text": [
      "Epoch #253: test_reward: 928.000000 ± 0.000000, best_reward: 1834.000000 ± 0.000000 in #117\n"
     ]
    },
    {
     "name": "stderr",
     "output_type": "stream",
     "text": [
      "Epoch #254: 1025it [00:03, 281.81it/s, env_step=260096, len=28, n/ep=2, n/st=64, player_1/loss=715.520, player_2/loss=207.923, rew=814.00]\n"
     ]
    },
    {
     "name": "stdout",
     "output_type": "stream",
     "text": [
      "Epoch #254: test_reward: 754.000000 ± 0.000000, best_reward: 1834.000000 ± 0.000000 in #117\n"
     ]
    },
    {
     "name": "stderr",
     "output_type": "stream",
     "text": [
      "Epoch #255: 1025it [00:03, 277.99it/s, env_step=261120, len=27, n/ep=2, n/st=64, player_1/loss=407.630, player_2/loss=330.908, rew=923.00]\n"
     ]
    },
    {
     "name": "stdout",
     "output_type": "stream",
     "text": [
      "Epoch #255: test_reward: 928.000000 ± 0.000000, best_reward: 1834.000000 ± 0.000000 in #117\n"
     ]
    },
    {
     "name": "stderr",
     "output_type": "stream",
     "text": [
      "Epoch #256: 1025it [00:03, 270.65it/s, env_step=262144, len=18, n/ep=4, n/st=64, player_1/loss=607.010, player_2/loss=387.191, rew=418.50]\n"
     ]
    },
    {
     "name": "stdout",
     "output_type": "stream",
     "text": [
      "Epoch #256: test_reward: 180.000000 ± 0.000000, best_reward: 1834.000000 ± 0.000000 in #117\n"
     ]
    },
    {
     "name": "stderr",
     "output_type": "stream",
     "text": [
      "Epoch #257: 1025it [00:03, 270.16it/s, env_step=263168, len=31, n/ep=2, n/st=64, player_1/loss=495.475, player_2/loss=212.263, rew=1026.00]\n"
     ]
    },
    {
     "name": "stdout",
     "output_type": "stream",
     "text": [
      "Epoch #257: test_reward: 990.000000 ± 0.000000, best_reward: 1834.000000 ± 0.000000 in #117\n"
     ]
    },
    {
     "name": "stderr",
     "output_type": "stream",
     "text": [
      "Epoch #258: 1025it [00:03, 261.82it/s, env_step=264192, len=20, n/ep=3, n/st=64, player_1/loss=707.387, player_2/loss=707.653, rew=436.00]\n"
     ]
    },
    {
     "name": "stdout",
     "output_type": "stream",
     "text": [
      "Epoch #258: test_reward: 504.000000 ± 0.000000, best_reward: 1834.000000 ± 0.000000 in #117\n"
     ]
    },
    {
     "name": "stderr",
     "output_type": "stream",
     "text": [
      "Epoch #259: 1025it [00:03, 273.55it/s, env_step=265216, len=26, n/ep=2, n/st=64, player_1/loss=245.692, player_2/loss=1239.248, rew=701.00]\n"
     ]
    },
    {
     "name": "stdout",
     "output_type": "stream",
     "text": [
      "Epoch #259: test_reward: 1480.000000 ± 0.000000, best_reward: 1834.000000 ± 0.000000 in #117\n"
     ]
    },
    {
     "name": "stderr",
     "output_type": "stream",
     "text": [
      "Epoch #260: 1025it [00:03, 271.52it/s, env_step=266240, len=42, n/ep=1, n/st=64, player_1/loss=377.120, player_2/loss=762.886, rew=1834.00]\n"
     ]
    },
    {
     "name": "stdout",
     "output_type": "stream",
     "text": [
      "Epoch #260: test_reward: 928.000000 ± 0.000000, best_reward: 1834.000000 ± 0.000000 in #117\n"
     ]
    },
    {
     "name": "stderr",
     "output_type": "stream",
     "text": [
      "Epoch #261: 1025it [00:03, 277.08it/s, env_step=267264, len=20, n/ep=4, n/st=64, player_1/loss=460.422, player_2/loss=479.486, rew=419.50]\n"
     ]
    },
    {
     "name": "stdout",
     "output_type": "stream",
     "text": [
      "Epoch #261: test_reward: 504.000000 ± 0.000000, best_reward: 1834.000000 ± 0.000000 in #117\n"
     ]
    },
    {
     "name": "stderr",
     "output_type": "stream",
     "text": [
      "Epoch #262: 1025it [00:03, 272.37it/s, env_step=268288, len=37, n/ep=2, n/st=64, player_1/loss=468.773, player_2/loss=496.728, rew=1408.00]\n"
     ]
    },
    {
     "name": "stdout",
     "output_type": "stream",
     "text": [
      "Epoch #262: test_reward: 1120.000000 ± 0.000000, best_reward: 1834.000000 ± 0.000000 in #117\n"
     ]
    },
    {
     "name": "stderr",
     "output_type": "stream",
     "text": [
      "Epoch #263: 1025it [00:03, 273.07it/s, env_step=269312, len=27, n/ep=2, n/st=64, player_1/loss=467.557, player_2/loss=589.556, rew=758.00]\n"
     ]
    },
    {
     "name": "stdout",
     "output_type": "stream",
     "text": [
      "Epoch #263: test_reward: 1558.000000 ± 0.000000, best_reward: 1834.000000 ± 0.000000 in #117\n"
     ]
    },
    {
     "name": "stderr",
     "output_type": "stream",
     "text": [
      "Epoch #264: 1025it [00:03, 271.37it/s, env_step=270336, len=31, n/ep=2, n/st=64, player_1/loss=498.051, player_2/loss=833.902, rew=1028.00]\n"
     ]
    },
    {
     "name": "stdout",
     "output_type": "stream",
     "text": [
      "Epoch #264: test_reward: 1480.000000 ± 0.000000, best_reward: 1834.000000 ± 0.000000 in #117\n"
     ]
    },
    {
     "name": "stderr",
     "output_type": "stream",
     "text": [
      "Epoch #265: 1025it [00:03, 276.42it/s, env_step=271360, len=31, n/ep=2, n/st=64, player_1/loss=266.998, player_2/loss=327.536, rew=991.00]\n"
     ]
    },
    {
     "name": "stdout",
     "output_type": "stream",
     "text": [
      "Epoch #265: test_reward: 1054.000000 ± 0.000000, best_reward: 1834.000000 ± 0.000000 in #117\n"
     ]
    },
    {
     "name": "stderr",
     "output_type": "stream",
     "text": [
      "Epoch #266: 1025it [00:03, 265.20it/s, env_step=272384, len=21, n/ep=2, n/st=64, player_1/loss=574.976, player_2/loss=846.241, rew=482.00]\n"
     ]
    },
    {
     "name": "stdout",
     "output_type": "stream",
     "text": [
      "Epoch #266: test_reward: 460.000000 ± 0.000000, best_reward: 1834.000000 ± 0.000000 in #117\n"
     ]
    },
    {
     "name": "stderr",
     "output_type": "stream",
     "text": [
      "Epoch #267: 1025it [00:03, 323.42it/s, env_step=273408, len=31, n/ep=2, n/st=64, player_1/loss=357.895, player_2/loss=778.655, rew=1006.00]\n"
     ]
    },
    {
     "name": "stdout",
     "output_type": "stream",
     "text": [
      "Epoch #267: test_reward: 700.000000 ± 0.000000, best_reward: 1834.000000 ± 0.000000 in #117\n"
     ]
    },
    {
     "name": "stderr",
     "output_type": "stream",
     "text": [
      "Epoch #268: 1025it [00:02, 346.33it/s, env_step=274432, len=36, n/ep=2, n/st=64, player_1/loss=358.471, player_2/loss=555.490, rew=1339.00]\n"
     ]
    },
    {
     "name": "stdout",
     "output_type": "stream",
     "text": [
      "Epoch #268: test_reward: 1054.000000 ± 0.000000, best_reward: 1834.000000 ± 0.000000 in #117\n"
     ]
    },
    {
     "name": "stderr",
     "output_type": "stream",
     "text": [
      "Epoch #269: 1025it [00:02, 378.60it/s, env_step=275456, len=27, n/ep=2, n/st=64, player_1/loss=437.486, player_2/loss=249.489, rew=854.00]\n"
     ]
    },
    {
     "name": "stdout",
     "output_type": "stream",
     "text": [
      "Epoch #269: test_reward: 180.000000 ± 0.000000, best_reward: 1834.000000 ± 0.000000 in #117\n"
     ]
    },
    {
     "name": "stderr",
     "output_type": "stream",
     "text": [
      "Epoch #270: 1025it [00:02, 350.28it/s, env_step=276480, len=37, n/ep=2, n/st=64, player_1/loss=171.725, player_2/loss=648.218, rew=1442.00]\n"
     ]
    },
    {
     "name": "stdout",
     "output_type": "stream",
     "text": [
      "Epoch #270: test_reward: 1330.000000 ± 0.000000, best_reward: 1834.000000 ± 0.000000 in #117\n"
     ]
    },
    {
     "name": "stderr",
     "output_type": "stream",
     "text": [
      "Epoch #271: 1025it [00:02, 344.45it/s, env_step=277504, len=32, n/ep=2, n/st=64, player_1/loss=298.997, player_2/loss=269.354, rew=1169.00]\n"
     ]
    },
    {
     "name": "stdout",
     "output_type": "stream",
     "text": [
      "Epoch #271: test_reward: 1480.000000 ± 0.000000, best_reward: 1834.000000 ± 0.000000 in #117\n"
     ]
    },
    {
     "name": "stderr",
     "output_type": "stream",
     "text": [
      "Epoch #272: 1025it [00:02, 349.52it/s, env_step=278528, len=28, n/ep=2, n/st=64, player_1/loss=1030.497, player_2/loss=157.617, rew=819.00]\n"
     ]
    },
    {
     "name": "stdout",
     "output_type": "stream",
     "text": [
      "Epoch #272: test_reward: 810.000000 ± 0.000000, best_reward: 1834.000000 ± 0.000000 in #117\n"
     ]
    },
    {
     "name": "stderr",
     "output_type": "stream",
     "text": [
      "Epoch #273: 1025it [00:02, 346.18it/s, env_step=279552, len=22, n/ep=3, n/st=64, player_1/loss=559.782, player_2/loss=529.740, rew=527.33]\n"
     ]
    },
    {
     "name": "stdout",
     "output_type": "stream",
     "text": [
      "Epoch #273: test_reward: 378.000000 ± 0.000000, best_reward: 1834.000000 ± 0.000000 in #117\n"
     ]
    },
    {
     "name": "stderr",
     "output_type": "stream",
     "text": [
      "Epoch #274: 1025it [00:02, 343.59it/s, env_step=280576, len=15, n/ep=4, n/st=64, player_1/loss=586.565, player_2/loss=623.872, rew=239.50]\n"
     ]
    },
    {
     "name": "stdout",
     "output_type": "stream",
     "text": [
      "Epoch #274: test_reward: 340.000000 ± 0.000000, best_reward: 1834.000000 ± 0.000000 in #117\n"
     ]
    },
    {
     "name": "stderr",
     "output_type": "stream",
     "text": [
      "Epoch #275: 1025it [00:02, 349.25it/s, env_step=281600, len=19, n/ep=4, n/st=64, player_1/loss=429.903, player_2/loss=907.000, rew=414.00]\n"
     ]
    },
    {
     "name": "stdout",
     "output_type": "stream",
     "text": [
      "Epoch #275: test_reward: 418.000000 ± 0.000000, best_reward: 1834.000000 ± 0.000000 in #117\n"
     ]
    },
    {
     "name": "stderr",
     "output_type": "stream",
     "text": [
      "Epoch #276: 1025it [00:02, 360.64it/s, env_step=282624, len=33, n/ep=2, n/st=64, player_1/loss=627.553, player_2/loss=312.373, rew=1124.00]\n"
     ]
    },
    {
     "name": "stdout",
     "output_type": "stream",
     "text": [
      "Epoch #276: test_reward: 990.000000 ± 0.000000, best_reward: 1834.000000 ± 0.000000 in #117\n"
     ]
    },
    {
     "name": "stderr",
     "output_type": "stream",
     "text": [
      "Epoch #277: 1025it [00:02, 361.12it/s, env_step=283648, len=21, n/ep=3, n/st=64, player_1/loss=556.588, player_2/loss=769.723, rew=498.00]\n"
     ]
    },
    {
     "name": "stdout",
     "output_type": "stream",
     "text": [
      "Epoch #277: test_reward: 1330.000000 ± 0.000000, best_reward: 1834.000000 ± 0.000000 in #117\n"
     ]
    },
    {
     "name": "stderr",
     "output_type": "stream",
     "text": [
      "Epoch #278: 1025it [00:02, 358.69it/s, env_step=284672, len=28, n/ep=2, n/st=64, player_1/loss=681.995, player_2/loss=558.391, rew=819.00]\n"
     ]
    },
    {
     "name": "stdout",
     "output_type": "stream",
     "text": [
      "Epoch #278: test_reward: 990.000000 ± 0.000000, best_reward: 1834.000000 ± 0.000000 in #117\n"
     ]
    },
    {
     "name": "stderr",
     "output_type": "stream",
     "text": [
      "Epoch #279: 1025it [00:02, 360.98it/s, env_step=285696, len=33, n/ep=2, n/st=64, player_1/loss=219.680, player_2/loss=567.761, rew=1160.00]\n"
     ]
    },
    {
     "name": "stdout",
     "output_type": "stream",
     "text": [
      "Epoch #279: test_reward: 1404.000000 ± 0.000000, best_reward: 1834.000000 ± 0.000000 in #117\n"
     ]
    },
    {
     "name": "stderr",
     "output_type": "stream",
     "text": [
      "Epoch #280: 1025it [00:02, 360.61it/s, env_step=286720, len=21, n/ep=3, n/st=64, player_1/loss=573.837, player_2/loss=356.169, rew=475.33]\n"
     ]
    },
    {
     "name": "stdout",
     "output_type": "stream",
     "text": [
      "Epoch #280: test_reward: 378.000000 ± 0.000000, best_reward: 1834.000000 ± 0.000000 in #117\n"
     ]
    },
    {
     "name": "stderr",
     "output_type": "stream",
     "text": [
      "Epoch #281: 1025it [00:02, 359.01it/s, env_step=287744, len=28, n/ep=2, n/st=64, player_1/loss=353.591, player_2/loss=591.446, rew=819.00]\n"
     ]
    },
    {
     "name": "stdout",
     "output_type": "stream",
     "text": [
      "Epoch #281: test_reward: 990.000000 ± 0.000000, best_reward: 1834.000000 ± 0.000000 in #117\n"
     ]
    },
    {
     "name": "stderr",
     "output_type": "stream",
     "text": [
      "Epoch #282: 1025it [00:02, 359.02it/s, env_step=288768, len=26, n/ep=2, n/st=64, player_1/loss=506.527, player_2/loss=310.312, rew=704.00]\n"
     ]
    },
    {
     "name": "stdout",
     "output_type": "stream",
     "text": [
      "Epoch #282: test_reward: 648.000000 ± 0.000000, best_reward: 1834.000000 ± 0.000000 in #117\n"
     ]
    },
    {
     "name": "stderr",
     "output_type": "stream",
     "text": [
      "Epoch #283: 1025it [00:02, 360.68it/s, env_step=289792, len=30, n/ep=2, n/st=64, player_1/loss=685.532, player_2/loss=391.858, rew=971.00]\n"
     ]
    },
    {
     "name": "stdout",
     "output_type": "stream",
     "text": [
      "Epoch #283: test_reward: 1188.000000 ± 0.000000, best_reward: 1834.000000 ± 0.000000 in #117\n"
     ]
    },
    {
     "name": "stderr",
     "output_type": "stream",
     "text": [
      "Epoch #284: 1025it [00:02, 359.09it/s, env_step=290816, len=29, n/ep=3, n/st=64, player_1/loss=579.435, player_2/loss=358.146, rew=912.00]\n"
     ]
    },
    {
     "name": "stdout",
     "output_type": "stream",
     "text": [
      "Epoch #284: test_reward: 1404.000000 ± 0.000000, best_reward: 1834.000000 ± 0.000000 in #117\n"
     ]
    },
    {
     "name": "stderr",
     "output_type": "stream",
     "text": [
      "Epoch #285: 1025it [00:03, 335.23it/s, env_step=291840, len=34, n/ep=2, n/st=64, player_1/loss=479.775, player_2/loss=611.806, rew=1197.00]\n"
     ]
    },
    {
     "name": "stdout",
     "output_type": "stream",
     "text": [
      "Epoch #285: test_reward: 928.000000 ± 0.000000, best_reward: 1834.000000 ± 0.000000 in #117\n"
     ]
    },
    {
     "name": "stderr",
     "output_type": "stream",
     "text": [
      "Epoch #286: 1025it [00:02, 370.34it/s, env_step=292864, len=30, n/ep=2, n/st=64, player_1/loss=485.704, player_2/loss=866.734, rew=928.00]\n"
     ]
    },
    {
     "name": "stdout",
     "output_type": "stream",
     "text": [
      "Epoch #286: test_reward: 810.000000 ± 0.000000, best_reward: 1834.000000 ± 0.000000 in #117\n"
     ]
    },
    {
     "name": "stderr",
     "output_type": "stream",
     "text": [
      "Epoch #287: 1025it [00:02, 383.12it/s, env_step=293888, len=17, n/ep=3, n/st=64, player_1/loss=230.392, player_2/loss=572.575, rew=308.67]\n"
     ]
    },
    {
     "name": "stdout",
     "output_type": "stream",
     "text": [
      "Epoch #287: test_reward: 378.000000 ± 0.000000, best_reward: 1834.000000 ± 0.000000 in #117\n"
     ]
    },
    {
     "name": "stderr",
     "output_type": "stream",
     "text": [
      "Epoch #288: 1025it [00:02, 385.05it/s, env_step=294912, len=16, n/ep=5, n/st=64, player_1/loss=503.741, player_2/loss=549.845, rew=311.60]\n"
     ]
    },
    {
     "name": "stdout",
     "output_type": "stream",
     "text": [
      "Epoch #288: test_reward: 180.000000 ± 0.000000, best_reward: 1834.000000 ± 0.000000 in #117\n"
     ]
    },
    {
     "name": "stderr",
     "output_type": "stream",
     "text": [
      "Epoch #289: 1025it [00:02, 361.63it/s, env_step=295936, len=15, n/ep=4, n/st=64, player_1/loss=489.393, player_2/loss=418.013, rew=255.00]\n"
     ]
    },
    {
     "name": "stdout",
     "output_type": "stream",
     "text": [
      "Epoch #289: test_reward: 180.000000 ± 0.000000, best_reward: 1834.000000 ± 0.000000 in #117\n"
     ]
    },
    {
     "name": "stderr",
     "output_type": "stream",
     "text": [
      "Epoch #290: 1025it [00:02, 368.95it/s, env_step=296960, len=21, n/ep=3, n/st=64, player_1/loss=326.003, player_2/loss=749.051, rew=474.67]\n"
     ]
    },
    {
     "name": "stdout",
     "output_type": "stream",
     "text": [
      "Epoch #290: test_reward: 460.000000 ± 0.000000, best_reward: 1834.000000 ± 0.000000 in #117\n"
     ]
    },
    {
     "name": "stderr",
     "output_type": "stream",
     "text": [
      "Epoch #291: 1025it [00:02, 377.28it/s, env_step=297984, len=35, n/ep=2, n/st=64, player_1/loss=229.953, player_2/loss=472.449, rew=1267.00]\n"
     ]
    },
    {
     "name": "stdout",
     "output_type": "stream",
     "text": [
      "Epoch #291: test_reward: 460.000000 ± 0.000000, best_reward: 1834.000000 ± 0.000000 in #117\n"
     ]
    },
    {
     "name": "stderr",
     "output_type": "stream",
     "text": [
      "Epoch #292: 1025it [00:02, 363.28it/s, env_step=299008, len=27, n/ep=2, n/st=64, player_1/loss=187.990, player_2/loss=488.643, rew=818.00]\n"
     ]
    },
    {
     "name": "stdout",
     "output_type": "stream",
     "text": [
      "Epoch #292: test_reward: 1480.000000 ± 0.000000, best_reward: 1834.000000 ± 0.000000 in #117\n"
     ]
    },
    {
     "name": "stderr",
     "output_type": "stream",
     "text": [
      "Epoch #293: 1025it [00:02, 365.97it/s, env_step=300032, len=27, n/ep=3, n/st=64, player_1/loss=761.235, player_2/loss=484.322, rew=760.00]\n"
     ]
    },
    {
     "name": "stdout",
     "output_type": "stream",
     "text": [
      "Epoch #293: test_reward: 648.000000 ± 0.000000, best_reward: 1834.000000 ± 0.000000 in #117\n"
     ]
    },
    {
     "name": "stderr",
     "output_type": "stream",
     "text": [
      "Epoch #294: 1025it [00:02, 365.31it/s, env_step=301056, len=34, n/ep=1, n/st=64, player_1/loss=299.200, player_2/loss=498.404, rew=1188.00]\n"
     ]
    },
    {
     "name": "stdout",
     "output_type": "stream",
     "text": [
      "Epoch #294: test_reward: 928.000000 ± 0.000000, best_reward: 1834.000000 ± 0.000000 in #117\n"
     ]
    },
    {
     "name": "stderr",
     "output_type": "stream",
     "text": [
      "Epoch #295: 1025it [00:03, 330.39it/s, env_step=302080, len=30, n/ep=2, n/st=64, player_1/loss=645.955, player_2/loss=586.253, rew=932.00]\n"
     ]
    },
    {
     "name": "stdout",
     "output_type": "stream",
     "text": [
      "Epoch #295: test_reward: 928.000000 ± 0.000000, best_reward: 1834.000000 ± 0.000000 in #117\n"
     ]
    },
    {
     "name": "stderr",
     "output_type": "stream",
     "text": [
      "Epoch #296: 1025it [00:03, 294.75it/s, env_step=303104, len=32, n/ep=2, n/st=64, player_1/loss=630.380, player_2/loss=518.217, rew=1079.00]\n"
     ]
    },
    {
     "name": "stdout",
     "output_type": "stream",
     "text": [
      "Epoch #296: test_reward: 1480.000000 ± 0.000000, best_reward: 1834.000000 ± 0.000000 in #117\n"
     ]
    },
    {
     "name": "stderr",
     "output_type": "stream",
     "text": [
      "Epoch #297: 1025it [00:02, 397.46it/s, env_step=304128, len=40, n/ep=1, n/st=64, player_1/loss=931.698, player_2/loss=150.921, rew=1638.00]\n"
     ]
    },
    {
     "name": "stdout",
     "output_type": "stream",
     "text": [
      "Epoch #297: test_reward: 928.000000 ± 0.000000, best_reward: 1834.000000 ± 0.000000 in #117\n"
     ]
    },
    {
     "name": "stderr",
     "output_type": "stream",
     "text": [
      "Epoch #298: 1025it [00:02, 402.03it/s, env_step=305152, len=11, n/ep=7, n/st=64, player_1/loss=337.905, player_2/loss=617.502, rew=218.29]\n"
     ]
    },
    {
     "name": "stdout",
     "output_type": "stream",
     "text": [
      "Epoch #298: test_reward: 54.000000 ± 0.000000, best_reward: 1834.000000 ± 0.000000 in #117\n"
     ]
    },
    {
     "name": "stderr",
     "output_type": "stream",
     "text": [
      "Epoch #299: 1025it [00:02, 403.82it/s, env_step=306176, len=16, n/ep=4, n/st=64, player_1/loss=129.132, player_2/loss=722.969, rew=281.50]\n"
     ]
    },
    {
     "name": "stdout",
     "output_type": "stream",
     "text": [
      "Epoch #299: test_reward: 180.000000 ± 0.000000, best_reward: 1834.000000 ± 0.000000 in #117\n"
     ]
    },
    {
     "name": "stderr",
     "output_type": "stream",
     "text": [
      "Epoch #300: 1025it [00:02, 403.84it/s, env_step=307200, len=22, n/ep=3, n/st=64, player_1/loss=451.826, player_2/loss=400.775, rew=537.33]\n"
     ]
    },
    {
     "name": "stdout",
     "output_type": "stream",
     "text": [
      "Epoch #300: test_reward: 208.000000 ± 0.000000, best_reward: 1834.000000 ± 0.000000 in #117\n"
     ]
    },
    {
     "name": "stderr",
     "output_type": "stream",
     "text": [
      "Epoch #301: 1025it [00:02, 401.82it/s, env_step=308224, len=21, n/ep=3, n/st=64, player_1/loss=630.599, player_2/loss=624.233, rew=477.33]\n"
     ]
    },
    {
     "name": "stdout",
     "output_type": "stream",
     "text": [
      "Epoch #301: test_reward: 238.000000 ± 0.000000, best_reward: 1834.000000 ± 0.000000 in #117\n"
     ]
    },
    {
     "name": "stderr",
     "output_type": "stream",
     "text": [
      "Epoch #302: 1025it [00:02, 386.16it/s, env_step=309248, len=20, n/ep=3, n/st=64, player_1/loss=522.124, player_2/loss=880.035, rew=432.67]\n"
     ]
    },
    {
     "name": "stdout",
     "output_type": "stream",
     "text": [
      "Epoch #302: test_reward: 418.000000 ± 0.000000, best_reward: 1834.000000 ± 0.000000 in #117\n"
     ]
    },
    {
     "name": "stderr",
     "output_type": "stream",
     "text": [
      "Epoch #303: 1025it [00:02, 381.57it/s, env_step=310272, len=23, n/ep=3, n/st=64, player_1/loss=282.456, player_2/loss=817.497, rew=568.00]\n"
     ]
    },
    {
     "name": "stdout",
     "output_type": "stream",
     "text": [
      "Epoch #303: test_reward: 504.000000 ± 0.000000, best_reward: 1834.000000 ± 0.000000 in #117\n"
     ]
    },
    {
     "name": "stderr",
     "output_type": "stream",
     "text": [
      "Epoch #304: 1025it [00:02, 404.69it/s, env_step=311296, len=30, n/ep=3, n/st=64, player_1/loss=341.691, player_2/loss=649.806, rew=1062.67]\n"
     ]
    },
    {
     "name": "stdout",
     "output_type": "stream",
     "text": [
      "Epoch #304: test_reward: 1404.000000 ± 0.000000, best_reward: 1834.000000 ± 0.000000 in #117\n"
     ]
    },
    {
     "name": "stderr",
     "output_type": "stream",
     "text": [
      "Epoch #305: 1025it [00:02, 388.54it/s, env_step=312320, len=30, n/ep=2, n/st=64, player_1/loss=238.259, player_2/loss=521.799, rew=979.00]\n"
     ]
    },
    {
     "name": "stdout",
     "output_type": "stream",
     "text": [
      "Epoch #305: test_reward: 754.000000 ± 0.000000, best_reward: 1834.000000 ± 0.000000 in #117\n"
     ]
    },
    {
     "name": "stderr",
     "output_type": "stream",
     "text": [
      "Epoch #306: 1025it [00:02, 367.14it/s, env_step=313344, len=13, n/ep=5, n/st=64, player_1/loss=290.977, player_2/loss=699.536, rew=191.20]\n"
     ]
    },
    {
     "name": "stdout",
     "output_type": "stream",
     "text": [
      "Epoch #306: test_reward: 418.000000 ± 0.000000, best_reward: 1834.000000 ± 0.000000 in #117\n"
     ]
    },
    {
     "name": "stderr",
     "output_type": "stream",
     "text": [
      "Epoch #307: 1025it [00:02, 354.61it/s, env_step=314368, len=33, n/ep=2, n/st=64, player_1/loss=93.139, player_2/loss=338.356, rew=1156.00]\n"
     ]
    },
    {
     "name": "stdout",
     "output_type": "stream",
     "text": [
      "Epoch #307: test_reward: 754.000000 ± 0.000000, best_reward: 1834.000000 ± 0.000000 in #117\n"
     ]
    },
    {
     "name": "stderr",
     "output_type": "stream",
     "text": [
      "Epoch #308: 1025it [00:02, 345.90it/s, env_step=315392, len=25, n/ep=2, n/st=64, player_1/loss=248.899, player_2/loss=443.715, rew=674.00]\n"
     ]
    },
    {
     "name": "stdout",
     "output_type": "stream",
     "text": [
      "Epoch #308: test_reward: 810.000000 ± 0.000000, best_reward: 1834.000000 ± 0.000000 in #117\n"
     ]
    },
    {
     "name": "stderr",
     "output_type": "stream",
     "text": [
      "Epoch #309: 1025it [00:02, 347.46it/s, env_step=316416, len=42, n/ep=1, n/st=64, player_1/loss=679.574, player_2/loss=444.081, rew=1834.00]\n"
     ]
    },
    {
     "name": "stdout",
     "output_type": "stream",
     "text": [
      "Epoch #309: test_reward: 270.000000 ± 0.000000, best_reward: 1834.000000 ± 0.000000 in #117\n"
     ]
    },
    {
     "name": "stderr",
     "output_type": "stream",
     "text": [
      "Epoch #310: 1025it [00:02, 347.82it/s, env_step=317440, len=35, n/ep=2, n/st=64, player_1/loss=358.814, player_2/loss=608.912, rew=1262.00]\n"
     ]
    },
    {
     "name": "stdout",
     "output_type": "stream",
     "text": [
      "Epoch #310: test_reward: 928.000000 ± 0.000000, best_reward: 1834.000000 ± 0.000000 in #117\n"
     ]
    },
    {
     "name": "stderr",
     "output_type": "stream",
     "text": [
      "Epoch #311: 1025it [00:02, 346.74it/s, env_step=318464, len=28, n/ep=2, n/st=64, player_1/loss=531.841, player_2/loss=384.037, rew=826.00]\n"
     ]
    },
    {
     "name": "stdout",
     "output_type": "stream",
     "text": [
      "Epoch #311: test_reward: 180.000000 ± 0.000000, best_reward: 1834.000000 ± 0.000000 in #117\n"
     ]
    },
    {
     "name": "stderr",
     "output_type": "stream",
     "text": [
      "Epoch #312: 1025it [00:02, 346.54it/s, env_step=319488, len=25, n/ep=3, n/st=64, player_1/loss=456.560, player_2/loss=358.693, rew=717.33]\n"
     ]
    },
    {
     "name": "stdout",
     "output_type": "stream",
     "text": [
      "Epoch #312: test_reward: 378.000000 ± 0.000000, best_reward: 1834.000000 ± 0.000000 in #117\n"
     ]
    },
    {
     "name": "stderr",
     "output_type": "stream",
     "text": [
      "Epoch #313: 1025it [00:02, 347.67it/s, env_step=320512, len=20, n/ep=3, n/st=64, player_1/loss=318.225, player_2/loss=196.693, rew=432.67]\n"
     ]
    },
    {
     "name": "stdout",
     "output_type": "stream",
     "text": [
      "Epoch #313: test_reward: 54.000000 ± 0.000000, best_reward: 1834.000000 ± 0.000000 in #117\n"
     ]
    },
    {
     "name": "stderr",
     "output_type": "stream",
     "text": [
      "Epoch #314: 1025it [00:02, 345.65it/s, env_step=321536, len=19, n/ep=4, n/st=64, player_1/loss=288.603, player_2/loss=372.781, rew=399.50]\n"
     ]
    },
    {
     "name": "stdout",
     "output_type": "stream",
     "text": [
      "Epoch #314: test_reward: 180.000000 ± 0.000000, best_reward: 1834.000000 ± 0.000000 in #117\n"
     ]
    },
    {
     "name": "stderr",
     "output_type": "stream",
     "text": [
      "Epoch #315: 1025it [00:02, 347.42it/s, env_step=322560, len=33, n/ep=1, n/st=64, player_1/loss=431.418, player_2/loss=375.240, rew=1120.00]\n"
     ]
    },
    {
     "name": "stdout",
     "output_type": "stream",
     "text": [
      "Epoch #315: test_reward: 1054.000000 ± 0.000000, best_reward: 1834.000000 ± 0.000000 in #117\n"
     ]
    },
    {
     "name": "stderr",
     "output_type": "stream",
     "text": [
      "Epoch #316: 1025it [00:02, 347.69it/s, env_step=323584, len=25, n/ep=3, n/st=64, player_1/loss=346.538, player_2/loss=371.183, rew=673.33]\n"
     ]
    },
    {
     "name": "stdout",
     "output_type": "stream",
     "text": [
      "Epoch #316: test_reward: 990.000000 ± 0.000000, best_reward: 1834.000000 ± 0.000000 in #117\n"
     ]
    },
    {
     "name": "stderr",
     "output_type": "stream",
     "text": [
      "Epoch #317: 1025it [00:02, 347.51it/s, env_step=324608, len=20, n/ep=4, n/st=64, player_1/loss=517.315, player_2/loss=399.650, rew=495.50]\n"
     ]
    },
    {
     "name": "stdout",
     "output_type": "stream",
     "text": [
      "Epoch #317: test_reward: 270.000000 ± 0.000000, best_reward: 1834.000000 ± 0.000000 in #117\n"
     ]
    },
    {
     "name": "stderr",
     "output_type": "stream",
     "text": [
      "Epoch #318: 1025it [00:02, 347.46it/s, env_step=325632, len=31, n/ep=2, n/st=64, player_1/loss=274.121, player_2/loss=369.043, rew=991.00]\n"
     ]
    },
    {
     "name": "stdout",
     "output_type": "stream",
     "text": [
      "Epoch #318: test_reward: 1054.000000 ± 0.000000, best_reward: 1834.000000 ± 0.000000 in #117\n"
     ]
    },
    {
     "name": "stderr",
     "output_type": "stream",
     "text": [
      "Epoch #319: 1025it [00:02, 346.88it/s, env_step=326656, len=20, n/ep=3, n/st=64, player_1/loss=338.063, player_2/loss=350.673, rew=422.67]\n"
     ]
    },
    {
     "name": "stdout",
     "output_type": "stream",
     "text": [
      "Epoch #319: test_reward: 460.000000 ± 0.000000, best_reward: 1834.000000 ± 0.000000 in #117\n"
     ]
    },
    {
     "name": "stderr",
     "output_type": "stream",
     "text": [
      "Epoch #320: 1025it [00:02, 347.16it/s, env_step=327680, len=25, n/ep=3, n/st=64, player_1/loss=364.902, player_2/loss=192.200, rew=795.33]\n"
     ]
    },
    {
     "name": "stdout",
     "output_type": "stream",
     "text": [
      "Epoch #320: test_reward: 1404.000000 ± 0.000000, best_reward: 1834.000000 ± 0.000000 in #117\n"
     ]
    },
    {
     "name": "stderr",
     "output_type": "stream",
     "text": [
      "Epoch #321: 1025it [00:02, 345.95it/s, env_step=328704, len=41, n/ep=1, n/st=64, player_1/loss=394.355, player_2/loss=507.107, rew=1720.00]\n"
     ]
    },
    {
     "name": "stdout",
     "output_type": "stream",
     "text": [
      "Epoch #321: test_reward: 700.000000 ± 0.000000, best_reward: 1834.000000 ± 0.000000 in #117\n"
     ]
    },
    {
     "name": "stderr",
     "output_type": "stream",
     "text": [
      "Epoch #322: 1025it [00:02, 346.76it/s, env_step=329728, len=26, n/ep=3, n/st=64, player_1/loss=449.143, player_2/loss=263.210, rew=718.67]\n"
     ]
    },
    {
     "name": "stdout",
     "output_type": "stream",
     "text": [
      "Epoch #322: test_reward: 700.000000 ± 0.000000, best_reward: 1834.000000 ± 0.000000 in #117\n"
     ]
    },
    {
     "name": "stderr",
     "output_type": "stream",
     "text": [
      "Epoch #323: 1025it [00:02, 348.37it/s, env_step=330752, len=25, n/ep=3, n/st=64, player_1/loss=379.136, player_2/loss=216.558, rew=652.67]\n"
     ]
    },
    {
     "name": "stdout",
     "output_type": "stream",
     "text": [
      "Epoch #323: test_reward: 700.000000 ± 0.000000, best_reward: 1834.000000 ± 0.000000 in #117\n"
     ]
    },
    {
     "name": "stderr",
     "output_type": "stream",
     "text": [
      "Epoch #324: 1025it [00:02, 347.93it/s, env_step=331776, len=27, n/ep=2, n/st=64, player_1/loss=608.396, player_2/loss=305.624, rew=788.00]\n"
     ]
    },
    {
     "name": "stdout",
     "output_type": "stream",
     "text": [
      "Epoch #324: test_reward: 598.000000 ± 0.000000, best_reward: 1834.000000 ± 0.000000 in #117\n"
     ]
    },
    {
     "name": "stderr",
     "output_type": "stream",
     "text": [
      "Epoch #325: 1025it [00:02, 347.00it/s, env_step=332800, len=15, n/ep=4, n/st=64, player_1/loss=327.866, player_2/loss=444.980, rew=243.00]\n"
     ]
    },
    {
     "name": "stdout",
     "output_type": "stream",
     "text": [
      "Epoch #325: test_reward: 700.000000 ± 0.000000, best_reward: 1834.000000 ± 0.000000 in #117\n"
     ]
    },
    {
     "name": "stderr",
     "output_type": "stream",
     "text": [
      "Epoch #326: 1025it [00:02, 347.29it/s, env_step=333824, len=35, n/ep=1, n/st=64, player_1/loss=323.728, player_2/loss=463.926, rew=1258.00]\n"
     ]
    },
    {
     "name": "stdout",
     "output_type": "stream",
     "text": [
      "Epoch #326: test_reward: 1480.000000 ± 0.000000, best_reward: 1834.000000 ± 0.000000 in #117\n"
     ]
    },
    {
     "name": "stderr",
     "output_type": "stream",
     "text": [
      "Epoch #327: 1025it [00:02, 347.82it/s, env_step=334848, len=15, n/ep=4, n/st=64, player_1/loss=319.639, player_2/loss=550.274, rew=248.00]\n"
     ]
    },
    {
     "name": "stdout",
     "output_type": "stream",
     "text": [
      "Epoch #327: test_reward: 460.000000 ± 0.000000, best_reward: 1834.000000 ± 0.000000 in #117\n"
     ]
    },
    {
     "name": "stderr",
     "output_type": "stream",
     "text": [
      "Epoch #328: 1025it [00:02, 345.44it/s, env_step=335872, len=19, n/ep=3, n/st=64, player_1/loss=414.605, player_2/loss=454.580, rew=384.00]\n"
     ]
    },
    {
     "name": "stdout",
     "output_type": "stream",
     "text": [
      "Epoch #328: test_reward: 598.000000 ± 0.000000, best_reward: 1834.000000 ± 0.000000 in #117\n"
     ]
    },
    {
     "name": "stderr",
     "output_type": "stream",
     "text": [
      "Epoch #329: 1025it [00:02, 346.87it/s, env_step=336896, len=25, n/ep=3, n/st=64, player_1/loss=424.186, player_2/loss=291.236, rew=666.67]\n"
     ]
    },
    {
     "name": "stdout",
     "output_type": "stream",
     "text": [
      "Epoch #329: test_reward: 928.000000 ± 0.000000, best_reward: 1834.000000 ± 0.000000 in #117\n"
     ]
    },
    {
     "name": "stderr",
     "output_type": "stream",
     "text": [
      "Epoch #330: 1025it [00:02, 347.10it/s, env_step=337920, len=27, n/ep=3, n/st=64, player_1/loss=308.942, player_2/loss=314.767, rew=796.67]\n"
     ]
    },
    {
     "name": "stdout",
     "output_type": "stream",
     "text": [
      "Epoch #330: test_reward: 180.000000 ± 0.000000, best_reward: 1834.000000 ± 0.000000 in #117\n"
     ]
    },
    {
     "name": "stderr",
     "output_type": "stream",
     "text": [
      "Epoch #331: 1025it [00:02, 346.11it/s, env_step=338944, len=20, n/ep=3, n/st=64, player_1/loss=416.815, player_2/loss=578.131, rew=448.67]\n"
     ]
    },
    {
     "name": "stdout",
     "output_type": "stream",
     "text": [
      "Epoch #331: test_reward: 460.000000 ± 0.000000, best_reward: 1834.000000 ± 0.000000 in #117\n"
     ]
    },
    {
     "name": "stderr",
     "output_type": "stream",
     "text": [
      "Epoch #332: 1025it [00:02, 346.69it/s, env_step=339968, len=22, n/ep=3, n/st=64, player_1/loss=453.501, player_2/loss=602.945, rew=523.33]\n"
     ]
    },
    {
     "name": "stdout",
     "output_type": "stream",
     "text": [
      "Epoch #332: test_reward: 550.000000 ± 0.000000, best_reward: 1834.000000 ± 0.000000 in #117\n"
     ]
    },
    {
     "name": "stderr",
     "output_type": "stream",
     "text": [
      "Epoch #333: 1025it [00:02, 345.51it/s, env_step=340992, len=24, n/ep=2, n/st=64, player_1/loss=574.557, player_2/loss=997.999, rew=635.00]\n"
     ]
    },
    {
     "name": "stdout",
     "output_type": "stream",
     "text": [
      "Epoch #333: test_reward: 54.000000 ± 0.000000, best_reward: 1834.000000 ± 0.000000 in #117\n"
     ]
    },
    {
     "name": "stderr",
     "output_type": "stream",
     "text": [
      "Epoch #334: 1025it [00:02, 348.26it/s, env_step=342016, len=21, n/ep=3, n/st=64, player_1/loss=390.079, player_2/loss=406.605, rew=566.00]\n"
     ]
    },
    {
     "name": "stdout",
     "output_type": "stream",
     "text": [
      "Epoch #334: test_reward: 54.000000 ± 0.000000, best_reward: 1834.000000 ± 0.000000 in #117\n"
     ]
    },
    {
     "name": "stderr",
     "output_type": "stream",
     "text": [
      "Epoch #335: 1025it [00:03, 341.21it/s, env_step=343040, len=13, n/ep=5, n/st=64, player_1/loss=224.288, player_2/loss=1180.356, rew=205.20]\n"
     ]
    },
    {
     "name": "stdout",
     "output_type": "stream",
     "text": [
      "Epoch #335: test_reward: 304.000000 ± 0.000000, best_reward: 1834.000000 ± 0.000000 in #117\n"
     ]
    },
    {
     "name": "stderr",
     "output_type": "stream",
     "text": [
      "Epoch #336: 1025it [00:02, 343.19it/s, env_step=344064, len=28, n/ep=2, n/st=64, player_1/loss=303.334, player_2/loss=545.845, rew=814.00]\n"
     ]
    },
    {
     "name": "stdout",
     "output_type": "stream",
     "text": [
      "Epoch #336: test_reward: 868.000000 ± 0.000000, best_reward: 1834.000000 ± 0.000000 in #117\n"
     ]
    },
    {
     "name": "stderr",
     "output_type": "stream",
     "text": [
      "Epoch #337: 1025it [00:02, 370.39it/s, env_step=345088, len=23, n/ep=3, n/st=64, player_1/loss=618.693, player_2/loss=395.272, rew=620.00]\n"
     ]
    },
    {
     "name": "stdout",
     "output_type": "stream",
     "text": [
      "Epoch #337: test_reward: 810.000000 ± 0.000000, best_reward: 1834.000000 ± 0.000000 in #117\n"
     ]
    },
    {
     "name": "stderr",
     "output_type": "stream",
     "text": [
      "Epoch #338: 1025it [00:02, 392.74it/s, env_step=346112, len=29, n/ep=2, n/st=64, player_1/loss=311.700, player_2/loss=986.446, rew=910.00]\n"
     ]
    },
    {
     "name": "stdout",
     "output_type": "stream",
     "text": [
      "Epoch #338: test_reward: 208.000000 ± 0.000000, best_reward: 1834.000000 ± 0.000000 in #117\n"
     ]
    },
    {
     "name": "stderr",
     "output_type": "stream",
     "text": [
      "Epoch #339: 1025it [00:02, 369.77it/s, env_step=347136, len=32, n/ep=2, n/st=64, player_1/loss=382.232, player_2/loss=557.797, rew=1129.00]\n"
     ]
    },
    {
     "name": "stdout",
     "output_type": "stream",
     "text": [
      "Epoch #339: test_reward: 378.000000 ± 0.000000, best_reward: 1834.000000 ± 0.000000 in #117\n"
     ]
    },
    {
     "name": "stderr",
     "output_type": "stream",
     "text": [
      "Epoch #340: 1025it [00:02, 354.59it/s, env_step=348160, len=31, n/ep=2, n/st=64, player_1/loss=335.042, player_2/loss=672.571, rew=1039.00]\n"
     ]
    },
    {
     "name": "stdout",
     "output_type": "stream",
     "text": [
      "Epoch #340: test_reward: 1054.000000 ± 0.000000, best_reward: 1834.000000 ± 0.000000 in #117\n"
     ]
    },
    {
     "name": "stderr",
     "output_type": "stream",
     "text": [
      "Epoch #341: 1025it [00:02, 348.36it/s, env_step=349184, len=23, n/ep=3, n/st=64, player_1/loss=212.563, player_2/loss=722.915, rew=662.00]\n"
     ]
    },
    {
     "name": "stdout",
     "output_type": "stream",
     "text": [
      "Epoch #341: test_reward: 418.000000 ± 0.000000, best_reward: 1834.000000 ± 0.000000 in #117\n"
     ]
    },
    {
     "name": "stderr",
     "output_type": "stream",
     "text": [
      "Epoch #342: 1025it [00:02, 347.29it/s, env_step=350208, len=31, n/ep=2, n/st=64, player_1/loss=395.180, player_2/loss=352.906, rew=1022.00]\n"
     ]
    },
    {
     "name": "stdout",
     "output_type": "stream",
     "text": [
      "Epoch #342: test_reward: 928.000000 ± 0.000000, best_reward: 1834.000000 ± 0.000000 in #117\n"
     ]
    },
    {
     "name": "stderr",
     "output_type": "stream",
     "text": [
      "Epoch #343: 1025it [00:02, 347.95it/s, env_step=351232, len=33, n/ep=2, n/st=64, player_1/loss=313.336, player_2/loss=446.986, rew=1174.00]\n"
     ]
    },
    {
     "name": "stdout",
     "output_type": "stream",
     "text": [
      "Epoch #343: test_reward: 1480.000000 ± 0.000000, best_reward: 1834.000000 ± 0.000000 in #117\n"
     ]
    },
    {
     "name": "stderr",
     "output_type": "stream",
     "text": [
      "Epoch #344: 1025it [00:02, 345.54it/s, env_step=352256, len=15, n/ep=4, n/st=64, player_1/loss=211.157, player_2/loss=1077.987, rew=239.50]\n"
     ]
    },
    {
     "name": "stdout",
     "output_type": "stream",
     "text": [
      "Epoch #344: test_reward: 238.000000 ± 0.000000, best_reward: 1834.000000 ± 0.000000 in #117\n"
     ]
    },
    {
     "name": "stderr",
     "output_type": "stream",
     "text": [
      "Epoch #345: 1025it [00:02, 345.86it/s, env_step=353280, len=29, n/ep=2, n/st=64, player_1/loss=315.386, player_2/loss=443.985, rew=893.00]\n"
     ]
    },
    {
     "name": "stdout",
     "output_type": "stream",
     "text": [
      "Epoch #345: test_reward: 1480.000000 ± 0.000000, best_reward: 1834.000000 ± 0.000000 in #117\n"
     ]
    },
    {
     "name": "stderr",
     "output_type": "stream",
     "text": [
      "Epoch #346: 1025it [00:02, 347.08it/s, env_step=354304, len=15, n/ep=4, n/st=64, player_1/loss=203.191, player_2/loss=1410.919, rew=264.00]\n"
     ]
    },
    {
     "name": "stdout",
     "output_type": "stream",
     "text": [
      "Epoch #346: test_reward: 1188.000000 ± 0.000000, best_reward: 1834.000000 ± 0.000000 in #117\n"
     ]
    },
    {
     "name": "stderr",
     "output_type": "stream",
     "text": [
      "Epoch #347: 1025it [00:02, 347.04it/s, env_step=355328, len=21, n/ep=3, n/st=64, player_1/loss=373.736, player_2/loss=1018.064, rew=462.67]\n"
     ]
    },
    {
     "name": "stdout",
     "output_type": "stream",
     "text": [
      "Epoch #347: test_reward: 418.000000 ± 0.000000, best_reward: 1834.000000 ± 0.000000 in #117\n"
     ]
    },
    {
     "name": "stderr",
     "output_type": "stream",
     "text": [
      "Epoch #348: 1025it [00:02, 347.22it/s, env_step=356352, len=30, n/ep=2, n/st=64, player_1/loss=178.222, player_2/loss=742.548, rew=937.00]\n"
     ]
    },
    {
     "name": "stdout",
     "output_type": "stream",
     "text": [
      "Epoch #348: test_reward: 754.000000 ± 0.000000, best_reward: 1834.000000 ± 0.000000 in #117\n"
     ]
    },
    {
     "name": "stderr",
     "output_type": "stream",
     "text": [
      "Epoch #349: 1025it [00:02, 344.34it/s, env_step=357376, len=23, n/ep=2, n/st=64, player_1/loss=532.521, player_2/loss=316.064, rew=650.00]\n"
     ]
    },
    {
     "name": "stdout",
     "output_type": "stream",
     "text": [
      "Epoch #349: test_reward: 1120.000000 ± 0.000000, best_reward: 1834.000000 ± 0.000000 in #117\n"
     ]
    },
    {
     "name": "stderr",
     "output_type": "stream",
     "text": [
      "Epoch #350: 1025it [00:02, 346.98it/s, env_step=358400, len=35, n/ep=2, n/st=64, player_1/loss=204.727, player_2/loss=554.311, rew=1294.00]\n"
     ]
    },
    {
     "name": "stdout",
     "output_type": "stream",
     "text": [
      "Epoch #350: test_reward: 1188.000000 ± 0.000000, best_reward: 1834.000000 ± 0.000000 in #117\n"
     ]
    },
    {
     "name": "stderr",
     "output_type": "stream",
     "text": [
      "Epoch #351: 1025it [00:02, 347.40it/s, env_step=359424, len=15, n/ep=4, n/st=64, player_1/loss=398.990, player_2/loss=497.773, rew=254.00]\n"
     ]
    },
    {
     "name": "stdout",
     "output_type": "stream",
     "text": [
      "Epoch #351: test_reward: 928.000000 ± 0.000000, best_reward: 1834.000000 ± 0.000000 in #117\n"
     ]
    },
    {
     "name": "stderr",
     "output_type": "stream",
     "text": [
      "Epoch #352: 1025it [00:02, 345.88it/s, env_step=360448, len=31, n/ep=2, n/st=64, player_1/loss=350.041, player_2/loss=663.499, rew=1022.00]\n"
     ]
    },
    {
     "name": "stdout",
     "output_type": "stream",
     "text": [
      "Epoch #352: test_reward: 1054.000000 ± 0.000000, best_reward: 1834.000000 ± 0.000000 in #117\n"
     ]
    },
    {
     "name": "stderr",
     "output_type": "stream",
     "text": [
      "Epoch #353: 1025it [00:02, 345.71it/s, env_step=361472, len=28, n/ep=3, n/st=64, player_1/loss=444.607, player_2/loss=295.428, rew=876.67]\n"
     ]
    },
    {
     "name": "stdout",
     "output_type": "stream",
     "text": [
      "Epoch #353: test_reward: 550.000000 ± 0.000000, best_reward: 1834.000000 ± 0.000000 in #117\n"
     ]
    },
    {
     "name": "stderr",
     "output_type": "stream",
     "text": [
      "Epoch #354: 1025it [00:02, 344.57it/s, env_step=362496, len=17, n/ep=3, n/st=64, player_1/loss=592.142, player_2/loss=380.073, rew=374.67]\n"
     ]
    },
    {
     "name": "stdout",
     "output_type": "stream",
     "text": [
      "Epoch #354: test_reward: 418.000000 ± 0.000000, best_reward: 1834.000000 ± 0.000000 in #117\n"
     ]
    },
    {
     "name": "stderr",
     "output_type": "stream",
     "text": [
      "Epoch #355: 1025it [00:02, 346.40it/s, env_step=363520, len=31, n/ep=2, n/st=64, player_1/loss=413.741, player_2/loss=760.685, rew=1028.00]\n"
     ]
    },
    {
     "name": "stdout",
     "output_type": "stream",
     "text": [
      "Epoch #355: test_reward: 700.000000 ± 0.000000, best_reward: 1834.000000 ± 0.000000 in #117\n"
     ]
    },
    {
     "name": "stderr",
     "output_type": "stream",
     "text": [
      "Epoch #356: 1025it [00:02, 345.55it/s, env_step=364544, len=30, n/ep=2, n/st=64, player_1/loss=436.833, player_2/loss=860.545, rew=961.00]\n"
     ]
    },
    {
     "name": "stdout",
     "output_type": "stream",
     "text": [
      "Epoch #356: test_reward: 1638.000000 ± 0.000000, best_reward: 1834.000000 ± 0.000000 in #117\n"
     ]
    },
    {
     "name": "stderr",
     "output_type": "stream",
     "text": [
      "Epoch #357: 1025it [00:02, 347.16it/s, env_step=365568, len=32, n/ep=2, n/st=64, player_1/loss=291.974, player_2/loss=842.780, rew=1117.00]\n"
     ]
    },
    {
     "name": "stdout",
     "output_type": "stream",
     "text": [
      "Epoch #357: test_reward: 754.000000 ± 0.000000, best_reward: 1834.000000 ± 0.000000 in #117\n"
     ]
    },
    {
     "name": "stderr",
     "output_type": "stream",
     "text": [
      "Epoch #358: 1025it [00:02, 346.77it/s, env_step=366592, len=32, n/ep=2, n/st=64, player_1/loss=273.139, player_2/loss=223.818, rew=1079.00]\n"
     ]
    },
    {
     "name": "stdout",
     "output_type": "stream",
     "text": [
      "Epoch #358: test_reward: 460.000000 ± 0.000000, best_reward: 1834.000000 ± 0.000000 in #117\n"
     ]
    },
    {
     "name": "stderr",
     "output_type": "stream",
     "text": [
      "Epoch #359: 1025it [00:02, 345.29it/s, env_step=367616, len=14, n/ep=5, n/st=64, player_1/loss=301.475, player_2/loss=482.135, rew=214.40]\n"
     ]
    },
    {
     "name": "stdout",
     "output_type": "stream",
     "text": [
      "Epoch #359: test_reward: 238.000000 ± 0.000000, best_reward: 1834.000000 ± 0.000000 in #117\n"
     ]
    },
    {
     "name": "stderr",
     "output_type": "stream",
     "text": [
      "Epoch #360: 1025it [00:02, 346.60it/s, env_step=368640, len=33, n/ep=2, n/st=64, player_1/loss=343.309, player_2/loss=470.912, rew=1166.00]\n"
     ]
    },
    {
     "name": "stdout",
     "output_type": "stream",
     "text": [
      "Epoch #360: test_reward: 378.000000 ± 0.000000, best_reward: 1834.000000 ± 0.000000 in #117\n"
     ]
    },
    {
     "name": "stderr",
     "output_type": "stream",
     "text": [
      "Epoch #361: 1025it [00:02, 346.80it/s, env_step=369664, len=14, n/ep=4, n/st=64, player_1/loss=264.388, player_2/loss=391.269, rew=227.00]\n"
     ]
    },
    {
     "name": "stdout",
     "output_type": "stream",
     "text": [
      "Epoch #361: test_reward: 108.000000 ± 0.000000, best_reward: 1834.000000 ± 0.000000 in #117\n"
     ]
    },
    {
     "name": "stderr",
     "output_type": "stream",
     "text": [
      "Epoch #362: 1025it [00:02, 348.16it/s, env_step=370688, len=36, n/ep=2, n/st=64, player_1/loss=372.647, player_2/loss=281.861, rew=1334.00]\n"
     ]
    },
    {
     "name": "stdout",
     "output_type": "stream",
     "text": [
      "Epoch #362: test_reward: 88.000000 ± 0.000000, best_reward: 1834.000000 ± 0.000000 in #117\n"
     ]
    },
    {
     "name": "stderr",
     "output_type": "stream",
     "text": [
      "Epoch #363: 1025it [00:02, 346.17it/s, env_step=371712, len=18, n/ep=3, n/st=64, player_1/loss=185.154, player_2/loss=310.527, rew=383.33]\n"
     ]
    },
    {
     "name": "stdout",
     "output_type": "stream",
     "text": [
      "Epoch #363: test_reward: 154.000000 ± 0.000000, best_reward: 1834.000000 ± 0.000000 in #117\n"
     ]
    },
    {
     "name": "stderr",
     "output_type": "stream",
     "text": [
      "Epoch #364: 1025it [00:02, 346.44it/s, env_step=372736, len=25, n/ep=2, n/st=64, player_1/loss=366.304, player_2/loss=348.423, rew=652.00]\n"
     ]
    },
    {
     "name": "stdout",
     "output_type": "stream",
     "text": [
      "Epoch #364: test_reward: 418.000000 ± 0.000000, best_reward: 1834.000000 ± 0.000000 in #117\n"
     ]
    },
    {
     "name": "stderr",
     "output_type": "stream",
     "text": [
      "Epoch #365: 1025it [00:02, 345.87it/s, env_step=373760, len=23, n/ep=3, n/st=64, player_1/loss=220.695, player_2/loss=225.497, rew=583.33]\n"
     ]
    },
    {
     "name": "stdout",
     "output_type": "stream",
     "text": [
      "Epoch #365: test_reward: 598.000000 ± 0.000000, best_reward: 1834.000000 ± 0.000000 in #117\n"
     ]
    },
    {
     "name": "stderr",
     "output_type": "stream",
     "text": [
      "Epoch #366: 1025it [00:02, 345.53it/s, env_step=374784, len=18, n/ep=4, n/st=64, player_1/loss=203.403, player_2/loss=159.688, rew=373.50]\n"
     ]
    },
    {
     "name": "stdout",
     "output_type": "stream",
     "text": [
      "Epoch #366: test_reward: 130.000000 ± 0.000000, best_reward: 1834.000000 ± 0.000000 in #117\n"
     ]
    },
    {
     "name": "stderr",
     "output_type": "stream",
     "text": [
      "Epoch #367: 1025it [00:02, 347.35it/s, env_step=375808, len=13, n/ep=5, n/st=64, player_1/loss=208.276, player_2/loss=523.839, rew=200.40]\n"
     ]
    },
    {
     "name": "stdout",
     "output_type": "stream",
     "text": [
      "Epoch #367: test_reward: 180.000000 ± 0.000000, best_reward: 1834.000000 ± 0.000000 in #117\n"
     ]
    },
    {
     "name": "stderr",
     "output_type": "stream",
     "text": [
      "Epoch #368: 1025it [00:02, 347.98it/s, env_step=376832, len=21, n/ep=3, n/st=64, player_1/loss=49.713, player_2/loss=603.313, rew=468.00]\n"
     ]
    },
    {
     "name": "stdout",
     "output_type": "stream",
     "text": [
      "Epoch #368: test_reward: 378.000000 ± 0.000000, best_reward: 1834.000000 ± 0.000000 in #117\n"
     ]
    },
    {
     "name": "stderr",
     "output_type": "stream",
     "text": [
      "Epoch #369: 1025it [00:02, 343.72it/s, env_step=377856, len=14, n/ep=5, n/st=64, player_1/loss=216.999, player_2/loss=163.780, rew=220.80]\n"
     ]
    },
    {
     "name": "stdout",
     "output_type": "stream",
     "text": [
      "Epoch #369: test_reward: 810.000000 ± 0.000000, best_reward: 1834.000000 ± 0.000000 in #117\n"
     ]
    },
    {
     "name": "stderr",
     "output_type": "stream",
     "text": [
      "Epoch #370: 1025it [00:02, 346.06it/s, env_step=378880, len=22, n/ep=3, n/st=64, player_1/loss=233.832, player_2/loss=325.433, rew=527.33]\n"
     ]
    },
    {
     "name": "stdout",
     "output_type": "stream",
     "text": [
      "Epoch #370: test_reward: 460.000000 ± 0.000000, best_reward: 1834.000000 ± 0.000000 in #117\n"
     ]
    },
    {
     "name": "stderr",
     "output_type": "stream",
     "text": [
      "Epoch #371: 1025it [00:02, 346.80it/s, env_step=379904, len=40, n/ep=1, n/st=64, player_1/loss=373.770, player_2/loss=336.800, rew=1638.00]\n"
     ]
    },
    {
     "name": "stdout",
     "output_type": "stream",
     "text": [
      "Epoch #371: test_reward: 504.000000 ± 0.000000, best_reward: 1834.000000 ± 0.000000 in #117\n"
     ]
    },
    {
     "name": "stderr",
     "output_type": "stream",
     "text": [
      "Epoch #372: 1025it [00:02, 346.68it/s, env_step=380928, len=27, n/ep=2, n/st=64, player_1/loss=352.273, player_2/loss=332.447, rew=782.00]\n"
     ]
    },
    {
     "name": "stdout",
     "output_type": "stream",
     "text": [
      "Epoch #372: test_reward: 648.000000 ± 0.000000, best_reward: 1834.000000 ± 0.000000 in #117\n"
     ]
    },
    {
     "name": "stderr",
     "output_type": "stream",
     "text": [
      "Epoch #373: 1025it [00:02, 348.13it/s, env_step=381952, len=24, n/ep=3, n/st=64, player_1/loss=417.827, player_2/loss=247.987, rew=641.33]\n"
     ]
    },
    {
     "name": "stdout",
     "output_type": "stream",
     "text": [
      "Epoch #373: test_reward: 700.000000 ± 0.000000, best_reward: 1834.000000 ± 0.000000 in #117\n"
     ]
    },
    {
     "name": "stderr",
     "output_type": "stream",
     "text": [
      "Epoch #374: 1025it [00:02, 348.02it/s, env_step=382976, len=13, n/ep=4, n/st=64, player_1/loss=223.204, player_2/loss=352.526, rew=194.00]\n"
     ]
    },
    {
     "name": "stdout",
     "output_type": "stream",
     "text": [
      "Epoch #374: test_reward: 238.000000 ± 0.000000, best_reward: 1834.000000 ± 0.000000 in #117\n"
     ]
    },
    {
     "name": "stderr",
     "output_type": "stream",
     "text": [
      "Epoch #375: 1025it [00:02, 347.40it/s, env_step=384000, len=26, n/ep=2, n/st=64, player_1/loss=145.227, player_2/loss=276.938, rew=704.00]\n"
     ]
    },
    {
     "name": "stdout",
     "output_type": "stream",
     "text": [
      "Epoch #375: test_reward: 754.000000 ± 0.000000, best_reward: 1834.000000 ± 0.000000 in #117\n"
     ]
    },
    {
     "name": "stderr",
     "output_type": "stream",
     "text": [
      "Epoch #376: 1025it [00:02, 342.31it/s, env_step=385024, len=36, n/ep=2, n/st=64, player_1/loss=411.872, player_2/loss=621.314, rew=1339.00]\n"
     ]
    },
    {
     "name": "stdout",
     "output_type": "stream",
     "text": [
      "Epoch #376: test_reward: 238.000000 ± 0.000000, best_reward: 1834.000000 ± 0.000000 in #117\n"
     ]
    },
    {
     "name": "stderr",
     "output_type": "stream",
     "text": [
      "Epoch #377: 1025it [00:02, 351.36it/s, env_step=386048, len=9, n/ep=8, n/st=64, player_1/loss=624.947, player_2/loss=394.959, rew=103.00]\n"
     ]
    },
    {
     "name": "stdout",
     "output_type": "stream",
     "text": [
      "Epoch #377: test_reward: 54.000000 ± 0.000000, best_reward: 1834.000000 ± 0.000000 in #117\n"
     ]
    },
    {
     "name": "stderr",
     "output_type": "stream",
     "text": [
      "Epoch #378: 1025it [00:02, 348.76it/s, env_step=387072, len=16, n/ep=4, n/st=64, player_1/loss=443.847, player_2/loss=447.504, rew=289.00]\n"
     ]
    },
    {
     "name": "stdout",
     "output_type": "stream",
     "text": [
      "Epoch #378: test_reward: 504.000000 ± 0.000000, best_reward: 1834.000000 ± 0.000000 in #117\n"
     ]
    },
    {
     "name": "stderr",
     "output_type": "stream",
     "text": [
      "Epoch #379: 1025it [00:02, 347.44it/s, env_step=388096, len=19, n/ep=4, n/st=64, player_1/loss=407.741, player_2/loss=379.890, rew=400.50]\n"
     ]
    },
    {
     "name": "stdout",
     "output_type": "stream",
     "text": [
      "Epoch #379: test_reward: 130.000000 ± 0.000000, best_reward: 1834.000000 ± 0.000000 in #117\n"
     ]
    },
    {
     "name": "stderr",
     "output_type": "stream",
     "text": [
      "Epoch #380: 1025it [00:02, 345.64it/s, env_step=389120, len=16, n/ep=4, n/st=64, player_1/loss=308.264, player_2/loss=541.481, rew=299.00]\n"
     ]
    },
    {
     "name": "stdout",
     "output_type": "stream",
     "text": [
      "Epoch #380: test_reward: 270.000000 ± 0.000000, best_reward: 1834.000000 ± 0.000000 in #117\n"
     ]
    },
    {
     "name": "stderr",
     "output_type": "stream",
     "text": [
      "Epoch #381: 1025it [00:02, 345.63it/s, env_step=390144, len=20, n/ep=4, n/st=64, player_1/loss=387.362, player_2/loss=592.942, rew=459.00]\n"
     ]
    },
    {
     "name": "stdout",
     "output_type": "stream",
     "text": [
      "Epoch #381: test_reward: 180.000000 ± 0.000000, best_reward: 1834.000000 ± 0.000000 in #117\n"
     ]
    },
    {
     "name": "stderr",
     "output_type": "stream",
     "text": [
      "Epoch #382: 1025it [00:02, 347.12it/s, env_step=391168, len=24, n/ep=2, n/st=64, player_1/loss=419.509, player_2/loss=716.556, rew=767.00]\n"
     ]
    },
    {
     "name": "stdout",
     "output_type": "stream",
     "text": [
      "Epoch #382: test_reward: 54.000000 ± 0.000000, best_reward: 1834.000000 ± 0.000000 in #117\n"
     ]
    },
    {
     "name": "stderr",
     "output_type": "stream",
     "text": [
      "Epoch #383: 1025it [00:02, 344.96it/s, env_step=392192, len=37, n/ep=1, n/st=64, player_1/loss=540.739, player_2/loss=379.637, rew=1404.00]\n"
     ]
    },
    {
     "name": "stdout",
     "output_type": "stream",
     "text": [
      "Epoch #383: test_reward: 1054.000000 ± 0.000000, best_reward: 1834.000000 ± 0.000000 in #117\n"
     ]
    },
    {
     "name": "stderr",
     "output_type": "stream",
     "text": [
      "Epoch #384: 1025it [00:02, 344.46it/s, env_step=393216, len=8, n/ep=6, n/st=64, player_1/loss=354.811, player_2/loss=601.037, rew=82.00]\n"
     ]
    },
    {
     "name": "stdout",
     "output_type": "stream",
     "text": [
      "Epoch #384: test_reward: 130.000000 ± 0.000000, best_reward: 1834.000000 ± 0.000000 in #117\n"
     ]
    },
    {
     "name": "stderr",
     "output_type": "stream",
     "text": [
      "Epoch #385: 1025it [00:02, 347.49it/s, env_step=394240, len=19, n/ep=3, n/st=64, player_1/loss=313.876, player_2/loss=255.760, rew=392.67]\n"
     ]
    },
    {
     "name": "stdout",
     "output_type": "stream",
     "text": [
      "Epoch #385: test_reward: 504.000000 ± 0.000000, best_reward: 1834.000000 ± 0.000000 in #117\n"
     ]
    },
    {
     "name": "stderr",
     "output_type": "stream",
     "text": [
      "Epoch #386: 1025it [00:02, 346.91it/s, env_step=395264, len=18, n/ep=3, n/st=64, player_1/loss=704.319, player_2/loss=458.422, rew=433.33]\n"
     ]
    },
    {
     "name": "stdout",
     "output_type": "stream",
     "text": [
      "Epoch #386: test_reward: 180.000000 ± 0.000000, best_reward: 1834.000000 ± 0.000000 in #117\n"
     ]
    },
    {
     "name": "stderr",
     "output_type": "stream",
     "text": [
      "Epoch #387: 1025it [00:03, 340.22it/s, env_step=396288, len=33, n/ep=2, n/st=64, player_1/loss=339.103, player_2/loss=428.498, rew=1156.00]\n"
     ]
    },
    {
     "name": "stdout",
     "output_type": "stream",
     "text": [
      "Epoch #387: test_reward: 990.000000 ± 0.000000, best_reward: 1834.000000 ± 0.000000 in #117\n"
     ]
    },
    {
     "name": "stderr",
     "output_type": "stream",
     "text": [
      "Epoch #388: 1025it [00:02, 343.16it/s, env_step=397312, len=35, n/ep=1, n/st=64, player_1/loss=531.719, player_2/loss=345.564, rew=1258.00]\n"
     ]
    },
    {
     "name": "stdout",
     "output_type": "stream",
     "text": [
      "Epoch #388: test_reward: 208.000000 ± 0.000000, best_reward: 1834.000000 ± 0.000000 in #117\n"
     ]
    },
    {
     "name": "stderr",
     "output_type": "stream",
     "text": [
      "Epoch #389: 1025it [00:02, 344.83it/s, env_step=398336, len=29, n/ep=2, n/st=64, player_1/loss=637.069, player_2/loss=345.719, rew=918.00]\n"
     ]
    },
    {
     "name": "stdout",
     "output_type": "stream",
     "text": [
      "Epoch #389: test_reward: 810.000000 ± 0.000000, best_reward: 1834.000000 ± 0.000000 in #117\n"
     ]
    },
    {
     "name": "stderr",
     "output_type": "stream",
     "text": [
      "Epoch #390: 1025it [00:02, 345.40it/s, env_step=399360, len=22, n/ep=3, n/st=64, player_1/loss=458.038, player_2/loss=158.139, rew=522.67]\n"
     ]
    },
    {
     "name": "stdout",
     "output_type": "stream",
     "text": [
      "Epoch #390: test_reward: 460.000000 ± 0.000000, best_reward: 1834.000000 ± 0.000000 in #117\n"
     ]
    },
    {
     "name": "stderr",
     "output_type": "stream",
     "text": [
      "Epoch #391: 1025it [00:02, 345.91it/s, env_step=400384, len=20, n/ep=3, n/st=64, player_1/loss=487.876, player_2/loss=250.279, rew=426.00]\n"
     ]
    },
    {
     "name": "stdout",
     "output_type": "stream",
     "text": [
      "Epoch #391: test_reward: 340.000000 ± 0.000000, best_reward: 1834.000000 ± 0.000000 in #117\n"
     ]
    },
    {
     "name": "stderr",
     "output_type": "stream",
     "text": [
      "Epoch #392: 1025it [00:02, 346.21it/s, env_step=401408, len=33, n/ep=2, n/st=64, player_1/loss=276.779, player_2/loss=307.901, rew=1156.00]\n"
     ]
    },
    {
     "name": "stdout",
     "output_type": "stream",
     "text": [
      "Epoch #392: test_reward: 648.000000 ± 0.000000, best_reward: 1834.000000 ± 0.000000 in #117\n"
     ]
    },
    {
     "name": "stderr",
     "output_type": "stream",
     "text": [
      "Epoch #393: 1025it [00:02, 347.17it/s, env_step=402432, len=23, n/ep=2, n/st=64, player_1/loss=164.481, player_2/loss=558.613, rew=574.00]\n"
     ]
    },
    {
     "name": "stdout",
     "output_type": "stream",
     "text": [
      "Epoch #393: test_reward: 1054.000000 ± 0.000000, best_reward: 1834.000000 ± 0.000000 in #117\n"
     ]
    },
    {
     "name": "stderr",
     "output_type": "stream",
     "text": [
      "Epoch #394: 1025it [00:02, 346.87it/s, env_step=403456, len=14, n/ep=4, n/st=64, player_1/loss=264.669, player_2/loss=351.024, rew=223.50]\n"
     ]
    },
    {
     "name": "stdout",
     "output_type": "stream",
     "text": [
      "Epoch #394: test_reward: 418.000000 ± 0.000000, best_reward: 1834.000000 ± 0.000000 in #117\n"
     ]
    },
    {
     "name": "stderr",
     "output_type": "stream",
     "text": [
      "Epoch #395: 1025it [00:02, 347.49it/s, env_step=404480, len=22, n/ep=2, n/st=64, player_1/loss=362.693, player_2/loss=532.915, rew=527.00]\n"
     ]
    },
    {
     "name": "stdout",
     "output_type": "stream",
     "text": [
      "Epoch #395: test_reward: 928.000000 ± 0.000000, best_reward: 1834.000000 ± 0.000000 in #117\n"
     ]
    },
    {
     "name": "stderr",
     "output_type": "stream",
     "text": [
      "Epoch #396: 1025it [00:02, 346.43it/s, env_step=405504, len=26, n/ep=2, n/st=64, player_1/loss=370.169, player_2/loss=404.636, rew=716.00]\n"
     ]
    },
    {
     "name": "stdout",
     "output_type": "stream",
     "text": [
      "Epoch #396: test_reward: 648.000000 ± 0.000000, best_reward: 1834.000000 ± 0.000000 in #117\n"
     ]
    },
    {
     "name": "stderr",
     "output_type": "stream",
     "text": [
      "Epoch #397: 1025it [00:02, 346.37it/s, env_step=406528, len=33, n/ep=2, n/st=64, player_1/loss=254.598, player_2/loss=580.081, rew=1156.00]\n"
     ]
    },
    {
     "name": "stdout",
     "output_type": "stream",
     "text": [
      "Epoch #397: test_reward: 418.000000 ± 0.000000, best_reward: 1834.000000 ± 0.000000 in #117\n"
     ]
    },
    {
     "name": "stderr",
     "output_type": "stream",
     "text": [
      "Epoch #398: 1025it [00:02, 347.08it/s, env_step=407552, len=30, n/ep=2, n/st=64, player_1/loss=439.285, player_2/loss=328.806, rew=953.00]\n"
     ]
    },
    {
     "name": "stdout",
     "output_type": "stream",
     "text": [
      "Epoch #398: test_reward: 1404.000000 ± 0.000000, best_reward: 1834.000000 ± 0.000000 in #117\n"
     ]
    },
    {
     "name": "stderr",
     "output_type": "stream",
     "text": [
      "Epoch #399: 1025it [00:02, 346.94it/s, env_step=408576, len=24, n/ep=3, n/st=64, player_1/loss=237.052, player_2/loss=247.901, rew=622.67]\n"
     ]
    },
    {
     "name": "stdout",
     "output_type": "stream",
     "text": [
      "Epoch #399: test_reward: 180.000000 ± 0.000000, best_reward: 1834.000000 ± 0.000000 in #117\n"
     ]
    },
    {
     "name": "stderr",
     "output_type": "stream",
     "text": [
      "Epoch #400: 1025it [00:02, 347.63it/s, env_step=409600, len=24, n/ep=3, n/st=64, player_1/loss=665.692, player_2/loss=362.325, rew=772.00]\n"
     ]
    },
    {
     "name": "stdout",
     "output_type": "stream",
     "text": [
      "Epoch #400: test_reward: 180.000000 ± 0.000000, best_reward: 1834.000000 ± 0.000000 in #117\n"
     ]
    },
    {
     "name": "stderr",
     "output_type": "stream",
     "text": [
      "Epoch #401: 1025it [00:02, 347.51it/s, env_step=410624, len=37, n/ep=1, n/st=64, player_1/loss=236.956, player_2/loss=226.200, rew=1404.00]\n"
     ]
    },
    {
     "name": "stdout",
     "output_type": "stream",
     "text": [
      "Epoch #401: test_reward: 1330.000000 ± 0.000000, best_reward: 1834.000000 ± 0.000000 in #117\n"
     ]
    },
    {
     "name": "stderr",
     "output_type": "stream",
     "text": [
      "Epoch #402: 1025it [00:02, 345.03it/s, env_step=411648, len=33, n/ep=2, n/st=64, player_1/loss=314.320, player_2/loss=133.895, rew=1160.00]\n"
     ]
    },
    {
     "name": "stdout",
     "output_type": "stream",
     "text": [
      "Epoch #402: test_reward: 810.000000 ± 0.000000, best_reward: 1834.000000 ± 0.000000 in #117\n"
     ]
    },
    {
     "name": "stderr",
     "output_type": "stream",
     "text": [
      "Epoch #403: 1025it [00:02, 345.42it/s, env_step=412672, len=29, n/ep=2, n/st=64, player_1/loss=294.767, player_2/loss=316.207, rew=932.00]\n"
     ]
    },
    {
     "name": "stdout",
     "output_type": "stream",
     "text": [
      "Epoch #403: test_reward: 504.000000 ± 0.000000, best_reward: 1834.000000 ± 0.000000 in #117\n"
     ]
    },
    {
     "name": "stderr",
     "output_type": "stream",
     "text": [
      "Epoch #404: 1025it [00:02, 345.89it/s, env_step=413696, len=21, n/ep=4, n/st=64, player_1/loss=486.244, player_2/loss=238.429, rew=578.00]\n"
     ]
    },
    {
     "name": "stdout",
     "output_type": "stream",
     "text": [
      "Epoch #404: test_reward: 1480.000000 ± 0.000000, best_reward: 1834.000000 ± 0.000000 in #117\n"
     ]
    },
    {
     "name": "stderr",
     "output_type": "stream",
     "text": [
      "Epoch #405: 1025it [00:02, 347.43it/s, env_step=414720, len=21, n/ep=3, n/st=64, player_1/loss=358.425, player_2/loss=280.555, rew=490.00]\n"
     ]
    },
    {
     "name": "stdout",
     "output_type": "stream",
     "text": [
      "Epoch #405: test_reward: 418.000000 ± 0.000000, best_reward: 1834.000000 ± 0.000000 in #117\n"
     ]
    },
    {
     "name": "stderr",
     "output_type": "stream",
     "text": [
      "Epoch #406: 1025it [00:02, 346.75it/s, env_step=415744, len=31, n/ep=2, n/st=64, player_1/loss=255.759, player_2/loss=315.758, rew=991.00]\n"
     ]
    },
    {
     "name": "stdout",
     "output_type": "stream",
     "text": [
      "Epoch #406: test_reward: 928.000000 ± 0.000000, best_reward: 1834.000000 ± 0.000000 in #117\n"
     ]
    },
    {
     "name": "stderr",
     "output_type": "stream",
     "text": [
      "Epoch #407: 1025it [00:02, 345.92it/s, env_step=416768, len=25, n/ep=2, n/st=64, player_1/loss=166.256, player_2/loss=285.639, rew=746.00]\n"
     ]
    },
    {
     "name": "stdout",
     "output_type": "stream",
     "text": [
      "Epoch #407: test_reward: 1188.000000 ± 0.000000, best_reward: 1834.000000 ± 0.000000 in #117\n"
     ]
    },
    {
     "name": "stderr",
     "output_type": "stream",
     "text": [
      "Epoch #408: 1025it [00:02, 346.68it/s, env_step=417792, len=19, n/ep=5, n/st=64, player_1/loss=279.200, player_2/loss=307.427, rew=453.60]\n"
     ]
    },
    {
     "name": "stdout",
     "output_type": "stream",
     "text": [
      "Epoch #408: test_reward: 154.000000 ± 0.000000, best_reward: 1834.000000 ± 0.000000 in #117\n"
     ]
    },
    {
     "name": "stderr",
     "output_type": "stream",
     "text": [
      "Epoch #409: 1025it [00:02, 347.05it/s, env_step=418816, len=31, n/ep=2, n/st=64, player_1/loss=625.446, player_2/loss=719.474, rew=999.00]\n"
     ]
    },
    {
     "name": "stdout",
     "output_type": "stream",
     "text": [
      "Epoch #409: test_reward: 700.000000 ± 0.000000, best_reward: 1834.000000 ± 0.000000 in #117\n"
     ]
    },
    {
     "name": "stderr",
     "output_type": "stream",
     "text": [
      "Epoch #410: 1025it [00:02, 346.01it/s, env_step=419840, len=25, n/ep=3, n/st=64, player_1/loss=247.225, player_2/loss=235.033, rew=670.67]\n"
     ]
    },
    {
     "name": "stdout",
     "output_type": "stream",
     "text": [
      "Epoch #410: test_reward: 648.000000 ± 0.000000, best_reward: 1834.000000 ± 0.000000 in #117\n"
     ]
    },
    {
     "name": "stderr",
     "output_type": "stream",
     "text": [
      "Epoch #411: 1025it [00:02, 345.74it/s, env_step=420864, len=28, n/ep=2, n/st=64, player_1/loss=317.910, player_2/loss=546.748, rew=810.00]\n"
     ]
    },
    {
     "name": "stdout",
     "output_type": "stream",
     "text": [
      "Epoch #411: test_reward: 810.000000 ± 0.000000, best_reward: 1834.000000 ± 0.000000 in #117\n"
     ]
    },
    {
     "name": "stderr",
     "output_type": "stream",
     "text": [
      "Epoch #412: 1025it [00:02, 345.07it/s, env_step=421888, len=23, n/ep=3, n/st=64, player_1/loss=343.483, player_2/loss=465.251, rew=654.00]\n"
     ]
    },
    {
     "name": "stdout",
     "output_type": "stream",
     "text": [
      "Epoch #412: test_reward: 990.000000 ± 0.000000, best_reward: 1834.000000 ± 0.000000 in #117\n"
     ]
    },
    {
     "name": "stderr",
     "output_type": "stream",
     "text": [
      "Epoch #413: 1025it [00:02, 346.08it/s, env_step=422912, len=20, n/ep=3, n/st=64, player_1/loss=307.966, player_2/loss=700.280, rew=484.67]\n"
     ]
    },
    {
     "name": "stdout",
     "output_type": "stream",
     "text": [
      "Epoch #413: test_reward: 1558.000000 ± 0.000000, best_reward: 1834.000000 ± 0.000000 in #117\n"
     ]
    },
    {
     "name": "stderr",
     "output_type": "stream",
     "text": [
      "Epoch #414: 1025it [00:02, 346.76it/s, env_step=423936, len=29, n/ep=2, n/st=64, player_1/loss=209.934, player_2/loss=537.578, rew=904.00]\n"
     ]
    },
    {
     "name": "stdout",
     "output_type": "stream",
     "text": [
      "Epoch #414: test_reward: 550.000000 ± 0.000000, best_reward: 1834.000000 ± 0.000000 in #117\n"
     ]
    },
    {
     "name": "stderr",
     "output_type": "stream",
     "text": [
      "Epoch #415: 1025it [00:02, 345.79it/s, env_step=424960, len=23, n/ep=3, n/st=64, player_1/loss=166.705, player_2/loss=406.687, rew=588.00]\n"
     ]
    },
    {
     "name": "stdout",
     "output_type": "stream",
     "text": [
      "Epoch #415: test_reward: 810.000000 ± 0.000000, best_reward: 1834.000000 ± 0.000000 in #117\n"
     ]
    },
    {
     "name": "stderr",
     "output_type": "stream",
     "text": [
      "Epoch #416: 1025it [00:02, 342.89it/s, env_step=425984, len=23, n/ep=2, n/st=64, player_1/loss=238.091, player_2/loss=93.638, rew=576.00]\n"
     ]
    },
    {
     "name": "stdout",
     "output_type": "stream",
     "text": [
      "Epoch #416: test_reward: 460.000000 ± 0.000000, best_reward: 1834.000000 ± 0.000000 in #117\n"
     ]
    },
    {
     "name": "stderr",
     "output_type": "stream",
     "text": [
      "Epoch #417: 1025it [00:02, 342.73it/s, env_step=427008, len=36, n/ep=2, n/st=64, player_1/loss=186.097, player_2/loss=379.761, rew=1339.00]\n"
     ]
    },
    {
     "name": "stdout",
     "output_type": "stream",
     "text": [
      "Epoch #417: test_reward: 1188.000000 ± 0.000000, best_reward: 1834.000000 ± 0.000000 in #117\n"
     ]
    },
    {
     "name": "stderr",
     "output_type": "stream",
     "text": [
      "Epoch #418: 1025it [00:02, 347.39it/s, env_step=428032, len=35, n/ep=1, n/st=64, player_1/loss=263.842, player_2/loss=520.266, rew=1258.00]\n"
     ]
    },
    {
     "name": "stdout",
     "output_type": "stream",
     "text": [
      "Epoch #418: test_reward: 1404.000000 ± 0.000000, best_reward: 1834.000000 ± 0.000000 in #117\n"
     ]
    },
    {
     "name": "stderr",
     "output_type": "stream",
     "text": [
      "Epoch #419: 1025it [00:02, 347.64it/s, env_step=429056, len=20, n/ep=4, n/st=64, player_1/loss=428.482, player_2/loss=542.065, rew=439.50]\n"
     ]
    },
    {
     "name": "stdout",
     "output_type": "stream",
     "text": [
      "Epoch #419: test_reward: 1638.000000 ± 0.000000, best_reward: 1834.000000 ± 0.000000 in #117\n"
     ]
    },
    {
     "name": "stderr",
     "output_type": "stream",
     "text": [
      "Epoch #420: 1025it [00:02, 347.84it/s, env_step=430080, len=29, n/ep=1, n/st=64, player_1/loss=236.591, player_2/loss=673.824, rew=868.00]\n"
     ]
    },
    {
     "name": "stdout",
     "output_type": "stream",
     "text": [
      "Epoch #420: test_reward: 208.000000 ± 0.000000, best_reward: 1834.000000 ± 0.000000 in #117\n"
     ]
    },
    {
     "name": "stderr",
     "output_type": "stream",
     "text": [
      "Epoch #421: 1025it [00:02, 347.45it/s, env_step=431104, len=23, n/ep=3, n/st=64, player_1/loss=203.448, player_2/loss=579.423, rew=611.33]\n"
     ]
    },
    {
     "name": "stdout",
     "output_type": "stream",
     "text": [
      "Epoch #421: test_reward: 238.000000 ± 0.000000, best_reward: 1834.000000 ± 0.000000 in #117\n"
     ]
    },
    {
     "name": "stderr",
     "output_type": "stream",
     "text": [
      "Epoch #422: 1025it [00:02, 345.30it/s, env_step=432128, len=13, n/ep=5, n/st=64, player_1/loss=433.797, player_2/loss=443.058, rew=196.80]\n"
     ]
    },
    {
     "name": "stdout",
     "output_type": "stream",
     "text": [
      "Epoch #422: test_reward: 270.000000 ± 0.000000, best_reward: 1834.000000 ± 0.000000 in #117\n"
     ]
    },
    {
     "name": "stderr",
     "output_type": "stream",
     "text": [
      "Epoch #423: 1025it [00:02, 346.65it/s, env_step=433152, len=8, n/ep=7, n/st=64, player_1/loss=310.067, player_2/loss=1027.940, rew=87.14]\n"
     ]
    },
    {
     "name": "stdout",
     "output_type": "stream",
     "text": [
      "Epoch #423: test_reward: 130.000000 ± 0.000000, best_reward: 1834.000000 ± 0.000000 in #117\n"
     ]
    },
    {
     "name": "stderr",
     "output_type": "stream",
     "text": [
      "Epoch #424: 1025it [00:02, 346.93it/s, env_step=434176, len=33, n/ep=2, n/st=64, player_1/loss=446.379, player_2/loss=307.482, rew=1156.00]\n"
     ]
    },
    {
     "name": "stdout",
     "output_type": "stream",
     "text": [
      "Epoch #424: test_reward: 1480.000000 ± 0.000000, best_reward: 1834.000000 ± 0.000000 in #117\n"
     ]
    },
    {
     "name": "stderr",
     "output_type": "stream",
     "text": [
      "Epoch #425: 1025it [00:02, 346.17it/s, env_step=435200, len=33, n/ep=2, n/st=64, player_1/loss=210.497, player_2/loss=235.876, rew=1136.00]\n"
     ]
    },
    {
     "name": "stdout",
     "output_type": "stream",
     "text": [
      "Epoch #425: test_reward: 648.000000 ± 0.000000, best_reward: 1834.000000 ± 0.000000 in #117\n"
     ]
    },
    {
     "name": "stderr",
     "output_type": "stream",
     "text": [
      "Epoch #426: 1025it [00:02, 348.27it/s, env_step=436224, len=24, n/ep=2, n/st=64, player_1/loss=144.425, player_2/loss=445.574, rew=625.00]\n"
     ]
    },
    {
     "name": "stdout",
     "output_type": "stream",
     "text": [
      "Epoch #426: test_reward: 990.000000 ± 0.000000, best_reward: 1834.000000 ± 0.000000 in #117\n"
     ]
    },
    {
     "name": "stderr",
     "output_type": "stream",
     "text": [
      "Epoch #427: 1025it [00:02, 347.00it/s, env_step=437248, len=12, n/ep=5, n/st=64, player_1/loss=328.561, player_2/loss=236.816, rew=159.60]\n"
     ]
    },
    {
     "name": "stdout",
     "output_type": "stream",
     "text": [
      "Epoch #427: test_reward: 1120.000000 ± 0.000000, best_reward: 1834.000000 ± 0.000000 in #117\n"
     ]
    },
    {
     "name": "stderr",
     "output_type": "stream",
     "text": [
      "Epoch #428: 1025it [00:02, 348.03it/s, env_step=438272, len=14, n/ep=4, n/st=64, player_1/loss=371.118, player_2/loss=415.220, rew=224.00]\n"
     ]
    },
    {
     "name": "stdout",
     "output_type": "stream",
     "text": [
      "Epoch #428: test_reward: 180.000000 ± 0.000000, best_reward: 1834.000000 ± 0.000000 in #117\n"
     ]
    },
    {
     "name": "stderr",
     "output_type": "stream",
     "text": [
      "Epoch #429: 1025it [00:02, 347.70it/s, env_step=439296, len=39, n/ep=2, n/st=64, player_1/loss=282.347, player_2/loss=271.062, rew=1558.00]\n"
     ]
    },
    {
     "name": "stdout",
     "output_type": "stream",
     "text": [
      "Epoch #429: test_reward: 1054.000000 ± 0.000000, best_reward: 1834.000000 ± 0.000000 in #117\n"
     ]
    },
    {
     "name": "stderr",
     "output_type": "stream",
     "text": [
      "Epoch #430: 1025it [00:02, 345.78it/s, env_step=440320, len=15, n/ep=4, n/st=64, player_1/loss=280.320, player_2/loss=194.674, rew=239.50]\n"
     ]
    },
    {
     "name": "stdout",
     "output_type": "stream",
     "text": [
      "Epoch #430: test_reward: 180.000000 ± 0.000000, best_reward: 1834.000000 ± 0.000000 in #117\n"
     ]
    },
    {
     "name": "stderr",
     "output_type": "stream",
     "text": [
      "Epoch #431: 1025it [00:02, 346.06it/s, env_step=441344, len=20, n/ep=3, n/st=64, player_1/loss=263.974, player_2/loss=624.141, rew=468.67]\n"
     ]
    },
    {
     "name": "stdout",
     "output_type": "stream",
     "text": [
      "Epoch #431: test_reward: 270.000000 ± 0.000000, best_reward: 1834.000000 ± 0.000000 in #117\n"
     ]
    },
    {
     "name": "stderr",
     "output_type": "stream",
     "text": [
      "Epoch #432: 1025it [00:02, 348.97it/s, env_step=442368, len=25, n/ep=2, n/st=64, player_1/loss=190.294, player_2/loss=406.311, rew=674.00]\n"
     ]
    },
    {
     "name": "stdout",
     "output_type": "stream",
     "text": [
      "Epoch #432: test_reward: 1188.000000 ± 0.000000, best_reward: 1834.000000 ± 0.000000 in #117\n"
     ]
    },
    {
     "name": "stderr",
     "output_type": "stream",
     "text": [
      "Epoch #433: 1025it [00:02, 348.59it/s, env_step=443392, len=22, n/ep=2, n/st=64, player_1/loss=303.020, player_2/loss=476.955, rew=533.00]\n"
     ]
    },
    {
     "name": "stdout",
     "output_type": "stream",
     "text": [
      "Epoch #433: test_reward: 1188.000000 ± 0.000000, best_reward: 1834.000000 ± 0.000000 in #117\n"
     ]
    },
    {
     "name": "stderr",
     "output_type": "stream",
     "text": [
      "Epoch #434: 1025it [00:02, 346.78it/s, env_step=444416, len=34, n/ep=2, n/st=64, player_1/loss=449.430, player_2/loss=768.924, rew=1189.00]\n"
     ]
    },
    {
     "name": "stdout",
     "output_type": "stream",
     "text": [
      "Epoch #434: test_reward: 1054.000000 ± 0.000000, best_reward: 1834.000000 ± 0.000000 in #117\n"
     ]
    },
    {
     "name": "stderr",
     "output_type": "stream",
     "text": [
      "Epoch #435: 1025it [00:02, 342.21it/s, env_step=445440, len=38, n/ep=1, n/st=64, player_1/loss=199.546, player_2/loss=590.772, rew=1480.00]\n"
     ]
    },
    {
     "name": "stdout",
     "output_type": "stream",
     "text": [
      "Epoch #435: test_reward: 1558.000000 ± 0.000000, best_reward: 1834.000000 ± 0.000000 in #117\n"
     ]
    },
    {
     "name": "stderr",
     "output_type": "stream",
     "text": [
      "Epoch #436: 1025it [00:02, 347.39it/s, env_step=446464, len=20, n/ep=3, n/st=64, player_1/loss=328.999, player_2/loss=291.661, rew=452.67]\n"
     ]
    },
    {
     "name": "stdout",
     "output_type": "stream",
     "text": [
      "Epoch #436: test_reward: 700.000000 ± 0.000000, best_reward: 1834.000000 ± 0.000000 in #117\n"
     ]
    },
    {
     "name": "stderr",
     "output_type": "stream",
     "text": [
      "Epoch #437: 1025it [00:02, 347.20it/s, env_step=447488, len=20, n/ep=2, n/st=64, player_1/loss=551.647, player_2/loss=571.907, rew=571.00]\n"
     ]
    },
    {
     "name": "stdout",
     "output_type": "stream",
     "text": [
      "Epoch #437: test_reward: 1120.000000 ± 0.000000, best_reward: 1834.000000 ± 0.000000 in #117\n"
     ]
    },
    {
     "name": "stderr",
     "output_type": "stream",
     "text": [
      "Epoch #438: 1025it [00:02, 346.60it/s, env_step=448512, len=34, n/ep=2, n/st=64, player_1/loss=159.116, player_2/loss=238.438, rew=1223.00]\n"
     ]
    },
    {
     "name": "stdout",
     "output_type": "stream",
     "text": [
      "Epoch #438: test_reward: 418.000000 ± 0.000000, best_reward: 1834.000000 ± 0.000000 in #117\n"
     ]
    },
    {
     "name": "stderr",
     "output_type": "stream",
     "text": [
      "Epoch #439: 1025it [00:02, 346.81it/s, env_step=449536, len=36, n/ep=2, n/st=64, player_1/loss=68.306, player_2/loss=539.941, rew=1331.00]\n"
     ]
    },
    {
     "name": "stdout",
     "output_type": "stream",
     "text": [
      "Epoch #439: test_reward: 130.000000 ± 0.000000, best_reward: 1834.000000 ± 0.000000 in #117\n"
     ]
    },
    {
     "name": "stderr",
     "output_type": "stream",
     "text": [
      "Epoch #440: 1025it [00:02, 346.94it/s, env_step=450560, len=13, n/ep=5, n/st=64, player_1/loss=409.368, player_2/loss=837.940, rew=202.80]\n"
     ]
    },
    {
     "name": "stdout",
     "output_type": "stream",
     "text": [
      "Epoch #440: test_reward: 928.000000 ± 0.000000, best_reward: 1834.000000 ± 0.000000 in #117\n"
     ]
    },
    {
     "name": "stderr",
     "output_type": "stream",
     "text": [
      "Epoch #441: 1025it [00:02, 347.04it/s, env_step=451584, len=26, n/ep=3, n/st=64, player_1/loss=638.395, player_2/loss=284.637, rew=732.00]\n"
     ]
    },
    {
     "name": "stdout",
     "output_type": "stream",
     "text": [
      "Epoch #441: test_reward: 1258.000000 ± 0.000000, best_reward: 1834.000000 ± 0.000000 in #117\n"
     ]
    },
    {
     "name": "stderr",
     "output_type": "stream",
     "text": [
      "Epoch #442: 1025it [00:02, 347.83it/s, env_step=452608, len=34, n/ep=1, n/st=64, player_1/loss=294.226, player_2/loss=74.969, rew=1188.00]\n"
     ]
    },
    {
     "name": "stdout",
     "output_type": "stream",
     "text": [
      "Epoch #442: test_reward: 1054.000000 ± 0.000000, best_reward: 1834.000000 ± 0.000000 in #117\n"
     ]
    },
    {
     "name": "stderr",
     "output_type": "stream",
     "text": [
      "Epoch #443: 1025it [00:02, 344.61it/s, env_step=453632, len=19, n/ep=3, n/st=64, player_1/loss=247.434, player_2/loss=284.291, rew=571.33]\n"
     ]
    },
    {
     "name": "stdout",
     "output_type": "stream",
     "text": [
      "Epoch #443: test_reward: 54.000000 ± 0.000000, best_reward: 1834.000000 ± 0.000000 in #117\n"
     ]
    },
    {
     "name": "stderr",
     "output_type": "stream",
     "text": [
      "Epoch #444: 1025it [00:02, 346.22it/s, env_step=454656, len=31, n/ep=2, n/st=64, player_1/loss=494.961, player_2/loss=191.588, rew=1034.00]\n"
     ]
    },
    {
     "name": "stdout",
     "output_type": "stream",
     "text": [
      "Epoch #444: test_reward: 130.000000 ± 0.000000, best_reward: 1834.000000 ± 0.000000 in #117\n"
     ]
    },
    {
     "name": "stderr",
     "output_type": "stream",
     "text": [
      "Epoch #445: 1025it [00:02, 348.82it/s, env_step=455680, len=15, n/ep=5, n/st=64, player_1/loss=223.487, player_2/loss=389.971, rew=252.80]\n"
     ]
    },
    {
     "name": "stdout",
     "output_type": "stream",
     "text": [
      "Epoch #445: test_reward: 208.000000 ± 0.000000, best_reward: 1834.000000 ± 0.000000 in #117\n"
     ]
    },
    {
     "name": "stderr",
     "output_type": "stream",
     "text": [
      "Epoch #446: 1025it [00:02, 347.72it/s, env_step=456704, len=20, n/ep=3, n/st=64, player_1/loss=350.479, player_2/loss=404.802, rew=447.33]\n"
     ]
    },
    {
     "name": "stdout",
     "output_type": "stream",
     "text": [
      "Epoch #446: test_reward: 340.000000 ± 0.000000, best_reward: 1834.000000 ± 0.000000 in #117\n"
     ]
    },
    {
     "name": "stderr",
     "output_type": "stream",
     "text": [
      "Epoch #447: 1025it [00:02, 345.24it/s, env_step=457728, len=26, n/ep=3, n/st=64, player_1/loss=251.595, player_2/loss=462.343, rew=718.00]\n"
     ]
    },
    {
     "name": "stdout",
     "output_type": "stream",
     "text": [
      "Epoch #447: test_reward: 504.000000 ± 0.000000, best_reward: 1834.000000 ± 0.000000 in #117\n"
     ]
    },
    {
     "name": "stderr",
     "output_type": "stream",
     "text": [
      "Epoch #448: 1025it [00:02, 347.83it/s, env_step=458752, len=32, n/ep=2, n/st=64, player_1/loss=338.108, player_2/loss=176.633, rew=1054.00]\n"
     ]
    },
    {
     "name": "stdout",
     "output_type": "stream",
     "text": [
      "Epoch #448: test_reward: 1188.000000 ± 0.000000, best_reward: 1834.000000 ± 0.000000 in #117\n"
     ]
    },
    {
     "name": "stderr",
     "output_type": "stream",
     "text": [
      "Epoch #449: 1025it [00:02, 348.01it/s, env_step=459776, len=29, n/ep=2, n/st=64, player_1/loss=333.677, player_2/loss=341.961, rew=904.00]\n"
     ]
    },
    {
     "name": "stdout",
     "output_type": "stream",
     "text": [
      "Epoch #449: test_reward: 418.000000 ± 0.000000, best_reward: 1834.000000 ± 0.000000 in #117\n"
     ]
    },
    {
     "name": "stderr",
     "output_type": "stream",
     "text": [
      "Epoch #450: 1025it [00:02, 346.90it/s, env_step=460800, len=18, n/ep=2, n/st=64, player_1/loss=341.100, player_2/loss=89.825, rew=389.00]\n"
     ]
    },
    {
     "name": "stdout",
     "output_type": "stream",
     "text": [
      "Epoch #450: test_reward: 928.000000 ± 0.000000, best_reward: 1834.000000 ± 0.000000 in #117\n"
     ]
    },
    {
     "name": "stderr",
     "output_type": "stream",
     "text": [
      "Epoch #451: 1025it [00:02, 348.00it/s, env_step=461824, len=14, n/ep=4, n/st=64, player_1/loss=307.257, player_2/loss=41.623, rew=236.00]\n"
     ]
    },
    {
     "name": "stdout",
     "output_type": "stream",
     "text": [
      "Epoch #451: test_reward: 154.000000 ± 0.000000, best_reward: 1834.000000 ± 0.000000 in #117\n"
     ]
    },
    {
     "name": "stderr",
     "output_type": "stream",
     "text": [
      "Epoch #452: 1025it [00:02, 347.06it/s, env_step=462848, len=19, n/ep=3, n/st=64, player_1/loss=290.787, player_2/loss=431.508, rew=424.67]\n"
     ]
    },
    {
     "name": "stdout",
     "output_type": "stream",
     "text": [
      "Epoch #452: test_reward: 238.000000 ± 0.000000, best_reward: 1834.000000 ± 0.000000 in #117\n"
     ]
    },
    {
     "name": "stderr",
     "output_type": "stream",
     "text": [
      "Epoch #453: 1025it [00:02, 343.96it/s, env_step=463872, len=24, n/ep=3, n/st=64, player_1/loss=393.599, player_2/loss=601.215, rew=669.33]\n"
     ]
    },
    {
     "name": "stdout",
     "output_type": "stream",
     "text": [
      "Epoch #453: test_reward: 208.000000 ± 0.000000, best_reward: 1834.000000 ± 0.000000 in #117\n"
     ]
    },
    {
     "name": "stderr",
     "output_type": "stream",
     "text": [
      "Epoch #454: 1025it [00:02, 346.82it/s, env_step=464896, len=34, n/ep=2, n/st=64, player_1/loss=302.215, player_2/loss=354.912, rew=1189.00]\n"
     ]
    },
    {
     "name": "stdout",
     "output_type": "stream",
     "text": [
      "Epoch #454: test_reward: 990.000000 ± 0.000000, best_reward: 1834.000000 ± 0.000000 in #117\n"
     ]
    },
    {
     "name": "stderr",
     "output_type": "stream",
     "text": [
      "Epoch #455: 1025it [00:02, 346.60it/s, env_step=465920, len=41, n/ep=1, n/st=64, player_1/loss=598.520, player_2/loss=241.339, rew=1720.00]\n"
     ]
    },
    {
     "name": "stdout",
     "output_type": "stream",
     "text": [
      "Epoch #455: test_reward: 460.000000 ± 0.000000, best_reward: 1834.000000 ± 0.000000 in #117\n"
     ]
    },
    {
     "name": "stderr",
     "output_type": "stream",
     "text": [
      "Epoch #456: 1025it [00:02, 343.63it/s, env_step=466944, len=38, n/ep=2, n/st=64, player_1/loss=260.214, player_2/loss=156.452, rew=1480.00]\n"
     ]
    },
    {
     "name": "stdout",
     "output_type": "stream",
     "text": [
      "Epoch #456: test_reward: 1558.000000 ± 0.000000, best_reward: 1834.000000 ± 0.000000 in #117\n"
     ]
    },
    {
     "name": "stderr",
     "output_type": "stream",
     "text": [
      "Epoch #457: 1025it [00:02, 343.43it/s, env_step=467968, len=21, n/ep=3, n/st=64, player_1/loss=420.263, player_2/loss=462.055, rew=477.33]\n"
     ]
    },
    {
     "name": "stdout",
     "output_type": "stream",
     "text": [
      "Epoch #457: test_reward: 1258.000000 ± 0.000000, best_reward: 1834.000000 ± 0.000000 in #117\n"
     ]
    },
    {
     "name": "stderr",
     "output_type": "stream",
     "text": [
      "Epoch #458: 1025it [00:02, 348.26it/s, env_step=468992, len=31, n/ep=2, n/st=64, player_1/loss=361.176, player_2/loss=136.034, rew=990.00]\n"
     ]
    },
    {
     "name": "stdout",
     "output_type": "stream",
     "text": [
      "Epoch #458: test_reward: 754.000000 ± 0.000000, best_reward: 1834.000000 ± 0.000000 in #117\n"
     ]
    },
    {
     "name": "stderr",
     "output_type": "stream",
     "text": [
      "Epoch #459: 1025it [00:02, 346.86it/s, env_step=470016, len=14, n/ep=4, n/st=64, player_1/loss=463.758, player_2/loss=387.189, rew=225.50]\n"
     ]
    },
    {
     "name": "stdout",
     "output_type": "stream",
     "text": [
      "Epoch #459: test_reward: 180.000000 ± 0.000000, best_reward: 1834.000000 ± 0.000000 in #117\n"
     ]
    },
    {
     "name": "stderr",
     "output_type": "stream",
     "text": [
      "Epoch #460: 1025it [00:02, 347.16it/s, env_step=471040, len=24, n/ep=3, n/st=64, player_1/loss=383.864, player_2/loss=358.788, rew=631.33]\n"
     ]
    },
    {
     "name": "stdout",
     "output_type": "stream",
     "text": [
      "Epoch #460: test_reward: 130.000000 ± 0.000000, best_reward: 1834.000000 ± 0.000000 in #117\n"
     ]
    },
    {
     "name": "stderr",
     "output_type": "stream",
     "text": [
      "Epoch #461: 1025it [00:02, 348.26it/s, env_step=472064, len=29, n/ep=3, n/st=64, player_1/loss=591.513, player_2/loss=503.225, rew=872.67]\n"
     ]
    },
    {
     "name": "stdout",
     "output_type": "stream",
     "text": [
      "Epoch #461: test_reward: 1330.000000 ± 0.000000, best_reward: 1834.000000 ± 0.000000 in #117\n"
     ]
    },
    {
     "name": "stderr",
     "output_type": "stream",
     "text": [
      "Epoch #462: 1025it [00:02, 348.38it/s, env_step=473088, len=24, n/ep=3, n/st=64, player_1/loss=387.196, player_2/loss=349.669, rew=634.67]\n"
     ]
    },
    {
     "name": "stdout",
     "output_type": "stream",
     "text": [
      "Epoch #462: test_reward: 70.000000 ± 0.000000, best_reward: 1834.000000 ± 0.000000 in #117\n"
     ]
    },
    {
     "name": "stderr",
     "output_type": "stream",
     "text": [
      "Epoch #463: 1025it [00:02, 345.70it/s, env_step=474112, len=30, n/ep=2, n/st=64, player_1/loss=251.526, player_2/loss=290.335, rew=992.00]\n"
     ]
    },
    {
     "name": "stdout",
     "output_type": "stream",
     "text": [
      "Epoch #463: test_reward: 1558.000000 ± 0.000000, best_reward: 1834.000000 ± 0.000000 in #117\n"
     ]
    },
    {
     "name": "stderr",
     "output_type": "stream",
     "text": [
      "Epoch #464: 1025it [00:02, 347.74it/s, env_step=475136, len=23, n/ep=3, n/st=64, player_1/loss=243.006, player_2/loss=205.866, rew=558.67]\n"
     ]
    },
    {
     "name": "stdout",
     "output_type": "stream",
     "text": [
      "Epoch #464: test_reward: 504.000000 ± 0.000000, best_reward: 1834.000000 ± 0.000000 in #117\n"
     ]
    },
    {
     "name": "stderr",
     "output_type": "stream",
     "text": [
      "Epoch #465: 1025it [00:02, 346.73it/s, env_step=476160, len=28, n/ep=2, n/st=64, player_1/loss=130.116, player_2/loss=354.451, rew=929.00]\n"
     ]
    },
    {
     "name": "stdout",
     "output_type": "stream",
     "text": [
      "Epoch #465: test_reward: 754.000000 ± 0.000000, best_reward: 1834.000000 ± 0.000000 in #117\n"
     ]
    },
    {
     "name": "stderr",
     "output_type": "stream",
     "text": [
      "Epoch #466: 1025it [00:02, 348.12it/s, env_step=477184, len=20, n/ep=3, n/st=64, player_1/loss=453.721, player_2/loss=773.589, rew=470.00]\n"
     ]
    },
    {
     "name": "stdout",
     "output_type": "stream",
     "text": [
      "Epoch #466: test_reward: 180.000000 ± 0.000000, best_reward: 1834.000000 ± 0.000000 in #117\n"
     ]
    },
    {
     "name": "stderr",
     "output_type": "stream",
     "text": [
      "Epoch #467: 1025it [00:02, 346.91it/s, env_step=478208, len=35, n/ep=2, n/st=64, player_1/loss=304.961, player_2/loss=597.733, rew=1306.00]\n"
     ]
    },
    {
     "name": "stdout",
     "output_type": "stream",
     "text": [
      "Epoch #467: test_reward: 1054.000000 ± 0.000000, best_reward: 1834.000000 ± 0.000000 in #117\n"
     ]
    },
    {
     "name": "stderr",
     "output_type": "stream",
     "text": [
      "Epoch #468: 1025it [00:02, 347.04it/s, env_step=479232, len=38, n/ep=2, n/st=64, player_1/loss=156.392, player_2/loss=440.367, rew=1481.00]\n"
     ]
    },
    {
     "name": "stdout",
     "output_type": "stream",
     "text": [
      "Epoch #468: test_reward: 1834.000000 ± 0.000000, best_reward: 1834.000000 ± 0.000000 in #117\n"
     ]
    },
    {
     "name": "stderr",
     "output_type": "stream",
     "text": [
      "Epoch #469: 1025it [00:02, 347.82it/s, env_step=480256, len=20, n/ep=3, n/st=64, player_1/loss=400.100, player_2/loss=353.280, rew=441.33]\n"
     ]
    },
    {
     "name": "stdout",
     "output_type": "stream",
     "text": [
      "Epoch #469: test_reward: 550.000000 ± 0.000000, best_reward: 1834.000000 ± 0.000000 in #117\n"
     ]
    },
    {
     "name": "stderr",
     "output_type": "stream",
     "text": [
      "Epoch #470: 1025it [00:02, 348.45it/s, env_step=481280, len=25, n/ep=3, n/st=64, player_1/loss=428.006, player_2/loss=467.904, rew=722.67]\n"
     ]
    },
    {
     "name": "stdout",
     "output_type": "stream",
     "text": [
      "Epoch #470: test_reward: 208.000000 ± 0.000000, best_reward: 1834.000000 ± 0.000000 in #117\n"
     ]
    },
    {
     "name": "stderr",
     "output_type": "stream",
     "text": [
      "Epoch #471: 1025it [00:02, 344.81it/s, env_step=482304, len=26, n/ep=2, n/st=64, player_1/loss=676.980, player_2/loss=798.431, rew=783.00]\n"
     ]
    },
    {
     "name": "stdout",
     "output_type": "stream",
     "text": [
      "Epoch #471: test_reward: 460.000000 ± 0.000000, best_reward: 1834.000000 ± 0.000000 in #117\n"
     ]
    },
    {
     "name": "stderr",
     "output_type": "stream",
     "text": [
      "Epoch #472: 1025it [00:02, 348.27it/s, env_step=483328, len=32, n/ep=1, n/st=64, player_1/loss=405.768, player_2/loss=576.971, rew=1054.00]\n"
     ]
    },
    {
     "name": "stdout",
     "output_type": "stream",
     "text": [
      "Epoch #472: test_reward: 378.000000 ± 0.000000, best_reward: 1834.000000 ± 0.000000 in #117\n"
     ]
    },
    {
     "name": "stderr",
     "output_type": "stream",
     "text": [
      "Epoch #473: 1025it [00:02, 346.64it/s, env_step=484352, len=15, n/ep=4, n/st=64, player_1/loss=129.427, player_2/loss=850.071, rew=270.00]\n"
     ]
    },
    {
     "name": "stdout",
     "output_type": "stream",
     "text": [
      "Epoch #473: test_reward: 180.000000 ± 0.000000, best_reward: 1834.000000 ± 0.000000 in #117\n"
     ]
    },
    {
     "name": "stderr",
     "output_type": "stream",
     "text": [
      "Epoch #474: 1025it [00:02, 346.00it/s, env_step=485376, len=22, n/ep=3, n/st=64, player_1/loss=406.682, player_2/loss=614.722, rew=602.00]\n"
     ]
    },
    {
     "name": "stdout",
     "output_type": "stream",
     "text": [
      "Epoch #474: test_reward: 1054.000000 ± 0.000000, best_reward: 1834.000000 ± 0.000000 in #117\n"
     ]
    },
    {
     "name": "stderr",
     "output_type": "stream",
     "text": [
      "Epoch #475: 1025it [00:02, 345.46it/s, env_step=486400, len=34, n/ep=2, n/st=64, player_1/loss=311.025, player_2/loss=618.965, rew=1235.00]\n"
     ]
    },
    {
     "name": "stdout",
     "output_type": "stream",
     "text": [
      "Epoch #475: test_reward: 1054.000000 ± 0.000000, best_reward: 1834.000000 ± 0.000000 in #117\n"
     ]
    },
    {
     "name": "stderr",
     "output_type": "stream",
     "text": [
      "Epoch #476: 1025it [00:02, 346.87it/s, env_step=487424, len=20, n/ep=3, n/st=64, player_1/loss=172.094, player_2/loss=427.892, rew=432.00]\n"
     ]
    },
    {
     "name": "stdout",
     "output_type": "stream",
     "text": [
      "Epoch #476: test_reward: 378.000000 ± 0.000000, best_reward: 1834.000000 ± 0.000000 in #117\n"
     ]
    },
    {
     "name": "stderr",
     "output_type": "stream",
     "text": [
      "Epoch #477: 1025it [00:02, 346.16it/s, env_step=488448, len=25, n/ep=3, n/st=64, player_1/loss=144.987, player_2/loss=281.566, rew=682.67]\n"
     ]
    },
    {
     "name": "stdout",
     "output_type": "stream",
     "text": [
      "Epoch #477: test_reward: 648.000000 ± 0.000000, best_reward: 1834.000000 ± 0.000000 in #117\n"
     ]
    },
    {
     "name": "stderr",
     "output_type": "stream",
     "text": [
      "Epoch #478: 1025it [00:02, 347.60it/s, env_step=489472, len=18, n/ep=4, n/st=64, player_1/loss=503.498, player_2/loss=175.787, rew=357.50]\n"
     ]
    },
    {
     "name": "stdout",
     "output_type": "stream",
     "text": [
      "Epoch #478: test_reward: 460.000000 ± 0.000000, best_reward: 1834.000000 ± 0.000000 in #117\n"
     ]
    },
    {
     "name": "stderr",
     "output_type": "stream",
     "text": [
      "Epoch #479: 1025it [00:02, 347.03it/s, env_step=490496, len=22, n/ep=3, n/st=64, player_1/loss=508.538, player_2/loss=362.680, rew=539.33]\n"
     ]
    },
    {
     "name": "stdout",
     "output_type": "stream",
     "text": [
      "Epoch #479: test_reward: 1054.000000 ± 0.000000, best_reward: 1834.000000 ± 0.000000 in #117\n"
     ]
    },
    {
     "name": "stderr",
     "output_type": "stream",
     "text": [
      "Epoch #480: 1025it [00:02, 346.69it/s, env_step=491520, len=28, n/ep=3, n/st=64, player_1/loss=556.237, player_2/loss=374.922, rew=878.67]\n"
     ]
    },
    {
     "name": "stdout",
     "output_type": "stream",
     "text": [
      "Epoch #480: test_reward: 598.000000 ± 0.000000, best_reward: 1834.000000 ± 0.000000 in #117\n"
     ]
    },
    {
     "name": "stderr",
     "output_type": "stream",
     "text": [
      "Epoch #481: 1025it [00:02, 347.00it/s, env_step=492544, len=22, n/ep=3, n/st=64, player_1/loss=183.872, player_2/loss=187.670, rew=658.67]\n"
     ]
    },
    {
     "name": "stdout",
     "output_type": "stream",
     "text": [
      "Epoch #481: test_reward: 810.000000 ± 0.000000, best_reward: 1834.000000 ± 0.000000 in #117\n"
     ]
    },
    {
     "name": "stderr",
     "output_type": "stream",
     "text": [
      "Epoch #482: 1025it [00:02, 346.84it/s, env_step=493568, len=31, n/ep=2, n/st=64, player_1/loss=527.011, player_2/loss=385.720, rew=991.00]\n"
     ]
    },
    {
     "name": "stdout",
     "output_type": "stream",
     "text": [
      "Epoch #482: test_reward: 1480.000000 ± 0.000000, best_reward: 1834.000000 ± 0.000000 in #117\n"
     ]
    },
    {
     "name": "stderr",
     "output_type": "stream",
     "text": [
      "Epoch #483: 1025it [00:02, 346.33it/s, env_step=494592, len=35, n/ep=2, n/st=64, player_1/loss=414.683, player_2/loss=108.930, rew=1259.00]\n"
     ]
    },
    {
     "name": "stdout",
     "output_type": "stream",
     "text": [
      "Epoch #483: test_reward: 648.000000 ± 0.000000, best_reward: 1834.000000 ± 0.000000 in #117\n"
     ]
    },
    {
     "name": "stderr",
     "output_type": "stream",
     "text": [
      "Epoch #484: 1025it [00:02, 349.07it/s, env_step=495616, len=30, n/ep=2, n/st=64, player_1/loss=44.072, player_2/loss=293.116, rew=929.00]\n"
     ]
    },
    {
     "name": "stdout",
     "output_type": "stream",
     "text": [
      "Epoch #484: test_reward: 504.000000 ± 0.000000, best_reward: 1834.000000 ± 0.000000 in #117\n"
     ]
    },
    {
     "name": "stderr",
     "output_type": "stream",
     "text": [
      "Epoch #485: 1025it [00:02, 346.06it/s, env_step=496640, len=24, n/ep=3, n/st=64, player_1/loss=71.921, player_2/loss=194.369, rew=641.33]\n"
     ]
    },
    {
     "name": "stdout",
     "output_type": "stream",
     "text": [
      "Epoch #485: test_reward: 504.000000 ± 0.000000, best_reward: 1834.000000 ± 0.000000 in #117\n"
     ]
    },
    {
     "name": "stderr",
     "output_type": "stream",
     "text": [
      "Epoch #486: 1025it [00:02, 344.66it/s, env_step=497664, len=21, n/ep=3, n/st=64, player_1/loss=656.092, player_2/loss=237.483, rew=460.67]\n"
     ]
    },
    {
     "name": "stdout",
     "output_type": "stream",
     "text": [
      "Epoch #486: test_reward: 378.000000 ± 0.000000, best_reward: 1834.000000 ± 0.000000 in #117\n"
     ]
    },
    {
     "name": "stderr",
     "output_type": "stream",
     "text": [
      "Epoch #487: 1025it [00:02, 347.41it/s, env_step=498688, len=21, n/ep=3, n/st=64, player_1/loss=425.953, player_2/loss=351.523, rew=474.67]\n"
     ]
    },
    {
     "name": "stdout",
     "output_type": "stream",
     "text": [
      "Epoch #487: test_reward: 54.000000 ± 0.000000, best_reward: 1834.000000 ± 0.000000 in #117\n"
     ]
    },
    {
     "name": "stderr",
     "output_type": "stream",
     "text": [
      "Epoch #488: 1025it [00:02, 347.16it/s, env_step=499712, len=23, n/ep=3, n/st=64, player_1/loss=527.865, player_2/loss=433.829, rew=570.00]\n"
     ]
    },
    {
     "name": "stdout",
     "output_type": "stream",
     "text": [
      "Epoch #488: test_reward: 1054.000000 ± 0.000000, best_reward: 1834.000000 ± 0.000000 in #117\n"
     ]
    },
    {
     "name": "stderr",
     "output_type": "stream",
     "text": [
      "Epoch #489: 1025it [00:02, 346.49it/s, env_step=500736, len=37, n/ep=2, n/st=64, player_1/loss=199.269, player_2/loss=424.497, rew=1408.00]\n"
     ]
    },
    {
     "name": "stdout",
     "output_type": "stream",
     "text": [
      "Epoch #489: test_reward: 378.000000 ± 0.000000, best_reward: 1834.000000 ± 0.000000 in #117\n"
     ]
    },
    {
     "name": "stderr",
     "output_type": "stream",
     "text": [
      "Epoch #490: 1025it [00:02, 346.73it/s, env_step=501760, len=9, n/ep=7, n/st=64, player_1/loss=451.984, player_2/loss=305.760, rew=89.14]\n"
     ]
    },
    {
     "name": "stdout",
     "output_type": "stream",
     "text": [
      "Epoch #490: test_reward: 598.000000 ± 0.000000, best_reward: 1834.000000 ± 0.000000 in #117\n"
     ]
    },
    {
     "name": "stderr",
     "output_type": "stream",
     "text": [
      "Epoch #491: 1025it [00:02, 345.91it/s, env_step=502784, len=28, n/ep=3, n/st=64, player_1/loss=353.300, player_2/loss=111.019, rew=836.00]\n"
     ]
    },
    {
     "name": "stdout",
     "output_type": "stream",
     "text": [
      "Epoch #491: test_reward: 460.000000 ± 0.000000, best_reward: 1834.000000 ± 0.000000 in #117\n"
     ]
    },
    {
     "name": "stderr",
     "output_type": "stream",
     "text": [
      "Epoch #492: 1025it [00:02, 345.81it/s, env_step=503808, len=17, n/ep=3, n/st=64, player_1/loss=170.867, player_2/loss=216.186, rew=339.33]\n"
     ]
    },
    {
     "name": "stdout",
     "output_type": "stream",
     "text": [
      "Epoch #492: test_reward: 208.000000 ± 0.000000, best_reward: 1834.000000 ± 0.000000 in #117\n"
     ]
    },
    {
     "name": "stderr",
     "output_type": "stream",
     "text": [
      "Epoch #493: 1025it [00:02, 345.94it/s, env_step=504832, len=18, n/ep=4, n/st=64, player_1/loss=301.264, player_2/loss=303.785, rew=383.00]\n"
     ]
    },
    {
     "name": "stdout",
     "output_type": "stream",
     "text": [
      "Epoch #493: test_reward: 700.000000 ± 0.000000, best_reward: 1834.000000 ± 0.000000 in #117\n"
     ]
    },
    {
     "name": "stderr",
     "output_type": "stream",
     "text": [
      "Epoch #494: 1025it [00:02, 346.48it/s, env_step=505856, len=37, n/ep=2, n/st=64, player_1/loss=560.411, player_2/loss=244.537, rew=1442.00]\n"
     ]
    },
    {
     "name": "stdout",
     "output_type": "stream",
     "text": [
      "Epoch #494: test_reward: 928.000000 ± 0.000000, best_reward: 1834.000000 ± 0.000000 in #117\n"
     ]
    },
    {
     "name": "stderr",
     "output_type": "stream",
     "text": [
      "Epoch #495: 1025it [00:02, 345.68it/s, env_step=506880, len=35, n/ep=2, n/st=64, player_1/loss=347.684, player_2/loss=392.777, rew=1267.00]\n"
     ]
    },
    {
     "name": "stdout",
     "output_type": "stream",
     "text": [
      "Epoch #495: test_reward: 928.000000 ± 0.000000, best_reward: 1834.000000 ± 0.000000 in #117\n"
     ]
    },
    {
     "name": "stderr",
     "output_type": "stream",
     "text": [
      "Epoch #496: 1025it [00:02, 346.38it/s, env_step=507904, len=13, n/ep=4, n/st=64, player_1/loss=302.925, player_2/loss=361.532, rew=194.50]\n"
     ]
    },
    {
     "name": "stdout",
     "output_type": "stream",
     "text": [
      "Epoch #496: test_reward: 238.000000 ± 0.000000, best_reward: 1834.000000 ± 0.000000 in #117\n"
     ]
    },
    {
     "name": "stderr",
     "output_type": "stream",
     "text": [
      "Epoch #497: 1025it [00:02, 349.09it/s, env_step=508928, len=20, n/ep=3, n/st=64, player_1/loss=510.334, player_2/loss=195.485, rew=418.67]\n"
     ]
    },
    {
     "name": "stdout",
     "output_type": "stream",
     "text": [
      "Epoch #497: test_reward: 418.000000 ± 0.000000, best_reward: 1834.000000 ± 0.000000 in #117\n"
     ]
    },
    {
     "name": "stderr",
     "output_type": "stream",
     "text": [
      "Epoch #498: 1025it [00:02, 348.14it/s, env_step=509952, len=32, n/ep=2, n/st=64, player_1/loss=510.800, player_2/loss=144.520, rew=1093.00]\n"
     ]
    },
    {
     "name": "stdout",
     "output_type": "stream",
     "text": [
      "Epoch #498: test_reward: 990.000000 ± 0.000000, best_reward: 1834.000000 ± 0.000000 in #117\n"
     ]
    },
    {
     "name": "stderr",
     "output_type": "stream",
     "text": [
      "Epoch #499: 1025it [00:02, 346.83it/s, env_step=510976, len=22, n/ep=3, n/st=64, player_1/loss=436.779, player_2/loss=168.101, rew=578.67]\n"
     ]
    },
    {
     "name": "stdout",
     "output_type": "stream",
     "text": [
      "Epoch #499: test_reward: 340.000000 ± 0.000000, best_reward: 1834.000000 ± 0.000000 in #117\n"
     ]
    },
    {
     "name": "stderr",
     "output_type": "stream",
     "text": [
      "Epoch #500: 1025it [00:02, 345.03it/s, env_step=512000, len=30, n/ep=2, n/st=64, player_1/loss=281.698, player_2/loss=203.059, rew=959.00]\n"
     ]
    },
    {
     "name": "stdout",
     "output_type": "stream",
     "text": [
      "Epoch #500: test_reward: 648.000000 ± 0.000000, best_reward: 1834.000000 ± 0.000000 in #117\n"
     ]
    },
    {
     "name": "stderr",
     "output_type": "stream",
     "text": [
      "Epoch #501: 1025it [00:02, 345.16it/s, env_step=513024, len=24, n/ep=3, n/st=64, player_1/loss=318.355, player_2/loss=341.186, rew=702.67]\n"
     ]
    },
    {
     "name": "stdout",
     "output_type": "stream",
     "text": [
      "Epoch #501: test_reward: 754.000000 ± 0.000000, best_reward: 1834.000000 ± 0.000000 in #117\n"
     ]
    },
    {
     "name": "stderr",
     "output_type": "stream",
     "text": [
      "Epoch #502: 1025it [00:02, 347.67it/s, env_step=514048, len=40, n/ep=2, n/st=64, player_1/loss=122.097, player_2/loss=535.485, rew=1638.00]\n"
     ]
    },
    {
     "name": "stdout",
     "output_type": "stream",
     "text": [
      "Epoch #502: test_reward: 1404.000000 ± 0.000000, best_reward: 1834.000000 ± 0.000000 in #117\n"
     ]
    },
    {
     "name": "stderr",
     "output_type": "stream",
     "text": [
      "Epoch #503: 1025it [00:02, 345.35it/s, env_step=515072, len=34, n/ep=2, n/st=64, player_1/loss=214.946, player_2/loss=325.357, rew=1279.00]\n"
     ]
    },
    {
     "name": "stdout",
     "output_type": "stream",
     "text": [
      "Epoch #503: test_reward: 754.000000 ± 0.000000, best_reward: 1834.000000 ± 0.000000 in #117\n"
     ]
    },
    {
     "name": "stderr",
     "output_type": "stream",
     "text": [
      "Epoch #504: 1025it [00:02, 345.99it/s, env_step=516096, len=27, n/ep=2, n/st=64, player_1/loss=469.598, player_2/loss=366.845, rew=802.00]\n"
     ]
    },
    {
     "name": "stdout",
     "output_type": "stream",
     "text": [
      "Epoch #504: test_reward: 868.000000 ± 0.000000, best_reward: 1834.000000 ± 0.000000 in #117\n"
     ]
    },
    {
     "name": "stderr",
     "output_type": "stream",
     "text": [
      "Epoch #505: 1025it [00:02, 345.84it/s, env_step=517120, len=29, n/ep=2, n/st=64, player_1/loss=423.626, player_2/loss=270.501, rew=968.00]\n"
     ]
    },
    {
     "name": "stdout",
     "output_type": "stream",
     "text": [
      "Epoch #505: test_reward: 418.000000 ± 0.000000, best_reward: 1834.000000 ± 0.000000 in #117\n"
     ]
    },
    {
     "name": "stderr",
     "output_type": "stream",
     "text": [
      "Epoch #506: 1025it [00:02, 346.06it/s, env_step=518144, len=33, n/ep=2, n/st=64, player_1/loss=110.540, player_2/loss=601.715, rew=1136.00]\n"
     ]
    },
    {
     "name": "stdout",
     "output_type": "stream",
     "text": [
      "Epoch #506: test_reward: 460.000000 ± 0.000000, best_reward: 1834.000000 ± 0.000000 in #117\n"
     ]
    },
    {
     "name": "stderr",
     "output_type": "stream",
     "text": [
      "Epoch #507: 1025it [00:02, 343.28it/s, env_step=519168, len=36, n/ep=2, n/st=64, player_1/loss=342.936, player_2/loss=70.364, rew=1379.00]\n"
     ]
    },
    {
     "name": "stdout",
     "output_type": "stream",
     "text": [
      "Epoch #507: test_reward: 1480.000000 ± 0.000000, best_reward: 1834.000000 ± 0.000000 in #117\n"
     ]
    },
    {
     "name": "stderr",
     "output_type": "stream",
     "text": [
      "Epoch #508: 1025it [00:02, 344.71it/s, env_step=520192, len=37, n/ep=1, n/st=64, player_1/loss=231.556, player_2/loss=120.090, rew=1404.00]\n"
     ]
    },
    {
     "name": "stdout",
     "output_type": "stream",
     "text": [
      "Epoch #508: test_reward: 1480.000000 ± 0.000000, best_reward: 1834.000000 ± 0.000000 in #117\n"
     ]
    },
    {
     "name": "stderr",
     "output_type": "stream",
     "text": [
      "Epoch #509: 1025it [00:02, 345.72it/s, env_step=521216, len=25, n/ep=2, n/st=64, player_1/loss=204.683, player_2/loss=445.427, rew=730.00]\n"
     ]
    },
    {
     "name": "stdout",
     "output_type": "stream",
     "text": [
      "Epoch #509: test_reward: 504.000000 ± 0.000000, best_reward: 1834.000000 ± 0.000000 in #117\n"
     ]
    },
    {
     "name": "stderr",
     "output_type": "stream",
     "text": [
      "Epoch #510: 1025it [00:02, 345.76it/s, env_step=522240, len=37, n/ep=2, n/st=64, player_1/loss=159.753, player_2/loss=259.180, rew=1444.00]\n"
     ]
    },
    {
     "name": "stdout",
     "output_type": "stream",
     "text": [
      "Epoch #510: test_reward: 1054.000000 ± 0.000000, best_reward: 1834.000000 ± 0.000000 in #117\n"
     ]
    },
    {
     "name": "stderr",
     "output_type": "stream",
     "text": [
      "Epoch #511: 1025it [00:02, 345.59it/s, env_step=523264, len=21, n/ep=3, n/st=64, player_1/loss=424.710, player_2/loss=339.112, rew=495.33]\n"
     ]
    },
    {
     "name": "stdout",
     "output_type": "stream",
     "text": [
      "Epoch #511: test_reward: 460.000000 ± 0.000000, best_reward: 1834.000000 ± 0.000000 in #117\n"
     ]
    },
    {
     "name": "stderr",
     "output_type": "stream",
     "text": [
      "Epoch #512: 1025it [00:02, 345.06it/s, env_step=524288, len=26, n/ep=3, n/st=64, player_1/loss=495.811, player_2/loss=412.617, rew=737.33]\n"
     ]
    },
    {
     "name": "stdout",
     "output_type": "stream",
     "text": [
      "Epoch #512: test_reward: 868.000000 ± 0.000000, best_reward: 1834.000000 ± 0.000000 in #117\n"
     ]
    },
    {
     "name": "stderr",
     "output_type": "stream",
     "text": [
      "Epoch #513: 1025it [00:02, 345.37it/s, env_step=525312, len=25, n/ep=2, n/st=64, player_1/loss=493.362, player_2/loss=567.447, rew=649.00]\n"
     ]
    },
    {
     "name": "stdout",
     "output_type": "stream",
     "text": [
      "Epoch #513: test_reward: 648.000000 ± 0.000000, best_reward: 1834.000000 ± 0.000000 in #117\n"
     ]
    },
    {
     "name": "stderr",
     "output_type": "stream",
     "text": [
      "Epoch #514: 1025it [00:02, 346.01it/s, env_step=526336, len=35, n/ep=2, n/st=64, player_1/loss=485.577, player_2/loss=202.066, rew=1314.00]\n"
     ]
    },
    {
     "name": "stdout",
     "output_type": "stream",
     "text": [
      "Epoch #514: test_reward: 700.000000 ± 0.000000, best_reward: 1834.000000 ± 0.000000 in #117\n"
     ]
    },
    {
     "name": "stderr",
     "output_type": "stream",
     "text": [
      "Epoch #515: 1025it [00:02, 346.07it/s, env_step=527360, len=36, n/ep=2, n/st=64, player_1/loss=315.490, player_2/loss=487.763, rew=1379.00]\n"
     ]
    },
    {
     "name": "stdout",
     "output_type": "stream",
     "text": [
      "Epoch #515: test_reward: 700.000000 ± 0.000000, best_reward: 1834.000000 ± 0.000000 in #117\n"
     ]
    },
    {
     "name": "stderr",
     "output_type": "stream",
     "text": [
      "Epoch #516: 1025it [00:02, 345.93it/s, env_step=528384, len=36, n/ep=2, n/st=64, player_1/loss=167.780, player_2/loss=190.049, rew=1339.00]\n"
     ]
    },
    {
     "name": "stdout",
     "output_type": "stream",
     "text": [
      "Epoch #516: test_reward: 700.000000 ± 0.000000, best_reward: 1834.000000 ± 0.000000 in #117\n"
     ]
    },
    {
     "name": "stderr",
     "output_type": "stream",
     "text": [
      "Epoch #517: 1025it [00:02, 345.83it/s, env_step=529408, len=17, n/ep=3, n/st=64, player_1/loss=416.494, player_2/loss=433.736, rew=336.00]\n"
     ]
    },
    {
     "name": "stdout",
     "output_type": "stream",
     "text": [
      "Epoch #517: test_reward: 70.000000 ± 0.000000, best_reward: 1834.000000 ± 0.000000 in #117\n"
     ]
    },
    {
     "name": "stderr",
     "output_type": "stream",
     "text": [
      "Epoch #518: 1025it [00:02, 346.07it/s, env_step=530432, len=25, n/ep=3, n/st=64, player_1/loss=380.146, player_2/loss=274.814, rew=665.33]\n"
     ]
    },
    {
     "name": "stdout",
     "output_type": "stream",
     "text": [
      "Epoch #518: test_reward: 1054.000000 ± 0.000000, best_reward: 1834.000000 ± 0.000000 in #117\n"
     ]
    },
    {
     "name": "stderr",
     "output_type": "stream",
     "text": [
      "Epoch #519: 1025it [00:02, 345.99it/s, env_step=531456, len=27, n/ep=3, n/st=64, player_1/loss=316.357, player_2/loss=515.156, rew=816.00]\n"
     ]
    },
    {
     "name": "stdout",
     "output_type": "stream",
     "text": [
      "Epoch #519: test_reward: 754.000000 ± 0.000000, best_reward: 1834.000000 ± 0.000000 in #117\n"
     ]
    },
    {
     "name": "stderr",
     "output_type": "stream",
     "text": [
      "Epoch #520: 1025it [00:02, 345.85it/s, env_step=532480, len=33, n/ep=2, n/st=64, player_1/loss=292.636, player_2/loss=595.146, rew=1121.00]\n"
     ]
    },
    {
     "name": "stdout",
     "output_type": "stream",
     "text": [
      "Epoch #520: test_reward: 460.000000 ± 0.000000, best_reward: 1834.000000 ± 0.000000 in #117\n"
     ]
    },
    {
     "name": "stderr",
     "output_type": "stream",
     "text": [
      "Epoch #521: 1025it [00:02, 345.34it/s, env_step=533504, len=39, n/ep=1, n/st=64, player_1/loss=139.128, player_2/loss=550.762, rew=1558.00]\n"
     ]
    },
    {
     "name": "stdout",
     "output_type": "stream",
     "text": [
      "Epoch #521: test_reward: 1188.000000 ± 0.000000, best_reward: 1834.000000 ± 0.000000 in #117\n"
     ]
    },
    {
     "name": "stderr",
     "output_type": "stream",
     "text": [
      "Epoch #522: 1025it [00:02, 346.79it/s, env_step=534528, len=22, n/ep=3, n/st=64, player_1/loss=657.124, player_2/loss=264.446, rew=616.67]\n"
     ]
    },
    {
     "name": "stdout",
     "output_type": "stream",
     "text": [
      "Epoch #522: test_reward: 180.000000 ± 0.000000, best_reward: 1834.000000 ± 0.000000 in #117\n"
     ]
    },
    {
     "name": "stderr",
     "output_type": "stream",
     "text": [
      "Epoch #523: 1025it [00:02, 347.38it/s, env_step=535552, len=15, n/ep=5, n/st=64, player_1/loss=293.752, player_2/loss=460.799, rew=244.40]\n"
     ]
    },
    {
     "name": "stdout",
     "output_type": "stream",
     "text": [
      "Epoch #523: test_reward: 238.000000 ± 0.000000, best_reward: 1834.000000 ± 0.000000 in #117\n"
     ]
    },
    {
     "name": "stderr",
     "output_type": "stream",
     "text": [
      "Epoch #524: 1025it [00:02, 344.78it/s, env_step=536576, len=24, n/ep=3, n/st=64, player_1/loss=156.793, player_2/loss=424.553, rew=624.00]\n"
     ]
    },
    {
     "name": "stdout",
     "output_type": "stream",
     "text": [
      "Epoch #524: test_reward: 648.000000 ± 0.000000, best_reward: 1834.000000 ± 0.000000 in #117\n"
     ]
    },
    {
     "name": "stderr",
     "output_type": "stream",
     "text": [
      "Epoch #525: 1025it [00:02, 347.32it/s, env_step=537600, len=22, n/ep=3, n/st=64, player_1/loss=251.360, player_2/loss=190.208, rew=544.00]\n"
     ]
    },
    {
     "name": "stdout",
     "output_type": "stream",
     "text": [
      "Epoch #525: test_reward: 504.000000 ± 0.000000, best_reward: 1834.000000 ± 0.000000 in #117\n"
     ]
    },
    {
     "name": "stderr",
     "output_type": "stream",
     "text": [
      "Epoch #526: 1025it [00:02, 346.60it/s, env_step=538624, len=24, n/ep=3, n/st=64, player_1/loss=60.728, player_2/loss=248.116, rew=632.00]\n"
     ]
    },
    {
     "name": "stdout",
     "output_type": "stream",
     "text": [
      "Epoch #526: test_reward: 460.000000 ± 0.000000, best_reward: 1834.000000 ± 0.000000 in #117\n"
     ]
    },
    {
     "name": "stderr",
     "output_type": "stream",
     "text": [
      "Epoch #527: 1025it [00:02, 346.51it/s, env_step=539648, len=15, n/ep=5, n/st=64, player_1/loss=270.662, player_2/loss=292.485, rew=272.40]\n"
     ]
    },
    {
     "name": "stdout",
     "output_type": "stream",
     "text": [
      "Epoch #527: test_reward: 504.000000 ± 0.000000, best_reward: 1834.000000 ± 0.000000 in #117\n"
     ]
    },
    {
     "name": "stderr",
     "output_type": "stream",
     "text": [
      "Epoch #528: 1025it [00:02, 346.23it/s, env_step=540672, len=19, n/ep=4, n/st=64, player_1/loss=321.368, player_2/loss=350.020, rew=455.00]\n"
     ]
    },
    {
     "name": "stdout",
     "output_type": "stream",
     "text": [
      "Epoch #528: test_reward: 648.000000 ± 0.000000, best_reward: 1834.000000 ± 0.000000 in #117\n"
     ]
    },
    {
     "name": "stderr",
     "output_type": "stream",
     "text": [
      "Epoch #529: 1025it [00:02, 345.23it/s, env_step=541696, len=19, n/ep=3, n/st=64, player_1/loss=382.661, player_2/loss=344.539, rew=540.67]\n"
     ]
    },
    {
     "name": "stdout",
     "output_type": "stream",
     "text": [
      "Epoch #529: test_reward: 88.000000 ± 0.000000, best_reward: 1834.000000 ± 0.000000 in #117\n"
     ]
    },
    {
     "name": "stderr",
     "output_type": "stream",
     "text": [
      "Epoch #530: 1025it [00:02, 346.29it/s, env_step=542720, len=26, n/ep=3, n/st=64, player_1/loss=221.705, player_2/loss=548.013, rew=706.00]\n"
     ]
    },
    {
     "name": "stdout",
     "output_type": "stream",
     "text": [
      "Epoch #530: test_reward: 304.000000 ± 0.000000, best_reward: 1834.000000 ± 0.000000 in #117\n"
     ]
    },
    {
     "name": "stderr",
     "output_type": "stream",
     "text": [
      "Epoch #531: 1025it [00:02, 346.53it/s, env_step=543744, len=31, n/ep=2, n/st=64, player_1/loss=501.066, player_2/loss=255.126, rew=1039.00]\n"
     ]
    },
    {
     "name": "stdout",
     "output_type": "stream",
     "text": [
      "Epoch #531: test_reward: 1480.000000 ± 0.000000, best_reward: 1834.000000 ± 0.000000 in #117\n"
     ]
    },
    {
     "name": "stderr",
     "output_type": "stream",
     "text": [
      "Epoch #532: 1025it [00:02, 345.84it/s, env_step=544768, len=23, n/ep=2, n/st=64, player_1/loss=283.866, player_2/loss=491.677, rew=775.00]\n"
     ]
    },
    {
     "name": "stdout",
     "output_type": "stream",
     "text": [
      "Epoch #532: test_reward: 460.000000 ± 0.000000, best_reward: 1834.000000 ± 0.000000 in #117\n"
     ]
    },
    {
     "name": "stderr",
     "output_type": "stream",
     "text": [
      "Epoch #533: 1025it [00:02, 346.73it/s, env_step=545792, len=36, n/ep=2, n/st=64, player_1/loss=406.729, player_2/loss=426.159, rew=1369.00]\n"
     ]
    },
    {
     "name": "stdout",
     "output_type": "stream",
     "text": [
      "Epoch #533: test_reward: 1330.000000 ± 0.000000, best_reward: 1834.000000 ± 0.000000 in #117\n"
     ]
    },
    {
     "name": "stderr",
     "output_type": "stream",
     "text": [
      "Epoch #534: 1025it [00:02, 346.46it/s, env_step=546816, len=39, n/ep=1, n/st=64, player_1/loss=148.199, player_2/loss=192.741, rew=1558.00]\n"
     ]
    },
    {
     "name": "stdout",
     "output_type": "stream",
     "text": [
      "Epoch #534: test_reward: 754.000000 ± 0.000000, best_reward: 1834.000000 ± 0.000000 in #117\n"
     ]
    },
    {
     "name": "stderr",
     "output_type": "stream",
     "text": [
      "Epoch #535: 1025it [00:03, 337.41it/s, env_step=547840, len=39, n/ep=1, n/st=64, player_1/loss=293.331, player_2/loss=417.810, rew=1558.00]\n"
     ]
    },
    {
     "name": "stdout",
     "output_type": "stream",
     "text": [
      "Epoch #535: test_reward: 1404.000000 ± 0.000000, best_reward: 1834.000000 ± 0.000000 in #117\n"
     ]
    },
    {
     "name": "stderr",
     "output_type": "stream",
     "text": [
      "Epoch #536: 1025it [00:03, 340.95it/s, env_step=548864, len=28, n/ep=3, n/st=64, player_1/loss=446.676, player_2/loss=478.199, rew=937.33]\n"
     ]
    },
    {
     "name": "stdout",
     "output_type": "stream",
     "text": [
      "Epoch #536: test_reward: 810.000000 ± 0.000000, best_reward: 1834.000000 ± 0.000000 in #117\n"
     ]
    },
    {
     "name": "stderr",
     "output_type": "stream",
     "text": [
      "Epoch #537: 1025it [00:02, 343.81it/s, env_step=549888, len=24, n/ep=4, n/st=64, player_1/loss=227.425, player_2/loss=407.137, rew=673.50]\n"
     ]
    },
    {
     "name": "stdout",
     "output_type": "stream",
     "text": [
      "Epoch #537: test_reward: 378.000000 ± 0.000000, best_reward: 1834.000000 ± 0.000000 in #117\n"
     ]
    },
    {
     "name": "stderr",
     "output_type": "stream",
     "text": [
      "Epoch #538: 1025it [00:02, 345.58it/s, env_step=550912, len=17, n/ep=5, n/st=64, player_1/loss=495.672, player_2/loss=323.907, rew=422.00]\n"
     ]
    },
    {
     "name": "stdout",
     "output_type": "stream",
     "text": [
      "Epoch #538: test_reward: 1258.000000 ± 0.000000, best_reward: 1834.000000 ± 0.000000 in #117\n"
     ]
    },
    {
     "name": "stderr",
     "output_type": "stream",
     "text": [
      "Epoch #539: 1025it [00:02, 344.69it/s, env_step=551936, len=27, n/ep=3, n/st=64, player_1/loss=370.698, player_2/loss=506.656, rew=858.00]\n"
     ]
    },
    {
     "name": "stdout",
     "output_type": "stream",
     "text": [
      "Epoch #539: test_reward: 810.000000 ± 0.000000, best_reward: 1834.000000 ± 0.000000 in #117\n"
     ]
    },
    {
     "name": "stderr",
     "output_type": "stream",
     "text": [
      "Epoch #540: 1025it [00:02, 345.99it/s, env_step=552960, len=29, n/ep=2, n/st=64, player_1/loss=506.896, player_2/loss=568.558, rew=868.00]\n"
     ]
    },
    {
     "name": "stdout",
     "output_type": "stream",
     "text": [
      "Epoch #540: test_reward: 928.000000 ± 0.000000, best_reward: 1834.000000 ± 0.000000 in #117\n"
     ]
    },
    {
     "name": "stderr",
     "output_type": "stream",
     "text": [
      "Epoch #541: 1025it [00:02, 345.02it/s, env_step=553984, len=24, n/ep=3, n/st=64, player_1/loss=395.383, player_2/loss=130.338, rew=750.00]\n"
     ]
    },
    {
     "name": "stdout",
     "output_type": "stream",
     "text": [
      "Epoch #541: test_reward: 130.000000 ± 0.000000, best_reward: 1834.000000 ± 0.000000 in #117\n"
     ]
    },
    {
     "name": "stderr",
     "output_type": "stream",
     "text": [
      "Epoch #542: 1025it [00:02, 347.08it/s, env_step=555008, len=28, n/ep=3, n/st=64, player_1/loss=455.328, player_2/loss=255.705, rew=848.67]\n"
     ]
    },
    {
     "name": "stdout",
     "output_type": "stream",
     "text": [
      "Epoch #542: test_reward: 754.000000 ± 0.000000, best_reward: 1834.000000 ± 0.000000 in #117\n"
     ]
    },
    {
     "name": "stderr",
     "output_type": "stream",
     "text": [
      "Epoch #543: 1025it [00:02, 343.91it/s, env_step=556032, len=22, n/ep=3, n/st=64, player_1/loss=456.805, player_2/loss=450.634, rew=654.67]\n"
     ]
    },
    {
     "name": "stdout",
     "output_type": "stream",
     "text": [
      "Epoch #543: test_reward: 1120.000000 ± 0.000000, best_reward: 1834.000000 ± 0.000000 in #117\n"
     ]
    },
    {
     "name": "stderr",
     "output_type": "stream",
     "text": [
      "Epoch #544: 1025it [00:02, 345.61it/s, env_step=557056, len=14, n/ep=5, n/st=64, player_1/loss=346.640, player_2/loss=428.699, rew=282.80]\n"
     ]
    },
    {
     "name": "stdout",
     "output_type": "stream",
     "text": [
      "Epoch #544: test_reward: 1558.000000 ± 0.000000, best_reward: 1834.000000 ± 0.000000 in #117\n"
     ]
    },
    {
     "name": "stderr",
     "output_type": "stream",
     "text": [
      "Epoch #545: 1025it [00:02, 343.21it/s, env_step=558080, len=32, n/ep=2, n/st=64, player_1/loss=340.803, player_2/loss=304.521, rew=1192.00]\n"
     ]
    },
    {
     "name": "stdout",
     "output_type": "stream",
     "text": [
      "Epoch #545: test_reward: 1330.000000 ± 0.000000, best_reward: 1834.000000 ± 0.000000 in #117\n"
     ]
    },
    {
     "name": "stderr",
     "output_type": "stream",
     "text": [
      "Epoch #546: 1025it [00:02, 344.98it/s, env_step=559104, len=22, n/ep=3, n/st=64, player_1/loss=383.347, player_2/loss=467.684, rew=516.67]\n"
     ]
    },
    {
     "name": "stdout",
     "output_type": "stream",
     "text": [
      "Epoch #546: test_reward: 418.000000 ± 0.000000, best_reward: 1834.000000 ± 0.000000 in #117\n"
     ]
    },
    {
     "name": "stderr",
     "output_type": "stream",
     "text": [
      "Epoch #547: 1025it [00:02, 344.37it/s, env_step=560128, len=27, n/ep=2, n/st=64, player_1/loss=569.051, player_2/loss=228.198, rew=758.00]\n"
     ]
    },
    {
     "name": "stdout",
     "output_type": "stream",
     "text": [
      "Epoch #547: test_reward: 990.000000 ± 0.000000, best_reward: 1834.000000 ± 0.000000 in #117\n"
     ]
    },
    {
     "name": "stderr",
     "output_type": "stream",
     "text": [
      "Epoch #548: 1025it [00:02, 346.83it/s, env_step=561152, len=22, n/ep=3, n/st=64, player_1/loss=372.315, player_2/loss=390.592, rew=650.00]\n"
     ]
    },
    {
     "name": "stdout",
     "output_type": "stream",
     "text": [
      "Epoch #548: test_reward: 1834.000000 ± 0.000000, best_reward: 1834.000000 ± 0.000000 in #117\n"
     ]
    },
    {
     "name": "stderr",
     "output_type": "stream",
     "text": [
      "Epoch #549: 1025it [00:02, 346.85it/s, env_step=562176, len=31, n/ep=2, n/st=64, player_1/loss=336.973, player_2/loss=125.447, rew=1147.00]\n"
     ]
    },
    {
     "name": "stdout",
     "output_type": "stream",
     "text": [
      "Epoch #549: test_reward: 378.000000 ± 0.000000, best_reward: 1834.000000 ± 0.000000 in #117\n"
     ]
    },
    {
     "name": "stderr",
     "output_type": "stream",
     "text": [
      "Epoch #550: 1025it [00:02, 346.80it/s, env_step=563200, len=25, n/ep=2, n/st=64, player_1/loss=336.757, player_2/loss=45.856, rew=657.00]\n"
     ]
    },
    {
     "name": "stdout",
     "output_type": "stream",
     "text": [
      "Epoch #550: test_reward: 754.000000 ± 0.000000, best_reward: 1834.000000 ± 0.000000 in #117\n"
     ]
    },
    {
     "name": "stderr",
     "output_type": "stream",
     "text": [
      "Epoch #551: 1025it [00:02, 345.66it/s, env_step=564224, len=28, n/ep=3, n/st=64, player_1/loss=470.930, player_2/loss=205.376, rew=824.00]\n"
     ]
    },
    {
     "name": "stdout",
     "output_type": "stream",
     "text": [
      "Epoch #551: test_reward: 1480.000000 ± 0.000000, best_reward: 1834.000000 ± 0.000000 in #117\n"
     ]
    },
    {
     "name": "stderr",
     "output_type": "stream",
     "text": [
      "Epoch #552: 1025it [00:02, 345.54it/s, env_step=565248, len=34, n/ep=2, n/st=64, player_1/loss=851.323, player_2/loss=417.460, rew=1223.00]\n"
     ]
    },
    {
     "name": "stdout",
     "output_type": "stream",
     "text": [
      "Epoch #552: test_reward: 1054.000000 ± 0.000000, best_reward: 1834.000000 ± 0.000000 in #117\n"
     ]
    },
    {
     "name": "stderr",
     "output_type": "stream",
     "text": [
      "Epoch #553: 1025it [00:02, 345.53it/s, env_step=566272, len=19, n/ep=4, n/st=64, player_1/loss=597.187, player_2/loss=674.537, rew=388.00]\n"
     ]
    },
    {
     "name": "stdout",
     "output_type": "stream",
     "text": [
      "Epoch #553: test_reward: 1054.000000 ± 0.000000, best_reward: 1834.000000 ± 0.000000 in #117\n"
     ]
    },
    {
     "name": "stderr",
     "output_type": "stream",
     "text": [
      "Epoch #554: 1025it [00:02, 344.15it/s, env_step=567296, len=38, n/ep=2, n/st=64, player_1/loss=382.549, player_2/loss=618.970, rew=1484.00]\n"
     ]
    },
    {
     "name": "stdout",
     "output_type": "stream",
     "text": [
      "Epoch #554: test_reward: 1834.000000 ± 0.000000, best_reward: 1834.000000 ± 0.000000 in #117\n"
     ]
    },
    {
     "name": "stderr",
     "output_type": "stream",
     "text": [
      "Epoch #555: 1025it [00:02, 344.06it/s, env_step=568320, len=39, n/ep=2, n/st=64, player_1/loss=521.501, player_2/loss=419.098, rew=1619.00]\n"
     ]
    },
    {
     "name": "stdout",
     "output_type": "stream",
     "text": [
      "Epoch #555: test_reward: 1404.000000 ± 0.000000, best_reward: 1834.000000 ± 0.000000 in #117\n"
     ]
    },
    {
     "name": "stderr",
     "output_type": "stream",
     "text": [
      "Epoch #556: 1025it [00:02, 345.00it/s, env_step=569344, len=18, n/ep=4, n/st=64, player_1/loss=521.621, player_2/loss=429.186, rew=366.00]\n"
     ]
    },
    {
     "name": "stdout",
     "output_type": "stream",
     "text": [
      "Epoch #556: test_reward: 180.000000 ± 0.000000, best_reward: 1834.000000 ± 0.000000 in #117\n"
     ]
    },
    {
     "name": "stderr",
     "output_type": "stream",
     "text": [
      "Epoch #557: 1025it [00:02, 344.40it/s, env_step=570368, len=24, n/ep=3, n/st=64, player_1/loss=145.740, player_2/loss=785.611, rew=602.67]\n"
     ]
    },
    {
     "name": "stdout",
     "output_type": "stream",
     "text": [
      "Epoch #557: test_reward: 810.000000 ± 0.000000, best_reward: 1834.000000 ± 0.000000 in #117\n"
     ]
    },
    {
     "name": "stderr",
     "output_type": "stream",
     "text": [
      "Epoch #558: 1025it [00:02, 344.68it/s, env_step=571392, len=29, n/ep=2, n/st=64, player_1/loss=928.775, player_2/loss=509.341, rew=872.00]\n"
     ]
    },
    {
     "name": "stdout",
     "output_type": "stream",
     "text": [
      "Epoch #558: test_reward: 1558.000000 ± 0.000000, best_reward: 1834.000000 ± 0.000000 in #117\n"
     ]
    },
    {
     "name": "stderr",
     "output_type": "stream",
     "text": [
      "Epoch #559: 1025it [00:02, 344.77it/s, env_step=572416, len=19, n/ep=2, n/st=64, player_1/loss=647.851, player_2/loss=759.305, rew=410.00]\n"
     ]
    },
    {
     "name": "stdout",
     "output_type": "stream",
     "text": [
      "Epoch #559: test_reward: 460.000000 ± 0.000000, best_reward: 1834.000000 ± 0.000000 in #117\n"
     ]
    },
    {
     "name": "stderr",
     "output_type": "stream",
     "text": [
      "Epoch #560: 1025it [00:02, 346.02it/s, env_step=573440, len=21, n/ep=2, n/st=64, player_1/loss=343.608, player_2/loss=357.587, rew=460.00]\n"
     ]
    },
    {
     "name": "stdout",
     "output_type": "stream",
     "text": [
      "Epoch #560: test_reward: 378.000000 ± 0.000000, best_reward: 1834.000000 ± 0.000000 in #117\n"
     ]
    },
    {
     "name": "stderr",
     "output_type": "stream",
     "text": [
      "Epoch #561: 1025it [00:02, 343.75it/s, env_step=574464, len=29, n/ep=2, n/st=64, player_1/loss=295.987, player_2/loss=216.589, rew=868.00]\n"
     ]
    },
    {
     "name": "stdout",
     "output_type": "stream",
     "text": [
      "Epoch #561: test_reward: 754.000000 ± 0.000000, best_reward: 1834.000000 ± 0.000000 in #117\n"
     ]
    },
    {
     "name": "stderr",
     "output_type": "stream",
     "text": [
      "Epoch #562: 1025it [00:03, 333.08it/s, env_step=575488, len=36, n/ep=2, n/st=64, player_1/loss=332.015, player_2/loss=149.402, rew=1346.00]\n"
     ]
    },
    {
     "name": "stdout",
     "output_type": "stream",
     "text": [
      "Epoch #562: test_reward: 1480.000000 ± 0.000000, best_reward: 1834.000000 ± 0.000000 in #117\n"
     ]
    },
    {
     "name": "stderr",
     "output_type": "stream",
     "text": [
      "Epoch #563: 1025it [00:02, 349.45it/s, env_step=576512, len=21, n/ep=3, n/st=64, player_1/loss=805.324, player_2/loss=813.359, rew=490.00]\n"
     ]
    },
    {
     "name": "stdout",
     "output_type": "stream",
     "text": [
      "Epoch #563: test_reward: 238.000000 ± 0.000000, best_reward: 1834.000000 ± 0.000000 in #117\n"
     ]
    },
    {
     "name": "stderr",
     "output_type": "stream",
     "text": [
      "Epoch #564: 1025it [00:02, 362.71it/s, env_step=577536, len=37, n/ep=2, n/st=64, player_1/loss=728.642, player_2/loss=262.573, rew=1442.00]\n"
     ]
    },
    {
     "name": "stdout",
     "output_type": "stream",
     "text": [
      "Epoch #564: test_reward: 754.000000 ± 0.000000, best_reward: 1834.000000 ± 0.000000 in #117\n"
     ]
    },
    {
     "name": "stderr",
     "output_type": "stream",
     "text": [
      "Epoch #565: 1025it [00:02, 378.28it/s, env_step=578560, len=28, n/ep=3, n/st=64, player_1/loss=648.695, player_2/loss=338.378, rew=835.33]\n"
     ]
    },
    {
     "name": "stdout",
     "output_type": "stream",
     "text": [
      "Epoch #565: test_reward: 810.000000 ± 0.000000, best_reward: 1834.000000 ± 0.000000 in #117\n"
     ]
    },
    {
     "name": "stderr",
     "output_type": "stream",
     "text": [
      "Epoch #566: 1025it [00:02, 368.17it/s, env_step=579584, len=24, n/ep=2, n/st=64, player_1/loss=321.248, player_2/loss=609.999, rew=599.00]\n"
     ]
    },
    {
     "name": "stdout",
     "output_type": "stream",
     "text": [
      "Epoch #566: test_reward: 754.000000 ± 0.000000, best_reward: 1834.000000 ± 0.000000 in #117\n"
     ]
    },
    {
     "name": "stderr",
     "output_type": "stream",
     "text": [
      "Epoch #567: 1025it [00:02, 368.79it/s, env_step=580608, len=27, n/ep=3, n/st=64, player_1/loss=395.361, player_2/loss=466.163, rew=774.00]\n"
     ]
    },
    {
     "name": "stdout",
     "output_type": "stream",
     "text": [
      "Epoch #567: test_reward: 810.000000 ± 0.000000, best_reward: 1834.000000 ± 0.000000 in #117\n"
     ]
    },
    {
     "name": "stderr",
     "output_type": "stream",
     "text": [
      "Epoch #568: 1025it [00:02, 362.39it/s, env_step=581632, len=32, n/ep=2, n/st=64, player_1/loss=324.634, player_2/loss=549.911, rew=1087.00]\n"
     ]
    },
    {
     "name": "stdout",
     "output_type": "stream",
     "text": [
      "Epoch #568: test_reward: 154.000000 ± 0.000000, best_reward: 1834.000000 ± 0.000000 in #117\n"
     ]
    },
    {
     "name": "stderr",
     "output_type": "stream",
     "text": [
      "Epoch #569: 1025it [00:02, 371.72it/s, env_step=582656, len=27, n/ep=2, n/st=64, player_1/loss=483.183, player_2/loss=247.964, rew=754.00]\n"
     ]
    },
    {
     "name": "stdout",
     "output_type": "stream",
     "text": [
      "Epoch #569: test_reward: 88.000000 ± 0.000000, best_reward: 1834.000000 ± 0.000000 in #117\n"
     ]
    },
    {
     "name": "stderr",
     "output_type": "stream",
     "text": [
      "Epoch #570: 1025it [00:02, 370.46it/s, env_step=583680, len=20, n/ep=3, n/st=64, player_1/loss=439.684, player_2/loss=301.412, rew=443.33]\n"
     ]
    },
    {
     "name": "stdout",
     "output_type": "stream",
     "text": [
      "Epoch #570: test_reward: 504.000000 ± 0.000000, best_reward: 1834.000000 ± 0.000000 in #117\n"
     ]
    },
    {
     "name": "stderr",
     "output_type": "stream",
     "text": [
      "Epoch #571: 1025it [00:02, 373.02it/s, env_step=584704, len=12, n/ep=5, n/st=64, player_1/loss=420.891, player_2/loss=358.799, rew=258.40]\n"
     ]
    },
    {
     "name": "stdout",
     "output_type": "stream",
     "text": [
      "Epoch #571: test_reward: 88.000000 ± 0.000000, best_reward: 1834.000000 ± 0.000000 in #117\n"
     ]
    },
    {
     "name": "stderr",
     "output_type": "stream",
     "text": [
      "Epoch #572: 1025it [00:02, 376.64it/s, env_step=585728, len=32, n/ep=2, n/st=64, player_1/loss=308.419, player_2/loss=190.721, rew=1058.00]\n"
     ]
    },
    {
     "name": "stdout",
     "output_type": "stream",
     "text": [
      "Epoch #572: test_reward: 1480.000000 ± 0.000000, best_reward: 1834.000000 ± 0.000000 in #117\n"
     ]
    },
    {
     "name": "stderr",
     "output_type": "stream",
     "text": [
      "Epoch #573: 1025it [00:02, 377.56it/s, env_step=586752, len=40, n/ep=1, n/st=64, player_1/loss=139.891, player_2/loss=346.670, rew=1638.00]\n"
     ]
    },
    {
     "name": "stdout",
     "output_type": "stream",
     "text": [
      "Epoch #573: test_reward: 1404.000000 ± 0.000000, best_reward: 1834.000000 ± 0.000000 in #117\n"
     ]
    },
    {
     "name": "stderr",
     "output_type": "stream",
     "text": [
      "Epoch #574: 1025it [00:02, 362.69it/s, env_step=587776, len=19, n/ep=3, n/st=64, player_1/loss=64.094, player_2/loss=171.359, rew=558.67]\n"
     ]
    },
    {
     "name": "stdout",
     "output_type": "stream",
     "text": [
      "Epoch #574: test_reward: 54.000000 ± 0.000000, best_reward: 1834.000000 ± 0.000000 in #117\n"
     ]
    },
    {
     "name": "stderr",
     "output_type": "stream",
     "text": [
      "Epoch #575: 1025it [00:02, 367.22it/s, env_step=588800, len=28, n/ep=2, n/st=64, player_1/loss=198.887, player_2/loss=248.862, rew=839.00]\n"
     ]
    },
    {
     "name": "stdout",
     "output_type": "stream",
     "text": [
      "Epoch #575: test_reward: 88.000000 ± 0.000000, best_reward: 1834.000000 ± 0.000000 in #117\n"
     ]
    },
    {
     "name": "stderr",
     "output_type": "stream",
     "text": [
      "Epoch #576: 1025it [00:02, 381.66it/s, env_step=589824, len=30, n/ep=2, n/st=64, player_1/loss=342.887, player_2/loss=434.416, rew=929.00]\n"
     ]
    },
    {
     "name": "stdout",
     "output_type": "stream",
     "text": [
      "Epoch #576: test_reward: 754.000000 ± 0.000000, best_reward: 1834.000000 ± 0.000000 in #117\n"
     ]
    },
    {
     "name": "stderr",
     "output_type": "stream",
     "text": [
      "Epoch #577: 1025it [00:02, 380.88it/s, env_step=590848, len=32, n/ep=2, n/st=64, player_1/loss=155.359, player_2/loss=428.339, rew=1089.00]\n"
     ]
    },
    {
     "name": "stdout",
     "output_type": "stream",
     "text": [
      "Epoch #577: test_reward: 1120.000000 ± 0.000000, best_reward: 1834.000000 ± 0.000000 in #117\n"
     ]
    },
    {
     "name": "stderr",
     "output_type": "stream",
     "text": [
      "Epoch #578: 1025it [00:02, 383.54it/s, env_step=591872, len=21, n/ep=3, n/st=64, player_1/loss=208.038, player_2/loss=625.505, rew=460.00]\n"
     ]
    },
    {
     "name": "stdout",
     "output_type": "stream",
     "text": [
      "Epoch #578: test_reward: 108.000000 ± 0.000000, best_reward: 1834.000000 ± 0.000000 in #117\n"
     ]
    },
    {
     "name": "stderr",
     "output_type": "stream",
     "text": [
      "Epoch #579: 1025it [00:02, 382.89it/s, env_step=592896, len=21, n/ep=3, n/st=64, player_1/loss=302.068, player_2/loss=266.636, rew=500.00]\n"
     ]
    },
    {
     "name": "stdout",
     "output_type": "stream",
     "text": [
      "Epoch #579: test_reward: 208.000000 ± 0.000000, best_reward: 1834.000000 ± 0.000000 in #117\n"
     ]
    },
    {
     "name": "stderr",
     "output_type": "stream",
     "text": [
      "Epoch #580: 1025it [00:02, 383.74it/s, env_step=593920, len=11, n/ep=7, n/st=64, player_1/loss=303.004, player_2/loss=665.148, rew=193.71]\n"
     ]
    },
    {
     "name": "stdout",
     "output_type": "stream",
     "text": [
      "Epoch #580: test_reward: 130.000000 ± 0.000000, best_reward: 1834.000000 ± 0.000000 in #117\n"
     ]
    },
    {
     "name": "stderr",
     "output_type": "stream",
     "text": [
      "Epoch #581: 1025it [00:02, 383.63it/s, env_step=594944, len=30, n/ep=3, n/st=64, player_1/loss=210.934, player_2/loss=551.652, rew=980.00]\n"
     ]
    },
    {
     "name": "stdout",
     "output_type": "stream",
     "text": [
      "Epoch #581: test_reward: 648.000000 ± 0.000000, best_reward: 1834.000000 ± 0.000000 in #117\n"
     ]
    },
    {
     "name": "stderr",
     "output_type": "stream",
     "text": [
      "Epoch #582: 1025it [00:02, 385.49it/s, env_step=595968, len=15, n/ep=3, n/st=64, player_1/loss=123.383, player_2/loss=372.977, rew=278.00]\n"
     ]
    },
    {
     "name": "stdout",
     "output_type": "stream",
     "text": [
      "Epoch #582: test_reward: 70.000000 ± 0.000000, best_reward: 1834.000000 ± 0.000000 in #117\n"
     ]
    },
    {
     "name": "stderr",
     "output_type": "stream",
     "text": [
      "Epoch #583: 1025it [00:02, 385.77it/s, env_step=596992, len=12, n/ep=5, n/st=64, player_1/loss=309.516, player_2/loss=499.546, rew=224.00]\n"
     ]
    },
    {
     "name": "stdout",
     "output_type": "stream",
     "text": [
      "Epoch #583: test_reward: 270.000000 ± 0.000000, best_reward: 1834.000000 ± 0.000000 in #117\n"
     ]
    },
    {
     "name": "stderr",
     "output_type": "stream",
     "text": [
      "Epoch #584: 1025it [00:02, 380.81it/s, env_step=598016, len=15, n/ep=4, n/st=64, player_1/loss=267.599, player_2/loss=409.188, rew=335.50]\n"
     ]
    },
    {
     "name": "stdout",
     "output_type": "stream",
     "text": [
      "Epoch #584: test_reward: 1188.000000 ± 0.000000, best_reward: 1834.000000 ± 0.000000 in #117\n"
     ]
    },
    {
     "name": "stderr",
     "output_type": "stream",
     "text": [
      "Epoch #585: 1025it [00:02, 382.86it/s, env_step=599040, len=26, n/ep=2, n/st=64, player_1/loss=207.090, player_2/loss=410.400, rew=700.00]\n"
     ]
    },
    {
     "name": "stdout",
     "output_type": "stream",
     "text": [
      "Epoch #585: test_reward: 754.000000 ± 0.000000, best_reward: 1834.000000 ± 0.000000 in #117\n"
     ]
    },
    {
     "name": "stderr",
     "output_type": "stream",
     "text": [
      "Epoch #586: 1025it [00:02, 384.26it/s, env_step=600064, len=22, n/ep=3, n/st=64, player_1/loss=127.120, player_2/loss=339.183, rew=618.00]\n"
     ]
    },
    {
     "name": "stdout",
     "output_type": "stream",
     "text": [
      "Epoch #586: test_reward: 88.000000 ± 0.000000, best_reward: 1834.000000 ± 0.000000 in #117\n"
     ]
    },
    {
     "name": "stderr",
     "output_type": "stream",
     "text": [
      "Epoch #587: 1025it [00:02, 383.94it/s, env_step=601088, len=22, n/ep=3, n/st=64, player_1/loss=364.285, player_2/loss=507.906, rew=594.67]\n"
     ]
    },
    {
     "name": "stdout",
     "output_type": "stream",
     "text": [
      "Epoch #587: test_reward: 418.000000 ± 0.000000, best_reward: 1834.000000 ± 0.000000 in #117\n"
     ]
    },
    {
     "name": "stderr",
     "output_type": "stream",
     "text": [
      "Epoch #588: 1025it [00:02, 358.07it/s, env_step=602112, len=22, n/ep=2, n/st=64, player_1/loss=409.758, player_2/loss=252.339, rew=505.00]\n"
     ]
    },
    {
     "name": "stdout",
     "output_type": "stream",
     "text": [
      "Epoch #588: test_reward: 754.000000 ± 0.000000, best_reward: 1834.000000 ± 0.000000 in #117\n"
     ]
    },
    {
     "name": "stderr",
     "output_type": "stream",
     "text": [
      "Epoch #589: 1025it [00:02, 349.94it/s, env_step=603136, len=22, n/ep=3, n/st=64, player_1/loss=239.801, player_2/loss=59.906, rew=588.67]\n"
     ]
    },
    {
     "name": "stdout",
     "output_type": "stream",
     "text": [
      "Epoch #589: test_reward: 1188.000000 ± 0.000000, best_reward: 1834.000000 ± 0.000000 in #117\n"
     ]
    },
    {
     "name": "stderr",
     "output_type": "stream",
     "text": [
      "Epoch #590: 1025it [00:02, 345.40it/s, env_step=604160, len=19, n/ep=4, n/st=64, player_1/loss=284.825, player_2/loss=534.356, rew=389.00]\n"
     ]
    },
    {
     "name": "stdout",
     "output_type": "stream",
     "text": [
      "Epoch #590: test_reward: 550.000000 ± 0.000000, best_reward: 1834.000000 ± 0.000000 in #117\n"
     ]
    },
    {
     "name": "stderr",
     "output_type": "stream",
     "text": [
      "Epoch #591: 1025it [00:02, 343.58it/s, env_step=605184, len=28, n/ep=2, n/st=64, player_1/loss=241.541, player_2/loss=425.176, rew=819.00]\n"
     ]
    },
    {
     "name": "stdout",
     "output_type": "stream",
     "text": [
      "Epoch #591: test_reward: 754.000000 ± 0.000000, best_reward: 1834.000000 ± 0.000000 in #117\n"
     ]
    },
    {
     "name": "stderr",
     "output_type": "stream",
     "text": [
      "Epoch #592: 1025it [00:02, 343.25it/s, env_step=606208, len=37, n/ep=1, n/st=64, player_1/loss=234.873, player_2/loss=465.214, rew=1404.00]\n"
     ]
    },
    {
     "name": "stdout",
     "output_type": "stream",
     "text": [
      "Epoch #592: test_reward: 378.000000 ± 0.000000, best_reward: 1834.000000 ± 0.000000 in #117\n"
     ]
    },
    {
     "name": "stderr",
     "output_type": "stream",
     "text": [
      "Epoch #593: 1025it [00:02, 345.32it/s, env_step=607232, len=27, n/ep=2, n/st=64, player_1/loss=294.457, player_2/loss=373.230, rew=824.00]\n"
     ]
    },
    {
     "name": "stdout",
     "output_type": "stream",
     "text": [
      "Epoch #593: test_reward: 1120.000000 ± 0.000000, best_reward: 1834.000000 ± 0.000000 in #117\n"
     ]
    },
    {
     "name": "stderr",
     "output_type": "stream",
     "text": [
      "Epoch #594: 1025it [00:02, 343.71it/s, env_step=608256, len=23, n/ep=3, n/st=64, player_1/loss=201.768, player_2/loss=149.348, rew=662.67]\n"
     ]
    },
    {
     "name": "stdout",
     "output_type": "stream",
     "text": [
      "Epoch #594: test_reward: 154.000000 ± 0.000000, best_reward: 1834.000000 ± 0.000000 in #117\n"
     ]
    },
    {
     "name": "stderr",
     "output_type": "stream",
     "text": [
      "Epoch #595: 1025it [00:02, 344.31it/s, env_step=609280, len=13, n/ep=5, n/st=64, player_1/loss=583.064, player_2/loss=463.399, rew=205.60]\n"
     ]
    },
    {
     "name": "stdout",
     "output_type": "stream",
     "text": [
      "Epoch #595: test_reward: 54.000000 ± 0.000000, best_reward: 1834.000000 ± 0.000000 in #117\n"
     ]
    },
    {
     "name": "stderr",
     "output_type": "stream",
     "text": [
      "Epoch #596: 1025it [00:02, 343.27it/s, env_step=610304, len=33, n/ep=2, n/st=64, player_1/loss=348.062, player_2/loss=445.253, rew=1120.00]\n"
     ]
    },
    {
     "name": "stdout",
     "output_type": "stream",
     "text": [
      "Epoch #596: test_reward: 928.000000 ± 0.000000, best_reward: 1834.000000 ± 0.000000 in #117\n"
     ]
    },
    {
     "name": "stderr",
     "output_type": "stream",
     "text": [
      "Epoch #597: 1025it [00:02, 344.81it/s, env_step=611328, len=25, n/ep=3, n/st=64, player_1/loss=386.585, player_2/loss=272.394, rew=688.67]\n"
     ]
    },
    {
     "name": "stdout",
     "output_type": "stream",
     "text": [
      "Epoch #597: test_reward: 550.000000 ± 0.000000, best_reward: 1834.000000 ± 0.000000 in #117\n"
     ]
    },
    {
     "name": "stderr",
     "output_type": "stream",
     "text": [
      "Epoch #598: 1025it [00:02, 346.70it/s, env_step=612352, len=14, n/ep=4, n/st=64, player_1/loss=407.362, player_2/loss=414.596, rew=231.00]\n"
     ]
    },
    {
     "name": "stdout",
     "output_type": "stream",
     "text": [
      "Epoch #598: test_reward: 208.000000 ± 0.000000, best_reward: 1834.000000 ± 0.000000 in #117\n"
     ]
    },
    {
     "name": "stderr",
     "output_type": "stream",
     "text": [
      "Epoch #599: 1025it [00:02, 346.22it/s, env_step=613376, len=23, n/ep=3, n/st=64, player_1/loss=607.012, player_2/loss=250.217, rew=568.67]\n"
     ]
    },
    {
     "name": "stdout",
     "output_type": "stream",
     "text": [
      "Epoch #599: test_reward: 1120.000000 ± 0.000000, best_reward: 1834.000000 ± 0.000000 in #117\n"
     ]
    },
    {
     "name": "stderr",
     "output_type": "stream",
     "text": [
      "Epoch #600: 1025it [00:02, 342.71it/s, env_step=614400, len=35, n/ep=1, n/st=64, player_1/loss=362.748, player_2/loss=510.687, rew=1258.00]\n"
     ]
    },
    {
     "name": "stdout",
     "output_type": "stream",
     "text": [
      "Epoch #600: test_reward: 1188.000000 ± 0.000000, best_reward: 1834.000000 ± 0.000000 in #117\n"
     ]
    },
    {
     "name": "stderr",
     "output_type": "stream",
     "text": [
      "Epoch #601: 1025it [00:02, 345.22it/s, env_step=615424, len=31, n/ep=2, n/st=64, player_1/loss=459.311, player_2/loss=252.578, rew=1022.00]\n"
     ]
    },
    {
     "name": "stdout",
     "output_type": "stream",
     "text": [
      "Epoch #601: test_reward: 1834.000000 ± 0.000000, best_reward: 1834.000000 ± 0.000000 in #117\n"
     ]
    },
    {
     "name": "stderr",
     "output_type": "stream",
     "text": [
      "Epoch #602: 1025it [00:02, 345.90it/s, env_step=616448, len=21, n/ep=3, n/st=64, player_1/loss=427.993, player_2/loss=470.559, rew=464.67]\n"
     ]
    },
    {
     "name": "stdout",
     "output_type": "stream",
     "text": [
      "Epoch #602: test_reward: 700.000000 ± 0.000000, best_reward: 1834.000000 ± 0.000000 in #117\n"
     ]
    },
    {
     "name": "stderr",
     "output_type": "stream",
     "text": [
      "Epoch #603: 1025it [00:02, 344.68it/s, env_step=617472, len=36, n/ep=1, n/st=64, player_1/loss=242.346, player_2/loss=864.263, rew=1330.00]\n"
     ]
    },
    {
     "name": "stdout",
     "output_type": "stream",
     "text": [
      "Epoch #603: test_reward: 54.000000 ± 0.000000, best_reward: 1834.000000 ± 0.000000 in #117\n"
     ]
    },
    {
     "name": "stderr",
     "output_type": "stream",
     "text": [
      "Epoch #604: 1025it [00:02, 344.43it/s, env_step=618496, len=9, n/ep=7, n/st=64, player_1/loss=597.282, player_2/loss=158.171, rew=122.86]\n"
     ]
    },
    {
     "name": "stdout",
     "output_type": "stream",
     "text": [
      "Epoch #604: test_reward: 340.000000 ± 0.000000, best_reward: 1834.000000 ± 0.000000 in #117\n"
     ]
    },
    {
     "name": "stderr",
     "output_type": "stream",
     "text": [
      "Epoch #605: 1025it [00:02, 345.13it/s, env_step=619520, len=30, n/ep=2, n/st=64, player_1/loss=477.990, player_2/loss=294.689, rew=971.00]\n"
     ]
    },
    {
     "name": "stdout",
     "output_type": "stream",
     "text": [
      "Epoch #605: test_reward: 648.000000 ± 0.000000, best_reward: 1834.000000 ± 0.000000 in #117\n"
     ]
    },
    {
     "name": "stderr",
     "output_type": "stream",
     "text": [
      "Epoch #606: 1025it [00:02, 343.52it/s, env_step=620544, len=15, n/ep=5, n/st=64, player_1/loss=607.229, player_2/loss=587.476, rew=241.20]\n"
     ]
    },
    {
     "name": "stdout",
     "output_type": "stream",
     "text": [
      "Epoch #606: test_reward: 1054.000000 ± 0.000000, best_reward: 1834.000000 ± 0.000000 in #117\n"
     ]
    },
    {
     "name": "stderr",
     "output_type": "stream",
     "text": [
      "Epoch #607: 1025it [00:02, 345.54it/s, env_step=621568, len=30, n/ep=2, n/st=64, player_1/loss=373.474, player_2/loss=464.484, rew=989.00]\n"
     ]
    },
    {
     "name": "stdout",
     "output_type": "stream",
     "text": [
      "Epoch #607: test_reward: 378.000000 ± 0.000000, best_reward: 1834.000000 ± 0.000000 in #117\n"
     ]
    },
    {
     "name": "stderr",
     "output_type": "stream",
     "text": [
      "Epoch #608: 1025it [00:02, 343.98it/s, env_step=622592, len=22, n/ep=3, n/st=64, player_1/loss=274.911, player_2/loss=268.859, rew=540.67]\n"
     ]
    },
    {
     "name": "stdout",
     "output_type": "stream",
     "text": [
      "Epoch #608: test_reward: 700.000000 ± 0.000000, best_reward: 1834.000000 ± 0.000000 in #117\n"
     ]
    },
    {
     "name": "stderr",
     "output_type": "stream",
     "text": [
      "Epoch #609: 1025it [00:02, 344.54it/s, env_step=623616, len=29, n/ep=2, n/st=64, player_1/loss=285.010, player_2/loss=367.676, rew=872.00]\n"
     ]
    },
    {
     "name": "stdout",
     "output_type": "stream",
     "text": [
      "Epoch #609: test_reward: 754.000000 ± 0.000000, best_reward: 1834.000000 ± 0.000000 in #117\n"
     ]
    },
    {
     "name": "stderr",
     "output_type": "stream",
     "text": [
      "Epoch #610: 1025it [00:02, 345.17it/s, env_step=624640, len=30, n/ep=2, n/st=64, player_1/loss=161.572, player_2/loss=289.407, rew=932.00]\n"
     ]
    },
    {
     "name": "stdout",
     "output_type": "stream",
     "text": [
      "Epoch #610: test_reward: 1120.000000 ± 0.000000, best_reward: 1834.000000 ± 0.000000 in #117\n"
     ]
    },
    {
     "name": "stderr",
     "output_type": "stream",
     "text": [
      "Epoch #611: 1025it [00:02, 344.97it/s, env_step=625664, len=32, n/ep=2, n/st=64, player_1/loss=513.830, player_2/loss=203.423, rew=1063.00]\n"
     ]
    },
    {
     "name": "stdout",
     "output_type": "stream",
     "text": [
      "Epoch #611: test_reward: 1054.000000 ± 0.000000, best_reward: 1834.000000 ± 0.000000 in #117\n"
     ]
    },
    {
     "name": "stderr",
     "output_type": "stream",
     "text": [
      "Epoch #612: 1025it [00:02, 346.27it/s, env_step=626688, len=28, n/ep=2, n/st=64, player_1/loss=327.006, player_2/loss=114.224, rew=869.00]\n"
     ]
    },
    {
     "name": "stdout",
     "output_type": "stream",
     "text": [
      "Epoch #612: test_reward: 1188.000000 ± 0.000000, best_reward: 1834.000000 ± 0.000000 in #117\n"
     ]
    },
    {
     "name": "stderr",
     "output_type": "stream",
     "text": [
      "Epoch #613: 1025it [00:02, 344.64it/s, env_step=627712, len=27, n/ep=2, n/st=64, player_1/loss=189.895, player_2/loss=181.951, rew=892.00]\n"
     ]
    },
    {
     "name": "stdout",
     "output_type": "stream",
     "text": [
      "Epoch #613: test_reward: 1404.000000 ± 0.000000, best_reward: 1834.000000 ± 0.000000 in #117\n"
     ]
    },
    {
     "name": "stderr",
     "output_type": "stream",
     "text": [
      "Epoch #614: 1025it [00:02, 344.92it/s, env_step=628736, len=20, n/ep=3, n/st=64, player_1/loss=396.844, player_2/loss=381.826, rew=478.67]\n"
     ]
    },
    {
     "name": "stdout",
     "output_type": "stream",
     "text": [
      "Epoch #614: test_reward: 208.000000 ± 0.000000, best_reward: 1834.000000 ± 0.000000 in #117\n"
     ]
    },
    {
     "name": "stderr",
     "output_type": "stream",
     "text": [
      "Epoch #615: 1025it [00:02, 344.75it/s, env_step=629760, len=27, n/ep=2, n/st=64, player_1/loss=286.996, player_2/loss=262.849, rew=754.00]\n"
     ]
    },
    {
     "name": "stdout",
     "output_type": "stream",
     "text": [
      "Epoch #615: test_reward: 648.000000 ± 0.000000, best_reward: 1834.000000 ± 0.000000 in #117\n"
     ]
    },
    {
     "name": "stderr",
     "output_type": "stream",
     "text": [
      "Epoch #616: 1025it [00:02, 344.50it/s, env_step=630784, len=32, n/ep=3, n/st=64, player_1/loss=435.778, player_2/loss=404.036, rew=1103.33]\n"
     ]
    },
    {
     "name": "stdout",
     "output_type": "stream",
     "text": [
      "Epoch #616: test_reward: 550.000000 ± 0.000000, best_reward: 1834.000000 ± 0.000000 in #117\n"
     ]
    },
    {
     "name": "stderr",
     "output_type": "stream",
     "text": [
      "Epoch #617: 1025it [00:03, 341.62it/s, env_step=631808, len=35, n/ep=2, n/st=64, player_1/loss=705.626, player_2/loss=198.962, rew=1259.00]\n"
     ]
    },
    {
     "name": "stdout",
     "output_type": "stream",
     "text": [
      "Epoch #617: test_reward: 238.000000 ± 0.000000, best_reward: 1834.000000 ± 0.000000 in #117\n"
     ]
    },
    {
     "name": "stderr",
     "output_type": "stream",
     "text": [
      "Epoch #618: 1025it [00:02, 343.58it/s, env_step=632832, len=34, n/ep=2, n/st=64, player_1/loss=141.238, player_2/loss=706.290, rew=1192.00]\n"
     ]
    },
    {
     "name": "stdout",
     "output_type": "stream",
     "text": [
      "Epoch #618: test_reward: 1558.000000 ± 0.000000, best_reward: 1834.000000 ± 0.000000 in #117\n"
     ]
    },
    {
     "name": "stderr",
     "output_type": "stream",
     "text": [
      "Epoch #619: 1025it [00:02, 345.38it/s, env_step=633856, len=20, n/ep=3, n/st=64, player_1/loss=128.533, player_2/loss=267.623, rew=418.67]\n"
     ]
    },
    {
     "name": "stdout",
     "output_type": "stream",
     "text": [
      "Epoch #619: test_reward: 1188.000000 ± 0.000000, best_reward: 1834.000000 ± 0.000000 in #117\n"
     ]
    },
    {
     "name": "stderr",
     "output_type": "stream",
     "text": [
      "Epoch #620: 1025it [00:02, 344.24it/s, env_step=634880, len=30, n/ep=2, n/st=64, player_1/loss=269.286, player_2/loss=505.747, rew=1009.00]\n"
     ]
    },
    {
     "name": "stdout",
     "output_type": "stream",
     "text": [
      "Epoch #620: test_reward: 460.000000 ± 0.000000, best_reward: 1834.000000 ± 0.000000 in #117\n"
     ]
    },
    {
     "name": "stderr",
     "output_type": "stream",
     "text": [
      "Epoch #621: 1025it [00:02, 345.35it/s, env_step=635904, len=25, n/ep=3, n/st=64, player_1/loss=295.231, player_2/loss=306.851, rew=700.00]\n"
     ]
    },
    {
     "name": "stdout",
     "output_type": "stream",
     "text": [
      "Epoch #621: test_reward: 1638.000000 ± 0.000000, best_reward: 1834.000000 ± 0.000000 in #117\n"
     ]
    },
    {
     "name": "stderr",
     "output_type": "stream",
     "text": [
      "Epoch #622: 1025it [00:02, 346.54it/s, env_step=636928, len=15, n/ep=5, n/st=64, player_1/loss=411.542, player_2/loss=299.468, rew=292.80]\n"
     ]
    },
    {
     "name": "stdout",
     "output_type": "stream",
     "text": [
      "Epoch #622: test_reward: 1054.000000 ± 0.000000, best_reward: 1834.000000 ± 0.000000 in #117\n"
     ]
    },
    {
     "name": "stderr",
     "output_type": "stream",
     "text": [
      "Epoch #623: 1025it [00:02, 345.28it/s, env_step=637952, len=23, n/ep=3, n/st=64, player_1/loss=419.613, player_2/loss=642.924, rew=635.33]\n"
     ]
    },
    {
     "name": "stdout",
     "output_type": "stream",
     "text": [
      "Epoch #623: test_reward: 700.000000 ± 0.000000, best_reward: 1834.000000 ± 0.000000 in #117\n"
     ]
    },
    {
     "name": "stderr",
     "output_type": "stream",
     "text": [
      "Epoch #624: 1025it [00:02, 346.33it/s, env_step=638976, len=21, n/ep=3, n/st=64, player_1/loss=308.860, player_2/loss=264.574, rew=492.67]\n"
     ]
    },
    {
     "name": "stdout",
     "output_type": "stream",
     "text": [
      "Epoch #624: test_reward: 418.000000 ± 0.000000, best_reward: 1834.000000 ± 0.000000 in #117\n"
     ]
    },
    {
     "name": "stderr",
     "output_type": "stream",
     "text": [
      "Epoch #625: 1025it [00:02, 344.86it/s, env_step=640000, len=34, n/ep=2, n/st=64, player_1/loss=312.609, player_2/loss=237.839, rew=1243.00]\n"
     ]
    },
    {
     "name": "stdout",
     "output_type": "stream",
     "text": [
      "Epoch #625: test_reward: 1480.000000 ± 0.000000, best_reward: 1834.000000 ± 0.000000 in #117\n"
     ]
    },
    {
     "name": "stderr",
     "output_type": "stream",
     "text": [
      "Epoch #626: 1025it [00:02, 346.47it/s, env_step=641024, len=15, n/ep=4, n/st=64, player_1/loss=317.562, player_2/loss=552.801, rew=240.50]\n"
     ]
    },
    {
     "name": "stdout",
     "output_type": "stream",
     "text": [
      "Epoch #626: test_reward: 754.000000 ± 0.000000, best_reward: 1834.000000 ± 0.000000 in #117\n"
     ]
    },
    {
     "name": "stderr",
     "output_type": "stream",
     "text": [
      "Epoch #627: 1025it [00:02, 344.78it/s, env_step=642048, len=22, n/ep=3, n/st=64, player_1/loss=205.173, player_2/loss=342.900, rew=604.00]\n"
     ]
    },
    {
     "name": "stdout",
     "output_type": "stream",
     "text": [
      "Epoch #627: test_reward: 754.000000 ± 0.000000, best_reward: 1834.000000 ± 0.000000 in #117\n"
     ]
    },
    {
     "name": "stderr",
     "output_type": "stream",
     "text": [
      "Epoch #628: 1025it [00:02, 344.43it/s, env_step=643072, len=26, n/ep=2, n/st=64, player_1/loss=312.758, player_2/loss=457.729, rew=700.00]\n"
     ]
    },
    {
     "name": "stdout",
     "output_type": "stream",
     "text": [
      "Epoch #628: test_reward: 868.000000 ± 0.000000, best_reward: 1834.000000 ± 0.000000 in #117\n"
     ]
    },
    {
     "name": "stderr",
     "output_type": "stream",
     "text": [
      "Epoch #629: 1025it [00:02, 344.13it/s, env_step=644096, len=21, n/ep=3, n/st=64, player_1/loss=190.925, player_2/loss=422.055, rew=478.00]\n"
     ]
    },
    {
     "name": "stdout",
     "output_type": "stream",
     "text": [
      "Epoch #629: test_reward: 598.000000 ± 0.000000, best_reward: 1834.000000 ± 0.000000 in #117\n"
     ]
    },
    {
     "name": "stderr",
     "output_type": "stream",
     "text": [
      "Epoch #630: 1025it [00:02, 343.73it/s, env_step=645120, len=25, n/ep=3, n/st=64, player_1/loss=287.811, player_2/loss=249.497, rew=665.33]\n"
     ]
    },
    {
     "name": "stdout",
     "output_type": "stream",
     "text": [
      "Epoch #630: test_reward: 88.000000 ± 0.000000, best_reward: 1834.000000 ± 0.000000 in #117\n"
     ]
    },
    {
     "name": "stderr",
     "output_type": "stream",
     "text": [
      "Epoch #631: 1025it [00:02, 345.73it/s, env_step=646144, len=32, n/ep=2, n/st=64, player_1/loss=221.030, player_2/loss=235.821, rew=1089.00]\n"
     ]
    },
    {
     "name": "stdout",
     "output_type": "stream",
     "text": [
      "Epoch #631: test_reward: 990.000000 ± 0.000000, best_reward: 1834.000000 ± 0.000000 in #117\n"
     ]
    },
    {
     "name": "stderr",
     "output_type": "stream",
     "text": [
      "Epoch #632: 1025it [00:02, 344.53it/s, env_step=647168, len=20, n/ep=3, n/st=64, player_1/loss=237.614, player_2/loss=158.510, rew=446.00]\n"
     ]
    },
    {
     "name": "stdout",
     "output_type": "stream",
     "text": [
      "Epoch #632: test_reward: 378.000000 ± 0.000000, best_reward: 1834.000000 ± 0.000000 in #117\n"
     ]
    },
    {
     "name": "stderr",
     "output_type": "stream",
     "text": [
      "Epoch #633: 1025it [00:02, 345.26it/s, env_step=648192, len=24, n/ep=2, n/st=64, player_1/loss=271.380, player_2/loss=186.645, rew=623.00]\n"
     ]
    },
    {
     "name": "stdout",
     "output_type": "stream",
     "text": [
      "Epoch #633: test_reward: 460.000000 ± 0.000000, best_reward: 1834.000000 ± 0.000000 in #117\n"
     ]
    },
    {
     "name": "stderr",
     "output_type": "stream",
     "text": [
      "Epoch #634: 1025it [00:02, 343.64it/s, env_step=649216, len=24, n/ep=3, n/st=64, player_1/loss=442.779, player_2/loss=180.026, rew=610.67]\n"
     ]
    },
    {
     "name": "stdout",
     "output_type": "stream",
     "text": [
      "Epoch #634: test_reward: 990.000000 ± 0.000000, best_reward: 1834.000000 ± 0.000000 in #117\n"
     ]
    },
    {
     "name": "stderr",
     "output_type": "stream",
     "text": [
      "Epoch #635: 1025it [00:02, 344.33it/s, env_step=650240, len=14, n/ep=5, n/st=64, player_1/loss=470.812, player_2/loss=599.996, rew=232.80]\n"
     ]
    },
    {
     "name": "stdout",
     "output_type": "stream",
     "text": [
      "Epoch #635: test_reward: 304.000000 ± 0.000000, best_reward: 1834.000000 ± 0.000000 in #117\n"
     ]
    },
    {
     "name": "stderr",
     "output_type": "stream",
     "text": [
      "Epoch #636: 1025it [00:02, 342.90it/s, env_step=651264, len=29, n/ep=2, n/st=64, player_1/loss=362.171, player_2/loss=341.111, rew=970.00]\n"
     ]
    },
    {
     "name": "stdout",
     "output_type": "stream",
     "text": [
      "Epoch #636: test_reward: 1054.000000 ± 0.000000, best_reward: 1834.000000 ± 0.000000 in #117\n"
     ]
    },
    {
     "name": "stderr",
     "output_type": "stream",
     "text": [
      "Epoch #637: 1025it [00:02, 345.62it/s, env_step=652288, len=14, n/ep=5, n/st=64, player_1/loss=254.002, player_2/loss=773.989, rew=228.40]\n"
     ]
    },
    {
     "name": "stdout",
     "output_type": "stream",
     "text": [
      "Epoch #637: test_reward: 1054.000000 ± 0.000000, best_reward: 1834.000000 ± 0.000000 in #117\n"
     ]
    },
    {
     "name": "stderr",
     "output_type": "stream",
     "text": [
      "Epoch #638: 1025it [00:02, 345.55it/s, env_step=653312, len=17, n/ep=4, n/st=64, player_1/loss=193.985, player_2/loss=606.640, rew=390.00]\n"
     ]
    },
    {
     "name": "stdout",
     "output_type": "stream",
     "text": [
      "Epoch #638: test_reward: 130.000000 ± 0.000000, best_reward: 1834.000000 ± 0.000000 in #117\n"
     ]
    },
    {
     "name": "stderr",
     "output_type": "stream",
     "text": [
      "Epoch #639: 1025it [00:02, 344.29it/s, env_step=654336, len=16, n/ep=3, n/st=64, player_1/loss=253.662, player_2/loss=526.136, rew=319.33]\n"
     ]
    },
    {
     "name": "stdout",
     "output_type": "stream",
     "text": [
      "Epoch #639: test_reward: 378.000000 ± 0.000000, best_reward: 1834.000000 ± 0.000000 in #117\n"
     ]
    },
    {
     "name": "stderr",
     "output_type": "stream",
     "text": [
      "Epoch #640: 1025it [00:02, 344.70it/s, env_step=655360, len=19, n/ep=3, n/st=64, player_1/loss=489.037, player_2/loss=609.705, rew=428.67]\n"
     ]
    },
    {
     "name": "stdout",
     "output_type": "stream",
     "text": [
      "Epoch #640: test_reward: 418.000000 ± 0.000000, best_reward: 1834.000000 ± 0.000000 in #117\n"
     ]
    },
    {
     "name": "stderr",
     "output_type": "stream",
     "text": [
      "Epoch #641: 1025it [00:02, 343.98it/s, env_step=656384, len=21, n/ep=3, n/st=64, player_1/loss=590.025, player_2/loss=839.918, rew=478.00]\n"
     ]
    },
    {
     "name": "stdout",
     "output_type": "stream",
     "text": [
      "Epoch #641: test_reward: 418.000000 ± 0.000000, best_reward: 1834.000000 ± 0.000000 in #117\n"
     ]
    },
    {
     "name": "stderr",
     "output_type": "stream",
     "text": [
      "Epoch #642: 1025it [00:02, 344.78it/s, env_step=657408, len=27, n/ep=3, n/st=64, player_1/loss=176.888, player_2/loss=523.206, rew=756.00]\n"
     ]
    },
    {
     "name": "stdout",
     "output_type": "stream",
     "text": [
      "Epoch #642: test_reward: 868.000000 ± 0.000000, best_reward: 1834.000000 ± 0.000000 in #117\n"
     ]
    },
    {
     "name": "stderr",
     "output_type": "stream",
     "text": [
      "Epoch #643: 1025it [00:02, 344.30it/s, env_step=658432, len=32, n/ep=2, n/st=64, player_1/loss=200.023, player_2/loss=512.552, rew=1058.00]\n"
     ]
    },
    {
     "name": "stdout",
     "output_type": "stream",
     "text": [
      "Epoch #643: test_reward: 598.000000 ± 0.000000, best_reward: 1834.000000 ± 0.000000 in #117\n"
     ]
    },
    {
     "name": "stderr",
     "output_type": "stream",
     "text": [
      "Epoch #644: 1025it [00:02, 345.15it/s, env_step=659456, len=29, n/ep=2, n/st=64, player_1/loss=369.751, player_2/loss=504.486, rew=872.00]\n"
     ]
    },
    {
     "name": "stdout",
     "output_type": "stream",
     "text": [
      "Epoch #644: test_reward: 1188.000000 ± 0.000000, best_reward: 1834.000000 ± 0.000000 in #117\n"
     ]
    },
    {
     "name": "stderr",
     "output_type": "stream",
     "text": [
      "Epoch #645: 1025it [00:02, 343.53it/s, env_step=660480, len=26, n/ep=2, n/st=64, player_1/loss=337.482, player_2/loss=272.363, rew=725.00]\n"
     ]
    },
    {
     "name": "stdout",
     "output_type": "stream",
     "text": [
      "Epoch #645: test_reward: 990.000000 ± 0.000000, best_reward: 1834.000000 ± 0.000000 in #117\n"
     ]
    },
    {
     "name": "stderr",
     "output_type": "stream",
     "text": [
      "Epoch #646: 1025it [00:02, 344.68it/s, env_step=661504, len=21, n/ep=3, n/st=64, player_1/loss=402.450, player_2/loss=251.555, rew=537.33]\n"
     ]
    },
    {
     "name": "stdout",
     "output_type": "stream",
     "text": [
      "Epoch #646: test_reward: 130.000000 ± 0.000000, best_reward: 1834.000000 ± 0.000000 in #117\n"
     ]
    },
    {
     "name": "stderr",
     "output_type": "stream",
     "text": [
      "Epoch #647: 1025it [00:02, 345.07it/s, env_step=662528, len=24, n/ep=2, n/st=64, player_1/loss=263.247, player_2/loss=653.545, rew=713.00]\n"
     ]
    },
    {
     "name": "stdout",
     "output_type": "stream",
     "text": [
      "Epoch #647: test_reward: 270.000000 ± 0.000000, best_reward: 1834.000000 ± 0.000000 in #117\n"
     ]
    },
    {
     "name": "stderr",
     "output_type": "stream",
     "text": [
      "Epoch #648: 1025it [00:02, 343.87it/s, env_step=663552, len=17, n/ep=4, n/st=64, player_1/loss=287.354, player_2/loss=385.168, rew=328.00]\n"
     ]
    },
    {
     "name": "stdout",
     "output_type": "stream",
     "text": [
      "Epoch #648: test_reward: 928.000000 ± 0.000000, best_reward: 1834.000000 ± 0.000000 in #117\n"
     ]
    },
    {
     "name": "stderr",
     "output_type": "stream",
     "text": [
      "Epoch #649: 1025it [00:02, 346.60it/s, env_step=664576, len=18, n/ep=4, n/st=64, player_1/loss=428.408, player_2/loss=370.390, rew=351.00]\n"
     ]
    },
    {
     "name": "stdout",
     "output_type": "stream",
     "text": [
      "Epoch #649: test_reward: 1054.000000 ± 0.000000, best_reward: 1834.000000 ± 0.000000 in #117\n"
     ]
    },
    {
     "name": "stderr",
     "output_type": "stream",
     "text": [
      "Epoch #650: 1025it [00:02, 344.66it/s, env_step=665600, len=33, n/ep=2, n/st=64, player_1/loss=211.246, player_2/loss=336.560, rew=1154.00]\n"
     ]
    },
    {
     "name": "stdout",
     "output_type": "stream",
     "text": [
      "Epoch #650: test_reward: 990.000000 ± 0.000000, best_reward: 1834.000000 ± 0.000000 in #117\n"
     ]
    },
    {
     "name": "stderr",
     "output_type": "stream",
     "text": [
      "Epoch #651: 1025it [00:02, 342.25it/s, env_step=666624, len=21, n/ep=4, n/st=64, player_1/loss=254.802, player_2/loss=170.192, rew=588.50]\n"
     ]
    },
    {
     "name": "stdout",
     "output_type": "stream",
     "text": [
      "Epoch #651: test_reward: 130.000000 ± 0.000000, best_reward: 1834.000000 ± 0.000000 in #117\n"
     ]
    },
    {
     "name": "stderr",
     "output_type": "stream",
     "text": [
      "Epoch #652: 1025it [00:02, 345.22it/s, env_step=667648, len=16, n/ep=4, n/st=64, player_1/loss=331.135, player_2/loss=256.821, rew=298.50]\n"
     ]
    },
    {
     "name": "stdout",
     "output_type": "stream",
     "text": [
      "Epoch #652: test_reward: 598.000000 ± 0.000000, best_reward: 1834.000000 ± 0.000000 in #117\n"
     ]
    },
    {
     "name": "stderr",
     "output_type": "stream",
     "text": [
      "Epoch #653: 1025it [00:02, 345.43it/s, env_step=668672, len=32, n/ep=2, n/st=64, player_1/loss=291.111, player_2/loss=89.618, rew=1099.00]\n"
     ]
    },
    {
     "name": "stdout",
     "output_type": "stream",
     "text": [
      "Epoch #653: test_reward: 1120.000000 ± 0.000000, best_reward: 1834.000000 ± 0.000000 in #117\n"
     ]
    },
    {
     "name": "stderr",
     "output_type": "stream",
     "text": [
      "Epoch #654: 1025it [00:02, 344.23it/s, env_step=669696, len=32, n/ep=2, n/st=64, player_1/loss=436.261, player_2/loss=166.341, rew=1129.00]\n"
     ]
    },
    {
     "name": "stdout",
     "output_type": "stream",
     "text": [
      "Epoch #654: test_reward: 1480.000000 ± 0.000000, best_reward: 1834.000000 ± 0.000000 in #117\n"
     ]
    },
    {
     "name": "stderr",
     "output_type": "stream",
     "text": [
      "Epoch #655: 1025it [00:02, 343.79it/s, env_step=670720, len=30, n/ep=2, n/st=64, player_1/loss=397.884, player_2/loss=160.484, rew=965.00]\n"
     ]
    },
    {
     "name": "stdout",
     "output_type": "stream",
     "text": [
      "Epoch #655: test_reward: 130.000000 ± 0.000000, best_reward: 1834.000000 ± 0.000000 in #117\n"
     ]
    },
    {
     "name": "stderr",
     "output_type": "stream",
     "text": [
      "Epoch #656: 1025it [00:02, 344.16it/s, env_step=671744, len=30, n/ep=2, n/st=64, player_1/loss=283.812, player_2/loss=287.516, rew=1015.00]\n"
     ]
    },
    {
     "name": "stdout",
     "output_type": "stream",
     "text": [
      "Epoch #656: test_reward: 928.000000 ± 0.000000, best_reward: 1834.000000 ± 0.000000 in #117\n"
     ]
    },
    {
     "name": "stderr",
     "output_type": "stream",
     "text": [
      "Epoch #657: 1025it [00:02, 342.56it/s, env_step=672768, len=17, n/ep=4, n/st=64, player_1/loss=409.277, player_2/loss=239.874, rew=333.00]\n"
     ]
    },
    {
     "name": "stdout",
     "output_type": "stream",
     "text": [
      "Epoch #657: test_reward: 378.000000 ± 0.000000, best_reward: 1834.000000 ± 0.000000 in #117\n"
     ]
    },
    {
     "name": "stderr",
     "output_type": "stream",
     "text": [
      "Epoch #658: 1025it [00:02, 342.58it/s, env_step=673792, len=17, n/ep=4, n/st=64, player_1/loss=233.933, player_2/loss=346.257, rew=330.00]\n"
     ]
    },
    {
     "name": "stdout",
     "output_type": "stream",
     "text": [
      "Epoch #658: test_reward: 304.000000 ± 0.000000, best_reward: 1834.000000 ± 0.000000 in #117\n"
     ]
    },
    {
     "name": "stderr",
     "output_type": "stream",
     "text": [
      "Epoch #659: 1025it [00:02, 344.13it/s, env_step=674816, len=14, n/ep=4, n/st=64, player_1/loss=224.619, player_2/loss=633.697, rew=239.50]\n"
     ]
    },
    {
     "name": "stdout",
     "output_type": "stream",
     "text": [
      "Epoch #659: test_reward: 130.000000 ± 0.000000, best_reward: 1834.000000 ± 0.000000 in #117\n"
     ]
    },
    {
     "name": "stderr",
     "output_type": "stream",
     "text": [
      "Epoch #660: 1025it [00:02, 346.08it/s, env_step=675840, len=22, n/ep=3, n/st=64, player_1/loss=447.522, player_2/loss=462.202, rew=662.67]\n"
     ]
    },
    {
     "name": "stdout",
     "output_type": "stream",
     "text": [
      "Epoch #660: test_reward: 1834.000000 ± 0.000000, best_reward: 1834.000000 ± 0.000000 in #117\n"
     ]
    },
    {
     "name": "stderr",
     "output_type": "stream",
     "text": [
      "Epoch #661: 1025it [00:02, 344.89it/s, env_step=676864, len=36, n/ep=2, n/st=64, player_1/loss=262.660, player_2/loss=862.240, rew=1369.00]\n"
     ]
    },
    {
     "name": "stdout",
     "output_type": "stream",
     "text": [
      "Epoch #661: test_reward: 418.000000 ± 0.000000, best_reward: 1834.000000 ± 0.000000 in #117\n"
     ]
    },
    {
     "name": "stderr",
     "output_type": "stream",
     "text": [
      "Epoch #662: 1025it [00:02, 345.15it/s, env_step=677888, len=31, n/ep=2, n/st=64, player_1/loss=279.443, player_2/loss=203.277, rew=1054.00]\n"
     ]
    },
    {
     "name": "stdout",
     "output_type": "stream",
     "text": [
      "Epoch #662: test_reward: 1330.000000 ± 0.000000, best_reward: 1834.000000 ± 0.000000 in #117\n"
     ]
    },
    {
     "name": "stderr",
     "output_type": "stream",
     "text": [
      "Epoch #663: 1025it [00:02, 345.40it/s, env_step=678912, len=35, n/ep=2, n/st=64, player_1/loss=333.728, player_2/loss=257.157, rew=1300.00]\n"
     ]
    },
    {
     "name": "stdout",
     "output_type": "stream",
     "text": [
      "Epoch #663: test_reward: 238.000000 ± 0.000000, best_reward: 1834.000000 ± 0.000000 in #117\n"
     ]
    },
    {
     "name": "stderr",
     "output_type": "stream",
     "text": [
      "Epoch #664: 1025it [00:02, 346.82it/s, env_step=679936, len=23, n/ep=3, n/st=64, player_1/loss=255.212, player_2/loss=584.293, rew=595.33]\n"
     ]
    },
    {
     "name": "stdout",
     "output_type": "stream",
     "text": [
      "Epoch #664: test_reward: 378.000000 ± 0.000000, best_reward: 1834.000000 ± 0.000000 in #117\n"
     ]
    },
    {
     "name": "stderr",
     "output_type": "stream",
     "text": [
      "Epoch #665: 1025it [00:02, 345.25it/s, env_step=680960, len=16, n/ep=4, n/st=64, player_1/loss=258.282, player_2/loss=215.818, rew=295.50]\n"
     ]
    },
    {
     "name": "stdout",
     "output_type": "stream",
     "text": [
      "Epoch #665: test_reward: 238.000000 ± 0.000000, best_reward: 1834.000000 ± 0.000000 in #117\n"
     ]
    },
    {
     "name": "stderr",
     "output_type": "stream",
     "text": [
      "Epoch #666: 1025it [00:02, 344.76it/s, env_step=681984, len=22, n/ep=3, n/st=64, player_1/loss=563.570, player_2/loss=188.067, rew=534.67]\n"
     ]
    },
    {
     "name": "stdout",
     "output_type": "stream",
     "text": [
      "Epoch #666: test_reward: 1054.000000 ± 0.000000, best_reward: 1834.000000 ± 0.000000 in #117\n"
     ]
    },
    {
     "name": "stderr",
     "output_type": "stream",
     "text": [
      "Epoch #667: 1025it [00:02, 345.28it/s, env_step=683008, len=25, n/ep=3, n/st=64, player_1/loss=441.337, player_2/loss=514.565, rew=732.00]\n"
     ]
    },
    {
     "name": "stdout",
     "output_type": "stream",
     "text": [
      "Epoch #667: test_reward: 504.000000 ± 0.000000, best_reward: 1834.000000 ± 0.000000 in #117\n"
     ]
    },
    {
     "name": "stderr",
     "output_type": "stream",
     "text": [
      "Epoch #668: 1025it [00:02, 345.00it/s, env_step=684032, len=25, n/ep=2, n/st=64, player_1/loss=411.698, player_2/loss=195.881, rew=746.00]\n"
     ]
    },
    {
     "name": "stdout",
     "output_type": "stream",
     "text": [
      "Epoch #668: test_reward: 1404.000000 ± 0.000000, best_reward: 1834.000000 ± 0.000000 in #117\n"
     ]
    },
    {
     "name": "stderr",
     "output_type": "stream",
     "text": [
      "Epoch #669: 1025it [00:02, 345.18it/s, env_step=685056, len=22, n/ep=2, n/st=64, player_1/loss=512.219, player_2/loss=277.426, rew=617.00]\n"
     ]
    },
    {
     "name": "stdout",
     "output_type": "stream",
     "text": [
      "Epoch #669: test_reward: 1188.000000 ± 0.000000, best_reward: 1834.000000 ± 0.000000 in #117\n"
     ]
    },
    {
     "name": "stderr",
     "output_type": "stream",
     "text": [
      "Epoch #670: 1025it [00:02, 343.88it/s, env_step=686080, len=25, n/ep=3, n/st=64, player_1/loss=303.513, player_2/loss=278.087, rew=703.33]\n"
     ]
    },
    {
     "name": "stdout",
     "output_type": "stream",
     "text": [
      "Epoch #670: test_reward: 378.000000 ± 0.000000, best_reward: 1834.000000 ± 0.000000 in #117\n"
     ]
    },
    {
     "name": "stderr",
     "output_type": "stream",
     "text": [
      "Epoch #671: 1025it [00:02, 344.87it/s, env_step=687104, len=21, n/ep=3, n/st=64, player_1/loss=520.914, player_2/loss=343.886, rew=492.67]\n"
     ]
    },
    {
     "name": "stdout",
     "output_type": "stream",
     "text": [
      "Epoch #671: test_reward: 378.000000 ± 0.000000, best_reward: 1834.000000 ± 0.000000 in #117\n"
     ]
    },
    {
     "name": "stderr",
     "output_type": "stream",
     "text": [
      "Epoch #672: 1025it [00:02, 345.89it/s, env_step=688128, len=30, n/ep=3, n/st=64, player_1/loss=284.549, player_2/loss=753.850, rew=977.33]\n"
     ]
    },
    {
     "name": "stdout",
     "output_type": "stream",
     "text": [
      "Epoch #672: test_reward: 754.000000 ± 0.000000, best_reward: 1834.000000 ± 0.000000 in #117\n"
     ]
    },
    {
     "name": "stderr",
     "output_type": "stream",
     "text": [
      "Epoch #673: 1025it [00:02, 344.26it/s, env_step=689152, len=30, n/ep=2, n/st=64, player_1/loss=319.419, player_2/loss=317.568, rew=959.00]\n"
     ]
    },
    {
     "name": "stdout",
     "output_type": "stream",
     "text": [
      "Epoch #673: test_reward: 598.000000 ± 0.000000, best_reward: 1834.000000 ± 0.000000 in #117\n"
     ]
    },
    {
     "name": "stderr",
     "output_type": "stream",
     "text": [
      "Epoch #674: 1025it [00:02, 345.07it/s, env_step=690176, len=25, n/ep=2, n/st=64, player_1/loss=315.343, player_2/loss=400.597, rew=674.00]\n"
     ]
    },
    {
     "name": "stdout",
     "output_type": "stream",
     "text": [
      "Epoch #674: test_reward: 648.000000 ± 0.000000, best_reward: 1834.000000 ± 0.000000 in #117\n"
     ]
    },
    {
     "name": "stderr",
     "output_type": "stream",
     "text": [
      "Epoch #675: 1025it [00:02, 344.78it/s, env_step=691200, len=27, n/ep=3, n/st=64, player_1/loss=163.171, player_2/loss=358.821, rew=918.67]\n"
     ]
    },
    {
     "name": "stdout",
     "output_type": "stream",
     "text": [
      "Epoch #675: test_reward: 700.000000 ± 0.000000, best_reward: 1834.000000 ± 0.000000 in #117\n"
     ]
    },
    {
     "name": "stderr",
     "output_type": "stream",
     "text": [
      "Epoch #676: 1025it [00:02, 346.29it/s, env_step=692224, len=23, n/ep=2, n/st=64, player_1/loss=351.963, player_2/loss=264.209, rew=580.00]\n"
     ]
    },
    {
     "name": "stdout",
     "output_type": "stream",
     "text": [
      "Epoch #676: test_reward: 88.000000 ± 0.000000, best_reward: 1834.000000 ± 0.000000 in #117\n"
     ]
    },
    {
     "name": "stderr",
     "output_type": "stream",
     "text": [
      "Epoch #677: 1025it [00:02, 346.92it/s, env_step=693248, len=21, n/ep=4, n/st=64, player_1/loss=208.203, player_2/loss=133.222, rew=632.50]\n"
     ]
    },
    {
     "name": "stdout",
     "output_type": "stream",
     "text": [
      "Epoch #677: test_reward: 54.000000 ± 0.000000, best_reward: 1834.000000 ± 0.000000 in #117\n"
     ]
    },
    {
     "name": "stderr",
     "output_type": "stream",
     "text": [
      "Epoch #678: 1025it [00:02, 344.60it/s, env_step=694272, len=15, n/ep=4, n/st=64, player_1/loss=556.133, player_2/loss=319.091, rew=252.00]\n"
     ]
    },
    {
     "name": "stdout",
     "output_type": "stream",
     "text": [
      "Epoch #678: test_reward: 208.000000 ± 0.000000, best_reward: 1834.000000 ± 0.000000 in #117\n"
     ]
    },
    {
     "name": "stderr",
     "output_type": "stream",
     "text": [
      "Epoch #679: 1025it [00:02, 345.60it/s, env_step=695296, len=16, n/ep=4, n/st=64, player_1/loss=345.357, player_2/loss=496.299, rew=289.00]\n"
     ]
    },
    {
     "name": "stdout",
     "output_type": "stream",
     "text": [
      "Epoch #679: test_reward: 304.000000 ± 0.000000, best_reward: 1834.000000 ± 0.000000 in #117\n"
     ]
    },
    {
     "name": "stderr",
     "output_type": "stream",
     "text": [
      "Epoch #680: 1025it [00:02, 345.05it/s, env_step=696320, len=16, n/ep=4, n/st=64, player_1/loss=342.498, player_2/loss=318.682, rew=279.00]\n"
     ]
    },
    {
     "name": "stdout",
     "output_type": "stream",
     "text": [
      "Epoch #680: test_reward: 238.000000 ± 0.000000, best_reward: 1834.000000 ± 0.000000 in #117\n"
     ]
    },
    {
     "name": "stderr",
     "output_type": "stream",
     "text": [
      "Epoch #681: 1025it [00:02, 345.49it/s, env_step=697344, len=15, n/ep=4, n/st=64, player_1/loss=168.965, player_2/loss=223.790, rew=239.50]\n"
     ]
    },
    {
     "name": "stdout",
     "output_type": "stream",
     "text": [
      "Epoch #681: test_reward: 180.000000 ± 0.000000, best_reward: 1834.000000 ± 0.000000 in #117\n"
     ]
    },
    {
     "name": "stderr",
     "output_type": "stream",
     "text": [
      "Epoch #682: 1025it [00:02, 344.71it/s, env_step=698368, len=19, n/ep=3, n/st=64, player_1/loss=272.040, player_2/loss=267.934, rew=410.00]\n"
     ]
    },
    {
     "name": "stdout",
     "output_type": "stream",
     "text": [
      "Epoch #682: test_reward: 238.000000 ± 0.000000, best_reward: 1834.000000 ± 0.000000 in #117\n"
     ]
    },
    {
     "name": "stderr",
     "output_type": "stream",
     "text": [
      "Epoch #683: 1025it [00:02, 344.61it/s, env_step=699392, len=26, n/ep=2, n/st=64, player_1/loss=231.538, player_2/loss=99.656, rew=749.00]\n"
     ]
    },
    {
     "name": "stdout",
     "output_type": "stream",
     "text": [
      "Epoch #683: test_reward: 378.000000 ± 0.000000, best_reward: 1834.000000 ± 0.000000 in #117\n"
     ]
    },
    {
     "name": "stderr",
     "output_type": "stream",
     "text": [
      "Epoch #684: 1025it [00:02, 346.85it/s, env_step=700416, len=28, n/ep=2, n/st=64, player_1/loss=161.164, player_2/loss=231.919, rew=814.00]\n"
     ]
    },
    {
     "name": "stdout",
     "output_type": "stream",
     "text": [
      "Epoch #684: test_reward: 1480.000000 ± 0.000000, best_reward: 1834.000000 ± 0.000000 in #117\n"
     ]
    },
    {
     "name": "stderr",
     "output_type": "stream",
     "text": [
      "Epoch #685: 1025it [00:02, 344.47it/s, env_step=701440, len=24, n/ep=2, n/st=64, player_1/loss=341.329, player_2/loss=333.707, rew=625.00]\n"
     ]
    },
    {
     "name": "stdout",
     "output_type": "stream",
     "text": [
      "Epoch #685: test_reward: 378.000000 ± 0.000000, best_reward: 1834.000000 ± 0.000000 in #117\n"
     ]
    },
    {
     "name": "stderr",
     "output_type": "stream",
     "text": [
      "Epoch #686: 1025it [00:02, 344.99it/s, env_step=702464, len=21, n/ep=2, n/st=64, player_1/loss=329.086, player_2/loss=167.895, rew=460.00]\n"
     ]
    },
    {
     "name": "stdout",
     "output_type": "stream",
     "text": [
      "Epoch #686: test_reward: 378.000000 ± 0.000000, best_reward: 1834.000000 ± 0.000000 in #117\n"
     ]
    },
    {
     "name": "stderr",
     "output_type": "stream",
     "text": [
      "Epoch #687: 1025it [00:02, 345.17it/s, env_step=703488, len=38, n/ep=1, n/st=64, player_1/loss=355.135, player_2/loss=88.960, rew=1480.00]\n"
     ]
    },
    {
     "name": "stdout",
     "output_type": "stream",
     "text": [
      "Epoch #687: test_reward: 1404.000000 ± 0.000000, best_reward: 1834.000000 ± 0.000000 in #117\n"
     ]
    },
    {
     "name": "stderr",
     "output_type": "stream",
     "text": [
      "Epoch #688: 1025it [00:02, 341.98it/s, env_step=704512, len=19, n/ep=2, n/st=64, player_1/loss=793.247, player_2/loss=327.445, rew=398.00]\n"
     ]
    },
    {
     "name": "stdout",
     "output_type": "stream",
     "text": [
      "Epoch #688: test_reward: 378.000000 ± 0.000000, best_reward: 1834.000000 ± 0.000000 in #117\n"
     ]
    },
    {
     "name": "stderr",
     "output_type": "stream",
     "text": [
      "Epoch #689: 1025it [00:03, 339.58it/s, env_step=705536, len=30, n/ep=1, n/st=64, player_1/loss=452.892, player_2/loss=335.936, rew=928.00]\n"
     ]
    },
    {
     "name": "stdout",
     "output_type": "stream",
     "text": [
      "Epoch #689: test_reward: 598.000000 ± 0.000000, best_reward: 1834.000000 ± 0.000000 in #117\n"
     ]
    },
    {
     "name": "stderr",
     "output_type": "stream",
     "text": [
      "Epoch #690: 1025it [00:02, 343.25it/s, env_step=706560, len=14, n/ep=4, n/st=64, player_1/loss=316.700, player_2/loss=192.846, rew=209.00]\n"
     ]
    },
    {
     "name": "stdout",
     "output_type": "stream",
     "text": [
      "Epoch #690: test_reward: 238.000000 ± 0.000000, best_reward: 1834.000000 ± 0.000000 in #117\n"
     ]
    },
    {
     "name": "stderr",
     "output_type": "stream",
     "text": [
      "Epoch #691: 1025it [00:02, 341.75it/s, env_step=707584, len=22, n/ep=3, n/st=64, player_1/loss=504.482, player_2/loss=426.443, rew=537.33]\n"
     ]
    },
    {
     "name": "stdout",
     "output_type": "stream",
     "text": [
      "Epoch #691: test_reward: 378.000000 ± 0.000000, best_reward: 1834.000000 ± 0.000000 in #117\n"
     ]
    },
    {
     "name": "stderr",
     "output_type": "stream",
     "text": [
      "Epoch #692: 1025it [00:02, 343.25it/s, env_step=708608, len=18, n/ep=3, n/st=64, player_1/loss=688.704, player_2/loss=265.789, rew=418.67]\n"
     ]
    },
    {
     "name": "stdout",
     "output_type": "stream",
     "text": [
      "Epoch #692: test_reward: 180.000000 ± 0.000000, best_reward: 1834.000000 ± 0.000000 in #117\n"
     ]
    },
    {
     "name": "stderr",
     "output_type": "stream",
     "text": [
      "Epoch #693: 1025it [00:02, 345.23it/s, env_step=709632, len=19, n/ep=3, n/st=64, player_1/loss=747.249, player_2/loss=467.184, rew=416.00]\n"
     ]
    },
    {
     "name": "stdout",
     "output_type": "stream",
     "text": [
      "Epoch #693: test_reward: 460.000000 ± 0.000000, best_reward: 1834.000000 ± 0.000000 in #117\n"
     ]
    },
    {
     "name": "stderr",
     "output_type": "stream",
     "text": [
      "Epoch #694: 1025it [00:02, 345.61it/s, env_step=710656, len=33, n/ep=2, n/st=64, player_1/loss=625.256, player_2/loss=370.290, rew=1184.00]\n"
     ]
    },
    {
     "name": "stdout",
     "output_type": "stream",
     "text": [
      "Epoch #694: test_reward: 1188.000000 ± 0.000000, best_reward: 1834.000000 ± 0.000000 in #117\n"
     ]
    },
    {
     "name": "stderr",
     "output_type": "stream",
     "text": [
      "Epoch #695: 1025it [00:02, 345.40it/s, env_step=711680, len=31, n/ep=2, n/st=64, player_1/loss=577.574, player_2/loss=233.398, rew=1034.00]\n"
     ]
    },
    {
     "name": "stdout",
     "output_type": "stream",
     "text": [
      "Epoch #695: test_reward: 1404.000000 ± 0.000000, best_reward: 1834.000000 ± 0.000000 in #117\n"
     ]
    },
    {
     "name": "stderr",
     "output_type": "stream",
     "text": [
      "Epoch #696: 1025it [00:02, 343.27it/s, env_step=712704, len=14, n/ep=5, n/st=64, player_1/loss=666.043, player_2/loss=324.120, rew=222.40]\n"
     ]
    },
    {
     "name": "stdout",
     "output_type": "stream",
     "text": [
      "Epoch #696: test_reward: 208.000000 ± 0.000000, best_reward: 1834.000000 ± 0.000000 in #117\n"
     ]
    },
    {
     "name": "stderr",
     "output_type": "stream",
     "text": [
      "Epoch #697: 1025it [00:03, 338.02it/s, env_step=713728, len=28, n/ep=3, n/st=64, player_1/loss=671.073, player_2/loss=498.386, rew=910.00]\n"
     ]
    },
    {
     "name": "stdout",
     "output_type": "stream",
     "text": [
      "Epoch #697: test_reward: 550.000000 ± 0.000000, best_reward: 1834.000000 ± 0.000000 in #117\n"
     ]
    },
    {
     "name": "stderr",
     "output_type": "stream",
     "text": [
      "Epoch #698: 1025it [00:02, 349.92it/s, env_step=714752, len=31, n/ep=2, n/st=64, player_1/loss=773.486, player_2/loss=211.754, rew=1042.00]\n"
     ]
    },
    {
     "name": "stdout",
     "output_type": "stream",
     "text": [
      "Epoch #698: test_reward: 504.000000 ± 0.000000, best_reward: 1834.000000 ± 0.000000 in #117\n"
     ]
    },
    {
     "name": "stderr",
     "output_type": "stream",
     "text": [
      "Epoch #699: 1025it [00:02, 345.80it/s, env_step=715776, len=25, n/ep=3, n/st=64, player_1/loss=674.229, player_2/loss=151.733, rew=839.33]\n"
     ]
    },
    {
     "name": "stdout",
     "output_type": "stream",
     "text": [
      "Epoch #699: test_reward: 550.000000 ± 0.000000, best_reward: 1834.000000 ± 0.000000 in #117\n"
     ]
    },
    {
     "name": "stderr",
     "output_type": "stream",
     "text": [
      "Epoch #700: 1025it [00:02, 343.31it/s, env_step=716800, len=20, n/ep=3, n/st=64, player_1/loss=513.546, player_2/loss=514.478, rew=438.67]\n"
     ]
    },
    {
     "name": "stdout",
     "output_type": "stream",
     "text": [
      "Epoch #700: test_reward: 418.000000 ± 0.000000, best_reward: 1834.000000 ± 0.000000 in #117\n"
     ]
    },
    {
     "name": "stderr",
     "output_type": "stream",
     "text": [
      "Epoch #701: 1025it [00:02, 345.42it/s, env_step=717824, len=38, n/ep=1, n/st=64, player_1/loss=557.944, player_2/loss=485.249, rew=1480.00]\n"
     ]
    },
    {
     "name": "stdout",
     "output_type": "stream",
     "text": [
      "Epoch #701: test_reward: 1054.000000 ± 0.000000, best_reward: 1834.000000 ± 0.000000 in #117\n"
     ]
    },
    {
     "name": "stderr",
     "output_type": "stream",
     "text": [
      "Epoch #702: 1025it [00:02, 346.86it/s, env_step=718848, len=26, n/ep=2, n/st=64, player_1/loss=487.834, player_2/loss=583.307, rew=799.00]\n"
     ]
    },
    {
     "name": "stdout",
     "output_type": "stream",
     "text": [
      "Epoch #702: test_reward: 304.000000 ± 0.000000, best_reward: 1834.000000 ± 0.000000 in #117\n"
     ]
    },
    {
     "name": "stderr",
     "output_type": "stream",
     "text": [
      "Epoch #703: 1025it [00:02, 345.46it/s, env_step=719872, len=36, n/ep=2, n/st=64, player_1/loss=497.655, player_2/loss=333.603, rew=1381.00]\n"
     ]
    },
    {
     "name": "stdout",
     "output_type": "stream",
     "text": [
      "Epoch #703: test_reward: 1054.000000 ± 0.000000, best_reward: 1834.000000 ± 0.000000 in #117\n"
     ]
    },
    {
     "name": "stderr",
     "output_type": "stream",
     "text": [
      "Epoch #704: 1025it [00:02, 344.98it/s, env_step=720896, len=38, n/ep=2, n/st=64, player_1/loss=157.182, player_2/loss=110.062, rew=1481.00]\n"
     ]
    },
    {
     "name": "stdout",
     "output_type": "stream",
     "text": [
      "Epoch #704: test_reward: 928.000000 ± 0.000000, best_reward: 1834.000000 ± 0.000000 in #117\n"
     ]
    },
    {
     "name": "stderr",
     "output_type": "stream",
     "text": [
      "Epoch #705: 1025it [00:02, 345.09it/s, env_step=721920, len=26, n/ep=3, n/st=64, player_1/loss=409.288, player_2/loss=240.484, rew=758.00]\n"
     ]
    },
    {
     "name": "stdout",
     "output_type": "stream",
     "text": [
      "Epoch #705: test_reward: 1558.000000 ± 0.000000, best_reward: 1834.000000 ± 0.000000 in #117\n"
     ]
    },
    {
     "name": "stderr",
     "output_type": "stream",
     "text": [
      "Epoch #706: 1025it [00:02, 347.06it/s, env_step=722944, len=36, n/ep=2, n/st=64, player_1/loss=443.099, player_2/loss=317.594, rew=1330.00]\n"
     ]
    },
    {
     "name": "stdout",
     "output_type": "stream",
     "text": [
      "Epoch #706: test_reward: 1558.000000 ± 0.000000, best_reward: 1834.000000 ± 0.000000 in #117\n"
     ]
    },
    {
     "name": "stderr",
     "output_type": "stream",
     "text": [
      "Epoch #707: 1025it [00:02, 345.96it/s, env_step=723968, len=18, n/ep=3, n/st=64, player_1/loss=695.381, player_2/loss=440.625, rew=418.00]\n"
     ]
    },
    {
     "name": "stdout",
     "output_type": "stream",
     "text": [
      "Epoch #707: test_reward: 418.000000 ± 0.000000, best_reward: 1834.000000 ± 0.000000 in #117\n"
     ]
    },
    {
     "name": "stderr",
     "output_type": "stream",
     "text": [
      "Epoch #708: 1025it [00:02, 345.85it/s, env_step=724992, len=32, n/ep=2, n/st=64, player_1/loss=761.690, player_2/loss=251.010, rew=1135.00]\n"
     ]
    },
    {
     "name": "stdout",
     "output_type": "stream",
     "text": [
      "Epoch #708: test_reward: 648.000000 ± 0.000000, best_reward: 1834.000000 ± 0.000000 in #117\n"
     ]
    },
    {
     "name": "stderr",
     "output_type": "stream",
     "text": [
      "Epoch #709: 1025it [00:02, 343.66it/s, env_step=726016, len=31, n/ep=2, n/st=64, player_1/loss=330.099, player_2/loss=346.768, rew=1024.00]\n"
     ]
    },
    {
     "name": "stdout",
     "output_type": "stream",
     "text": [
      "Epoch #709: test_reward: 1188.000000 ± 0.000000, best_reward: 1834.000000 ± 0.000000 in #117\n"
     ]
    },
    {
     "name": "stderr",
     "output_type": "stream",
     "text": [
      "Epoch #710: 1025it [00:02, 343.78it/s, env_step=727040, len=28, n/ep=2, n/st=64, player_1/loss=285.576, player_2/loss=521.459, rew=841.00]\n"
     ]
    },
    {
     "name": "stdout",
     "output_type": "stream",
     "text": [
      "Epoch #710: test_reward: 810.000000 ± 0.000000, best_reward: 1834.000000 ± 0.000000 in #117\n"
     ]
    },
    {
     "name": "stderr",
     "output_type": "stream",
     "text": [
      "Epoch #711: 1025it [00:02, 345.72it/s, env_step=728064, len=34, n/ep=2, n/st=64, player_1/loss=634.111, player_2/loss=68.396, rew=1235.00]\n"
     ]
    },
    {
     "name": "stdout",
     "output_type": "stream",
     "text": [
      "Epoch #711: test_reward: 928.000000 ± 0.000000, best_reward: 1834.000000 ± 0.000000 in #117\n"
     ]
    },
    {
     "name": "stderr",
     "output_type": "stream",
     "text": [
      "Epoch #712: 1025it [00:02, 346.37it/s, env_step=729088, len=36, n/ep=2, n/st=64, player_1/loss=817.127, player_2/loss=204.615, rew=1369.00]\n"
     ]
    },
    {
     "name": "stdout",
     "output_type": "stream",
     "text": [
      "Epoch #712: test_reward: 1188.000000 ± 0.000000, best_reward: 1834.000000 ± 0.000000 in #117\n"
     ]
    },
    {
     "name": "stderr",
     "output_type": "stream",
     "text": [
      "Epoch #713: 1025it [00:02, 345.71it/s, env_step=730112, len=23, n/ep=3, n/st=64, player_1/loss=322.235, player_2/loss=265.216, rew=585.33]\n"
     ]
    },
    {
     "name": "stdout",
     "output_type": "stream",
     "text": [
      "Epoch #713: test_reward: 378.000000 ± 0.000000, best_reward: 1834.000000 ± 0.000000 in #117\n"
     ]
    },
    {
     "name": "stderr",
     "output_type": "stream",
     "text": [
      "Epoch #714: 1025it [00:02, 346.02it/s, env_step=731136, len=38, n/ep=1, n/st=64, player_1/loss=677.729, player_2/loss=213.365, rew=1480.00]\n"
     ]
    },
    {
     "name": "stdout",
     "output_type": "stream",
     "text": [
      "Epoch #714: test_reward: 1480.000000 ± 0.000000, best_reward: 1834.000000 ± 0.000000 in #117\n"
     ]
    },
    {
     "name": "stderr",
     "output_type": "stream",
     "text": [
      "Epoch #715: 1025it [00:02, 344.45it/s, env_step=732160, len=31, n/ep=3, n/st=64, player_1/loss=204.727, player_2/loss=189.828, rew=1046.67]\n"
     ]
    },
    {
     "name": "stdout",
     "output_type": "stream",
     "text": [
      "Epoch #715: test_reward: 1480.000000 ± 0.000000, best_reward: 1834.000000 ± 0.000000 in #117\n"
     ]
    },
    {
     "name": "stderr",
     "output_type": "stream",
     "text": [
      "Epoch #716: 1025it [00:02, 346.45it/s, env_step=733184, len=36, n/ep=1, n/st=64, player_1/loss=510.148, player_2/loss=201.821, rew=1330.00]\n"
     ]
    },
    {
     "name": "stdout",
     "output_type": "stream",
     "text": [
      "Epoch #716: test_reward: 928.000000 ± 0.000000, best_reward: 1834.000000 ± 0.000000 in #117\n"
     ]
    },
    {
     "name": "stderr",
     "output_type": "stream",
     "text": [
      "Epoch #717: 1025it [00:02, 345.04it/s, env_step=734208, len=31, n/ep=2, n/st=64, player_1/loss=548.381, player_2/loss=138.934, rew=999.00]\n"
     ]
    },
    {
     "name": "stdout",
     "output_type": "stream",
     "text": [
      "Epoch #717: test_reward: 1404.000000 ± 0.000000, best_reward: 1834.000000 ± 0.000000 in #117\n"
     ]
    },
    {
     "name": "stderr",
     "output_type": "stream",
     "text": [
      "Epoch #718: 1025it [00:02, 346.08it/s, env_step=735232, len=32, n/ep=3, n/st=64, player_1/loss=427.966, player_2/loss=337.946, rew=1206.00]\n"
     ]
    },
    {
     "name": "stdout",
     "output_type": "stream",
     "text": [
      "Epoch #718: test_reward: 1480.000000 ± 0.000000, best_reward: 1834.000000 ± 0.000000 in #117\n"
     ]
    },
    {
     "name": "stderr",
     "output_type": "stream",
     "text": [
      "Epoch #719: 1025it [00:02, 346.15it/s, env_step=736256, len=33, n/ep=3, n/st=64, player_1/loss=207.476, player_2/loss=494.263, rew=1210.00]\n"
     ]
    },
    {
     "name": "stdout",
     "output_type": "stream",
     "text": [
      "Epoch #719: test_reward: 1480.000000 ± 0.000000, best_reward: 1834.000000 ± 0.000000 in #117\n"
     ]
    },
    {
     "name": "stderr",
     "output_type": "stream",
     "text": [
      "Epoch #720: 1025it [00:02, 344.50it/s, env_step=737280, len=30, n/ep=2, n/st=64, player_1/loss=183.468, player_2/loss=524.133, rew=937.00]\n"
     ]
    },
    {
     "name": "stdout",
     "output_type": "stream",
     "text": [
      "Epoch #720: test_reward: 928.000000 ± 0.000000, best_reward: 1834.000000 ± 0.000000 in #117\n"
     ]
    },
    {
     "name": "stderr",
     "output_type": "stream",
     "text": [
      "Epoch #721: 1025it [00:02, 345.97it/s, env_step=738304, len=33, n/ep=2, n/st=64, player_1/loss=447.255, player_2/loss=74.303, rew=1156.00]\n"
     ]
    },
    {
     "name": "stdout",
     "output_type": "stream",
     "text": [
      "Epoch #721: test_reward: 1480.000000 ± 0.000000, best_reward: 1834.000000 ± 0.000000 in #117\n"
     ]
    },
    {
     "name": "stderr",
     "output_type": "stream",
     "text": [
      "Epoch #722: 1025it [00:02, 343.73it/s, env_step=739328, len=23, n/ep=2, n/st=64, player_1/loss=424.923, player_2/loss=475.855, rew=630.00]\n"
     ]
    },
    {
     "name": "stdout",
     "output_type": "stream",
     "text": [
      "Epoch #722: test_reward: 504.000000 ± 0.000000, best_reward: 1834.000000 ± 0.000000 in #117\n"
     ]
    },
    {
     "name": "stderr",
     "output_type": "stream",
     "text": [
      "Epoch #723: 1025it [00:02, 345.35it/s, env_step=740352, len=20, n/ep=3, n/st=64, player_1/loss=344.720, player_2/loss=376.802, rew=486.67]\n"
     ]
    },
    {
     "name": "stdout",
     "output_type": "stream",
     "text": [
      "Epoch #723: test_reward: 648.000000 ± 0.000000, best_reward: 1834.000000 ± 0.000000 in #117\n"
     ]
    },
    {
     "name": "stderr",
     "output_type": "stream",
     "text": [
      "Epoch #724: 1025it [00:02, 345.74it/s, env_step=741376, len=15, n/ep=4, n/st=64, player_1/loss=551.442, player_2/loss=620.050, rew=257.00]\n"
     ]
    },
    {
     "name": "stdout",
     "output_type": "stream",
     "text": [
      "Epoch #724: test_reward: 208.000000 ± 0.000000, best_reward: 1834.000000 ± 0.000000 in #117\n"
     ]
    },
    {
     "name": "stderr",
     "output_type": "stream",
     "text": [
      "Epoch #725: 1025it [00:02, 345.38it/s, env_step=742400, len=34, n/ep=2, n/st=64, player_1/loss=332.792, player_2/loss=247.078, rew=1213.00]\n"
     ]
    },
    {
     "name": "stdout",
     "output_type": "stream",
     "text": [
      "Epoch #725: test_reward: 1480.000000 ± 0.000000, best_reward: 1834.000000 ± 0.000000 in #117\n"
     ]
    },
    {
     "name": "stderr",
     "output_type": "stream",
     "text": [
      "Epoch #726: 1025it [00:02, 346.98it/s, env_step=743424, len=25, n/ep=3, n/st=64, player_1/loss=100.547, player_2/loss=384.220, rew=650.00]\n"
     ]
    },
    {
     "name": "stdout",
     "output_type": "stream",
     "text": [
      "Epoch #726: test_reward: 928.000000 ± 0.000000, best_reward: 1834.000000 ± 0.000000 in #117\n"
     ]
    },
    {
     "name": "stderr",
     "output_type": "stream",
     "text": [
      "Epoch #727: 1025it [00:02, 345.39it/s, env_step=744448, len=28, n/ep=3, n/st=64, player_1/loss=112.324, player_2/loss=455.747, rew=914.00]\n"
     ]
    },
    {
     "name": "stdout",
     "output_type": "stream",
     "text": [
      "Epoch #727: test_reward: 1054.000000 ± 0.000000, best_reward: 1834.000000 ± 0.000000 in #117\n"
     ]
    },
    {
     "name": "stderr",
     "output_type": "stream",
     "text": [
      "Epoch #728: 1025it [00:02, 345.31it/s, env_step=745472, len=19, n/ep=4, n/st=64, player_1/loss=382.819, player_2/loss=249.680, rew=447.50]\n"
     ]
    },
    {
     "name": "stdout",
     "output_type": "stream",
     "text": [
      "Epoch #728: test_reward: 550.000000 ± 0.000000, best_reward: 1834.000000 ± 0.000000 in #117\n"
     ]
    },
    {
     "name": "stderr",
     "output_type": "stream",
     "text": [
      "Epoch #729: 1025it [00:02, 344.04it/s, env_step=746496, len=15, n/ep=4, n/st=64, player_1/loss=484.821, player_2/loss=1011.130, rew=254.50]\n"
     ]
    },
    {
     "name": "stdout",
     "output_type": "stream",
     "text": [
      "Epoch #729: test_reward: 304.000000 ± 0.000000, best_reward: 1834.000000 ± 0.000000 in #117\n"
     ]
    },
    {
     "name": "stderr",
     "output_type": "stream",
     "text": [
      "Epoch #730: 1025it [00:02, 344.15it/s, env_step=747520, len=8, n/ep=7, n/st=64, player_1/loss=237.410, player_2/loss=266.083, rew=78.29]\n"
     ]
    },
    {
     "name": "stdout",
     "output_type": "stream",
     "text": [
      "Epoch #730: test_reward: 340.000000 ± 0.000000, best_reward: 1834.000000 ± 0.000000 in #117\n"
     ]
    },
    {
     "name": "stderr",
     "output_type": "stream",
     "text": [
      "Epoch #731: 1025it [00:02, 345.49it/s, env_step=748544, len=21, n/ep=3, n/st=64, player_1/loss=468.399, player_2/loss=994.905, rew=460.67]\n"
     ]
    },
    {
     "name": "stdout",
     "output_type": "stream",
     "text": [
      "Epoch #731: test_reward: 304.000000 ± 0.000000, best_reward: 1834.000000 ± 0.000000 in #117\n"
     ]
    },
    {
     "name": "stderr",
     "output_type": "stream",
     "text": [
      "Epoch #732: 1025it [00:02, 344.99it/s, env_step=749568, len=32, n/ep=2, n/st=64, player_1/loss=388.241, player_2/loss=387.449, rew=1107.00]\n"
     ]
    },
    {
     "name": "stdout",
     "output_type": "stream",
     "text": [
      "Epoch #732: test_reward: 598.000000 ± 0.000000, best_reward: 1834.000000 ± 0.000000 in #117\n"
     ]
    },
    {
     "name": "stderr",
     "output_type": "stream",
     "text": [
      "Epoch #733: 1025it [00:02, 343.79it/s, env_step=750592, len=15, n/ep=4, n/st=64, player_1/loss=655.885, player_2/loss=859.975, rew=259.00]\n"
     ]
    },
    {
     "name": "stdout",
     "output_type": "stream",
     "text": [
      "Epoch #733: test_reward: 208.000000 ± 0.000000, best_reward: 1834.000000 ± 0.000000 in #117\n"
     ]
    },
    {
     "name": "stderr",
     "output_type": "stream",
     "text": [
      "Epoch #734: 1025it [00:02, 345.03it/s, env_step=751616, len=32, n/ep=2, n/st=64, player_1/loss=493.753, player_2/loss=701.905, rew=1117.00]\n"
     ]
    },
    {
     "name": "stdout",
     "output_type": "stream",
     "text": [
      "Epoch #734: test_reward: 1834.000000 ± 0.000000, best_reward: 1834.000000 ± 0.000000 in #117\n"
     ]
    },
    {
     "name": "stderr",
     "output_type": "stream",
     "text": [
      "Epoch #735: 1025it [00:03, 339.54it/s, env_step=752640, len=27, n/ep=3, n/st=64, player_1/loss=248.987, player_2/loss=396.706, rew=830.00]\n"
     ]
    },
    {
     "name": "stdout",
     "output_type": "stream",
     "text": [
      "Epoch #735: test_reward: 648.000000 ± 0.000000, best_reward: 1834.000000 ± 0.000000 in #117\n"
     ]
    },
    {
     "name": "stderr",
     "output_type": "stream",
     "text": [
      "Epoch #736: 1025it [00:03, 341.08it/s, env_step=753664, len=30, n/ep=2, n/st=64, player_1/loss=199.665, player_2/loss=754.179, rew=928.00]\n"
     ]
    },
    {
     "name": "stdout",
     "output_type": "stream",
     "text": [
      "Epoch #736: test_reward: 648.000000 ± 0.000000, best_reward: 1834.000000 ± 0.000000 in #117\n"
     ]
    },
    {
     "name": "stderr",
     "output_type": "stream",
     "text": [
      "Epoch #737: 1025it [00:02, 342.65it/s, env_step=754688, len=34, n/ep=2, n/st=64, player_1/loss=212.924, player_2/loss=424.058, rew=1229.00]\n"
     ]
    },
    {
     "name": "stdout",
     "output_type": "stream",
     "text": [
      "Epoch #737: test_reward: 990.000000 ± 0.000000, best_reward: 1834.000000 ± 0.000000 in #117\n"
     ]
    },
    {
     "name": "stderr",
     "output_type": "stream",
     "text": [
      "Epoch #738: 1025it [00:02, 346.02it/s, env_step=755712, len=27, n/ep=2, n/st=64, player_1/loss=341.673, player_2/loss=283.054, rew=854.00]\n"
     ]
    },
    {
     "name": "stdout",
     "output_type": "stream",
     "text": [
      "Epoch #738: test_reward: 990.000000 ± 0.000000, best_reward: 1834.000000 ± 0.000000 in #117\n"
     ]
    },
    {
     "name": "stderr",
     "output_type": "stream",
     "text": [
      "Epoch #739: 1025it [00:02, 344.94it/s, env_step=756736, len=36, n/ep=2, n/st=64, player_1/loss=366.714, player_2/loss=482.289, rew=1412.00]\n"
     ]
    },
    {
     "name": "stdout",
     "output_type": "stream",
     "text": [
      "Epoch #739: test_reward: 1480.000000 ± 0.000000, best_reward: 1834.000000 ± 0.000000 in #117\n"
     ]
    },
    {
     "name": "stderr",
     "output_type": "stream",
     "text": [
      "Epoch #740: 1025it [00:02, 346.33it/s, env_step=757760, len=34, n/ep=1, n/st=64, player_1/loss=465.778, player_2/loss=342.441, rew=1188.00]\n"
     ]
    },
    {
     "name": "stdout",
     "output_type": "stream",
     "text": [
      "Epoch #740: test_reward: 810.000000 ± 0.000000, best_reward: 1834.000000 ± 0.000000 in #117\n"
     ]
    },
    {
     "name": "stderr",
     "output_type": "stream",
     "text": [
      "Epoch #741: 1025it [00:02, 345.14it/s, env_step=758784, len=21, n/ep=2, n/st=64, player_1/loss=347.397, player_2/loss=508.354, rew=461.00]\n"
     ]
    },
    {
     "name": "stdout",
     "output_type": "stream",
     "text": [
      "Epoch #741: test_reward: 700.000000 ± 0.000000, best_reward: 1834.000000 ± 0.000000 in #117\n"
     ]
    },
    {
     "name": "stderr",
     "output_type": "stream",
     "text": [
      "Epoch #742: 1025it [00:02, 346.16it/s, env_step=759808, len=37, n/ep=2, n/st=64, player_1/loss=226.888, player_2/loss=305.432, rew=1442.00]\n"
     ]
    },
    {
     "name": "stdout",
     "output_type": "stream",
     "text": [
      "Epoch #742: test_reward: 868.000000 ± 0.000000, best_reward: 1834.000000 ± 0.000000 in #117\n"
     ]
    },
    {
     "name": "stderr",
     "output_type": "stream",
     "text": [
      "Epoch #743: 1025it [00:02, 344.13it/s, env_step=760832, len=37, n/ep=2, n/st=64, player_1/loss=232.028, player_2/loss=446.889, rew=1444.00]\n"
     ]
    },
    {
     "name": "stdout",
     "output_type": "stream",
     "text": [
      "Epoch #743: test_reward: 1054.000000 ± 0.000000, best_reward: 1834.000000 ± 0.000000 in #117\n"
     ]
    },
    {
     "name": "stderr",
     "output_type": "stream",
     "text": [
      "Epoch #744: 1025it [00:02, 346.23it/s, env_step=761856, len=25, n/ep=2, n/st=64, player_1/loss=313.427, player_2/loss=274.587, rew=817.00]\n"
     ]
    },
    {
     "name": "stdout",
     "output_type": "stream",
     "text": [
      "Epoch #744: test_reward: 1480.000000 ± 0.000000, best_reward: 1834.000000 ± 0.000000 in #117\n"
     ]
    },
    {
     "name": "stderr",
     "output_type": "stream",
     "text": [
      "Epoch #745: 1025it [00:02, 344.43it/s, env_step=762880, len=33, n/ep=2, n/st=64, player_1/loss=343.336, player_2/loss=298.135, rew=1124.00]\n"
     ]
    },
    {
     "name": "stdout",
     "output_type": "stream",
     "text": [
      "Epoch #745: test_reward: 928.000000 ± 0.000000, best_reward: 1834.000000 ± 0.000000 in #117\n"
     ]
    },
    {
     "name": "stderr",
     "output_type": "stream",
     "text": [
      "Epoch #746: 1025it [00:02, 346.26it/s, env_step=763904, len=20, n/ep=3, n/st=64, player_1/loss=222.207, player_2/loss=645.266, rew=438.67]\n"
     ]
    },
    {
     "name": "stdout",
     "output_type": "stream",
     "text": [
      "Epoch #746: test_reward: 418.000000 ± 0.000000, best_reward: 1834.000000 ± 0.000000 in #117\n"
     ]
    },
    {
     "name": "stderr",
     "output_type": "stream",
     "text": [
      "Epoch #747: 1025it [00:02, 345.10it/s, env_step=764928, len=22, n/ep=3, n/st=64, player_1/loss=147.677, player_2/loss=569.699, rew=534.67]\n"
     ]
    },
    {
     "name": "stdout",
     "output_type": "stream",
     "text": [
      "Epoch #747: test_reward: 378.000000 ± 0.000000, best_reward: 1834.000000 ± 0.000000 in #117\n"
     ]
    },
    {
     "name": "stderr",
     "output_type": "stream",
     "text": [
      "Epoch #748: 1025it [00:02, 342.67it/s, env_step=765952, len=38, n/ep=1, n/st=64, player_1/loss=176.473, player_2/loss=781.153, rew=1480.00]\n"
     ]
    },
    {
     "name": "stdout",
     "output_type": "stream",
     "text": [
      "Epoch #748: test_reward: 754.000000 ± 0.000000, best_reward: 1834.000000 ± 0.000000 in #117\n"
     ]
    },
    {
     "name": "stderr",
     "output_type": "stream",
     "text": [
      "Epoch #749: 1025it [00:02, 344.88it/s, env_step=766976, len=25, n/ep=3, n/st=64, player_1/loss=563.479, player_2/loss=288.298, rew=747.33]\n"
     ]
    },
    {
     "name": "stdout",
     "output_type": "stream",
     "text": [
      "Epoch #749: test_reward: 1480.000000 ± 0.000000, best_reward: 1834.000000 ± 0.000000 in #117\n"
     ]
    },
    {
     "name": "stderr",
     "output_type": "stream",
     "text": [
      "Epoch #750: 1025it [00:02, 344.95it/s, env_step=768000, len=34, n/ep=2, n/st=64, player_1/loss=419.674, player_2/loss=240.139, rew=1243.00]\n"
     ]
    },
    {
     "name": "stdout",
     "output_type": "stream",
     "text": [
      "Epoch #750: test_reward: 1188.000000 ± 0.000000, best_reward: 1834.000000 ± 0.000000 in #117\n"
     ]
    },
    {
     "name": "stderr",
     "output_type": "stream",
     "text": [
      "Epoch #751: 1025it [00:02, 346.83it/s, env_step=769024, len=26, n/ep=3, n/st=64, player_1/loss=641.858, player_2/loss=212.669, rew=807.33]\n"
     ]
    },
    {
     "name": "stdout",
     "output_type": "stream",
     "text": [
      "Epoch #751: test_reward: 550.000000 ± 0.000000, best_reward: 1834.000000 ± 0.000000 in #117\n"
     ]
    },
    {
     "name": "stderr",
     "output_type": "stream",
     "text": [
      "Epoch #752: 1025it [00:02, 344.44it/s, env_step=770048, len=32, n/ep=2, n/st=64, player_1/loss=296.604, player_2/loss=626.470, rew=1099.00]\n"
     ]
    },
    {
     "name": "stdout",
     "output_type": "stream",
     "text": [
      "Epoch #752: test_reward: 1054.000000 ± 0.000000, best_reward: 1834.000000 ± 0.000000 in #117\n"
     ]
    },
    {
     "name": "stderr",
     "output_type": "stream",
     "text": [
      "Epoch #753: 1025it [00:02, 345.62it/s, env_step=771072, len=17, n/ep=5, n/st=64, player_1/loss=614.957, player_2/loss=439.242, rew=360.80]\n"
     ]
    },
    {
     "name": "stdout",
     "output_type": "stream",
     "text": [
      "Epoch #753: test_reward: 180.000000 ± 0.000000, best_reward: 1834.000000 ± 0.000000 in #117\n"
     ]
    },
    {
     "name": "stderr",
     "output_type": "stream",
     "text": [
      "Epoch #754: 1025it [00:02, 344.93it/s, env_step=772096, len=37, n/ep=2, n/st=64, player_1/loss=870.672, player_2/loss=240.334, rew=1444.00]\n"
     ]
    },
    {
     "name": "stdout",
     "output_type": "stream",
     "text": [
      "Epoch #754: test_reward: 1480.000000 ± 0.000000, best_reward: 1834.000000 ± 0.000000 in #117\n"
     ]
    },
    {
     "name": "stderr",
     "output_type": "stream",
     "text": [
      "Epoch #755: 1025it [00:02, 345.52it/s, env_step=773120, len=21, n/ep=3, n/st=64, player_1/loss=668.143, player_2/loss=752.748, rew=489.33]\n"
     ]
    },
    {
     "name": "stdout",
     "output_type": "stream",
     "text": [
      "Epoch #755: test_reward: 810.000000 ± 0.000000, best_reward: 1834.000000 ± 0.000000 in #117\n"
     ]
    },
    {
     "name": "stderr",
     "output_type": "stream",
     "text": [
      "Epoch #756: 1025it [00:02, 345.48it/s, env_step=774144, len=29, n/ep=3, n/st=64, player_1/loss=407.185, player_2/loss=422.390, rew=975.33]\n"
     ]
    },
    {
     "name": "stdout",
     "output_type": "stream",
     "text": [
      "Epoch #756: test_reward: 1404.000000 ± 0.000000, best_reward: 1834.000000 ± 0.000000 in #117\n"
     ]
    },
    {
     "name": "stderr",
     "output_type": "stream",
     "text": [
      "Epoch #757: 1025it [00:02, 345.10it/s, env_step=775168, len=18, n/ep=4, n/st=64, player_1/loss=396.733, player_2/loss=572.892, rew=373.50]\n"
     ]
    },
    {
     "name": "stdout",
     "output_type": "stream",
     "text": [
      "Epoch #757: test_reward: 460.000000 ± 0.000000, best_reward: 1834.000000 ± 0.000000 in #117\n"
     ]
    },
    {
     "name": "stderr",
     "output_type": "stream",
     "text": [
      "Epoch #758: 1025it [00:02, 345.08it/s, env_step=776192, len=23, n/ep=3, n/st=64, player_1/loss=904.023, player_2/loss=150.416, rew=588.00]\n"
     ]
    },
    {
     "name": "stdout",
     "output_type": "stream",
     "text": [
      "Epoch #758: test_reward: 550.000000 ± 0.000000, best_reward: 1834.000000 ± 0.000000 in #117\n"
     ]
    },
    {
     "name": "stderr",
     "output_type": "stream",
     "text": [
      "Epoch #759: 1025it [00:02, 346.55it/s, env_step=777216, len=31, n/ep=2, n/st=64, player_1/loss=438.310, player_2/loss=147.761, rew=991.00]\n"
     ]
    },
    {
     "name": "stdout",
     "output_type": "stream",
     "text": [
      "Epoch #759: test_reward: 1480.000000 ± 0.000000, best_reward: 1834.000000 ± 0.000000 in #117\n"
     ]
    },
    {
     "name": "stderr",
     "output_type": "stream",
     "text": [
      "Epoch #760: 1025it [00:02, 345.79it/s, env_step=778240, len=21, n/ep=2, n/st=64, player_1/loss=533.357, player_2/loss=476.912, rew=485.00]\n"
     ]
    },
    {
     "name": "stdout",
     "output_type": "stream",
     "text": [
      "Epoch #760: test_reward: 130.000000 ± 0.000000, best_reward: 1834.000000 ± 0.000000 in #117\n"
     ]
    },
    {
     "name": "stderr",
     "output_type": "stream",
     "text": [
      "Epoch #761: 1025it [00:02, 345.42it/s, env_step=779264, len=11, n/ep=6, n/st=64, player_1/loss=424.073, player_2/loss=581.518, rew=154.00]\n"
     ]
    },
    {
     "name": "stdout",
     "output_type": "stream",
     "text": [
      "Epoch #761: test_reward: 180.000000 ± 0.000000, best_reward: 1834.000000 ± 0.000000 in #117\n"
     ]
    },
    {
     "name": "stderr",
     "output_type": "stream",
     "text": [
      "Epoch #762: 1025it [00:02, 344.83it/s, env_step=780288, len=22, n/ep=3, n/st=64, player_1/loss=370.387, player_2/loss=172.524, rew=616.67]\n"
     ]
    },
    {
     "name": "stdout",
     "output_type": "stream",
     "text": [
      "Epoch #762: test_reward: 238.000000 ± 0.000000, best_reward: 1834.000000 ± 0.000000 in #117\n"
     ]
    },
    {
     "name": "stderr",
     "output_type": "stream",
     "text": [
      "Epoch #763: 1025it [00:02, 345.47it/s, env_step=781312, len=20, n/ep=4, n/st=64, player_1/loss=442.666, player_2/loss=43.430, rew=504.00]\n"
     ]
    },
    {
     "name": "stdout",
     "output_type": "stream",
     "text": [
      "Epoch #763: test_reward: 270.000000 ± 0.000000, best_reward: 1834.000000 ± 0.000000 in #117\n"
     ]
    },
    {
     "name": "stderr",
     "output_type": "stream",
     "text": [
      "Epoch #764: 1025it [00:02, 345.48it/s, env_step=782336, len=21, n/ep=3, n/st=64, player_1/loss=274.644, player_2/loss=263.354, rew=464.67]\n"
     ]
    },
    {
     "name": "stdout",
     "output_type": "stream",
     "text": [
      "Epoch #764: test_reward: 1558.000000 ± 0.000000, best_reward: 1834.000000 ± 0.000000 in #117\n"
     ]
    },
    {
     "name": "stderr",
     "output_type": "stream",
     "text": [
      "Epoch #765: 1025it [00:02, 344.44it/s, env_step=783360, len=24, n/ep=3, n/st=64, player_1/loss=460.134, player_2/loss=599.392, rew=622.67]\n"
     ]
    },
    {
     "name": "stdout",
     "output_type": "stream",
     "text": [
      "Epoch #765: test_reward: 304.000000 ± 0.000000, best_reward: 1834.000000 ± 0.000000 in #117\n"
     ]
    },
    {
     "name": "stderr",
     "output_type": "stream",
     "text": [
      "Epoch #766: 1025it [00:02, 343.16it/s, env_step=784384, len=42, n/ep=1, n/st=64, player_1/loss=472.612, player_2/loss=300.047, rew=1834.00]\n"
     ]
    },
    {
     "name": "stdout",
     "output_type": "stream",
     "text": [
      "Epoch #766: test_reward: 130.000000 ± 0.000000, best_reward: 1834.000000 ± 0.000000 in #117\n"
     ]
    },
    {
     "name": "stderr",
     "output_type": "stream",
     "text": [
      "Epoch #767: 1025it [00:02, 344.11it/s, env_step=785408, len=31, n/ep=2, n/st=64, player_1/loss=655.183, player_2/loss=362.907, rew=1028.00]\n"
     ]
    },
    {
     "name": "stdout",
     "output_type": "stream",
     "text": [
      "Epoch #767: test_reward: 1188.000000 ± 0.000000, best_reward: 1834.000000 ± 0.000000 in #117\n"
     ]
    },
    {
     "name": "stderr",
     "output_type": "stream",
     "text": [
      "Epoch #768: 1025it [00:02, 344.07it/s, env_step=786432, len=34, n/ep=2, n/st=64, player_1/loss=349.004, player_2/loss=102.457, rew=1213.00]\n"
     ]
    },
    {
     "name": "stdout",
     "output_type": "stream",
     "text": [
      "Epoch #768: test_reward: 868.000000 ± 0.000000, best_reward: 1834.000000 ± 0.000000 in #117\n"
     ]
    },
    {
     "name": "stderr",
     "output_type": "stream",
     "text": [
      "Epoch #769: 1025it [00:02, 344.31it/s, env_step=787456, len=32, n/ep=2, n/st=64, player_1/loss=351.162, player_2/loss=402.410, rew=1055.00]\n"
     ]
    },
    {
     "name": "stdout",
     "output_type": "stream",
     "text": [
      "Epoch #769: test_reward: 1188.000000 ± 0.000000, best_reward: 1834.000000 ± 0.000000 in #117\n"
     ]
    },
    {
     "name": "stderr",
     "output_type": "stream",
     "text": [
      "Epoch #770: 1025it [00:02, 343.04it/s, env_step=788480, len=31, n/ep=2, n/st=64, player_1/loss=218.320, player_2/loss=287.401, rew=1111.00]\n"
     ]
    },
    {
     "name": "stdout",
     "output_type": "stream",
     "text": [
      "Epoch #770: test_reward: 504.000000 ± 0.000000, best_reward: 1834.000000 ± 0.000000 in #117\n"
     ]
    },
    {
     "name": "stderr",
     "output_type": "stream",
     "text": [
      "Epoch #771: 1025it [00:02, 345.12it/s, env_step=789504, len=22, n/ep=3, n/st=64, player_1/loss=385.025, player_2/loss=637.534, rew=504.67]\n"
     ]
    },
    {
     "name": "stdout",
     "output_type": "stream",
     "text": [
      "Epoch #771: test_reward: 1404.000000 ± 0.000000, best_reward: 1834.000000 ± 0.000000 in #117\n"
     ]
    },
    {
     "name": "stderr",
     "output_type": "stream",
     "text": [
      "Epoch #772: 1025it [00:02, 345.14it/s, env_step=790528, len=20, n/ep=3, n/st=64, player_1/loss=183.738, player_2/loss=450.383, rew=447.33]\n"
     ]
    },
    {
     "name": "stdout",
     "output_type": "stream",
     "text": [
      "Epoch #772: test_reward: 270.000000 ± 0.000000, best_reward: 1834.000000 ± 0.000000 in #117\n"
     ]
    },
    {
     "name": "stderr",
     "output_type": "stream",
     "text": [
      "Epoch #773: 1025it [00:02, 346.11it/s, env_step=791552, len=20, n/ep=4, n/st=64, player_1/loss=353.206, player_2/loss=205.248, rew=541.00]\n"
     ]
    },
    {
     "name": "stdout",
     "output_type": "stream",
     "text": [
      "Epoch #773: test_reward: 1480.000000 ± 0.000000, best_reward: 1834.000000 ± 0.000000 in #117\n"
     ]
    },
    {
     "name": "stderr",
     "output_type": "stream",
     "text": [
      "Epoch #774: 1025it [00:02, 344.48it/s, env_step=792576, len=28, n/ep=3, n/st=64, player_1/loss=478.996, player_2/loss=162.529, rew=918.00]\n"
     ]
    },
    {
     "name": "stdout",
     "output_type": "stream",
     "text": [
      "Epoch #774: test_reward: 1054.000000 ± 0.000000, best_reward: 1834.000000 ± 0.000000 in #117\n"
     ]
    },
    {
     "name": "stderr",
     "output_type": "stream",
     "text": [
      "Epoch #775: 1025it [00:02, 344.64it/s, env_step=793600, len=13, n/ep=4, n/st=64, player_1/loss=361.626, player_2/loss=181.739, rew=198.50]\n"
     ]
    },
    {
     "name": "stdout",
     "output_type": "stream",
     "text": [
      "Epoch #775: test_reward: 700.000000 ± 0.000000, best_reward: 1834.000000 ± 0.000000 in #117\n"
     ]
    },
    {
     "name": "stderr",
     "output_type": "stream",
     "text": [
      "Epoch #776: 1025it [00:02, 344.13it/s, env_step=794624, len=26, n/ep=2, n/st=64, player_1/loss=80.469, player_2/loss=591.460, rew=757.00]\n"
     ]
    },
    {
     "name": "stdout",
     "output_type": "stream",
     "text": [
      "Epoch #776: test_reward: 1188.000000 ± 0.000000, best_reward: 1834.000000 ± 0.000000 in #117\n"
     ]
    },
    {
     "name": "stderr",
     "output_type": "stream",
     "text": [
      "Epoch #777: 1025it [00:02, 346.19it/s, env_step=795648, len=18, n/ep=3, n/st=64, player_1/loss=240.147, player_2/loss=189.435, rew=476.00]\n"
     ]
    },
    {
     "name": "stdout",
     "output_type": "stream",
     "text": [
      "Epoch #777: test_reward: 238.000000 ± 0.000000, best_reward: 1834.000000 ± 0.000000 in #117\n"
     ]
    },
    {
     "name": "stderr",
     "output_type": "stream",
     "text": [
      "Epoch #778: 1025it [00:02, 344.61it/s, env_step=796672, len=31, n/ep=2, n/st=64, player_1/loss=158.609, player_2/loss=768.644, rew=1006.00]\n"
     ]
    },
    {
     "name": "stdout",
     "output_type": "stream",
     "text": [
      "Epoch #778: test_reward: 700.000000 ± 0.000000, best_reward: 1834.000000 ± 0.000000 in #117\n"
     ]
    },
    {
     "name": "stderr",
     "output_type": "stream",
     "text": [
      "Epoch #779: 1025it [00:02, 344.68it/s, env_step=797696, len=26, n/ep=3, n/st=64, player_1/loss=605.004, player_2/loss=961.083, rew=772.00]\n"
     ]
    },
    {
     "name": "stdout",
     "output_type": "stream",
     "text": [
      "Epoch #779: test_reward: 130.000000 ± 0.000000, best_reward: 1834.000000 ± 0.000000 in #117\n"
     ]
    },
    {
     "name": "stderr",
     "output_type": "stream",
     "text": [
      "Epoch #780: 1025it [00:02, 344.65it/s, env_step=798720, len=31, n/ep=2, n/st=64, player_1/loss=343.047, player_2/loss=901.809, rew=1147.00]\n"
     ]
    },
    {
     "name": "stdout",
     "output_type": "stream",
     "text": [
      "Epoch #780: test_reward: 810.000000 ± 0.000000, best_reward: 1834.000000 ± 0.000000 in #117\n"
     ]
    },
    {
     "name": "stderr",
     "output_type": "stream",
     "text": [
      "Epoch #781: 1025it [00:02, 344.80it/s, env_step=799744, len=21, n/ep=3, n/st=64, player_1/loss=205.866, player_2/loss=252.574, rew=475.33]\n"
     ]
    },
    {
     "name": "stdout",
     "output_type": "stream",
     "text": [
      "Epoch #781: test_reward: 378.000000 ± 0.000000, best_reward: 1834.000000 ± 0.000000 in #117\n"
     ]
    },
    {
     "name": "stderr",
     "output_type": "stream",
     "text": [
      "Epoch #782: 1025it [00:02, 343.74it/s, env_step=800768, len=15, n/ep=5, n/st=64, player_1/loss=256.678, player_2/loss=479.180, rew=304.00]\n"
     ]
    },
    {
     "name": "stdout",
     "output_type": "stream",
     "text": [
      "Epoch #782: test_reward: 130.000000 ± 0.000000, best_reward: 1834.000000 ± 0.000000 in #117\n"
     ]
    },
    {
     "name": "stderr",
     "output_type": "stream",
     "text": [
      "Epoch #783: 1025it [00:02, 344.28it/s, env_step=801792, len=12, n/ep=5, n/st=64, player_1/loss=431.753, player_2/loss=475.975, rew=186.80]\n"
     ]
    },
    {
     "name": "stdout",
     "output_type": "stream",
     "text": [
      "Epoch #783: test_reward: 418.000000 ± 0.000000, best_reward: 1834.000000 ± 0.000000 in #117\n"
     ]
    },
    {
     "name": "stderr",
     "output_type": "stream",
     "text": [
      "Epoch #784: 1025it [00:02, 344.28it/s, env_step=802816, len=24, n/ep=2, n/st=64, player_1/loss=446.071, player_2/loss=821.503, rew=599.00]\n"
     ]
    },
    {
     "name": "stdout",
     "output_type": "stream",
     "text": [
      "Epoch #784: test_reward: 418.000000 ± 0.000000, best_reward: 1834.000000 ± 0.000000 in #117\n"
     ]
    },
    {
     "name": "stderr",
     "output_type": "stream",
     "text": [
      "Epoch #785: 1025it [00:02, 345.28it/s, env_step=803840, len=35, n/ep=1, n/st=64, player_1/loss=199.912, player_2/loss=106.754, rew=1258.00]\n"
     ]
    },
    {
     "name": "stdout",
     "output_type": "stream",
     "text": [
      "Epoch #785: test_reward: 1480.000000 ± 0.000000, best_reward: 1834.000000 ± 0.000000 in #117\n"
     ]
    },
    {
     "name": "stderr",
     "output_type": "stream",
     "text": [
      "Epoch #786: 1025it [00:02, 344.05it/s, env_step=804864, len=17, n/ep=4, n/st=64, player_1/loss=279.004, player_2/loss=700.531, rew=472.00]\n"
     ]
    },
    {
     "name": "stdout",
     "output_type": "stream",
     "text": [
      "Epoch #786: test_reward: 130.000000 ± 0.000000, best_reward: 1834.000000 ± 0.000000 in #117\n"
     ]
    },
    {
     "name": "stderr",
     "output_type": "stream",
     "text": [
      "Epoch #787: 1025it [00:02, 343.55it/s, env_step=805888, len=31, n/ep=3, n/st=64, player_1/loss=426.213, player_2/loss=232.468, rew=1052.00]\n"
     ]
    },
    {
     "name": "stdout",
     "output_type": "stream",
     "text": [
      "Epoch #787: test_reward: 238.000000 ± 0.000000, best_reward: 1834.000000 ± 0.000000 in #117\n"
     ]
    },
    {
     "name": "stderr",
     "output_type": "stream",
     "text": [
      "Epoch #788: 1025it [00:02, 342.54it/s, env_step=806912, len=17, n/ep=4, n/st=64, player_1/loss=334.193, player_2/loss=570.136, rew=377.00]\n"
     ]
    },
    {
     "name": "stdout",
     "output_type": "stream",
     "text": [
      "Epoch #788: test_reward: 130.000000 ± 0.000000, best_reward: 1834.000000 ± 0.000000 in #117\n"
     ]
    },
    {
     "name": "stderr",
     "output_type": "stream",
     "text": [
      "Epoch #789: 1025it [00:02, 344.96it/s, env_step=807936, len=19, n/ep=3, n/st=64, player_1/loss=300.724, player_2/loss=61.875, rew=420.67]\n"
     ]
    },
    {
     "name": "stdout",
     "output_type": "stream",
     "text": [
      "Epoch #789: test_reward: 130.000000 ± 0.000000, best_reward: 1834.000000 ± 0.000000 in #117\n"
     ]
    },
    {
     "name": "stderr",
     "output_type": "stream",
     "text": [
      "Epoch #790: 1025it [00:02, 345.08it/s, env_step=808960, len=32, n/ep=2, n/st=64, player_1/loss=319.501, player_2/loss=312.021, rew=1099.00]\n"
     ]
    },
    {
     "name": "stdout",
     "output_type": "stream",
     "text": [
      "Epoch #790: test_reward: 1404.000000 ± 0.000000, best_reward: 1834.000000 ± 0.000000 in #117\n"
     ]
    },
    {
     "name": "stderr",
     "output_type": "stream",
     "text": [
      "Epoch #791: 1025it [00:02, 342.72it/s, env_step=809984, len=20, n/ep=3, n/st=64, player_1/loss=285.143, player_2/loss=615.983, rew=435.33]\n"
     ]
    },
    {
     "name": "stdout",
     "output_type": "stream",
     "text": [
      "Epoch #791: test_reward: 700.000000 ± 0.000000, best_reward: 1834.000000 ± 0.000000 in #117\n"
     ]
    },
    {
     "name": "stderr",
     "output_type": "stream",
     "text": [
      "Epoch #792: 1025it [00:02, 345.87it/s, env_step=811008, len=37, n/ep=1, n/st=64, player_1/loss=289.153, player_2/loss=126.270, rew=1404.00]\n"
     ]
    },
    {
     "name": "stdout",
     "output_type": "stream",
     "text": [
      "Epoch #792: test_reward: 1480.000000 ± 0.000000, best_reward: 1834.000000 ± 0.000000 in #117\n"
     ]
    },
    {
     "name": "stderr",
     "output_type": "stream",
     "text": [
      "Epoch #793: 1025it [00:02, 343.66it/s, env_step=812032, len=25, n/ep=2, n/st=64, player_1/loss=363.677, player_2/loss=661.667, rew=674.00]\n"
     ]
    },
    {
     "name": "stdout",
     "output_type": "stream",
     "text": [
      "Epoch #793: test_reward: 700.000000 ± 0.000000, best_reward: 1834.000000 ± 0.000000 in #117\n"
     ]
    },
    {
     "name": "stderr",
     "output_type": "stream",
     "text": [
      "Epoch #794: 1025it [00:02, 346.53it/s, env_step=813056, len=28, n/ep=2, n/st=64, player_1/loss=369.760, player_2/loss=1339.112, rew=841.00]\n"
     ]
    },
    {
     "name": "stdout",
     "output_type": "stream",
     "text": [
      "Epoch #794: test_reward: 868.000000 ± 0.000000, best_reward: 1834.000000 ± 0.000000 in #117\n"
     ]
    },
    {
     "name": "stderr",
     "output_type": "stream",
     "text": [
      "Epoch #795: 1025it [00:02, 345.71it/s, env_step=814080, len=31, n/ep=2, n/st=64, player_1/loss=373.789, player_2/loss=388.178, rew=1034.00]\n"
     ]
    },
    {
     "name": "stdout",
     "output_type": "stream",
     "text": [
      "Epoch #795: test_reward: 928.000000 ± 0.000000, best_reward: 1834.000000 ± 0.000000 in #117\n"
     ]
    },
    {
     "name": "stderr",
     "output_type": "stream",
     "text": [
      "Epoch #796: 1025it [00:02, 345.93it/s, env_step=815104, len=14, n/ep=6, n/st=64, player_1/loss=391.055, player_2/loss=1251.283, rew=274.00]\n"
     ]
    },
    {
     "name": "stdout",
     "output_type": "stream",
     "text": [
      "Epoch #796: test_reward: 180.000000 ± 0.000000, best_reward: 1834.000000 ± 0.000000 in #117\n"
     ]
    },
    {
     "name": "stderr",
     "output_type": "stream",
     "text": [
      "Epoch #797: 1025it [00:02, 342.28it/s, env_step=816128, len=18, n/ep=2, n/st=64, player_1/loss=250.368, player_2/loss=496.211, rew=449.00]\n"
     ]
    },
    {
     "name": "stdout",
     "output_type": "stream",
     "text": [
      "Epoch #797: test_reward: 130.000000 ± 0.000000, best_reward: 1834.000000 ± 0.000000 in #117\n"
     ]
    },
    {
     "name": "stderr",
     "output_type": "stream",
     "text": [
      "Epoch #798: 1025it [00:02, 343.91it/s, env_step=817152, len=38, n/ep=1, n/st=64, player_1/loss=361.594, player_2/loss=78.069, rew=1480.00]\n"
     ]
    },
    {
     "name": "stdout",
     "output_type": "stream",
     "text": [
      "Epoch #798: test_reward: 754.000000 ± 0.000000, best_reward: 1834.000000 ± 0.000000 in #117\n"
     ]
    },
    {
     "name": "stderr",
     "output_type": "stream",
     "text": [
      "Epoch #799: 1025it [00:02, 344.48it/s, env_step=818176, len=15, n/ep=4, n/st=64, player_1/loss=438.862, player_2/loss=563.080, rew=263.50]\n"
     ]
    },
    {
     "name": "stdout",
     "output_type": "stream",
     "text": [
      "Epoch #799: test_reward: 130.000000 ± 0.000000, best_reward: 1834.000000 ± 0.000000 in #117\n"
     ]
    },
    {
     "name": "stderr",
     "output_type": "stream",
     "text": [
      "Epoch #800: 1025it [00:02, 346.29it/s, env_step=819200, len=19, n/ep=2, n/st=64, player_1/loss=293.984, player_2/loss=440.222, rew=478.00]\n"
     ]
    },
    {
     "name": "stdout",
     "output_type": "stream",
     "text": [
      "Epoch #800: test_reward: 238.000000 ± 0.000000, best_reward: 1834.000000 ± 0.000000 in #117\n"
     ]
    },
    {
     "name": "stderr",
     "output_type": "stream",
     "text": [
      "Epoch #801: 1025it [00:02, 344.76it/s, env_step=820224, len=25, n/ep=3, n/st=64, player_1/loss=465.207, player_2/loss=499.800, rew=725.33]\n"
     ]
    },
    {
     "name": "stdout",
     "output_type": "stream",
     "text": [
      "Epoch #801: test_reward: 418.000000 ± 0.000000, best_reward: 1834.000000 ± 0.000000 in #117\n"
     ]
    },
    {
     "name": "stderr",
     "output_type": "stream",
     "text": [
      "Epoch #802: 1025it [00:02, 344.17it/s, env_step=821248, len=26, n/ep=2, n/st=64, player_1/loss=485.832, player_2/loss=655.409, rew=701.00]\n"
     ]
    },
    {
     "name": "stdout",
     "output_type": "stream",
     "text": [
      "Epoch #802: test_reward: 754.000000 ± 0.000000, best_reward: 1834.000000 ± 0.000000 in #117\n"
     ]
    },
    {
     "name": "stderr",
     "output_type": "stream",
     "text": [
      "Epoch #803: 1025it [00:02, 345.35it/s, env_step=822272, len=14, n/ep=5, n/st=64, player_1/loss=286.312, player_2/loss=386.939, rew=234.00]\n"
     ]
    },
    {
     "name": "stdout",
     "output_type": "stream",
     "text": [
      "Epoch #803: test_reward: 1480.000000 ± 0.000000, best_reward: 1834.000000 ± 0.000000 in #117\n"
     ]
    },
    {
     "name": "stderr",
     "output_type": "stream",
     "text": [
      "Epoch #804: 1025it [00:02, 343.32it/s, env_step=823296, len=26, n/ep=3, n/st=64, player_1/loss=558.539, player_2/loss=360.106, rew=748.67]\n"
     ]
    },
    {
     "name": "stdout",
     "output_type": "stream",
     "text": [
      "Epoch #804: test_reward: 270.000000 ± 0.000000, best_reward: 1834.000000 ± 0.000000 in #117\n"
     ]
    },
    {
     "name": "stderr",
     "output_type": "stream",
     "text": [
      "Epoch #805: 1025it [00:02, 344.40it/s, env_step=824320, len=22, n/ep=3, n/st=64, player_1/loss=225.427, player_2/loss=283.491, rew=522.00]\n"
     ]
    },
    {
     "name": "stdout",
     "output_type": "stream",
     "text": [
      "Epoch #805: test_reward: 418.000000 ± 0.000000, best_reward: 1834.000000 ± 0.000000 in #117\n"
     ]
    },
    {
     "name": "stderr",
     "output_type": "stream",
     "text": [
      "Epoch #806: 1025it [00:02, 344.16it/s, env_step=825344, len=42, n/ep=1, n/st=64, player_1/loss=585.511, player_2/loss=431.018, rew=1834.00]\n"
     ]
    },
    {
     "name": "stdout",
     "output_type": "stream",
     "text": [
      "Epoch #806: test_reward: 108.000000 ± 0.000000, best_reward: 1834.000000 ± 0.000000 in #117\n"
     ]
    },
    {
     "name": "stderr",
     "output_type": "stream",
     "text": [
      "Epoch #807: 1025it [00:02, 346.23it/s, env_step=826368, len=29, n/ep=2, n/st=64, player_1/loss=381.876, player_2/loss=160.538, rew=970.00]\n"
     ]
    },
    {
     "name": "stdout",
     "output_type": "stream",
     "text": [
      "Epoch #807: test_reward: 928.000000 ± 0.000000, best_reward: 1834.000000 ± 0.000000 in #117\n"
     ]
    },
    {
     "name": "stderr",
     "output_type": "stream",
     "text": [
      "Epoch #808: 1025it [00:02, 344.64it/s, env_step=827392, len=28, n/ep=3, n/st=64, player_1/loss=352.487, player_2/loss=572.726, rew=916.00]\n"
     ]
    },
    {
     "name": "stdout",
     "output_type": "stream",
     "text": [
      "Epoch #808: test_reward: 1558.000000 ± 0.000000, best_reward: 1834.000000 ± 0.000000 in #117\n"
     ]
    },
    {
     "name": "stderr",
     "output_type": "stream",
     "text": [
      "Epoch #809: 1025it [00:02, 344.15it/s, env_step=828416, len=22, n/ep=3, n/st=64, player_1/loss=223.798, player_2/loss=276.590, rew=558.00]\n"
     ]
    },
    {
     "name": "stdout",
     "output_type": "stream",
     "text": [
      "Epoch #809: test_reward: 810.000000 ± 0.000000, best_reward: 1834.000000 ± 0.000000 in #117\n"
     ]
    },
    {
     "name": "stderr",
     "output_type": "stream",
     "text": [
      "Epoch #810: 1025it [00:02, 345.01it/s, env_step=829440, len=34, n/ep=2, n/st=64, player_1/loss=279.489, player_2/loss=469.169, rew=1192.00]\n"
     ]
    },
    {
     "name": "stdout",
     "output_type": "stream",
     "text": [
      "Epoch #810: test_reward: 990.000000 ± 0.000000, best_reward: 1834.000000 ± 0.000000 in #117\n"
     ]
    },
    {
     "name": "stderr",
     "output_type": "stream",
     "text": [
      "Epoch #811: 1025it [00:02, 343.45it/s, env_step=830464, len=42, n/ep=2, n/st=64, player_1/loss=394.875, player_2/loss=536.309, rew=1834.00]\n"
     ]
    },
    {
     "name": "stdout",
     "output_type": "stream",
     "text": [
      "Epoch #811: test_reward: 1054.000000 ± 0.000000, best_reward: 1834.000000 ± 0.000000 in #117\n"
     ]
    },
    {
     "name": "stderr",
     "output_type": "stream",
     "text": [
      "Epoch #812: 1025it [00:02, 345.50it/s, env_step=831488, len=36, n/ep=2, n/st=64, player_1/loss=212.566, player_2/loss=186.709, rew=1339.00]\n"
     ]
    },
    {
     "name": "stdout",
     "output_type": "stream",
     "text": [
      "Epoch #812: test_reward: 1054.000000 ± 0.000000, best_reward: 1834.000000 ± 0.000000 in #117\n"
     ]
    },
    {
     "name": "stderr",
     "output_type": "stream",
     "text": [
      "Epoch #813: 1025it [00:02, 345.64it/s, env_step=832512, len=28, n/ep=2, n/st=64, player_1/loss=269.559, player_2/loss=205.042, rew=811.00]\n"
     ]
    },
    {
     "name": "stdout",
     "output_type": "stream",
     "text": [
      "Epoch #813: test_reward: 928.000000 ± 0.000000, best_reward: 1834.000000 ± 0.000000 in #117\n"
     ]
    },
    {
     "name": "stderr",
     "output_type": "stream",
     "text": [
      "Epoch #814: 1025it [00:02, 344.39it/s, env_step=833536, len=36, n/ep=2, n/st=64, player_1/loss=312.827, player_2/loss=60.316, rew=1369.00]\n"
     ]
    },
    {
     "name": "stdout",
     "output_type": "stream",
     "text": [
      "Epoch #814: test_reward: 1188.000000 ± 0.000000, best_reward: 1834.000000 ± 0.000000 in #117\n"
     ]
    },
    {
     "name": "stderr",
     "output_type": "stream",
     "text": [
      "Epoch #815: 1025it [00:02, 343.25it/s, env_step=834560, len=34, n/ep=1, n/st=64, player_1/loss=634.764, player_2/loss=297.734, rew=1188.00]\n"
     ]
    },
    {
     "name": "stdout",
     "output_type": "stream",
     "text": [
      "Epoch #815: test_reward: 1834.000000 ± 0.000000, best_reward: 1834.000000 ± 0.000000 in #117\n"
     ]
    },
    {
     "name": "stderr",
     "output_type": "stream",
     "text": [
      "Epoch #816: 1025it [00:03, 338.48it/s, env_step=835584, len=37, n/ep=2, n/st=64, player_1/loss=122.244, player_2/loss=87.008, rew=1442.00]\n"
     ]
    },
    {
     "name": "stdout",
     "output_type": "stream",
     "text": [
      "Epoch #816: test_reward: 1120.000000 ± 0.000000, best_reward: 1834.000000 ± 0.000000 in #117\n"
     ]
    },
    {
     "name": "stderr",
     "output_type": "stream",
     "text": [
      "Epoch #817: 1025it [00:02, 343.83it/s, env_step=836608, len=33, n/ep=2, n/st=64, player_1/loss=294.397, player_2/loss=865.536, rew=1121.00]\n"
     ]
    },
    {
     "name": "stdout",
     "output_type": "stream",
     "text": [
      "Epoch #817: test_reward: 928.000000 ± 0.000000, best_reward: 1834.000000 ± 0.000000 in #117\n"
     ]
    },
    {
     "name": "stderr",
     "output_type": "stream",
     "text": [
      "Epoch #818: 1025it [00:02, 342.37it/s, env_step=837632, len=35, n/ep=2, n/st=64, player_1/loss=659.924, player_2/loss=91.709, rew=1262.00]\n"
     ]
    },
    {
     "name": "stdout",
     "output_type": "stream",
     "text": [
      "Epoch #818: test_reward: 1404.000000 ± 0.000000, best_reward: 1834.000000 ± 0.000000 in #117\n"
     ]
    },
    {
     "name": "stderr",
     "output_type": "stream",
     "text": [
      "Epoch #819: 1025it [00:02, 344.21it/s, env_step=838656, len=20, n/ep=3, n/st=64, player_1/loss=460.986, player_2/loss=193.016, rew=499.33]\n"
     ]
    },
    {
     "name": "stdout",
     "output_type": "stream",
     "text": [
      "Epoch #819: test_reward: 340.000000 ± 0.000000, best_reward: 1834.000000 ± 0.000000 in #117\n"
     ]
    },
    {
     "name": "stderr",
     "output_type": "stream",
     "text": [
      "Epoch #820: 1025it [00:02, 345.18it/s, env_step=839680, len=32, n/ep=2, n/st=64, player_1/loss=469.015, player_2/loss=682.309, rew=1090.00]\n"
     ]
    },
    {
     "name": "stdout",
     "output_type": "stream",
     "text": [
      "Epoch #820: test_reward: 1834.000000 ± 0.000000, best_reward: 1834.000000 ± 0.000000 in #117\n"
     ]
    },
    {
     "name": "stderr",
     "output_type": "stream",
     "text": [
      "Epoch #821: 1025it [00:02, 344.17it/s, env_step=840704, len=35, n/ep=2, n/st=64, player_1/loss=603.875, player_2/loss=106.679, rew=1262.00]\n"
     ]
    },
    {
     "name": "stdout",
     "output_type": "stream",
     "text": [
      "Epoch #821: test_reward: 180.000000 ± 0.000000, best_reward: 1834.000000 ± 0.000000 in #117\n"
     ]
    },
    {
     "name": "stderr",
     "output_type": "stream",
     "text": [
      "Epoch #822: 1025it [00:02, 345.00it/s, env_step=841728, len=30, n/ep=2, n/st=64, player_1/loss=319.105, player_2/loss=135.509, rew=959.00]\n"
     ]
    },
    {
     "name": "stdout",
     "output_type": "stream",
     "text": [
      "Epoch #822: test_reward: 700.000000 ± 0.000000, best_reward: 1834.000000 ± 0.000000 in #117\n"
     ]
    },
    {
     "name": "stderr",
     "output_type": "stream",
     "text": [
      "Epoch #823: 1025it [00:02, 344.43it/s, env_step=842752, len=38, n/ep=2, n/st=64, player_1/loss=515.134, player_2/loss=453.848, rew=1546.00]\n"
     ]
    },
    {
     "name": "stdout",
     "output_type": "stream",
     "text": [
      "Epoch #823: test_reward: 1480.000000 ± 0.000000, best_reward: 1834.000000 ± 0.000000 in #117\n"
     ]
    },
    {
     "name": "stderr",
     "output_type": "stream",
     "text": [
      "Epoch #824: 1025it [00:02, 341.79it/s, env_step=843776, len=18, n/ep=3, n/st=64, player_1/loss=183.412, player_2/loss=711.429, rew=358.67]\n"
     ]
    },
    {
     "name": "stdout",
     "output_type": "stream",
     "text": [
      "Epoch #824: test_reward: 378.000000 ± 0.000000, best_reward: 1834.000000 ± 0.000000 in #117\n"
     ]
    },
    {
     "name": "stderr",
     "output_type": "stream",
     "text": [
      "Epoch #825: 1025it [00:02, 344.97it/s, env_step=844800, len=27, n/ep=2, n/st=64, player_1/loss=774.852, player_2/loss=96.080, rew=755.00]\n"
     ]
    },
    {
     "name": "stdout",
     "output_type": "stream",
     "text": [
      "Epoch #825: test_reward: 180.000000 ± 0.000000, best_reward: 1834.000000 ± 0.000000 in #117\n"
     ]
    },
    {
     "name": "stderr",
     "output_type": "stream",
     "text": [
      "Epoch #826: 1025it [00:02, 344.12it/s, env_step=845824, len=38, n/ep=2, n/st=64, player_1/loss=507.952, player_2/loss=324.767, rew=1480.00]\n"
     ]
    },
    {
     "name": "stdout",
     "output_type": "stream",
     "text": [
      "Epoch #826: test_reward: 1480.000000 ± 0.000000, best_reward: 1834.000000 ± 0.000000 in #117\n"
     ]
    },
    {
     "name": "stderr",
     "output_type": "stream",
     "text": [
      "Epoch #827: 1025it [00:02, 344.78it/s, env_step=846848, len=17, n/ep=3, n/st=64, player_1/loss=342.182, player_2/loss=275.917, rew=352.67]\n"
     ]
    },
    {
     "name": "stdout",
     "output_type": "stream",
     "text": [
      "Epoch #827: test_reward: 810.000000 ± 0.000000, best_reward: 1834.000000 ± 0.000000 in #117\n"
     ]
    },
    {
     "name": "stderr",
     "output_type": "stream",
     "text": [
      "Epoch #828: 1025it [00:03, 340.50it/s, env_step=847872, len=33, n/ep=2, n/st=64, player_1/loss=232.198, player_2/loss=203.989, rew=1154.00]\n"
     ]
    },
    {
     "name": "stdout",
     "output_type": "stream",
     "text": [
      "Epoch #828: test_reward: 1054.000000 ± 0.000000, best_reward: 1834.000000 ± 0.000000 in #117\n"
     ]
    },
    {
     "name": "stderr",
     "output_type": "stream",
     "text": [
      "Epoch #829: 1025it [00:02, 344.08it/s, env_step=848896, len=15, n/ep=4, n/st=64, player_1/loss=727.385, player_2/loss=473.994, rew=248.00]\n"
     ]
    },
    {
     "name": "stdout",
     "output_type": "stream",
     "text": [
      "Epoch #829: test_reward: 238.000000 ± 0.000000, best_reward: 1834.000000 ± 0.000000 in #117\n"
     ]
    },
    {
     "name": "stderr",
     "output_type": "stream",
     "text": [
      "Epoch #830: 1025it [00:02, 344.92it/s, env_step=849920, len=21, n/ep=2, n/st=64, player_1/loss=892.121, player_2/loss=364.969, rew=494.00]\n"
     ]
    },
    {
     "name": "stdout",
     "output_type": "stream",
     "text": [
      "Epoch #830: test_reward: 648.000000 ± 0.000000, best_reward: 1834.000000 ± 0.000000 in #117\n"
     ]
    },
    {
     "name": "stderr",
     "output_type": "stream",
     "text": [
      "Epoch #831: 1025it [00:02, 343.14it/s, env_step=850944, len=15, n/ep=5, n/st=64, player_1/loss=434.432, player_2/loss=261.850, rew=242.40]\n"
     ]
    },
    {
     "name": "stdout",
     "output_type": "stream",
     "text": [
      "Epoch #831: test_reward: 180.000000 ± 0.000000, best_reward: 1834.000000 ± 0.000000 in #117\n"
     ]
    },
    {
     "name": "stderr",
     "output_type": "stream",
     "text": [
      "Epoch #832: 1025it [00:02, 344.07it/s, env_step=851968, len=28, n/ep=2, n/st=64, player_1/loss=371.803, player_2/loss=354.840, rew=971.00]\n"
     ]
    },
    {
     "name": "stdout",
     "output_type": "stream",
     "text": [
      "Epoch #832: test_reward: 238.000000 ± 0.000000, best_reward: 1834.000000 ± 0.000000 in #117\n"
     ]
    },
    {
     "name": "stderr",
     "output_type": "stream",
     "text": [
      "Epoch #833: 1025it [00:02, 342.21it/s, env_step=852992, len=17, n/ep=4, n/st=64, player_1/loss=584.446, player_2/loss=150.495, rew=319.00]\n"
     ]
    },
    {
     "name": "stdout",
     "output_type": "stream",
     "text": [
      "Epoch #833: test_reward: 460.000000 ± 0.000000, best_reward: 1834.000000 ± 0.000000 in #117\n"
     ]
    },
    {
     "name": "stderr",
     "output_type": "stream",
     "text": [
      "Epoch #834: 1025it [00:03, 341.18it/s, env_step=854016, len=22, n/ep=3, n/st=64, player_1/loss=726.530, player_2/loss=177.117, rew=547.33]\n"
     ]
    },
    {
     "name": "stdout",
     "output_type": "stream",
     "text": [
      "Epoch #834: test_reward: 700.000000 ± 0.000000, best_reward: 1834.000000 ± 0.000000 in #117\n"
     ]
    },
    {
     "name": "stderr",
     "output_type": "stream",
     "text": [
      "Epoch #835: 1025it [00:02, 344.16it/s, env_step=855040, len=36, n/ep=2, n/st=64, player_1/loss=581.679, player_2/loss=245.442, rew=1346.00]\n"
     ]
    },
    {
     "name": "stdout",
     "output_type": "stream",
     "text": [
      "Epoch #835: test_reward: 990.000000 ± 0.000000, best_reward: 1834.000000 ± 0.000000 in #117\n"
     ]
    },
    {
     "name": "stderr",
     "output_type": "stream",
     "text": [
      "Epoch #836: 1025it [00:02, 345.37it/s, env_step=856064, len=39, n/ep=1, n/st=64, player_1/loss=836.955, player_2/loss=309.124, rew=1558.00]\n"
     ]
    },
    {
     "name": "stdout",
     "output_type": "stream",
     "text": [
      "Epoch #836: test_reward: 1120.000000 ± 0.000000, best_reward: 1834.000000 ± 0.000000 in #117\n"
     ]
    },
    {
     "name": "stderr",
     "output_type": "stream",
     "text": [
      "Epoch #837: 1025it [00:02, 341.95it/s, env_step=857088, len=34, n/ep=2, n/st=64, player_1/loss=614.784, player_2/loss=182.080, rew=1253.00]\n"
     ]
    },
    {
     "name": "stdout",
     "output_type": "stream",
     "text": [
      "Epoch #837: test_reward: 1834.000000 ± 0.000000, best_reward: 1834.000000 ± 0.000000 in #117\n"
     ]
    },
    {
     "name": "stderr",
     "output_type": "stream",
     "text": [
      "Epoch #838: 1025it [00:02, 341.91it/s, env_step=858112, len=29, n/ep=2, n/st=64, player_1/loss=112.255, player_2/loss=56.840, rew=893.00]\n"
     ]
    },
    {
     "name": "stdout",
     "output_type": "stream",
     "text": [
      "Epoch #838: test_reward: 88.000000 ± 0.000000, best_reward: 1834.000000 ± 0.000000 in #117\n"
     ]
    },
    {
     "name": "stderr",
     "output_type": "stream",
     "text": [
      "Epoch #839: 1025it [00:02, 344.42it/s, env_step=859136, len=26, n/ep=2, n/st=64, player_1/loss=589.775, player_2/loss=252.216, rew=729.00]\n"
     ]
    },
    {
     "name": "stdout",
     "output_type": "stream",
     "text": [
      "Epoch #839: test_reward: 754.000000 ± 0.000000, best_reward: 1834.000000 ± 0.000000 in #117\n"
     ]
    },
    {
     "name": "stderr",
     "output_type": "stream",
     "text": [
      "Epoch #840: 1025it [00:02, 342.95it/s, env_step=860160, len=22, n/ep=3, n/st=64, player_1/loss=304.179, player_2/loss=72.377, rew=690.67]\n"
     ]
    },
    {
     "name": "stdout",
     "output_type": "stream",
     "text": [
      "Epoch #840: test_reward: 304.000000 ± 0.000000, best_reward: 1834.000000 ± 0.000000 in #117\n"
     ]
    },
    {
     "name": "stderr",
     "output_type": "stream",
     "text": [
      "Epoch #841: 1025it [00:02, 343.38it/s, env_step=861184, len=22, n/ep=3, n/st=64, player_1/loss=359.846, player_2/loss=456.993, rew=512.67]\n"
     ]
    },
    {
     "name": "stdout",
     "output_type": "stream",
     "text": [
      "Epoch #841: test_reward: 460.000000 ± 0.000000, best_reward: 1834.000000 ± 0.000000 in #117\n"
     ]
    },
    {
     "name": "stderr",
     "output_type": "stream",
     "text": [
      "Epoch #842: 1025it [00:02, 344.16it/s, env_step=862208, len=28, n/ep=2, n/st=64, player_1/loss=451.130, player_2/loss=317.705, rew=845.00]\n"
     ]
    },
    {
     "name": "stdout",
     "output_type": "stream",
     "text": [
      "Epoch #842: test_reward: 54.000000 ± 0.000000, best_reward: 1834.000000 ± 0.000000 in #117\n"
     ]
    },
    {
     "name": "stderr",
     "output_type": "stream",
     "text": [
      "Epoch #843: 1025it [00:02, 343.91it/s, env_step=863232, len=24, n/ep=2, n/st=64, player_1/loss=712.703, player_2/loss=118.764, rew=623.00]\n"
     ]
    },
    {
     "name": "stdout",
     "output_type": "stream",
     "text": [
      "Epoch #843: test_reward: 304.000000 ± 0.000000, best_reward: 1834.000000 ± 0.000000 in #117\n"
     ]
    },
    {
     "name": "stderr",
     "output_type": "stream",
     "text": [
      "Epoch #844: 1025it [00:02, 344.22it/s, env_step=864256, len=29, n/ep=2, n/st=64, player_1/loss=470.945, player_2/loss=135.239, rew=904.00]\n"
     ]
    },
    {
     "name": "stdout",
     "output_type": "stream",
     "text": [
      "Epoch #844: test_reward: 154.000000 ± 0.000000, best_reward: 1834.000000 ± 0.000000 in #117\n"
     ]
    },
    {
     "name": "stderr",
     "output_type": "stream",
     "text": [
      "Epoch #845: 1025it [00:02, 344.76it/s, env_step=865280, len=27, n/ep=2, n/st=64, player_1/loss=126.944, player_2/loss=343.803, rew=758.00]\n"
     ]
    },
    {
     "name": "stdout",
     "output_type": "stream",
     "text": [
      "Epoch #845: test_reward: 1120.000000 ± 0.000000, best_reward: 1834.000000 ± 0.000000 in #117\n"
     ]
    },
    {
     "name": "stderr",
     "output_type": "stream",
     "text": [
      "Epoch #846: 1025it [00:02, 343.29it/s, env_step=866304, len=25, n/ep=3, n/st=64, player_1/loss=378.177, player_2/loss=196.675, rew=762.67]\n"
     ]
    },
    {
     "name": "stdout",
     "output_type": "stream",
     "text": [
      "Epoch #846: test_reward: 1638.000000 ± 0.000000, best_reward: 1834.000000 ± 0.000000 in #117\n"
     ]
    },
    {
     "name": "stderr",
     "output_type": "stream",
     "text": [
      "Epoch #847: 1025it [00:02, 342.83it/s, env_step=867328, len=22, n/ep=3, n/st=64, player_1/loss=395.800, player_2/loss=854.153, rew=572.00]\n"
     ]
    },
    {
     "name": "stdout",
     "output_type": "stream",
     "text": [
      "Epoch #847: test_reward: 304.000000 ± 0.000000, best_reward: 1834.000000 ± 0.000000 in #117\n"
     ]
    },
    {
     "name": "stderr",
     "output_type": "stream",
     "text": [
      "Epoch #848: 1025it [00:02, 344.69it/s, env_step=868352, len=32, n/ep=2, n/st=64, player_1/loss=389.675, player_2/loss=528.048, rew=1089.00]\n"
     ]
    },
    {
     "name": "stdout",
     "output_type": "stream",
     "text": [
      "Epoch #848: test_reward: 130.000000 ± 0.000000, best_reward: 1834.000000 ± 0.000000 in #117\n"
     ]
    },
    {
     "name": "stderr",
     "output_type": "stream",
     "text": [
      "Epoch #849: 1025it [00:02, 343.39it/s, env_step=869376, len=29, n/ep=2, n/st=64, player_1/loss=549.584, player_2/loss=260.341, rew=917.00]\n"
     ]
    },
    {
     "name": "stdout",
     "output_type": "stream",
     "text": [
      "Epoch #849: test_reward: 1120.000000 ± 0.000000, best_reward: 1834.000000 ± 0.000000 in #117\n"
     ]
    },
    {
     "name": "stderr",
     "output_type": "stream",
     "text": [
      "Epoch #850: 1025it [00:02, 343.18it/s, env_step=870400, len=42, n/ep=1, n/st=64, player_1/loss=329.233, player_2/loss=104.687, rew=1834.00]\n"
     ]
    },
    {
     "name": "stdout",
     "output_type": "stream",
     "text": [
      "Epoch #850: test_reward: 1120.000000 ± 0.000000, best_reward: 1834.000000 ± 0.000000 in #117\n"
     ]
    },
    {
     "name": "stderr",
     "output_type": "stream",
     "text": [
      "Epoch #851: 1025it [00:02, 345.33it/s, env_step=871424, len=9, n/ep=6, n/st=64, player_1/loss=284.177, player_2/loss=200.787, rew=102.67]\n"
     ]
    },
    {
     "name": "stdout",
     "output_type": "stream",
     "text": [
      "Epoch #851: test_reward: 928.000000 ± 0.000000, best_reward: 1834.000000 ± 0.000000 in #117\n"
     ]
    },
    {
     "name": "stderr",
     "output_type": "stream",
     "text": [
      "Epoch #852: 1025it [00:02, 343.95it/s, env_step=872448, len=10, n/ep=4, n/st=64, player_1/loss=723.533, player_2/loss=300.054, rew=121.00]\n"
     ]
    },
    {
     "name": "stdout",
     "output_type": "stream",
     "text": [
      "Epoch #852: test_reward: 54.000000 ± 0.000000, best_reward: 1834.000000 ± 0.000000 in #117\n"
     ]
    },
    {
     "name": "stderr",
     "output_type": "stream",
     "text": [
      "Epoch #853: 1025it [00:02, 344.07it/s, env_step=873472, len=16, n/ep=4, n/st=64, player_1/loss=296.818, player_2/loss=292.204, rew=275.00]\n"
     ]
    },
    {
     "name": "stdout",
     "output_type": "stream",
     "text": [
      "Epoch #853: test_reward: 180.000000 ± 0.000000, best_reward: 1834.000000 ± 0.000000 in #117\n"
     ]
    },
    {
     "name": "stderr",
     "output_type": "stream",
     "text": [
      "Epoch #854: 1025it [00:02, 344.61it/s, env_step=874496, len=26, n/ep=2, n/st=64, player_1/loss=502.824, player_2/loss=420.234, rew=729.00]\n"
     ]
    },
    {
     "name": "stdout",
     "output_type": "stream",
     "text": [
      "Epoch #854: test_reward: 990.000000 ± 0.000000, best_reward: 1834.000000 ± 0.000000 in #117\n"
     ]
    },
    {
     "name": "stderr",
     "output_type": "stream",
     "text": [
      "Epoch #855: 1025it [00:02, 343.13it/s, env_step=875520, len=28, n/ep=2, n/st=64, player_1/loss=232.524, player_2/loss=315.350, rew=891.00]\n"
     ]
    },
    {
     "name": "stdout",
     "output_type": "stream",
     "text": [
      "Epoch #855: test_reward: 378.000000 ± 0.000000, best_reward: 1834.000000 ± 0.000000 in #117\n"
     ]
    },
    {
     "name": "stderr",
     "output_type": "stream",
     "text": [
      "Epoch #856: 1025it [00:02, 342.38it/s, env_step=876544, len=26, n/ep=2, n/st=64, player_1/loss=305.702, player_2/loss=483.809, rew=729.00]\n"
     ]
    },
    {
     "name": "stdout",
     "output_type": "stream",
     "text": [
      "Epoch #856: test_reward: 1054.000000 ± 0.000000, best_reward: 1834.000000 ± 0.000000 in #117\n"
     ]
    },
    {
     "name": "stderr",
     "output_type": "stream",
     "text": [
      "Epoch #857: 1025it [00:02, 344.36it/s, env_step=877568, len=11, n/ep=6, n/st=64, player_1/loss=453.318, player_2/loss=323.738, rew=153.00]\n"
     ]
    },
    {
     "name": "stdout",
     "output_type": "stream",
     "text": [
      "Epoch #857: test_reward: 130.000000 ± 0.000000, best_reward: 1834.000000 ± 0.000000 in #117\n"
     ]
    },
    {
     "name": "stderr",
     "output_type": "stream",
     "text": [
      "Epoch #858: 1025it [00:02, 345.67it/s, env_step=878592, len=34, n/ep=2, n/st=64, player_1/loss=330.724, player_2/loss=49.614, rew=1225.00]\n"
     ]
    },
    {
     "name": "stdout",
     "output_type": "stream",
     "text": [
      "Epoch #858: test_reward: 868.000000 ± 0.000000, best_reward: 1834.000000 ± 0.000000 in #117\n"
     ]
    },
    {
     "name": "stderr",
     "output_type": "stream",
     "text": [
      "Epoch #859: 1025it [00:02, 343.59it/s, env_step=879616, len=16, n/ep=4, n/st=64, player_1/loss=249.988, player_2/loss=355.972, rew=380.00]\n"
     ]
    },
    {
     "name": "stdout",
     "output_type": "stream",
     "text": [
      "Epoch #859: test_reward: 1258.000000 ± 0.000000, best_reward: 1834.000000 ± 0.000000 in #117\n"
     ]
    },
    {
     "name": "stderr",
     "output_type": "stream",
     "text": [
      "Epoch #860: 1025it [00:02, 343.38it/s, env_step=880640, len=17, n/ep=3, n/st=64, player_1/loss=270.257, player_2/loss=251.774, rew=480.67]\n"
     ]
    },
    {
     "name": "stdout",
     "output_type": "stream",
     "text": [
      "Epoch #860: test_reward: 1258.000000 ± 0.000000, best_reward: 1834.000000 ± 0.000000 in #117\n"
     ]
    },
    {
     "name": "stderr",
     "output_type": "stream",
     "text": [
      "Epoch #861: 1025it [00:02, 345.00it/s, env_step=881664, len=16, n/ep=4, n/st=64, player_1/loss=329.603, player_2/loss=252.939, rew=297.50]\n"
     ]
    },
    {
     "name": "stdout",
     "output_type": "stream",
     "text": [
      "Epoch #861: test_reward: 378.000000 ± 0.000000, best_reward: 1834.000000 ± 0.000000 in #117\n"
     ]
    },
    {
     "name": "stderr",
     "output_type": "stream",
     "text": [
      "Epoch #862: 1025it [00:02, 344.02it/s, env_step=882688, len=23, n/ep=3, n/st=64, player_1/loss=241.044, player_2/loss=311.742, rew=580.00]\n"
     ]
    },
    {
     "name": "stdout",
     "output_type": "stream",
     "text": [
      "Epoch #862: test_reward: 868.000000 ± 0.000000, best_reward: 1834.000000 ± 0.000000 in #117\n"
     ]
    },
    {
     "name": "stderr",
     "output_type": "stream",
     "text": [
      "Epoch #863: 1025it [00:02, 345.11it/s, env_step=883712, len=21, n/ep=3, n/st=64, player_1/loss=220.173, player_2/loss=274.400, rew=528.67]\n"
     ]
    },
    {
     "name": "stdout",
     "output_type": "stream",
     "text": [
      "Epoch #863: test_reward: 1054.000000 ± 0.000000, best_reward: 1834.000000 ± 0.000000 in #117\n"
     ]
    },
    {
     "name": "stderr",
     "output_type": "stream",
     "text": [
      "Epoch #864: 1025it [00:02, 344.55it/s, env_step=884736, len=26, n/ep=2, n/st=64, player_1/loss=333.995, player_2/loss=326.861, rew=709.00]\n"
     ]
    },
    {
     "name": "stdout",
     "output_type": "stream",
     "text": [
      "Epoch #864: test_reward: 1558.000000 ± 0.000000, best_reward: 1834.000000 ± 0.000000 in #117\n"
     ]
    },
    {
     "name": "stderr",
     "output_type": "stream",
     "text": [
      "Epoch #865: 1025it [00:02, 344.31it/s, env_step=885760, len=16, n/ep=5, n/st=64, player_1/loss=255.491, player_2/loss=609.886, rew=436.40]\n"
     ]
    },
    {
     "name": "stdout",
     "output_type": "stream",
     "text": [
      "Epoch #865: test_reward: 88.000000 ± 0.000000, best_reward: 1834.000000 ± 0.000000 in #117\n"
     ]
    },
    {
     "name": "stderr",
     "output_type": "stream",
     "text": [
      "Epoch #866: 1025it [00:02, 344.57it/s, env_step=886784, len=31, n/ep=2, n/st=64, player_1/loss=452.511, player_2/loss=375.323, rew=1024.00]\n"
     ]
    },
    {
     "name": "stdout",
     "output_type": "stream",
     "text": [
      "Epoch #866: test_reward: 418.000000 ± 0.000000, best_reward: 1834.000000 ± 0.000000 in #117\n"
     ]
    },
    {
     "name": "stderr",
     "output_type": "stream",
     "text": [
      "Epoch #867: 1025it [00:02, 343.96it/s, env_step=887808, len=38, n/ep=2, n/st=64, player_1/loss=451.271, player_2/loss=184.853, rew=1481.00]\n"
     ]
    },
    {
     "name": "stdout",
     "output_type": "stream",
     "text": [
      "Epoch #867: test_reward: 928.000000 ± 0.000000, best_reward: 1834.000000 ± 0.000000 in #117\n"
     ]
    },
    {
     "name": "stderr",
     "output_type": "stream",
     "text": [
      "Epoch #868: 1025it [00:02, 342.88it/s, env_step=888832, len=25, n/ep=3, n/st=64, player_1/loss=158.146, player_2/loss=184.185, rew=746.67]\n"
     ]
    },
    {
     "name": "stdout",
     "output_type": "stream",
     "text": [
      "Epoch #868: test_reward: 1404.000000 ± 0.000000, best_reward: 1834.000000 ± 0.000000 in #117\n"
     ]
    },
    {
     "name": "stderr",
     "output_type": "stream",
     "text": [
      "Epoch #869: 1025it [00:02, 344.16it/s, env_step=889856, len=12, n/ep=5, n/st=64, player_1/loss=283.031, player_2/loss=1224.665, rew=168.00]\n"
     ]
    },
    {
     "name": "stdout",
     "output_type": "stream",
     "text": [
      "Epoch #869: test_reward: 54.000000 ± 0.000000, best_reward: 1834.000000 ± 0.000000 in #117\n"
     ]
    },
    {
     "name": "stderr",
     "output_type": "stream",
     "text": [
      "Epoch #870: 1025it [00:02, 344.12it/s, env_step=890880, len=21, n/ep=3, n/st=64, player_1/loss=432.510, player_2/loss=266.358, rew=470.67]\n"
     ]
    },
    {
     "name": "stdout",
     "output_type": "stream",
     "text": [
      "Epoch #870: test_reward: 180.000000 ± 0.000000, best_reward: 1834.000000 ± 0.000000 in #117\n"
     ]
    },
    {
     "name": "stderr",
     "output_type": "stream",
     "text": [
      "Epoch #871: 1025it [00:02, 344.59it/s, env_step=891904, len=26, n/ep=3, n/st=64, player_1/loss=175.810, player_2/loss=460.366, rew=825.33]\n"
     ]
    },
    {
     "name": "stdout",
     "output_type": "stream",
     "text": [
      "Epoch #871: test_reward: 1558.000000 ± 0.000000, best_reward: 1834.000000 ± 0.000000 in #117\n"
     ]
    },
    {
     "name": "stderr",
     "output_type": "stream",
     "text": [
      "Epoch #872: 1025it [00:02, 343.50it/s, env_step=892928, len=25, n/ep=2, n/st=64, player_1/loss=160.415, player_2/loss=322.940, rew=844.00]\n"
     ]
    },
    {
     "name": "stdout",
     "output_type": "stream",
     "text": [
      "Epoch #872: test_reward: 1480.000000 ± 0.000000, best_reward: 1834.000000 ± 0.000000 in #117\n"
     ]
    },
    {
     "name": "stderr",
     "output_type": "stream",
     "text": [
      "Epoch #873: 1025it [00:02, 343.96it/s, env_step=893952, len=34, n/ep=1, n/st=64, player_1/loss=189.812, player_2/loss=340.793, rew=1188.00]\n"
     ]
    },
    {
     "name": "stdout",
     "output_type": "stream",
     "text": [
      "Epoch #873: test_reward: 1834.000000 ± 0.000000, best_reward: 1834.000000 ± 0.000000 in #117\n"
     ]
    },
    {
     "name": "stderr",
     "output_type": "stream",
     "text": [
      "Epoch #874: 1025it [00:02, 344.09it/s, env_step=894976, len=22, n/ep=3, n/st=64, player_1/loss=240.333, player_2/loss=290.742, rew=582.00]\n"
     ]
    },
    {
     "name": "stdout",
     "output_type": "stream",
     "text": [
      "Epoch #874: test_reward: 130.000000 ± 0.000000, best_reward: 1834.000000 ± 0.000000 in #117\n"
     ]
    },
    {
     "name": "stderr",
     "output_type": "stream",
     "text": [
      "Epoch #875: 1025it [00:02, 346.11it/s, env_step=896000, len=33, n/ep=1, n/st=64, player_1/loss=141.261, player_2/loss=370.926, rew=1120.00]\n"
     ]
    },
    {
     "name": "stdout",
     "output_type": "stream",
     "text": [
      "Epoch #875: test_reward: 130.000000 ± 0.000000, best_reward: 1834.000000 ± 0.000000 in #117\n"
     ]
    },
    {
     "name": "stderr",
     "output_type": "stream",
     "text": [
      "Epoch #876: 1025it [00:02, 343.09it/s, env_step=897024, len=25, n/ep=2, n/st=64, player_1/loss=156.649, player_2/loss=209.814, rew=676.00]\n"
     ]
    },
    {
     "name": "stdout",
     "output_type": "stream",
     "text": [
      "Epoch #876: test_reward: 54.000000 ± 0.000000, best_reward: 1834.000000 ± 0.000000 in #117\n"
     ]
    },
    {
     "name": "stderr",
     "output_type": "stream",
     "text": [
      "Epoch #877: 1025it [00:02, 345.20it/s, env_step=898048, len=16, n/ep=3, n/st=64, player_1/loss=231.208, player_2/loss=112.049, rew=372.67]\n"
     ]
    },
    {
     "name": "stdout",
     "output_type": "stream",
     "text": [
      "Epoch #877: test_reward: 180.000000 ± 0.000000, best_reward: 1834.000000 ± 0.000000 in #117\n"
     ]
    },
    {
     "name": "stderr",
     "output_type": "stream",
     "text": [
      "Epoch #878: 1025it [00:02, 344.18it/s, env_step=899072, len=25, n/ep=2, n/st=64, player_1/loss=261.549, player_2/loss=581.540, rew=652.00]\n"
     ]
    },
    {
     "name": "stdout",
     "output_type": "stream",
     "text": [
      "Epoch #878: test_reward: 754.000000 ± 0.000000, best_reward: 1834.000000 ± 0.000000 in #117\n"
     ]
    },
    {
     "name": "stderr",
     "output_type": "stream",
     "text": [
      "Epoch #879: 1025it [00:02, 343.32it/s, env_step=900096, len=33, n/ep=2, n/st=64, player_1/loss=332.816, player_2/loss=305.849, rew=1166.00]\n"
     ]
    },
    {
     "name": "stdout",
     "output_type": "stream",
     "text": [
      "Epoch #879: test_reward: 1404.000000 ± 0.000000, best_reward: 1834.000000 ± 0.000000 in #117\n"
     ]
    },
    {
     "name": "stderr",
     "output_type": "stream",
     "text": [
      "Epoch #880: 1025it [00:02, 341.98it/s, env_step=901120, len=23, n/ep=3, n/st=64, player_1/loss=194.002, player_2/loss=269.828, rew=705.33]\n"
     ]
    },
    {
     "name": "stdout",
     "output_type": "stream",
     "text": [
      "Epoch #880: test_reward: 238.000000 ± 0.000000, best_reward: 1834.000000 ± 0.000000 in #117\n"
     ]
    },
    {
     "name": "stderr",
     "output_type": "stream",
     "text": [
      "Epoch #881: 1025it [00:02, 342.70it/s, env_step=902144, len=18, n/ep=3, n/st=64, player_1/loss=437.235, player_2/loss=548.446, rew=479.33]\n"
     ]
    },
    {
     "name": "stdout",
     "output_type": "stream",
     "text": [
      "Epoch #881: test_reward: 54.000000 ± 0.000000, best_reward: 1834.000000 ± 0.000000 in #117\n"
     ]
    },
    {
     "name": "stderr",
     "output_type": "stream",
     "text": [
      "Epoch #882: 1025it [00:02, 344.36it/s, env_step=903168, len=36, n/ep=1, n/st=64, player_1/loss=619.168, player_2/loss=180.326, rew=1330.00]\n"
     ]
    },
    {
     "name": "stdout",
     "output_type": "stream",
     "text": [
      "Epoch #882: test_reward: 1480.000000 ± 0.000000, best_reward: 1834.000000 ± 0.000000 in #117\n"
     ]
    },
    {
     "name": "stderr",
     "output_type": "stream",
     "text": [
      "Epoch #883: 1025it [00:02, 344.76it/s, env_step=904192, len=25, n/ep=3, n/st=64, player_1/loss=147.065, player_2/loss=427.982, rew=720.67]\n"
     ]
    },
    {
     "name": "stdout",
     "output_type": "stream",
     "text": [
      "Epoch #883: test_reward: 304.000000 ± 0.000000, best_reward: 1834.000000 ± 0.000000 in #117\n"
     ]
    },
    {
     "name": "stderr",
     "output_type": "stream",
     "text": [
      "Epoch #884: 1025it [00:02, 345.45it/s, env_step=905216, len=26, n/ep=3, n/st=64, player_1/loss=564.288, player_2/loss=398.602, rew=764.67]\n"
     ]
    },
    {
     "name": "stdout",
     "output_type": "stream",
     "text": [
      "Epoch #884: test_reward: 130.000000 ± 0.000000, best_reward: 1834.000000 ± 0.000000 in #117\n"
     ]
    },
    {
     "name": "stderr",
     "output_type": "stream",
     "text": [
      "Epoch #885: 1025it [00:02, 343.92it/s, env_step=906240, len=13, n/ep=5, n/st=64, player_1/loss=351.004, player_2/loss=751.989, rew=239.60]\n"
     ]
    },
    {
     "name": "stdout",
     "output_type": "stream",
     "text": [
      "Epoch #885: test_reward: 130.000000 ± 0.000000, best_reward: 1834.000000 ± 0.000000 in #117\n"
     ]
    },
    {
     "name": "stderr",
     "output_type": "stream",
     "text": [
      "Epoch #886: 1025it [00:02, 342.28it/s, env_step=907264, len=17, n/ep=4, n/st=64, player_1/loss=234.119, player_2/loss=718.671, rew=363.00]\n"
     ]
    },
    {
     "name": "stdout",
     "output_type": "stream",
     "text": [
      "Epoch #886: test_reward: 460.000000 ± 0.000000, best_reward: 1834.000000 ± 0.000000 in #117\n"
     ]
    },
    {
     "name": "stderr",
     "output_type": "stream",
     "text": [
      "Epoch #887: 1025it [00:02, 343.80it/s, env_step=908288, len=23, n/ep=3, n/st=64, player_1/loss=408.294, player_2/loss=535.259, rew=732.00]\n"
     ]
    },
    {
     "name": "stdout",
     "output_type": "stream",
     "text": [
      "Epoch #887: test_reward: 1120.000000 ± 0.000000, best_reward: 1834.000000 ± 0.000000 in #117\n"
     ]
    },
    {
     "name": "stderr",
     "output_type": "stream",
     "text": [
      "Epoch #888: 1025it [00:02, 343.26it/s, env_step=909312, len=27, n/ep=2, n/st=64, player_1/loss=419.096, player_2/loss=360.074, rew=754.00]\n"
     ]
    },
    {
     "name": "stdout",
     "output_type": "stream",
     "text": [
      "Epoch #888: test_reward: 130.000000 ± 0.000000, best_reward: 1834.000000 ± 0.000000 in #117\n"
     ]
    },
    {
     "name": "stderr",
     "output_type": "stream",
     "text": [
      "Epoch #889: 1025it [00:02, 343.00it/s, env_step=910336, len=28, n/ep=2, n/st=64, player_1/loss=216.085, player_2/loss=1065.493, rew=929.00]\n"
     ]
    },
    {
     "name": "stdout",
     "output_type": "stream",
     "text": [
      "Epoch #889: test_reward: 418.000000 ± 0.000000, best_reward: 1834.000000 ± 0.000000 in #117\n"
     ]
    },
    {
     "name": "stderr",
     "output_type": "stream",
     "text": [
      "Epoch #890: 1025it [00:02, 342.95it/s, env_step=911360, len=20, n/ep=3, n/st=64, player_1/loss=814.006, player_2/loss=189.700, rew=512.00]\n"
     ]
    },
    {
     "name": "stdout",
     "output_type": "stream",
     "text": [
      "Epoch #890: test_reward: 108.000000 ± 0.000000, best_reward: 1834.000000 ± 0.000000 in #117\n"
     ]
    },
    {
     "name": "stderr",
     "output_type": "stream",
     "text": [
      "Epoch #891: 1025it [00:02, 345.07it/s, env_step=912384, len=24, n/ep=3, n/st=64, player_1/loss=592.062, player_2/loss=59.395, rew=678.67]\n"
     ]
    },
    {
     "name": "stdout",
     "output_type": "stream",
     "text": [
      "Epoch #891: test_reward: 1330.000000 ± 0.000000, best_reward: 1834.000000 ± 0.000000 in #117\n"
     ]
    },
    {
     "name": "stderr",
     "output_type": "stream",
     "text": [
      "Epoch #892: 1025it [00:02, 342.78it/s, env_step=913408, len=33, n/ep=2, n/st=64, player_1/loss=564.933, player_2/loss=446.176, rew=1166.00]\n"
     ]
    },
    {
     "name": "stdout",
     "output_type": "stream",
     "text": [
      "Epoch #892: test_reward: 810.000000 ± 0.000000, best_reward: 1834.000000 ± 0.000000 in #117\n"
     ]
    },
    {
     "name": "stderr",
     "output_type": "stream",
     "text": [
      "Epoch #893: 1025it [00:02, 344.00it/s, env_step=914432, len=21, n/ep=3, n/st=64, player_1/loss=336.015, player_2/loss=599.753, rew=490.67]\n"
     ]
    },
    {
     "name": "stdout",
     "output_type": "stream",
     "text": [
      "Epoch #893: test_reward: 418.000000 ± 0.000000, best_reward: 1834.000000 ± 0.000000 in #117\n"
     ]
    },
    {
     "name": "stderr",
     "output_type": "stream",
     "text": [
      "Epoch #894: 1025it [00:02, 344.38it/s, env_step=915456, len=31, n/ep=2, n/st=64, player_1/loss=149.846, player_2/loss=127.095, rew=1028.00]\n"
     ]
    },
    {
     "name": "stdout",
     "output_type": "stream",
     "text": [
      "Epoch #894: test_reward: 1054.000000 ± 0.000000, best_reward: 1834.000000 ± 0.000000 in #117\n"
     ]
    },
    {
     "name": "stderr",
     "output_type": "stream",
     "text": [
      "Epoch #895: 1025it [00:03, 341.22it/s, env_step=916480, len=38, n/ep=1, n/st=64, player_1/loss=164.760, player_2/loss=978.337, rew=1480.00]\n"
     ]
    },
    {
     "name": "stdout",
     "output_type": "stream",
     "text": [
      "Epoch #895: test_reward: 1258.000000 ± 0.000000, best_reward: 1834.000000 ± 0.000000 in #117\n"
     ]
    },
    {
     "name": "stderr",
     "output_type": "stream",
     "text": [
      "Epoch #896: 1025it [00:02, 342.95it/s, env_step=917504, len=10, n/ep=7, n/st=64, player_1/loss=417.309, player_2/loss=501.035, rew=138.57]\n"
     ]
    },
    {
     "name": "stdout",
     "output_type": "stream",
     "text": [
      "Epoch #896: test_reward: 70.000000 ± 0.000000, best_reward: 1834.000000 ± 0.000000 in #117\n"
     ]
    },
    {
     "name": "stderr",
     "output_type": "stream",
     "text": [
      "Epoch #897: 1025it [00:02, 342.45it/s, env_step=918528, len=24, n/ep=2, n/st=64, player_1/loss=517.913, player_2/loss=627.410, rew=598.00]\n"
     ]
    },
    {
     "name": "stdout",
     "output_type": "stream",
     "text": [
      "Epoch #897: test_reward: 1120.000000 ± 0.000000, best_reward: 1834.000000 ± 0.000000 in #117\n"
     ]
    },
    {
     "name": "stderr",
     "output_type": "stream",
     "text": [
      "Epoch #898: 1025it [00:02, 345.23it/s, env_step=919552, len=22, n/ep=3, n/st=64, player_1/loss=225.205, player_2/loss=372.942, rew=520.67]\n"
     ]
    },
    {
     "name": "stdout",
     "output_type": "stream",
     "text": [
      "Epoch #898: test_reward: 130.000000 ± 0.000000, best_reward: 1834.000000 ± 0.000000 in #117\n"
     ]
    },
    {
     "name": "stderr",
     "output_type": "stream",
     "text": [
      "Epoch #899: 1025it [00:02, 343.65it/s, env_step=920576, len=25, n/ep=3, n/st=64, player_1/loss=632.283, player_2/loss=410.628, rew=668.67]\n"
     ]
    },
    {
     "name": "stdout",
     "output_type": "stream",
     "text": [
      "Epoch #899: test_reward: 810.000000 ± 0.000000, best_reward: 1834.000000 ± 0.000000 in #117\n"
     ]
    },
    {
     "name": "stderr",
     "output_type": "stream",
     "text": [
      "Epoch #900: 1025it [00:02, 346.12it/s, env_step=921600, len=34, n/ep=2, n/st=64, player_1/loss=444.733, player_2/loss=400.393, rew=1197.00]\n"
     ]
    },
    {
     "name": "stdout",
     "output_type": "stream",
     "text": [
      "Epoch #900: test_reward: 1720.000000 ± 0.000000, best_reward: 1834.000000 ± 0.000000 in #117\n"
     ]
    },
    {
     "name": "stderr",
     "output_type": "stream",
     "text": [
      "Epoch #901: 1025it [00:02, 343.71it/s, env_step=922624, len=37, n/ep=1, n/st=64, player_1/loss=212.620, player_2/loss=144.884, rew=1404.00]\n"
     ]
    },
    {
     "name": "stdout",
     "output_type": "stream",
     "text": [
      "Epoch #901: test_reward: 990.000000 ± 0.000000, best_reward: 1834.000000 ± 0.000000 in #117\n"
     ]
    },
    {
     "name": "stderr",
     "output_type": "stream",
     "text": [
      "Epoch #902: 1025it [00:02, 342.44it/s, env_step=923648, len=16, n/ep=5, n/st=64, player_1/loss=999.362, player_2/loss=410.895, rew=404.40]\n"
     ]
    },
    {
     "name": "stdout",
     "output_type": "stream",
     "text": [
      "Epoch #902: test_reward: 700.000000 ± 0.000000, best_reward: 1834.000000 ± 0.000000 in #117\n"
     ]
    },
    {
     "name": "stderr",
     "output_type": "stream",
     "text": [
      "Epoch #903: 1025it [00:02, 342.55it/s, env_step=924672, len=37, n/ep=2, n/st=64, player_1/loss=432.850, player_2/loss=68.032, rew=1408.00]\n"
     ]
    },
    {
     "name": "stdout",
     "output_type": "stream",
     "text": [
      "Epoch #903: test_reward: 598.000000 ± 0.000000, best_reward: 1834.000000 ± 0.000000 in #117\n"
     ]
    },
    {
     "name": "stderr",
     "output_type": "stream",
     "text": [
      "Epoch #904: 1025it [00:02, 345.14it/s, env_step=925696, len=21, n/ep=3, n/st=64, player_1/loss=550.852, player_2/loss=240.246, rew=565.33]\n"
     ]
    },
    {
     "name": "stdout",
     "output_type": "stream",
     "text": [
      "Epoch #904: test_reward: 88.000000 ± 0.000000, best_reward: 1834.000000 ± 0.000000 in #117\n"
     ]
    },
    {
     "name": "stderr",
     "output_type": "stream",
     "text": [
      "Epoch #905: 1025it [00:02, 343.78it/s, env_step=926720, len=28, n/ep=2, n/st=64, player_1/loss=369.402, player_2/loss=171.714, rew=869.00]\n"
     ]
    },
    {
     "name": "stdout",
     "output_type": "stream",
     "text": [
      "Epoch #905: test_reward: 418.000000 ± 0.000000, best_reward: 1834.000000 ± 0.000000 in #117\n"
     ]
    },
    {
     "name": "stderr",
     "output_type": "stream",
     "text": [
      "Epoch #906: 1025it [00:02, 344.78it/s, env_step=927744, len=18, n/ep=3, n/st=64, player_1/loss=133.621, player_2/loss=44.754, rew=360.67]\n"
     ]
    },
    {
     "name": "stdout",
     "output_type": "stream",
     "text": [
      "Epoch #906: test_reward: 1330.000000 ± 0.000000, best_reward: 1834.000000 ± 0.000000 in #117\n"
     ]
    },
    {
     "name": "stderr",
     "output_type": "stream",
     "text": [
      "Epoch #907: 1025it [00:02, 343.04it/s, env_step=928768, len=21, n/ep=3, n/st=64, player_1/loss=323.950, player_2/loss=473.084, rew=474.00]\n"
     ]
    },
    {
     "name": "stdout",
     "output_type": "stream",
     "text": [
      "Epoch #907: test_reward: 598.000000 ± 0.000000, best_reward: 1834.000000 ± 0.000000 in #117\n"
     ]
    },
    {
     "name": "stderr",
     "output_type": "stream",
     "text": [
      "Epoch #908: 1025it [00:02, 344.29it/s, env_step=929792, len=21, n/ep=2, n/st=64, player_1/loss=280.198, player_2/loss=461.868, rew=464.00]\n"
     ]
    },
    {
     "name": "stdout",
     "output_type": "stream",
     "text": [
      "Epoch #908: test_reward: 648.000000 ± 0.000000, best_reward: 1834.000000 ± 0.000000 in #117\n"
     ]
    },
    {
     "name": "stderr",
     "output_type": "stream",
     "text": [
      "Epoch #909: 1025it [00:02, 341.75it/s, env_step=930816, len=25, n/ep=3, n/st=64, player_1/loss=527.673, player_2/loss=130.494, rew=726.00]\n"
     ]
    },
    {
     "name": "stdout",
     "output_type": "stream",
     "text": [
      "Epoch #909: test_reward: 1558.000000 ± 0.000000, best_reward: 1834.000000 ± 0.000000 in #117\n"
     ]
    },
    {
     "name": "stderr",
     "output_type": "stream",
     "text": [
      "Epoch #910: 1025it [00:02, 342.83it/s, env_step=931840, len=36, n/ep=2, n/st=64, player_1/loss=836.047, player_2/loss=105.308, rew=1373.00]\n"
     ]
    },
    {
     "name": "stdout",
     "output_type": "stream",
     "text": [
      "Epoch #910: test_reward: 1558.000000 ± 0.000000, best_reward: 1834.000000 ± 0.000000 in #117\n"
     ]
    },
    {
     "name": "stderr",
     "output_type": "stream",
     "text": [
      "Epoch #911: 1025it [00:02, 344.40it/s, env_step=932864, len=33, n/ep=2, n/st=64, player_1/loss=366.433, player_2/loss=547.743, rew=1156.00]\n"
     ]
    },
    {
     "name": "stdout",
     "output_type": "stream",
     "text": [
      "Epoch #911: test_reward: 1258.000000 ± 0.000000, best_reward: 1834.000000 ± 0.000000 in #117\n"
     ]
    },
    {
     "name": "stderr",
     "output_type": "stream",
     "text": [
      "Epoch #912: 1025it [00:02, 343.90it/s, env_step=933888, len=24, n/ep=3, n/st=64, player_1/loss=400.626, player_2/loss=309.068, rew=680.67]\n"
     ]
    },
    {
     "name": "stdout",
     "output_type": "stream",
     "text": [
      "Epoch #912: test_reward: 378.000000 ± 0.000000, best_reward: 1834.000000 ± 0.000000 in #117\n"
     ]
    },
    {
     "name": "stderr",
     "output_type": "stream",
     "text": [
      "Epoch #913: 1025it [00:02, 345.05it/s, env_step=934912, len=25, n/ep=2, n/st=64, player_1/loss=541.023, player_2/loss=714.155, rew=748.00]\n"
     ]
    },
    {
     "name": "stdout",
     "output_type": "stream",
     "text": [
      "Epoch #913: test_reward: 418.000000 ± 0.000000, best_reward: 1834.000000 ± 0.000000 in #117\n"
     ]
    },
    {
     "name": "stderr",
     "output_type": "stream",
     "text": [
      "Epoch #914: 1025it [00:02, 343.79it/s, env_step=935936, len=18, n/ep=4, n/st=64, player_1/loss=612.939, player_2/loss=319.033, rew=367.00]\n"
     ]
    },
    {
     "name": "stdout",
     "output_type": "stream",
     "text": [
      "Epoch #914: test_reward: 238.000000 ± 0.000000, best_reward: 1834.000000 ± 0.000000 in #117\n"
     ]
    },
    {
     "name": "stderr",
     "output_type": "stream",
     "text": [
      "Epoch #915: 1025it [00:02, 344.99it/s, env_step=936960, len=35, n/ep=2, n/st=64, player_1/loss=283.074, player_2/loss=404.831, rew=1300.00]\n"
     ]
    },
    {
     "name": "stdout",
     "output_type": "stream",
     "text": [
      "Epoch #915: test_reward: 550.000000 ± 0.000000, best_reward: 1834.000000 ± 0.000000 in #117\n"
     ]
    },
    {
     "name": "stderr",
     "output_type": "stream",
     "text": [
      "Epoch #916: 1025it [00:02, 343.83it/s, env_step=937984, len=27, n/ep=2, n/st=64, player_1/loss=587.960, player_2/loss=396.438, rew=754.00]\n"
     ]
    },
    {
     "name": "stdout",
     "output_type": "stream",
     "text": [
      "Epoch #916: test_reward: 1188.000000 ± 0.000000, best_reward: 1834.000000 ± 0.000000 in #117\n"
     ]
    },
    {
     "name": "stderr",
     "output_type": "stream",
     "text": [
      "Epoch #917: 1025it [00:02, 343.13it/s, env_step=939008, len=17, n/ep=4, n/st=64, player_1/loss=209.056, player_2/loss=627.983, rew=330.00]\n"
     ]
    },
    {
     "name": "stdout",
     "output_type": "stream",
     "text": [
      "Epoch #917: test_reward: 1258.000000 ± 0.000000, best_reward: 1834.000000 ± 0.000000 in #117\n"
     ]
    },
    {
     "name": "stderr",
     "output_type": "stream",
     "text": [
      "Epoch #918: 1025it [00:02, 341.76it/s, env_step=940032, len=35, n/ep=2, n/st=64, player_1/loss=349.694, player_2/loss=302.740, rew=1267.00]\n"
     ]
    },
    {
     "name": "stdout",
     "output_type": "stream",
     "text": [
      "Epoch #918: test_reward: 1834.000000 ± 0.000000, best_reward: 1834.000000 ± 0.000000 in #117\n"
     ]
    },
    {
     "name": "stderr",
     "output_type": "stream",
     "text": [
      "Epoch #919: 1025it [00:02, 344.69it/s, env_step=941056, len=42, n/ep=1, n/st=64, player_1/loss=224.452, player_2/loss=268.301, rew=1834.00]\n"
     ]
    },
    {
     "name": "stdout",
     "output_type": "stream",
     "text": [
      "Epoch #919: test_reward: 1480.000000 ± 0.000000, best_reward: 1834.000000 ± 0.000000 in #117\n"
     ]
    },
    {
     "name": "stderr",
     "output_type": "stream",
     "text": [
      "Epoch #920: 1025it [00:02, 342.23it/s, env_step=942080, len=23, n/ep=4, n/st=64, player_1/loss=427.410, player_2/loss=208.923, rew=684.00]\n"
     ]
    },
    {
     "name": "stdout",
     "output_type": "stream",
     "text": [
      "Epoch #920: test_reward: 550.000000 ± 0.000000, best_reward: 1834.000000 ± 0.000000 in #117\n"
     ]
    },
    {
     "name": "stderr",
     "output_type": "stream",
     "text": [
      "Epoch #921: 1025it [00:02, 343.06it/s, env_step=943104, len=33, n/ep=2, n/st=64, player_1/loss=498.753, player_2/loss=147.212, rew=1145.00]\n"
     ]
    },
    {
     "name": "stdout",
     "output_type": "stream",
     "text": [
      "Epoch #921: test_reward: 460.000000 ± 0.000000, best_reward: 1834.000000 ± 0.000000 in #117\n"
     ]
    },
    {
     "name": "stderr",
     "output_type": "stream",
     "text": [
      "Epoch #922: 1025it [00:02, 345.01it/s, env_step=944128, len=28, n/ep=3, n/st=64, player_1/loss=279.783, player_2/loss=150.093, rew=836.00]\n"
     ]
    },
    {
     "name": "stdout",
     "output_type": "stream",
     "text": [
      "Epoch #922: test_reward: 1120.000000 ± 0.000000, best_reward: 1834.000000 ± 0.000000 in #117\n"
     ]
    },
    {
     "name": "stderr",
     "output_type": "stream",
     "text": [
      "Epoch #923: 1025it [00:02, 345.01it/s, env_step=945152, len=18, n/ep=3, n/st=64, player_1/loss=573.919, player_2/loss=187.669, rew=552.00]\n"
     ]
    },
    {
     "name": "stdout",
     "output_type": "stream",
     "text": [
      "Epoch #923: test_reward: 130.000000 ± 0.000000, best_reward: 1834.000000 ± 0.000000 in #117\n"
     ]
    },
    {
     "name": "stderr",
     "output_type": "stream",
     "text": [
      "Epoch #924: 1025it [00:02, 344.22it/s, env_step=946176, len=36, n/ep=2, n/st=64, player_1/loss=100.281, player_2/loss=643.917, rew=1334.00]\n"
     ]
    },
    {
     "name": "stdout",
     "output_type": "stream",
     "text": [
      "Epoch #924: test_reward: 1638.000000 ± 0.000000, best_reward: 1834.000000 ± 0.000000 in #117\n"
     ]
    },
    {
     "name": "stderr",
     "output_type": "stream",
     "text": [
      "Epoch #925: 1025it [00:02, 341.91it/s, env_step=947200, len=24, n/ep=3, n/st=64, player_1/loss=176.346, player_2/loss=157.154, rew=676.00]\n"
     ]
    },
    {
     "name": "stdout",
     "output_type": "stream",
     "text": [
      "Epoch #925: test_reward: 1638.000000 ± 0.000000, best_reward: 1834.000000 ± 0.000000 in #117\n"
     ]
    },
    {
     "name": "stderr",
     "output_type": "stream",
     "text": [
      "Epoch #926: 1025it [00:02, 344.63it/s, env_step=948224, len=25, n/ep=3, n/st=64, player_1/loss=416.394, player_2/loss=167.246, rew=763.33]\n"
     ]
    },
    {
     "name": "stdout",
     "output_type": "stream",
     "text": [
      "Epoch #926: test_reward: 180.000000 ± 0.000000, best_reward: 1834.000000 ± 0.000000 in #117\n"
     ]
    },
    {
     "name": "stderr",
     "output_type": "stream",
     "text": [
      "Epoch #927: 1025it [00:02, 343.66it/s, env_step=949248, len=38, n/ep=1, n/st=64, player_1/loss=468.309, player_2/loss=574.475, rew=1480.00]\n"
     ]
    },
    {
     "name": "stdout",
     "output_type": "stream",
     "text": [
      "Epoch #927: test_reward: 598.000000 ± 0.000000, best_reward: 1834.000000 ± 0.000000 in #117\n"
     ]
    },
    {
     "name": "stderr",
     "output_type": "stream",
     "text": [
      "Epoch #928: 1025it [00:02, 342.92it/s, env_step=950272, len=16, n/ep=4, n/st=64, player_1/loss=344.565, player_2/loss=453.653, rew=306.50]\n"
     ]
    },
    {
     "name": "stdout",
     "output_type": "stream",
     "text": [
      "Epoch #928: test_reward: 340.000000 ± 0.000000, best_reward: 1834.000000 ± 0.000000 in #117\n"
     ]
    },
    {
     "name": "stderr",
     "output_type": "stream",
     "text": [
      "Epoch #929: 1025it [00:02, 344.99it/s, env_step=951296, len=31, n/ep=2, n/st=64, player_1/loss=260.023, player_2/loss=399.966, rew=1147.00]\n"
     ]
    },
    {
     "name": "stdout",
     "output_type": "stream",
     "text": [
      "Epoch #929: test_reward: 928.000000 ± 0.000000, best_reward: 1834.000000 ± 0.000000 in #117\n"
     ]
    },
    {
     "name": "stderr",
     "output_type": "stream",
     "text": [
      "Epoch #930: 1025it [00:02, 343.13it/s, env_step=952320, len=23, n/ep=2, n/st=64, player_1/loss=458.405, player_2/loss=387.895, rew=574.00]\n"
     ]
    },
    {
     "name": "stdout",
     "output_type": "stream",
     "text": [
      "Epoch #930: test_reward: 460.000000 ± 0.000000, best_reward: 1834.000000 ± 0.000000 in #117\n"
     ]
    },
    {
     "name": "stderr",
     "output_type": "stream",
     "text": [
      "Epoch #931: 1025it [00:02, 345.71it/s, env_step=953344, len=16, n/ep=5, n/st=64, player_1/loss=164.362, player_2/loss=932.146, rew=318.00]\n"
     ]
    },
    {
     "name": "stdout",
     "output_type": "stream",
     "text": [
      "Epoch #931: test_reward: 504.000000 ± 0.000000, best_reward: 1834.000000 ± 0.000000 in #117\n"
     ]
    },
    {
     "name": "stderr",
     "output_type": "stream",
     "text": [
      "Epoch #932: 1025it [00:02, 344.68it/s, env_step=954368, len=21, n/ep=3, n/st=64, player_1/loss=273.778, player_2/loss=598.227, rew=478.67]\n"
     ]
    },
    {
     "name": "stdout",
     "output_type": "stream",
     "text": [
      "Epoch #932: test_reward: 418.000000 ± 0.000000, best_reward: 1834.000000 ± 0.000000 in #117\n"
     ]
    },
    {
     "name": "stderr",
     "output_type": "stream",
     "text": [
      "Epoch #933: 1025it [00:03, 339.13it/s, env_step=955392, len=17, n/ep=4, n/st=64, player_1/loss=269.418, player_2/loss=699.286, rew=322.00]\n"
     ]
    },
    {
     "name": "stdout",
     "output_type": "stream",
     "text": [
      "Epoch #933: test_reward: 304.000000 ± 0.000000, best_reward: 1834.000000 ± 0.000000 in #117\n"
     ]
    },
    {
     "name": "stderr",
     "output_type": "stream",
     "text": [
      "Epoch #934: 1025it [00:03, 325.50it/s, env_step=956416, len=27, n/ep=3, n/st=64, player_1/loss=600.000, player_2/loss=286.655, rew=818.67]\n"
     ]
    },
    {
     "name": "stdout",
     "output_type": "stream",
     "text": [
      "Epoch #934: test_reward: 928.000000 ± 0.000000, best_reward: 1834.000000 ± 0.000000 in #117\n"
     ]
    },
    {
     "name": "stderr",
     "output_type": "stream",
     "text": [
      "Epoch #935: 1025it [00:03, 331.05it/s, env_step=957440, len=16, n/ep=3, n/st=64, player_1/loss=485.253, player_2/loss=519.679, rew=324.67]\n"
     ]
    },
    {
     "name": "stdout",
     "output_type": "stream",
     "text": [
      "Epoch #935: test_reward: 504.000000 ± 0.000000, best_reward: 1834.000000 ± 0.000000 in #117\n"
     ]
    },
    {
     "name": "stderr",
     "output_type": "stream",
     "text": [
      "Epoch #936: 1025it [00:02, 343.71it/s, env_step=958464, len=19, n/ep=4, n/st=64, player_1/loss=600.961, player_2/loss=280.168, rew=522.00]\n"
     ]
    },
    {
     "name": "stdout",
     "output_type": "stream",
     "text": [
      "Epoch #936: test_reward: 304.000000 ± 0.000000, best_reward: 1834.000000 ± 0.000000 in #117\n"
     ]
    },
    {
     "name": "stderr",
     "output_type": "stream",
     "text": [
      "Epoch #937: 1025it [00:03, 340.97it/s, env_step=959488, len=37, n/ep=2, n/st=64, player_1/loss=420.242, player_2/loss=573.701, rew=1454.00]\n"
     ]
    },
    {
     "name": "stdout",
     "output_type": "stream",
     "text": [
      "Epoch #937: test_reward: 868.000000 ± 0.000000, best_reward: 1834.000000 ± 0.000000 in #117\n"
     ]
    },
    {
     "name": "stderr",
     "output_type": "stream",
     "text": [
      "Epoch #938: 1025it [00:02, 343.96it/s, env_step=960512, len=29, n/ep=2, n/st=64, player_1/loss=259.586, player_2/loss=382.896, rew=869.00]\n"
     ]
    },
    {
     "name": "stdout",
     "output_type": "stream",
     "text": [
      "Epoch #938: test_reward: 598.000000 ± 0.000000, best_reward: 1834.000000 ± 0.000000 in #117\n"
     ]
    },
    {
     "name": "stderr",
     "output_type": "stream",
     "text": [
      "Epoch #939: 1025it [00:02, 342.72it/s, env_step=961536, len=34, n/ep=1, n/st=64, player_1/loss=497.233, player_2/loss=449.212, rew=1188.00]\n"
     ]
    },
    {
     "name": "stdout",
     "output_type": "stream",
     "text": [
      "Epoch #939: test_reward: 1054.000000 ± 0.000000, best_reward: 1834.000000 ± 0.000000 in #117\n"
     ]
    },
    {
     "name": "stderr",
     "output_type": "stream",
     "text": [
      "Epoch #940: 1025it [00:03, 340.49it/s, env_step=962560, len=34, n/ep=3, n/st=64, player_1/loss=577.049, player_2/loss=439.757, rew=1206.00]\n"
     ]
    },
    {
     "name": "stdout",
     "output_type": "stream",
     "text": [
      "Epoch #940: test_reward: 928.000000 ± 0.000000, best_reward: 1834.000000 ± 0.000000 in #117\n"
     ]
    },
    {
     "name": "stderr",
     "output_type": "stream",
     "text": [
      "Epoch #941: 1025it [00:02, 343.20it/s, env_step=963584, len=24, n/ep=3, n/st=64, player_1/loss=530.341, player_2/loss=1240.402, rew=637.33]\n"
     ]
    },
    {
     "name": "stdout",
     "output_type": "stream",
     "text": [
      "Epoch #941: test_reward: 868.000000 ± 0.000000, best_reward: 1834.000000 ± 0.000000 in #117\n"
     ]
    },
    {
     "name": "stderr",
     "output_type": "stream",
     "text": [
      "Epoch #942: 1025it [00:02, 344.48it/s, env_step=964608, len=23, n/ep=3, n/st=64, player_1/loss=526.624, player_2/loss=431.177, rew=588.00]\n"
     ]
    },
    {
     "name": "stdout",
     "output_type": "stream",
     "text": [
      "Epoch #942: test_reward: 270.000000 ± 0.000000, best_reward: 1834.000000 ± 0.000000 in #117\n"
     ]
    },
    {
     "name": "stderr",
     "output_type": "stream",
     "text": [
      "Epoch #943: 1025it [00:02, 344.82it/s, env_step=965632, len=29, n/ep=2, n/st=64, player_1/loss=468.231, player_2/loss=557.788, rew=989.00]\n"
     ]
    },
    {
     "name": "stdout",
     "output_type": "stream",
     "text": [
      "Epoch #943: test_reward: 754.000000 ± 0.000000, best_reward: 1834.000000 ± 0.000000 in #117\n"
     ]
    },
    {
     "name": "stderr",
     "output_type": "stream",
     "text": [
      "Epoch #944: 1025it [00:02, 343.62it/s, env_step=966656, len=29, n/ep=3, n/st=64, player_1/loss=810.765, player_2/loss=266.753, rew=1112.67]\n"
     ]
    },
    {
     "name": "stdout",
     "output_type": "stream",
     "text": [
      "Epoch #944: test_reward: 598.000000 ± 0.000000, best_reward: 1834.000000 ± 0.000000 in #117\n"
     ]
    },
    {
     "name": "stderr",
     "output_type": "stream",
     "text": [
      "Epoch #945: 1025it [00:02, 343.23it/s, env_step=967680, len=21, n/ep=2, n/st=64, player_1/loss=40.915, player_2/loss=503.398, rew=592.00]\n"
     ]
    },
    {
     "name": "stdout",
     "output_type": "stream",
     "text": [
      "Epoch #945: test_reward: 810.000000 ± 0.000000, best_reward: 1834.000000 ± 0.000000 in #117\n"
     ]
    },
    {
     "name": "stderr",
     "output_type": "stream",
     "text": [
      "Epoch #946: 1025it [00:02, 342.31it/s, env_step=968704, len=24, n/ep=3, n/st=64, player_1/loss=412.064, player_2/loss=763.198, rew=691.33]\n"
     ]
    },
    {
     "name": "stdout",
     "output_type": "stream",
     "text": [
      "Epoch #946: test_reward: 180.000000 ± 0.000000, best_reward: 1834.000000 ± 0.000000 in #117\n"
     ]
    },
    {
     "name": "stderr",
     "output_type": "stream",
     "text": [
      "Epoch #947: 1025it [00:02, 344.33it/s, env_step=969728, len=12, n/ep=6, n/st=64, player_1/loss=785.613, player_2/loss=200.943, rew=275.67]\n"
     ]
    },
    {
     "name": "stdout",
     "output_type": "stream",
     "text": [
      "Epoch #947: test_reward: 130.000000 ± 0.000000, best_reward: 1834.000000 ± 0.000000 in #117\n"
     ]
    },
    {
     "name": "stderr",
     "output_type": "stream",
     "text": [
      "Epoch #948: 1025it [00:02, 343.90it/s, env_step=970752, len=24, n/ep=2, n/st=64, player_1/loss=689.434, player_2/loss=390.366, rew=863.00]\n"
     ]
    },
    {
     "name": "stdout",
     "output_type": "stream",
     "text": [
      "Epoch #948: test_reward: 130.000000 ± 0.000000, best_reward: 1834.000000 ± 0.000000 in #117\n"
     ]
    },
    {
     "name": "stderr",
     "output_type": "stream",
     "text": [
      "Epoch #949: 1025it [00:02, 342.90it/s, env_step=971776, len=29, n/ep=2, n/st=64, player_1/loss=165.090, player_2/loss=405.497, rew=868.00]\n"
     ]
    },
    {
     "name": "stdout",
     "output_type": "stream",
     "text": [
      "Epoch #949: test_reward: 928.000000 ± 0.000000, best_reward: 1834.000000 ± 0.000000 in #117\n"
     ]
    },
    {
     "name": "stderr",
     "output_type": "stream",
     "text": [
      "Epoch #950: 1025it [00:02, 345.27it/s, env_step=972800, len=34, n/ep=2, n/st=64, player_1/loss=326.791, player_2/loss=507.848, rew=1189.00]\n"
     ]
    },
    {
     "name": "stdout",
     "output_type": "stream",
     "text": [
      "Epoch #950: test_reward: 1480.000000 ± 0.000000, best_reward: 1834.000000 ± 0.000000 in #117\n"
     ]
    },
    {
     "name": "stderr",
     "output_type": "stream",
     "text": [
      "Epoch #951: 1025it [00:02, 344.24it/s, env_step=973824, len=18, n/ep=4, n/st=64, player_1/loss=104.615, player_2/loss=849.892, rew=369.00]\n"
     ]
    },
    {
     "name": "stdout",
     "output_type": "stream",
     "text": [
      "Epoch #951: test_reward: 460.000000 ± 0.000000, best_reward: 1834.000000 ± 0.000000 in #117\n"
     ]
    },
    {
     "name": "stderr",
     "output_type": "stream",
     "text": [
      "Epoch #952: 1025it [00:02, 344.07it/s, env_step=974848, len=24, n/ep=2, n/st=64, player_1/loss=240.466, player_2/loss=562.700, rew=833.00]\n"
     ]
    },
    {
     "name": "stdout",
     "output_type": "stream",
     "text": [
      "Epoch #952: test_reward: 1834.000000 ± 0.000000, best_reward: 1834.000000 ± 0.000000 in #117\n"
     ]
    },
    {
     "name": "stderr",
     "output_type": "stream",
     "text": [
      "Epoch #953: 1025it [00:02, 343.91it/s, env_step=975872, len=32, n/ep=2, n/st=64, player_1/loss=420.851, player_2/loss=162.554, rew=1089.00]\n"
     ]
    },
    {
     "name": "stdout",
     "output_type": "stream",
     "text": [
      "Epoch #953: test_reward: 928.000000 ± 0.000000, best_reward: 1834.000000 ± 0.000000 in #117\n"
     ]
    },
    {
     "name": "stderr",
     "output_type": "stream",
     "text": [
      "Epoch #954: 1025it [00:02, 343.36it/s, env_step=976896, len=26, n/ep=2, n/st=64, player_1/loss=52.850, player_2/loss=659.144, rew=747.00]\n"
     ]
    },
    {
     "name": "stdout",
     "output_type": "stream",
     "text": [
      "Epoch #954: test_reward: 810.000000 ± 0.000000, best_reward: 1834.000000 ± 0.000000 in #117\n"
     ]
    },
    {
     "name": "stderr",
     "output_type": "stream",
     "text": [
      "Epoch #955: 1025it [00:02, 343.53it/s, env_step=977920, len=31, n/ep=2, n/st=64, player_1/loss=582.800, player_2/loss=377.540, rew=1024.00]\n"
     ]
    },
    {
     "name": "stdout",
     "output_type": "stream",
     "text": [
      "Epoch #955: test_reward: 868.000000 ± 0.000000, best_reward: 1834.000000 ± 0.000000 in #117\n"
     ]
    },
    {
     "name": "stderr",
     "output_type": "stream",
     "text": [
      "Epoch #956: 1025it [00:02, 343.86it/s, env_step=978944, len=30, n/ep=2, n/st=64, player_1/loss=432.735, player_2/loss=721.818, rew=944.00]\n"
     ]
    },
    {
     "name": "stdout",
     "output_type": "stream",
     "text": [
      "Epoch #956: test_reward: 1188.000000 ± 0.000000, best_reward: 1834.000000 ± 0.000000 in #117\n"
     ]
    },
    {
     "name": "stderr",
     "output_type": "stream",
     "text": [
      "Epoch #957: 1025it [00:02, 343.06it/s, env_step=979968, len=28, n/ep=3, n/st=64, player_1/loss=248.697, player_2/loss=285.470, rew=843.33]\n"
     ]
    },
    {
     "name": "stdout",
     "output_type": "stream",
     "text": [
      "Epoch #957: test_reward: 1054.000000 ± 0.000000, best_reward: 1834.000000 ± 0.000000 in #117\n"
     ]
    },
    {
     "name": "stderr",
     "output_type": "stream",
     "text": [
      "Epoch #958: 1025it [00:02, 344.10it/s, env_step=980992, len=22, n/ep=3, n/st=64, player_1/loss=980.401, player_2/loss=284.416, rew=640.00]\n"
     ]
    },
    {
     "name": "stdout",
     "output_type": "stream",
     "text": [
      "Epoch #958: test_reward: 1188.000000 ± 0.000000, best_reward: 1834.000000 ± 0.000000 in #117\n"
     ]
    },
    {
     "name": "stderr",
     "output_type": "stream",
     "text": [
      "Epoch #959: 1025it [00:03, 340.99it/s, env_step=982016, len=40, n/ep=1, n/st=64, player_1/loss=351.763, player_2/loss=735.024, rew=1638.00]\n"
     ]
    },
    {
     "name": "stdout",
     "output_type": "stream",
     "text": [
      "Epoch #959: test_reward: 460.000000 ± 0.000000, best_reward: 1834.000000 ± 0.000000 in #117\n"
     ]
    },
    {
     "name": "stderr",
     "output_type": "stream",
     "text": [
      "Epoch #960: 1025it [00:02, 343.62it/s, env_step=983040, len=28, n/ep=3, n/st=64, player_1/loss=750.574, player_2/loss=242.925, rew=867.33]\n"
     ]
    },
    {
     "name": "stdout",
     "output_type": "stream",
     "text": [
      "Epoch #960: test_reward: 1120.000000 ± 0.000000, best_reward: 1834.000000 ± 0.000000 in #117\n"
     ]
    },
    {
     "name": "stderr",
     "output_type": "stream",
     "text": [
      "Epoch #961: 1025it [00:02, 343.64it/s, env_step=984064, len=27, n/ep=2, n/st=64, player_1/loss=254.884, player_2/loss=434.355, rew=782.00]\n"
     ]
    },
    {
     "name": "stdout",
     "output_type": "stream",
     "text": [
      "Epoch #961: test_reward: 648.000000 ± 0.000000, best_reward: 1834.000000 ± 0.000000 in #117\n"
     ]
    },
    {
     "name": "stderr",
     "output_type": "stream",
     "text": [
      "Epoch #962: 1025it [00:02, 344.71it/s, env_step=985088, len=23, n/ep=3, n/st=64, player_1/loss=417.168, player_2/loss=859.455, rew=630.67]\n"
     ]
    },
    {
     "name": "stdout",
     "output_type": "stream",
     "text": [
      "Epoch #962: test_reward: 700.000000 ± 0.000000, best_reward: 1834.000000 ± 0.000000 in #117\n"
     ]
    },
    {
     "name": "stderr",
     "output_type": "stream",
     "text": [
      "Epoch #963: 1025it [00:02, 345.67it/s, env_step=986112, len=30, n/ep=2, n/st=64, player_1/loss=412.589, player_2/loss=542.729, rew=1009.00]\n"
     ]
    },
    {
     "name": "stdout",
     "output_type": "stream",
     "text": [
      "Epoch #963: test_reward: 1480.000000 ± 0.000000, best_reward: 1834.000000 ± 0.000000 in #117\n"
     ]
    },
    {
     "name": "stderr",
     "output_type": "stream",
     "text": [
      "Epoch #964: 1025it [00:02, 345.91it/s, env_step=987136, len=33, n/ep=2, n/st=64, player_1/loss=446.767, player_2/loss=433.490, rew=1136.00]\n"
     ]
    },
    {
     "name": "stdout",
     "output_type": "stream",
     "text": [
      "Epoch #964: test_reward: 378.000000 ± 0.000000, best_reward: 1834.000000 ± 0.000000 in #117\n"
     ]
    },
    {
     "name": "stderr",
     "output_type": "stream",
     "text": [
      "Epoch #965: 1025it [00:02, 343.09it/s, env_step=988160, len=19, n/ep=4, n/st=64, player_1/loss=824.091, player_2/loss=974.193, rew=421.00]\n"
     ]
    },
    {
     "name": "stdout",
     "output_type": "stream",
     "text": [
      "Epoch #965: test_reward: 238.000000 ± 0.000000, best_reward: 1834.000000 ± 0.000000 in #117\n"
     ]
    },
    {
     "name": "stderr",
     "output_type": "stream",
     "text": [
      "Epoch #966: 1025it [00:02, 343.13it/s, env_step=989184, len=22, n/ep=3, n/st=64, player_1/loss=1029.878, player_2/loss=471.694, rew=557.33]\n"
     ]
    },
    {
     "name": "stdout",
     "output_type": "stream",
     "text": [
      "Epoch #966: test_reward: 1120.000000 ± 0.000000, best_reward: 1834.000000 ± 0.000000 in #117\n"
     ]
    },
    {
     "name": "stderr",
     "output_type": "stream",
     "text": [
      "Epoch #967: 1025it [00:02, 343.16it/s, env_step=990208, len=20, n/ep=3, n/st=64, player_1/loss=931.642, player_2/loss=630.080, rew=468.00]\n"
     ]
    },
    {
     "name": "stdout",
     "output_type": "stream",
     "text": [
      "Epoch #967: test_reward: 180.000000 ± 0.000000, best_reward: 1834.000000 ± 0.000000 in #117\n"
     ]
    },
    {
     "name": "stderr",
     "output_type": "stream",
     "text": [
      "Epoch #968: 1025it [00:02, 342.07it/s, env_step=991232, len=28, n/ep=2, n/st=64, player_1/loss=434.469, player_2/loss=1060.954, rew=910.00]\n"
     ]
    },
    {
     "name": "stdout",
     "output_type": "stream",
     "text": [
      "Epoch #968: test_reward: 418.000000 ± 0.000000, best_reward: 1834.000000 ± 0.000000 in #117\n"
     ]
    },
    {
     "name": "stderr",
     "output_type": "stream",
     "text": [
      "Epoch #969: 1025it [00:02, 345.11it/s, env_step=992256, len=11, n/ep=6, n/st=64, player_1/loss=291.297, player_2/loss=235.959, rew=156.00]\n"
     ]
    },
    {
     "name": "stdout",
     "output_type": "stream",
     "text": [
      "Epoch #969: test_reward: 1120.000000 ± 0.000000, best_reward: 1834.000000 ± 0.000000 in #117\n"
     ]
    },
    {
     "name": "stderr",
     "output_type": "stream",
     "text": [
      "Epoch #970: 1025it [00:02, 342.81it/s, env_step=993280, len=37, n/ep=1, n/st=64, player_1/loss=542.774, player_2/loss=1106.350, rew=1404.00]\n"
     ]
    },
    {
     "name": "stdout",
     "output_type": "stream",
     "text": [
      "Epoch #970: test_reward: 1480.000000 ± 0.000000, best_reward: 1834.000000 ± 0.000000 in #117\n"
     ]
    },
    {
     "name": "stderr",
     "output_type": "stream",
     "text": [
      "Epoch #971: 1025it [00:02, 344.43it/s, env_step=994304, len=30, n/ep=2, n/st=64, player_1/loss=235.134, player_2/loss=758.838, rew=961.00]\n"
     ]
    },
    {
     "name": "stdout",
     "output_type": "stream",
     "text": [
      "Epoch #971: test_reward: 1558.000000 ± 0.000000, best_reward: 1834.000000 ± 0.000000 in #117\n"
     ]
    },
    {
     "name": "stderr",
     "output_type": "stream",
     "text": [
      "Epoch #972: 1025it [00:02, 343.05it/s, env_step=995328, len=30, n/ep=2, n/st=64, player_1/loss=253.657, player_2/loss=399.656, rew=953.00]\n"
     ]
    },
    {
     "name": "stdout",
     "output_type": "stream",
     "text": [
      "Epoch #972: test_reward: 1054.000000 ± 0.000000, best_reward: 1834.000000 ± 0.000000 in #117\n"
     ]
    },
    {
     "name": "stderr",
     "output_type": "stream",
     "text": [
      "Epoch #973: 1025it [00:02, 343.76it/s, env_step=996352, len=35, n/ep=2, n/st=64, player_1/loss=953.271, player_2/loss=308.097, rew=1300.00]\n"
     ]
    },
    {
     "name": "stdout",
     "output_type": "stream",
     "text": [
      "Epoch #973: test_reward: 990.000000 ± 0.000000, best_reward: 1834.000000 ± 0.000000 in #117\n"
     ]
    },
    {
     "name": "stderr",
     "output_type": "stream",
     "text": [
      "Epoch #974: 1025it [00:03, 339.74it/s, env_step=997376, len=28, n/ep=3, n/st=64, player_1/loss=641.766, player_2/loss=72.179, rew=918.00]\n"
     ]
    },
    {
     "name": "stdout",
     "output_type": "stream",
     "text": [
      "Epoch #974: test_reward: 1404.000000 ± 0.000000, best_reward: 1834.000000 ± 0.000000 in #117\n"
     ]
    },
    {
     "name": "stderr",
     "output_type": "stream",
     "text": [
      "Epoch #975: 1025it [00:02, 341.91it/s, env_step=998400, len=34, n/ep=2, n/st=64, player_1/loss=357.079, player_2/loss=627.420, rew=1235.00]\n"
     ]
    },
    {
     "name": "stdout",
     "output_type": "stream",
     "text": [
      "Epoch #975: test_reward: 990.000000 ± 0.000000, best_reward: 1834.000000 ± 0.000000 in #117\n"
     ]
    },
    {
     "name": "stderr",
     "output_type": "stream",
     "text": [
      "Epoch #976: 1025it [00:02, 342.83it/s, env_step=999424, len=30, n/ep=2, n/st=64, player_1/loss=417.625, player_2/loss=90.108, rew=937.00]\n"
     ]
    },
    {
     "name": "stdout",
     "output_type": "stream",
     "text": [
      "Epoch #976: test_reward: 340.000000 ± 0.000000, best_reward: 1834.000000 ± 0.000000 in #117\n"
     ]
    },
    {
     "name": "stderr",
     "output_type": "stream",
     "text": [
      "Epoch #977: 1025it [00:02, 345.79it/s, env_step=1000448, len=24, n/ep=2, n/st=64, player_1/loss=123.884, player_2/loss=326.118, rew=767.00]\n"
     ]
    },
    {
     "name": "stdout",
     "output_type": "stream",
     "text": [
      "Epoch #977: test_reward: 1054.000000 ± 0.000000, best_reward: 1834.000000 ± 0.000000 in #117\n"
     ]
    },
    {
     "name": "stderr",
     "output_type": "stream",
     "text": [
      "Epoch #978: 1025it [00:02, 344.29it/s, env_step=1001472, len=13, n/ep=4, n/st=64, player_1/loss=631.753, player_2/loss=938.361, rew=228.00]\n"
     ]
    },
    {
     "name": "stdout",
     "output_type": "stream",
     "text": [
      "Epoch #978: test_reward: 130.000000 ± 0.000000, best_reward: 1834.000000 ± 0.000000 in #117\n"
     ]
    },
    {
     "name": "stderr",
     "output_type": "stream",
     "text": [
      "Epoch #979: 1025it [00:02, 342.55it/s, env_step=1002496, len=38, n/ep=2, n/st=64, player_1/loss=236.121, player_2/loss=496.553, rew=1481.00]\n"
     ]
    },
    {
     "name": "stdout",
     "output_type": "stream",
     "text": [
      "Epoch #979: test_reward: 1638.000000 ± 0.000000, best_reward: 1834.000000 ± 0.000000 in #117\n"
     ]
    },
    {
     "name": "stderr",
     "output_type": "stream",
     "text": [
      "Epoch #980: 1025it [00:02, 341.74it/s, env_step=1003520, len=21, n/ep=3, n/st=64, player_1/loss=429.055, player_2/loss=493.417, rew=654.67]\n"
     ]
    },
    {
     "name": "stdout",
     "output_type": "stream",
     "text": [
      "Epoch #980: test_reward: 88.000000 ± 0.000000, best_reward: 1834.000000 ± 0.000000 in #117\n"
     ]
    },
    {
     "name": "stderr",
     "output_type": "stream",
     "text": [
      "Epoch #981: 1025it [00:02, 342.63it/s, env_step=1004544, len=22, n/ep=2, n/st=64, player_1/loss=738.705, player_2/loss=286.238, rew=513.00]\n"
     ]
    },
    {
     "name": "stdout",
     "output_type": "stream",
     "text": [
      "Epoch #981: test_reward: 1054.000000 ± 0.000000, best_reward: 1834.000000 ± 0.000000 in #117\n"
     ]
    },
    {
     "name": "stderr",
     "output_type": "stream",
     "text": [
      "Epoch #982: 1025it [00:02, 345.13it/s, env_step=1005568, len=21, n/ep=3, n/st=64, player_1/loss=533.295, player_2/loss=355.513, rew=462.67]\n"
     ]
    },
    {
     "name": "stdout",
     "output_type": "stream",
     "text": [
      "Epoch #982: test_reward: 418.000000 ± 0.000000, best_reward: 1834.000000 ± 0.000000 in #117\n"
     ]
    },
    {
     "name": "stderr",
     "output_type": "stream",
     "text": [
      "Epoch #983: 1025it [00:02, 344.43it/s, env_step=1006592, len=24, n/ep=2, n/st=64, player_1/loss=942.867, player_2/loss=259.603, rew=598.00]\n"
     ]
    },
    {
     "name": "stdout",
     "output_type": "stream",
     "text": [
      "Epoch #983: test_reward: 1480.000000 ± 0.000000, best_reward: 1834.000000 ± 0.000000 in #117\n"
     ]
    },
    {
     "name": "stderr",
     "output_type": "stream",
     "text": [
      "Epoch #984: 1025it [00:02, 343.59it/s, env_step=1007616, len=34, n/ep=2, n/st=64, player_1/loss=646.513, player_2/loss=258.149, rew=1229.00]\n"
     ]
    },
    {
     "name": "stdout",
     "output_type": "stream",
     "text": [
      "Epoch #984: test_reward: 928.000000 ± 0.000000, best_reward: 1834.000000 ± 0.000000 in #117\n"
     ]
    },
    {
     "name": "stderr",
     "output_type": "stream",
     "text": [
      "Epoch #985: 1025it [00:02, 345.32it/s, env_step=1008640, len=30, n/ep=2, n/st=64, player_1/loss=621.680, player_2/loss=97.911, rew=1001.00]\n"
     ]
    },
    {
     "name": "stdout",
     "output_type": "stream",
     "text": [
      "Epoch #985: test_reward: 1480.000000 ± 0.000000, best_reward: 1834.000000 ± 0.000000 in #117\n"
     ]
    },
    {
     "name": "stderr",
     "output_type": "stream",
     "text": [
      "Epoch #986: 1025it [00:03, 337.22it/s, env_step=1009664, len=35, n/ep=2, n/st=64, player_1/loss=394.120, player_2/loss=252.633, rew=1296.00]\n"
     ]
    },
    {
     "name": "stdout",
     "output_type": "stream",
     "text": [
      "Epoch #986: test_reward: 1188.000000 ± 0.000000, best_reward: 1834.000000 ± 0.000000 in #117\n"
     ]
    },
    {
     "name": "stderr",
     "output_type": "stream",
     "text": [
      "Epoch #987: 1025it [00:02, 343.93it/s, env_step=1010688, len=29, n/ep=3, n/st=64, player_1/loss=655.989, player_2/loss=355.393, rew=908.00]\n"
     ]
    },
    {
     "name": "stdout",
     "output_type": "stream",
     "text": [
      "Epoch #987: test_reward: 598.000000 ± 0.000000, best_reward: 1834.000000 ± 0.000000 in #117\n"
     ]
    },
    {
     "name": "stderr",
     "output_type": "stream",
     "text": [
      "Epoch #988: 1025it [00:02, 342.37it/s, env_step=1011712, len=36, n/ep=1, n/st=64, player_1/loss=175.893, player_2/loss=276.624, rew=1330.00]\n"
     ]
    },
    {
     "name": "stdout",
     "output_type": "stream",
     "text": [
      "Epoch #988: test_reward: 810.000000 ± 0.000000, best_reward: 1834.000000 ± 0.000000 in #117\n"
     ]
    },
    {
     "name": "stderr",
     "output_type": "stream",
     "text": [
      "Epoch #989: 1025it [00:02, 343.17it/s, env_step=1012736, len=22, n/ep=4, n/st=64, player_1/loss=280.583, player_2/loss=69.073, rew=561.00]\n"
     ]
    },
    {
     "name": "stdout",
     "output_type": "stream",
     "text": [
      "Epoch #989: test_reward: 1330.000000 ± 0.000000, best_reward: 1834.000000 ± 0.000000 in #117\n"
     ]
    },
    {
     "name": "stderr",
     "output_type": "stream",
     "text": [
      "Epoch #990: 1025it [00:02, 345.85it/s, env_step=1013760, len=27, n/ep=3, n/st=64, player_1/loss=553.287, player_2/loss=161.142, rew=756.67]\n"
     ]
    },
    {
     "name": "stdout",
     "output_type": "stream",
     "text": [
      "Epoch #990: test_reward: 754.000000 ± 0.000000, best_reward: 1834.000000 ± 0.000000 in #117\n"
     ]
    },
    {
     "name": "stderr",
     "output_type": "stream",
     "text": [
      "Epoch #991: 1025it [00:02, 344.02it/s, env_step=1014784, len=38, n/ep=2, n/st=64, player_1/loss=412.424, player_2/loss=187.360, rew=1480.00]\n"
     ]
    },
    {
     "name": "stdout",
     "output_type": "stream",
     "text": [
      "Epoch #991: test_reward: 1720.000000 ± 0.000000, best_reward: 1834.000000 ± 0.000000 in #117\n"
     ]
    },
    {
     "name": "stderr",
     "output_type": "stream",
     "text": [
      "Epoch #992: 1025it [00:02, 342.72it/s, env_step=1015808, len=21, n/ep=3, n/st=64, player_1/loss=283.048, player_2/loss=588.152, rew=489.33]\n"
     ]
    },
    {
     "name": "stdout",
     "output_type": "stream",
     "text": [
      "Epoch #992: test_reward: 54.000000 ± 0.000000, best_reward: 1834.000000 ± 0.000000 in #117\n"
     ]
    },
    {
     "name": "stderr",
     "output_type": "stream",
     "text": [
      "Epoch #993: 1025it [00:02, 345.01it/s, env_step=1016832, len=26, n/ep=3, n/st=64, player_1/loss=164.434, player_2/loss=817.587, rew=737.33]\n"
     ]
    },
    {
     "name": "stdout",
     "output_type": "stream",
     "text": [
      "Epoch #993: test_reward: 54.000000 ± 0.000000, best_reward: 1834.000000 ± 0.000000 in #117\n"
     ]
    },
    {
     "name": "stderr",
     "output_type": "stream",
     "text": [
      "Epoch #994: 1025it [00:02, 344.29it/s, env_step=1017856, len=11, n/ep=6, n/st=64, player_1/loss=463.068, player_2/loss=482.125, rew=169.00]\n"
     ]
    },
    {
     "name": "stdout",
     "output_type": "stream",
     "text": [
      "Epoch #994: test_reward: 460.000000 ± 0.000000, best_reward: 1834.000000 ± 0.000000 in #117\n"
     ]
    },
    {
     "name": "stderr",
     "output_type": "stream",
     "text": [
      "Epoch #995: 1025it [00:02, 345.20it/s, env_step=1018880, len=28, n/ep=2, n/st=64, player_1/loss=883.989, player_2/loss=425.931, rew=811.00]\n"
     ]
    },
    {
     "name": "stdout",
     "output_type": "stream",
     "text": [
      "Epoch #995: test_reward: 238.000000 ± 0.000000, best_reward: 1834.000000 ± 0.000000 in #117\n"
     ]
    },
    {
     "name": "stderr",
     "output_type": "stream",
     "text": [
      "Epoch #996: 1025it [00:02, 343.46it/s, env_step=1019904, len=26, n/ep=3, n/st=64, player_1/loss=389.323, player_2/loss=445.510, rew=808.00]\n"
     ]
    },
    {
     "name": "stdout",
     "output_type": "stream",
     "text": [
      "Epoch #996: test_reward: 180.000000 ± 0.000000, best_reward: 1834.000000 ± 0.000000 in #117\n"
     ]
    },
    {
     "name": "stderr",
     "output_type": "stream",
     "text": [
      "Epoch #997: 1025it [00:02, 345.17it/s, env_step=1020928, len=16, n/ep=4, n/st=64, player_1/loss=603.425, player_2/loss=245.081, rew=279.00]\n"
     ]
    },
    {
     "name": "stdout",
     "output_type": "stream",
     "text": [
      "Epoch #997: test_reward: 304.000000 ± 0.000000, best_reward: 1834.000000 ± 0.000000 in #117\n"
     ]
    },
    {
     "name": "stderr",
     "output_type": "stream",
     "text": [
      "Epoch #998: 1025it [00:02, 344.44it/s, env_step=1021952, len=13, n/ep=5, n/st=64, player_1/loss=659.080, player_2/loss=676.084, rew=272.00]\n"
     ]
    },
    {
     "name": "stdout",
     "output_type": "stream",
     "text": [
      "Epoch #998: test_reward: 810.000000 ± 0.000000, best_reward: 1834.000000 ± 0.000000 in #117\n"
     ]
    },
    {
     "name": "stderr",
     "output_type": "stream",
     "text": [
      "Epoch #999: 1025it [00:02, 343.65it/s, env_step=1022976, len=17, n/ep=3, n/st=64, player_1/loss=480.028, player_2/loss=571.523, rew=384.67]"
     ]
    },
    {
     "name": "stdout",
     "output_type": "stream",
     "text": [
      "Epoch #999: test_reward: 504.000000 ± 0.000000, best_reward: 1834.000000 ± 0.000000 in #117\n"
     ]
    },
    {
     "name": "stderr",
     "output_type": "stream",
     "text": [
      "\n"
     ]
    }
   ],
   "source": [
    "####################################################\n",
    "# EXPERIMENT: TRAINING AGENTS\n",
    "####################################################\n",
    "\n",
    "# Get the environment settings\n",
    "env = get_env()\n",
    "observation_space = env.observation_space['observation'] if isinstance(env.observation_space, gym.spaces.Dict) else env.observation_space\n",
    "state_shape = observation_space.shape or observation_space.n\n",
    "action_shape = env.action_space.shape or env.action_space.n\n",
    "\n",
    "# Configure the agents\n",
    "agent1 = cf_dqn_policy(state_shape= state_shape,\n",
    "                       action_shape= action_shape,\n",
    "                       gamma= 0.95, # Favour shorter solutions if small\n",
    "                       n_step= 6)\n",
    "\n",
    "\n",
    "agent2 = cf_dqn_policy(state_shape= state_shape,\n",
    "                       action_shape= action_shape,\n",
    "                       gamma= 0.95, # Favour shorter solutions if small\n",
    "                       n_step= 6)\n",
    "\n",
    "# Train the agent\n",
    "off_policy_traininer_results, final_agent_player1, final_agent_player2 = train_agent(epochs= 1000,\n",
    "                                                                                     training_eps= 0.2)"
   ]
  },
  {
   "cell_type": "code",
   "execution_count": 14,
   "id": "8c8f3121",
   "metadata": {},
   "outputs": [
    {
     "name": "stdout",
     "output_type": "stream",
     "text": [
      "Average steps of game:  37.0\n",
      "Final mean reward agent 1: 727.0, std: 0.0\n",
      "Final mean reward agent 2: 677.0, std: 0.0\n"
     ]
    }
   ],
   "source": [
    "####################################################\n",
    "# EXPERIMENT: VIEWING THE BEST LEARNED POLICY\n",
    "####################################################\n",
    "\n",
    "# Get the environment settings\n",
    "env = get_env()\n",
    "observation_space = env.observation_space['observation'] if isinstance(env.observation_space, gym.spaces.Dict) else env.observation_space\n",
    "state_shape = observation_space.shape or observation_space.n\n",
    "action_shape = env.action_space.shape or env.action_space.n\n",
    "\n",
    "# Configure the best agent\n",
    "best_agent1 = cf_dqn_policy(state_shape= state_shape,\n",
    "                            action_shape= action_shape)\n",
    "best_agent1.load_state_dict(torch.load(\"./saved_variables/paper_notebooks/5/dqn_vs_dqn/best_policy_agent1.pth\"))\n",
    "\n",
    "\n",
    "best_agent2 = cf_dqn_policy(state_shape= state_shape,\n",
    "                            action_shape= action_shape)\n",
    "best_agent2.load_state_dict(torch.load(\"./saved_variables/paper_notebooks/5/dqn_vs_dqn/best_policy_agent2.pth\"))\n",
    "\n",
    "# Watch the best agent at work\n",
    "watch(numer_of_games= 3,\n",
    "      render_speed= 0.3,\n",
    "      agent_player1= best_agent1,\n",
    "      agent_player2= best_agent2)\n",
    "\n"
   ]
  },
  {
   "cell_type": "code",
   "execution_count": 15,
   "id": "c704acd8",
   "metadata": {},
   "outputs": [
    {
     "name": "stdout",
     "output_type": "stream",
     "text": [
      "Average steps of game:  33.666666666666664\n",
      "Final mean reward agent 1: 608.0, std: 32.526911934581186\n",
      "Final mean reward agent 2: 558.0, std: 32.526911934581186\n"
     ]
    }
   ],
   "source": [
    "####################################################\n",
    "# EXPERIMENT: VIEWING THE LAST LEARNED POLICY\n",
    "####################################################\n",
    "\n",
    "# Configure the final agent\n",
    "final_agent_player1 = cf_dqn_policy(state_shape= state_shape,\n",
    "                            action_shape= action_shape)\n",
    "final_agent_player1.load_state_dict(torch.load(\"./saved_variables/paper_notebooks/5/dqn_vs_dqn/final_policy_agent1.pth\"))\n",
    "\n",
    "\n",
    "final_agent_player2 = cf_dqn_policy(state_shape= state_shape,\n",
    "                            action_shape= action_shape)\n",
    "final_agent_player2.load_state_dict(torch.load(\"./saved_variables/paper_notebooks/5/dqn_vs_dqn/final_policy_agent2.pth\"))\n",
    "\n",
    "# Watch the best agent at work\n",
    "watch(numer_of_games= 3,\n",
    "      render_speed= 0.3,\n",
    "      agent_player1= final_agent_player1,\n",
    "      agent_player2= final_agent_player2)\n",
    "\n"
   ]
  },
  {
   "cell_type": "markdown",
   "id": "84478519",
   "metadata": {},
   "source": [
    "<hr><hr>\n",
    "\n",
    "## Discussion\n",
    "\n",
    "Using the custom model, the DQN agents seem to have converged to a policy where they trie to play for maximum amount of iterations. This results in a slightly more human way of playing, although clear winning opertunities are sometimes still left open in favour of a longer game, which is not the wanted behaviour."
   ]
  },
  {
   "cell_type": "code",
   "execution_count": null,
   "id": "3d9110be",
   "metadata": {},
   "outputs": [],
   "source": [
    "####################################################\n",
    "# CLEAN VARIABLES\n",
    "####################################################\n",
    "\n",
    "del action_shape\n",
    "del agent1\n",
    "del agent2\n",
    "del best_agent1\n",
    "del best_agent2\n",
    "del env\n",
    "del final_agent_player1\n",
    "del final_agent_player2\n",
    "del observation_space\n",
    "del off_policy_traininer_results\n",
    "del state_shape\n"
   ]
  },
  {
   "cell_type": "code",
   "execution_count": null,
   "id": "a74d3da3",
   "metadata": {},
   "outputs": [],
   "source": []
  }
 ],
 "metadata": {
  "interpreter": {
   "hash": "9b88c88564fefe7444548986d165ad8d7f764d0079ffa923785a3f5a89d52c74"
  },
  "kernelspec": {
   "display_name": "Python 3 (ipykernel)",
   "language": "python",
   "name": "python3"
  },
  "language_info": {
   "codemirror_mode": {
    "name": "ipython",
    "version": 3
   },
   "file_extension": ".py",
   "mimetype": "text/x-python",
   "name": "python",
   "nbconvert_exporter": "python",
   "pygments_lexer": "ipython3",
   "version": "3.8.10"
  }
 },
 "nbformat": 4,
 "nbformat_minor": 5
}
