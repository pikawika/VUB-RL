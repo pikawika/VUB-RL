{
 "cells": [
  {
   "cell_type": "markdown",
   "id": "337221df",
   "metadata": {},
   "source": [
    "# Petting Zoo connect four environment\n",
    "\n",
    "We build our own custom gym environment and converted it to a Petting Zoo like environment in V2.\n",
    "To validate our results found for this environment we run a similar experiment as is done in the paper notebook `3-learning-connect-four-dqn-agents-tianshou.ipynb` to see if we find the same results.\n",
    "Thus, this notebook aims to show that our encountered issues don't lie in our games implementation.\n"
   ]
  },
  {
   "cell_type": "markdown",
   "id": "b5341c6d",
   "metadata": {},
   "source": [
    "<hr><hr>\n",
    "\n",
    "## Table of Contents\n",
    "\n",
    "- Contact information\n",
    "- Checking requirements\n",
    "  - Correct Anaconda environment\n",
    "  - Correct module access\n",
    "  - Correct CUDA access\n",
    "- Training two DQN agents on connect four Gym\n",
    "  - Create the Gym environment\n",
    "  - Building the environment\n",
    "  - Implementing the DQN policy\n",
    "  - Building agents\n",
    "  - Function for letting agents learn\n",
    "  - Function for watching learned agent\n",
    "  - Doing the experiment\n",
    "- Discussion"
   ]
  },
  {
   "cell_type": "markdown",
   "id": "292165d3",
   "metadata": {},
   "source": [
    "<hr><hr>\n",
    "\n",
    "## Contact information\n",
    "\n",
    "| Name             | Student ID | VUB mail                                                  | Personal mail                                               |\n",
    "| ---------------- | ---------- | --------------------------------------------------------- | ----------------------------------------------------------- |\n",
    "| Lennert Bontinck | 0568702    | [lennert.bontinck@vub.be](mailto:lennert.bontinck@vub.be) | [info@lennertbontinck.com](mailto:info@lennertbontinck.com) |\n",
    "\n"
   ]
  },
  {
   "cell_type": "markdown",
   "id": "7a405d24",
   "metadata": {},
   "source": [
    "<hr><hr>\n",
    "\n",
    "## Checking requirements\n",
    "\n",
    "### Correct Anaconda environment\n",
    "\n",
    "The `rl-project` anaconda environment should be active to ensure proper support. Installation instructions are available on [the GitHub repository of the RL course project and homeworks](https://github.com/pikawika/vub-rl)."
   ]
  },
  {
   "cell_type": "code",
   "execution_count": 1,
   "id": "334d5fd4",
   "metadata": {},
   "outputs": [
    {
     "name": "stdout",
     "output_type": "stream",
     "text": [
      "Active environment: rl-project\n",
      "Correct environment: True\n",
      "\n",
      "Python version: 3.8.10\n",
      "Correct Python version: True\n"
     ]
    }
   ],
   "source": [
    "####################################################\n",
    "# CHECKING FOR RIGHT ANACONDA ENVIRONMENT\n",
    "####################################################\n",
    "\n",
    "import os\n",
    "from platform import python_version\n",
    "\n",
    "print(f\"Active environment: {os.environ['CONDA_DEFAULT_ENV']}\")\n",
    "print(f\"Correct environment: {os.environ['CONDA_DEFAULT_ENV'] == 'rl-project'}\")\n",
    "print(f\"\\nPython version: {python_version()}\")\n",
    "print(f\"Correct Python version: {python_version() == '3.8.10'}\")"
   ]
  },
  {
   "cell_type": "markdown",
   "id": "22166668",
   "metadata": {},
   "source": [
    "<hr>\n",
    "\n",
    "### Correct module access\n",
    "\n",
    "The following code block will load in all required modules and show if the versions match those that are recommended."
   ]
  },
  {
   "cell_type": "code",
   "execution_count": 18,
   "id": "ab632204",
   "metadata": {},
   "outputs": [
    {
     "name": "stdout",
     "output_type": "stream",
     "text": [
      "Matplotlib version (3.5.1 recommended): 3.5.1\n",
      "Pygame version (2.1.2 recommended): 2.1.2\n",
      "Gym version (0.23.1 recommended): 0.23.1\n",
      "Petting Zoo version (1.18.1 recommended): 1.18.1\n",
      "Tianshou version (0.4.8 recommended): 0.4.8\n",
      "Torch version (1.11.0 recommended): 1.12.0.dev20220520+cu116\n"
     ]
    }
   ],
   "source": [
    "####################################################\n",
    "# LOADING MODULES\n",
    "####################################################\n",
    "\n",
    "# Allow reloading of libraries\n",
    "import importlib\n",
    "\n",
    "# Plotting\n",
    "import matplotlib; print(f\"Matplotlib version (3.5.1 recommended): {matplotlib.__version__}\")\n",
    "import matplotlib.pyplot as plt\n",
    "\n",
    "# Argparser\n",
    "import argparse\n",
    "\n",
    "# More data types\n",
    "import typing\n",
    "import numpy as np\n",
    "\n",
    "# Pygame\n",
    "import pygame; print(f\"Pygame version (2.1.2 recommended): {pygame.__version__}\")\n",
    "\n",
    "# Gym environment\n",
    "import gym; print(f\"Gym version (0.23.1 recommended): {gym.__version__}\")\n",
    "\n",
    "# PettingZoo environments\n",
    "import pettingzoo; print(f\"Petting Zoo version (1.18.1 recommended): {pettingzoo.__version__}\")\n",
    "from pettingzoo.classic import connect_four_v3 as cf_pettingzoo\n",
    "\n",
    "# Tianshou for RL algorithms\n",
    "import tianshou as ts; print(f\"Tianshou version (0.4.8 recommended): {ts.__version__}\")\n",
    "\n",
    "# Torch is a popular DL framework\n",
    "import torch; print(f\"Torch version (1.11.0 recommended): {torch.__version__}\")\n",
    "\n",
    "# PPrint is a pretty print for variables\n",
    "from pprint import pprint\n",
    "\n",
    "# Our custom connect four gym environment\n",
    "import sys\n",
    "sys.path.append('../')\n",
    "import gym_connect4_pygame.envs.ConnectFourPygameEnvV2 as cfgym\n",
    "importlib.invalidate_caches()\n",
    "importlib.reload(cfgym)\n",
    "\n",
    "# Time for allowing \"freezes\" in execution\n",
    "import time;\n",
    "\n",
    "# Allow for copying objects in a non reference manner\n",
    "import copy\n",
    "\n",
    "# Used for updating notebook display\n",
    "from IPython.display import clear_output"
   ]
  },
  {
   "cell_type": "markdown",
   "id": "f2617a21",
   "metadata": {},
   "source": [
    "<hr>\n",
    "\n",
    "### Correct CUDA access\n",
    "\n",
    "The installation instructions specify how to install PyTorch with CUDA 11.6.\n",
    "The following code block tests if this was done successfully."
   ]
  },
  {
   "cell_type": "code",
   "execution_count": 3,
   "id": "da9f5ed0",
   "metadata": {},
   "outputs": [
    {
     "name": "stdout",
     "output_type": "stream",
     "text": [
      "CUDA is available: True\n",
      "\n",
      "Amount of connected devices supporting CUDA: 1\n",
      "\n",
      "Current CUDA device: 0\n",
      "Cuda device 0 name: NVIDIA GeForce GTX 970\n"
     ]
    }
   ],
   "source": [
    "####################################################\n",
    "# CUDA VALIDATION\n",
    "####################################################\n",
    "\n",
    "# Check cuda available\n",
    "print(f\"CUDA is available: {torch.cuda.is_available()}\")\n",
    "\n",
    "# Show cuda devices\n",
    "print(f\"\\nAmount of connected devices supporting CUDA: {torch.cuda.device_count()}\")\n",
    "\n",
    "# Show current cuda device\n",
    "print(f\"\\nCurrent CUDA device: {torch.cuda.current_device()}\")\n",
    "\n",
    "# Show cuda device name\n",
    "print(f\"Cuda device 0 name: {torch.cuda.get_device_name(0)}\")"
   ]
  },
  {
   "cell_type": "markdown",
   "id": "826657c4",
   "metadata": {},
   "source": [
    "<hr><hr>\n",
    "\n",
    "## Training two DQN agents on connect four Gym\n",
    "\n",
    "Our connect four gym setup requires two agents, one for each player.\n",
    "To reduce complexity, agents will always play as the same player, e.g. always as player 1.\n",
    "It is important to note that connect four is a *solved game*.\n",
    "According to [The Washington Post](https://www.washingtonpost.com/news/wonk/wp/2015/05/08/how-to-win-any-popular-game-according-to-data-scientists/):\n",
    "\n",
    "> Connect Four is what mathematicians call a \"solved game,\" meaning you can play it perfectly every time, no matter what your opponent does. You will need to get the first move, but as long as you do so, you can always win within 41 moves.\n",
    "\n",
    "<hr>\n",
    "\n",
    "### Create the Gym environment\n",
    "\n",
    "Our environment used differs from the last notebook, namely, we give a reward just for playing a move in the hope this would prolong games and thus make the agents combat the other agents moves."
   ]
  },
  {
   "cell_type": "code",
   "execution_count": 4,
   "id": "93a65ac2",
   "metadata": {},
   "outputs": [
    {
     "name": "stdout",
     "output_type": "stream",
     "text": [
      "Observation space: Dict(action_mask:Box(0, 1, (7,), int8), observation:Box(0, 1, (6, 7, 2), int8))\n",
      "\n",
      "Action space: Discrete(7)\n",
      "\n",
      " Initial player id:\n",
      "player_0\n",
      "\n",
      " Initial observation:\n",
      "[[[0 0]\n",
      "  [0 0]\n",
      "  [0 0]\n",
      "  [0 0]\n",
      "  [0 0]\n",
      "  [0 0]\n",
      "  [0 0]]\n",
      "\n",
      " [[0 0]\n",
      "  [0 0]\n",
      "  [0 0]\n",
      "  [0 0]\n",
      "  [0 0]\n",
      "  [0 0]\n",
      "  [0 0]]\n",
      "\n",
      " [[0 0]\n",
      "  [0 0]\n",
      "  [0 0]\n",
      "  [0 0]\n",
      "  [0 0]\n",
      "  [0 0]\n",
      "  [0 0]]\n",
      "\n",
      " [[0 0]\n",
      "  [0 0]\n",
      "  [0 0]\n",
      "  [0 0]\n",
      "  [0 0]\n",
      "  [0 0]\n",
      "  [0 0]]\n",
      "\n",
      " [[0 0]\n",
      "  [0 0]\n",
      "  [0 0]\n",
      "  [0 0]\n",
      "  [0 0]\n",
      "  [0 0]\n",
      "  [0 0]]\n",
      "\n",
      " [[0 0]\n",
      "  [0 0]\n",
      "  [0 0]\n",
      "  [0 0]\n",
      "  [0 0]\n",
      "  [0 0]\n",
      "  [0 0]]]\n",
      "\n",
      " Initial mask:\n",
      "[True, True, True, True, True, True, True]\n"
     ]
    }
   ],
   "source": [
    "####################################################\n",
    "# SETTING UP THE GYM ENVIRONMENT\n",
    "####################################################\n",
    "\n",
    "# Create an instance of the environment to be used\n",
    "# We use the Petting Zoo implementation of connect four\n",
    "env = ts.env.PettingZooEnv(cf_pettingzoo.env())\n",
    "\n",
    "# Get information about the environment\n",
    "print(f\"Observation space: {env.observation_space}\")\n",
    "print(f\"\\nAction space: {env.action_space}\")\n",
    "\n",
    "# Reset the environment to start from a clean state, returns the initial observation\n",
    "observation = env.reset()\n",
    "\n",
    "print(\"\\n Initial player id:\")\n",
    "print(observation[\"agent_id\"])\n",
    "\n",
    "print(\"\\n Initial observation:\")\n",
    "print(observation[\"obs\"])\n",
    "\n",
    "print(\"\\n Initial mask:\")\n",
    "print(observation[\"mask\"])\n",
    "\n",
    "# Clean unused variables\n",
    "del observation\n",
    "del env"
   ]
  },
  {
   "cell_type": "markdown",
   "id": "bb9a7d4f",
   "metadata": {},
   "source": [
    "<hr>\n",
    "\n",
    "### Building the environment\n",
    "\n",
    "We build a simple function to get the environment the agent will play in."
   ]
  },
  {
   "cell_type": "code",
   "execution_count": 5,
   "id": "c2b47a58",
   "metadata": {},
   "outputs": [],
   "source": [
    "####################################################\n",
    "# CONNECT FOUR V2 ENVIRONMENT\n",
    "####################################################\n",
    "\n",
    "def get_env():\n",
    "    \"\"\"\n",
    "    Returns the connect four gym environment Petting Zoo\n",
    "    Already wrapped with a ts.env.PettingZooEnv wrapper.\n",
    "    \"\"\"\n",
    "    return ts.env.PettingZooEnv(cf_pettingzoo.env())"
   ]
  },
  {
   "cell_type": "markdown",
   "id": "0bc7e7da",
   "metadata": {},
   "source": [
    "<hr>\n",
    "\n",
    "### Implementing the DQN policy\n",
    "\n",
    "The DQN policy for the agent is configured and set up below.\n",
    "This is identical to the previous notebook."
   ]
  },
  {
   "cell_type": "code",
   "execution_count": 6,
   "id": "539b56ff",
   "metadata": {},
   "outputs": [],
   "source": [
    "####################################################\n",
    "# DQN POLICY\n",
    "####################################################\n",
    "\n",
    "def cf_dqn_policy(state_shape: tuple,\n",
    "                  action_shape: tuple,\n",
    "                  optim: typing.Optional[torch.optim.Optimizer] = None,\n",
    "                  learning_rate: float =  0.0001,\n",
    "                  gamma: float = 0.9, # Smaller gamma favours \"faster\" win\n",
    "                  n_step: int = 6, # Number of steps to look ahead\n",
    "                  target_update_freq: int = 320,\n",
    "                  hidden_sizes: list = [128, 128, 128, 128]):\n",
    "    # Use cuda device if possible\n",
    "    device = 'cuda' if torch.cuda.is_available() else 'cpu'\n",
    "    \n",
    "    # Network to be used for DQN\n",
    "    ## Set to use the CUDA device if possible\n",
    "    net = ts.utils.net.common.Net(state_shape= state_shape,\n",
    "                                  action_shape= action_shape,\n",
    "                                  hidden_sizes= hidden_sizes,\n",
    "                                  device= device).to(device)\n",
    "    \n",
    "    # Default optimizer is an adam optimizer with the argparser learning rate\n",
    "    if optim is None:\n",
    "        optim = torch.optim.Adam(net.parameters(), lr= learning_rate)\n",
    "        \n",
    "    # Our agent DQN policy\n",
    "    return ts.policy.DQNPolicy(model= net,\n",
    "                               optim= optim,\n",
    "                               discount_factor= gamma,\n",
    "                               estimation_step= n_step,\n",
    "                               target_update_freq= target_update_freq)"
   ]
  },
  {
   "cell_type": "markdown",
   "id": "dd411318",
   "metadata": {},
   "source": [
    "<hr>\n",
    "\n",
    "### Building agents\n",
    "\n",
    "Identical to the previous notebook."
   ]
  },
  {
   "cell_type": "code",
   "execution_count": 7,
   "id": "f7ae27d2",
   "metadata": {},
   "outputs": [],
   "source": [
    "####################################################\n",
    "# AGENT CREATION\n",
    "####################################################\n",
    "\n",
    "def get_agents(agent_player1: typing.Optional[ts.policy.BasePolicy] = None,\n",
    "               agent_player2: typing.Optional[ts.policy.BasePolicy] = None,\n",
    "               optim: typing.Optional[torch.optim.Optimizer] = None,\n",
    "               resume_path_player_1: str = '', # Path to file to resume agent training from\n",
    "               resume_path_player_2: str = '', \n",
    "               ) -> typing.Tuple[ts.policy.BasePolicy, torch.optim.Optimizer, list]:\n",
    "    \"\"\"\n",
    "    Gets a multi agent policy manager, optimizer and player ids for the connect four V2 gym environment.\n",
    "    Per default this returns \n",
    "        - Multi agent manager for 2 agents using DQN\n",
    "        - Adam optimizer\n",
    "        - ['player_1', 'player_2'] from the connect four environment\n",
    "    \"\"\"\n",
    "    \n",
    "    # Get the environment to play in (Connect four gym V2)\n",
    "    env = get_env()\n",
    "    \n",
    "    # Get the observation space from the environment, depending on typo of space (ternary operator)\n",
    "    observation_space = env.observation_space['observation'] if isinstance(env.observation_space, gym.spaces.Dict) else env.observation_space\n",
    "    \n",
    "    # Set the arguments\n",
    "    state_shape = observation_space.shape or observation_space.n\n",
    "    action_shape = env.action_space.shape or env.action_space.n\n",
    "    \n",
    "    # Configure agent player 1 to be a DQN if no policy is passed.\n",
    "    if agent_player1 is None:\n",
    "        # Our agent1 uses a DQN policy\n",
    "        agent_player1 = cf_dqn_policy(state_shape= state_shape,\n",
    "                                      action_shape= action_shape,\n",
    "                                      optim= optim)\n",
    "        \n",
    "        # If we resume our agent we need to load the previous config\n",
    "        if resume_path_player_1:\n",
    "            agent_player1.load_state_dict(torch.load(resume_path_player_1))\n",
    "    \n",
    "    # Configure agent player 2 to be a DQN if no policy is passed.\n",
    "    if agent_player2 is None:\n",
    "        # Our agent1 uses a DQN policy\n",
    "        agent_player2 = cf_dqn_policy(state_shape= state_shape,\n",
    "                                      action_shape= action_shape,\n",
    "                                      optim= optim)\n",
    "        \n",
    "        # If we resume our agent we need to load the previous config\n",
    "        if resume_path_player_2:\n",
    "            agent_player2.load_state_dict(torch.load(resume_path_player_2))\n",
    "\n",
    "    # Both our agents are DQN agents by default\n",
    "    agents = [agent_player1, agent_player2]\n",
    "        \n",
    "    # Our policy depends on the order of the agents\n",
    "    policy = ts.policy.MultiAgentPolicyManager(agents, env)\n",
    "    \n",
    "    # Return our policy, optimizer and the available agents in the environment\n",
    "    # Per default: \n",
    "    #   - Multi agent manager for 2 agents using DQN\n",
    "    #   - Adam optimizer\n",
    "    #   - ['player_1', 'player_2'] from the connect four environment\n",
    "    \n",
    "    return policy, optim, env.agents"
   ]
  },
  {
   "cell_type": "markdown",
   "id": "95a8f3a6",
   "metadata": {},
   "source": [
    "<hr>\n",
    "\n",
    "### Function for letting agents learn\n",
    "\n",
    "Identical to the previous notebook."
   ]
  },
  {
   "cell_type": "code",
   "execution_count": 8,
   "id": "9a32c218",
   "metadata": {},
   "outputs": [],
   "source": [
    "####################################################\n",
    "# AGENT TRAINING\n",
    "####################################################\n",
    "\n",
    "def train_agent(filename: str = \"dqn_vs_dqn_pettingzoo\",\n",
    "                agent_player1: typing.Optional[ts.policy.BasePolicy] = None,\n",
    "                agent_player2: typing.Optional[ts.policy.BasePolicy] = None,\n",
    "                optim: typing.Optional[torch.optim.Optimizer] = None,\n",
    "                training_env_num: int = 10,\n",
    "                testing_env_num: int = 10,\n",
    "                buffer_size: int = 2^14, # 16 384\n",
    "                batch_size: int = 64,\n",
    "                epochs: int = 50,\n",
    "                step_per_epoch: int = 1024,\n",
    "                step_per_collect: int = 10,\n",
    "                update_per_step: float = 0.1,\n",
    "                testing_eps: float = 0.05,\n",
    "                training_eps: float = 0.1,\n",
    "                ) -> typing.Tuple[dict, ts.policy.BasePolicy]:\n",
    "    \"\"\"\n",
    "    Trains two agents in the connect four V2 environment and saves their best model and logs.\n",
    "    Returns:\n",
    "        - result from offpolicy_trainer\n",
    "        - final version of agent 1\n",
    "        - final version of agent 2\n",
    "    \"\"\"\n",
    "\n",
    "    # ======== notebook specific =========\n",
    "    notebook_version = '3' # Used for foldering logs and models\n",
    "\n",
    "    # ======== environment setup =========\n",
    "    train_envs = ts.env.DummyVectorEnv([get_env for _ in range(training_env_num)])\n",
    "    test_envs = ts.env.DummyVectorEnv([get_env for _ in range(testing_env_num)])\n",
    "    \n",
    "    # set the seed for reproducibility\n",
    "    np.random.seed(1998)\n",
    "    torch.manual_seed(1998)\n",
    "    train_envs.seed(1998)\n",
    "    test_envs.seed(1998)\n",
    "\n",
    "    # ======== agent setup =========\n",
    "    # Gets our agents from the previously made function\n",
    "    # Per default: \n",
    "    #   - Multi agent manager for 2 agents using DQN\n",
    "    #   - Adam optimizer\n",
    "    #   - ['player_1', 'player_2'] from the connect four environment\n",
    "    policy, optim, agents = get_agents(agent_player1=agent_player1,\n",
    "                                       agent_player2=agent_player2,\n",
    "                                       optim=optim)\n",
    "\n",
    "    # ======== collector setup =========\n",
    "    # Make a collector for the training environments\n",
    "    train_collector = ts.data.Collector(policy= policy,\n",
    "                                        env= train_envs,\n",
    "                                        buffer= ts.data.VectorReplayBuffer(buffer_size, len(train_envs)),\n",
    "                                        exploration_noise= True)\n",
    "    \n",
    "    # Make a collector for the testing environments\n",
    "    test_collector = ts.data.Collector(policy= policy,\n",
    "                                       env= test_envs,\n",
    "                                       exploration_noise= True)\n",
    "    \n",
    "    # Uncomment below if you want to set epsilon in epsilon policy\n",
    "    # policy.set_eps(1)\n",
    "    \n",
    "    # Collect data fot the training evnironments\n",
    "    train_collector.collect(n_step= batch_size * training_env_num)\n",
    "    \n",
    "    # ======== ensure folders exist =========\n",
    "    if not os.path.exists(os.path.join('./logs', 'experimental_notebooks', notebook_version, filename)):\n",
    "        os.makedirs(os.path.join('./logs', 'experimental_notebooks', notebook_version, filename))\n",
    "    if not os.path.exists(os.path.join('./saved_variables', 'experimental_notebooks', notebook_version, filename)):\n",
    "        os.makedirs(os.path.join('./saved_variables', 'experimental_notebooks', notebook_version, filename))\n",
    "\n",
    "    # ======== tensorboard logging setup =========\n",
    "    # Allows to save the training progress to tensorboard compatable logs\n",
    "    log_path = os.path.join('./logs', 'experimental_notebooks', notebook_version, filename)\n",
    "    writer = torch.utils.tensorboard.SummaryWriter(log_path)\n",
    "    logger = ts.utils.TensorboardLogger(writer)\n",
    "\n",
    "    # ======== callback functions used during training =========\n",
    "    # We want to save our best policy\n",
    "    def save_best_fn(policy):\n",
    "        \"\"\"\n",
    "        Callback to save the best model\n",
    "        \"\"\"\n",
    "        # Save best agent 1\n",
    "        model_save_path = os.path.join('./saved_variables', 'experimental_notebooks', notebook_version, filename, 'best_policy_agent1.pth')\n",
    "        torch.save(policy.policies[agents[0]].state_dict(), model_save_path)\n",
    "        \n",
    "        # Save best agent 2\n",
    "        model_save_path = os.path.join('./saved_variables', 'experimental_notebooks', notebook_version, filename, 'best_policy_agent2.pth')\n",
    "        torch.save(policy.policies[agents[1]].state_dict(), model_save_path)\n",
    "        \n",
    "        # Save agent2\n",
    "\n",
    "    def stop_fn(mean_rewards):\n",
    "        \"\"\"\n",
    "        Callback to stop training when we've reached the win rate\n",
    "        \"\"\"\n",
    "        return mean_rewards >= 7 # (win = 10, 70% win without invalid moves = mean of 7)\n",
    "\n",
    "    def train_fn(epoch, env_step):\n",
    "        \"\"\"\n",
    "        Callback before training\n",
    "        \"\"\"        \n",
    "        # Before training we want to configure the epsilon for the agents\n",
    "        # In general more exploratory than the test case\n",
    "        policy.policies[agents[0]].set_eps(training_eps)\n",
    "        policy.policies[agents[1]].set_eps(training_eps)\n",
    "\n",
    "    def test_fn(epoch, env_step):\n",
    "        \"\"\"\n",
    "        Callback beore testing\n",
    "        \"\"\"        \n",
    "        # Before testing we want to configure the epsilon for the agents\n",
    "        # In general more greedy than the train case but not\n",
    "        #   to avoid getting stuck on invalid moves\n",
    "        policy.policies[agents[0]].set_eps(testing_eps)\n",
    "\n",
    "    def reward_metric(rews):\n",
    "        \"\"\"\n",
    "        Callback for reward collection\n",
    "        \"\"\"\n",
    "        # We are interested in having a high total total reward,\n",
    "        #   as this would mean equally good agents.\n",
    "        return rews[:, 0] + rews[:, 1]\n",
    "\n",
    "    # trainer\n",
    "    result = ts.trainer.offpolicy_trainer(policy= policy,\n",
    "                                          train_collector= train_collector,\n",
    "                                          test_collector= test_collector,\n",
    "                                          max_epoch= epochs,\n",
    "                                          step_per_epoch= step_per_epoch,\n",
    "                                          step_per_collect= step_per_collect,\n",
    "                                          episode_per_test= testing_env_num,\n",
    "                                          batch_size= batch_size,\n",
    "                                          train_fn= train_fn,\n",
    "                                          test_fn= test_fn,\n",
    "                                          # Stop function to stop before specified amount of epochs\n",
    "                                          #stop_fn= stop_fn\n",
    "                                          save_best_fn= save_best_fn,\n",
    "                                          update_per_step= update_per_step,\n",
    "                                          logger= logger,\n",
    "                                          test_in_train= False,\n",
    "                                          reward_metric= reward_metric)\n",
    "    \n",
    "    # Save final agent 1\n",
    "    model_save_path = os.path.join('./saved_variables', 'experimental_notebooks', notebook_version, filename, 'final_policy_agent1.pth')\n",
    "    torch.save(policy.policies[agents[0]].state_dict(), model_save_path)\n",
    "\n",
    "    # Save final agent 2\n",
    "    model_save_path = os.path.join('./saved_variables', 'experimental_notebooks', notebook_version, filename, 'final_policy_agent2.pth')\n",
    "    torch.save(policy.policies[agents[1]].state_dict(), model_save_path)\n",
    "\n",
    "    return result, policy.policies[agents[0]], policy.policies[agents[1]]"
   ]
  },
  {
   "cell_type": "markdown",
   "id": "f161cc0f",
   "metadata": {},
   "source": [
    "<hr>\n",
    "\n",
    "### Function for watching learned agent\n",
    "\n",
    "Identical to the previous notebook."
   ]
  },
  {
   "cell_type": "code",
   "execution_count": 9,
   "id": "b526e5f0",
   "metadata": {},
   "outputs": [],
   "source": [
    "####################################################\n",
    "# WATCHING THE LEARNED POLICY IN ACTION\n",
    "####################################################\n",
    "\n",
    "def watch(numer_of_games:int = 3,\n",
    "          agent_player1: typing.Optional[ts.policy.BasePolicy] = None,\n",
    "          agent_player2: typing.Optional[ts.policy.BasePolicy] = None,\n",
    "          test_epsilon: float = 0.05, # For the watching we act completely greedy but low random for not getting stuck on invalid move\n",
    "          render_speed: float = 0.15, # Amount of seconds to update frame/ do a step\n",
    "          ) -> None:\n",
    "    \n",
    "    # Get the connect four V2 environment (must be a list)\n",
    "    env= ts.env.DummyVectorEnv([get_env])\n",
    "    \n",
    "    # Get the agents from the trained agents\n",
    "    policy, optim, agents = get_agents(agent_player1= agent_player1,\n",
    "                                       agent_player2= agent_player2)\n",
    "    \n",
    "    # Evaluate the policy\n",
    "    policy.eval()\n",
    "    \n",
    "    # Set the testing policy epsilon for our agents\n",
    "    policy.policies[agents[0]].set_eps(test_epsilon)\n",
    "    policy.policies[agents[1]].set_eps(test_epsilon)\n",
    "    \n",
    "    # Collect the test data\n",
    "    collector = ts.data.Collector(policy= policy,\n",
    "                                  env= env,\n",
    "                                  exploration_noise= True)\n",
    "    \n",
    "    # Render games in human mode to see how it plays\n",
    "    result = collector.collect(n_episode= numer_of_games, render= render_speed)\n",
    "    \n",
    "    # Close the environment aftering collecting the results\n",
    "    # This closes the pygame window after completion\n",
    "    env.close()\n",
    "    \n",
    "    # Get the rewards and length from the test trials\n",
    "    rewards, length = result[\"rews\"], result[\"lens\"]\n",
    "    \n",
    "    # Print the final reward for the first agent\n",
    "    print(f\"Average steps of game:  {length.mean()}\")\n",
    "    print(f\"Final mean reward agent 1: {rewards[:, 0].mean()}, std: {rewards[:, 0].std()}\")\n",
    "    print(f\"Final mean reward agent 2: {rewards[:, 1].mean()}, std: {rewards[:, 1].std()}\")"
   ]
  },
  {
   "cell_type": "markdown",
   "id": "c31784e9",
   "metadata": {},
   "source": [
    "<hr>\n",
    "\n",
    "### Doing the experiment\n",
    "\n",
    "We now do the experiment with using our previously created functions.\n",
    "We update some parameter settings to find if we can improve our DQN agents."
   ]
  },
  {
   "cell_type": "code",
   "execution_count": 10,
   "id": "93fe8961",
   "metadata": {
    "scrolled": true
   },
   "outputs": [
    {
     "name": "stderr",
     "output_type": "stream",
     "text": [
      "Epoch #1: 1030it [00:03, 321.51it/s, env_step=1030, len=8, n/ep=1, n/st=10, player_0/loss=0.142, player_1/loss=0.164, rew=0.00]\n"
     ]
    },
    {
     "name": "stdout",
     "output_type": "stream",
     "text": [
      "Epoch #1: test_reward: 0.000000 ± 0.000000, best_reward: 0.000000 ± 0.000000 in #0\n"
     ]
    },
    {
     "name": "stderr",
     "output_type": "stream",
     "text": [
      "Epoch #2: 1030it [00:01, 523.52it/s, env_step=2060, len=7, n/ep=0, n/st=10, player_0/loss=0.134, player_1/loss=0.158, rew=0.00]\n"
     ]
    },
    {
     "name": "stdout",
     "output_type": "stream",
     "text": [
      "Epoch #2: test_reward: 0.000000 ± 0.000000, best_reward: 0.000000 ± 0.000000 in #0\n"
     ]
    },
    {
     "name": "stderr",
     "output_type": "stream",
     "text": [
      "Epoch #3: 1030it [00:02, 401.12it/s, env_step=3090, len=11, n/ep=0, n/st=10, player_0/loss=0.118, player_1/loss=0.144, rew=0.00]\n"
     ]
    },
    {
     "name": "stdout",
     "output_type": "stream",
     "text": [
      "Epoch #3: test_reward: 0.000000 ± 0.000000, best_reward: 0.000000 ± 0.000000 in #0\n"
     ]
    },
    {
     "name": "stderr",
     "output_type": "stream",
     "text": [
      "Epoch #4: 1030it [00:02, 495.73it/s, env_step=4120, len=8, n/ep=1, n/st=10, player_0/loss=0.118, player_1/loss=0.113, rew=0.00]\n"
     ]
    },
    {
     "name": "stdout",
     "output_type": "stream",
     "text": [
      "Epoch #4: test_reward: 0.000000 ± 0.000000, best_reward: 0.000000 ± 0.000000 in #0\n"
     ]
    },
    {
     "name": "stderr",
     "output_type": "stream",
     "text": [
      "Epoch #5: 1030it [00:02, 481.01it/s, env_step=5150, len=15, n/ep=0, n/st=10, player_0/loss=0.084, player_1/loss=0.070, rew=0.00]\n"
     ]
    },
    {
     "name": "stdout",
     "output_type": "stream",
     "text": [
      "Epoch #5: test_reward: 0.000000 ± 0.000000, best_reward: 0.000000 ± 0.000000 in #0\n"
     ]
    },
    {
     "name": "stderr",
     "output_type": "stream",
     "text": [
      "Epoch #6: 1030it [00:02, 468.53it/s, env_step=6180, len=8, n/ep=2, n/st=10, player_0/loss=0.108, player_1/loss=0.149, rew=0.00]\n"
     ]
    },
    {
     "name": "stdout",
     "output_type": "stream",
     "text": [
      "Epoch #6: test_reward: 0.000000 ± 0.000000, best_reward: 0.000000 ± 0.000000 in #0\n"
     ]
    },
    {
     "name": "stderr",
     "output_type": "stream",
     "text": [
      "Epoch #7: 1030it [00:02, 494.96it/s, env_step=7210, len=7, n/ep=3, n/st=10, player_0/loss=0.095, player_1/loss=0.111, rew=0.00]\n"
     ]
    },
    {
     "name": "stdout",
     "output_type": "stream",
     "text": [
      "Epoch #7: test_reward: 0.000000 ± 0.000000, best_reward: 0.000000 ± 0.000000 in #0\n"
     ]
    },
    {
     "name": "stderr",
     "output_type": "stream",
     "text": [
      "Epoch #8: 1030it [00:02, 497.12it/s, env_step=8240, len=7, n/ep=2, n/st=10, player_0/loss=0.080, player_1/loss=0.098, rew=0.00]\n"
     ]
    },
    {
     "name": "stdout",
     "output_type": "stream",
     "text": [
      "Epoch #8: test_reward: 0.000000 ± 0.000000, best_reward: 0.000000 ± 0.000000 in #0\n"
     ]
    },
    {
     "name": "stderr",
     "output_type": "stream",
     "text": [
      "Epoch #9: 1030it [00:02, 446.29it/s, env_step=9270, len=7, n/ep=1, n/st=10, player_0/loss=0.128, player_1/loss=0.143, rew=0.00]\n"
     ]
    },
    {
     "name": "stdout",
     "output_type": "stream",
     "text": [
      "Epoch #9: test_reward: 0.000000 ± 0.000000, best_reward: 0.000000 ± 0.000000 in #0\n"
     ]
    },
    {
     "name": "stderr",
     "output_type": "stream",
     "text": [
      "Epoch #10: 1030it [00:02, 472.16it/s, env_step=10300, len=21, n/ep=1, n/st=10, player_0/loss=0.093, player_1/loss=0.109, rew=0.00]\n"
     ]
    },
    {
     "name": "stdout",
     "output_type": "stream",
     "text": [
      "Epoch #10: test_reward: 0.000000 ± 0.000000, best_reward: 0.000000 ± 0.000000 in #0\n"
     ]
    },
    {
     "name": "stderr",
     "output_type": "stream",
     "text": [
      "Epoch #11: 1030it [00:02, 401.10it/s, env_step=11330, len=7, n/ep=0, n/st=10, player_0/loss=0.108, player_1/loss=0.116, rew=0.00]\n"
     ]
    },
    {
     "name": "stdout",
     "output_type": "stream",
     "text": [
      "Epoch #11: test_reward: 0.000000 ± 0.000000, best_reward: 0.000000 ± 0.000000 in #0\n"
     ]
    },
    {
     "name": "stderr",
     "output_type": "stream",
     "text": [
      "Epoch #12: 1030it [00:02, 454.70it/s, env_step=12360, len=9, n/ep=0, n/st=10, player_0/loss=0.122, player_1/loss=0.128, rew=0.00]\n"
     ]
    },
    {
     "name": "stdout",
     "output_type": "stream",
     "text": [
      "Epoch #12: test_reward: 0.000000 ± 0.000000, best_reward: 0.000000 ± 0.000000 in #0\n"
     ]
    },
    {
     "name": "stderr",
     "output_type": "stream",
     "text": [
      "Epoch #13: 1030it [00:02, 459.35it/s, env_step=13390, len=7, n/ep=0, n/st=10, player_0/loss=0.093, player_1/loss=0.122, rew=0.00]\n"
     ]
    },
    {
     "name": "stdout",
     "output_type": "stream",
     "text": [
      "Epoch #13: test_reward: 0.000000 ± 0.000000, best_reward: 0.000000 ± 0.000000 in #0\n"
     ]
    },
    {
     "name": "stderr",
     "output_type": "stream",
     "text": [
      "Epoch #14: 1030it [00:02, 514.72it/s, env_step=14420, len=13, n/ep=1, n/st=10, player_0/loss=0.058, player_1/loss=0.098, rew=0.00]\n"
     ]
    },
    {
     "name": "stdout",
     "output_type": "stream",
     "text": [
      "Epoch #14: test_reward: 0.000000 ± 0.000000, best_reward: 0.000000 ± 0.000000 in #0\n"
     ]
    },
    {
     "name": "stderr",
     "output_type": "stream",
     "text": [
      "Epoch #15: 1030it [00:02, 478.21it/s, env_step=15450, len=15, n/ep=1, n/st=10, player_0/loss=0.060, player_1/loss=0.086, rew=0.00]\n"
     ]
    },
    {
     "name": "stdout",
     "output_type": "stream",
     "text": [
      "Epoch #15: test_reward: 0.000000 ± 0.000000, best_reward: 0.000000 ± 0.000000 in #0\n"
     ]
    },
    {
     "name": "stderr",
     "output_type": "stream",
     "text": [
      "Epoch #16: 1030it [00:02, 490.70it/s, env_step=16480, len=12, n/ep=2, n/st=10, player_0/loss=0.069, player_1/loss=0.082, rew=0.00]\n"
     ]
    },
    {
     "name": "stdout",
     "output_type": "stream",
     "text": [
      "Epoch #16: test_reward: 0.000000 ± 0.000000, best_reward: 0.000000 ± 0.000000 in #0\n"
     ]
    },
    {
     "name": "stderr",
     "output_type": "stream",
     "text": [
      "Epoch #17: 1030it [00:01, 525.55it/s, env_step=17510, len=13, n/ep=2, n/st=10, player_0/loss=0.111, player_1/loss=0.115, rew=0.00]\n"
     ]
    },
    {
     "name": "stdout",
     "output_type": "stream",
     "text": [
      "Epoch #17: test_reward: 0.000000 ± 0.000000, best_reward: 0.000000 ± 0.000000 in #0\n"
     ]
    },
    {
     "name": "stderr",
     "output_type": "stream",
     "text": [
      "Epoch #18: 1030it [00:02, 505.82it/s, env_step=18540, len=7, n/ep=2, n/st=10, player_0/loss=0.120, player_1/loss=0.163, rew=0.00]\n"
     ]
    },
    {
     "name": "stdout",
     "output_type": "stream",
     "text": [
      "Epoch #18: test_reward: 0.000000 ± 0.000000, best_reward: 0.000000 ± 0.000000 in #0\n"
     ]
    },
    {
     "name": "stderr",
     "output_type": "stream",
     "text": [
      "Epoch #19: 1030it [00:02, 451.89it/s, env_step=19570, len=7, n/ep=1, n/st=10, player_0/loss=0.084, player_1/loss=0.141, rew=0.00]\n"
     ]
    },
    {
     "name": "stdout",
     "output_type": "stream",
     "text": [
      "Epoch #19: test_reward: 0.000000 ± 0.000000, best_reward: 0.000000 ± 0.000000 in #0\n"
     ]
    },
    {
     "name": "stderr",
     "output_type": "stream",
     "text": [
      "Epoch #20: 1030it [00:02, 433.46it/s, env_step=20600, len=7, n/ep=2, n/st=10, player_0/loss=0.076, player_1/loss=0.133, rew=0.00]\n"
     ]
    },
    {
     "name": "stdout",
     "output_type": "stream",
     "text": [
      "Epoch #20: test_reward: 0.000000 ± 0.000000, best_reward: 0.000000 ± 0.000000 in #0\n"
     ]
    },
    {
     "name": "stderr",
     "output_type": "stream",
     "text": [
      "Epoch #21: 1030it [00:02, 481.07it/s, env_step=21630, len=8, n/ep=1, n/st=10, player_0/loss=0.082, player_1/loss=0.159, rew=0.00]\n"
     ]
    },
    {
     "name": "stdout",
     "output_type": "stream",
     "text": [
      "Epoch #21: test_reward: 0.000000 ± 0.000000, best_reward: 0.000000 ± 0.000000 in #0\n"
     ]
    },
    {
     "name": "stderr",
     "output_type": "stream",
     "text": [
      "Epoch #22: 1030it [00:02, 502.58it/s, env_step=22660, len=9, n/ep=0, n/st=10, player_0/loss=0.091, player_1/loss=0.126, rew=0.00]\n"
     ]
    },
    {
     "name": "stdout",
     "output_type": "stream",
     "text": [
      "Epoch #22: test_reward: 0.000000 ± 0.000000, best_reward: 0.000000 ± 0.000000 in #0\n"
     ]
    },
    {
     "name": "stderr",
     "output_type": "stream",
     "text": [
      "Epoch #23: 1030it [00:02, 464.14it/s, env_step=23690, len=7, n/ep=0, n/st=10, player_0/loss=0.061, player_1/loss=0.128, rew=0.00]\n"
     ]
    },
    {
     "name": "stdout",
     "output_type": "stream",
     "text": [
      "Epoch #23: test_reward: 0.000000 ± 0.000000, best_reward: 0.000000 ± 0.000000 in #0\n"
     ]
    },
    {
     "name": "stderr",
     "output_type": "stream",
     "text": [
      "Epoch #24: 1030it [00:02, 490.56it/s, env_step=24720, len=9, n/ep=1, n/st=10, player_0/loss=0.075, player_1/loss=0.109, rew=0.00]\n"
     ]
    },
    {
     "name": "stdout",
     "output_type": "stream",
     "text": [
      "Epoch #24: test_reward: 0.000000 ± 0.000000, best_reward: 0.000000 ± 0.000000 in #0\n"
     ]
    },
    {
     "name": "stderr",
     "output_type": "stream",
     "text": [
      "Epoch #25: 1030it [00:02, 509.71it/s, env_step=25750, len=9, n/ep=0, n/st=10, player_0/loss=0.091, player_1/loss=0.084, rew=0.00]\n"
     ]
    },
    {
     "name": "stdout",
     "output_type": "stream",
     "text": [
      "Epoch #25: test_reward: 0.000000 ± 0.000000, best_reward: 0.000000 ± 0.000000 in #0\n"
     ]
    },
    {
     "name": "stderr",
     "output_type": "stream",
     "text": [
      "Epoch #26: 1030it [00:01, 531.20it/s, env_step=26780, len=16, n/ep=0, n/st=10, player_0/loss=0.081, player_1/loss=0.075, rew=0.00]\n"
     ]
    },
    {
     "name": "stdout",
     "output_type": "stream",
     "text": [
      "Epoch #26: test_reward: 0.000000 ± 0.000000, best_reward: 0.000000 ± 0.000000 in #0\n"
     ]
    },
    {
     "name": "stderr",
     "output_type": "stream",
     "text": [
      "Epoch #27: 1030it [00:02, 514.94it/s, env_step=27810, len=14, n/ep=1, n/st=10, player_0/loss=0.094, player_1/loss=0.072, rew=0.00]\n"
     ]
    },
    {
     "name": "stdout",
     "output_type": "stream",
     "text": [
      "Epoch #27: test_reward: 0.000000 ± 0.000000, best_reward: 0.000000 ± 0.000000 in #0\n"
     ]
    },
    {
     "name": "stderr",
     "output_type": "stream",
     "text": [
      "Epoch #28: 1030it [00:02, 473.38it/s, env_step=28840, len=9, n/ep=1, n/st=10, player_0/loss=0.088, player_1/loss=0.082, rew=0.00]\n"
     ]
    },
    {
     "name": "stdout",
     "output_type": "stream",
     "text": [
      "Epoch #28: test_reward: 0.000000 ± 0.000000, best_reward: 0.000000 ± 0.000000 in #0\n"
     ]
    },
    {
     "name": "stderr",
     "output_type": "stream",
     "text": [
      "Epoch #29: 1030it [00:02, 469.06it/s, env_step=29870, len=8, n/ep=2, n/st=10, player_0/loss=0.091, player_1/loss=0.133, rew=0.00]\n"
     ]
    },
    {
     "name": "stdout",
     "output_type": "stream",
     "text": [
      "Epoch #29: test_reward: 0.000000 ± 0.000000, best_reward: 0.000000 ± 0.000000 in #0\n"
     ]
    },
    {
     "name": "stderr",
     "output_type": "stream",
     "text": [
      "Epoch #30: 1030it [00:02, 457.56it/s, env_step=30900, len=7, n/ep=1, n/st=10, player_0/loss=0.083, player_1/loss=0.128, rew=0.00]\n"
     ]
    },
    {
     "name": "stdout",
     "output_type": "stream",
     "text": [
      "Epoch #30: test_reward: 0.000000 ± 0.000000, best_reward: 0.000000 ± 0.000000 in #0\n"
     ]
    },
    {
     "name": "stderr",
     "output_type": "stream",
     "text": [
      "Epoch #31: 1030it [00:02, 498.01it/s, env_step=31930, len=9, n/ep=1, n/st=10, player_0/loss=0.076, player_1/loss=0.087, rew=0.00]\n"
     ]
    },
    {
     "name": "stdout",
     "output_type": "stream",
     "text": [
      "Epoch #31: test_reward: 0.000000 ± 0.000000, best_reward: 0.000000 ± 0.000000 in #0\n"
     ]
    },
    {
     "name": "stderr",
     "output_type": "stream",
     "text": [
      "Epoch #32: 1030it [00:02, 510.61it/s, env_step=32960, len=19, n/ep=1, n/st=10, player_0/loss=0.080, player_1/loss=0.108, rew=0.00]\n"
     ]
    },
    {
     "name": "stdout",
     "output_type": "stream",
     "text": [
      "Epoch #32: test_reward: 0.000000 ± 0.000000, best_reward: 0.000000 ± 0.000000 in #0\n"
     ]
    },
    {
     "name": "stderr",
     "output_type": "stream",
     "text": [
      "Epoch #33: 1030it [00:02, 441.42it/s, env_step=33990, len=13, n/ep=0, n/st=10, player_0/loss=0.079, player_1/loss=0.067, rew=0.00]\n"
     ]
    },
    {
     "name": "stdout",
     "output_type": "stream",
     "text": [
      "Epoch #33: test_reward: 0.000000 ± 0.000000, best_reward: 0.000000 ± 0.000000 in #0\n"
     ]
    },
    {
     "name": "stderr",
     "output_type": "stream",
     "text": [
      "Epoch #34: 1030it [00:02, 480.42it/s, env_step=35020, len=14, n/ep=1, n/st=10, player_0/loss=0.074, player_1/loss=0.088, rew=0.00]\n"
     ]
    },
    {
     "name": "stdout",
     "output_type": "stream",
     "text": [
      "Epoch #34: test_reward: 0.000000 ± 0.000000, best_reward: 0.000000 ± 0.000000 in #0\n"
     ]
    },
    {
     "name": "stderr",
     "output_type": "stream",
     "text": [
      "Epoch #35: 1030it [00:02, 506.15it/s, env_step=36050, len=9, n/ep=1, n/st=10, player_0/loss=0.089, player_1/loss=0.106, rew=0.00]\n"
     ]
    },
    {
     "name": "stdout",
     "output_type": "stream",
     "text": [
      "Epoch #35: test_reward: 0.000000 ± 0.000000, best_reward: 0.000000 ± 0.000000 in #0\n"
     ]
    },
    {
     "name": "stderr",
     "output_type": "stream",
     "text": [
      "Epoch #36: 1030it [00:02, 482.59it/s, env_step=37080, len=8, n/ep=0, n/st=10, player_0/loss=0.096, player_1/loss=0.132, rew=0.00]\n"
     ]
    },
    {
     "name": "stdout",
     "output_type": "stream",
     "text": [
      "Epoch #36: test_reward: 0.000000 ± 0.000000, best_reward: 0.000000 ± 0.000000 in #0\n"
     ]
    },
    {
     "name": "stderr",
     "output_type": "stream",
     "text": [
      "Epoch #37: 1030it [00:02, 489.63it/s, env_step=38110, len=9, n/ep=2, n/st=10, player_0/loss=0.085, player_1/loss=0.107, rew=0.00]\n"
     ]
    },
    {
     "name": "stdout",
     "output_type": "stream",
     "text": [
      "Epoch #37: test_reward: 0.000000 ± 0.000000, best_reward: 0.000000 ± 0.000000 in #0\n"
     ]
    },
    {
     "name": "stderr",
     "output_type": "stream",
     "text": [
      "Epoch #38: 1030it [00:02, 499.64it/s, env_step=39140, len=9, n/ep=0, n/st=10, player_0/loss=0.075, player_1/loss=0.138, rew=0.00]\n"
     ]
    },
    {
     "name": "stdout",
     "output_type": "stream",
     "text": [
      "Epoch #38: test_reward: 0.000000 ± 0.000000, best_reward: 0.000000 ± 0.000000 in #0\n"
     ]
    },
    {
     "name": "stderr",
     "output_type": "stream",
     "text": [
      "Epoch #39: 1030it [00:01, 517.83it/s, env_step=40170, len=8, n/ep=1, n/st=10, player_0/loss=0.056, player_1/loss=0.129, rew=0.00]\n"
     ]
    },
    {
     "name": "stdout",
     "output_type": "stream",
     "text": [
      "Epoch #39: test_reward: 0.000000 ± 0.000000, best_reward: 0.000000 ± 0.000000 in #0\n"
     ]
    },
    {
     "name": "stderr",
     "output_type": "stream",
     "text": [
      "Epoch #40: 1030it [00:01, 518.57it/s, env_step=41200, len=12, n/ep=1, n/st=10, player_0/loss=0.060, player_1/loss=0.123, rew=0.00]\n"
     ]
    },
    {
     "name": "stdout",
     "output_type": "stream",
     "text": [
      "Epoch #40: test_reward: 0.000000 ± 0.000000, best_reward: 0.000000 ± 0.000000 in #0\n"
     ]
    },
    {
     "name": "stderr",
     "output_type": "stream",
     "text": [
      "Epoch #41: 1030it [00:01, 527.29it/s, env_step=42230, len=16, n/ep=1, n/st=10, player_0/loss=0.087, player_1/loss=0.101, rew=0.00]\n"
     ]
    },
    {
     "name": "stdout",
     "output_type": "stream",
     "text": [
      "Epoch #41: test_reward: 0.000000 ± 0.000000, best_reward: 0.000000 ± 0.000000 in #0\n"
     ]
    },
    {
     "name": "stderr",
     "output_type": "stream",
     "text": [
      "Epoch #42: 1030it [00:02, 504.98it/s, env_step=43260, len=7, n/ep=0, n/st=10, player_0/loss=0.110, player_1/loss=0.099, rew=0.00]\n"
     ]
    },
    {
     "name": "stdout",
     "output_type": "stream",
     "text": [
      "Epoch #42: test_reward: 0.000000 ± 0.000000, best_reward: 0.000000 ± 0.000000 in #0\n"
     ]
    },
    {
     "name": "stderr",
     "output_type": "stream",
     "text": [
      "Epoch #43: 1030it [00:02, 461.46it/s, env_step=44290, len=8, n/ep=2, n/st=10, player_0/loss=0.140, player_1/loss=0.112, rew=0.00] \n"
     ]
    },
    {
     "name": "stdout",
     "output_type": "stream",
     "text": [
      "Epoch #43: test_reward: 0.000000 ± 0.000000, best_reward: 0.000000 ± 0.000000 in #0\n"
     ]
    },
    {
     "name": "stderr",
     "output_type": "stream",
     "text": [
      "Epoch #44: 1030it [00:02, 469.29it/s, env_step=45320, len=8, n/ep=0, n/st=10, player_0/loss=0.103, player_1/loss=0.114, rew=0.00]\n"
     ]
    },
    {
     "name": "stdout",
     "output_type": "stream",
     "text": [
      "Epoch #44: test_reward: 0.000000 ± 0.000000, best_reward: 0.000000 ± 0.000000 in #0\n"
     ]
    },
    {
     "name": "stderr",
     "output_type": "stream",
     "text": [
      "Epoch #45: 1030it [00:02, 475.70it/s, env_step=46350, len=11, n/ep=1, n/st=10, player_0/loss=0.060, player_1/loss=0.112, rew=0.00]\n"
     ]
    },
    {
     "name": "stdout",
     "output_type": "stream",
     "text": [
      "Epoch #45: test_reward: 0.000000 ± 0.000000, best_reward: 0.000000 ± 0.000000 in #0\n"
     ]
    },
    {
     "name": "stderr",
     "output_type": "stream",
     "text": [
      "Epoch #46: 1030it [00:02, 480.73it/s, env_step=47380, len=13, n/ep=2, n/st=10, player_0/loss=0.063, player_1/loss=0.108, rew=0.00]\n"
     ]
    },
    {
     "name": "stdout",
     "output_type": "stream",
     "text": [
      "Epoch #46: test_reward: 0.000000 ± 0.000000, best_reward: 0.000000 ± 0.000000 in #0\n"
     ]
    },
    {
     "name": "stderr",
     "output_type": "stream",
     "text": [
      "Epoch #47: 1030it [00:02, 489.56it/s, env_step=48410, len=7, n/ep=0, n/st=10, player_0/loss=0.076, player_1/loss=0.094, rew=0.00]\n"
     ]
    },
    {
     "name": "stdout",
     "output_type": "stream",
     "text": [
      "Epoch #47: test_reward: 0.000000 ± 0.000000, best_reward: 0.000000 ± 0.000000 in #0\n"
     ]
    },
    {
     "name": "stderr",
     "output_type": "stream",
     "text": [
      "Epoch #48: 1030it [00:02, 497.16it/s, env_step=49440, len=10, n/ep=0, n/st=10, player_0/loss=0.078, player_1/loss=0.106, rew=0.00]\n"
     ]
    },
    {
     "name": "stdout",
     "output_type": "stream",
     "text": [
      "Epoch #48: test_reward: 0.000000 ± 0.000000, best_reward: 0.000000 ± 0.000000 in #0\n"
     ]
    },
    {
     "name": "stderr",
     "output_type": "stream",
     "text": [
      "Epoch #49: 1030it [00:02, 486.96it/s, env_step=50470, len=7, n/ep=1, n/st=10, player_0/loss=0.077, player_1/loss=0.080, rew=0.00] \n"
     ]
    },
    {
     "name": "stdout",
     "output_type": "stream",
     "text": [
      "Epoch #49: test_reward: 0.000000 ± 0.000000, best_reward: 0.000000 ± 0.000000 in #0\n"
     ]
    },
    {
     "name": "stderr",
     "output_type": "stream",
     "text": [
      "Epoch #50: 1030it [00:02, 476.92it/s, env_step=51500, len=7, n/ep=0, n/st=10, player_0/loss=0.097, player_1/loss=0.061, rew=0.00]\n"
     ]
    },
    {
     "name": "stdout",
     "output_type": "stream",
     "text": [
      "Epoch #50: test_reward: 0.000000 ± 0.000000, best_reward: 0.000000 ± 0.000000 in #0\n"
     ]
    },
    {
     "name": "stderr",
     "output_type": "stream",
     "text": [
      "Epoch #51: 1030it [00:02, 494.83it/s, env_step=52530, len=12, n/ep=0, n/st=10, player_0/loss=0.090, player_1/loss=0.090, rew=0.00]\n"
     ]
    },
    {
     "name": "stdout",
     "output_type": "stream",
     "text": [
      "Epoch #51: test_reward: 0.000000 ± 0.000000, best_reward: 0.000000 ± 0.000000 in #0\n"
     ]
    },
    {
     "name": "stderr",
     "output_type": "stream",
     "text": [
      "Epoch #52: 1030it [00:02, 500.46it/s, env_step=53560, len=12, n/ep=1, n/st=10, player_0/loss=0.089, player_1/loss=0.068, rew=0.00]\n"
     ]
    },
    {
     "name": "stdout",
     "output_type": "stream",
     "text": [
      "Epoch #52: test_reward: 0.000000 ± 0.000000, best_reward: 0.000000 ± 0.000000 in #0\n"
     ]
    },
    {
     "name": "stderr",
     "output_type": "stream",
     "text": [
      "Epoch #53: 1030it [00:02, 501.54it/s, env_step=54590, len=14, n/ep=0, n/st=10, player_0/loss=0.098, player_1/loss=0.072, rew=0.00]\n"
     ]
    },
    {
     "name": "stdout",
     "output_type": "stream",
     "text": [
      "Epoch #53: test_reward: 0.000000 ± 0.000000, best_reward: 0.000000 ± 0.000000 in #0\n"
     ]
    },
    {
     "name": "stderr",
     "output_type": "stream",
     "text": [
      "Epoch #54: 1030it [00:02, 486.43it/s, env_step=55620, len=10, n/ep=1, n/st=10, player_0/loss=0.126, player_1/loss=0.074, rew=0.00]\n"
     ]
    },
    {
     "name": "stdout",
     "output_type": "stream",
     "text": [
      "Epoch #54: test_reward: 0.000000 ± 0.000000, best_reward: 0.000000 ± 0.000000 in #0\n"
     ]
    },
    {
     "name": "stderr",
     "output_type": "stream",
     "text": [
      "Epoch #55: 1030it [00:02, 460.97it/s, env_step=56650, len=21, n/ep=1, n/st=10, player_0/loss=0.071, player_1/loss=0.088, rew=0.00]\n"
     ]
    },
    {
     "name": "stdout",
     "output_type": "stream",
     "text": [
      "Epoch #55: test_reward: 0.000000 ± 0.000000, best_reward: 0.000000 ± 0.000000 in #0\n"
     ]
    },
    {
     "name": "stderr",
     "output_type": "stream",
     "text": [
      "Epoch #56: 1030it [00:02, 346.64it/s, env_step=57680, len=8, n/ep=1, n/st=10, player_0/loss=0.120, player_1/loss=0.113, rew=0.00]\n"
     ]
    },
    {
     "name": "stdout",
     "output_type": "stream",
     "text": [
      "Epoch #56: test_reward: 0.000000 ± 0.000000, best_reward: 0.000000 ± 0.000000 in #0\n"
     ]
    },
    {
     "name": "stderr",
     "output_type": "stream",
     "text": [
      "Epoch #57: 1030it [00:02, 495.19it/s, env_step=58710, len=10, n/ep=0, n/st=10, player_0/loss=0.085, player_1/loss=0.100, rew=0.00]\n"
     ]
    },
    {
     "name": "stdout",
     "output_type": "stream",
     "text": [
      "Epoch #57: test_reward: 0.000000 ± 0.000000, best_reward: 0.000000 ± 0.000000 in #0\n"
     ]
    },
    {
     "name": "stderr",
     "output_type": "stream",
     "text": [
      "Epoch #58: 1030it [00:02, 446.74it/s, env_step=59740, len=7, n/ep=1, n/st=10, player_0/loss=0.060, player_1/loss=0.100, rew=0.00]\n"
     ]
    },
    {
     "name": "stdout",
     "output_type": "stream",
     "text": [
      "Epoch #58: test_reward: 0.000000 ± 0.000000, best_reward: 0.000000 ± 0.000000 in #0\n"
     ]
    },
    {
     "name": "stderr",
     "output_type": "stream",
     "text": [
      "Epoch #59: 1030it [00:02, 471.31it/s, env_step=60770, len=10, n/ep=0, n/st=10, player_0/loss=0.072, player_1/loss=0.092, rew=0.00]\n"
     ]
    },
    {
     "name": "stdout",
     "output_type": "stream",
     "text": [
      "Epoch #59: test_reward: 0.000000 ± 0.000000, best_reward: 0.000000 ± 0.000000 in #0\n"
     ]
    },
    {
     "name": "stderr",
     "output_type": "stream",
     "text": [
      "Epoch #60: 1030it [00:02, 412.93it/s, env_step=61800, len=12, n/ep=2, n/st=10, player_0/loss=0.075, player_1/loss=0.078, rew=0.00]\n"
     ]
    },
    {
     "name": "stdout",
     "output_type": "stream",
     "text": [
      "Epoch #60: test_reward: 0.000000 ± 0.000000, best_reward: 0.000000 ± 0.000000 in #0\n"
     ]
    },
    {
     "name": "stderr",
     "output_type": "stream",
     "text": [
      "Epoch #61: 1030it [00:01, 516.13it/s, env_step=62830, len=21, n/ep=0, n/st=10, player_0/loss=0.052, player_1/loss=0.077, rew=0.00]\n"
     ]
    },
    {
     "name": "stdout",
     "output_type": "stream",
     "text": [
      "Epoch #61: test_reward: 0.000000 ± 0.000000, best_reward: 0.000000 ± 0.000000 in #0\n"
     ]
    },
    {
     "name": "stderr",
     "output_type": "stream",
     "text": [
      "Epoch #62: 1030it [00:01, 536.37it/s, env_step=63860, len=9, n/ep=1, n/st=10, player_0/loss=0.066, player_1/loss=0.086, rew=0.00]\n"
     ]
    },
    {
     "name": "stdout",
     "output_type": "stream",
     "text": [
      "Epoch #62: test_reward: 0.000000 ± 0.000000, best_reward: 0.000000 ± 0.000000 in #0\n"
     ]
    },
    {
     "name": "stderr",
     "output_type": "stream",
     "text": [
      "Epoch #63: 1030it [00:01, 528.82it/s, env_step=64890, len=17, n/ep=0, n/st=10, player_0/loss=0.090, player_1/loss=0.065, rew=0.00]\n"
     ]
    },
    {
     "name": "stdout",
     "output_type": "stream",
     "text": [
      "Epoch #63: test_reward: 0.000000 ± 0.000000, best_reward: 0.000000 ± 0.000000 in #0\n"
     ]
    },
    {
     "name": "stderr",
     "output_type": "stream",
     "text": [
      "Epoch #64: 1030it [00:01, 543.54it/s, env_step=65920, len=16, n/ep=0, n/st=10, player_0/loss=0.089, player_1/loss=0.067, rew=0.00]\n"
     ]
    },
    {
     "name": "stdout",
     "output_type": "stream",
     "text": [
      "Epoch #64: test_reward: 0.000000 ± 0.000000, best_reward: 0.000000 ± 0.000000 in #0\n"
     ]
    },
    {
     "name": "stderr",
     "output_type": "stream",
     "text": [
      "Epoch #65: 1030it [00:02, 507.08it/s, env_step=66950, len=27, n/ep=0, n/st=10, player_0/loss=0.072, player_1/loss=0.061, rew=0.00]\n"
     ]
    },
    {
     "name": "stdout",
     "output_type": "stream",
     "text": [
      "Epoch #65: test_reward: 0.000000 ± 0.000000, best_reward: 0.000000 ± 0.000000 in #0\n"
     ]
    },
    {
     "name": "stderr",
     "output_type": "stream",
     "text": [
      "Epoch #66: 1030it [00:01, 517.26it/s, env_step=67980, len=12, n/ep=2, n/st=10, player_0/loss=0.081, player_1/loss=0.077, rew=0.00]\n"
     ]
    },
    {
     "name": "stdout",
     "output_type": "stream",
     "text": [
      "Epoch #66: test_reward: 0.000000 ± 0.000000, best_reward: 0.000000 ± 0.000000 in #0\n"
     ]
    },
    {
     "name": "stderr",
     "output_type": "stream",
     "text": [
      "Epoch #67: 1030it [00:02, 513.37it/s, env_step=69010, len=18, n/ep=0, n/st=10, player_0/loss=0.080, player_1/loss=0.066, rew=0.00]\n"
     ]
    },
    {
     "name": "stdout",
     "output_type": "stream",
     "text": [
      "Epoch #67: test_reward: 0.000000 ± 0.000000, best_reward: 0.000000 ± 0.000000 in #0\n"
     ]
    },
    {
     "name": "stderr",
     "output_type": "stream",
     "text": [
      "Epoch #68: 1030it [00:01, 533.76it/s, env_step=70040, len=9, n/ep=1, n/st=10, player_0/loss=0.124, player_1/loss=0.118, rew=0.00]\n"
     ]
    },
    {
     "name": "stdout",
     "output_type": "stream",
     "text": [
      "Epoch #68: test_reward: 0.000000 ± 0.000000, best_reward: 0.000000 ± 0.000000 in #0\n"
     ]
    },
    {
     "name": "stderr",
     "output_type": "stream",
     "text": [
      "Epoch #69: 1030it [00:02, 507.71it/s, env_step=71070, len=8, n/ep=0, n/st=10, player_0/loss=0.076, player_1/loss=0.110, rew=0.00]\n"
     ]
    },
    {
     "name": "stdout",
     "output_type": "stream",
     "text": [
      "Epoch #69: test_reward: 0.000000 ± 0.000000, best_reward: 0.000000 ± 0.000000 in #0\n"
     ]
    },
    {
     "name": "stderr",
     "output_type": "stream",
     "text": [
      "Epoch #70: 1030it [00:02, 503.68it/s, env_step=72100, len=13, n/ep=0, n/st=10, player_0/loss=0.087, player_1/loss=0.106, rew=0.00]\n"
     ]
    },
    {
     "name": "stdout",
     "output_type": "stream",
     "text": [
      "Epoch #70: test_reward: 0.000000 ± 0.000000, best_reward: 0.000000 ± 0.000000 in #0\n"
     ]
    },
    {
     "name": "stderr",
     "output_type": "stream",
     "text": [
      "Epoch #71: 1030it [00:01, 543.80it/s, env_step=73130, len=7, n/ep=1, n/st=10, player_0/loss=0.105, player_1/loss=0.094, rew=0.00]\n"
     ]
    },
    {
     "name": "stdout",
     "output_type": "stream",
     "text": [
      "Epoch #71: test_reward: 0.000000 ± 0.000000, best_reward: 0.000000 ± 0.000000 in #0\n"
     ]
    },
    {
     "name": "stderr",
     "output_type": "stream",
     "text": [
      "Epoch #72: 1030it [00:01, 543.12it/s, env_step=74160, len=10, n/ep=0, n/st=10, player_0/loss=0.081, player_1/loss=0.100, rew=0.00]\n"
     ]
    },
    {
     "name": "stdout",
     "output_type": "stream",
     "text": [
      "Epoch #72: test_reward: 0.000000 ± 0.000000, best_reward: 0.000000 ± 0.000000 in #0\n"
     ]
    },
    {
     "name": "stderr",
     "output_type": "stream",
     "text": [
      "Epoch #73: 1030it [00:01, 541.87it/s, env_step=75190, len=10, n/ep=1, n/st=10, player_0/loss=0.079, player_1/loss=0.087, rew=0.00]\n"
     ]
    },
    {
     "name": "stdout",
     "output_type": "stream",
     "text": [
      "Epoch #73: test_reward: 0.000000 ± 0.000000, best_reward: 0.000000 ± 0.000000 in #0\n"
     ]
    },
    {
     "name": "stderr",
     "output_type": "stream",
     "text": [
      "Epoch #74: 1030it [00:01, 542.10it/s, env_step=76220, len=8, n/ep=0, n/st=10, player_0/loss=0.098, player_1/loss=0.114, rew=0.00]\n"
     ]
    },
    {
     "name": "stdout",
     "output_type": "stream",
     "text": [
      "Epoch #74: test_reward: 0.000000 ± 0.000000, best_reward: 0.000000 ± 0.000000 in #0\n"
     ]
    },
    {
     "name": "stderr",
     "output_type": "stream",
     "text": [
      "Epoch #75: 1030it [00:01, 543.51it/s, env_step=77250, len=23, n/ep=0, n/st=10, player_0/loss=0.127, player_1/loss=0.093, rew=0.00]\n"
     ]
    },
    {
     "name": "stdout",
     "output_type": "stream",
     "text": [
      "Epoch #75: test_reward: 0.000000 ± 0.000000, best_reward: 0.000000 ± 0.000000 in #0\n"
     ]
    },
    {
     "name": "stderr",
     "output_type": "stream",
     "text": [
      "Epoch #76: 1030it [00:01, 540.75it/s, env_step=78280, len=9, n/ep=2, n/st=10, player_0/loss=0.123, player_1/loss=0.083, rew=0.00]\n"
     ]
    },
    {
     "name": "stdout",
     "output_type": "stream",
     "text": [
      "Epoch #76: test_reward: 0.000000 ± 0.000000, best_reward: 0.000000 ± 0.000000 in #0\n"
     ]
    },
    {
     "name": "stderr",
     "output_type": "stream",
     "text": [
      "Epoch #77: 1030it [00:01, 535.79it/s, env_step=79310, len=22, n/ep=0, n/st=10, player_0/loss=0.138, player_1/loss=0.066, rew=0.00]\n"
     ]
    },
    {
     "name": "stdout",
     "output_type": "stream",
     "text": [
      "Epoch #77: test_reward: 0.000000 ± 0.000000, best_reward: 0.000000 ± 0.000000 in #0\n"
     ]
    },
    {
     "name": "stderr",
     "output_type": "stream",
     "text": [
      "Epoch #78: 1030it [00:02, 467.53it/s, env_step=80340, len=9, n/ep=0, n/st=10, player_0/loss=0.115, player_1/loss=0.070, rew=0.00]\n"
     ]
    },
    {
     "name": "stdout",
     "output_type": "stream",
     "text": [
      "Epoch #78: test_reward: 0.000000 ± 0.000000, best_reward: 0.000000 ± 0.000000 in #0\n"
     ]
    },
    {
     "name": "stderr",
     "output_type": "stream",
     "text": [
      "Epoch #79: 1030it [00:02, 479.80it/s, env_step=81370, len=8, n/ep=1, n/st=10, player_0/loss=0.100, player_1/loss=0.073, rew=0.00]\n"
     ]
    },
    {
     "name": "stdout",
     "output_type": "stream",
     "text": [
      "Epoch #79: test_reward: 0.000000 ± 0.000000, best_reward: 0.000000 ± 0.000000 in #0\n"
     ]
    },
    {
     "name": "stderr",
     "output_type": "stream",
     "text": [
      "Epoch #80: 1030it [00:02, 464.56it/s, env_step=82400, len=9, n/ep=0, n/st=10, player_0/loss=0.098, player_1/loss=0.092, rew=0.00]\n"
     ]
    },
    {
     "name": "stdout",
     "output_type": "stream",
     "text": [
      "Epoch #80: test_reward: 0.000000 ± 0.000000, best_reward: 0.000000 ± 0.000000 in #0\n"
     ]
    },
    {
     "name": "stderr",
     "output_type": "stream",
     "text": [
      "Epoch #81: 1030it [00:02, 392.65it/s, env_step=83430, len=21, n/ep=1, n/st=10, player_0/loss=0.101, player_1/loss=0.072, rew=0.00]\n"
     ]
    },
    {
     "name": "stdout",
     "output_type": "stream",
     "text": [
      "Epoch #81: test_reward: 0.000000 ± 0.000000, best_reward: 0.000000 ± 0.000000 in #0\n"
     ]
    },
    {
     "name": "stderr",
     "output_type": "stream",
     "text": [
      "Epoch #82: 1030it [00:02, 455.70it/s, env_step=84460, len=11, n/ep=0, n/st=10, player_0/loss=0.080, player_1/loss=0.088, rew=0.00]\n"
     ]
    },
    {
     "name": "stdout",
     "output_type": "stream",
     "text": [
      "Epoch #82: test_reward: 0.000000 ± 0.000000, best_reward: 0.000000 ± 0.000000 in #0\n"
     ]
    },
    {
     "name": "stderr",
     "output_type": "stream",
     "text": [
      "Epoch #83: 1030it [00:02, 476.83it/s, env_step=85490, len=9, n/ep=2, n/st=10, player_0/loss=0.087, player_1/loss=0.108, rew=0.00]\n"
     ]
    },
    {
     "name": "stdout",
     "output_type": "stream",
     "text": [
      "Epoch #83: test_reward: 0.000000 ± 0.000000, best_reward: 0.000000 ± 0.000000 in #0\n"
     ]
    },
    {
     "name": "stderr",
     "output_type": "stream",
     "text": [
      "Epoch #84: 1030it [00:02, 482.18it/s, env_step=86520, len=7, n/ep=0, n/st=10, player_0/loss=0.079, player_1/loss=0.120, rew=0.00]\n"
     ]
    },
    {
     "name": "stdout",
     "output_type": "stream",
     "text": [
      "Epoch #84: test_reward: 0.000000 ± 0.000000, best_reward: 0.000000 ± 0.000000 in #0\n"
     ]
    },
    {
     "name": "stderr",
     "output_type": "stream",
     "text": [
      "Epoch #85: 1030it [00:02, 440.50it/s, env_step=87550, len=7, n/ep=2, n/st=10, player_0/loss=0.091, player_1/loss=0.099, rew=0.00]\n"
     ]
    },
    {
     "name": "stdout",
     "output_type": "stream",
     "text": [
      "Epoch #85: test_reward: 0.000000 ± 0.000000, best_reward: 0.000000 ± 0.000000 in #0\n"
     ]
    },
    {
     "name": "stderr",
     "output_type": "stream",
     "text": [
      "Epoch #86: 1030it [00:02, 479.50it/s, env_step=88580, len=7, n/ep=1, n/st=10, player_0/loss=0.100, player_1/loss=0.066, rew=0.00]\n"
     ]
    },
    {
     "name": "stdout",
     "output_type": "stream",
     "text": [
      "Epoch #86: test_reward: 0.000000 ± 0.000000, best_reward: 0.000000 ± 0.000000 in #0\n"
     ]
    },
    {
     "name": "stderr",
     "output_type": "stream",
     "text": [
      "Epoch #87: 1030it [00:01, 538.68it/s, env_step=89610, len=15, n/ep=0, n/st=10, player_0/loss=0.105, player_1/loss=0.088, rew=0.00]\n"
     ]
    },
    {
     "name": "stdout",
     "output_type": "stream",
     "text": [
      "Epoch #87: test_reward: 0.000000 ± 0.000000, best_reward: 0.000000 ± 0.000000 in #0\n"
     ]
    },
    {
     "name": "stderr",
     "output_type": "stream",
     "text": [
      "Epoch #88: 1030it [00:02, 462.34it/s, env_step=90640, len=21, n/ep=1, n/st=10, player_0/loss=0.132, player_1/loss=0.080, rew=0.00]\n"
     ]
    },
    {
     "name": "stdout",
     "output_type": "stream",
     "text": [
      "Epoch #88: test_reward: 0.000000 ± 0.000000, best_reward: 0.000000 ± 0.000000 in #0\n"
     ]
    },
    {
     "name": "stderr",
     "output_type": "stream",
     "text": [
      "Epoch #89: 1030it [00:02, 393.11it/s, env_step=91670, len=10, n/ep=0, n/st=10, player_0/loss=0.150, player_1/loss=0.100, rew=0.00]\n"
     ]
    },
    {
     "name": "stdout",
     "output_type": "stream",
     "text": [
      "Epoch #89: test_reward: 0.000000 ± 0.000000, best_reward: 0.000000 ± 0.000000 in #0\n"
     ]
    },
    {
     "name": "stderr",
     "output_type": "stream",
     "text": [
      "Epoch #90: 1030it [00:02, 426.11it/s, env_step=92700, len=7, n/ep=1, n/st=10, player_0/loss=0.086, player_1/loss=0.124, rew=0.00]\n"
     ]
    },
    {
     "name": "stdout",
     "output_type": "stream",
     "text": [
      "Epoch #90: test_reward: 0.000000 ± 0.000000, best_reward: 0.000000 ± 0.000000 in #0\n"
     ]
    },
    {
     "name": "stderr",
     "output_type": "stream",
     "text": [
      "Epoch #91: 1030it [00:02, 469.89it/s, env_step=93730, len=23, n/ep=1, n/st=10, player_0/loss=0.104, player_1/loss=0.124, rew=0.00]\n"
     ]
    },
    {
     "name": "stdout",
     "output_type": "stream",
     "text": [
      "Epoch #91: test_reward: 0.000000 ± 0.000000, best_reward: 0.000000 ± 0.000000 in #0\n"
     ]
    },
    {
     "name": "stderr",
     "output_type": "stream",
     "text": [
      "Epoch #92: 1030it [00:02, 455.92it/s, env_step=94760, len=7, n/ep=1, n/st=10, player_0/loss=0.105, player_1/loss=0.112, rew=0.00]\n"
     ]
    },
    {
     "name": "stdout",
     "output_type": "stream",
     "text": [
      "Epoch #92: test_reward: 0.000000 ± 0.000000, best_reward: 0.000000 ± 0.000000 in #0\n"
     ]
    },
    {
     "name": "stderr",
     "output_type": "stream",
     "text": [
      "Epoch #93: 1030it [00:02, 491.60it/s, env_step=95790, len=13, n/ep=0, n/st=10, player_0/loss=0.091, player_1/loss=0.117, rew=0.00]\n"
     ]
    },
    {
     "name": "stdout",
     "output_type": "stream",
     "text": [
      "Epoch #93: test_reward: 0.000000 ± 0.000000, best_reward: 0.000000 ± 0.000000 in #0\n"
     ]
    },
    {
     "name": "stderr",
     "output_type": "stream",
     "text": [
      "Epoch #94: 1030it [00:02, 398.16it/s, env_step=96820, len=12, n/ep=0, n/st=10, player_0/loss=0.089, player_1/loss=0.078, rew=0.00]\n"
     ]
    },
    {
     "name": "stdout",
     "output_type": "stream",
     "text": [
      "Epoch #94: test_reward: 0.000000 ± 0.000000, best_reward: 0.000000 ± 0.000000 in #0\n"
     ]
    },
    {
     "name": "stderr",
     "output_type": "stream",
     "text": [
      "Epoch #95: 1030it [00:01, 525.44it/s, env_step=97850, len=9, n/ep=1, n/st=10, player_0/loss=0.114, player_1/loss=0.098, rew=0.00]\n"
     ]
    },
    {
     "name": "stdout",
     "output_type": "stream",
     "text": [
      "Epoch #95: test_reward: 0.000000 ± 0.000000, best_reward: 0.000000 ± 0.000000 in #0\n"
     ]
    },
    {
     "name": "stderr",
     "output_type": "stream",
     "text": [
      "Epoch #96: 1030it [00:01, 525.12it/s, env_step=98880, len=18, n/ep=1, n/st=10, player_0/loss=0.099, player_1/loss=0.087, rew=0.00]\n"
     ]
    },
    {
     "name": "stdout",
     "output_type": "stream",
     "text": [
      "Epoch #96: test_reward: 0.000000 ± 0.000000, best_reward: 0.000000 ± 0.000000 in #0\n"
     ]
    },
    {
     "name": "stderr",
     "output_type": "stream",
     "text": [
      "Epoch #97: 1030it [00:02, 463.86it/s, env_step=99910, len=11, n/ep=2, n/st=10, player_0/loss=0.100, player_1/loss=0.081, rew=0.00]\n"
     ]
    },
    {
     "name": "stdout",
     "output_type": "stream",
     "text": [
      "Epoch #97: test_reward: 0.000000 ± 0.000000, best_reward: 0.000000 ± 0.000000 in #0\n"
     ]
    },
    {
     "name": "stderr",
     "output_type": "stream",
     "text": [
      "Epoch #98: 1030it [00:01, 523.76it/s, env_step=100940, len=16, n/ep=0, n/st=10, player_0/loss=0.078, player_1/loss=0.073, rew=0.00]\n"
     ]
    },
    {
     "name": "stdout",
     "output_type": "stream",
     "text": [
      "Epoch #98: test_reward: 0.000000 ± 0.000000, best_reward: 0.000000 ± 0.000000 in #0\n"
     ]
    },
    {
     "name": "stderr",
     "output_type": "stream",
     "text": [
      "Epoch #99: 1030it [00:02, 452.52it/s, env_step=101970, len=14, n/ep=0, n/st=10, player_0/loss=0.060, player_1/loss=0.116, rew=0.00]\n"
     ]
    },
    {
     "name": "stdout",
     "output_type": "stream",
     "text": [
      "Epoch #99: test_reward: 0.000000 ± 0.000000, best_reward: 0.000000 ± 0.000000 in #0\n"
     ]
    },
    {
     "name": "stderr",
     "output_type": "stream",
     "text": [
      "Epoch #100: 1030it [00:02, 435.56it/s, env_step=103000, len=9, n/ep=1, n/st=10, player_0/loss=0.089, player_1/loss=0.087, rew=0.00]\n"
     ]
    },
    {
     "name": "stdout",
     "output_type": "stream",
     "text": [
      "Epoch #100: test_reward: 0.000000 ± 0.000000, best_reward: 0.000000 ± 0.000000 in #0\n"
     ]
    },
    {
     "name": "stderr",
     "output_type": "stream",
     "text": [
      "Epoch #101: 1030it [00:02, 459.39it/s, env_step=104030, len=9, n/ep=2, n/st=10, player_0/loss=0.087, player_1/loss=0.089, rew=0.00]\n"
     ]
    },
    {
     "name": "stdout",
     "output_type": "stream",
     "text": [
      "Epoch #101: test_reward: 0.000000 ± 0.000000, best_reward: 0.000000 ± 0.000000 in #0\n"
     ]
    },
    {
     "name": "stderr",
     "output_type": "stream",
     "text": [
      "Epoch #102: 1030it [00:02, 456.94it/s, env_step=105060, len=9, n/ep=2, n/st=10, player_0/loss=0.050, player_1/loss=0.121, rew=0.00]\n"
     ]
    },
    {
     "name": "stdout",
     "output_type": "stream",
     "text": [
      "Epoch #102: test_reward: 0.000000 ± 0.000000, best_reward: 0.000000 ± 0.000000 in #0\n"
     ]
    },
    {
     "name": "stderr",
     "output_type": "stream",
     "text": [
      "Epoch #103: 1030it [00:01, 519.61it/s, env_step=106090, len=11, n/ep=1, n/st=10, player_0/loss=0.072, player_1/loss=0.090, rew=0.00]\n"
     ]
    },
    {
     "name": "stdout",
     "output_type": "stream",
     "text": [
      "Epoch #103: test_reward: 0.000000 ± 0.000000, best_reward: 0.000000 ± 0.000000 in #0\n"
     ]
    },
    {
     "name": "stderr",
     "output_type": "stream",
     "text": [
      "Epoch #104: 1030it [00:02, 444.72it/s, env_step=107120, len=12, n/ep=0, n/st=10, player_0/loss=0.096, player_1/loss=0.088, rew=0.00]\n"
     ]
    },
    {
     "name": "stdout",
     "output_type": "stream",
     "text": [
      "Epoch #104: test_reward: 0.000000 ± 0.000000, best_reward: 0.000000 ± 0.000000 in #0\n"
     ]
    },
    {
     "name": "stderr",
     "output_type": "stream",
     "text": [
      "Epoch #105: 1030it [00:02, 455.43it/s, env_step=108150, len=8, n/ep=0, n/st=10, player_0/loss=0.105, player_1/loss=0.079, rew=0.00]\n"
     ]
    },
    {
     "name": "stdout",
     "output_type": "stream",
     "text": [
      "Epoch #105: test_reward: 0.000000 ± 0.000000, best_reward: 0.000000 ± 0.000000 in #0\n"
     ]
    },
    {
     "name": "stderr",
     "output_type": "stream",
     "text": [
      "Epoch #106: 1030it [00:01, 536.47it/s, env_step=109180, len=11, n/ep=1, n/st=10, player_0/loss=0.059, player_1/loss=0.100, rew=0.00]\n"
     ]
    },
    {
     "name": "stdout",
     "output_type": "stream",
     "text": [
      "Epoch #106: test_reward: 0.000000 ± 0.000000, best_reward: 0.000000 ± 0.000000 in #0\n"
     ]
    },
    {
     "name": "stderr",
     "output_type": "stream",
     "text": [
      "Epoch #107: 1030it [00:01, 539.57it/s, env_step=110210, len=9, n/ep=0, n/st=10, player_0/loss=0.086, player_1/loss=0.137, rew=0.00]\n"
     ]
    },
    {
     "name": "stdout",
     "output_type": "stream",
     "text": [
      "Epoch #107: test_reward: 0.000000 ± 0.000000, best_reward: 0.000000 ± 0.000000 in #0\n"
     ]
    },
    {
     "name": "stderr",
     "output_type": "stream",
     "text": [
      "Epoch #108: 1030it [00:01, 538.17it/s, env_step=111240, len=11, n/ep=2, n/st=10, player_0/loss=0.090, player_1/loss=0.084, rew=0.00]\n"
     ]
    },
    {
     "name": "stdout",
     "output_type": "stream",
     "text": [
      "Epoch #108: test_reward: 0.000000 ± 0.000000, best_reward: 0.000000 ± 0.000000 in #0\n"
     ]
    },
    {
     "name": "stderr",
     "output_type": "stream",
     "text": [
      "Epoch #109: 1030it [00:01, 533.84it/s, env_step=112270, len=7, n/ep=1, n/st=10, player_0/loss=0.107, player_1/loss=0.101, rew=0.00]\n"
     ]
    },
    {
     "name": "stdout",
     "output_type": "stream",
     "text": [
      "Epoch #109: test_reward: 0.000000 ± 0.000000, best_reward: 0.000000 ± 0.000000 in #0\n"
     ]
    },
    {
     "name": "stderr",
     "output_type": "stream",
     "text": [
      "Epoch #110: 1030it [00:01, 539.32it/s, env_step=113300, len=7, n/ep=1, n/st=10, player_0/loss=0.076, player_1/loss=0.121, rew=0.00]\n"
     ]
    },
    {
     "name": "stdout",
     "output_type": "stream",
     "text": [
      "Epoch #110: test_reward: 0.000000 ± 0.000000, best_reward: 0.000000 ± 0.000000 in #0\n"
     ]
    },
    {
     "name": "stderr",
     "output_type": "stream",
     "text": [
      "Epoch #111: 1030it [00:01, 533.83it/s, env_step=114330, len=7, n/ep=1, n/st=10, player_0/loss=0.071, player_1/loss=0.135, rew=0.00]\n"
     ]
    },
    {
     "name": "stdout",
     "output_type": "stream",
     "text": [
      "Epoch #111: test_reward: 0.000000 ± 0.000000, best_reward: 0.000000 ± 0.000000 in #0\n"
     ]
    },
    {
     "name": "stderr",
     "output_type": "stream",
     "text": [
      "Epoch #112: 1030it [00:01, 543.54it/s, env_step=115360, len=11, n/ep=2, n/st=10, player_0/loss=0.074, player_1/loss=0.126, rew=0.00]\n"
     ]
    },
    {
     "name": "stdout",
     "output_type": "stream",
     "text": [
      "Epoch #112: test_reward: 0.000000 ± 0.000000, best_reward: 0.000000 ± 0.000000 in #0\n"
     ]
    },
    {
     "name": "stderr",
     "output_type": "stream",
     "text": [
      "Epoch #113: 1030it [00:01, 539.93it/s, env_step=116390, len=7, n/ep=0, n/st=10, player_0/loss=0.082, player_1/loss=0.143, rew=0.00]\n"
     ]
    },
    {
     "name": "stdout",
     "output_type": "stream",
     "text": [
      "Epoch #113: test_reward: 0.000000 ± 0.000000, best_reward: 0.000000 ± 0.000000 in #0\n"
     ]
    },
    {
     "name": "stderr",
     "output_type": "stream",
     "text": [
      "Epoch #114: 1030it [00:01, 531.40it/s, env_step=117420, len=7, n/ep=1, n/st=10, player_0/loss=0.089, player_1/loss=0.135, rew=0.00]\n"
     ]
    },
    {
     "name": "stdout",
     "output_type": "stream",
     "text": [
      "Epoch #114: test_reward: 0.000000 ± 0.000000, best_reward: 0.000000 ± 0.000000 in #0\n"
     ]
    },
    {
     "name": "stderr",
     "output_type": "stream",
     "text": [
      "Epoch #115: 1030it [00:01, 540.87it/s, env_step=118450, len=7, n/ep=1, n/st=10, player_0/loss=0.077, player_1/loss=0.139, rew=0.00]\n"
     ]
    },
    {
     "name": "stdout",
     "output_type": "stream",
     "text": [
      "Epoch #115: test_reward: 0.000000 ± 0.000000, best_reward: 0.000000 ± 0.000000 in #0\n"
     ]
    },
    {
     "name": "stderr",
     "output_type": "stream",
     "text": [
      "Epoch #116: 1030it [00:01, 540.77it/s, env_step=119480, len=7, n/ep=1, n/st=10, player_0/loss=0.077, player_1/loss=0.143, rew=0.00]\n"
     ]
    },
    {
     "name": "stdout",
     "output_type": "stream",
     "text": [
      "Epoch #116: test_reward: 0.000000 ± 0.000000, best_reward: 0.000000 ± 0.000000 in #0\n"
     ]
    },
    {
     "name": "stderr",
     "output_type": "stream",
     "text": [
      "Epoch #117: 1030it [00:02, 513.99it/s, env_step=120510, len=8, n/ep=1, n/st=10, player_0/loss=0.092, player_1/loss=0.108, rew=0.00]\n"
     ]
    },
    {
     "name": "stdout",
     "output_type": "stream",
     "text": [
      "Epoch #117: test_reward: 0.000000 ± 0.000000, best_reward: 0.000000 ± 0.000000 in #0\n"
     ]
    },
    {
     "name": "stderr",
     "output_type": "stream",
     "text": [
      "Epoch #118: 1030it [00:01, 518.65it/s, env_step=121540, len=7, n/ep=3, n/st=10, player_0/loss=0.074, player_1/loss=0.141, rew=0.00]\n"
     ]
    },
    {
     "name": "stdout",
     "output_type": "stream",
     "text": [
      "Epoch #118: test_reward: 0.000000 ± 0.000000, best_reward: 0.000000 ± 0.000000 in #0\n"
     ]
    },
    {
     "name": "stderr",
     "output_type": "stream",
     "text": [
      "Epoch #119: 1030it [00:02, 504.88it/s, env_step=122570, len=17, n/ep=0, n/st=10, player_0/loss=0.053, player_1/loss=0.138, rew=0.00]\n"
     ]
    },
    {
     "name": "stdout",
     "output_type": "stream",
     "text": [
      "Epoch #119: test_reward: 0.000000 ± 0.000000, best_reward: 0.000000 ± 0.000000 in #0\n"
     ]
    },
    {
     "name": "stderr",
     "output_type": "stream",
     "text": [
      "Epoch #120: 1030it [00:02, 483.43it/s, env_step=123600, len=14, n/ep=0, n/st=10, player_0/loss=0.078, player_1/loss=0.086, rew=0.00]\n"
     ]
    },
    {
     "name": "stdout",
     "output_type": "stream",
     "text": [
      "Epoch #120: test_reward: 0.000000 ± 0.000000, best_reward: 0.000000 ± 0.000000 in #0\n"
     ]
    },
    {
     "name": "stderr",
     "output_type": "stream",
     "text": [
      "Epoch #121: 1030it [00:02, 511.98it/s, env_step=124630, len=14, n/ep=0, n/st=10, player_0/loss=0.081, player_1/loss=0.059, rew=0.00]\n"
     ]
    },
    {
     "name": "stdout",
     "output_type": "stream",
     "text": [
      "Epoch #121: test_reward: 0.000000 ± 0.000000, best_reward: 0.000000 ± 0.000000 in #0\n"
     ]
    },
    {
     "name": "stderr",
     "output_type": "stream",
     "text": [
      "Epoch #122: 1030it [00:01, 526.50it/s, env_step=125660, len=13, n/ep=0, n/st=10, player_0/loss=0.066, player_1/loss=0.077, rew=0.00]\n"
     ]
    },
    {
     "name": "stdout",
     "output_type": "stream",
     "text": [
      "Epoch #122: test_reward: 0.000000 ± 0.000000, best_reward: 0.000000 ± 0.000000 in #0\n"
     ]
    },
    {
     "name": "stderr",
     "output_type": "stream",
     "text": [
      "Epoch #123: 1030it [00:02, 462.43it/s, env_step=126690, len=8, n/ep=0, n/st=10, player_0/loss=0.103, player_1/loss=0.114, rew=0.00]\n"
     ]
    },
    {
     "name": "stdout",
     "output_type": "stream",
     "text": [
      "Epoch #123: test_reward: 0.000000 ± 0.000000, best_reward: 0.000000 ± 0.000000 in #0\n"
     ]
    },
    {
     "name": "stderr",
     "output_type": "stream",
     "text": [
      "Epoch #124: 1030it [00:02, 496.16it/s, env_step=127720, len=7, n/ep=1, n/st=10, player_0/loss=0.133, player_1/loss=0.087, rew=0.00]\n"
     ]
    },
    {
     "name": "stdout",
     "output_type": "stream",
     "text": [
      "Epoch #124: test_reward: 0.000000 ± 0.000000, best_reward: 0.000000 ± 0.000000 in #0\n"
     ]
    },
    {
     "name": "stderr",
     "output_type": "stream",
     "text": [
      "Epoch #125: 1030it [00:02, 442.75it/s, env_step=128750, len=8, n/ep=2, n/st=10, player_0/loss=0.077, player_1/loss=0.109, rew=0.00]\n"
     ]
    },
    {
     "name": "stdout",
     "output_type": "stream",
     "text": [
      "Epoch #125: test_reward: 0.000000 ± 0.000000, best_reward: 0.000000 ± 0.000000 in #0\n"
     ]
    },
    {
     "name": "stderr",
     "output_type": "stream",
     "text": [
      "Epoch #126: 1030it [00:02, 480.10it/s, env_step=129780, len=8, n/ep=1, n/st=10, player_0/loss=0.063, player_1/loss=0.114, rew=0.00]\n"
     ]
    },
    {
     "name": "stdout",
     "output_type": "stream",
     "text": [
      "Epoch #126: test_reward: 0.000000 ± 0.000000, best_reward: 0.000000 ± 0.000000 in #0\n"
     ]
    },
    {
     "name": "stderr",
     "output_type": "stream",
     "text": [
      "Epoch #127: 1030it [00:02, 492.20it/s, env_step=130810, len=20, n/ep=0, n/st=10, player_0/loss=0.060, player_1/loss=0.105, rew=0.00]\n"
     ]
    },
    {
     "name": "stdout",
     "output_type": "stream",
     "text": [
      "Epoch #127: test_reward: 0.000000 ± 0.000000, best_reward: 0.000000 ± 0.000000 in #0\n"
     ]
    },
    {
     "name": "stderr",
     "output_type": "stream",
     "text": [
      "Epoch #128: 1030it [00:02, 489.33it/s, env_step=131840, len=14, n/ep=0, n/st=10, player_0/loss=0.065, player_1/loss=0.112, rew=0.00]\n"
     ]
    },
    {
     "name": "stdout",
     "output_type": "stream",
     "text": [
      "Epoch #128: test_reward: 0.000000 ± 0.000000, best_reward: 0.000000 ± 0.000000 in #0\n"
     ]
    },
    {
     "name": "stderr",
     "output_type": "stream",
     "text": [
      "Epoch #129: 1030it [00:01, 523.82it/s, env_step=132870, len=8, n/ep=1, n/st=10, player_0/loss=0.074, player_1/loss=0.097, rew=0.00]\n"
     ]
    },
    {
     "name": "stdout",
     "output_type": "stream",
     "text": [
      "Epoch #129: test_reward: 0.000000 ± 0.000000, best_reward: 0.000000 ± 0.000000 in #0\n"
     ]
    },
    {
     "name": "stderr",
     "output_type": "stream",
     "text": [
      "Epoch #130: 1030it [00:02, 497.23it/s, env_step=133900, len=12, n/ep=0, n/st=10, player_0/loss=0.077, player_1/loss=0.142, rew=0.00]\n"
     ]
    },
    {
     "name": "stdout",
     "output_type": "stream",
     "text": [
      "Epoch #130: test_reward: 0.000000 ± 0.000000, best_reward: 0.000000 ± 0.000000 in #0\n"
     ]
    },
    {
     "name": "stderr",
     "output_type": "stream",
     "text": [
      "Epoch #131: 1030it [00:02, 508.84it/s, env_step=134930, len=7, n/ep=0, n/st=10, player_0/loss=0.088, player_1/loss=0.113, rew=0.00]\n"
     ]
    },
    {
     "name": "stdout",
     "output_type": "stream",
     "text": [
      "Epoch #131: test_reward: 0.000000 ± 0.000000, best_reward: 0.000000 ± 0.000000 in #0\n"
     ]
    },
    {
     "name": "stderr",
     "output_type": "stream",
     "text": [
      "Epoch #132: 1030it [00:02, 501.94it/s, env_step=135960, len=11, n/ep=2, n/st=10, player_0/loss=0.062, player_1/loss=0.135, rew=0.00]\n"
     ]
    },
    {
     "name": "stdout",
     "output_type": "stream",
     "text": [
      "Epoch #132: test_reward: 0.000000 ± 0.000000, best_reward: 0.000000 ± 0.000000 in #0\n"
     ]
    },
    {
     "name": "stderr",
     "output_type": "stream",
     "text": [
      "Epoch #133: 1030it [00:02, 499.97it/s, env_step=136990, len=7, n/ep=2, n/st=10, player_0/loss=0.089, player_1/loss=0.140, rew=0.00]\n"
     ]
    },
    {
     "name": "stdout",
     "output_type": "stream",
     "text": [
      "Epoch #133: test_reward: 0.000000 ± 0.000000, best_reward: 0.000000 ± 0.000000 in #0\n"
     ]
    },
    {
     "name": "stderr",
     "output_type": "stream",
     "text": [
      "Epoch #134: 1030it [00:02, 495.47it/s, env_step=138020, len=7, n/ep=1, n/st=10, player_0/loss=0.081, player_1/loss=0.124, rew=0.00]\n"
     ]
    },
    {
     "name": "stdout",
     "output_type": "stream",
     "text": [
      "Epoch #134: test_reward: 0.000000 ± 0.000000, best_reward: 0.000000 ± 0.000000 in #0\n"
     ]
    },
    {
     "name": "stderr",
     "output_type": "stream",
     "text": [
      "Epoch #135: 1030it [00:02, 496.19it/s, env_step=139050, len=9, n/ep=0, n/st=10, player_0/loss=0.079, player_1/loss=0.129, rew=0.00]\n"
     ]
    },
    {
     "name": "stdout",
     "output_type": "stream",
     "text": [
      "Epoch #135: test_reward: 0.000000 ± 0.000000, best_reward: 0.000000 ± 0.000000 in #0\n"
     ]
    },
    {
     "name": "stderr",
     "output_type": "stream",
     "text": [
      "Epoch #136: 1030it [00:02, 398.04it/s, env_step=140080, len=8, n/ep=1, n/st=10, player_0/loss=0.107, player_1/loss=0.143, rew=0.00]\n"
     ]
    },
    {
     "name": "stdout",
     "output_type": "stream",
     "text": [
      "Epoch #136: test_reward: 0.000000 ± 0.000000, best_reward: 0.000000 ± 0.000000 in #0\n"
     ]
    },
    {
     "name": "stderr",
     "output_type": "stream",
     "text": [
      "Epoch #137: 1030it [00:02, 459.62it/s, env_step=141110, len=10, n/ep=2, n/st=10, player_0/loss=0.074, player_1/loss=0.149, rew=0.00]\n"
     ]
    },
    {
     "name": "stdout",
     "output_type": "stream",
     "text": [
      "Epoch #137: test_reward: 0.000000 ± 0.000000, best_reward: 0.000000 ± 0.000000 in #0\n"
     ]
    },
    {
     "name": "stderr",
     "output_type": "stream",
     "text": [
      "Epoch #138: 1030it [00:02, 494.08it/s, env_step=142140, len=10, n/ep=0, n/st=10, player_0/loss=0.065, player_1/loss=0.160, rew=0.00]\n"
     ]
    },
    {
     "name": "stdout",
     "output_type": "stream",
     "text": [
      "Epoch #138: test_reward: 0.000000 ± 0.000000, best_reward: 0.000000 ± 0.000000 in #0\n"
     ]
    },
    {
     "name": "stderr",
     "output_type": "stream",
     "text": [
      "Epoch #139: 1030it [00:02, 491.88it/s, env_step=143170, len=16, n/ep=2, n/st=10, player_0/loss=0.083, player_1/loss=0.088, rew=0.00]\n"
     ]
    },
    {
     "name": "stdout",
     "output_type": "stream",
     "text": [
      "Epoch #139: test_reward: 0.000000 ± 0.000000, best_reward: 0.000000 ± 0.000000 in #0\n"
     ]
    },
    {
     "name": "stderr",
     "output_type": "stream",
     "text": [
      "Epoch #140: 1030it [00:01, 522.36it/s, env_step=144200, len=16, n/ep=1, n/st=10, player_0/loss=0.077, player_1/loss=0.073, rew=0.00]\n"
     ]
    },
    {
     "name": "stdout",
     "output_type": "stream",
     "text": [
      "Epoch #140: test_reward: 0.000000 ± 0.000000, best_reward: 0.000000 ± 0.000000 in #0\n"
     ]
    },
    {
     "name": "stderr",
     "output_type": "stream",
     "text": [
      "Epoch #141: 1030it [00:01, 539.73it/s, env_step=145230, len=11, n/ep=0, n/st=10, player_0/loss=0.087, player_1/loss=0.060, rew=0.00]\n"
     ]
    },
    {
     "name": "stdout",
     "output_type": "stream",
     "text": [
      "Epoch #141: test_reward: 0.000000 ± 0.000000, best_reward: 0.000000 ± 0.000000 in #0\n"
     ]
    },
    {
     "name": "stderr",
     "output_type": "stream",
     "text": [
      "Epoch #142: 1030it [00:02, 510.79it/s, env_step=146260, len=16, n/ep=0, n/st=10, player_0/loss=0.116, player_1/loss=0.072, rew=0.00]\n"
     ]
    },
    {
     "name": "stdout",
     "output_type": "stream",
     "text": [
      "Epoch #142: test_reward: 0.000000 ± 0.000000, best_reward: 0.000000 ± 0.000000 in #0\n"
     ]
    },
    {
     "name": "stderr",
     "output_type": "stream",
     "text": [
      "Epoch #143: 1030it [00:02, 512.55it/s, env_step=147290, len=14, n/ep=1, n/st=10, player_0/loss=0.102, player_1/loss=0.058, rew=0.00]\n"
     ]
    },
    {
     "name": "stdout",
     "output_type": "stream",
     "text": [
      "Epoch #143: test_reward: 0.000000 ± 0.000000, best_reward: 0.000000 ± 0.000000 in #0\n"
     ]
    },
    {
     "name": "stderr",
     "output_type": "stream",
     "text": [
      "Epoch #144: 1030it [00:01, 519.67it/s, env_step=148320, len=12, n/ep=1, n/st=10, player_0/loss=0.088, player_1/loss=0.073, rew=0.00]\n"
     ]
    },
    {
     "name": "stdout",
     "output_type": "stream",
     "text": [
      "Epoch #144: test_reward: 0.000000 ± 0.000000, best_reward: 0.000000 ± 0.000000 in #0\n"
     ]
    },
    {
     "name": "stderr",
     "output_type": "stream",
     "text": [
      "Epoch #145: 1030it [00:02, 490.05it/s, env_step=149350, len=7, n/ep=1, n/st=10, player_0/loss=0.104, player_1/loss=0.082, rew=0.00]\n"
     ]
    },
    {
     "name": "stdout",
     "output_type": "stream",
     "text": [
      "Epoch #145: test_reward: 0.000000 ± 0.000000, best_reward: 0.000000 ± 0.000000 in #0\n"
     ]
    },
    {
     "name": "stderr",
     "output_type": "stream",
     "text": [
      "Epoch #146: 1030it [00:01, 534.33it/s, env_step=150380, len=8, n/ep=0, n/st=10, player_0/loss=0.089, player_1/loss=0.119, rew=0.00]\n"
     ]
    },
    {
     "name": "stdout",
     "output_type": "stream",
     "text": [
      "Epoch #146: test_reward: 0.000000 ± 0.000000, best_reward: 0.000000 ± 0.000000 in #0\n"
     ]
    },
    {
     "name": "stderr",
     "output_type": "stream",
     "text": [
      "Epoch #147: 1030it [00:02, 510.60it/s, env_step=151410, len=7, n/ep=1, n/st=10, player_0/loss=0.097, player_1/loss=0.116, rew=0.00]\n"
     ]
    },
    {
     "name": "stdout",
     "output_type": "stream",
     "text": [
      "Epoch #147: test_reward: 0.000000 ± 0.000000, best_reward: 0.000000 ± 0.000000 in #0\n"
     ]
    },
    {
     "name": "stderr",
     "output_type": "stream",
     "text": [
      "Epoch #148: 1030it [00:02, 510.28it/s, env_step=152440, len=11, n/ep=1, n/st=10, player_0/loss=0.075, player_1/loss=0.105, rew=0.00]\n"
     ]
    },
    {
     "name": "stdout",
     "output_type": "stream",
     "text": [
      "Epoch #148: test_reward: 0.000000 ± 0.000000, best_reward: 0.000000 ± 0.000000 in #0\n"
     ]
    },
    {
     "name": "stderr",
     "output_type": "stream",
     "text": [
      "Epoch #149: 1030it [00:02, 414.06it/s, env_step=153470, len=12, n/ep=0, n/st=10, player_0/loss=0.082, player_1/loss=0.120, rew=0.00]\n"
     ]
    },
    {
     "name": "stdout",
     "output_type": "stream",
     "text": [
      "Epoch #149: test_reward: 0.000000 ± 0.000000, best_reward: 0.000000 ± 0.000000 in #0\n"
     ]
    },
    {
     "name": "stderr",
     "output_type": "stream",
     "text": [
      "Epoch #150: 1030it [00:02, 475.86it/s, env_step=154500, len=12, n/ep=0, n/st=10, player_0/loss=0.113, player_1/loss=0.073, rew=0.00]\n"
     ]
    },
    {
     "name": "stdout",
     "output_type": "stream",
     "text": [
      "Epoch #150: test_reward: 0.000000 ± 0.000000, best_reward: 0.000000 ± 0.000000 in #0\n"
     ]
    },
    {
     "name": "stderr",
     "output_type": "stream",
     "text": [
      "Epoch #151: 1030it [00:02, 429.63it/s, env_step=155530, len=23, n/ep=1, n/st=10, player_0/loss=0.093, player_1/loss=0.093, rew=0.00]\n"
     ]
    },
    {
     "name": "stdout",
     "output_type": "stream",
     "text": [
      "Epoch #151: test_reward: 0.000000 ± 0.000000, best_reward: 0.000000 ± 0.000000 in #0\n"
     ]
    },
    {
     "name": "stderr",
     "output_type": "stream",
     "text": [
      "Epoch #152: 1030it [00:02, 479.61it/s, env_step=156560, len=8, n/ep=3, n/st=10, player_0/loss=0.089, player_1/loss=0.112, rew=0.00]\n"
     ]
    },
    {
     "name": "stdout",
     "output_type": "stream",
     "text": [
      "Epoch #152: test_reward: 0.000000 ± 0.000000, best_reward: 0.000000 ± 0.000000 in #0\n"
     ]
    },
    {
     "name": "stderr",
     "output_type": "stream",
     "text": [
      "Epoch #153: 1030it [00:02, 481.21it/s, env_step=157590, len=11, n/ep=0, n/st=10, player_0/loss=0.081, player_1/loss=0.118, rew=0.00]\n"
     ]
    },
    {
     "name": "stdout",
     "output_type": "stream",
     "text": [
      "Epoch #153: test_reward: 0.000000 ± 0.000000, best_reward: 0.000000 ± 0.000000 in #0\n"
     ]
    },
    {
     "name": "stderr",
     "output_type": "stream",
     "text": [
      "Epoch #154: 1030it [00:01, 519.95it/s, env_step=158620, len=7, n/ep=0, n/st=10, player_0/loss=0.060, player_1/loss=0.162, rew=0.00]\n"
     ]
    },
    {
     "name": "stdout",
     "output_type": "stream",
     "text": [
      "Epoch #154: test_reward: 0.000000 ± 0.000000, best_reward: 0.000000 ± 0.000000 in #0\n"
     ]
    },
    {
     "name": "stderr",
     "output_type": "stream",
     "text": [
      "Epoch #155: 1030it [00:02, 494.32it/s, env_step=159650, len=12, n/ep=0, n/st=10, player_0/loss=0.093, player_1/loss=0.108, rew=0.00]\n"
     ]
    },
    {
     "name": "stdout",
     "output_type": "stream",
     "text": [
      "Epoch #155: test_reward: 0.000000 ± 0.000000, best_reward: 0.000000 ± 0.000000 in #0\n"
     ]
    },
    {
     "name": "stderr",
     "output_type": "stream",
     "text": [
      "Epoch #156: 1030it [00:01, 524.08it/s, env_step=160680, len=7, n/ep=1, n/st=10, player_0/loss=0.096, player_1/loss=0.135, rew=0.00]\n"
     ]
    },
    {
     "name": "stdout",
     "output_type": "stream",
     "text": [
      "Epoch #156: test_reward: 0.000000 ± 0.000000, best_reward: 0.000000 ± 0.000000 in #0\n"
     ]
    },
    {
     "name": "stderr",
     "output_type": "stream",
     "text": [
      "Epoch #157: 1030it [00:02, 505.17it/s, env_step=161710, len=7, n/ep=0, n/st=10, player_0/loss=0.073, player_1/loss=0.133, rew=0.00]\n"
     ]
    },
    {
     "name": "stdout",
     "output_type": "stream",
     "text": [
      "Epoch #157: test_reward: 0.000000 ± 0.000000, best_reward: 0.000000 ± 0.000000 in #0\n"
     ]
    },
    {
     "name": "stderr",
     "output_type": "stream",
     "text": [
      "Epoch #158: 1030it [00:02, 513.74it/s, env_step=162740, len=7, n/ep=1, n/st=10, player_0/loss=0.071, player_1/loss=0.139, rew=0.00]\n"
     ]
    },
    {
     "name": "stdout",
     "output_type": "stream",
     "text": [
      "Epoch #158: test_reward: 0.000000 ± 0.000000, best_reward: 0.000000 ± 0.000000 in #0\n"
     ]
    },
    {
     "name": "stderr",
     "output_type": "stream",
     "text": [
      "Epoch #159: 1030it [00:01, 539.02it/s, env_step=163770, len=8, n/ep=2, n/st=10, player_0/loss=0.084, player_1/loss=0.113, rew=0.00]\n"
     ]
    },
    {
     "name": "stdout",
     "output_type": "stream",
     "text": [
      "Epoch #159: test_reward: 0.000000 ± 0.000000, best_reward: 0.000000 ± 0.000000 in #0\n"
     ]
    },
    {
     "name": "stderr",
     "output_type": "stream",
     "text": [
      "Epoch #160: 1030it [00:01, 528.25it/s, env_step=164800, len=7, n/ep=1, n/st=10, player_0/loss=0.102, player_1/loss=0.092, rew=0.00]\n"
     ]
    },
    {
     "name": "stdout",
     "output_type": "stream",
     "text": [
      "Epoch #160: test_reward: 0.000000 ± 0.000000, best_reward: 0.000000 ± 0.000000 in #0\n"
     ]
    },
    {
     "name": "stderr",
     "output_type": "stream",
     "text": [
      "Epoch #161: 1030it [00:01, 539.23it/s, env_step=165830, len=7, n/ep=1, n/st=10, player_0/loss=0.095, player_1/loss=0.096, rew=0.00]\n"
     ]
    },
    {
     "name": "stdout",
     "output_type": "stream",
     "text": [
      "Epoch #161: test_reward: 0.000000 ± 0.000000, best_reward: 0.000000 ± 0.000000 in #0\n"
     ]
    },
    {
     "name": "stderr",
     "output_type": "stream",
     "text": [
      "Epoch #162: 1030it [00:01, 515.97it/s, env_step=166860, len=14, n/ep=1, n/st=10, player_0/loss=0.090, player_1/loss=0.076, rew=0.00]\n"
     ]
    },
    {
     "name": "stdout",
     "output_type": "stream",
     "text": [
      "Epoch #162: test_reward: 0.000000 ± 0.000000, best_reward: 0.000000 ± 0.000000 in #0\n"
     ]
    },
    {
     "name": "stderr",
     "output_type": "stream",
     "text": [
      "Epoch #163: 1030it [00:01, 543.09it/s, env_step=167890, len=20, n/ep=1, n/st=10, player_0/loss=0.096, player_1/loss=0.087, rew=0.00]\n"
     ]
    },
    {
     "name": "stdout",
     "output_type": "stream",
     "text": [
      "Epoch #163: test_reward: 0.000000 ± 0.000000, best_reward: 0.000000 ± 0.000000 in #0\n"
     ]
    },
    {
     "name": "stderr",
     "output_type": "stream",
     "text": [
      "Epoch #164: 1030it [00:02, 486.82it/s, env_step=168920, len=9, n/ep=1, n/st=10, player_0/loss=0.084, player_1/loss=0.148, rew=0.00] \n"
     ]
    },
    {
     "name": "stdout",
     "output_type": "stream",
     "text": [
      "Epoch #164: test_reward: 0.000000 ± 0.000000, best_reward: 0.000000 ± 0.000000 in #0\n"
     ]
    },
    {
     "name": "stderr",
     "output_type": "stream",
     "text": [
      "Epoch #165: 1030it [00:01, 516.05it/s, env_step=169950, len=10, n/ep=1, n/st=10, player_0/loss=0.124, player_1/loss=0.102, rew=0.00]\n"
     ]
    },
    {
     "name": "stdout",
     "output_type": "stream",
     "text": [
      "Epoch #165: test_reward: 0.000000 ± 0.000000, best_reward: 0.000000 ± 0.000000 in #0\n"
     ]
    },
    {
     "name": "stderr",
     "output_type": "stream",
     "text": [
      "Epoch #166: 1030it [00:01, 539.54it/s, env_step=170980, len=10, n/ep=2, n/st=10, player_0/loss=0.103, player_1/loss=0.093, rew=0.00]\n"
     ]
    },
    {
     "name": "stdout",
     "output_type": "stream",
     "text": [
      "Epoch #166: test_reward: 0.000000 ± 0.000000, best_reward: 0.000000 ± 0.000000 in #0\n"
     ]
    },
    {
     "name": "stderr",
     "output_type": "stream",
     "text": [
      "Epoch #167: 1030it [00:01, 543.46it/s, env_step=172010, len=8, n/ep=1, n/st=10, player_0/loss=0.110, player_1/loss=0.082, rew=0.00]\n"
     ]
    },
    {
     "name": "stdout",
     "output_type": "stream",
     "text": [
      "Epoch #167: test_reward: 0.000000 ± 0.000000, best_reward: 0.000000 ± 0.000000 in #0\n"
     ]
    },
    {
     "name": "stderr",
     "output_type": "stream",
     "text": [
      "Epoch #168: 1030it [00:01, 541.08it/s, env_step=173040, len=12, n/ep=0, n/st=10, player_0/loss=0.104, player_1/loss=0.103, rew=0.00]\n"
     ]
    },
    {
     "name": "stdout",
     "output_type": "stream",
     "text": [
      "Epoch #168: test_reward: 0.000000 ± 0.000000, best_reward: 0.000000 ± 0.000000 in #0\n"
     ]
    },
    {
     "name": "stderr",
     "output_type": "stream",
     "text": [
      "Epoch #169: 1030it [00:02, 487.80it/s, env_step=174070, len=9, n/ep=0, n/st=10, player_0/loss=0.113, player_1/loss=0.082, rew=0.00]\n"
     ]
    },
    {
     "name": "stdout",
     "output_type": "stream",
     "text": [
      "Epoch #169: test_reward: 0.000000 ± 0.000000, best_reward: 0.000000 ± 0.000000 in #0\n"
     ]
    },
    {
     "name": "stderr",
     "output_type": "stream",
     "text": [
      "Epoch #170: 1030it [00:02, 476.05it/s, env_step=175100, len=9, n/ep=2, n/st=10, player_0/loss=0.076, player_1/loss=0.154, rew=0.00]\n"
     ]
    },
    {
     "name": "stdout",
     "output_type": "stream",
     "text": [
      "Epoch #170: test_reward: 0.000000 ± 0.000000, best_reward: 0.000000 ± 0.000000 in #0\n"
     ]
    },
    {
     "name": "stderr",
     "output_type": "stream",
     "text": [
      "Epoch #171: 1030it [00:02, 427.58it/s, env_step=176130, len=9, n/ep=1, n/st=10, player_0/loss=0.080, player_1/loss=0.133, rew=0.00]\n"
     ]
    },
    {
     "name": "stdout",
     "output_type": "stream",
     "text": [
      "Epoch #171: test_reward: 0.000000 ± 0.000000, best_reward: 0.000000 ± 0.000000 in #0\n"
     ]
    },
    {
     "name": "stderr",
     "output_type": "stream",
     "text": [
      "Epoch #172: 1030it [00:02, 509.49it/s, env_step=177160, len=7, n/ep=2, n/st=10, player_0/loss=0.085, player_1/loss=0.139, rew=0.00]\n"
     ]
    },
    {
     "name": "stdout",
     "output_type": "stream",
     "text": [
      "Epoch #172: test_reward: 0.000000 ± 0.000000, best_reward: 0.000000 ± 0.000000 in #0\n"
     ]
    },
    {
     "name": "stderr",
     "output_type": "stream",
     "text": [
      "Epoch #173: 1030it [00:01, 518.55it/s, env_step=178190, len=9, n/ep=0, n/st=10, player_0/loss=0.056, player_1/loss=0.147, rew=0.00]\n"
     ]
    },
    {
     "name": "stdout",
     "output_type": "stream",
     "text": [
      "Epoch #173: test_reward: 0.000000 ± 0.000000, best_reward: 0.000000 ± 0.000000 in #0\n"
     ]
    },
    {
     "name": "stderr",
     "output_type": "stream",
     "text": [
      "Epoch #174: 1030it [00:01, 533.94it/s, env_step=179220, len=7, n/ep=0, n/st=10, player_0/loss=0.092, player_1/loss=0.106, rew=0.00]\n"
     ]
    },
    {
     "name": "stdout",
     "output_type": "stream",
     "text": [
      "Epoch #174: test_reward: 0.000000 ± 0.000000, best_reward: 0.000000 ± 0.000000 in #0\n"
     ]
    },
    {
     "name": "stderr",
     "output_type": "stream",
     "text": [
      "Epoch #175: 1030it [00:01, 544.31it/s, env_step=180250, len=9, n/ep=1, n/st=10, player_0/loss=0.084, player_1/loss=0.097, rew=0.00]\n"
     ]
    },
    {
     "name": "stdout",
     "output_type": "stream",
     "text": [
      "Epoch #175: test_reward: 0.000000 ± 0.000000, best_reward: 0.000000 ± 0.000000 in #0\n"
     ]
    },
    {
     "name": "stderr",
     "output_type": "stream",
     "text": [
      "Epoch #176: 1030it [00:01, 518.51it/s, env_step=181280, len=10, n/ep=0, n/st=10, player_0/loss=0.105, player_1/loss=0.078, rew=0.00]\n"
     ]
    },
    {
     "name": "stdout",
     "output_type": "stream",
     "text": [
      "Epoch #176: test_reward: 0.000000 ± 0.000000, best_reward: 0.000000 ± 0.000000 in #0\n"
     ]
    },
    {
     "name": "stderr",
     "output_type": "stream",
     "text": [
      "Epoch #177: 1030it [00:02, 503.88it/s, env_step=182310, len=11, n/ep=2, n/st=10, player_0/loss=0.070, player_1/loss=0.123, rew=0.00]\n"
     ]
    },
    {
     "name": "stdout",
     "output_type": "stream",
     "text": [
      "Epoch #177: test_reward: 0.000000 ± 0.000000, best_reward: 0.000000 ± 0.000000 in #0\n"
     ]
    },
    {
     "name": "stderr",
     "output_type": "stream",
     "text": [
      "Epoch #178: 1030it [00:02, 482.83it/s, env_step=183340, len=9, n/ep=2, n/st=10, player_0/loss=0.066, player_1/loss=0.143, rew=0.00]\n"
     ]
    },
    {
     "name": "stdout",
     "output_type": "stream",
     "text": [
      "Epoch #178: test_reward: 0.000000 ± 0.000000, best_reward: 0.000000 ± 0.000000 in #0\n"
     ]
    },
    {
     "name": "stderr",
     "output_type": "stream",
     "text": [
      "Epoch #179: 1030it [00:02, 503.87it/s, env_step=184370, len=12, n/ep=0, n/st=10, player_0/loss=0.080, player_1/loss=0.137, rew=0.00]\n"
     ]
    },
    {
     "name": "stdout",
     "output_type": "stream",
     "text": [
      "Epoch #179: test_reward: 0.000000 ± 0.000000, best_reward: 0.000000 ± 0.000000 in #0\n"
     ]
    },
    {
     "name": "stderr",
     "output_type": "stream",
     "text": [
      "Epoch #180: 1030it [00:02, 503.59it/s, env_step=185400, len=12, n/ep=0, n/st=10, player_0/loss=0.110, player_1/loss=0.093, rew=0.00]\n"
     ]
    },
    {
     "name": "stdout",
     "output_type": "stream",
     "text": [
      "Epoch #180: test_reward: 0.000000 ± 0.000000, best_reward: 0.000000 ± 0.000000 in #0\n"
     ]
    },
    {
     "name": "stderr",
     "output_type": "stream",
     "text": [
      "Epoch #181: 1030it [00:02, 497.93it/s, env_step=186430, len=15, n/ep=0, n/st=10, player_0/loss=0.108, player_1/loss=0.090, rew=0.00]\n"
     ]
    },
    {
     "name": "stdout",
     "output_type": "stream",
     "text": [
      "Epoch #181: test_reward: 0.000000 ± 0.000000, best_reward: 0.000000 ± 0.000000 in #0\n"
     ]
    },
    {
     "name": "stderr",
     "output_type": "stream",
     "text": [
      "Epoch #182: 1030it [00:02, 488.88it/s, env_step=187460, len=10, n/ep=0, n/st=10, player_0/loss=0.090, player_1/loss=0.076, rew=0.00]\n"
     ]
    },
    {
     "name": "stdout",
     "output_type": "stream",
     "text": [
      "Epoch #182: test_reward: 0.000000 ± 0.000000, best_reward: 0.000000 ± 0.000000 in #0\n"
     ]
    },
    {
     "name": "stderr",
     "output_type": "stream",
     "text": [
      "Epoch #183: 1030it [00:02, 479.45it/s, env_step=188490, len=24, n/ep=1, n/st=10, player_0/loss=0.105, player_1/loss=0.062, rew=0.00]\n"
     ]
    },
    {
     "name": "stdout",
     "output_type": "stream",
     "text": [
      "Epoch #183: test_reward: 0.000000 ± 0.000000, best_reward: 0.000000 ± 0.000000 in #0\n"
     ]
    },
    {
     "name": "stderr",
     "output_type": "stream",
     "text": [
      "Epoch #184: 1030it [00:02, 476.21it/s, env_step=189520, len=23, n/ep=0, n/st=10, player_0/loss=0.070, player_1/loss=0.081, rew=0.00]\n"
     ]
    },
    {
     "name": "stdout",
     "output_type": "stream",
     "text": [
      "Epoch #184: test_reward: 0.000000 ± 0.000000, best_reward: 0.000000 ± 0.000000 in #0\n"
     ]
    },
    {
     "name": "stderr",
     "output_type": "stream",
     "text": [
      "Epoch #185: 1030it [00:02, 448.77it/s, env_step=190550, len=10, n/ep=3, n/st=10, player_0/loss=0.091, player_1/loss=0.098, rew=0.00]\n"
     ]
    },
    {
     "name": "stdout",
     "output_type": "stream",
     "text": [
      "Epoch #185: test_reward: 0.000000 ± 0.000000, best_reward: 0.000000 ± 0.000000 in #0\n"
     ]
    },
    {
     "name": "stderr",
     "output_type": "stream",
     "text": [
      "Epoch #186: 1030it [00:02, 502.93it/s, env_step=191580, len=23, n/ep=0, n/st=10, player_0/loss=0.077, player_1/loss=0.110, rew=0.00]\n"
     ]
    },
    {
     "name": "stdout",
     "output_type": "stream",
     "text": [
      "Epoch #186: test_reward: 0.000000 ± 0.000000, best_reward: 0.000000 ± 0.000000 in #0\n"
     ]
    },
    {
     "name": "stderr",
     "output_type": "stream",
     "text": [
      "Epoch #187: 1030it [00:02, 505.68it/s, env_step=192610, len=11, n/ep=1, n/st=10, player_0/loss=0.086, player_1/loss=0.105, rew=0.00]\n"
     ]
    },
    {
     "name": "stdout",
     "output_type": "stream",
     "text": [
      "Epoch #187: test_reward: 0.000000 ± 0.000000, best_reward: 0.000000 ± 0.000000 in #0\n"
     ]
    },
    {
     "name": "stderr",
     "output_type": "stream",
     "text": [
      "Epoch #188: 1030it [00:02, 506.65it/s, env_step=193640, len=8, n/ep=0, n/st=10, player_0/loss=0.090, player_1/loss=0.125, rew=0.00]\n"
     ]
    },
    {
     "name": "stdout",
     "output_type": "stream",
     "text": [
      "Epoch #188: test_reward: 0.000000 ± 0.000000, best_reward: 0.000000 ± 0.000000 in #0\n"
     ]
    },
    {
     "name": "stderr",
     "output_type": "stream",
     "text": [
      "Epoch #189: 1030it [00:02, 455.69it/s, env_step=194670, len=9, n/ep=2, n/st=10, player_0/loss=0.112, player_1/loss=0.127, rew=0.00] \n"
     ]
    },
    {
     "name": "stdout",
     "output_type": "stream",
     "text": [
      "Epoch #189: test_reward: 0.000000 ± 0.000000, best_reward: 0.000000 ± 0.000000 in #0\n"
     ]
    },
    {
     "name": "stderr",
     "output_type": "stream",
     "text": [
      "Epoch #190: 1030it [00:02, 502.61it/s, env_step=195700, len=7, n/ep=1, n/st=10, player_0/loss=0.088, player_1/loss=0.165, rew=0.00]\n"
     ]
    },
    {
     "name": "stdout",
     "output_type": "stream",
     "text": [
      "Epoch #190: test_reward: 0.000000 ± 0.000000, best_reward: 0.000000 ± 0.000000 in #0\n"
     ]
    },
    {
     "name": "stderr",
     "output_type": "stream",
     "text": [
      "Epoch #191: 1030it [00:02, 500.43it/s, env_step=196730, len=7, n/ep=3, n/st=10, player_0/loss=0.083, player_1/loss=0.165, rew=0.00]\n"
     ]
    },
    {
     "name": "stdout",
     "output_type": "stream",
     "text": [
      "Epoch #191: test_reward: 0.000000 ± 0.000000, best_reward: 0.000000 ± 0.000000 in #0\n"
     ]
    },
    {
     "name": "stderr",
     "output_type": "stream",
     "text": [
      "Epoch #192: 1030it [00:02, 501.62it/s, env_step=197760, len=7, n/ep=3, n/st=10, player_0/loss=0.094, player_1/loss=0.144, rew=0.00]\n"
     ]
    },
    {
     "name": "stdout",
     "output_type": "stream",
     "text": [
      "Epoch #192: test_reward: 0.000000 ± 0.000000, best_reward: 0.000000 ± 0.000000 in #0\n"
     ]
    },
    {
     "name": "stderr",
     "output_type": "stream",
     "text": [
      "Epoch #193: 1030it [00:02, 490.33it/s, env_step=198790, len=7, n/ep=1, n/st=10, player_0/loss=0.111, player_1/loss=0.134, rew=0.00]\n"
     ]
    },
    {
     "name": "stdout",
     "output_type": "stream",
     "text": [
      "Epoch #193: test_reward: 0.000000 ± 0.000000, best_reward: 0.000000 ± 0.000000 in #0\n"
     ]
    },
    {
     "name": "stderr",
     "output_type": "stream",
     "text": [
      "Epoch #194: 1030it [00:02, 500.61it/s, env_step=199820, len=12, n/ep=1, n/st=10, player_0/loss=0.095, player_1/loss=0.137, rew=0.00]\n"
     ]
    },
    {
     "name": "stdout",
     "output_type": "stream",
     "text": [
      "Epoch #194: test_reward: 0.000000 ± 0.000000, best_reward: 0.000000 ± 0.000000 in #0\n"
     ]
    },
    {
     "name": "stderr",
     "output_type": "stream",
     "text": [
      "Epoch #195: 1030it [00:02, 497.60it/s, env_step=200850, len=9, n/ep=3, n/st=10, player_0/loss=0.092, player_1/loss=0.123, rew=0.00]\n"
     ]
    },
    {
     "name": "stdout",
     "output_type": "stream",
     "text": [
      "Epoch #195: test_reward: 0.000000 ± 0.000000, best_reward: 0.000000 ± 0.000000 in #0\n"
     ]
    },
    {
     "name": "stderr",
     "output_type": "stream",
     "text": [
      "Epoch #196: 1030it [00:02, 496.72it/s, env_step=201880, len=12, n/ep=1, n/st=10, player_0/loss=0.128, player_1/loss=0.069, rew=0.00]\n"
     ]
    },
    {
     "name": "stdout",
     "output_type": "stream",
     "text": [
      "Epoch #196: test_reward: 0.000000 ± 0.000000, best_reward: 0.000000 ± 0.000000 in #0\n"
     ]
    },
    {
     "name": "stderr",
     "output_type": "stream",
     "text": [
      "Epoch #197: 1030it [00:02, 489.94it/s, env_step=202910, len=10, n/ep=0, n/st=10, player_0/loss=0.109, player_1/loss=0.067, rew=0.00]\n"
     ]
    },
    {
     "name": "stdout",
     "output_type": "stream",
     "text": [
      "Epoch #197: test_reward: 0.000000 ± 0.000000, best_reward: 0.000000 ± 0.000000 in #0\n"
     ]
    },
    {
     "name": "stderr",
     "output_type": "stream",
     "text": [
      "Epoch #198: 1030it [00:02, 488.25it/s, env_step=203940, len=16, n/ep=0, n/st=10, player_0/loss=0.110, player_1/loss=0.063, rew=0.00]\n"
     ]
    },
    {
     "name": "stdout",
     "output_type": "stream",
     "text": [
      "Epoch #198: test_reward: 0.000000 ± 0.000000, best_reward: 0.000000 ± 0.000000 in #0\n"
     ]
    },
    {
     "name": "stderr",
     "output_type": "stream",
     "text": [
      "Epoch #199: 1030it [00:02, 501.28it/s, env_step=204970, len=11, n/ep=0, n/st=10, player_0/loss=0.089, player_1/loss=0.087, rew=0.00]\n"
     ]
    },
    {
     "name": "stdout",
     "output_type": "stream",
     "text": [
      "Epoch #199: test_reward: 0.000000 ± 0.000000, best_reward: 0.000000 ± 0.000000 in #0\n"
     ]
    },
    {
     "name": "stderr",
     "output_type": "stream",
     "text": [
      "Epoch #200: 1030it [00:02, 497.29it/s, env_step=206000, len=8, n/ep=2, n/st=10, player_0/loss=0.083, player_1/loss=0.129, rew=0.00]\n"
     ]
    },
    {
     "name": "stdout",
     "output_type": "stream",
     "text": [
      "Epoch #200: test_reward: 0.000000 ± 0.000000, best_reward: 0.000000 ± 0.000000 in #0\n"
     ]
    },
    {
     "name": "stderr",
     "output_type": "stream",
     "text": [
      "Epoch #201: 1030it [00:02, 495.44it/s, env_step=207030, len=8, n/ep=0, n/st=10, player_0/loss=0.061, player_1/loss=0.166, rew=0.00]\n"
     ]
    },
    {
     "name": "stdout",
     "output_type": "stream",
     "text": [
      "Epoch #201: test_reward: 0.000000 ± 0.000000, best_reward: 0.000000 ± 0.000000 in #0\n"
     ]
    },
    {
     "name": "stderr",
     "output_type": "stream",
     "text": [
      "Epoch #202: 1030it [00:02, 492.48it/s, env_step=208060, len=7, n/ep=0, n/st=10, player_0/loss=0.077, player_1/loss=0.141, rew=0.00]\n"
     ]
    },
    {
     "name": "stdout",
     "output_type": "stream",
     "text": [
      "Epoch #202: test_reward: 0.000000 ± 0.000000, best_reward: 0.000000 ± 0.000000 in #0\n"
     ]
    },
    {
     "name": "stderr",
     "output_type": "stream",
     "text": [
      "Epoch #203: 1030it [00:02, 506.36it/s, env_step=209090, len=7, n/ep=3, n/st=10, player_0/loss=0.082, player_1/loss=0.144, rew=0.00]\n"
     ]
    },
    {
     "name": "stdout",
     "output_type": "stream",
     "text": [
      "Epoch #203: test_reward: 0.000000 ± 0.000000, best_reward: 0.000000 ± 0.000000 in #0\n"
     ]
    },
    {
     "name": "stderr",
     "output_type": "stream",
     "text": [
      "Epoch #204: 1030it [00:02, 495.56it/s, env_step=210120, len=7, n/ep=1, n/st=10, player_0/loss=0.071, player_1/loss=0.157, rew=0.00]\n"
     ]
    },
    {
     "name": "stdout",
     "output_type": "stream",
     "text": [
      "Epoch #204: test_reward: 0.000000 ± 0.000000, best_reward: 0.000000 ± 0.000000 in #0\n"
     ]
    },
    {
     "name": "stderr",
     "output_type": "stream",
     "text": [
      "Epoch #205: 1030it [00:02, 491.78it/s, env_step=211150, len=11, n/ep=1, n/st=10, player_0/loss=0.080, player_1/loss=0.154, rew=0.00]\n"
     ]
    },
    {
     "name": "stdout",
     "output_type": "stream",
     "text": [
      "Epoch #205: test_reward: 0.000000 ± 0.000000, best_reward: 0.000000 ± 0.000000 in #0\n"
     ]
    },
    {
     "name": "stderr",
     "output_type": "stream",
     "text": [
      "Epoch #206: 1030it [00:02, 500.47it/s, env_step=212180, len=9, n/ep=4, n/st=10, player_0/loss=0.072, player_1/loss=0.154, rew=0.00]\n"
     ]
    },
    {
     "name": "stdout",
     "output_type": "stream",
     "text": [
      "Epoch #206: test_reward: 0.000000 ± 0.000000, best_reward: 0.000000 ± 0.000000 in #0\n"
     ]
    },
    {
     "name": "stderr",
     "output_type": "stream",
     "text": [
      "Epoch #207: 1030it [00:02, 491.73it/s, env_step=213210, len=7, n/ep=2, n/st=10, player_0/loss=0.107, player_1/loss=0.122, rew=0.00]\n"
     ]
    },
    {
     "name": "stdout",
     "output_type": "stream",
     "text": [
      "Epoch #207: test_reward: 0.000000 ± 0.000000, best_reward: 0.000000 ± 0.000000 in #0\n"
     ]
    },
    {
     "name": "stderr",
     "output_type": "stream",
     "text": [
      "Epoch #208: 1030it [00:02, 468.81it/s, env_step=214240, len=7, n/ep=0, n/st=10, player_0/loss=0.069, player_1/loss=0.130, rew=0.00]\n"
     ]
    },
    {
     "name": "stdout",
     "output_type": "stream",
     "text": [
      "Epoch #208: test_reward: 0.000000 ± 0.000000, best_reward: 0.000000 ± 0.000000 in #0\n"
     ]
    },
    {
     "name": "stderr",
     "output_type": "stream",
     "text": [
      "Epoch #209: 1030it [00:02, 470.93it/s, env_step=215270, len=11, n/ep=2, n/st=10, player_0/loss=0.069, player_1/loss=0.160, rew=0.00]\n"
     ]
    },
    {
     "name": "stdout",
     "output_type": "stream",
     "text": [
      "Epoch #209: test_reward: 0.000000 ± 0.000000, best_reward: 0.000000 ± 0.000000 in #0\n"
     ]
    },
    {
     "name": "stderr",
     "output_type": "stream",
     "text": [
      "Epoch #210: 1030it [00:02, 469.83it/s, env_step=216300, len=8, n/ep=1, n/st=10, player_0/loss=0.083, player_1/loss=0.151, rew=0.00]\n"
     ]
    },
    {
     "name": "stdout",
     "output_type": "stream",
     "text": [
      "Epoch #210: test_reward: 0.000000 ± 0.000000, best_reward: 0.000000 ± 0.000000 in #0\n"
     ]
    },
    {
     "name": "stderr",
     "output_type": "stream",
     "text": [
      "Epoch #211: 1030it [00:02, 472.11it/s, env_step=217330, len=10, n/ep=0, n/st=10, player_0/loss=0.127, player_1/loss=0.088, rew=0.00]\n"
     ]
    },
    {
     "name": "stdout",
     "output_type": "stream",
     "text": [
      "Epoch #211: test_reward: 0.000000 ± 0.000000, best_reward: 0.000000 ± 0.000000 in #0\n"
     ]
    },
    {
     "name": "stderr",
     "output_type": "stream",
     "text": [
      "Epoch #212: 1030it [00:02, 487.47it/s, env_step=218360, len=8, n/ep=0, n/st=10, player_0/loss=0.078, player_1/loss=0.109, rew=0.00]\n"
     ]
    },
    {
     "name": "stdout",
     "output_type": "stream",
     "text": [
      "Epoch #212: test_reward: 0.000000 ± 0.000000, best_reward: 0.000000 ± 0.000000 in #0\n"
     ]
    },
    {
     "name": "stderr",
     "output_type": "stream",
     "text": [
      "Epoch #213: 1030it [00:02, 488.94it/s, env_step=219390, len=7, n/ep=1, n/st=10, player_0/loss=0.079, player_1/loss=0.111, rew=0.00]\n"
     ]
    },
    {
     "name": "stdout",
     "output_type": "stream",
     "text": [
      "Epoch #213: test_reward: 0.000000 ± 0.000000, best_reward: 0.000000 ± 0.000000 in #0\n"
     ]
    },
    {
     "name": "stderr",
     "output_type": "stream",
     "text": [
      "Epoch #214: 1030it [00:02, 486.99it/s, env_step=220420, len=12, n/ep=1, n/st=10, player_0/loss=0.079, player_1/loss=0.111, rew=0.00]\n"
     ]
    },
    {
     "name": "stdout",
     "output_type": "stream",
     "text": [
      "Epoch #214: test_reward: 0.000000 ± 0.000000, best_reward: 0.000000 ± 0.000000 in #0\n"
     ]
    },
    {
     "name": "stderr",
     "output_type": "stream",
     "text": [
      "Epoch #215: 1030it [00:02, 501.70it/s, env_step=221450, len=14, n/ep=1, n/st=10, player_0/loss=0.076, player_1/loss=0.130, rew=0.00]\n"
     ]
    },
    {
     "name": "stdout",
     "output_type": "stream",
     "text": [
      "Epoch #215: test_reward: 0.000000 ± 0.000000, best_reward: 0.000000 ± 0.000000 in #0\n"
     ]
    },
    {
     "name": "stderr",
     "output_type": "stream",
     "text": [
      "Epoch #216: 1030it [00:02, 500.69it/s, env_step=222480, len=11, n/ep=1, n/st=10, player_0/loss=0.082, player_1/loss=0.106, rew=0.00]\n"
     ]
    },
    {
     "name": "stdout",
     "output_type": "stream",
     "text": [
      "Epoch #216: test_reward: 0.000000 ± 0.000000, best_reward: 0.000000 ± 0.000000 in #0\n"
     ]
    },
    {
     "name": "stderr",
     "output_type": "stream",
     "text": [
      "Epoch #217: 1030it [00:02, 493.65it/s, env_step=223510, len=13, n/ep=0, n/st=10, player_0/loss=0.072, player_1/loss=0.105, rew=0.00]\n"
     ]
    },
    {
     "name": "stdout",
     "output_type": "stream",
     "text": [
      "Epoch #217: test_reward: 0.000000 ± 0.000000, best_reward: 0.000000 ± 0.000000 in #0\n"
     ]
    },
    {
     "name": "stderr",
     "output_type": "stream",
     "text": [
      "Epoch #218: 1030it [00:02, 491.10it/s, env_step=224540, len=9, n/ep=0, n/st=10, player_0/loss=0.061, player_1/loss=0.133, rew=0.00]\n"
     ]
    },
    {
     "name": "stdout",
     "output_type": "stream",
     "text": [
      "Epoch #218: test_reward: 0.000000 ± 0.000000, best_reward: 0.000000 ± 0.000000 in #0\n"
     ]
    },
    {
     "name": "stderr",
     "output_type": "stream",
     "text": [
      "Epoch #219: 1030it [00:02, 498.54it/s, env_step=225570, len=8, n/ep=0, n/st=10, player_0/loss=0.077, player_1/loss=0.124, rew=0.00]\n"
     ]
    },
    {
     "name": "stdout",
     "output_type": "stream",
     "text": [
      "Epoch #219: test_reward: 0.000000 ± 0.000000, best_reward: 0.000000 ± 0.000000 in #0\n"
     ]
    },
    {
     "name": "stderr",
     "output_type": "stream",
     "text": [
      "Epoch #220: 1030it [00:02, 491.07it/s, env_step=226600, len=7, n/ep=1, n/st=10, player_0/loss=0.070, player_1/loss=0.142, rew=0.00]\n"
     ]
    },
    {
     "name": "stdout",
     "output_type": "stream",
     "text": [
      "Epoch #220: test_reward: 0.000000 ± 0.000000, best_reward: 0.000000 ± 0.000000 in #0\n"
     ]
    },
    {
     "name": "stderr",
     "output_type": "stream",
     "text": [
      "Epoch #221: 1030it [00:02, 486.32it/s, env_step=227630, len=7, n/ep=1, n/st=10, player_0/loss=0.064, player_1/loss=0.137, rew=0.00]\n"
     ]
    },
    {
     "name": "stdout",
     "output_type": "stream",
     "text": [
      "Epoch #221: test_reward: 0.000000 ± 0.000000, best_reward: 0.000000 ± 0.000000 in #0\n"
     ]
    },
    {
     "name": "stderr",
     "output_type": "stream",
     "text": [
      "Epoch #222: 1030it [00:02, 498.79it/s, env_step=228660, len=7, n/ep=2, n/st=10, player_0/loss=0.066, player_1/loss=0.137, rew=0.00]\n"
     ]
    },
    {
     "name": "stdout",
     "output_type": "stream",
     "text": [
      "Epoch #222: test_reward: 0.000000 ± 0.000000, best_reward: 0.000000 ± 0.000000 in #0\n"
     ]
    },
    {
     "name": "stderr",
     "output_type": "stream",
     "text": [
      "Epoch #223: 1030it [00:02, 494.37it/s, env_step=229690, len=9, n/ep=2, n/st=10, player_0/loss=0.080, player_1/loss=0.143, rew=0.00]\n"
     ]
    },
    {
     "name": "stdout",
     "output_type": "stream",
     "text": [
      "Epoch #223: test_reward: 0.000000 ± 0.000000, best_reward: 0.000000 ± 0.000000 in #0\n"
     ]
    },
    {
     "name": "stderr",
     "output_type": "stream",
     "text": [
      "Epoch #224: 1030it [00:02, 499.20it/s, env_step=230720, len=9, n/ep=0, n/st=10, player_0/loss=0.088, player_1/loss=0.117, rew=0.00]\n"
     ]
    },
    {
     "name": "stdout",
     "output_type": "stream",
     "text": [
      "Epoch #224: test_reward: 0.000000 ± 0.000000, best_reward: 0.000000 ± 0.000000 in #0\n"
     ]
    },
    {
     "name": "stderr",
     "output_type": "stream",
     "text": [
      "Epoch #225: 1030it [00:02, 494.96it/s, env_step=231750, len=14, n/ep=2, n/st=10, player_0/loss=0.081, player_1/loss=0.137, rew=0.00]\n"
     ]
    },
    {
     "name": "stdout",
     "output_type": "stream",
     "text": [
      "Epoch #225: test_reward: 0.000000 ± 0.000000, best_reward: 0.000000 ± 0.000000 in #0\n"
     ]
    },
    {
     "name": "stderr",
     "output_type": "stream",
     "text": [
      "Epoch #226: 1030it [00:02, 496.87it/s, env_step=232780, len=9, n/ep=1, n/st=10, player_0/loss=0.095, player_1/loss=0.118, rew=0.00] \n"
     ]
    },
    {
     "name": "stdout",
     "output_type": "stream",
     "text": [
      "Epoch #226: test_reward: 0.000000 ± 0.000000, best_reward: 0.000000 ± 0.000000 in #0\n"
     ]
    },
    {
     "name": "stderr",
     "output_type": "stream",
     "text": [
      "Epoch #227: 1030it [00:02, 497.47it/s, env_step=233810, len=12, n/ep=0, n/st=10, player_0/loss=0.116, player_1/loss=0.092, rew=0.00]\n"
     ]
    },
    {
     "name": "stdout",
     "output_type": "stream",
     "text": [
      "Epoch #227: test_reward: 0.000000 ± 0.000000, best_reward: 0.000000 ± 0.000000 in #0\n"
     ]
    },
    {
     "name": "stderr",
     "output_type": "stream",
     "text": [
      "Epoch #228: 1030it [00:02, 497.09it/s, env_step=234840, len=7, n/ep=0, n/st=10, player_0/loss=0.119, player_1/loss=0.087, rew=0.00]\n"
     ]
    },
    {
     "name": "stdout",
     "output_type": "stream",
     "text": [
      "Epoch #228: test_reward: 0.000000 ± 0.000000, best_reward: 0.000000 ± 0.000000 in #0\n"
     ]
    },
    {
     "name": "stderr",
     "output_type": "stream",
     "text": [
      "Epoch #229: 1030it [00:02, 503.06it/s, env_step=235870, len=9, n/ep=1, n/st=10, player_0/loss=0.064, player_1/loss=0.165, rew=0.00]\n"
     ]
    },
    {
     "name": "stdout",
     "output_type": "stream",
     "text": [
      "Epoch #229: test_reward: 0.000000 ± 0.000000, best_reward: 0.000000 ± 0.000000 in #0\n"
     ]
    },
    {
     "name": "stderr",
     "output_type": "stream",
     "text": [
      "Epoch #230: 1030it [00:02, 486.02it/s, env_step=236900, len=12, n/ep=1, n/st=10, player_0/loss=0.096, player_1/loss=0.129, rew=0.00]\n"
     ]
    },
    {
     "name": "stdout",
     "output_type": "stream",
     "text": [
      "Epoch #230: test_reward: 0.000000 ± 0.000000, best_reward: 0.000000 ± 0.000000 in #0\n"
     ]
    },
    {
     "name": "stderr",
     "output_type": "stream",
     "text": [
      "Epoch #231: 1030it [00:02, 496.79it/s, env_step=237930, len=7, n/ep=0, n/st=10, player_0/loss=0.118, player_1/loss=0.110, rew=0.00]\n"
     ]
    },
    {
     "name": "stdout",
     "output_type": "stream",
     "text": [
      "Epoch #231: test_reward: 0.000000 ± 0.000000, best_reward: 0.000000 ± 0.000000 in #0\n"
     ]
    },
    {
     "name": "stderr",
     "output_type": "stream",
     "text": [
      "Epoch #232: 1030it [00:02, 475.02it/s, env_step=238960, len=7, n/ep=1, n/st=10, player_0/loss=0.092, player_1/loss=0.129, rew=0.00]\n"
     ]
    },
    {
     "name": "stdout",
     "output_type": "stream",
     "text": [
      "Epoch #232: test_reward: 0.000000 ± 0.000000, best_reward: 0.000000 ± 0.000000 in #0\n"
     ]
    },
    {
     "name": "stderr",
     "output_type": "stream",
     "text": [
      "Epoch #233: 1030it [00:02, 437.80it/s, env_step=239990, len=7, n/ep=0, n/st=10, player_0/loss=0.081, player_1/loss=0.146, rew=0.00]\n"
     ]
    },
    {
     "name": "stdout",
     "output_type": "stream",
     "text": [
      "Epoch #233: test_reward: 0.000000 ± 0.000000, best_reward: 0.000000 ± 0.000000 in #0\n"
     ]
    },
    {
     "name": "stderr",
     "output_type": "stream",
     "text": [
      "Epoch #234: 1030it [00:02, 475.97it/s, env_step=241020, len=7, n/ep=0, n/st=10, player_0/loss=0.106, player_1/loss=0.140, rew=0.00]\n"
     ]
    },
    {
     "name": "stdout",
     "output_type": "stream",
     "text": [
      "Epoch #234: test_reward: 0.000000 ± 0.000000, best_reward: 0.000000 ± 0.000000 in #0\n"
     ]
    },
    {
     "name": "stderr",
     "output_type": "stream",
     "text": [
      "Epoch #235: 1030it [00:02, 467.89it/s, env_step=242050, len=9, n/ep=1, n/st=10, player_0/loss=0.084, player_1/loss=0.170, rew=0.00]\n"
     ]
    },
    {
     "name": "stdout",
     "output_type": "stream",
     "text": [
      "Epoch #235: test_reward: 0.000000 ± 0.000000, best_reward: 0.000000 ± 0.000000 in #0\n"
     ]
    },
    {
     "name": "stderr",
     "output_type": "stream",
     "text": [
      "Epoch #236: 1030it [00:02, 488.54it/s, env_step=243080, len=8, n/ep=2, n/st=10, player_0/loss=0.074, player_1/loss=0.160, rew=0.00]\n"
     ]
    },
    {
     "name": "stdout",
     "output_type": "stream",
     "text": [
      "Epoch #236: test_reward: 0.000000 ± 0.000000, best_reward: 0.000000 ± 0.000000 in #0\n"
     ]
    },
    {
     "name": "stderr",
     "output_type": "stream",
     "text": [
      "Epoch #237: 1030it [00:02, 501.99it/s, env_step=244110, len=7, n/ep=0, n/st=10, player_0/loss=0.077, player_1/loss=0.173, rew=0.00]\n"
     ]
    },
    {
     "name": "stdout",
     "output_type": "stream",
     "text": [
      "Epoch #237: test_reward: 0.000000 ± 0.000000, best_reward: 0.000000 ± 0.000000 in #0\n"
     ]
    },
    {
     "name": "stderr",
     "output_type": "stream",
     "text": [
      "Epoch #238: 1030it [00:02, 513.27it/s, env_step=245140, len=9, n/ep=2, n/st=10, player_0/loss=0.101, player_1/loss=0.156, rew=0.00]\n"
     ]
    },
    {
     "name": "stdout",
     "output_type": "stream",
     "text": [
      "Epoch #238: test_reward: 0.000000 ± 0.000000, best_reward: 0.000000 ± 0.000000 in #0\n"
     ]
    },
    {
     "name": "stderr",
     "output_type": "stream",
     "text": [
      "Epoch #239: 1030it [00:02, 506.05it/s, env_step=246170, len=8, n/ep=0, n/st=10, player_0/loss=0.098, player_1/loss=0.128, rew=0.00]\n"
     ]
    },
    {
     "name": "stdout",
     "output_type": "stream",
     "text": [
      "Epoch #239: test_reward: 0.000000 ± 0.000000, best_reward: 0.000000 ± 0.000000 in #0\n"
     ]
    },
    {
     "name": "stderr",
     "output_type": "stream",
     "text": [
      "Epoch #240: 1030it [00:01, 516.19it/s, env_step=247200, len=7, n/ep=2, n/st=10, player_0/loss=0.080, player_1/loss=0.125, rew=0.00]\n"
     ]
    },
    {
     "name": "stdout",
     "output_type": "stream",
     "text": [
      "Epoch #240: test_reward: 0.000000 ± 0.000000, best_reward: 0.000000 ± 0.000000 in #0\n"
     ]
    },
    {
     "name": "stderr",
     "output_type": "stream",
     "text": [
      "Epoch #241: 1030it [00:01, 517.88it/s, env_step=248230, len=8, n/ep=1, n/st=10, player_0/loss=0.061, player_1/loss=0.167, rew=0.00]\n"
     ]
    },
    {
     "name": "stdout",
     "output_type": "stream",
     "text": [
      "Epoch #241: test_reward: 0.000000 ± 0.000000, best_reward: 0.000000 ± 0.000000 in #0\n"
     ]
    },
    {
     "name": "stderr",
     "output_type": "stream",
     "text": [
      "Epoch #242: 1030it [00:01, 522.74it/s, env_step=249260, len=9, n/ep=0, n/st=10, player_0/loss=0.066, player_1/loss=0.164, rew=0.00]\n"
     ]
    },
    {
     "name": "stdout",
     "output_type": "stream",
     "text": [
      "Epoch #242: test_reward: 0.000000 ± 0.000000, best_reward: 0.000000 ± 0.000000 in #0\n"
     ]
    },
    {
     "name": "stderr",
     "output_type": "stream",
     "text": [
      "Epoch #243: 1030it [00:01, 523.53it/s, env_step=250290, len=7, n/ep=2, n/st=10, player_0/loss=0.057, player_1/loss=0.180, rew=0.00]\n"
     ]
    },
    {
     "name": "stdout",
     "output_type": "stream",
     "text": [
      "Epoch #243: test_reward: 0.000000 ± 0.000000, best_reward: 0.000000 ± 0.000000 in #0\n"
     ]
    },
    {
     "name": "stderr",
     "output_type": "stream",
     "text": [
      "Epoch #244: 1030it [00:01, 516.61it/s, env_step=251320, len=10, n/ep=1, n/st=10, player_0/loss=0.093, player_1/loss=0.124, rew=0.00]\n"
     ]
    },
    {
     "name": "stdout",
     "output_type": "stream",
     "text": [
      "Epoch #244: test_reward: 0.000000 ± 0.000000, best_reward: 0.000000 ± 0.000000 in #0\n"
     ]
    },
    {
     "name": "stderr",
     "output_type": "stream",
     "text": [
      "Epoch #245: 1030it [00:01, 520.24it/s, env_step=252350, len=8, n/ep=3, n/st=10, player_0/loss=0.065, player_1/loss=0.156, rew=0.00]\n"
     ]
    },
    {
     "name": "stdout",
     "output_type": "stream",
     "text": [
      "Epoch #245: test_reward: 0.000000 ± 0.000000, best_reward: 0.000000 ± 0.000000 in #0\n"
     ]
    },
    {
     "name": "stderr",
     "output_type": "stream",
     "text": [
      "Epoch #246: 1030it [00:01, 534.22it/s, env_step=253380, len=8, n/ep=2, n/st=10, player_0/loss=0.081, player_1/loss=0.144, rew=0.00]\n"
     ]
    },
    {
     "name": "stdout",
     "output_type": "stream",
     "text": [
      "Epoch #246: test_reward: 0.000000 ± 0.000000, best_reward: 0.000000 ± 0.000000 in #0\n"
     ]
    },
    {
     "name": "stderr",
     "output_type": "stream",
     "text": [
      "Epoch #247: 1030it [00:01, 528.45it/s, env_step=254410, len=9, n/ep=0, n/st=10, player_0/loss=0.080, player_1/loss=0.156, rew=0.00]\n"
     ]
    },
    {
     "name": "stdout",
     "output_type": "stream",
     "text": [
      "Epoch #247: test_reward: 0.000000 ± 0.000000, best_reward: 0.000000 ± 0.000000 in #0\n"
     ]
    },
    {
     "name": "stderr",
     "output_type": "stream",
     "text": [
      "Epoch #248: 1030it [00:01, 517.79it/s, env_step=255440, len=7, n/ep=1, n/st=10, player_0/loss=0.071, player_1/loss=0.143, rew=0.00]\n"
     ]
    },
    {
     "name": "stdout",
     "output_type": "stream",
     "text": [
      "Epoch #248: test_reward: 0.000000 ± 0.000000, best_reward: 0.000000 ± 0.000000 in #0\n"
     ]
    },
    {
     "name": "stderr",
     "output_type": "stream",
     "text": [
      "Epoch #249: 1030it [00:01, 522.09it/s, env_step=256470, len=14, n/ep=1, n/st=10, player_0/loss=0.091, player_1/loss=0.115, rew=0.00]\n"
     ]
    },
    {
     "name": "stdout",
     "output_type": "stream",
     "text": [
      "Epoch #249: test_reward: 0.000000 ± 0.000000, best_reward: 0.000000 ± 0.000000 in #0\n"
     ]
    },
    {
     "name": "stderr",
     "output_type": "stream",
     "text": [
      "Epoch #250: 1030it [00:01, 531.08it/s, env_step=257500, len=7, n/ep=0, n/st=10, player_0/loss=0.101, player_1/loss=0.106, rew=0.00]\n"
     ]
    },
    {
     "name": "stdout",
     "output_type": "stream",
     "text": [
      "Epoch #250: test_reward: 0.000000 ± 0.000000, best_reward: 0.000000 ± 0.000000 in #0\n"
     ]
    },
    {
     "name": "stderr",
     "output_type": "stream",
     "text": [
      "Epoch #251: 1030it [00:01, 524.17it/s, env_step=258530, len=9, n/ep=1, n/st=10, player_0/loss=0.095, player_1/loss=0.135, rew=0.00] \n"
     ]
    },
    {
     "name": "stdout",
     "output_type": "stream",
     "text": [
      "Epoch #251: test_reward: 0.000000 ± 0.000000, best_reward: 0.000000 ± 0.000000 in #0\n"
     ]
    },
    {
     "name": "stderr",
     "output_type": "stream",
     "text": [
      "Epoch #252: 1030it [00:01, 524.14it/s, env_step=259560, len=10, n/ep=1, n/st=10, player_0/loss=0.149, player_1/loss=0.087, rew=0.00]\n"
     ]
    },
    {
     "name": "stdout",
     "output_type": "stream",
     "text": [
      "Epoch #252: test_reward: 0.000000 ± 0.000000, best_reward: 0.000000 ± 0.000000 in #0\n"
     ]
    },
    {
     "name": "stderr",
     "output_type": "stream",
     "text": [
      "Epoch #253: 1030it [00:02, 506.87it/s, env_step=260590, len=12, n/ep=2, n/st=10, player_0/loss=0.133, player_1/loss=0.076, rew=0.00]\n"
     ]
    },
    {
     "name": "stdout",
     "output_type": "stream",
     "text": [
      "Epoch #253: test_reward: 0.000000 ± 0.000000, best_reward: 0.000000 ± 0.000000 in #0\n"
     ]
    },
    {
     "name": "stderr",
     "output_type": "stream",
     "text": [
      "Epoch #254: 1030it [00:02, 509.50it/s, env_step=261620, len=8, n/ep=0, n/st=10, player_0/loss=0.093, player_1/loss=0.114, rew=0.00]\n"
     ]
    },
    {
     "name": "stdout",
     "output_type": "stream",
     "text": [
      "Epoch #254: test_reward: 0.000000 ± 0.000000, best_reward: 0.000000 ± 0.000000 in #0\n"
     ]
    },
    {
     "name": "stderr",
     "output_type": "stream",
     "text": [
      "Epoch #255: 1030it [00:02, 514.03it/s, env_step=262650, len=9, n/ep=1, n/st=10, player_0/loss=0.125, player_1/loss=0.069, rew=0.00]\n"
     ]
    },
    {
     "name": "stdout",
     "output_type": "stream",
     "text": [
      "Epoch #255: test_reward: 0.000000 ± 0.000000, best_reward: 0.000000 ± 0.000000 in #0\n"
     ]
    },
    {
     "name": "stderr",
     "output_type": "stream",
     "text": [
      "Epoch #256: 1030it [00:02, 513.21it/s, env_step=263680, len=7, n/ep=0, n/st=10, player_0/loss=0.079, player_1/loss=0.106, rew=0.00]\n"
     ]
    },
    {
     "name": "stdout",
     "output_type": "stream",
     "text": [
      "Epoch #256: test_reward: 0.000000 ± 0.000000, best_reward: 0.000000 ± 0.000000 in #0\n"
     ]
    },
    {
     "name": "stderr",
     "output_type": "stream",
     "text": [
      "Epoch #257: 1030it [00:01, 538.69it/s, env_step=264710, len=8, n/ep=2, n/st=10, player_0/loss=0.058, player_1/loss=0.128, rew=0.00]\n"
     ]
    },
    {
     "name": "stdout",
     "output_type": "stream",
     "text": [
      "Epoch #257: test_reward: 0.000000 ± 0.000000, best_reward: 0.000000 ± 0.000000 in #0\n"
     ]
    },
    {
     "name": "stderr",
     "output_type": "stream",
     "text": [
      "Epoch #258: 1030it [00:01, 519.93it/s, env_step=265740, len=9, n/ep=2, n/st=10, player_0/loss=0.102, player_1/loss=0.088, rew=0.00]\n"
     ]
    },
    {
     "name": "stdout",
     "output_type": "stream",
     "text": [
      "Epoch #258: test_reward: 0.000000 ± 0.000000, best_reward: 0.000000 ± 0.000000 in #0\n"
     ]
    },
    {
     "name": "stderr",
     "output_type": "stream",
     "text": [
      "Epoch #259: 1030it [00:01, 529.46it/s, env_step=266770, len=14, n/ep=1, n/st=10, player_0/loss=0.086, player_1/loss=0.097, rew=0.00]\n"
     ]
    },
    {
     "name": "stdout",
     "output_type": "stream",
     "text": [
      "Epoch #259: test_reward: 0.000000 ± 0.000000, best_reward: 0.000000 ± 0.000000 in #0\n"
     ]
    },
    {
     "name": "stderr",
     "output_type": "stream",
     "text": [
      "Epoch #260: 1030it [00:01, 526.56it/s, env_step=267800, len=12, n/ep=3, n/st=10, player_0/loss=0.082, player_1/loss=0.097, rew=0.00]\n"
     ]
    },
    {
     "name": "stdout",
     "output_type": "stream",
     "text": [
      "Epoch #260: test_reward: 0.000000 ± 0.000000, best_reward: 0.000000 ± 0.000000 in #0\n"
     ]
    },
    {
     "name": "stderr",
     "output_type": "stream",
     "text": [
      "Epoch #261: 1030it [00:02, 512.20it/s, env_step=268830, len=14, n/ep=1, n/st=10, player_0/loss=0.097, player_1/loss=0.141, rew=0.00]\n"
     ]
    },
    {
     "name": "stdout",
     "output_type": "stream",
     "text": [
      "Epoch #261: test_reward: 0.000000 ± 0.000000, best_reward: 0.000000 ± 0.000000 in #0\n"
     ]
    },
    {
     "name": "stderr",
     "output_type": "stream",
     "text": [
      "Epoch #262: 1030it [00:01, 522.74it/s, env_step=269860, len=10, n/ep=0, n/st=10, player_0/loss=0.076, player_1/loss=0.120, rew=0.00]\n"
     ]
    },
    {
     "name": "stdout",
     "output_type": "stream",
     "text": [
      "Epoch #262: test_reward: 0.000000 ± 0.000000, best_reward: 0.000000 ± 0.000000 in #0\n"
     ]
    },
    {
     "name": "stderr",
     "output_type": "stream",
     "text": [
      "Epoch #263: 1030it [00:01, 516.77it/s, env_step=270890, len=8, n/ep=1, n/st=10, player_0/loss=0.061, player_1/loss=0.169, rew=0.00]\n"
     ]
    },
    {
     "name": "stdout",
     "output_type": "stream",
     "text": [
      "Epoch #263: test_reward: 0.000000 ± 0.000000, best_reward: 0.000000 ± 0.000000 in #0\n"
     ]
    },
    {
     "name": "stderr",
     "output_type": "stream",
     "text": [
      "Epoch #264: 1030it [00:01, 518.07it/s, env_step=271920, len=8, n/ep=1, n/st=10, player_0/loss=0.067, player_1/loss=0.139, rew=0.00]\n"
     ]
    },
    {
     "name": "stdout",
     "output_type": "stream",
     "text": [
      "Epoch #264: test_reward: 0.000000 ± 0.000000, best_reward: 0.000000 ± 0.000000 in #0\n"
     ]
    },
    {
     "name": "stderr",
     "output_type": "stream",
     "text": [
      "Epoch #265: 1030it [00:01, 527.40it/s, env_step=272950, len=8, n/ep=2, n/st=10, player_0/loss=0.083, player_1/loss=0.139, rew=0.00]\n"
     ]
    },
    {
     "name": "stdout",
     "output_type": "stream",
     "text": [
      "Epoch #265: test_reward: 0.000000 ± 0.000000, best_reward: 0.000000 ± 0.000000 in #0\n"
     ]
    },
    {
     "name": "stderr",
     "output_type": "stream",
     "text": [
      "Epoch #266: 1030it [00:01, 522.11it/s, env_step=273980, len=12, n/ep=1, n/st=10, player_0/loss=0.098, player_1/loss=0.103, rew=0.00]\n"
     ]
    },
    {
     "name": "stdout",
     "output_type": "stream",
     "text": [
      "Epoch #266: test_reward: 0.000000 ± 0.000000, best_reward: 0.000000 ± 0.000000 in #0\n"
     ]
    },
    {
     "name": "stderr",
     "output_type": "stream",
     "text": [
      "Epoch #267: 1030it [00:01, 521.18it/s, env_step=275010, len=11, n/ep=2, n/st=10, player_0/loss=0.086, player_1/loss=0.127, rew=0.00]\n"
     ]
    },
    {
     "name": "stdout",
     "output_type": "stream",
     "text": [
      "Epoch #267: test_reward: 0.000000 ± 0.000000, best_reward: 0.000000 ± 0.000000 in #0\n"
     ]
    },
    {
     "name": "stderr",
     "output_type": "stream",
     "text": [
      "Epoch #268: 1030it [00:01, 536.91it/s, env_step=276040, len=7, n/ep=1, n/st=10, player_0/loss=0.078, player_1/loss=0.138, rew=0.00]\n"
     ]
    },
    {
     "name": "stdout",
     "output_type": "stream",
     "text": [
      "Epoch #268: test_reward: 0.000000 ± 0.000000, best_reward: 0.000000 ± 0.000000 in #0\n"
     ]
    },
    {
     "name": "stderr",
     "output_type": "stream",
     "text": [
      "Epoch #269: 1030it [00:01, 522.57it/s, env_step=277070, len=11, n/ep=3, n/st=10, player_0/loss=0.076, player_1/loss=0.115, rew=0.00]\n"
     ]
    },
    {
     "name": "stdout",
     "output_type": "stream",
     "text": [
      "Epoch #269: test_reward: 0.000000 ± 0.000000, best_reward: 0.000000 ± 0.000000 in #0\n"
     ]
    },
    {
     "name": "stderr",
     "output_type": "stream",
     "text": [
      "Epoch #270: 1030it [00:01, 524.26it/s, env_step=278100, len=7, n/ep=2, n/st=10, player_0/loss=0.084, player_1/loss=0.151, rew=0.00]\n"
     ]
    },
    {
     "name": "stdout",
     "output_type": "stream",
     "text": [
      "Epoch #270: test_reward: 0.000000 ± 0.000000, best_reward: 0.000000 ± 0.000000 in #0\n"
     ]
    },
    {
     "name": "stderr",
     "output_type": "stream",
     "text": [
      "Epoch #271: 1030it [00:01, 520.25it/s, env_step=279130, len=7, n/ep=4, n/st=10, player_0/loss=0.063, player_1/loss=0.155, rew=0.00]\n"
     ]
    },
    {
     "name": "stdout",
     "output_type": "stream",
     "text": [
      "Epoch #271: test_reward: 0.000000 ± 0.000000, best_reward: 0.000000 ± 0.000000 in #0\n"
     ]
    },
    {
     "name": "stderr",
     "output_type": "stream",
     "text": [
      "Epoch #272: 1030it [00:01, 523.40it/s, env_step=280160, len=14, n/ep=1, n/st=10, player_0/loss=0.074, player_1/loss=0.149, rew=0.00]\n"
     ]
    },
    {
     "name": "stdout",
     "output_type": "stream",
     "text": [
      "Epoch #272: test_reward: 0.000000 ± 0.000000, best_reward: 0.000000 ± 0.000000 in #0\n"
     ]
    },
    {
     "name": "stderr",
     "output_type": "stream",
     "text": [
      "Epoch #273: 1030it [00:02, 513.03it/s, env_step=281190, len=9, n/ep=0, n/st=10, player_0/loss=0.076, player_1/loss=0.146, rew=0.00]\n"
     ]
    },
    {
     "name": "stdout",
     "output_type": "stream",
     "text": [
      "Epoch #273: test_reward: 0.000000 ± 0.000000, best_reward: 0.000000 ± 0.000000 in #0\n"
     ]
    },
    {
     "name": "stderr",
     "output_type": "stream",
     "text": [
      "Epoch #274: 1030it [00:01, 518.33it/s, env_step=282220, len=10, n/ep=0, n/st=10, player_0/loss=0.101, player_1/loss=0.106, rew=0.00]\n"
     ]
    },
    {
     "name": "stdout",
     "output_type": "stream",
     "text": [
      "Epoch #274: test_reward: 0.000000 ± 0.000000, best_reward: 0.000000 ± 0.000000 in #0\n"
     ]
    },
    {
     "name": "stderr",
     "output_type": "stream",
     "text": [
      "Epoch #275: 1030it [00:01, 523.79it/s, env_step=283250, len=9, n/ep=1, n/st=10, player_0/loss=0.068, player_1/loss=0.148, rew=0.00]\n"
     ]
    },
    {
     "name": "stdout",
     "output_type": "stream",
     "text": [
      "Epoch #275: test_reward: 0.000000 ± 0.000000, best_reward: 0.000000 ± 0.000000 in #0\n"
     ]
    },
    {
     "name": "stderr",
     "output_type": "stream",
     "text": [
      "Epoch #276: 1030it [00:01, 519.28it/s, env_step=284280, len=9, n/ep=2, n/st=10, player_0/loss=0.081, player_1/loss=0.160, rew=0.00]\n"
     ]
    },
    {
     "name": "stdout",
     "output_type": "stream",
     "text": [
      "Epoch #276: test_reward: 0.000000 ± 0.000000, best_reward: 0.000000 ± 0.000000 in #0\n"
     ]
    },
    {
     "name": "stderr",
     "output_type": "stream",
     "text": [
      "Epoch #277: 1030it [00:01, 516.53it/s, env_step=285310, len=8, n/ep=2, n/st=10, player_0/loss=0.091, player_1/loss=0.144, rew=0.00]\n"
     ]
    },
    {
     "name": "stdout",
     "output_type": "stream",
     "text": [
      "Epoch #277: test_reward: 0.000000 ± 0.000000, best_reward: 0.000000 ± 0.000000 in #0\n"
     ]
    },
    {
     "name": "stderr",
     "output_type": "stream",
     "text": [
      "Epoch #278: 1030it [00:01, 525.69it/s, env_step=286340, len=9, n/ep=2, n/st=10, player_0/loss=0.087, player_1/loss=0.139, rew=0.00]\n"
     ]
    },
    {
     "name": "stdout",
     "output_type": "stream",
     "text": [
      "Epoch #278: test_reward: 0.000000 ± 0.000000, best_reward: 0.000000 ± 0.000000 in #0\n"
     ]
    },
    {
     "name": "stderr",
     "output_type": "stream",
     "text": [
      "Epoch #279: 1030it [00:02, 513.81it/s, env_step=287370, len=7, n/ep=2, n/st=10, player_0/loss=0.063, player_1/loss=0.128, rew=0.00]\n"
     ]
    },
    {
     "name": "stdout",
     "output_type": "stream",
     "text": [
      "Epoch #279: test_reward: 0.000000 ± 0.000000, best_reward: 0.000000 ± 0.000000 in #0\n"
     ]
    },
    {
     "name": "stderr",
     "output_type": "stream",
     "text": [
      "Epoch #280: 1030it [00:01, 525.39it/s, env_step=288400, len=10, n/ep=0, n/st=10, player_0/loss=0.086, player_1/loss=0.127, rew=0.00]\n"
     ]
    },
    {
     "name": "stdout",
     "output_type": "stream",
     "text": [
      "Epoch #280: test_reward: 0.000000 ± 0.000000, best_reward: 0.000000 ± 0.000000 in #0\n"
     ]
    },
    {
     "name": "stderr",
     "output_type": "stream",
     "text": [
      "Epoch #281: 1030it [00:01, 518.67it/s, env_step=289430, len=9, n/ep=1, n/st=10, player_0/loss=0.135, player_1/loss=0.065, rew=0.00]\n"
     ]
    },
    {
     "name": "stdout",
     "output_type": "stream",
     "text": [
      "Epoch #281: test_reward: 0.000000 ± 0.000000, best_reward: 0.000000 ± 0.000000 in #0\n"
     ]
    },
    {
     "name": "stderr",
     "output_type": "stream",
     "text": [
      "Epoch #282: 1030it [00:01, 520.68it/s, env_step=290460, len=11, n/ep=0, n/st=10, player_0/loss=0.108, player_1/loss=0.082, rew=0.00]\n"
     ]
    },
    {
     "name": "stdout",
     "output_type": "stream",
     "text": [
      "Epoch #282: test_reward: 0.000000 ± 0.000000, best_reward: 0.000000 ± 0.000000 in #0\n"
     ]
    },
    {
     "name": "stderr",
     "output_type": "stream",
     "text": [
      "Epoch #283: 1030it [00:01, 522.80it/s, env_step=291490, len=7, n/ep=2, n/st=10, player_0/loss=0.091, player_1/loss=0.135, rew=0.00]\n"
     ]
    },
    {
     "name": "stdout",
     "output_type": "stream",
     "text": [
      "Epoch #283: test_reward: 0.000000 ± 0.000000, best_reward: 0.000000 ± 0.000000 in #0\n"
     ]
    },
    {
     "name": "stderr",
     "output_type": "stream",
     "text": [
      "Epoch #284: 1030it [00:01, 518.59it/s, env_step=292520, len=9, n/ep=3, n/st=10, player_0/loss=0.076, player_1/loss=0.138, rew=0.00]\n"
     ]
    },
    {
     "name": "stdout",
     "output_type": "stream",
     "text": [
      "Epoch #284: test_reward: 0.000000 ± 0.000000, best_reward: 0.000000 ± 0.000000 in #0\n"
     ]
    },
    {
     "name": "stderr",
     "output_type": "stream",
     "text": [
      "Epoch #285: 1030it [00:01, 518.05it/s, env_step=293550, len=18, n/ep=1, n/st=10, player_0/loss=0.098, player_1/loss=0.112, rew=0.00]\n"
     ]
    },
    {
     "name": "stdout",
     "output_type": "stream",
     "text": [
      "Epoch #285: test_reward: 0.000000 ± 0.000000, best_reward: 0.000000 ± 0.000000 in #0\n"
     ]
    },
    {
     "name": "stderr",
     "output_type": "stream",
     "text": [
      "Epoch #286: 1030it [00:02, 498.21it/s, env_step=294580, len=8, n/ep=3, n/st=10, player_0/loss=0.091, player_1/loss=0.114, rew=0.00]\n"
     ]
    },
    {
     "name": "stdout",
     "output_type": "stream",
     "text": [
      "Epoch #286: test_reward: 0.000000 ± 0.000000, best_reward: 0.000000 ± 0.000000 in #0\n"
     ]
    },
    {
     "name": "stderr",
     "output_type": "stream",
     "text": [
      "Epoch #287: 1030it [00:01, 534.30it/s, env_step=295610, len=7, n/ep=1, n/st=10, player_0/loss=0.105, player_1/loss=0.115, rew=0.00]\n"
     ]
    },
    {
     "name": "stdout",
     "output_type": "stream",
     "text": [
      "Epoch #287: test_reward: 0.000000 ± 0.000000, best_reward: 0.000000 ± 0.000000 in #0\n"
     ]
    },
    {
     "name": "stderr",
     "output_type": "stream",
     "text": [
      "Epoch #288: 1030it [00:01, 531.91it/s, env_step=296640, len=9, n/ep=3, n/st=10, player_0/loss=0.092, player_1/loss=0.115, rew=0.00]\n"
     ]
    },
    {
     "name": "stdout",
     "output_type": "stream",
     "text": [
      "Epoch #288: test_reward: 0.000000 ± 0.000000, best_reward: 0.000000 ± 0.000000 in #0\n"
     ]
    },
    {
     "name": "stderr",
     "output_type": "stream",
     "text": [
      "Epoch #289: 1030it [00:01, 535.89it/s, env_step=297670, len=7, n/ep=1, n/st=10, player_0/loss=0.081, player_1/loss=0.141, rew=0.00]\n"
     ]
    },
    {
     "name": "stdout",
     "output_type": "stream",
     "text": [
      "Epoch #289: test_reward: 0.000000 ± 0.000000, best_reward: 0.000000 ± 0.000000 in #0\n"
     ]
    },
    {
     "name": "stderr",
     "output_type": "stream",
     "text": [
      "Epoch #290: 1030it [00:01, 531.75it/s, env_step=298700, len=12, n/ep=2, n/st=10, player_0/loss=0.094, player_1/loss=0.143, rew=0.00]\n"
     ]
    },
    {
     "name": "stdout",
     "output_type": "stream",
     "text": [
      "Epoch #290: test_reward: 0.000000 ± 0.000000, best_reward: 0.000000 ± 0.000000 in #0\n"
     ]
    },
    {
     "name": "stderr",
     "output_type": "stream",
     "text": [
      "Epoch #291: 1030it [00:01, 528.09it/s, env_step=299730, len=10, n/ep=2, n/st=10, player_0/loss=0.078, player_1/loss=0.147, rew=0.00]\n"
     ]
    },
    {
     "name": "stdout",
     "output_type": "stream",
     "text": [
      "Epoch #291: test_reward: 0.000000 ± 0.000000, best_reward: 0.000000 ± 0.000000 in #0\n"
     ]
    },
    {
     "name": "stderr",
     "output_type": "stream",
     "text": [
      "Epoch #292: 1030it [00:01, 515.93it/s, env_step=300760, len=7, n/ep=0, n/st=10, player_0/loss=0.076, player_1/loss=0.167, rew=0.00]\n"
     ]
    },
    {
     "name": "stdout",
     "output_type": "stream",
     "text": [
      "Epoch #292: test_reward: 0.000000 ± 0.000000, best_reward: 0.000000 ± 0.000000 in #0\n"
     ]
    },
    {
     "name": "stderr",
     "output_type": "stream",
     "text": [
      "Epoch #293: 1030it [00:01, 525.04it/s, env_step=301790, len=8, n/ep=2, n/st=10, player_0/loss=0.080, player_1/loss=0.146, rew=0.00]\n"
     ]
    },
    {
     "name": "stdout",
     "output_type": "stream",
     "text": [
      "Epoch #293: test_reward: 0.000000 ± 0.000000, best_reward: 0.000000 ± 0.000000 in #0\n"
     ]
    },
    {
     "name": "stderr",
     "output_type": "stream",
     "text": [
      "Epoch #294: 1030it [00:02, 507.86it/s, env_step=302820, len=7, n/ep=1, n/st=10, player_0/loss=0.088, player_1/loss=0.150, rew=0.00] \n"
     ]
    },
    {
     "name": "stdout",
     "output_type": "stream",
     "text": [
      "Epoch #294: test_reward: 0.000000 ± 0.000000, best_reward: 0.000000 ± 0.000000 in #0\n"
     ]
    },
    {
     "name": "stderr",
     "output_type": "stream",
     "text": [
      "Epoch #295: 1030it [00:01, 519.53it/s, env_step=303850, len=10, n/ep=3, n/st=10, player_0/loss=0.082, player_1/loss=0.161, rew=0.00]\n"
     ]
    },
    {
     "name": "stdout",
     "output_type": "stream",
     "text": [
      "Epoch #295: test_reward: 0.000000 ± 0.000000, best_reward: 0.000000 ± 0.000000 in #0\n"
     ]
    },
    {
     "name": "stderr",
     "output_type": "stream",
     "text": [
      "Epoch #296: 1030it [00:01, 519.88it/s, env_step=304880, len=7, n/ep=1, n/st=10, player_0/loss=0.086, player_1/loss=0.152, rew=0.00]\n"
     ]
    },
    {
     "name": "stdout",
     "output_type": "stream",
     "text": [
      "Epoch #296: test_reward: 0.000000 ± 0.000000, best_reward: 0.000000 ± 0.000000 in #0\n"
     ]
    },
    {
     "name": "stderr",
     "output_type": "stream",
     "text": [
      "Epoch #297: 1030it [00:01, 530.17it/s, env_step=305910, len=8, n/ep=3, n/st=10, player_0/loss=0.095, player_1/loss=0.147, rew=0.00]\n"
     ]
    },
    {
     "name": "stdout",
     "output_type": "stream",
     "text": [
      "Epoch #297: test_reward: 0.000000 ± 0.000000, best_reward: 0.000000 ± 0.000000 in #0\n"
     ]
    },
    {
     "name": "stderr",
     "output_type": "stream",
     "text": [
      "Epoch #298: 1030it [00:01, 516.30it/s, env_step=306940, len=8, n/ep=2, n/st=10, player_0/loss=0.081, player_1/loss=0.144, rew=0.00]\n"
     ]
    },
    {
     "name": "stdout",
     "output_type": "stream",
     "text": [
      "Epoch #298: test_reward: 0.000000 ± 0.000000, best_reward: 0.000000 ± 0.000000 in #0\n"
     ]
    },
    {
     "name": "stderr",
     "output_type": "stream",
     "text": [
      "Epoch #299: 1030it [00:01, 519.72it/s, env_step=307970, len=8, n/ep=3, n/st=10, player_0/loss=0.084, player_1/loss=0.154, rew=0.00]\n"
     ]
    },
    {
     "name": "stdout",
     "output_type": "stream",
     "text": [
      "Epoch #299: test_reward: 0.000000 ± 0.000000, best_reward: 0.000000 ± 0.000000 in #0\n"
     ]
    },
    {
     "name": "stderr",
     "output_type": "stream",
     "text": [
      "Epoch #300: 1030it [00:01, 524.16it/s, env_step=309000, len=8, n/ep=0, n/st=10, player_0/loss=0.080, player_1/loss=0.152, rew=0.00]\n"
     ]
    },
    {
     "name": "stdout",
     "output_type": "stream",
     "text": [
      "Epoch #300: test_reward: 0.000000 ± 0.000000, best_reward: 0.000000 ± 0.000000 in #0\n"
     ]
    },
    {
     "name": "stderr",
     "output_type": "stream",
     "text": [
      "Epoch #301: 1030it [00:01, 516.38it/s, env_step=310030, len=7, n/ep=1, n/st=10, player_0/loss=0.077, player_1/loss=0.159, rew=0.00]\n"
     ]
    },
    {
     "name": "stdout",
     "output_type": "stream",
     "text": [
      "Epoch #301: test_reward: 0.000000 ± 0.000000, best_reward: 0.000000 ± 0.000000 in #0\n"
     ]
    },
    {
     "name": "stderr",
     "output_type": "stream",
     "text": [
      "Epoch #302: 1030it [00:02, 514.53it/s, env_step=311060, len=12, n/ep=2, n/st=10, player_0/loss=0.072, player_1/loss=0.184, rew=0.00]\n"
     ]
    },
    {
     "name": "stdout",
     "output_type": "stream",
     "text": [
      "Epoch #302: test_reward: 0.000000 ± 0.000000, best_reward: 0.000000 ± 0.000000 in #0\n"
     ]
    },
    {
     "name": "stderr",
     "output_type": "stream",
     "text": [
      "Epoch #303: 1030it [00:01, 515.58it/s, env_step=312090, len=9, n/ep=1, n/st=10, player_0/loss=0.076, player_1/loss=0.129, rew=0.00]\n"
     ]
    },
    {
     "name": "stdout",
     "output_type": "stream",
     "text": [
      "Epoch #303: test_reward: 0.000000 ± 0.000000, best_reward: 0.000000 ± 0.000000 in #0\n"
     ]
    },
    {
     "name": "stderr",
     "output_type": "stream",
     "text": [
      "Epoch #304: 1030it [00:01, 524.96it/s, env_step=313120, len=9, n/ep=0, n/st=10, player_0/loss=0.093, player_1/loss=0.124, rew=0.00]\n"
     ]
    },
    {
     "name": "stdout",
     "output_type": "stream",
     "text": [
      "Epoch #304: test_reward: 0.000000 ± 0.000000, best_reward: 0.000000 ± 0.000000 in #0\n"
     ]
    },
    {
     "name": "stderr",
     "output_type": "stream",
     "text": [
      "Epoch #305: 1030it [00:01, 524.02it/s, env_step=314150, len=7, n/ep=2, n/st=10, player_0/loss=0.100, player_1/loss=0.146, rew=0.00]\n"
     ]
    },
    {
     "name": "stdout",
     "output_type": "stream",
     "text": [
      "Epoch #305: test_reward: 0.000000 ± 0.000000, best_reward: 0.000000 ± 0.000000 in #0\n"
     ]
    },
    {
     "name": "stderr",
     "output_type": "stream",
     "text": [
      "Epoch #306: 1030it [00:01, 526.87it/s, env_step=315180, len=10, n/ep=3, n/st=10, player_0/loss=0.081, player_1/loss=0.161, rew=0.00]\n"
     ]
    },
    {
     "name": "stdout",
     "output_type": "stream",
     "text": [
      "Epoch #306: test_reward: 0.000000 ± 0.000000, best_reward: 0.000000 ± 0.000000 in #0\n"
     ]
    },
    {
     "name": "stderr",
     "output_type": "stream",
     "text": [
      "Epoch #307: 1030it [00:01, 523.27it/s, env_step=316210, len=7, n/ep=0, n/st=10, player_0/loss=0.091, player_1/loss=0.134, rew=0.00]\n"
     ]
    },
    {
     "name": "stdout",
     "output_type": "stream",
     "text": [
      "Epoch #307: test_reward: 0.000000 ± 0.000000, best_reward: 0.000000 ± 0.000000 in #0\n"
     ]
    },
    {
     "name": "stderr",
     "output_type": "stream",
     "text": [
      "Epoch #308: 1030it [00:01, 526.37it/s, env_step=317240, len=8, n/ep=1, n/st=10, player_0/loss=0.101, player_1/loss=0.133, rew=0.00]\n"
     ]
    },
    {
     "name": "stdout",
     "output_type": "stream",
     "text": [
      "Epoch #308: test_reward: 0.000000 ± 0.000000, best_reward: 0.000000 ± 0.000000 in #0\n"
     ]
    },
    {
     "name": "stderr",
     "output_type": "stream",
     "text": [
      "Epoch #309: 1030it [00:01, 523.22it/s, env_step=318270, len=12, n/ep=0, n/st=10, player_0/loss=0.096, player_1/loss=0.104, rew=0.00]\n"
     ]
    },
    {
     "name": "stdout",
     "output_type": "stream",
     "text": [
      "Epoch #309: test_reward: 0.000000 ± 0.000000, best_reward: 0.000000 ± 0.000000 in #0\n"
     ]
    },
    {
     "name": "stderr",
     "output_type": "stream",
     "text": [
      "Epoch #310: 1030it [00:01, 521.32it/s, env_step=319300, len=7, n/ep=0, n/st=10, player_0/loss=0.075, player_1/loss=0.157, rew=0.00]\n"
     ]
    },
    {
     "name": "stdout",
     "output_type": "stream",
     "text": [
      "Epoch #310: test_reward: 0.000000 ± 0.000000, best_reward: 0.000000 ± 0.000000 in #0\n"
     ]
    },
    {
     "name": "stderr",
     "output_type": "stream",
     "text": [
      "Epoch #311: 1030it [00:01, 517.41it/s, env_step=320330, len=7, n/ep=0, n/st=10, player_0/loss=0.089, player_1/loss=0.151, rew=0.00]\n"
     ]
    },
    {
     "name": "stdout",
     "output_type": "stream",
     "text": [
      "Epoch #311: test_reward: 0.000000 ± 0.000000, best_reward: 0.000000 ± 0.000000 in #0\n"
     ]
    },
    {
     "name": "stderr",
     "output_type": "stream",
     "text": [
      "Epoch #312: 1030it [00:02, 514.14it/s, env_step=321360, len=9, n/ep=0, n/st=10, player_0/loss=0.109, player_1/loss=0.121, rew=0.00]\n"
     ]
    },
    {
     "name": "stdout",
     "output_type": "stream",
     "text": [
      "Epoch #312: test_reward: 0.000000 ± 0.000000, best_reward: 0.000000 ± 0.000000 in #0\n"
     ]
    },
    {
     "name": "stderr",
     "output_type": "stream",
     "text": [
      "Epoch #313: 1030it [00:01, 524.23it/s, env_step=322390, len=9, n/ep=1, n/st=10, player_0/loss=0.110, player_1/loss=0.085, rew=0.00]\n"
     ]
    },
    {
     "name": "stdout",
     "output_type": "stream",
     "text": [
      "Epoch #313: test_reward: 0.000000 ± 0.000000, best_reward: 0.000000 ± 0.000000 in #0\n"
     ]
    },
    {
     "name": "stderr",
     "output_type": "stream",
     "text": [
      "Epoch #314: 1030it [00:02, 513.40it/s, env_step=323420, len=7, n/ep=1, n/st=10, player_0/loss=0.117, player_1/loss=0.101, rew=0.00]\n"
     ]
    },
    {
     "name": "stdout",
     "output_type": "stream",
     "text": [
      "Epoch #314: test_reward: 0.000000 ± 0.000000, best_reward: 0.000000 ± 0.000000 in #0\n"
     ]
    },
    {
     "name": "stderr",
     "output_type": "stream",
     "text": [
      "Epoch #315: 1030it [00:01, 532.99it/s, env_step=324450, len=8, n/ep=0, n/st=10, player_0/loss=0.059, player_1/loss=0.188, rew=0.00]\n"
     ]
    },
    {
     "name": "stdout",
     "output_type": "stream",
     "text": [
      "Epoch #315: test_reward: 0.000000 ± 0.000000, best_reward: 0.000000 ± 0.000000 in #0\n"
     ]
    },
    {
     "name": "stderr",
     "output_type": "stream",
     "text": [
      "Epoch #316: 1030it [00:01, 534.42it/s, env_step=325480, len=8, n/ep=0, n/st=10, player_0/loss=0.084, player_1/loss=0.151, rew=0.00]\n"
     ]
    },
    {
     "name": "stdout",
     "output_type": "stream",
     "text": [
      "Epoch #316: test_reward: 0.000000 ± 0.000000, best_reward: 0.000000 ± 0.000000 in #0\n"
     ]
    },
    {
     "name": "stderr",
     "output_type": "stream",
     "text": [
      "Epoch #317: 1030it [00:01, 531.90it/s, env_step=326510, len=11, n/ep=1, n/st=10, player_0/loss=0.071, player_1/loss=0.181, rew=0.00]\n"
     ]
    },
    {
     "name": "stdout",
     "output_type": "stream",
     "text": [
      "Epoch #317: test_reward: 0.000000 ± 0.000000, best_reward: 0.000000 ± 0.000000 in #0\n"
     ]
    },
    {
     "name": "stderr",
     "output_type": "stream",
     "text": [
      "Epoch #318: 1030it [00:01, 520.46it/s, env_step=327540, len=10, n/ep=0, n/st=10, player_0/loss=0.077, player_1/loss=0.131, rew=0.00]\n"
     ]
    },
    {
     "name": "stdout",
     "output_type": "stream",
     "text": [
      "Epoch #318: test_reward: 0.000000 ± 0.000000, best_reward: 0.000000 ± 0.000000 in #0\n"
     ]
    },
    {
     "name": "stderr",
     "output_type": "stream",
     "text": [
      "Epoch #319: 1030it [00:01, 519.38it/s, env_step=328570, len=10, n/ep=0, n/st=10, player_0/loss=0.086, player_1/loss=0.120, rew=0.00]\n"
     ]
    },
    {
     "name": "stdout",
     "output_type": "stream",
     "text": [
      "Epoch #319: test_reward: 0.000000 ± 0.000000, best_reward: 0.000000 ± 0.000000 in #0\n"
     ]
    },
    {
     "name": "stderr",
     "output_type": "stream",
     "text": [
      "Epoch #320: 1030it [00:01, 524.71it/s, env_step=329600, len=11, n/ep=1, n/st=10, player_0/loss=0.110, player_1/loss=0.078, rew=0.00]\n"
     ]
    },
    {
     "name": "stdout",
     "output_type": "stream",
     "text": [
      "Epoch #320: test_reward: 0.000000 ± 0.000000, best_reward: 0.000000 ± 0.000000 in #0\n"
     ]
    },
    {
     "name": "stderr",
     "output_type": "stream",
     "text": [
      "Epoch #321: 1030it [00:02, 513.93it/s, env_step=330630, len=10, n/ep=1, n/st=10, player_0/loss=0.127, player_1/loss=0.091, rew=0.00]\n"
     ]
    },
    {
     "name": "stdout",
     "output_type": "stream",
     "text": [
      "Epoch #321: test_reward: 0.000000 ± 0.000000, best_reward: 0.000000 ± 0.000000 in #0\n"
     ]
    },
    {
     "name": "stderr",
     "output_type": "stream",
     "text": [
      "Epoch #322: 1030it [00:01, 531.46it/s, env_step=331660, len=8, n/ep=0, n/st=10, player_0/loss=0.113, player_1/loss=0.084, rew=0.00]\n"
     ]
    },
    {
     "name": "stdout",
     "output_type": "stream",
     "text": [
      "Epoch #322: test_reward: 0.000000 ± 0.000000, best_reward: 0.000000 ± 0.000000 in #0\n"
     ]
    },
    {
     "name": "stderr",
     "output_type": "stream",
     "text": [
      "Epoch #323: 1030it [00:02, 507.25it/s, env_step=332690, len=20, n/ep=0, n/st=10, player_0/loss=0.096, player_1/loss=0.099, rew=0.00]\n"
     ]
    },
    {
     "name": "stdout",
     "output_type": "stream",
     "text": [
      "Epoch #323: test_reward: 0.000000 ± 0.000000, best_reward: 0.000000 ± 0.000000 in #0\n"
     ]
    },
    {
     "name": "stderr",
     "output_type": "stream",
     "text": [
      "Epoch #324: 1030it [00:02, 510.83it/s, env_step=333720, len=8, n/ep=1, n/st=10, player_0/loss=0.076, player_1/loss=0.137, rew=0.00]\n"
     ]
    },
    {
     "name": "stdout",
     "output_type": "stream",
     "text": [
      "Epoch #324: test_reward: 0.000000 ± 0.000000, best_reward: 0.000000 ± 0.000000 in #0\n"
     ]
    },
    {
     "name": "stderr",
     "output_type": "stream",
     "text": [
      "Epoch #325: 1030it [00:02, 504.33it/s, env_step=334750, len=7, n/ep=1, n/st=10, player_0/loss=0.067, player_1/loss=0.150, rew=0.00]\n"
     ]
    },
    {
     "name": "stdout",
     "output_type": "stream",
     "text": [
      "Epoch #325: test_reward: 0.000000 ± 0.000000, best_reward: 0.000000 ± 0.000000 in #0\n"
     ]
    },
    {
     "name": "stderr",
     "output_type": "stream",
     "text": [
      "Epoch #326: 1030it [00:02, 512.28it/s, env_step=335780, len=11, n/ep=0, n/st=10, player_0/loss=0.073, player_1/loss=0.138, rew=0.00]\n"
     ]
    },
    {
     "name": "stdout",
     "output_type": "stream",
     "text": [
      "Epoch #326: test_reward: 0.000000 ± 0.000000, best_reward: 0.000000 ± 0.000000 in #0\n"
     ]
    },
    {
     "name": "stderr",
     "output_type": "stream",
     "text": [
      "Epoch #327: 1030it [00:01, 526.74it/s, env_step=336810, len=9, n/ep=1, n/st=10, player_0/loss=0.075, player_1/loss=0.124, rew=0.00]\n"
     ]
    },
    {
     "name": "stdout",
     "output_type": "stream",
     "text": [
      "Epoch #327: test_reward: 0.000000 ± 0.000000, best_reward: 0.000000 ± 0.000000 in #0\n"
     ]
    },
    {
     "name": "stderr",
     "output_type": "stream",
     "text": [
      "Epoch #328: 1030it [00:01, 517.81it/s, env_step=337840, len=8, n/ep=0, n/st=10, player_0/loss=0.080, player_1/loss=0.112, rew=0.00]\n"
     ]
    },
    {
     "name": "stdout",
     "output_type": "stream",
     "text": [
      "Epoch #328: test_reward: 0.000000 ± 0.000000, best_reward: 0.000000 ± 0.000000 in #0\n"
     ]
    },
    {
     "name": "stderr",
     "output_type": "stream",
     "text": [
      "Epoch #329: 1030it [00:01, 521.82it/s, env_step=338870, len=17, n/ep=1, n/st=10, player_0/loss=0.136, player_1/loss=0.079, rew=0.00]\n"
     ]
    },
    {
     "name": "stdout",
     "output_type": "stream",
     "text": [
      "Epoch #329: test_reward: 0.000000 ± 0.000000, best_reward: 0.000000 ± 0.000000 in #0\n"
     ]
    },
    {
     "name": "stderr",
     "output_type": "stream",
     "text": [
      "Epoch #330: 1030it [00:01, 523.77it/s, env_step=339900, len=9, n/ep=1, n/st=10, player_0/loss=0.079, player_1/loss=0.149, rew=0.00]\n"
     ]
    },
    {
     "name": "stdout",
     "output_type": "stream",
     "text": [
      "Epoch #330: test_reward: 0.000000 ± 0.000000, best_reward: 0.000000 ± 0.000000 in #0\n"
     ]
    },
    {
     "name": "stderr",
     "output_type": "stream",
     "text": [
      "Epoch #331: 1030it [00:01, 517.98it/s, env_step=340930, len=11, n/ep=2, n/st=10, player_0/loss=0.075, player_1/loss=0.139, rew=0.00]\n"
     ]
    },
    {
     "name": "stdout",
     "output_type": "stream",
     "text": [
      "Epoch #331: test_reward: 0.000000 ± 0.000000, best_reward: 0.000000 ± 0.000000 in #0\n"
     ]
    },
    {
     "name": "stderr",
     "output_type": "stream",
     "text": [
      "Epoch #332: 1030it [00:01, 521.62it/s, env_step=341960, len=13, n/ep=0, n/st=10, player_0/loss=0.092, player_1/loss=0.133, rew=0.00]\n"
     ]
    },
    {
     "name": "stdout",
     "output_type": "stream",
     "text": [
      "Epoch #332: test_reward: 0.000000 ± 0.000000, best_reward: 0.000000 ± 0.000000 in #0\n"
     ]
    },
    {
     "name": "stderr",
     "output_type": "stream",
     "text": [
      "Epoch #333: 1030it [00:02, 494.95it/s, env_step=342990, len=7, n/ep=0, n/st=10, player_0/loss=0.066, player_1/loss=0.172, rew=0.00]\n"
     ]
    },
    {
     "name": "stdout",
     "output_type": "stream",
     "text": [
      "Epoch #333: test_reward: 0.000000 ± 0.000000, best_reward: 0.000000 ± 0.000000 in #0\n"
     ]
    },
    {
     "name": "stderr",
     "output_type": "stream",
     "text": [
      "Epoch #334: 1030it [00:01, 518.20it/s, env_step=344020, len=7, n/ep=0, n/st=10, player_0/loss=0.075, player_1/loss=0.175, rew=0.00]\n"
     ]
    },
    {
     "name": "stdout",
     "output_type": "stream",
     "text": [
      "Epoch #334: test_reward: 0.000000 ± 0.000000, best_reward: 0.000000 ± 0.000000 in #0\n"
     ]
    },
    {
     "name": "stderr",
     "output_type": "stream",
     "text": [
      "Epoch #335: 1030it [00:01, 515.30it/s, env_step=345050, len=9, n/ep=0, n/st=10, player_0/loss=0.071, player_1/loss=0.188, rew=0.00]\n"
     ]
    },
    {
     "name": "stdout",
     "output_type": "stream",
     "text": [
      "Epoch #335: test_reward: 0.000000 ± 0.000000, best_reward: 0.000000 ± 0.000000 in #0\n"
     ]
    },
    {
     "name": "stderr",
     "output_type": "stream",
     "text": [
      "Epoch #336: 1030it [00:02, 431.63it/s, env_step=346080, len=9, n/ep=4, n/st=10, player_0/loss=0.074, player_1/loss=0.158, rew=0.00]\n"
     ]
    },
    {
     "name": "stdout",
     "output_type": "stream",
     "text": [
      "Epoch #336: test_reward: 0.000000 ± 0.000000, best_reward: 0.000000 ± 0.000000 in #0\n"
     ]
    },
    {
     "name": "stderr",
     "output_type": "stream",
     "text": [
      "Epoch #337: 1030it [00:02, 498.77it/s, env_step=347110, len=15, n/ep=1, n/st=10, player_0/loss=0.087, player_1/loss=0.104, rew=0.00]\n"
     ]
    },
    {
     "name": "stdout",
     "output_type": "stream",
     "text": [
      "Epoch #337: test_reward: 0.000000 ± 0.000000, best_reward: 0.000000 ± 0.000000 in #0\n"
     ]
    },
    {
     "name": "stderr",
     "output_type": "stream",
     "text": [
      "Epoch #338: 1030it [00:02, 511.81it/s, env_step=348140, len=7, n/ep=1, n/st=10, player_0/loss=0.092, player_1/loss=0.130, rew=0.00]\n"
     ]
    },
    {
     "name": "stdout",
     "output_type": "stream",
     "text": [
      "Epoch #338: test_reward: 0.000000 ± 0.000000, best_reward: 0.000000 ± 0.000000 in #0\n"
     ]
    },
    {
     "name": "stderr",
     "output_type": "stream",
     "text": [
      "Epoch #339: 1030it [00:02, 502.89it/s, env_step=349170, len=8, n/ep=0, n/st=10, player_0/loss=0.081, player_1/loss=0.152, rew=0.00]\n"
     ]
    },
    {
     "name": "stdout",
     "output_type": "stream",
     "text": [
      "Epoch #339: test_reward: 0.000000 ± 0.000000, best_reward: 0.000000 ± 0.000000 in #0\n"
     ]
    },
    {
     "name": "stderr",
     "output_type": "stream",
     "text": [
      "Epoch #340: 1030it [00:02, 474.94it/s, env_step=350200, len=10, n/ep=1, n/st=10, player_0/loss=0.073, player_1/loss=0.176, rew=0.00]\n"
     ]
    },
    {
     "name": "stdout",
     "output_type": "stream",
     "text": [
      "Epoch #340: test_reward: 0.000000 ± 0.000000, best_reward: 0.000000 ± 0.000000 in #0\n"
     ]
    },
    {
     "name": "stderr",
     "output_type": "stream",
     "text": [
      "Epoch #341: 1030it [00:02, 495.88it/s, env_step=351230, len=7, n/ep=1, n/st=10, player_0/loss=0.069, player_1/loss=0.179, rew=0.00]\n"
     ]
    },
    {
     "name": "stdout",
     "output_type": "stream",
     "text": [
      "Epoch #341: test_reward: 0.000000 ± 0.000000, best_reward: 0.000000 ± 0.000000 in #0\n"
     ]
    },
    {
     "name": "stderr",
     "output_type": "stream",
     "text": [
      "Epoch #342: 1030it [00:02, 473.44it/s, env_step=352260, len=10, n/ep=3, n/st=10, player_0/loss=0.083, player_1/loss=0.121, rew=0.00]\n"
     ]
    },
    {
     "name": "stdout",
     "output_type": "stream",
     "text": [
      "Epoch #342: test_reward: 0.000000 ± 0.000000, best_reward: 0.000000 ± 0.000000 in #0\n"
     ]
    },
    {
     "name": "stderr",
     "output_type": "stream",
     "text": [
      "Epoch #343: 1030it [00:02, 490.41it/s, env_step=353290, len=11, n/ep=2, n/st=10, player_0/loss=0.114, player_1/loss=0.138, rew=0.00]\n"
     ]
    },
    {
     "name": "stdout",
     "output_type": "stream",
     "text": [
      "Epoch #343: test_reward: 0.000000 ± 0.000000, best_reward: 0.000000 ± 0.000000 in #0\n"
     ]
    },
    {
     "name": "stderr",
     "output_type": "stream",
     "text": [
      "Epoch #344: 1030it [00:02, 490.14it/s, env_step=354320, len=7, n/ep=1, n/st=10, player_0/loss=0.097, player_1/loss=0.131, rew=0.00]\n"
     ]
    },
    {
     "name": "stdout",
     "output_type": "stream",
     "text": [
      "Epoch #344: test_reward: 0.000000 ± 0.000000, best_reward: 0.000000 ± 0.000000 in #0\n"
     ]
    },
    {
     "name": "stderr",
     "output_type": "stream",
     "text": [
      "Epoch #345: 1030it [00:02, 486.66it/s, env_step=355350, len=7, n/ep=0, n/st=10, player_0/loss=0.093, player_1/loss=0.113, rew=0.00]\n"
     ]
    },
    {
     "name": "stdout",
     "output_type": "stream",
     "text": [
      "Epoch #345: test_reward: 0.000000 ± 0.000000, best_reward: 0.000000 ± 0.000000 in #0\n"
     ]
    },
    {
     "name": "stderr",
     "output_type": "stream",
     "text": [
      "Epoch #346: 1030it [00:02, 509.42it/s, env_step=356380, len=8, n/ep=2, n/st=10, player_0/loss=0.073, player_1/loss=0.136, rew=0.00]\n"
     ]
    },
    {
     "name": "stdout",
     "output_type": "stream",
     "text": [
      "Epoch #346: test_reward: 0.000000 ± 0.000000, best_reward: 0.000000 ± 0.000000 in #0\n"
     ]
    },
    {
     "name": "stderr",
     "output_type": "stream",
     "text": [
      "Epoch #347: 1030it [00:01, 533.83it/s, env_step=357410, len=8, n/ep=0, n/st=10, player_0/loss=0.083, player_1/loss=0.144, rew=0.00]\n"
     ]
    },
    {
     "name": "stdout",
     "output_type": "stream",
     "text": [
      "Epoch #347: test_reward: 0.000000 ± 0.000000, best_reward: 0.000000 ± 0.000000 in #0\n"
     ]
    },
    {
     "name": "stderr",
     "output_type": "stream",
     "text": [
      "Epoch #348: 1030it [00:01, 536.88it/s, env_step=358440, len=14, n/ep=0, n/st=10, player_0/loss=0.114, player_1/loss=0.094, rew=0.00]\n"
     ]
    },
    {
     "name": "stdout",
     "output_type": "stream",
     "text": [
      "Epoch #348: test_reward: 0.000000 ± 0.000000, best_reward: 0.000000 ± 0.000000 in #0\n"
     ]
    },
    {
     "name": "stderr",
     "output_type": "stream",
     "text": [
      "Epoch #349: 1030it [00:01, 529.98it/s, env_step=359470, len=8, n/ep=0, n/st=10, player_0/loss=0.067, player_1/loss=0.137, rew=0.00]\n"
     ]
    },
    {
     "name": "stdout",
     "output_type": "stream",
     "text": [
      "Epoch #349: test_reward: 0.000000 ± 0.000000, best_reward: 0.000000 ± 0.000000 in #0\n"
     ]
    },
    {
     "name": "stderr",
     "output_type": "stream",
     "text": [
      "Epoch #350: 1030it [00:01, 531.24it/s, env_step=360500, len=14, n/ep=0, n/st=10, player_0/loss=0.093, player_1/loss=0.113, rew=0.00]\n"
     ]
    },
    {
     "name": "stdout",
     "output_type": "stream",
     "text": [
      "Epoch #350: test_reward: 0.000000 ± 0.000000, best_reward: 0.000000 ± 0.000000 in #0\n"
     ]
    },
    {
     "name": "stderr",
     "output_type": "stream",
     "text": [
      "Epoch #351: 1030it [00:01, 519.91it/s, env_step=361530, len=7, n/ep=0, n/st=10, player_0/loss=0.081, player_1/loss=0.163, rew=0.00]\n"
     ]
    },
    {
     "name": "stdout",
     "output_type": "stream",
     "text": [
      "Epoch #351: test_reward: 0.000000 ± 0.000000, best_reward: 0.000000 ± 0.000000 in #0\n"
     ]
    },
    {
     "name": "stderr",
     "output_type": "stream",
     "text": [
      "Epoch #352: 1030it [00:02, 512.86it/s, env_step=362560, len=7, n/ep=0, n/st=10, player_0/loss=0.073, player_1/loss=0.153, rew=0.00]\n"
     ]
    },
    {
     "name": "stdout",
     "output_type": "stream",
     "text": [
      "Epoch #352: test_reward: 0.000000 ± 0.000000, best_reward: 0.000000 ± 0.000000 in #0\n"
     ]
    },
    {
     "name": "stderr",
     "output_type": "stream",
     "text": [
      "Epoch #353: 1030it [00:02, 509.62it/s, env_step=363590, len=10, n/ep=1, n/st=10, player_0/loss=0.085, player_1/loss=0.135, rew=0.00]\n"
     ]
    },
    {
     "name": "stdout",
     "output_type": "stream",
     "text": [
      "Epoch #353: test_reward: 0.000000 ± 0.000000, best_reward: 0.000000 ± 0.000000 in #0\n"
     ]
    },
    {
     "name": "stderr",
     "output_type": "stream",
     "text": [
      "Epoch #354: 1030it [00:01, 522.06it/s, env_step=364620, len=17, n/ep=3, n/st=10, player_0/loss=0.139, player_1/loss=0.068, rew=0.00]\n"
     ]
    },
    {
     "name": "stdout",
     "output_type": "stream",
     "text": [
      "Epoch #354: test_reward: 0.000000 ± 0.000000, best_reward: 0.000000 ± 0.000000 in #0\n"
     ]
    },
    {
     "name": "stderr",
     "output_type": "stream",
     "text": [
      "Epoch #355: 1030it [00:01, 522.75it/s, env_step=365650, len=8, n/ep=0, n/st=10, player_0/loss=0.065, player_1/loss=0.137, rew=0.00]\n"
     ]
    },
    {
     "name": "stdout",
     "output_type": "stream",
     "text": [
      "Epoch #355: test_reward: 0.000000 ± 0.000000, best_reward: 0.000000 ± 0.000000 in #0\n"
     ]
    },
    {
     "name": "stderr",
     "output_type": "stream",
     "text": [
      "Epoch #356: 1030it [00:01, 517.48it/s, env_step=366680, len=8, n/ep=1, n/st=10, player_0/loss=0.091, player_1/loss=0.123, rew=0.00]\n"
     ]
    },
    {
     "name": "stdout",
     "output_type": "stream",
     "text": [
      "Epoch #356: test_reward: 0.000000 ± 0.000000, best_reward: 0.000000 ± 0.000000 in #0\n"
     ]
    },
    {
     "name": "stderr",
     "output_type": "stream",
     "text": [
      "Epoch #357: 1030it [00:01, 525.42it/s, env_step=367710, len=7, n/ep=4, n/st=10, player_0/loss=0.069, player_1/loss=0.156, rew=0.00]\n"
     ]
    },
    {
     "name": "stdout",
     "output_type": "stream",
     "text": [
      "Epoch #357: test_reward: 0.000000 ± 0.000000, best_reward: 0.000000 ± 0.000000 in #0\n"
     ]
    },
    {
     "name": "stderr",
     "output_type": "stream",
     "text": [
      "Epoch #358: 1030it [00:02, 462.77it/s, env_step=368740, len=9, n/ep=0, n/st=10, player_0/loss=0.063, player_1/loss=0.161, rew=0.00]\n"
     ]
    },
    {
     "name": "stdout",
     "output_type": "stream",
     "text": [
      "Epoch #358: test_reward: 0.000000 ± 0.000000, best_reward: 0.000000 ± 0.000000 in #0\n"
     ]
    },
    {
     "name": "stderr",
     "output_type": "stream",
     "text": [
      "Epoch #359: 1030it [00:01, 527.98it/s, env_step=369770, len=10, n/ep=2, n/st=10, player_0/loss=0.052, player_1/loss=0.150, rew=0.00]\n"
     ]
    },
    {
     "name": "stdout",
     "output_type": "stream",
     "text": [
      "Epoch #359: test_reward: 0.000000 ± 0.000000, best_reward: 0.000000 ± 0.000000 in #0\n"
     ]
    },
    {
     "name": "stderr",
     "output_type": "stream",
     "text": [
      "Epoch #360: 1030it [00:02, 494.13it/s, env_step=370800, len=9, n/ep=1, n/st=10, player_0/loss=0.054, player_1/loss=0.150, rew=0.00]\n"
     ]
    },
    {
     "name": "stdout",
     "output_type": "stream",
     "text": [
      "Epoch #360: test_reward: 0.000000 ± 0.000000, best_reward: 0.000000 ± 0.000000 in #0\n"
     ]
    },
    {
     "name": "stderr",
     "output_type": "stream",
     "text": [
      "Epoch #361: 1030it [00:02, 500.14it/s, env_step=371830, len=8, n/ep=3, n/st=10, player_0/loss=0.052, player_1/loss=0.149, rew=0.00]\n"
     ]
    },
    {
     "name": "stdout",
     "output_type": "stream",
     "text": [
      "Epoch #361: test_reward: 0.000000 ± 0.000000, best_reward: 0.000000 ± 0.000000 in #0\n"
     ]
    },
    {
     "name": "stderr",
     "output_type": "stream",
     "text": [
      "Epoch #362: 1030it [00:02, 501.33it/s, env_step=372860, len=11, n/ep=0, n/st=10, player_0/loss=0.079, player_1/loss=0.148, rew=0.00]\n"
     ]
    },
    {
     "name": "stdout",
     "output_type": "stream",
     "text": [
      "Epoch #362: test_reward: 0.000000 ± 0.000000, best_reward: 0.000000 ± 0.000000 in #0\n"
     ]
    },
    {
     "name": "stderr",
     "output_type": "stream",
     "text": [
      "Epoch #363: 1030it [00:02, 469.59it/s, env_step=373890, len=8, n/ep=1, n/st=10, player_0/loss=0.073, player_1/loss=0.127, rew=0.00]\n"
     ]
    },
    {
     "name": "stdout",
     "output_type": "stream",
     "text": [
      "Epoch #363: test_reward: 0.000000 ± 0.000000, best_reward: 0.000000 ± 0.000000 in #0\n"
     ]
    },
    {
     "name": "stderr",
     "output_type": "stream",
     "text": [
      "Epoch #364: 1030it [00:02, 439.24it/s, env_step=374920, len=7, n/ep=0, n/st=10, player_0/loss=0.061, player_1/loss=0.156, rew=0.00]\n"
     ]
    },
    {
     "name": "stdout",
     "output_type": "stream",
     "text": [
      "Epoch #364: test_reward: 0.000000 ± 0.000000, best_reward: 0.000000 ± 0.000000 in #0\n"
     ]
    },
    {
     "name": "stderr",
     "output_type": "stream",
     "text": [
      "Epoch #365: 1030it [00:02, 468.25it/s, env_step=375950, len=7, n/ep=0, n/st=10, player_0/loss=0.092, player_1/loss=0.114, rew=0.00]\n"
     ]
    },
    {
     "name": "stdout",
     "output_type": "stream",
     "text": [
      "Epoch #365: test_reward: 0.000000 ± 0.000000, best_reward: 0.000000 ± 0.000000 in #0\n"
     ]
    },
    {
     "name": "stderr",
     "output_type": "stream",
     "text": [
      "Epoch #366: 1030it [00:01, 522.09it/s, env_step=376980, len=16, n/ep=2, n/st=10, player_0/loss=0.078, player_1/loss=0.128, rew=0.00]\n"
     ]
    },
    {
     "name": "stdout",
     "output_type": "stream",
     "text": [
      "Epoch #366: test_reward: 0.000000 ± 0.000000, best_reward: 0.000000 ± 0.000000 in #0\n"
     ]
    },
    {
     "name": "stderr",
     "output_type": "stream",
     "text": [
      "Epoch #367: 1030it [00:02, 510.98it/s, env_step=378010, len=12, n/ep=1, n/st=10, player_0/loss=0.069, player_1/loss=0.090, rew=0.00]\n"
     ]
    },
    {
     "name": "stdout",
     "output_type": "stream",
     "text": [
      "Epoch #367: test_reward: 0.000000 ± 0.000000, best_reward: 0.000000 ± 0.000000 in #0\n"
     ]
    },
    {
     "name": "stderr",
     "output_type": "stream",
     "text": [
      "Epoch #368: 1030it [00:02, 510.00it/s, env_step=379040, len=7, n/ep=0, n/st=10, player_0/loss=0.127, player_1/loss=0.098, rew=0.00]\n"
     ]
    },
    {
     "name": "stdout",
     "output_type": "stream",
     "text": [
      "Epoch #368: test_reward: 0.000000 ± 0.000000, best_reward: 0.000000 ± 0.000000 in #0\n"
     ]
    },
    {
     "name": "stderr",
     "output_type": "stream",
     "text": [
      "Epoch #369: 1030it [00:01, 537.32it/s, env_step=380070, len=10, n/ep=1, n/st=10, player_0/loss=0.088, player_1/loss=0.160, rew=0.00]\n"
     ]
    },
    {
     "name": "stdout",
     "output_type": "stream",
     "text": [
      "Epoch #369: test_reward: 0.000000 ± 0.000000, best_reward: 0.000000 ± 0.000000 in #0\n"
     ]
    },
    {
     "name": "stderr",
     "output_type": "stream",
     "text": [
      "Epoch #370: 1030it [00:01, 533.82it/s, env_step=381100, len=9, n/ep=2, n/st=10, player_0/loss=0.081, player_1/loss=0.174, rew=0.00]\n"
     ]
    },
    {
     "name": "stdout",
     "output_type": "stream",
     "text": [
      "Epoch #370: test_reward: 0.000000 ± 0.000000, best_reward: 0.000000 ± 0.000000 in #0\n"
     ]
    },
    {
     "name": "stderr",
     "output_type": "stream",
     "text": [
      "Epoch #371: 1030it [00:01, 538.74it/s, env_step=382130, len=8, n/ep=2, n/st=10, player_0/loss=0.123, player_1/loss=0.096, rew=0.00]\n"
     ]
    },
    {
     "name": "stdout",
     "output_type": "stream",
     "text": [
      "Epoch #371: test_reward: 0.000000 ± 0.000000, best_reward: 0.000000 ± 0.000000 in #0\n"
     ]
    },
    {
     "name": "stderr",
     "output_type": "stream",
     "text": [
      "Epoch #372: 1030it [00:01, 520.80it/s, env_step=383160, len=13, n/ep=1, n/st=10, player_0/loss=0.115, player_1/loss=0.082, rew=0.00]\n"
     ]
    },
    {
     "name": "stdout",
     "output_type": "stream",
     "text": [
      "Epoch #372: test_reward: 0.000000 ± 0.000000, best_reward: 0.000000 ± 0.000000 in #0\n"
     ]
    },
    {
     "name": "stderr",
     "output_type": "stream",
     "text": [
      "Epoch #373: 1030it [00:01, 520.60it/s, env_step=384190, len=8, n/ep=0, n/st=10, player_0/loss=0.128, player_1/loss=0.082, rew=0.00]\n"
     ]
    },
    {
     "name": "stdout",
     "output_type": "stream",
     "text": [
      "Epoch #373: test_reward: 0.000000 ± 0.000000, best_reward: 0.000000 ± 0.000000 in #0\n"
     ]
    },
    {
     "name": "stderr",
     "output_type": "stream",
     "text": [
      "Epoch #374: 1030it [00:01, 532.45it/s, env_step=385220, len=10, n/ep=1, n/st=10, player_0/loss=0.115, player_1/loss=0.089, rew=0.00]\n"
     ]
    },
    {
     "name": "stdout",
     "output_type": "stream",
     "text": [
      "Epoch #374: test_reward: 0.000000 ± 0.000000, best_reward: 0.000000 ± 0.000000 in #0\n"
     ]
    },
    {
     "name": "stderr",
     "output_type": "stream",
     "text": [
      "Epoch #375: 1030it [00:02, 487.94it/s, env_step=386250, len=9, n/ep=1, n/st=10, player_0/loss=0.117, player_1/loss=0.080, rew=0.00]\n"
     ]
    },
    {
     "name": "stdout",
     "output_type": "stream",
     "text": [
      "Epoch #375: test_reward: 0.000000 ± 0.000000, best_reward: 0.000000 ± 0.000000 in #0\n"
     ]
    },
    {
     "name": "stderr",
     "output_type": "stream",
     "text": [
      "Epoch #376: 1030it [00:02, 437.02it/s, env_step=387280, len=8, n/ep=1, n/st=10, player_0/loss=0.127, player_1/loss=0.080, rew=0.00]\n"
     ]
    },
    {
     "name": "stdout",
     "output_type": "stream",
     "text": [
      "Epoch #376: test_reward: 0.000000 ± 0.000000, best_reward: 0.000000 ± 0.000000 in #0\n"
     ]
    },
    {
     "name": "stderr",
     "output_type": "stream",
     "text": [
      "Epoch #377: 1030it [00:02, 469.18it/s, env_step=388310, len=9, n/ep=1, n/st=10, player_0/loss=0.099, player_1/loss=0.093, rew=0.00]\n"
     ]
    },
    {
     "name": "stdout",
     "output_type": "stream",
     "text": [
      "Epoch #377: test_reward: 0.000000 ± 0.000000, best_reward: 0.000000 ± 0.000000 in #0\n"
     ]
    },
    {
     "name": "stderr",
     "output_type": "stream",
     "text": [
      "Epoch #378: 1030it [00:02, 489.98it/s, env_step=389340, len=7, n/ep=2, n/st=10, player_0/loss=0.095, player_1/loss=0.113, rew=0.00]\n"
     ]
    },
    {
     "name": "stdout",
     "output_type": "stream",
     "text": [
      "Epoch #378: test_reward: 0.000000 ± 0.000000, best_reward: 0.000000 ± 0.000000 in #0\n"
     ]
    },
    {
     "name": "stderr",
     "output_type": "stream",
     "text": [
      "Epoch #379: 1030it [00:02, 403.49it/s, env_step=390370, len=7, n/ep=1, n/st=10, player_0/loss=0.085, player_1/loss=0.129, rew=0.00]\n"
     ]
    },
    {
     "name": "stdout",
     "output_type": "stream",
     "text": [
      "Epoch #379: test_reward: 0.000000 ± 0.000000, best_reward: 0.000000 ± 0.000000 in #0\n"
     ]
    },
    {
     "name": "stderr",
     "output_type": "stream",
     "text": [
      "Epoch #380: 1030it [00:02, 361.21it/s, env_step=391400, len=7, n/ep=0, n/st=10, player_0/loss=0.087, player_1/loss=0.169, rew=0.00]\n"
     ]
    },
    {
     "name": "stdout",
     "output_type": "stream",
     "text": [
      "Epoch #380: test_reward: 0.000000 ± 0.000000, best_reward: 0.000000 ± 0.000000 in #0\n"
     ]
    },
    {
     "name": "stderr",
     "output_type": "stream",
     "text": [
      "Epoch #381: 1030it [00:02, 398.92it/s, env_step=392430, len=7, n/ep=0, n/st=10, player_0/loss=0.092, player_1/loss=0.129, rew=0.00]\n"
     ]
    },
    {
     "name": "stdout",
     "output_type": "stream",
     "text": [
      "Epoch #381: test_reward: 0.000000 ± 0.000000, best_reward: 0.000000 ± 0.000000 in #0\n"
     ]
    },
    {
     "name": "stderr",
     "output_type": "stream",
     "text": [
      "Epoch #382: 1030it [00:02, 456.66it/s, env_step=393460, len=8, n/ep=0, n/st=10, player_0/loss=0.103, player_1/loss=0.128, rew=0.00]\n"
     ]
    },
    {
     "name": "stdout",
     "output_type": "stream",
     "text": [
      "Epoch #382: test_reward: 0.000000 ± 0.000000, best_reward: 0.000000 ± 0.000000 in #0\n"
     ]
    },
    {
     "name": "stderr",
     "output_type": "stream",
     "text": [
      "Epoch #383: 1030it [00:02, 503.01it/s, env_step=394490, len=8, n/ep=0, n/st=10, player_0/loss=0.113, player_1/loss=0.108, rew=0.00]\n"
     ]
    },
    {
     "name": "stdout",
     "output_type": "stream",
     "text": [
      "Epoch #383: test_reward: 0.000000 ± 0.000000, best_reward: 0.000000 ± 0.000000 in #0\n"
     ]
    },
    {
     "name": "stderr",
     "output_type": "stream",
     "text": [
      "Epoch #384: 1030it [00:02, 506.21it/s, env_step=395520, len=7, n/ep=0, n/st=10, player_0/loss=0.101, player_1/loss=0.087, rew=0.00]\n"
     ]
    },
    {
     "name": "stdout",
     "output_type": "stream",
     "text": [
      "Epoch #384: test_reward: 0.000000 ± 0.000000, best_reward: 0.000000 ± 0.000000 in #0\n"
     ]
    },
    {
     "name": "stderr",
     "output_type": "stream",
     "text": [
      "Epoch #385: 1030it [00:01, 526.63it/s, env_step=396550, len=13, n/ep=0, n/st=10, player_0/loss=0.070, player_1/loss=0.158, rew=0.00]\n"
     ]
    },
    {
     "name": "stdout",
     "output_type": "stream",
     "text": [
      "Epoch #385: test_reward: 0.000000 ± 0.000000, best_reward: 0.000000 ± 0.000000 in #0\n"
     ]
    },
    {
     "name": "stderr",
     "output_type": "stream",
     "text": [
      "Epoch #386: 1030it [00:01, 531.88it/s, env_step=397580, len=11, n/ep=1, n/st=10, player_0/loss=0.076, player_1/loss=0.149, rew=0.00]\n"
     ]
    },
    {
     "name": "stdout",
     "output_type": "stream",
     "text": [
      "Epoch #386: test_reward: 0.000000 ± 0.000000, best_reward: 0.000000 ± 0.000000 in #0\n"
     ]
    },
    {
     "name": "stderr",
     "output_type": "stream",
     "text": [
      "Epoch #387: 1030it [00:01, 521.20it/s, env_step=398610, len=13, n/ep=1, n/st=10, player_0/loss=0.070, player_1/loss=0.152, rew=0.00]\n"
     ]
    },
    {
     "name": "stdout",
     "output_type": "stream",
     "text": [
      "Epoch #387: test_reward: 0.000000 ± 0.000000, best_reward: 0.000000 ± 0.000000 in #0\n"
     ]
    },
    {
     "name": "stderr",
     "output_type": "stream",
     "text": [
      "Epoch #388: 1030it [00:02, 494.88it/s, env_step=399640, len=8, n/ep=1, n/st=10, player_0/loss=0.073, player_1/loss=0.162, rew=0.00]\n"
     ]
    },
    {
     "name": "stdout",
     "output_type": "stream",
     "text": [
      "Epoch #388: test_reward: 0.000000 ± 0.000000, best_reward: 0.000000 ± 0.000000 in #0\n"
     ]
    },
    {
     "name": "stderr",
     "output_type": "stream",
     "text": [
      "Epoch #389: 1030it [00:02, 508.38it/s, env_step=400670, len=8, n/ep=0, n/st=10, player_0/loss=0.081, player_1/loss=0.149, rew=0.00]\n"
     ]
    },
    {
     "name": "stdout",
     "output_type": "stream",
     "text": [
      "Epoch #389: test_reward: 0.000000 ± 0.000000, best_reward: 0.000000 ± 0.000000 in #0\n"
     ]
    },
    {
     "name": "stderr",
     "output_type": "stream",
     "text": [
      "Epoch #390: 1030it [00:02, 487.54it/s, env_step=401700, len=7, n/ep=0, n/st=10, player_0/loss=0.047, player_1/loss=0.174, rew=0.00]\n"
     ]
    },
    {
     "name": "stdout",
     "output_type": "stream",
     "text": [
      "Epoch #390: test_reward: 0.000000 ± 0.000000, best_reward: 0.000000 ± 0.000000 in #0\n"
     ]
    },
    {
     "name": "stderr",
     "output_type": "stream",
     "text": [
      "Epoch #391: 1030it [00:02, 500.31it/s, env_step=402730, len=7, n/ep=1, n/st=10, player_0/loss=0.066, player_1/loss=0.170, rew=0.00]\n"
     ]
    },
    {
     "name": "stdout",
     "output_type": "stream",
     "text": [
      "Epoch #391: test_reward: 0.000000 ± 0.000000, best_reward: 0.000000 ± 0.000000 in #0\n"
     ]
    },
    {
     "name": "stderr",
     "output_type": "stream",
     "text": [
      "Epoch #392: 1030it [00:02, 501.27it/s, env_step=403760, len=14, n/ep=0, n/st=10, player_0/loss=0.069, player_1/loss=0.109, rew=0.00]\n"
     ]
    },
    {
     "name": "stdout",
     "output_type": "stream",
     "text": [
      "Epoch #392: test_reward: 0.000000 ± 0.000000, best_reward: 0.000000 ± 0.000000 in #0\n"
     ]
    },
    {
     "name": "stderr",
     "output_type": "stream",
     "text": [
      "Epoch #393: 1030it [00:02, 496.80it/s, env_step=404790, len=16, n/ep=1, n/st=10, player_0/loss=0.076, player_1/loss=0.123, rew=0.00]\n"
     ]
    },
    {
     "name": "stdout",
     "output_type": "stream",
     "text": [
      "Epoch #393: test_reward: 0.000000 ± 0.000000, best_reward: 0.000000 ± 0.000000 in #0\n"
     ]
    },
    {
     "name": "stderr",
     "output_type": "stream",
     "text": [
      "Epoch #394: 1030it [00:02, 505.65it/s, env_step=405820, len=9, n/ep=1, n/st=10, player_0/loss=0.109, player_1/loss=0.072, rew=0.00]\n"
     ]
    },
    {
     "name": "stdout",
     "output_type": "stream",
     "text": [
      "Epoch #394: test_reward: 0.000000 ± 0.000000, best_reward: 0.000000 ± 0.000000 in #0\n"
     ]
    },
    {
     "name": "stderr",
     "output_type": "stream",
     "text": [
      "Epoch #395: 1030it [00:02, 498.08it/s, env_step=406850, len=9, n/ep=1, n/st=10, player_0/loss=0.098, player_1/loss=0.093, rew=0.00]\n"
     ]
    },
    {
     "name": "stdout",
     "output_type": "stream",
     "text": [
      "Epoch #395: test_reward: 0.000000 ± 0.000000, best_reward: 0.000000 ± 0.000000 in #0\n"
     ]
    },
    {
     "name": "stderr",
     "output_type": "stream",
     "text": [
      "Epoch #396: 1030it [00:02, 503.57it/s, env_step=407880, len=14, n/ep=3, n/st=10, player_0/loss=0.104, player_1/loss=0.100, rew=0.00]\n"
     ]
    },
    {
     "name": "stdout",
     "output_type": "stream",
     "text": [
      "Epoch #396: test_reward: 0.000000 ± 0.000000, best_reward: 0.000000 ± 0.000000 in #0\n"
     ]
    },
    {
     "name": "stderr",
     "output_type": "stream",
     "text": [
      "Epoch #397: 1030it [00:02, 498.53it/s, env_step=408910, len=9, n/ep=0, n/st=10, player_0/loss=0.097, player_1/loss=0.074, rew=0.00]\n"
     ]
    },
    {
     "name": "stdout",
     "output_type": "stream",
     "text": [
      "Epoch #397: test_reward: 0.000000 ± 0.000000, best_reward: 0.000000 ± 0.000000 in #0\n"
     ]
    },
    {
     "name": "stderr",
     "output_type": "stream",
     "text": [
      "Epoch #398: 1030it [00:02, 506.65it/s, env_step=409940, len=11, n/ep=1, n/st=10, player_0/loss=0.120, player_1/loss=0.078, rew=0.00]\n"
     ]
    },
    {
     "name": "stdout",
     "output_type": "stream",
     "text": [
      "Epoch #398: test_reward: 0.000000 ± 0.000000, best_reward: 0.000000 ± 0.000000 in #0\n"
     ]
    },
    {
     "name": "stderr",
     "output_type": "stream",
     "text": [
      "Epoch #399: 1030it [00:01, 536.49it/s, env_step=410970, len=11, n/ep=0, n/st=10, player_0/loss=0.108, player_1/loss=0.088, rew=0.00]\n"
     ]
    },
    {
     "name": "stdout",
     "output_type": "stream",
     "text": [
      "Epoch #399: test_reward: 0.000000 ± 0.000000, best_reward: 0.000000 ± 0.000000 in #0\n"
     ]
    },
    {
     "name": "stderr",
     "output_type": "stream",
     "text": [
      "Epoch #400: 1030it [00:02, 511.40it/s, env_step=412000, len=8, n/ep=3, n/st=10, player_0/loss=0.079, player_1/loss=0.160, rew=0.00]\n"
     ]
    },
    {
     "name": "stdout",
     "output_type": "stream",
     "text": [
      "Epoch #400: test_reward: 0.000000 ± 0.000000, best_reward: 0.000000 ± 0.000000 in #0\n"
     ]
    },
    {
     "name": "stderr",
     "output_type": "stream",
     "text": [
      "Epoch #401: 1030it [00:01, 530.55it/s, env_step=413030, len=7, n/ep=1, n/st=10, player_0/loss=0.088, player_1/loss=0.126, rew=0.00] \n"
     ]
    },
    {
     "name": "stdout",
     "output_type": "stream",
     "text": [
      "Epoch #401: test_reward: 0.000000 ± 0.000000, best_reward: 0.000000 ± 0.000000 in #0\n"
     ]
    },
    {
     "name": "stderr",
     "output_type": "stream",
     "text": [
      "Epoch #402: 1030it [00:01, 530.67it/s, env_step=414060, len=8, n/ep=0, n/st=10, player_0/loss=0.078, player_1/loss=0.095, rew=0.00]\n"
     ]
    },
    {
     "name": "stdout",
     "output_type": "stream",
     "text": [
      "Epoch #402: test_reward: 0.000000 ± 0.000000, best_reward: 0.000000 ± 0.000000 in #0\n"
     ]
    },
    {
     "name": "stderr",
     "output_type": "stream",
     "text": [
      "Epoch #403: 1030it [00:01, 528.36it/s, env_step=415090, len=8, n/ep=2, n/st=10, player_0/loss=0.104, player_1/loss=0.097, rew=0.00] \n"
     ]
    },
    {
     "name": "stdout",
     "output_type": "stream",
     "text": [
      "Epoch #403: test_reward: 0.000000 ± 0.000000, best_reward: 0.000000 ± 0.000000 in #0\n"
     ]
    },
    {
     "name": "stderr",
     "output_type": "stream",
     "text": [
      "Epoch #404: 1030it [00:01, 532.84it/s, env_step=416120, len=10, n/ep=0, n/st=10, player_0/loss=0.121, player_1/loss=0.088, rew=0.00]\n"
     ]
    },
    {
     "name": "stdout",
     "output_type": "stream",
     "text": [
      "Epoch #404: test_reward: 0.000000 ± 0.000000, best_reward: 0.000000 ± 0.000000 in #0\n"
     ]
    },
    {
     "name": "stderr",
     "output_type": "stream",
     "text": [
      "Epoch #405: 1030it [00:01, 543.27it/s, env_step=417150, len=7, n/ep=1, n/st=10, player_0/loss=0.091, player_1/loss=0.100, rew=0.00]\n"
     ]
    },
    {
     "name": "stdout",
     "output_type": "stream",
     "text": [
      "Epoch #405: test_reward: 0.000000 ± 0.000000, best_reward: 0.000000 ± 0.000000 in #0\n"
     ]
    },
    {
     "name": "stderr",
     "output_type": "stream",
     "text": [
      "Epoch #406: 1030it [00:01, 516.91it/s, env_step=418180, len=9, n/ep=0, n/st=10, player_0/loss=0.101, player_1/loss=0.091, rew=0.00]\n"
     ]
    },
    {
     "name": "stdout",
     "output_type": "stream",
     "text": [
      "Epoch #406: test_reward: 0.000000 ± 0.000000, best_reward: 0.000000 ± 0.000000 in #0\n"
     ]
    },
    {
     "name": "stderr",
     "output_type": "stream",
     "text": [
      "Epoch #407: 1030it [00:01, 528.66it/s, env_step=419210, len=14, n/ep=2, n/st=10, player_0/loss=0.081, player_1/loss=0.107, rew=0.00]\n"
     ]
    },
    {
     "name": "stdout",
     "output_type": "stream",
     "text": [
      "Epoch #407: test_reward: 0.000000 ± 0.000000, best_reward: 0.000000 ± 0.000000 in #0\n"
     ]
    },
    {
     "name": "stderr",
     "output_type": "stream",
     "text": [
      "Epoch #408: 1030it [00:01, 531.72it/s, env_step=420240, len=10, n/ep=2, n/st=10, player_0/loss=0.091, player_1/loss=0.132, rew=0.00]\n"
     ]
    },
    {
     "name": "stdout",
     "output_type": "stream",
     "text": [
      "Epoch #408: test_reward: 0.000000 ± 0.000000, best_reward: 0.000000 ± 0.000000 in #0\n"
     ]
    },
    {
     "name": "stderr",
     "output_type": "stream",
     "text": [
      "Epoch #409: 1030it [00:01, 535.20it/s, env_step=421270, len=9, n/ep=2, n/st=10, player_0/loss=0.080, player_1/loss=0.130, rew=0.00]\n"
     ]
    },
    {
     "name": "stdout",
     "output_type": "stream",
     "text": [
      "Epoch #409: test_reward: 0.000000 ± 0.000000, best_reward: 0.000000 ± 0.000000 in #0\n"
     ]
    },
    {
     "name": "stderr",
     "output_type": "stream",
     "text": [
      "Epoch #410: 1030it [00:02, 475.92it/s, env_step=422300, len=7, n/ep=1, n/st=10, player_0/loss=0.081, player_1/loss=0.157, rew=0.00]\n"
     ]
    },
    {
     "name": "stdout",
     "output_type": "stream",
     "text": [
      "Epoch #410: test_reward: 0.000000 ± 0.000000, best_reward: 0.000000 ± 0.000000 in #0\n"
     ]
    },
    {
     "name": "stderr",
     "output_type": "stream",
     "text": [
      "Epoch #411: 1030it [00:01, 530.33it/s, env_step=423330, len=7, n/ep=0, n/st=10, player_0/loss=0.096, player_1/loss=0.126, rew=0.00]\n"
     ]
    },
    {
     "name": "stdout",
     "output_type": "stream",
     "text": [
      "Epoch #411: test_reward: 0.000000 ± 0.000000, best_reward: 0.000000 ± 0.000000 in #0\n"
     ]
    },
    {
     "name": "stderr",
     "output_type": "stream",
     "text": [
      "Epoch #412: 1030it [00:02, 507.95it/s, env_step=424360, len=8, n/ep=0, n/st=10, player_0/loss=0.106, player_1/loss=0.118, rew=0.00]\n"
     ]
    },
    {
     "name": "stdout",
     "output_type": "stream",
     "text": [
      "Epoch #412: test_reward: 0.000000 ± 0.000000, best_reward: 0.000000 ± 0.000000 in #0\n"
     ]
    },
    {
     "name": "stderr",
     "output_type": "stream",
     "text": [
      "Epoch #413: 1030it [00:02, 480.66it/s, env_step=425390, len=8, n/ep=1, n/st=10, player_0/loss=0.094, player_1/loss=0.087, rew=0.00]\n"
     ]
    },
    {
     "name": "stdout",
     "output_type": "stream",
     "text": [
      "Epoch #413: test_reward: 0.000000 ± 0.000000, best_reward: 0.000000 ± 0.000000 in #0\n"
     ]
    },
    {
     "name": "stderr",
     "output_type": "stream",
     "text": [
      "Epoch #414: 1030it [00:02, 514.49it/s, env_step=426420, len=8, n/ep=2, n/st=10, player_0/loss=0.070, player_1/loss=0.157, rew=0.00]\n"
     ]
    },
    {
     "name": "stdout",
     "output_type": "stream",
     "text": [
      "Epoch #414: test_reward: 0.000000 ± 0.000000, best_reward: 0.000000 ± 0.000000 in #0\n"
     ]
    },
    {
     "name": "stderr",
     "output_type": "stream",
     "text": [
      "Epoch #415: 1030it [00:01, 528.62it/s, env_step=427450, len=8, n/ep=1, n/st=10, player_0/loss=0.080, player_1/loss=0.157, rew=0.00]\n"
     ]
    },
    {
     "name": "stdout",
     "output_type": "stream",
     "text": [
      "Epoch #415: test_reward: 0.000000 ± 0.000000, best_reward: 0.000000 ± 0.000000 in #0\n"
     ]
    },
    {
     "name": "stderr",
     "output_type": "stream",
     "text": [
      "Epoch #416: 1030it [00:01, 529.63it/s, env_step=428480, len=9, n/ep=1, n/st=10, player_0/loss=0.080, player_1/loss=0.163, rew=0.00]\n"
     ]
    },
    {
     "name": "stdout",
     "output_type": "stream",
     "text": [
      "Epoch #416: test_reward: 0.000000 ± 0.000000, best_reward: 0.000000 ± 0.000000 in #0\n"
     ]
    },
    {
     "name": "stderr",
     "output_type": "stream",
     "text": [
      "Epoch #417: 1030it [00:01, 530.11it/s, env_step=429510, len=11, n/ep=0, n/st=10, player_0/loss=0.102, player_1/loss=0.106, rew=0.00]\n"
     ]
    },
    {
     "name": "stdout",
     "output_type": "stream",
     "text": [
      "Epoch #417: test_reward: 0.000000 ± 0.000000, best_reward: 0.000000 ± 0.000000 in #0\n"
     ]
    },
    {
     "name": "stderr",
     "output_type": "stream",
     "text": [
      "Epoch #418: 1030it [00:01, 528.17it/s, env_step=430540, len=10, n/ep=0, n/st=10, player_0/loss=0.135, player_1/loss=0.077, rew=0.00]\n"
     ]
    },
    {
     "name": "stdout",
     "output_type": "stream",
     "text": [
      "Epoch #418: test_reward: 0.000000 ± 0.000000, best_reward: 0.000000 ± 0.000000 in #0\n"
     ]
    },
    {
     "name": "stderr",
     "output_type": "stream",
     "text": [
      "Epoch #419: 1030it [00:01, 539.76it/s, env_step=431570, len=8, n/ep=1, n/st=10, player_0/loss=0.107, player_1/loss=0.107, rew=0.00]\n"
     ]
    },
    {
     "name": "stdout",
     "output_type": "stream",
     "text": [
      "Epoch #419: test_reward: 0.000000 ± 0.000000, best_reward: 0.000000 ± 0.000000 in #0\n"
     ]
    },
    {
     "name": "stderr",
     "output_type": "stream",
     "text": [
      "Epoch #420: 1030it [00:01, 531.78it/s, env_step=432600, len=8, n/ep=1, n/st=10, player_0/loss=0.112, player_1/loss=0.095, rew=0.00]\n"
     ]
    },
    {
     "name": "stdout",
     "output_type": "stream",
     "text": [
      "Epoch #420: test_reward: 0.000000 ± 0.000000, best_reward: 0.000000 ± 0.000000 in #0\n"
     ]
    },
    {
     "name": "stderr",
     "output_type": "stream",
     "text": [
      "Epoch #421: 1030it [00:01, 532.98it/s, env_step=433630, len=10, n/ep=1, n/st=10, player_0/loss=0.095, player_1/loss=0.137, rew=0.00]\n"
     ]
    },
    {
     "name": "stdout",
     "output_type": "stream",
     "text": [
      "Epoch #421: test_reward: 0.000000 ± 0.000000, best_reward: 0.000000 ± 0.000000 in #0\n"
     ]
    },
    {
     "name": "stderr",
     "output_type": "stream",
     "text": [
      "Epoch #422: 1030it [00:01, 534.47it/s, env_step=434660, len=8, n/ep=1, n/st=10, player_0/loss=0.117, player_1/loss=0.087, rew=0.00]\n"
     ]
    },
    {
     "name": "stdout",
     "output_type": "stream",
     "text": [
      "Epoch #422: test_reward: 0.000000 ± 0.000000, best_reward: 0.000000 ± 0.000000 in #0\n"
     ]
    },
    {
     "name": "stderr",
     "output_type": "stream",
     "text": [
      "Epoch #423: 1030it [00:01, 531.92it/s, env_step=435690, len=7, n/ep=0, n/st=10, player_0/loss=0.085, player_1/loss=0.117, rew=0.00]\n"
     ]
    },
    {
     "name": "stdout",
     "output_type": "stream",
     "text": [
      "Epoch #423: test_reward: 0.000000 ± 0.000000, best_reward: 0.000000 ± 0.000000 in #0\n"
     ]
    },
    {
     "name": "stderr",
     "output_type": "stream",
     "text": [
      "Epoch #424: 1030it [00:01, 536.61it/s, env_step=436720, len=13, n/ep=0, n/st=10, player_0/loss=0.085, player_1/loss=0.095, rew=0.00]\n"
     ]
    },
    {
     "name": "stdout",
     "output_type": "stream",
     "text": [
      "Epoch #424: test_reward: 0.000000 ± 0.000000, best_reward: 0.000000 ± 0.000000 in #0\n"
     ]
    },
    {
     "name": "stderr",
     "output_type": "stream",
     "text": [
      "Epoch #425: 1030it [00:01, 538.94it/s, env_step=437750, len=8, n/ep=3, n/st=10, player_0/loss=0.081, player_1/loss=0.130, rew=0.00]\n"
     ]
    },
    {
     "name": "stdout",
     "output_type": "stream",
     "text": [
      "Epoch #425: test_reward: 0.000000 ± 0.000000, best_reward: 0.000000 ± 0.000000 in #0\n"
     ]
    },
    {
     "name": "stderr",
     "output_type": "stream",
     "text": [
      "Epoch #426: 1030it [00:02, 495.52it/s, env_step=438780, len=7, n/ep=1, n/st=10, player_0/loss=0.068, player_1/loss=0.176, rew=0.00]\n"
     ]
    },
    {
     "name": "stdout",
     "output_type": "stream",
     "text": [
      "Epoch #426: test_reward: 0.000000 ± 0.000000, best_reward: 0.000000 ± 0.000000 in #0\n"
     ]
    },
    {
     "name": "stderr",
     "output_type": "stream",
     "text": [
      "Epoch #427: 1030it [00:01, 523.74it/s, env_step=439810, len=7, n/ep=0, n/st=10, player_0/loss=0.069, player_1/loss=0.182, rew=0.00]\n"
     ]
    },
    {
     "name": "stdout",
     "output_type": "stream",
     "text": [
      "Epoch #427: test_reward: 0.000000 ± 0.000000, best_reward: 0.000000 ± 0.000000 in #0\n"
     ]
    },
    {
     "name": "stderr",
     "output_type": "stream",
     "text": [
      "Epoch #428: 1030it [00:01, 534.31it/s, env_step=440840, len=7, n/ep=1, n/st=10, player_0/loss=0.092, player_1/loss=0.154, rew=0.00]\n"
     ]
    },
    {
     "name": "stdout",
     "output_type": "stream",
     "text": [
      "Epoch #428: test_reward: 0.000000 ± 0.000000, best_reward: 0.000000 ± 0.000000 in #0\n"
     ]
    },
    {
     "name": "stderr",
     "output_type": "stream",
     "text": [
      "Epoch #429: 1030it [00:01, 536.28it/s, env_step=441870, len=18, n/ep=0, n/st=10, player_0/loss=0.117, player_1/loss=0.083, rew=0.00]\n"
     ]
    },
    {
     "name": "stdout",
     "output_type": "stream",
     "text": [
      "Epoch #429: test_reward: 0.000000 ± 0.000000, best_reward: 0.000000 ± 0.000000 in #0\n"
     ]
    },
    {
     "name": "stderr",
     "output_type": "stream",
     "text": [
      "Epoch #430: 1030it [00:01, 525.74it/s, env_step=442900, len=13, n/ep=3, n/st=10, player_0/loss=0.079, player_1/loss=0.124, rew=0.00]\n"
     ]
    },
    {
     "name": "stdout",
     "output_type": "stream",
     "text": [
      "Epoch #430: test_reward: 0.000000 ± 0.000000, best_reward: 0.000000 ± 0.000000 in #0\n"
     ]
    },
    {
     "name": "stderr",
     "output_type": "stream",
     "text": [
      "Epoch #431: 1030it [00:01, 534.02it/s, env_step=443930, len=19, n/ep=1, n/st=10, player_0/loss=0.090, player_1/loss=0.095, rew=0.00]\n"
     ]
    },
    {
     "name": "stdout",
     "output_type": "stream",
     "text": [
      "Epoch #431: test_reward: 0.000000 ± 0.000000, best_reward: 0.000000 ± 0.000000 in #0\n"
     ]
    },
    {
     "name": "stderr",
     "output_type": "stream",
     "text": [
      "Epoch #432: 1030it [00:02, 452.08it/s, env_step=444960, len=7, n/ep=2, n/st=10, player_0/loss=0.120, player_1/loss=0.072, rew=0.00] \n"
     ]
    },
    {
     "name": "stdout",
     "output_type": "stream",
     "text": [
      "Epoch #432: test_reward: 0.000000 ± 0.000000, best_reward: 0.000000 ± 0.000000 in #0\n"
     ]
    },
    {
     "name": "stderr",
     "output_type": "stream",
     "text": [
      "Epoch #433: 1030it [00:02, 512.12it/s, env_step=445990, len=20, n/ep=1, n/st=10, player_0/loss=0.104, player_1/loss=0.083, rew=0.00]\n"
     ]
    },
    {
     "name": "stdout",
     "output_type": "stream",
     "text": [
      "Epoch #433: test_reward: 0.000000 ± 0.000000, best_reward: 0.000000 ± 0.000000 in #0\n"
     ]
    },
    {
     "name": "stderr",
     "output_type": "stream",
     "text": [
      "Epoch #434: 1030it [00:01, 532.76it/s, env_step=447020, len=7, n/ep=3, n/st=10, player_0/loss=0.109, player_1/loss=0.088, rew=0.00]\n"
     ]
    },
    {
     "name": "stdout",
     "output_type": "stream",
     "text": [
      "Epoch #434: test_reward: 0.000000 ± 0.000000, best_reward: 0.000000 ± 0.000000 in #0\n"
     ]
    },
    {
     "name": "stderr",
     "output_type": "stream",
     "text": [
      "Epoch #435: 1030it [00:01, 539.70it/s, env_step=448050, len=8, n/ep=2, n/st=10, player_0/loss=0.068, player_1/loss=0.171, rew=0.00]\n"
     ]
    },
    {
     "name": "stdout",
     "output_type": "stream",
     "text": [
      "Epoch #435: test_reward: 0.000000 ± 0.000000, best_reward: 0.000000 ± 0.000000 in #0\n"
     ]
    },
    {
     "name": "stderr",
     "output_type": "stream",
     "text": [
      "Epoch #436: 1030it [00:01, 538.77it/s, env_step=449080, len=8, n/ep=6, n/st=10, player_0/loss=0.076, player_1/loss=0.167, rew=0.00]\n"
     ]
    },
    {
     "name": "stdout",
     "output_type": "stream",
     "text": [
      "Epoch #436: test_reward: 0.000000 ± 0.000000, best_reward: 0.000000 ± 0.000000 in #0\n"
     ]
    },
    {
     "name": "stderr",
     "output_type": "stream",
     "text": [
      "Epoch #437: 1030it [00:01, 540.99it/s, env_step=450110, len=10, n/ep=1, n/st=10, player_0/loss=0.066, player_1/loss=0.170, rew=0.00]\n"
     ]
    },
    {
     "name": "stdout",
     "output_type": "stream",
     "text": [
      "Epoch #437: test_reward: 0.000000 ± 0.000000, best_reward: 0.000000 ± 0.000000 in #0\n"
     ]
    },
    {
     "name": "stderr",
     "output_type": "stream",
     "text": [
      "Epoch #438: 1030it [00:01, 539.29it/s, env_step=451140, len=12, n/ep=1, n/st=10, player_0/loss=0.070, player_1/loss=0.136, rew=0.00]\n"
     ]
    },
    {
     "name": "stdout",
     "output_type": "stream",
     "text": [
      "Epoch #438: test_reward: 0.000000 ± 0.000000, best_reward: 0.000000 ± 0.000000 in #0\n"
     ]
    },
    {
     "name": "stderr",
     "output_type": "stream",
     "text": [
      "Epoch #439: 1030it [00:01, 532.13it/s, env_step=452170, len=14, n/ep=2, n/st=10, player_0/loss=0.092, player_1/loss=0.092, rew=0.00]\n"
     ]
    },
    {
     "name": "stdout",
     "output_type": "stream",
     "text": [
      "Epoch #439: test_reward: 0.000000 ± 0.000000, best_reward: 0.000000 ± 0.000000 in #0\n"
     ]
    },
    {
     "name": "stderr",
     "output_type": "stream",
     "text": [
      "Epoch #440: 1030it [00:01, 535.66it/s, env_step=453200, len=18, n/ep=2, n/st=10, player_0/loss=0.111, player_1/loss=0.076, rew=0.00]\n"
     ]
    },
    {
     "name": "stdout",
     "output_type": "stream",
     "text": [
      "Epoch #440: test_reward: 0.000000 ± 0.000000, best_reward: 0.000000 ± 0.000000 in #0\n"
     ]
    },
    {
     "name": "stderr",
     "output_type": "stream",
     "text": [
      "Epoch #441: 1030it [00:01, 529.29it/s, env_step=454230, len=11, n/ep=2, n/st=10, player_0/loss=0.080, player_1/loss=0.096, rew=0.00]\n"
     ]
    },
    {
     "name": "stdout",
     "output_type": "stream",
     "text": [
      "Epoch #441: test_reward: 0.000000 ± 0.000000, best_reward: 0.000000 ± 0.000000 in #0\n"
     ]
    },
    {
     "name": "stderr",
     "output_type": "stream",
     "text": [
      "Epoch #442: 1030it [00:01, 529.35it/s, env_step=455260, len=18, n/ep=0, n/st=10, player_0/loss=0.077, player_1/loss=0.081, rew=0.00]\n"
     ]
    },
    {
     "name": "stdout",
     "output_type": "stream",
     "text": [
      "Epoch #442: test_reward: 0.000000 ± 0.000000, best_reward: 0.000000 ± 0.000000 in #0\n"
     ]
    },
    {
     "name": "stderr",
     "output_type": "stream",
     "text": [
      "Epoch #443: 1030it [00:01, 533.79it/s, env_step=456290, len=7, n/ep=2, n/st=10, player_0/loss=0.078, player_1/loss=0.110, rew=0.00] \n"
     ]
    },
    {
     "name": "stdout",
     "output_type": "stream",
     "text": [
      "Epoch #443: test_reward: 0.000000 ± 0.000000, best_reward: 0.000000 ± 0.000000 in #0\n"
     ]
    },
    {
     "name": "stderr",
     "output_type": "stream",
     "text": [
      "Epoch #444: 1030it [00:01, 538.11it/s, env_step=457320, len=7, n/ep=3, n/st=10, player_0/loss=0.105, player_1/loss=0.119, rew=0.00]\n"
     ]
    },
    {
     "name": "stdout",
     "output_type": "stream",
     "text": [
      "Epoch #444: test_reward: 0.000000 ± 0.000000, best_reward: 0.000000 ± 0.000000 in #0\n"
     ]
    },
    {
     "name": "stderr",
     "output_type": "stream",
     "text": [
      "Epoch #445: 1030it [00:01, 540.14it/s, env_step=458350, len=8, n/ep=4, n/st=10, player_0/loss=0.101, player_1/loss=0.103, rew=0.00]\n"
     ]
    },
    {
     "name": "stdout",
     "output_type": "stream",
     "text": [
      "Epoch #445: test_reward: 0.000000 ± 0.000000, best_reward: 0.000000 ± 0.000000 in #0\n"
     ]
    },
    {
     "name": "stderr",
     "output_type": "stream",
     "text": [
      "Epoch #446: 1030it [00:01, 542.99it/s, env_step=459380, len=15, n/ep=2, n/st=10, player_0/loss=0.090, player_1/loss=0.081, rew=0.00]\n"
     ]
    },
    {
     "name": "stdout",
     "output_type": "stream",
     "text": [
      "Epoch #446: test_reward: 0.000000 ± 0.000000, best_reward: 0.000000 ± 0.000000 in #0\n"
     ]
    },
    {
     "name": "stderr",
     "output_type": "stream",
     "text": [
      "Epoch #447: 1030it [00:01, 540.51it/s, env_step=460410, len=21, n/ep=0, n/st=10, player_0/loss=0.077, player_1/loss=0.089, rew=0.00]\n"
     ]
    },
    {
     "name": "stdout",
     "output_type": "stream",
     "text": [
      "Epoch #447: test_reward: 0.000000 ± 0.000000, best_reward: 0.000000 ± 0.000000 in #0\n"
     ]
    },
    {
     "name": "stderr",
     "output_type": "stream",
     "text": [
      "Epoch #448: 1030it [00:01, 532.22it/s, env_step=461440, len=7, n/ep=4, n/st=10, player_0/loss=0.058, player_1/loss=0.134, rew=0.00]\n"
     ]
    },
    {
     "name": "stdout",
     "output_type": "stream",
     "text": [
      "Epoch #448: test_reward: 0.000000 ± 0.000000, best_reward: 0.000000 ± 0.000000 in #0\n"
     ]
    },
    {
     "name": "stderr",
     "output_type": "stream",
     "text": [
      "Epoch #449: 1030it [00:01, 537.80it/s, env_step=462470, len=10, n/ep=0, n/st=10, player_0/loss=0.068, player_1/loss=0.141, rew=0.00]\n"
     ]
    },
    {
     "name": "stdout",
     "output_type": "stream",
     "text": [
      "Epoch #449: test_reward: 0.000000 ± 0.000000, best_reward: 0.000000 ± 0.000000 in #0\n"
     ]
    },
    {
     "name": "stderr",
     "output_type": "stream",
     "text": [
      "Epoch #450: 1030it [00:01, 542.66it/s, env_step=463500, len=8, n/ep=2, n/st=10, player_0/loss=0.054, player_1/loss=0.147, rew=0.00]\n"
     ]
    },
    {
     "name": "stdout",
     "output_type": "stream",
     "text": [
      "Epoch #450: test_reward: 0.000000 ± 0.000000, best_reward: 0.000000 ± 0.000000 in #0\n"
     ]
    },
    {
     "name": "stderr",
     "output_type": "stream",
     "text": [
      "Epoch #451: 1030it [00:01, 535.35it/s, env_step=464530, len=15, n/ep=2, n/st=10, player_0/loss=0.073, player_1/loss=0.127, rew=0.00]\n"
     ]
    },
    {
     "name": "stdout",
     "output_type": "stream",
     "text": [
      "Epoch #451: test_reward: 0.000000 ± 0.000000, best_reward: 0.000000 ± 0.000000 in #0\n"
     ]
    },
    {
     "name": "stderr",
     "output_type": "stream",
     "text": [
      "Epoch #452: 1030it [00:01, 539.04it/s, env_step=465560, len=14, n/ep=1, n/st=10, player_0/loss=0.109, player_1/loss=0.090, rew=0.00]\n"
     ]
    },
    {
     "name": "stdout",
     "output_type": "stream",
     "text": [
      "Epoch #452: test_reward: 0.000000 ± 0.000000, best_reward: 0.000000 ± 0.000000 in #0\n"
     ]
    },
    {
     "name": "stderr",
     "output_type": "stream",
     "text": [
      "Epoch #453: 1030it [00:01, 541.31it/s, env_step=466590, len=11, n/ep=0, n/st=10, player_0/loss=0.124, player_1/loss=0.061, rew=0.00]\n"
     ]
    },
    {
     "name": "stdout",
     "output_type": "stream",
     "text": [
      "Epoch #453: test_reward: 0.000000 ± 0.000000, best_reward: 0.000000 ± 0.000000 in #0\n"
     ]
    },
    {
     "name": "stderr",
     "output_type": "stream",
     "text": [
      "Epoch #454: 1030it [00:01, 542.48it/s, env_step=467620, len=8, n/ep=1, n/st=10, player_0/loss=0.079, player_1/loss=0.104, rew=0.00]\n"
     ]
    },
    {
     "name": "stdout",
     "output_type": "stream",
     "text": [
      "Epoch #454: test_reward: 0.000000 ± 0.000000, best_reward: 0.000000 ± 0.000000 in #0\n"
     ]
    },
    {
     "name": "stderr",
     "output_type": "stream",
     "text": [
      "Epoch #455: 1030it [00:01, 543.96it/s, env_step=468650, len=10, n/ep=0, n/st=10, player_0/loss=0.093, player_1/loss=0.138, rew=0.00]\n"
     ]
    },
    {
     "name": "stdout",
     "output_type": "stream",
     "text": [
      "Epoch #455: test_reward: 0.000000 ± 0.000000, best_reward: 0.000000 ± 0.000000 in #0\n"
     ]
    },
    {
     "name": "stderr",
     "output_type": "stream",
     "text": [
      "Epoch #456: 1030it [00:01, 543.53it/s, env_step=469680, len=7, n/ep=1, n/st=10, player_0/loss=0.063, player_1/loss=0.145, rew=0.00]\n"
     ]
    },
    {
     "name": "stdout",
     "output_type": "stream",
     "text": [
      "Epoch #456: test_reward: 0.000000 ± 0.000000, best_reward: 0.000000 ± 0.000000 in #0\n"
     ]
    },
    {
     "name": "stderr",
     "output_type": "stream",
     "text": [
      "Epoch #457: 1030it [00:02, 457.24it/s, env_step=470710, len=9, n/ep=4, n/st=10, player_0/loss=0.094, player_1/loss=0.118, rew=0.00]\n"
     ]
    },
    {
     "name": "stdout",
     "output_type": "stream",
     "text": [
      "Epoch #457: test_reward: 0.000000 ± 0.000000, best_reward: 0.000000 ± 0.000000 in #0\n"
     ]
    },
    {
     "name": "stderr",
     "output_type": "stream",
     "text": [
      "Epoch #458: 1030it [00:01, 523.94it/s, env_step=471740, len=11, n/ep=2, n/st=10, player_0/loss=0.074, player_1/loss=0.123, rew=0.00]\n"
     ]
    },
    {
     "name": "stdout",
     "output_type": "stream",
     "text": [
      "Epoch #458: test_reward: 0.000000 ± 0.000000, best_reward: 0.000000 ± 0.000000 in #0\n"
     ]
    },
    {
     "name": "stderr",
     "output_type": "stream",
     "text": [
      "Epoch #459: 1030it [00:01, 515.58it/s, env_step=472770, len=7, n/ep=0, n/st=10, player_0/loss=0.070, player_1/loss=0.132, rew=0.00]\n"
     ]
    },
    {
     "name": "stdout",
     "output_type": "stream",
     "text": [
      "Epoch #459: test_reward: 0.000000 ± 0.000000, best_reward: 0.000000 ± 0.000000 in #0\n"
     ]
    },
    {
     "name": "stderr",
     "output_type": "stream",
     "text": [
      "Epoch #460: 1030it [00:01, 539.01it/s, env_step=473800, len=7, n/ep=2, n/st=10, player_0/loss=0.089, player_1/loss=0.096, rew=0.00]\n"
     ]
    },
    {
     "name": "stdout",
     "output_type": "stream",
     "text": [
      "Epoch #460: test_reward: 0.000000 ± 0.000000, best_reward: 0.000000 ± 0.000000 in #0\n"
     ]
    },
    {
     "name": "stderr",
     "output_type": "stream",
     "text": [
      "Epoch #461: 1030it [00:01, 515.60it/s, env_step=474830, len=13, n/ep=0, n/st=10, player_0/loss=0.073, player_1/loss=0.087, rew=0.00]\n"
     ]
    },
    {
     "name": "stdout",
     "output_type": "stream",
     "text": [
      "Epoch #461: test_reward: 0.000000 ± 0.000000, best_reward: 0.000000 ± 0.000000 in #0\n"
     ]
    },
    {
     "name": "stderr",
     "output_type": "stream",
     "text": [
      "Epoch #462: 1030it [00:02, 493.37it/s, env_step=475860, len=19, n/ep=1, n/st=10, player_0/loss=0.072, player_1/loss=0.143, rew=0.00]\n"
     ]
    },
    {
     "name": "stdout",
     "output_type": "stream",
     "text": [
      "Epoch #462: test_reward: 0.000000 ± 0.000000, best_reward: 0.000000 ± 0.000000 in #0\n"
     ]
    },
    {
     "name": "stderr",
     "output_type": "stream",
     "text": [
      "Epoch #463: 1030it [00:01, 525.72it/s, env_step=476890, len=7, n/ep=2, n/st=10, player_0/loss=0.070, player_1/loss=0.140, rew=0.00]\n"
     ]
    },
    {
     "name": "stdout",
     "output_type": "stream",
     "text": [
      "Epoch #463: test_reward: 0.000000 ± 0.000000, best_reward: 0.000000 ± 0.000000 in #0\n"
     ]
    },
    {
     "name": "stderr",
     "output_type": "stream",
     "text": [
      "Epoch #464: 1030it [00:01, 526.98it/s, env_step=477920, len=9, n/ep=2, n/st=10, player_0/loss=0.097, player_1/loss=0.104, rew=0.00]\n"
     ]
    },
    {
     "name": "stdout",
     "output_type": "stream",
     "text": [
      "Epoch #464: test_reward: 0.000000 ± 0.000000, best_reward: 0.000000 ± 0.000000 in #0\n"
     ]
    },
    {
     "name": "stderr",
     "output_type": "stream",
     "text": [
      "Epoch #465: 1030it [00:01, 538.35it/s, env_step=478950, len=8, n/ep=1, n/st=10, player_0/loss=0.090, player_1/loss=0.130, rew=0.00]\n"
     ]
    },
    {
     "name": "stdout",
     "output_type": "stream",
     "text": [
      "Epoch #465: test_reward: 0.000000 ± 0.000000, best_reward: 0.000000 ± 0.000000 in #0\n"
     ]
    },
    {
     "name": "stderr",
     "output_type": "stream",
     "text": [
      "Epoch #466: 1030it [00:01, 531.48it/s, env_step=479980, len=8, n/ep=2, n/st=10, player_0/loss=0.114, player_1/loss=0.081, rew=0.00]\n"
     ]
    },
    {
     "name": "stdout",
     "output_type": "stream",
     "text": [
      "Epoch #466: test_reward: 0.000000 ± 0.000000, best_reward: 0.000000 ± 0.000000 in #0\n"
     ]
    },
    {
     "name": "stderr",
     "output_type": "stream",
     "text": [
      "Epoch #467: 1030it [00:01, 532.59it/s, env_step=481010, len=18, n/ep=0, n/st=10, player_0/loss=0.070, player_1/loss=0.128, rew=0.00]\n"
     ]
    },
    {
     "name": "stdout",
     "output_type": "stream",
     "text": [
      "Epoch #467: test_reward: 0.000000 ± 0.000000, best_reward: 0.000000 ± 0.000000 in #0\n"
     ]
    },
    {
     "name": "stderr",
     "output_type": "stream",
     "text": [
      "Epoch #468: 1030it [00:01, 533.84it/s, env_step=482040, len=7, n/ep=0, n/st=10, player_0/loss=0.087, player_1/loss=0.125, rew=0.00]\n"
     ]
    },
    {
     "name": "stdout",
     "output_type": "stream",
     "text": [
      "Epoch #468: test_reward: 0.000000 ± 0.000000, best_reward: 0.000000 ± 0.000000 in #0\n"
     ]
    },
    {
     "name": "stderr",
     "output_type": "stream",
     "text": [
      "Epoch #469: 1030it [00:01, 535.90it/s, env_step=483070, len=11, n/ep=3, n/st=10, player_0/loss=0.080, player_1/loss=0.125, rew=0.00]\n"
     ]
    },
    {
     "name": "stdout",
     "output_type": "stream",
     "text": [
      "Epoch #469: test_reward: 0.000000 ± 0.000000, best_reward: 0.000000 ± 0.000000 in #0\n"
     ]
    },
    {
     "name": "stderr",
     "output_type": "stream",
     "text": [
      "Epoch #470: 1030it [00:01, 536.35it/s, env_step=484100, len=8, n/ep=0, n/st=10, player_0/loss=0.091, player_1/loss=0.135, rew=0.00]\n"
     ]
    },
    {
     "name": "stdout",
     "output_type": "stream",
     "text": [
      "Epoch #470: test_reward: 0.000000 ± 0.000000, best_reward: 0.000000 ± 0.000000 in #0\n"
     ]
    },
    {
     "name": "stderr",
     "output_type": "stream",
     "text": [
      "Epoch #471: 1030it [00:01, 531.54it/s, env_step=485130, len=11, n/ep=0, n/st=10, player_0/loss=0.078, player_1/loss=0.117, rew=0.00]\n"
     ]
    },
    {
     "name": "stdout",
     "output_type": "stream",
     "text": [
      "Epoch #471: test_reward: 0.000000 ± 0.000000, best_reward: 0.000000 ± 0.000000 in #0\n"
     ]
    },
    {
     "name": "stderr",
     "output_type": "stream",
     "text": [
      "Epoch #472: 1030it [00:01, 532.69it/s, env_step=486160, len=7, n/ep=4, n/st=10, player_0/loss=0.100, player_1/loss=0.111, rew=0.00]\n"
     ]
    },
    {
     "name": "stdout",
     "output_type": "stream",
     "text": [
      "Epoch #472: test_reward: 0.000000 ± 0.000000, best_reward: 0.000000 ± 0.000000 in #0\n"
     ]
    },
    {
     "name": "stderr",
     "output_type": "stream",
     "text": [
      "Epoch #473: 1030it [00:01, 528.00it/s, env_step=487190, len=7, n/ep=2, n/st=10, player_0/loss=0.111, player_1/loss=0.121, rew=0.00]\n"
     ]
    },
    {
     "name": "stdout",
     "output_type": "stream",
     "text": [
      "Epoch #473: test_reward: 0.000000 ± 0.000000, best_reward: 0.000000 ± 0.000000 in #0\n"
     ]
    },
    {
     "name": "stderr",
     "output_type": "stream",
     "text": [
      "Epoch #474: 1030it [00:01, 515.28it/s, env_step=488220, len=12, n/ep=0, n/st=10, player_0/loss=0.080, player_1/loss=0.172, rew=0.00]\n"
     ]
    },
    {
     "name": "stdout",
     "output_type": "stream",
     "text": [
      "Epoch #474: test_reward: 0.000000 ± 0.000000, best_reward: 0.000000 ± 0.000000 in #0\n"
     ]
    },
    {
     "name": "stderr",
     "output_type": "stream",
     "text": [
      "Epoch #475: 1030it [00:02, 512.78it/s, env_step=489250, len=9, n/ep=0, n/st=10, player_0/loss=0.085, player_1/loss=0.138, rew=0.00]\n"
     ]
    },
    {
     "name": "stdout",
     "output_type": "stream",
     "text": [
      "Epoch #475: test_reward: 0.000000 ± 0.000000, best_reward: 0.000000 ± 0.000000 in #0\n"
     ]
    },
    {
     "name": "stderr",
     "output_type": "stream",
     "text": [
      "Epoch #476: 1030it [00:02, 509.47it/s, env_step=490280, len=12, n/ep=3, n/st=10, player_0/loss=0.075, player_1/loss=0.137, rew=0.00]\n"
     ]
    },
    {
     "name": "stdout",
     "output_type": "stream",
     "text": [
      "Epoch #476: test_reward: 0.000000 ± 0.000000, best_reward: 0.000000 ± 0.000000 in #0\n"
     ]
    },
    {
     "name": "stderr",
     "output_type": "stream",
     "text": [
      "Epoch #477: 1030it [00:01, 527.19it/s, env_step=491310, len=10, n/ep=2, n/st=10, player_0/loss=0.081, player_1/loss=0.149, rew=0.00]\n"
     ]
    },
    {
     "name": "stdout",
     "output_type": "stream",
     "text": [
      "Epoch #477: test_reward: 0.000000 ± 0.000000, best_reward: 0.000000 ± 0.000000 in #0\n"
     ]
    },
    {
     "name": "stderr",
     "output_type": "stream",
     "text": [
      "Epoch #478: 1030it [00:02, 507.22it/s, env_step=492340, len=17, n/ep=0, n/st=10, player_0/loss=0.082, player_1/loss=0.104, rew=0.00]\n"
     ]
    },
    {
     "name": "stdout",
     "output_type": "stream",
     "text": [
      "Epoch #478: test_reward: 0.000000 ± 0.000000, best_reward: 0.000000 ± 0.000000 in #0\n"
     ]
    },
    {
     "name": "stderr",
     "output_type": "stream",
     "text": [
      "Epoch #479: 1030it [00:01, 523.53it/s, env_step=493370, len=7, n/ep=2, n/st=10, player_0/loss=0.087, player_1/loss=0.133, rew=0.00] \n"
     ]
    },
    {
     "name": "stdout",
     "output_type": "stream",
     "text": [
      "Epoch #479: test_reward: 0.000000 ± 0.000000, best_reward: 0.000000 ± 0.000000 in #0\n"
     ]
    },
    {
     "name": "stderr",
     "output_type": "stream",
     "text": [
      "Epoch #480: 1030it [00:01, 539.36it/s, env_step=494400, len=7, n/ep=4, n/st=10, player_0/loss=0.061, player_1/loss=0.145, rew=0.00]\n"
     ]
    },
    {
     "name": "stdout",
     "output_type": "stream",
     "text": [
      "Epoch #480: test_reward: 0.000000 ± 0.000000, best_reward: 0.000000 ± 0.000000 in #0\n"
     ]
    },
    {
     "name": "stderr",
     "output_type": "stream",
     "text": [
      "Epoch #481: 1030it [00:01, 540.52it/s, env_step=495430, len=14, n/ep=2, n/st=10, player_0/loss=0.063, player_1/loss=0.138, rew=0.00]\n"
     ]
    },
    {
     "name": "stdout",
     "output_type": "stream",
     "text": [
      "Epoch #481: test_reward: 0.000000 ± 0.000000, best_reward: 0.000000 ± 0.000000 in #0\n"
     ]
    },
    {
     "name": "stderr",
     "output_type": "stream",
     "text": [
      "Epoch #482: 1030it [00:01, 532.12it/s, env_step=496460, len=7, n/ep=2, n/st=10, player_0/loss=0.089, player_1/loss=0.104, rew=0.00]\n"
     ]
    },
    {
     "name": "stdout",
     "output_type": "stream",
     "text": [
      "Epoch #482: test_reward: 0.000000 ± 0.000000, best_reward: 0.000000 ± 0.000000 in #0\n"
     ]
    },
    {
     "name": "stderr",
     "output_type": "stream",
     "text": [
      "Epoch #483: 1030it [00:01, 533.14it/s, env_step=497490, len=9, n/ep=1, n/st=10, player_0/loss=0.074, player_1/loss=0.124, rew=0.00] \n"
     ]
    },
    {
     "name": "stdout",
     "output_type": "stream",
     "text": [
      "Epoch #483: test_reward: 0.000000 ± 0.000000, best_reward: 0.000000 ± 0.000000 in #0\n"
     ]
    },
    {
     "name": "stderr",
     "output_type": "stream",
     "text": [
      "Epoch #484: 1030it [00:01, 536.69it/s, env_step=498520, len=12, n/ep=2, n/st=10, player_0/loss=0.083, player_1/loss=0.109, rew=0.00]\n"
     ]
    },
    {
     "name": "stdout",
     "output_type": "stream",
     "text": [
      "Epoch #484: test_reward: 0.000000 ± 0.000000, best_reward: 0.000000 ± 0.000000 in #0\n"
     ]
    },
    {
     "name": "stderr",
     "output_type": "stream",
     "text": [
      "Epoch #485: 1030it [00:01, 527.82it/s, env_step=499550, len=9, n/ep=1, n/st=10, player_0/loss=0.083, player_1/loss=0.137, rew=0.00] \n"
     ]
    },
    {
     "name": "stdout",
     "output_type": "stream",
     "text": [
      "Epoch #485: test_reward: 0.000000 ± 0.000000, best_reward: 0.000000 ± 0.000000 in #0\n"
     ]
    },
    {
     "name": "stderr",
     "output_type": "stream",
     "text": [
      "Epoch #486: 1030it [00:01, 523.65it/s, env_step=500580, len=9, n/ep=2, n/st=10, player_0/loss=0.093, player_1/loss=0.131, rew=0.00]\n"
     ]
    },
    {
     "name": "stdout",
     "output_type": "stream",
     "text": [
      "Epoch #486: test_reward: 0.000000 ± 0.000000, best_reward: 0.000000 ± 0.000000 in #0\n"
     ]
    },
    {
     "name": "stderr",
     "output_type": "stream",
     "text": [
      "Epoch #487: 1030it [00:01, 524.38it/s, env_step=501610, len=13, n/ep=2, n/st=10, player_0/loss=0.084, player_1/loss=0.104, rew=0.00]\n"
     ]
    },
    {
     "name": "stdout",
     "output_type": "stream",
     "text": [
      "Epoch #487: test_reward: 0.000000 ± 0.000000, best_reward: 0.000000 ± 0.000000 in #0\n"
     ]
    },
    {
     "name": "stderr",
     "output_type": "stream",
     "text": [
      "Epoch #488: 1030it [00:01, 534.19it/s, env_step=502640, len=16, n/ep=0, n/st=10, player_0/loss=0.092, player_1/loss=0.085, rew=0.00]\n"
     ]
    },
    {
     "name": "stdout",
     "output_type": "stream",
     "text": [
      "Epoch #488: test_reward: 0.000000 ± 0.000000, best_reward: 0.000000 ± 0.000000 in #0\n"
     ]
    },
    {
     "name": "stderr",
     "output_type": "stream",
     "text": [
      "Epoch #489: 1030it [00:01, 534.31it/s, env_step=503670, len=7, n/ep=0, n/st=10, player_0/loss=0.077, player_1/loss=0.132, rew=0.00]\n"
     ]
    },
    {
     "name": "stdout",
     "output_type": "stream",
     "text": [
      "Epoch #489: test_reward: 0.000000 ± 0.000000, best_reward: 0.000000 ± 0.000000 in #0\n"
     ]
    },
    {
     "name": "stderr",
     "output_type": "stream",
     "text": [
      "Epoch #490: 1030it [00:01, 540.62it/s, env_step=504700, len=8, n/ep=2, n/st=10, player_0/loss=0.069, player_1/loss=0.147, rew=0.00]\n"
     ]
    },
    {
     "name": "stdout",
     "output_type": "stream",
     "text": [
      "Epoch #490: test_reward: 0.000000 ± 0.000000, best_reward: 0.000000 ± 0.000000 in #0\n"
     ]
    },
    {
     "name": "stderr",
     "output_type": "stream",
     "text": [
      "Epoch #491: 1030it [00:01, 536.95it/s, env_step=505730, len=8, n/ep=1, n/st=10, player_0/loss=0.062, player_1/loss=0.157, rew=0.00]\n"
     ]
    },
    {
     "name": "stdout",
     "output_type": "stream",
     "text": [
      "Epoch #491: test_reward: 0.000000 ± 0.000000, best_reward: 0.000000 ± 0.000000 in #0\n"
     ]
    },
    {
     "name": "stderr",
     "output_type": "stream",
     "text": [
      "Epoch #492: 1030it [00:01, 533.75it/s, env_step=506760, len=7, n/ep=3, n/st=10, player_0/loss=0.069, player_1/loss=0.199, rew=0.00]\n"
     ]
    },
    {
     "name": "stdout",
     "output_type": "stream",
     "text": [
      "Epoch #492: test_reward: 0.000000 ± 0.000000, best_reward: 0.000000 ± 0.000000 in #0\n"
     ]
    },
    {
     "name": "stderr",
     "output_type": "stream",
     "text": [
      "Epoch #493: 1030it [00:01, 539.71it/s, env_step=507790, len=7, n/ep=0, n/st=10, player_0/loss=0.060, player_1/loss=0.201, rew=0.00]\n"
     ]
    },
    {
     "name": "stdout",
     "output_type": "stream",
     "text": [
      "Epoch #493: test_reward: 0.000000 ± 0.000000, best_reward: 0.000000 ± 0.000000 in #0\n"
     ]
    },
    {
     "name": "stderr",
     "output_type": "stream",
     "text": [
      "Epoch #494: 1030it [00:01, 530.88it/s, env_step=508820, len=7, n/ep=1, n/st=10, player_0/loss=0.066, player_1/loss=0.149, rew=0.00]\n"
     ]
    },
    {
     "name": "stdout",
     "output_type": "stream",
     "text": [
      "Epoch #494: test_reward: 0.000000 ± 0.000000, best_reward: 0.000000 ± 0.000000 in #0\n"
     ]
    },
    {
     "name": "stderr",
     "output_type": "stream",
     "text": [
      "Epoch #495: 1030it [00:01, 532.88it/s, env_step=509850, len=7, n/ep=0, n/st=10, player_0/loss=0.075, player_1/loss=0.175, rew=0.00]\n"
     ]
    },
    {
     "name": "stdout",
     "output_type": "stream",
     "text": [
      "Epoch #495: test_reward: 0.000000 ± 0.000000, best_reward: 0.000000 ± 0.000000 in #0\n"
     ]
    },
    {
     "name": "stderr",
     "output_type": "stream",
     "text": [
      "Epoch #496: 1030it [00:01, 531.84it/s, env_step=510880, len=7, n/ep=0, n/st=10, player_0/loss=0.061, player_1/loss=0.167, rew=0.00]\n"
     ]
    },
    {
     "name": "stdout",
     "output_type": "stream",
     "text": [
      "Epoch #496: test_reward: 0.000000 ± 0.000000, best_reward: 0.000000 ± 0.000000 in #0\n"
     ]
    },
    {
     "name": "stderr",
     "output_type": "stream",
     "text": [
      "Epoch #497: 1030it [00:01, 536.49it/s, env_step=511910, len=13, n/ep=0, n/st=10, player_0/loss=0.064, player_1/loss=0.161, rew=0.00]\n"
     ]
    },
    {
     "name": "stdout",
     "output_type": "stream",
     "text": [
      "Epoch #497: test_reward: 0.000000 ± 0.000000, best_reward: 0.000000 ± 0.000000 in #0\n"
     ]
    },
    {
     "name": "stderr",
     "output_type": "stream",
     "text": [
      "Epoch #498: 1030it [00:01, 536.01it/s, env_step=512940, len=9, n/ep=0, n/st=10, player_0/loss=0.051, player_1/loss=0.140, rew=0.00]\n"
     ]
    },
    {
     "name": "stdout",
     "output_type": "stream",
     "text": [
      "Epoch #498: test_reward: 0.000000 ± 0.000000, best_reward: 0.000000 ± 0.000000 in #0\n"
     ]
    },
    {
     "name": "stderr",
     "output_type": "stream",
     "text": [
      "Epoch #499: 1030it [00:01, 533.40it/s, env_step=513970, len=7, n/ep=1, n/st=10, player_0/loss=0.040, player_1/loss=0.178, rew=0.00]\n"
     ]
    },
    {
     "name": "stdout",
     "output_type": "stream",
     "text": [
      "Epoch #499: test_reward: 0.000000 ± 0.000000, best_reward: 0.000000 ± 0.000000 in #0\n"
     ]
    }
   ],
   "source": [
    "####################################################\n",
    "# EXPERIMENT: TRAINING AGENTS\n",
    "####################################################\n",
    "\n",
    "# Get the environment settings\n",
    "env = get_env()\n",
    "observation_space = env.observation_space['observation'] if isinstance(env.observation_space, gym.spaces.Dict) else env.observation_space\n",
    "state_shape = observation_space.shape or observation_space.n\n",
    "action_shape = env.action_space.shape or env.action_space.n\n",
    "\n",
    "# Configure the agents\n",
    "agent1 = cf_dqn_policy(state_shape= state_shape,\n",
    "                       action_shape= action_shape,\n",
    "                       gamma= 0.95, # Favour shorter solutions if small\n",
    "                       n_step= 6, # Allow to look 6 steps ahead\n",
    "                       hidden_sizes= [50, 50, 50, 50, 50, 50, 50])\n",
    "\n",
    "\n",
    "agent2 = copy.deepcopy(agent1)\n",
    "\n",
    "# Train the agent\n",
    "off_policy_traininer_results, final_agent_player1, final_agent_player2 = train_agent(epochs= 500,\n",
    "                                                                                     training_eps= 0.2)"
   ]
  },
  {
   "cell_type": "code",
   "execution_count": 13,
   "id": "8c8f3121",
   "metadata": {},
   "outputs": [
    {
     "name": "stdout",
     "output_type": "stream",
     "text": [
      "Average steps of game:  7.333333333333333\n",
      "Final mean reward agent 1: 0.3333333333333333, std: 0.9428090415820634\n",
      "Final mean reward agent 2: -0.3333333333333333, std: 0.9428090415820634\n"
     ]
    }
   ],
   "source": [
    "####################################################\n",
    "# EXPERIMENT: VIEWING THE BEST LEARNED POLICY\n",
    "####################################################\n",
    "\n",
    "# Get the environment settings\n",
    "env = get_env()\n",
    "observation_space = env.observation_space['observation'] if isinstance(env.observation_space, gym.spaces.Dict) else env.observation_space\n",
    "state_shape = observation_space.shape or observation_space.n\n",
    "action_shape = env.action_space.shape or env.action_space.n\n",
    "\n",
    "# Configure the best agent\n",
    "best_agent1 = cf_dqn_policy(state_shape= state_shape,\n",
    "                            action_shape= action_shape)\n",
    "best_agent1.load_state_dict(torch.load(\"./saved_variables/experimental_notebooks/3/dqn_vs_dqn_pettingzoo/best_policy_agent1.pth\"))\n",
    "\n",
    "\n",
    "best_agent2 = cf_dqn_policy(state_shape= state_shape,\n",
    "                            action_shape= action_shape)\n",
    "best_agent2.load_state_dict(torch.load(\"./saved_variables/experimental_notebooks/3/dqn_vs_dqn_pettingzoo/best_policy_agent2.pth\"))\n",
    "\n",
    "# Watch the best agent at work\n",
    "watch(numer_of_games= 3,\n",
    "      render_speed= 0.3,\n",
    "      agent_player1= best_agent1,\n",
    "      agent_player2= best_agent2)\n",
    "\n"
   ]
  },
  {
   "cell_type": "code",
   "execution_count": 16,
   "id": "c704acd8",
   "metadata": {},
   "outputs": [
    {
     "name": "stdout",
     "output_type": "stream",
     "text": [
      "Average steps of game:  7.666666666666667\n",
      "Final mean reward agent 1: 1.0, std: 0.0\n",
      "Final mean reward agent 2: -1.0, std: 0.0\n"
     ]
    }
   ],
   "source": [
    "####################################################\n",
    "# EXPERIMENT: VIEWING THE LAST LEARNED POLICY\n",
    "####################################################\n",
    "\n",
    "# Configure the final agent\n",
    "final_agent_player1 = cf_dqn_policy(state_shape= state_shape,\n",
    "                            action_shape= action_shape)\n",
    "final_agent_player1.load_state_dict(torch.load(\"./saved_variables/experimental_notebooks/3/dqn_vs_dqn_pettingzoo/final_policy_agent1.pth\"))\n",
    "\n",
    "\n",
    "final_agent_player2 = cf_dqn_policy(state_shape= state_shape,\n",
    "                            action_shape= action_shape)\n",
    "final_agent_player2.load_state_dict(torch.load(\"./saved_variables/experimental_notebooks/3/dqn_vs_dqn_pettingzoo/final_policy_agent2.pth\"))\n",
    "\n",
    "# Watch the best agent at work\n",
    "watch(numer_of_games= 3,\n",
    "      render_speed= 0.1,\n",
    "      agent_player1= final_agent_player1,\n",
    "      agent_player2= final_agent_player2)\n",
    "\n"
   ]
  },
  {
   "cell_type": "markdown",
   "id": "84478519",
   "metadata": {},
   "source": [
    "<hr><hr>\n",
    "\n",
    "## Discussion\n",
    "\n",
    "The DQN behaviour is identical as in, the agents just learned the win criteria and stack coins. Thus, our implementation of the environment is not the issue here. We will look into other network architectures and approaches to make the agents work in the environment more favourably."
   ]
  },
  {
   "cell_type": "code",
   "execution_count": 17,
   "id": "3d9110be",
   "metadata": {},
   "outputs": [],
   "source": [
    "####################################################\n",
    "# CLEAN VARIABLES\n",
    "####################################################\n",
    "\n",
    "del action_shape\n",
    "del agent1\n",
    "del agent2\n",
    "del best_agent1\n",
    "del best_agent2\n",
    "del env\n",
    "del final_agent_player1\n",
    "del final_agent_player2\n",
    "del observation_space\n",
    "del off_policy_traininer_results\n",
    "del state_shape\n"
   ]
  },
  {
   "cell_type": "code",
   "execution_count": null,
   "id": "a74d3da3",
   "metadata": {},
   "outputs": [],
   "source": []
  }
 ],
 "metadata": {
  "interpreter": {
   "hash": "9b88c88564fefe7444548986d165ad8d7f764d0079ffa923785a3f5a89d52c74"
  },
  "kernelspec": {
   "display_name": "Python 3 (ipykernel)",
   "language": "python",
   "name": "python3"
  },
  "language_info": {
   "codemirror_mode": {
    "name": "ipython",
    "version": 3
   },
   "file_extension": ".py",
   "mimetype": "text/x-python",
   "name": "python",
   "nbconvert_exporter": "python",
   "pygments_lexer": "ipython3",
   "version": "3.8.10"
  }
 },
 "nbformat": 4,
 "nbformat_minor": 5
}
