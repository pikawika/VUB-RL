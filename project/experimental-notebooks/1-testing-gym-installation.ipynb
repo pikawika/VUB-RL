{
 "cells": [
  {
   "cell_type": "markdown",
   "id": "337221df",
   "metadata": {},
   "source": [
    "# Testing Gym installation\n",
    "\n",
    "This experimental notebook checks if the Anaconda environment is set up correctly by running some checks and some basic sample Gym code.\n"
   ]
  },
  {
   "cell_type": "markdown",
   "id": "b5341c6d",
   "metadata": {},
   "source": [
    "## Table of Contents\n",
    "\n",
    "- Contact information\n",
    "- Checking requirements\n",
    "  - Correct anaconda environment\n",
    "  - Correct module access\n",
    "- Testing sample Gym setup\n",
    "  - Mountain car with random agent\n",
    "    - Setting up the gym environment\n",
    "    - Interacting with the environment\n",
    "    - Visualising the environment\n",
    "    - Letting random agent play the game"
   ]
  },
  {
   "cell_type": "markdown",
   "id": "292165d3",
   "metadata": {},
   "source": [
    "<hr><hr>\n",
    "\n",
    "## Contact information\n",
    "\n",
    "| Name             | Student ID | VUB mail                                                  | Personal mail                                               |\n",
    "| ---------------- | ---------- | --------------------------------------------------------- | ----------------------------------------------------------- |\n",
    "| Lennert Bontinck | 0568702    | [lennert.bontinck@vub.be](mailto:lennert.bontinck@vub.be) | [info@lennertbontinck.com](mailto:info@lennertbontinck.com) |\n",
    "\n"
   ]
  },
  {
   "cell_type": "markdown",
   "id": "24d9e1b2",
   "metadata": {},
   "source": [
    "<hr><hr>\n",
    "\n",
    "## Checking requirements\n",
    "\n",
    "### Correct anaconda environment\n",
    "\n",
    "The `rl-project` anaconda environment should be active to ensure proper support. Installation instructions are available on [the GitHub repository of the RL course project and homeworks](https://github.com/pikawika/vub-rl)."
   ]
  },
  {
   "cell_type": "code",
   "execution_count": 1,
   "id": "334d5fd4",
   "metadata": {},
   "outputs": [
    {
     "name": "stdout",
     "output_type": "stream",
     "text": [
      "Active environment: rl-project\n",
      "Correct environment: True\n",
      "\n",
      "Python version: 3.8.10\n",
      "Correct Python version: True\n"
     ]
    }
   ],
   "source": [
    "####################################################\n",
    "# CHECKING FOR RIGHT ANACONDA ENVIRONMENT\n",
    "####################################################\n",
    "\n",
    "import os\n",
    "from platform import python_version\n",
    "\n",
    "print(f\"Active environment: {os.environ['CONDA_DEFAULT_ENV']}\")\n",
    "print(f\"Correct environment: {os.environ['CONDA_DEFAULT_ENV'] == 'rl-project'}\")\n",
    "print(f\"\\nPython version: {python_version()}\")\n",
    "print(f\"Correct Python version: {python_version() == '3.8.10'}\")"
   ]
  },
  {
   "cell_type": "markdown",
   "id": "22166668",
   "metadata": {},
   "source": [
    "<hr>\n",
    "\n",
    "### Correct module access\n",
    "\n",
    "The following codeblock will load in all required modules and show if the versions match those that are recommended."
   ]
  },
  {
   "cell_type": "code",
   "execution_count": 3,
   "id": "ab632204",
   "metadata": {},
   "outputs": [
    {
     "name": "stdout",
     "output_type": "stream",
     "text": [
      "Matplotlib version (3.5.1 recommended): 3.5.1\n",
      "Pygame version (2.1.2 recommended): 2.1.2\n",
      "Gym version (0.21.0 recommended): 0.21.0\n"
     ]
    }
   ],
   "source": [
    "####################################################\n",
    "# LOADING MODULES\n",
    "####################################################\n",
    "\n",
    "# Plotting\n",
    "import matplotlib; print(f\"Matplotlib version (3.5.1 recommended): {matplotlib.__version__}\")\n",
    "import matplotlib.pyplot as plt\n",
    "\n",
    "# Pygame\n",
    "import pygame; print(f\"Pygame version (2.1.2 recommended): {pygame.__version__}\")\n",
    "\n",
    "# Gym environment\n",
    "import gym; print(f\"Gym version (0.21.0 recommended): {gym.__version__}\")\n",
    "\n",
    "# Time for allowing \"freezes\" in execution\n",
    "import time;\n",
    "\n",
    "# Used for updating notebook display\n",
    "from IPython import display"
   ]
  },
  {
   "cell_type": "markdown",
   "id": "ed2d841a",
   "metadata": {},
   "source": [
    "<hr><hr>\n",
    "\n",
    "## Testing sample Gym setup\n",
    "\n",
    "### Mountain car with random agent\n",
    "\n",
    "We start by creating an instance of the mountain car environment and analysing some of its properties.\n",
    "This is based on the documentation from the [Gym tutorials](https://www.gymlibrary.ml/content/tutorials/), [this one](https://blog.paperspace.com/getting-started-with-openai-gym/) in particular as well as the [mountain car documentation](https://www.gymlibrary.ml/environments/classic_control/mountain_car/).\n",
    "\n",
    "#### Setting up the gym environment\n",
    "\n",
    "The `observation_space` defines the structure as well as the legitimate values for the observation of the state of the environment.\n",
    "The observation can be different things for different environments.\n",
    "The most common form is a screenshot of the game.\n",
    "There can be other forms of observations as well, such as certain characteristics of the environment described in vector form.\n",
    "- The observation for the mountain car environment is a vector of two numbers:\n",
    "  - Position of the car along the x-axis\n",
    "  - Velocity of the car\n",
    "\n",
    "- The middle point between the two mountains is taken to be the origin, with right being the positive direction and left being the negative direction.\n",
    "\n",
    "Similarly, the `Env` class also defines an attribute called the `action_space`, which describes the numerical structure of the legitimate actions that can be applied to the environment.\n",
    "- We have three discrete actions:\n",
    "  - 0: Accelerate to the left\n",
    "  - 1: Don't accelerate\n",
    "  - 2: Accelerate to the right"
   ]
  },
  {
   "cell_type": "code",
   "execution_count": 4,
   "id": "fb820ee5",
   "metadata": {},
   "outputs": [
    {
     "name": "stdout",
     "output_type": "stream",
     "text": [
      "Observation space: Box([-1.2  -0.07], [0.6  0.07], (2,), float32)\n",
      "Action space: Discrete(3)\n",
      "[-0.47967353  0.        ]\n"
     ]
    }
   ],
   "source": [
    "####################################################\n",
    "# SETTING UP THE GYM ENVIRONMENT\n",
    "####################################################\n",
    "\n",
    "# Create an instance of the environment to be used\n",
    "env = gym.make('MountainCar-v0')\n",
    "\n",
    "# Get information about the environment\n",
    "print(f\"Observation space: {env.observation_space}\")\n",
    "print(f\"Action space: {env.action_space}\")\n",
    "\n",
    "# Reset the environment to start from a clean state, returns the initial observation\n",
    "observation = env.reset()\n",
    "print(observation)\n",
    "\n",
    "# Clean unused variables\n",
    "del observation"
   ]
  },
  {
   "cell_type": "markdown",
   "id": "bc39bebf",
   "metadata": {},
   "source": [
    "#### Interacting with the environment\n",
    "\n",
    "Next, let's interact with the created environment."
   ]
  },
  {
   "cell_type": "code",
   "execution_count": 5,
   "id": "82416039",
   "metadata": {},
   "outputs": [
    {
     "name": "stdout",
     "output_type": "stream",
     "text": [
      "After taking action 2, the new observation is [-0.47900203  0.00067151]\n",
      "This resulted in a reward of -1.0 and a False done state\n",
      "Other information given is: {}\n"
     ]
    }
   ],
   "source": [
    "####################################################\n",
    "# INTERACTING WITH THE ENNVIRONMENT\n",
    "####################################################\n",
    "\n",
    "# Take the action of moving to the right\n",
    "move_right = 2\n",
    "\n",
    "# Take the action and get the new observation space\n",
    "new_observation, reward, done, info = env.step(move_right)\n",
    "print(f\"After taking action {move_right}, the new observation is {new_observation}\")\n",
    "print(f\"This resulted in a reward of {reward} and a {done} done state\")\n",
    "print(f\"Other information given is: {info}\")\n",
    "\n",
    "# Clean unused variables\n",
    "del new_observation\n",
    "del reward\n",
    "del done\n",
    "del info\n",
    "del move_right"
   ]
  },
  {
   "cell_type": "markdown",
   "id": "82c823d0",
   "metadata": {},
   "source": [
    "#### Visualising the environment\n",
    "\n",
    "Let's now try to visualize the environment"
   ]
  },
  {
   "cell_type": "code",
   "execution_count": 6,
   "id": "cac78a53",
   "metadata": {},
   "outputs": [
    {
     "data": {
      "image/png": "[encoded data removed]",
      "text/plain": [
       "<Figure size 432x288 with 1 Axes>"
      ]
     },
     "metadata": {
      "needs_background": "light"
     },
     "output_type": "display_data"
    }
   ],
   "source": [
    "####################################################\n",
    "# VISUALISING THE ENVIRONMENT\n",
    "####################################################\n",
    "\n",
    "# Visualise the environment by making a \"screenshot\"\n",
    "env_screenshot = env.render(mode = 'rgb_array')\n",
    "\n",
    "# Show the \"screenshot\"\n",
    "plt.imshow(env_screenshot);\n",
    "\n",
    "env.close()\n",
    "\n",
    "# Delete unused variables\n",
    "del env_screenshot"
   ]
  },
  {
   "cell_type": "markdown",
   "id": "162b423e",
   "metadata": {},
   "source": [
    "#### Letting random agent play the game\n",
    "\n",
    "Let the agent play 200 moves at random in the game and visualise it by updating the plot continiously"
   ]
  },
  {
   "cell_type": "code",
   "execution_count": 7,
   "id": "7ce3f07c",
   "metadata": {},
   "outputs": [],
   "source": [
    "####################################################\n",
    "# VISUALISING THE ENVIRONMENT\n",
    "####################################################\n",
    "\n",
    "# Recreate environment as it is closed which causes issues when opening it again\n",
    "env = gym.make('MountainCar-v0')\n",
    "\n",
    "# Reset environment\n",
    "obs = env.reset()\n",
    "\n",
    "# Show environment in new window\n",
    "env.render(mode= \"human\")\n",
    "\n",
    "for step in range(200):\n",
    "    # take random action\n",
    "    action = env.action_space.sample()\n",
    "    \n",
    "    # apply the action\n",
    "    obs, reward, done, info = env.step(action)\n",
    "    \n",
    "    # update environment in new window\n",
    "    env.render(mode= \"human\")\n",
    "\n",
    "    # Wait a bit before the next frame unless you want to see a crazy fast video\n",
    "    time.sleep(0.001)\n",
    "    \n",
    "    # If the epsiode is up, then start another one\n",
    "    if done:\n",
    "        env.reset()\n",
    "\n",
    "# Close the environment and thus the popup\n",
    "env.close()\n",
    "\n",
    "# Delete unused variables\n",
    "del action\n",
    "del done\n",
    "del info\n",
    "del obs\n",
    "del reward\n",
    "del step\n",
    "del env"
   ]
  },
  {
   "cell_type": "code",
   "execution_count": null,
   "id": "ec9474dd",
   "metadata": {},
   "outputs": [],
   "source": []
  }
 ],
 "metadata": {
  "interpreter": {
   "hash": "9b88c88564fefe7444548986d165ad8d7f764d0079ffa923785a3f5a89d52c74"
  },
  "kernelspec": {
   "display_name": "Python 3 (ipykernel)",
   "language": "python",
   "name": "python3"
  },
  "language_info": {
   "codemirror_mode": {
    "name": "ipython",
    "version": 3
   },
   "file_extension": ".py",
   "mimetype": "text/x-python",
   "name": "python",
   "nbconvert_exporter": "python",
   "pygments_lexer": "ipython3",
   "version": "3.8.10"
  }
 },
 "nbformat": 4,
 "nbformat_minor": 5
}
